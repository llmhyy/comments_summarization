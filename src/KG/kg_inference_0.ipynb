{
 "cells": [
  {
   "cell_type": "code",
   "execution_count": 1,
   "metadata": {},
   "outputs": [],
   "source": [
    "import networkx as nx\n",
    "import pickle\n",
    "import json\n",
    "\n",
    "G = nx.read_gpickle(\"../data/graph.pickle\")"
   ]
  },
  {
   "cell_type": "code",
   "execution_count": 2,
   "metadata": {},
   "outputs": [
    {
     "data": {
      "text/plain": [
       "networkx.classes.graph.Graph"
      ]
     },
     "execution_count": 2,
     "metadata": {},
     "output_type": "execute_result"
    }
   ],
   "source": [
    "type(G)"
   ]
  },
  {
   "cell_type": "code",
   "execution_count": 3,
   "metadata": {},
   "outputs": [
    {
     "data": {
      "text/plain": [
       "728"
      ]
     },
     "execution_count": 3,
     "metadata": {},
     "output_type": "execute_result"
    }
   ],
   "source": [
    "len(G.nodes)"
   ]
  },
  {
   "cell_type": "code",
   "execution_count": 4,
   "metadata": {},
   "outputs": [
    {
     "data": {
      "text/plain": [
       "591"
      ]
     },
     "execution_count": 4,
     "metadata": {},
     "output_type": "execute_result"
    }
   ],
   "source": [
    "len(G.edges)"
   ]
  },
  {
   "cell_type": "code",
   "execution_count": 71,
   "metadata": {},
   "outputs": [
    {
     "name": "stdout",
     "output_type": "stream",
     "text": [
      "dict_keys(['active', 'adventurous', 'amiable', 'benevolent', 'agreeable', 'calm', 'challenging', 'compassionate', 'clever', 'considerate', 'cheerful', 'confident', 'cooperative', 'courteous', 'cultured', 'creative', 'curious', 'decent', 'dynamic', 'earnest', 'ebullient', 'energetic', 'fair', 'faithful', 'flexible', 'forthright', 'generous', 'gallant', 'friendly', 'genuine', 'gracious', 'honest', 'imaginative', 'humorous', 'honorable', 'intelligent', 'intuitive', 'liberal', 'magnanimous', 'kind', 'logical', 'mature', 'neat', 'open', 'orderly', 'passionate', 'practical', 'precise', 'popular', 'rational', 'reliable', 'responsible', 'sane', 'serious', 'sociable', 'shrewd', 'skillful', 'strong', 'sporting', 'sympathetic', 'tidy', 'wise', 'venturesome', 'witty', 'warm', 'youthful', 'anxious', 'assertive', 'argumentative', 'blunt', 'callous', 'childish', 'careless', 'confused', 'crazy', 'cowardly', 'critical', 'crude', 'difficult', 'dirty', 'cynical', 'desperate', 'dishonest', 'disorderly', 'dull', 'erratic', 'envious', 'fearful', 'foolish', 'hateful', 'hostile', 'impractical', 'inconsiderate', 'insensitive', 'irrational', 'lazy', 'messy', 'moody', 'naive', 'odd', 'passive', 'predatory', 'resentful', 'selfish', 'shallow', 'silly', 'shy', 'slow', 'sloppy', 'stupid', 'superficial', 'thoughtless', 'treacherous', 'timid', 'unfriendly', 'vulnerable', 'weak', 'aggressive', 'ambitious', 'busy', 'competitive', 'effeminate', 'formal', 'mellow', 'quiet', 'sarcastic', 'soft', 'solemn'])\n",
      "num of traits: 128\n"
     ]
    }
   ],
   "source": [
    "with open(\"../data/common_traits_dict.json\", 'r') as f:\n",
    "    defs_dict = json.load(f)\n",
    "print(defs_dict.keys())\n",
    "print(f\"num of traits: {len(defs_dict)}\")"
   ]
  },
  {
   "cell_type": "code",
   "execution_count": 6,
   "metadata": {},
   "outputs": [
    {
     "data": {
      "text/plain": [
       "[',',\n",
       " 'characterized by unknown dangers and risks',\n",
       " 'disposed to seek',\n",
       " 'exciting or unusual',\n",
       " 'full of danger and excitement',\n",
       " 'not afraid to do new and dangerous or exciting things',\n",
       " 'or to cope with the new and unknown',\n",
       " 'ready to take risks or to deal with new or unexpected problems']"
      ]
     },
     "execution_count": 6,
     "metadata": {},
     "output_type": "execute_result"
    }
   ],
   "source": [
    "defs_dict['adventurous']"
   ]
  },
  {
   "cell_type": "code",
   "execution_count": 7,
   "metadata": {},
   "outputs": [],
   "source": [
    "def is_entailed(A, B):\n",
    "    \"\"\"\n",
    "    :param A: String.\n",
    "    :param B: String.\n",
    "    \"\"\"\n",
    "    pass\n",
    "\n",
    "def infer(trait_dict, trait_graph, s1, s2):\n",
    "    \"\"\"\n",
    "    :param trait_dict: Dict of trait definitions; the traits in this dict are a subset of the\n",
    "    traits in trait_graph.\n",
    "    :param trait_graph: Graph of antonym/synonym relations between traits.\n",
    "    :param s1: String. for comparison w s2.\n",
    "    :param s2: String. for comparison w s1.\n",
    "    \"\"\"\n",
    "    # Find likely trait1 and trait2.\n",
    "    trait1_scores = dict()\n",
    "    trait2_scores = dict()\n",
    "    for trait, defs in trait_dict:\n",
    "        trait1_scores[trait] = list()\n",
    "        trait2_scores[trait] = list()\n",
    "        for desc in defs:\n",
    "            score = compare(desc, s1)\n",
    "            trait1_scores[trait].append(score)\n",
    "            \n",
    "            score = compare(desc, s1)\n",
    "            trait2_scores[trait].append(score)\n",
    "            \n",
    "    # Obtain highest scoring trait1 and trait2 from trait scores dicts.\n",
    "    \n",
    "    # Given trait1 and trait2, find edges between them and infer if antonym or synonym.\n"
   ]
  },
  {
   "cell_type": "code",
   "execution_count": 61,
   "metadata": {},
   "outputs": [
    {
     "name": "stdout",
     "output_type": "stream",
     "text": [
      "hostile\n",
      "decent\n"
     ]
    }
   ],
   "source": [
    "import random\n",
    "\n",
    "t1 = random.choice(list(defs_dict.keys()))  # example trait\n",
    "print(t1)\n",
    "t2 = random.choice(list(defs_dict.keys()))  # example trait\n",
    "print(t2)\n",
    "paths = nx.all_shortest_paths(G, source=t1, target=t2, weight=None, method='dijkstra')"
   ]
  },
  {
   "cell_type": "code",
   "execution_count": 62,
   "metadata": {},
   "outputs": [
    {
     "data": {
      "text/plain": [
       "3"
      ]
     },
     "execution_count": 62,
     "metadata": {},
     "output_type": "execute_result"
    }
   ],
   "source": [
    "paths_list = [row for row in paths]\n",
    "len(paths_list)"
   ]
  },
  {
   "cell_type": "code",
   "execution_count": 63,
   "metadata": {},
   "outputs": [
    {
     "data": {
      "text/plain": [
       "9"
      ]
     },
     "execution_count": 63,
     "metadata": {},
     "output_type": "execute_result"
    }
   ],
   "source": [
    "len(paths_list[0])"
   ]
  },
  {
   "cell_type": "code",
   "execution_count": 65,
   "metadata": {
    "scrolled": true
   },
   "outputs": [
    {
     "name": "stdout",
     "output_type": "stream",
     "text": [
      "hostile-(-1)-friendly-(1)-favorable-(1)-lucky-(1)-fortunate-(1)-good-(1)-honorable-(1)-respectable-(1)-decent\n",
      "hostile-(-1)-friendly-(1)-favorable-(1)-auspicious-(1)-fortunate-(1)-good-(1)-honorable-(1)-respectable-(1)-decent\n",
      "hostile-(1)-aggressive-(1)-ambitious-(1)-difficult-(1)-nasty-(1)-unpleasant-(-1)-pleasant-(1)-nice-(1)-decent\n"
     ]
    }
   ],
   "source": [
    "weight_paths_list = list()\n",
    "for path in paths_list:\n",
    "    weight_path = list()\n",
    "    for i in range(len(path) - 1):\n",
    "        edge_attr = G.get_edge_data(path[i], path[i+1])\n",
    "        weight_path.append(edge_attr['weight'])\n",
    "    weight_paths_list.append(weight_path)\n",
    "\n",
    "# visualise the weighted_paths\n",
    "for i in range(len(paths_list)):\n",
    "    path = paths_list[i]\n",
    "    weights = weight_paths_list[i]\n",
    "    to_print = str()\n",
    "    for j in range(len(path)-1):\n",
    "        to_print = to_print + str(f\"{path[j]}-({weights[j]})-\")\n",
    "    to_print = to_print + f\"{path[-1]}\"\n",
    "    print(to_print)"
   ]
  },
  {
   "cell_type": "code",
   "execution_count": 66,
   "metadata": {},
   "outputs": [],
   "source": [
    "import numpy as np"
   ]
  },
  {
   "cell_type": "code",
   "execution_count": 67,
   "metadata": {},
   "outputs": [],
   "source": [
    "alt_final_vals = list()\n",
    "for weight_path in weight_paths_list:\n",
    "    # simple algorithm for computing relation between start and end node of path.\n",
    "    \n",
    "    start_val = weight_path[0]\n",
    "    for i in weight_path[1:]:\n",
    "        start_val = start_val * i\n",
    "    alt_final_vals.append(start_val)"
   ]
  },
  {
   "cell_type": "code",
   "execution_count": 70,
   "metadata": {},
   "outputs": [
    {
     "name": "stdout",
     "output_type": "stream",
     "text": [
      "infered relation from all discovered shortest paths:\n",
      "[-1, -1, -1]\n"
     ]
    }
   ],
   "source": [
    "print(\"infered relation from all discovered shortest paths:\")\n",
    "print(alt_final_vals)"
   ]
  },
  {
   "cell_type": "code",
   "execution_count": 69,
   "metadata": {},
   "outputs": [
    {
     "name": "stdout",
     "output_type": "stream",
     "text": [
      "(array([-1]), array([3], dtype=int64))\n"
     ]
    }
   ],
   "source": [
    "print(np.unique(alt_final_vals, return_counts=True))"
   ]
  },
  {
   "cell_type": "code",
   "execution_count": null,
   "metadata": {},
   "outputs": [],
   "source": []
  }
 ],
 "metadata": {
  "kernelspec": {
   "display_name": "fyp",
   "language": "python",
   "name": "fyp"
  },
  "language_info": {
   "codemirror_mode": {
    "name": "ipython",
    "version": 3
   },
   "file_extension": ".py",
   "mimetype": "text/x-python",
   "name": "python",
   "nbconvert_exporter": "python",
   "pygments_lexer": "ipython3",
   "version": "3.7.4"
  }
 },
 "nbformat": 4,
 "nbformat_minor": 4
}
