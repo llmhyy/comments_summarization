{
 "cells": [
  {
   "cell_type": "code",
   "execution_count": 1,
   "metadata": {},
   "outputs": [],
   "source": [
    "from nltk.parse import corenlp"
   ]
  },
  {
   "cell_type": "code",
   "execution_count": 2,
   "metadata": {},
   "outputs": [],
   "source": [
    "from nltk.tree import Tree"
   ]
  },
  {
   "cell_type": "code",
   "execution_count": 3,
   "metadata": {},
   "outputs": [
    {
     "name": "stdout",
     "output_type": "stream",
     "text": [
      "(1 2 (3 4) 5)\n"
     ]
    }
   ],
   "source": [
    "t = Tree(1, [2, Tree(3, [4]), 5])\n",
    "print(t)"
   ]
  },
  {
   "cell_type": "code",
   "execution_count": 4,
   "metadata": {},
   "outputs": [
    {
     "name": "stdout",
     "output_type": "stream",
     "text": [
      "(S (NP I) (VP (V saw) (NP him)))\n"
     ]
    }
   ],
   "source": [
    "s = Tree.fromstring(\"(S (NP I) (VP (V saw) (NP him)))\")\n",
    "print(s)"
   ]
  },
  {
   "cell_type": "code",
   "execution_count": 5,
   "metadata": {},
   "outputs": [
    {
     "name": "stdout",
     "output_type": "stream",
     "text": [
      "     S         \n",
      "  ___|___       \n",
      " |       VP    \n",
      " |    ___|___   \n",
      " NP  V       NP\n",
      " |   |       |  \n",
      " I  saw     him\n",
      "\n"
     ]
    }
   ],
   "source": [
    "s.pretty_print()"
   ]
  },
  {
   "cell_type": "code",
   "execution_count": 6,
   "metadata": {},
   "outputs": [],
   "source": [
    "output = \"(ROOT (S(NP (PRP You))(VP(VP (VBP grasp)(NP (NNS concepts))(ADVP (RB easily)))(CC and)(VP (MD may)(VP (VB become)(ADJP (JJ impatient))(PP (IN with)(NP(NP (DT those))(SBAR(WHNP (WP who))(S(VP (VBP do) (RB n't)(VP (VB learn)(ADVP (RB as) (RB quickly)))))))))))(. .)))\""
   ]
  },
  {
   "cell_type": "code",
   "execution_count": 7,
   "metadata": {},
   "outputs": [
    {
     "name": "stdout",
     "output_type": "stream",
     "text": [
      "(ROOT\n",
      "  (S\n",
      "    (NP (PRP You))\n",
      "    (VP\n",
      "      (VP (VBP grasp) (NP (NNS concepts)) (ADVP (RB easily)))\n",
      "      (CC and)\n",
      "      (VP\n",
      "        (MD may)\n",
      "        (VP\n",
      "          (VB become)\n",
      "          (ADJP (JJ impatient))\n",
      "          (PP\n",
      "            (IN with)\n",
      "            (NP\n",
      "              (NP (DT those))\n",
      "              (SBAR\n",
      "                (WHNP (WP who))\n",
      "                (S\n",
      "                  (VP\n",
      "                    (VBP do)\n",
      "                    (RB n't)\n",
      "                    (VP (VB learn) (ADVP (RB as) (RB quickly)))))))))))\n",
      "    (. .)))\n"
     ]
    }
   ],
   "source": [
    "parsetree = Tree.fromstring(output)\n",
    "print(parsetree)"
   ]
  },
  {
   "cell_type": "code",
   "execution_count": 8,
   "metadata": {},
   "outputs": [
    {
     "name": "stdout",
     "output_type": "stream",
     "text": [
      "                                                   ROOT                                               \n",
      "                                                    |                                                  \n",
      "                                                    S                                                 \n",
      "  __________________________________________________|_______________________________________________   \n",
      " |                         VP                                                                       | \n",
      " |            _____________|________                                                                |  \n",
      " |           |             |        VP                                                              | \n",
      " |           |             |    ____|________                                                       |  \n",
      " |           |             |   |             VP                                                     | \n",
      " |           |             |   |     ________|____________                                          |  \n",
      " |           |             |   |    |        |            PP                                        | \n",
      " |           |             |   |    |        |       _____|____                                     |  \n",
      " |           |             |   |    |        |      |          NP                                   | \n",
      " |           |             |   |    |        |      |      ____|________                            |  \n",
      " |           |             |   |    |        |      |     |            SBAR                         | \n",
      " |           |             |   |    |        |      |     |     ________|_____                      |  \n",
      " |           |             |   |    |        |      |     |    |              S                     | \n",
      " |           |             |   |    |        |      |     |    |              |                     |  \n",
      " |           |             |   |    |        |      |     |    |              VP                    | \n",
      " |           |             |   |    |        |      |     |    |     _________|____                 |  \n",
      " |           VP            |   |    |        |      |     |    |    |   |          VP               | \n",
      " |     ______|_______      |   |    |        |      |     |    |    |   |      ____|___             |  \n",
      " NP   |      NP     ADVP   |   |    |       ADJP    |     NP  WHNP  |   |     |       ADVP          | \n",
      " |    |      |       |     |   |    |        |      |     |    |    |   |     |     ___|______      |  \n",
      "PRP  VBP    NNS      RB    CC  MD   VB       JJ     IN    DT   WP  VBP  RB    VB   RB         RB    . \n",
      " |    |      |       |     |   |    |        |      |     |    |    |   |     |    |          |     |  \n",
      "You grasp concepts easily and may become impatient with those who   do n't  learn  as      quickly  . \n",
      "\n"
     ]
    }
   ],
   "source": [
    "parsetree.pretty_print()"
   ]
  },
  {
   "cell_type": "code",
   "execution_count": 9,
   "metadata": {},
   "outputs": [
    {
     "name": "stdout",
     "output_type": "stream",
     "text": [
      "       PP                                      \n",
      "  _____|____                                    \n",
      " |          NP                                 \n",
      " |      ____|________                           \n",
      " |     |            SBAR                       \n",
      " |     |     ________|_____                     \n",
      " |     |    |              S                   \n",
      " |     |    |              |                    \n",
      " |     |    |              VP                  \n",
      " |     |    |     _________|____                \n",
      " |     |    |    |   |          VP             \n",
      " |     |    |    |   |      ____|___            \n",
      " |     NP  WHNP  |   |     |       ADVP        \n",
      " |     |    |    |   |     |     ___|______     \n",
      " IN    DT   WP  VBP  RB    VB   RB         RB  \n",
      " |     |    |    |   |     |    |          |    \n",
      "with those who   do n't  learn  as      quickly\n",
      "\n"
     ]
    }
   ],
   "source": [
    "# access children (which are also trees)\n",
    "parsetree[0][1][2][1][2].pretty_print()"
   ]
  },
  {
   "cell_type": "code",
   "execution_count": 10,
   "metadata": {},
   "outputs": [
    {
     "data": {
      "text/plain": [
       "'PP'"
      ]
     },
     "execution_count": 10,
     "metadata": {},
     "output_type": "execute_result"
    }
   ],
   "source": [
    "parsetree[0][1][2][1][2].label()"
   ]
  },
  {
   "cell_type": "code",
   "execution_count": 11,
   "metadata": {},
   "outputs": [
    {
     "data": {
      "text/plain": [
       "[ROOT -> S,\n",
       " S -> NP VP .,\n",
       " NP -> PRP,\n",
       " PRP -> 'You',\n",
       " VP -> VP CC VP,\n",
       " VP -> VBP NP ADVP,\n",
       " VBP -> 'grasp',\n",
       " NP -> NNS,\n",
       " NNS -> 'concepts',\n",
       " ADVP -> RB,\n",
       " RB -> 'easily',\n",
       " CC -> 'and',\n",
       " VP -> MD VP,\n",
       " MD -> 'may',\n",
       " VP -> VB ADJP PP,\n",
       " VB -> 'become',\n",
       " ADJP -> JJ,\n",
       " JJ -> 'impatient',\n",
       " PP -> IN NP,\n",
       " IN -> 'with',\n",
       " NP -> NP SBAR,\n",
       " NP -> DT,\n",
       " DT -> 'those',\n",
       " SBAR -> WHNP S,\n",
       " WHNP -> WP,\n",
       " WP -> 'who',\n",
       " S -> VP,\n",
       " VP -> VBP RB VP,\n",
       " VBP -> 'do',\n",
       " RB -> \"n't\",\n",
       " VP -> VB ADVP,\n",
       " VB -> 'learn',\n",
       " ADVP -> RB RB,\n",
       " RB -> 'as',\n",
       " RB -> 'quickly',\n",
       " . -> '.']"
      ]
     },
     "execution_count": 11,
     "metadata": {},
     "output_type": "execute_result"
    }
   ],
   "source": [
    "parsetree.productions()"
   ]
  },
  {
   "cell_type": "code",
   "execution_count": 12,
   "metadata": {},
   "outputs": [],
   "source": [
    "def get_child_labels(t):\n",
    "    \"\"\"\n",
    "    :param t: an nltk.tree.Tree\n",
    "    :returns: list of labels of the children.\n",
    "    \"\"\"\n",
    "    labels = []\n",
    "    for child in t:\n",
    "        labels.append(child.label())\n",
    "        \n",
    "    return labels"
   ]
  },
  {
   "cell_type": "code",
   "execution_count": 13,
   "metadata": {},
   "outputs": [],
   "source": [
    "def simple_find_parallel_sentence(t):\n",
    "    \"\"\"\n",
    "    From a sentence, finds two sub-sentences describing the same subject in parallel.\n",
    "\n",
    "        e.g. \"You grasp concepts easily and may become impatient with those who don't learn as quickly.\"\n",
    "        can be broken down into \"You grasp concepts easily\" and \"You may become impatient with those who don't learn as quickly.\"\n",
    "\n",
    "    :param t: an nltk.tree.Tree\n",
    "    :returns: 2-ple of nltk.tree.Tree\n",
    "    \"\"\"\n",
    "    subsentences = []\n",
    "    labels = get_child_labels(t)\n",
    "    \n",
    "    if 'NP' in labels:\n",
    "        np_label = labels.index('NP')\n",
    "        print('NP found.')\n",
    "        if 'VP' in labels:\n",
    "            index = labels.index('VP')\n",
    "            labels2 = get_child_labels(t[index])\n",
    "            if labels2.count('VP') >= 2:\n",
    "                print('found parallel VP subssentences.')\n",
    "                for child in t[index]:\n",
    "                    if child.label() == 'VP':\n",
    "                        subsentences.append(child.leaves())\n",
    "        elif 'ADJP' in labels:\n",
    "            index = labels.index('ADJP')\n",
    "            labels2 = get_child_labels(t[index])\n",
    "            if labels2.count('ADJP') >= 2:\n",
    "                print('found parallel ADJP sub-sentences.')\n",
    "                for child in t[index]:\n",
    "                    if child.label() == 'ADJP':\n",
    "                        subsentences.append(child.leaves())\n",
    "        print('new sentences are :')\n",
    "        for sent in subsentences:\n",
    "            print(t[np_label].leaves(), sent)\n",
    "            \n",
    "        # todo: return n new trees representing the n new sentences or return n new string sentences.\n",
    "        \n",
    "    else:\n",
    "        print('Sentence may be invalid.')\n",
    "    "
   ]
  },
  {
   "cell_type": "code",
   "execution_count": 14,
   "metadata": {},
   "outputs": [
    {
     "name": "stdout",
     "output_type": "stream",
     "text": [
      "NP found.\n",
      "found parallel VP subssentences.\n",
      "new sentences are :\n",
      "['You'] ['grasp', 'concepts', 'easily']\n",
      "['You'] ['may', 'become', 'impatient', 'with', 'those', 'who', 'do', \"n't\", 'learn', 'as', 'quickly']\n"
     ]
    }
   ],
   "source": [
    "simple_find_parallel_sentence(parsetree[0])"
   ]
  },
  {
   "cell_type": "code",
   "execution_count": 15,
   "metadata": {},
   "outputs": [],
   "source": [
    "# Remember to start Stanford CoreNLP java server separately.\n",
    "parser = corenlp.CoreNLPParser(url='http://localhost:9000')"
   ]
  },
  {
   "cell_type": "code",
   "execution_count": 16,
   "metadata": {},
   "outputs": [],
   "source": [
    "parsed = parser.raw_parse('The quick brown fox jumps over the lazy dog.')"
   ]
  },
  {
   "cell_type": "code",
   "execution_count": 17,
   "metadata": {},
   "outputs": [
    {
     "data": {
      "text/plain": [
       "list_iterator"
      ]
     },
     "execution_count": 17,
     "metadata": {},
     "output_type": "execute_result"
    }
   ],
   "source": [
    "type(parsed)"
   ]
  },
  {
   "cell_type": "code",
   "execution_count": 18,
   "metadata": {},
   "outputs": [],
   "source": [
    "collected = []\n",
    "for i in parsed:\n",
    "    collected.append(i)"
   ]
  },
  {
   "cell_type": "code",
   "execution_count": 19,
   "metadata": {},
   "outputs": [
    {
     "name": "stdout",
     "output_type": "stream",
     "text": [
      "[Tree('ROOT', [Tree('S', [Tree('NP', [Tree('DT', ['The']), Tree('JJ', ['quick']), Tree('JJ', ['brown']), Tree('NN', ['fox'])]), Tree('VP', [Tree('VBZ', ['jumps']), Tree('PP', [Tree('IN', ['over']), Tree('NP', [Tree('DT', ['the']), Tree('JJ', ['lazy']), Tree('NN', ['dog'])])])]), Tree('.', ['.'])])])]\n"
     ]
    }
   ],
   "source": [
    "print(collected)"
   ]
  },
  {
   "cell_type": "code",
   "execution_count": 20,
   "metadata": {},
   "outputs": [
    {
     "name": "stdout",
     "output_type": "stream",
     "text": [
      "                     ROOT                          \n",
      "                      |                             \n",
      "                      S                            \n",
      "       _______________|__________________________   \n",
      "      |                         VP               | \n",
      "      |                _________|___             |  \n",
      "      |               |             PP           | \n",
      "      |               |     ________|___         |  \n",
      "      NP              |    |            NP       | \n",
      "  ____|__________     |    |     _______|____    |  \n",
      " DT   JJ    JJ   NN  VBZ   IN   DT      JJ   NN  . \n",
      " |    |     |    |    |    |    |       |    |   |  \n",
      "The quick brown fox jumps over the     lazy dog  . \n",
      "\n"
     ]
    }
   ],
   "source": [
    "collected[0].pretty_print()"
   ]
  },
  {
   "cell_type": "code",
   "execution_count": 21,
   "metadata": {},
   "outputs": [
    {
     "name": "stdout",
     "output_type": "stream",
     "text": [
      "            ROOT                            \n",
      "             |                               \n",
      "             S                              \n",
      "  ___________|____________________________   \n",
      " |                   VP                   | \n",
      " |    _______________|___                 |  \n",
      " |   |                  ADJP              | \n",
      " |   |        ___________|________        |  \n",
      " NP  |      ADJP         |       ADJP     | \n",
      " |   |       |           |        |       |  \n",
      "PRP VBP     VBG          CC       JJ      . \n",
      " |   |       |           |        |       |  \n",
      "You are hardworking     and  intelligent  . \n",
      "\n"
     ]
    }
   ],
   "source": [
    "parsed2 = parser.raw_parse('You are hardworking and intelligent.')\n",
    "collected = []\n",
    "for i in parsed2:\n",
    "    collected.append(i)\n",
    "parsetree2 = collected[0]\n",
    "parsetree2.pretty_print()"
   ]
  },
  {
   "cell_type": "code",
   "execution_count": 22,
   "metadata": {},
   "outputs": [
    {
     "name": "stdout",
     "output_type": "stream",
     "text": [
      "NP found.\n",
      "new sentences are :\n"
     ]
    }
   ],
   "source": [
    "simple_find_parallel_sentence(parsetree2[0])"
   ]
  },
  {
   "cell_type": "markdown",
   "metadata": {},
   "source": [
    "so 'You are hardworking and intelligent.' is a different syntactic structure from 'you grasp concepts easily and may become impatient with those who don't learn as quickly.'. This means i need to rewite my simple_find_parallel_sentence() function."
   ]
  },
  {
   "cell_type": "code",
   "execution_count": 23,
   "metadata": {},
   "outputs": [],
   "source": [
    "def simple_find_parallel_sentence2(t):\n",
    "    \"\"\"\n",
    "    From a sentence, finds two sub-sentences describing the same subject in parallel.\n",
    "\n",
    "        e.g. \"You grasp concepts easily and may become impatient with those who don't learn as quickly.\"\n",
    "        can be broken down into \"You grasp concepts easily\" and \"You may become impatient with those who don't learn as quickly.\"\n",
    "\n",
    "    :param t: an nltk.tree.Tree\n",
    "    :returns: 2-ple of nltk.tree.Tree\n",
    "    \"\"\"\n",
    "    subsentences = []\n",
    "    labels = get_child_labels(t)\n",
    "    \n",
    "    if 'NP' in labels:\n",
    "        np_label = labels.index('NP')\n",
    "        print('NP found.')\n",
    "        if 'VP' in labels:\n",
    "            print('NP and VP found on same level.')\n",
    "            vp_index = labels.index('VP')\n",
    "            labels2 = get_child_labels(t[vp_index])\n",
    "            if labels2.count('VP') >= 2:\n",
    "                '''\n",
    "                e.g.\n",
    "                \n",
    "                '''\n",
    "                print('found parallel VP.')\n",
    "                for child in t[vp_index]:\n",
    "                    if child.label() == 'VP':\n",
    "                        subsentences.append(child.leaves())\n",
    "            elif labels2.count('ADJP') == 1: \n",
    "                print('found ADJP under VP.')\n",
    "                adjp_index = labels2.index('ADJP')\n",
    "                labels3 = get_child_labels(t[vp_index][adjp_index])\n",
    "                if labels3.count('ADJP') >= 2:\n",
    "                    '''\n",
    "                    e.g.\n",
    "                                ROOT                            \n",
    "                                 |                               \n",
    "                                 S                              \n",
    "                      ___________|____________________________   \n",
    "                     |                   VP                   | \n",
    "                     |    _______________|___                 |  \n",
    "                     |   |                  ADJP              | \n",
    "                     |   |        ___________|________        |  \n",
    "                     NP  |      ADJP         |       ADJP     | \n",
    "                     |   |       |           |        |       |  \n",
    "                    PRP VBP     VBG          CC       JJ      . \n",
    "                     |   |       |           |        |       |  \n",
    "                    You are hardworking     and  intelligent  . \n",
    "                    '''\n",
    "                    print('found parallel ADJP')\n",
    "                    for child in t[vp_index][adjp_index]:\n",
    "                        if child.label() == 'ADJP':\n",
    "                            subsentences.append(child.leaves())\n",
    "\n",
    "        elif 'ADJP' in labels:\n",
    "            index = labels.index('ADJP')\n",
    "            labels2 = get_child_labels(t[index])\n",
    "            if labels2.count('ADJP') >= 2:\n",
    "                print('found parallel ADJP.')\n",
    "                for child in t[index]:\n",
    "                    if child.label() == 'ADJP':\n",
    "                        subsentences.append(child.leaves())\n",
    "        print('new sentences are :')\n",
    "        for sent in subsentences:\n",
    "            print(t[np_label].leaves(), sent)\n",
    "            \n",
    "        # todo: return n new trees representing the n new sentences or return n new string sentences.\n",
    "        # todo: Rewrite code to fit more general cases. Right now, the logic is very 'hard-coded' and 'brute-force'.\n",
    "        \n",
    "    else:\n",
    "        print('Sentence may be invalid.')\n",
    "    "
   ]
  },
  {
   "cell_type": "code",
   "execution_count": 24,
   "metadata": {},
   "outputs": [
    {
     "name": "stdout",
     "output_type": "stream",
     "text": [
      "NP found.\n",
      "NP and VP found on same level.\n",
      "found ADJP under VP.\n",
      "found parallel ADJP\n",
      "new sentences are :\n",
      "['You'] ['hardworking']\n",
      "['You'] ['intelligent']\n"
     ]
    }
   ],
   "source": [
    "simple_find_parallel_sentence2(parsetree2[0])"
   ]
  },
  {
   "cell_type": "markdown",
   "metadata": {},
   "source": [
    "try another potentially erroneous parse tree..."
   ]
  },
  {
   "cell_type": "code",
   "execution_count": 25,
   "metadata": {},
   "outputs": [
    {
     "name": "stdout",
     "output_type": "stream",
     "text": [
      "                     ROOT                       \n",
      "                      |                          \n",
      "                      S                         \n",
      "  ____________________|_______________________   \n",
      " |       VP                                   | \n",
      " |    ___|____________                        |  \n",
      " |   |               ADJP                     | \n",
      " |   |        ________|_______________        |  \n",
      " NP  |      ADJP              |      ADJP     | \n",
      " |   |    ___|________        |       |       |  \n",
      "PRP VBP  RB          VBG      CC      JJ      . \n",
      " |   |   |            |       |       |       |  \n",
      "You are not      hardworking and intelligent  . \n",
      "\n"
     ]
    }
   ],
   "source": [
    "parsed3 = parser.raw_parse('You are not hardworking and intelligent.')\n",
    "collected = []\n",
    "for i in parsed3:\n",
    "    collected.append(i)\n",
    "parsetree3 = collected[0]\n",
    "parsetree3.pretty_print()"
   ]
  },
  {
   "cell_type": "code",
   "execution_count": 26,
   "metadata": {},
   "outputs": [
    {
     "name": "stdout",
     "output_type": "stream",
     "text": [
      "NP found.\n",
      "NP and VP found on same level.\n",
      "found ADJP under VP.\n",
      "found parallel ADJP\n",
      "new sentences are :\n",
      "['You'] ['not', 'hardworking']\n",
      "['You'] ['intelligent']\n"
     ]
    }
   ],
   "source": [
    "simple_find_parallel_sentence2(parsetree3[0])"
   ]
  },
  {
   "cell_type": "markdown",
   "metadata": {},
   "source": [
    "The above sentence illustrates simple sentence ambiguity. The intended meaning of the sentence is 'you are not hardworking' and 'you are not inteligent'. This is a limitation of the parser. My sentence splitting code depends on the correctness of the parser. For now though, simple non-ambiguous cases should work with my sentence splitter. "
   ]
  },
  {
   "cell_type": "code",
   "execution_count": 27,
   "metadata": {},
   "outputs": [],
   "source": [
    "def get_parsetree(parser, sent):\n",
    "    \"\"\"\n",
    "    Return parse tree from sentence.\n",
    "\n",
    "    :param parser: an nltk.parse.corenlp.CoreNLPParser\n",
    "    :returns: nltk.tree.Tree\n",
    "    \"\"\"\n",
    "    parsed = parser.raw_parse(sent)\n",
    "    collected = []\n",
    "    for i in parsed:\n",
    "        collected.append(i)\n",
    "    parsetree = collected[0]\n",
    "    return parsetree"
   ]
  },
  {
   "cell_type": "code",
   "execution_count": 28,
   "metadata": {},
   "outputs": [
    {
     "name": "stdout",
     "output_type": "stream",
     "text": [
      "           ROOT                      \n",
      "            |                         \n",
      "            S                        \n",
      "   _________|______________________   \n",
      "  |              VP                | \n",
      "  |     _________|___              |  \n",
      "  NP   |            ADJP           | \n",
      "  |    |     ________|______       |  \n",
      " NNP  VBZ   JJ       CC     JJ     . \n",
      "  |    |    |        |      |      |  \n",
      "Bobby  is happy     and  carefree  . \n",
      "\n"
     ]
    }
   ],
   "source": [
    "parsetree4 = get_parsetree(parser, 'Bobby is happy and carefree.')\n",
    "parsetree4.pretty_print()"
   ]
  },
  {
   "cell_type": "code",
   "execution_count": 29,
   "metadata": {},
   "outputs": [
    {
     "name": "stdout",
     "output_type": "stream",
     "text": [
      "NP found.\n",
      "NP and VP found on same level.\n",
      "found ADJP under VP.\n",
      "new sentences are :\n"
     ]
    }
   ],
   "source": [
    "simple_find_parallel_sentence2(parsetree4[0])"
   ]
  },
  {
   "cell_type": "markdown",
   "metadata": {},
   "source": [
    "JJ pairs are not accounted for. Need to modify simple_find_parallel_sentence2()."
   ]
  },
  {
   "cell_type": "code",
   "execution_count": 30,
   "metadata": {},
   "outputs": [],
   "source": [
    "def simple_find_parallel_sentence3(t):\n",
    "    \"\"\"\n",
    "    From a sentence, finds two sub-sentences describing the same subject in parallel.\n",
    "\n",
    "        e.g. \"You grasp concepts easily and may become impatient with those who don't learn as quickly.\"\n",
    "        can be broken down into \"You grasp concepts easily\" and \"You may become impatient with those who don't learn as quickly.\"\n",
    "\n",
    "    :param t: an nltk.tree.Tree\n",
    "    :returns: 2-ple of nltk.tree.Tree\n",
    "    \"\"\"\n",
    "    subsentences = []\n",
    "    labels = get_child_labels(t)\n",
    "    \n",
    "    if 'NP' in labels:\n",
    "        np_label = labels.index('NP')\n",
    "        print('NP found.')\n",
    "        if 'VP' in labels:\n",
    "            print('NP and VP found on same level.')\n",
    "            vp_index = labels.index('VP')\n",
    "            labels2 = get_child_labels(t[vp_index])\n",
    "            if labels2.count('VP') >= 2:\n",
    "                '''\n",
    "                e.g.\n",
    "                \n",
    "                '''\n",
    "                print('found parallel VP.')\n",
    "                for child in t[vp_index]:\n",
    "                    if child.label() == 'VP':\n",
    "                        subsentences.append(child.leaves())\n",
    "            elif labels2.count('ADJP') == 1: \n",
    "                print('found ADJP under VP.')\n",
    "                adjp_index = labels2.index('ADJP')\n",
    "                labels3 = get_child_labels(t[vp_index][adjp_index])\n",
    "                if labels3.count('ADJP') + labels3.count('JJ') >= 2:\n",
    "                    '''\n",
    "                    e.g.\n",
    "                                ROOT                            \n",
    "                                 |                               \n",
    "                                 S                              \n",
    "                      ___________|____________________________   \n",
    "                     |                   VP                   | \n",
    "                     |    _______________|___                 |  \n",
    "                     |   |                  ADJP              | \n",
    "                     |   |        ___________|________        |  \n",
    "                     NP  |      ADJP         |       ADJP     | \n",
    "                     |   |       |           |        |       |  \n",
    "                    PRP VBP     VBG          CC       JJ      . \n",
    "                     |   |       |           |        |       |  \n",
    "                    You are hardworking     and  intelligent  . \n",
    "                    '''\n",
    "                    print('found parallel ADJP')\n",
    "                    for child in t[vp_index][adjp_index]:\n",
    "                        if child.label() == 'ADJP' or child.label() == 'JJ':\n",
    "                            subsentences.append(child.leaves())\n",
    "                            \n",
    "\n",
    "        elif 'ADJP' in labels:\n",
    "            index = labels.index('ADJP')\n",
    "            labels2 = get_child_labels(t[index])\n",
    "            if labels2.count('ADJP') >= 2:\n",
    "                print('found parallel ADJP.')\n",
    "                for child in t[index]:\n",
    "                    if child.label() == 'ADJP':\n",
    "                        subsentences.append(child.leaves())\n",
    "        print('new sentences are :')\n",
    "        for sent in subsentences:\n",
    "            print(t[np_label].leaves(), sent)\n",
    "            \n",
    "        # todo: return n new trees representing the n new sentences or return n new string sentences.\n",
    "        # todo: Rewrite code to fit more general cases. Right now, the logic is very 'hard-coded' and 'brute-force'.\n",
    "        \n",
    "    else:\n",
    "        print('Sentence may be invalid.')\n",
    "    "
   ]
  },
  {
   "cell_type": "code",
   "execution_count": 31,
   "metadata": {},
   "outputs": [
    {
     "name": "stdout",
     "output_type": "stream",
     "text": [
      "NP found.\n",
      "NP and VP found on same level.\n",
      "found ADJP under VP.\n",
      "found parallel ADJP\n",
      "new sentences are :\n",
      "['Bobby'] ['happy']\n",
      "['Bobby'] ['carefree']\n"
     ]
    }
   ],
   "source": [
    "simple_find_parallel_sentence3(parsetree4[0])"
   ]
  },
  {
   "cell_type": "markdown",
   "metadata": {},
   "source": [
    "parsetree4 works now."
   ]
  },
  {
   "cell_type": "code",
   "execution_count": 32,
   "metadata": {},
   "outputs": [
    {
     "name": "stdout",
     "output_type": "stream",
     "text": [
      "                     ROOT                 \n",
      "                      |                    \n",
      "                      S                   \n",
      "   ___________________|_________________   \n",
      "  |           VP                        | \n",
      "  |     ______|_______                  |  \n",
      "  NP   |             ADJP               | \n",
      "  |    |       _______|__________       |  \n",
      " NNP  VBZ     RB      JJ   CC    JJ     . \n",
      "  |    |      |       |    |     |      |  \n",
      "Bobby  is unusually happy and carefree  . \n",
      "\n",
      "NP found.\n",
      "NP and VP found on same level.\n",
      "found ADJP under VP.\n",
      "found parallel ADJP\n",
      "new sentences are :\n",
      "['Bobby'] ['happy']\n",
      "['Bobby'] ['carefree']\n"
     ]
    }
   ],
   "source": [
    "parsetree5 = get_parsetree(parser, 'Bobby is unusually happy and carefree.')\n",
    "parsetree5.pretty_print()\n",
    "simple_find_parallel_sentence3(parsetree5[0])"
   ]
  },
  {
   "cell_type": "code",
   "execution_count": 33,
   "metadata": {},
   "outputs": [
    {
     "name": "stdout",
     "output_type": "stream",
     "text": [
      "                                      ROOT                                                  \n",
      "                                       |                                                     \n",
      "                                       S                                                    \n",
      "        _______________________________|__________________________________________________   \n",
      "       |                |                                S                                | \n",
      "       |                |         _______________________|______________________          |  \n",
      "       |                |      NP-TMP                                   |       |         | \n",
      "       |                |    ____|_____                                 |       |         |  \n",
      "       S                |   |          PP                               |       |         | \n",
      "   ____|___             |   |     _____|____                            |       |         |  \n",
      "  |        VP           |   |    |          NP                          |       VP        | \n",
      "  |     ___|_____       |   |    |      ____|_____________________      |    ___|____     |  \n",
      "  NP   |        ADJP    |   NP   |     |        ADJP              |     NP  |        VP   | \n",
      "  |    |         |      |   |    |     |     ____|_______         |     |   |        |    |  \n",
      " NNP  VBZ        JJ     CC  CD   IN    DT  RBS           JJ      NNS   PRP VBP      VBN   . \n",
      "  |    |         |      |   |    |     |    |            |        |     |   |        |    |  \n",
      "Bobby  is     carefree and one   of   the  most      enigmatic persons  I  've     known  . \n",
      "\n",
      "Sentence may be invalid.\n"
     ]
    }
   ],
   "source": [
    "parsetree6 = get_parsetree(parser, \"Bobby is carefree and one of the most enigmatic persons I've known.\")\n",
    "parsetree6.pretty_print()\n",
    "simple_find_parallel_sentence3(parsetree6[0])"
   ]
  },
  {
   "cell_type": "markdown",
   "metadata": {},
   "source": [
    "The parser already detects 2 sentence - let's modify simple_find_parallel_sentences3() to cover this case."
   ]
  },
  {
   "cell_type": "code",
   "execution_count": 34,
   "metadata": {},
   "outputs": [],
   "source": [
    "def simple_find_parallel_sentence4(t):\n",
    "    \"\"\"\n",
    "    From a sentence, finds two parallel sub-sentences describing the same subject.\n",
    "\n",
    "        e.g. \"You grasp concepts easily and may become impatient with those who don't learn as quickly.\"\n",
    "        can be broken down into \"You grasp concepts easily\" and \"You may become impatient with those who don't learn as quickly.\"\n",
    "\n",
    "    :param t: an nltk.tree.Tree\n",
    "    :returns: 2-ple of nltk.tree.Tree\n",
    "    \"\"\"\n",
    "    subsentences = []\n",
    "    labels = get_child_labels(t)\n",
    "    \n",
    "    if labels.count('S') >= 2:\n",
    "        print(\">=2 'S' found on same level.\")\n",
    "        for child in t:\n",
    "            if child.label() == 'S':\n",
    "                subsentences.append(child.leaves())\n",
    "        print('new sentences are :')\n",
    "        for sent in subsentences:\n",
    "            print(sent)\n",
    "    elif 'NP' in labels:\n",
    "        np_label = labels.index('NP')\n",
    "        print('NP found.')\n",
    "        if 'VP' in labels:\n",
    "            print('NP and VP found on same level.')\n",
    "            vp_index = labels.index('VP')\n",
    "            labels2 = get_child_labels(t[vp_index])\n",
    "            if labels2.count('VP') >= 2:\n",
    "                print('found parallel VP.')\n",
    "                for child in t[vp_index]:\n",
    "                    if child.label() == 'VP':\n",
    "                        subsentences.append(child.leaves())\n",
    "            elif labels2.count('ADJP') == 1: \n",
    "                print('found ADJP under VP.')\n",
    "                adjp_index = labels2.index('ADJP')\n",
    "                labels3 = get_child_labels(t[vp_index][adjp_index])\n",
    "                if labels3.count('ADJP') + labels3.count('JJ') >= 2:\n",
    "                    '''\n",
    "                    e.g.\n",
    "                                ROOT                            \n",
    "                                 |                               \n",
    "                                 S                              \n",
    "                      ___________|____________________________   \n",
    "                     |                   VP                   | \n",
    "                     |    _______________|___                 |  \n",
    "                     |   |                  ADJP              | \n",
    "                     |   |        ___________|________        |  \n",
    "                     NP  |      ADJP         |       ADJP     | \n",
    "                     |   |       |           |        |       |  \n",
    "                    PRP VBP     VBG          CC       JJ      . \n",
    "                     |   |       |           |        |       |  \n",
    "                    You are hardworking     and  intelligent  . \n",
    "                    '''\n",
    "                    print('found parallel ADJP')\n",
    "                    for child in t[vp_index][adjp_index]:\n",
    "                        if child.label() == 'ADJP' or child.label() == 'JJ':\n",
    "                            subsentences.append(child.leaves())\n",
    "                            \n",
    "\n",
    "        elif 'ADJP' in labels:\n",
    "            index = labels.index('ADJP')\n",
    "            labels2 = get_child_labels(t[index])\n",
    "            if labels2.count('ADJP') >= 2:\n",
    "                print('found parallel ADJP.')\n",
    "                for child in t[index]:\n",
    "                    if child.label() == 'ADJP':\n",
    "                        subsentences.append(child.leaves())\n",
    "        print('new sentences are :')\n",
    "        for sent in subsentences:\n",
    "            print(t[np_label].leaves(), sent)\n",
    "            \n",
    "        # todo: return n new trees representing the n new sentences or return n new string sentences.\n",
    "        # todo: Rewrite code to fit more general cases. Right now, the logic is very 'hard-coded' and 'brute-force'.\n",
    "        \n",
    "    else:\n",
    "        print('Sentence may be invalid.')"
   ]
  },
  {
   "cell_type": "code",
   "execution_count": 35,
   "metadata": {},
   "outputs": [
    {
     "name": "stdout",
     "output_type": "stream",
     "text": [
      "                                       ROOT                                                  \n",
      "                                        |                                                     \n",
      "                                        S                                                    \n",
      "        ________________________________|__________________________________________________   \n",
      "       |                |       S                                                          | \n",
      "       |                |    ___|___                                                       |  \n",
      "       |                |   |       VP                                                     | \n",
      "       |                |   |    ___|________                                              |  \n",
      "       |                |   |   |            NP                                            | \n",
      "       |                |   |   |    ________|___________                                  |  \n",
      "       |                |   |   |   |                    PP                                | \n",
      "       |                |   |   |   |    ________________|________                         |  \n",
      "       |                |   |   |   |   |                         NP                       | \n",
      "       |                |   |   |   |   |         ________________|_________               |  \n",
      "       |                |   |   |   |   |        |                         SBAR            | \n",
      "       |                |   |   |   |   |        |                          |              |  \n",
      "       S                |   |   |   |   |        |                          S              | \n",
      "   ____|___             |   |   |   |   |        |                       ___|____          |  \n",
      "  |        VP           |   |   |   |   |        |                      |        VP        | \n",
      "  |     ___|_____       |   |   |   |   |        |                      |    ____|____     |  \n",
      "  NP   |        ADJP    |   NP  |   NP  |        NP                     NP  |         VP   | \n",
      "  |    |         |      |   |   |   |   |     ___|________________      |   |         |    |  \n",
      " NNP  VBZ        JJ     CC PRP VBZ  CD  IN   DT RBS      JJ      NNS   PRP VBP       VBN   . \n",
      "  |    |         |      |   |   |   |   |    |   |       |        |     |   |         |    |  \n",
      "Bobby  is     carefree and  he  is one  of  the most enigmatic persons  I  've      known  . \n",
      "\n",
      ">=2 'S' found on same level.\n",
      "new sentences are :\n",
      "['Bobby', 'is', 'carefree']\n",
      "['he', 'is', 'one', 'of', 'the', 'most', 'enigmatic', 'persons', 'I', \"'ve\", 'known']\n"
     ]
    }
   ],
   "source": [
    "parsetree7 = get_parsetree(parser, \"Bobby is carefree and he is one of the most enigmatic persons I've known.\")\n",
    "parsetree7.pretty_print()\n",
    "simple_find_parallel_sentence4(parsetree7[0])"
   ]
  },
  {
   "cell_type": "markdown",
   "metadata": {},
   "source": [
    "The limitation of this particular case is that the parse tree does not identify the common subject. Although upon reading it, the human reader will be able to identify the common subject."
   ]
  },
  {
   "cell_type": "markdown",
   "metadata": {},
   "source": [
    "Now that we have modified the code to cover a few common cases, let's test the function on a set of new sentences."
   ]
  },
  {
   "cell_type": "code",
   "execution_count": 36,
   "metadata": {},
   "outputs": [
    {
     "name": "stdout",
     "output_type": "stream",
     "text": [
      "                       ROOT                          \n",
      "                        |                             \n",
      "                        S                            \n",
      "   _____________________|__________________________   \n",
      "  |        VP                                      | \n",
      "  |     ___|____________                           |  \n",
      "  |    |                NP                         | \n",
      "  |    |          ______|_______________           |  \n",
      "  NP   |         NP           |         NP         | \n",
      "  |    |    _____|______      |     ____|____      |  \n",
      " NNP  VBZ  DT    JJ     NN    CC   JJ        NN    . \n",
      "  |    |   |     |      |     |    |         |     |  \n",
      "Bobby  is  an amazing father and close     friend  . \n",
      "\n",
      "NP found.\n",
      "NP and VP found on same level.\n",
      "new sentences are :\n",
      "                                          ROOT                                           \n",
      "                                           |                                              \n",
      "                                           S                                             \n",
      "          _________________________________|___________________________________________   \n",
      "        SBAR                           |   |             |                             | \n",
      "  _______|_____                        |   |             |                             |  \n",
      " |             S                       |   |             VP                            | \n",
      " |    _________|____                   |   |     ________|___                          |  \n",
      " |   |              VP                 |   |    |            S                         | \n",
      " |   |    __________|___               |   |    |            |                         |  \n",
      " |   |   |              NP             |   |    |            VP                        | \n",
      " |   |   |      ________|___           |   |    |     _______|____                     |  \n",
      " |   |   |     |            PP         |   |    |    |            VP                   | \n",
      " |   |   |     |         ___|____      |   |    |    |    ________|___                 |  \n",
      " |   NP  |     NP       |        NP    |   NP   |    |   |           ADJP              | \n",
      " |   |   |     |        |        |     |   |    |    |   |    ________|________        |  \n",
      " IN PRP VBP   NNS       IN      VBG    ,  PRP  VBP   TO  VB  JJ       CC       JJ      . \n",
      " |   |   |     |        |        |     |   |    |    |   |   |        |        |       |  \n",
      " If you have aries      in     rising  ,  you  tend  to  be loud     and  superficial  . \n",
      "\n",
      "NP found.\n",
      "NP and VP found on same level.\n",
      "new sentences are :\n"
     ]
    }
   ],
   "source": [
    "parsetreex = get_parsetree(parser, \"Bobby is an amazing father and close friend.\")\n",
    "parsetreex.pretty_print()\n",
    "simple_find_parallel_sentence4(parsetreex[0])\n",
    "\n",
    "parsetreex = get_parsetree(parser, \"If you have aries in rising, you tend to be loud and superficial.\")\n",
    "parsetreex.pretty_print()\n",
    "simple_find_parallel_sentence4(parsetreex[0])"
   ]
  },
  {
   "cell_type": "markdown",
   "metadata": {},
   "source": [
    "Clearly, there are a lot more structures that the simple sentence splitter does not cover. Syntax is complex indeed. "
   ]
  },
  {
   "cell_type": "code",
   "execution_count": 37,
   "metadata": {},
   "outputs": [
    {
     "name": "stdout",
     "output_type": "stream",
     "text": [
      "                                                                          ROOT                                                                              \n",
      "                                                                           |                                                                                 \n",
      "                                                                           S                                                                                \n",
      "  _________________________________________________________________________|______________________________________________________________________________   \n",
      " |                                     VP                                                                                                                 | \n",
      " |    _________________________________|___________________________________                                                                               |  \n",
      " |   |                                                                    ADJP                                                                            | \n",
      " |   |               ______________________________________________________|______________                                                                |  \n",
      " |   |              |                         |                                          ADJP                                                             | \n",
      " |   |              |                         |      _____________________________________|____                                                           |  \n",
      " |   |              |                         |     |      |                                   S                                                          | \n",
      " |   |              |                         |     |      |                                   |                                                          |  \n",
      " |   |              |                         |     |      |                                   VP                                                         | \n",
      " |   |              |                         |     |      |     ______________________________|_____                                                     |  \n",
      " |   |              |                         |     |      |    |                                    VP                                                   | \n",
      " |   |              |                         |     |      |    |    ________________________________|______________________                              |  \n",
      " |   |             ADJP                       |     |      |    |   |      |          |                                    SBAR                           | \n",
      " |   |     _________|____                     |     |      |    |   |      |          |                     ________________|______                       |  \n",
      " |   |    |              S                    |     |      |    |   |      |          |                    |                       S                      | \n",
      " |   |    |              |                    |     |      |    |   |      |          |                    |          _____________|___                   |  \n",
      " |   |    |              VP                   |     |      |    |   |      |          |                    |         |                 VP                 | \n",
      " |   |    |     _________|___                 |     |      |    |   |      |          |                    |         |              ___|____              |  \n",
      " |   |    |    |             VP               |     |      |    |   |      |          PP                   |         |             |        VP            | \n",
      " |   |    |    |     ________|___             |     |      |    |   |      |       ___|___                 |         |             |    ____|______       |  \n",
      " NP  |    |    |    |            NP           |     |      |    |   |      NP     |       NP               |         NP            |   |          ADJP    | \n",
      " |   |    |    |    |         ___|_____       |     |      |    |   |      |      |    ___|__________      |     ____|______       |   |           |      |  \n",
      "PRP VBP   JJ   TO   VB       JJ       NNS     CC    RB     JJ   TO  VB     NN     IN  DT  NN   CC    NN    RB  PRP$         NN    VBZ VBN         VBN     . \n",
      " |   |    |    |    |        |         |      |     |      |    |   |      |      |   |   |    |     |     |    |           |      |   |           |      |  \n",
      "You are quick  to grasp     new     concepts and equally quick  to lose interest  in  an idea  or project once your     curiosity has been     satisfied  . \n",
      "\n",
      "NP found.\n",
      "NP and VP found on same level.\n",
      "found ADJP under VP.\n",
      "found parallel ADJP\n",
      "new sentences are :\n",
      "['You'] ['quick', 'to', 'grasp', 'new', 'concepts']\n",
      "['You'] ['equally', 'quick', 'to', 'lose', 'interest', 'in', 'an', 'idea', 'or', 'project', 'once', 'your', 'curiosity', 'has', 'been', 'satisfied']\n"
     ]
    }
   ],
   "source": [
    "parsetreex = get_parsetree(parser, \"You are quick to grasp new concepts and equally quick to lose interest in an idea or project once your curiosity has been satisfied.\")\n",
    "parsetreex.pretty_print()\n",
    "simple_find_parallel_sentence4(parsetreex[0])"
   ]
  },
  {
   "cell_type": "code",
   "execution_count": 38,
   "metadata": {},
   "outputs": [
    {
     "name": "stdout",
     "output_type": "stream",
     "text": [
      "                                                                             ROOT                                                                       \n",
      "                                                                              |                                                                          \n",
      "                                                                              S                                                                         \n",
      "          ____________________________________________________________________|_______________________________________________________________________   \n",
      "        SBAR                             |   |                                                     |                                                  | \n",
      "  _______|______                         |   |                                                     |                                                  |  \n",
      " |              S                        |   |                                                     |                                                  | \n",
      " |    __________|_____                   |   |                                                     |                                                  |  \n",
      " |   |                VP                 |   |                                                     |                                                  | \n",
      " |   |    ____________|___               |   |                                                     |                                                  |  \n",
      " |   |   |                NP             |   |                                                     VP                                                 | \n",
      " |   |   |       _________|___           |   |    _________________________________________________|_____                                             |  \n",
      " |   |   |      |             PP         |   |   |                                                       NP                                           | \n",
      " |   |   |      |          ___|____      |   |   |     __________________________________________________|_______________________________________     |  \n",
      " |   NP  |      NP        |        NP    |   NP  |    |                                     ADJP                               |   |      |      |    | \n",
      " |   |   |      |         |        |     |   |   |    |       _______________________________|___________________________      |   |      |      |    |  \n",
      " IN PRP VBP    NNP        IN      NNP    ,  PRP VBP   DT     RB        JJ     ,       JJ     ,     JJ    ,    JJ   ,     JJ    ,   CC     JJ     NN   . \n",
      " |   |   |      |         |        |     |   |   |    |      |         |      |       |      |     |     |    |    |     |     |   |      |      |    |  \n",
      " If you have Mercury      in     Gemini  ,  you have  an extremely adaptable  ,   energetic  ,   active  ,  alert  ,  curious  ,  and versatile mind  . \n",
      "\n",
      "NP found.\n",
      "NP and VP found on same level.\n",
      "new sentences are :\n"
     ]
    }
   ],
   "source": [
    "text = \"If you have Mercury in Gemini, you have an extremely adaptable, energetic, active, alert, curious, and versatile mind.\"\n",
    "parsetreex = get_parsetree(parser, text)\n",
    "parsetreex.pretty_print()\n",
    "simple_find_parallel_sentence4(parsetreex[0])"
   ]
  },
  {
   "cell_type": "code",
   "execution_count": 39,
   "metadata": {},
   "outputs": [
    {
     "name": "stdout",
     "output_type": "stream",
     "text": [
      "            ROOT                        \n",
      "             |                           \n",
      "             S                          \n",
      "  ___________|_______                    \n",
      " |                   VP                 \n",
      " |    _______________|___                \n",
      " |   |                  ADJP            \n",
      " |   |        ___________|________       \n",
      " NP  |      ADJP         |       ADJP   \n",
      " |   |       |           |        |      \n",
      "PRP VBP     VBG          CC       JJ    \n",
      " |   |       |           |        |      \n",
      "You are hardworking     and  intelligent\n",
      "\n",
      "NP found.\n",
      "NP and VP found on same level.\n",
      "found ADJP under VP.\n",
      "found parallel ADJP\n",
      "new sentences are :\n",
      "['You'] ['hardworking']\n",
      "['You'] ['intelligent']\n"
     ]
    }
   ],
   "source": [
    "parsetreex = get_parsetree(parser, \"You are hardworking and intelligent\")\n",
    "parsetreex.pretty_print()\n",
    "simple_find_parallel_sentence4(parsetreex[0])"
   ]
  },
  {
   "cell_type": "code",
   "execution_count": 40,
   "metadata": {},
   "outputs": [],
   "source": [
    "def simple_find_parallel_sentence5(t):\n",
    "    \"\"\"\n",
    "    From a sentence, finds the earliest parallel sub-sentences describing the same subject, if it exists.\n",
    "\n",
    "        e.g. \"You grasp concepts easily and may become impatient with those who don't learn as quickly.\"\n",
    "        can be broken down into \"You grasp concepts easily\" and \"You may become impatient with those who don't learn as quickly.\"\n",
    "    \n",
    "    Takes into account parallel noun phrases (NP, NN), parallel verbs (VP, V) and parallel adjectives (ADJP, JJ).\n",
    "    Also takes into account parallel sentences (S). \n",
    "    \n",
    "    :param t: an nltk.tree.Tree\n",
    "    :returns: 2-ple of nltk.tree.Tree\n",
    "    \"\"\"\n",
    "    subsentences = []\n",
    "    labels = get_child_labels(t)\n",
    "    \n",
    "    if labels.count('S') >= 2:\n",
    "        print(\">=2 'S' found on same level.\")\n",
    "        for child in t:\n",
    "            if child.label() == 'S':\n",
    "                subsentences.append(child.leaves())\n",
    "        print('new sentences are :')\n",
    "        for sent in subsentences:\n",
    "            print(sent)\n",
    "    elif 'NP' in labels:\n",
    "        np_label = labels.index('NP')\n",
    "        print('NP found.')\n",
    "        if 'VP' in labels:\n",
    "            print('NP and VP found on same level.')\n",
    "            vp_index = labels.index('VP')\n",
    "            labels2 = get_child_labels(t[vp_index])\n",
    "            if labels2.count('VP') >= 2:\n",
    "                print('found parallel VP.')\n",
    "                for child in t[vp_index]:\n",
    "                    if child.label() == 'VP':\n",
    "                        subsentences.append(child.leaves())\n",
    "            elif labels2.count('ADJP') == 1: \n",
    "                print('found ADJP under VP.')\n",
    "                adjp_index = labels2.index('ADJP')\n",
    "                labels3 = get_child_labels(t[vp_index][adjp_index])\n",
    "                if labels3.count('ADJP') + labels3.count('JJ') >= 2:\n",
    "                    '''\n",
    "                    e.g.\n",
    "                                ROOT                            \n",
    "                                 |                               \n",
    "                                 S                              \n",
    "                      ___________|____________________________   \n",
    "                     |                   VP                   | \n",
    "                     |    _______________|___                 |  \n",
    "                     |   |                  ADJP              | \n",
    "                     |   |        ___________|________        |  \n",
    "                     NP  |      ADJP         |       ADJP     | \n",
    "                     |   |       |           |        |       |  \n",
    "                    PRP VBP     VBG          CC       JJ      . \n",
    "                     |   |       |           |        |       |  \n",
    "                    You are hardworking     and  intelligent  . \n",
    "                    '''\n",
    "                    print('found parallel ADJP')\n",
    "                    for child in t[vp_index][adjp_index]:\n",
    "                        if child.label() == 'ADJP' or child.label() == 'JJ':\n",
    "                            subsentences.append(child.leaves())\n",
    "            elif labels2.count('NP') == 1:\n",
    "                print('found NP under VP.')\n",
    "                np_index = labels2.index('NP')\n",
    "                labels3 = get_child_labels(t[vp_index][np_index])\n",
    "                if labels3.count('NP') + labels3.count('NN') >= 2:\n",
    "                    print('found parallel NP')\n",
    "                    for child in t[vp_index][np_index]:\n",
    "                        if child.label() == 'NP' or child.label() == 'NN':\n",
    "                            subsentences.append(child.leaves())\n",
    "\n",
    "        elif 'ADJP' in labels:\n",
    "            index = labels.index('ADJP')\n",
    "            labels2 = get_child_labels(t[index])\n",
    "            if labels2.count('ADJP') >= 2:\n",
    "                print('found parallel ADJP.')\n",
    "                for child in t[index]:\n",
    "                    if child.label() == 'ADJP':\n",
    "                        subsentences.append(child.leaves())\n",
    "        \n",
    "        print('new sentences are :')\n",
    "        for sent in subsentences:\n",
    "            print(t[np_label].leaves(), sent)\n",
    "            \n",
    "        # todo: return n new trees representing the n new sentences or return n new string sentences.\n",
    "        # todo: Rewrite code to fit more general cases. Right now, the logic is very 'hard-coded' and 'brute-force'.\n",
    "        \n",
    "    else:\n",
    "        print('Sentence may be too complex.')"
   ]
  },
  {
   "cell_type": "code",
   "execution_count": 41,
   "metadata": {},
   "outputs": [
    {
     "name": "stdout",
     "output_type": "stream",
     "text": [
      "                    ROOT                          \n",
      "                     |                             \n",
      "                     S                            \n",
      "   __________________|__________________________   \n",
      "  |        VP                                   | \n",
      "  |     ___|_________                           |  \n",
      "  |    |             NP                         | \n",
      "  |    |        _____|_______________           |  \n",
      "  NP   |       NP          |         NP         | \n",
      "  |    |    ___|_____      |     ____|____      |  \n",
      " NNP  VBZ  DT  JJ    NN    CC   JJ        NN    . \n",
      "  |    |   |   |     |     |    |         |     |  \n",
      "Bobby  is  a  good father and great     friend  . \n",
      "\n",
      "NP found.\n",
      "NP and VP found on same level.\n",
      "found NP under VP.\n",
      "found parallel NP\n",
      "new sentences are :\n",
      "['Bobby'] ['a', 'good', 'father']\n",
      "['Bobby'] ['great', 'friend']\n"
     ]
    }
   ],
   "source": [
    "parsetreex = get_parsetree(parser, \"Bobby is a good father and great friend.\")\n",
    "parsetreex.pretty_print()\n",
    "simple_find_parallel_sentence5(parsetreex[0])"
   ]
  },
  {
   "cell_type": "code",
   "execution_count": 42,
   "metadata": {},
   "outputs": [
    {
     "name": "stdout",
     "output_type": "stream",
     "text": [
      "                  ROOT                                \n",
      "                   |                                   \n",
      "                   S                                  \n",
      "   ________________|________________________________   \n",
      "  |                VP                               | \n",
      "  |     ___________|_____                           |  \n",
      "  |    |   |             NP                         | \n",
      "  |    |   |        _____|_______________           |  \n",
      "  NP   |   |       NP          |         NP         | \n",
      "  |    |   |    ___|_____      |     ____|____      |  \n",
      " NNP  VBZ  RB  DT  JJ    NN    CC   JJ        NN    . \n",
      "  |    |   |   |   |     |     |    |         |     |  \n",
      "Bobby  is not  a  good father and great     friend  . \n",
      "\n",
      "NP found.\n",
      "NP and VP found on same level.\n",
      "found NP under VP.\n",
      "found parallel NP\n",
      "new sentences are :\n",
      "['Bobby'] ['a', 'good', 'father']\n",
      "['Bobby'] ['great', 'friend']\n"
     ]
    }
   ],
   "source": [
    "parsetreex = get_parsetree(parser, \"Bobby is not a good father and great friend.\")\n",
    "parsetreex.pretty_print()\n",
    "simple_find_parallel_sentence5(parsetreex[0])"
   ]
  },
  {
   "cell_type": "markdown",
   "metadata": {},
   "source": [
    "Above case fails because VBZ+RB is not taken into account in the construction of the new sentences."
   ]
  },
  {
   "cell_type": "code",
   "execution_count": 43,
   "metadata": {},
   "outputs": [],
   "source": [
    "def simple_find_parallel_sentence6(t):\n",
    "    \"\"\"\n",
    "    From a sentence, finds the earliest parallel sub-sentences describing the same subject, if it exists.\n",
    "\n",
    "        e.g. \"You grasp concepts easily and may become impatient with those who don't learn as quickly.\"\n",
    "        can be broken down into \"You grasp concepts easily\" and \"You may become impatient with those who don't learn as quickly.\"\n",
    "    \n",
    "    Takes into account parallel noun phrases (NP, NN), parallel verbs (VP, V) and parallel adjectives (ADJP, JJ).\n",
    "    Also takes into account parallel sentences (S). \n",
    "    \n",
    "    :param t: an nltk.tree.Tree\n",
    "    :returns: 2-ple of nltk.tree.Tree\n",
    "    \"\"\"\n",
    "    subsentences = []\n",
    "    qualifiers = []  # phrases that qualify the subsentences.\n",
    "    labels = get_child_labels(t)\n",
    "    \n",
    "    if labels.count('S') >= 2:\n",
    "        print(\">=2 'S' found on same level.\")\n",
    "        for child in t:\n",
    "            if child.label() == 'S':\n",
    "                subsentences.append(child.leaves())\n",
    "        print('new sentences are :')\n",
    "        for sent in subsentences:\n",
    "            print(sent)\n",
    "    elif 'NP' in labels:\n",
    "        np_label = labels.index('NP')\n",
    "        print('NP found.')\n",
    "        if 'VP' in labels:\n",
    "            print('NP and VP found on same level.')\n",
    "            vp_index = labels.index('VP')\n",
    "            labels2 = get_child_labels(t[vp_index])\n",
    "            \n",
    "            # if a child of the first VP is not VP, NP or ADJP, it is likely some qualifier?  \n",
    "            for child in t[vp_index]:\n",
    "                if child.label() not in ['VP', 'NP', 'ADJP']:\n",
    "                    qualifiers.append(child.leaves())\n",
    "            \n",
    "            if labels2.count('VP') >= 2:\n",
    "                print('found parallel VP.')\n",
    "                for child in t[vp_index]:\n",
    "                    if child.label() == 'VP':\n",
    "                        subsentences.append(child.leaves())\n",
    "                    \n",
    "            elif labels2.count('ADJP') == 1: \n",
    "                print('found ADJP under VP.')\n",
    "                adjp_index = labels2.index('ADJP')\n",
    "                labels3 = get_child_labels(t[vp_index][adjp_index])\n",
    "                if labels3.count('ADJP') + labels3.count('JJ') >= 2:\n",
    "                    '''\n",
    "                    e.g.\n",
    "                                ROOT                            \n",
    "                                 |                               \n",
    "                                 S                              \n",
    "                      ___________|____________________________   \n",
    "                     |                   VP                   | \n",
    "                     |    _______________|___                 |  \n",
    "                     |   |                  ADJP              | \n",
    "                     |   |        ___________|________        |  \n",
    "                     NP  |      ADJP         |       ADJP     | \n",
    "                     |   |       |           |        |       |  \n",
    "                    PRP VBP     VBG          CC       JJ      . \n",
    "                     |   |       |           |        |       |  \n",
    "                    You are hardworking     and  intelligent  . \n",
    "                    '''\n",
    "                    print('found parallel ADJP')\n",
    "                    for child in t[vp_index][adjp_index]:\n",
    "                        if child.label() == 'ADJP' or child.label() == 'JJ':\n",
    "                            subsentences.append(child.leaves())\n",
    "\n",
    "            elif labels2.count('NP') == 1:\n",
    "                print('found NP under VP.')\n",
    "                np_index = labels2.index('NP')\n",
    "                labels3 = get_child_labels(t[vp_index][np_index])\n",
    "                if labels3.count('NP') + labels3.count('NN') >= 2:\n",
    "                    print('found parallel NP')\n",
    "                    for child in t[vp_index][np_index]:\n",
    "                        if child.label() == 'NP' or child.label() == 'NN':\n",
    "                            subsentences.append(child.leaves())\n",
    "\n",
    "        elif 'ADJP' in labels:\n",
    "            index = labels.index('ADJP')\n",
    "            labels2 = get_child_labels(t[index])\n",
    "            if labels2.count('ADJP') >= 2:\n",
    "                print('found parallel ADJP.')\n",
    "                for child in t[index]:\n",
    "                    if child.label() == 'ADJP':\n",
    "                        subsentences.append(child.leaves())\n",
    "        \n",
    "        print('new sentences are :')\n",
    "        for sent in subsentences:\n",
    "            print(t[np_label].leaves(), qualifiers, sent)\n",
    "        print()\n",
    "            \n",
    "        # todo: return n new trees representing the n new sentences or return n new string sentences.\n",
    "        # todo: Rewrite code to fit more general cases. Right now, the logic is very 'hard-coded' and 'brute-force'.\n",
    "        # todo: consider the possibility of a recursive algo.\n",
    "        \n",
    "    else:\n",
    "        print('Sentence structure not covered by function.')"
   ]
  },
  {
   "cell_type": "code",
   "execution_count": 44,
   "metadata": {},
   "outputs": [
    {
     "name": "stdout",
     "output_type": "stream",
     "text": [
      "                    ROOT                          \n",
      "                     |                             \n",
      "                     S                            \n",
      "   __________________|__________________________   \n",
      "  |        VP                                   | \n",
      "  |     ___|_________                           |  \n",
      "  |    |             NP                         | \n",
      "  |    |        _____|_______________           |  \n",
      "  NP   |       NP          |         NP         | \n",
      "  |    |    ___|_____      |     ____|____      |  \n",
      " NNP  VBZ  DT  JJ    NN    CC   JJ        NN    . \n",
      "  |    |   |   |     |     |    |         |     |  \n",
      "Bobby  is  a  good father and great     friend  . \n",
      "\n",
      "NP found.\n",
      "NP and VP found on same level.\n",
      "found NP under VP.\n",
      "found parallel NP\n",
      "new sentences are :\n",
      "['Bobby'] [['is']] ['a', 'good', 'father']\n",
      "['Bobby'] [['is']] ['great', 'friend']\n",
      "\n"
     ]
    }
   ],
   "source": [
    "parsetreex = get_parsetree(parser, \"Bobby is a good father and great friend.\")\n",
    "parsetreex.pretty_print()\n",
    "simple_find_parallel_sentence6(parsetreex[0])"
   ]
  },
  {
   "cell_type": "code",
   "execution_count": 45,
   "metadata": {},
   "outputs": [
    {
     "name": "stdout",
     "output_type": "stream",
     "text": [
      "                  ROOT                                \n",
      "                   |                                   \n",
      "                   S                                  \n",
      "   ________________|________________________________   \n",
      "  |                VP                               | \n",
      "  |     ___________|_____                           |  \n",
      "  |    |   |             NP                         | \n",
      "  |    |   |        _____|_______________           |  \n",
      "  NP   |   |       NP          |         NP         | \n",
      "  |    |   |    ___|_____      |     ____|____      |  \n",
      " NNP  VBZ  RB  DT  JJ    NN    CC   JJ        NN    . \n",
      "  |    |   |   |   |     |     |    |         |     |  \n",
      "Bobby  is not  a  good father and great     friend  . \n",
      "\n",
      "NP found.\n",
      "NP and VP found on same level.\n",
      "found NP under VP.\n",
      "found parallel NP\n",
      "new sentences are :\n",
      "['Bobby'] [['is'], ['not']] ['a', 'good', 'father']\n",
      "['Bobby'] [['is'], ['not']] ['great', 'friend']\n",
      "\n"
     ]
    }
   ],
   "source": [
    "parsetreex = get_parsetree(parser, \"Bobby is not a good father and great friend.\")\n",
    "parsetreex.pretty_print()\n",
    "simple_find_parallel_sentence6(parsetreex[0])"
   ]
  },
  {
   "cell_type": "code",
   "execution_count": 46,
   "metadata": {},
   "outputs": [
    {
     "name": "stdout",
     "output_type": "stream",
     "text": [
      "NP found.\n",
      "NP and VP found on same level.\n",
      "found NP under VP.\n",
      "found parallel NP\n",
      "new sentences are :\n",
      "['Bobby'] [['is']] ['a', 'good', 'father']\n",
      "['Bobby'] [['is']] ['great', 'friend']\n",
      "\n",
      "NP found.\n",
      "NP and VP found on same level.\n",
      "found NP under VP.\n",
      "found parallel NP\n",
      "new sentences are :\n",
      "['Bobby'] [['is'], ['not']] ['a', 'good', 'father']\n",
      "['Bobby'] [['is'], ['not']] ['great', 'friend']\n",
      "\n",
      "NP found.\n",
      "NP and VP found on same level.\n",
      "found ADJP under VP.\n",
      "found parallel ADJP\n",
      "new sentences are :\n",
      "['Bobby'] [['is']] ['very', 'handsome']\n",
      "['Bobby'] [['is']] ['super', 'smart']\n",
      "\n",
      "NP found.\n",
      "NP and VP found on same level.\n",
      "found ADJP under VP.\n",
      "found parallel ADJP\n",
      "new sentences are :\n",
      "['Bobby'] [['is']] ['handsome']\n",
      "['Bobby'] [['is']] ['smart']\n",
      "\n",
      "NP found.\n",
      "NP and VP found on same level.\n",
      "found ADJP under VP.\n",
      "found parallel ADJP\n",
      "new sentences are :\n",
      "['You'] [['are']] ['quick', 'to', 'grasp', 'new', 'concepts']\n",
      "['You'] [['are']] ['equally', 'quick', 'to', 'lose', 'interest', 'in', 'an', 'idea', 'or', 'project', 'once', 'your', 'curiosity', 'has', 'been', 'satisfied']\n",
      "\n"
     ]
    }
   ],
   "source": [
    "'''\n",
    "TEST CASES - passing\n",
    "'''\n",
    "\n",
    "# parallel NN\n",
    "parsetreex = get_parsetree(parser, \"Bobby is a good father and great friend.\")\n",
    "simple_find_parallel_sentence6(parsetreex[0])\n",
    "\n",
    "# parallel \"negative\" NN\n",
    "parsetreex = get_parsetree(parser, \"Bobby is not a good father and great friend.\")\n",
    "simple_find_parallel_sentence6(parsetreex[0])\n",
    "\n",
    "# parallel ADJP\n",
    "parsetreex = get_parsetree(parser, \"Bobby is very handsome and super smart\")\n",
    "simple_find_parallel_sentence6(parsetreex[0])\n",
    "\n",
    "# parallel ADJP AND JJ\n",
    "parsetreex = get_parsetree(parser, \"Bobby is very handsome and smart\")\n",
    "simple_find_parallel_sentence6(parsetreex[0])\n",
    "\n",
    "# parallel VP\n",
    "parsetreex = get_parsetree(parser, \"You are quick to grasp new concepts and equally quick to lose interest in an idea or project once your curiosity has been satisfied.\")\n",
    "simple_find_parallel_sentence6(parsetreex[0])\n",
    "\n"
   ]
  },
  {
   "cell_type": "markdown",
   "metadata": {},
   "source": [
    "is the \"equally\" adverb important? or we can drop it without much consequence for later? "
   ]
  },
  {
   "cell_type": "code",
   "execution_count": 47,
   "metadata": {},
   "outputs": [
    {
     "name": "stdout",
     "output_type": "stream",
     "text": [
      "NP found.\n",
      "NP and VP found on same level.\n",
      "found NP under VP.\n",
      "new sentences are :\n",
      "\n",
      "                                          ROOT                                           \n",
      "                                           |                                              \n",
      "                                           S                                             \n",
      "          _________________________________|___________________________________________   \n",
      "        SBAR                           |   |             |                             | \n",
      "  _______|_____                        |   |             |                             |  \n",
      " |             S                       |   |             VP                            | \n",
      " |    _________|____                   |   |     ________|___                          |  \n",
      " |   |              VP                 |   |    |            S                         | \n",
      " |   |    __________|___               |   |    |            |                         |  \n",
      " |   |   |              NP             |   |    |            VP                        | \n",
      " |   |   |      ________|___           |   |    |     _______|____                     |  \n",
      " |   |   |     |            PP         |   |    |    |            VP                   | \n",
      " |   |   |     |         ___|____      |   |    |    |    ________|___                 |  \n",
      " |   NP  |     NP       |        NP    |   NP   |    |   |           ADJP              | \n",
      " |   |   |     |        |        |     |   |    |    |   |    ________|________        |  \n",
      " IN PRP VBP   NNS       IN      VBG    ,  PRP  VBP   TO  VB  JJ       CC       JJ      . \n",
      " |   |   |     |        |        |     |   |    |    |   |   |        |        |       |  \n",
      " If you have aries      in     rising  ,  you  tend  to  be loud     and  superficial  . \n",
      "\n",
      "NP found.\n",
      "NP and VP found on same level.\n",
      "new sentences are :\n",
      "\n"
     ]
    }
   ],
   "source": [
    "'''\n",
    "TEST CASES - failing\n",
    "'''\n",
    "\n",
    "# conditional and multiple adjectives\n",
    "text = \"If you have Mercury in Gemini, you have an extremely adaptable, energetic, active, alert, curious, and versatile mind.\"\n",
    "parsetreex = get_parsetree(parser, text)\n",
    "simple_find_parallel_sentence6(parsetreex[0])\n",
    "\n",
    "# conditional and 2 adjectives\n",
    "text = \"If you have aries in rising, you tend to be loud and superficial.\"\n",
    "parsetreex = get_parsetree(parser, text)\n",
    "parsetreex.pretty_print()\n",
    "simple_find_parallel_sentence6(parsetreex[0])"
   ]
  },
  {
   "cell_type": "code",
   "execution_count": 48,
   "metadata": {},
   "outputs": [],
   "source": [
    "def simple_find_parallel_sentence7(t):\n",
    "    \"\"\"\n",
    "    From a sentence, finds the earliest parallel sub-sentences describing the same subject, if it exists.\n",
    "\n",
    "        e.g. \"You grasp concepts easily and may become impatient with those who don't learn as quickly.\"\n",
    "        can be broken down into \"You grasp concepts easily\" and \"You may become impatient with those who don't learn as quickly.\"\n",
    "    \n",
    "    Takes into account parallel noun phrases (NP, NN), parallel verbs (VP, V) and parallel adjectives (ADJP, JJ).\n",
    "    Also takes parallel sentences (S) into account .\n",
    "    Also takes conditions (\"if\" or SBAR) into account.\n",
    "    \n",
    "    :param t: an nltk.tree.Tree\n",
    "    :returns: 2-ple of nltk.tree.Tree\n",
    "    \"\"\"\n",
    "    preconditions = []  # conditions. e.g. \"if you are x\".\n",
    "    qualifiers = []  # phrases that qualify the subsentences.\n",
    "    subsentences = []\n",
    "    labels = get_child_labels(t)\n",
    "    \n",
    "    for child in t:\n",
    "        if child.label() == 'SBAR':\n",
    "            print('precondition found.')\n",
    "            preconditions.append(child.leaves())\n",
    "    \n",
    "    if labels.count('S') >= 2:\n",
    "        print(\">=2 'S' found on same level.\")\n",
    "        for child in t:\n",
    "            if child.label() == 'S':\n",
    "                subsentences.append(child.leaves())\n",
    "        print('new sentences are :')\n",
    "        for sent in subsentences:\n",
    "            print(preconditions, sent)\n",
    "    elif 'NP' in labels:\n",
    "        np_label = labels.index('NP')\n",
    "        print('NP found.')\n",
    "        if 'VP' in labels:\n",
    "            print('NP and VP found on same level.')\n",
    "            vp_index = labels.index('VP')\n",
    "            labels2 = get_child_labels(t[vp_index])\n",
    "            \n",
    "            # if a child of the first VP is not VP, NP or ADJP, it is likely some qualifier?  \n",
    "            for child in t[vp_index]:\n",
    "                if child.label() not in ['VP', 'NP', 'ADJP']:\n",
    "                    qualifiers.append(child.leaves())\n",
    "            \n",
    "            if labels2.count('VP') >= 2:\n",
    "                print('found parallel VP.')\n",
    "                for child in t[vp_index]:\n",
    "                    if child.label() == 'VP':\n",
    "                        subsentences.append(child.leaves())\n",
    "                    \n",
    "            elif labels2.count('ADJP') == 1: \n",
    "                print('found ADJP under VP.')\n",
    "                adjp_index = labels2.index('ADJP')\n",
    "                labels3 = get_child_labels(t[vp_index][adjp_index])\n",
    "                if labels3.count('ADJP') + labels3.count('JJ') >= 2:\n",
    "                    '''\n",
    "                    e.g.\n",
    "                                ROOT                            \n",
    "                                 |                               \n",
    "                                 S                              \n",
    "                      ___________|____________________________   \n",
    "                     |                   VP                   | \n",
    "                     |    _______________|___                 |  \n",
    "                     |   |                  ADJP              | \n",
    "                     |   |        ___________|________        |  \n",
    "                     NP  |      ADJP         |       ADJP     | \n",
    "                     |   |       |           |        |       |  \n",
    "                    PRP VBP     VBG          CC       JJ      . \n",
    "                     |   |       |           |        |       |  \n",
    "                    You are hardworking     and  intelligent  . \n",
    "                    '''\n",
    "                    print('found parallel ADJP')\n",
    "                    for child in t[vp_index][adjp_index]:\n",
    "                        if child.label() == 'ADJP' or child.label() == 'JJ':\n",
    "                            subsentences.append(child.leaves())\n",
    "\n",
    "            elif labels2.count('NP') == 1:\n",
    "                print('found NP under VP.')\n",
    "                np_index = labels2.index('NP')\n",
    "                labels3 = get_child_labels(t[vp_index][np_index])\n",
    "                if labels3.count('NP') + labels3.count('NN') >= 2:\n",
    "                    print('found parallel NP')\n",
    "                    for child in t[vp_index][np_index]:\n",
    "                        if child.label() == 'NP' or child.label() == 'NN':\n",
    "                            subsentences.append(child.leaves())\n",
    "\n",
    "        elif 'ADJP' in labels:\n",
    "            index = labels.index('ADJP')\n",
    "            labels2 = get_child_labels(t[index])\n",
    "            if labels2.count('ADJP') >= 2:\n",
    "                print('found parallel ADJP.')\n",
    "                for child in t[index]:\n",
    "                    if child.label() == 'ADJP':\n",
    "                        subsentences.append(child.leaves())\n",
    "        \n",
    "        print('new sentences are :')\n",
    "        for sent in subsentences:\n",
    "            print(preconditions, t[np_label].leaves(), qualifiers, sent)\n",
    "        print()\n",
    "            \n",
    "        # todo: return n new trees representing the n new sentences or return n new string sentences.\n",
    "        # todo: Rewrite code to fit more general cases. Right now, the logic is very 'hard-coded'.\n",
    "        # todo: consider the possibility of a recursive algo.\n",
    "        \n",
    "    else:\n",
    "        print('Sentence structure not covered by function.')"
   ]
  },
  {
   "cell_type": "code",
   "execution_count": 49,
   "metadata": {
    "scrolled": true
   },
   "outputs": [
    {
     "name": "stdout",
     "output_type": "stream",
     "text": [
      "                                      ROOT                                      \n",
      "                                       |                                         \n",
      "                                       S                                        \n",
      "          _____________________________|______________________________________   \n",
      "        SBAR                           |    |            |                    | \n",
      "  _______|_____                        |    |            |                    |  \n",
      " |             S                       |    |            |                    | \n",
      " |    _________|____                   |    |            |                    |  \n",
      " |   |              VP                 |    |            |                    | \n",
      " |   |    __________|___               |    |            |                    |  \n",
      " |   |   |              NP             |    |            |                    | \n",
      " |   |   |      ________|___           |    |            |                    |  \n",
      " |   |   |     |            PP         |    |            VP                   | \n",
      " |   |   |     |         ___|____      |    |    ________|___                 |  \n",
      " |   NP  |     NP       |        NP    |    NP  |           ADJP              | \n",
      " |   |   |     |        |        |     |    |   |    ________|________        |  \n",
      " IN PRP VBP   NNS       IN      VBG    ,   PRP VBP  JJ       CC       JJ      . \n",
      " |   |   |     |        |        |     |    |   |   |        |        |       |  \n",
      " If you have aries      in     rising  ,   you are loud     and  superficial  . \n",
      "\n",
      "precondition found.\n",
      "NP found.\n",
      "NP and VP found on same level.\n",
      "found ADJP under VP.\n",
      "found parallel ADJP\n",
      "new sentences are :\n",
      "[['If', 'you', 'have', 'aries', 'in', 'rising']] ['you'] [['are']] ['loud']\n",
      "[['If', 'you', 'have', 'aries', 'in', 'rising']] ['you'] [['are']] ['superficial']\n",
      "\n",
      "                                          ROOT                                           \n",
      "                                           |                                              \n",
      "                                           S                                             \n",
      "          _________________________________|___________________________________________   \n",
      "        SBAR                           |   |             |                             | \n",
      "  _______|_____                        |   |             |                             |  \n",
      " |             S                       |   |             VP                            | \n",
      " |    _________|____                   |   |     ________|___                          |  \n",
      " |   |              VP                 |   |    |            S                         | \n",
      " |   |    __________|___               |   |    |            |                         |  \n",
      " |   |   |              NP             |   |    |            VP                        | \n",
      " |   |   |      ________|___           |   |    |     _______|____                     |  \n",
      " |   |   |     |            PP         |   |    |    |            VP                   | \n",
      " |   |   |     |         ___|____      |   |    |    |    ________|___                 |  \n",
      " |   NP  |     NP       |        NP    |   NP   |    |   |           ADJP              | \n",
      " |   |   |     |        |        |     |   |    |    |   |    ________|________        |  \n",
      " IN PRP VBP   NNS       IN      VBG    ,  PRP  VBP   TO  VB  JJ       CC       JJ      . \n",
      " |   |   |     |        |        |     |   |    |    |   |   |        |        |       |  \n",
      " If you have aries      in     rising  ,  you  tend  to  be loud     and  superficial  . \n",
      "\n",
      "precondition found.\n",
      "NP found.\n",
      "NP and VP found on same level.\n",
      "new sentences are :\n",
      "\n"
     ]
    }
   ],
   "source": [
    "'''\n",
    "TEST CASES\n",
    "'''\n",
    "\n",
    "# conditional and 2 adjectives.\n",
    "text = \"If you have aries in rising, you are loud and superficial.\"\n",
    "parsetreex = get_parsetree(parser, text)\n",
    "parsetreex.pretty_print()\n",
    "simple_find_parallel_sentence7(parsetreex[0])\n",
    "\n",
    "# conditional and 2 \"nested\" adjectives.\n",
    "text = \"If you have aries in rising, you tend to be loud and superficial.\"\n",
    "parsetreex = get_parsetree(parser, text)\n",
    "parsetreex.pretty_print()\n",
    "simple_find_parallel_sentence7(parsetreex[0])"
   ]
  },
  {
   "cell_type": "markdown",
   "metadata": {},
   "source": [
    "`simple_find_parallel_sentence7()` gives us a splitting function that covers common cases, which is great. However, there are still a large, unknown number of complex sentence structures that it does not cover. We shall have to decide if splitting is important enough that we need to spend more time refining the function. If the common simple cases are all we need to cover, then we can stop spending time refining this and proceed to other aspects/stages of the larger project."
   ]
  },
  {
   "cell_type": "code",
   "execution_count": 183,
   "metadata": {},
   "outputs": [],
   "source": [
    "def test(parser, func, text, pprint=False, expected=None):\n",
    "    print('input:'), \n",
    "    print(text + '\\n>>>')\n",
    "    parsetreex = get_parsetree(parser, text)\n",
    "    if pprint == True:\n",
    "        parsetreex.pretty_print()\n",
    "    \n",
    "    result = func(parsetreex[0])\n",
    "    print('output:') \n",
    "    print(result)\n",
    "    print()\n",
    "    if expected:\n",
    "        if result == expected:\n",
    "            print('PASSING\\n')\n",
    "        else:\n",
    "            print('FAILING\\n')"
   ]
  },
  {
   "cell_type": "code",
   "execution_count": 184,
   "metadata": {},
   "outputs": [
    {
     "name": "stdout",
     "output_type": "stream",
     "text": [
      "input:\n",
      "Bobby is a good father and great friend.\n",
      ">>>\n",
      "NP found.\n",
      "NP and VP found on same level.\n",
      "found NP under VP.\n",
      "found parallel NP\n",
      "new sentences are :\n",
      "[] ['Bobby'] [['is']] ['a', 'good', 'father']\n",
      "[] ['Bobby'] [['is']] ['great', 'friend']\n",
      "\n",
      "output:\n",
      "None\n",
      "\n",
      "input:\n",
      "Bobby is not a good father and great friend.\n",
      ">>>\n",
      "NP found.\n",
      "NP and VP found on same level.\n",
      "found NP under VP.\n",
      "found parallel NP\n",
      "new sentences are :\n",
      "[] ['Bobby'] [['is'], ['not']] ['a', 'good', 'father']\n",
      "[] ['Bobby'] [['is'], ['not']] ['great', 'friend']\n",
      "\n",
      "output:\n",
      "None\n",
      "\n",
      "input:\n",
      "Bobby is very handsome and super smart\n",
      ">>>\n",
      "NP found.\n",
      "NP and VP found on same level.\n",
      "found ADJP under VP.\n",
      "found parallel ADJP\n",
      "new sentences are :\n",
      "[] ['Bobby'] [['is']] ['very', 'handsome']\n",
      "[] ['Bobby'] [['is']] ['super', 'smart']\n",
      "\n",
      "output:\n",
      "None\n",
      "\n",
      "input:\n",
      "Bobby is very handsome and smart\n",
      ">>>\n",
      "NP found.\n",
      "NP and VP found on same level.\n",
      "found ADJP under VP.\n",
      "found parallel ADJP\n",
      "new sentences are :\n",
      "[] ['Bobby'] [['is']] ['handsome']\n",
      "[] ['Bobby'] [['is']] ['smart']\n",
      "\n",
      "output:\n",
      "None\n",
      "\n",
      "input:\n",
      "You are quick to grasp new concepts and equally quick to lose interest in an idea or project once your curiosity has been satisfied.\n",
      ">>>\n",
      "NP found.\n",
      "NP and VP found on same level.\n",
      "found ADJP under VP.\n",
      "found parallel ADJP\n",
      "new sentences are :\n",
      "[] ['You'] [['are']] ['quick', 'to', 'grasp', 'new', 'concepts']\n",
      "[] ['You'] [['are']] ['equally', 'quick', 'to', 'lose', 'interest', 'in', 'an', 'idea', 'or', 'project', 'once', 'your', 'curiosity', 'has', 'been', 'satisfied']\n",
      "\n",
      "output:\n",
      "None\n",
      "\n",
      "input:\n",
      "If you have aries in rising, you are loud and superficial.\n",
      ">>>\n",
      "precondition found.\n",
      "NP found.\n",
      "NP and VP found on same level.\n",
      "found ADJP under VP.\n",
      "found parallel ADJP\n",
      "new sentences are :\n",
      "[['If', 'you', 'have', 'aries', 'in', 'rising']] ['you'] [['are']] ['loud']\n",
      "[['If', 'you', 'have', 'aries', 'in', 'rising']] ['you'] [['are']] ['superficial']\n",
      "\n",
      "output:\n",
      "None\n",
      "\n",
      "input:\n",
      "If you have aries in rising, you tend to be loud and superficial\n",
      ">>>\n",
      "precondition found.\n",
      "NP found.\n",
      "NP and VP found on same level.\n",
      "new sentences are :\n",
      "\n",
      "output:\n",
      "None\n",
      "\n"
     ]
    }
   ],
   "source": [
    "'''\n",
    "TEST CASES - simple\n",
    "'''\n",
    "\n",
    "# parallel NN -> PASS\n",
    "text = \"Bobby is a good father and great friend.\"\n",
    "test(parser, simple_find_parallel_sentence7, text)\n",
    "\n",
    "# parallel \"negative\" NN -> PASS\n",
    "text = \"Bobby is not a good father and great friend.\"\n",
    "test(parser, simple_find_parallel_sentence7, text)\n",
    "\n",
    "# parallel ADJP -> PASS\n",
    "text = \"Bobby is very handsome and super smart\"\n",
    "test(parser, simple_find_parallel_sentence7, text)\n",
    "\n",
    "# parallel ADJP AND JJ -> PASS\n",
    "text = \"Bobby is very handsome and smart\"\n",
    "test(parser, simple_find_parallel_sentence7, text)\n",
    "\n",
    "# parallel VP -> PASS\n",
    "text = \"You are quick to grasp new concepts and equally quick to lose interest in an idea or project once your curiosity has been satisfied.\"\n",
    "test(parser, simple_find_parallel_sentence7, text)\n",
    "\n",
    "\n",
    "'''\n",
    "MORE TEST CASES - with conditional statements.\n",
    "'''\n",
    "\n",
    "# conditional and 2 adjectives -> PASS\n",
    "text = \"If you have aries in rising, you are loud and superficial.\"\n",
    "test(parser, simple_find_parallel_sentence7, text)\n",
    "\n",
    "# conditional and 2 \"nested\" adjectives -> FAIL.\n",
    "text = \"If you have aries in rising, you tend to be loud and superficial\"\n",
    "test(parser, simple_find_parallel_sentence7, text)"
   ]
  },
  {
   "cell_type": "code",
   "execution_count": 173,
   "metadata": {},
   "outputs": [
    {
     "name": "stdout",
     "output_type": "stream",
     "text": [
      "                                  ROOT                                      \n",
      "                                   |                                         \n",
      "                                   S                                        \n",
      "          _________________________|______________________________________   \n",
      "         |                |   |    |             VP                       | \n",
      "         |                |   |    |     ________|____                    |  \n",
      "        SBAR              |   |    |    |             S                   | \n",
      "  _______|____            |   |    |    |             |                   |  \n",
      " |            S           |   |    |    |             VP                  | \n",
      " |    ________|___        |   |    |    |     ________|____               |  \n",
      " |   |            VP      |   |    |    |    |             VP             | \n",
      " |   |         ___|___    |   |    |    |    |    _________|___           |  \n",
      " |   NP       |       NP  |  ADVP  NP   |    |   |            ADJP        | \n",
      " |   |        |       |   |   |    |    |    |   |     ________|_____     |  \n",
      " IN PRP      VBP      DT  ,   RB  PRP  VBP   TO  VB   JJ       CC    JJ   . \n",
      " |   |        |       |   |   |    |    |    |   |    |        |     |    |  \n",
      " if you      are      A   ,  then you  tend  to  be funny     and  smart  . \n",
      "\n",
      "input :\n",
      " if you are A, then you tend to be funny and smart. \n",
      ">>>\n",
      "precondition found.\n",
      "NP found.\n",
      "NP and VP found on same level.\n",
      "new sentences are :\n",
      "\n",
      "output :\n",
      "None\n"
     ]
    }
   ],
   "source": [
    "text = 'if you are A, then you tend to be funny and smart.'\n",
    "tmp_t = get_parsetree(parser, text)\n",
    "tmp_t.pretty_print()\n",
    "test(parser, simple_find_parallel_sentence7, text)"
   ]
  },
  {
   "cell_type": "code",
   "execution_count": 174,
   "metadata": {},
   "outputs": [],
   "source": [
    "def find_sub(t):\n",
    "    \"\"\"\n",
    "    :param t: an nltk.tree.Tree\n",
    "    :returns: list. a list representing parallel subcomponents.\n",
    "    \"\"\"\n",
    "    commons = []\n",
    "    subcomponents = []\n",
    "    \n",
    "    if t.height() > 2 and 'CC' in get_child_labels(t):\n",
    "        # when height == 2, we only have leaves (string type) left in the tree.\n",
    "        for child in t:\n",
    "            if child.label() != 'CC':\n",
    "                subcomponents.append(child.leaves())\n",
    "    else:\n",
    "        for child in t:\n",
    "            if type(child) == Tree:\n",
    "                results = find_sub(child)\n",
    "                commons.extend(results[0])\n",
    "                subcomponents.extend(results[1])\n",
    "                #print(subcomponents)\n",
    "            else:\n",
    "                # a leaf (a string type)\n",
    "                commons.append(child)\n",
    "                \n",
    "    return commons, subcomponents"
   ]
  },
  {
   "cell_type": "code",
   "execution_count": 178,
   "metadata": {},
   "outputs": [],
   "source": [
    "def simple_find_parallel_sentence8(t):\n",
    "    \"\"\"\n",
    "    From a sentence, finds, generates and prints parallel sub-sentences describing the same subject, if they exist.\n",
    "\n",
    "        e.g. \"You grasp concepts easily and may become impatient with those who don't learn as quickly.\"\n",
    "        can be broken down into \"You grasp concepts easily\" and \"You may become impatient with those who don't learn as quickly.\"\n",
    "    \n",
    "    Looks for parallel noun phrases (NP, NN), parallel verbs (VP, V) and parallel adjectives (ADJP, JJ).\n",
    "    Parallel phrases means these phrases are children of the same node.\n",
    "    Also takes parallel sentences (S) into account.\n",
    "    Also takes conditions (\"if\" or SBAR) into account.\n",
    "    \n",
    "    This iteration attempts to use a recursive approach to find the parallel parts once it finds the first \n",
    "    VP co-occuring (parallel) with an NP.\n",
    "    \n",
    "    :param t: an nltk.tree.Tree\n",
    "    :returns: list of simpler sentences.\n",
    "    \"\"\"\n",
    "    preconditions = []  # conditions. e.g. \"if you are x\".\n",
    "    qualifiers = []  # phrases that qualify the parallel VPs.\n",
    "    subsentences = []\n",
    "    final_sents = []\n",
    "    \n",
    "    labels = get_child_labels(t)\n",
    "    \n",
    "    for child in t:\n",
    "        if child.label() == 'SBAR':\n",
    "            #print('precondition found.')\n",
    "            preconditions.extend(child.leaves())\n",
    "    \n",
    "    if labels.count('S') >= 2:\n",
    "        #print(\">=2 'S' found on same level.\")\n",
    "        for child in t:\n",
    "            if child.label() == 'S':\n",
    "                subsentences.append(child.leaves())\n",
    "        #print('new sentences are :')\n",
    "        for sent in subsentences:\n",
    "            final_sent_arr = []\n",
    "            final_sent_arr.extend(preconditions)\n",
    "            #final_sent_arr.extend(t[np_label].leaves()) # skipped\n",
    "            final_sent_arr.extend(qualifiers)\n",
    "            final_sent_arr.extend(sent)\n",
    "            final_sent = \" \".join(final_sent_arr) + '.'\n",
    "            final_sents.append(final_sent)\n",
    "    \n",
    "    elif 'NP' in labels:\n",
    "        np_label = labels.index('NP')\n",
    "        #print('NP found.')\n",
    "        \n",
    "        if 'VP' in labels:\n",
    "            #print('NP and VP found on same level (under same node).')\n",
    "            vp_index = labels.index('VP')\n",
    "            labels2 = get_child_labels(t[vp_index])\n",
    "            \n",
    "            # if a child of the first VP is not VP, NP or ADJP, it is likely some qualifier (e.g. a VBP)?  \n",
    "            #for child in t[vp_index]:\n",
    "            #    if child.label() not in ['VP', 'NP', 'ADJP', 'S']:\n",
    "            #        qualifiers.append(child.leaves())\n",
    "            \n",
    "            # check if 'CC' exists; todo: refactor?.\n",
    "            leaves_pos = t[vp_index].pos()\n",
    "            cc_exists = False\n",
    "            for pair in leaves_pos:\n",
    "                if pair[1] in ['CC']:\n",
    "                    cc_exists = True\n",
    "                    break\n",
    "                else: \n",
    "                    cc_exists == False\n",
    "            \n",
    "            # recurse until 'CC' child is found or leaf is reached, then return and accumulate any parallel parts found.  \n",
    "            if cc_exists:\n",
    "                results = find_sub(t[vp_index])\n",
    "                qualifiers.extend(results[0])\n",
    "                subsentences.extend(results[1])\n",
    "\n",
    "                #print('new sentences are :')\n",
    "                for sent in subsentences:\n",
    "                    final_sent_arr = []\n",
    "                    final_sent_arr.extend(preconditions)\n",
    "                    final_sent_arr.extend(t[np_label].leaves())\n",
    "                    final_sent_arr.extend(qualifiers)\n",
    "                    final_sent_arr.extend(sent)\n",
    "                    final_sent = \" \".join(final_sent_arr) + '.'\n",
    "                    final_sents.append(final_sent)\n",
    "                    #print(final_sent)\n",
    "                #print()\n",
    "                return final_sents\n",
    "            else:\n",
    "                Exception('Sentence not decomposable.')\n",
    "        \n",
    "    else:\n",
    "        raise Exception('Sentence structure not covered by function.')"
   ]
  },
  {
   "cell_type": "code",
   "execution_count": 185,
   "metadata": {},
   "outputs": [
    {
     "name": "stdout",
     "output_type": "stream",
     "text": [
      "input:\n",
      "if you are A, then you tend to be very funny and highly intelligent.\n",
      ">>>\n",
      "output:\n",
      "['if you are A you tend to be very funny.', 'if you are A you tend to be highly intelligent.']\n",
      "\n"
     ]
    }
   ],
   "source": [
    "text = 'if you are A, then you tend to be very funny and highly intelligent.'\n",
    "test(parser, simple_find_parallel_sentence8, text)"
   ]
  },
  {
   "cell_type": "code",
   "execution_count": 181,
   "metadata": {},
   "outputs": [
    {
     "name": "stdout",
     "output_type": "stream",
     "text": [
      "input:\n",
      " if you are A and B, then you tend to be very funny and highly intelligent. \n",
      ">>>\n",
      "output:\n",
      "['if you are A and B , then you tend to be very funny.', 'if you are A and B , then you tend to be highly intelligent.']\n"
     ]
    }
   ],
   "source": [
    "text = 'if you are A and B, then you tend to be very funny and highly intelligent.'\n",
    "test(parser, simple_find_parallel_sentence8, text)"
   ]
  },
  {
   "cell_type": "code",
   "execution_count": 182,
   "metadata": {},
   "outputs": [
    {
     "name": "stdout",
     "output_type": "stream",
     "text": [
      "input:\n",
      " Bobby is a good father and great friend. \n",
      ">>>\n",
      "output:\n",
      "['Bobby is a good father.', 'Bobby is great friend.']\n",
      "input:\n",
      " Bobby is not a good father and great friend. \n",
      ">>>\n",
      "output:\n",
      "['Bobby is not a good father.', 'Bobby is not great friend.']\n",
      "input:\n",
      " Bobby is very handsome and super smart \n",
      ">>>\n",
      "output:\n",
      "['Bobby is very handsome.', 'Bobby is super smart.']\n",
      "input:\n",
      " Bobby is very handsome and smart \n",
      ">>>\n",
      "      ROOT                        \n",
      "       |                           \n",
      "       S                          \n",
      "   ____|____                       \n",
      "  |         VP                    \n",
      "  |     ____|______                \n",
      "  NP   |          ADJP            \n",
      "  |    |     ______|___________    \n",
      " NNP  VBZ   RB     JJ     CC   JJ \n",
      "  |    |    |      |      |    |   \n",
      "Bobby  is  very handsome and smart\n",
      "\n",
      "output:\n",
      "['Bobby is very.', 'Bobby is handsome.', 'Bobby is smart.']\n",
      "input:\n",
      " You are quick to grasp new concepts and equally quick to lose interest in an idea or project once your curiosity has been satisfied. \n",
      ">>>\n",
      "output:\n",
      "['You are quick to grasp new concepts.', 'You are equally quick to lose interest in an idea or project once your curiosity has been satisfied.']\n",
      "input:\n",
      " If you have aries in rising, you are loud and superficial. \n",
      ">>>\n",
      "output:\n",
      "['If you have aries in rising you are loud.', 'If you have aries in rising you are superficial.']\n",
      "input:\n",
      " If you have aries in rising, you tend to be loud and superficial \n",
      ">>>\n",
      "output:\n",
      "['If you have aries in rising you tend to be loud.', 'If you have aries in rising you tend to be superficial.']\n"
     ]
    }
   ],
   "source": [
    "'''\n",
    "TEST CASES - simple\n",
    "'''\n",
    "\n",
    "# parallel NN -> PASS\n",
    "text = \"Bobby is a good father and great friend.\"\n",
    "test(parser, simple_find_parallel_sentence8, text)\n",
    "\n",
    "# parallel \"negative\" NN -> PASS\n",
    "text = \"Bobby is not a good father and great friend.\"\n",
    "test(parser, simple_find_parallel_sentence8, text)\n",
    "\n",
    "# parallel ADJP -> PASS\n",
    "text = \"Bobby is very handsome and super smart\"\n",
    "test(parser, simple_find_parallel_sentence8, text)\n",
    "\n",
    "# parallel ADJP AND JJ -> FAIL\n",
    "text = \"Bobby is very handsome and smart\"\n",
    "test(parser, simple_find_parallel_sentence8, text, pprint=True)\n",
    "\n",
    "# parallel VP -> PASS\n",
    "text = \"You are quick to grasp new concepts and equally quick to lose interest in an idea or project once your curiosity has been satisfied.\"\n",
    "test(parser, simple_find_parallel_sentence8, text)\n",
    "\n",
    "\n",
    "'''\n",
    "MORE TEST CASES - with conditional statements.\n",
    "'''\n",
    "\n",
    "# conditional and 2 adjectives -> PASS\n",
    "text = \"If you have aries in rising, you are loud and superficial.\"\n",
    "test(parser, simple_find_parallel_sentence8, text)\n",
    "\n",
    "# conditional and 2 \"nested\" adjectives -> PASS.\n",
    "text = \"If you have aries in rising, you tend to be loud and superficial\"\n",
    "test(parser, simple_find_parallel_sentence8, text)"
   ]
  },
  {
   "cell_type": "code",
   "execution_count": 146,
   "metadata": {},
   "outputs": [
    {
     "name": "stdout",
     "output_type": "stream",
     "text": [
      "input :  You strive for perfection and can be quite the person to live with or to be around because your standards for yourself and others are so high. \n",
      ">>>\n",
      "NP found.\n",
      "NP and VP found on same level (under same node).\n",
      "new sentences are :\n",
      "[] ['You'] [] ['strive', 'for', 'perfection']\n",
      "[] ['You'] [] ['can', 'be', 'quite', 'the', 'person', 'to', 'live', 'with', 'or', 'to', 'be', 'around', 'because', 'your', 'standards', 'for', 'yourself', 'and', 'others', 'are', 'so', 'high']\n",
      "\n"
     ]
    }
   ],
   "source": [
    "# test\n",
    "text = \"You strive for perfection and can be quite the person to live with or to be around because your standards for yourself and others are so high.\"\n",
    "test(parser, simple_find_parallel_sentence8, text)"
   ]
  },
  {
   "cell_type": "code",
   "execution_count": 147,
   "metadata": {},
   "outputs": [
    {
     "name": "stdout",
     "output_type": "stream",
     "text": [
      "input :  You take slights very personally and though you may forgive a mistake by a friend or loved one, you never forget it. \n",
      ">>>\n",
      ">=2 'S' found on same level.\n",
      "new sentences are :\n",
      "[] ['You', 'take', 'slights', 'very', 'personally']\n",
      "[] ['though', 'you', 'may', 'forgive', 'a', 'mistake', 'by', 'a', 'friend', 'or', 'loved', 'one', ',', 'you', 'never', 'forget', 'it']\n"
     ]
    }
   ],
   "source": [
    "# test\n",
    "text = \"You take slights very personally and though you may forgive a mistake by a friend or loved one, you never forget it.\"\n",
    "test(parser, simple_find_parallel_sentence8, text)"
   ]
  },
  {
   "cell_type": "code",
   "execution_count": 148,
   "metadata": {},
   "outputs": [
    {
     "name": "stdout",
     "output_type": "stream",
     "text": [
      "input :  Your senses and emotions are quite strong and it would be wise for you to listen to your intuitive side as you can be quite psychic. \n",
      ">>>\n",
      ">=2 'S' found on same level.\n",
      "new sentences are :\n",
      "[] ['Your', 'senses', 'and', 'emotions', 'are', 'quite', 'strong']\n",
      "[] ['it', 'would', 'be', 'wise', 'for', 'you', 'to', 'listen', 'to', 'your', 'intuitive', 'side', 'as', 'you', 'can', 'be', 'quite', 'psychic']\n"
     ]
    }
   ],
   "source": [
    "# test\n",
    "text = \"Your senses and emotions are quite strong and it would be wise for you to listen to your intuitive side as you can be quite psychic.\"\n",
    "test(parser, simple_find_parallel_sentence8, text)"
   ]
  },
  {
   "cell_type": "code",
   "execution_count": null,
   "metadata": {},
   "outputs": [],
   "source": []
  }
 ],
 "metadata": {
  "kernelspec": {
   "display_name": "fyp",
   "language": "python",
   "name": "fyp"
  },
  "language_info": {
   "codemirror_mode": {
    "name": "ipython",
    "version": 3
   },
   "file_extension": ".py",
   "mimetype": "text/x-python",
   "name": "python",
   "nbconvert_exporter": "python",
   "pygments_lexer": "ipython3",
   "version": "3.7.4"
  }
 },
 "nbformat": 4,
 "nbformat_minor": 4
}
