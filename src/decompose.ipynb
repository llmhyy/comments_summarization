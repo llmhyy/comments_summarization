{
 "cells": [
  {
   "cell_type": "markdown",
   "metadata": {},
   "source": [
    "This notebook demonstrates usage of different nltk Tree methods"
   ]
  },
  {
   "cell_type": "code",
   "execution_count": 1,
   "metadata": {},
   "outputs": [],
   "source": [
    "from nltk.parse import corenlp"
   ]
  },
  {
   "cell_type": "code",
   "execution_count": 2,
   "metadata": {},
   "outputs": [],
   "source": [
    "from nltk.tree import Tree"
   ]
  },
  {
   "cell_type": "code",
   "execution_count": 3,
   "metadata": {},
   "outputs": [
    {
     "name": "stdout",
     "output_type": "stream",
     "text": [
      "(1 2 (3 4) 5)\n"
     ]
    }
   ],
   "source": [
    "t = Tree(1, [2, Tree(3, [4]), 5])\n",
    "print(t)"
   ]
  },
  {
   "cell_type": "code",
   "execution_count": 4,
   "metadata": {},
   "outputs": [
    {
     "name": "stdout",
     "output_type": "stream",
     "text": [
      "(S (NP I) (VP (V saw) (NP him)))\n"
     ]
    }
   ],
   "source": [
    "s = Tree.fromstring(\"(S (NP I) (VP (V saw) (NP him)))\")\n",
    "print(s)"
   ]
  },
  {
   "cell_type": "code",
   "execution_count": 5,
   "metadata": {},
   "outputs": [
    {
     "name": "stdout",
     "output_type": "stream",
     "text": [
      "     S         \n",
      "  ___|___       \n",
      " |       VP    \n",
      " |    ___|___   \n",
      " NP  V       NP\n",
      " |   |       |  \n",
      " I  saw     him\n",
      "\n"
     ]
    }
   ],
   "source": [
    "s.pretty_print()"
   ]
  },
  {
   "cell_type": "code",
   "execution_count": 6,
   "metadata": {},
   "outputs": [],
   "source": [
    "output = \"(ROOT (S(NP (PRP You))(VP(VP (VBP grasp)(NP (NNS concepts))(ADVP (RB easily)))(CC and)(VP (MD may)(VP (VB become)(ADJP (JJ impatient))(PP (IN with)(NP(NP (DT those))(SBAR(WHNP (WP who))(S(VP (VBP do) (RB n't)(VP (VB learn)(ADVP (RB as) (RB quickly)))))))))))(. .)))\""
   ]
  },
  {
   "cell_type": "code",
   "execution_count": 7,
   "metadata": {},
   "outputs": [
    {
     "name": "stdout",
     "output_type": "stream",
     "text": [
      "(ROOT\n",
      "  (S\n",
      "    (NP (PRP You))\n",
      "    (VP\n",
      "      (VP (VBP grasp) (NP (NNS concepts)) (ADVP (RB easily)))\n",
      "      (CC and)\n",
      "      (VP\n",
      "        (MD may)\n",
      "        (VP\n",
      "          (VB become)\n",
      "          (ADJP (JJ impatient))\n",
      "          (PP\n",
      "            (IN with)\n",
      "            (NP\n",
      "              (NP (DT those))\n",
      "              (SBAR\n",
      "                (WHNP (WP who))\n",
      "                (S\n",
      "                  (VP\n",
      "                    (VBP do)\n",
      "                    (RB n't)\n",
      "                    (VP (VB learn) (ADVP (RB as) (RB quickly)))))))))))\n",
      "    (. .)))\n"
     ]
    }
   ],
   "source": [
    "parsetree = Tree.fromstring(output)\n",
    "print(parsetree)"
   ]
  },
  {
   "cell_type": "code",
   "execution_count": 8,
   "metadata": {},
   "outputs": [
    {
     "name": "stdout",
     "output_type": "stream",
     "text": [
      "                                                   ROOT                                               \n",
      "                                                    |                                                  \n",
      "                                                    S                                                 \n",
      "  __________________________________________________|_______________________________________________   \n",
      " |                         VP                                                                       | \n",
      " |            _____________|________                                                                |  \n",
      " |           |             |        VP                                                              | \n",
      " |           |             |    ____|________                                                       |  \n",
      " |           |             |   |             VP                                                     | \n",
      " |           |             |   |     ________|____________                                          |  \n",
      " |           |             |   |    |        |            PP                                        | \n",
      " |           |             |   |    |        |       _____|____                                     |  \n",
      " |           |             |   |    |        |      |          NP                                   | \n",
      " |           |             |   |    |        |      |      ____|________                            |  \n",
      " |           |             |   |    |        |      |     |            SBAR                         | \n",
      " |           |             |   |    |        |      |     |     ________|_____                      |  \n",
      " |           |             |   |    |        |      |     |    |              S                     | \n",
      " |           |             |   |    |        |      |     |    |              |                     |  \n",
      " |           |             |   |    |        |      |     |    |              VP                    | \n",
      " |           |             |   |    |        |      |     |    |     _________|____                 |  \n",
      " |           VP            |   |    |        |      |     |    |    |   |          VP               | \n",
      " |     ______|_______      |   |    |        |      |     |    |    |   |      ____|___             |  \n",
      " NP   |      NP     ADVP   |   |    |       ADJP    |     NP  WHNP  |   |     |       ADVP          | \n",
      " |    |      |       |     |   |    |        |      |     |    |    |   |     |     ___|______      |  \n",
      "PRP  VBP    NNS      RB    CC  MD   VB       JJ     IN    DT   WP  VBP  RB    VB   RB         RB    . \n",
      " |    |      |       |     |   |    |        |      |     |    |    |   |     |    |          |     |  \n",
      "You grasp concepts easily and may become impatient with those who   do n't  learn  as      quickly  . \n",
      "\n"
     ]
    }
   ],
   "source": [
    "parsetree.pretty_print()"
   ]
  },
  {
   "cell_type": "code",
   "execution_count": 9,
   "metadata": {},
   "outputs": [
    {
     "name": "stdout",
     "output_type": "stream",
     "text": [
      "       PP                                      \n",
      "  _____|____                                    \n",
      " |          NP                                 \n",
      " |      ____|________                           \n",
      " |     |            SBAR                       \n",
      " |     |     ________|_____                     \n",
      " |     |    |              S                   \n",
      " |     |    |              |                    \n",
      " |     |    |              VP                  \n",
      " |     |    |     _________|____                \n",
      " |     |    |    |   |          VP             \n",
      " |     |    |    |   |      ____|___            \n",
      " |     NP  WHNP  |   |     |       ADVP        \n",
      " |     |    |    |   |     |     ___|______     \n",
      " IN    DT   WP  VBP  RB    VB   RB         RB  \n",
      " |     |    |    |   |     |    |          |    \n",
      "with those who   do n't  learn  as      quickly\n",
      "\n"
     ]
    }
   ],
   "source": [
    "# access children (which are also trees)\n",
    "parsetree[0][1][2][1][2].pretty_print()"
   ]
  },
  {
   "cell_type": "code",
   "execution_count": 10,
   "metadata": {},
   "outputs": [
    {
     "data": {
      "text/plain": [
       "'PP'"
      ]
     },
     "execution_count": 10,
     "metadata": {},
     "output_type": "execute_result"
    }
   ],
   "source": [
    "parsetree[0][1][2][1][2].label()"
   ]
  },
  {
   "cell_type": "code",
   "execution_count": 11,
   "metadata": {},
   "outputs": [
    {
     "data": {
      "text/plain": [
       "[ROOT -> S,\n",
       " S -> NP VP .,\n",
       " NP -> PRP,\n",
       " PRP -> 'You',\n",
       " VP -> VP CC VP,\n",
       " VP -> VBP NP ADVP,\n",
       " VBP -> 'grasp',\n",
       " NP -> NNS,\n",
       " NNS -> 'concepts',\n",
       " ADVP -> RB,\n",
       " RB -> 'easily',\n",
       " CC -> 'and',\n",
       " VP -> MD VP,\n",
       " MD -> 'may',\n",
       " VP -> VB ADJP PP,\n",
       " VB -> 'become',\n",
       " ADJP -> JJ,\n",
       " JJ -> 'impatient',\n",
       " PP -> IN NP,\n",
       " IN -> 'with',\n",
       " NP -> NP SBAR,\n",
       " NP -> DT,\n",
       " DT -> 'those',\n",
       " SBAR -> WHNP S,\n",
       " WHNP -> WP,\n",
       " WP -> 'who',\n",
       " S -> VP,\n",
       " VP -> VBP RB VP,\n",
       " VBP -> 'do',\n",
       " RB -> \"n't\",\n",
       " VP -> VB ADVP,\n",
       " VB -> 'learn',\n",
       " ADVP -> RB RB,\n",
       " RB -> 'as',\n",
       " RB -> 'quickly',\n",
       " . -> '.']"
      ]
     },
     "execution_count": 11,
     "metadata": {},
     "output_type": "execute_result"
    }
   ],
   "source": [
    "parsetree.productions()"
   ]
  },
  {
   "cell_type": "code",
   "execution_count": 12,
   "metadata": {},
   "outputs": [],
   "source": [
    "def get_child_labels(t):\n",
    "    \"\"\"\n",
    "    :param t: an nltk.tree.Tree\n",
    "    :returns: list of labels of the children.\n",
    "    \"\"\"\n",
    "    labels = []\n",
    "    for child in t:\n",
    "        labels.append(child.label())\n",
    "        \n",
    "    return labels"
   ]
  },
  {
   "cell_type": "code",
   "execution_count": 13,
   "metadata": {},
   "outputs": [],
   "source": [
    "def simple_find_parallel_sentence(t):\n",
    "    \"\"\"\n",
    "    From a sentence, finds two sub-sentences describing the same subject in parallel.\n",
    "\n",
    "        e.g. \"You grasp concepts easily and may become impatient with those who don't learn as quickly.\"\n",
    "        can be broken down into \"You grasp concepts easily\" and \"You may become impatient with those who don't learn as quickly.\"\n",
    "\n",
    "    :param t: an nltk.tree.Tree\n",
    "    :returns: 2-ple of nltk.tree.Tree\n",
    "    \"\"\"\n",
    "    subsentences = []\n",
    "    labels = get_child_labels(t)\n",
    "    \n",
    "    if 'NP' in labels:\n",
    "        np_label = labels.index('NP')\n",
    "        print('NP found.')\n",
    "        if 'VP' in labels:\n",
    "            index = labels.index('VP')\n",
    "            labels2 = get_child_labels(t[index])\n",
    "            if labels2.count('VP') >= 2:\n",
    "                print('found parallel VP subssentences.')\n",
    "                for child in t[index]:\n",
    "                    if child.label() == 'VP':\n",
    "                        subsentences.append(child.leaves())\n",
    "        elif 'ADJP' in labels:\n",
    "            index = labels.index('ADJP')\n",
    "            labels2 = get_child_labels(t[index])\n",
    "            if labels2.count('ADJP') >= 2:\n",
    "                print('found parallel ADJP sub-sentences.')\n",
    "                for child in t[index]:\n",
    "                    if child.label() == 'ADJP':\n",
    "                        subsentences.append(child.leaves())\n",
    "        print('new sentences are :')\n",
    "        for sent in subsentences:\n",
    "            print(t[np_label].leaves(), sent)\n",
    "            \n",
    "        # todo: return n new trees representing the n new sentences or return n new string sentences.\n",
    "        \n",
    "    else:\n",
    "        print('Sentence may be invalid.')\n",
    "    "
   ]
  },
  {
   "cell_type": "code",
   "execution_count": 14,
   "metadata": {},
   "outputs": [
    {
     "name": "stdout",
     "output_type": "stream",
     "text": [
      "NP found.\n",
      "found parallel VP subssentences.\n",
      "new sentences are :\n",
      "['You'] ['grasp', 'concepts', 'easily']\n",
      "['You'] ['may', 'become', 'impatient', 'with', 'those', 'who', 'do', \"n't\", 'learn', 'as', 'quickly']\n"
     ]
    }
   ],
   "source": [
    "simple_find_parallel_sentence(parsetree[0])"
   ]
  },
  {
   "cell_type": "code",
   "execution_count": 15,
   "metadata": {},
   "outputs": [],
   "source": [
    "parser = corenlp.CoreNLPParser(url='http://localhost:9000')"
   ]
  },
  {
   "cell_type": "code",
   "execution_count": 16,
   "metadata": {},
   "outputs": [],
   "source": [
    "parsed = parser.raw_parse('The quick brown fox jumps over the lazy dog.')"
   ]
  },
  {
   "cell_type": "code",
   "execution_count": 17,
   "metadata": {},
   "outputs": [
    {
     "data": {
      "text/plain": [
       "list_iterator"
      ]
     },
     "execution_count": 17,
     "metadata": {},
     "output_type": "execute_result"
    }
   ],
   "source": [
    "type(parsed)"
   ]
  },
  {
   "cell_type": "code",
   "execution_count": 18,
   "metadata": {},
   "outputs": [],
   "source": [
    "collected = []\n",
    "for i in parsed:\n",
    "    collected.append(i)"
   ]
  },
  {
   "cell_type": "code",
   "execution_count": 19,
   "metadata": {},
   "outputs": [
    {
     "name": "stdout",
     "output_type": "stream",
     "text": [
      "[Tree('ROOT', [Tree('S', [Tree('NP', [Tree('DT', ['The']), Tree('JJ', ['quick']), Tree('JJ', ['brown']), Tree('NN', ['fox'])]), Tree('VP', [Tree('VBZ', ['jumps']), Tree('PP', [Tree('IN', ['over']), Tree('NP', [Tree('DT', ['the']), Tree('JJ', ['lazy']), Tree('NN', ['dog'])])])]), Tree('.', ['.'])])])]\n"
     ]
    }
   ],
   "source": [
    "print(collected)"
   ]
  },
  {
   "cell_type": "code",
   "execution_count": 20,
   "metadata": {},
   "outputs": [
    {
     "name": "stdout",
     "output_type": "stream",
     "text": [
      "                     ROOT                          \n",
      "                      |                             \n",
      "                      S                            \n",
      "       _______________|__________________________   \n",
      "      |                         VP               | \n",
      "      |                _________|___             |  \n",
      "      |               |             PP           | \n",
      "      |               |     ________|___         |  \n",
      "      NP              |    |            NP       | \n",
      "  ____|__________     |    |     _______|____    |  \n",
      " DT   JJ    JJ   NN  VBZ   IN   DT      JJ   NN  . \n",
      " |    |     |    |    |    |    |       |    |   |  \n",
      "The quick brown fox jumps over the     lazy dog  . \n",
      "\n"
     ]
    }
   ],
   "source": [
    "collected[0].pretty_print()"
   ]
  },
  {
   "cell_type": "code",
   "execution_count": 21,
   "metadata": {},
   "outputs": [
    {
     "name": "stdout",
     "output_type": "stream",
     "text": [
      "            ROOT                            \n",
      "             |                               \n",
      "             S                              \n",
      "  ___________|____________________________   \n",
      " |                   VP                   | \n",
      " |    _______________|___                 |  \n",
      " |   |                  ADJP              | \n",
      " |   |        ___________|________        |  \n",
      " NP  |      ADJP         |       ADJP     | \n",
      " |   |       |           |        |       |  \n",
      "PRP VBP     VBG          CC       JJ      . \n",
      " |   |       |           |        |       |  \n",
      "You are hardworking     and  intelligent  . \n",
      "\n"
     ]
    }
   ],
   "source": [
    "parsed2 = parser.raw_parse('You are hardworking and intelligent.')\n",
    "collected = []\n",
    "for i in parsed2:\n",
    "    collected.append(i)\n",
    "parsetree2 = collected[0]\n",
    "parsetree2.pretty_print()"
   ]
  },
  {
   "cell_type": "code",
   "execution_count": 22,
   "metadata": {},
   "outputs": [
    {
     "name": "stdout",
     "output_type": "stream",
     "text": [
      "NP found.\n",
      "new sentences are :\n"
     ]
    }
   ],
   "source": [
    "simple_find_parallel_sentence(parsetree2[0])"
   ]
  },
  {
   "cell_type": "markdown",
   "metadata": {},
   "source": [
    "so 'You are hardworking and intelligent.' is a different syntactic structure from 'you grasp concepts easily and may become impatient with those who don't learn as quickly.'. This means i need to rewite my simple_find_parallel_sentence() function."
   ]
  },
  {
   "cell_type": "code",
   "execution_count": 23,
   "metadata": {},
   "outputs": [],
   "source": [
    "def simple_find_parallel_sentence2(t):\n",
    "    \"\"\"\n",
    "    From a sentence, finds two sub-sentences describing the same subject in parallel.\n",
    "\n",
    "        e.g. \"You grasp concepts easily and may become impatient with those who don't learn as quickly.\"\n",
    "        can be broken down into \"You grasp concepts easily\" and \"You may become impatient with those who don't learn as quickly.\"\n",
    "\n",
    "    :param t: an nltk.tree.Tree\n",
    "    :returns: 2-ple of nltk.tree.Tree\n",
    "    \"\"\"\n",
    "    subsentences = []\n",
    "    labels = get_child_labels(t)\n",
    "    \n",
    "    if 'NP' in labels:\n",
    "        np_label = labels.index('NP')\n",
    "        print('NP found.')\n",
    "        if 'VP' in labels:\n",
    "            print('NP and VP found on same level.')\n",
    "            vp_index = labels.index('VP')\n",
    "            labels2 = get_child_labels(t[vp_index])\n",
    "            if labels2.count('VP') >= 2:\n",
    "                '''\n",
    "                e.g.\n",
    "                \n",
    "                '''\n",
    "                print('found parallel VP.')\n",
    "                for child in t[vp_index]:\n",
    "                    if child.label() == 'VP':\n",
    "                        subsentences.append(child.leaves())\n",
    "            elif labels2.count('ADJP') == 1: \n",
    "                print('found ADJP under VP.')\n",
    "                adjp_index = labels2.index('ADJP')\n",
    "                labels3 = get_child_labels(t[vp_index][adjp_index])\n",
    "                if labels3.count('ADJP') >= 2:\n",
    "                    '''\n",
    "                    e.g.\n",
    "                                ROOT                            \n",
    "                                 |                               \n",
    "                                 S                              \n",
    "                      ___________|____________________________   \n",
    "                     |                   VP                   | \n",
    "                     |    _______________|___                 |  \n",
    "                     |   |                  ADJP              | \n",
    "                     |   |        ___________|________        |  \n",
    "                     NP  |      ADJP         |       ADJP     | \n",
    "                     |   |       |           |        |       |  \n",
    "                    PRP VBP     VBG          CC       JJ      . \n",
    "                     |   |       |           |        |       |  \n",
    "                    You are hardworking     and  intelligent  . \n",
    "                    '''\n",
    "                    print('found parallel ADJP')\n",
    "                    for child in t[vp_index][adjp_index]:\n",
    "                        if child.label() == 'ADJP':\n",
    "                            subsentences.append(child.leaves())\n",
    "\n",
    "        elif 'ADJP' in labels:\n",
    "            index = labels.index('ADJP')\n",
    "            labels2 = get_child_labels(t[index])\n",
    "            if labels2.count('ADJP') >= 2:\n",
    "                print('found parallel ADJP.')\n",
    "                for child in t[index]:\n",
    "                    if child.label() == 'ADJP':\n",
    "                        subsentences.append(child.leaves())\n",
    "        print('new sentences are :')\n",
    "        for sent in subsentences:\n",
    "            print(t[np_label].leaves(), sent)\n",
    "            \n",
    "        # todo: return n new trees representing the n new sentences or return n new string sentences.\n",
    "        # todo: Rewrite code to fit more general cases. Right now, the logic is very 'hard-coded' and 'brute-force'.\n",
    "        \n",
    "    else:\n",
    "        print('Sentence may be invalid.')\n",
    "    "
   ]
  },
  {
   "cell_type": "code",
   "execution_count": 24,
   "metadata": {},
   "outputs": [
    {
     "name": "stdout",
     "output_type": "stream",
     "text": [
      "NP found.\n",
      "NP and VP found on same level.\n",
      "found ADJP under VP.\n",
      "found parallel ADJP\n",
      "new sentences are :\n",
      "['You'] ['hardworking']\n",
      "['You'] ['intelligent']\n"
     ]
    }
   ],
   "source": [
    "simple_find_parallel_sentence2(parsetree2[0])"
   ]
  },
  {
   "cell_type": "markdown",
   "metadata": {},
   "source": [
    "try another potentially erroneous parse tree..."
   ]
  },
  {
   "cell_type": "code",
   "execution_count": 25,
   "metadata": {},
   "outputs": [
    {
     "name": "stdout",
     "output_type": "stream",
     "text": [
      "                     ROOT                       \n",
      "                      |                          \n",
      "                      S                         \n",
      "  ____________________|_______________________   \n",
      " |       VP                                   | \n",
      " |    ___|____________                        |  \n",
      " |   |               ADJP                     | \n",
      " |   |        ________|_______________        |  \n",
      " NP  |      ADJP              |      ADJP     | \n",
      " |   |    ___|________        |       |       |  \n",
      "PRP VBP  RB          VBG      CC      JJ      . \n",
      " |   |   |            |       |       |       |  \n",
      "You are not      hardworking and intelligent  . \n",
      "\n"
     ]
    }
   ],
   "source": [
    "parsed3 = parser.raw_parse('You are not hardworking and intelligent.')\n",
    "collected = []\n",
    "for i in parsed3:\n",
    "    collected.append(i)\n",
    "parsetree3 = collected[0]\n",
    "parsetree3.pretty_print()"
   ]
  },
  {
   "cell_type": "code",
   "execution_count": 26,
   "metadata": {},
   "outputs": [
    {
     "name": "stdout",
     "output_type": "stream",
     "text": [
      "NP found.\n",
      "NP and VP found on same level.\n",
      "found ADJP under VP.\n",
      "found parallel ADJP\n",
      "new sentences are :\n",
      "['You'] ['not', 'hardworking']\n",
      "['You'] ['intelligent']\n"
     ]
    }
   ],
   "source": [
    "simple_find_parallel_sentence2(parsetree3[0])"
   ]
  },
  {
   "cell_type": "markdown",
   "metadata": {},
   "source": [
    "The above sentence illustrates simple sentence ambiguity. The intended meaning of the sentence is 'you are not hardworking' and 'you are not inteligent'. This is a limitation of the parser. My sentence splitting code depends on the correctness of the parser. For now though, simple non-ambiguous cases should work with my sentence splitter. "
   ]
  },
  {
   "cell_type": "code",
   "execution_count": 27,
   "metadata": {},
   "outputs": [],
   "source": [
    "def get_parsetree(parser, sent):\n",
    "    \"\"\"\n",
    "    Return parse tree from sentence.\n",
    "\n",
    "    :param parser: an nltk.parse.corenlp.CoreNLPParser\n",
    "    :returns: nltk.tree.Tree\n",
    "    \"\"\"\n",
    "    parsed = parser.raw_parse(sent)\n",
    "    collected = []\n",
    "    for i in parsed:\n",
    "        collected.append(i)\n",
    "    parsetree = collected[0]\n",
    "    return parsetree"
   ]
  },
  {
   "cell_type": "code",
   "execution_count": 28,
   "metadata": {},
   "outputs": [
    {
     "name": "stdout",
     "output_type": "stream",
     "text": [
      "           ROOT                      \n",
      "            |                         \n",
      "            S                        \n",
      "   _________|______________________   \n",
      "  |              VP                | \n",
      "  |     _________|___              |  \n",
      "  NP   |            ADJP           | \n",
      "  |    |     ________|______       |  \n",
      " NNP  VBZ   JJ       CC     JJ     . \n",
      "  |    |    |        |      |      |  \n",
      "Bobby  is happy     and  carefree  . \n",
      "\n"
     ]
    }
   ],
   "source": [
    "parsetree4 = get_parsetree(parser, 'Bobby is happy and carefree.')\n",
    "parsetree4.pretty_print()"
   ]
  },
  {
   "cell_type": "code",
   "execution_count": 29,
   "metadata": {},
   "outputs": [
    {
     "name": "stdout",
     "output_type": "stream",
     "text": [
      "NP found.\n",
      "NP and VP found on same level.\n",
      "found ADJP under VP.\n",
      "new sentences are :\n"
     ]
    }
   ],
   "source": [
    "simple_find_parallel_sentence2(parsetree4[0])"
   ]
  },
  {
   "cell_type": "markdown",
   "metadata": {},
   "source": [
    "JJ pairs are not accounted for. Need to modify simple_find_parallel_sentence2()."
   ]
  },
  {
   "cell_type": "code",
   "execution_count": 30,
   "metadata": {},
   "outputs": [],
   "source": [
    "def simple_find_parallel_sentence3(t):\n",
    "    \"\"\"\n",
    "    From a sentence, finds two sub-sentences describing the same subject in parallel.\n",
    "\n",
    "        e.g. \"You grasp concepts easily and may become impatient with those who don't learn as quickly.\"\n",
    "        can be broken down into \"You grasp concepts easily\" and \"You may become impatient with those who don't learn as quickly.\"\n",
    "\n",
    "    :param t: an nltk.tree.Tree\n",
    "    :returns: 2-ple of nltk.tree.Tree\n",
    "    \"\"\"\n",
    "    subsentences = []\n",
    "    labels = get_child_labels(t)\n",
    "    \n",
    "    if 'NP' in labels:\n",
    "        np_label = labels.index('NP')\n",
    "        print('NP found.')\n",
    "        if 'VP' in labels:\n",
    "            print('NP and VP found on same level.')\n",
    "            vp_index = labels.index('VP')\n",
    "            labels2 = get_child_labels(t[vp_index])\n",
    "            if labels2.count('VP') >= 2:\n",
    "                '''\n",
    "                e.g.\n",
    "                \n",
    "                '''\n",
    "                print('found parallel VP.')\n",
    "                for child in t[vp_index]:\n",
    "                    if child.label() == 'VP':\n",
    "                        subsentences.append(child.leaves())\n",
    "            elif labels2.count('ADJP') == 1: \n",
    "                print('found ADJP under VP.')\n",
    "                adjp_index = labels2.index('ADJP')\n",
    "                labels3 = get_child_labels(t[vp_index][adjp_index])\n",
    "                if labels3.count('ADJP') + labels3.count('JJ') >= 2:\n",
    "                    '''\n",
    "                    e.g.\n",
    "                                ROOT                            \n",
    "                                 |                               \n",
    "                                 S                              \n",
    "                      ___________|____________________________   \n",
    "                     |                   VP                   | \n",
    "                     |    _______________|___                 |  \n",
    "                     |   |                  ADJP              | \n",
    "                     |   |        ___________|________        |  \n",
    "                     NP  |      ADJP         |       ADJP     | \n",
    "                     |   |       |           |        |       |  \n",
    "                    PRP VBP     VBG          CC       JJ      . \n",
    "                     |   |       |           |        |       |  \n",
    "                    You are hardworking     and  intelligent  . \n",
    "                    '''\n",
    "                    print('found parallel ADJP')\n",
    "                    for child in t[vp_index][adjp_index]:\n",
    "                        if child.label() == 'ADJP' or child.label() == 'JJ':\n",
    "                            subsentences.append(child.leaves())\n",
    "                            \n",
    "\n",
    "        elif 'ADJP' in labels:\n",
    "            index = labels.index('ADJP')\n",
    "            labels2 = get_child_labels(t[index])\n",
    "            if labels2.count('ADJP') >= 2:\n",
    "                print('found parallel ADJP.')\n",
    "                for child in t[index]:\n",
    "                    if child.label() == 'ADJP':\n",
    "                        subsentences.append(child.leaves())\n",
    "        print('new sentences are :')\n",
    "        for sent in subsentences:\n",
    "            print(t[np_label].leaves(), sent)\n",
    "            \n",
    "        # todo: return n new trees representing the n new sentences or return n new string sentences.\n",
    "        # todo: Rewrite code to fit more general cases. Right now, the logic is very 'hard-coded' and 'brute-force'.\n",
    "        \n",
    "    else:\n",
    "        print('Sentence may be invalid.')\n",
    "    "
   ]
  },
  {
   "cell_type": "code",
   "execution_count": 31,
   "metadata": {},
   "outputs": [
    {
     "name": "stdout",
     "output_type": "stream",
     "text": [
      "NP found.\n",
      "NP and VP found on same level.\n",
      "found ADJP under VP.\n",
      "found parallel ADJP\n",
      "new sentences are :\n",
      "['Bobby'] ['happy']\n",
      "['Bobby'] ['carefree']\n"
     ]
    }
   ],
   "source": [
    "simple_find_parallel_sentence3(parsetree4[0])"
   ]
  },
  {
   "cell_type": "markdown",
   "metadata": {},
   "source": [
    "parsetree4 works now."
   ]
  },
  {
   "cell_type": "code",
   "execution_count": 32,
   "metadata": {},
   "outputs": [
    {
     "name": "stdout",
     "output_type": "stream",
     "text": [
      "                     ROOT                 \n",
      "                      |                    \n",
      "                      S                   \n",
      "   ___________________|_________________   \n",
      "  |           VP                        | \n",
      "  |     ______|_______                  |  \n",
      "  NP   |             ADJP               | \n",
      "  |    |       _______|__________       |  \n",
      " NNP  VBZ     RB      JJ   CC    JJ     . \n",
      "  |    |      |       |    |     |      |  \n",
      "Bobby  is unusually happy and carefree  . \n",
      "\n",
      "NP found.\n",
      "NP and VP found on same level.\n",
      "found ADJP under VP.\n",
      "found parallel ADJP\n",
      "new sentences are :\n",
      "['Bobby'] ['happy']\n",
      "['Bobby'] ['carefree']\n"
     ]
    }
   ],
   "source": [
    "parsetree5 = get_parsetree(parser, 'Bobby is unusually happy and carefree.')\n",
    "parsetree5.pretty_print()\n",
    "simple_find_parallel_sentence3(parsetree5[0])"
   ]
  },
  {
   "cell_type": "code",
   "execution_count": 33,
   "metadata": {},
   "outputs": [
    {
     "name": "stdout",
     "output_type": "stream",
     "text": [
      "                                      ROOT                                                  \n",
      "                                       |                                                     \n",
      "                                       S                                                    \n",
      "        _______________________________|__________________________________________________   \n",
      "       |                |                                S                                | \n",
      "       |                |         _______________________|______________________          |  \n",
      "       |                |      NP-TMP                                   |       |         | \n",
      "       |                |    ____|_____                                 |       |         |  \n",
      "       S                |   |          PP                               |       |         | \n",
      "   ____|___             |   |     _____|____                            |       |         |  \n",
      "  |        VP           |   |    |          NP                          |       VP        | \n",
      "  |     ___|_____       |   |    |      ____|_____________________      |    ___|____     |  \n",
      "  NP   |        ADJP    |   NP   |     |        ADJP              |     NP  |        VP   | \n",
      "  |    |         |      |   |    |     |     ____|_______         |     |   |        |    |  \n",
      " NNP  VBZ        JJ     CC  CD   IN    DT  RBS           JJ      NNS   PRP VBP      VBN   . \n",
      "  |    |         |      |   |    |     |    |            |        |     |   |        |    |  \n",
      "Bobby  is     carefree and one   of   the  most      enigmatic persons  I  've     known  . \n",
      "\n",
      "Sentence may be invalid.\n"
     ]
    }
   ],
   "source": [
    "parsetree6 = get_parsetree(parser, \"Bobby is carefree and one of the most enigmatic persons I've known.\")\n",
    "parsetree6.pretty_print()\n",
    "simple_find_parallel_sentence3(parsetree6[0])"
   ]
  },
  {
   "cell_type": "markdown",
   "metadata": {},
   "source": [
    "The parser already detects 2 sentence - let's modify simple_find_parallel_sentences3() to cover this case."
   ]
  },
  {
   "cell_type": "code",
   "execution_count": 34,
   "metadata": {},
   "outputs": [],
   "source": [
    "def simple_find_parallel_sentence4(t):\n",
    "    \"\"\"\n",
    "    From a sentence, finds two sub-sentences describing the same subject in parallel.\n",
    "\n",
    "        e.g. \"You grasp concepts easily and may become impatient with those who don't learn as quickly.\"\n",
    "        can be broken down into \"You grasp concepts easily\" and \"You may become impatient with those who don't learn as quickly.\"\n",
    "\n",
    "    :param t: an nltk.tree.Tree\n",
    "    :returns: 2-ple of nltk.tree.Tree\n",
    "    \"\"\"\n",
    "    subsentences = []\n",
    "    labels = get_child_labels(t)\n",
    "    \n",
    "    if labels.count('S') >= 2:\n",
    "        print(\">=2 'S' found on same level.\")\n",
    "        for child in t:\n",
    "            if child.label() == 'S':\n",
    "                subsentences.append(child.leaves())\n",
    "        print('new sentences are :')\n",
    "        for sent in subsentences:\n",
    "            print(sent)\n",
    "    elif 'NP' in labels:\n",
    "        np_label = labels.index('NP')\n",
    "        print('NP found.')\n",
    "        if 'VP' in labels:\n",
    "            print('NP and VP found on same level.')\n",
    "            vp_index = labels.index('VP')\n",
    "            labels2 = get_child_labels(t[vp_index])\n",
    "            if labels2.count('VP') >= 2:\n",
    "                print('found parallel VP.')\n",
    "                for child in t[vp_index]:\n",
    "                    if child.label() == 'VP':\n",
    "                        subsentences.append(child.leaves())\n",
    "            elif labels2.count('ADJP') == 1: \n",
    "                print('found ADJP under VP.')\n",
    "                adjp_index = labels2.index('ADJP')\n",
    "                labels3 = get_child_labels(t[vp_index][adjp_index])\n",
    "                if labels3.count('ADJP') + labels3.count('JJ') >= 2:\n",
    "                    '''\n",
    "                    e.g.\n",
    "                                ROOT                            \n",
    "                                 |                               \n",
    "                                 S                              \n",
    "                      ___________|____________________________   \n",
    "                     |                   VP                   | \n",
    "                     |    _______________|___                 |  \n",
    "                     |   |                  ADJP              | \n",
    "                     |   |        ___________|________        |  \n",
    "                     NP  |      ADJP         |       ADJP     | \n",
    "                     |   |       |           |        |       |  \n",
    "                    PRP VBP     VBG          CC       JJ      . \n",
    "                     |   |       |           |        |       |  \n",
    "                    You are hardworking     and  intelligent  . \n",
    "                    '''\n",
    "                    print('found parallel ADJP')\n",
    "                    for child in t[vp_index][adjp_index]:\n",
    "                        if child.label() == 'ADJP' or child.label() == 'JJ':\n",
    "                            subsentences.append(child.leaves())\n",
    "                            \n",
    "\n",
    "        elif 'ADJP' in labels:\n",
    "            index = labels.index('ADJP')\n",
    "            labels2 = get_child_labels(t[index])\n",
    "            if labels2.count('ADJP') >= 2:\n",
    "                print('found parallel ADJP.')\n",
    "                for child in t[index]:\n",
    "                    if child.label() == 'ADJP':\n",
    "                        subsentences.append(child.leaves())\n",
    "        print('new sentences are :')\n",
    "        for sent in subsentences:\n",
    "            print(t[np_label].leaves(), sent)\n",
    "            \n",
    "        # todo: return n new trees representing the n new sentences or return n new string sentences.\n",
    "        # todo: Rewrite code to fit more general cases. Right now, the logic is very 'hard-coded' and 'brute-force'.\n",
    "        \n",
    "    else:\n",
    "        print('Sentence may be invalid.')"
   ]
  },
  {
   "cell_type": "code",
   "execution_count": 35,
   "metadata": {},
   "outputs": [
    {
     "name": "stdout",
     "output_type": "stream",
     "text": [
      ">=2 'S' found on same level.\n",
      "new sentences are :\n",
      "['Bobby', 'is', 'carefree']\n",
      "['one', 'of', 'the', 'most', 'enigmatic', 'persons', 'I', \"'ve\", 'known']\n"
     ]
    }
   ],
   "source": [
    "simple_find_parallel_sentence4(parsetree6[0])"
   ]
  },
  {
   "cell_type": "code",
   "execution_count": 36,
   "metadata": {},
   "outputs": [
    {
     "name": "stdout",
     "output_type": "stream",
     "text": [
      "                                       ROOT                                                  \n",
      "                                        |                                                     \n",
      "                                        S                                                    \n",
      "        ________________________________|__________________________________________________   \n",
      "       |                |       S                                                          | \n",
      "       |                |    ___|___                                                       |  \n",
      "       |                |   |       VP                                                     | \n",
      "       |                |   |    ___|________                                              |  \n",
      "       |                |   |   |            NP                                            | \n",
      "       |                |   |   |    ________|___________                                  |  \n",
      "       |                |   |   |   |                    PP                                | \n",
      "       |                |   |   |   |    ________________|________                         |  \n",
      "       |                |   |   |   |   |                         NP                       | \n",
      "       |                |   |   |   |   |         ________________|_________               |  \n",
      "       |                |   |   |   |   |        |                         SBAR            | \n",
      "       |                |   |   |   |   |        |                          |              |  \n",
      "       S                |   |   |   |   |        |                          S              | \n",
      "   ____|___             |   |   |   |   |        |                       ___|____          |  \n",
      "  |        VP           |   |   |   |   |        |                      |        VP        | \n",
      "  |     ___|_____       |   |   |   |   |        |                      |    ____|____     |  \n",
      "  NP   |        ADJP    |   NP  |   NP  |        NP                     NP  |         VP   | \n",
      "  |    |         |      |   |   |   |   |     ___|________________      |   |         |    |  \n",
      " NNP  VBZ        JJ     CC PRP VBZ  CD  IN   DT RBS      JJ      NNS   PRP VBP       VBN   . \n",
      "  |    |         |      |   |   |   |   |    |   |       |        |     |   |         |    |  \n",
      "Bobby  is     carefree and  he  is one  of  the most enigmatic persons  I  've      known  . \n",
      "\n",
      ">=2 'S' found on same level.\n",
      "new sentences are :\n",
      "['Bobby', 'is', 'carefree']\n",
      "['he', 'is', 'one', 'of', 'the', 'most', 'enigmatic', 'persons', 'I', \"'ve\", 'known']\n"
     ]
    }
   ],
   "source": [
    "parsetree7 = get_parsetree(parser, \"Bobby is carefree and he is one of the most enigmatic persons I've known.\")\n",
    "parsetree7.pretty_print()\n",
    "simple_find_parallel_sentence4(parsetree7[0])"
   ]
  },
  {
   "cell_type": "markdown",
   "metadata": {},
   "source": [
    "The limitation of this particular case is that the parse tree does not identify the common subject. Although upon reading it, the human reader will be able to identify the common subject."
   ]
  },
  {
   "cell_type": "markdown",
   "metadata": {},
   "source": [
    "Now that we have modified the code to cover a few common cases, let's test the function on a set of new sentences."
   ]
  },
  {
   "cell_type": "code",
   "execution_count": 37,
   "metadata": {},
   "outputs": [
    {
     "name": "stdout",
     "output_type": "stream",
     "text": [
      "                       ROOT                          \n",
      "                        |                             \n",
      "                        S                            \n",
      "   _____________________|__________________________   \n",
      "  |        VP                                      | \n",
      "  |     ___|____________                           |  \n",
      "  |    |                NP                         | \n",
      "  |    |          ______|_______________           |  \n",
      "  NP   |         NP           |         NP         | \n",
      "  |    |    _____|______      |     ____|____      |  \n",
      " NNP  VBZ  DT    JJ     NN    CC   JJ        NN    . \n",
      "  |    |   |     |      |     |    |         |     |  \n",
      "Bobby  is  an amazing father and close     friend  . \n",
      "\n",
      "NP found.\n",
      "NP and VP found on same level.\n",
      "new sentences are :\n",
      "                                          ROOT                                           \n",
      "                                           |                                              \n",
      "                                           S                                             \n",
      "          _________________________________|___________________________________________   \n",
      "        SBAR                           |   |             |                             | \n",
      "  _______|_____                        |   |             |                             |  \n",
      " |             S                       |   |             VP                            | \n",
      " |    _________|____                   |   |     ________|___                          |  \n",
      " |   |              VP                 |   |    |            S                         | \n",
      " |   |    __________|___               |   |    |            |                         |  \n",
      " |   |   |              NP             |   |    |            VP                        | \n",
      " |   |   |      ________|___           |   |    |     _______|____                     |  \n",
      " |   |   |     |            PP         |   |    |    |            VP                   | \n",
      " |   |   |     |         ___|____      |   |    |    |    ________|___                 |  \n",
      " |   NP  |     NP       |        NP    |   NP   |    |   |           ADJP              | \n",
      " |   |   |     |        |        |     |   |    |    |   |    ________|________        |  \n",
      " IN PRP VBP   NNS       IN      VBG    ,  PRP  VBP   TO  VB  JJ       CC       JJ      . \n",
      " |   |   |     |        |        |     |   |    |    |   |   |        |        |       |  \n",
      " If you have aries      in     rising  ,  you  tend  to  be loud     and  superficial  . \n",
      "\n",
      "NP found.\n",
      "NP and VP found on same level.\n",
      "new sentences are :\n"
     ]
    }
   ],
   "source": [
    "parsetreex = get_parsetree(parser, \"Bobby is an amazing father and close friend.\")\n",
    "parsetreex.pretty_print()\n",
    "simple_find_parallel_sentence4(parsetreex[0])\n",
    "\n",
    "parsetreex = get_parsetree(parser, \"If you have aries in rising, you tend to be loud and superficial.\")\n",
    "parsetreex.pretty_print()\n",
    "simple_find_parallel_sentence4(parsetreex[0])"
   ]
  },
  {
   "cell_type": "markdown",
   "metadata": {},
   "source": [
    "Clearly, there are a lot more structures that the simple sentence splitter does not cover. Syntax is complex indeed. "
   ]
  },
  {
   "cell_type": "code",
   "execution_count": 38,
   "metadata": {},
   "outputs": [
    {
     "name": "stderr",
     "output_type": "stream",
     "text": [
      "The Ghostscript executable isn't found.\n",
      "See http://web.mit.edu/ghostscript/www/Install.htm\n",
      "If you're using a Mac, you can try installing\n",
      "https://docs.brew.sh/Installation then `brew install ghostscript`\n"
     ]
    },
    {
     "ename": "LookupError",
     "evalue": "",
     "output_type": "error",
     "traceback": [
      "\u001b[1;31m---------------------------------------------------------------------------\u001b[0m",
      "\u001b[1;31mLookupError\u001b[0m                               Traceback (most recent call last)",
      "\u001b[1;32m~\\Desktop\\Modules\\FYP\\comments-summarization\\env\\lib\\site-packages\\nltk\\tree.py\u001b[0m in \u001b[0;36m_repr_png_\u001b[1;34m(self)\u001b[0m\n\u001b[0;32m    805\u001b[0m                             \u001b[0menv_vars\u001b[0m\u001b[1;33m=\u001b[0m\u001b[1;33m[\u001b[0m\u001b[1;34m'PATH'\u001b[0m\u001b[1;33m]\u001b[0m\u001b[1;33m,\u001b[0m\u001b[1;33m\u001b[0m\u001b[1;33m\u001b[0m\u001b[0m\n\u001b[1;32m--> 806\u001b[1;33m                             \u001b[0mverbose\u001b[0m\u001b[1;33m=\u001b[0m\u001b[1;32mFalse\u001b[0m\u001b[1;33m,\u001b[0m\u001b[1;33m\u001b[0m\u001b[1;33m\u001b[0m\u001b[0m\n\u001b[0m\u001b[0;32m    807\u001b[0m                         )\n",
      "\u001b[1;32m~\\Desktop\\Modules\\FYP\\comments-summarization\\env\\lib\\site-packages\\nltk\\internals.py\u001b[0m in \u001b[0;36mfind_binary\u001b[1;34m(name, path_to_bin, env_vars, searchpath, binary_names, url, verbose)\u001b[0m\n\u001b[0;32m    696\u001b[0m         find_binary_iter(\n\u001b[1;32m--> 697\u001b[1;33m             \u001b[0mname\u001b[0m\u001b[1;33m,\u001b[0m \u001b[0mpath_to_bin\u001b[0m\u001b[1;33m,\u001b[0m \u001b[0menv_vars\u001b[0m\u001b[1;33m,\u001b[0m \u001b[0msearchpath\u001b[0m\u001b[1;33m,\u001b[0m \u001b[0mbinary_names\u001b[0m\u001b[1;33m,\u001b[0m \u001b[0murl\u001b[0m\u001b[1;33m,\u001b[0m \u001b[0mverbose\u001b[0m\u001b[1;33m\u001b[0m\u001b[1;33m\u001b[0m\u001b[0m\n\u001b[0m\u001b[0;32m    698\u001b[0m         )\n",
      "\u001b[1;32m~\\Desktop\\Modules\\FYP\\comments-summarization\\env\\lib\\site-packages\\nltk\\internals.py\u001b[0m in \u001b[0;36mfind_binary_iter\u001b[1;34m(name, path_to_bin, env_vars, searchpath, binary_names, url, verbose)\u001b[0m\n\u001b[0;32m    680\u001b[0m     for file in find_file_iter(\n\u001b[1;32m--> 681\u001b[1;33m         \u001b[0mpath_to_bin\u001b[0m \u001b[1;32mor\u001b[0m \u001b[0mname\u001b[0m\u001b[1;33m,\u001b[0m \u001b[0menv_vars\u001b[0m\u001b[1;33m,\u001b[0m \u001b[0msearchpath\u001b[0m\u001b[1;33m,\u001b[0m \u001b[0mbinary_names\u001b[0m\u001b[1;33m,\u001b[0m \u001b[0murl\u001b[0m\u001b[1;33m,\u001b[0m \u001b[0mverbose\u001b[0m\u001b[1;33m\u001b[0m\u001b[1;33m\u001b[0m\u001b[0m\n\u001b[0m\u001b[0;32m    682\u001b[0m     ):\n",
      "\u001b[1;32m~\\Desktop\\Modules\\FYP\\comments-summarization\\env\\lib\\site-packages\\nltk\\internals.py\u001b[0m in \u001b[0;36mfind_file_iter\u001b[1;34m(filename, env_vars, searchpath, file_names, url, verbose, finding_dir)\u001b[0m\n\u001b[0;32m    638\u001b[0m         \u001b[0mdiv\u001b[0m \u001b[1;33m=\u001b[0m \u001b[1;34m'='\u001b[0m \u001b[1;33m*\u001b[0m \u001b[1;36m75\u001b[0m\u001b[1;33m\u001b[0m\u001b[1;33m\u001b[0m\u001b[0m\n\u001b[1;32m--> 639\u001b[1;33m         \u001b[1;32mraise\u001b[0m \u001b[0mLookupError\u001b[0m\u001b[1;33m(\u001b[0m\u001b[1;34m'\\n\\n%s\\n%s\\n%s'\u001b[0m \u001b[1;33m%\u001b[0m \u001b[1;33m(\u001b[0m\u001b[0mdiv\u001b[0m\u001b[1;33m,\u001b[0m \u001b[0mmsg\u001b[0m\u001b[1;33m,\u001b[0m \u001b[0mdiv\u001b[0m\u001b[1;33m)\u001b[0m\u001b[1;33m)\u001b[0m\u001b[1;33m\u001b[0m\u001b[1;33m\u001b[0m\u001b[0m\n\u001b[0m\u001b[0;32m    640\u001b[0m \u001b[1;33m\u001b[0m\u001b[0m\n",
      "\u001b[1;31mLookupError\u001b[0m: \n\n===========================================================================\nNLTK was unable to find the gs file!\nUse software specific configuration paramaters or set the PATH environment variable.\n===========================================================================",
      "\nDuring handling of the above exception, another exception occurred:\n",
      "\u001b[1;31mLookupError\u001b[0m                               Traceback (most recent call last)",
      "\u001b[1;32m<ipython-input-38-43f1fedee709>\u001b[0m in \u001b[0;36m<module>\u001b[1;34m\u001b[0m\n\u001b[0;32m      1\u001b[0m \u001b[0mparsetreex\u001b[0m \u001b[1;33m=\u001b[0m \u001b[0mget_parsetree\u001b[0m\u001b[1;33m(\u001b[0m\u001b[0mparser\u001b[0m\u001b[1;33m,\u001b[0m \u001b[1;34m\"You are quick to grasp new concepts and equally quick to lose interest in an idea or project once your curiosity has been satisfied.\"\u001b[0m\u001b[1;33m)\u001b[0m\u001b[1;33m\u001b[0m\u001b[1;33m\u001b[0m\u001b[0m\n\u001b[1;32m----> 2\u001b[1;33m \u001b[0mparsetreex\u001b[0m\u001b[1;33m.\u001b[0m\u001b[0m_repr_png_\u001b[0m\u001b[1;33m(\u001b[0m\u001b[1;33m)\u001b[0m\u001b[1;33m\u001b[0m\u001b[1;33m\u001b[0m\u001b[0m\n\u001b[0m\u001b[0;32m      3\u001b[0m \u001b[0msimple_find_parallel_sentence4\u001b[0m\u001b[1;33m(\u001b[0m\u001b[0mparsetreex\u001b[0m\u001b[1;33m[\u001b[0m\u001b[1;36m0\u001b[0m\u001b[1;33m]\u001b[0m\u001b[1;33m)\u001b[0m\u001b[1;33m\u001b[0m\u001b[1;33m\u001b[0m\u001b[0m\n",
      "\u001b[1;32m~\\Desktop\\Modules\\FYP\\comments-summarization\\env\\lib\\site-packages\\nltk\\tree.py\u001b[0m in \u001b[0;36m_repr_png_\u001b[1;34m(self)\u001b[0m\n\u001b[0;32m    817\u001b[0m                                         \"https://docs.brew.sh/Installation then `brew install ghostscript`\")                \n\u001b[0;32m    818\u001b[0m                 \u001b[0mprint\u001b[0m\u001b[1;33m(\u001b[0m\u001b[0mpre_error_message\u001b[0m\u001b[1;33m,\u001b[0m \u001b[0mfile\u001b[0m\u001b[1;33m=\u001b[0m\u001b[0msys\u001b[0m\u001b[1;33m.\u001b[0m\u001b[0mstderr\u001b[0m\u001b[1;33m)\u001b[0m\u001b[1;33m\u001b[0m\u001b[1;33m\u001b[0m\u001b[0m\n\u001b[1;32m--> 819\u001b[1;33m                 \u001b[1;32mraise\u001b[0m \u001b[0mLookupError\u001b[0m\u001b[1;33m\u001b[0m\u001b[1;33m\u001b[0m\u001b[0m\n\u001b[0m\u001b[0;32m    820\u001b[0m \u001b[1;33m\u001b[0m\u001b[0m\n\u001b[0;32m    821\u001b[0m             \u001b[1;32mwith\u001b[0m \u001b[0mopen\u001b[0m\u001b[1;33m(\u001b[0m\u001b[0mout_path\u001b[0m\u001b[1;33m,\u001b[0m \u001b[1;34m'rb'\u001b[0m\u001b[1;33m)\u001b[0m \u001b[1;32mas\u001b[0m \u001b[0msr\u001b[0m\u001b[1;33m:\u001b[0m\u001b[1;33m\u001b[0m\u001b[1;33m\u001b[0m\u001b[0m\n",
      "\u001b[1;31mLookupError\u001b[0m: "
     ]
    }
   ],
   "source": [
    "parsetreex = get_parsetree(parser, \"You are quick to grasp new concepts and equally quick to lose interest in an idea or project once your curiosity has been satisfied.\")\n",
    "parsetreex._repr_png_()\n",
    "simple_find_parallel_sentence4(parsetreex[0])"
   ]
  },
  {
   "cell_type": "code",
   "execution_count": null,
   "metadata": {},
   "outputs": [],
   "source": [
    "text = \"If you have Mercury in Gemini, you have an extremely adaptable, energetic, active, alert, curious, and versatile mind.\"\n",
    "parsetreex = get_parsetree(parser, text)\n",
    "parsetreex._repr_png_()\n",
    "simple_find_parallel_sentence4(parsetreex[0])"
   ]
  },
  {
   "cell_type": "code",
   "execution_count": null,
   "metadata": {},
   "outputs": [],
   "source": []
  }
 ],
 "metadata": {
  "kernelspec": {
   "display_name": "fyp",
   "language": "python",
   "name": "fyp"
  },
  "language_info": {
   "codemirror_mode": {
    "name": "ipython",
    "version": 3
   },
   "file_extension": ".py",
   "mimetype": "text/x-python",
   "name": "python",
   "nbconvert_exporter": "python",
   "pygments_lexer": "ipython3",
   "version": "3.7.4"
  }
 },
 "nbformat": 4,
 "nbformat_minor": 4
}
