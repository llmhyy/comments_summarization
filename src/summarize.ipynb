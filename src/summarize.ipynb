{
 "cells": [
  {
   "cell_type": "code",
   "execution_count": 1,
   "metadata": {},
   "outputs": [],
   "source": [
    "import json\n",
    "import networkx as nx\n",
    "import pandas as pd\n",
    "import numpy as np"
   ]
  },
  {
   "cell_type": "markdown",
   "metadata": {},
   "source": [
    "### final summarization algorithm"
   ]
  },
  {
   "cell_type": "code",
   "execution_count": 46,
   "metadata": {
    "scrolled": true
   },
   "outputs": [
    {
     "data": {
      "text/plain": [
       "{'0': ['You are consistent.',\n",
       "  'You are reliable.',\n",
       "  'You tend to be dependable.'],\n",
       " '1': ['You are patient unless someone takes you too far.',\n",
       "  'You are usually slow to anger unless someone takes you too far.'],\n",
       " '2': ['You tend to be industrious, efficient, practical, exacting, scientific, organized, shy, thrifty, studious, economical, and punctual.',\n",
       "  'You tend to be versatile.'],\n",
       " '3': ['You tend to be idealistic.', 'You tend to be optimistic.'],\n",
       " '4': ['Your work is usually neat.', 'Your work is usually orderly.'],\n",
       " '5': ['You prefer a regular routine, defined responsibilities.',\n",
       "  'You prefer a regular routine, defined tasks.'],\n",
       " '6': ['You have common sense to manage others.',\n",
       "  'You have the ability to manage others.'],\n",
       " '7': ['Your mind is analytical.'],\n",
       " '8': ['you dislike dirt.'],\n",
       " '9': ['Your mind is deep.'],\n",
       " '10': ['you dislike messes.'],\n",
       " '11': ['You grasp concepts easily.'],\n",
       " '12': ['You tend to be friendly.'],\n",
       " '13': ['You are romantic.'],\n",
       " '14': ['you probably have a good head for numbers.'],\n",
       " '15': ['You never give up.'],\n",
       " '16': ['You are sentimental.'],\n",
       " '17': ['You may be ambidextrous or mechanically inclined.'],\n",
       " '18': ['You tend to be open-minded.'],\n",
       " '19': ['You are usually outspoken, sometimes to the point of bluntness.'],\n",
       " '20': [\"You may become impatient with those who do n't learn as quickly.\"],\n",
       " '21': ['You are very direct in thought, action, and speech and everyone knows how you feel.'],\n",
       " '22': ['You are gentle.'],\n",
       " '23': ['Debate and argument appeal to you.'],\n",
       " '24': ['You are quiet.'],\n",
       " '25': ['You are handy with your hands.'],\n",
       " '26': ['You never find it difficult to change your mind or course in mid-stream.'],\n",
       " '27': ['Money and possessions are important to you for the feelings of security they bring.'],\n",
       " '28': ['You are courageous.'],\n",
       " '29': ['You are adventurous.'],\n",
       " '30': ['You tend to be honest.'],\n",
       " '31': ['You are sensitive.'],\n",
       " '32': ['You enjoy building and seeing the results of your hard work.'],\n",
       " '33': ['Keeping things going is your strength, especially once someone else starts them.'],\n",
       " '34': ['Whatever you have set your sights on, you refuse to give up or let go of it.'],\n",
       " '35': ['You can handle more of the workload than most around you.'],\n",
       " '36': ['You may be a bit of a perfectionist.'],\n",
       " '37': ['You are independent.'],\n",
       " '38': ['You are shy.']}"
      ]
     },
     "execution_count": 46,
     "metadata": {},
     "output_type": "execute_result"
    }
   ],
   "source": [
    "with open(\"../data/roberta/Astro1_decomposed_clean_clusters.json\") as fp:\n",
    "    clusters = json.load(fp)\n",
    "clusters"
   ]
  },
  {
   "cell_type": "code",
   "execution_count": 3,
   "metadata": {},
   "outputs": [
    {
     "data": {
      "text/html": [
       "<div>\n",
       "<style scoped>\n",
       "    .dataframe tbody tr th:only-of-type {\n",
       "        vertical-align: middle;\n",
       "    }\n",
       "\n",
       "    .dataframe tbody tr th {\n",
       "        vertical-align: top;\n",
       "    }\n",
       "\n",
       "    .dataframe thead th {\n",
       "        text-align: right;\n",
       "    }\n",
       "</style>\n",
       "<table border=\"1\" class=\"dataframe\">\n",
       "  <thead>\n",
       "    <tr style=\"text-align: right;\">\n",
       "      <th></th>\n",
       "      <th>0</th>\n",
       "      <th>1</th>\n",
       "      <th>2</th>\n",
       "      <th>3</th>\n",
       "      <th>4</th>\n",
       "      <th>5</th>\n",
       "      <th>6</th>\n",
       "      <th>7</th>\n",
       "      <th>8</th>\n",
       "      <th>9</th>\n",
       "      <th>...</th>\n",
       "      <th>13</th>\n",
       "      <th>14</th>\n",
       "      <th>15</th>\n",
       "      <th>16</th>\n",
       "      <th>17</th>\n",
       "      <th>18</th>\n",
       "      <th>19</th>\n",
       "      <th>20</th>\n",
       "      <th>21</th>\n",
       "      <th>22</th>\n",
       "    </tr>\n",
       "  </thead>\n",
       "  <tbody>\n",
       "    <tr>\n",
       "      <th>0</th>\n",
       "      <td>0.000000</td>\n",
       "      <td>0.388386</td>\n",
       "      <td>0.320677</td>\n",
       "      <td>0.469183</td>\n",
       "      <td>0.482982</td>\n",
       "      <td>0.5</td>\n",
       "      <td>0.525819</td>\n",
       "      <td>0.517846</td>\n",
       "      <td>0.466566</td>\n",
       "      <td>0.430337</td>\n",
       "      <td>...</td>\n",
       "      <td>0.500000</td>\n",
       "      <td>0.478377</td>\n",
       "      <td>0.5</td>\n",
       "      <td>0.500000</td>\n",
       "      <td>0.449597</td>\n",
       "      <td>0.732720</td>\n",
       "      <td>0.5</td>\n",
       "      <td>0.363840</td>\n",
       "      <td>0.489095</td>\n",
       "      <td>0.5</td>\n",
       "    </tr>\n",
       "    <tr>\n",
       "      <th>1</th>\n",
       "      <td>0.388386</td>\n",
       "      <td>0.000000</td>\n",
       "      <td>0.173098</td>\n",
       "      <td>0.321961</td>\n",
       "      <td>0.339405</td>\n",
       "      <td>0.5</td>\n",
       "      <td>0.589871</td>\n",
       "      <td>0.672893</td>\n",
       "      <td>0.468892</td>\n",
       "      <td>0.193394</td>\n",
       "      <td>...</td>\n",
       "      <td>0.497472</td>\n",
       "      <td>0.413698</td>\n",
       "      <td>0.5</td>\n",
       "      <td>0.539865</td>\n",
       "      <td>0.422783</td>\n",
       "      <td>0.713213</td>\n",
       "      <td>0.5</td>\n",
       "      <td>0.284340</td>\n",
       "      <td>0.462562</td>\n",
       "      <td>0.5</td>\n",
       "    </tr>\n",
       "    <tr>\n",
       "      <th>2</th>\n",
       "      <td>0.320677</td>\n",
       "      <td>0.173098</td>\n",
       "      <td>0.000000</td>\n",
       "      <td>0.453835</td>\n",
       "      <td>0.403263</td>\n",
       "      <td>0.5</td>\n",
       "      <td>0.603709</td>\n",
       "      <td>0.568303</td>\n",
       "      <td>0.449913</td>\n",
       "      <td>0.283101</td>\n",
       "      <td>...</td>\n",
       "      <td>0.495937</td>\n",
       "      <td>0.436019</td>\n",
       "      <td>0.5</td>\n",
       "      <td>0.553025</td>\n",
       "      <td>0.375940</td>\n",
       "      <td>0.842556</td>\n",
       "      <td>0.5</td>\n",
       "      <td>0.153513</td>\n",
       "      <td>0.496484</td>\n",
       "      <td>0.5</td>\n",
       "    </tr>\n",
       "    <tr>\n",
       "      <th>3</th>\n",
       "      <td>0.469183</td>\n",
       "      <td>0.321961</td>\n",
       "      <td>0.453835</td>\n",
       "      <td>0.000000</td>\n",
       "      <td>0.293720</td>\n",
       "      <td>0.5</td>\n",
       "      <td>0.491807</td>\n",
       "      <td>0.718862</td>\n",
       "      <td>0.402621</td>\n",
       "      <td>0.219053</td>\n",
       "      <td>...</td>\n",
       "      <td>0.489014</td>\n",
       "      <td>0.310216</td>\n",
       "      <td>0.5</td>\n",
       "      <td>0.507833</td>\n",
       "      <td>0.276021</td>\n",
       "      <td>0.558869</td>\n",
       "      <td>0.5</td>\n",
       "      <td>0.461569</td>\n",
       "      <td>0.444341</td>\n",
       "      <td>0.5</td>\n",
       "    </tr>\n",
       "    <tr>\n",
       "      <th>4</th>\n",
       "      <td>0.482982</td>\n",
       "      <td>0.339405</td>\n",
       "      <td>0.403263</td>\n",
       "      <td>0.293720</td>\n",
       "      <td>0.000000</td>\n",
       "      <td>0.5</td>\n",
       "      <td>0.412596</td>\n",
       "      <td>0.569348</td>\n",
       "      <td>0.426160</td>\n",
       "      <td>0.321561</td>\n",
       "      <td>...</td>\n",
       "      <td>0.493994</td>\n",
       "      <td>0.460470</td>\n",
       "      <td>0.5</td>\n",
       "      <td>0.339888</td>\n",
       "      <td>0.453347</td>\n",
       "      <td>0.532510</td>\n",
       "      <td>0.5</td>\n",
       "      <td>0.450060</td>\n",
       "      <td>0.403941</td>\n",
       "      <td>0.5</td>\n",
       "    </tr>\n",
       "  </tbody>\n",
       "</table>\n",
       "<p>5 rows × 23 columns</p>\n",
       "</div>"
      ],
      "text/plain": [
       "         0         1         2         3         4    5         6         7   \\\n",
       "0  0.000000  0.388386  0.320677  0.469183  0.482982  0.5  0.525819  0.517846   \n",
       "1  0.388386  0.000000  0.173098  0.321961  0.339405  0.5  0.589871  0.672893   \n",
       "2  0.320677  0.173098  0.000000  0.453835  0.403263  0.5  0.603709  0.568303   \n",
       "3  0.469183  0.321961  0.453835  0.000000  0.293720  0.5  0.491807  0.718862   \n",
       "4  0.482982  0.339405  0.403263  0.293720  0.000000  0.5  0.412596  0.569348   \n",
       "\n",
       "         8         9   ...        13        14   15        16        17  \\\n",
       "0  0.466566  0.430337  ...  0.500000  0.478377  0.5  0.500000  0.449597   \n",
       "1  0.468892  0.193394  ...  0.497472  0.413698  0.5  0.539865  0.422783   \n",
       "2  0.449913  0.283101  ...  0.495937  0.436019  0.5  0.553025  0.375940   \n",
       "3  0.402621  0.219053  ...  0.489014  0.310216  0.5  0.507833  0.276021   \n",
       "4  0.426160  0.321561  ...  0.493994  0.460470  0.5  0.339888  0.453347   \n",
       "\n",
       "         18   19        20        21   22  \n",
       "0  0.732720  0.5  0.363840  0.489095  0.5  \n",
       "1  0.713213  0.5  0.284340  0.462562  0.5  \n",
       "2  0.842556  0.5  0.153513  0.496484  0.5  \n",
       "3  0.558869  0.5  0.461569  0.444341  0.5  \n",
       "4  0.532510  0.5  0.450060  0.403941  0.5  \n",
       "\n",
       "[5 rows x 23 columns]"
      ]
     },
     "execution_count": 3,
     "metadata": {},
     "output_type": "execute_result"
    }
   ],
   "source": [
    "intercluster_dist = pd.read_csv(\"../data/Astro1_decomposed_clean_roberta_kg_intercluster(debugged).csv\", header=None)\n",
    "intercluster_dist.head()"
   ]
  },
  {
   "cell_type": "code",
   "execution_count": 47,
   "metadata": {},
   "outputs": [
    {
     "data": {
      "text/plain": [
       "['You are consistent.', 'You are reliable.', 'You tend to be dependable.']"
      ]
     },
     "metadata": {},
     "output_type": "display_data"
    },
    {
     "data": {
      "text/plain": [
       "['You tend to be idealistic.', 'You tend to be optimistic.']"
      ]
     },
     "metadata": {},
     "output_type": "display_data"
    }
   ],
   "source": [
    "display(clusters['0'], clusters['3'])"
   ]
  },
  {
   "cell_type": "code",
   "execution_count": 48,
   "metadata": {
    "scrolled": true
   },
   "outputs": [
    {
     "data": {
      "text/html": [
       "<div>\n",
       "<style scoped>\n",
       "    .dataframe tbody tr th:only-of-type {\n",
       "        vertical-align: middle;\n",
       "    }\n",
       "\n",
       "    .dataframe tbody tr th {\n",
       "        vertical-align: top;\n",
       "    }\n",
       "\n",
       "    .dataframe thead th {\n",
       "        text-align: right;\n",
       "    }\n",
       "</style>\n",
       "<table border=\"1\" class=\"dataframe\">\n",
       "  <thead>\n",
       "    <tr style=\"text-align: right;\">\n",
       "      <th></th>\n",
       "      <th>Debate and argument appeal to you.</th>\n",
       "      <th>Keeping things going is your strength, especially once someone else starts them.</th>\n",
       "      <th>Money and possessions are important to you for the feelings of security they bring.</th>\n",
       "      <th>Whatever you have set your sights on, you refuse to give up or let go of it.</th>\n",
       "      <th>You are adventurous.</th>\n",
       "      <th>You are consistent.</th>\n",
       "      <th>You are courageous.</th>\n",
       "      <th>You are gentle.</th>\n",
       "      <th>You are handy with your hands.</th>\n",
       "      <th>You are independent.</th>\n",
       "      <th>...</th>\n",
       "      <th>You tend to be open-minded.</th>\n",
       "      <th>You tend to be optimistic.</th>\n",
       "      <th>You tend to be versatile.</th>\n",
       "      <th>Your mind is analytical.</th>\n",
       "      <th>Your mind is deep.</th>\n",
       "      <th>Your work is usually neat.</th>\n",
       "      <th>Your work is usually orderly.</th>\n",
       "      <th>you dislike dirt.</th>\n",
       "      <th>you dislike messes.</th>\n",
       "      <th>you probably have a good head for numbers.</th>\n",
       "    </tr>\n",
       "    <tr>\n",
       "      <th>first</th>\n",
       "      <th></th>\n",
       "      <th></th>\n",
       "      <th></th>\n",
       "      <th></th>\n",
       "      <th></th>\n",
       "      <th></th>\n",
       "      <th></th>\n",
       "      <th></th>\n",
       "      <th></th>\n",
       "      <th></th>\n",
       "      <th></th>\n",
       "      <th></th>\n",
       "      <th></th>\n",
       "      <th></th>\n",
       "      <th></th>\n",
       "      <th></th>\n",
       "      <th></th>\n",
       "      <th></th>\n",
       "      <th></th>\n",
       "      <th></th>\n",
       "      <th></th>\n",
       "    </tr>\n",
       "  </thead>\n",
       "  <tbody>\n",
       "    <tr>\n",
       "      <th>Debate and argument appeal to you.</th>\n",
       "      <td>0.000000</td>\n",
       "      <td>0.477347</td>\n",
       "      <td>0.876901</td>\n",
       "      <td>0.490185</td>\n",
       "      <td>0.459430</td>\n",
       "      <td>0.493072</td>\n",
       "      <td>0.481451</td>\n",
       "      <td>0.987908</td>\n",
       "      <td>0.478649</td>\n",
       "      <td>0.484124</td>\n",
       "      <td>...</td>\n",
       "      <td>0.460759</td>\n",
       "      <td>0.494005</td>\n",
       "      <td>0.489710</td>\n",
       "      <td>0.423102</td>\n",
       "      <td>0.490819</td>\n",
       "      <td>0.749619</td>\n",
       "      <td>0.669248</td>\n",
       "      <td>0.774171</td>\n",
       "      <td>0.494406</td>\n",
       "      <td>0.496236</td>\n",
       "    </tr>\n",
       "    <tr>\n",
       "      <th>Keeping things going is your strength, especially once someone else starts them.</th>\n",
       "      <td>0.477347</td>\n",
       "      <td>0.000000</td>\n",
       "      <td>0.493668</td>\n",
       "      <td>0.475753</td>\n",
       "      <td>0.489936</td>\n",
       "      <td>0.492295</td>\n",
       "      <td>0.496694</td>\n",
       "      <td>0.494093</td>\n",
       "      <td>0.497907</td>\n",
       "      <td>0.486857</td>\n",
       "      <td>...</td>\n",
       "      <td>0.491312</td>\n",
       "      <td>0.498523</td>\n",
       "      <td>0.495502</td>\n",
       "      <td>0.467369</td>\n",
       "      <td>0.496776</td>\n",
       "      <td>0.498918</td>\n",
       "      <td>0.497123</td>\n",
       "      <td>0.492767</td>\n",
       "      <td>0.487082</td>\n",
       "      <td>0.492085</td>\n",
       "    </tr>\n",
       "    <tr>\n",
       "      <th>Money and possessions are important to you for the feelings of security they bring.</th>\n",
       "      <td>0.876901</td>\n",
       "      <td>0.493668</td>\n",
       "      <td>0.000000</td>\n",
       "      <td>0.493206</td>\n",
       "      <td>0.880100</td>\n",
       "      <td>0.487633</td>\n",
       "      <td>0.495141</td>\n",
       "      <td>0.496598</td>\n",
       "      <td>0.494791</td>\n",
       "      <td>0.494470</td>\n",
       "      <td>...</td>\n",
       "      <td>0.727914</td>\n",
       "      <td>0.497632</td>\n",
       "      <td>0.486775</td>\n",
       "      <td>0.497237</td>\n",
       "      <td>0.492624</td>\n",
       "      <td>0.472106</td>\n",
       "      <td>0.468355</td>\n",
       "      <td>0.472730</td>\n",
       "      <td>0.490677</td>\n",
       "      <td>0.495770</td>\n",
       "    </tr>\n",
       "    <tr>\n",
       "      <th>Whatever you have set your sights on, you refuse to give up or let go of it.</th>\n",
       "      <td>0.490185</td>\n",
       "      <td>0.475753</td>\n",
       "      <td>0.493206</td>\n",
       "      <td>0.000000</td>\n",
       "      <td>0.445039</td>\n",
       "      <td>0.422655</td>\n",
       "      <td>0.448662</td>\n",
       "      <td>0.955826</td>\n",
       "      <td>0.487032</td>\n",
       "      <td>0.437913</td>\n",
       "      <td>...</td>\n",
       "      <td>0.951195</td>\n",
       "      <td>0.476425</td>\n",
       "      <td>0.899926</td>\n",
       "      <td>0.494302</td>\n",
       "      <td>0.494366</td>\n",
       "      <td>0.499613</td>\n",
       "      <td>0.498129</td>\n",
       "      <td>0.486103</td>\n",
       "      <td>0.491008</td>\n",
       "      <td>0.499572</td>\n",
       "    </tr>\n",
       "    <tr>\n",
       "      <th>You are adventurous.</th>\n",
       "      <td>0.459430</td>\n",
       "      <td>0.489936</td>\n",
       "      <td>0.880100</td>\n",
       "      <td>0.445039</td>\n",
       "      <td>0.000000</td>\n",
       "      <td>0.998368</td>\n",
       "      <td>0.039083</td>\n",
       "      <td>0.997403</td>\n",
       "      <td>0.325788</td>\n",
       "      <td>0.122763</td>\n",
       "      <td>...</td>\n",
       "      <td>0.040333</td>\n",
       "      <td>0.319298</td>\n",
       "      <td>0.042862</td>\n",
       "      <td>0.973734</td>\n",
       "      <td>0.397418</td>\n",
       "      <td>0.830680</td>\n",
       "      <td>0.870261</td>\n",
       "      <td>0.974492</td>\n",
       "      <td>0.954207</td>\n",
       "      <td>0.461418</td>\n",
       "    </tr>\n",
       "  </tbody>\n",
       "</table>\n",
       "<p>5 rows × 47 columns</p>\n",
       "</div>"
      ],
      "text/plain": [
       "                                                    Debate and argument appeal to you.  \\\n",
       "first                                                                                    \n",
       "Debate and argument appeal to you.                                            0.000000   \n",
       "Keeping things going is your strength, especial...                            0.477347   \n",
       "Money and possessions are important to you for ...                            0.876901   \n",
       "Whatever you have set your sights on, you refus...                            0.490185   \n",
       "You are adventurous.                                                          0.459430   \n",
       "\n",
       "                                                    Keeping things going is your strength, especially once someone else starts them.  \\\n",
       "first                                                                                                                                  \n",
       "Debate and argument appeal to you.                                                           0.477347                                  \n",
       "Keeping things going is your strength, especial...                                           0.000000                                  \n",
       "Money and possessions are important to you for ...                                           0.493668                                  \n",
       "Whatever you have set your sights on, you refus...                                           0.475753                                  \n",
       "You are adventurous.                                                                         0.489936                                  \n",
       "\n",
       "                                                    Money and possessions are important to you for the feelings of security they bring.  \\\n",
       "first                                                                                                                                     \n",
       "Debate and argument appeal to you.                                                           0.876901                                     \n",
       "Keeping things going is your strength, especial...                                           0.493668                                     \n",
       "Money and possessions are important to you for ...                                           0.000000                                     \n",
       "Whatever you have set your sights on, you refus...                                           0.493206                                     \n",
       "You are adventurous.                                                                         0.880100                                     \n",
       "\n",
       "                                                    Whatever you have set your sights on, you refuse to give up or let go of it.  \\\n",
       "first                                                                                                                              \n",
       "Debate and argument appeal to you.                                                           0.490185                              \n",
       "Keeping things going is your strength, especial...                                           0.475753                              \n",
       "Money and possessions are important to you for ...                                           0.493206                              \n",
       "Whatever you have set your sights on, you refus...                                           0.000000                              \n",
       "You are adventurous.                                                                         0.445039                              \n",
       "\n",
       "                                                    You are adventurous.  \\\n",
       "first                                                                      \n",
       "Debate and argument appeal to you.                              0.459430   \n",
       "Keeping things going is your strength, especial...              0.489936   \n",
       "Money and possessions are important to you for ...              0.880100   \n",
       "Whatever you have set your sights on, you refus...              0.445039   \n",
       "You are adventurous.                                            0.000000   \n",
       "\n",
       "                                                    You are consistent.  \\\n",
       "first                                                                     \n",
       "Debate and argument appeal to you.                             0.493072   \n",
       "Keeping things going is your strength, especial...             0.492295   \n",
       "Money and possessions are important to you for ...             0.487633   \n",
       "Whatever you have set your sights on, you refus...             0.422655   \n",
       "You are adventurous.                                           0.998368   \n",
       "\n",
       "                                                    You are courageous.  \\\n",
       "first                                                                     \n",
       "Debate and argument appeal to you.                             0.481451   \n",
       "Keeping things going is your strength, especial...             0.496694   \n",
       "Money and possessions are important to you for ...             0.495141   \n",
       "Whatever you have set your sights on, you refus...             0.448662   \n",
       "You are adventurous.                                           0.039083   \n",
       "\n",
       "                                                    You are gentle.  \\\n",
       "first                                                                 \n",
       "Debate and argument appeal to you.                         0.987908   \n",
       "Keeping things going is your strength, especial...         0.494093   \n",
       "Money and possessions are important to you for ...         0.496598   \n",
       "Whatever you have set your sights on, you refus...         0.955826   \n",
       "You are adventurous.                                       0.997403   \n",
       "\n",
       "                                                    You are handy with your hands.  \\\n",
       "first                                                                                \n",
       "Debate and argument appeal to you.                                        0.478649   \n",
       "Keeping things going is your strength, especial...                        0.497907   \n",
       "Money and possessions are important to you for ...                        0.494791   \n",
       "Whatever you have set your sights on, you refus...                        0.487032   \n",
       "You are adventurous.                                                      0.325788   \n",
       "\n",
       "                                                    You are independent.  ...  \\\n",
       "first                                                                     ...   \n",
       "Debate and argument appeal to you.                              0.484124  ...   \n",
       "Keeping things going is your strength, especial...              0.486857  ...   \n",
       "Money and possessions are important to you for ...              0.494470  ...   \n",
       "Whatever you have set your sights on, you refus...              0.437913  ...   \n",
       "You are adventurous.                                            0.122763  ...   \n",
       "\n",
       "                                                    You tend to be open-minded.  \\\n",
       "first                                                                             \n",
       "Debate and argument appeal to you.                                     0.460759   \n",
       "Keeping things going is your strength, especial...                     0.491312   \n",
       "Money and possessions are important to you for ...                     0.727914   \n",
       "Whatever you have set your sights on, you refus...                     0.951195   \n",
       "You are adventurous.                                                   0.040333   \n",
       "\n",
       "                                                    You tend to be optimistic.  \\\n",
       "first                                                                            \n",
       "Debate and argument appeal to you.                                    0.494005   \n",
       "Keeping things going is your strength, especial...                    0.498523   \n",
       "Money and possessions are important to you for ...                    0.497632   \n",
       "Whatever you have set your sights on, you refus...                    0.476425   \n",
       "You are adventurous.                                                  0.319298   \n",
       "\n",
       "                                                    You tend to be versatile.  \\\n",
       "first                                                                           \n",
       "Debate and argument appeal to you.                                   0.489710   \n",
       "Keeping things going is your strength, especial...                   0.495502   \n",
       "Money and possessions are important to you for ...                   0.486775   \n",
       "Whatever you have set your sights on, you refus...                   0.899926   \n",
       "You are adventurous.                                                 0.042862   \n",
       "\n",
       "                                                    Your mind is analytical.  \\\n",
       "first                                                                          \n",
       "Debate and argument appeal to you.                                  0.423102   \n",
       "Keeping things going is your strength, especial...                  0.467369   \n",
       "Money and possessions are important to you for ...                  0.497237   \n",
       "Whatever you have set your sights on, you refus...                  0.494302   \n",
       "You are adventurous.                                                0.973734   \n",
       "\n",
       "                                                    Your mind is deep.  \\\n",
       "first                                                                    \n",
       "Debate and argument appeal to you.                            0.490819   \n",
       "Keeping things going is your strength, especial...            0.496776   \n",
       "Money and possessions are important to you for ...            0.492624   \n",
       "Whatever you have set your sights on, you refus...            0.494366   \n",
       "You are adventurous.                                          0.397418   \n",
       "\n",
       "                                                    Your work is usually neat.  \\\n",
       "first                                                                            \n",
       "Debate and argument appeal to you.                                    0.749619   \n",
       "Keeping things going is your strength, especial...                    0.498918   \n",
       "Money and possessions are important to you for ...                    0.472106   \n",
       "Whatever you have set your sights on, you refus...                    0.499613   \n",
       "You are adventurous.                                                  0.830680   \n",
       "\n",
       "                                                    Your work is usually orderly.  \\\n",
       "first                                                                               \n",
       "Debate and argument appeal to you.                                       0.669248   \n",
       "Keeping things going is your strength, especial...                       0.497123   \n",
       "Money and possessions are important to you for ...                       0.468355   \n",
       "Whatever you have set your sights on, you refus...                       0.498129   \n",
       "You are adventurous.                                                     0.870261   \n",
       "\n",
       "                                                    you dislike dirt.  \\\n",
       "first                                                                   \n",
       "Debate and argument appeal to you.                           0.774171   \n",
       "Keeping things going is your strength, especial...           0.492767   \n",
       "Money and possessions are important to you for ...           0.472730   \n",
       "Whatever you have set your sights on, you refus...           0.486103   \n",
       "You are adventurous.                                         0.974492   \n",
       "\n",
       "                                                    you dislike messes.  \\\n",
       "first                                                                     \n",
       "Debate and argument appeal to you.                             0.494406   \n",
       "Keeping things going is your strength, especial...             0.487082   \n",
       "Money and possessions are important to you for ...             0.490677   \n",
       "Whatever you have set your sights on, you refus...             0.491008   \n",
       "You are adventurous.                                           0.954207   \n",
       "\n",
       "                                                    you probably have a good head for numbers.  \n",
       "first                                                                                           \n",
       "Debate and argument appeal to you.                                                    0.496236  \n",
       "Keeping things going is your strength, especial...                                    0.492085  \n",
       "Money and possessions are important to you for ...                                    0.495770  \n",
       "Whatever you have set your sights on, you refus...                                    0.499572  \n",
       "You are adventurous.                                                                  0.461418  \n",
       "\n",
       "[5 rows x 47 columns]"
      ]
     },
     "execution_count": 48,
     "metadata": {},
     "output_type": "execute_result"
    }
   ],
   "source": [
    "sentence_dist = pd.read_csv(\"../data/roberta/Astro1_decomposed_clean_pairs_roberta_pairwisematrix.csv\", index_col=\"first\")\n",
    "sentence_dist.head()"
   ]
  },
  {
   "cell_type": "code",
   "execution_count": 49,
   "metadata": {},
   "outputs": [
    {
     "data": {
      "text/plain": [
       "0.02400507815541539"
      ]
     },
     "execution_count": 49,
     "metadata": {},
     "output_type": "execute_result"
    }
   ],
   "source": [
    "A = \"you dislike dirt.\"\n",
    "B = \"you dislike messes.\"\n",
    "sentence_dist[A][B]"
   ]
  },
  {
   "cell_type": "code",
   "execution_count": 50,
   "metadata": {},
   "outputs": [],
   "source": [
    "notable_pairs = list()\n",
    "for clust1 in intercluster_dist.index:\n",
    "    for clust2 in intercluster_dist.columns:\n",
    "        if intercluster_dist.loc[clust1][clust2] > 0.6:\n",
    "            notable_pairs.append((clust1, clust2))"
   ]
  },
  {
   "cell_type": "code",
   "execution_count": 51,
   "metadata": {
    "scrolled": true
   },
   "outputs": [
    {
     "data": {
      "text/plain": [
       "[(0, 18),\n",
       " (1, 7),\n",
       " (1, 18),\n",
       " (2, 6),\n",
       " (2, 18),\n",
       " (3, 7),\n",
       " (6, 2),\n",
       " (6, 10),\n",
       " (7, 1),\n",
       " (7, 3),\n",
       " (7, 9),\n",
       " (9, 7),\n",
       " (9, 18),\n",
       " (10, 6),\n",
       " (10, 12),\n",
       " (10, 18),\n",
       " (12, 10),\n",
       " (18, 0),\n",
       " (18, 1),\n",
       " (18, 2),\n",
       " (18, 9),\n",
       " (18, 10),\n",
       " (18, 20),\n",
       " (20, 18)]"
      ]
     },
     "execution_count": 51,
     "metadata": {},
     "output_type": "execute_result"
    }
   ],
   "source": [
    "len(notable_pairs)\n",
    "notable_pairs"
   ]
  },
  {
   "cell_type": "code",
   "execution_count": 52,
   "metadata": {
    "scrolled": true
   },
   "outputs": [
    {
     "name": "stdout",
     "output_type": "stream",
     "text": [
      "(0, 18)\n"
     ]
    },
    {
     "data": {
      "text/plain": [
       "['You are consistent.', 'You are reliable.', 'You tend to be dependable.']"
      ]
     },
     "metadata": {},
     "output_type": "display_data"
    },
    {
     "data": {
      "text/plain": [
       "['You tend to be open-minded.']"
      ]
     },
     "metadata": {},
     "output_type": "display_data"
    },
    {
     "name": "stdout",
     "output_type": "stream",
     "text": [
      "\n",
      "(1, 7)\n"
     ]
    },
    {
     "data": {
      "text/plain": [
       "['You are patient unless someone takes you too far.',\n",
       " 'You are usually slow to anger unless someone takes you too far.']"
      ]
     },
     "metadata": {},
     "output_type": "display_data"
    },
    {
     "data": {
      "text/plain": [
       "['Your mind is analytical.']"
      ]
     },
     "metadata": {},
     "output_type": "display_data"
    },
    {
     "name": "stdout",
     "output_type": "stream",
     "text": [
      "\n",
      "(1, 18)\n"
     ]
    },
    {
     "data": {
      "text/plain": [
       "['You are patient unless someone takes you too far.',\n",
       " 'You are usually slow to anger unless someone takes you too far.']"
      ]
     },
     "metadata": {},
     "output_type": "display_data"
    },
    {
     "data": {
      "text/plain": [
       "['You tend to be open-minded.']"
      ]
     },
     "metadata": {},
     "output_type": "display_data"
    },
    {
     "name": "stdout",
     "output_type": "stream",
     "text": [
      "\n",
      "(2, 6)\n"
     ]
    },
    {
     "data": {
      "text/plain": [
       "['You tend to be industrious, efficient, practical, exacting, scientific, organized, shy, thrifty, studious, economical, and punctual.',\n",
       " 'You tend to be versatile.']"
      ]
     },
     "metadata": {},
     "output_type": "display_data"
    },
    {
     "data": {
      "text/plain": [
       "['You have common sense to manage others.',\n",
       " 'You have the ability to manage others.']"
      ]
     },
     "metadata": {},
     "output_type": "display_data"
    },
    {
     "name": "stdout",
     "output_type": "stream",
     "text": [
      "\n",
      "(2, 18)\n"
     ]
    },
    {
     "data": {
      "text/plain": [
       "['You tend to be industrious, efficient, practical, exacting, scientific, organized, shy, thrifty, studious, economical, and punctual.',\n",
       " 'You tend to be versatile.']"
      ]
     },
     "metadata": {},
     "output_type": "display_data"
    },
    {
     "data": {
      "text/plain": [
       "['You tend to be open-minded.']"
      ]
     },
     "metadata": {},
     "output_type": "display_data"
    },
    {
     "name": "stdout",
     "output_type": "stream",
     "text": [
      "\n",
      "(3, 7)\n"
     ]
    },
    {
     "data": {
      "text/plain": [
       "['You tend to be idealistic.', 'You tend to be optimistic.']"
      ]
     },
     "metadata": {},
     "output_type": "display_data"
    },
    {
     "data": {
      "text/plain": [
       "['Your mind is analytical.']"
      ]
     },
     "metadata": {},
     "output_type": "display_data"
    },
    {
     "name": "stdout",
     "output_type": "stream",
     "text": [
      "\n",
      "(6, 2)\n"
     ]
    },
    {
     "data": {
      "text/plain": [
       "['You have common sense to manage others.',\n",
       " 'You have the ability to manage others.']"
      ]
     },
     "metadata": {},
     "output_type": "display_data"
    },
    {
     "data": {
      "text/plain": [
       "['You tend to be industrious, efficient, practical, exacting, scientific, organized, shy, thrifty, studious, economical, and punctual.',\n",
       " 'You tend to be versatile.']"
      ]
     },
     "metadata": {},
     "output_type": "display_data"
    },
    {
     "name": "stdout",
     "output_type": "stream",
     "text": [
      "\n",
      "(6, 10)\n"
     ]
    },
    {
     "data": {
      "text/plain": [
       "['You have common sense to manage others.',\n",
       " 'You have the ability to manage others.']"
      ]
     },
     "metadata": {},
     "output_type": "display_data"
    },
    {
     "data": {
      "text/plain": [
       "['you dislike messes.']"
      ]
     },
     "metadata": {},
     "output_type": "display_data"
    },
    {
     "name": "stdout",
     "output_type": "stream",
     "text": [
      "\n",
      "(7, 1)\n"
     ]
    },
    {
     "data": {
      "text/plain": [
       "['Your mind is analytical.']"
      ]
     },
     "metadata": {},
     "output_type": "display_data"
    },
    {
     "data": {
      "text/plain": [
       "['You are patient unless someone takes you too far.',\n",
       " 'You are usually slow to anger unless someone takes you too far.']"
      ]
     },
     "metadata": {},
     "output_type": "display_data"
    },
    {
     "name": "stdout",
     "output_type": "stream",
     "text": [
      "\n",
      "(7, 3)\n"
     ]
    },
    {
     "data": {
      "text/plain": [
       "['Your mind is analytical.']"
      ]
     },
     "metadata": {},
     "output_type": "display_data"
    },
    {
     "data": {
      "text/plain": [
       "['You tend to be idealistic.', 'You tend to be optimistic.']"
      ]
     },
     "metadata": {},
     "output_type": "display_data"
    },
    {
     "name": "stdout",
     "output_type": "stream",
     "text": [
      "\n",
      "(7, 9)\n"
     ]
    },
    {
     "data": {
      "text/plain": [
       "['Your mind is analytical.']"
      ]
     },
     "metadata": {},
     "output_type": "display_data"
    },
    {
     "data": {
      "text/plain": [
       "['Your mind is deep.']"
      ]
     },
     "metadata": {},
     "output_type": "display_data"
    },
    {
     "name": "stdout",
     "output_type": "stream",
     "text": [
      "\n",
      "(9, 7)\n"
     ]
    },
    {
     "data": {
      "text/plain": [
       "['Your mind is deep.']"
      ]
     },
     "metadata": {},
     "output_type": "display_data"
    },
    {
     "data": {
      "text/plain": [
       "['Your mind is analytical.']"
      ]
     },
     "metadata": {},
     "output_type": "display_data"
    },
    {
     "name": "stdout",
     "output_type": "stream",
     "text": [
      "\n",
      "(9, 18)\n"
     ]
    },
    {
     "data": {
      "text/plain": [
       "['Your mind is deep.']"
      ]
     },
     "metadata": {},
     "output_type": "display_data"
    },
    {
     "data": {
      "text/plain": [
       "['You tend to be open-minded.']"
      ]
     },
     "metadata": {},
     "output_type": "display_data"
    },
    {
     "name": "stdout",
     "output_type": "stream",
     "text": [
      "\n",
      "(10, 6)\n"
     ]
    },
    {
     "data": {
      "text/plain": [
       "['you dislike messes.']"
      ]
     },
     "metadata": {},
     "output_type": "display_data"
    },
    {
     "data": {
      "text/plain": [
       "['You have common sense to manage others.',\n",
       " 'You have the ability to manage others.']"
      ]
     },
     "metadata": {},
     "output_type": "display_data"
    },
    {
     "name": "stdout",
     "output_type": "stream",
     "text": [
      "\n",
      "(10, 12)\n"
     ]
    },
    {
     "data": {
      "text/plain": [
       "['you dislike messes.']"
      ]
     },
     "metadata": {},
     "output_type": "display_data"
    },
    {
     "data": {
      "text/plain": [
       "['You tend to be friendly.']"
      ]
     },
     "metadata": {},
     "output_type": "display_data"
    },
    {
     "name": "stdout",
     "output_type": "stream",
     "text": [
      "\n",
      "(10, 18)\n"
     ]
    },
    {
     "data": {
      "text/plain": [
       "['you dislike messes.']"
      ]
     },
     "metadata": {},
     "output_type": "display_data"
    },
    {
     "data": {
      "text/plain": [
       "['You tend to be open-minded.']"
      ]
     },
     "metadata": {},
     "output_type": "display_data"
    },
    {
     "name": "stdout",
     "output_type": "stream",
     "text": [
      "\n",
      "(12, 10)\n"
     ]
    },
    {
     "data": {
      "text/plain": [
       "['You tend to be friendly.']"
      ]
     },
     "metadata": {},
     "output_type": "display_data"
    },
    {
     "data": {
      "text/plain": [
       "['you dislike messes.']"
      ]
     },
     "metadata": {},
     "output_type": "display_data"
    },
    {
     "name": "stdout",
     "output_type": "stream",
     "text": [
      "\n",
      "(18, 0)\n"
     ]
    },
    {
     "data": {
      "text/plain": [
       "['You tend to be open-minded.']"
      ]
     },
     "metadata": {},
     "output_type": "display_data"
    },
    {
     "data": {
      "text/plain": [
       "['You are consistent.', 'You are reliable.', 'You tend to be dependable.']"
      ]
     },
     "metadata": {},
     "output_type": "display_data"
    },
    {
     "name": "stdout",
     "output_type": "stream",
     "text": [
      "\n",
      "(18, 1)\n"
     ]
    },
    {
     "data": {
      "text/plain": [
       "['You tend to be open-minded.']"
      ]
     },
     "metadata": {},
     "output_type": "display_data"
    },
    {
     "data": {
      "text/plain": [
       "['You are patient unless someone takes you too far.',\n",
       " 'You are usually slow to anger unless someone takes you too far.']"
      ]
     },
     "metadata": {},
     "output_type": "display_data"
    },
    {
     "name": "stdout",
     "output_type": "stream",
     "text": [
      "\n",
      "(18, 2)\n"
     ]
    },
    {
     "data": {
      "text/plain": [
       "['You tend to be open-minded.']"
      ]
     },
     "metadata": {},
     "output_type": "display_data"
    },
    {
     "data": {
      "text/plain": [
       "['You tend to be industrious, efficient, practical, exacting, scientific, organized, shy, thrifty, studious, economical, and punctual.',\n",
       " 'You tend to be versatile.']"
      ]
     },
     "metadata": {},
     "output_type": "display_data"
    },
    {
     "name": "stdout",
     "output_type": "stream",
     "text": [
      "\n",
      "(18, 9)\n"
     ]
    },
    {
     "data": {
      "text/plain": [
       "['You tend to be open-minded.']"
      ]
     },
     "metadata": {},
     "output_type": "display_data"
    },
    {
     "data": {
      "text/plain": [
       "['Your mind is deep.']"
      ]
     },
     "metadata": {},
     "output_type": "display_data"
    },
    {
     "name": "stdout",
     "output_type": "stream",
     "text": [
      "\n",
      "(18, 10)\n"
     ]
    },
    {
     "data": {
      "text/plain": [
       "['You tend to be open-minded.']"
      ]
     },
     "metadata": {},
     "output_type": "display_data"
    },
    {
     "data": {
      "text/plain": [
       "['you dislike messes.']"
      ]
     },
     "metadata": {},
     "output_type": "display_data"
    },
    {
     "name": "stdout",
     "output_type": "stream",
     "text": [
      "\n",
      "(18, 20)\n"
     ]
    },
    {
     "data": {
      "text/plain": [
       "['You tend to be open-minded.']"
      ]
     },
     "metadata": {},
     "output_type": "display_data"
    },
    {
     "data": {
      "text/plain": [
       "[\"You may become impatient with those who do n't learn as quickly.\"]"
      ]
     },
     "metadata": {},
     "output_type": "display_data"
    },
    {
     "name": "stdout",
     "output_type": "stream",
     "text": [
      "\n",
      "(20, 18)\n"
     ]
    },
    {
     "data": {
      "text/plain": [
       "[\"You may become impatient with those who do n't learn as quickly.\"]"
      ]
     },
     "metadata": {},
     "output_type": "display_data"
    },
    {
     "data": {
      "text/plain": [
       "['You tend to be open-minded.']"
      ]
     },
     "metadata": {},
     "output_type": "display_data"
    },
    {
     "name": "stdout",
     "output_type": "stream",
     "text": [
      "\n"
     ]
    }
   ],
   "source": [
    "for pair in notable_pairs:\n",
    "    print(pair)\n",
    "    display(clusters[str(pair[0])], clusters[str(pair[1])])\n",
    "    print()"
   ]
  },
  {
   "cell_type": "code",
   "execution_count": 53,
   "metadata": {
    "scrolled": true
   },
   "outputs": [
    {
     "name": "stdout",
     "output_type": "stream",
     "text": [
      "3\n",
      "2\n",
      "2\n",
      "2\n",
      "2\n",
      "2\n",
      "2\n",
      "1\n",
      "1\n",
      "1\n",
      "1\n",
      "1\n",
      "1\n",
      "1\n",
      "1\n",
      "1\n",
      "1\n",
      "1\n",
      "1\n",
      "1\n",
      "1\n",
      "1\n",
      "1\n",
      "1\n",
      "1\n",
      "1\n",
      "1\n",
      "1\n",
      "1\n",
      "1\n",
      "1\n",
      "1\n",
      "1\n",
      "1\n",
      "1\n",
      "1\n",
      "1\n",
      "1\n",
      "1\n"
     ]
    }
   ],
   "source": [
    "for num, cluster in clusters.items():\n",
    "    print(len(cluster))"
   ]
  },
  {
   "cell_type": "code",
   "execution_count": 60,
   "metadata": {},
   "outputs": [],
   "source": [
    "from nltk.tokenize import RegexpTokenizer\n",
    "\n",
    "def choose_longest(sentences):\n",
    "    tokenizer = RegexpTokenizer(r'\\w+')\n",
    "    max_len = 0\n",
    "    final_sent = None\n",
    "    for sent in sentences:\n",
    "        tokens = tokenizer.tokenize(sent)\n",
    "        if len(tokens) > max_len:\n",
    "            max_len = len(sent)\n",
    "            final_sent = sent\n",
    "    return final_sent\n",
    "\n",
    "from lexrank import LexRank\n",
    "from lexrank.mappings.stopwords import STOPWORDS\n",
    "def choose_salient(sentences):\n",
    "    \"\"\"\n",
    "    \n",
    "    \"\"\"\n",
    "    lxr = LexRank(sentences, stopwords=STOPWORDS['en'])\n",
    "    top_sentence = lxr.get_summary(sentences[0], summary_size=1, threshold=.1)\n",
    "    return top_sentence[0]\n",
    "    \n",
    "\n",
    "def summarize(clusters, intersentence, word_limit=90, coherence_threshold=0.6, redundancy_threshold=0.3):\n",
    "    \"\"\"\n",
    "    :param clusters: sorted (descending in num of sentences) dict of clusters {cluster_num: list_of_sentences}\n",
    "    :param intersentence: Pandas DataFrame of precomputed inter-sentence distance in pairwise matrix form.\n",
    "    :param word_limit: maximum num of words for summary.\n",
    "    :param coherence_threshold: maximum distance allowed for a sentence pair within the summary. valid values between 0-1.\n",
    "    :param redundancy_threshold: minimum distance allowed for a sentence pair within the summary. valid values between 0-1.\n",
    "    \n",
    "    We need a redundancy_threshold because the clustering algorithm does not always manage to group \n",
    "    redundant sentences together?\n",
    "    \"\"\"\n",
    "    if coherence_threshold <= redundancy_threshold:\n",
    "        raise Exception\n",
    "    \n",
    "    tokenizer = RegexpTokenizer(r'\\w+')\n",
    "    summary = list()\n",
    "    word_count = 0\n",
    "    for key, clust in clusters.items():\n",
    "        #selected = choose_longest(clust)\n",
    "        selected = choose_salient([clust])\n",
    "        tokens = tokenizer.tokenize(selected)\n",
    "        if word_count + len(tokens) < word_limit:\n",
    "            max_dist = 0\n",
    "            min_dist = 1\n",
    "            for sent in summary:\n",
    "                dist = intersentence[sent][selected]\n",
    "                if dist > max_dist:\n",
    "                    max_dist = dist\n",
    "                if dist < min_dist:\n",
    "                    min_dist = dist\n",
    "            if max_dist < coherence_threshold and min_dist > redundancy_threshold:\n",
    "                summary.append(selected)\n",
    "                word_count = word_count + len(tokens)\n",
    "        else:\n",
    "            break\n",
    "    return summary"
   ]
  },
  {
   "cell_type": "code",
   "execution_count": 61,
   "metadata": {},
   "outputs": [
    {
     "data": {
      "text/plain": [
       "'You tend to be versatile.'"
      ]
     },
     "execution_count": 61,
     "metadata": {},
     "output_type": "execute_result"
    }
   ],
   "source": [
    "# test lexrank algorithm.\n",
    "tmp = [clusters['2']]\n",
    "choose_salient(tmp)"
   ]
  },
  {
   "cell_type": "code",
   "execution_count": 62,
   "metadata": {},
   "outputs": [
    {
     "name": "stdout",
     "output_type": "stream",
     "text": [
      "no. of sentences in summary:  10\n",
      "no. of sentences in source:  47\n",
      "You tend to be dependable.\n",
      "You are usually slow to anger unless someone takes you too far.\n",
      "Your work is usually orderly.\n",
      "You prefer a regular routine, defined tasks.\n",
      "You have the ability to manage others.\n",
      "Your mind is analytical.\n",
      "you dislike dirt.\n",
      "You may be ambidextrous or mechanically inclined.\n",
      "You may become impatient with those who do n't learn as quickly.\n",
      "Money and possessions are important to you for the feelings of security they bring.\n"
     ]
    }
   ],
   "source": [
    "summary = summarize(clusters, sentence_dist, word_limit=90, coherence_threshold=0.6, redundancy_threshold=0.3)\n",
    "print(\"no. of sentences in summary: \", len(summary))\n",
    "print(\"no. of sentences in source: \", len(sentence_dist.index.values))\n",
    "\n",
    "for sent in summary:\n",
    "    print(sent)"
   ]
  },
  {
   "cell_type": "code",
   "execution_count": 57,
   "metadata": {
    "scrolled": true
   },
   "outputs": [
    {
     "name": "stdout",
     "output_type": "stream",
     "text": [
      "Debate and argument appeal to you.\n",
      "You are adventurous.\n",
      "You are independent.\n",
      "You are shy.\n",
      "You are usually outspoken, sometimes to the point of bluntness.\n",
      "You never find it difficult to change your mind or course in mid-stream.\n",
      "You tend to be idealistic.\n",
      "You tend to be open-minded.\n",
      "You tend to be optimistic.\n",
      "You tend to be versatile.\n",
      "You are very direct in thought, action, and speech and everyone knows how you feel.\n",
      "You are sensitive.\n",
      "You are sentimental.\n",
      "You are gentle.\n",
      "You are quiet.\n",
      "You are romantic.\n",
      "You tend to be friendly.\n",
      "Your mind is deep.\n",
      "You are courageous.\n",
      "You are handy with your hands.\n",
      "You are reliable.\n",
      "You enjoy building and seeing the results of your hard work.\n",
      "You grasp concepts easily.\n",
      "You are consistent.\n",
      "You never give up.\n"
     ]
    }
   ],
   "source": [
    "# find sentences that contradict with the summary\n",
    "coherence_threshold = 0.6\n",
    "contradictory_set = set()\n",
    "for sent in summary:\n",
    "    for other in sentence_dist.loc[sent].index:\n",
    "        if sentence_dist.loc[sent][other] >= coherence_threshold:\n",
    "            if other not in contradictory_set:\n",
    "                contradictory_set.add(other)\n",
    "                print(other)"
   ]
  },
  {
   "cell_type": "code",
   "execution_count": 58,
   "metadata": {
    "scrolled": true
   },
   "outputs": [
    {
     "name": "stdout",
     "output_type": "stream",
     "text": [
      "You are consistent.\n",
      "You are reliable.\n",
      "You never give up.\n",
      "You tend to be dependable.\n",
      "You tend to be friendly.\n",
      "You tend to be honest.\n",
      "You tend to be industrious, efficient, practical, exacting, scientific, organized, shy, thrifty, studious, economical, and punctual.\n",
      "You are patient unless someone takes you too far.\n",
      "You are usually slow to anger unless someone takes you too far.\n",
      "Your work is usually neat.\n",
      "Your work is usually orderly.\n",
      "You prefer a regular routine, defined responsibilities.\n",
      "You prefer a regular routine, defined tasks.\n",
      "Keeping things going is your strength, especially once someone else starts them.\n",
      "You are independent.\n",
      "You can handle more of the workload than most around you.\n",
      "You have common sense to manage others.\n",
      "You have the ability to manage others.\n",
      "Your mind is analytical.\n",
      "you probably have a good head for numbers.\n",
      "you dislike dirt.\n",
      "you dislike messes.\n",
      "You may be ambidextrous or mechanically inclined.\n",
      "You may become impatient with those who do n't learn as quickly.\n",
      "Money and possessions are important to you for the feelings of security they bring.\n"
     ]
    }
   ],
   "source": [
    "# find sentences that are redundant with the summary\n",
    "redundancy_threshold = 0.3\n",
    "redundant_set = set()\n",
    "for sent in summary:\n",
    "    for other in sentence_dist.loc[sent].index:\n",
    "        if sentence_dist.loc[sent][other] <= redundancy_threshold:\n",
    "            if other not in redundant_set:\n",
    "                redundant_set.add(other)\n",
    "                print(other)"
   ]
  },
  {
   "cell_type": "code",
   "execution_count": 59,
   "metadata": {},
   "outputs": [
    {
     "data": {
      "text/plain": [
       "{'You are consistent.',\n",
       " 'You are independent.',\n",
       " 'You are reliable.',\n",
       " 'You never give up.',\n",
       " 'You tend to be friendly.'}"
      ]
     },
     "execution_count": 59,
     "metadata": {},
     "output_type": "execute_result"
    }
   ],
   "source": [
    "contradictory_set & redundant_set"
   ]
  },
  {
   "cell_type": "markdown",
   "metadata": {},
   "source": []
  }
 ],
 "metadata": {
  "kernelspec": {
   "display_name": "FYP",
   "language": "python",
   "name": "fyp"
  },
  "language_info": {
   "codemirror_mode": {
    "name": "ipython",
    "version": 3
   },
   "file_extension": ".py",
   "mimetype": "text/x-python",
   "name": "python",
   "nbconvert_exporter": "python",
   "pygments_lexer": "ipython3",
   "version": "3.7.3"
  }
 },
 "nbformat": 4,
 "nbformat_minor": 4
}
