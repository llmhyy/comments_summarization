{
 "cells": [
  {
   "cell_type": "code",
   "execution_count": 2,
   "metadata": {},
   "outputs": [],
   "source": [
    "import json\n",
    "import networkx as nx\n",
    "import pandas as pd\n",
    "import numpy as np"
   ]
  },
  {
   "cell_type": "markdown",
   "metadata": {},
   "source": [
    "### final summarization algorithm"
   ]
  },
  {
   "cell_type": "code",
   "execution_count": 3,
   "metadata": {
    "scrolled": true
   },
   "outputs": [
    {
     "data": {
      "text/plain": [
       "{'0': ['You are consistent.',\n",
       "  'You are reliable.',\n",
       "  'You tend to be dependable.'],\n",
       " '1': ['You are patient unless someone takes you too far.',\n",
       "  'You are usually slow to anger unless someone takes you too far.'],\n",
       " '2': ['You tend to be industrious, efficient, practical, exacting, scientific, organized, shy, thrifty, studious, economical, and punctual.',\n",
       "  'You tend to be versatile.'],\n",
       " '3': ['You tend to be idealistic.', 'You tend to be optimistic.'],\n",
       " '4': ['Your work is usually neat.', 'Your work is usually orderly.'],\n",
       " '5': ['You prefer a regular routine, defined responsibilities.',\n",
       "  'You prefer a regular routine, defined tasks.'],\n",
       " '6': ['You have common sense to manage others.',\n",
       "  'You have the ability to manage others.'],\n",
       " '7': ['Your mind is analytical.'],\n",
       " '8': ['you dislike dirt.'],\n",
       " '9': ['Your mind is deep.'],\n",
       " '10': ['you dislike messes.'],\n",
       " '11': ['You grasp concepts easily.'],\n",
       " '12': ['You tend to be friendly.'],\n",
       " '13': ['You are romantic.'],\n",
       " '14': ['you probably have a good head for numbers.'],\n",
       " '15': ['You never give up.'],\n",
       " '16': ['You are sentimental.'],\n",
       " '17': ['You may be ambidextrous or mechanically inclined.'],\n",
       " '18': ['You tend to be open-minded.'],\n",
       " '19': ['You are usually outspoken, sometimes to the point of bluntness.'],\n",
       " '20': [\"You may become impatient with those who do n't learn as quickly.\"],\n",
       " '21': ['You are very direct in thought, action, and speech and everyone knows how you feel.'],\n",
       " '22': ['You are gentle.'],\n",
       " '23': ['Debate and argument appeal to you.'],\n",
       " '24': ['You are quiet.'],\n",
       " '25': ['You are handy with your hands.'],\n",
       " '26': ['You never find it difficult to change your mind or course in mid-stream.'],\n",
       " '27': ['Money and possessions are important to you for the feelings of security they bring.'],\n",
       " '28': ['You are courageous.'],\n",
       " '29': ['You are adventurous.'],\n",
       " '30': ['You tend to be honest.'],\n",
       " '31': ['You are sensitive.'],\n",
       " '32': ['You enjoy building and seeing the results of your hard work.'],\n",
       " '33': ['Keeping things going is your strength, especially once someone else starts them.'],\n",
       " '34': ['Whatever you have set your sights on, you refuse to give up or let go of it.'],\n",
       " '35': ['You can handle more of the workload than most around you.'],\n",
       " '36': ['You may be a bit of a perfectionist.'],\n",
       " '37': ['You are independent.'],\n",
       " '38': ['You are shy.']}"
      ]
     },
     "execution_count": 3,
     "metadata": {},
     "output_type": "execute_result"
    }
   ],
   "source": [
    "with open(\"../data/roberta/Astro1_decomposed_clean_clusters.json\") as fp:\n",
    "    clusters = json.load(fp)\n",
    "clusters"
   ]
  },
  {
   "cell_type": "code",
   "execution_count": 12,
   "metadata": {},
   "outputs": [
    {
     "data": {
      "text/html": [
       "<div>\n",
       "<style scoped>\n",
       "    .dataframe tbody tr th:only-of-type {\n",
       "        vertical-align: middle;\n",
       "    }\n",
       "\n",
       "    .dataframe tbody tr th {\n",
       "        vertical-align: top;\n",
       "    }\n",
       "\n",
       "    .dataframe thead th {\n",
       "        text-align: right;\n",
       "    }\n",
       "</style>\n",
       "<table border=\"1\" class=\"dataframe\">\n",
       "  <thead>\n",
       "    <tr style=\"text-align: right;\">\n",
       "      <th></th>\n",
       "      <th>0</th>\n",
       "      <th>1</th>\n",
       "      <th>2</th>\n",
       "      <th>3</th>\n",
       "      <th>4</th>\n",
       "      <th>5</th>\n",
       "      <th>6</th>\n",
       "      <th>7</th>\n",
       "      <th>8</th>\n",
       "      <th>9</th>\n",
       "      <th>...</th>\n",
       "      <th>29</th>\n",
       "      <th>30</th>\n",
       "      <th>31</th>\n",
       "      <th>32</th>\n",
       "      <th>33</th>\n",
       "      <th>34</th>\n",
       "      <th>35</th>\n",
       "      <th>36</th>\n",
       "      <th>37</th>\n",
       "      <th>38</th>\n",
       "    </tr>\n",
       "  </thead>\n",
       "  <tbody>\n",
       "    <tr>\n",
       "      <th>0</th>\n",
       "      <td>0.0</td>\n",
       "      <td>0.490762</td>\n",
       "      <td>0.565536</td>\n",
       "      <td>0.702538</td>\n",
       "      <td>0.486609</td>\n",
       "      <td>0.434671</td>\n",
       "      <td>0.420607</td>\n",
       "      <td>0.470963</td>\n",
       "      <td>0.535306</td>\n",
       "      <td>0.474757</td>\n",
       "      <td>...</td>\n",
       "      <td>0.994702</td>\n",
       "      <td>0.310831</td>\n",
       "      <td>0.736691</td>\n",
       "      <td>0.489935</td>\n",
       "      <td>0.487737</td>\n",
       "      <td>0.436744</td>\n",
       "      <td>0.485244</td>\n",
       "      <td>0.496018</td>\n",
       "      <td>0.374306</td>\n",
       "      <td>0.913425</td>\n",
       "    </tr>\n",
       "    <tr>\n",
       "      <th>1</th>\n",
       "      <td>0.0</td>\n",
       "      <td>0.000000</td>\n",
       "      <td>0.496256</td>\n",
       "      <td>0.495617</td>\n",
       "      <td>0.497016</td>\n",
       "      <td>0.498653</td>\n",
       "      <td>0.498513</td>\n",
       "      <td>0.485316</td>\n",
       "      <td>0.496920</td>\n",
       "      <td>0.498119</td>\n",
       "      <td>...</td>\n",
       "      <td>0.722411</td>\n",
       "      <td>0.491386</td>\n",
       "      <td>0.496020</td>\n",
       "      <td>0.496536</td>\n",
       "      <td>0.467312</td>\n",
       "      <td>0.719175</td>\n",
       "      <td>0.499027</td>\n",
       "      <td>0.494932</td>\n",
       "      <td>0.496090</td>\n",
       "      <td>0.493820</td>\n",
       "    </tr>\n",
       "    <tr>\n",
       "      <th>2</th>\n",
       "      <td>0.0</td>\n",
       "      <td>0.000000</td>\n",
       "      <td>0.000000</td>\n",
       "      <td>0.688080</td>\n",
       "      <td>0.401225</td>\n",
       "      <td>0.683074</td>\n",
       "      <td>0.422336</td>\n",
       "      <td>0.399885</td>\n",
       "      <td>0.521273</td>\n",
       "      <td>0.455950</td>\n",
       "      <td>...</td>\n",
       "      <td>0.510910</td>\n",
       "      <td>0.377685</td>\n",
       "      <td>0.720328</td>\n",
       "      <td>0.497250</td>\n",
       "      <td>0.496234</td>\n",
       "      <td>0.694938</td>\n",
       "      <td>0.467625</td>\n",
       "      <td>0.666525</td>\n",
       "      <td>0.307963</td>\n",
       "      <td>0.498258</td>\n",
       "    </tr>\n",
       "    <tr>\n",
       "      <th>3</th>\n",
       "      <td>0.0</td>\n",
       "      <td>0.000000</td>\n",
       "      <td>0.000000</td>\n",
       "      <td>0.000000</td>\n",
       "      <td>0.498445</td>\n",
       "      <td>0.681113</td>\n",
       "      <td>0.557634</td>\n",
       "      <td>0.955609</td>\n",
       "      <td>0.472613</td>\n",
       "      <td>0.605638</td>\n",
       "      <td>...</td>\n",
       "      <td>0.533793</td>\n",
       "      <td>0.897942</td>\n",
       "      <td>0.663004</td>\n",
       "      <td>0.498017</td>\n",
       "      <td>0.496561</td>\n",
       "      <td>0.471621</td>\n",
       "      <td>0.495195</td>\n",
       "      <td>0.309764</td>\n",
       "      <td>0.487495</td>\n",
       "      <td>0.845037</td>\n",
       "    </tr>\n",
       "    <tr>\n",
       "      <th>4</th>\n",
       "      <td>0.0</td>\n",
       "      <td>0.000000</td>\n",
       "      <td>0.000000</td>\n",
       "      <td>0.000000</td>\n",
       "      <td>0.000000</td>\n",
       "      <td>0.436028</td>\n",
       "      <td>0.495657</td>\n",
       "      <td>0.445535</td>\n",
       "      <td>0.494122</td>\n",
       "      <td>0.488100</td>\n",
       "      <td>...</td>\n",
       "      <td>0.850471</td>\n",
       "      <td>0.495483</td>\n",
       "      <td>0.498484</td>\n",
       "      <td>0.499332</td>\n",
       "      <td>0.498021</td>\n",
       "      <td>0.498871</td>\n",
       "      <td>0.497647</td>\n",
       "      <td>0.482612</td>\n",
       "      <td>0.499371</td>\n",
       "      <td>0.497953</td>\n",
       "    </tr>\n",
       "  </tbody>\n",
       "</table>\n",
       "<p>5 rows × 39 columns</p>\n",
       "</div>"
      ],
      "text/plain": [
       "    0         1         2         3         4         5         6         7   \\\n",
       "0  0.0  0.490762  0.565536  0.702538  0.486609  0.434671  0.420607  0.470963   \n",
       "1  0.0  0.000000  0.496256  0.495617  0.497016  0.498653  0.498513  0.485316   \n",
       "2  0.0  0.000000  0.000000  0.688080  0.401225  0.683074  0.422336  0.399885   \n",
       "3  0.0  0.000000  0.000000  0.000000  0.498445  0.681113  0.557634  0.955609   \n",
       "4  0.0  0.000000  0.000000  0.000000  0.000000  0.436028  0.495657  0.445535   \n",
       "\n",
       "         8         9   ...        29        30        31        32        33  \\\n",
       "0  0.535306  0.474757  ...  0.994702  0.310831  0.736691  0.489935  0.487737   \n",
       "1  0.496920  0.498119  ...  0.722411  0.491386  0.496020  0.496536  0.467312   \n",
       "2  0.521273  0.455950  ...  0.510910  0.377685  0.720328  0.497250  0.496234   \n",
       "3  0.472613  0.605638  ...  0.533793  0.897942  0.663004  0.498017  0.496561   \n",
       "4  0.494122  0.488100  ...  0.850471  0.495483  0.498484  0.499332  0.498021   \n",
       "\n",
       "         34        35        36        37        38  \n",
       "0  0.436744  0.485244  0.496018  0.374306  0.913425  \n",
       "1  0.719175  0.499027  0.494932  0.496090  0.493820  \n",
       "2  0.694938  0.467625  0.666525  0.307963  0.498258  \n",
       "3  0.471621  0.495195  0.309764  0.487495  0.845037  \n",
       "4  0.498871  0.497647  0.482612  0.499371  0.497953  \n",
       "\n",
       "[5 rows x 39 columns]"
      ]
     },
     "execution_count": 12,
     "metadata": {},
     "output_type": "execute_result"
    }
   ],
   "source": [
    "intercluster_dist = pd.read_csv(\"../data/viz/Astro1_decomposed_clean_pairs_roberta_intercluster.csv\", header=None)\n",
    "intercluster_dist.head()"
   ]
  },
  {
   "cell_type": "code",
   "execution_count": 13,
   "metadata": {},
   "outputs": [
    {
     "data": {
      "text/plain": [
       "['You are consistent.', 'You are reliable.', 'You tend to be dependable.']"
      ]
     },
     "metadata": {},
     "output_type": "display_data"
    },
    {
     "data": {
      "text/plain": [
       "['You are adventurous.']"
      ]
     },
     "metadata": {},
     "output_type": "display_data"
    }
   ],
   "source": [
    "display(clusters['0'], clusters['29'])"
   ]
  },
  {
   "cell_type": "code",
   "execution_count": 16,
   "metadata": {
    "scrolled": true
   },
   "outputs": [
    {
     "data": {
      "text/html": [
       "<div>\n",
       "<style scoped>\n",
       "    .dataframe tbody tr th:only-of-type {\n",
       "        vertical-align: middle;\n",
       "    }\n",
       "\n",
       "    .dataframe tbody tr th {\n",
       "        vertical-align: top;\n",
       "    }\n",
       "\n",
       "    .dataframe thead th {\n",
       "        text-align: right;\n",
       "    }\n",
       "</style>\n",
       "<table border=\"1\" class=\"dataframe\">\n",
       "  <thead>\n",
       "    <tr style=\"text-align: right;\">\n",
       "      <th></th>\n",
       "      <th>Debate and argument appeal to you.</th>\n",
       "      <th>Keeping things going is your strength, especially once someone else starts them.</th>\n",
       "      <th>Money and possessions are important to you for the feelings of security they bring.</th>\n",
       "      <th>Whatever you have set your sights on, you refuse to give up or let go of it.</th>\n",
       "      <th>You are adventurous.</th>\n",
       "      <th>You are consistent.</th>\n",
       "      <th>You are courageous.</th>\n",
       "      <th>You are gentle.</th>\n",
       "      <th>You are handy with your hands.</th>\n",
       "      <th>You are independent.</th>\n",
       "      <th>...</th>\n",
       "      <th>You tend to be open-minded.</th>\n",
       "      <th>You tend to be optimistic.</th>\n",
       "      <th>You tend to be versatile.</th>\n",
       "      <th>Your mind is analytical.</th>\n",
       "      <th>Your mind is deep.</th>\n",
       "      <th>Your work is usually neat.</th>\n",
       "      <th>Your work is usually orderly.</th>\n",
       "      <th>you dislike dirt.</th>\n",
       "      <th>you dislike messes.</th>\n",
       "      <th>you probably have a good head for numbers.</th>\n",
       "    </tr>\n",
       "    <tr>\n",
       "      <th>first</th>\n",
       "      <th></th>\n",
       "      <th></th>\n",
       "      <th></th>\n",
       "      <th></th>\n",
       "      <th></th>\n",
       "      <th></th>\n",
       "      <th></th>\n",
       "      <th></th>\n",
       "      <th></th>\n",
       "      <th></th>\n",
       "      <th></th>\n",
       "      <th></th>\n",
       "      <th></th>\n",
       "      <th></th>\n",
       "      <th></th>\n",
       "      <th></th>\n",
       "      <th></th>\n",
       "      <th></th>\n",
       "      <th></th>\n",
       "      <th></th>\n",
       "      <th></th>\n",
       "    </tr>\n",
       "  </thead>\n",
       "  <tbody>\n",
       "    <tr>\n",
       "      <th>Debate and argument appeal to you.</th>\n",
       "      <td>0.000000</td>\n",
       "      <td>0.477347</td>\n",
       "      <td>0.876901</td>\n",
       "      <td>0.490185</td>\n",
       "      <td>0.459430</td>\n",
       "      <td>0.493072</td>\n",
       "      <td>0.481451</td>\n",
       "      <td>0.987908</td>\n",
       "      <td>0.478649</td>\n",
       "      <td>0.484124</td>\n",
       "      <td>...</td>\n",
       "      <td>0.460759</td>\n",
       "      <td>0.494005</td>\n",
       "      <td>0.489710</td>\n",
       "      <td>0.423102</td>\n",
       "      <td>0.490819</td>\n",
       "      <td>0.749619</td>\n",
       "      <td>0.669248</td>\n",
       "      <td>0.774171</td>\n",
       "      <td>0.494406</td>\n",
       "      <td>0.496236</td>\n",
       "    </tr>\n",
       "    <tr>\n",
       "      <th>Keeping things going is your strength, especially once someone else starts them.</th>\n",
       "      <td>0.477347</td>\n",
       "      <td>0.000000</td>\n",
       "      <td>0.493668</td>\n",
       "      <td>0.475753</td>\n",
       "      <td>0.489936</td>\n",
       "      <td>0.492295</td>\n",
       "      <td>0.496694</td>\n",
       "      <td>0.494093</td>\n",
       "      <td>0.497907</td>\n",
       "      <td>0.486857</td>\n",
       "      <td>...</td>\n",
       "      <td>0.491312</td>\n",
       "      <td>0.498523</td>\n",
       "      <td>0.495502</td>\n",
       "      <td>0.467369</td>\n",
       "      <td>0.496776</td>\n",
       "      <td>0.498918</td>\n",
       "      <td>0.497123</td>\n",
       "      <td>0.492767</td>\n",
       "      <td>0.487082</td>\n",
       "      <td>0.492085</td>\n",
       "    </tr>\n",
       "    <tr>\n",
       "      <th>Money and possessions are important to you for the feelings of security they bring.</th>\n",
       "      <td>0.876901</td>\n",
       "      <td>0.493668</td>\n",
       "      <td>0.000000</td>\n",
       "      <td>0.493206</td>\n",
       "      <td>0.880100</td>\n",
       "      <td>0.487633</td>\n",
       "      <td>0.495141</td>\n",
       "      <td>0.496598</td>\n",
       "      <td>0.494791</td>\n",
       "      <td>0.494470</td>\n",
       "      <td>...</td>\n",
       "      <td>0.727914</td>\n",
       "      <td>0.497632</td>\n",
       "      <td>0.486775</td>\n",
       "      <td>0.497237</td>\n",
       "      <td>0.492624</td>\n",
       "      <td>0.472106</td>\n",
       "      <td>0.468355</td>\n",
       "      <td>0.472730</td>\n",
       "      <td>0.490677</td>\n",
       "      <td>0.495770</td>\n",
       "    </tr>\n",
       "    <tr>\n",
       "      <th>Whatever you have set your sights on, you refuse to give up or let go of it.</th>\n",
       "      <td>0.490185</td>\n",
       "      <td>0.475753</td>\n",
       "      <td>0.493206</td>\n",
       "      <td>0.000000</td>\n",
       "      <td>0.445039</td>\n",
       "      <td>0.422655</td>\n",
       "      <td>0.448662</td>\n",
       "      <td>0.955826</td>\n",
       "      <td>0.487032</td>\n",
       "      <td>0.437913</td>\n",
       "      <td>...</td>\n",
       "      <td>0.951195</td>\n",
       "      <td>0.476425</td>\n",
       "      <td>0.899926</td>\n",
       "      <td>0.494302</td>\n",
       "      <td>0.494366</td>\n",
       "      <td>0.499613</td>\n",
       "      <td>0.498129</td>\n",
       "      <td>0.486103</td>\n",
       "      <td>0.491008</td>\n",
       "      <td>0.499572</td>\n",
       "    </tr>\n",
       "    <tr>\n",
       "      <th>You are adventurous.</th>\n",
       "      <td>0.459430</td>\n",
       "      <td>0.489936</td>\n",
       "      <td>0.880100</td>\n",
       "      <td>0.445039</td>\n",
       "      <td>0.000000</td>\n",
       "      <td>0.998368</td>\n",
       "      <td>0.039083</td>\n",
       "      <td>0.997403</td>\n",
       "      <td>0.325788</td>\n",
       "      <td>0.122763</td>\n",
       "      <td>...</td>\n",
       "      <td>0.040333</td>\n",
       "      <td>0.319298</td>\n",
       "      <td>0.042862</td>\n",
       "      <td>0.973734</td>\n",
       "      <td>0.397418</td>\n",
       "      <td>0.830680</td>\n",
       "      <td>0.870261</td>\n",
       "      <td>0.974492</td>\n",
       "      <td>0.954207</td>\n",
       "      <td>0.461418</td>\n",
       "    </tr>\n",
       "  </tbody>\n",
       "</table>\n",
       "<p>5 rows × 47 columns</p>\n",
       "</div>"
      ],
      "text/plain": [
       "                                                    Debate and argument appeal to you.  \\\n",
       "first                                                                                    \n",
       "Debate and argument appeal to you.                                            0.000000   \n",
       "Keeping things going is your strength, especial...                            0.477347   \n",
       "Money and possessions are important to you for ...                            0.876901   \n",
       "Whatever you have set your sights on, you refus...                            0.490185   \n",
       "You are adventurous.                                                          0.459430   \n",
       "\n",
       "                                                    Keeping things going is your strength, especially once someone else starts them.  \\\n",
       "first                                                                                                                                  \n",
       "Debate and argument appeal to you.                                                           0.477347                                  \n",
       "Keeping things going is your strength, especial...                                           0.000000                                  \n",
       "Money and possessions are important to you for ...                                           0.493668                                  \n",
       "Whatever you have set your sights on, you refus...                                           0.475753                                  \n",
       "You are adventurous.                                                                         0.489936                                  \n",
       "\n",
       "                                                    Money and possessions are important to you for the feelings of security they bring.  \\\n",
       "first                                                                                                                                     \n",
       "Debate and argument appeal to you.                                                           0.876901                                     \n",
       "Keeping things going is your strength, especial...                                           0.493668                                     \n",
       "Money and possessions are important to you for ...                                           0.000000                                     \n",
       "Whatever you have set your sights on, you refus...                                           0.493206                                     \n",
       "You are adventurous.                                                                         0.880100                                     \n",
       "\n",
       "                                                    Whatever you have set your sights on, you refuse to give up or let go of it.  \\\n",
       "first                                                                                                                              \n",
       "Debate and argument appeal to you.                                                           0.490185                              \n",
       "Keeping things going is your strength, especial...                                           0.475753                              \n",
       "Money and possessions are important to you for ...                                           0.493206                              \n",
       "Whatever you have set your sights on, you refus...                                           0.000000                              \n",
       "You are adventurous.                                                                         0.445039                              \n",
       "\n",
       "                                                    You are adventurous.  \\\n",
       "first                                                                      \n",
       "Debate and argument appeal to you.                              0.459430   \n",
       "Keeping things going is your strength, especial...              0.489936   \n",
       "Money and possessions are important to you for ...              0.880100   \n",
       "Whatever you have set your sights on, you refus...              0.445039   \n",
       "You are adventurous.                                            0.000000   \n",
       "\n",
       "                                                    You are consistent.  \\\n",
       "first                                                                     \n",
       "Debate and argument appeal to you.                             0.493072   \n",
       "Keeping things going is your strength, especial...             0.492295   \n",
       "Money and possessions are important to you for ...             0.487633   \n",
       "Whatever you have set your sights on, you refus...             0.422655   \n",
       "You are adventurous.                                           0.998368   \n",
       "\n",
       "                                                    You are courageous.  \\\n",
       "first                                                                     \n",
       "Debate and argument appeal to you.                             0.481451   \n",
       "Keeping things going is your strength, especial...             0.496694   \n",
       "Money and possessions are important to you for ...             0.495141   \n",
       "Whatever you have set your sights on, you refus...             0.448662   \n",
       "You are adventurous.                                           0.039083   \n",
       "\n",
       "                                                    You are gentle.  \\\n",
       "first                                                                 \n",
       "Debate and argument appeal to you.                         0.987908   \n",
       "Keeping things going is your strength, especial...         0.494093   \n",
       "Money and possessions are important to you for ...         0.496598   \n",
       "Whatever you have set your sights on, you refus...         0.955826   \n",
       "You are adventurous.                                       0.997403   \n",
       "\n",
       "                                                    You are handy with your hands.  \\\n",
       "first                                                                                \n",
       "Debate and argument appeal to you.                                        0.478649   \n",
       "Keeping things going is your strength, especial...                        0.497907   \n",
       "Money and possessions are important to you for ...                        0.494791   \n",
       "Whatever you have set your sights on, you refus...                        0.487032   \n",
       "You are adventurous.                                                      0.325788   \n",
       "\n",
       "                                                    You are independent.  ...  \\\n",
       "first                                                                     ...   \n",
       "Debate and argument appeal to you.                              0.484124  ...   \n",
       "Keeping things going is your strength, especial...              0.486857  ...   \n",
       "Money and possessions are important to you for ...              0.494470  ...   \n",
       "Whatever you have set your sights on, you refus...              0.437913  ...   \n",
       "You are adventurous.                                            0.122763  ...   \n",
       "\n",
       "                                                    You tend to be open-minded.  \\\n",
       "first                                                                             \n",
       "Debate and argument appeal to you.                                     0.460759   \n",
       "Keeping things going is your strength, especial...                     0.491312   \n",
       "Money and possessions are important to you for ...                     0.727914   \n",
       "Whatever you have set your sights on, you refus...                     0.951195   \n",
       "You are adventurous.                                                   0.040333   \n",
       "\n",
       "                                                    You tend to be optimistic.  \\\n",
       "first                                                                            \n",
       "Debate and argument appeal to you.                                    0.494005   \n",
       "Keeping things going is your strength, especial...                    0.498523   \n",
       "Money and possessions are important to you for ...                    0.497632   \n",
       "Whatever you have set your sights on, you refus...                    0.476425   \n",
       "You are adventurous.                                                  0.319298   \n",
       "\n",
       "                                                    You tend to be versatile.  \\\n",
       "first                                                                           \n",
       "Debate and argument appeal to you.                                   0.489710   \n",
       "Keeping things going is your strength, especial...                   0.495502   \n",
       "Money and possessions are important to you for ...                   0.486775   \n",
       "Whatever you have set your sights on, you refus...                   0.899926   \n",
       "You are adventurous.                                                 0.042862   \n",
       "\n",
       "                                                    Your mind is analytical.  \\\n",
       "first                                                                          \n",
       "Debate and argument appeal to you.                                  0.423102   \n",
       "Keeping things going is your strength, especial...                  0.467369   \n",
       "Money and possessions are important to you for ...                  0.497237   \n",
       "Whatever you have set your sights on, you refus...                  0.494302   \n",
       "You are adventurous.                                                0.973734   \n",
       "\n",
       "                                                    Your mind is deep.  \\\n",
       "first                                                                    \n",
       "Debate and argument appeal to you.                            0.490819   \n",
       "Keeping things going is your strength, especial...            0.496776   \n",
       "Money and possessions are important to you for ...            0.492624   \n",
       "Whatever you have set your sights on, you refus...            0.494366   \n",
       "You are adventurous.                                          0.397418   \n",
       "\n",
       "                                                    Your work is usually neat.  \\\n",
       "first                                                                            \n",
       "Debate and argument appeal to you.                                    0.749619   \n",
       "Keeping things going is your strength, especial...                    0.498918   \n",
       "Money and possessions are important to you for ...                    0.472106   \n",
       "Whatever you have set your sights on, you refus...                    0.499613   \n",
       "You are adventurous.                                                  0.830680   \n",
       "\n",
       "                                                    Your work is usually orderly.  \\\n",
       "first                                                                               \n",
       "Debate and argument appeal to you.                                       0.669248   \n",
       "Keeping things going is your strength, especial...                       0.497123   \n",
       "Money and possessions are important to you for ...                       0.468355   \n",
       "Whatever you have set your sights on, you refus...                       0.498129   \n",
       "You are adventurous.                                                     0.870261   \n",
       "\n",
       "                                                    you dislike dirt.  \\\n",
       "first                                                                   \n",
       "Debate and argument appeal to you.                           0.774171   \n",
       "Keeping things going is your strength, especial...           0.492767   \n",
       "Money and possessions are important to you for ...           0.472730   \n",
       "Whatever you have set your sights on, you refus...           0.486103   \n",
       "You are adventurous.                                         0.974492   \n",
       "\n",
       "                                                    you dislike messes.  \\\n",
       "first                                                                     \n",
       "Debate and argument appeal to you.                             0.494406   \n",
       "Keeping things going is your strength, especial...             0.487082   \n",
       "Money and possessions are important to you for ...             0.490677   \n",
       "Whatever you have set your sights on, you refus...             0.491008   \n",
       "You are adventurous.                                           0.954207   \n",
       "\n",
       "                                                    you probably have a good head for numbers.  \n",
       "first                                                                                           \n",
       "Debate and argument appeal to you.                                                    0.496236  \n",
       "Keeping things going is your strength, especial...                                    0.492085  \n",
       "Money and possessions are important to you for ...                                    0.495770  \n",
       "Whatever you have set your sights on, you refus...                                    0.499572  \n",
       "You are adventurous.                                                                  0.461418  \n",
       "\n",
       "[5 rows x 47 columns]"
      ]
     },
     "execution_count": 16,
     "metadata": {},
     "output_type": "execute_result"
    }
   ],
   "source": [
    "sentence_dist = pd.read_csv(\"../data/roberta/Astro1_decomposed_clean_pairs_roberta_pairwisematrix.csv\", index_col=\"first\")\n",
    "sentence_dist.head()"
   ]
  },
  {
   "cell_type": "code",
   "execution_count": 70,
   "metadata": {},
   "outputs": [
    {
     "data": {
      "text/plain": [
       "0.02400507815541539"
      ]
     },
     "execution_count": 70,
     "metadata": {},
     "output_type": "execute_result"
    }
   ],
   "source": [
    "A = \"you dislike dirt.\"\n",
    "B = \"you dislike messes.\"\n",
    "sentence_dist[A][B]"
   ]
  },
  {
   "cell_type": "code",
   "execution_count": 20,
   "metadata": {},
   "outputs": [],
   "source": [
    "notable_pairs = list()\n",
    "for clust1 in intercluster_dist.index:\n",
    "    for clust2 in intercluster_dist.columns:\n",
    "        if intercluster_dist.loc[clust1][clust2] > 0.95:\n",
    "            notable_pairs.append((clust1, clust2))"
   ]
  },
  {
   "cell_type": "code",
   "execution_count": 23,
   "metadata": {
    "scrolled": true
   },
   "outputs": [
    {
     "data": {
      "text/plain": [
       "[(0, 26),\n",
       " (0, 29),\n",
       " (1, 21),\n",
       " (2, 16),\n",
       " (3, 7),\n",
       " (4, 26),\n",
       " (5, 18),\n",
       " (5, 23),\n",
       " (5, 29),\n",
       " (7, 13),\n",
       " (7, 16),\n",
       " (7, 18),\n",
       " (7, 22),\n",
       " (7, 24),\n",
       " (7, 29),\n",
       " (7, 31),\n",
       " (8, 29),\n",
       " (10, 29),\n",
       " (12, 20),\n",
       " (12, 21),\n",
       " (12, 38),\n",
       " (13, 14),\n",
       " (13, 24),\n",
       " (13, 28),\n",
       " (13, 38),\n",
       " (15, 20),\n",
       " (15, 22),\n",
       " (15, 38),\n",
       " (16, 21),\n",
       " (16, 24),\n",
       " (16, 28),\n",
       " (16, 29),\n",
       " (16, 37),\n",
       " (18, 20),\n",
       " (18, 21),\n",
       " (18, 34),\n",
       " (18, 36),\n",
       " (18, 38),\n",
       " (19, 22),\n",
       " (19, 24),\n",
       " (19, 31),\n",
       " (19, 38),\n",
       " (20, 22),\n",
       " (21, 22),\n",
       " (21, 24),\n",
       " (21, 26),\n",
       " (21, 29),\n",
       " (21, 31),\n",
       " (21, 38),\n",
       " (22, 23),\n",
       " (22, 28),\n",
       " (22, 29),\n",
       " (22, 34),\n",
       " (22, 36),\n",
       " (22, 37),\n",
       " (23, 24),\n",
       " (23, 32),\n",
       " (23, 38),\n",
       " (24, 26),\n",
       " (24, 28),\n",
       " (24, 29),\n",
       " (25, 38),\n",
       " (26, 31),\n",
       " (26, 34),\n",
       " (26, 36),\n",
       " (26, 38),\n",
       " (28, 31),\n",
       " (28, 38),\n",
       " (29, 31),\n",
       " (29, 36),\n",
       " (29, 38),\n",
       " (31, 37),\n",
       " (34, 38),\n",
       " (37, 38)]"
      ]
     },
     "execution_count": 23,
     "metadata": {},
     "output_type": "execute_result"
    }
   ],
   "source": [
    "len(notable_pairs)\n",
    "notable_pairs"
   ]
  },
  {
   "cell_type": "code",
   "execution_count": 27,
   "metadata": {
    "scrolled": true
   },
   "outputs": [
    {
     "name": "stdout",
     "output_type": "stream",
     "text": [
      "(0, 26)\n"
     ]
    },
    {
     "data": {
      "text/plain": [
       "['You are consistent.', 'You are reliable.', 'You tend to be dependable.']"
      ]
     },
     "metadata": {},
     "output_type": "display_data"
    },
    {
     "data": {
      "text/plain": [
       "['You never find it difficult to change your mind or course in mid-stream.']"
      ]
     },
     "metadata": {},
     "output_type": "display_data"
    },
    {
     "name": "stdout",
     "output_type": "stream",
     "text": [
      "\n",
      "(0, 29)\n"
     ]
    },
    {
     "data": {
      "text/plain": [
       "['You are consistent.', 'You are reliable.', 'You tend to be dependable.']"
      ]
     },
     "metadata": {},
     "output_type": "display_data"
    },
    {
     "data": {
      "text/plain": [
       "['You are adventurous.']"
      ]
     },
     "metadata": {},
     "output_type": "display_data"
    },
    {
     "name": "stdout",
     "output_type": "stream",
     "text": [
      "\n",
      "(1, 21)\n"
     ]
    },
    {
     "data": {
      "text/plain": [
       "['You are patient unless someone takes you too far.',\n",
       " 'You are usually slow to anger unless someone takes you too far.']"
      ]
     },
     "metadata": {},
     "output_type": "display_data"
    },
    {
     "data": {
      "text/plain": [
       "['You are very direct in thought, action, and speech and everyone knows how you feel.']"
      ]
     },
     "metadata": {},
     "output_type": "display_data"
    },
    {
     "name": "stdout",
     "output_type": "stream",
     "text": [
      "\n",
      "(2, 16)\n"
     ]
    },
    {
     "data": {
      "text/plain": [
       "['You tend to be industrious, efficient, practical, exacting, scientific, organized, shy, thrifty, studious, economical, and punctual.',\n",
       " 'You tend to be versatile.']"
      ]
     },
     "metadata": {},
     "output_type": "display_data"
    },
    {
     "data": {
      "text/plain": [
       "['You are sentimental.']"
      ]
     },
     "metadata": {},
     "output_type": "display_data"
    },
    {
     "name": "stdout",
     "output_type": "stream",
     "text": [
      "\n",
      "(3, 7)\n"
     ]
    },
    {
     "data": {
      "text/plain": [
       "['You tend to be idealistic.', 'You tend to be optimistic.']"
      ]
     },
     "metadata": {},
     "output_type": "display_data"
    },
    {
     "data": {
      "text/plain": [
       "['Your mind is analytical.']"
      ]
     },
     "metadata": {},
     "output_type": "display_data"
    },
    {
     "name": "stdout",
     "output_type": "stream",
     "text": [
      "\n",
      "(4, 26)\n"
     ]
    },
    {
     "data": {
      "text/plain": [
       "['Your work is usually neat.', 'Your work is usually orderly.']"
      ]
     },
     "metadata": {},
     "output_type": "display_data"
    },
    {
     "data": {
      "text/plain": [
       "['You never find it difficult to change your mind or course in mid-stream.']"
      ]
     },
     "metadata": {},
     "output_type": "display_data"
    },
    {
     "name": "stdout",
     "output_type": "stream",
     "text": [
      "\n",
      "(5, 18)\n"
     ]
    },
    {
     "data": {
      "text/plain": [
       "['You prefer a regular routine, defined responsibilities.',\n",
       " 'You prefer a regular routine, defined tasks.']"
      ]
     },
     "metadata": {},
     "output_type": "display_data"
    },
    {
     "data": {
      "text/plain": [
       "['You tend to be open-minded.']"
      ]
     },
     "metadata": {},
     "output_type": "display_data"
    },
    {
     "name": "stdout",
     "output_type": "stream",
     "text": [
      "\n",
      "(5, 23)\n"
     ]
    },
    {
     "data": {
      "text/plain": [
       "['You prefer a regular routine, defined responsibilities.',\n",
       " 'You prefer a regular routine, defined tasks.']"
      ]
     },
     "metadata": {},
     "output_type": "display_data"
    },
    {
     "data": {
      "text/plain": [
       "['Debate and argument appeal to you.']"
      ]
     },
     "metadata": {},
     "output_type": "display_data"
    },
    {
     "name": "stdout",
     "output_type": "stream",
     "text": [
      "\n",
      "(5, 29)\n"
     ]
    },
    {
     "data": {
      "text/plain": [
       "['You prefer a regular routine, defined responsibilities.',\n",
       " 'You prefer a regular routine, defined tasks.']"
      ]
     },
     "metadata": {},
     "output_type": "display_data"
    },
    {
     "data": {
      "text/plain": [
       "['You are adventurous.']"
      ]
     },
     "metadata": {},
     "output_type": "display_data"
    },
    {
     "name": "stdout",
     "output_type": "stream",
     "text": [
      "\n",
      "(7, 13)\n"
     ]
    },
    {
     "data": {
      "text/plain": [
       "['Your mind is analytical.']"
      ]
     },
     "metadata": {},
     "output_type": "display_data"
    },
    {
     "data": {
      "text/plain": [
       "['You are romantic.']"
      ]
     },
     "metadata": {},
     "output_type": "display_data"
    },
    {
     "name": "stdout",
     "output_type": "stream",
     "text": [
      "\n",
      "(7, 16)\n"
     ]
    },
    {
     "data": {
      "text/plain": [
       "['Your mind is analytical.']"
      ]
     },
     "metadata": {},
     "output_type": "display_data"
    },
    {
     "data": {
      "text/plain": [
       "['You are sentimental.']"
      ]
     },
     "metadata": {},
     "output_type": "display_data"
    },
    {
     "name": "stdout",
     "output_type": "stream",
     "text": [
      "\n",
      "(7, 18)\n"
     ]
    },
    {
     "data": {
      "text/plain": [
       "['Your mind is analytical.']"
      ]
     },
     "metadata": {},
     "output_type": "display_data"
    },
    {
     "data": {
      "text/plain": [
       "['You tend to be open-minded.']"
      ]
     },
     "metadata": {},
     "output_type": "display_data"
    },
    {
     "name": "stdout",
     "output_type": "stream",
     "text": [
      "\n",
      "(7, 22)\n"
     ]
    },
    {
     "data": {
      "text/plain": [
       "['Your mind is analytical.']"
      ]
     },
     "metadata": {},
     "output_type": "display_data"
    },
    {
     "data": {
      "text/plain": [
       "['You are gentle.']"
      ]
     },
     "metadata": {},
     "output_type": "display_data"
    },
    {
     "name": "stdout",
     "output_type": "stream",
     "text": [
      "\n",
      "(7, 24)\n"
     ]
    },
    {
     "data": {
      "text/plain": [
       "['Your mind is analytical.']"
      ]
     },
     "metadata": {},
     "output_type": "display_data"
    },
    {
     "data": {
      "text/plain": [
       "['You are quiet.']"
      ]
     },
     "metadata": {},
     "output_type": "display_data"
    },
    {
     "name": "stdout",
     "output_type": "stream",
     "text": [
      "\n",
      "(7, 29)\n"
     ]
    },
    {
     "data": {
      "text/plain": [
       "['Your mind is analytical.']"
      ]
     },
     "metadata": {},
     "output_type": "display_data"
    },
    {
     "data": {
      "text/plain": [
       "['You are adventurous.']"
      ]
     },
     "metadata": {},
     "output_type": "display_data"
    },
    {
     "name": "stdout",
     "output_type": "stream",
     "text": [
      "\n",
      "(7, 31)\n"
     ]
    },
    {
     "data": {
      "text/plain": [
       "['Your mind is analytical.']"
      ]
     },
     "metadata": {},
     "output_type": "display_data"
    },
    {
     "data": {
      "text/plain": [
       "['You are sensitive.']"
      ]
     },
     "metadata": {},
     "output_type": "display_data"
    },
    {
     "name": "stdout",
     "output_type": "stream",
     "text": [
      "\n",
      "(8, 29)\n"
     ]
    },
    {
     "data": {
      "text/plain": [
       "['you dislike dirt.']"
      ]
     },
     "metadata": {},
     "output_type": "display_data"
    },
    {
     "data": {
      "text/plain": [
       "['You are adventurous.']"
      ]
     },
     "metadata": {},
     "output_type": "display_data"
    },
    {
     "name": "stdout",
     "output_type": "stream",
     "text": [
      "\n",
      "(10, 29)\n"
     ]
    },
    {
     "data": {
      "text/plain": [
       "['you dislike messes.']"
      ]
     },
     "metadata": {},
     "output_type": "display_data"
    },
    {
     "data": {
      "text/plain": [
       "['You are adventurous.']"
      ]
     },
     "metadata": {},
     "output_type": "display_data"
    },
    {
     "name": "stdout",
     "output_type": "stream",
     "text": [
      "\n",
      "(12, 20)\n"
     ]
    },
    {
     "data": {
      "text/plain": [
       "['You tend to be friendly.']"
      ]
     },
     "metadata": {},
     "output_type": "display_data"
    },
    {
     "data": {
      "text/plain": [
       "[\"You may become impatient with those who do n't learn as quickly.\"]"
      ]
     },
     "metadata": {},
     "output_type": "display_data"
    },
    {
     "name": "stdout",
     "output_type": "stream",
     "text": [
      "\n",
      "(12, 21)\n"
     ]
    },
    {
     "data": {
      "text/plain": [
       "['You tend to be friendly.']"
      ]
     },
     "metadata": {},
     "output_type": "display_data"
    },
    {
     "data": {
      "text/plain": [
       "['You are very direct in thought, action, and speech and everyone knows how you feel.']"
      ]
     },
     "metadata": {},
     "output_type": "display_data"
    },
    {
     "name": "stdout",
     "output_type": "stream",
     "text": [
      "\n",
      "(12, 38)\n"
     ]
    },
    {
     "data": {
      "text/plain": [
       "['You tend to be friendly.']"
      ]
     },
     "metadata": {},
     "output_type": "display_data"
    },
    {
     "data": {
      "text/plain": [
       "['You are shy.']"
      ]
     },
     "metadata": {},
     "output_type": "display_data"
    },
    {
     "name": "stdout",
     "output_type": "stream",
     "text": [
      "\n",
      "(13, 14)\n"
     ]
    },
    {
     "data": {
      "text/plain": [
       "['You are romantic.']"
      ]
     },
     "metadata": {},
     "output_type": "display_data"
    },
    {
     "data": {
      "text/plain": [
       "['you probably have a good head for numbers.']"
      ]
     },
     "metadata": {},
     "output_type": "display_data"
    },
    {
     "name": "stdout",
     "output_type": "stream",
     "text": [
      "\n",
      "(13, 24)\n"
     ]
    },
    {
     "data": {
      "text/plain": [
       "['You are romantic.']"
      ]
     },
     "metadata": {},
     "output_type": "display_data"
    },
    {
     "data": {
      "text/plain": [
       "['You are quiet.']"
      ]
     },
     "metadata": {},
     "output_type": "display_data"
    },
    {
     "name": "stdout",
     "output_type": "stream",
     "text": [
      "\n",
      "(13, 28)\n"
     ]
    },
    {
     "data": {
      "text/plain": [
       "['You are romantic.']"
      ]
     },
     "metadata": {},
     "output_type": "display_data"
    },
    {
     "data": {
      "text/plain": [
       "['You are courageous.']"
      ]
     },
     "metadata": {},
     "output_type": "display_data"
    },
    {
     "name": "stdout",
     "output_type": "stream",
     "text": [
      "\n",
      "(13, 38)\n"
     ]
    },
    {
     "data": {
      "text/plain": [
       "['You are romantic.']"
      ]
     },
     "metadata": {},
     "output_type": "display_data"
    },
    {
     "data": {
      "text/plain": [
       "['You are shy.']"
      ]
     },
     "metadata": {},
     "output_type": "display_data"
    },
    {
     "name": "stdout",
     "output_type": "stream",
     "text": [
      "\n",
      "(15, 20)\n"
     ]
    },
    {
     "data": {
      "text/plain": [
       "['You never give up.']"
      ]
     },
     "metadata": {},
     "output_type": "display_data"
    },
    {
     "data": {
      "text/plain": [
       "[\"You may become impatient with those who do n't learn as quickly.\"]"
      ]
     },
     "metadata": {},
     "output_type": "display_data"
    },
    {
     "name": "stdout",
     "output_type": "stream",
     "text": [
      "\n",
      "(15, 22)\n"
     ]
    },
    {
     "data": {
      "text/plain": [
       "['You never give up.']"
      ]
     },
     "metadata": {},
     "output_type": "display_data"
    },
    {
     "data": {
      "text/plain": [
       "['You are gentle.']"
      ]
     },
     "metadata": {},
     "output_type": "display_data"
    },
    {
     "name": "stdout",
     "output_type": "stream",
     "text": [
      "\n",
      "(15, 38)\n"
     ]
    },
    {
     "data": {
      "text/plain": [
       "['You never give up.']"
      ]
     },
     "metadata": {},
     "output_type": "display_data"
    },
    {
     "data": {
      "text/plain": [
       "['You are shy.']"
      ]
     },
     "metadata": {},
     "output_type": "display_data"
    },
    {
     "name": "stdout",
     "output_type": "stream",
     "text": [
      "\n",
      "(16, 21)\n"
     ]
    },
    {
     "data": {
      "text/plain": [
       "['You are sentimental.']"
      ]
     },
     "metadata": {},
     "output_type": "display_data"
    },
    {
     "data": {
      "text/plain": [
       "['You are very direct in thought, action, and speech and everyone knows how you feel.']"
      ]
     },
     "metadata": {},
     "output_type": "display_data"
    },
    {
     "name": "stdout",
     "output_type": "stream",
     "text": [
      "\n",
      "(16, 24)\n"
     ]
    },
    {
     "data": {
      "text/plain": [
       "['You are sentimental.']"
      ]
     },
     "metadata": {},
     "output_type": "display_data"
    },
    {
     "data": {
      "text/plain": [
       "['You are quiet.']"
      ]
     },
     "metadata": {},
     "output_type": "display_data"
    },
    {
     "name": "stdout",
     "output_type": "stream",
     "text": [
      "\n",
      "(16, 28)\n"
     ]
    },
    {
     "data": {
      "text/plain": [
       "['You are sentimental.']"
      ]
     },
     "metadata": {},
     "output_type": "display_data"
    },
    {
     "data": {
      "text/plain": [
       "['You are courageous.']"
      ]
     },
     "metadata": {},
     "output_type": "display_data"
    },
    {
     "name": "stdout",
     "output_type": "stream",
     "text": [
      "\n",
      "(16, 29)\n"
     ]
    },
    {
     "data": {
      "text/plain": [
       "['You are sentimental.']"
      ]
     },
     "metadata": {},
     "output_type": "display_data"
    },
    {
     "data": {
      "text/plain": [
       "['You are adventurous.']"
      ]
     },
     "metadata": {},
     "output_type": "display_data"
    },
    {
     "name": "stdout",
     "output_type": "stream",
     "text": [
      "\n",
      "(16, 37)\n"
     ]
    },
    {
     "data": {
      "text/plain": [
       "['You are sentimental.']"
      ]
     },
     "metadata": {},
     "output_type": "display_data"
    },
    {
     "data": {
      "text/plain": [
       "['You are independent.']"
      ]
     },
     "metadata": {},
     "output_type": "display_data"
    },
    {
     "name": "stdout",
     "output_type": "stream",
     "text": [
      "\n",
      "(18, 20)\n"
     ]
    },
    {
     "data": {
      "text/plain": [
       "['You tend to be open-minded.']"
      ]
     },
     "metadata": {},
     "output_type": "display_data"
    },
    {
     "data": {
      "text/plain": [
       "[\"You may become impatient with those who do n't learn as quickly.\"]"
      ]
     },
     "metadata": {},
     "output_type": "display_data"
    },
    {
     "name": "stdout",
     "output_type": "stream",
     "text": [
      "\n",
      "(18, 21)\n"
     ]
    },
    {
     "data": {
      "text/plain": [
       "['You tend to be open-minded.']"
      ]
     },
     "metadata": {},
     "output_type": "display_data"
    },
    {
     "data": {
      "text/plain": [
       "['You are very direct in thought, action, and speech and everyone knows how you feel.']"
      ]
     },
     "metadata": {},
     "output_type": "display_data"
    },
    {
     "name": "stdout",
     "output_type": "stream",
     "text": [
      "\n",
      "(18, 34)\n"
     ]
    },
    {
     "data": {
      "text/plain": [
       "['You tend to be open-minded.']"
      ]
     },
     "metadata": {},
     "output_type": "display_data"
    },
    {
     "data": {
      "text/plain": [
       "['Whatever you have set your sights on, you refuse to give up or let go of it.']"
      ]
     },
     "metadata": {},
     "output_type": "display_data"
    },
    {
     "name": "stdout",
     "output_type": "stream",
     "text": [
      "\n",
      "(18, 36)\n"
     ]
    },
    {
     "data": {
      "text/plain": [
       "['You tend to be open-minded.']"
      ]
     },
     "metadata": {},
     "output_type": "display_data"
    },
    {
     "data": {
      "text/plain": [
       "['You may be a bit of a perfectionist.']"
      ]
     },
     "metadata": {},
     "output_type": "display_data"
    },
    {
     "name": "stdout",
     "output_type": "stream",
     "text": [
      "\n",
      "(18, 38)\n"
     ]
    },
    {
     "data": {
      "text/plain": [
       "['You tend to be open-minded.']"
      ]
     },
     "metadata": {},
     "output_type": "display_data"
    },
    {
     "data": {
      "text/plain": [
       "['You are shy.']"
      ]
     },
     "metadata": {},
     "output_type": "display_data"
    },
    {
     "name": "stdout",
     "output_type": "stream",
     "text": [
      "\n",
      "(19, 22)\n"
     ]
    },
    {
     "data": {
      "text/plain": [
       "['You are usually outspoken, sometimes to the point of bluntness.']"
      ]
     },
     "metadata": {},
     "output_type": "display_data"
    },
    {
     "data": {
      "text/plain": [
       "['You are gentle.']"
      ]
     },
     "metadata": {},
     "output_type": "display_data"
    },
    {
     "name": "stdout",
     "output_type": "stream",
     "text": [
      "\n",
      "(19, 24)\n"
     ]
    },
    {
     "data": {
      "text/plain": [
       "['You are usually outspoken, sometimes to the point of bluntness.']"
      ]
     },
     "metadata": {},
     "output_type": "display_data"
    },
    {
     "data": {
      "text/plain": [
       "['You are quiet.']"
      ]
     },
     "metadata": {},
     "output_type": "display_data"
    },
    {
     "name": "stdout",
     "output_type": "stream",
     "text": [
      "\n",
      "(19, 31)\n"
     ]
    },
    {
     "data": {
      "text/plain": [
       "['You are usually outspoken, sometimes to the point of bluntness.']"
      ]
     },
     "metadata": {},
     "output_type": "display_data"
    },
    {
     "data": {
      "text/plain": [
       "['You are sensitive.']"
      ]
     },
     "metadata": {},
     "output_type": "display_data"
    },
    {
     "name": "stdout",
     "output_type": "stream",
     "text": [
      "\n",
      "(19, 38)\n"
     ]
    },
    {
     "data": {
      "text/plain": [
       "['You are usually outspoken, sometimes to the point of bluntness.']"
      ]
     },
     "metadata": {},
     "output_type": "display_data"
    },
    {
     "data": {
      "text/plain": [
       "['You are shy.']"
      ]
     },
     "metadata": {},
     "output_type": "display_data"
    },
    {
     "name": "stdout",
     "output_type": "stream",
     "text": [
      "\n",
      "(20, 22)\n"
     ]
    },
    {
     "data": {
      "text/plain": [
       "[\"You may become impatient with those who do n't learn as quickly.\"]"
      ]
     },
     "metadata": {},
     "output_type": "display_data"
    },
    {
     "data": {
      "text/plain": [
       "['You are gentle.']"
      ]
     },
     "metadata": {},
     "output_type": "display_data"
    },
    {
     "name": "stdout",
     "output_type": "stream",
     "text": [
      "\n",
      "(21, 22)\n"
     ]
    },
    {
     "data": {
      "text/plain": [
       "['You are very direct in thought, action, and speech and everyone knows how you feel.']"
      ]
     },
     "metadata": {},
     "output_type": "display_data"
    },
    {
     "data": {
      "text/plain": [
       "['You are gentle.']"
      ]
     },
     "metadata": {},
     "output_type": "display_data"
    },
    {
     "name": "stdout",
     "output_type": "stream",
     "text": [
      "\n",
      "(21, 24)\n"
     ]
    },
    {
     "data": {
      "text/plain": [
       "['You are very direct in thought, action, and speech and everyone knows how you feel.']"
      ]
     },
     "metadata": {},
     "output_type": "display_data"
    },
    {
     "data": {
      "text/plain": [
       "['You are quiet.']"
      ]
     },
     "metadata": {},
     "output_type": "display_data"
    },
    {
     "name": "stdout",
     "output_type": "stream",
     "text": [
      "\n",
      "(21, 26)\n"
     ]
    },
    {
     "data": {
      "text/plain": [
       "['You are very direct in thought, action, and speech and everyone knows how you feel.']"
      ]
     },
     "metadata": {},
     "output_type": "display_data"
    },
    {
     "data": {
      "text/plain": [
       "['You never find it difficult to change your mind or course in mid-stream.']"
      ]
     },
     "metadata": {},
     "output_type": "display_data"
    },
    {
     "name": "stdout",
     "output_type": "stream",
     "text": [
      "\n",
      "(21, 29)\n"
     ]
    },
    {
     "data": {
      "text/plain": [
       "['You are very direct in thought, action, and speech and everyone knows how you feel.']"
      ]
     },
     "metadata": {},
     "output_type": "display_data"
    },
    {
     "data": {
      "text/plain": [
       "['You are adventurous.']"
      ]
     },
     "metadata": {},
     "output_type": "display_data"
    },
    {
     "name": "stdout",
     "output_type": "stream",
     "text": [
      "\n",
      "(21, 31)\n"
     ]
    },
    {
     "data": {
      "text/plain": [
       "['You are very direct in thought, action, and speech and everyone knows how you feel.']"
      ]
     },
     "metadata": {},
     "output_type": "display_data"
    },
    {
     "data": {
      "text/plain": [
       "['You are sensitive.']"
      ]
     },
     "metadata": {},
     "output_type": "display_data"
    },
    {
     "name": "stdout",
     "output_type": "stream",
     "text": [
      "\n",
      "(21, 38)\n"
     ]
    },
    {
     "data": {
      "text/plain": [
       "['You are very direct in thought, action, and speech and everyone knows how you feel.']"
      ]
     },
     "metadata": {},
     "output_type": "display_data"
    },
    {
     "data": {
      "text/plain": [
       "['You are shy.']"
      ]
     },
     "metadata": {},
     "output_type": "display_data"
    },
    {
     "name": "stdout",
     "output_type": "stream",
     "text": [
      "\n",
      "(22, 23)\n"
     ]
    },
    {
     "data": {
      "text/plain": [
       "['You are gentle.']"
      ]
     },
     "metadata": {},
     "output_type": "display_data"
    },
    {
     "data": {
      "text/plain": [
       "['Debate and argument appeal to you.']"
      ]
     },
     "metadata": {},
     "output_type": "display_data"
    },
    {
     "name": "stdout",
     "output_type": "stream",
     "text": [
      "\n",
      "(22, 28)\n"
     ]
    },
    {
     "data": {
      "text/plain": [
       "['You are gentle.']"
      ]
     },
     "metadata": {},
     "output_type": "display_data"
    },
    {
     "data": {
      "text/plain": [
       "['You are courageous.']"
      ]
     },
     "metadata": {},
     "output_type": "display_data"
    },
    {
     "name": "stdout",
     "output_type": "stream",
     "text": [
      "\n",
      "(22, 29)\n"
     ]
    },
    {
     "data": {
      "text/plain": [
       "['You are gentle.']"
      ]
     },
     "metadata": {},
     "output_type": "display_data"
    },
    {
     "data": {
      "text/plain": [
       "['You are adventurous.']"
      ]
     },
     "metadata": {},
     "output_type": "display_data"
    },
    {
     "name": "stdout",
     "output_type": "stream",
     "text": [
      "\n",
      "(22, 34)\n"
     ]
    },
    {
     "data": {
      "text/plain": [
       "['You are gentle.']"
      ]
     },
     "metadata": {},
     "output_type": "display_data"
    },
    {
     "data": {
      "text/plain": [
       "['Whatever you have set your sights on, you refuse to give up or let go of it.']"
      ]
     },
     "metadata": {},
     "output_type": "display_data"
    },
    {
     "name": "stdout",
     "output_type": "stream",
     "text": [
      "\n",
      "(22, 36)\n"
     ]
    },
    {
     "data": {
      "text/plain": [
       "['You are gentle.']"
      ]
     },
     "metadata": {},
     "output_type": "display_data"
    },
    {
     "data": {
      "text/plain": [
       "['You may be a bit of a perfectionist.']"
      ]
     },
     "metadata": {},
     "output_type": "display_data"
    },
    {
     "name": "stdout",
     "output_type": "stream",
     "text": [
      "\n",
      "(22, 37)\n"
     ]
    },
    {
     "data": {
      "text/plain": [
       "['You are gentle.']"
      ]
     },
     "metadata": {},
     "output_type": "display_data"
    },
    {
     "data": {
      "text/plain": [
       "['You are independent.']"
      ]
     },
     "metadata": {},
     "output_type": "display_data"
    },
    {
     "name": "stdout",
     "output_type": "stream",
     "text": [
      "\n",
      "(23, 24)\n"
     ]
    },
    {
     "data": {
      "text/plain": [
       "['Debate and argument appeal to you.']"
      ]
     },
     "metadata": {},
     "output_type": "display_data"
    },
    {
     "data": {
      "text/plain": [
       "['You are quiet.']"
      ]
     },
     "metadata": {},
     "output_type": "display_data"
    },
    {
     "name": "stdout",
     "output_type": "stream",
     "text": [
      "\n",
      "(23, 32)\n"
     ]
    },
    {
     "data": {
      "text/plain": [
       "['Debate and argument appeal to you.']"
      ]
     },
     "metadata": {},
     "output_type": "display_data"
    },
    {
     "data": {
      "text/plain": [
       "['You enjoy building and seeing the results of your hard work.']"
      ]
     },
     "metadata": {},
     "output_type": "display_data"
    },
    {
     "name": "stdout",
     "output_type": "stream",
     "text": [
      "\n",
      "(23, 38)\n"
     ]
    },
    {
     "data": {
      "text/plain": [
       "['Debate and argument appeal to you.']"
      ]
     },
     "metadata": {},
     "output_type": "display_data"
    },
    {
     "data": {
      "text/plain": [
       "['You are shy.']"
      ]
     },
     "metadata": {},
     "output_type": "display_data"
    },
    {
     "name": "stdout",
     "output_type": "stream",
     "text": [
      "\n",
      "(24, 26)\n"
     ]
    },
    {
     "data": {
      "text/plain": [
       "['You are quiet.']"
      ]
     },
     "metadata": {},
     "output_type": "display_data"
    },
    {
     "data": {
      "text/plain": [
       "['You never find it difficult to change your mind or course in mid-stream.']"
      ]
     },
     "metadata": {},
     "output_type": "display_data"
    },
    {
     "name": "stdout",
     "output_type": "stream",
     "text": [
      "\n",
      "(24, 28)\n"
     ]
    },
    {
     "data": {
      "text/plain": [
       "['You are quiet.']"
      ]
     },
     "metadata": {},
     "output_type": "display_data"
    },
    {
     "data": {
      "text/plain": [
       "['You are courageous.']"
      ]
     },
     "metadata": {},
     "output_type": "display_data"
    },
    {
     "name": "stdout",
     "output_type": "stream",
     "text": [
      "\n",
      "(24, 29)\n"
     ]
    },
    {
     "data": {
      "text/plain": [
       "['You are quiet.']"
      ]
     },
     "metadata": {},
     "output_type": "display_data"
    },
    {
     "data": {
      "text/plain": [
       "['You are adventurous.']"
      ]
     },
     "metadata": {},
     "output_type": "display_data"
    },
    {
     "name": "stdout",
     "output_type": "stream",
     "text": [
      "\n",
      "(25, 38)\n"
     ]
    },
    {
     "data": {
      "text/plain": [
       "['You are handy with your hands.']"
      ]
     },
     "metadata": {},
     "output_type": "display_data"
    },
    {
     "data": {
      "text/plain": [
       "['You are shy.']"
      ]
     },
     "metadata": {},
     "output_type": "display_data"
    },
    {
     "name": "stdout",
     "output_type": "stream",
     "text": [
      "\n",
      "(26, 31)\n"
     ]
    },
    {
     "data": {
      "text/plain": [
       "['You never find it difficult to change your mind or course in mid-stream.']"
      ]
     },
     "metadata": {},
     "output_type": "display_data"
    },
    {
     "data": {
      "text/plain": [
       "['You are sensitive.']"
      ]
     },
     "metadata": {},
     "output_type": "display_data"
    },
    {
     "name": "stdout",
     "output_type": "stream",
     "text": [
      "\n",
      "(26, 34)\n"
     ]
    },
    {
     "data": {
      "text/plain": [
       "['You never find it difficult to change your mind or course in mid-stream.']"
      ]
     },
     "metadata": {},
     "output_type": "display_data"
    },
    {
     "data": {
      "text/plain": [
       "['Whatever you have set your sights on, you refuse to give up or let go of it.']"
      ]
     },
     "metadata": {},
     "output_type": "display_data"
    },
    {
     "name": "stdout",
     "output_type": "stream",
     "text": [
      "\n",
      "(26, 36)\n"
     ]
    },
    {
     "data": {
      "text/plain": [
       "['You never find it difficult to change your mind or course in mid-stream.']"
      ]
     },
     "metadata": {},
     "output_type": "display_data"
    },
    {
     "data": {
      "text/plain": [
       "['You may be a bit of a perfectionist.']"
      ]
     },
     "metadata": {},
     "output_type": "display_data"
    },
    {
     "name": "stdout",
     "output_type": "stream",
     "text": [
      "\n",
      "(26, 38)\n"
     ]
    },
    {
     "data": {
      "text/plain": [
       "['You never find it difficult to change your mind or course in mid-stream.']"
      ]
     },
     "metadata": {},
     "output_type": "display_data"
    },
    {
     "data": {
      "text/plain": [
       "['You are shy.']"
      ]
     },
     "metadata": {},
     "output_type": "display_data"
    },
    {
     "name": "stdout",
     "output_type": "stream",
     "text": [
      "\n",
      "(28, 31)\n"
     ]
    },
    {
     "data": {
      "text/plain": [
       "['You are courageous.']"
      ]
     },
     "metadata": {},
     "output_type": "display_data"
    },
    {
     "data": {
      "text/plain": [
       "['You are sensitive.']"
      ]
     },
     "metadata": {},
     "output_type": "display_data"
    },
    {
     "name": "stdout",
     "output_type": "stream",
     "text": [
      "\n",
      "(28, 38)\n"
     ]
    },
    {
     "data": {
      "text/plain": [
       "['You are courageous.']"
      ]
     },
     "metadata": {},
     "output_type": "display_data"
    },
    {
     "data": {
      "text/plain": [
       "['You are shy.']"
      ]
     },
     "metadata": {},
     "output_type": "display_data"
    },
    {
     "name": "stdout",
     "output_type": "stream",
     "text": [
      "\n",
      "(29, 31)\n"
     ]
    },
    {
     "data": {
      "text/plain": [
       "['You are adventurous.']"
      ]
     },
     "metadata": {},
     "output_type": "display_data"
    },
    {
     "data": {
      "text/plain": [
       "['You are sensitive.']"
      ]
     },
     "metadata": {},
     "output_type": "display_data"
    },
    {
     "name": "stdout",
     "output_type": "stream",
     "text": [
      "\n",
      "(29, 36)\n"
     ]
    },
    {
     "data": {
      "text/plain": [
       "['You are adventurous.']"
      ]
     },
     "metadata": {},
     "output_type": "display_data"
    },
    {
     "data": {
      "text/plain": [
       "['You may be a bit of a perfectionist.']"
      ]
     },
     "metadata": {},
     "output_type": "display_data"
    },
    {
     "name": "stdout",
     "output_type": "stream",
     "text": [
      "\n",
      "(29, 38)\n"
     ]
    },
    {
     "data": {
      "text/plain": [
       "['You are adventurous.']"
      ]
     },
     "metadata": {},
     "output_type": "display_data"
    },
    {
     "data": {
      "text/plain": [
       "['You are shy.']"
      ]
     },
     "metadata": {},
     "output_type": "display_data"
    },
    {
     "name": "stdout",
     "output_type": "stream",
     "text": [
      "\n",
      "(31, 37)\n"
     ]
    },
    {
     "data": {
      "text/plain": [
       "['You are sensitive.']"
      ]
     },
     "metadata": {},
     "output_type": "display_data"
    },
    {
     "data": {
      "text/plain": [
       "['You are independent.']"
      ]
     },
     "metadata": {},
     "output_type": "display_data"
    },
    {
     "name": "stdout",
     "output_type": "stream",
     "text": [
      "\n",
      "(34, 38)\n"
     ]
    },
    {
     "data": {
      "text/plain": [
       "['Whatever you have set your sights on, you refuse to give up or let go of it.']"
      ]
     },
     "metadata": {},
     "output_type": "display_data"
    },
    {
     "data": {
      "text/plain": [
       "['You are shy.']"
      ]
     },
     "metadata": {},
     "output_type": "display_data"
    },
    {
     "name": "stdout",
     "output_type": "stream",
     "text": [
      "\n",
      "(37, 38)\n"
     ]
    },
    {
     "data": {
      "text/plain": [
       "['You are independent.']"
      ]
     },
     "metadata": {},
     "output_type": "display_data"
    },
    {
     "data": {
      "text/plain": [
       "['You are shy.']"
      ]
     },
     "metadata": {},
     "output_type": "display_data"
    },
    {
     "name": "stdout",
     "output_type": "stream",
     "text": [
      "\n"
     ]
    }
   ],
   "source": [
    "for pair in notable_pairs:\n",
    "    print(pair)\n",
    "    display(clusters[str(pair[0])], clusters[str(pair[1])])\n",
    "    print()"
   ]
  },
  {
   "cell_type": "code",
   "execution_count": 28,
   "metadata": {
    "scrolled": true
   },
   "outputs": [
    {
     "name": "stdout",
     "output_type": "stream",
     "text": [
      "3\n",
      "2\n",
      "2\n",
      "2\n",
      "2\n",
      "2\n",
      "2\n",
      "1\n",
      "1\n",
      "1\n",
      "1\n",
      "1\n",
      "1\n",
      "1\n",
      "1\n",
      "1\n",
      "1\n",
      "1\n",
      "1\n",
      "1\n",
      "1\n",
      "1\n",
      "1\n",
      "1\n",
      "1\n",
      "1\n",
      "1\n",
      "1\n",
      "1\n",
      "1\n",
      "1\n",
      "1\n",
      "1\n",
      "1\n",
      "1\n",
      "1\n",
      "1\n",
      "1\n",
      "1\n"
     ]
    }
   ],
   "source": [
    "for num, cluster in clusters.items():\n",
    "    print(len(cluster))"
   ]
  },
  {
   "cell_type": "code",
   "execution_count": 76,
   "metadata": {},
   "outputs": [],
   "source": [
    "from nltk.tokenize import RegexpTokenizer\n",
    "\n",
    "def choose_longest(sentences):\n",
    "    tokenizer = RegexpTokenizer(r'\\w+')\n",
    "    max_len = 0\n",
    "    final_sent = None\n",
    "    for sent in sentences:\n",
    "        tokens = tokenizer.tokenize(sent)\n",
    "        if len(tokens) > max_len:\n",
    "            max_len = len(sent)\n",
    "            final_sent = sent\n",
    "    return final_sent\n",
    "\n",
    "def summarize(clusters, intersentence, word_limit=100, coherence_threshold=0.6, redundancy_threshold=0.3):\n",
    "    \"\"\"\n",
    "    :param clusters: sorted (descending in num of sentences) dict of clusters {cluster_num: list_of_sentences}\n",
    "    :param intersentence: Pandas DataFrame of precomputed inter-sentence distance.\n",
    "    :param word_limit: maximum num of words for summary.\n",
    "    :param coherence_threshold: maximum distance allowed for a sentence pair within the summary. valid values between 0-1.\n",
    "    :param redundancy_threshold: minimum distance allowed for a sentence pair within the summary. valid values between 0-1.\n",
    "    \n",
    "    We need a redundancy_threshold because the clustering algorithm does not always manage to group \n",
    "    redundant sentences together.\n",
    "    \"\"\"\n",
    "    if coherence_threshold <= redundancy_threshold:\n",
    "        raise Exception\n",
    "    \n",
    "    tokenizer = RegexpTokenizer(r'\\w+')\n",
    "    summary = list()\n",
    "    word_count = 0\n",
    "    for key, clust in clusters.items():\n",
    "        selected = choose_longest(clust)\n",
    "        tokens = tokenizer.tokenize(selected)\n",
    "        if word_count + len(tokens) < word_limit:\n",
    "            max_dist = 0\n",
    "            min_dist = 1\n",
    "            for sent in summary:\n",
    "                dist = intersentence[sent][selected]\n",
    "                if dist > max_dist:\n",
    "                    max_dist = dist\n",
    "                if dist < min_dist:\n",
    "                    min_dist = dist\n",
    "            if max_dist < coherence_threshold and min_dist > redundancy_threshold:\n",
    "                summary.append(selected)\n",
    "                word_count = word_count + len(tokens)\n",
    "        else:\n",
    "            break\n",
    "    return summary"
   ]
  },
  {
   "cell_type": "code",
   "execution_count": 77,
   "metadata": {},
   "outputs": [
    {
     "name": "stdout",
     "output_type": "stream",
     "text": [
      "no. of sentences in summary:  10\n",
      "no. of sentences in source:  47\n",
      "You are consistent.\n",
      "You are patient unless someone takes you too far.\n",
      "You tend to be idealistic.\n",
      "Your work is usually neat.\n",
      "you dislike dirt.\n",
      "Your mind is deep.\n",
      "You may become impatient with those who do n't learn as quickly.\n",
      "Money and possessions are important to you for the feelings of security they bring.\n",
      "Keeping things going is your strength, especially once someone else starts them.\n",
      "You can handle more of the workload than most around you.\n"
     ]
    }
   ],
   "source": [
    "summary = summarize(clusters, sentence_dist, word_limit=90, coherence_threshold=0.6, redundancy_threshold=0.3)\n",
    "print(\"no. of sentences in summary: \", len(summary))\n",
    "print(\"no. of sentences in source: \", len(sentence_dist.index.values))\n",
    "\n",
    "for sent in summary:\n",
    "    print(sent)"
   ]
  },
  {
   "cell_type": "code",
   "execution_count": 89,
   "metadata": {
    "scrolled": true
   },
   "outputs": [
    {
     "name": "stdout",
     "output_type": "stream",
     "text": [
      "You are adventurous.\n",
      "You are romantic.\n",
      "You are sensitive.\n",
      "You are sentimental.\n",
      "You are shy.\n",
      "You may be ambidextrous or mechanically inclined.\n",
      "You never find it difficult to change your mind or course in mid-stream.\n",
      "You tend to be open-minded.\n",
      "You tend to be versatile.\n",
      "Whatever you have set your sights on, you refuse to give up or let go of it.\n",
      "You are courageous.\n",
      "You are usually outspoken, sometimes to the point of bluntness.\n",
      "You are very direct in thought, action, and speech and everyone knows how you feel.\n",
      "You are reliable.\n",
      "You have common sense to manage others.\n",
      "You prefer a regular routine, defined responsibilities.\n",
      "You prefer a regular routine, defined tasks.\n",
      "You tend to be dependable.\n",
      "You tend to be honest.\n",
      "You tend to be industrious, efficient, practical, exacting, scientific, organized, shy, thrifty, studious, economical, and punctual.\n",
      "Your mind is analytical.\n",
      "you probably have a good head for numbers.\n",
      "Debate and argument appeal to you.\n",
      "You are handy with your hands.\n",
      "You enjoy building and seeing the results of your hard work.\n",
      "You grasp concepts easily.\n",
      "You tend to be optimistic.\n",
      "You are gentle.\n",
      "You never give up.\n",
      "You tend to be friendly.\n"
     ]
    }
   ],
   "source": [
    "# find sentences that contradict with the summary\n",
    "coherence_threshold = 0.6\n",
    "contradictory_set = set()\n",
    "for sent in summary:\n",
    "    for other in sentence_dist.loc[sent].index:\n",
    "        if sentence_dist.loc[sent][other] >= coherence_threshold:\n",
    "            if other not in contradictory_set:\n",
    "                contradictory_set.add(other)\n",
    "                print(other)"
   ]
  },
  {
   "cell_type": "code",
   "execution_count": 92,
   "metadata": {
    "scrolled": true
   },
   "outputs": [
    {
     "name": "stdout",
     "output_type": "stream",
     "text": [
      "You are consistent.\n",
      "You are independent.\n",
      "You are quiet.\n",
      "You are reliable.\n",
      "You never give up.\n",
      "You tend to be dependable.\n",
      "You tend to be industrious, efficient, practical, exacting, scientific, organized, shy, thrifty, studious, economical, and punctual.\n",
      "You are patient unless someone takes you too far.\n",
      "You are usually slow to anger unless someone takes you too far.\n",
      "You are romantic.\n",
      "You are sentimental.\n",
      "You may be a bit of a perfectionist.\n",
      "You tend to be friendly.\n",
      "You tend to be idealistic.\n",
      "You tend to be open-minded.\n",
      "You tend to be optimistic.\n",
      "Your work is usually neat.\n",
      "Your work is usually orderly.\n",
      "you dislike dirt.\n",
      "you dislike messes.\n",
      "Your mind is deep.\n",
      "You may become impatient with those who do n't learn as quickly.\n",
      "Money and possessions are important to you for the feelings of security they bring.\n",
      "Keeping things going is your strength, especially once someone else starts them.\n",
      "You have the ability to manage others.\n",
      "You can handle more of the workload than most around you.\n"
     ]
    }
   ],
   "source": [
    "# find sentences that are redundant with the summary\n",
    "redundancy_threshold = 0.3\n",
    "redundant_set = set()\n",
    "for sent in summary:\n",
    "    for other in sentence_dist.loc[sent].index:\n",
    "        if sentence_dist.loc[sent][other] <= redundancy_threshold:\n",
    "            if other not in redundant_set:\n",
    "                redundant_set.add(other)\n",
    "                print(other)"
   ]
  },
  {
   "cell_type": "code",
   "execution_count": 93,
   "metadata": {},
   "outputs": [
    {
     "data": {
      "text/plain": [
       "{'You are reliable.',\n",
       " 'You are romantic.',\n",
       " 'You are sentimental.',\n",
       " 'You never give up.',\n",
       " 'You tend to be dependable.',\n",
       " 'You tend to be friendly.',\n",
       " 'You tend to be industrious, efficient, practical, exacting, scientific, organized, shy, thrifty, studious, economical, and punctual.',\n",
       " 'You tend to be open-minded.',\n",
       " 'You tend to be optimistic.'}"
      ]
     },
     "execution_count": 93,
     "metadata": {},
     "output_type": "execute_result"
    }
   ],
   "source": [
    "contradictory_set & redundant_set"
   ]
  },
  {
   "cell_type": "markdown",
   "metadata": {},
   "source": []
  }
 ],
 "metadata": {
  "kernelspec": {
   "display_name": "fyp",
   "language": "python",
   "name": "fyp"
  },
  "language_info": {
   "codemirror_mode": {
    "name": "ipython",
    "version": 3
   },
   "file_extension": ".py",
   "mimetype": "text/x-python",
   "name": "python",
   "nbconvert_exporter": "python",
   "pygments_lexer": "ipython3",
   "version": "3.7.4"
  }
 },
 "nbformat": 4,
 "nbformat_minor": 4
}
