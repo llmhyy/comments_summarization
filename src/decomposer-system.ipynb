{
 "cells": [
  {
   "cell_type": "code",
   "execution_count": 1,
   "metadata": {},
   "outputs": [],
   "source": [
    "from anytree import Node, RenderTree\n",
    "from internal import lineariser"
   ]
  },
  {
   "cell_type": "code",
   "execution_count": 2,
   "metadata": {},
   "outputs": [
    {
     "name": "stdout",
     "output_type": "stream",
     "text": [
      "Warning: Make sure to start Stanford CoreNLP server before calling this module's functions\n"
     ]
    }
   ],
   "source": [
    "lin = lineariser.Lineariser()"
   ]
  },
  {
   "cell_type": "code",
   "execution_count": 3,
   "metadata": {},
   "outputs": [
    {
     "data": {
      "text/plain": [
       "['bob is happy and satisfied.', 'bob is very full.']"
      ]
     },
     "execution_count": 3,
     "metadata": {},
     "output_type": "execute_result"
    }
   ],
   "source": [
    "lin.linearise('bob is happy and satisfied, and very full.')"
   ]
  },
  {
   "cell_type": "code",
   "execution_count": 4,
   "metadata": {},
   "outputs": [],
   "source": [
    "def linearise_hierarchy(n: Node, l: lineariser.Lineariser):\n",
    "    \"\"\"\n",
    "    Recursive algorithm that linearises a sentence into its component sentences.\n",
    "    Recursively grows the tree that represents the hierachical components of the sentence,\n",
    "    according to the Lineariser's rules.\n",
    "        e.g. \n",
    "    :param n: Node containing sentence string and, if they exist, its parent and children.\n",
    "    :param l: lineariser.Lineariser object\n",
    "    :returns: n, a tree as Node\n",
    "    \"\"\"\n",
    "    \n",
    "    new_sents = l.linearise(n.name)  # n.name contains the sentence string.\n",
    "    if new_sents != None:\n",
    "        for sent in new_sents:\n",
    "            linearise_hierarchy(Node(sent, parent=n), l)\n",
    "    return n"
   ]
  },
  {
   "cell_type": "code",
   "execution_count": 5,
   "metadata": {},
   "outputs": [],
   "source": [
    "def test(s, lin, tprint=False):\n",
    "    \"\"\"\n",
    "    :param s: sentence string to linearise hierarchically.\n",
    "    :param lin: lineariser.Lineariser\n",
    "    :param tprint: boolean. set to True to print tree structure.\n",
    "    \"\"\"\n",
    "    test_node = Node(s)\n",
    "    root_node = linearise_hierarchy(test_node, lin)\n",
    "    if tprint:\n",
    "        for pre, fill, node in RenderTree(root_node):\n",
    "            print(\"%s%s\" % (pre, node.name))\n",
    "        print()\n",
    "    return root_node"
   ]
  },
  {
   "cell_type": "code",
   "execution_count": 6,
   "metadata": {},
   "outputs": [
    {
     "name": "stdout",
     "output_type": "stream",
     "text": [
      "bob is happy and satisfied, and very full.\n",
      "├── bob is happy and satisfied.\n",
      "│   ├── bob is happy.\n",
      "│   └── bob is satisfied.\n",
      "└── bob is very full.\n",
      "\n",
      "bob is happy.\n",
      "bob is satisfied.\n",
      "bob is very full.\n"
     ]
    }
   ],
   "source": [
    "root_node = test('bob is happy and satisfied, and very full.', lin, tprint=True)\n",
    "\n",
    "for n in root_node.leaves:\n",
    "    print(n.name) "
   ]
  },
  {
   "cell_type": "code",
   "execution_count": 7,
   "metadata": {},
   "outputs": [
    {
     "name": "stdout",
     "output_type": "stream",
     "text": [
      "Bob is happy, funny, and lively, and he loves a good drink.\n",
      "├── Bob is happy , funny , and lively.\n",
      "│   ├── Bob is happy.\n",
      "│   ├── Bob is funny.\n",
      "│   └── Bob is lively.\n",
      "└── he loves a good drink.\n",
      "\n"
     ]
    }
   ],
   "source": [
    "sent = \"Bob is happy, funny, and lively, and he loves a good drink.\"\n",
    "root_node = test(sent, lin, tprint=True)"
   ]
  },
  {
   "cell_type": "code",
   "execution_count": 8,
   "metadata": {},
   "outputs": [
    {
     "name": "stdout",
     "output_type": "stream",
     "text": [
      "Bob is happy, funny, and a great friend.\n",
      "├── Bob is happy.\n",
      "├── Bob is funny.\n",
      "└── Bob is a great friend.\n",
      "\n"
     ]
    }
   ],
   "source": [
    "sent = \"Bob is happy, funny, and a great friend.\"\n",
    "root_node = test(sent, lin, tprint=True)"
   ]
  },
  {
   "cell_type": "code",
   "execution_count": 9,
   "metadata": {},
   "outputs": [
    {
     "name": "stdout",
     "output_type": "stream",
     "text": [
      "                        ROOT                         \n",
      "                         |                            \n",
      "                         S                           \n",
      "  _______________________|_________________________   \n",
      " |             VP                                  | \n",
      " |    _________|_________                          |  \n",
      " |   |                  UCP                        | \n",
      " |   |     ______________|_____________            |  \n",
      " NP  |   ADJP  |   ADJP  |    |        NP          | \n",
      " |   |    |    |    |    |    |    ____|_____      |  \n",
      "NNP VBZ   JJ   ,    JJ   ,    CC  DT   JJ    NN    . \n",
      " |   |    |    |    |    |    |   |    |     |     |  \n",
      "Bob  is happy  ,  funny  ,   and  a  great friend  . \n",
      "\n"
     ]
    }
   ],
   "source": [
    "parsetree = lin.get_parsetree(\"Bob is happy, funny, and a great friend.\")\n",
    "parsetree.pretty_print()"
   ]
  },
  {
   "cell_type": "code",
   "execution_count": 10,
   "metadata": {},
   "outputs": [
    {
     "name": "stdout",
     "output_type": "stream",
     "text": [
      "                UCP                     \n",
      "   ______________|____________           \n",
      " ADJP  |   ADJP  |   |        NP        \n",
      "  |    |    |    |   |    ____|_____     \n",
      "  JJ   ,    JJ   ,   CC  DT   JJ    NN  \n",
      "  |    |    |    |   |   |    |     |    \n",
      "happy  ,  funny  ,  and  a  great friend\n",
      "\n"
     ]
    }
   ],
   "source": [
    "subtrees = lin.find_sub(parsetree)\n",
    "subtrees[0].pretty_print()"
   ]
  },
  {
   "cell_type": "code",
   "execution_count": 11,
   "metadata": {},
   "outputs": [
    {
     "name": "stdout",
     "output_type": "stream",
     "text": [
      "Bob is happy, funny, and lively, and he is also hilarious and genuine.\n",
      "├── Bob is happy , funny , and lively.\n",
      "│   ├── Bob is happy.\n",
      "│   ├── Bob is funny.\n",
      "│   └── Bob is lively.\n",
      "└── he is also hilarious and genuine.\n",
      "    ├── he is also hilarious.\n",
      "    └── he is also genuine.\n",
      "\n"
     ]
    }
   ],
   "source": [
    "sent = \"Bob is happy, funny, and lively, and he is also hilarious and genuine.\"\n",
    "root_node = test(sent, lin, tprint=True)"
   ]
  },
  {
   "cell_type": "code",
   "execution_count": 12,
   "metadata": {},
   "outputs": [
    {
     "name": "stdout",
     "output_type": "stream",
     "text": [
      "You need to learn to digest every experience and assimilate it without bitterness, regret, spite and resentment.\n",
      "├── You need to learn to digest every experience.\n",
      "└── You need to learn to assimilate it without bitterness, regret, spite and resentment.\n",
      "    ├── You need to learn to assimilate it without bitterness.\n",
      "    ├── You need to learn to assimilate it without regret.\n",
      "    ├── You need to learn to assimilate it without spite.\n",
      "    └── You need to learn to assimilate it without resentment.\n",
      "\n"
     ]
    }
   ],
   "source": [
    "sent = \"You need to learn to digest every experience and assimilate it without bitterness, regret, spite and resentment.\"\n",
    "root_node = test(sent, lin, tprint=True)"
   ]
  },
  {
   "cell_type": "code",
   "execution_count": 13,
   "metadata": {},
   "outputs": [
    {
     "name": "stdout",
     "output_type": "stream",
     "text": [
      "You enjoy indulging yourself and the ones you love and it is too easy for you to be extravagant and perhaps to put too much value in material things.\n",
      "├── You enjoy indulging yourself.\n",
      "└── You enjoy indulging the ones you love and it is too easy for you to be extravagant and perhaps to put too much value in material things.\n",
      "    ├── You enjoy indulging the ones you love.\n",
      "    └── it is too easy for you to be extravagant and perhaps to put too much value in material things.\n",
      "        ├── it is too easy for you to be extravagant.\n",
      "        └── it is too easy for you to put too much value in material things.\n",
      "\n"
     ]
    }
   ],
   "source": [
    "sent = \"You enjoy indulging yourself and the ones you love and it is too easy for you to be extravagant and perhaps to put too much value in material things.\"\n",
    "root_node = test(sent, lin, tprint=True)"
   ]
  },
  {
   "cell_type": "markdown",
   "metadata": {},
   "source": [
    "## Import example astrology corpus."
   ]
  },
  {
   "cell_type": "code",
   "execution_count": 2,
   "metadata": {},
   "outputs": [
    {
     "name": "stdout",
     "output_type": "stream",
     "text": [
      "60 \n",
      "\n"
     ]
    }
   ],
   "source": [
    "import json\n",
    "import nltk\n",
    "import pandas as pd\n",
    "\n",
    "sentences = []\n",
    "\n",
    "'''\n",
    "specify path to json files and feature to pull.\n",
    "e.g. [(PATH_TO_JSON_FILE, FEATURE_NAME)]\n",
    "'''\n",
    "data_list = [\n",
    "    ('../data/planets-in-signs/planets-in-signs_ascendant_data.json', 'Virgo Rising'),\n",
    "    ('../data/planets-in-signs/planets-in-signs_moon_data.json', 'Moon in Cancer'),\n",
    "    ('../data/planets-in-signs/planets-in-signs_mercury_data.json', 'Mercury in Gemini'),\n",
    "    ('../data/planets-in-signs/planets-in-signs_venus_data.json', 'Venus in Taurus')\n",
    "]\n",
    "\n",
    "for fpath, feature in data_list:\n",
    "    with open(fpath, 'r') as f:\n",
    "        data_dict = json.load(f)\n",
    "\n",
    "    group = data_dict[feature]\n",
    "    sentences.extend(nltk.sent_tokenize(group[0]))\n",
    "\n",
    "print(len(sentences), '\\n')"
   ]
  },
  {
   "cell_type": "markdown",
   "metadata": {},
   "source": [
    "### Or import sentences from csv/tsv."
   ]
  },
  {
   "cell_type": "code",
   "execution_count": 18,
   "metadata": {},
   "outputs": [
    {
     "data": {
      "text/html": [
       "<div>\n",
       "<style scoped>\n",
       "    .dataframe tbody tr th:only-of-type {\n",
       "        vertical-align: middle;\n",
       "    }\n",
       "\n",
       "    .dataframe tbody tr th {\n",
       "        vertical-align: top;\n",
       "    }\n",
       "\n",
       "    .dataframe thead th {\n",
       "        text-align: right;\n",
       "    }\n",
       "</style>\n",
       "<table border=\"1\" class=\"dataframe\">\n",
       "  <thead>\n",
       "    <tr style=\"text-align: right;\">\n",
       "      <th></th>\n",
       "      <th>0</th>\n",
       "    </tr>\n",
       "  </thead>\n",
       "  <tbody>\n",
       "    <tr>\n",
       "      <th>0</th>\n",
       "      <td>You never give up and find it difficult to cha...</td>\n",
       "    </tr>\n",
       "    <tr>\n",
       "      <th>1</th>\n",
       "      <td>Whatever you have set your sights on, you refu...</td>\n",
       "    </tr>\n",
       "    <tr>\n",
       "      <th>2</th>\n",
       "      <td>You are patient and usually slow to anger unle...</td>\n",
       "    </tr>\n",
       "    <tr>\n",
       "      <th>3</th>\n",
       "      <td>You are reliable and consistent and can handle...</td>\n",
       "    </tr>\n",
       "    <tr>\n",
       "      <th>4</th>\n",
       "      <td>You prefer a regular routine, with definite ho...</td>\n",
       "    </tr>\n",
       "  </tbody>\n",
       "</table>\n",
       "</div>"
      ],
      "text/plain": [
       "                                                   0\n",
       "0  You never give up and find it difficult to cha...\n",
       "1  Whatever you have set your sights on, you refu...\n",
       "2  You are patient and usually slow to anger unle...\n",
       "3  You are reliable and consistent and can handle...\n",
       "4  You prefer a regular routine, with definite ho..."
      ]
     },
     "execution_count": 18,
     "metadata": {},
     "output_type": "execute_result"
    }
   ],
   "source": [
    "import pandas as pd\n",
    "with open(\"../data/Astro1.tsv\") as f:\n",
    "    sents_df = pd.read_csv(f, delimiter='\\t', header=None)\n",
    "sents_df.head()"
   ]
  },
  {
   "cell_type": "code",
   "execution_count": 19,
   "metadata": {},
   "outputs": [],
   "source": [
    "sentences = sents_df[0].values"
   ]
  },
  {
   "cell_type": "markdown",
   "metadata": {},
   "source": [
    "### Linearise sentences"
   ]
  },
  {
   "cell_type": "code",
   "execution_count": 20,
   "metadata": {
    "scrolled": true
   },
   "outputs": [
    {
     "name": "stdout",
     "output_type": "stream",
     "text": [
      "{0: [], 1: [], 2: [], 3: [], 4: [], 5: [], 6: [], 7: [], 8: [], 9: [], 10: [], 11: [], 12: [], 13: [], 14: [], 15: [], 16: [], 17: [], 18: [], 19: []}\n",
      "Warning: Sentence structure not covered by function.\n",
      "Warning: Sentence structure not covered by function.\n",
      "Warning: Sentence structure not covered by function.\n",
      "20\n"
     ]
    }
   ],
   "source": [
    "linearized_sentences = {i:[] for i in range(len(sentences))}\n",
    "print(linearized_sentences)\n",
    "\n",
    "for i, sent in enumerate(sentences):\n",
    "    root_node = Node(sent)\n",
    "    root_node = linearise_hierarchy(root_node, lin)\n",
    "    for n in root_node.leaves:\n",
    "        linearized_sentences[i].append(n.name)\n",
    "print(len(linearized_sentences))"
   ]
  },
  {
   "cell_type": "code",
   "execution_count": 21,
   "metadata": {
    "scrolled": true
   },
   "outputs": [
    {
     "name": "stdout",
     "output_type": "stream",
     "text": [
      "0 :\n",
      "You never give up.\n",
      "You never find it difficult to change your mind or course in mid-stream.\n",
      "\n",
      "1 :\n",
      "Whatever you have set your sights on, you refuse to give up or let go of it.\n",
      "\n",
      "2 :\n",
      "You are patient unless someone takes you too far.\n",
      "You are usually slow to anger unless someone takes you too far.\n",
      "\n",
      "3 :\n",
      "You are reliable.\n",
      "You are consistent.\n",
      "You can handle more of the workload than most around you.\n",
      "\n",
      "4 :\n",
      "You prefer a regular routine, defined responsibilities.\n",
      "You prefer a regular routine, defined tasks.\n",
      "\n",
      "5 :\n",
      "You enjoy building and seeing the results of your hard work.\n",
      "\n",
      "6 :\n",
      "Keeping things going is your strength, especially once someone else starts them.\n",
      "\n",
      "7 :\n",
      "Money and possessions are important to you for the feelings of security they bring.\n",
      "\n",
      "8 :\n",
      "You are handy with your hands.\n",
      "You may be ambidextrous or mechanically inclined.\n",
      "\n",
      "9 :\n",
      "Debate and argument appeal to you.\n",
      "\n",
      "10 :\n",
      "You grasp concepts easily.\n",
      "You may become impatient with those who do n't learn as quickly.\n",
      "\n",
      "11 :\n",
      "You are very direct in thought , action.\n",
      "speech and everyone knows how you feel.\n",
      "\n",
      "12 :\n",
      "You are adventurous.\n",
      "You are courageous.\n",
      "You are independent.\n",
      "\n",
      "13 :\n",
      "You tend to be industrious, efficient, practical, exacting, scientific, organized, shy, thrifty.\n",
      "You tend to be industrious, efficient, practical, exacting, scientific, organized, shy, studious.\n",
      "You tend to be industrious, efficient, practical, exacting, scientific, organized, shy, economical.\n",
      "You tend to be industrious, efficient, practical, exacting, scientific, organized, shy, punctual.\n",
      "\n",
      "14 :\n",
      "You have common sense to manage others.\n",
      "You have the ability to manage others.\n",
      "You may be a bit of a perfectionist.\n",
      "\n",
      "15 :\n",
      "Your mind is deep.\n",
      "Your mind is analytical.\n",
      "you probably have a good head for numbers.\n",
      "\n",
      "16 :\n",
      "Your work is usually neat.\n",
      "Your work is usually orderly.\n",
      "you dislike messes.\n",
      "you dislike dirt.\n",
      "\n",
      "17 :\n",
      "You tend to be idealistic.\n",
      "You tend to be optimistic.\n",
      "You tend to be dependable.\n",
      "You tend to be open-minded.\n",
      "You tend to be friendly.\n",
      "You tend to be honest.\n",
      "You tend to be versatile.\n",
      "\n",
      "18 :\n",
      "You are usually outspoken, sometimes to the point of bluntness.\n",
      "\n",
      "19 :\n",
      "You are quiet.\n",
      "You are shy.\n",
      "You are sensitive.\n",
      "You are sentimental.\n",
      "You are gentle.\n",
      "You are romantic.\n",
      "\n"
     ]
    }
   ],
   "source": [
    "for k, v in linearized_sentences.items():\n",
    "    print(str(k), ':')\n",
    "    for sent in v:\n",
    "        print(sent)\n",
    "    print()"
   ]
  },
  {
   "cell_type": "code",
   "execution_count": 23,
   "metadata": {},
   "outputs": [
    {
     "name": "stdin",
     "output_type": "stream",
     "text": [
      "input path to save grouped decomposed sentences:\n",
      " ../data/Astro1_decomposed.json\n"
     ]
    }
   ],
   "source": [
    "import json\n",
    "path = input(\"input path to save grouped decomposed sentences:\\n\")\n",
    "with open(path, 'w', encoding='utf-8') as f:\n",
    "    json.dump(linearized_sentences, f, ensure_ascii=False, indent=4)"
   ]
  },
  {
   "cell_type": "code",
   "execution_count": 17,
   "metadata": {},
   "outputs": [
    {
     "data": {
      "text/plain": [
       "'\\ncount no. of correctly linearised sentences over total sentences. how many of the incorrect\\nones are due to parser? how many are due to linearisation algorithm?\\nBy observation, 8 of the original sentences were clearly incorrectly linearized. 52/60 = 86.67% accuracy.\\nOf these mistakes, \\n2 are due to implicit references\\n1 is due to parser being wrong or sentence being ungrammatical\\n5 seems to be linearisation mistakes\\n'"
      ]
     },
     "execution_count": 17,
     "metadata": {},
     "output_type": "execute_result"
    }
   ],
   "source": [
    "\"\"\"\n",
    "count no. of correctly linearised sentences over total sentences. how many of the incorrect\n",
    "ones are due to parser? how many are due to linearisation algorithm?\n",
    "By observation, 8 of the original sentences were clearly incorrectly linearized. 52/60 = 86.67% accuracy.\n",
    "Of these mistakes, \n",
    "2 are due to implicit references\n",
    "1 is due to parser being wrong or sentence being ungrammatical\n",
    "5 seems to be linearisation mistakes\n",
    "\"\"\""
   ]
  },
  {
   "cell_type": "code",
   "execution_count": 24,
   "metadata": {},
   "outputs": [],
   "source": [
    "with open(path, 'r', encoding='utf-8') as f:\n",
    "    raw_lin = json.load(f)"
   ]
  },
  {
   "cell_type": "code",
   "execution_count": 25,
   "metadata": {},
   "outputs": [
    {
     "data": {
      "text/plain": [
       "['You are very direct in thought , action.',\n",
       " 'speech and everyone knows how you feel.']"
      ]
     },
     "metadata": {},
     "output_type": "display_data"
    },
    {
     "data": {
      "text/plain": [
       "'You are very direct in thought, action, and speech and everyone knows how you feel.'"
      ]
     },
     "metadata": {},
     "output_type": "display_data"
    },
    {
     "data": {
      "text/plain": [
       "['You tend to be industrious, efficient, practical, exacting, scientific, organized, shy, thrifty.',\n",
       " 'You tend to be industrious, efficient, practical, exacting, scientific, organized, shy, studious.',\n",
       " 'You tend to be industrious, efficient, practical, exacting, scientific, organized, shy, economical.',\n",
       " 'You tend to be industrious, efficient, practical, exacting, scientific, organized, shy, punctual.']"
      ]
     },
     "metadata": {},
     "output_type": "display_data"
    },
    {
     "data": {
      "text/plain": [
       "'You tend to be industrious, efficient, practical, exacting, scientific, organized, shy, thrifty, studious, economical, and punctual.'"
      ]
     },
     "metadata": {},
     "output_type": "display_data"
    }
   ],
   "source": [
    "bad_indices = [11, 13]  # manually identify the indices of badly decomposed sentences.\n",
    "\n",
    "# replace badly decomposed sentences with the original sentence:\n",
    "for ind in bad_indices:\n",
    "    display(raw_lin[str(ind)], sentences[ind])\n",
    "    raw_lin[str(ind)] = [sentences[ind]]  # raw_lin's dict values are lists."
   ]
  },
  {
   "cell_type": "code",
   "execution_count": 26,
   "metadata": {},
   "outputs": [
    {
     "data": {
      "text/plain": [
       "{'0': ['You never give up.',\n",
       "  'You never find it difficult to change your mind or course in mid-stream.'],\n",
       " '1': ['Whatever you have set your sights on, you refuse to give up or let go of it.'],\n",
       " '2': ['You are patient unless someone takes you too far.',\n",
       "  'You are usually slow to anger unless someone takes you too far.'],\n",
       " '3': ['You are reliable.',\n",
       "  'You are consistent.',\n",
       "  'You can handle more of the workload than most around you.'],\n",
       " '4': ['You prefer a regular routine, defined responsibilities.',\n",
       "  'You prefer a regular routine, defined tasks.'],\n",
       " '5': ['You enjoy building and seeing the results of your hard work.'],\n",
       " '6': ['Keeping things going is your strength, especially once someone else starts them.'],\n",
       " '7': ['Money and possessions are important to you for the feelings of security they bring.'],\n",
       " '8': ['You are handy with your hands.',\n",
       "  'You may be ambidextrous or mechanically inclined.'],\n",
       " '9': ['Debate and argument appeal to you.'],\n",
       " '10': ['You grasp concepts easily.',\n",
       "  \"You may become impatient with those who do n't learn as quickly.\"],\n",
       " '11': ['You are very direct in thought, action, and speech and everyone knows how you feel.'],\n",
       " '12': ['You are adventurous.', 'You are courageous.', 'You are independent.'],\n",
       " '13': ['You tend to be industrious, efficient, practical, exacting, scientific, organized, shy, thrifty, studious, economical, and punctual.'],\n",
       " '14': ['You have common sense to manage others.',\n",
       "  'You have the ability to manage others.',\n",
       "  'You may be a bit of a perfectionist.'],\n",
       " '15': ['Your mind is deep.',\n",
       "  'Your mind is analytical.',\n",
       "  'you probably have a good head for numbers.'],\n",
       " '16': ['Your work is usually neat.',\n",
       "  'Your work is usually orderly.',\n",
       "  'you dislike messes.',\n",
       "  'you dislike dirt.'],\n",
       " '17': ['You tend to be idealistic.',\n",
       "  'You tend to be optimistic.',\n",
       "  'You tend to be dependable.',\n",
       "  'You tend to be open-minded.',\n",
       "  'You tend to be friendly.',\n",
       "  'You tend to be honest.',\n",
       "  'You tend to be versatile.'],\n",
       " '18': ['You are usually outspoken, sometimes to the point of bluntness.'],\n",
       " '19': ['You are quiet.',\n",
       "  'You are shy.',\n",
       "  'You are sensitive.',\n",
       "  'You are sentimental.',\n",
       "  'You are gentle.',\n",
       "  'You are romantic.']}"
      ]
     },
     "execution_count": 26,
     "metadata": {},
     "output_type": "execute_result"
    }
   ],
   "source": [
    "raw_lin"
   ]
  },
  {
   "cell_type": "code",
   "execution_count": 27,
   "metadata": {},
   "outputs": [
    {
     "data": {
      "text/plain": [
       "47"
      ]
     },
     "metadata": {},
     "output_type": "display_data"
    }
   ],
   "source": [
    "# count no. of sentences after cleaned linearisation\n",
    "count = 0\n",
    "for k,v in raw_lin.items():\n",
    "    count = count + len(v)\n",
    "display(count)"
   ]
  },
  {
   "cell_type": "code",
   "execution_count": 28,
   "metadata": {},
   "outputs": [
    {
     "name": "stdin",
     "output_type": "stream",
     "text": [
      "input final path to save decomposed sentences. ../data/Astro1_decomposed_clean.json\n"
     ]
    }
   ],
   "source": [
    "# save cleaned, linearized sentences\n",
    "final_path = input(\"input final path to save decomposed sentences.\")\n",
    "with open(final_path, 'w', encoding='utf-8') as f:\n",
    "    json.dump(raw_lin, f, ensure_ascii=False, indent=4)"
   ]
  },
  {
   "cell_type": "code",
   "execution_count": 29,
   "metadata": {},
   "outputs": [
    {
     "name": "stdout",
     "output_type": "stream",
     "text": [
      "no. of sentences:  47\n",
      "no. of sentence pairs:  1081 \n",
      "\n"
     ]
    }
   ],
   "source": [
    "# generate all pairs in the set of sentences.\n",
    "\n",
    "import itertools\n",
    "\n",
    "s = []\n",
    "for k,v in raw_lin.items():\n",
    "    s.extend(v)\n",
    "\n",
    "pairs_list = list(itertools.combinations(s, 2))\n",
    "print('no. of sentences: ', len(s))\n",
    "print('no. of sentence pairs: ', len(pairs_list), '\\n')"
   ]
  },
  {
   "cell_type": "code",
   "execution_count": 30,
   "metadata": {},
   "outputs": [
    {
     "data": {
      "text/plain": [
       "('You never give up.',\n",
       " 'You never find it difficult to change your mind or course in mid-stream.')"
      ]
     },
     "execution_count": 30,
     "metadata": {},
     "output_type": "execute_result"
    }
   ],
   "source": [
    "pairs_list[0]  # tuple."
   ]
  },
  {
   "cell_type": "code",
   "execution_count": 31,
   "metadata": {},
   "outputs": [
    {
     "name": "stdout",
     "output_type": "stream",
     "text": [
      "                     first                                             second\n",
      "0       You never give up.  You never find it difficult to change your min...\n",
      "1       You never give up.  Whatever you have set your sights on, you refu...\n",
      "2       You never give up.  You are patient unless someone takes you too far.\n",
      "3       You never give up.  You are usually slow to anger unless someone t...\n",
      "4       You never give up.                                  You are reliable.\n",
      "...                    ...                                                ...\n",
      "1076    You are sensitive.                                    You are gentle.\n",
      "1077    You are sensitive.                                  You are romantic.\n",
      "1078  You are sentimental.                                    You are gentle.\n",
      "1079  You are sentimental.                                  You are romantic.\n",
      "1080       You are gentle.                                  You are romantic.\n",
      "\n",
      "[1081 rows x 2 columns]\n"
     ]
    },
    {
     "name": "stdin",
     "output_type": "stream",
     "text": [
      "key in file path to save csv to:  ../data/Astro1_decomposed_clean_pairs.csv\n"
     ]
    }
   ],
   "source": [
    "data = []\n",
    "for pair in pairs_list:\n",
    "    data.append([pair[0], pair[1]])\n",
    "\n",
    "df = pd.DataFrame(data=data, columns=['first', 'second'])\n",
    "print(df)\n",
    "path = input('key in file path to save csv to: ')\n",
    "df.to_csv(path)"
   ]
  },
  {
   "cell_type": "code",
   "execution_count": null,
   "metadata": {},
   "outputs": [],
   "source": []
  }
 ],
 "metadata": {
  "kernelspec": {
   "display_name": "fyp",
   "language": "python",
   "name": "fyp"
  },
  "language_info": {
   "codemirror_mode": {
    "name": "ipython",
    "version": 3
   },
   "file_extension": ".py",
   "mimetype": "text/x-python",
   "name": "python",
   "nbconvert_exporter": "python",
   "pygments_lexer": "ipython3",
   "version": "3.7.4"
  }
 },
 "nbformat": 4,
 "nbformat_minor": 4
}
