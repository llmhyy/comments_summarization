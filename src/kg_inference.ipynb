{
 "cells": [
  {
   "cell_type": "code",
   "execution_count": 30,
   "metadata": {},
   "outputs": [],
   "source": [
    "import networkx as nx\n",
    "import pickle\n",
    "import json\n",
    "\n",
    "G = nx.read_gpickle(\"../data/graph.pickle\")"
   ]
  },
  {
   "cell_type": "code",
   "execution_count": 31,
   "metadata": {},
   "outputs": [
    {
     "data": {
      "text/plain": [
       "networkx.classes.graph.Graph"
      ]
     },
     "execution_count": 31,
     "metadata": {},
     "output_type": "execute_result"
    }
   ],
   "source": [
    "type(G)"
   ]
  },
  {
   "cell_type": "code",
   "execution_count": 32,
   "metadata": {},
   "outputs": [
    {
     "data": {
      "text/plain": [
       "728"
      ]
     },
     "execution_count": 32,
     "metadata": {},
     "output_type": "execute_result"
    }
   ],
   "source": [
    "len(G.nodes)"
   ]
  },
  {
   "cell_type": "code",
   "execution_count": 33,
   "metadata": {},
   "outputs": [
    {
     "data": {
      "text/plain": [
       "591"
      ]
     },
     "execution_count": 33,
     "metadata": {},
     "output_type": "execute_result"
    }
   ],
   "source": [
    "len(G.edges)"
   ]
  },
  {
   "cell_type": "code",
   "execution_count": 34,
   "metadata": {},
   "outputs": [
    {
     "name": "stdout",
     "output_type": "stream",
     "text": [
      "dict_keys(['active', 'adventurous', 'amiable', 'benevolent', 'agreeable', 'calm', 'challenging', 'compassionate', 'clever', 'considerate', 'cheerful', 'confident', 'cooperative', 'courteous', 'cultured', 'creative', 'curious', 'decent', 'dynamic', 'earnest', 'ebullient', 'energetic', 'fair', 'faithful', 'flexible', 'forthright', 'generous', 'gallant', 'friendly', 'genuine', 'gracious', 'honest', 'imaginative', 'humorous', 'honorable', 'intelligent', 'intuitive', 'liberal', 'magnanimous', 'kind', 'logical', 'mature', 'neat', 'open', 'orderly', 'passionate', 'practical', 'precise', 'popular', 'rational', 'reliable', 'responsible', 'sane', 'serious', 'sociable', 'shrewd', 'skillful', 'strong', 'sporting', 'sympathetic', 'tidy', 'wise', 'venturesome', 'witty', 'warm', 'youthful', 'anxious', 'assertive', 'argumentative', 'blunt', 'callous', 'childish', 'careless', 'confused', 'crazy', 'cowardly', 'critical', 'crude', 'difficult', 'dirty', 'cynical', 'desperate', 'dishonest', 'disorderly', 'dull', 'erratic', 'envious', 'fearful', 'foolish', 'hateful', 'hostile', 'impractical', 'inconsiderate', 'insensitive', 'irrational', 'lazy', 'messy', 'moody', 'naive', 'odd', 'passive', 'predatory', 'resentful', 'selfish', 'shallow', 'silly', 'shy', 'slow', 'sloppy', 'stupid', 'superficial', 'thoughtless', 'treacherous', 'timid', 'unfriendly', 'vulnerable', 'weak', 'aggressive', 'ambitious', 'busy', 'competitive', 'effeminate', 'formal', 'mellow', 'quiet', 'sarcastic', 'soft', 'solemn'])\n",
      "128\n"
     ]
    }
   ],
   "source": [
    "with open(\"../data/common_traits_dict.json\", 'r') as f:\n",
    "    defs_dict = json.load(f)\n",
    "print(defs_dict.keys())\n",
    "print(len(defs_dict))"
   ]
  },
  {
   "cell_type": "code",
   "execution_count": 35,
   "metadata": {},
   "outputs": [
    {
     "data": {
      "text/plain": [
       "[',',\n",
       " 'characterized by unknown dangers and risks',\n",
       " 'disposed to seek',\n",
       " 'exciting or unusual',\n",
       " 'full of danger and excitement',\n",
       " 'not afraid to do new and dangerous or exciting things',\n",
       " 'or to cope with the new and unknown',\n",
       " 'ready to take risks or to deal with new or unexpected problems']"
      ]
     },
     "execution_count": 35,
     "metadata": {},
     "output_type": "execute_result"
    }
   ],
   "source": [
    "defs_dict['adventurous']"
   ]
  },
  {
   "cell_type": "code",
   "execution_count": 36,
   "metadata": {},
   "outputs": [],
   "source": [
    "def is_entailed(A, B):\n",
    "    \"\"\"\n",
    "    :param A: String.\n",
    "    :param B: String.\n",
    "    \"\"\"\n",
    "    pass\n",
    "\n",
    "def infer(trait_dict, trait_graph, s1, s2):\n",
    "    \"\"\"\n",
    "    :param trait_dict: Dict of trait definitions; the traits in this dict are a subset of the\n",
    "    traits in trait_graph.\n",
    "    :param trait_graph: Graph of antonym/synonym relations between traits.\n",
    "    :param s1: String. for comparison w s2.\n",
    "    :param s2: String. for comparison w s1.\n",
    "    \"\"\"\n",
    "    # Find likely trait1 and trait2.\n",
    "    trait1_scores = dict()\n",
    "    trait2_scores = dict()\n",
    "    for trait, defs in trait_dict:\n",
    "        trait1_scores[trait] = list()\n",
    "        trait2_scores[trait] = list()\n",
    "        for desc in defs:\n",
    "            score = compare(desc, s1)\n",
    "            trait1_scores[trait].append(score)\n",
    "            \n",
    "            score = compare(desc, s1)\n",
    "            trait2_scores[trait].append(score)\n",
    "            \n",
    "    # Obtain highest scoring trait1 and trait2 from trait scores dicts.\n",
    "    \n",
    "    # Given trait1 and trait2, find edges between them and infer if antonym or synonym.\n",
    "    t1 = \"competitive\"  # stub example.\n",
    "    t2 = \"cowardly\"  # stub example.\n",
    "    paths = nx.shortest_path(trait_graph, source=t1, target=t2, weight=None, method='dijkstra')\n",
    "    "
   ]
  },
  {
   "cell_type": "code",
   "execution_count": 100,
   "metadata": {},
   "outputs": [],
   "source": [
    "t1 = \"competitive\"  # stub example.\n",
    "t2 = \"cowardly\"  # stub example.\n",
    "paths = nx.all_shortest_paths(G, source=t1, target=t2, weight=None, method='dijkstra')"
   ]
  },
  {
   "cell_type": "code",
   "execution_count": 101,
   "metadata": {},
   "outputs": [
    {
     "data": {
      "text/plain": [
       "22"
      ]
     },
     "execution_count": 101,
     "metadata": {},
     "output_type": "execute_result"
    }
   ],
   "source": [
    "paths_list = [row for row in paths]\n",
    "len(paths_list)"
   ]
  },
  {
   "cell_type": "code",
   "execution_count": 102,
   "metadata": {},
   "outputs": [
    {
     "data": {
      "text/plain": [
       "15"
      ]
     },
     "execution_count": 102,
     "metadata": {},
     "output_type": "execute_result"
    }
   ],
   "source": [
    "len(paths_list[0])"
   ]
  },
  {
   "cell_type": "code",
   "execution_count": 103,
   "metadata": {},
   "outputs": [
    {
     "name": "stdout",
     "output_type": "stream",
     "text": [
      "['competitive', 'aggressive', 'ambitious', 'difficult', 'serious', 'dangerous', 'unsafe', 'vulnerable', 'immature', 'mature', 'big', 'heroic', 'fearless', 'brave', 'cowardly']\n",
      "[1, 1, 1, 1, 1, 1, 1, 1, -1, 1, 1, 1, 1, -1]\n",
      "\n",
      "['competitive', 'aggressive', 'ambitious', 'difficult', 'serious', 'dangerous', 'unsafe', 'vulnerable', 'immature', 'little', 'big', 'heroic', 'fearless', 'brave', 'cowardly']\n",
      "[1, 1, 1, 1, 1, 1, 1, 1, 1, -1, 1, 1, 1, -1]\n",
      "\n",
      "['competitive', 'aggressive', 'ambitious', 'difficult', 'serious', 'dangerous', 'unsafe', 'vulnerable', 'young', 'little', 'big', 'heroic', 'fearless', 'brave', 'cowardly']\n",
      "[1, 1, 1, 1, 1, 1, 1, 1, 1, -1, 1, 1, 1, -1]\n",
      "\n",
      "['competitive', 'aggressive', 'ambitious', 'difficult', 'serious', 'dangerous', 'unsafe', 'vulnerable', 'immature', 'small', 'big', 'heroic', 'fearless', 'brave', 'cowardly']\n",
      "[1, 1, 1, 1, 1, 1, 1, 1, 1, -1, 1, 1, 1, -1]\n",
      "\n",
      "['competitive', 'aggressive', 'ambitious', 'difficult', 'serious', 'dangerous', 'unsafe', 'vulnerable', 'young', 'small', 'big', 'heroic', 'fearless', 'brave', 'cowardly']\n",
      "[1, 1, 1, 1, 1, 1, 1, 1, 1, -1, 1, 1, 1, -1]\n",
      "\n",
      "['competitive', 'aggressive', 'hostile', 'friendly', 'favorable', 'lucky', 'fortunate', 'good', 'benevolent', 'generous', 'big', 'heroic', 'fearless', 'brave', 'cowardly']\n",
      "[1, 1, -1, 1, 1, 1, 1, 1, 1, 1, 1, 1, 1, -1]\n",
      "\n",
      "['competitive', 'aggressive', 'hostile', 'friendly', 'favorable', 'auspicious', 'fortunate', 'good', 'benevolent', 'generous', 'big', 'heroic', 'fearless', 'brave', 'cowardly']\n",
      "[1, 1, -1, 1, 1, 1, 1, 1, 1, 1, 1, 1, 1, -1]\n",
      "\n",
      "['competitive', 'aggressive', 'ambitious', 'difficult', 'serious', 'dangerous', 'unsafe', 'vulnerable', 'immature', 'small', 'large', 'heroic', 'fearless', 'brave', 'cowardly']\n",
      "[1, 1, 1, 1, 1, 1, 1, 1, 1, 1, 1, 1, 1, -1]\n",
      "\n",
      "['competitive', 'aggressive', 'ambitious', 'difficult', 'serious', 'dangerous', 'unsafe', 'vulnerable', 'young', 'small', 'large', 'heroic', 'fearless', 'brave', 'cowardly']\n",
      "[1, 1, 1, 1, 1, 1, 1, 1, 1, 1, 1, 1, 1, -1]\n",
      "\n",
      "['competitive', 'aggressive', 'hostile', 'friendly', 'favorable', 'lucky', 'fortunate', 'good', 'benevolent', 'generous', 'large', 'heroic', 'fearless', 'brave', 'cowardly']\n",
      "[1, 1, -1, 1, 1, 1, 1, 1, 1, 1, 1, 1, 1, -1]\n",
      "\n",
      "['competitive', 'aggressive', 'hostile', 'friendly', 'favorable', 'auspicious', 'fortunate', 'good', 'benevolent', 'generous', 'large', 'heroic', 'fearless', 'brave', 'cowardly']\n",
      "[1, 1, -1, 1, 1, 1, 1, 1, 1, 1, 1, 1, 1, -1]\n",
      "\n",
      "['competitive', 'aggressive', 'ambitious', 'difficult', 'serious', 'dangerous', 'unsafe', 'vulnerable', 'immature', 'mature', 'big', 'heroic', 'fearless', 'courageous', 'cowardly']\n",
      "[1, 1, 1, 1, 1, 1, 1, 1, -1, 1, 1, 1, 1, -1]\n",
      "\n",
      "['competitive', 'aggressive', 'ambitious', 'difficult', 'serious', 'dangerous', 'unsafe', 'vulnerable', 'immature', 'little', 'big', 'heroic', 'fearless', 'courageous', 'cowardly']\n",
      "[1, 1, 1, 1, 1, 1, 1, 1, 1, -1, 1, 1, 1, -1]\n",
      "\n",
      "['competitive', 'aggressive', 'ambitious', 'difficult', 'serious', 'dangerous', 'unsafe', 'vulnerable', 'young', 'little', 'big', 'heroic', 'fearless', 'courageous', 'cowardly']\n",
      "[1, 1, 1, 1, 1, 1, 1, 1, 1, -1, 1, 1, 1, -1]\n",
      "\n",
      "['competitive', 'aggressive', 'ambitious', 'difficult', 'serious', 'dangerous', 'unsafe', 'vulnerable', 'immature', 'small', 'big', 'heroic', 'fearless', 'courageous', 'cowardly']\n",
      "[1, 1, 1, 1, 1, 1, 1, 1, 1, -1, 1, 1, 1, -1]\n",
      "\n",
      "['competitive', 'aggressive', 'ambitious', 'difficult', 'serious', 'dangerous', 'unsafe', 'vulnerable', 'young', 'small', 'big', 'heroic', 'fearless', 'courageous', 'cowardly']\n",
      "[1, 1, 1, 1, 1, 1, 1, 1, 1, -1, 1, 1, 1, -1]\n",
      "\n",
      "['competitive', 'aggressive', 'hostile', 'friendly', 'favorable', 'lucky', 'fortunate', 'good', 'benevolent', 'generous', 'big', 'heroic', 'fearless', 'courageous', 'cowardly']\n",
      "[1, 1, -1, 1, 1, 1, 1, 1, 1, 1, 1, 1, 1, -1]\n",
      "\n",
      "['competitive', 'aggressive', 'hostile', 'friendly', 'favorable', 'auspicious', 'fortunate', 'good', 'benevolent', 'generous', 'big', 'heroic', 'fearless', 'courageous', 'cowardly']\n",
      "[1, 1, -1, 1, 1, 1, 1, 1, 1, 1, 1, 1, 1, -1]\n",
      "\n",
      "['competitive', 'aggressive', 'ambitious', 'difficult', 'serious', 'dangerous', 'unsafe', 'vulnerable', 'immature', 'small', 'large', 'heroic', 'fearless', 'courageous', 'cowardly']\n",
      "[1, 1, 1, 1, 1, 1, 1, 1, 1, 1, 1, 1, 1, -1]\n",
      "\n",
      "['competitive', 'aggressive', 'ambitious', 'difficult', 'serious', 'dangerous', 'unsafe', 'vulnerable', 'young', 'small', 'large', 'heroic', 'fearless', 'courageous', 'cowardly']\n",
      "[1, 1, 1, 1, 1, 1, 1, 1, 1, 1, 1, 1, 1, -1]\n",
      "\n",
      "['competitive', 'aggressive', 'hostile', 'friendly', 'favorable', 'lucky', 'fortunate', 'good', 'benevolent', 'generous', 'large', 'heroic', 'fearless', 'courageous', 'cowardly']\n",
      "[1, 1, -1, 1, 1, 1, 1, 1, 1, 1, 1, 1, 1, -1]\n",
      "\n",
      "['competitive', 'aggressive', 'hostile', 'friendly', 'favorable', 'auspicious', 'fortunate', 'good', 'benevolent', 'generous', 'large', 'heroic', 'fearless', 'courageous', 'cowardly']\n",
      "[1, 1, -1, 1, 1, 1, 1, 1, 1, 1, 1, 1, 1, -1]\n",
      "\n"
     ]
    }
   ],
   "source": [
    "weight_paths_list = list()\n",
    "for path in paths_list:\n",
    "    weight_path = list()\n",
    "    for i in range(len(path) - 1):\n",
    "        edge_attr = G.get_edge_data(path[i], path[i+1])\n",
    "        weight_path.append(edge_attr['weight'])\n",
    "    weight_paths_list.append(weight_path)\n",
    "    print(path)\n",
    "    print(weight_path)\n",
    "    print()"
   ]
  },
  {
   "cell_type": "code",
   "execution_count": 104,
   "metadata": {},
   "outputs": [],
   "source": [
    "import numpy as np\n",
    "\n",
    "final_vals = list()\n",
    "for weight_path in weight_paths_list:    \n",
    "    # this algo seems buggy for 2 hops.\n",
    "    \n",
    "    counts = np.unique(weight_path[1:], return_counts=True)\n",
    "    # output of unique values is sorted ascending.\n",
    "     \n",
    "    if counts[1][0] % 2 == 0:\n",
    "        final_val = start_val\n",
    "    else:\n",
    "        final_val = -start_val\n",
    "    final_vals.append(final_val)"
   ]
  },
  {
   "cell_type": "code",
   "execution_count": 105,
   "metadata": {},
   "outputs": [
    {
     "name": "stdout",
     "output_type": "stream",
     "text": [
      "[1, 1, 1, 1, 1, 1, 1, -1, -1, 1, 1, 1, 1, 1, 1, 1, 1, 1, -1, -1, 1, 1]\n"
     ]
    }
   ],
   "source": [
    "print(final_vals)"
   ]
  },
  {
   "cell_type": "code",
   "execution_count": 98,
   "metadata": {},
   "outputs": [],
   "source": [
    "alt_final_vals = list()\n",
    "for weight_path in weight_paths_list:\n",
    "    # alt algorithm for computing relation between start and end node of path.\n",
    "    \n",
    "    start_val = weight_path[0]\n",
    "    for i in weight_path[1:]:\n",
    "        start_val = start_val * i\n",
    "    alt_final_vals.append(start_val)"
   ]
  },
  {
   "cell_type": "code",
   "execution_count": 99,
   "metadata": {},
   "outputs": [
    {
     "name": "stdout",
     "output_type": "stream",
     "text": [
      "[1]\n"
     ]
    }
   ],
   "source": [
    "print(alt_final_vals)"
   ]
  },
  {
   "cell_type": "code",
   "execution_count": null,
   "metadata": {},
   "outputs": [],
   "source": []
  }
 ],
 "metadata": {
  "kernelspec": {
   "display_name": "fyp",
   "language": "python",
   "name": "fyp"
  },
  "language_info": {
   "codemirror_mode": {
    "name": "ipython",
    "version": 3
   },
   "file_extension": ".py",
   "mimetype": "text/x-python",
   "name": "python",
   "nbconvert_exporter": "python",
   "pygments_lexer": "ipython3",
   "version": "3.7.4"
  }
 },
 "nbformat": 4,
 "nbformat_minor": 4
}
