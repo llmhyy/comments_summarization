{
 "cells": [
  {
   "cell_type": "code",
   "execution_count": 1,
   "metadata": {},
   "outputs": [],
   "source": [
    "import scrapy\n",
    "from scrapy.crawler import CrawlerProcess\n",
    "import re\n",
    "import json\n",
    "import numpy as np"
   ]
  },
  {
   "cell_type": "code",
   "execution_count": 2,
   "metadata": {},
   "outputs": [
    {
     "name": "stdout",
     "output_type": "stream",
     "text": [
      "['Absentminded', 'Aggressive', 'Ambitious', 'Amusing', 'Artful', 'Ascetic', 'Authoritarian', 'Big-thinking', 'Boyish', 'Breezy', 'Businesslike', 'Busy', 'Casual', 'Crebral', 'Chummy', 'Circumspect', 'Competitive', 'Complex', 'Confidential', 'Conservative', 'Contradictory', 'Crisp', 'Cute', 'Deceptive', 'Determined', 'Dominating', 'Dreamy', 'Driving', 'Droll', 'Dry', 'Earthy', 'Effeminate', 'Emotional', 'Enigmatic', 'Experimental', 'Familial', 'Folksy', 'Formal', 'Freewheeling', 'Frugal', 'Glamorous', 'Guileless', 'High-spirited', 'Huried', 'Hypnotic', 'Iconoclastic', 'Idiosyncratic', 'Impassive', 'Impersonal', 'Impressionable', 'Intense', 'Invisible', 'Irreligious', 'Irreverent', 'Maternal', 'Mellow', 'Modern', 'Moralistic', 'Mystical', 'Neutral', 'Noncommittal', 'Noncompetitive', 'Obedient', 'Old-fashined', 'Ordinary', 'Outspoken', 'Paternalistic', 'Physical', 'Placid', 'Political', 'Predictable', 'Preoccupied', 'Private', 'Progressive', 'Proud', 'Pure', 'Questioning', 'Quiet', 'Religious', 'Reserved', 'Restrained', 'Retiring', 'Sarcastic', 'Self-conscious', 'Sensual', 'Skeptical', 'Smooth', 'Soft', 'Solemn', 'Solitary', 'Stern', 'Stoiid', 'Strict', 'Stubborn', 'Stylish', 'Subjective', 'Surprising', 'Soft', 'Tough', 'Unaggressive', 'Unambitious', 'Unceremonious', 'Unchanging', 'Undemanding', 'Unfathomable', 'Unhurried', 'Uninhibited', 'Unpatriotic', 'Unpredicatable', 'Unreligious', 'Unsentimental', 'Whimsical']\n"
     ]
    }
   ],
   "source": [
    "with open('../data/mit_ideonomy_traits.json', 'r') as f:\n",
    "    traits = json.load(f)\n",
    "print(traits['neut'])"
   ]
  },
  {
   "cell_type": "code",
   "execution_count": 3,
   "metadata": {},
   "outputs": [],
   "source": [
    "url_list = []\n",
    "base_url = f'https://www.merriam-webster.com/dictionary/'\n",
    "for trait in traits['neut']:\n",
    "    url = base_url + trait\n",
    "    url_list.append(url)"
   ]
  },
  {
   "cell_type": "code",
   "execution_count": 4,
   "metadata": {},
   "outputs": [],
   "source": [
    "class DefinitionSpider(scrapy.Spider):   \n",
    "    name = 'traits_spider'\n",
    "    start_urls = url_list  # assign urls we're interested in here!\n",
    "     \n",
    "    def parse(self, response):\n",
    "        url = response.url\n",
    "        trait = url.split('/')[-1]\n",
    "        \n",
    "        global blob2\n",
    "        blob1 = response.xpath(\".//div[starts-with(@class, 'sb has-num')]\")\n",
    "        blob2 = blob1.xpath(\"//span[@class='dtText']/text()\").getall()  # gets a lot of \n",
    "        # redundant data here. not sure how to prevent that...\n",
    "\n",
    "        defs = [x.strip() for x in blob2]\n",
    "        unique_defs = np.unique(defs)  # rmv redundant data\n",
    "        unique_defs = [x for x in unique_defs if x != \"\" and x != \",\"]  # rmv blank lines\n",
    "        print(f'num of unique defs: {len(unique_defs)}')\n",
    "        \n",
    "        yield {trait: unique_defs}\n",
    "        "
   ]
  },
  {
   "cell_type": "code",
   "execution_count": 5,
   "metadata": {},
   "outputs": [
    {
     "name": "stderr",
     "output_type": "stream",
     "text": [
      "2020-06-13 13:18:14 [scrapy.utils.log] INFO: Scrapy 2.1.0 started (bot: scrapybot)\n",
      "2020-06-13 13:18:14 [scrapy.utils.log] INFO: Versions: lxml 4.5.1.0, libxml2 2.9.5, cssselect 1.1.0, parsel 1.6.0, w3lib 1.22.0, Twisted 20.3.0, Python 3.7.4 (default, Aug  9 2019, 18:34:13) [MSC v.1915 64 bit (AMD64)], pyOpenSSL 19.1.0 (OpenSSL 1.1.1g  21 Apr 2020), cryptography 2.9.2, Platform Windows-10-10.0.17763-SP0\n",
      "2020-06-13 13:18:14 [scrapy.utils.log] DEBUG: Using reactor: twisted.internet.selectreactor.SelectReactor\n",
      "2020-06-13 13:18:14 [scrapy.crawler] INFO: Overridden settings:\n",
      "{}\n",
      "2020-06-13 13:18:14 [scrapy.extensions.telnet] INFO: Telnet Password: 7cb799c420d73947\n",
      "2020-06-13 13:18:14 [scrapy.middleware] INFO: Enabled extensions:\n",
      "['scrapy.extensions.corestats.CoreStats',\n",
      " 'scrapy.extensions.telnet.TelnetConsole',\n",
      " 'scrapy.extensions.feedexport.FeedExporter',\n",
      " 'scrapy.extensions.logstats.LogStats']\n",
      "2020-06-13 13:18:15 [scrapy.middleware] INFO: Enabled downloader middlewares:\n",
      "['scrapy.downloadermiddlewares.httpauth.HttpAuthMiddleware',\n",
      " 'scrapy.downloadermiddlewares.downloadtimeout.DownloadTimeoutMiddleware',\n",
      " 'scrapy.downloadermiddlewares.defaultheaders.DefaultHeadersMiddleware',\n",
      " 'scrapy.downloadermiddlewares.useragent.UserAgentMiddleware',\n",
      " 'scrapy.downloadermiddlewares.retry.RetryMiddleware',\n",
      " 'scrapy.downloadermiddlewares.redirect.MetaRefreshMiddleware',\n",
      " 'scrapy.downloadermiddlewares.httpcompression.HttpCompressionMiddleware',\n",
      " 'scrapy.downloadermiddlewares.redirect.RedirectMiddleware',\n",
      " 'scrapy.downloadermiddlewares.cookies.CookiesMiddleware',\n",
      " 'scrapy.downloadermiddlewares.httpproxy.HttpProxyMiddleware',\n",
      " 'scrapy.downloadermiddlewares.stats.DownloaderStats']\n",
      "2020-06-13 13:18:15 [scrapy.middleware] INFO: Enabled spider middlewares:\n",
      "['scrapy.spidermiddlewares.httperror.HttpErrorMiddleware',\n",
      " 'scrapy.spidermiddlewares.offsite.OffsiteMiddleware',\n",
      " 'scrapy.spidermiddlewares.referer.RefererMiddleware',\n",
      " 'scrapy.spidermiddlewares.urllength.UrlLengthMiddleware',\n",
      " 'scrapy.spidermiddlewares.depth.DepthMiddleware']\n",
      "2020-06-13 13:18:15 [scrapy.middleware] INFO: Enabled item pipelines:\n",
      "[]\n",
      "2020-06-13 13:18:15 [scrapy.core.engine] INFO: Spider opened\n",
      "2020-06-13 13:18:15 [scrapy.extensions.logstats] INFO: Crawled 0 pages (at 0 pages/min), scraped 0 items (at 0 items/min)\n",
      "2020-06-13 13:18:15 [scrapy.extensions.telnet] INFO: Telnet console listening on 127.0.0.1:6023\n",
      "2020-06-13 13:18:15 [scrapy.downloadermiddlewares.redirect] DEBUG: Redirecting (301) to <GET https://www.merriam-webster.com/dictionary/amusing> from <GET https://www.merriam-webster.com/dictionary/Amusing>\n",
      "2020-06-13 13:18:15 [scrapy.downloadermiddlewares.redirect] DEBUG: Redirecting (301) to <GET https://www.merriam-webster.com/dictionary/aggressive> from <GET https://www.merriam-webster.com/dictionary/Aggressive>\n",
      "2020-06-13 13:18:15 [scrapy.downloadermiddlewares.redirect] DEBUG: Redirecting (301) to <GET https://www.merriam-webster.com/dictionary/ambitious> from <GET https://www.merriam-webster.com/dictionary/Ambitious>\n",
      "2020-06-13 13:18:15 [scrapy.downloadermiddlewares.redirect] DEBUG: Redirecting (301) to <GET https://www.merriam-webster.com/dictionary/absentminded> from <GET https://www.merriam-webster.com/dictionary/Absentminded>\n",
      "2020-06-13 13:18:15 [scrapy.downloadermiddlewares.redirect] DEBUG: Redirecting (301) to <GET https://www.merriam-webster.com/dictionary/authoritarian> from <GET https://www.merriam-webster.com/dictionary/Authoritarian>\n",
      "2020-06-13 13:18:16 [scrapy.core.engine] DEBUG: Crawled (404) <GET https://www.merriam-webster.com/dictionary/Big-thinking> (referer: None)\n",
      "2020-06-13 13:18:16 [scrapy.spidermiddlewares.httperror] INFO: Ignoring response <404 https://www.merriam-webster.com/dictionary/Big-thinking>: HTTP status code is not handled or not allowed\n",
      "2020-06-13 13:18:16 [scrapy.downloadermiddlewares.redirect] DEBUG: Redirecting (301) to <GET https://www.merriam-webster.com/dictionary/artful> from <GET https://www.merriam-webster.com/dictionary/Artful>\n",
      "2020-06-13 13:18:16 [scrapy.downloadermiddlewares.redirect] DEBUG: Redirecting (301) to <GET https://www.merriam-webster.com/dictionary/casual> from <GET https://www.merriam-webster.com/dictionary/Casual>\n",
      "2020-06-13 13:18:16 [scrapy.downloadermiddlewares.redirect] DEBUG: Redirecting (301) to <GET https://www.merriam-webster.com/dictionary/busy> from <GET https://www.merriam-webster.com/dictionary/Busy>\n",
      "2020-06-13 13:18:16 [scrapy.downloadermiddlewares.redirect] DEBUG: Redirecting (301) to <GET https://www.merriam-webster.com/dictionary/ascetic> from <GET https://www.merriam-webster.com/dictionary/Ascetic>\n",
      "2020-06-13 13:18:16 [scrapy.core.engine] DEBUG: Crawled (200) <GET https://www.merriam-webster.com/dictionary/aggressive> (referer: None)\n",
      "2020-06-13 13:18:16 [scrapy.core.engine] DEBUG: Crawled (200) <GET https://www.merriam-webster.com/dictionary/absentminded> (referer: None)\n",
      "2020-06-13 13:18:16 [scrapy.downloadermiddlewares.redirect] DEBUG: Redirecting (301) to <GET https://www.merriam-webster.com/dictionary/chummy> from <GET https://www.merriam-webster.com/dictionary/Chummy>\n",
      "2020-06-13 13:18:16 [scrapy.core.engine] DEBUG: Crawled (200) <GET https://www.merriam-webster.com/dictionary/ambitious> (referer: None)\n",
      "2020-06-13 13:18:16 [scrapy.core.engine] DEBUG: Crawled (200) <GET https://www.merriam-webster.com/dictionary/authoritarian> (referer: None)\n",
      "2020-06-13 13:18:16 [scrapy.core.scraper] DEBUG: Scraped from <200 https://www.merriam-webster.com/dictionary/aggressive>\n",
      "{'aggressive': ['being forceful in getting things done', 'engaging in hostile action without reasonable cause', 'feeling or showing aggression', 'growing, developing, or spreading rapidly', 'marked by combative readiness', 'marked by driving forceful energy or initiative', 'marked by obtrusive energy and self-assertiveness', 'more severe, intensive, or comprehensive than usual especially in dosage or extent', 'ready and willing to fight, argue, etc.', 'showing a readiness to fight or argue', 'strong or emphatic in effect or intent', 'tending toward or exhibiting', 'using forceful methods to succeed or to do something', 'very severe']}\n",
      "2020-06-13 13:18:16 [scrapy.core.engine] DEBUG: Crawled (404) <GET https://www.merriam-webster.com/dictionary/Crebral> (referer: None)\n",
      "2020-06-13 13:18:16 [scrapy.core.scraper] DEBUG: Scraped from <200 https://www.merriam-webster.com/dictionary/absentminded>\n",
      "{'absentminded': [')', 'given to absence of mind (see', 'indicative of or resulting from preoccupation or absence of mind', \"lost in thought and unaware of one's surroundings or actions\", 'tending to forget or fail to notice things', 'tending to forget or not pay attention']}\n",
      "2020-06-13 13:18:16 [scrapy.downloadermiddlewares.redirect] DEBUG: Redirecting (301) to <GET https://www.merriam-webster.com/dictionary/breezy> from <GET https://www.merriam-webster.com/dictionary/Breezy>\n",
      "2020-06-13 13:18:16 [scrapy.downloadermiddlewares.redirect] DEBUG: Redirecting (301) to <GET https://www.merriam-webster.com/dictionary/circumspect> from <GET https://www.merriam-webster.com/dictionary/Circumspect>\n",
      "2020-06-13 13:18:16 [scrapy.core.scraper] DEBUG: Scraped from <200 https://www.merriam-webster.com/dictionary/ambitious>\n",
      "{'ambitious': ['having a desire to achieve a particular goal', 'having a desire to be successful, powerful, or famous', 'having ambition', 'having or controlled by', 'not easily done or achieved', 'possessing a desire for success, honor, or power', 'requiring or showing ambition', 'resulting from, characterized by, or showing ambition']}\n",
      "2020-06-13 13:18:16 [scrapy.spidermiddlewares.httperror] INFO: Ignoring response <404 https://www.merriam-webster.com/dictionary/Crebral>: HTTP status code is not handled or not allowed\n"
     ]
    },
    {
     "name": "stdout",
     "output_type": "stream",
     "text": [
      "num of unique defs: 14\n",
      "num of unique defs: 6\n",
      "num of unique defs: 8\n"
     ]
    },
    {
     "name": "stderr",
     "output_type": "stream",
     "text": [
      "2020-06-13 13:18:16 [scrapy.downloadermiddlewares.redirect] DEBUG: Redirecting (301) to <GET https://www.merriam-webster.com/dictionary/businesslike> from <GET https://www.merriam-webster.com/dictionary/Businesslike>\n",
      "2020-06-13 13:18:16 [scrapy.core.scraper] DEBUG: Scraped from <200 https://www.merriam-webster.com/dictionary/authoritarian>\n",
      "{'authoritarian': ['expecting or requiring people to obey rules or laws', 'not allowing personal freedom', 'of, relating to, or favoring a concentration of power in a leader or an elite not constitutionally responsible to the people', 'of, relating to, or favoring blind submission to']}\n",
      "2020-06-13 13:18:16 [scrapy.core.engine] DEBUG: Crawled (200) <GET https://www.merriam-webster.com/dictionary/busy> (referer: None)\n",
      "2020-06-13 13:18:16 [scrapy.core.engine] DEBUG: Crawled (200) <GET https://www.merriam-webster.com/dictionary/ascetic> (referer: None)\n",
      "2020-06-13 13:18:17 [scrapy.downloadermiddlewares.redirect] DEBUG: Redirecting (301) to <GET https://www.merriam-webster.com/dictionary/competitive> from <GET https://www.merriam-webster.com/dictionary/Competitive>\n"
     ]
    },
    {
     "name": "stdout",
     "output_type": "stream",
     "text": [
      "num of unique defs: 4\n"
     ]
    },
    {
     "name": "stderr",
     "output_type": "stream",
     "text": [
      "2020-06-13 13:18:17 [scrapy.core.scraper] DEBUG: Scraped from <200 https://www.merriam-webster.com/dictionary/busy>\n",
      "{'busy': [')', 'actively at work', 'actively doing something', 'being in use', 'being used', 'engaged in action', 'foolishly or intrusively active', 'full of activity', 'full of activity or work', 'full of distracting detail', 'full of people or things', 'to make busy', 'to make busy (see', 'to make engaged in action']}\n",
      "2020-06-13 13:18:17 [scrapy.core.scraper] DEBUG: Scraped from <200 https://www.merriam-webster.com/dictionary/ascetic>\n",
      "{'ascetic': ['as a measure of personal and especially spiritual discipline', 'in appearance, manner, or attitude', 'practicing strict', 'relating to or having a strict and simple way of living that avoids physical pleasure']}\n"
     ]
    },
    {
     "name": "stdout",
     "output_type": "stream",
     "text": [
      "num of unique defs: 14\n",
      "num of unique defs: 4\n"
     ]
    },
    {
     "name": "stderr",
     "output_type": "stream",
     "text": [
      "2020-06-13 13:18:17 [scrapy.core.engine] DEBUG: Crawled (200) <GET https://www.merriam-webster.com/dictionary/Boyish> (referer: None)\n",
      "2020-06-13 13:18:17 [scrapy.core.engine] DEBUG: Crawled (200) <GET https://www.merriam-webster.com/dictionary/artful> (referer: None)\n",
      "2020-06-13 13:18:17 [scrapy.downloadermiddlewares.redirect] DEBUG: Redirecting (301) to <GET https://www.merriam-webster.com/dictionary/complex> from <GET https://www.merriam-webster.com/dictionary/Complex>\n",
      "2020-06-13 13:18:17 [scrapy.downloadermiddlewares.redirect] DEBUG: Redirecting (301) to <GET https://www.merriam-webster.com/dictionary/conservative> from <GET https://www.merriam-webster.com/dictionary/Conservative>\n",
      "2020-06-13 13:18:17 [scrapy.downloadermiddlewares.redirect] DEBUG: Redirecting (301) to <GET https://www.merriam-webster.com/dictionary/confidential> from <GET https://www.merriam-webster.com/dictionary/Confidential>\n",
      "2020-06-13 13:18:17 [scrapy.core.engine] DEBUG: Crawled (200) <GET https://www.merriam-webster.com/dictionary/chummy> (referer: None)\n",
      "2020-06-13 13:18:17 [scrapy.core.engine] DEBUG: Crawled (200) <GET https://www.merriam-webster.com/dictionary/casual> (referer: None)\n",
      "2020-06-13 13:18:17 [scrapy.core.scraper] DEBUG: Scraped from <200 https://www.merriam-webster.com/dictionary/Boyish>\n",
      "{'Boyish': ['a male child', 'a male child from birth to adulthood', 'a male child from birth to young manhood', 'a male servant', 'a usually young man from a specified kind of place', 'a young man', 'an immature male', 'one native to a given place']}\n",
      "2020-06-13 13:18:17 [scrapy.core.scraper] DEBUG: Scraped from <200 https://www.merriam-webster.com/dictionary/artful>\n",
      "{'artful': ['adroit in attaining an end usually by insinuating or indirect means', 'clever at taking advantage', 'done with or showing art or skill', 'done with or showing artistic skill', 'good at getting or achieving things in ways that are clever and not noticeable', 'performed with or showing art or skill', 'used to get or achieve things in ways that are clever and not noticeable', 'using or characterized by art and skill']}\n",
      "2020-06-13 13:18:17 [scrapy.core.engine] DEBUG: Crawled (200) <GET https://www.merriam-webster.com/dictionary/competitive> (referer: None)\n",
      "2020-06-13 13:18:17 [scrapy.core.scraper] DEBUG: Scraped from <200 https://www.merriam-webster.com/dictionary/chummy>\n",
      "{'chummy': []}\n",
      "2020-06-13 13:18:17 [scrapy.core.scraper] DEBUG: Scraped from <200 https://www.merriam-webster.com/dictionary/casual>\n",
      "{'casual': [') or', 'a casual (see', 'allowing for the wearing of informal clothes', 'an officer or enlisted person awaiting assignment or transportation to a unit', 'designed for informal use', 'designed for or permitting ordinary dress, behavior, etc.', 'done without much thought, effort, or concern', 'done without serious intent or commitment', 'employed for irregular periods', 'engaging in an activity on an occasional basis', 'feeling or showing little concern', 'happening by chance', 'happening unexpectedly or by chance', 'lacking a high degree of interest or devotion', 'meant for informal use', 'met with on occasion and known only superficially', 'not done purposefully', 'not expected or foreseen', 'not formal', 'not planned or expected', 'not planned or foreseen', 'occurring without regularity', 'showing or feeling little concern', 'subject to, resulting from, or occurring by chance', 'worker']}\n"
     ]
    },
    {
     "name": "stdout",
     "output_type": "stream",
     "text": [
      "num of unique defs: 8\n",
      "num of unique defs: 8\n",
      "num of unique defs: 0\n",
      "num of unique defs: 25\n",
      "num of unique defs: 9"
     ]
    },
    {
     "name": "stderr",
     "output_type": "stream",
     "text": [
      "2020-06-13 13:18:17 [scrapy.core.scraper] DEBUG: Scraped from <200 https://www.merriam-webster.com/dictionary/competitive>\n",
      "{'competitive': ['able to compete successfully with others', 'as good as or better than others of the same kind', 'characterized by or based on a situation in which more than one person is striving for the same thing', 'depending for effectiveness on the relative concentration of two or more substances', 'having a strong desire to win or be the best at something', 'inclined, desiring, or suited to', 'of or relating to a situation in which people or groups are trying to win a contest or be more successful than others', 'relating to or involving competition', 'relating to, characterized by, or based on']}\n",
      "2020-06-13 13:18:17 [scrapy.core.engine] DEBUG: Crawled (200) <GET https://www.merriam-webster.com/dictionary/amusing> (referer: None)\n",
      "2020-06-13 13:18:17 [scrapy.downloadermiddlewares.redirect] DEBUG: Redirecting (301) to <GET https://www.merriam-webster.com/dictionary/contradictory> from <GET https://www.merriam-webster.com/dictionary/Contradictory>\n",
      "2020-06-13 13:18:17 [scrapy.downloadermiddlewares.redirect] DEBUG: Redirecting (301) to <GET https://www.merriam-webster.com/dictionary/crisp> from <GET https://www.merriam-webster.com/dictionary/Crisp>\n",
      "2020-06-13 13:18:17 [scrapy.core.scraper] DEBUG: Scraped from <200 https://www.merriam-webster.com/dictionary/amusing>\n",
      "{'amusing': []}\n"
     ]
    },
    {
     "name": "stdout",
     "output_type": "stream",
     "text": [
      "\n",
      "num of unique defs: 0\n"
     ]
    },
    {
     "name": "stderr",
     "output_type": "stream",
     "text": [
      "2020-06-13 13:18:17 [scrapy.core.engine] DEBUG: Crawled (200) <GET https://www.merriam-webster.com/dictionary/complex> (referer: None)\n",
      "2020-06-13 13:18:18 [scrapy.downloadermiddlewares.redirect] DEBUG: Redirecting (301) to <GET https://www.merriam-webster.com/dictionary/cute> from <GET https://www.merriam-webster.com/dictionary/Cute>\n",
      "2020-06-13 13:18:18 [scrapy.downloadermiddlewares.redirect] DEBUG: Redirecting (301) to <GET https://www.merriam-webster.com/dictionary/deceptive> from <GET https://www.merriam-webster.com/dictionary/Deceptive>\n",
      "2020-06-13 13:18:18 [scrapy.core.engine] DEBUG: Crawled (200) <GET https://www.merriam-webster.com/dictionary/breezy> (referer: None)\n",
      "2020-06-13 13:18:18 [scrapy.core.scraper] DEBUG: Scraped from <200 https://www.merriam-webster.com/dictionary/complex>\n",
      "{'complex': ['a building or group of buildings housing related units', 'a chemical association of two or more species (as ions or molecules) joined usually by weak electrostatic bonds rather than by covalent bonds', 'a chemical association of two or more species (such as ions or molecules) joined usually by weak', 'a group of buildings, apartments, etc., that are located near each other and used for a particular purpose', 'a group of chromosomes arranged or behaving in a particular way', 'a group of culture traits relating to a single activity (such as hunting), process (such as use of flint), or culture unit', 'a group of obviously related units of which the degree and nature of the relationship is imperfectly known', 'a group of repressed desires and memories that exerts a dominating influence upon the personality', 'a group of repressed memories, desires, and ideas that exert a dominant influence on the personality and behavior', 'a group of things that are connected in complicated ways', 'a whole made up of', 'an emotional problem that causes someone to think or worry too much about something', 'an exaggerated reaction to or preoccupation with a subject or situation', 'bonds rather than', 'clauses', 'composed of two or more parts', 'consisting of a main clause and one or more', 'consisting of a main clause and one or more additional clauses', 'formed by the union of simpler chemical substances', 'hard to separate, analyze, or solve', 'having a bound form as one or more of its immediate constituents', 'having many varied interrelated parts, patterns, or elements and consequently hard to understand', 'having parts that connect or go together in complicated ways', 'having parts that go together in complicated ways', 'not easy to understand or explain', 'not simple', 'of, concerned with, being, or containing complex numbers', 'or interrelated parts', 'the sum of factors (such as symptoms) characterizing a disease or condition', 'the sum of the factors (as symptoms and lesions) characterizing a disease', 'to form a complex', 'to form into a complex', 'to make complex or into a complex']}\n",
      "2020-06-13 13:18:18 [scrapy.core.scraper] DEBUG: Scraped from <200 https://www.merriam-webster.com/dictionary/breezy>\n",
      "{'breezy': ['briskly informal', 'having strong winds', 'informal and lively', 'lively and somewhat carefree', 'relaxed in a way that shows you are not concerned about or interested in something', 'somewhat windy', 'swept by']}\n",
      "2020-06-13 13:18:18 [scrapy.core.engine] DEBUG: Crawled (200) <GET https://www.merriam-webster.com/dictionary/circumspect> (referer: None)\n"
     ]
    },
    {
     "name": "stdout",
     "output_type": "stream",
     "text": [
      "num of unique defs: 33\n",
      "num of unique defs: 7\n"
     ]
    },
    {
     "name": "stderr",
     "output_type": "stream",
     "text": [
      "2020-06-13 13:18:18 [scrapy.downloadermiddlewares.redirect] DEBUG: Redirecting (301) to <GET https://www.merriam-webster.com/dictionary/dreamy> from <GET https://www.merriam-webster.com/dictionary/Dreamy>\n",
      "2020-06-13 13:18:18 [scrapy.core.engine] DEBUG: Crawled (200) <GET https://www.merriam-webster.com/dictionary/contradictory> (referer: None)\n",
      "2020-06-13 13:18:18 [scrapy.downloadermiddlewares.redirect] DEBUG: Redirecting (301) to <GET https://www.merriam-webster.com/dictionary/determined> from <GET https://www.merriam-webster.com/dictionary/Determined>\n",
      "2020-06-13 13:18:18 [scrapy.core.scraper] DEBUG: Scraped from <200 https://www.merriam-webster.com/dictionary/circumspect>\n",
      "{'circumspect': []}\n",
      "2020-06-13 13:18:18 [scrapy.core.scraper] DEBUG: Scraped from <200 https://www.merriam-webster.com/dictionary/contradictory>\n",
      "{'contradictory': []}\n",
      "2020-06-13 13:18:18 [scrapy.core.engine] DEBUG: Crawled (200) <GET https://www.merriam-webster.com/dictionary/confidential> (referer: None)\n",
      "2020-06-13 13:18:18 [scrapy.core.engine] DEBUG: Crawled (200) <GET https://www.merriam-webster.com/dictionary/businesslike> (referer: None)\n"
     ]
    },
    {
     "name": "stdout",
     "output_type": "stream",
     "text": [
      "num of unique defs: 0\n",
      "num of unique defs: 0\n"
     ]
    },
    {
     "name": "stderr",
     "output_type": "stream",
     "text": [
      "2020-06-13 13:18:18 [scrapy.downloadermiddlewares.redirect] DEBUG: Redirecting (301) to <GET https://www.merriam-webster.com/dictionary/droll> from <GET https://www.merriam-webster.com/dictionary/Droll>\n",
      "2020-06-13 13:18:18 [scrapy.core.scraper] DEBUG: Scraped from <200 https://www.merriam-webster.com/dictionary/confidential>\n",
      "{'confidential': ['containing information whose unauthorized disclosure could be prejudicial to the national interest', 'entrusted with', 'indicating a need for secrecy', 'known or conveyed only to a limited number of people', 'marked by intimacy or willingness to', 'marked by or indicative of intimacy, mutual trust, or willingness to confide especially between parties one of whom is in a position of superiority', 'secret or private', 'showing that you are saying something that is secret or private', 'trusted with secret matters', 'trusted with secret or private information']}\n",
      "2020-06-13 13:18:18 [scrapy.core.scraper] DEBUG: Scraped from <200 https://www.merriam-webster.com/dictionary/businesslike>\n",
      "{'businesslike': ['exhibiting qualities believed to be advantageous in', 'having or showing qualities that are considered good in business', 'serious, polite, and practical']}\n",
      "2020-06-13 13:18:18 [scrapy.downloadermiddlewares.redirect] DEBUG: Redirecting (301) to <GET https://www.merriam-webster.com/dictionary/dry> from <GET https://www.merriam-webster.com/dictionary/Dry>\n",
      "2020-06-13 13:18:18 [scrapy.downloadermiddlewares.redirect] DEBUG: Redirecting (301) to <GET https://www.merriam-webster.com/dictionary/driving> from <GET https://www.merriam-webster.com/dictionary/Driving>\n",
      "2020-06-13 13:18:18 [scrapy.core.engine] DEBUG: Crawled (200) <GET https://www.merriam-webster.com/dictionary/Dominating> (referer: None)\n"
     ]
    },
    {
     "name": "stdout",
     "output_type": "stream",
     "text": [
      "num of unique defs: 10\n",
      "num of unique defs: 3\n"
     ]
    },
    {
     "name": "stderr",
     "output_type": "stream",
     "text": [
      "2020-06-13 13:18:19 [scrapy.core.engine] DEBUG: Crawled (200) <GET https://www.merriam-webster.com/dictionary/dreamy> (referer: None)\n",
      "2020-06-13 13:18:19 [scrapy.core.engine] DEBUG: Crawled (200) <GET https://www.merriam-webster.com/dictionary/crisp> (referer: None)\n",
      "2020-06-13 13:18:19 [scrapy.core.scraper] DEBUG: Scraped from <200 https://www.merriam-webster.com/dictionary/Dominating>\n",
      "{'Dominating': ['in', 'or', 'place or position in', 'to be', 'to be much more powerful or successful than others in a game, competition, etc.', 'to be the most important part of (something)', 'to exert the supreme determining or guiding influence on', 'to have a', 'to have a commanding position or controlling power over', 'to have control of or power over (someone or something)', 'to have or exert mastery, control, or preeminence', 'to occupy a more elevated or superior position', 'to overlook from a superior elevation or command because of superior height or position']}\n",
      "2020-06-13 13:18:19 [scrapy.downloadermiddlewares.redirect] DEBUG: Redirecting (301) to <GET https://www.merriam-webster.com/dictionary/earthy> from <GET https://www.merriam-webster.com/dictionary/Earthy>\n",
      "2020-06-13 13:18:19 [scrapy.core.scraper] DEBUG: Scraped from <200 https://www.merriam-webster.com/dictionary/dreamy>\n",
      "{'dreamy': ['appearing to be daydreaming', 'full of', 'given to', 'having a quality which shows or suggests that you are not noticing or thinking about what is happening around you', 'or', 'or fantasy', 'pleasant, peaceful, and relaxing', 'pleasantly abstracted from immediate reality', 'quiet and relaxing', 'quiet and soothing', 'seeming like a dream', 'state', 'suggestive of a', 'tending to dream instead of thinking about what is real or practical']}\n",
      "2020-06-13 13:18:19 [scrapy.downloadermiddlewares.redirect] DEBUG: Redirecting (301) to <GET https://www.merriam-webster.com/dictionary/effeminate> from <GET https://www.merriam-webster.com/dictionary/Effeminate>\n",
      "2020-06-13 13:18:19 [scrapy.core.engine] DEBUG: Crawled (200) <GET https://www.merriam-webster.com/dictionary/cute> (referer: None)\n",
      "2020-06-13 13:18:19 [scrapy.core.scraper] DEBUG: Scraped from <200 https://www.merriam-webster.com/dictionary/crisp>\n",
      "{'crisp': ['a baked dessert of fruit with crumb topping', 'a dessert made of cooked fruit with a sweet, dry topping', 'a thin, hard, and usually salty piece of food', 'being clear and brief', 'being thin, hard, and easily crumbled', 'briskly cold', 'clean, smooth, and somewhat stiff', 'concise and to the point', 'deftly and powerfully executed', 'desirably firm and crunchy', 'dry, hard, and easily broken', 'easily crumbled', 'having clear details', 'having close stiff or wiry curls or waves', 'notably sharp, clean-cut, and clear', 'noticeably neat', 'pleasantly cool and invigorating', 'pleasantly firm and fresh', 'pleasantly firm and making a sharp sound when chewed or crushed', 'something crisp or brittle', 'to become crisp', 'to cause to ripple', 'to make (something) crisp or to become crisp', 'to make or keep crisp', 'to make or keep something crispy or fresh']}\n"
     ]
    },
    {
     "name": "stdout",
     "output_type": "stream",
     "text": [
      "num of unique defs: 13\n",
      "num of unique defs: 14\n",
      "num of unique defs: 25\n"
     ]
    },
    {
     "name": "stderr",
     "output_type": "stream",
     "text": [
      "2020-06-13 13:18:19 [scrapy.downloadermiddlewares.redirect] DEBUG: Redirecting (301) to <GET https://www.merriam-webster.com/dictionary/emotional> from <GET https://www.merriam-webster.com/dictionary/Emotional>\n",
      "2020-06-13 13:18:19 [scrapy.core.engine] DEBUG: Crawled (200) <GET https://www.merriam-webster.com/dictionary/deceptive> (referer: None)\n",
      "2020-06-13 13:18:19 [scrapy.core.engine] DEBUG: Crawled (200) <GET https://www.merriam-webster.com/dictionary/conservative> (referer: None)\n",
      "2020-06-13 13:18:19 [scrapy.core.scraper] DEBUG: Scraped from <200 https://www.merriam-webster.com/dictionary/cute>\n",
      "{'cute': ['an instance of', 'attractive in a sexual way', 'attractive in looks or actions', 'attractive or pretty especially in a childish, youthful, or delicate way', 'clever in a way that annoys', 'clever in an appealing way', 'clever or shrewd often in an underhanded manner', 'having a pleasing and usually youthful appearance', 'obviously straining for effect', 'or', 'the quality or state of being cute or']}\n",
      "2020-06-13 13:18:19 [scrapy.downloadermiddlewares.redirect] DEBUG: Redirecting (301) to <GET https://www.merriam-webster.com/dictionary/enigmatic> from <GET https://www.merriam-webster.com/dictionary/Enigmatic>\n",
      "2020-06-13 13:18:19 [scrapy.core.scraper] DEBUG: Scraped from <200 https://www.merriam-webster.com/dictionary/deceptive>\n",
      "{'deceptive': []}\n",
      "2020-06-13 13:18:19 [scrapy.downloadermiddlewares.redirect] DEBUG: Redirecting (301) to <GET https://www.merriam-webster.com/dictionary/experimental> from <GET https://www.merriam-webster.com/dictionary/Experimental>\n",
      "2020-06-13 13:18:19 [scrapy.core.scraper] DEBUG: Scraped from <200 https://www.merriam-webster.com/dictionary/conservative>\n",
      "{'conservative': ['a cautious or discreet person', 'a cautious person', 'a member or supporter of a conservative political party', 'a member or supporter of a conservative political party in countries like the United Kingdom and Canada', 'a person who believes in the value of established and traditional practices in politics and society', 'a person who is opposed to change', 'a person who is politically conservative', 'an adherent or advocate of political', 'believing in the value of established and traditional practices in politics and society', 'designed to preserve parts or restore or preserve function', 'favoring a policy of keeping things as they are', 'favoring established styles and standards', 'likely to be lower than what the real amount or number is', 'marked by moderation or caution', 'marked by or relating to traditional norms of taste, elegance, style, or manners', 'not extreme or drastic', 'not liking or accepting changes or new ideas', 'of or constituting a party of the United Kingdom advocating support of established institutions', 'of or constituting a political party professing the principles of conservatism: such as', 'of or relating to a philosophy of', 'of or relating to the conservative party in countries like the United Kingdom and Canada', 'of, relating to, or practicing', 'one who adheres to traditional methods or views', 'opposed to change', 'relating to or supporting political conservatism', 'tending or disposed to maintain existing views, conditions, or institutions']}\n"
     ]
    },
    {
     "name": "stdout",
     "output_type": "stream",
     "text": [
      "num of unique defs: 11\n",
      "num of unique defs: 0\n",
      "num of unique defs: 26\n"
     ]
    },
    {
     "name": "stderr",
     "output_type": "stream",
     "text": [
      "2020-06-13 13:18:19 [scrapy.downloadermiddlewares.redirect] DEBUG: Redirecting (301) to <GET https://www.merriam-webster.com/dictionary/familial> from <GET https://www.merriam-webster.com/dictionary/Familial>\n",
      "2020-06-13 13:18:19 [scrapy.downloadermiddlewares.redirect] DEBUG: Redirecting (301) to <GET https://www.merriam-webster.com/dictionary/folksy> from <GET https://www.merriam-webster.com/dictionary/Folksy>\n",
      "2020-06-13 13:18:19 [scrapy.downloadermiddlewares.redirect] DEBUG: Redirecting (301) to <GET https://www.merriam-webster.com/dictionary/freewheeling> from <GET https://www.merriam-webster.com/dictionary/Freewheeling>\n",
      "2020-06-13 13:18:19 [scrapy.core.engine] DEBUG: Crawled (200) <GET https://www.merriam-webster.com/dictionary/determined> (referer: None)\n",
      "2020-06-13 13:18:19 [scrapy.core.engine] DEBUG: Crawled (200) <GET https://www.merriam-webster.com/dictionary/droll> (referer: None)\n",
      "2020-06-13 13:18:20 [scrapy.core.scraper] DEBUG: Scraped from <200 https://www.merriam-webster.com/dictionary/determined>\n",
      "{'determined': ['characterized by determination', 'firmly resolved', 'free from doubt about doing something', 'having a strong feeling that you are going to do something and that you will not allow anyone or anything to stop you', 'having or showing determination to do something', 'having reached a decision', 'not weak or uncertain', 'showing']}\n",
      "2020-06-13 13:18:20 [scrapy.downloadermiddlewares.redirect] DEBUG: Redirecting (301) to <GET https://www.merriam-webster.com/dictionary/formal> from <GET https://www.merriam-webster.com/dictionary/Formal>\n",
      "2020-06-13 13:18:20 [scrapy.core.scraper] DEBUG: Scraped from <200 https://www.merriam-webster.com/dictionary/droll>\n",
      "{'droll': []}\n",
      "2020-06-13 13:18:20 [scrapy.core.engine] DEBUG: Crawled (200) <GET https://www.merriam-webster.com/dictionary/driving> (referer: None)\n",
      "2020-06-13 13:18:20 [scrapy.downloadermiddlewares.redirect] DEBUG: Redirecting (301) to <GET https://www.merriam-webster.com/dictionary/frugal> from <GET https://www.merriam-webster.com/dictionary/Frugal>\n"
     ]
    },
    {
     "name": "stdout",
     "output_type": "stream",
     "text": [
      "num of unique defs: 8\n",
      "num of unique defs: 0\n"
     ]
    },
    {
     "name": "stderr",
     "output_type": "stream",
     "text": [
      "2020-06-13 13:18:20 [scrapy.core.engine] DEBUG: Crawled (200) <GET https://www.merriam-webster.com/dictionary/dry> (referer: None)\n",
      "2020-06-13 13:18:20 [scrapy.downloadermiddlewares.redirect] DEBUG: Redirecting (301) to <GET https://www.merriam-webster.com/dictionary/glamorous> from <GET https://www.merriam-webster.com/dictionary/Glamorous>\n",
      "2020-06-13 13:18:20 [scrapy.core.scraper] DEBUG: Scraped from <200 https://www.merriam-webster.com/dictionary/driving>\n",
      "{'driving': ['acting with vigor', 'communicating force', 'exerting pressure', 'falling or blowing with great force and speed', 'having great force']}\n",
      "2020-06-13 13:18:20 [scrapy.core.engine] DEBUG: Crawled (200) <GET https://www.merriam-webster.com/dictionary/familial> (referer: None)\n",
      "2020-06-13 13:18:20 [scrapy.core.engine] DEBUG: Crawled (200) <GET https://www.merriam-webster.com/dictionary/earthy> (referer: None)\n"
     ]
    },
    {
     "name": "stdout",
     "output_type": "stream",
     "text": [
      "num of unique defs: 5\n"
     ]
    },
    {
     "name": "stderr",
     "output_type": "stream",
     "text": [
      "2020-06-13 13:18:20 [scrapy.core.scraper] DEBUG: Scraped from <200 https://www.merriam-webster.com/dictionary/dry>\n",
      "{'dry': ['(such as', ')', ', ironic, or', 'a dry place', 'being a', 'characterized by exhaustion of a supply of liquid', 'containing no liquid', 'containing no recoverable', 'devoid of natural moisture', 'devoid of running water', 'free or relatively free from a liquid and especially water', 'functioning without lubrication', 'funny but expressed in a serious way', 'having all or most sugar fermented to alcohol', 'having little natural moisture', 'having little or no rain', 'having no or very little water or liquid', 'having no personal bias or emotional concern', 'having no rain or little rain', 'involving no bloodshed or drowning', 'lacking embellishment', 'lacking freshness', 'lacking precipitation or humidity', 'lacking smooth sound qualities', 'lacking sweetness', 'manner of expression', 'marked by', 'marked by the absence of alcoholic beverages', 'marked by the absence or scantiness of secretions', 'marked by the absence or scantiness of secretions, effusions, or other forms of moisture', 'no longer liquid or sticky', 'no longer sticky or damp', 'no longer wet', 'not accompanied by the raising of mucus or phlegm', 'not being in or under water', 'not giving milk', 'not producing a wet substance from the body', 'not producing desired results', 'not shedding or accompanied by tears', 'not showing or communicating warmth, enthusiasm, or tender feeling', 'not sweet', 'not wet or moist', 'not yielding what is expected or desired', 'prohibiting the manufacture or distribution of alcoholic beverages', 'reduced to powder or flakes', 'requiring no liquid in preparation or operation', 'served or eaten without butter or margarine', 'solid as opposed to liquid', 'something dry', 'the condition of being dry (see', 'to become dry', 'to make (something or someone) dry', 'to make dry', 'to make dry (see', 'to make plates, dishes, pots, etc., dry by rubbing them with a towel', 'to remove or lose any moisture', 'to remove water or moisture from (something or someone)']}\n",
      "2020-06-13 13:18:20 [scrapy.core.engine] DEBUG: Crawled (200) <GET https://www.merriam-webster.com/dictionary/emotional> (referer: None)\n",
      "2020-06-13 13:18:20 [scrapy.core.engine] DEBUG: Crawled (200) <GET https://www.merriam-webster.com/dictionary/effeminate> (referer: None)\n",
      "2020-06-13 13:18:20 [scrapy.core.engine] DEBUG: Crawled (200) <GET https://www.merriam-webster.com/dictionary/enigmatic> (referer: None)\n",
      "2020-06-13 13:18:20 [scrapy.downloadermiddlewares.redirect] DEBUG: Redirecting (301) to <GET https://www.merriam-webster.com/dictionary/guileless> from <GET https://www.merriam-webster.com/dictionary/Guileless>\n",
      "2020-06-13 13:18:20 [scrapy.core.scraper] DEBUG: Scraped from <200 https://www.merriam-webster.com/dictionary/familial>\n",
      "{'familial': ['of or relating to a family', 'of, relating to, or suggestive of a family', 'relating to or typical of a family', 'suggesting a family', 'tending to affect members of the same family', 'tending to occur in more members of a', 'than expected by chance alone']}\n",
      "2020-06-13 13:18:20 [scrapy.core.scraper] DEBUG: Scraped from <200 https://www.merriam-webster.com/dictionary/earthy>\n",
      "{'earthy': ['characteristic of or associated with mortal life on the earth', 'not polite', 'of or like earth', 'of, relating to, or consisting of', 'open and direct', 'plain and simple in style', 'practical and straightforward', 'rough, coarse, or plain in taste', 'suggesting earth or soil in texture, odor, color, etc.', 'suggestive of earth (as in texture, odor, or color)', 'suggestive of plain or poor people or their ways: such as']}\n"
     ]
    },
    {
     "name": "stdout",
     "output_type": "stream",
     "text": [
      "num of unique defs: 57\n",
      "num of unique defs: 7\n",
      "num of unique defs: 11\n"
     ]
    },
    {
     "name": "stderr",
     "output_type": "stream",
     "text": [
      "2020-06-13 13:18:20 [scrapy.core.engine] DEBUG: Crawled (200) <GET https://www.merriam-webster.com/dictionary/frugal> (referer: None)\n",
      "2020-06-13 13:18:20 [scrapy.downloadermiddlewares.redirect] DEBUG: Redirecting (301) to <GET https://www.merriam-webster.com/dictionary/high-spirited> from <GET https://www.merriam-webster.com/dictionary/High-spirited>\n",
      "2020-06-13 13:18:20 [scrapy.core.engine] DEBUG: Crawled (200) <GET https://www.merriam-webster.com/dictionary/folksy> (referer: None)\n",
      "2020-06-13 13:18:20 [scrapy.core.scraper] DEBUG: Scraped from <200 https://www.merriam-webster.com/dictionary/emotional>\n",
      "{'emotional': ['appealing to or arousing emotion', 'dominated by or prone to emotion', 'easily upset, excited, etc.', 'expressing strong feelings', 'likely to show or express emotion', 'likely to show or express feelings', 'markedly aroused or agitated in feeling or sensibilities', 'of or relating to', \"relating to a person's feelings\", 'relating to emotions', 'showing emotion']}\n",
      "2020-06-13 13:18:20 [scrapy.core.scraper] DEBUG: Scraped from <200 https://www.merriam-webster.com/dictionary/effeminate>\n",
      "{'effeminate': ['an effeminate person', 'having feminine qualities untypical of a man', 'having or showing qualities that are considered more suited to women than to men', 'marked by an unbecoming delicacy or overrefinement', 'not manly', 'not manly in appearance or manner']}\n",
      "2020-06-13 13:18:20 [scrapy.core.scraper] DEBUG: Scraped from <200 https://www.merriam-webster.com/dictionary/enigmatic>\n",
      "{'enigmatic': []}\n",
      "2020-06-13 13:18:20 [scrapy.downloadermiddlewares.redirect] DEBUG: Redirecting (301) to <GET https://www.merriam-webster.com/dictionary/hypnotic> from <GET https://www.merriam-webster.com/dictionary/Hypnotic>\n",
      "2020-06-13 13:18:20 [scrapy.core.scraper] DEBUG: Scraped from <200 https://www.merriam-webster.com/dictionary/frugal>\n",
      "{'frugal': ['careful about spending money or using things when you do not need to', 'careful in spending or using supplies', 'characterized by or reflecting', 'in the use of resources', 'simple and plain', 'simple and without unnecessary things', 'using money or supplies in a very careful way']}\n",
      "2020-06-13 13:18:21 [scrapy.core.scraper] DEBUG: Scraped from <200 https://www.merriam-webster.com/dictionary/folksy>\n",
      "{'folksy': ['friendly or informal in manner or style', 'informal, casual, or familiar in manner or style']}\n"
     ]
    },
    {
     "name": "stdout",
     "output_type": "stream",
     "text": [
      "num of unique defs: 11\n",
      "num of unique defs: 6\n",
      "num of unique defs: 0\n",
      "num of unique defs: 7\n",
      "num of unique defs: 2\n"
     ]
    },
    {
     "name": "stderr",
     "output_type": "stream",
     "text": [
      "2020-06-13 13:18:21 [scrapy.core.engine] DEBUG: Crawled (200) <GET https://www.merriam-webster.com/dictionary/experimental> (referer: None)\n",
      "2020-06-13 13:18:21 [scrapy.core.engine] DEBUG: Crawled (200) <GET https://www.merriam-webster.com/dictionary/freewheeling> (referer: None)\n",
      "2020-06-13 13:18:21 [scrapy.downloadermiddlewares.redirect] DEBUG: Redirecting (301) to <GET https://www.merriam-webster.com/dictionary/impassive> from <GET https://www.merriam-webster.com/dictionary/Impassive>\n",
      "2020-06-13 13:18:21 [scrapy.core.engine] DEBUG: Crawled (404) <GET https://www.merriam-webster.com/dictionary/Huried> (referer: None)\n",
      "2020-06-13 13:18:21 [scrapy.core.scraper] DEBUG: Scraped from <200 https://www.merriam-webster.com/dictionary/experimental>\n",
      "{'experimental': ['founded on or derived from experiment', 'intentionally produced especially in laboratory animals for the purpose of study', 'made or done in order to see how well something works', 'of, relating to, or based on', 'or', 'relating to a scientific experiment or to scientific experiments in general', 'relating to or having the characteristics of experiment', 'relating to, based on, or used for experiment', 'serving the ends of or used as a means of', 'using a new way of doing or thinking about something']}\n",
      "2020-06-13 13:18:21 [scrapy.core.scraper] DEBUG: Scraped from <200 https://www.merriam-webster.com/dictionary/freewheeling>\n",
      "{'freewheeling': []}\n",
      "2020-06-13 13:18:21 [scrapy.core.engine] DEBUG: Crawled (200) <GET https://www.merriam-webster.com/dictionary/formal> (referer: None)\n",
      "2020-06-13 13:18:21 [scrapy.spidermiddlewares.httperror] INFO: Ignoring response <404 https://www.merriam-webster.com/dictionary/Huried>: HTTP status code is not handled or not allowed\n",
      "2020-06-13 13:18:21 [scrapy.core.engine] DEBUG: Crawled (200) <GET https://www.merriam-webster.com/dictionary/glamorous> (referer: None)\n",
      "2020-06-13 13:18:21 [scrapy.core.engine] DEBUG: Crawled (200) <GET https://www.merriam-webster.com/dictionary/Iconoclastic> (referer: None)\n"
     ]
    },
    {
     "name": "stdout",
     "output_type": "stream",
     "text": [
      "num of unique defs: 10\n",
      "num of unique defs: 0\n"
     ]
    },
    {
     "name": "stderr",
     "output_type": "stream",
     "text": [
      "2020-06-13 13:18:21 [scrapy.core.scraper] DEBUG: Scraped from <200 https://www.merriam-webster.com/dictionary/formal>\n",
      "{'formal': ['a formal event', 'a social gathering (such as a dance) that requires formal dress and manners', 'a social gathering that requires proper clothing and behavior', 'acquired by attending classes in a school', 'being such only as a matter of form', 'belonging to or constituting the form or essence of a thing', 'characterized by', 'done in due or lawful form', 'following established form, custom, or rule', 'following or according with established form, custom, or rule', 'having the appearance without the substance', 'relating to or involving outward form, structure, or arrangement rather than content', 'relating to or involving the outward form, structure, relationships, or arrangement of elements rather than content', 'requiring proper clothing and manners', 'requiring special or established solemnities or formalities especially in order to be effective or valid under the law', 'respect for form', 'rigidly ceremonious', 'something (such as a dance or a dress) formal in character', 'suitable for a proper occasion']}\n",
      "2020-06-13 13:18:21 [scrapy.core.engine] DEBUG: Crawled (200) <GET https://www.merriam-webster.com/dictionary/hypnotic> (referer: None)\n",
      "2020-06-13 13:18:21 [scrapy.downloadermiddlewares.redirect] DEBUG: Redirecting (301) to <GET https://www.merriam-webster.com/dictionary/impressionable> from <GET https://www.merriam-webster.com/dictionary/Impressionable>\n",
      "2020-06-13 13:18:21 [scrapy.core.scraper] DEBUG: Scraped from <200 https://www.merriam-webster.com/dictionary/glamorous>\n",
      "{'glamorous': []}\n",
      "2020-06-13 13:18:21 [scrapy.downloadermiddlewares.redirect] DEBUG: Redirecting (301) to <GET https://www.merriam-webster.com/dictionary/impersonal> from <GET https://www.merriam-webster.com/dictionary/Impersonal>\n",
      "2020-06-13 13:18:21 [scrapy.core.scraper] DEBUG: Scraped from <200 https://www.merriam-webster.com/dictionary/Iconoclastic>\n",
      "{'Iconoclastic': ['a person who attacks settled beliefs or institutions', 'a person who criticizes or opposes beliefs and practices that are widely accepted', 'a person who destroys religious images or opposes their veneration']}\n",
      "2020-06-13 13:18:21 [scrapy.core.scraper] DEBUG: Scraped from <200 https://www.merriam-webster.com/dictionary/hypnotic>\n",
      "{'hypnotic': ['a drug that causes sleep', 'a sleep-inducing agent', 'attractive or interesting in a powerful or mysterious way', 'having an effect like that of hypnosis', 'of or relating to', 'of or relating to hypnosis', 'one that is or can be', 'or', 'readily holding the attention', 'tending to cause sleep or relaxation', 'tending to produce sleep']}\n"
     ]
    },
    {
     "name": "stdout",
     "output_type": "stream",
     "text": [
      "num of unique defs: 19\n",
      "num of unique defs: 0\n",
      "num of unique defs: 3\n",
      "num of unique defs: 11\n"
     ]
    },
    {
     "name": "stderr",
     "output_type": "stream",
     "text": [
      "2020-06-13 13:18:21 [scrapy.core.engine] DEBUG: Crawled (200) <GET https://www.merriam-webster.com/dictionary/high-spirited> (referer: None)\n",
      "2020-06-13 13:18:21 [scrapy.downloadermiddlewares.redirect] DEBUG: Redirecting (301) to <GET https://www.merriam-webster.com/dictionary/intense> from <GET https://www.merriam-webster.com/dictionary/Intense>\n",
      "2020-06-13 13:18:21 [scrapy.core.scraper] DEBUG: Scraped from <200 https://www.merriam-webster.com/dictionary/high-spirited>\n",
      "{'high-spirited': []}\n",
      "2020-06-13 13:18:22 [scrapy.downloadermiddlewares.redirect] DEBUG: Redirecting (301) to <GET https://www.merriam-webster.com/dictionary/irreligious> from <GET https://www.merriam-webster.com/dictionary/Irreligious>\n",
      "2020-06-13 13:18:22 [scrapy.core.engine] DEBUG: Crawled (200) <GET https://www.merriam-webster.com/dictionary/Idiosyncratic> (referer: None)\n",
      "2020-06-13 13:18:22 [scrapy.downloadermiddlewares.redirect] DEBUG: Redirecting (301) to <GET https://www.merriam-webster.com/dictionary/irreverent> from <GET https://www.merriam-webster.com/dictionary/Irreverent>\n"
     ]
    },
    {
     "name": "stdout",
     "output_type": "stream",
     "text": [
      "num of unique defs: 0\n"
     ]
    },
    {
     "name": "stderr",
     "output_type": "stream",
     "text": [
      "2020-06-13 13:18:22 [scrapy.core.engine] DEBUG: Crawled (200) <GET https://www.merriam-webster.com/dictionary/guileless> (referer: None)\n",
      "2020-06-13 13:18:22 [scrapy.downloadermiddlewares.redirect] DEBUG: Redirecting (301) to <GET https://www.merriam-webster.com/dictionary/maternal> from <GET https://www.merriam-webster.com/dictionary/Maternal>\n",
      "2020-06-13 13:18:22 [scrapy.downloadermiddlewares.redirect] DEBUG: Redirecting (301) to <GET https://www.merriam-webster.com/dictionary/mellow> from <GET https://www.merriam-webster.com/dictionary/Mellow>\n",
      "2020-06-13 13:18:22 [scrapy.core.scraper] DEBUG: Scraped from <200 https://www.merriam-webster.com/dictionary/Idiosyncratic>\n",
      "{'Idiosyncratic': ['a peculiarity of constitution or temperament', 'a peculiarity of physical or mental constitution or temperament', 'an individualizing characteristic or quality', 'an unusual part or feature of something', 'an unusual way in which a particular person behaves or thinks', 'an unusual way of behaving or thinking that is characteristic of a person', 'characteristic peculiarity (as of temperament)', 'individual hypersensitiveness (as to a drug or food)']}\n",
      "2020-06-13 13:18:22 [scrapy.core.scraper] DEBUG: Scraped from <200 https://www.merriam-webster.com/dictionary/guileless>\n",
      "{'guileless': []}\n",
      "2020-06-13 13:18:22 [scrapy.downloadermiddlewares.redirect] DEBUG: Redirecting (301) to <GET https://www.merriam-webster.com/dictionary/invisible> from <GET https://www.merriam-webster.com/dictionary/Invisible>\n",
      "2020-06-13 13:18:22 [scrapy.downloadermiddlewares.redirect] DEBUG: Redirecting (301) to <GET https://www.merriam-webster.com/dictionary/modern> from <GET https://www.merriam-webster.com/dictionary/Modern>\n",
      "2020-06-13 13:18:22 [scrapy.downloadermiddlewares.redirect] DEBUG: Redirecting (301) to <GET https://www.merriam-webster.com/dictionary/moralistic> from <GET https://www.merriam-webster.com/dictionary/Moralistic>\n",
      "2020-06-13 13:18:22 [scrapy.downloadermiddlewares.redirect] DEBUG: Redirecting (301) to <GET https://www.merriam-webster.com/dictionary/mystical> from <GET https://www.merriam-webster.com/dictionary/Mystical>\n",
      "2020-06-13 13:18:22 [scrapy.core.engine] DEBUG: Crawled (200) <GET https://www.merriam-webster.com/dictionary/irreverent> (referer: None)\n"
     ]
    },
    {
     "name": "stdout",
     "output_type": "stream",
     "text": [
      "num of unique defs: 8\n",
      "num of unique defs: 0\n"
     ]
    },
    {
     "name": "stderr",
     "output_type": "stream",
     "text": [
      "2020-06-13 13:18:22 [scrapy.core.scraper] DEBUG: Scraped from <200 https://www.merriam-webster.com/dictionary/irreverent>\n",
      "{'irreverent': []}\n",
      "2020-06-13 13:18:22 [scrapy.downloadermiddlewares.redirect] DEBUG: Redirecting (301) to <GET https://www.merriam-webster.com/dictionary/neutral> from <GET https://www.merriam-webster.com/dictionary/Neutral>\n",
      "2020-06-13 13:18:22 [scrapy.core.engine] DEBUG: Crawled (200) <GET https://www.merriam-webster.com/dictionary/impressionable> (referer: None)\n",
      "2020-06-13 13:18:22 [scrapy.downloadermiddlewares.redirect] DEBUG: Redirecting (301) to <GET https://www.merriam-webster.com/dictionary/noncommittal> from <GET https://www.merriam-webster.com/dictionary/Noncommittal>\n",
      "2020-06-13 13:18:22 [scrapy.core.engine] DEBUG: Crawled (200) <GET https://www.merriam-webster.com/dictionary/mellow> (referer: None)\n"
     ]
    },
    {
     "name": "stdout",
     "output_type": "stream",
     "text": [
      "num of unique defs: 0\n"
     ]
    },
    {
     "name": "stderr",
     "output_type": "stream",
     "text": [
      "2020-06-13 13:18:22 [scrapy.downloadermiddlewares.redirect] DEBUG: Redirecting (301) to <GET https://www.merriam-webster.com/dictionary/noncompetitive> from <GET https://www.merriam-webster.com/dictionary/Noncompetitive>\n",
      "2020-06-13 13:18:22 [scrapy.core.engine] DEBUG: Crawled (200) <GET https://www.merriam-webster.com/dictionary/impersonal> (referer: None)\n",
      "2020-06-13 13:18:22 [scrapy.core.scraper] DEBUG: Scraped from <200 https://www.merriam-webster.com/dictionary/impressionable>\n",
      "{'impressionable': []}\n",
      "2020-06-13 13:18:22 [scrapy.core.engine] DEBUG: Crawled (200) <GET https://www.merriam-webster.com/dictionary/invisible> (referer: None)\n",
      "2020-06-13 13:18:23 [scrapy.core.scraper] DEBUG: Scraped from <200 https://www.merriam-webster.com/dictionary/mellow>\n",
      "{'mellow': ['being clear, full, and pure', 'fully ripe or mature', 'having a pleasing rich flavor that develops over time', 'having a soft and loamy consistency', 'made gentle by age or experience', 'made mild by age', 'not harsh', 'not harsh, bright, or irritating', 'pleasantly rich, full, or soft', 'rich and full but free from garishness or stridency', 'tender and sweet because of ripeness', 'to become mellow', 'to become or to cause (someone or something) to become less harsh, irritating, nervous, etc.', 'to make', 'to make or become mild or relaxed especially over time', 'very calm and relaxed', 'warmed and relaxed by or as if by liquor', 'well aged and pleasingly mild']}\n",
      "2020-06-13 13:18:23 [scrapy.core.engine] DEBUG: Crawled (200) <GET https://www.merriam-webster.com/dictionary/moralistic> (referer: None)\n",
      "2020-06-13 13:18:23 [scrapy.core.engine] DEBUG: Crawled (200) <GET https://www.merriam-webster.com/dictionary/intense> (referer: None)\n"
     ]
    },
    {
     "name": "stdout",
     "output_type": "stream",
     "text": [
      "num of unique defs: 0\n",
      "num of unique defs: 18\n",
      "num of unique defs: 14"
     ]
    },
    {
     "name": "stderr",
     "output_type": "stream",
     "text": [
      "2020-06-13 13:18:23 [scrapy.core.scraper] DEBUG: Scraped from <200 https://www.merriam-webster.com/dictionary/impersonal>\n",
      "{'impersonal': [')', ') or with a merely formal subject (such as', 'denoting the verbal action of an unspecified agent and hence used with no expressed subject (such as', 'having no personal reference or connection', 'having no specified subject or no subject other than \"it\"', 'having or showing no interest in individual people or their feelings', 'in', 'lacking emotional warmth', 'not caring about individual persons or their feelings', 'not engaging the human personality or emotions', 'not existing as a person', 'not having human qualities or characteristics', 'not relating to or influenced by personal feelings', 'not showing or involving personal feelings']}\n",
      "2020-06-13 13:18:23 [scrapy.downloadermiddlewares.redirect] DEBUG: Redirecting (301) to <GET https://www.merriam-webster.com/dictionary/obedient> from <GET https://www.merriam-webster.com/dictionary/Obedient>\n",
      "2020-06-13 13:18:23 [scrapy.core.engine] DEBUG: Crawled (200) <GET https://www.merriam-webster.com/dictionary/impassive> (referer: None)\n",
      "2020-06-13 13:18:23 [scrapy.core.scraper] DEBUG: Scraped from <200 https://www.merriam-webster.com/dictionary/invisible>\n",
      "{'invisible': ['an invisible person or thing', 'impossible to see', 'inaccessible to view', 'incapable by nature of being seen', 'not appearing in published financial statements', 'not perceptible by vision', 'not reflected in statistics', 'not visible', 'of such small size or unobtrusive quality as to be hardly noticeable', 'someone or something that cannot be seen or perceived']}\n",
      "2020-06-13 13:18:23 [scrapy.core.engine] DEBUG: Crawled (200) <GET https://www.merriam-webster.com/dictionary/irreligious> (referer: None)\n",
      "2020-06-13 13:18:23 [scrapy.core.engine] DEBUG: Crawled (200) <GET https://www.merriam-webster.com/dictionary/neutral> (referer: None)\n",
      "2020-06-13 13:18:23 [scrapy.core.scraper] DEBUG: Scraped from <200 https://www.merriam-webster.com/dictionary/moralistic>\n",
      "{'moralistic': ['attitude', 'characterized by or expressive of a concern with', 'characterized by or expressive of a narrow', 'having or showing strong opinions about what is right behavior and what is wrong behavior']}\n"
     ]
    },
    {
     "name": "stdout",
     "output_type": "stream",
     "text": [
      "\n",
      "num of unique defs: 10\n",
      "num of unique defs: 4\n"
     ]
    },
    {
     "name": "stderr",
     "output_type": "stream",
     "text": [
      "2020-06-13 13:18:23 [scrapy.core.scraper] DEBUG: Scraped from <200 https://www.merriam-webster.com/dictionary/intense>\n",
      "{'intense': ['deeply felt', 'done with great energy, enthusiasm, or effort', 'done with or showing great energy, enthusiasm, or effort', 'exhibiting strong feeling or earnestness of purpose', 'existing in an extreme degree', 'extremely marked or pronounced', 'feeling deeply especially by nature or temperament', 'having or showing a characteristic in extreme degree', 'having very strong feelings', 'marked by or expressive of great zeal, energy, determination, or concentration', 'very great in degree', 'very large or considerable', 'very serious', 'very strong']}\n",
      "2020-06-13 13:18:23 [scrapy.core.scraper] DEBUG: Scraped from <200 https://www.merriam-webster.com/dictionary/impassive>\n",
      "{'impassive': ['giving no sign of feeling or emotion', 'not feeling or showing emotion', 'not showing emotion', 'unsusceptible to or destitute of emotion', 'unsusceptible to pain', 'unsusceptible to physical feeling']}\n",
      "2020-06-13 13:18:23 [scrapy.core.scraper] DEBUG: Scraped from <200 https://www.merriam-webster.com/dictionary/irreligious>\n",
      "{'irreligious': ['having or showing a lack of respect for religion', 'indicating lack of religion', 'lacking religious emotions, doctrines, or practices', 'neglectful of religion', 'not believing in or practicing any religion']}\n",
      "2020-06-13 13:18:23 [scrapy.core.scraper] DEBUG: Scraped from <200 https://www.merriam-webster.com/dictionary/neutral>\n",
      "{'neutral': ['a color that is not bright or strong', 'a grayish color or color that is not bright', 'a neutral color', 'a person or group that does not favor either side in a quarrel, contest, or war', 'a person, country, etc., that does not support either side of an argument, fight, war, etc.', 'a position of disengagement (as of gears)', 'a position of gears (as in the transmission of a motor vehicle) in which they are not in contact', 'an impartial person used in alternative dispute resolution to help resolve or to determine the matters in dispute', 'having a color that is not bright', 'having a pH value of 7.0', 'lacking stamens or pistils', 'nearly achromatic', 'neither acid nor alkaline', 'neither acid nor basic', 'not aligned with a political or ideological grouping', 'not connected with either side involved in a war, contest, etc.', 'not decided in color', 'not decided or pronounced as to characteristics', 'not electrically charged', 'not engaged on either side', 'not favoring either side in a quarrel, contest, or war', 'not strong in opinion or feeling', 'not supporting either side of an argument, fight, war, etc.', 'not supporting one political view over another', 'of low saturation', \"of or relating to a country that doesn't favor either side in a dispute\", 'of or relating to a neutral state or power', 'one that is', 'one that is neutral', 'produced with the tongue in the position it has when at rest', 'the position of the gears in a car, truck, etc., when they do not touch each other and power from the engine does not move the wheels', 'totally lacking in saturation']}\n",
      "2020-06-13 13:18:23 [scrapy.core.engine] DEBUG: Crawled (404) <GET https://www.merriam-webster.com/dictionary/Old-fashined> (referer: None)\n"
     ]
    },
    {
     "name": "stdout",
     "output_type": "stream",
     "text": [
      "num of unique defs: 14\n",
      "num of unique defs: 6\n",
      "num of unique defs: 5\n",
      "num of unique defs: 32\n"
     ]
    },
    {
     "name": "stderr",
     "output_type": "stream",
     "text": [
      "2020-06-13 13:18:23 [scrapy.core.engine] DEBUG: Crawled (200) <GET https://www.merriam-webster.com/dictionary/mystical> (referer: None)\n",
      "2020-06-13 13:18:23 [scrapy.core.engine] DEBUG: Crawled (200) <GET https://www.merriam-webster.com/dictionary/maternal> (referer: None)\n",
      "2020-06-13 13:18:23 [scrapy.core.engine] DEBUG: Crawled (200) <GET https://www.merriam-webster.com/dictionary/modern> (referer: None)\n",
      "2020-06-13 13:18:23 [scrapy.downloadermiddlewares.redirect] DEBUG: Redirecting (301) to <GET https://www.merriam-webster.com/dictionary/outspoken> from <GET https://www.merriam-webster.com/dictionary/Outspoken>\n",
      "2020-06-13 13:18:23 [scrapy.spidermiddlewares.httperror] INFO: Ignoring response <404 https://www.merriam-webster.com/dictionary/Old-fashined>: HTTP status code is not handled or not allowed\n",
      "2020-06-13 13:18:23 [scrapy.downloadermiddlewares.redirect] DEBUG: Redirecting (301) to <GET https://www.merriam-webster.com/dictionary/ordinary> from <GET https://www.merriam-webster.com/dictionary/Ordinary>\n",
      "2020-06-13 13:18:23 [scrapy.core.scraper] DEBUG: Scraped from <200 https://www.merriam-webster.com/dictionary/mystical>\n",
      "{'mystical': ['having a spiritual meaning or reality that is neither apparent to the senses nor obvious to the intelligence', 'having a spiritual meaning that is difficult to see or understand', \"involving or having the nature of an individual's direct subjective communion with God or ultimate reality\", 'of or relating to mystics or mysticism', 'resulting from prayer or deep thought']}\n",
      "2020-06-13 13:18:23 [scrapy.core.scraper] DEBUG: Scraped from <200 https://www.merriam-webster.com/dictionary/maternal>\n",
      "{'maternal': ['inherited or derived from the female parent', 'of or relating to a mother', 'of or relating to a woman who is having a baby', 'of, relating to, belonging to, or characteristic of a mother', 'related through a mother', 'related through the mother']}\n",
      "2020-06-13 13:18:23 [scrapy.core.engine] DEBUG: Crawled (200) <GET https://www.merriam-webster.com/dictionary/noncompetitive> (referer: None)\n",
      "2020-06-13 13:18:23 [scrapy.core.scraper] DEBUG: Scraped from <200 https://www.merriam-webster.com/dictionary/modern>\n",
      "{'modern': ['a modern artist or writer', 'a person of modern times or views', 'a person who has modern ideas, tastes, or attitudes', 'a style of printing type distinguished by regularity of shape, precise curves, straight hairline serifs, and heavy downstrokes', 'an adherent of', 'based on or using the newest information, methods, or technology', 'happening, existing, or developing at a time near the present time', 'having a style that is newer and different from older, more traditional styles', 'involving recent techniques, methods, or ideas', 'of a style or way of thinking that is new and different', 'of or characteristic of the present time or times not long past', 'of or relating to', 'of or relating to the current or most recent period of a language', 'of or relating to the present time or the recent past', 'of the period from about 1500 to the present', 'of, relating to, or characteristic of a period extending from a relevant remote past to the present time', 'of, relating to, or characteristic of the present or the immediate past', 'of, relating to, or having the characteristics of the present or most recent period of development of a language']}\n",
      "2020-06-13 13:18:23 [scrapy.core.scraper] DEBUG: Scraped from <200 https://www.merriam-webster.com/dictionary/noncompetitive>\n",
      "{'noncompetitive': []}\n"
     ]
    },
    {
     "name": "stdout",
     "output_type": "stream",
     "text": [
      "num of unique defs: 5\n",
      "num of unique defs: 6\n",
      "num of unique defs: 18\n",
      "num of unique defs: 0\n"
     ]
    },
    {
     "name": "stderr",
     "output_type": "stream",
     "text": [
      "2020-06-13 13:18:23 [scrapy.core.engine] DEBUG: Crawled (200) <GET https://www.merriam-webster.com/dictionary/noncommittal> (referer: None)\n",
      "2020-06-13 13:18:24 [scrapy.downloadermiddlewares.redirect] DEBUG: Redirecting (301) to <GET https://www.merriam-webster.com/dictionary/physical> from <GET https://www.merriam-webster.com/dictionary/Physical>\n",
      "2020-06-13 13:18:24 [scrapy.downloadermiddlewares.redirect] DEBUG: Redirecting (301) to <GET https://www.merriam-webster.com/dictionary/political> from <GET https://www.merriam-webster.com/dictionary/Political>\n",
      "2020-06-13 13:18:24 [scrapy.downloadermiddlewares.redirect] DEBUG: Redirecting (301) to <GET https://www.merriam-webster.com/dictionary/placid> from <GET https://www.merriam-webster.com/dictionary/Placid>\n",
      "2020-06-13 13:18:24 [scrapy.downloadermiddlewares.redirect] DEBUG: Redirecting (301) to <GET https://www.merriam-webster.com/dictionary/predictable> from <GET https://www.merriam-webster.com/dictionary/Predictable>\n",
      "2020-06-13 13:18:24 [scrapy.downloadermiddlewares.redirect] DEBUG: Redirecting (301) to <GET https://www.merriam-webster.com/dictionary/preoccupied> from <GET https://www.merriam-webster.com/dictionary/Preoccupied>\n",
      "2020-06-13 13:18:24 [scrapy.core.scraper] DEBUG: Scraped from <200 https://www.merriam-webster.com/dictionary/noncommittal>\n",
      "{'noncommittal': ['giving no clear indication of attitude or feeling', 'having no clear or distinctive character', 'not revealing thoughts or decisions', 'not telling or showing what you think about something']}\n",
      "2020-06-13 13:18:24 [scrapy.core.engine] DEBUG: Crawled (200) <GET https://www.merriam-webster.com/dictionary/obedient> (referer: None)\n",
      "2020-06-13 13:18:24 [scrapy.core.engine] DEBUG: Crawled (200) <GET https://www.merriam-webster.com/dictionary/ordinary> (referer: None)\n",
      "2020-06-13 13:18:24 [scrapy.core.scraper] DEBUG: Scraped from <200 https://www.merriam-webster.com/dictionary/obedient>\n",
      "{'obedient': []}\n"
     ]
    },
    {
     "name": "stdout",
     "output_type": "stream",
     "text": [
      "num of unique defs: 4\n",
      "num of unique defs: 0\n"
     ]
    },
    {
     "name": "stderr",
     "output_type": "stream",
     "text": [
      "2020-06-13 13:18:24 [scrapy.core.scraper] DEBUG: Scraped from <200 https://www.merriam-webster.com/dictionary/ordinary>\n",
      "{'ordinary': [')', 'a clergyman appointed formerly in England to attend condemned criminals', 'a common heraldic charge (such as the bend) of simple form (see', 'a judge of', 'a meal served to all comers at a fixed price', 'a prelate exercising original jurisdiction over a specified territory or group', 'a tavern or eating house serving regular meals', 'belonging to such jurisdiction', 'deficient in quality', 'having or constituting immediate or original jurisdiction', 'in some states of the U.S.', 'neither good nor bad', 'neither very good nor very bad', 'normal or usual', 'not unusual, different, or special', 'not very good', 'not very impressive', 'of a common kind or degree', 'of a kind to be expected from the average person or in the normal course of events', 'of a kind to be expected in the normal order of events', 'of common quality, rank, or ability', 'the conditions or events that are usual or normal', 'the parts of the Mass that do not vary from day to day', 'the regular or customary condition or course of things', 'to be expected']}\n",
      "2020-06-13 13:18:24 [scrapy.downloadermiddlewares.redirect] DEBUG: Redirecting (301) to <GET https://www.merriam-webster.com/dictionary/private> from <GET https://www.merriam-webster.com/dictionary/Private>\n",
      "2020-06-13 13:18:24 [scrapy.downloadermiddlewares.redirect] DEBUG: Redirecting (301) to <GET https://www.merriam-webster.com/dictionary/progressive> from <GET https://www.merriam-webster.com/dictionary/Progressive>\n",
      "2020-06-13 13:18:24 [scrapy.core.engine] DEBUG: Crawled (200) <GET https://www.merriam-webster.com/dictionary/Paternalistic> (referer: None)\n",
      "2020-06-13 13:18:24 [scrapy.downloadermiddlewares.redirect] DEBUG: Redirecting (301) to <GET https://www.merriam-webster.com/dictionary/proud> from <GET https://www.merriam-webster.com/dictionary/Proud>\n"
     ]
    },
    {
     "name": "stdout",
     "output_type": "stream",
     "text": [
      "num of unique defs: 25\n"
     ]
    },
    {
     "name": "stderr",
     "output_type": "stream",
     "text": [
      "2020-06-13 13:18:24 [scrapy.core.scraper] DEBUG: Scraped from <200 https://www.merriam-webster.com/dictionary/Paternalistic>\n",
      "{'Paternalistic': ['a policy or practice based on or characteristic of paternalism', 'a system under which an authority undertakes to supply needs or regulate conduct of those under its control in matters affecting them as individuals as well as in their relations to authority and to each other', 'the attitude or actions of a person, organization, etc., that protects people and gives them what they need but does not give them any responsibility or freedom of choice']}\n",
      "2020-06-13 13:18:24 [scrapy.core.engine] DEBUG: Crawled (200) <GET https://www.merriam-webster.com/dictionary/placid> (referer: None)\n",
      "2020-06-13 13:18:24 [scrapy.downloadermiddlewares.redirect] DEBUG: Redirecting (301) to <GET https://www.merriam-webster.com/dictionary/questioning> from <GET https://www.merriam-webster.com/dictionary/Questioning>\n",
      "2020-06-13 13:18:24 [scrapy.downloadermiddlewares.redirect] DEBUG: Redirecting (301) to <GET https://www.merriam-webster.com/dictionary/pure> from <GET https://www.merriam-webster.com/dictionary/Pure>\n",
      "2020-06-13 13:18:24 [scrapy.downloadermiddlewares.redirect] DEBUG: Redirecting (301) to <GET https://www.merriam-webster.com/dictionary/quiet> from <GET https://www.merriam-webster.com/dictionary/Quiet>\n",
      "2020-06-13 13:18:24 [scrapy.core.scraper] DEBUG: Scraped from <200 https://www.merriam-webster.com/dictionary/placid>\n",
      "{'placid': []}\n"
     ]
    },
    {
     "name": "stdout",
     "output_type": "stream",
     "text": [
      "num of unique defs: 3\n",
      "num of unique defs: 0\n"
     ]
    },
    {
     "name": "stderr",
     "output_type": "stream",
     "text": [
      "2020-06-13 13:18:25 [scrapy.core.engine] DEBUG: Crawled (200) <GET https://www.merriam-webster.com/dictionary/outspoken> (referer: None)\n",
      "2020-06-13 13:18:25 [scrapy.downloadermiddlewares.redirect] DEBUG: Redirecting (301) to <GET https://www.merriam-webster.com/dictionary/religious> from <GET https://www.merriam-webster.com/dictionary/Religious>\n",
      "2020-06-13 13:18:25 [scrapy.core.engine] DEBUG: Crawled (200) <GET https://www.merriam-webster.com/dictionary/proud> (referer: None)\n",
      "2020-06-13 13:18:25 [scrapy.core.scraper] DEBUG: Scraped from <200 https://www.merriam-webster.com/dictionary/outspoken>\n",
      "{'outspoken': ['direct and open in speech or expression', 'spoken or expressed without reserve', 'talking in a free and honest way', 'talking in a free and honest way about your opinions']}\n",
      "2020-06-13 13:18:25 [scrapy.core.scraper] DEBUG: Scraped from <200 https://www.merriam-webster.com/dictionary/proud>\n",
      "{'proud': ['causing a feeling of pride', 'causing someone to feel very happy and pleased', 'feeling or showing pride: such as', 'feeling pride', 'giving reason for pride', \"having a feeling of pleasure or satisfaction especially with a person's own achievements or with someone else's achievements\", 'having great self-respect or dignity', 'having or displaying excessive self-esteem', 'having or showing a feeling of being better than others', 'having or showing the attitude of people who think that they are better or more important than others', 'having or showing too much pride', 'having proper self-respect', 'marked by stateliness', 'much pleased', 'raised above a surrounding area', 'very happy and pleased because of something you have done, something you own, someone you know or are related to, etc.', 'very pleased']}\n",
      "2020-06-13 13:18:25 [scrapy.downloadermiddlewares.redirect] DEBUG: Redirecting (301) to <GET https://www.merriam-webster.com/dictionary/reserved> from <GET https://www.merriam-webster.com/dictionary/Reserved>\n",
      "2020-06-13 13:18:25 [scrapy.downloadermiddlewares.redirect] DEBUG: Redirecting (301) to <GET https://www.merriam-webster.com/dictionary/restrained> from <GET https://www.merriam-webster.com/dictionary/Restrained>\n"
     ]
    },
    {
     "name": "stdout",
     "output_type": "stream",
     "text": [
      "num of unique defs: 4\n",
      "num of unique defs: 17\n"
     ]
    },
    {
     "name": "stderr",
     "output_type": "stream",
     "text": [
      "2020-06-13 13:18:25 [scrapy.core.engine] DEBUG: Crawled (200) <GET https://www.merriam-webster.com/dictionary/predictable> (referer: None)\n",
      "2020-06-13 13:18:25 [scrapy.downloadermiddlewares.redirect] DEBUG: Redirecting (301) to <GET https://www.merriam-webster.com/dictionary/retiring> from <GET https://www.merriam-webster.com/dictionary/Retiring>\n",
      "2020-06-13 13:18:25 [scrapy.core.engine] DEBUG: Crawled (200) <GET https://www.merriam-webster.com/dictionary/physical> (referer: None)\n",
      "2020-06-13 13:18:25 [scrapy.core.scraper] DEBUG: Scraped from <200 https://www.merriam-webster.com/dictionary/predictable>\n",
      "{'predictable': ['able to be known, seen, or declared in advance', 'behaving in a way that is expected', 'capable of being', 'capable of being known before happening or being done']}\n",
      "2020-06-13 13:18:25 [scrapy.core.engine] DEBUG: Crawled (200) <GET https://www.merriam-webster.com/dictionary/private> (referer: None)\n",
      "2020-06-13 13:18:25 [scrapy.core.scraper] DEBUG: Scraped from <200 https://www.merriam-webster.com/dictionary/physical>\n",
      "{'physical': [\"a medical examination to see if a person's body is healthy\", 'characterized by especially rugged and forceful physical activity', 'characterized or produced by the forces and operations of physics', 'concerned or preoccupied with the body and its needs', 'existing in a form that can be touched or seen', 'existing in a form that you can touch or see', 'having material existence', 'involving or related to sex', 'of or relating to', 'of or relating to material things', 'of or relating to natural science', 'of or relating to physics', 'of or relating to the body', 'of the body', 'perceptible especially through the senses and subject to the laws of nature', 'relating to the body of a person instead of the mind']}\n",
      "2020-06-13 13:18:25 [scrapy.core.engine] DEBUG: Crawled (200) <GET https://www.merriam-webster.com/dictionary/political> (referer: None)\n"
     ]
    },
    {
     "name": "stdout",
     "output_type": "stream",
     "text": [
      "num of unique defs: 4\n",
      "num of unique defs: 16\n"
     ]
    },
    {
     "name": "stderr",
     "output_type": "stream",
     "text": [
      "2020-06-13 13:18:25 [scrapy.core.scraper] DEBUG: Scraped from <200 https://www.merriam-webster.com/dictionary/private>\n",
      "{'private': ['a person of low rank in any of various organizations (such as a police or fire department)', 'a person of the lowest rank in the U.S. or British Army or the U.S. Marines', 'accommodating only one patient', 'affecting the interests of a particular person, class or group of persons, or locality', 'an enlisted person of the lowest rank in the marine corps or of either of the two lowest ranks in the army', 'an enlisted person of the lowest rank in the marine corps or of one of the two lowest ranks in the army', 'being a private', 'being educated by independent study or a tutor or in a private school', 'belonging to one person or group', 'belonging to or concerning an individual person, company, or interest', 'carried on by the individual independently of the usual institutions', 'for the use of a single person or group', 'having to do with or for the use of a single person or group', 'highly', 'intended for or restricted to the use of a particular person or group or class of persons', 'intended for or restricted to the use of a particular person, group, or class', 'intended only for the persons involved', 'made under private signature', 'not available to the public', 'not general in effect', 'not having shares that can be freely traded on the open market', 'not holding any public office', 'not holding public office or employment', 'not invested with or engaged in public office or employment', 'not known by the public or by other people', 'not known or intended to be known publicly', 'not known publicly or carried on in public', 'not openly or in public', 'not public', \"not related to one's official position\", 'not related to or dependent on an official position', 'not related to, controlled by, or deriving from the state', \"not relating to a person's official position or job\", 'of, relating to, or being private practice', 'one not in public office', 'owned by or concerning an individual person or entity', 'preferring to keep personal affairs to oneself', 'restricted to the individual or arising independently of others', 'staying or recovering in a room accommodating only one patient', 'unsuitable for public use or display', 'valuing', 'withdrawn from company or observation']}\n",
      "2020-06-13 13:18:25 [scrapy.core.scraper] DEBUG: Scraped from <200 https://www.merriam-webster.com/dictionary/political>\n",
      "{'political': ['and especially party politics', 'interested in or active in politics', 'involving or charged or concerned with acts against a government or a political system', 'involving, concerned with, or accused of acts against a government', 'of or relating to government, a government, or the conduct of government', 'of or relating to politics or government', 'of, relating to, involving, or involved in', 'of, relating to, or concerned with the making as distinguished from the administration of governmental', 'organized in governmental terms', 'relating to the government or the way government is carried on']}\n",
      "2020-06-13 13:18:26 [scrapy.downloadermiddlewares.redirect] DEBUG: Redirecting (301) to <GET https://www.merriam-webster.com/dictionary/sarcastic> from <GET https://www.merriam-webster.com/dictionary/Sarcastic>\n"
     ]
    },
    {
     "name": "stdout",
     "output_type": "stream",
     "text": [
      "num of unique defs: 42\n",
      "num of unique defs: 10\n"
     ]
    },
    {
     "name": "stderr",
     "output_type": "stream",
     "text": [
      "2020-06-13 13:18:26 [scrapy.core.engine] DEBUG: Crawled (200) <GET https://www.merriam-webster.com/dictionary/preoccupied> (referer: None)\n",
      "2020-06-13 13:18:26 [scrapy.core.engine] DEBUG: Crawled (200) <GET https://www.merriam-webster.com/dictionary/pure> (referer: None)\n",
      "2020-06-13 13:18:26 [scrapy.downloadermiddlewares.redirect] DEBUG: Redirecting (301) to <GET https://www.merriam-webster.com/dictionary/self-conscious> from <GET https://www.merriam-webster.com/dictionary/Self-conscious>\n",
      "2020-06-13 13:18:26 [scrapy.core.engine] DEBUG: Crawled (200) <GET https://www.merriam-webster.com/dictionary/questioning> (referer: None)\n",
      "2020-06-13 13:18:26 [scrapy.core.engine] DEBUG: Crawled (200) <GET https://www.merriam-webster.com/dictionary/progressive> (referer: None)\n",
      "2020-06-13 13:18:26 [scrapy.core.scraper] DEBUG: Scraped from <200 https://www.merriam-webster.com/dictionary/preoccupied>\n",
      "{'preoccupied': ['absorbed in some', 'already occupied', 'lost in thought', 'previously applied to another group and unavailable for use in a new sense', 'thinking about or worrying about one thing a great deal', 'thinking about something a lot or too much']}\n",
      "2020-06-13 13:18:26 [scrapy.core.scraper] DEBUG: Scraped from <200 https://www.merriam-webster.com/dictionary/pure>\n",
      "{'pure': ['being nonobjective and to be appraised on formal and technical qualities only', 'being thus and no other', 'being thus and nothing other', 'characterized by no appreciable alteration of articulation during utterance', 'clean and not harmful in any way', 'containing nothing that does not properly belong', 'free from dirt or taint', 'free from dust, dirt, or taint', 'free from everything that might injure or lower the quality', 'free from harshness or roughness and being in tune', 'free from moral fault or guilt', 'free from sin', 'free from what vitiates, weakens, or pollutes', 'having a smooth and clear sound that is not mixed with any other sounds', 'having exactly the talents or skills needed for a particular role', 'homozygous in and breeding true for one or more characters', 'marked by chastity', 'not directed toward exposition of reality or solution of practical problems', 'not mixed with anything else', 'nothing other than', 'of pure blood and unmixed ancestry', 'of unmixed ancestry', 'ritually clean', 'unmixed with any other matter']}\n",
      "2020-06-13 13:18:26 [scrapy.core.scraper] DEBUG: Scraped from <200 https://www.merriam-webster.com/dictionary/questioning>\n",
      "{'questioning': ['expressing or implying a', 'inclined to ask questions or seek information', 'judicial interrogation', 'showing a feeling of doubt or a desire to ask a question in order to get information', 'the activity or process of asking', 'the activity or process of asking questions', \"uncertain about or engaged in exploring one's own sexual or gender identity\"]}\n",
      "2020-06-13 13:18:26 [scrapy.core.scraper] DEBUG: Scraped from <200 https://www.merriam-webster.com/dictionary/progressive>\n",
      "{'progressive': ['a follower of Henry A. Wallace in the presidential campaign of 1948', 'a follower of Robert M. La Follette in the presidential campaign of 1924', 'a member of a predominantly agrarian minor party that around 1912 split off from the Republicans', 'a member of any of various U.S. political parties: such as', 'a person who favors new or modern ideas especially in politics and education', 'favoring gradual political change and social improvement by action of the government', 'happening or developing gradually over a period of time', 'increasing in extent or severity', 'increasing in rate as the base increases', 'making use of or interested in new ideas, findings, or opportunities', 'moving forward', 'moving forward or onward', 'of or relating to political Progressives', 'of, relating to, or being a multifocal lens with a gradual transition between focal lengths', 'of, relating to, or characterized by', 'of, relating to, or constituting a verb form that expresses action or state in progress at the time of speaking or a time spoken of', 'of, relating to, or constituting an educational theory marked by emphasis on the individual child, informality of classroom procedure, and encouragement of self-expression', 'of, relating to, or showing advancement', 'one believing in moderate political change and especially social improvement by governmental action', 'one that is progressive', 'or, relating to, or using a method of video scanning (as for television or a computer monitor) in which the horizontal lines of each frame are drawn successively from top to bottom', 'taking place gradually or step by step', 'using or interested in new or modern ideas especially in politics and education']}\n",
      "2020-06-13 13:18:26 [scrapy.core.engine] DEBUG: Crawled (200) <GET https://www.merriam-webster.com/dictionary/retiring> (referer: None)\n"
     ]
    },
    {
     "name": "stdout",
     "output_type": "stream",
     "text": [
      "num of unique defs: 6\n",
      "num of unique defs: 24\n",
      "num of unique defs: 7\n",
      "num of unique defs: 23\n"
     ]
    },
    {
     "name": "stderr",
     "output_type": "stream",
     "text": [
      "2020-06-13 13:18:26 [scrapy.core.engine] DEBUG: Crawled (200) <GET https://www.merriam-webster.com/dictionary/religious> (referer: None)\n",
      "2020-06-13 13:18:26 [scrapy.downloadermiddlewares.redirect] DEBUG: Redirecting (301) to <GET https://www.merriam-webster.com/dictionary/sensual> from <GET https://www.merriam-webster.com/dictionary/Sensual>\n",
      "2020-06-13 13:18:26 [scrapy.downloadermiddlewares.redirect] DEBUG: Redirecting (301) to <GET https://www.merriam-webster.com/dictionary/skeptical> from <GET https://www.merriam-webster.com/dictionary/Skeptical>\n",
      "2020-06-13 13:18:26 [scrapy.core.scraper] DEBUG: Scraped from <200 https://www.merriam-webster.com/dictionary/retiring>\n",
      "{'retiring': []}\n",
      "2020-06-13 13:18:26 [scrapy.core.engine] DEBUG: Crawled (200) <GET https://www.merriam-webster.com/dictionary/quiet> (referer: None)\n",
      "2020-06-13 13:18:26 [scrapy.core.scraper] DEBUG: Scraped from <200 https://www.merriam-webster.com/dictionary/religious>\n",
      "{'religious': ['a member of a religious order under monastic vows', 'believing in God or gods and following the practices of a religion', 'believing in a god or a group of gods and following the rules of a religion', 'of or relating to religion', 'of, relating to, or devoted to religious beliefs or observances', 'relating to or manifesting faithful devotion to an acknowledged ultimate reality or deity', 'scrupulously and conscientiously faithful', 'very careful to do something whenever it can or should be done', 'very devoted and faithful']}\n"
     ]
    },
    {
     "name": "stdout",
     "output_type": "stream",
     "text": [
      "num of unique defs: 0\n",
      "num of unique defs: 9\n"
     ]
    },
    {
     "name": "stderr",
     "output_type": "stream",
     "text": [
      "2020-06-13 13:18:26 [scrapy.core.scraper] DEBUG: Scraped from <200 https://www.merriam-webster.com/dictionary/quiet>\n",
      "{'quiet': [')', 'away from public view', 'enjoyed in peace and relaxation', 'free from disturbance, interference, or dispute (as from an adverse claim)', 'free from noise or uproar', 'in a quiet manner', 'in a secretive manner', 'in secret', 'making very little noise', 'marked by little or no motion or activity', 'not disturbed', 'not interfered with', 'not shown in an obvious way', 'not talking', 'or question', 'tending not to talk or show excitement much', 'tending not to talk very much', 'the quality or state of being calm or without noise', 'the quality or state of being quiet (see', 'the quality or state of being quiet or calm', 'to become quiet', 'to cause to be quiet', 'to establish or make (title) secure by means of an action that produces a final determination of the respective rights of parties who are in dispute over property', 'to make (someone or something) quieter, calmer, or less intense', 'to make or become calmer or less noisy', 'to make secure by freeing from']}\n",
      "2020-06-13 13:18:26 [scrapy.downloadermiddlewares.redirect] DEBUG: Redirecting (301) to <GET https://www.merriam-webster.com/dictionary/smooth> from <GET https://www.merriam-webster.com/dictionary/Smooth>\n",
      "2020-06-13 13:18:26 [scrapy.core.engine] DEBUG: Crawled (200) <GET https://www.merriam-webster.com/dictionary/reserved> (referer: None)\n",
      "2020-06-13 13:18:26 [scrapy.core.engine] DEBUG: Crawled (200) <GET https://www.merriam-webster.com/dictionary/restrained> (referer: None)\n",
      "2020-06-13 13:18:26 [scrapy.downloadermiddlewares.redirect] DEBUG: Redirecting (301) to <GET https://www.merriam-webster.com/dictionary/solemn> from <GET https://www.merriam-webster.com/dictionary/Solemn>\n",
      "2020-06-13 13:18:27 [scrapy.core.scraper] DEBUG: Scraped from <200 https://www.merriam-webster.com/dictionary/reserved>\n",
      "{'reserved': ['cautious in words and actions', 'kept for use only by a particular person or group', 'kept or set apart for future or special use', 'kept or set apart or aside for future or special use', 'not openly expressing feelings or opinions', 'restrained in words and actions']}\n"
     ]
    },
    {
     "name": "stdout",
     "output_type": "stream",
     "text": [
      "num of unique defs: 26\n",
      "num of unique defs: 6\n"
     ]
    },
    {
     "name": "stderr",
     "output_type": "stream",
     "text": [
      "2020-06-13 13:18:27 [scrapy.downloadermiddlewares.redirect] DEBUG: Redirecting (301) to <GET https://www.merriam-webster.com/dictionary/soft> from <GET https://www.merriam-webster.com/dictionary/Soft>\n",
      "2020-06-13 13:18:27 [scrapy.downloadermiddlewares.redirect] DEBUG: Redirecting (301) to <GET https://www.merriam-webster.com/dictionary/solitary> from <GET https://www.merriam-webster.com/dictionary/Solitary>\n",
      "2020-06-13 13:18:27 [scrapy.core.engine] DEBUG: Crawled (200) <GET https://www.merriam-webster.com/dictionary/sensual> (referer: None)\n",
      "2020-06-13 13:18:27 [scrapy.core.scraper] DEBUG: Scraped from <200 https://www.merriam-webster.com/dictionary/restrained>\n",
      "{'restrained': []}\n",
      "2020-06-13 13:18:27 [scrapy.core.engine] DEBUG: Crawled (200) <GET https://www.merriam-webster.com/dictionary/skeptical> (referer: None)\n",
      "2020-06-13 13:18:27 [scrapy.core.scraper] DEBUG: Scraped from <200 https://www.merriam-webster.com/dictionary/sensual>\n",
      "{'sensual': ['devoted to or preoccupied with the senses or appetites', 'in moral, spiritual, or intellectual interests', 'or the indulgence of appetite', 'relating to or consisting in the gratification of the', 'relating to or consisting in the gratification of the senses or the indulgence of appetite', 'relating to the pleasing of the senses', 'relating to, devoted to, or producing physical or sexual pleasure']}\n",
      "2020-06-13 13:18:27 [scrapy.core.engine] DEBUG: Crawled (200) <GET https://www.merriam-webster.com/dictionary/self-conscious> (referer: None)\n",
      "2020-06-13 13:18:27 [scrapy.core.scraper] DEBUG: Scraped from <200 https://www.merriam-webster.com/dictionary/skeptical>\n",
      "{'skeptical': []}\n"
     ]
    },
    {
     "name": "stdout",
     "output_type": "stream",
     "text": [
      "num of unique defs: 0\n",
      "num of unique defs: 7\n",
      "num of unique defs: 0\n"
     ]
    },
    {
     "name": "stderr",
     "output_type": "stream",
     "text": [
      "2020-06-13 13:18:27 [scrapy.core.scraper] DEBUG: Scraped from <200 https://www.merriam-webster.com/dictionary/self-conscious>\n",
      "{'self-conscious': ['aware of oneself as an individual', \"conscious of one's own acts or states as belonging to or originating in oneself\", 'done in a deliberate way', 'done in a way that shows an awareness of the effect that is produced', 'feeling uncomfortably nervous or embarrassed when in the presence of or when being observed by other people', 'intensely aware of oneself', 'produced or done with such awareness', 'uncomfortably conscious of oneself as an object of the observation of others', 'uncomfortably nervous about or embarrassed by what other people think about you']}\n",
      "2020-06-13 13:18:27 [scrapy.downloadermiddlewares.redirect] DEBUG: Redirecting (301) to <GET https://www.merriam-webster.com/dictionary/stern> from <GET https://www.merriam-webster.com/dictionary/Stern>\n",
      "2020-06-13 13:18:27 [scrapy.core.engine] DEBUG: Crawled (200) <GET https://www.merriam-webster.com/dictionary/sarcastic> (referer: None)\n",
      "2020-06-13 13:18:27 [scrapy.downloadermiddlewares.redirect] DEBUG: Redirecting (301) to <GET https://www.merriam-webster.com/dictionary/strict> from <GET https://www.merriam-webster.com/dictionary/Strict>\n",
      "2020-06-13 13:18:27 [scrapy.downloadermiddlewares.redirect] DEBUG: Redirecting (301) to <GET https://www.merriam-webster.com/dictionary/stubborn> from <GET https://www.merriam-webster.com/dictionary/Stubborn>\n",
      "2020-06-13 13:18:27 [scrapy.downloadermiddlewares.redirect] DEBUG: Redirecting (301) to <GET https://www.merriam-webster.com/dictionary/stylish> from <GET https://www.merriam-webster.com/dictionary/Stylish>\n"
     ]
    },
    {
     "name": "stdout",
     "output_type": "stream",
     "text": [
      "num of unique defs: 9\n"
     ]
    },
    {
     "name": "stderr",
     "output_type": "stream",
     "text": [
      "2020-06-13 13:18:27 [scrapy.downloadermiddlewares.redirect] DEBUG: Redirecting (301) to <GET https://www.merriam-webster.com/dictionary/subjective> from <GET https://www.merriam-webster.com/dictionary/Subjective>\n",
      "2020-06-13 13:18:27 [scrapy.core.scraper] DEBUG: Scraped from <200 https://www.merriam-webster.com/dictionary/sarcastic>\n",
      "{'sarcastic': ['being in the habit of using sarcasm', 'given to the use of sarcasm', 'having the character of', 'showing sarcasm', 'using or showing sarcasm']}\n",
      "2020-06-13 13:18:27 [scrapy.core.engine] DEBUG: Crawled (404) <GET https://www.merriam-webster.com/dictionary/Stoiid> (referer: None)\n",
      "2020-06-13 13:18:27 [scrapy.downloadermiddlewares.redirect] DEBUG: Redirecting (301) to <GET https://www.merriam-webster.com/dictionary/soft> from <GET https://www.merriam-webster.com/dictionary/Soft>\n",
      "2020-06-13 13:18:27 [scrapy.spidermiddlewares.httperror] INFO: Ignoring response <404 https://www.merriam-webster.com/dictionary/Stoiid>: HTTP status code is not handled or not allowed\n"
     ]
    },
    {
     "name": "stdout",
     "output_type": "stream",
     "text": [
      "num of unique defs: 5\n"
     ]
    },
    {
     "name": "stderr",
     "output_type": "stream",
     "text": [
      "2020-06-13 13:18:28 [scrapy.downloadermiddlewares.redirect] DEBUG: Redirecting (301) to <GET https://www.merriam-webster.com/dictionary/surprising> from <GET https://www.merriam-webster.com/dictionary/Surprising>\n",
      "2020-06-13 13:18:28 [scrapy.downloadermiddlewares.redirect] DEBUG: Redirecting (301) to <GET https://www.merriam-webster.com/dictionary/unaggressive> from <GET https://www.merriam-webster.com/dictionary/Unaggressive>\n",
      "2020-06-13 13:18:28 [scrapy.downloadermiddlewares.redirect] DEBUG: Redirecting (301) to <GET https://www.merriam-webster.com/dictionary/unambitious> from <GET https://www.merriam-webster.com/dictionary/Unambitious>\n",
      "2020-06-13 13:18:28 [scrapy.downloadermiddlewares.redirect] DEBUG: Redirecting (301) to <GET https://www.merriam-webster.com/dictionary/tough> from <GET https://www.merriam-webster.com/dictionary/Tough>\n",
      "2020-06-13 13:18:28 [scrapy.core.engine] DEBUG: Crawled (200) <GET https://www.merriam-webster.com/dictionary/strict> (referer: None)\n",
      "2020-06-13 13:18:28 [scrapy.core.engine] DEBUG: Crawled (200) <GET https://www.merriam-webster.com/dictionary/soft> (referer: None)\n",
      "2020-06-13 13:18:28 [scrapy.core.engine] DEBUG: Crawled (200) <GET https://www.merriam-webster.com/dictionary/subjective> (referer: None)\n",
      "2020-06-13 13:18:28 [scrapy.core.engine] DEBUG: Crawled (200) <GET https://www.merriam-webster.com/dictionary/soft> (referer: None)\n",
      "2020-06-13 13:18:28 [scrapy.core.engine] DEBUG: Crawled (200) <GET https://www.merriam-webster.com/dictionary/solemn> (referer: None)\n",
      "2020-06-13 13:18:28 [scrapy.core.scraper] DEBUG: Scraped from <200 https://www.merriam-webster.com/dictionary/strict>\n",
      "{'strict': ['carefully obeying the rules or principles of a religion or a particular way of life', 'carefully observing something (as a rule or principle)', 'characterized by narrowness', 'demanding that people obey rules or behave in a certain way', 'firm or rigid in requirement or control', 'in requirement or control', 'inflexibly maintained or adhered to', 'kept with great care', 'not demonstrating a broad or liberal view', 'not requiring fault', 'not to be avoided or ignored', 'of narrow erect habit of growth', 'requiring obedience', 'rigorously conforming to a principle or norm or condition', 'rigorously conforming to principle or a norm or condition', 'severe in discipline', 'strongly enforcing rules and discipline']}\n"
     ]
    },
    {
     "name": "stdout",
     "output_type": "stream",
     "text": [
      "num of unique defs: 17\n"
     ]
    },
    {
     "name": "stderr",
     "output_type": "stream",
     "text": [
      "2020-06-13 13:18:28 [scrapy.core.scraper] DEBUG: Scraped from <200 https://www.merriam-webster.com/dictionary/soft>\n",
      "{'soft': ['a soft object, material, or part', 'amorously attracted or emotionally involved', 'and', 'balmy, mild, or clement in weather or temperature', 'based on negotiation, conciliation, or flexibility rather than on force, threats, or intransigence', 'being low due to sluggish market conditions', 'being or based on interpretive or speculative data', 'being or using renewable sources of energy (such as solar radiation, wind, or tides)', 'bringing ease, comfort, or quiet', 'capable of being spread', 'considered less detrimental than a hard narcotic', 'constituting a vowel before which there is a \\\\y\\\\ sound or a \\\\y\\\\-like modification of a consonant or constituting a consonant in whose articulation there is a \\\\y\\\\-like modification or which is followed by a \\\\y\\\\ sound (as in Russian)', 'contributed (as by a corporation) to a political party rather than directly to a particular candidate', 'deficient in or free from substances (as calcium and magnesium salts) that prevent lathering of soap', 'deficient in or free from substances (such as calcium and magnesium salts) that prevent lathering of soap', 'demanding little work or effort', 'easily affected by emotions', 'easily magnetized and demagnetized', 'easily polarized', 'easy to press, bend, cut, etc.', 'emotionally suggestible or responsive', 'free from substances that prevent lathering of soap', 'having a bland or mellow rather than a sharp or acid taste', 'having a liquid or gentle appearance', 'having a soothing or comfortable effect', 'having a very light color', 'having curved or rounded outline', 'having or producing little contrast or a relatively short range of tones', 'having relatively low energy', 'in', 'in a soft or gentle manner', 'in a soft or gentle way', 'in a way that is not strong or forceful', 'involving little work or effort', 'lacking firmness or strength of character', 'lacking in strength or fitness', 'lacking relatively or comparatively in hardness', 'lacking robust strength, stamina, or endurance especially because of living in ease or luxury', 'marked by a gentleness, kindness, or tenderness: such as', 'marked by mildness', 'moving in a leisurely manner', 'moving or falling with slight force or impact', 'not bright or glaring', 'not containing alcohol', 'not firmly committed', 'not hard or firm', 'not hard, solid, or firm', 'not harsh or jagged', 'not harsh or onerous in character', 'not protected against enemy attack', 'not readily convertible', 'not secured by collateral', 'not strong or bright in color or tone', 'not strong or forceful', 'not violent', 'occurring at such a speed and under such circumstances as to avoid destructive impact', 'of a consistency that may be shaped or molded', 'or the letter', 'permitting someone or something to sink in', 'pleasing or agreeable to the senses', 'quiet in pitch or volume', 'relatively less serious or significant', 'respectively', 'rising gradually', 'smooth and pleasant to touch', 'smooth or delicate in texture, grain, or fiber', 'smooth or pleasant to touch', 'sounding as in', 'sounding like the letter', 'sympathetic and kind', 'tending to ingratiate or disarm', 'tending to take a soft line', 'unduly susceptible to influence', 'utilizing or based on soft data', 'weak or deficient mentally', 'yielding to physical pressure']}\n",
      "2020-06-13 13:18:28 [scrapy.downloadermiddlewares.redirect] DEBUG: Redirecting (301) to <GET https://www.merriam-webster.com/dictionary/unceremonious> from <GET https://www.merriam-webster.com/dictionary/Unceremonious>\n",
      "2020-06-13 13:18:28 [scrapy.core.engine] DEBUG: Crawled (200) <GET https://www.merriam-webster.com/dictionary/solitary> (referer: None)\n",
      "2020-06-13 13:18:28 [scrapy.core.engine] DEBUG: Crawled (200) <GET https://www.merriam-webster.com/dictionary/smooth> (referer: None)\n",
      "2020-06-13 13:18:28 [scrapy.core.scraper] DEBUG: Scraped from <200 https://www.merriam-webster.com/dictionary/subjective>\n",
      "{'subjective': ['arising from conditions within the brain or sense organs and not directly caused by external', 'arising from conditions within the brain or sense organs and not directly caused by external stimuli', \"arising out of or identified by means of one's perception of one's own states and processes\", \"arising out of or identified by means of one's perception of one's own states and processes and not observable by an examiner\", 'based mainly on opinions or feelings rather than on facts', 'based on feelings or opinions rather than facts', 'being of that which has substance, qualities, attributes, or relations', 'being or relating to a grammatical subject', 'characteristic of or belonging to reality as perceived rather than as independent of mind', 'lacking in reality or substance', 'modified or affected by personal views, experience, or background', 'of experience', 'of or relating to the', 'of, relating to, or characteristic of one that is a subject especially in lack of freedom of action or in submissiveness', 'of, relating to, or constituting a subject: such as', 'relating to nouns, noun phrases, or pronouns that are the subjects of verbs', 'relating to or being experience or knowledge as conditioned by personal mental characteristics or states', 'relating to or determined by the mind as the', 'relating to the way a person experiences things in his or her own mind', 'something that is', 'to a particular individual']}\n",
      "2020-06-13 13:18:28 [scrapy.core.engine] DEBUG: Crawled (200) <GET https://www.merriam-webster.com/dictionary/stern> (referer: None)\n",
      "2020-06-13 13:18:28 [scrapy.downloadermiddlewares.redirect] DEBUG: Redirecting (301) to <GET https://www.merriam-webster.com/dictionary/unchanging> from <GET https://www.merriam-webster.com/dictionary/Unchanging>\n"
     ]
    },
    {
     "name": "stdout",
     "output_type": "stream",
     "text": [
      "num of unique defs: 76\n",
      "num of unique defs: 21\n"
     ]
    },
    {
     "name": "stderr",
     "output_type": "stream",
     "text": [
      "2020-06-13 13:18:29 [scrapy.core.scraper] DEBUG: Scraped from <200 https://www.merriam-webster.com/dictionary/soft>\n",
      "{'soft': ['a soft object, material, or part', 'amorously attracted or emotionally involved', 'and', 'balmy, mild, or clement in weather or temperature', 'based on negotiation, conciliation, or flexibility rather than on force, threats, or intransigence', 'being low due to sluggish market conditions', 'being or based on interpretive or speculative data', 'being or using renewable sources of energy (such as solar radiation, wind, or tides)', 'bringing ease, comfort, or quiet', 'capable of being spread', 'considered less detrimental than a hard narcotic', 'constituting a vowel before which there is a \\\\y\\\\ sound or a \\\\y\\\\-like modification of a consonant or constituting a consonant in whose articulation there is a \\\\y\\\\-like modification or which is followed by a \\\\y\\\\ sound (as in Russian)', 'contributed (as by a corporation) to a political party rather than directly to a particular candidate', 'deficient in or free from substances (as calcium and magnesium salts) that prevent lathering of soap', 'deficient in or free from substances (such as calcium and magnesium salts) that prevent lathering of soap', 'demanding little work or effort', 'easily affected by emotions', 'easily magnetized and demagnetized', 'easily polarized', 'easy to press, bend, cut, etc.', 'emotionally suggestible or responsive', 'free from substances that prevent lathering of soap', 'having a bland or mellow rather than a sharp or acid taste', 'having a liquid or gentle appearance', 'having a soothing or comfortable effect', 'having a very light color', 'having curved or rounded outline', 'having or producing little contrast or a relatively short range of tones', 'having relatively low energy', 'in', 'in a soft or gentle manner', 'in a soft or gentle way', 'in a way that is not strong or forceful', 'involving little work or effort', 'lacking firmness or strength of character', 'lacking in strength or fitness', 'lacking relatively or comparatively in hardness', 'lacking robust strength, stamina, or endurance especially because of living in ease or luxury', 'marked by a gentleness, kindness, or tenderness: such as', 'marked by mildness', 'moving in a leisurely manner', 'moving or falling with slight force or impact', 'not bright or glaring', 'not containing alcohol', 'not firmly committed', 'not hard or firm', 'not hard, solid, or firm', 'not harsh or jagged', 'not harsh or onerous in character', 'not protected against enemy attack', 'not readily convertible', 'not secured by collateral', 'not strong or bright in color or tone', 'not strong or forceful', 'not violent', 'occurring at such a speed and under such circumstances as to avoid destructive impact', 'of a consistency that may be shaped or molded', 'or the letter', 'permitting someone or something to sink in', 'pleasing or agreeable to the senses', 'quiet in pitch or volume', 'relatively less serious or significant', 'respectively', 'rising gradually', 'smooth and pleasant to touch', 'smooth or delicate in texture, grain, or fiber', 'smooth or pleasant to touch', 'sounding as in', 'sounding like the letter', 'sympathetic and kind', 'tending to ingratiate or disarm', 'tending to take a soft line', 'unduly susceptible to influence', 'utilizing or based on soft data', 'weak or deficient mentally', 'yielding to physical pressure']}\n",
      "2020-06-13 13:18:29 [scrapy.core.scraper] DEBUG: Scraped from <200 https://www.merriam-webster.com/dictionary/solemn>\n",
      "{'solemn': ['awe-inspiring', 'celebrated with full liturgical ceremony', 'done or made seriously and thoughtfully', 'done or made sincerely', 'marked by grave sedateness and', 'marked by the', 'marked by the observance of established form or ceremony', 'of a religious', 'sad and serious', 'sobriety', 'very serious or formal in manner, behavior, or expression']}\n",
      "2020-06-13 13:18:29 [scrapy.core.engine] DEBUG: Crawled (200) <GET https://www.merriam-webster.com/dictionary/stylish> (referer: None)\n",
      "2020-06-13 13:18:29 [scrapy.core.engine] DEBUG: Crawled (200) <GET https://www.merriam-webster.com/dictionary/stubborn> (referer: None)\n"
     ]
    },
    {
     "name": "stdout",
     "output_type": "stream",
     "text": [
      "num of unique defs: 76\n",
      "num of unique defs: 11\n"
     ]
    },
    {
     "name": "stderr",
     "output_type": "stream",
     "text": [
      "2020-06-13 13:18:29 [scrapy.core.scraper] DEBUG: Scraped from <200 https://www.merriam-webster.com/dictionary/solitary>\n",
      "{'solitary': ['all alone', 'being at once single and isolated', 'being, living, or going alone or without companions', 'done by a person who is alone', 'growing or living alone', 'keeping a prisoner apart from others', 'not gregarious, colonial, social, or compound', 'not involving or including anyone or anything else', 'not one of a group or cluster', 'occurring singly and not as part of a group', 'occurring singly and not as part of a group or cluster', 'one who lives or seeks to live a solitary life', 'saddened by isolation', 'seldom visited', 'separate from other people or things', 'solitary confinement in prison', 'taken, passed, or performed without companions', 'without anyone or anything else']}\n",
      "2020-06-13 13:18:29 [scrapy.core.engine] DEBUG: Crawled (200) <GET https://www.merriam-webster.com/dictionary/surprising> (referer: None)\n",
      "2020-06-13 13:18:29 [scrapy.core.scraper] DEBUG: Scraped from <200 https://www.merriam-webster.com/dictionary/smooth>\n",
      "{'smooth': ['a smooth part', 'a smoothing implement', 'appearing to be friendly and flattering without really meaning it', 'being the representation of a function with a continuous first derivative', 'being without hair', 'causing no resistance to sliding', 'even and uninterrupted in flow or flight', 'excessively and often artfully suave', 'forming or being a colony with a flat shiny surface usually made up of organisms that form no chains or filaments, show characteristic internal changes, and tend toward marked increase in capsule formation and virulence', 'free from difficulties or impediments', 'free from difficulties or things in the way', 'free from lumps', 'happening or done without any problems', 'having a continuous even surface', 'having a flat, even surface', 'having or being a short even coat of hair', 'make smooth', 'mixed together so there are no lumps', 'moving or progressing without breaks, sudden changes, or shifts', 'not hairy', 'not having any bumps, ridges, or uneven parts', 'not having any lumps', 'not rough', 'not rough or uneven in surface', 'not sharp or harsh', 'the act of', 'to apply (something) by rubbing it on a surface', 'to become smooth', 'to cause to lie evenly and in order', 'to free (a graph, a collection of data, etc.) from irregularities', 'to free from obstruction or difficulty', 'to free from trouble or difficulty', 'to free from what is harsh or disagreeable', 'to make (something) smooth', 'to make smooth', 'to minimize (something, such as a fault) especially in order to allay anger or ill will', 'to press flat', 'to remove bumps, lumps, or wrinkles', \"to remove expression from (one's face)\", 'to remove problems or difficulties from a situation', 'to spread (something) over a surface (such as your skin)']}\n",
      "2020-06-13 13:18:29 [scrapy.core.scraper] DEBUG: Scraped from <200 https://www.merriam-webster.com/dictionary/stern>\n",
      "{'stern': ['Isaac 1920–2001 American (Russian-born) violinist', 'Otto 1888–1969 American (German-born) physicist', 'a hinder or rear part', 'expressing strong disapproval or criticism', 'expressive of severe displeasure', 'firm and not changeable', 'forbidding or gloomy in appearance', 'hard and severe in nature or manner', 'having a definite hardness or severity of nature or manner', 'not likely to change or become weaker', 'showing severe displeasure or disapproval', 'the back part of a boat or ship', 'the last or latter part', 'the rear end of a boat', 'very serious especially in an unfriendly way', 'very strict and serious']}\n",
      "2020-06-13 13:18:29 [scrapy.core.scraper] DEBUG: Scraped from <200 https://www.merriam-webster.com/dictionary/stylish>\n",
      "{'stylish': []}\n"
     ]
    },
    {
     "name": "stdout",
     "output_type": "stream",
     "text": [
      "num of unique defs: 18\n",
      "num of unique defs: 41\n",
      "num of unique defs: 16\n",
      "num of unique defs: 0\n",
      "num of unique defs: 9"
     ]
    },
    {
     "name": "stderr",
     "output_type": "stream",
     "text": [
      "2020-06-13 13:18:29 [scrapy.core.scraper] DEBUG: Scraped from <200 https://www.merriam-webster.com/dictionary/stubborn>\n",
      "{'stubborn': [', or persistent manner', 'difficult to deal with, remove, etc.', 'difficult to handle, manage, or treat', 'justifiably unyielding', 'performed or carried on in an unyielding,', 'refusing to change an opinion or course of action in spite of difficulty or urging', 'refusing to change your ideas or to stop doing something', 'suggestive or typical of a strong stubborn nature', 'unreasonably or perversely unyielding']}\n",
      "2020-06-13 13:18:29 [scrapy.core.scraper] DEBUG: Scraped from <200 https://www.merriam-webster.com/dictionary/surprising>\n",
      "{'surprising': []}\n",
      "2020-06-13 13:18:29 [scrapy.core.engine] DEBUG: Crawled (200) <GET https://www.merriam-webster.com/dictionary/unambitious> (referer: None)\n",
      "2020-06-13 13:18:29 [scrapy.downloadermiddlewares.redirect] DEBUG: Redirecting (301) to <GET https://www.merriam-webster.com/dictionary/undemanding> from <GET https://www.merriam-webster.com/dictionary/Undemanding>\n",
      "2020-06-13 13:18:29 [scrapy.core.engine] DEBUG: Crawled (200) <GET https://www.merriam-webster.com/dictionary/unaggressive> (referer: None)\n",
      "2020-06-13 13:18:29 [scrapy.downloadermiddlewares.redirect] DEBUG: Redirecting (301) to <GET https://www.merriam-webster.com/dictionary/unfathomable> from <GET https://www.merriam-webster.com/dictionary/Unfathomable>\n",
      "2020-06-13 13:18:29 [scrapy.downloadermiddlewares.redirect] DEBUG: Redirecting (301) to <GET https://www.merriam-webster.com/dictionary/unhurried> from <GET https://www.merriam-webster.com/dictionary/Unhurried>\n"
     ]
    },
    {
     "name": "stdout",
     "output_type": "stream",
     "text": [
      "\n",
      "num of unique defs: 0\n"
     ]
    },
    {
     "name": "stderr",
     "output_type": "stream",
     "text": [
      "2020-06-13 13:18:29 [scrapy.downloadermiddlewares.redirect] DEBUG: Redirecting (301) to <GET https://www.merriam-webster.com/dictionary/uninhibited> from <GET https://www.merriam-webster.com/dictionary/Uninhibited>\n",
      "2020-06-13 13:18:29 [scrapy.core.scraper] DEBUG: Scraped from <200 https://www.merriam-webster.com/dictionary/unambitious>\n",
      "{'unambitious': []}\n",
      "2020-06-13 13:18:29 [scrapy.core.scraper] DEBUG: Scraped from <200 https://www.merriam-webster.com/dictionary/unaggressive>\n",
      "{'unaggressive': []}\n",
      "2020-06-13 13:18:29 [scrapy.core.engine] DEBUG: Crawled (200) <GET https://www.merriam-webster.com/dictionary/tough> (referer: None)\n",
      "2020-06-13 13:18:29 [scrapy.downloadermiddlewares.redirect] DEBUG: Redirecting (301) to <GET https://www.merriam-webster.com/dictionary/unpatriotic> from <GET https://www.merriam-webster.com/dictionary/Unpatriotic>\n"
     ]
    },
    {
     "name": "stdout",
     "output_type": "stream",
     "text": [
      "num of unique defs: 0\n",
      "num of unique defs: 0\n"
     ]
    },
    {
     "name": "stderr",
     "output_type": "stream",
     "text": [
      "2020-06-13 13:18:30 [scrapy.core.scraper] DEBUG: Scraped from <200 https://www.merriam-webster.com/dictionary/tough>\n",
      "{'tough': [')', ', endure, or deal with', 'a tough and violent person', 'able to do hard work, to deal with harsh conditions, etc.', 'capable of enduring strain, hardship, or severe labor', 'characterized by severity or', 'determination', 'difficult to accomplish,', 'in a tough manner (see', 'in a way that shows that you are strong or tough', 'marked by', 'not easily chewed', 'of softness or sentimentality', 'physically and emotionally strong', 'physically or emotionally strong enough to put up with strain or hardship', 'physically strong and violent', 'strong or firm but flexible and not brittle', 'strong or firm in texture but flexible and not', 'stubbornly fought', 'to bear unflinchingly', 'very difficult to do or deal with', 'very hard to influence', 'very strict, firm, or determined']}\n",
      "2020-06-13 13:18:30 [scrapy.downloadermiddlewares.redirect] DEBUG: Redirecting (301) to <GET https://www.merriam-webster.com/dictionary/unsentimental> from <GET https://www.merriam-webster.com/dictionary/Unsentimental>\n",
      "2020-06-13 13:18:30 [scrapy.downloadermiddlewares.redirect] DEBUG: Redirecting (301) to <GET https://www.merriam-webster.com/dictionary/unreligious> from <GET https://www.merriam-webster.com/dictionary/Unreligious>\n",
      "2020-06-13 13:18:30 [scrapy.core.engine] DEBUG: Crawled (200) <GET https://www.merriam-webster.com/dictionary/unchanging> (referer: None)\n"
     ]
    },
    {
     "name": "stdout",
     "output_type": "stream",
     "text": [
      "num of unique defs: 23\n"
     ]
    },
    {
     "name": "stderr",
     "output_type": "stream",
     "text": [
      "2020-06-13 13:18:30 [scrapy.core.scraper] DEBUG: Scraped from <200 https://www.merriam-webster.com/dictionary/unchanging>\n",
      "{'unchanging': []}\n",
      "2020-06-13 13:18:30 [scrapy.downloadermiddlewares.redirect] DEBUG: Redirecting (301) to <GET https://www.merriam-webster.com/dictionary/whimsical> from <GET https://www.merriam-webster.com/dictionary/Whimsical>\n",
      "2020-06-13 13:18:30 [scrapy.core.engine] DEBUG: Crawled (200) <GET https://www.merriam-webster.com/dictionary/unfathomable> (referer: None)\n",
      "2020-06-13 13:18:30 [scrapy.core.engine] DEBUG: Crawled (200) <GET https://www.merriam-webster.com/dictionary/unceremonious> (referer: None)\n",
      "2020-06-13 13:18:30 [scrapy.core.engine] DEBUG: Crawled (404) <GET https://www.merriam-webster.com/dictionary/Unpredicatable> (referer: None)\n"
     ]
    },
    {
     "name": "stdout",
     "output_type": "stream",
     "text": [
      "num of unique defs: 0\n"
     ]
    },
    {
     "name": "stderr",
     "output_type": "stream",
     "text": [
      "2020-06-13 13:18:30 [scrapy.core.engine] DEBUG: Crawled (200) <GET https://www.merriam-webster.com/dictionary/undemanding> (referer: None)\n",
      "2020-06-13 13:18:30 [scrapy.core.scraper] DEBUG: Scraped from <200 https://www.merriam-webster.com/dictionary/unfathomable>\n",
      "{'unfathomable': []}\n",
      "2020-06-13 13:18:30 [scrapy.core.scraper] DEBUG: Scraped from <200 https://www.merriam-webster.com/dictionary/unceremonious>\n",
      "{'unceremonious': ['happening or done very suddenly and quickly with no effort to be careful or polite', 'not ceremonious']}\n",
      "2020-06-13 13:18:30 [scrapy.spidermiddlewares.httperror] INFO: Ignoring response <404 https://www.merriam-webster.com/dictionary/Unpredicatable>: HTTP status code is not handled or not allowed\n",
      "2020-06-13 13:18:30 [scrapy.core.scraper] DEBUG: Scraped from <200 https://www.merriam-webster.com/dictionary/undemanding>\n",
      "{'undemanding': []}\n",
      "2020-06-13 13:18:30 [scrapy.core.engine] DEBUG: Crawled (200) <GET https://www.merriam-webster.com/dictionary/unhurried> (referer: None)\n"
     ]
    },
    {
     "name": "stdout",
     "output_type": "stream",
     "text": [
      "num of unique defs: 0\n",
      "num of unique defs: 2\n",
      "num of unique defs: 0\n"
     ]
    },
    {
     "name": "stderr",
     "output_type": "stream",
     "text": [
      "2020-06-13 13:18:30 [scrapy.core.scraper] DEBUG: Scraped from <200 https://www.merriam-webster.com/dictionary/unhurried>\n",
      "{'unhurried': []}\n",
      "2020-06-13 13:18:30 [scrapy.core.engine] DEBUG: Crawled (200) <GET https://www.merriam-webster.com/dictionary/uninhibited> (referer: None)\n",
      "2020-06-13 13:18:30 [scrapy.core.scraper] DEBUG: Scraped from <200 https://www.merriam-webster.com/dictionary/uninhibited>\n",
      "{'uninhibited': []}\n",
      "2020-06-13 13:18:30 [scrapy.core.engine] DEBUG: Crawled (200) <GET https://www.merriam-webster.com/dictionary/unpatriotic> (referer: None)\n"
     ]
    },
    {
     "name": "stdout",
     "output_type": "stream",
     "text": [
      "num of unique defs: 0\n",
      "num of unique defs: 0\n"
     ]
    },
    {
     "name": "stderr",
     "output_type": "stream",
     "text": [
      "2020-06-13 13:18:31 [scrapy.core.scraper] DEBUG: Scraped from <200 https://www.merriam-webster.com/dictionary/unpatriotic>\n",
      "{'unpatriotic': []}\n",
      "2020-06-13 13:18:31 [scrapy.core.engine] DEBUG: Crawled (200) <GET https://www.merriam-webster.com/dictionary/whimsical> (referer: None)\n",
      "2020-06-13 13:18:31 [scrapy.core.engine] DEBUG: Crawled (200) <GET https://www.merriam-webster.com/dictionary/unreligious> (referer: None)\n",
      "2020-06-13 13:18:31 [scrapy.core.engine] DEBUG: Crawled (200) <GET https://www.merriam-webster.com/dictionary/unsentimental> (referer: None)\n",
      "2020-06-13 13:18:31 [scrapy.core.scraper] DEBUG: Scraped from <200 https://www.merriam-webster.com/dictionary/whimsical>\n",
      "{'whimsical': ['behavior or unpredictable change', 'full of whims', 'full of, actuated by, or exhibiting', 'lightly fanciful', 'not serious', 'resulting from or characterized by whim or', 'subject to', 'unusual in a playful or amusing way']}\n"
     ]
    },
    {
     "name": "stdout",
     "output_type": "stream",
     "text": [
      "num of unique defs: 0\n",
      "num of unique defs: 8\n"
     ]
    },
    {
     "name": "stderr",
     "output_type": "stream",
     "text": [
      "2020-06-13 13:18:31 [scrapy.core.scraper] DEBUG: Scraped from <200 https://www.merriam-webster.com/dictionary/unreligious>\n",
      "{'unreligious': ['having no connection with or relation to religion', 'involving no religious import or idea']}\n",
      "2020-06-13 13:18:31 [scrapy.core.scraper] DEBUG: Scraped from <200 https://www.merriam-webster.com/dictionary/unsentimental>\n",
      "{'unsentimental': []}\n",
      "2020-06-13 13:18:31 [scrapy.core.engine] INFO: Closing spider (finished)\n",
      "2020-06-13 13:18:31 [scrapy.extensions.feedexport] INFO: Stored json feed (106 items) in: ../data/neut_traits_definitions.json\n",
      "2020-06-13 13:18:31 [scrapy.statscollectors] INFO: Dumping Scrapy stats:\n",
      "{'downloader/request_bytes': 51705,\n",
      " 'downloader/request_count': 213,\n",
      " 'downloader/request_method_count/GET': 213,\n",
      " 'downloader/response_bytes': 2291109,\n",
      " 'downloader/response_count': 213,\n",
      " 'downloader/response_status_count/200': 106,\n",
      " 'downloader/response_status_count/301': 101,\n",
      " 'downloader/response_status_count/404': 6,\n",
      " 'elapsed_time_seconds': 16.137168,\n",
      " 'finish_reason': 'finished',\n",
      " 'finish_time': datetime.datetime(2020, 6, 13, 5, 18, 31, 348474),\n",
      " 'httperror/response_ignored_count': 6,\n",
      " 'httperror/response_ignored_status_count/404': 6,\n",
      " 'item_scraped_count': 106,\n",
      " 'log_count/DEBUG': 319,\n",
      " 'log_count/INFO': 17,\n",
      " 'response_received_count': 112,\n",
      " 'scheduler/dequeued': 213,\n",
      " 'scheduler/dequeued/memory': 213,\n",
      " 'scheduler/enqueued': 213,\n",
      " 'scheduler/enqueued/memory': 213,\n",
      " 'start_time': datetime.datetime(2020, 6, 13, 5, 18, 15, 211306)}\n",
      "2020-06-13 13:18:31 [scrapy.core.engine] INFO: Spider closed (finished)\n"
     ]
    },
    {
     "name": "stdout",
     "output_type": "stream",
     "text": [
      "num of unique defs: 2\n",
      "num of unique defs: 0\n"
     ]
    }
   ],
   "source": [
    "def main():\n",
    "    process = CrawlerProcess(settings={\n",
    "        \"FEEDS\": {\n",
    "            \"../data/neut_traits_definitions.json\": {\"format\": \"json\"},\n",
    "        },\n",
    "    })\n",
    "\n",
    "    process.crawl(DefinitionSpider)\n",
    "    process.start()  # the script will block here until the crawling is finished\n",
    "    \n",
    "if __name__ == '__main__':\n",
    "    main()"
   ]
  },
  {
   "cell_type": "code",
   "execution_count": null,
   "metadata": {},
   "outputs": [],
   "source": []
  }
 ],
 "metadata": {
  "kernelspec": {
   "display_name": "fyp",
   "language": "python",
   "name": "fyp"
  },
  "language_info": {
   "codemirror_mode": {
    "name": "ipython",
    "version": 3
   },
   "file_extension": ".py",
   "mimetype": "text/x-python",
   "name": "python",
   "nbconvert_exporter": "python",
   "pygments_lexer": "ipython3",
   "version": "3.7.4"
  }
 },
 "nbformat": 4,
 "nbformat_minor": 4
}
