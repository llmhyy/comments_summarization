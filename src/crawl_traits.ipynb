{
 "cells": [
  {
   "cell_type": "code",
   "execution_count": 1,
   "metadata": {},
   "outputs": [],
   "source": [
    "import scrapy\n",
    "from scrapy.crawler import CrawlerProcess\n",
    "import re\n",
    "import json"
   ]
  },
  {
   "cell_type": "code",
   "execution_count": 2,
   "metadata": {},
   "outputs": [],
   "source": [
    "# extract set of traits (adjectives) from mit ideonomy website."
   ]
  },
  {
   "cell_type": "code",
   "execution_count": 3,
   "metadata": {},
   "outputs": [],
   "source": [
    "class TraitsSpider(scrapy.Spider):   \n",
    "    name = 'traits_spider'\n",
    "    start_urls = [f'http://ideonomy.mit.edu/essays/traits.html']\n",
    "\n",
    "    def parse(self, response):\n",
    "        url = response.url\n",
    "        global blob\n",
    "        blob = response.xpath('//ol')\n",
    "        print(blob)"
   ]
  },
  {
   "cell_type": "code",
   "execution_count": 4,
   "metadata": {},
   "outputs": [
    {
     "name": "stderr",
     "output_type": "stream",
     "text": [
      "2020-06-09 23:26:36 [scrapy.utils.log] INFO: Scrapy 2.1.0 started (bot: scrapybot)\n",
      "2020-06-09 23:26:36 [scrapy.utils.log] INFO: Versions: lxml 4.5.1.0, libxml2 2.9.5, cssselect 1.1.0, parsel 1.6.0, w3lib 1.22.0, Twisted 20.3.0, Python 3.7.4 (default, Aug  9 2019, 18:34:13) [MSC v.1915 64 bit (AMD64)], pyOpenSSL 19.1.0 (OpenSSL 1.1.1g  21 Apr 2020), cryptography 2.9.2, Platform Windows-10-10.0.17763-SP0\n",
      "2020-06-09 23:26:36 [scrapy.utils.log] DEBUG: Using reactor: twisted.internet.selectreactor.SelectReactor\n",
      "2020-06-09 23:26:36 [scrapy.crawler] INFO: Overridden settings:\n",
      "{}\n",
      "2020-06-09 23:26:36 [scrapy.extensions.telnet] INFO: Telnet Password: aa97af7f0a2f3ef6\n",
      "2020-06-09 23:26:36 [scrapy.middleware] INFO: Enabled extensions:\n",
      "['scrapy.extensions.corestats.CoreStats',\n",
      " 'scrapy.extensions.telnet.TelnetConsole',\n",
      " 'scrapy.extensions.feedexport.FeedExporter',\n",
      " 'scrapy.extensions.logstats.LogStats']\n",
      "2020-06-09 23:26:36 [scrapy.middleware] INFO: Enabled downloader middlewares:\n",
      "['scrapy.downloadermiddlewares.httpauth.HttpAuthMiddleware',\n",
      " 'scrapy.downloadermiddlewares.downloadtimeout.DownloadTimeoutMiddleware',\n",
      " 'scrapy.downloadermiddlewares.defaultheaders.DefaultHeadersMiddleware',\n",
      " 'scrapy.downloadermiddlewares.useragent.UserAgentMiddleware',\n",
      " 'scrapy.downloadermiddlewares.retry.RetryMiddleware',\n",
      " 'scrapy.downloadermiddlewares.redirect.MetaRefreshMiddleware',\n",
      " 'scrapy.downloadermiddlewares.httpcompression.HttpCompressionMiddleware',\n",
      " 'scrapy.downloadermiddlewares.redirect.RedirectMiddleware',\n",
      " 'scrapy.downloadermiddlewares.cookies.CookiesMiddleware',\n",
      " 'scrapy.downloadermiddlewares.httpproxy.HttpProxyMiddleware',\n",
      " 'scrapy.downloadermiddlewares.stats.DownloaderStats']\n",
      "2020-06-09 23:26:36 [scrapy.middleware] INFO: Enabled spider middlewares:\n",
      "['scrapy.spidermiddlewares.httperror.HttpErrorMiddleware',\n",
      " 'scrapy.spidermiddlewares.offsite.OffsiteMiddleware',\n",
      " 'scrapy.spidermiddlewares.referer.RefererMiddleware',\n",
      " 'scrapy.spidermiddlewares.urllength.UrlLengthMiddleware',\n",
      " 'scrapy.spidermiddlewares.depth.DepthMiddleware']\n",
      "2020-06-09 23:26:36 [scrapy.middleware] INFO: Enabled item pipelines:\n",
      "[]\n",
      "2020-06-09 23:26:36 [scrapy.core.engine] INFO: Spider opened\n",
      "2020-06-09 23:26:36 [scrapy.extensions.logstats] INFO: Crawled 0 pages (at 0 pages/min), scraped 0 items (at 0 items/min)\n",
      "2020-06-09 23:26:36 [scrapy.extensions.telnet] INFO: Telnet console listening on 127.0.0.1:6023\n",
      "2020-06-09 23:26:37 [scrapy.core.engine] DEBUG: Crawled (200) <GET http://ideonomy.mit.edu/essays/traits.html> (referer: None)\n",
      "2020-06-09 23:26:37 [scrapy.core.engine] INFO: Closing spider (finished)\n",
      "2020-06-09 23:26:37 [scrapy.statscollectors] INFO: Dumping Scrapy stats:\n",
      "{'downloader/request_bytes': 234,\n",
      " 'downloader/request_count': 1,\n",
      " 'downloader/request_method_count/GET': 1,\n",
      " 'downloader/response_bytes': 13963,\n",
      " 'downloader/response_count': 1,\n",
      " 'downloader/response_status_count/200': 1,\n",
      " 'elapsed_time_seconds': 0.97396,\n",
      " 'finish_reason': 'finished',\n",
      " 'finish_time': datetime.datetime(2020, 6, 9, 15, 26, 37, 683698),\n",
      " 'log_count/DEBUG': 1,\n",
      " 'log_count/INFO': 10,\n",
      " 'response_received_count': 1,\n",
      " 'scheduler/dequeued': 1,\n",
      " 'scheduler/dequeued/memory': 1,\n",
      " 'scheduler/enqueued': 1,\n",
      " 'scheduler/enqueued/memory': 1,\n",
      " 'start_time': datetime.datetime(2020, 6, 9, 15, 26, 36, 709738)}\n",
      "2020-06-09 23:26:37 [scrapy.core.engine] INFO: Spider closed (finished)\n"
     ]
    },
    {
     "name": "stdout",
     "output_type": "stream",
     "text": [
      "[<Selector xpath='//ol' data='<ol>\\n<li>\\nAccessible</li>\\n\\n<li>\\nActiv...'>, <Selector xpath='//ol' data='<ol>\\n<li>\\nAbsentminded</li>\\n\\n<li>\\nAgg...'>, <Selector xpath='//ol' data='<ol>\\n<li>\\nAbrasive</li>\\n\\n<li>\\nAbrupt<...'>]\n"
     ]
    }
   ],
   "source": [
    "def main():\n",
    "    process = CrawlerProcess(settings={\n",
    "        \"FEEDS\": {\n",
    "            \"items.json\": {\"format\": \"json\"},\n",
    "        },\n",
    "    })\n",
    "\n",
    "    process.crawl(TraitsSpider)\n",
    "    process.start()  # the script will block here until the crawling is finished\n",
    "    \n",
    "if __name__ == '__main__':\n",
    "    main()"
   ]
  },
  {
   "cell_type": "code",
   "execution_count": 52,
   "metadata": {},
   "outputs": [],
   "source": [
    "pos_traits = blob[0].xpath('./li/text()').getall()\n",
    "pos_traits = [x.strip() for x in pos_traits]\n",
    "\n",
    "neut_traits = blob[1].xpath('./li/text()').getall()\n",
    "neut_traits = [x.strip() for x in neut_traits]\n",
    "\n",
    "neg_traits = blob[2].xpath('./li/text()').getall()\n",
    "neg_traits = [x.strip() for x in neg_traits]\n",
    "\n",
    "traits_dict = {}\n",
    "traits_dict['pos'] = pos_traits\n",
    "traits_dict['neut'] = neut_traits\n",
    "traits_dict['neg'] = neg_traits"
   ]
  },
  {
   "cell_type": "code",
   "execution_count": 57,
   "metadata": {},
   "outputs": [
    {
     "data": {
      "text/plain": [
       "638"
      ]
     },
     "execution_count": 57,
     "metadata": {},
     "output_type": "execute_result"
    }
   ],
   "source": [
    "len(traits_dict['neg']) + len(traits_dict['neut']) + len(traits_dict['pos'])"
   ]
  },
  {
   "cell_type": "code",
   "execution_count": 59,
   "metadata": {},
   "outputs": [
    {
     "name": "stdin",
     "output_type": "stream",
     "text": [
      "enter path to dump traits dict into:\n",
      " ../data/mit_ideonomy_traits.json\n"
     ]
    }
   ],
   "source": [
    "path = input('enter path to dump traits dict into:\\n')\n",
    "with open(path, 'w') as fp:\n",
    "    json.dump(traits_dict, fp)"
   ]
  },
  {
   "cell_type": "code",
   "execution_count": null,
   "metadata": {},
   "outputs": [],
   "source": []
  }
 ],
 "metadata": {
  "kernelspec": {
   "display_name": "fyp",
   "language": "python",
   "name": "fyp"
  },
  "language_info": {
   "codemirror_mode": {
    "name": "ipython",
    "version": 3
   },
   "file_extension": ".py",
   "mimetype": "text/x-python",
   "name": "python",
   "nbconvert_exporter": "python",
   "pygments_lexer": "ipython3",
   "version": "3.7.4"
  }
 },
 "nbformat": 4,
 "nbformat_minor": 4
}
