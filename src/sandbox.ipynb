{
 "cells": [
  {
   "cell_type": "code",
   "execution_count": 3,
   "metadata": {},
   "outputs": [],
   "source": [
    "from sklearn.utils.extmath import softmax\n",
    "import numpy as np"
   ]
  },
  {
   "cell_type": "code",
   "execution_count": 5,
   "metadata": {},
   "outputs": [
    {
     "data": {
      "text/plain": [
       "array([[0.62245933, 0.37754067]])"
      ]
     },
     "execution_count": 5,
     "metadata": {},
     "output_type": "execute_result"
    }
   ],
   "source": [
    "x = np.array([[0.5, 0]])\n",
    "softmax(x)"
   ]
  },
  {
   "cell_type": "code",
   "execution_count": 6,
   "metadata": {},
   "outputs": [
    {
     "data": {
      "text/plain": [
       "array([[0.5, 0.5]])"
      ]
     },
     "execution_count": 6,
     "metadata": {},
     "output_type": "execute_result"
    }
   ],
   "source": [
    "x = np.array([[0.5, 0.5]])\n",
    "softmax(x)"
   ]
  },
  {
   "cell_type": "code",
   "execution_count": 11,
   "metadata": {},
   "outputs": [
    {
     "data": {
      "text/plain": [
       "array([[0.27091208, 0.72908792]])"
      ]
     },
     "execution_count": 11,
     "metadata": {},
     "output_type": "execute_result"
    }
   ],
   "source": [
    "x = np.array([[0, 0.99]])\n",
    "softmax(x)"
   ]
  },
  {
   "cell_type": "code",
   "execution_count": 14,
   "metadata": {},
   "outputs": [],
   "source": [
    "import networkx as nx\n",
    "import pickle\n",
    "import json"
   ]
  },
  {
   "cell_type": "code",
   "execution_count": 15,
   "metadata": {},
   "outputs": [],
   "source": [
    "G = nx.read_gpickle(\"../data/graph_description_update.pickle\")"
   ]
  },
  {
   "cell_type": "code",
   "execution_count": 16,
   "metadata": {},
   "outputs": [
    {
     "data": {
      "text/plain": [
       "2583"
      ]
     },
     "execution_count": 16,
     "metadata": {},
     "output_type": "execute_result"
    }
   ],
   "source": [
    "len(G)"
   ]
  },
  {
   "cell_type": "code",
   "execution_count": 17,
   "metadata": {},
   "outputs": [
    {
     "data": {
      "text/plain": [
       "AtlasView({'passive': {'weight': -1}, 'involved': {'weight': 1}, 'inactive': {'weight': -1}, 'an': {'relation': 'defined as'}, 'asserting that the person or thing represented by the grammatical subject performs the action represented by the verb': {'relation': 'defined as'}, 'capable of': {'relation': 'defined as'}, 'capable of controlling': {'relation': 'defined as'}, 'characterized by': {'relation': 'defined as'}, 'characterized by emission of large amounts of electromagnetic energy': {'relation': 'defined as'}, 'characterized or accomplished by action or effort': {'relation': 'defined as'}, 'currently erupting or likely to erupt': {'relation': 'defined as'}, 'disposed to action': {'relation': 'defined as'}, 'doing things that require physical movement and energy': {'relation': 'defined as'}, 'engaged in an action or activity': {'relation': 'defined as'}, 'engaged in full-time service especially in the armed forces': {'relation': 'defined as'}, 'engaged or participating in action or activity': {'relation': 'defined as'}, 'exhibiting optical': {'relation': 'defined as'}, 'expressing action as distinct from mere existence or state': {'relation': 'defined as'}, 'functioning by the emission of': {'relation': 'defined as'}, 'having practical operation or results': {'relation': 'defined as'}, 'involved in the activities of a group or organization': {'relation': 'defined as'}, 'involving action or participation': {'relation': 'defined as'}, 'marked by present operation, transaction, movement, or use': {'relation': 'defined as'}, 'marked by vigorous': {'relation': 'defined as'}, 'moving down the line': {'relation': 'defined as'}, 'one engaged in an action or activity': {'relation': 'defined as'}, 'or currents': {'relation': 'defined as'}, 'or reacting': {'relation': 'defined as'}, 'or reacting especially in some specific way': {'relation': 'defined as'}, 'or sound': {'relation': 'defined as'}, 'participating in an action or activity': {'relation': 'defined as'}, 'person': {'relation': 'defined as'}, 'producing': {'relation': 'defined as'}, 'producing active immunity': {'relation': 'defined as'}, 'producing or involving action or movement': {'relation': 'defined as'}, 'quick in physical movement': {'relation': 'defined as'}, 'rather than by contemplation or speculation': {'relation': 'defined as'}, 'reacting readily': {'relation': 'defined as'}, 'requiring the expenditure of energy': {'relation': 'defined as'}, 'requiring vigorous action or exertion': {'relation': 'defined as'}, 'showing that the subject of a sentence is the doer of the action represented by the verb': {'relation': 'defined as'}, 'still eligible to win the pot in poker': {'relation': 'defined as'}, 'taking part in an action or activity': {'relation': 'defined as'}, 'tending to progress or to cause': {'relation': 'defined as'}, 'tending to progress or to cause degeneration': {'relation': 'defined as'}, 'visiting in the set': {'relation': 'defined as'}})"
      ]
     },
     "execution_count": 17,
     "metadata": {},
     "output_type": "execute_result"
    }
   ],
   "source": [
    "G['active']"
   ]
  },
  {
   "cell_type": "code",
   "execution_count": 19,
   "metadata": {},
   "outputs": [
    {
     "data": {
      "text/plain": [
       "757"
      ]
     },
     "execution_count": 19,
     "metadata": {},
     "output_type": "execute_result"
    }
   ],
   "source": [
    "for node in list(G):\n",
    "    if node.find(' ') > -1:\n",
    "        G.remove_node(node)\n",
    "len(G)"
   ]
  },
  {
   "cell_type": "code",
   "execution_count": 21,
   "metadata": {},
   "outputs": [
    {
     "data": {
      "text/plain": [
       "NodeView(('active', 'considerate', 'convivial', 'diplomatic', 'gregarious', 'optimistic', 'mature', 'motivated', 'sensible', 'brave', 'chatty', 'clever', 'smart', 'cowardly', 'easy-going', 'friendly', 'funny', 'generous', 'grumpy', 'honest', 'kind', 'lazy', 'loud', 'lucky', 'moody', 'nasty', 'neat', 'nervous', 'nice', 'polite', 'popular', 'quiet', 'rude', 'selfish', 'serious', 'shy', 'silly', 'stupid', 'tidy', 'unlucky', 'untidy', 'vain', 'wise', 'adaptable', 'adventurous', 'affectionate', 'ambitious', 'amiable', 'compassionate', 'courageous', 'courteous', 'diligent', 'empathetic', 'exuberant', 'frank', 'impartial', 'intuitive', 'inventive', 'passionate', 'persistent', 'philosophical', 'practical', 'rational', 'reliable', 'resourceful', 'sincere', 'sympathetic', 'unassuming', 'witty', 'argumentative', 'cynical', 'disruptive', 'inconsiderate', 'passive', 'resentful', 'curious', 'excellent', 'responsible', 'affable', 'eager', 'outstanding', 'agreeable', 'encouraging', 'positive', 'enthusiastic', 'helpful', 'trustworthy', 'erudite', 'laidback', 'precise', 'aggressive', 'inconsistent', 'jealous', 'superficial', 'arrogant', 'patronizing', 'thoughtless', 'bossy', 'hostile', 'mischievous', 'problematic', 'unmotivated', 'callous', 'immature', 'unreliable', 'weak', 'sarcastic', 'childish', 'involved', 'interested', 'participating', 'inactive', 'quiescent', 'dull', 'slow', 'supine', 'thoughtful', 'tactful', 'undiplomatic', 'ungregarious', 'sanguine', 'cheerful', 'upbeat', 'pollyannaish', 'pessimistic', 'adult', 'juvenile', 'ripe', 'unripe', 'aged', 'big', 'large', 'great', 'sizeable', 'handsome', 'bountiful', 'ample', 'grownup', 'bounteous', 'magnanimous', 'giving', 'openhanded', 'heroic', 'bighearted', 'prudent', 'judicious', 'reasonable', 'fair', 'logical', 'tenable', 'sane', 'commonsensical', 'commonsense', 'levelheaded', 'intelligent', 'unreasonable', 'unintelligent', 'advisable', 'irrational', 'foolish', 'incongruous', 'senseless', 'goofy', 'fearless', 'dauntless', 'spunky', 'spirited', 'intrepid', 'lionhearted', 'bold', 'stouthearted', 'audacious', 'venturesome', 'gallant', 'talkative', 'ingenious', 'shrewd', 'astute', 'canny', 'stylish', 'chic', 'fashionable', 'natty', 'snappy', 'dapper', 'dashing', 'bright', 'glowing', 'light', 'auspicious', 'unmanly', 'effeminate', 'timid', 'fearful', 'fainthearted', 'genial', 'informal', 'intimate', 'cozy', 'formal', 'favorable', 'advantageous', 'propitious', 'pleasing', 'affirmative', 'prosperous', 'favourable', 'unfavorable', 'unfriendly', 'inhospitable', 'inimical', 'uncongenial', 'humorous', 'humourous', 'comical', 'amusing', 'ridiculous', 'benevolent', 'charitable', 'gracious', 'good', 'unselfish', 'liberal', 'stingy', 'ungenerous', 'grouchy', 'crabby', 'truthful', 'true', 'veracious', 'honorable', 'respectable', 'dishonest', 'genuine', 'real', 'unpretentious', 'unostentatious', 'dependable', 'trusty', 'faithful', 'sure', 'tested', 'undeviating', 'undependable', 'artless', 'guileless', 'unsophisticated', 'naive', 'unrefined', 'careless', 'candid', 'yelled', 'shouted', 'fortunate', 'unfortunate', 'hot', 'warm', 'unpleasant', 'awful', 'sharp', 'pleasant', 'dirty', 'filthy', 'lousy', 'smutty', 'unfair', 'spiteful', 'hateful', 'decent', 'cultivated', 'cultured', 'refined', 'civilized', 'genteel', 'impolite', 'discourteous', 'unmannerly', 'unmannered', 'unpopular', 'calm', 'unruffled', 'tranquil', 'placid', 'uneventful', 'subdued', 'muted', 'restrained', 'noisy', 'uncivil', 'crude', 'unprocessed', 'raw', 'early', 'young', 'embryonic', 'primitive', 'egotistical', 'narcissistic', 'envious', 'dangerous', 'unsafe', 'treacherous', 'severe', 'critical', 'desperate', 'dumb', 'moronic', 'confused', 'dazed', 'stupefied', 'stunned', 'dim', 'faint', 'obtuse', 'dense', 'thick', 'thin', 'orderly', 'disorderly', 'luckless', 'doomed', 'flexible', 'adventuresome', 'daring', 'swashbuckling', 'unadventurous', 'unambitious', 'humane', 'merciful', 'tireless', 'untiring', 'empathic', 'forthright', 'blunt', 'unbiased', 'unprejudiced', 'prejudiced', 'partial', 'imaginative', 'creative', 'fervent', 'ardent', 'philosophic', 'nonphilosophical', 'impractical', 'coherent', 'lucid', 'consistent', 'mental', 'intellectual', 'convinced', 'confident', 'uncertain', 'certain', 'insincere', 'likeable', 'likable', 'appealing', 'congenial', 'sociable', 'harmonious', 'consonant', 'compatible', 'incompatible', 'unsympathetic', 'disagreeable', 'sloppy', 'heedless', 'unresentful', 'strange', 'peculiar', 'odd', 'unusual', 'crazy', 'irresponsible', 'anxious', 'uneager', 'concordant', 'supportive', 'discouraging', 'constructive', 'overconfident', 'undeniable', 'irrefutable', 'incontrovertible', 'negative', 'antagonistic', 'cordial', 'strong', 'caring', 'unenthusiastic', 'useful', 'utile', 'instrumental', 'vocal', 'accommodating', 'unhelpful', 'trusted', 'untrustworthy', 'exact', 'correct', 'accurate', 'right', 'microscopic', 'small', 'imprecise', 'assertive', 'competitive', 'contradictory', 'conflicting', 'discrepant', 'trivial', 'unimportant', 'insignificant', 'indifferent', 'little', 'shallow', 'unheeding', 'antipathetic', 'problematical', 'difficult', 'challenging', 'insensitive', 'infantile', 'callow', 'inexperienced', 'teenage', 'teenaged', 'youthful', 'adolescent', 'teen', 'boyish', 'formative', 'childlike', 'vulnerable', 'unripened', 'slight', 'puny', 'soft', 'undeveloped', 'developed', 'erratic', 'temperamental', 'fallible', 'imperfect', 'human', 'frail', 'flimsy', 'pale', 'tenuous', 'powerless', 'helpless', 'incapacitated', 'feeble', 'overwhelmed', 'swamped', 'inundated', 'flooded', 'hefty', 'unsarcastic', 'well-mannered', 'energetic', 'dynamic', 'busy', 'statesmanlike', 'statesmanly', 'politic', 'bullish', 'rosy', 'rose-colored', 'starry-eyed', 'grown', 'ripened', 'mellow', 'fruiting', 'mellowed', 'fledged', 'nubile', 'overripe', 'abloom', 'marriageable', 'prime', 'autumnal', 'fledgling', 'overblown', 'driven', 'impelled', 'valiant', 'valorous', 'undaunted', 'stalwart', 'gritty', 'mettlesome', 'braw', 'garrulous', 'cagey', 'impudent', 'cagy', 'dastardly', 'dastard', 'pusillanimous', 'cringing', 'neighborly', 'chummy', 'comradely', 'amicable', 'pally', 'matey', 'companionate', 'munificent', 'overgenerous', 'unstinting', 'lavish', 'unstinted', 'ungrudging', 'prodigal', 'downright', 'open', 'deafening', 'blaring', 'earsplitting', 'thunderous', 'blasting', 'morose', 'sullen', 'vile', 'dainty', 'prissy', 'mannerly', 'civil', 'favorite', 'hushed', 'silent', 'restful', 'relaxing', 'untroubled', 'natural', 'egotistic', 'grudging', 'grievous', 'grave', 'brainless', 'dopey', 'boneheaded', 'imbecile', 'imbecilic', 'thickheaded', 'cloddish', 'witless', 'blockheaded', 'gormless', 'unthinking', 'doltish', 'goosey', 'feebleminded', 'lumpen', 'lumpish', 'headless', 'uncluttered', 'kempt', 'shipshape', 'goodish', 'goodly', 'jinxed', 'hexed', 'messy', 'unkempt', 'cluttered', 'disheveled', 'straggly', 'slovenly', 'littered', 'jumbled', 'frowsy', 'mussy', 'sluttish', 'scraggly', 'rumpled', 'slouchy', 'slatternly', 'frowzy', 'dishevelled', 'tousled', 'blowsy', 'straggling', 'sprawling', 'sagacious', 'perspicacious', 'advised', 'omniscient', 'swaggering', 'venturous', 'sporting', 'overambitious', 'enterprising', 'aspiring', 'pushy', 'tenderhearted', 'pitying', 'sorry', 'uncompassionate', 'chivalrous', 'knightly', 'assiduous', 'industrious', 'hardworking', 'persevering', 'ebullient', 'dispassionate', 'disinterested', 'nonracist', 'impassioned', 'fanatical', 'fanatic', 'authentic', 'straight', 'tried', 'heartfelt', 'wholehearted', 'earnest', 'unfeigned', 'devout', 'solemn', 'dear', 'uncaring', 'inquisitive', 'nosy', 'accountable', 'liable', 'answerable', 'heartening', 'supporting', 'promotive', 'inspiriting', 'hortatory', 'exhortatory', 'confirming', 'positivistic', 'prescribed', 'positivist', 'cocksure', 'affirmatory', 'electropositive', 'avid', 'zealous', 'overenthusiastic', 'evangelistic', 'evangelical', 'facilitative', 'cooperative', 'stabilizing', 'assistive', 'facilitatory', 'reformative', 'steadying', 'attending', 'ministering', 'creditworthy', 'fiducial', 'meticulous', 'skillful', 'punctilious', 'combative', 'belligerent', 'predatory', 'pugnacious', 'scrappy', 'bellicose', 'spotty', 'uneven', 'irreconcilable', 'unconformable', 'unreconciled', 'glib', 'facile', 'condescending', 'unthoughtful', 'unreflective', 'truculent', 'opposing', 'babyish', 'puerile', 'jejune', 'pubescent', 'underdeveloped', 'prepubescent', 'unformed', 'prepubertal', 'embryonal', 'pupal', 'larval', 'girlish', 'schoolboyish', 'puppyish', 'youngish', 'tender', 'newborn', 'unaged', 'unsound', 'anemic', 'weakened', 'fragile', 'anaemic', 'flaccid', 'slack', 'lax', 'debilitated', 'limp', 'impotent', 'wimpy', 'lame', 'shoddy', 'wimpish', 'pallid', 'spineless', 'enervated', 'unstressed', 'decrepit', 'washy', 'infirm', 'overpowered', 'nerveless', 'dilute', 'unaccented', 'watery', 'diluted', 'regular', 'engulfed', 'an', 'person', 'producing', ',', 'invitingly', 'well-formed', ')', 'requiring', 'a', 'or', 'conduct', '(', 'having', 'in', 'not', 'well-behaved', 'on', 'relations', 'smartly', 'passionately', 'to', 'management', '(−', 'manner', 'over', 'and', 'respectively', 'awe-inspiring', 'sobriety'))"
      ]
     },
     "execution_count": 21,
     "metadata": {},
     "output_type": "execute_result"
    }
   ],
   "source": [
    "G.nodes()"
   ]
  },
  {
   "cell_type": "code",
   "execution_count": 49,
   "metadata": {},
   "outputs": [],
   "source": [
    "import pandas as pd"
   ]
  },
  {
   "cell_type": "code",
   "execution_count": 50,
   "metadata": {},
   "outputs": [
    {
     "data": {
      "text/html": [
       "<div>\n",
       "<style scoped>\n",
       "    .dataframe tbody tr th:only-of-type {\n",
       "        vertical-align: middle;\n",
       "    }\n",
       "\n",
       "    .dataframe tbody tr th {\n",
       "        vertical-align: top;\n",
       "    }\n",
       "\n",
       "    .dataframe thead th {\n",
       "        text-align: right;\n",
       "    }\n",
       "</style>\n",
       "<table border=\"1\" class=\"dataframe\">\n",
       "  <thead>\n",
       "    <tr style=\"text-align: right;\">\n",
       "      <th></th>\n",
       "      <th>C</th>\n",
       "      <th>E</th>\n",
       "      <th>N</th>\n",
       "    </tr>\n",
       "  </thead>\n",
       "  <tbody>\n",
       "  </tbody>\n",
       "</table>\n",
       "</div>"
      ],
      "text/plain": [
       "Empty DataFrame\n",
       "Columns: [C, E, N]\n",
       "Index: []"
      ]
     },
     "execution_count": 50,
     "metadata": {},
     "output_type": "execute_result"
    }
   ],
   "source": [
    "df = pd.DataFrame(columns=['C', 'E', 'N'])\n",
    "df.head()"
   ]
  },
  {
   "cell_type": "code",
   "execution_count": 51,
   "metadata": {},
   "outputs": [],
   "source": [
    "import random\n",
    "\n",
    "def generate_triplet():\n",
    "    C = random.random()\n",
    "    E = random.random()*(1-C)\n",
    "    N = 1 - E - C\n",
    "    return C, E, N"
   ]
  },
  {
   "cell_type": "code",
   "execution_count": 52,
   "metadata": {},
   "outputs": [
    {
     "data": {
      "text/html": [
       "<div>\n",
       "<style scoped>\n",
       "    .dataframe tbody tr th:only-of-type {\n",
       "        vertical-align: middle;\n",
       "    }\n",
       "\n",
       "    .dataframe tbody tr th {\n",
       "        vertical-align: top;\n",
       "    }\n",
       "\n",
       "    .dataframe thead th {\n",
       "        text-align: right;\n",
       "    }\n",
       "</style>\n",
       "<table border=\"1\" class=\"dataframe\">\n",
       "  <thead>\n",
       "    <tr style=\"text-align: right;\">\n",
       "      <th></th>\n",
       "      <th>C</th>\n",
       "      <th>E</th>\n",
       "      <th>N</th>\n",
       "    </tr>\n",
       "  </thead>\n",
       "  <tbody>\n",
       "    <tr>\n",
       "      <th>0</th>\n",
       "      <td>0.388676</td>\n",
       "      <td>0.149681</td>\n",
       "      <td>0.461643</td>\n",
       "    </tr>\n",
       "    <tr>\n",
       "      <th>1</th>\n",
       "      <td>0.920901</td>\n",
       "      <td>0.006956</td>\n",
       "      <td>0.072143</td>\n",
       "    </tr>\n",
       "    <tr>\n",
       "      <th>2</th>\n",
       "      <td>0.258320</td>\n",
       "      <td>0.422925</td>\n",
       "      <td>0.318755</td>\n",
       "    </tr>\n",
       "    <tr>\n",
       "      <th>3</th>\n",
       "      <td>0.730319</td>\n",
       "      <td>0.014069</td>\n",
       "      <td>0.255611</td>\n",
       "    </tr>\n",
       "    <tr>\n",
       "      <th>4</th>\n",
       "      <td>0.344979</td>\n",
       "      <td>0.108929</td>\n",
       "      <td>0.546092</td>\n",
       "    </tr>\n",
       "    <tr>\n",
       "      <th>5</th>\n",
       "      <td>0.242382</td>\n",
       "      <td>0.698794</td>\n",
       "      <td>0.058824</td>\n",
       "    </tr>\n",
       "    <tr>\n",
       "      <th>6</th>\n",
       "      <td>0.201700</td>\n",
       "      <td>0.197483</td>\n",
       "      <td>0.600817</td>\n",
       "    </tr>\n",
       "    <tr>\n",
       "      <th>7</th>\n",
       "      <td>0.842285</td>\n",
       "      <td>0.042234</td>\n",
       "      <td>0.115481</td>\n",
       "    </tr>\n",
       "    <tr>\n",
       "      <th>8</th>\n",
       "      <td>0.110559</td>\n",
       "      <td>0.538799</td>\n",
       "      <td>0.350642</td>\n",
       "    </tr>\n",
       "    <tr>\n",
       "      <th>9</th>\n",
       "      <td>0.314546</td>\n",
       "      <td>0.367038</td>\n",
       "      <td>0.318416</td>\n",
       "    </tr>\n",
       "  </tbody>\n",
       "</table>\n",
       "</div>"
      ],
      "text/plain": [
       "          C         E         N\n",
       "0  0.388676  0.149681  0.461643\n",
       "1  0.920901  0.006956  0.072143\n",
       "2  0.258320  0.422925  0.318755\n",
       "3  0.730319  0.014069  0.255611\n",
       "4  0.344979  0.108929  0.546092\n",
       "5  0.242382  0.698794  0.058824\n",
       "6  0.201700  0.197483  0.600817\n",
       "7  0.842285  0.042234  0.115481\n",
       "8  0.110559  0.538799  0.350642\n",
       "9  0.314546  0.367038  0.318416"
      ]
     },
     "execution_count": 52,
     "metadata": {},
     "output_type": "execute_result"
    }
   ],
   "source": [
    "for i in range(0,10):\n",
    "    C, E, N = generate_triplet()\n",
    "    row = pd.DataFrame([[C, E, N]], columns=['C', 'E', 'N'])\n",
    "    df = df.append(row, ignore_index=True)\n",
    "df"
   ]
  },
  {
   "cell_type": "code",
   "execution_count": 54,
   "metadata": {},
   "outputs": [],
   "source": [
    "def gen_dist(row):\n",
    "    C = row['C']\n",
    "    E = row['E']\n",
    "    N = row['N']\n",
    "    \n",
    "    if C > 0.5:\n",
    "        return C\n",
    "    elif C == E:\n",
    "        return 0.5\n",
    "    else:\n",
    "        return N/(N+E)*0.5"
   ]
  },
  {
   "cell_type": "code",
   "execution_count": 66,
   "metadata": {},
   "outputs": [],
   "source": [
    "ser_res = df.apply(lambda row: gen_dist(row), axis=1)\n",
    "ser_res.name = 'dist'"
   ]
  },
  {
   "cell_type": "code",
   "execution_count": 67,
   "metadata": {},
   "outputs": [
    {
     "data": {
      "text/html": [
       "<div>\n",
       "<style scoped>\n",
       "    .dataframe tbody tr th:only-of-type {\n",
       "        vertical-align: middle;\n",
       "    }\n",
       "\n",
       "    .dataframe tbody tr th {\n",
       "        vertical-align: top;\n",
       "    }\n",
       "\n",
       "    .dataframe thead th {\n",
       "        text-align: right;\n",
       "    }\n",
       "</style>\n",
       "<table border=\"1\" class=\"dataframe\">\n",
       "  <thead>\n",
       "    <tr style=\"text-align: right;\">\n",
       "      <th></th>\n",
       "      <th>C</th>\n",
       "      <th>E</th>\n",
       "      <th>N</th>\n",
       "      <th>dist</th>\n",
       "    </tr>\n",
       "  </thead>\n",
       "  <tbody>\n",
       "    <tr>\n",
       "      <th>0</th>\n",
       "      <td>0.388676</td>\n",
       "      <td>0.149681</td>\n",
       "      <td>0.461643</td>\n",
       "      <td>0.377577</td>\n",
       "    </tr>\n",
       "    <tr>\n",
       "      <th>1</th>\n",
       "      <td>0.920901</td>\n",
       "      <td>0.006956</td>\n",
       "      <td>0.072143</td>\n",
       "      <td>0.920901</td>\n",
       "    </tr>\n",
       "    <tr>\n",
       "      <th>2</th>\n",
       "      <td>0.258320</td>\n",
       "      <td>0.422925</td>\n",
       "      <td>0.318755</td>\n",
       "      <td>0.214887</td>\n",
       "    </tr>\n",
       "    <tr>\n",
       "      <th>3</th>\n",
       "      <td>0.730319</td>\n",
       "      <td>0.014069</td>\n",
       "      <td>0.255611</td>\n",
       "      <td>0.730319</td>\n",
       "    </tr>\n",
       "    <tr>\n",
       "      <th>4</th>\n",
       "      <td>0.344979</td>\n",
       "      <td>0.108929</td>\n",
       "      <td>0.546092</td>\n",
       "      <td>0.416851</td>\n",
       "    </tr>\n",
       "  </tbody>\n",
       "</table>\n",
       "</div>"
      ],
      "text/plain": [
       "          C         E         N      dist\n",
       "0  0.388676  0.149681  0.461643  0.377577\n",
       "1  0.920901  0.006956  0.072143  0.920901\n",
       "2  0.258320  0.422925  0.318755  0.214887\n",
       "3  0.730319  0.014069  0.255611  0.730319\n",
       "4  0.344979  0.108929  0.546092  0.416851"
      ]
     },
     "execution_count": 67,
     "metadata": {},
     "output_type": "execute_result"
    }
   ],
   "source": [
    "df = df.join(ser_res)\n",
    "df.head()"
   ]
  },
  {
   "cell_type": "code",
   "execution_count": 68,
   "metadata": {},
   "outputs": [],
   "source": [
    "# looks ok"
   ]
  },
  {
   "cell_type": "code",
   "execution_count": 80,
   "metadata": {},
   "outputs": [],
   "source": [
    "def non_neutral_score(row):\n",
    "    \"\"\"\n",
    "    dist is a float value between (0,1), where 0 represents total entailment,\n",
    "    0.5 represents total independence (neutrality), and 1 represents total contradiction.\n",
    "    \"\"\"\n",
    "    dist = row['dist']\n",
    "    score = 4*(dist-0.5)*(dist-0.5)\n",
    "    return score"
   ]
  },
  {
   "cell_type": "code",
   "execution_count": 81,
   "metadata": {},
   "outputs": [],
   "source": [
    "ser_non_neut = df.apply(lambda row: non_neutral_score(row), axis=1)\n",
    "ser_non_neut.name = 'non_neutrality'\n",
    "\n",
    "df = df.join(ser_non_neut)\n",
    "df"
   ]
  },
  {
   "cell_type": "code",
   "execution_count": 84,
   "metadata": {},
   "outputs": [
    {
     "data": {
      "text/html": [
       "<div>\n",
       "<style scoped>\n",
       "    .dataframe tbody tr th:only-of-type {\n",
       "        vertical-align: middle;\n",
       "    }\n",
       "\n",
       "    .dataframe tbody tr th {\n",
       "        vertical-align: top;\n",
       "    }\n",
       "\n",
       "    .dataframe thead th {\n",
       "        text-align: right;\n",
       "    }\n",
       "</style>\n",
       "<table border=\"1\" class=\"dataframe\">\n",
       "  <thead>\n",
       "    <tr style=\"text-align: right;\">\n",
       "      <th></th>\n",
       "      <th>C</th>\n",
       "      <th>E</th>\n",
       "      <th>N</th>\n",
       "      <th>dist</th>\n",
       "      <th>non_neutrality</th>\n",
       "      <th>sqrt_non_neutrality</th>\n",
       "    </tr>\n",
       "  </thead>\n",
       "  <tbody>\n",
       "    <tr>\n",
       "      <th>0</th>\n",
       "      <td>0.388676</td>\n",
       "      <td>0.149681</td>\n",
       "      <td>0.461643</td>\n",
       "      <td>0.377577</td>\n",
       "      <td>0.059950</td>\n",
       "      <td>0.244847</td>\n",
       "    </tr>\n",
       "    <tr>\n",
       "      <th>1</th>\n",
       "      <td>0.920901</td>\n",
       "      <td>0.006956</td>\n",
       "      <td>0.072143</td>\n",
       "      <td>0.920901</td>\n",
       "      <td>0.708632</td>\n",
       "      <td>0.841803</td>\n",
       "    </tr>\n",
       "    <tr>\n",
       "      <th>2</th>\n",
       "      <td>0.258320</td>\n",
       "      <td>0.422925</td>\n",
       "      <td>0.318755</td>\n",
       "      <td>0.214887</td>\n",
       "      <td>0.325158</td>\n",
       "      <td>0.570226</td>\n",
       "    </tr>\n",
       "    <tr>\n",
       "      <th>3</th>\n",
       "      <td>0.730319</td>\n",
       "      <td>0.014069</td>\n",
       "      <td>0.255611</td>\n",
       "      <td>0.730319</td>\n",
       "      <td>0.212188</td>\n",
       "      <td>0.460639</td>\n",
       "    </tr>\n",
       "    <tr>\n",
       "      <th>4</th>\n",
       "      <td>0.344979</td>\n",
       "      <td>0.108929</td>\n",
       "      <td>0.546092</td>\n",
       "      <td>0.416851</td>\n",
       "      <td>0.027655</td>\n",
       "      <td>0.166298</td>\n",
       "    </tr>\n",
       "    <tr>\n",
       "      <th>5</th>\n",
       "      <td>0.242382</td>\n",
       "      <td>0.698794</td>\n",
       "      <td>0.058824</td>\n",
       "      <td>0.038822</td>\n",
       "      <td>0.850741</td>\n",
       "      <td>0.922356</td>\n",
       "    </tr>\n",
       "    <tr>\n",
       "      <th>6</th>\n",
       "      <td>0.201700</td>\n",
       "      <td>0.197483</td>\n",
       "      <td>0.600817</td>\n",
       "      <td>0.376310</td>\n",
       "      <td>0.061196</td>\n",
       "      <td>0.247379</td>\n",
       "    </tr>\n",
       "    <tr>\n",
       "      <th>7</th>\n",
       "      <td>0.842285</td>\n",
       "      <td>0.042234</td>\n",
       "      <td>0.115481</td>\n",
       "      <td>0.842285</td>\n",
       "      <td>0.468635</td>\n",
       "      <td>0.684569</td>\n",
       "    </tr>\n",
       "    <tr>\n",
       "      <th>8</th>\n",
       "      <td>0.110559</td>\n",
       "      <td>0.538799</td>\n",
       "      <td>0.350642</td>\n",
       "      <td>0.197114</td>\n",
       "      <td>0.366960</td>\n",
       "      <td>0.605772</td>\n",
       "    </tr>\n",
       "    <tr>\n",
       "      <th>9</th>\n",
       "      <td>0.314546</td>\n",
       "      <td>0.367038</td>\n",
       "      <td>0.318416</td>\n",
       "      <td>0.232266</td>\n",
       "      <td>0.286725</td>\n",
       "      <td>0.535467</td>\n",
       "    </tr>\n",
       "  </tbody>\n",
       "</table>\n",
       "</div>"
      ],
      "text/plain": [
       "          C         E         N      dist  non_neutrality  sqrt_non_neutrality\n",
       "0  0.388676  0.149681  0.461643  0.377577        0.059950             0.244847\n",
       "1  0.920901  0.006956  0.072143  0.920901        0.708632             0.841803\n",
       "2  0.258320  0.422925  0.318755  0.214887        0.325158             0.570226\n",
       "3  0.730319  0.014069  0.255611  0.730319        0.212188             0.460639\n",
       "4  0.344979  0.108929  0.546092  0.416851        0.027655             0.166298\n",
       "5  0.242382  0.698794  0.058824  0.038822        0.850741             0.922356\n",
       "6  0.201700  0.197483  0.600817  0.376310        0.061196             0.247379\n",
       "7  0.842285  0.042234  0.115481  0.842285        0.468635             0.684569\n",
       "8  0.110559  0.538799  0.350642  0.197114        0.366960             0.605772\n",
       "9  0.314546  0.367038  0.318416  0.232266        0.286725             0.535467"
      ]
     },
     "execution_count": 84,
     "metadata": {},
     "output_type": "execute_result"
    }
   ],
   "source": [
    "from math import sqrt\n",
    "ser_non_neut_sqrt = df.apply(lambda row: sqrt(row['non_neutrality']), axis=1)\n",
    "ser_non_neut_sqrt.name = 'sqrt_non_neutrality'\n",
    "\n",
    "df = df.join(ser_non_neut_sqrt)\n",
    "df"
   ]
  },
  {
   "cell_type": "code",
   "execution_count": null,
   "metadata": {},
   "outputs": [],
   "source": []
  }
 ],
 "metadata": {
  "kernelspec": {
   "display_name": "FYP",
   "language": "python",
   "name": "fyp"
  },
  "language_info": {
   "codemirror_mode": {
    "name": "ipython",
    "version": 3
   },
   "file_extension": ".py",
   "mimetype": "text/x-python",
   "name": "python",
   "nbconvert_exporter": "python",
   "pygments_lexer": "ipython3",
   "version": "3.7.3"
  }
 },
 "nbformat": 4,
 "nbformat_minor": 4
}
