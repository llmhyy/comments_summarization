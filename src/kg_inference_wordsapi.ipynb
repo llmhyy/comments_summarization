{
 "cells": [
  {
   "cell_type": "code",
   "execution_count": 2,
   "metadata": {},
   "outputs": [],
   "source": [
    "import networkx as nx\n",
    "import pickle\n",
    "import json\n",
    "\n",
    "G = nx.read_gpickle(\"../data/graph_cleaned.pickle\")  # defs from wordsapi"
   ]
  },
  {
   "cell_type": "code",
   "execution_count": 3,
   "metadata": {},
   "outputs": [
    {
     "data": {
      "text/plain": [
       "networkx.classes.graph.Graph"
      ]
     },
     "execution_count": 3,
     "metadata": {},
     "output_type": "execute_result"
    }
   ],
   "source": [
    "type(G)"
   ]
  },
  {
   "cell_type": "code",
   "execution_count": 4,
   "metadata": {},
   "outputs": [
    {
     "data": {
      "text/plain": [
       "2185"
      ]
     },
     "execution_count": 4,
     "metadata": {},
     "output_type": "execute_result"
    }
   ],
   "source": [
    "len(G.nodes)"
   ]
  },
  {
   "cell_type": "code",
   "execution_count": 5,
   "metadata": {},
   "outputs": [
    {
     "data": {
      "text/plain": [
       "2464"
      ]
     },
     "execution_count": 5,
     "metadata": {},
     "output_type": "execute_result"
    }
   ],
   "source": [
    "len(G.edges)"
   ]
  },
  {
   "cell_type": "code",
   "execution_count": 6,
   "metadata": {},
   "outputs": [
    {
     "data": {
      "text/plain": [
       "AtlasView({'passive': {'weight': -1}, 'involved': {'weight': 1}, 'inactive': {'weight': -1}, 'engaged in or ready for military or naval operations': {'relation': 'defined as'}, \"(used of verbs (e.g. `to run') and participial adjectives (e.g. `running' in `running water')) expressing action rather than a state of being\": {'relation': 'defined as'}, 'taking part in an activity': {'relation': 'defined as'}, 'in operation': {'relation': 'defined as'}, 'characterized by energetic activity': {'relation': 'defined as'}, 'disposed to take action or effectuate change': {'relation': 'defined as'}, 'engaged in full-time work': {'relation': 'defined as'}, 'exerting influence or producing a change or effect': {'relation': 'defined as'}, 'expressing that the subject of the sentence has the semantic function of actor:': {'relation': 'defined as'}, 'full of activity or engaged in continuous activity': {'relation': 'defined as'}, '(of e.g. volcanos) capable of erupting': {'relation': 'defined as'}, '(of e.g. volcanos) erupting or liable to erupt': {'relation': 'defined as'}, '(of the sun) characterized by an increased occurrence of sunspots and flares and radio emissions': {'relation': 'defined as'}, 'tending to become more severe or wider in scope': {'relation': 'defined as'}})"
      ]
     },
     "execution_count": 6,
     "metadata": {},
     "output_type": "execute_result"
    }
   ],
   "source": [
    "G['active']"
   ]
  },
  {
   "cell_type": "code",
   "execution_count": 41,
   "metadata": {},
   "outputs": [
    {
     "data": {
      "text/plain": [
       "436"
      ]
     },
     "metadata": {},
     "output_type": "display_data"
    },
    {
     "data": {
      "text/plain": [
       "592"
      ]
     },
     "metadata": {},
     "output_type": "display_data"
    }
   ],
   "source": [
    "from copy import deepcopy\n",
    "G2 = deepcopy(G)\n",
    "for n in G.nodes():\n",
    "    connected_edges = G.edges(nbunch=n, data=True)\n",
    "    # remove nodes where the node's connected edges all have the 'relation'='defined as' attribute.\n",
    "    # this will give us a G2 which contains only traits as nodes;\n",
    "    # it should not contain definitions as nodes.\n",
    "    # note that this algo removes all traits that are also not connected to other traits.\n",
    "    # unfortunately, I'm not sure how to workaround that issue for now.\n",
    "    flag = True\n",
    "    for e in connected_edges:\n",
    "        if 'relation' not in list(e[2].keys()):\n",
    "            flag = False\n",
    "            break\n",
    "    if flag == True:\n",
    "        G2.remove_node(n)"
   ]
  },
  {
   "cell_type": "code",
   "execution_count": null,
   "metadata": {},
   "outputs": [],
   "source": [
    "display(len(G2.nodes), len(G2.edges))"
   ]
  },
  {
   "cell_type": "code",
   "execution_count": 40,
   "metadata": {},
   "outputs": [
    {
     "data": {
      "text/plain": [
       "NodeView(('active', 'considerate', 'convivial', 'diplomatic', 'gregarious', 'optimistic', 'mature', 'motivated', 'sensible', 'brave', 'chatty', 'clever', 'smart', 'cowardly', 'friendly', 'funny', 'generous', 'grumpy', 'honest', 'loud', 'lucky', 'nasty', 'neat', 'nice', 'polite', 'popular', 'quiet', 'rude', 'selfish', 'serious', 'shy', 'silly', 'stupid', 'tidy', 'unlucky', 'untidy', 'wise', 'adaptable', 'adventurous', 'affectionate', 'ambitious', 'amiable', 'compassionate', 'courageous', 'courteous', 'empathetic', 'exuberant', 'impartial', 'inventive', 'philosophical', 'practical', 'rational', 'reliable', 'sincere', 'sympathetic', 'witty', 'inconsiderate', 'passive', 'resentful', 'curious', 'responsible', 'affable', 'eager', 'agreeable', 'encouraging', 'positive', 'enthusiastic', 'helpful', 'trustworthy', 'precise', 'aggressive', 'inconsistent', 'jealous', 'superficial', 'thoughtless', 'hostile', 'problematic', 'unmotivated', 'callous', 'immature', 'unreliable', 'weak', 'sarcastic', 'childish', 'involved', 'interested', 'participating', 'inactive', 'quiescent', 'dull', 'slow', 'supine', 'thoughtful', 'tactful', 'undiplomatic', 'ungregarious', 'sanguine', 'cheerful', 'upbeat', 'pollyannaish', 'pessimistic', 'adult', 'juvenile', 'ripe', 'unripe', 'aged', 'big', 'large', 'great', 'sizeable', 'handsome', 'bountiful', 'ample', 'grownup', 'bounteous', 'magnanimous', 'giving', 'openhanded', 'heroic', 'bighearted', 'prudent', 'judicious', 'reasonable', 'fair', 'logical', 'tenable', 'sane', 'commonsensical', 'commonsense', 'levelheaded', 'intelligent', 'unreasonable', 'unintelligent', 'advisable', 'irrational', 'foolish', 'incongruous', 'senseless', 'goofy', 'fearless', 'dauntless', 'spunky', 'spirited', 'intrepid', 'lionhearted', 'bold', 'stouthearted', 'audacious', 'venturesome', 'gallant', 'talkative', 'ingenious', 'shrewd', 'astute', 'canny', 'stylish', 'chic', 'fashionable', 'natty', 'snappy', 'dapper', 'dashing', 'bright', 'glowing', 'light', 'auspicious', 'unmanly', 'effeminate', 'timid', 'fearful', 'fainthearted', 'genial', 'informal', 'intimate', 'cozy', 'formal', 'favorable', 'advantageous', 'propitious', 'pleasing', 'affirmative', 'prosperous', 'favourable', 'unfavorable', 'unfriendly', 'inhospitable', 'inimical', 'uncongenial', 'humorous', 'humourous', 'comical', 'amusing', 'ridiculous', 'benevolent', 'charitable', 'gracious', 'good', 'unselfish', 'liberal', 'stingy', 'ungenerous', 'grouchy', 'crabby', 'truthful', 'true', 'veracious', 'honorable', 'respectable', 'dishonest', 'genuine', 'real', 'unpretentious', 'unostentatious', 'dependable', 'trusty', 'faithful', 'sure', 'tested', 'undeviating', 'undependable', 'artless', 'guileless', 'unsophisticated', 'naive', 'unrefined', 'careless', 'candid', 'yelled', 'shouted', 'fortunate', 'unfortunate', 'hot', 'warm', 'unpleasant', 'awful', 'sharp', 'pleasant', 'dirty', 'filthy', 'lousy', 'smutty', 'unfair', 'spiteful', 'hateful', 'decent', 'cultivated', 'cultured', 'refined', 'civilized', 'genteel', 'impolite', 'discourteous', 'unmannerly', 'unmannered', 'unpopular', 'calm', 'unruffled', 'tranquil', 'placid', 'uneventful', 'subdued', 'muted', 'restrained', 'noisy', 'uncivil', 'crude', 'unprocessed', 'raw', 'early', 'young', 'embryonic', 'primitive', 'egotistical', 'narcissistic', 'envious', 'dangerous', 'unsafe', 'treacherous', 'severe', 'critical', 'desperate', 'dumb', 'moronic', 'confused', 'dazed', 'stupefied', 'stunned', 'dim', 'faint', 'obtuse', 'dense', 'thick', 'thin', 'orderly', 'disorderly', 'luckless', 'doomed', 'flexible', 'adventuresome', 'daring', 'swashbuckling', 'unadventurous', 'unambitious', 'humane', 'merciful', 'tireless', 'untiring', 'empathic', 'forthright', 'blunt', 'unbiased', 'unprejudiced', 'prejudiced', 'partial', 'imaginative', 'creative', 'fervent', 'ardent', 'philosophic', 'nonphilosophical', 'impractical', 'coherent', 'lucid', 'consistent', 'mental', 'intellectual', 'convinced', 'confident', 'uncertain', 'certain', 'insincere', 'likeable', 'likable', 'appealing', 'congenial', 'sociable', 'harmonious', 'consonant', 'compatible', 'incompatible', 'unsympathetic', 'disagreeable', 'sloppy', 'heedless', 'unresentful', 'strange', 'peculiar', 'odd', 'unusual', 'crazy', 'irresponsible', 'anxious', 'uneager', 'concordant', 'supportive', 'discouraging', 'constructive', 'overconfident', 'undeniable', 'irrefutable', 'incontrovertible', 'negative', 'antagonistic', 'cordial', 'strong', 'caring', 'unenthusiastic', 'useful', 'utile', 'instrumental', 'vocal', 'accommodating', 'unhelpful', 'trusted', 'untrustworthy', 'exact', 'correct', 'accurate', 'right', 'microscopic', 'small', 'imprecise', 'assertive', 'competitive', 'contradictory', 'conflicting', 'discrepant', 'trivial', 'unimportant', 'insignificant', 'indifferent', 'little', 'shallow', 'unheeding', 'antipathetic', 'problematical', 'difficult', 'challenging', 'insensitive', 'infantile', 'callow', 'inexperienced', 'teenage', 'teenaged', 'youthful', 'adolescent', 'teen', 'boyish', 'formative', 'childlike', 'vulnerable', 'unripened', 'slight', 'puny', 'soft', 'undeveloped', 'developed', 'erratic', 'temperamental', 'fallible', 'imperfect', 'human', 'frail', 'flimsy', 'pale', 'tenuous', 'powerless', 'helpless', 'incapacitated', 'feeble', 'overwhelmed', 'swamped', 'inundated', 'flooded', 'hefty', 'unsarcastic'))"
      ]
     },
     "execution_count": 40,
     "metadata": {},
     "output_type": "execute_result"
    }
   ],
   "source": [
    "G2.nodes"
   ]
  },
  {
   "cell_type": "code",
   "execution_count": 78,
   "metadata": {},
   "outputs": [],
   "source": [
    "# add a 'type' attribute to differentiate trait nodes from definition nodes in future.\n",
    "for node in G2.nodes:\n",
    "    G2.nodes[node]['type'] = 'trait'"
   ]
  },
  {
   "cell_type": "code",
   "execution_count": 85,
   "metadata": {},
   "outputs": [
    {
     "name": "stdin",
     "output_type": "stream",
     "text": [
      "enter path to save pickled graph:\n",
      " ../data/traits_only_graph_cleaned.pickle\n"
     ]
    }
   ],
   "source": [
    "path = input(\"enter path to save pickled graph:\\n\")\n",
    "nx.write_gpickle(G2, path)"
   ]
  },
  {
   "cell_type": "code",
   "execution_count": 42,
   "metadata": {
    "scrolled": true
   },
   "outputs": [],
   "source": [
    "# from copy import deepcopy\n",
    "# G2 = deepcopy(G)\n",
    "# for (u, v, a) in G.edges.data('relation', default=None):\n",
    "#     print(a)\n",
    "#     if a == \"defined as\":\n",
    "#         G2.remove_edge(u, v)\n",
    "# len(G2.edges)"
   ]
  },
  {
   "cell_type": "code",
   "execution_count": 5,
   "metadata": {},
   "outputs": [
    {
     "name": "stdout",
     "output_type": "stream",
     "text": [
      "dict_keys(['tidy', 'infirm', 'disorderly', 'doltish', 'inactive', 'affirmatory', 'intimate', 'large', 'discrepant', 'gracious', 'courteous', 'dashing', 'egotistic', 'undaunted', 'thoughtless', 'vocal', 'unstinting', 'charitable', 'watery', 'narcissistic', 'dirty', 'underdeveloped', 'dull', 'grumpy', 'enthusiastic', 'morose', 'bounteous', 'erudite', 'slack', 'unsafe', 'positive', 'downright', 'childish', 'subdued', 'glib', 'consonant', 'imprecise', 'curious', 'solemn', 'agreeable', 'impartial', 'dense', 'dear', 'witless', 'zealous', 'canny', 'exuberant', 'pubescent', 'microscopic', 'schoolboyish', 'funny', 'ripe', 'mussy', 'instrumental', 'fearless', 'unaged', 'forthright', 'challenging', 'braw', 'respectable', 'crabby', 'untidy', 'sympathetic', 'easy-going', 'creditworthy', 'slovenly', 'formative', 'irrational', 'argumentative', 'dynamic', 'serious', 'deafening', 'prosperous', 'prime', 'fledgling', 'smart', 'marriageable', 'stouthearted', 'peculiar', 'unfriendly', 'real', 'incongruous', 'awful', 'electropositive', 'abloom', 'strong', 'predatory', 'talkative', 'overblown', 'stabilizing', 'mannerly', 'cluttered', 'useful', 'affectionate', 'decrepit', 'discourteous', 'disinterested', 'odd', 'shipshape', 'sarcastic', 'constructive', 'inimical', 'reliable', 'perspicacious', 'adaptable', 'immature', 'flooded', 'naive', 'anaemic', 'disagreeable', 'chummy', 'grudging', 'giving', 'unfair', 'amicable', 'bountiful', 'ripened', 'ardent', 'insignificant', 'cheerful', 'goodish', 'impudent', 'thunderous', 'problematic', 'impotent', 'untiring', 'imperfect', 'frowzy', 'primitive', 'hateful', 'teen', 'wimpy', 'strange', 'teenaged', 'amiable', 'dangerous', 'punctilious', 'dainty', 'hushed', 'irrefutable', 'unsophisticated', 'unmannerly', 'gallant', 'callous', 'weak', 'commonsensical', 'active', 'trusty', 'big', 'unstinted', 'assistive', 'incontrovertible', 'jealous', 'inexperienced', 'helpless', 'lax', 'energetic', 'moronic', 'ridiculous', 'bullish', 'venturesome', 'tactful', 'magnanimous', 'feeble', 'judicious', 'great', 'belligerent', 'youngish', 'diligent', 'consistent', 'obtuse', 'dastard', 'unmotivated', 'thick', 'boyish', 'cocksure', 'dilute', 'unruffled', 'warm', 'concordant', 'astute', 'persevering', 'bright', 'well-mannered', 'intrepid', 'straight', 'larval', 'compatible', 'accurate', 'puny', 'prepubescent', 'unhelpful', 'tried', 'meticulous', 'frowsy', 'uncertain', 'filthy', 'cultivated', 'unprocessed', 'heartfelt', 'sensible', 'open', 'supporting', 'honest', 'rose-colored', 'right', 'moody', 'weakened', 'impelled', 'gregarious', 'ample', 'fashionable', 'veracious', 'natty', 'raw', 'overconfident', 'enervated', 'confident', 'dependable', 'erratic', 'pale', 'candid', 'unripe', 'inquisitive', 'likeable', 'unimportant', 'scrappy', 'driven', 'congenial', 'caring', 'advantageous', 'embryonal', 'aggressive', 'cagy', 'stalwart', 'hexed', 'thoughtful', 'correct', 'sagacious', 'pleasing', 'intellectual', 'patronizing', 'unsarcastic', 'impassioned', 'debilitated', 'young', 'unostentatious', 'quiescent', 'excellent', 'skillful', 'favorite', 'dishevelled', 'prescribed', 'cagey', 'loud', 'unmanly', 'regular', 'vain', 'coherent', 'interested', 'neat', 'clever', 'silly', 'upbeat', 'companionate', 'civilized', 'uneventful', 'uncivil', 'sloppy', 'sane', 'mellow', 'fanatical', 'humorous', 'nice', 'mischievous', 'blowsy', 'unfortunate', 'accommodating', 'cultured', 'guileless', 'yelled', 'unkempt', 'tireless', 'helpful', 'bellicose', 'responsible', 'amusing', 'insensitive', 'wholehearted', 'embryonic', 'juvenile', 'unreconciled', 'liable', 'chatty', 'prodigal', 'condescending', 'lumpen', 'promotive', 'temperamental', 'evangelistic', 'trustworthy', 'tranquil', 'fragile', 'facilitatory', 'envious', 'effeminate', 'comradely', 'selfish', 'truthful', 'pally', 'unbiased', 'exact', 'unpopular', 'pusillanimous', 'relaxing', 'overambitious', 'restful', 'inspiriting', 'cowardly', 'sluttish', 'fanatic', 'unaccented', 'slatternly', 'crude', 'supine', 'popular', 'fallible', 'ambitious', 'mental', 'intuitive', 'slight', 'dauntless', 'unheeding', 'mature', 'evangelical', 'undiplomatic', 'honorable', 'positivistic', 'dapper', 'natural', 'aspiring', 'egotistical', 'inconsiderate', 'unambitious', 'neighborly', 'callow', 'humourous', 'precise', 'severe', 'reformative', 'generous', 'logical', 'washy', 'dishonest', 'fair', 'sizeable', 'swaggering', 'disheveled', 'faithful', 'unthinking', 'goofy', 'thin', 'brave', 'unadventurous', 'hardworking', 'boneheaded', 'uneven', 'treacherous', 'lousy', 'frail', 'enterprising', 'advisable', 'wimpish', 'overgenerous', 'cloddish', 'contradictory', 'smutty', 'discouraging', 'blaring', 'likable', 'matey', 'senseless', 'uncompassionate', 'untroubled', 'partial', 'uncongenial', 'irresponsible', 'wise', 'quiet', 'participating', 'diplomatic', 'grownup', 'unreasonable', 'sullen', 'incapacitated', 'stylish', 'industrious', 'dispassionate', 'optimistic', 'undependable', 'genuine', 'grown', 'foolish', 'unresentful', 'unpleasant', 'tested', 'bighearted', 'anxious', 'stingy', 'unfeigned', 'pleasant', 'ebullient', 'creative', 'lumpish', 'facilitative', 'swashbuckling', 'girlish', 'answerable', 'undeniable', 'lavish', 'passive', 'knightly', 'superficial', 'refined', 'facile', 'fervent', 'newborn', 'advised', 'powerless', 'unmannered', 'shrewd', 'persistent', 'straggly', 'gritty', 'decent', 'utile', 'conflicting', 'doomed', 'blockheaded', 'flaccid', 'liberal', 'dopey', 'shallow', 'chic', 'busy', 'adventuresome', 'blasting', 'empathetic', 'vulnerable', 'truculent', 'mellowed', 'spirited', 'hostile', 'certain', 'youthful', 'trusted', 'fainthearted', 'imaginative', 'convivial', 'unsympathetic', 'supportive', 'combative', 'spiteful', 'human', 'witty', 'comical', 'affable', 'statesmanlike', 'fearful', 'unreliable', 'audacious', 'convinced', 'cordial', 'slouchy', 'pitying', 'garrulous', 'inventive', 'fledged', 'adolescent', 'harmonious', 'inconsistent', 'resentful', 'pessimistic', 'thickheaded', 'insincere', 'antagonistic', 'stupefied', 'babyish', 'rational', 'exhortatory', 'auspicious', 'nasty', 'civil', 'nubile', 'hot', 'unripened', 'flexible', 'philosophic', 'starry-eyed', 'unthoughtful', 'true', 'impolite', 'empathic', 'pallid', 'messy', 'unpretentious', 'fruiting', 'negative', 'artless', 'hefty', 'problematical', 'careless', 'encouraging', 'gormless', 'venturous', 'cynical', 'inhospitable', 'bold', 'grievous', 'prissy', 'authentic', 'favourable', 'diluted', 'goosey', 'nonracist', 'mettlesome', 'avid', 'difficult', 'confirming', 'luckless', 'tousled', 'stupid', 'imbecile', 'reasonable', 'sporting', 'accountable', 'compassionate', 'ungenerous', 'spotty', 'considerate', 'shy', 'heroic', 'affirmative', 'munificent', 'grave', 'uncaring', 'restrained', 'friendly', 'kempt', 'cringing', 'feebleminded', 'puppyish', 'scraggly', 'sincere', 'humane', 'uneager', 'brainless', 'jinxed', 'dumb', 'heartening', 'cooperative', 'trivial', 'faint', 'unusual', 'tenderhearted', 'lucid', 'incompatible', 'impractical', 'inundated', 'dastardly', 'unrefined', 'genteel', 'merciful', 'cozy', 'frank', 'resourceful', 'unfavorable', 'headless', 'jejune', 'limp', 'assiduous', 'uncluttered', 'fiducial', 'vile', 'lucky', 'handsome', 'politic', 'heedless', 'grouchy', 'orderly', 'developed', 'spunky', 'chivalrous', 'glowing', 'earnest', 'overenthusiastic', 'unselfish', 'soft', 'autumnal', 'puerile', 'tenuous', 'commonsense', 'hortatory', 'desperate', 'light', 'prepubertal', 'formal', 'opposing', 'dazed', 'benevolent', 'shouted', 'overripe', 'teenage', 'rosy', 'favorable', 'pushy', 'silent', 'positivist', 'valiant', 'adult', 'eager', 'prejudiced', 'genial', 'sociable', 'confused', 'aged', 'unsound', 'fortunate', 'littered', 'flimsy', 'informal', 'timid', 'good', 'involved', 'unconformable', 'infantile', 'lionhearted', 'tender', 'calm', 'blunt', 'small', 'rumpled', 'unstressed', 'openhanded', 'unintelligent', 'little', 'devout', 'indifferent', 'arrogant', 'propitious', 'practical', 'valorous', 'steadying', 'courageous', 'noisy', 'pupal', 'statesmanly', 'nerveless', 'daring', 'lame', 'unprejudiced', 'omniscient', 'early', 'antipathetic', 'shoddy', 'appealing', 'jumbled', 'polite', 'stunned', 'motivated', 'pollyannaish', 'slow', 'placid', 'prudent', 'ingenious', 'kind', 'outstanding', 'levelheaded', 'childlike', 'sorry', 'sanguine', 'rude', 'nervous', 'adventurous', 'undeveloped', 'nonphilosophical', 'lazy', 'critical', 'ungregarious', 'unformed', 'unlucky', 'attending', 'sprawling', 'philosophical', 'undeviating', 'competitive', 'passionate', 'imbecilic', 'crazy', 'unreflective', 'straggling', 'anemic', 'ungrudging', 'pugnacious', 'sure', 'irreconcilable', 'disruptive', 'earsplitting', 'bossy', 'snappy', 'tenable', 'unenthusiastic', 'muted', 'sharp', 'spineless', 'intelligent', 'goodly', 'assertive', 'dim', 'untrustworthy', 'nosy', 'unassuming'])\n",
      "num of traits: 722\n"
     ]
    }
   ],
   "source": [
    "with open(\"../data/yihao_traits_defs.json\", 'r') as f:\n",
    "    defs_dict = json.load(f)\n",
    "print(defs_dict.keys())\n",
    "print(f\"num of traits: {len(defs_dict)}\")"
   ]
  },
  {
   "cell_type": "code",
   "execution_count": 6,
   "metadata": {},
   "outputs": [
    {
     "data": {
      "text/plain": [
       "['willing to undertake or seeking out new and daring enterprises']"
      ]
     },
     "execution_count": 6,
     "metadata": {},
     "output_type": "execute_result"
    }
   ],
   "source": [
    "defs_dict['adventurous']"
   ]
  },
  {
   "cell_type": "code",
   "execution_count": 7,
   "metadata": {},
   "outputs": [],
   "source": [
    "def is_entailed(A, B):\n",
    "    \"\"\"\n",
    "    :param A: String.\n",
    "    :param B: String.\n",
    "    \"\"\"\n",
    "    # connect to NLI engine, e.g. RoBERTa.\n",
    "    pass\n",
    "\n",
    "def infer_sentence_relation(trait_dict, trait_graph, s1, s2):\n",
    "    \"\"\"\n",
    "    :param trait_dict: Dict of trait definitions; the traits in this dict are a subset of the\n",
    "    traits in trait_graph.\n",
    "    :param trait_graph: Graph of antonym/synonym relations between traits.\n",
    "    :param s1: String. for comparison w s2.\n",
    "    :param s2: String. for comparison w s1.\n",
    "    \"\"\"\n",
    "    # Find likely trait1 and trait2.\n",
    "    trait1_scores = dict()\n",
    "    trait2_scores = dict()\n",
    "    for trait, defs in trait_dict:\n",
    "        trait1_scores[trait] = list()\n",
    "        trait2_scores[trait] = list()\n",
    "        for definition in defs:\n",
    "            score = is_entailed(definition, s1)\n",
    "            trait1_scores[trait].append(score)\n",
    "            \n",
    "            score = is_entailed(definition, s2)\n",
    "            trait2_scores[trait].append(score)\n",
    "            \n",
    "    # Obtain highest scoring trait1 and trait2 from trait scores dicts.\n",
    "    # {traitx: list_of_scores}\n",
    "    \n",
    "    # Given trait1 and trait2, find edges between them and infer if antonym or synonym.\n"
   ]
  },
  {
   "cell_type": "code",
   "execution_count": 126,
   "metadata": {},
   "outputs": [
    {
     "name": "stdout",
     "output_type": "stream",
     "text": [
      "active\n",
      "correct\n",
      "active-(-1)-inactive-(1)-dull-(1)-dim-(-1)-bright-(1)-auspicious-(1)-fortunate-(1)-good-(1)-right-(1)-correct\n",
      "\n",
      "active-(-1)-inactive-(1)-slow-(1)-dim-(-1)-bright-(1)-auspicious-(1)-fortunate-(1)-good-(1)-right-(1)-correct\n",
      "\n"
     ]
    }
   ],
   "source": [
    "import random\n",
    "\n",
    "def get_paths_of_weights(G, paths_list):\n",
    "    \"\"\"\n",
    "    :param G: source graph\n",
    "    :param paths_list: all shortest paths\n",
    "    \"\"\"\n",
    "    weight_paths_list = list()\n",
    "    for path in paths_list:\n",
    "        weight_path = list()\n",
    "        for i in range(len(path) - 1):\n",
    "            edge_attr = G.get_edge_data(path[i], path[i+1])\n",
    "            weight_path.append(edge_attr['weight'])\n",
    "        weight_paths_list.append(weight_path)\n",
    "    return weight_paths_list\n",
    "\n",
    "def vis_weighted_paths(paths_list, weight_paths_list):\n",
    "    # visualise the weighted_paths\n",
    "    for i in range(len(paths_list)):\n",
    "        path = paths_list[i]\n",
    "        weights = weight_paths_list[i]\n",
    "        to_print = str()\n",
    "        for j in range(len(path)-1):\n",
    "            to_print = to_print + str(f\"{path[j]}-({weights[j]})-\")\n",
    "        to_print = to_print + f\"{path[-1]}\"\n",
    "        print(to_print + '\\n')\n",
    " \n",
    "t1 = random.choice(list(G2.nodes))  # example trait\n",
    "print(t1)\n",
    "t2 = random.choice(list(G2.nodes))  # example trait\n",
    "print(t2)\n",
    "\n",
    "try:\n",
    "    paths = nx.all_shortest_paths(G2, source=t1, target=t2, weight=None, method='dijkstra')\n",
    "    paths_list = [row for row in paths]\n",
    "\n",
    "    paths_of_weights = get_paths_of_weights(G2, paths_list)\n",
    "    vis_weighted_paths(paths_list, paths_of_weights)\n",
    "\n",
    "except nx.NetworkXNoPath as e:\n",
    "    print(e)"
   ]
  },
  {
   "cell_type": "code",
   "execution_count": 128,
   "metadata": {},
   "outputs": [
    {
     "name": "stdout",
     "output_type": "stream",
     "text": [
      "infered relation from shortest paths:\n",
      "synonym\n",
      "\n",
      "<relation: count>:\n",
      "synonym: 2\n"
     ]
    }
   ],
   "source": [
    "import numpy as np\n",
    "from statistics import mode\n",
    "from statistics import StatisticsError\n",
    "\n",
    "inference_map = {-1: \"antonym\", 1: \"synonym\"}\n",
    "\n",
    "def infer_trait_relations(paths_of_weights):\n",
    "    \"\"\"\n",
    "    simple algorithm for computing relation between start and end node of path.\n",
    "    :param paths_of_weights: see get_paths_of_weights(G, paths_list).\n",
    "    \"\"\"\n",
    "    inferred_relations = list()\n",
    "    for weight_path in paths_of_weights:\n",
    "        start_val = weight_path[0]\n",
    "        for i in weight_path[1:]:\n",
    "            start_val = start_val * i\n",
    "        inferred_relations.append(start_val)\n",
    "    return inferred_relations\n",
    "        \n",
    "def print_inference(inferred_relations):\n",
    "    print(\"infered relation from shortest paths:\")\n",
    "    try:\n",
    "        print(inference_map[mode(inferred_relations)] + '\\n')\n",
    "    except StatisticsError as e:\n",
    "        print('no mode found. synonym and antonym equally likely.')\n",
    "    \n",
    "    distribution = np.unique(inferred_relations, return_counts=True)\n",
    "    print(\"<relation: count>:\")\n",
    "    for i in range (len(distribution[0])):\n",
    "        print(f\"{inference_map[distribution[0][i]]}: {distribution[1][i]}\")\n",
    "        \n",
    "inferred_relations = infer_trait_relations(paths_of_weights)\n",
    "print_inference(inferred_relations)"
   ]
  },
  {
   "cell_type": "markdown",
   "metadata": {},
   "source": [
    "### Try to use Wordnet to determine if adjacent words have similar word sense."
   ]
  },
  {
   "cell_type": "code",
   "execution_count": 3,
   "metadata": {
    "scrolled": true
   },
   "outputs": [
    {
     "data": {
      "text/plain": [
       "[(Synset('dull.a.01'), Synset('inactive.s.01')),\n",
       " (Synset('dull.a.01'), Synset('inactive.a.02')),\n",
       " (Synset('dull.a.01'), Synset('nonoperational.a.01')),\n",
       " (Synset('dull.a.01'), Synset('inactive.a.04')),\n",
       " (Synset('dull.a.01'), Synset('dormant.a.02')),\n",
       " (Synset('dull.a.01'), Synset('passive.a.01')),\n",
       " (Synset('dull.a.01'), Synset('inactive.a.07')),\n",
       " (Synset('dull.a.01'), Synset('inactive.a.08')),\n",
       " (Synset('dull.a.01'), Synset('inactive.a.09')),\n",
       " (Synset('dull.a.01'), Synset('inactive.s.10')),\n",
       " (Synset('dull.a.02'), Synset('inactive.s.01')),\n",
       " (Synset('dull.a.02'), Synset('inactive.a.02')),\n",
       " (Synset('dull.a.02'), Synset('nonoperational.a.01')),\n",
       " (Synset('dull.a.02'), Synset('inactive.a.04')),\n",
       " (Synset('dull.a.02'), Synset('dormant.a.02')),\n",
       " (Synset('dull.a.02'), Synset('passive.a.01')),\n",
       " (Synset('dull.a.02'), Synset('inactive.a.07')),\n",
       " (Synset('dull.a.02'), Synset('inactive.a.08')),\n",
       " (Synset('dull.a.02'), Synset('inactive.a.09')),\n",
       " (Synset('dull.a.02'), Synset('inactive.s.10')),\n",
       " (Synset('dull.s.03'), Synset('inactive.s.01')),\n",
       " (Synset('dull.s.03'), Synset('inactive.a.02')),\n",
       " (Synset('dull.s.03'), Synset('nonoperational.a.01')),\n",
       " (Synset('dull.s.03'), Synset('inactive.a.04')),\n",
       " (Synset('dull.s.03'), Synset('dormant.a.02')),\n",
       " (Synset('dull.s.03'), Synset('passive.a.01')),\n",
       " (Synset('dull.s.03'), Synset('inactive.a.07')),\n",
       " (Synset('dull.s.03'), Synset('inactive.a.08')),\n",
       " (Synset('dull.s.03'), Synset('inactive.a.09')),\n",
       " (Synset('dull.s.03'), Synset('inactive.s.10')),\n",
       " (Synset('boring.s.01'), Synset('inactive.s.01')),\n",
       " (Synset('boring.s.01'), Synset('inactive.a.02')),\n",
       " (Synset('boring.s.01'), Synset('nonoperational.a.01')),\n",
       " (Synset('boring.s.01'), Synset('inactive.a.04')),\n",
       " (Synset('boring.s.01'), Synset('dormant.a.02')),\n",
       " (Synset('boring.s.01'), Synset('passive.a.01')),\n",
       " (Synset('boring.s.01'), Synset('inactive.a.07')),\n",
       " (Synset('boring.s.01'), Synset('inactive.a.08')),\n",
       " (Synset('boring.s.01'), Synset('inactive.a.09')),\n",
       " (Synset('boring.s.01'), Synset('inactive.s.10')),\n",
       " (Synset('dull.s.05'), Synset('inactive.s.01')),\n",
       " (Synset('dull.s.05'), Synset('inactive.a.02')),\n",
       " (Synset('dull.s.05'), Synset('nonoperational.a.01')),\n",
       " (Synset('dull.s.05'), Synset('inactive.a.04')),\n",
       " (Synset('dull.s.05'), Synset('dormant.a.02')),\n",
       " (Synset('dull.s.05'), Synset('passive.a.01')),\n",
       " (Synset('dull.s.05'), Synset('inactive.a.07')),\n",
       " (Synset('dull.s.05'), Synset('inactive.a.08')),\n",
       " (Synset('dull.s.05'), Synset('inactive.a.09')),\n",
       " (Synset('dull.s.05'), Synset('inactive.s.10')),\n",
       " (Synset('dull.a.06'), Synset('inactive.s.01')),\n",
       " (Synset('dull.a.06'), Synset('inactive.a.02')),\n",
       " (Synset('dull.a.06'), Synset('nonoperational.a.01')),\n",
       " (Synset('dull.a.06'), Synset('inactive.a.04')),\n",
       " (Synset('dull.a.06'), Synset('dormant.a.02')),\n",
       " (Synset('dull.a.06'), Synset('passive.a.01')),\n",
       " (Synset('dull.a.06'), Synset('inactive.a.07')),\n",
       " (Synset('dull.a.06'), Synset('inactive.a.08')),\n",
       " (Synset('dull.a.06'), Synset('inactive.a.09')),\n",
       " (Synset('dull.a.06'), Synset('inactive.s.10')),\n",
       " (Synset('dense.s.04'), Synset('inactive.s.01')),\n",
       " (Synset('dense.s.04'), Synset('inactive.a.02')),\n",
       " (Synset('dense.s.04'), Synset('nonoperational.a.01')),\n",
       " (Synset('dense.s.04'), Synset('inactive.a.04')),\n",
       " (Synset('dense.s.04'), Synset('dormant.a.02')),\n",
       " (Synset('dense.s.04'), Synset('passive.a.01')),\n",
       " (Synset('dense.s.04'), Synset('inactive.a.07')),\n",
       " (Synset('dense.s.04'), Synset('inactive.a.08')),\n",
       " (Synset('dense.s.04'), Synset('inactive.a.09')),\n",
       " (Synset('dense.s.04'), Synset('inactive.s.10')),\n",
       " (Synset('dull.s.08'), Synset('inactive.s.01')),\n",
       " (Synset('dull.s.08'), Synset('inactive.a.02')),\n",
       " (Synset('dull.s.08'), Synset('nonoperational.a.01')),\n",
       " (Synset('dull.s.08'), Synset('inactive.a.04')),\n",
       " (Synset('dull.s.08'), Synset('dormant.a.02')),\n",
       " (Synset('dull.s.08'), Synset('passive.a.01')),\n",
       " (Synset('dull.s.08'), Synset('inactive.a.07')),\n",
       " (Synset('dull.s.08'), Synset('inactive.a.08')),\n",
       " (Synset('dull.s.08'), Synset('inactive.a.09')),\n",
       " (Synset('dull.s.08'), Synset('inactive.s.10')),\n",
       " (Synset('dull.a.09'), Synset('inactive.s.01')),\n",
       " (Synset('dull.a.09'), Synset('inactive.a.02')),\n",
       " (Synset('dull.a.09'), Synset('nonoperational.a.01')),\n",
       " (Synset('dull.a.09'), Synset('inactive.a.04')),\n",
       " (Synset('dull.a.09'), Synset('dormant.a.02')),\n",
       " (Synset('dull.a.09'), Synset('passive.a.01')),\n",
       " (Synset('dull.a.09'), Synset('inactive.a.07')),\n",
       " (Synset('dull.a.09'), Synset('inactive.a.08')),\n",
       " (Synset('dull.a.09'), Synset('inactive.a.09')),\n",
       " (Synset('dull.a.09'), Synset('inactive.s.10')),\n",
       " (Synset('dull.s.10'), Synset('inactive.s.01')),\n",
       " (Synset('dull.s.10'), Synset('inactive.a.02')),\n",
       " (Synset('dull.s.10'), Synset('nonoperational.a.01')),\n",
       " (Synset('dull.s.10'), Synset('inactive.a.04')),\n",
       " (Synset('dull.s.10'), Synset('dormant.a.02')),\n",
       " (Synset('dull.s.10'), Synset('passive.a.01')),\n",
       " (Synset('dull.s.10'), Synset('inactive.a.07')),\n",
       " (Synset('dull.s.10'), Synset('inactive.a.08')),\n",
       " (Synset('dull.s.10'), Synset('inactive.a.09')),\n",
       " (Synset('dull.s.10'), Synset('inactive.s.10')),\n",
       " (Synset('dull.s.11'), Synset('inactive.s.01')),\n",
       " (Synset('dull.s.11'), Synset('inactive.a.02')),\n",
       " (Synset('dull.s.11'), Synset('nonoperational.a.01')),\n",
       " (Synset('dull.s.11'), Synset('inactive.a.04')),\n",
       " (Synset('dull.s.11'), Synset('dormant.a.02')),\n",
       " (Synset('dull.s.11'), Synset('passive.a.01')),\n",
       " (Synset('dull.s.11'), Synset('inactive.a.07')),\n",
       " (Synset('dull.s.11'), Synset('inactive.a.08')),\n",
       " (Synset('dull.s.11'), Synset('inactive.a.09')),\n",
       " (Synset('dull.s.11'), Synset('inactive.s.10')),\n",
       " (Synset('dull.s.12'), Synset('inactive.s.01')),\n",
       " (Synset('dull.s.12'), Synset('inactive.a.02')),\n",
       " (Synset('dull.s.12'), Synset('nonoperational.a.01')),\n",
       " (Synset('dull.s.12'), Synset('inactive.a.04')),\n",
       " (Synset('dull.s.12'), Synset('dormant.a.02')),\n",
       " (Synset('dull.s.12'), Synset('passive.a.01')),\n",
       " (Synset('dull.s.12'), Synset('inactive.a.07')),\n",
       " (Synset('dull.s.12'), Synset('inactive.a.08')),\n",
       " (Synset('dull.s.12'), Synset('inactive.a.09')),\n",
       " (Synset('dull.s.12'), Synset('inactive.s.10'))]"
      ]
     },
     "metadata": {},
     "output_type": "display_data"
    },
    {
     "name": "stdout",
     "output_type": "stream",
     "text": [
      "[None, None, None, None, None, None, None, None, None, None, None, None, None, None, None, None, None, None, None, None, None, None, None, None, None, None, None, None, None, None, None, None, None, None, None, None, None, None, None, None, None, None, None, None, None, None, None, None, None, None, None, None, None, None, None, None, None, None, None, None, None, None, None, None, None, None, None, None, None, None, None, None, None, None, None, None, None, None, None, None, None, None, None, None, None, None, None, None, None, None, None, None, None, None, None, None, None, None, None, None, None, None, None, None, None, None, None, None, None, None, None, None, None, None, None, None, None, None, None, None]\n"
     ]
    },
    {
     "ename": "ValueError",
     "evalue": "All-NaN slice encountered",
     "output_type": "error",
     "traceback": [
      "\u001b[1;31m---------------------------------------------------------------------------\u001b[0m",
      "\u001b[1;31mValueError\u001b[0m                                Traceback (most recent call last)",
      "\u001b[1;32m<ipython-input-3-a0110f186a9c>\u001b[0m in \u001b[0;36m<module>\u001b[1;34m\u001b[0m\n\u001b[0;32m     20\u001b[0m     \u001b[1;32melse\u001b[0m\u001b[1;33m:\u001b[0m\u001b[1;33m\u001b[0m\u001b[1;33m\u001b[0m\u001b[0m\n\u001b[0;32m     21\u001b[0m         \u001b[0mscores2\u001b[0m\u001b[1;33m.\u001b[0m\u001b[0mappend\u001b[0m\u001b[1;33m(\u001b[0m\u001b[0mnp\u001b[0m\u001b[1;33m.\u001b[0m\u001b[0mnan\u001b[0m\u001b[1;33m)\u001b[0m\u001b[1;33m\u001b[0m\u001b[1;33m\u001b[0m\u001b[0m\n\u001b[1;32m---> 22\u001b[1;33m \u001b[0mmax_index\u001b[0m \u001b[1;33m=\u001b[0m \u001b[0mnp\u001b[0m\u001b[1;33m.\u001b[0m\u001b[0mnanargmax\u001b[0m\u001b[1;33m(\u001b[0m\u001b[0mscores2\u001b[0m\u001b[1;33m)\u001b[0m\u001b[1;33m\u001b[0m\u001b[1;33m\u001b[0m\u001b[0m\n\u001b[0m\u001b[0;32m     23\u001b[0m \u001b[0mprint\u001b[0m\u001b[1;33m(\u001b[0m\u001b[0mmax_index\u001b[0m\u001b[1;33m)\u001b[0m\u001b[1;33m\u001b[0m\u001b[1;33m\u001b[0m\u001b[0m\n\u001b[0;32m     24\u001b[0m \u001b[0mprint\u001b[0m\u001b[1;33m(\u001b[0m\u001b[0mscores2\u001b[0m\u001b[1;33m[\u001b[0m\u001b[0mmax_index\u001b[0m\u001b[1;33m]\u001b[0m\u001b[1;33m)\u001b[0m\u001b[1;33m\u001b[0m\u001b[1;33m\u001b[0m\u001b[0m\n",
      "\u001b[1;32m<__array_function__ internals>\u001b[0m in \u001b[0;36mnanargmax\u001b[1;34m(*args, **kwargs)\u001b[0m\n",
      "\u001b[1;32m~\\Desktop\\Modules\\FYP\\comments-summarization\\env\\lib\\site-packages\\numpy\\lib\\nanfunctions.py\u001b[0m in \u001b[0;36mnanargmax\u001b[1;34m(a, axis)\u001b[0m\n\u001b[0;32m    549\u001b[0m         \u001b[0mmask\u001b[0m \u001b[1;33m=\u001b[0m \u001b[0mnp\u001b[0m\u001b[1;33m.\u001b[0m\u001b[0mall\u001b[0m\u001b[1;33m(\u001b[0m\u001b[0mmask\u001b[0m\u001b[1;33m,\u001b[0m \u001b[0maxis\u001b[0m\u001b[1;33m=\u001b[0m\u001b[0maxis\u001b[0m\u001b[1;33m)\u001b[0m\u001b[1;33m\u001b[0m\u001b[1;33m\u001b[0m\u001b[0m\n\u001b[0;32m    550\u001b[0m         \u001b[1;32mif\u001b[0m \u001b[0mnp\u001b[0m\u001b[1;33m.\u001b[0m\u001b[0many\u001b[0m\u001b[1;33m(\u001b[0m\u001b[0mmask\u001b[0m\u001b[1;33m)\u001b[0m\u001b[1;33m:\u001b[0m\u001b[1;33m\u001b[0m\u001b[1;33m\u001b[0m\u001b[0m\n\u001b[1;32m--> 551\u001b[1;33m             \u001b[1;32mraise\u001b[0m \u001b[0mValueError\u001b[0m\u001b[1;33m(\u001b[0m\u001b[1;34m\"All-NaN slice encountered\"\u001b[0m\u001b[1;33m)\u001b[0m\u001b[1;33m\u001b[0m\u001b[1;33m\u001b[0m\u001b[0m\n\u001b[0m\u001b[0;32m    552\u001b[0m     \u001b[1;32mreturn\u001b[0m \u001b[0mres\u001b[0m\u001b[1;33m\u001b[0m\u001b[1;33m\u001b[0m\u001b[0m\n\u001b[0;32m    553\u001b[0m \u001b[1;33m\u001b[0m\u001b[0m\n",
      "\u001b[1;31mValueError\u001b[0m: All-NaN slice encountered"
     ]
    }
   ],
   "source": [
    "import numpy as np\n",
    "from nltk.corpus import wordnet as wn\n",
    "from itertools import product\n",
    "\n",
    "wordx, wordy = \"dull\",\"inactive\"\n",
    "sem1, sem2 = wn.synsets(wordx, pos='a'), wn.synsets(wordy, pos='a')\n",
    "\n",
    "display(list(product(sem1,sem2)))\n",
    "\n",
    "scores = list()\n",
    "for i,j in list(product(sem1,sem2)):\n",
    "    score = i.path_similarity(j)\n",
    "    scores.append(score)\n",
    "print(scores)\n",
    " \n",
    "scores2 = list()\n",
    "for score in scores:\n",
    "    if score != None:\n",
    "        scores2.append(score)\n",
    "    else:\n",
    "        scores2.append(np.nan)\n",
    "max_index = np.nanargmax(scores2)\n",
    "print(max_index)\n",
    "print(scores2[max_index])\n",
    "list(product(sem1,sem2))[max_index]"
   ]
  },
  {
   "cell_type": "code",
   "execution_count": null,
   "metadata": {},
   "outputs": [],
   "source": []
  }
 ],
 "metadata": {
  "kernelspec": {
   "display_name": "fyp",
   "language": "python",
   "name": "fyp"
  },
  "language_info": {
   "codemirror_mode": {
    "name": "ipython",
    "version": 3
   },
   "file_extension": ".py",
   "mimetype": "text/x-python",
   "name": "python",
   "nbconvert_exporter": "python",
   "pygments_lexer": "ipython3",
   "version": "3.7.4"
  }
 },
 "nbformat": 4,
 "nbformat_minor": 4
}
