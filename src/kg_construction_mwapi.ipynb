{
 "cells": [
  {
   "cell_type": "code",
   "execution_count": 1,
   "metadata": {},
   "outputs": [],
   "source": [
    "import json\n",
    "import numpy as np\n",
    "import networkx as nx"
   ]
  },
  {
   "cell_type": "code",
   "execution_count": 2,
   "metadata": {},
   "outputs": [
    {
     "data": {
      "text/plain": [
       "718"
      ]
     },
     "execution_count": 2,
     "metadata": {},
     "output_type": "execute_result"
    }
   ],
   "source": [
    "with open(\"../data/mw_yihao_crawl_output.json\") as f:\n",
    "    crawler_output = json.load(f)\n",
    "len(crawler_output)"
   ]
  },
  {
   "cell_type": "code",
   "execution_count": 6,
   "metadata": {},
   "outputs": [
    {
     "name": "stdout",
     "output_type": "stream",
     "text": [
      "affirmative\n",
      "{bc}asserting that the fact is so \n",
      "{bc}{sx|positive||} \n",
      "{bc}favoring or supporting a proposition or motion \n",
      "{bc}asserting a predicate of a subject\n",
      "\n",
      "trivial\n",
      "{bc}of little worth or importance \n",
      "{bc}relating to or being the mathematically simplest case\n",
      "{bc}{sx|commonplace||}, {sx|ordinary||}\n",
      "{bc}{sx|specific||4}\n",
      "\n",
      "shallow\n",
      "{bc}having little depth \n",
      "{bc}having little extension inward or backward \n",
      "{bc}penetrating only the easily or quickly perceived \n",
      "{bc}lacking in depth of knowledge, thought, or feeling \n",
      "{bc}displacing comparatively little air {bc}{sx|weak||} \n",
      "\n",
      "facilitatory\n",
      "{bc}inducing or involved in {a_link|facilitation} especially of a reflex action\n",
      "\n",
      "silent\n",
      "{bc}making no {d_link|utterance|utterance:1} {bc}not speaking or making noise \n",
      "{bc}tending to speak very little {bc}not {d_link|loquacious|loquacious} \n",
      "{bc}free from sound or noise {bc}{sx|still||} \n",
      "{bc}performed or borne without utterance {bc}{sx|unspoken||} \n",
      "{bc}making no mention \n",
      "{bc}not widely or generally known or appreciated \n",
      "{bc}making no protest or outcry \n",
      "{bc}{sx|unpronounced||} \n",
      "{bc}being, involving, or caused by an {d_link|asymptomatic|asymptomatic} or {d_link|presymptomatic|presymptomatic} infectious individual \n",
      "{bc}made without spoken dialogue \n",
      "{bc}of or relating to silent movies\n",
      "\n"
     ]
    }
   ],
   "source": [
    "for output in crawler_output[0:5]:\n",
    "    uid = output['meta']['id']  \n",
    "    # note that the id merriam webster provides might have ':'; e.g. 'affirmative:1'\n",
    "    # which stands for homograph 1 of 'affirmative'\n",
    "    colon_idx = uid.find(\":\")\n",
    "    if colon_idx > -1:\n",
    "        term = uid[0:colon_idx]\n",
    "    else:\n",
    "        term = uid\n",
    "    print(term)\n",
    "    senses = output['def'][0]['sseq']\n",
    "    for sense in senses:\n",
    "        for sense_num in sense:\n",
    "            if type(sense_num[1]) == dict and 'dt' in sense_num[1].keys():\n",
    "                if sense_num[1]['dt'][0][0] == \"text\":\n",
    "                    definition = sense_num[1]['dt'][0][1]\n",
    "                    print(definition)\n",
    "    # might be much easier converting the dict to xml and using a scrapy xml parser\n",
    "    # to find the 'dt' tag.\n",
    "    print()\n",
    "    # still have to take care of the formatting tokens..."
   ]
  },
  {
   "cell_type": "code",
   "execution_count": 5,
   "metadata": {},
   "outputs": [
    {
     "data": {
      "text/plain": [
       "networkx.classes.graph.Graph"
      ]
     },
     "metadata": {},
     "output_type": "display_data"
    },
    {
     "data": {
      "text/plain": [
       "728"
      ]
     },
     "metadata": {},
     "output_type": "display_data"
    }
   ],
   "source": [
    "import pickle\n",
    "with open(\"../data/graph.pickle\",'rb') as f:\n",
    "    trait_graph = pickle.load(f)\n",
    "display(type(trait_graph))\n",
    "display(len(trait_graph))"
   ]
  },
  {
   "cell_type": "code",
   "execution_count": null,
   "metadata": {},
   "outputs": [],
   "source": [
    "trait_graph[\"considerate\"]"
   ]
  }
 ],
 "metadata": {
  "kernelspec": {
   "display_name": "fyp",
   "language": "python",
   "name": "fyp"
  },
  "language_info": {
   "codemirror_mode": {
    "name": "ipython",
    "version": 3
   },
   "file_extension": ".py",
   "mimetype": "text/x-python",
   "name": "python",
   "nbconvert_exporter": "python",
   "pygments_lexer": "ipython3",
   "version": "3.7.4"
  }
 },
 "nbformat": 4,
 "nbformat_minor": 4
}
