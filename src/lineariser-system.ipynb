{
 "cells": [
  {
   "cell_type": "code",
   "execution_count": 1,
   "metadata": {},
   "outputs": [],
   "source": [
    "from anytree import Node, RenderTree\n",
    "from internal import lineariser"
   ]
  },
  {
   "cell_type": "code",
   "execution_count": 2,
   "metadata": {},
   "outputs": [
    {
     "name": "stdout",
     "output_type": "stream",
     "text": [
      "Warning: Make sure to start Stanford CoreNLP server before calling this module's functions\n"
     ]
    }
   ],
   "source": [
    "lin = lineariser.Lineariser()"
   ]
  },
  {
   "cell_type": "code",
   "execution_count": 3,
   "metadata": {},
   "outputs": [
    {
     "data": {
      "text/plain": [
       "['bob is happy and satisfied.', 'bob is very full.']"
      ]
     },
     "execution_count": 3,
     "metadata": {},
     "output_type": "execute_result"
    }
   ],
   "source": [
    "lin.linearise('bob is happy and satisfied, and very full.')"
   ]
  },
  {
   "cell_type": "code",
   "execution_count": 4,
   "metadata": {},
   "outputs": [],
   "source": [
    "old_sentences = [\n",
    "    'bob is happy and satisfied.',\n",
    "    'bob is happy and satisfied, and very full.'\n",
    "]\n",
    "new_sentences = []"
   ]
  },
  {
   "cell_type": "code",
   "execution_count": 5,
   "metadata": {},
   "outputs": [],
   "source": [
    "def linearise_hierarchy(n: Node, l: lineariser.Lineariser):\n",
    "    \"\"\"\n",
    "    Recursive algorithm that linearises a sentence into its component sentences.\n",
    "    Recursively grows the tree that represents the hierachical components of the sentence,\n",
    "    according to the Lineariser's rules.\n",
    "        e.g. \n",
    "    :param n: Node containing sentence string and, if they exist, its parent and children.\n",
    "    :param l: lineariser.Lineariser object\n",
    "    :returns: n, a tree as Node\n",
    "    \"\"\"\n",
    "    \n",
    "    new_sents = l.linearise(n.name)  # n.name contains the sentence string.\n",
    "    if new_sents != None:\n",
    "        for sent in new_sents:\n",
    "            linearise_hierarchy(Node(sent, parent=n), l)\n",
    "    return n"
   ]
  },
  {
   "cell_type": "code",
   "execution_count": 6,
   "metadata": {},
   "outputs": [],
   "source": [
    "def test(s, lin, tprint=False):\n",
    "    \"\"\"\n",
    "    :param s: sentence string to linearise hierarchically.\n",
    "    :param lin: lineariser.Lineariser\n",
    "    :param tprint: boolean. set to True to print tree structure.\n",
    "    \"\"\"\n",
    "    test_node = Node(s)\n",
    "    root_node = linearise_hierarchy(test_node, lin)\n",
    "    if tprint:\n",
    "        for pre, fill, node in RenderTree(root_node):\n",
    "            print(\"%s%s\" % (pre, node.name))\n",
    "        print()\n",
    "    return root_node"
   ]
  },
  {
   "cell_type": "code",
   "execution_count": 7,
   "metadata": {},
   "outputs": [
    {
     "name": "stdout",
     "output_type": "stream",
     "text": [
      "bob is happy and satisfied, and very full.\n",
      "├── bob is happy and satisfied.\n",
      "│   ├── bob is happy.\n",
      "│   └── bob is satisfied.\n",
      "└── bob is very full.\n",
      "\n",
      "bob is happy.\n",
      "bob is satisfied.\n",
      "bob is very full.\n"
     ]
    }
   ],
   "source": [
    "root_node = test('bob is happy and satisfied, and very full.', lin, tprint=True)\n",
    "\n",
    "for n in root_node.leaves:\n",
    "    print(n.name) "
   ]
  },
  {
   "cell_type": "code",
   "execution_count": 8,
   "metadata": {},
   "outputs": [
    {
     "name": "stdout",
     "output_type": "stream",
     "text": [
      "Bob is happy, funny, and lively, and he loves a good drink.\n",
      "├── Bob is happy , funny , and lively.\n",
      "│   ├── Bob is happy lively.\n",
      "│   └── Bob is funny lively.\n",
      "└── he loves a good drink.\n",
      "\n"
     ]
    }
   ],
   "source": [
    "sent = \"Bob is happy, funny, and lively, and he loves a good drink.\"\n",
    "root_node = test(sent, lin, tprint=True)"
   ]
  },
  {
   "cell_type": "code",
   "execution_count": 9,
   "metadata": {},
   "outputs": [],
   "source": [
    "# Todo: Debug. Whitespaces were not removed before the commas."
   ]
  },
  {
   "cell_type": "code",
   "execution_count": 10,
   "metadata": {},
   "outputs": [
    {
     "name": "stdout",
     "output_type": "stream",
     "text": [
      "Bob is happy, funny, and lively, and he is also hilarious and genuine.\n",
      "├── Bob is happy , funny , and lively.\n",
      "│   ├── Bob is happy lively.\n",
      "│   └── Bob is funny lively.\n",
      "└── he is also hilarious and genuine.\n",
      "    ├── he is also hilarious.\n",
      "    └── he is also genuine.\n",
      "\n"
     ]
    }
   ],
   "source": [
    "sent = \"Bob is happy, funny, and lively, and he is also hilarious and genuine.\"\n",
    "root_node = test(sent, lin, tprint=True)"
   ]
  },
  {
   "cell_type": "code",
   "execution_count": 11,
   "metadata": {},
   "outputs": [
    {
     "name": "stdout",
     "output_type": "stream",
     "text": [
      "You need to learn to digest every experience and assimilate it without bitterness, regret, spite and resentment.\n",
      "├── You need to learn to digest every experience.\n",
      "└── You need to learn to assimilate it without bitterness, regret, spite and resentment.\n",
      "    ├── You need to learn to assimilate it without bitterness.\n",
      "    ├── You need to learn to assimilate it without regret.\n",
      "    ├── You need to learn to assimilate it without spite.\n",
      "    └── You need to learn to assimilate it without resentment.\n",
      "\n"
     ]
    }
   ],
   "source": [
    "sent = \"You need to learn to digest every experience and assimilate it without bitterness, regret, spite and resentment.\"\n",
    "root_node = test(sent, lin, tprint=True)"
   ]
  },
  {
   "cell_type": "markdown",
   "metadata": {},
   "source": [
    "## Import example astrology corpus."
   ]
  },
  {
   "cell_type": "code",
   "execution_count": 12,
   "metadata": {},
   "outputs": [
    {
     "name": "stdout",
     "output_type": "stream",
     "text": [
      "60 \n",
      "\n"
     ]
    }
   ],
   "source": [
    "import json\n",
    "import nltk\n",
    "import pandas as pd\n",
    "\n",
    "sentences = []\n",
    "\n",
    "'''\n",
    "specify path to json files and feature to pull.\n",
    "e.g. [(PATH_TO_JSON_FILE, FEATURE_NAME)]\n",
    "'''\n",
    "data_list = [\n",
    "    ('../data/planets-in-signs/planets-in-signs_ascendant_data.json', 'Virgo Rising'),\n",
    "    ('../data/planets-in-signs/planets-in-signs_moon_data.json', 'Moon in Cancer'),\n",
    "    ('../data/planets-in-signs/planets-in-signs_mercury_data.json', 'Mercury in Gemini'),\n",
    "    ('../data/planets-in-signs/planets-in-signs_venus_data.json', 'Venus in Taurus')\n",
    "]\n",
    "\n",
    "for fpath, feature in data_list:\n",
    "    with open(fpath, 'r') as f:\n",
    "        data_dict = json.load(f)\n",
    "\n",
    "    group = data_dict[feature]\n",
    "    sentences.extend(nltk.sent_tokenize(group[0]))\n",
    "\n",
    "print(len(sentences), '\\n')"
   ]
  },
  {
   "cell_type": "code",
   "execution_count": 13,
   "metadata": {
    "scrolled": true
   },
   "outputs": [],
   "source": [
    "# for index, sent in enumerate(sentences):\n",
    "#     print(str(index) + ': ' + sent + '\\n')"
   ]
  },
  {
   "cell_type": "code",
   "execution_count": 14,
   "metadata": {
    "scrolled": true
   },
   "outputs": [
    {
     "name": "stdout",
     "output_type": "stream",
     "text": [
      "{0: [], 1: [], 2: [], 3: [], 4: [], 5: [], 6: [], 7: [], 8: [], 9: [], 10: [], 11: [], 12: [], 13: [], 14: [], 15: [], 16: [], 17: [], 18: [], 19: [], 20: [], 21: [], 22: [], 23: [], 24: [], 25: [], 26: [], 27: [], 28: [], 29: [], 30: [], 31: [], 32: [], 33: [], 34: [], 35: [], 36: [], 37: [], 38: [], 39: [], 40: [], 41: [], 42: [], 43: [], 44: [], 45: [], 46: [], 47: [], 48: [], 49: [], 50: [], 51: [], 52: [], 53: [], 54: [], 55: [], 56: [], 57: [], 58: [], 59: []}\n",
      "Warning: Sentence structure not covered by function.\n",
      "Warning: Sentence structure not covered by function.\n",
      "Warning: Sentence structure not covered by function.\n",
      "Warning: Sentence structure not covered by function.\n",
      "60\n"
     ]
    }
   ],
   "source": [
    "linearized_sentences = {i:[] for i in range(len(sentences))}\n",
    "print(linearized_sentences)\n",
    "\n",
    "for i, sent in enumerate(sentences):\n",
    "    root_node = Node(sent)\n",
    "    root_node = linearise_hierarchy(root_node, lin)\n",
    "    for n in root_node.leaves:\n",
    "        linearized_sentences[i].append(n.name)\n",
    "print(len(linearized_sentences))"
   ]
  },
  {
   "cell_type": "code",
   "execution_count": 15,
   "metadata": {
    "scrolled": true
   },
   "outputs": [
    {
     "name": "stdout",
     "output_type": "stream",
     "text": [
      "0 :\n",
      "People with Virgo rising tend to be practical somewhat self-centered.\n",
      "People with Virgo rising tend to be analytical somewhat self-centered.\n",
      "People with Virgo rising tend to be discriminating somewhat self-centered.\n",
      "People with Virgo rising tend to be fastidious somewhat self-centered.\n",
      "People with Virgo rising tend to be careful somewhat self-centered.\n",
      "People with Virgo rising tend to be exacting somewhat self-centered.\n",
      "People with Virgo rising tend to be attentive to details somewhat self-centered.\n",
      "People with Virgo rising tend to be methodical somewhat self-centered.\n",
      "People with Virgo rising tend to be quiet somewhat self-centered.\n",
      "People with Virgo rising tend to be unassuming somewhat self-centered.\n",
      "People with Virgo rising tend to be shy somewhat self-centered.\n",
      "People with Virgo rising tend to be critical somewhat self-centered.\n",
      "People with Virgo rising tend to be thoughtful somewhat self-centered.\n",
      "\n",
      "1 :\n",
      "You have an ingenious mind.\n",
      "You have an active mind.\n",
      "You have an alert mind.\n",
      "\n",
      "2 :\n",
      "Gaining knowledge and putting it to good use are important to you.\n",
      "\n",
      "3 :\n",
      "You strive for perfection.\n",
      "You can be quite the person to live with or to be around because your standards for yourself and others are so high.\n",
      "\n",
      "4 :\n",
      "At times others can never be \"good\" enough to meet those high standards.\n",
      "\n",
      "5 :\n",
      "Finding fault with what's wrong with things is your forte.\n",
      "\n",
      "6 :\n",
      "Sometimes, though, this can make relationships sour as you often turn your critical eye on the one you love and the things they do.\n",
      "\n",
      "7 :\n",
      "Pessimism and being too self-critical are two faults you should try to improve upon.\n",
      "\n",
      "8 :\n",
      "You may tend to worry too much, especially about the small stuff, the little details.\n",
      "\n",
      "9 :\n",
      "Too much worry can lead to health problems.\n",
      "\n",
      "10 :\n",
      "You need to learn to digest every experience.\n",
      "You need to learn to assimilate it without bitterness, regret, spite or resentment.\n",
      "\n",
      "11 :\n",
      "You need to get rid of any negativity that stems from a feeling of inadequacy.\n",
      "\n",
      "12 :\n",
      "You tend to look younger than you really are, no matter what your age.\n",
      "\n",
      "13 :\n",
      "You are very restless.\n",
      "You are very nervous.\n",
      "you seldom have much weight on you.\n",
      "\n",
      "14 :\n",
      "At times you can be very indecisive.\n",
      "At times you can be very unsure.\n",
      "\n",
      "15 :\n",
      "If you have the Moon in Cancer, you very easily respond to the emotional environment in which you are placed.\n",
      "\n",
      "16 :\n",
      "You soak up feelings like a sponge.\n",
      "\n",
      "17 :\n",
      "Perhaps this is why you so easily become moody, irritable and inconstant in thought and feeling.\n",
      "\n",
      "18 :\n",
      "Learning to control your own moods may be very difficult, yet necessary, for you.\n",
      "\n",
      "19 :\n",
      "Your greatest need is to nurture and mother someone or ones.\n",
      "\n",
      "20 :\n",
      "You often appear irrational to others because you can't always explain the reason or source of your feelings.\n",
      "\n",
      "21 :\n",
      "Anyone who lives with you must accept ups.\n",
      "Anyone who lives with you must accept downs.\n",
      "Anyone who lives with you must appreciate your need for times of withdrawal.\n",
      "\n",
      "22 :\n",
      "You are also very sympathetic.\n",
      "You understand unspoken of others.\n",
      "You understand feelings of others.\n",
      "You understand needs of others.\n",
      "\n",
      "23 :\n",
      "You take slights very personally.\n",
      "though you may forgive a mistake by a friend or loved one , you never forget it.\n",
      "\n",
      "24 :\n",
      "Security is very important to you.\n",
      "you look for it in home.\n",
      "you look for it in family.\n",
      "you look for it in life.\n",
      "\n",
      "25 :\n",
      "Your senses and emotions are quite strong.\n",
      "it would be wise for you to listen to your intuitive side as you can be quite psychic.\n",
      "\n",
      "26 :\n",
      "You are very tenacious.\n",
      "you do not give up or let go of things or people easily.\n",
      "\n",
      "27 :\n",
      "Your mother is/was a strong influence for good or ill in your life.\n",
      "\n",
      "28 :\n",
      "You are basically an introvert.\n",
      "You will do whatever it takes to protect and defend your family or loved ones.\n",
      "\n",
      "29 :\n",
      "You tend to be a pack-rat because everything has an emotional memory behind it.\n",
      "you find security in all those memories.\n",
      "\n",
      "30 :\n",
      "Nothing or no one is ever gone if they leave their memory behind.\n",
      "\n",
      "31 :\n",
      "Thus, you can become quite possessive.\n",
      "\n",
      "32 :\n",
      "You have the memory of an elephant.\n",
      "you must learn to forgive.\n",
      "you forget past hurts.\n",
      "\n",
      "33 :\n",
      "If you have Mercury in Gemini, you have extremely adaptable, energetic, active, alert, curious mind.\n",
      "If you have Mercury in Gemini, you have versatile mind.\n",
      "\n",
      "34 :\n",
      "You seek knowledge.\n",
      "through reading or conversation , or through travel and talking with the new people you constantly meet.\n",
      "\n",
      "35 :\n",
      "You have so much nervous energy that this can sometimes cause great stress which must find an appropriate release.\n",
      "\n",
      "36 :\n",
      "Exercise is a good way to release this tension.\n",
      "\n",
      "37 :\n",
      "You are clever.\n",
      "You witty.\n",
      "You have a joke or comeback ready for any situation.\n",
      "\n",
      "38 :\n",
      "You love being involved in multiple things at once and this may be a problem – too may irons in the fire at the same time.\n",
      "\n",
      "39 :\n",
      "You are quick to grasp new concepts.\n",
      "You are equally quick to lose interest in an idea or project once your curiosity has been satisfied.\n",
      "\n",
      "40 :\n",
      "You like to taste a little bit of everything.\n",
      "concentration and disciplined study are not your strong points.\n",
      "\n",
      "41 :\n",
      "You are handy with your hands.\n",
      "You may be ambidextrous or mechanically inclined.\n",
      "\n",
      "42 :\n",
      "Debate and argument appeal to you.\n",
      "\n",
      "43 :\n",
      "There is a tendency to scratch the surface with the things that strike your interest without learning anything very deeply.\n",
      "\n",
      "44 :\n",
      "This is the jack-of-all-trades, master-of-none position.\n",
      "\n",
      "45 :\n",
      "There is danger, then, of superficiality.\n",
      "\n",
      "46 :\n",
      "Control of thought, word, and action is necessary in order to be successful.\n",
      "\n",
      "47 :\n",
      "Find your focus, stay with it and develop perseverance.\n",
      "\n",
      "48 :\n",
      "Journalism, speaking, teaching, sales, advertising, or writing may appeal to you.\n",
      "\n",
      "49 :\n",
      "Mentally restless, you may change jobs or locations frequently, or do work that involves movement, travel, and variety.\n",
      "\n",
      "50 :\n",
      "You grasp concepts easily.\n",
      "You may become impatient with those who do n't learn as quickly.\n",
      "\n",
      "51 :\n",
      "If you have Venus in Taurus, in love affairs you are generally loyal, especially if your partner is demonstrative and affectionate.\n",
      "If you have Venus in Taurus, in love affairs you are generally steady, especially if your partner is demonstrative and affectionate.\n",
      "\n",
      "52 :\n",
      "You are oriented towards the sensual side of life in everything you do.\n",
      "it may show through too much weight.\n",
      "\n",
      "53 :\n",
      "You are tremendously responsive to beauty.\n",
      "You are tremendously responsive to physical appearances.\n",
      "the physical attractiveness of your partner is very important to you.\n",
      "\n",
      "54 :\n",
      "You enjoy indulging yourself.\n",
      "You enjoy indulging the ones you love.\n",
      "it is too easy for you to be extravagant.\n",
      "it is too easy for you to put too much value in material things.\n",
      "\n",
      "55 :\n",
      "Comfort is important to you.\n",
      "you hate getting your hands dirty.\n",
      "\n",
      "56 :\n",
      "At times you can be lazy, hoping or expecting someone else to do the dirty work.\n",
      "\n",
      "57 :\n",
      "Self-control needs to be developed and added to the qualifications you already possess -warmth, charm, sympathy, artistic.\n",
      "\n",
      "58 :\n",
      "Guard against possessiveness, jealousy, and taking the easy way out in your relationships.\n",
      "\n",
      "59 :\n",
      "You aim to please in practical ways.\n",
      "You aim to please in earthy ways.\n",
      "\n"
     ]
    }
   ],
   "source": [
    "for k, v in linearized_sentences.items():\n",
    "    print(str(k), ':')\n",
    "    for sent in v:\n",
    "        print(sent)\n",
    "    print()"
   ]
  },
  {
   "cell_type": "code",
   "execution_count": 16,
   "metadata": {},
   "outputs": [],
   "source": [
    "with open('../data/output/lineariser_output_3.json', 'w', encoding='utf-8') as f:\n",
    "    json.dump(linearized_sentences, f, ensure_ascii=False, indent=4)"
   ]
  },
  {
   "cell_type": "code",
   "execution_count": 17,
   "metadata": {},
   "outputs": [
    {
     "data": {
      "text/plain": [
       "'\\ncount no. of correctly linearised sentences over total sentences. how many of the incorrect\\nones are due to parser? how many are due to linearisation algorithm?\\nBy observation, 8 of the original sentences were clearly incorrectly linearized. 52/60 = 86.67% accuracy.\\nOf these mistakes, \\n2 are due to implicit references\\n1 is due to parser being wrong or sentence being ungrammatical\\n5 seems to be linearisation mistakes\\n'"
      ]
     },
     "execution_count": 17,
     "metadata": {},
     "output_type": "execute_result"
    }
   ],
   "source": [
    "\"\"\"\n",
    "count no. of correctly linearised sentences over total sentences. how many of the incorrect\n",
    "ones are due to parser? how many are due to linearisation algorithm?\n",
    "By observation, 8 of the original sentences were clearly incorrectly linearized. 52/60 = 86.67% accuracy.\n",
    "Of these mistakes, \n",
    "2 are due to implicit references\n",
    "1 is due to parser being wrong or sentence being ungrammatical\n",
    "5 seems to be linearisation mistakes\n",
    "\"\"\""
   ]
  }
 ],
 "metadata": {
  "kernelspec": {
   "display_name": "fyp",
   "language": "python",
   "name": "fyp"
  },
  "language_info": {
   "codemirror_mode": {
    "name": "ipython",
    "version": 3
   },
   "file_extension": ".py",
   "mimetype": "text/x-python",
   "name": "python",
   "nbconvert_exporter": "python",
   "pygments_lexer": "ipython3",
   "version": "3.7.4"
  }
 },
 "nbformat": 4,
 "nbformat_minor": 2
}
