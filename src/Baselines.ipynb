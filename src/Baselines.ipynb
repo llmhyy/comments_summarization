{
 "cells": [
  {
   "cell_type": "markdown",
   "metadata": {},
   "source": [
    "## summarization with other baseline systems"
   ]
  },
  {
   "cell_type": "code",
   "execution_count": 1,
   "metadata": {},
   "outputs": [],
   "source": [
    "import pandas as pd"
   ]
  },
  {
   "cell_type": "code",
   "execution_count": 2,
   "metadata": {},
   "outputs": [
    {
     "data": {
      "text/html": [
       "<div>\n",
       "<style scoped>\n",
       "    .dataframe tbody tr th:only-of-type {\n",
       "        vertical-align: middle;\n",
       "    }\n",
       "\n",
       "    .dataframe tbody tr th {\n",
       "        vertical-align: top;\n",
       "    }\n",
       "\n",
       "    .dataframe thead th {\n",
       "        text-align: right;\n",
       "    }\n",
       "</style>\n",
       "<table border=\"1\" class=\"dataframe\">\n",
       "  <thead>\n",
       "    <tr style=\"text-align: right;\">\n",
       "      <th></th>\n",
       "      <th>index</th>\n",
       "      <th>sentence</th>\n",
       "    </tr>\n",
       "  </thead>\n",
       "  <tbody>\n",
       "    <tr>\n",
       "      <th>0</th>\n",
       "      <td>0</td>\n",
       "      <td>Arrived quickly and in perfect condition!</td>\n",
       "    </tr>\n",
       "    <tr>\n",
       "      <th>1</th>\n",
       "      <td>1</td>\n",
       "      <td>Will definitely look them up when I'm craving ...</td>\n",
       "    </tr>\n",
       "    <tr>\n",
       "      <th>2</th>\n",
       "      <td>2</td>\n",
       "      <td>So if you want a pure goat milk cheese visit t...</td>\n",
       "    </tr>\n",
       "    <tr>\n",
       "      <th>3</th>\n",
       "      <td>3</td>\n",
       "      <td>It is a unique caramel flavor, and makes a gre...</td>\n",
       "    </tr>\n",
       "    <tr>\n",
       "      <th>4</th>\n",
       "      <td>4</td>\n",
       "      <td>It is firm but soft enough that you should use...</td>\n",
       "    </tr>\n",
       "  </tbody>\n",
       "</table>\n",
       "</div>"
      ],
      "text/plain": [
       "   index                                           sentence\n",
       "0      0          Arrived quickly and in perfect condition!\n",
       "1      1  Will definitely look them up when I'm craving ...\n",
       "2      2  So if you want a pure goat milk cheese visit t...\n",
       "3      3  It is a unique caramel flavor, and makes a gre...\n",
       "4      4  It is firm but soft enough that you should use..."
      ]
     },
     "execution_count": 2,
     "metadata": {},
     "output_type": "execute_result"
    }
   ],
   "source": [
    "df = pd.read_csv(\"../data/test13/cheese_small2.csv\")\n",
    "#df = pd.read_csv(\"../data/test7/Trump1.csv\")\n",
    "df.head()"
   ]
  },
  {
   "cell_type": "code",
   "execution_count": 3,
   "metadata": {},
   "outputs": [
    {
     "data": {
      "text/plain": [
       "32"
      ]
     },
     "execution_count": 3,
     "metadata": {},
     "output_type": "execute_result"
    }
   ],
   "source": [
    "len(df)"
   ]
  },
  {
   "cell_type": "code",
   "execution_count": 4,
   "metadata": {},
   "outputs": [
    {
     "data": {
      "text/plain": [
       "'Arrived quickly and in perfect condition! Will definitely look them up when I\\'m craving more Gjetost! So if you want a pure goat milk cheese visit the company\\'s website and buy the pure goat milk version direct. It is a unique caramel flavor, and makes a great cheese to eat with fruit and/or crackers. It is firm but soft enough that you should use a sharp cheese slicer to cut it very thin. A really good product for cheese lovers. I just have to restrict myself to the pure goat milk version in the future. came in ontime was as described. great service. would order again. we were all very happy with this. have not been able to find it in the area we now live in. Try it you just might love it, I do! It is different, but if you love cheese chances are good you will like it. I learned of this cheese from a magazine, Gourmet, I think. The foodie was right, yum! Good stuff. I live in a medium size town, but specialty cheeses are still hard to find locally. Loved it! So, I was delighted to find I could buy it thru Amazon. Ski Queen is a good brand and the seller, \"For The Gourmet\" has provided first class service. \"For The Gourmet\", however, does not gouge you with such excess fees. I found that the unit cost per block goes down considerably if you order 6 -8 blocks at a time. If you have never eaten gjetost before, however, you might want to just get one block to try it out. It has a surprising taste (very much like salty caramel) so you have to keep an open mind the first time. My mother-in-law didn\\'t like it, but she often doesn\\'t like new foods the first time out. My only complaint is that I wish this supplier carried the larger blocks, which are less expensive than the smaller ones. I love my cheese and have been fortunate enough to have cheese from all parts of the globe. The somewhat sweet taste of this delight is perfect with an after dinner wine and some apple slices. I served it on wines and apples so the sweet taste of the cheese and the tart of the apple went well together. Thin slices do this cheese justice so use your cheese slicer! It\\'s perfect!'"
      ]
     },
     "metadata": {},
     "output_type": "display_data"
    }
   ],
   "source": [
    "sentences = \" \".join(df['sentence'].values)\n",
    "display(sentences)"
   ]
  },
  {
   "cell_type": "code",
   "execution_count": 7,
   "metadata": {},
   "outputs": [
    {
     "name": "stdout",
     "output_type": "stream",
     "text": [
      "have not been able to find it in the area we now live in.\n",
      "It is different, but if you love cheese chances are good you will like it.\n",
      "I love my cheese and have been fortunate enough to have cheese from all parts of the globe.\n"
     ]
    }
   ],
   "source": [
    "from __future__ import absolute_import\n",
    "from __future__ import division, print_function, unicode_literals\n",
    "\n",
    "from sumy.sumy.parsers.html import HtmlParser\n",
    "from sumy.sumy.parsers.plaintext import PlaintextParser\n",
    "from sumy.sumy.nlp.tokenizers import Tokenizer\n",
    "\n",
    "#from sumy.summarizers.lsa import LsaSummarizer as Summarizer\n",
    "from sumy.sumy.summarizers.lex_rank import LexRankSummarizer as Summarizer\n",
    "\n",
    "from sumy.sumy.nlp.stemmers import Stemmer\n",
    "from sumy.sumy.utils import get_stop_words\n",
    "\n",
    "LANGUAGE = \"english\"\n",
    "SENTENCES_COUNT = 3\n",
    "\n",
    "\n",
    "if __name__ == \"__main__\":\n",
    "#     url = \"https://en.wikipedia.org/wiki/Automatic_summarization\"\n",
    "#     parser = HtmlParser.from_url(url, Tokenizer(LANGUAGE))\n",
    "    \n",
    "    # or for plain text files\n",
    "    #parser = PlaintextParser.from_file(\"document.txt\", Tokenizer(LANGUAGE))\n",
    "    parser = PlaintextParser.from_string(sentences, Tokenizer(LANGUAGE))\n",
    "    stemmer = Stemmer(LANGUAGE)\n",
    "\n",
    "    summarizer = Summarizer(stemmer)\n",
    "    summarizer.stop_words = get_stop_words(LANGUAGE)\n",
    "\n",
    "    # note that the summarizer gets the top SENTENCES_COUNT sentences but returns them by their order in the document.\n",
    "    # i.e. the first sentence printed out is not necessarily the highest ranking sentence.\n",
    "    for sentence in summarizer(parser.document, SENTENCES_COUNT):\n",
    "        print(sentence)"
   ]
  },
  {
   "cell_type": "code",
   "execution_count": null,
   "metadata": {},
   "outputs": [],
   "source": []
  }
 ],
 "metadata": {
  "kernelspec": {
   "display_name": "FYP",
   "language": "python",
   "name": "fyp"
  },
  "language_info": {
   "codemirror_mode": {
    "name": "ipython",
    "version": 3
   },
   "file_extension": ".py",
   "mimetype": "text/x-python",
   "name": "python",
   "nbconvert_exporter": "python",
   "pygments_lexer": "ipython3",
   "version": "3.7.3"
  }
 },
 "nbformat": 4,
 "nbformat_minor": 4
}
