{
 "cells": [
  {
   "cell_type": "code",
   "execution_count": null,
   "metadata": {},
   "outputs": [],
   "source": [
    "import json"
   ]
  },
  {
   "cell_type": "code",
   "execution_count": 4,
   "metadata": {},
   "outputs": [],
   "source": [
    "with open('../data/planets-in-signs_ascendant_data.json', 'r') as f:\n",
    "    data_dict = json.load(f)"
   ]
  },
  {
   "cell_type": "code",
   "execution_count": 6,
   "metadata": {},
   "outputs": [
    {
     "data": {
      "text/plain": [
       "dict_keys(['Aries Rising', 'Taurus Rising', 'Gemini Rising', 'Cancer Rising', 'Leo Rising', 'Virgo Rising', 'Libra Rising', 'Scorpio Rising', 'Sagittarius Rising', 'Capricorn Rising', 'Aquarius Rising', 'Pisces Rising'])"
      ]
     },
     "execution_count": 6,
     "metadata": {},
     "output_type": "execute_result"
    }
   ],
   "source": [
    "data_dict.keys()"
   ]
  },
  {
   "cell_type": "code",
   "execution_count": 7,
   "metadata": {},
   "outputs": [],
   "source": [
    "group = data_dict['Aries Rising']"
   ]
  },
  {
   "cell_type": "code",
   "execution_count": 9,
   "metadata": {},
   "outputs": [
    {
     "data": {
      "text/plain": [
       "list"
      ]
     },
     "execution_count": 9,
     "metadata": {},
     "output_type": "execute_result"
    }
   ],
   "source": [
    "type(group)"
   ]
  },
  {
   "cell_type": "code",
   "execution_count": 10,
   "metadata": {},
   "outputs": [
    {
     "data": {
      "text/plain": [
       "\"People with Aries rising tend to be energetic, pioneering, rash, argumentative, selfish, impulsive, quick-tempered, aggressive, assertive, headstrong, independent, alert, mechanically-inclined, physically active, self-promoting, self-centered in an unthinking way, and more thoughtless than mean. You have a general dislike for restraint of any kind, don't like to be told what to do, need to learn diplomacy and tact, need to look before leaping, need to better learn how to channel your energies for more constructive purposes and results. Like the ram who symbolizes this sign, you tend to butt your head against your problems hoping that with enough force you can eventually knock down whatever stands before you, including people. You like the challenges of life and are very competitive and sometimes combative. You get bored easily with routine and one thing you may need to practice more of is persistence. You tend to jump from one thing to another, always looking for something new. Finish what you start before moving on. \""
      ]
     },
     "execution_count": 10,
     "metadata": {},
     "output_type": "execute_result"
    }
   ],
   "source": [
    "group[0]"
   ]
  },
  {
   "cell_type": "code",
   "execution_count": 11,
   "metadata": {},
   "outputs": [],
   "source": [
    "import nltk"
   ]
  },
  {
   "cell_type": "code",
   "execution_count": 24,
   "metadata": {},
   "outputs": [
    {
     "name": "stdout",
     "output_type": "stream",
     "text": [
      "['People', 'with', 'Aries', 'rising', 'tend', 'to', 'be', 'energetic', ',', 'pioneering', ',', 'rash', ',', 'argumentative', ',', 'selfish', ',', 'impulsive', ',', 'quick-tempered', ',', 'aggressive', ',', 'assertive', ',', 'headstrong', ',', 'independent', ',', 'alert', ',', 'mechanically-inclined', ',', 'physically', 'active', ',', 'self-promoting', ',', 'self-centered', 'in', 'an', 'unthinking', 'way', ',', 'and', 'more', 'thoughtless', 'than', 'mean', '.', 'You', 'have', 'a', 'general', 'dislike', 'for', 'restraint', 'of', 'any', 'kind', ',', 'do', \"n't\", 'like', 'to', 'be', 'told', 'what', 'to', 'do', ',', 'need', 'to', 'learn', 'diplomacy', 'and', 'tact', ',', 'need', 'to', 'look', 'before', 'leaping', ',', 'need', 'to', 'better', 'learn', 'how', 'to', 'channel', 'your', 'energies', 'for', 'more', 'constructive', 'purposes', 'and', 'results', '.', 'Like', 'the', 'ram', 'who', 'symbolizes', 'this', 'sign', ',', 'you', 'tend', 'to', 'butt', 'your', 'head', 'against', 'your', 'problems', 'hoping', 'that', 'with', 'enough', 'force', 'you', 'can', 'eventually', 'knock', 'down', 'whatever', 'stands', 'before', 'you', ',', 'including', 'people', '.', 'You', 'like', 'the', 'challenges', 'of', 'life', 'and', 'are', 'very', 'competitive', 'and', 'sometimes', 'combative', '.', 'You', 'get', 'bored', 'easily', 'with', 'routine', 'and', 'one', 'thing', 'you', 'may', 'need', 'to', 'practice', 'more', 'of', 'is', 'persistence', '.', 'You', 'tend', 'to', 'jump', 'from', 'one', 'thing', 'to', 'another', ',', 'always', 'looking', 'for', 'something', 'new', '.', 'Finish', 'what', 'you', 'start', 'before', 'moving', 'on', '.']\n"
     ]
    }
   ],
   "source": [
    "words = nltk.word_tokenize(group[0])\n",
    "print(words)"
   ]
  },
  {
   "cell_type": "code",
   "execution_count": 29,
   "metadata": {},
   "outputs": [
    {
     "data": {
      "text/plain": [
       "['People with Aries rising tend to be energetic, pioneering, rash, argumentative, selfish, impulsive, quick-tempered, aggressive, assertive, headstrong, independent, alert, mechanically-inclined, physically active, self-promoting, self-centered in an unthinking way, and more thoughtless than mean.',\n",
       " \"You have a general dislike for restraint of any kind, don't like to be told what to do, need to learn diplomacy and tact, need to look before leaping, need to better learn how to channel your energies for more constructive purposes and results.\",\n",
       " 'Like the ram who symbolizes this sign, you tend to butt your head against your problems hoping that with enough force you can eventually knock down whatever stands before you, including people.',\n",
       " 'You like the challenges of life and are very competitive and sometimes combative.',\n",
       " 'You get bored easily with routine and one thing you may need to practice more of is persistence.',\n",
       " 'You tend to jump from one thing to another, always looking for something new.',\n",
       " 'Finish what you start before moving on.']"
      ]
     },
     "metadata": {},
     "output_type": "display_data"
    }
   ],
   "source": [
    "sentences = nltk.sent_tokenize(group[0])\n",
    "display(sentences)"
   ]
  },
  {
   "cell_type": "markdown",
   "metadata": {},
   "source": [
    "We can see that some sentences are very complex. It would be hard to compare two such sentences to check for contradiction."
   ]
  },
  {
   "cell_type": "code",
   "execution_count": 30,
   "metadata": {},
   "outputs": [],
   "source": [
    "import itertools"
   ]
  },
  {
   "cell_type": "code",
   "execution_count": 43,
   "metadata": {},
   "outputs": [
    {
     "data": {
      "text/plain": [
       "[('People with Aries rising tend to be energetic, pioneering, rash, argumentative, selfish, impulsive, quick-tempered, aggressive, assertive, headstrong, independent, alert, mechanically-inclined, physically active, self-promoting, self-centered in an unthinking way, and more thoughtless than mean.',\n",
       "  \"You have a general dislike for restraint of any kind, don't like to be told what to do, need to learn diplomacy and tact, need to look before leaping, need to better learn how to channel your energies for more constructive purposes and results.\"),\n",
       " ('People with Aries rising tend to be energetic, pioneering, rash, argumentative, selfish, impulsive, quick-tempered, aggressive, assertive, headstrong, independent, alert, mechanically-inclined, physically active, self-promoting, self-centered in an unthinking way, and more thoughtless than mean.',\n",
       "  'Like the ram who symbolizes this sign, you tend to butt your head against your problems hoping that with enough force you can eventually knock down whatever stands before you, including people.'),\n",
       " ('People with Aries rising tend to be energetic, pioneering, rash, argumentative, selfish, impulsive, quick-tempered, aggressive, assertive, headstrong, independent, alert, mechanically-inclined, physically active, self-promoting, self-centered in an unthinking way, and more thoughtless than mean.',\n",
       "  'You like the challenges of life and are very competitive and sometimes combative.'),\n",
       " ('People with Aries rising tend to be energetic, pioneering, rash, argumentative, selfish, impulsive, quick-tempered, aggressive, assertive, headstrong, independent, alert, mechanically-inclined, physically active, self-promoting, self-centered in an unthinking way, and more thoughtless than mean.',\n",
       "  'You get bored easily with routine and one thing you may need to practice more of is persistence.'),\n",
       " ('People with Aries rising tend to be energetic, pioneering, rash, argumentative, selfish, impulsive, quick-tempered, aggressive, assertive, headstrong, independent, alert, mechanically-inclined, physically active, self-promoting, self-centered in an unthinking way, and more thoughtless than mean.',\n",
       "  'You tend to jump from one thing to another, always looking for something new.'),\n",
       " ('People with Aries rising tend to be energetic, pioneering, rash, argumentative, selfish, impulsive, quick-tempered, aggressive, assertive, headstrong, independent, alert, mechanically-inclined, physically active, self-promoting, self-centered in an unthinking way, and more thoughtless than mean.',\n",
       "  'Finish what you start before moving on.'),\n",
       " (\"You have a general dislike for restraint of any kind, don't like to be told what to do, need to learn diplomacy and tact, need to look before leaping, need to better learn how to channel your energies for more constructive purposes and results.\",\n",
       "  'Like the ram who symbolizes this sign, you tend to butt your head against your problems hoping that with enough force you can eventually knock down whatever stands before you, including people.'),\n",
       " (\"You have a general dislike for restraint of any kind, don't like to be told what to do, need to learn diplomacy and tact, need to look before leaping, need to better learn how to channel your energies for more constructive purposes and results.\",\n",
       "  'You like the challenges of life and are very competitive and sometimes combative.'),\n",
       " (\"You have a general dislike for restraint of any kind, don't like to be told what to do, need to learn diplomacy and tact, need to look before leaping, need to better learn how to channel your energies for more constructive purposes and results.\",\n",
       "  'You get bored easily with routine and one thing you may need to practice more of is persistence.'),\n",
       " (\"You have a general dislike for restraint of any kind, don't like to be told what to do, need to learn diplomacy and tact, need to look before leaping, need to better learn how to channel your energies for more constructive purposes and results.\",\n",
       "  'You tend to jump from one thing to another, always looking for something new.'),\n",
       " (\"You have a general dislike for restraint of any kind, don't like to be told what to do, need to learn diplomacy and tact, need to look before leaping, need to better learn how to channel your energies for more constructive purposes and results.\",\n",
       "  'Finish what you start before moving on.'),\n",
       " ('Like the ram who symbolizes this sign, you tend to butt your head against your problems hoping that with enough force you can eventually knock down whatever stands before you, including people.',\n",
       "  'You like the challenges of life and are very competitive and sometimes combative.'),\n",
       " ('Like the ram who symbolizes this sign, you tend to butt your head against your problems hoping that with enough force you can eventually knock down whatever stands before you, including people.',\n",
       "  'You get bored easily with routine and one thing you may need to practice more of is persistence.'),\n",
       " ('Like the ram who symbolizes this sign, you tend to butt your head against your problems hoping that with enough force you can eventually knock down whatever stands before you, including people.',\n",
       "  'You tend to jump from one thing to another, always looking for something new.'),\n",
       " ('Like the ram who symbolizes this sign, you tend to butt your head against your problems hoping that with enough force you can eventually knock down whatever stands before you, including people.',\n",
       "  'Finish what you start before moving on.'),\n",
       " ('You like the challenges of life and are very competitive and sometimes combative.',\n",
       "  'You get bored easily with routine and one thing you may need to practice more of is persistence.'),\n",
       " ('You like the challenges of life and are very competitive and sometimes combative.',\n",
       "  'You tend to jump from one thing to another, always looking for something new.'),\n",
       " ('You like the challenges of life and are very competitive and sometimes combative.',\n",
       "  'Finish what you start before moving on.'),\n",
       " ('You get bored easily with routine and one thing you may need to practice more of is persistence.',\n",
       "  'You tend to jump from one thing to another, always looking for something new.'),\n",
       " ('You get bored easily with routine and one thing you may need to practice more of is persistence.',\n",
       "  'Finish what you start before moving on.'),\n",
       " ('You tend to jump from one thing to another, always looking for something new.',\n",
       "  'Finish what you start before moving on.')]"
      ]
     },
     "metadata": {},
     "output_type": "display_data"
    }
   ],
   "source": [
    "# generate all pairs in the set of sentences.\n",
    "pairs_list = list(itertools.combinations(sentences, 2))\n",
    "display(pairs_list)"
   ]
  },
  {
   "cell_type": "code",
   "execution_count": 44,
   "metadata": {},
   "outputs": [
    {
     "data": {
      "text/plain": [
       "('People with Aries rising tend to be energetic, pioneering, rash, argumentative, selfish, impulsive, quick-tempered, aggressive, assertive, headstrong, independent, alert, mechanically-inclined, physically active, self-promoting, self-centered in an unthinking way, and more thoughtless than mean.',\n",
       " \"You have a general dislike for restraint of any kind, don't like to be told what to do, need to learn diplomacy and tact, need to look before leaping, need to better learn how to channel your energies for more constructive purposes and results.\")"
      ]
     },
     "metadata": {},
     "output_type": "display_data"
    },
    {
     "data": {
      "text/plain": [
       "('You tend to jump from one thing to another, always looking for something new.',\n",
       " 'Finish what you start before moving on.')"
      ]
     },
     "metadata": {},
     "output_type": "display_data"
    }
   ],
   "source": [
    "display(pairs_list[0], pairs_list[-1])"
   ]
  },
  {
   "cell_type": "code",
   "execution_count": 49,
   "metadata": {},
   "outputs": [
    {
     "data": {
      "text/plain": [
       "('People with Aries rising tend to be energetic, pioneering, rash, argumentative, selfish, impulsive, quick-tempered, aggressive, assertive, headstrong, independent, alert, mechanically-inclined, physically active, self-promoting, self-centered in an unthinking way, and more thoughtless than mean.',\n",
       " \"You have a general dislike for restraint of any kind, don't like to be told what to do, need to learn diplomacy and tact, need to look before leaping, need to better learn how to channel your energies for more constructive purposes and results.\",\n",
       " 1)"
      ]
     },
     "metadata": {},
     "output_type": "display_data"
    }
   ],
   "source": [
    "# create a new triplet containing the two sentences and a contradiction score\n",
    "# contradiction score is from -1 to 1.\n",
    "index = 0\n",
    "score = 1\n",
    "triplet = (pairs_list[index][0], pairs_list[index][1], score)\n",
    "display(triplet)"
   ]
  }
 ],
 "metadata": {
  "kernelspec": {
   "display_name": "FYP",
   "language": "python",
   "name": "fyp"
  },
  "language_info": {
   "codemirror_mode": {
    "name": "ipython",
    "version": 3
   },
   "file_extension": ".py",
   "mimetype": "text/x-python",
   "name": "python",
   "nbconvert_exporter": "python",
   "pygments_lexer": "ipython3",
   "version": "3.6.5"
  }
 },
 "nbformat": 4,
 "nbformat_minor": 2
}
