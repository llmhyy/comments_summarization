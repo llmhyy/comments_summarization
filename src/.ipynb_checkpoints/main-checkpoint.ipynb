{
 "cells": [
  {
   "cell_type": "code",
   "execution_count": 1,
   "metadata": {},
   "outputs": [],
   "source": [
    "from anytree import Node, RenderTree\n",
    "from internal import lineariser"
   ]
  },
  {
   "cell_type": "code",
   "execution_count": 2,
   "metadata": {},
   "outputs": [
    {
     "name": "stdout",
     "output_type": "stream",
     "text": [
      "Warning: Make sure to start Stanford CoreNLP server before calling this module's functions\n"
     ]
    }
   ],
   "source": [
    "lin = lineariser.Lineariser()"
   ]
  },
  {
   "cell_type": "code",
   "execution_count": 3,
   "metadata": {},
   "outputs": [
    {
     "data": {
      "text/plain": [
       "['bob is happy and satisfied.', 'bob is very full.']"
      ]
     },
     "execution_count": 3,
     "metadata": {},
     "output_type": "execute_result"
    }
   ],
   "source": [
    "lin.linearise('bob is happy and satisfied, and very full.')"
   ]
  },
  {
   "cell_type": "code",
   "execution_count": 4,
   "metadata": {},
   "outputs": [],
   "source": [
    "old_sentences = [\n",
    "    'bob is happy and satisfied.',\n",
    "    'bob is happy and satisfied, and very full.'\n",
    "]\n",
    "new_sentences = []"
   ]
  },
  {
   "cell_type": "code",
   "execution_count": 5,
   "metadata": {},
   "outputs": [],
   "source": [
    "def linearise_hierarchy(n: Node, l: lineariser.Lineariser):\n",
    "    \"\"\"\n",
    "    Recursive algorithm that linearises a sentence into its component sentences.\n",
    "    Recursively grows the tree that represents the hierachical components of the sentence,\n",
    "    according to the Lineariser's rules.\n",
    "        e.g. \n",
    "    :param n: Node containing sentence string and, if they exist, its parent and children.\n",
    "    :param l: lineariser.Lineariser object\n",
    "    :returns: a tree as Node\n",
    "    \"\"\"\n",
    "    \n",
    "    new_sents = l.linearise(n.name)  # n.name contains the sentence string.\n",
    "    if new_sents != None:\n",
    "        for sent in new_sents:\n",
    "            linearise_hierarchy(Node(sent, parent=n), l)\n",
    "    return n"
   ]
  },
  {
   "cell_type": "code",
   "execution_count": 16,
   "metadata": {},
   "outputs": [],
   "source": [
    "def test(s, lin, tprint=False):\n",
    "    \"\"\"\n",
    "    :param s: sentence string to linearise hierarchically.\n",
    "    :param lin: lineariser.Lineariser\n",
    "    :param tprint: boolean. set to True to print tree structure.\n",
    "    \"\"\"\n",
    "    test_node = Node(s)\n",
    "    root_node = linearise_hierarchy(test_node, lin)\n",
    "    if tprint:\n",
    "        for pre, fill, node in RenderTree(root_node):\n",
    "            print(\"%s%s\" % (pre, node.name))\n",
    "        print()\n",
    "    return root_node"
   ]
  },
  {
   "cell_type": "code",
   "execution_count": 17,
   "metadata": {},
   "outputs": [
    {
     "name": "stdout",
     "output_type": "stream",
     "text": [
      "bob is happy and satisfied, and very full.\n",
      "├── bob is happy and satisfied.\n",
      "│   ├── bob is happy.\n",
      "│   └── bob is satisfied.\n",
      "└── bob is very full.\n",
      "\n",
      "bob is happy.\n",
      "bob is satisfied.\n",
      "bob is very full.\n"
     ]
    }
   ],
   "source": [
    "root_node = test('bob is happy and satisfied, and very full.', lin, tprint=True)\n",
    "\n",
    "for n in root_node.leaves:\n",
    "    print(n.name) "
   ]
  },
  {
   "cell_type": "code",
   "execution_count": 18,
   "metadata": {},
   "outputs": [
    {
     "name": "stdout",
     "output_type": "stream",
     "text": [
      "Bob is happy, funny, and lively, and he loves a good drink.\n",
      "├── Bob is happy , funny , and lively.\n",
      "│   ├── Bob is happy.\n",
      "│   ├── Bob is funny.\n",
      "│   └── Bob is lively.\n",
      "└── he loves a good drink.\n",
      "\n"
     ]
    }
   ],
   "source": [
    "sent = \"Bob is happy, funny, and lively, and he loves a good drink.\"\n",
    "root_node = test(sent, lin, tprint=True)"
   ]
  },
  {
   "cell_type": "code",
   "execution_count": 19,
   "metadata": {},
   "outputs": [],
   "source": [
    "# Todo: Debug. Whitespaces were not removed before the commas."
   ]
  },
  {
   "cell_type": "code",
   "execution_count": 20,
   "metadata": {},
   "outputs": [
    {
     "name": "stdout",
     "output_type": "stream",
     "text": [
      "Bob is happy, funny, and lively, and he is also hilarious and genuine.\n",
      "├── Bob is happy , funny , and lively.\n",
      "│   ├── Bob is happy.\n",
      "│   ├── Bob is funny.\n",
      "│   └── Bob is lively.\n",
      "└── he is also hilarious and genuine.\n",
      "    ├── he is also hilarious.\n",
      "    └── he is also genuine.\n",
      "\n"
     ]
    }
   ],
   "source": [
    "sent = \"Bob is happy, funny, and lively, and he is also hilarious and genuine.\"\n",
    "root_node = test(sent, lin, tprint=True)"
   ]
  },
  {
   "cell_type": "code",
   "execution_count": 23,
   "metadata": {},
   "outputs": [
    {
     "name": "stdout",
     "output_type": "stream",
     "text": [
      "You need to learn to digest every experience and assimilate it without bitterness, regret, spite and resentment.\n",
      "├── You need to learn to digest every experience.\n",
      "└── You need to learn to assimilate it without bitterness, regret, spite and resentment.\n",
      "    ├── You need to learn to assimilate it without bitterness.\n",
      "    ├── You need to learn to assimilate it without regret.\n",
      "    ├── You need to learn to assimilate it without spite.\n",
      "    └── You need to learn to assimilate it without resentment.\n",
      "\n"
     ]
    }
   ],
   "source": [
    "sent = \"You need to learn to digest every experience and assimilate it without bitterness, regret, spite and resentment.\"\n",
    "root_node = test(sent, lin, tprint=True)"
   ]
  },
  {
   "cell_type": "code",
   "execution_count": null,
   "metadata": {},
   "outputs": [],
   "source": []
  }
 ],
 "metadata": {
  "kernelspec": {
   "display_name": "fyp",
   "language": "python",
   "name": "fyp"
  },
  "language_info": {
   "codemirror_mode": {
    "name": "ipython",
    "version": 3
   },
   "file_extension": ".py",
   "mimetype": "text/x-python",
   "name": "python",
   "nbconvert_exporter": "python",
   "pygments_lexer": "ipython3",
   "version": "3.7.4"
  }
 },
 "nbformat": 4,
 "nbformat_minor": 2
}
