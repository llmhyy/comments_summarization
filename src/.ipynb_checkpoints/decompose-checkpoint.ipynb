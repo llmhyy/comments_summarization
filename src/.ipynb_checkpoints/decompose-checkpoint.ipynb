{
 "cells": [
  {
   "cell_type": "markdown",
   "metadata": {},
   "source": [
    "This notebook demonstrates usage of different nltk Tree methods"
   ]
  },
  {
   "cell_type": "code",
   "execution_count": 2,
   "metadata": {},
   "outputs": [],
   "source": [
    "import nltk"
   ]
  },
  {
   "cell_type": "code",
   "execution_count": 3,
   "metadata": {},
   "outputs": [],
   "source": [
    "from nltk.tree import Tree"
   ]
  },
  {
   "cell_type": "code",
   "execution_count": 4,
   "metadata": {},
   "outputs": [
    {
     "name": "stdout",
     "output_type": "stream",
     "text": [
      "(1 2 (3 4) 5)\n"
     ]
    }
   ],
   "source": [
    "t = Tree(1, [2, Tree(3, [4]), 5])\n",
    "print(t)"
   ]
  },
  {
   "cell_type": "code",
   "execution_count": 5,
   "metadata": {},
   "outputs": [
    {
     "name": "stdout",
     "output_type": "stream",
     "text": [
      "(S (NP I) (VP (V saw) (NP him)))\n"
     ]
    }
   ],
   "source": [
    "s = Tree.fromstring(\"(S (NP I) (VP (V saw) (NP him)))\")\n",
    "print(s)"
   ]
  },
  {
   "cell_type": "code",
   "execution_count": 6,
   "metadata": {},
   "outputs": [
    {
     "name": "stdout",
     "output_type": "stream",
     "text": [
      "     S         \n",
      "  ___|___       \n",
      " |       VP    \n",
      " |    ___|___   \n",
      " NP  V       NP\n",
      " |   |       |  \n",
      " I  saw     him\n",
      "\n"
     ]
    }
   ],
   "source": [
    "s.pretty_print()"
   ]
  },
  {
   "cell_type": "code",
   "execution_count": 7,
   "metadata": {},
   "outputs": [],
   "source": [
    "output = \"(ROOT (S(NP (PRP You))(VP(VP (VBP grasp)(NP (NNS concepts))(ADVP (RB easily)))(CC and)(VP (MD may)(VP (VB become)(ADJP (JJ impatient))(PP (IN with)(NP(NP (DT those))(SBAR(WHNP (WP who))(S(VP (VBP do) (RB n't)(VP (VB learn)(ADVP (RB as) (RB quickly)))))))))))(. .)))\""
   ]
  },
  {
   "cell_type": "code",
   "execution_count": 8,
   "metadata": {},
   "outputs": [
    {
     "name": "stdout",
     "output_type": "stream",
     "text": [
      "(ROOT\n",
      "  (S\n",
      "    (NP (PRP You))\n",
      "    (VP\n",
      "      (VP (VBP grasp) (NP (NNS concepts)) (ADVP (RB easily)))\n",
      "      (CC and)\n",
      "      (VP\n",
      "        (MD may)\n",
      "        (VP\n",
      "          (VB become)\n",
      "          (ADJP (JJ impatient))\n",
      "          (PP\n",
      "            (IN with)\n",
      "            (NP\n",
      "              (NP (DT those))\n",
      "              (SBAR\n",
      "                (WHNP (WP who))\n",
      "                (S\n",
      "                  (VP\n",
      "                    (VBP do)\n",
      "                    (RB n't)\n",
      "                    (VP (VB learn) (ADVP (RB as) (RB quickly)))))))))))\n",
      "    (. .)))\n"
     ]
    }
   ],
   "source": [
    "parsetree = Tree.fromstring(output)\n",
    "print(parsetree)"
   ]
  },
  {
   "cell_type": "code",
   "execution_count": 8,
   "metadata": {},
   "outputs": [
    {
     "name": "stdout",
     "output_type": "stream",
     "text": [
      "                                                   ROOT                                               \n",
      "                                                    |                                                  \n",
      "                                                    S                                                 \n",
      "  __________________________________________________|_______________________________________________   \n",
      " |                         VP                                                                       | \n",
      " |            _____________|________                                                                |  \n",
      " |           |             |        VP                                                              | \n",
      " |           |             |    ____|________                                                       |  \n",
      " |           |             |   |             VP                                                     | \n",
      " |           |             |   |     ________|____________                                          |  \n",
      " |           |             |   |    |        |            PP                                        | \n",
      " |           |             |   |    |        |       _____|____                                     |  \n",
      " |           |             |   |    |        |      |          NP                                   | \n",
      " |           |             |   |    |        |      |      ____|________                            |  \n",
      " |           |             |   |    |        |      |     |            SBAR                         | \n",
      " |           |             |   |    |        |      |     |     ________|_____                      |  \n",
      " |           |             |   |    |        |      |     |    |              S                     | \n",
      " |           |             |   |    |        |      |     |    |              |                     |  \n",
      " |           |             |   |    |        |      |     |    |              VP                    | \n",
      " |           |             |   |    |        |      |     |    |     _________|____                 |  \n",
      " |           VP            |   |    |        |      |     |    |    |   |          VP               | \n",
      " |     ______|_______      |   |    |        |      |     |    |    |   |      ____|___             |  \n",
      " NP   |      NP     ADVP   |   |    |       ADJP    |     NP  WHNP  |   |     |       ADVP          | \n",
      " |    |      |       |     |   |    |        |      |     |    |    |   |     |     ___|______      |  \n",
      "PRP  VBP    NNS      RB    CC  MD   VB       JJ     IN    DT   WP  VBP  RB    VB   RB         RB    . \n",
      " |    |      |       |     |   |    |        |      |     |    |    |   |     |    |          |     |  \n",
      "You grasp concepts easily and may become impatient with those who   do n't  learn  as      quickly  . \n",
      "\n"
     ]
    }
   ],
   "source": [
    "parsetree.pretty_print()"
   ]
  },
  {
   "cell_type": "code",
   "execution_count": 29,
   "metadata": {},
   "outputs": [
    {
     "name": "stdout",
     "output_type": "stream",
     "text": [
      "       PP                                      \n",
      "  _____|____                                    \n",
      " |          NP                                 \n",
      " |      ____|________                           \n",
      " |     |            SBAR                       \n",
      " |     |     ________|_____                     \n",
      " |     |    |              S                   \n",
      " |     |    |              |                    \n",
      " |     |    |              VP                  \n",
      " |     |    |     _________|____                \n",
      " |     |    |    |   |          VP             \n",
      " |     |    |    |   |      ____|___            \n",
      " |     NP  WHNP  |   |     |       ADVP        \n",
      " |     |    |    |   |     |     ___|______     \n",
      " IN    DT   WP  VBP  RB    VB   RB         RB  \n",
      " |     |    |    |   |     |    |          |    \n",
      "with those who   do n't  learn  as      quickly\n",
      "\n"
     ]
    }
   ],
   "source": [
    "# access children (which are also trees)\n",
    "parsetree[0][1][2][1][2].pretty_print()"
   ]
  },
  {
   "cell_type": "code",
   "execution_count": 27,
   "metadata": {},
   "outputs": [
    {
     "data": {
      "text/plain": [
       "'PP'"
      ]
     },
     "execution_count": 27,
     "metadata": {},
     "output_type": "execute_result"
    }
   ],
   "source": [
    "parsetree[0][1][2][1][2].label()"
   ]
  },
  {
   "cell_type": "code",
   "execution_count": 28,
   "metadata": {},
   "outputs": [
    {
     "data": {
      "text/plain": [
       "[ROOT -> S,\n",
       " S -> NP VP .,\n",
       " NP -> PRP,\n",
       " PRP -> 'You',\n",
       " VP -> VP CC VP,\n",
       " VP -> VBP NP ADVP,\n",
       " VBP -> 'grasp',\n",
       " NP -> NNS,\n",
       " NNS -> 'concepts',\n",
       " ADVP -> RB,\n",
       " RB -> 'easily',\n",
       " CC -> 'and',\n",
       " VP -> MD VP,\n",
       " MD -> 'may',\n",
       " VP -> VB ADJP PP,\n",
       " VB -> 'become',\n",
       " ADJP -> JJ,\n",
       " JJ -> 'impatient',\n",
       " PP -> IN NP,\n",
       " IN -> 'with',\n",
       " NP -> NP SBAR,\n",
       " NP -> DT,\n",
       " DT -> 'those',\n",
       " SBAR -> WHNP S,\n",
       " WHNP -> WP,\n",
       " WP -> 'who',\n",
       " S -> VP,\n",
       " VP -> VBP RB VP,\n",
       " VBP -> 'do',\n",
       " RB -> \"n't\",\n",
       " VP -> VB ADVP,\n",
       " VB -> 'learn',\n",
       " ADVP -> RB RB,\n",
       " RB -> 'as',\n",
       " RB -> 'quickly',\n",
       " . -> '.']"
      ]
     },
     "execution_count": 28,
     "metadata": {},
     "output_type": "execute_result"
    }
   ],
   "source": [
    "parsetree.productions()"
   ]
  },
  {
   "cell_type": "code",
   "execution_count": 43,
   "metadata": {},
   "outputs": [],
   "source": [
    "def get_child_labels(t):\n",
    "    \"\"\"\n",
    "    :param t: an nltk.tree.Tree\n",
    "    :returns: list of labels of the children.\n",
    "    \"\"\"\n",
    "    labels = []\n",
    "    for child in t:\n",
    "        labels.append(child.label())\n",
    "        \n",
    "    return labels"
   ]
  },
  {
   "cell_type": "code",
   "execution_count": 62,
   "metadata": {},
   "outputs": [],
   "source": [
    "def simple_find_parallel_sentence(t):\n",
    "    \"\"\"\n",
    "    From a sentence, finds two sub-sentences describing the same subject in parallel.\n",
    "\n",
    "        e.g. \"You grasp concepts easily and may become impatient with those who don't learn as quickly.\"\n",
    "        can be broken down into \"You grasp concepts easily\" and \"You may become impatient with those who don't learn as quickly.\"\n",
    "\n",
    "        :param t: an nltk.tree.Tree\n",
    "        :returns: 2-ple of nltk.tree.Tree\n",
    "    \"\"\"\n",
    "    subsentences = []\n",
    "    labels = get_child_labels(t)\n",
    "    \n",
    "    if 'NP' in labels:\n",
    "        np_label = labels.index('NP')\n",
    "        print('NP found.')\n",
    "        if 'VP' in labels:\n",
    "            index = labels.index('VP')\n",
    "            labels2 = get_child_labels(t[index])\n",
    "            if labels2.count('VP') >= 2:\n",
    "                print('found parallel VP subssentences.')\n",
    "                for child in t[index]:\n",
    "                    if child.label() == 'VP':\n",
    "                        subsentences.append(child.leaves())\n",
    "        elif 'AP' in labels:\n",
    "            index = labels.index('AP')\n",
    "            labels2 = get_child_labels(t[index])\n",
    "            if labels2.count('AP') >= 2:\n",
    "                print('found parallel AP sub-sentences.')\n",
    "                for child in t[index]:\n",
    "                    if child.label() == 'AP':\n",
    "                        subsentences.append(child.leaves())\n",
    "        print('new sentences are :')\n",
    "        for sent in subsentences:\n",
    "            print(t[np_label].leaves(), sent)\n",
    "            \n",
    "        # todo: return n new trees representing the n new sentences or return n new string sentences.\n",
    "        \n",
    "    else:\n",
    "        print('Sentence may be invalid.')\n",
    "    "
   ]
  },
  {
   "cell_type": "code",
   "execution_count": 63,
   "metadata": {},
   "outputs": [
    {
     "name": "stdout",
     "output_type": "stream",
     "text": [
      "NP found.\n",
      "found parallel VP subssentences.\n",
      "new sentences are :\n",
      "['You'] ['grasp', 'concepts', 'easily']\n",
      "['You'] ['may', 'become', 'impatient', 'with', 'those', 'who', 'do', \"n't\", 'learn', 'as', 'quickly']\n"
     ]
    }
   ],
   "source": [
    "simple_find_parallel_sentence(parsetree[0])"
   ]
  },
  {
   "cell_type": "code",
   "execution_count": null,
   "metadata": {},
   "outputs": [],
   "source": []
  }
 ],
 "metadata": {
  "kernelspec": {
   "display_name": "fyp",
   "language": "python",
   "name": "fyp"
  },
  "language_info": {
   "codemirror_mode": {
    "name": "ipython",
    "version": 3
   },
   "file_extension": ".py",
   "mimetype": "text/x-python",
   "name": "python",
   "nbconvert_exporter": "python",
   "pygments_lexer": "ipython3",
   "version": "3.7.4"
  }
 },
 "nbformat": 4,
 "nbformat_minor": 4
}
