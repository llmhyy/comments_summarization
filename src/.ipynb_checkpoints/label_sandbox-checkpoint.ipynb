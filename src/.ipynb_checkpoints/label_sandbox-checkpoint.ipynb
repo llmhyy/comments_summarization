{
 "cells": [
  {
   "cell_type": "code",
   "execution_count": 1,
   "metadata": {},
   "outputs": [],
   "source": [
    "import json"
   ]
  },
  {
   "cell_type": "code",
   "execution_count": 4,
   "metadata": {},
   "outputs": [],
   "source": [
    "with open('../data/planets-in-signs_ascendant_data.json', 'r') as f:\n",
    "    data_dict = json.load(f)"
   ]
  },
  {
   "cell_type": "code",
   "execution_count": 6,
   "metadata": {},
   "outputs": [
    {
     "data": {
      "text/plain": [
       "dict_keys(['Aries Rising', 'Taurus Rising', 'Gemini Rising', 'Cancer Rising', 'Leo Rising', 'Virgo Rising', 'Libra Rising', 'Scorpio Rising', 'Sagittarius Rising', 'Capricorn Rising', 'Aquarius Rising', 'Pisces Rising'])"
      ]
     },
     "execution_count": 6,
     "metadata": {},
     "output_type": "execute_result"
    }
   ],
   "source": [
    "data_dict.keys()"
   ]
  },
  {
   "cell_type": "code",
   "execution_count": 7,
   "metadata": {},
   "outputs": [],
   "source": [
    "group = data_dict['Aries Rising']"
   ]
  },
  {
   "cell_type": "code",
   "execution_count": 9,
   "metadata": {},
   "outputs": [
    {
     "data": {
      "text/plain": [
       "list"
      ]
     },
     "execution_count": 9,
     "metadata": {},
     "output_type": "execute_result"
    }
   ],
   "source": [
    "type(group)"
   ]
  },
  {
   "cell_type": "code",
   "execution_count": 10,
   "metadata": {},
   "outputs": [
    {
     "data": {
      "text/plain": [
       "\"People with Aries rising tend to be energetic, pioneering, rash, argumentative, selfish, impulsive, quick-tempered, aggressive, assertive, headstrong, independent, alert, mechanically-inclined, physically active, self-promoting, self-centered in an unthinking way, and more thoughtless than mean. You have a general dislike for restraint of any kind, don't like to be told what to do, need to learn diplomacy and tact, need to look before leaping, need to better learn how to channel your energies for more constructive purposes and results. Like the ram who symbolizes this sign, you tend to butt your head against your problems hoping that with enough force you can eventually knock down whatever stands before you, including people. You like the challenges of life and are very competitive and sometimes combative. You get bored easily with routine and one thing you may need to practice more of is persistence. You tend to jump from one thing to another, always looking for something new. Finish what you start before moving on. \""
      ]
     },
     "execution_count": 10,
     "metadata": {},
     "output_type": "execute_result"
    }
   ],
   "source": [
    "group[0]"
   ]
  },
  {
   "cell_type": "code",
   "execution_count": 11,
   "metadata": {},
   "outputs": [],
   "source": [
    "import nltk"
   ]
  },
  {
   "cell_type": "code",
   "execution_count": 24,
   "metadata": {},
   "outputs": [
    {
     "name": "stdout",
     "output_type": "stream",
     "text": [
      "['People', 'with', 'Aries', 'rising', 'tend', 'to', 'be', 'energetic', ',', 'pioneering', ',', 'rash', ',', 'argumentative', ',', 'selfish', ',', 'impulsive', ',', 'quick-tempered', ',', 'aggressive', ',', 'assertive', ',', 'headstrong', ',', 'independent', ',', 'alert', ',', 'mechanically-inclined', ',', 'physically', 'active', ',', 'self-promoting', ',', 'self-centered', 'in', 'an', 'unthinking', 'way', ',', 'and', 'more', 'thoughtless', 'than', 'mean', '.', 'You', 'have', 'a', 'general', 'dislike', 'for', 'restraint', 'of', 'any', 'kind', ',', 'do', \"n't\", 'like', 'to', 'be', 'told', 'what', 'to', 'do', ',', 'need', 'to', 'learn', 'diplomacy', 'and', 'tact', ',', 'need', 'to', 'look', 'before', 'leaping', ',', 'need', 'to', 'better', 'learn', 'how', 'to', 'channel', 'your', 'energies', 'for', 'more', 'constructive', 'purposes', 'and', 'results', '.', 'Like', 'the', 'ram', 'who', 'symbolizes', 'this', 'sign', ',', 'you', 'tend', 'to', 'butt', 'your', 'head', 'against', 'your', 'problems', 'hoping', 'that', 'with', 'enough', 'force', 'you', 'can', 'eventually', 'knock', 'down', 'whatever', 'stands', 'before', 'you', ',', 'including', 'people', '.', 'You', 'like', 'the', 'challenges', 'of', 'life', 'and', 'are', 'very', 'competitive', 'and', 'sometimes', 'combative', '.', 'You', 'get', 'bored', 'easily', 'with', 'routine', 'and', 'one', 'thing', 'you', 'may', 'need', 'to', 'practice', 'more', 'of', 'is', 'persistence', '.', 'You', 'tend', 'to', 'jump', 'from', 'one', 'thing', 'to', 'another', ',', 'always', 'looking', 'for', 'something', 'new', '.', 'Finish', 'what', 'you', 'start', 'before', 'moving', 'on', '.']\n"
     ]
    }
   ],
   "source": [
    "words = nltk.word_tokenize(group[0])\n",
    "print(words)"
   ]
  },
  {
   "cell_type": "code",
   "execution_count": 25,
   "metadata": {},
   "outputs": [],
   "source": [
    "sentences = nltk.sent_tokenize(group[0])\n",
    "print(sentences)"
   ]
  },
  {
   "cell_type": "code",
   "execution_count": null,
   "metadata": {},
   "outputs": [],
   "source": []
  }
 ],
 "metadata": {
  "kernelspec": {
   "display_name": "FYP",
   "language": "python",
   "name": "fyp"
  },
  "language_info": {
   "codemirror_mode": {
    "name": "ipython",
    "version": 3
   },
   "file_extension": ".py",
   "mimetype": "text/x-python",
   "name": "python",
   "nbconvert_exporter": "python",
   "pygments_lexer": "ipython3",
   "version": "3.6.5"
  }
 },
 "nbformat": 4,
 "nbformat_minor": 2
}
