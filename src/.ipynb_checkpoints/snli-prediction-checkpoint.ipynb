{
 "cells": [
  {
   "cell_type": "code",
   "execution_count": 4,
   "metadata": {},
   "outputs": [],
   "source": [
    "import csv"
   ]
  },
  {
   "cell_type": "code",
   "execution_count": 4,
   "metadata": {},
   "outputs": [],
   "source": [
    "label_dict = {0:'contradiction', 1:'entailment', 2:'neutral'}  # ids used in the SNLI dataset."
   ]
  },
  {
   "cell_type": "code",
   "execution_count": 13,
   "metadata": {},
   "outputs": [],
   "source": [
    "# convert astrocorpus format to snli-sembert format for input into snli-sembert predictor.\n",
    "with open('../data/example.csv', 'r') as csvfile:\n",
    "    csvreader = csv.reader(csvfile)\n",
    "    with open ('../data/example.tsv', 'w') as tsvfile:\n",
    "        tsvwriter = csv.writer(tsvfile, delimiter='\\t', lineterminator='\\n')\n",
    "        header = [0, 1, 2, 3, 4, 5, 6, 'sentence1', 'sentence2', 'label']\n",
    "        tsvwriter.writerow(header)\n",
    "        \n",
    "        next(csvreader, None)  # skip the header.\n",
    "        for row in csvreader:\n",
    "            to_write = [0, 1, 2, 3, 4, 5, 6]\n",
    "            if row[3] == 'na':\n",
    "                continue\n",
    "            elif int(row[3]) == 5:\n",
    "                label = 'neutral'\n",
    "            elif int(row[3]) > 5:\n",
    "                label = 'contradiction'\n",
    "            else:\n",
    "                label = 'entailment'\n",
    "            to_write.extend([row[1], row[2], label])\n",
    "            tsvwriter.writerow(to_write)"
   ]
  },
  {
   "cell_type": "code",
   "execution_count": 13,
   "metadata": {},
   "outputs": [],
   "source": [
    "# obtain ground truth labels and predicted labels from tsv files for evaluation.\n",
    "true = []\n",
    "with open('../data/example.tsv', 'r') as tsvfile:\n",
    "    tsvreader = csv.reader(tsvfile, delimiter='\\t')\n",
    "    next(tsvreader, 1)  # skip header\n",
    "    for row in tsvreader:\n",
    "        true.append(row[-1])\n",
    "pred = []\n",
    "with open('../data/sembert_output/110320_astro_pred_results.tsv', 'r') as tsvfile:\n",
    "    tsvreader = csv.reader(tsvfile, delimiter='\\t')\n",
    "    next(tsvreader, 1)  # skip header\n",
    "    for row in tsvreader:\n",
    "        pred.append(row[-1])"
   ]
  },
  {
   "cell_type": "code",
   "execution_count": 18,
   "metadata": {},
   "outputs": [],
   "source": [
    "import numpy as np\n",
    "from sklearn.metrics import precision_score\n",
    "from sklearn.metrics import precision_recall_fscore_support"
   ]
  },
  {
   "cell_type": "code",
   "execution_count": 15,
   "metadata": {},
   "outputs": [
    {
     "data": {
      "text/plain": [
       "1770"
      ]
     },
     "execution_count": 15,
     "metadata": {},
     "output_type": "execute_result"
    }
   ],
   "source": [
    "len(pred)"
   ]
  },
  {
   "cell_type": "code",
   "execution_count": 16,
   "metadata": {},
   "outputs": [],
   "source": [
    "scores = precision_score(true, pred, average=None)"
   ]
  },
  {
   "cell_type": "code",
   "execution_count": 19,
   "metadata": {},
   "outputs": [],
   "source": [
    "scores = precision_recall_fscore_support(true, pred, average=None)"
   ]
  },
  {
   "cell_type": "code",
   "execution_count": 20,
   "metadata": {},
   "outputs": [
    {
     "data": {
      "text/plain": [
       "(array([0.01036269, 0.17737003, 0.80555556]),\n",
       " array([0.375     , 0.21804511, 0.46774194]),\n",
       " array([0.02016807, 0.19561551, 0.59183673]),\n",
       " array([  16,  266, 1488], dtype=int64))"
      ]
     },
     "execution_count": 20,
     "metadata": {},
     "output_type": "execute_result"
    }
   ],
   "source": [
    "scores"
   ]
  },
  {
   "cell_type": "markdown",
   "metadata": {},
   "source": [
    "110320_astro_pred_results.tsv prediction results are bad. the prediction model was trained on snli training set but NOT fine-tuned on the 'astro' dataset.\n",
    "some randomized fine-tuning training on 'astro' might be needed to predict better on the astro domain. (which means i will have to get the buggy training script to work...)"
   ]
  }
 ],
 "metadata": {
  "kernelspec": {
   "display_name": "fyp",
   "language": "python",
   "name": "fyp"
  },
  "language_info": {
   "codemirror_mode": {
    "name": "ipython",
    "version": 3
   },
   "file_extension": ".py",
   "mimetype": "text/x-python",
   "name": "python",
   "nbconvert_exporter": "python",
   "pygments_lexer": "ipython3",
   "version": "3.7.4"
  }
 },
 "nbformat": 4,
 "nbformat_minor": 2
}
