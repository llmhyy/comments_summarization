{
 "cells": [
  {
   "cell_type": "markdown",
   "metadata": {},
   "source": [
    "# Main notebook to process indexed datasets into summaries."
   ]
  },
  {
   "cell_type": "markdown",
   "metadata": {},
   "source": [
    "## Generate sentence pairs"
   ]
  },
  {
   "cell_type": "code",
   "execution_count": 7,
   "metadata": {},
   "outputs": [],
   "source": [
    "import itertools\n",
    "import json\n",
    "import nltk\n",
    "import pandas as pd"
   ]
  },
  {
   "cell_type": "code",
   "execution_count": 2,
   "metadata": {},
   "outputs": [
    {
     "name": "stdin",
     "output_type": "stream",
     "text": [
      "enter path to base directory to save outputs to:\n",
      " ../data/test3\n"
     ]
    }
   ],
   "source": [
    "save_dir = input(\"enter path to base directory to save outputs to:\\n\")"
   ]
  },
  {
   "cell_type": "code",
   "execution_count": 3,
   "metadata": {},
   "outputs": [
    {
     "name": "stdin",
     "output_type": "stream",
     "text": [
      "enter path to indexed dataset:\n",
      " ../data/test3/MP3Player.csv\n"
     ]
    },
    {
     "data": {
      "text/html": [
       "<div>\n",
       "<style scoped>\n",
       "    .dataframe tbody tr th:only-of-type {\n",
       "        vertical-align: middle;\n",
       "    }\n",
       "\n",
       "    .dataframe tbody tr th {\n",
       "        vertical-align: top;\n",
       "    }\n",
       "\n",
       "    .dataframe thead th {\n",
       "        text-align: right;\n",
       "    }\n",
       "</style>\n",
       "<table border=\"1\" class=\"dataframe\">\n",
       "  <thead>\n",
       "    <tr style=\"text-align: right;\">\n",
       "      <th></th>\n",
       "      <th>index</th>\n",
       "      <th>sentence</th>\n",
       "    </tr>\n",
       "  </thead>\n",
       "  <tbody>\n",
       "    <tr>\n",
       "      <th>0</th>\n",
       "      <td>0</td>\n",
       "      <td>each battery lasts about 10-11 hours.</td>\n",
       "    </tr>\n",
       "    <tr>\n",
       "      <th>1</th>\n",
       "      <td>1</td>\n",
       "      <td>the zen micro is a sleek, stylish device that ...</td>\n",
       "    </tr>\n",
       "    <tr>\n",
       "      <th>2</th>\n",
       "      <td>2</td>\n",
       "      <td>battery life is exceptional, lasting longer th...</td>\n",
       "    </tr>\n",
       "    <tr>\n",
       "      <th>3</th>\n",
       "      <td>3</td>\n",
       "      <td>there are 2 things that need fixing first is t...</td>\n",
       "    </tr>\n",
       "    <tr>\n",
       "      <th>4</th>\n",
       "      <td>4</td>\n",
       "      <td>i imagine if i left my player untouched (no ba...</td>\n",
       "    </tr>\n",
       "  </tbody>\n",
       "</table>\n",
       "</div>"
      ],
      "text/plain": [
       "   index                                           sentence\n",
       "0      0              each battery lasts about 10-11 hours.\n",
       "1      1  the zen micro is a sleek, stylish device that ...\n",
       "2      2  battery life is exceptional, lasting longer th...\n",
       "3      3  there are 2 things that need fixing first is t...\n",
       "4      4  i imagine if i left my player untouched (no ba..."
      ]
     },
     "execution_count": 3,
     "metadata": {},
     "output_type": "execute_result"
    }
   ],
   "source": [
    "input_path = input(\"enter path to indexed dataset:\\n\")  # default encoding is utf-8\n",
    "with open(input_path) as f:\n",
    "    sents_df = pd.read_csv(f, delimiter=',')\n",
    "sents_df.head()"
   ]
  },
  {
   "cell_type": "code",
   "execution_count": 4,
   "metadata": {},
   "outputs": [
    {
     "name": "stdout",
     "output_type": "stream",
     "text": [
      "no. of sentences:  20\n",
      "no. of sentence pairs:  190 \n",
      "\n"
     ]
    }
   ],
   "source": [
    "indices = list(sents_df.index)\n",
    "\n",
    "# generate all pairs in the set of sentences.\n",
    "indices_list = list(itertools.combinations(indices, 2))\n",
    "print('no. of sentences: ', len(indices))\n",
    "print('no. of sentence pairs: ', len(indices_list), '\\n')"
   ]
  },
  {
   "cell_type": "code",
   "execution_count": 5,
   "metadata": {},
   "outputs": [
    {
     "data": {
      "text/html": [
       "<div>\n",
       "<style scoped>\n",
       "    .dataframe tbody tr th:only-of-type {\n",
       "        vertical-align: middle;\n",
       "    }\n",
       "\n",
       "    .dataframe tbody tr th {\n",
       "        vertical-align: top;\n",
       "    }\n",
       "\n",
       "    .dataframe thead th {\n",
       "        text-align: right;\n",
       "    }\n",
       "</style>\n",
       "<table border=\"1\" class=\"dataframe\">\n",
       "  <thead>\n",
       "    <tr style=\"text-align: right;\">\n",
       "      <th></th>\n",
       "      <th>first_index</th>\n",
       "      <th>second_index</th>\n",
       "      <th>first</th>\n",
       "      <th>second</th>\n",
       "    </tr>\n",
       "  </thead>\n",
       "  <tbody>\n",
       "    <tr>\n",
       "      <th>0</th>\n",
       "      <td>0</td>\n",
       "      <td>1</td>\n",
       "      <td>each battery lasts about 10-11 hours.</td>\n",
       "      <td>the zen micro is a sleek, stylish device that ...</td>\n",
       "    </tr>\n",
       "    <tr>\n",
       "      <th>1</th>\n",
       "      <td>0</td>\n",
       "      <td>2</td>\n",
       "      <td>each battery lasts about 10-11 hours.</td>\n",
       "      <td>battery life is exceptional, lasting longer th...</td>\n",
       "    </tr>\n",
       "    <tr>\n",
       "      <th>2</th>\n",
       "      <td>0</td>\n",
       "      <td>3</td>\n",
       "      <td>each battery lasts about 10-11 hours.</td>\n",
       "      <td>there are 2 things that need fixing first is t...</td>\n",
       "    </tr>\n",
       "    <tr>\n",
       "      <th>3</th>\n",
       "      <td>0</td>\n",
       "      <td>4</td>\n",
       "      <td>each battery lasts about 10-11 hours.</td>\n",
       "      <td>i imagine if i left my player untouched (no ba...</td>\n",
       "    </tr>\n",
       "    <tr>\n",
       "      <th>4</th>\n",
       "      <td>0</td>\n",
       "      <td>5</td>\n",
       "      <td>each battery lasts about 10-11 hours.</td>\n",
       "      <td>the battery, as others have said, also seems w...</td>\n",
       "    </tr>\n",
       "    <tr>\n",
       "      <th>...</th>\n",
       "      <td>...</td>\n",
       "      <td>...</td>\n",
       "      <td>...</td>\n",
       "      <td>...</td>\n",
       "    </tr>\n",
       "    <tr>\n",
       "      <th>185</th>\n",
       "      <td>16</td>\n",
       "      <td>18</td>\n",
       "      <td>the software is simple and straight forward.</td>\n",
       "      <td>it's easy to use, and makes transfering your c...</td>\n",
       "    </tr>\n",
       "    <tr>\n",
       "      <th>186</th>\n",
       "      <td>16</td>\n",
       "      <td>19</td>\n",
       "      <td>the software is simple and straight forward.</td>\n",
       "      <td>the software that comes along with it is not v...</td>\n",
       "    </tr>\n",
       "    <tr>\n",
       "      <th>187</th>\n",
       "      <td>17</td>\n",
       "      <td>18</td>\n",
       "      <td>the software is very easy to use, and the tran...</td>\n",
       "      <td>it's easy to use, and makes transfering your c...</td>\n",
       "    </tr>\n",
       "    <tr>\n",
       "      <th>188</th>\n",
       "      <td>17</td>\n",
       "      <td>19</td>\n",
       "      <td>the software is very easy to use, and the tran...</td>\n",
       "      <td>the software that comes along with it is not v...</td>\n",
       "    </tr>\n",
       "    <tr>\n",
       "      <th>189</th>\n",
       "      <td>18</td>\n",
       "      <td>19</td>\n",
       "      <td>it's easy to use, and makes transfering your c...</td>\n",
       "      <td>the software that comes along with it is not v...</td>\n",
       "    </tr>\n",
       "  </tbody>\n",
       "</table>\n",
       "<p>190 rows × 4 columns</p>\n",
       "</div>"
      ],
      "text/plain": [
       "     first_index  second_index  \\\n",
       "0              0             1   \n",
       "1              0             2   \n",
       "2              0             3   \n",
       "3              0             4   \n",
       "4              0             5   \n",
       "..           ...           ...   \n",
       "185           16            18   \n",
       "186           16            19   \n",
       "187           17            18   \n",
       "188           17            19   \n",
       "189           18            19   \n",
       "\n",
       "                                                 first  \\\n",
       "0                each battery lasts about 10-11 hours.   \n",
       "1                each battery lasts about 10-11 hours.   \n",
       "2                each battery lasts about 10-11 hours.   \n",
       "3                each battery lasts about 10-11 hours.   \n",
       "4                each battery lasts about 10-11 hours.   \n",
       "..                                                 ...   \n",
       "185       the software is simple and straight forward.   \n",
       "186       the software is simple and straight forward.   \n",
       "187  the software is very easy to use, and the tran...   \n",
       "188  the software is very easy to use, and the tran...   \n",
       "189  it's easy to use, and makes transfering your c...   \n",
       "\n",
       "                                                second  \n",
       "0    the zen micro is a sleek, stylish device that ...  \n",
       "1    battery life is exceptional, lasting longer th...  \n",
       "2    there are 2 things that need fixing first is t...  \n",
       "3    i imagine if i left my player untouched (no ba...  \n",
       "4    the battery, as others have said, also seems w...  \n",
       "..                                                 ...  \n",
       "185  it's easy to use, and makes transfering your c...  \n",
       "186  the software that comes along with it is not v...  \n",
       "187  it's easy to use, and makes transfering your c...  \n",
       "188  the software that comes along with it is not v...  \n",
       "189  the software that comes along with it is not v...  \n",
       "\n",
       "[190 rows x 4 columns]"
      ]
     },
     "metadata": {},
     "output_type": "display_data"
    }
   ],
   "source": [
    "# generate all sentence pairs and save into a csv for manual labelling.\n",
    "data = []\n",
    "for pair in indices_list:\n",
    "    data.append([pair[0], pair[1], sents_df.iloc[pair[0]]['sentence'], sents_df.iloc[pair[1]]['sentence']])\n",
    "\n",
    "df = pd.DataFrame(data=data, columns=['first_index', 'second_index', 'first', 'second'])\n",
    "display(df)"
   ]
  },
  {
   "cell_type": "code",
   "execution_count": 7,
   "metadata": {},
   "outputs": [
    {
     "name": "stdin",
     "output_type": "stream",
     "text": [
      "save indexed paired dataset? (y/n):\n",
      " y\n"
     ]
    }
   ],
   "source": [
    "is_save = input('save indexed paired dataset? (y/n):\\n')\n",
    "if is_save.lower() == 'y':\n",
    "    df.to_csv(save_dir + '/' + 'paired_sentences.csv')\n",
    "else:\n",
    "    print('not saving indexed paired dataset.')"
   ]
  },
  {
   "cell_type": "markdown",
   "metadata": {},
   "source": [
    "## Perform inferences of distances between sentences in a sentence pair"
   ]
  },
  {
   "cell_type": "code",
   "execution_count": 8,
   "metadata": {},
   "outputs": [],
   "source": [
    "import torch\n",
    "from fairseq.data.data_utils import collate_tokens\n",
    "from math import exp\n",
    "import numpy as np\n",
    "\n",
    "class RobertaMNLI:\n",
    "    # todo: create similar wrapper classes for other NLI engines.\n",
    "    # todo: create a wrapper superclass and subclass from there.\n",
    "    \n",
    "    def __init__(self, rel_path):\n",
    "        \"\"\"\n",
    "        :param rel_path: relative path to pytorch hub directory.\n",
    "        \"\"\"\n",
    "        self.output_map = {\n",
    "            0: 'contradiction',\n",
    "            1: 'neutral',\n",
    "            2: 'entailment'\n",
    "        }\n",
    "        \n",
    "        torch.hub.set_dir(rel_path)\n",
    "        self.roberta = torch.hub.load('pytorch/fairseq', 'roberta.large.mnli')  # works\n",
    "        self.roberta.cuda()\n",
    "        self.roberta.eval()\n",
    "        \n",
    "    def predict_one(self, S1, S2, return_probs=False):\n",
    "        batch = collate_tokens(\n",
    "            [self.roberta.encode(S1, S2)], pad_idx=1\n",
    "        )\n",
    "        logprobs = self.roberta.predict('mnli', batch)\n",
    "        classes_tsr = logprobs.argmax(dim=1)\n",
    "        classes = classes_tsr.tolist()  \n",
    "        \n",
    "        if return_probs == True:\n",
    "            logprobs_list=[logprob.item() for logprob in logprobs[0]]\n",
    "            prob_list =  [pow(exp(1), logprob) for logprob in logprobs_list]\n",
    "            return prob_list\n",
    "        else:\n",
    "            return classes[0]  # 0 is contradiction, 1 is neutral, 2 is entailment."
   ]
  },
  {
   "cell_type": "code",
   "execution_count": 9,
   "metadata": {},
   "outputs": [
    {
     "name": "stderr",
     "output_type": "stream",
     "text": [
      "Using cache found in ../../roberta/hub\\pytorch_fairseq_master\n"
     ]
    }
   ],
   "source": [
    "predictor = RobertaMNLI(rel_path=\"../../roberta/hub\")"
   ]
  },
  {
   "cell_type": "code",
   "execution_count": 10,
   "metadata": {},
   "outputs": [],
   "source": [
    "results = list()\n",
    "for i in range(len(df)):\n",
    "    s1 = df.iloc[i]['first']\n",
    "    s2 = df.iloc[i]['second']\n",
    "    CNE1 = predictor.predict_one(s1, s2, return_probs=True)\n",
    "    CNE2 = predictor.predict_one(s2, s1, return_probs=True)\n",
    "    row = CNE1+ CNE2\n",
    "    results.append(row)\n",
    "\n",
    "scores_df = pd.DataFrame(data=results, columns=['C1', 'N1', 'E1', 'C2', 'N2', 'E2'])"
   ]
  },
  {
   "cell_type": "code",
   "execution_count": 11,
   "metadata": {},
   "outputs": [],
   "source": [
    "def gen_dist2(row):\n",
    "    '''\n",
    "    Generate distance score based on Contradiction, Entailment and Neutrality probabilities for both directions.\n",
    "    Assumes that C+E+N=1.\n",
    "    '''    \n",
    "    max1 = max([row['C1'], row['E1'], row['N1']])\n",
    "    max2 = max([row['C2'], row['E2'], row['N2']])\n",
    "    if max1 > max2:\n",
    "        C, E, N = row['C1'], row['E1'], row['N1']\n",
    "    else:\n",
    "        C, E, N = row['C2'], row['E2'], row['N2']\n",
    "    \n",
    "    if C > 0.5:\n",
    "        return C\n",
    "    elif C == E:\n",
    "        return 0.5\n",
    "    else:\n",
    "        return N/(N+E)*0.5"
   ]
  },
  {
   "cell_type": "code",
   "execution_count": 12,
   "metadata": {},
   "outputs": [],
   "source": [
    "dist_ser = scores_df.apply(lambda row: gen_dist2(row), axis=1)\n",
    "dist_ser.name = 'dist'\n",
    "scores_df = scores_df.join(dist_ser)\n",
    "scores_df = df.join(scores_df)\n",
    "scores_df.to_csv(save_dir + '/' + 'nliScores.csv')"
   ]
  },
  {
   "cell_type": "code",
   "execution_count": 13,
   "metadata": {},
   "outputs": [
    {
     "data": {
      "text/html": [
       "<div>\n",
       "<style scoped>\n",
       "    .dataframe tbody tr th:only-of-type {\n",
       "        vertical-align: middle;\n",
       "    }\n",
       "\n",
       "    .dataframe tbody tr th {\n",
       "        vertical-align: top;\n",
       "    }\n",
       "\n",
       "    .dataframe thead th {\n",
       "        text-align: right;\n",
       "    }\n",
       "</style>\n",
       "<table border=\"1\" class=\"dataframe\">\n",
       "  <thead>\n",
       "    <tr style=\"text-align: right;\">\n",
       "      <th></th>\n",
       "      <th>first_index</th>\n",
       "      <th>second_index</th>\n",
       "      <th>first</th>\n",
       "      <th>second</th>\n",
       "      <th>C1</th>\n",
       "      <th>N1</th>\n",
       "      <th>E1</th>\n",
       "      <th>C2</th>\n",
       "      <th>N2</th>\n",
       "      <th>E2</th>\n",
       "      <th>dist</th>\n",
       "    </tr>\n",
       "  </thead>\n",
       "  <tbody>\n",
       "    <tr>\n",
       "      <th>0</th>\n",
       "      <td>0</td>\n",
       "      <td>1</td>\n",
       "      <td>each battery lasts about 10-11 hours.</td>\n",
       "      <td>the zen micro is a sleek, stylish device that ...</td>\n",
       "      <td>0.120493</td>\n",
       "      <td>0.868415</td>\n",
       "      <td>0.011092</td>\n",
       "      <td>0.001280</td>\n",
       "      <td>0.997724</td>\n",
       "      <td>0.000997</td>\n",
       "      <td>0.499501</td>\n",
       "    </tr>\n",
       "    <tr>\n",
       "      <th>1</th>\n",
       "      <td>0</td>\n",
       "      <td>2</td>\n",
       "      <td>each battery lasts about 10-11 hours.</td>\n",
       "      <td>battery life is exceptional, lasting longer th...</td>\n",
       "      <td>0.425281</td>\n",
       "      <td>0.561476</td>\n",
       "      <td>0.013243</td>\n",
       "      <td>0.014313</td>\n",
       "      <td>0.532966</td>\n",
       "      <td>0.452722</td>\n",
       "      <td>0.488479</td>\n",
       "    </tr>\n",
       "    <tr>\n",
       "      <th>2</th>\n",
       "      <td>0</td>\n",
       "      <td>3</td>\n",
       "      <td>each battery lasts about 10-11 hours.</td>\n",
       "      <td>there are 2 things that need fixing first is t...</td>\n",
       "      <td>0.102561</td>\n",
       "      <td>0.894541</td>\n",
       "      <td>0.002898</td>\n",
       "      <td>0.260592</td>\n",
       "      <td>0.654430</td>\n",
       "      <td>0.084977</td>\n",
       "      <td>0.498385</td>\n",
       "    </tr>\n",
       "    <tr>\n",
       "      <th>3</th>\n",
       "      <td>0</td>\n",
       "      <td>4</td>\n",
       "      <td>each battery lasts about 10-11 hours.</td>\n",
       "      <td>i imagine if i left my player untouched (no ba...</td>\n",
       "      <td>0.006200</td>\n",
       "      <td>0.993181</td>\n",
       "      <td>0.000618</td>\n",
       "      <td>0.046462</td>\n",
       "      <td>0.941302</td>\n",
       "      <td>0.012236</td>\n",
       "      <td>0.499689</td>\n",
       "    </tr>\n",
       "    <tr>\n",
       "      <th>4</th>\n",
       "      <td>0</td>\n",
       "      <td>5</td>\n",
       "      <td>each battery lasts about 10-11 hours.</td>\n",
       "      <td>the battery, as others have said, also seems w...</td>\n",
       "      <td>0.001769</td>\n",
       "      <td>0.997358</td>\n",
       "      <td>0.000874</td>\n",
       "      <td>0.002019</td>\n",
       "      <td>0.997144</td>\n",
       "      <td>0.000837</td>\n",
       "      <td>0.499562</td>\n",
       "    </tr>\n",
       "  </tbody>\n",
       "</table>\n",
       "</div>"
      ],
      "text/plain": [
       "   first_index  second_index                                  first  \\\n",
       "0            0             1  each battery lasts about 10-11 hours.   \n",
       "1            0             2  each battery lasts about 10-11 hours.   \n",
       "2            0             3  each battery lasts about 10-11 hours.   \n",
       "3            0             4  each battery lasts about 10-11 hours.   \n",
       "4            0             5  each battery lasts about 10-11 hours.   \n",
       "\n",
       "                                              second        C1        N1  \\\n",
       "0  the zen micro is a sleek, stylish device that ...  0.120493  0.868415   \n",
       "1  battery life is exceptional, lasting longer th...  0.425281  0.561476   \n",
       "2  there are 2 things that need fixing first is t...  0.102561  0.894541   \n",
       "3  i imagine if i left my player untouched (no ba...  0.006200  0.993181   \n",
       "4  the battery, as others have said, also seems w...  0.001769  0.997358   \n",
       "\n",
       "         E1        C2        N2        E2      dist  \n",
       "0  0.011092  0.001280  0.997724  0.000997  0.499501  \n",
       "1  0.013243  0.014313  0.532966  0.452722  0.488479  \n",
       "2  0.002898  0.260592  0.654430  0.084977  0.498385  \n",
       "3  0.000618  0.046462  0.941302  0.012236  0.499689  \n",
       "4  0.000874  0.002019  0.997144  0.000837  0.499562  "
      ]
     },
     "execution_count": 13,
     "metadata": {},
     "output_type": "execute_result"
    }
   ],
   "source": [
    "scores_df.head()"
   ]
  },
  {
   "cell_type": "markdown",
   "metadata": {},
   "source": [
    "## Clustering based on precomputed pairwise distances."
   ]
  },
  {
   "cell_type": "code",
   "execution_count": 14,
   "metadata": {},
   "outputs": [],
   "source": [
    "import numpy as np\n",
    "import pandas as pd\n",
    "\n",
    "import scipy\n",
    "from scipy.cluster.hierarchy import dendrogram,linkage\n",
    "from scipy.cluster.hierarchy import fcluster\n",
    "from scipy.cluster.hierarchy import cophenet\n",
    "from scipy.spatial.distance import pdist\n",
    "\n",
    "import matplotlib.pyplot as plt\n",
    "from pylab import rcParams\n",
    "import seaborn as sb\n",
    "\n",
    "import sklearn\n",
    "# from sklearn import datasets\n",
    "from sklearn.cluster import AgglomerativeClustering\n",
    "import sklearn.metrics as sm\n",
    "from sklearn.preprocessing import scale\n",
    "\n",
    "# Configure the output\n",
    "np.set_printoptions(precision=4,suppress=True)\n",
    "%matplotlib inline\n",
    "rcParams[\"figure.figsize\"] =20,10\n",
    "sb.set_style(\"whitegrid\")"
   ]
  },
  {
   "cell_type": "code",
   "execution_count": 15,
   "metadata": {},
   "outputs": [
    {
     "name": "stdout",
     "output_type": "stream",
     "text": [
      "[[ 0  0  0]\n",
      " [ 1  1  0]\n",
      " [ 2  2  0]\n",
      " [ 3  3  0]\n",
      " [ 4  4  0]\n",
      " [ 5  5  0]\n",
      " [ 6  6  0]\n",
      " [ 7  7  0]\n",
      " [ 8  8  0]\n",
      " [ 9  9  0]\n",
      " [10 10  0]\n",
      " [11 11  0]\n",
      " [12 12  0]\n",
      " [13 13  0]\n",
      " [14 14  0]\n",
      " [15 15  0]\n",
      " [16 16  0]\n",
      " [17 17  0]\n",
      " [18 18  0]\n",
      " [19 19  0]]\n"
     ]
    }
   ],
   "source": [
    "# convert this original dataframe to a 'square' distance matrix.\n",
    "# we utilise a pivot table to do this\n",
    "\n",
    "# first, add the redundant pairs (two of the same sentences) to the data.\n",
    "# we need this for the pivot function to generate the correct indices and columns.\n",
    "first = np.unique(df['first_index'].values)\n",
    "second = np.unique(df['second_index'].values)\n",
    "combined_arr = np.concatenate((first, second))\n",
    "sentences = np.unique(combined_arr)\n",
    "add_data = np.column_stack([sentences, sentences, np.zeros(len(sentences))])\n",
    "add_data = add_data.astype(np.int)\n",
    "\n",
    "print(add_data)"
   ]
  },
  {
   "cell_type": "code",
   "execution_count": null,
   "metadata": {},
   "outputs": [],
   "source": [
    "add_df = pd.DataFrame(data=add_data, columns=['first_index','second_index','dist'])\n",
    "scores_df = scores_df.append(add_df, ignore_index=True)\n",
    "df_piv = scores_df.pivot(\"first_index\", \"second_index\", \"dist\").fillna(0)\n",
    "piv_arr = df_piv.values\n",
    "dist_mat = piv_arr + np.transpose(piv_arr)\n",
    "\n",
    "# generate pairwise matrix for saving.\n",
    "intersentence = pd.DataFrame(data=dist_mat, index=df_piv.index, columns=df_piv.columns)\n",
    "\n",
    "path = save_dir + '/' + 'pairwiseMatrix.csv'\n",
    "intersentence.to_csv(path)"
   ]
  },
  {
   "cell_type": "code",
   "execution_count": 8,
   "metadata": {
    "scrolled": true
   },
   "outputs": [
    {
     "name": "stdout",
     "output_type": "stream",
     "text": [
      "loaded data from disk.\n"
     ]
    },
    {
     "data": {
      "text/html": [
       "<div>\n",
       "<style scoped>\n",
       "    .dataframe tbody tr th:only-of-type {\n",
       "        vertical-align: middle;\n",
       "    }\n",
       "\n",
       "    .dataframe tbody tr th {\n",
       "        vertical-align: top;\n",
       "    }\n",
       "\n",
       "    .dataframe thead th {\n",
       "        text-align: right;\n",
       "    }\n",
       "</style>\n",
       "<table border=\"1\" class=\"dataframe\">\n",
       "  <thead>\n",
       "    <tr style=\"text-align: right;\">\n",
       "      <th></th>\n",
       "      <th>first_index</th>\n",
       "      <th>0</th>\n",
       "      <th>1</th>\n",
       "      <th>2</th>\n",
       "      <th>3</th>\n",
       "      <th>4</th>\n",
       "      <th>5</th>\n",
       "      <th>6</th>\n",
       "      <th>7</th>\n",
       "      <th>8</th>\n",
       "      <th>...</th>\n",
       "      <th>10</th>\n",
       "      <th>11</th>\n",
       "      <th>12</th>\n",
       "      <th>13</th>\n",
       "      <th>14</th>\n",
       "      <th>15</th>\n",
       "      <th>16</th>\n",
       "      <th>17</th>\n",
       "      <th>18</th>\n",
       "      <th>19</th>\n",
       "    </tr>\n",
       "  </thead>\n",
       "  <tbody>\n",
       "    <tr>\n",
       "      <th>0</th>\n",
       "      <td>0</td>\n",
       "      <td>0.000000</td>\n",
       "      <td>0.499501</td>\n",
       "      <td>0.488479</td>\n",
       "      <td>0.498385</td>\n",
       "      <td>0.499689</td>\n",
       "      <td>0.499562</td>\n",
       "      <td>0.499525</td>\n",
       "      <td>0.499429</td>\n",
       "      <td>0.499442</td>\n",
       "      <td>...</td>\n",
       "      <td>0.499560</td>\n",
       "      <td>0.499464</td>\n",
       "      <td>0.499640</td>\n",
       "      <td>0.498906</td>\n",
       "      <td>0.499599</td>\n",
       "      <td>0.499474</td>\n",
       "      <td>0.463023</td>\n",
       "      <td>0.484418</td>\n",
       "      <td>0.499378</td>\n",
       "      <td>0.499539</td>\n",
       "    </tr>\n",
       "    <tr>\n",
       "      <th>1</th>\n",
       "      <td>1</td>\n",
       "      <td>0.499501</td>\n",
       "      <td>0.000000</td>\n",
       "      <td>0.499551</td>\n",
       "      <td>0.923219</td>\n",
       "      <td>0.499546</td>\n",
       "      <td>0.499673</td>\n",
       "      <td>0.947805</td>\n",
       "      <td>0.498945</td>\n",
       "      <td>0.499060</td>\n",
       "      <td>...</td>\n",
       "      <td>0.499046</td>\n",
       "      <td>0.498462</td>\n",
       "      <td>0.999136</td>\n",
       "      <td>0.993903</td>\n",
       "      <td>0.989903</td>\n",
       "      <td>0.499319</td>\n",
       "      <td>0.499453</td>\n",
       "      <td>0.499354</td>\n",
       "      <td>0.499051</td>\n",
       "      <td>0.499663</td>\n",
       "    </tr>\n",
       "    <tr>\n",
       "      <th>2</th>\n",
       "      <td>2</td>\n",
       "      <td>0.488479</td>\n",
       "      <td>0.499551</td>\n",
       "      <td>0.000000</td>\n",
       "      <td>0.974216</td>\n",
       "      <td>0.499409</td>\n",
       "      <td>0.998521</td>\n",
       "      <td>0.999468</td>\n",
       "      <td>0.499324</td>\n",
       "      <td>0.499127</td>\n",
       "      <td>...</td>\n",
       "      <td>0.499579</td>\n",
       "      <td>0.499539</td>\n",
       "      <td>0.499692</td>\n",
       "      <td>0.909942</td>\n",
       "      <td>0.499188</td>\n",
       "      <td>0.499507</td>\n",
       "      <td>0.497870</td>\n",
       "      <td>0.499176</td>\n",
       "      <td>0.499423</td>\n",
       "      <td>0.499670</td>\n",
       "    </tr>\n",
       "    <tr>\n",
       "      <th>3</th>\n",
       "      <td>3</td>\n",
       "      <td>0.498385</td>\n",
       "      <td>0.923219</td>\n",
       "      <td>0.974216</td>\n",
       "      <td>0.000000</td>\n",
       "      <td>0.499496</td>\n",
       "      <td>0.499616</td>\n",
       "      <td>0.743863</td>\n",
       "      <td>0.499104</td>\n",
       "      <td>0.499021</td>\n",
       "      <td>...</td>\n",
       "      <td>0.498632</td>\n",
       "      <td>0.499142</td>\n",
       "      <td>0.499336</td>\n",
       "      <td>0.491827</td>\n",
       "      <td>0.499333</td>\n",
       "      <td>0.498906</td>\n",
       "      <td>0.980102</td>\n",
       "      <td>0.980462</td>\n",
       "      <td>0.498987</td>\n",
       "      <td>0.499550</td>\n",
       "    </tr>\n",
       "    <tr>\n",
       "      <th>4</th>\n",
       "      <td>4</td>\n",
       "      <td>0.499689</td>\n",
       "      <td>0.499546</td>\n",
       "      <td>0.499409</td>\n",
       "      <td>0.499496</td>\n",
       "      <td>0.000000</td>\n",
       "      <td>0.499607</td>\n",
       "      <td>0.499481</td>\n",
       "      <td>0.499487</td>\n",
       "      <td>0.499585</td>\n",
       "      <td>...</td>\n",
       "      <td>0.499460</td>\n",
       "      <td>0.499494</td>\n",
       "      <td>0.499651</td>\n",
       "      <td>0.498446</td>\n",
       "      <td>0.494485</td>\n",
       "      <td>0.499590</td>\n",
       "      <td>0.499556</td>\n",
       "      <td>0.499649</td>\n",
       "      <td>0.499591</td>\n",
       "      <td>0.499543</td>\n",
       "    </tr>\n",
       "  </tbody>\n",
       "</table>\n",
       "<p>5 rows × 21 columns</p>\n",
       "</div>"
      ],
      "text/plain": [
       "   first_index         0         1         2         3         4         5  \\\n",
       "0            0  0.000000  0.499501  0.488479  0.498385  0.499689  0.499562   \n",
       "1            1  0.499501  0.000000  0.499551  0.923219  0.499546  0.499673   \n",
       "2            2  0.488479  0.499551  0.000000  0.974216  0.499409  0.998521   \n",
       "3            3  0.498385  0.923219  0.974216  0.000000  0.499496  0.499616   \n",
       "4            4  0.499689  0.499546  0.499409  0.499496  0.000000  0.499607   \n",
       "\n",
       "          6         7         8  ...        10        11        12        13  \\\n",
       "0  0.499525  0.499429  0.499442  ...  0.499560  0.499464  0.499640  0.498906   \n",
       "1  0.947805  0.498945  0.499060  ...  0.499046  0.498462  0.999136  0.993903   \n",
       "2  0.999468  0.499324  0.499127  ...  0.499579  0.499539  0.499692  0.909942   \n",
       "3  0.743863  0.499104  0.499021  ...  0.498632  0.499142  0.499336  0.491827   \n",
       "4  0.499481  0.499487  0.499585  ...  0.499460  0.499494  0.499651  0.498446   \n",
       "\n",
       "         14        15        16        17        18        19  \n",
       "0  0.499599  0.499474  0.463023  0.484418  0.499378  0.499539  \n",
       "1  0.989903  0.499319  0.499453  0.499354  0.499051  0.499663  \n",
       "2  0.499188  0.499507  0.497870  0.499176  0.499423  0.499670  \n",
       "3  0.499333  0.498906  0.980102  0.980462  0.498987  0.499550  \n",
       "4  0.494485  0.499590  0.499556  0.499649  0.499591  0.499543  \n",
       "\n",
       "[5 rows x 21 columns]"
      ]
     },
     "metadata": {},
     "output_type": "display_data"
    },
    {
     "data": {
      "text/html": [
       "<div>\n",
       "<style scoped>\n",
       "    .dataframe tbody tr th:only-of-type {\n",
       "        vertical-align: middle;\n",
       "    }\n",
       "\n",
       "    .dataframe tbody tr th {\n",
       "        vertical-align: top;\n",
       "    }\n",
       "\n",
       "    .dataframe thead th {\n",
       "        text-align: right;\n",
       "    }\n",
       "</style>\n",
       "<table border=\"1\" class=\"dataframe\">\n",
       "  <thead>\n",
       "    <tr style=\"text-align: right;\">\n",
       "      <th></th>\n",
       "      <th>0</th>\n",
       "      <th>1</th>\n",
       "      <th>2</th>\n",
       "      <th>3</th>\n",
       "      <th>4</th>\n",
       "      <th>5</th>\n",
       "      <th>6</th>\n",
       "      <th>7</th>\n",
       "      <th>8</th>\n",
       "      <th>9</th>\n",
       "      <th>10</th>\n",
       "      <th>11</th>\n",
       "      <th>12</th>\n",
       "      <th>13</th>\n",
       "      <th>14</th>\n",
       "      <th>15</th>\n",
       "      <th>16</th>\n",
       "      <th>17</th>\n",
       "      <th>18</th>\n",
       "      <th>19</th>\n",
       "    </tr>\n",
       "  </thead>\n",
       "  <tbody>\n",
       "    <tr>\n",
       "      <th>0</th>\n",
       "      <td>0.000000</td>\n",
       "      <td>0.499501</td>\n",
       "      <td>0.488479</td>\n",
       "      <td>0.498385</td>\n",
       "      <td>0.499689</td>\n",
       "      <td>0.499562</td>\n",
       "      <td>0.499525</td>\n",
       "      <td>0.499429</td>\n",
       "      <td>0.499442</td>\n",
       "      <td>0.484586</td>\n",
       "      <td>0.499560</td>\n",
       "      <td>0.499464</td>\n",
       "      <td>0.499640</td>\n",
       "      <td>0.498906</td>\n",
       "      <td>0.499599</td>\n",
       "      <td>0.499474</td>\n",
       "      <td>0.463023</td>\n",
       "      <td>0.484418</td>\n",
       "      <td>0.499378</td>\n",
       "      <td>0.499539</td>\n",
       "    </tr>\n",
       "    <tr>\n",
       "      <th>1</th>\n",
       "      <td>0.499501</td>\n",
       "      <td>0.000000</td>\n",
       "      <td>0.499551</td>\n",
       "      <td>0.923219</td>\n",
       "      <td>0.499546</td>\n",
       "      <td>0.499673</td>\n",
       "      <td>0.947805</td>\n",
       "      <td>0.498945</td>\n",
       "      <td>0.499060</td>\n",
       "      <td>0.496263</td>\n",
       "      <td>0.499046</td>\n",
       "      <td>0.498462</td>\n",
       "      <td>0.999136</td>\n",
       "      <td>0.993903</td>\n",
       "      <td>0.989903</td>\n",
       "      <td>0.499319</td>\n",
       "      <td>0.499453</td>\n",
       "      <td>0.499354</td>\n",
       "      <td>0.499051</td>\n",
       "      <td>0.499663</td>\n",
       "    </tr>\n",
       "    <tr>\n",
       "      <th>2</th>\n",
       "      <td>0.488479</td>\n",
       "      <td>0.499551</td>\n",
       "      <td>0.000000</td>\n",
       "      <td>0.974216</td>\n",
       "      <td>0.499409</td>\n",
       "      <td>0.998521</td>\n",
       "      <td>0.999468</td>\n",
       "      <td>0.499324</td>\n",
       "      <td>0.499127</td>\n",
       "      <td>0.495346</td>\n",
       "      <td>0.499579</td>\n",
       "      <td>0.499539</td>\n",
       "      <td>0.499692</td>\n",
       "      <td>0.909942</td>\n",
       "      <td>0.499188</td>\n",
       "      <td>0.499507</td>\n",
       "      <td>0.497870</td>\n",
       "      <td>0.499176</td>\n",
       "      <td>0.499423</td>\n",
       "      <td>0.499670</td>\n",
       "    </tr>\n",
       "    <tr>\n",
       "      <th>3</th>\n",
       "      <td>0.498385</td>\n",
       "      <td>0.923219</td>\n",
       "      <td>0.974216</td>\n",
       "      <td>0.000000</td>\n",
       "      <td>0.499496</td>\n",
       "      <td>0.499616</td>\n",
       "      <td>0.743863</td>\n",
       "      <td>0.499104</td>\n",
       "      <td>0.499021</td>\n",
       "      <td>0.948330</td>\n",
       "      <td>0.498632</td>\n",
       "      <td>0.499142</td>\n",
       "      <td>0.499336</td>\n",
       "      <td>0.491827</td>\n",
       "      <td>0.499333</td>\n",
       "      <td>0.498906</td>\n",
       "      <td>0.980102</td>\n",
       "      <td>0.980462</td>\n",
       "      <td>0.498987</td>\n",
       "      <td>0.499550</td>\n",
       "    </tr>\n",
       "    <tr>\n",
       "      <th>4</th>\n",
       "      <td>0.499689</td>\n",
       "      <td>0.499546</td>\n",
       "      <td>0.499409</td>\n",
       "      <td>0.499496</td>\n",
       "      <td>0.000000</td>\n",
       "      <td>0.499607</td>\n",
       "      <td>0.499481</td>\n",
       "      <td>0.499487</td>\n",
       "      <td>0.499585</td>\n",
       "      <td>0.497995</td>\n",
       "      <td>0.499460</td>\n",
       "      <td>0.499494</td>\n",
       "      <td>0.499651</td>\n",
       "      <td>0.498446</td>\n",
       "      <td>0.494485</td>\n",
       "      <td>0.499590</td>\n",
       "      <td>0.499556</td>\n",
       "      <td>0.499649</td>\n",
       "      <td>0.499591</td>\n",
       "      <td>0.499543</td>\n",
       "    </tr>\n",
       "  </tbody>\n",
       "</table>\n",
       "</div>"
      ],
      "text/plain": [
       "          0         1         2         3         4         5         6  \\\n",
       "0  0.000000  0.499501  0.488479  0.498385  0.499689  0.499562  0.499525   \n",
       "1  0.499501  0.000000  0.499551  0.923219  0.499546  0.499673  0.947805   \n",
       "2  0.488479  0.499551  0.000000  0.974216  0.499409  0.998521  0.999468   \n",
       "3  0.498385  0.923219  0.974216  0.000000  0.499496  0.499616  0.743863   \n",
       "4  0.499689  0.499546  0.499409  0.499496  0.000000  0.499607  0.499481   \n",
       "\n",
       "          7         8         9        10        11        12        13  \\\n",
       "0  0.499429  0.499442  0.484586  0.499560  0.499464  0.499640  0.498906   \n",
       "1  0.498945  0.499060  0.496263  0.499046  0.498462  0.999136  0.993903   \n",
       "2  0.499324  0.499127  0.495346  0.499579  0.499539  0.499692  0.909942   \n",
       "3  0.499104  0.499021  0.948330  0.498632  0.499142  0.499336  0.491827   \n",
       "4  0.499487  0.499585  0.497995  0.499460  0.499494  0.499651  0.498446   \n",
       "\n",
       "         14        15        16        17        18        19  \n",
       "0  0.499599  0.499474  0.463023  0.484418  0.499378  0.499539  \n",
       "1  0.989903  0.499319  0.499453  0.499354  0.499051  0.499663  \n",
       "2  0.499188  0.499507  0.497870  0.499176  0.499423  0.499670  \n",
       "3  0.499333  0.498906  0.980102  0.980462  0.498987  0.499550  \n",
       "4  0.494485  0.499590  0.499556  0.499649  0.499591  0.499543  "
      ]
     },
     "metadata": {},
     "output_type": "display_data"
    },
    {
     "data": {
      "text/plain": [
       "array([[0.        , 0.49950104, 0.48847896, 0.4983853 , 0.49968899,\n",
       "        0.49956223, 0.49952469, 0.49942948, 0.49944224, 0.48458592,\n",
       "        0.49955978, 0.49946432, 0.49963952, 0.49890647, 0.49959878,\n",
       "        0.49947382, 0.46302313, 0.48441849, 0.49937845, 0.49953908],\n",
       "       [0.49950104, 0.        , 0.49955125, 0.92321876, 0.49954632,\n",
       "        0.49967291, 0.94780498, 0.49894457, 0.49906046, 0.49626317,\n",
       "        0.49904561, 0.49846248, 0.99913587, 0.99390275, 0.98990256,\n",
       "        0.49931895, 0.49945269, 0.49935381, 0.49905139, 0.49966268],\n",
       "       [0.48847896, 0.49955125, 0.        , 0.97421614, 0.49940934,\n",
       "        0.99852147, 0.99946847, 0.49932447, 0.49912705, 0.49534632,\n",
       "        0.49957868, 0.49953941, 0.49969199, 0.90994243, 0.49918833,\n",
       "        0.49950708, 0.49787027, 0.49917552, 0.49942267, 0.49967025],\n",
       "       [0.4983853 , 0.92321876, 0.97421614, 0.        , 0.49949581,\n",
       "        0.49961587, 0.74386297, 0.49910364, 0.49902085, 0.94833029,\n",
       "        0.49863175, 0.49914215, 0.49933647, 0.49182722, 0.49933272,\n",
       "        0.49890567, 0.98010195, 0.98046234, 0.49898745, 0.49955012],\n",
       "       [0.49968899, 0.49954632, 0.49940934, 0.49949581, 0.        ,\n",
       "        0.49960732, 0.49948128, 0.49948711, 0.49958487, 0.49799514,\n",
       "        0.49945984, 0.49949442, 0.49965078, 0.4984464 , 0.4944854 ,\n",
       "        0.49958961, 0.49955634, 0.49964889, 0.49959131, 0.49954331],\n",
       "       [0.49956223, 0.49967291, 0.99852147, 0.49961587, 0.49960732,\n",
       "        0.        , 0.49902613, 0.49965563, 0.49965984, 0.49965159,\n",
       "        0.4996832 , 0.49964552, 0.49962005, 0.4995278 , 0.49956929,\n",
       "        0.49967217, 0.49969126, 0.49969304, 0.49967139, 0.49962768],\n",
       "       [0.49952469, 0.94780498, 0.99946847, 0.74386297, 0.49948128,\n",
       "        0.49902613, 0.        , 0.86030311, 0.80295897, 0.96061883,\n",
       "        0.96465408, 0.49866789, 0.49962461, 0.49682008, 0.49935964,\n",
       "        0.61623777, 0.9943896 , 0.99889054, 0.9951215 , 0.49957831],\n",
       "       [0.49942948, 0.49894457, 0.49932447, 0.49910364, 0.49948711,\n",
       "        0.49965563, 0.86030311, 0.        , 0.49942251, 0.49696627,\n",
       "        0.49924709, 0.49850213, 0.93376648, 0.77685135, 0.70294167,\n",
       "        0.49941785, 0.49749863, 0.49953904, 0.49927297, 0.49962394],\n",
       "       [0.49944224, 0.49906046, 0.49912705, 0.49902085, 0.49958487,\n",
       "        0.49965984, 0.80295897, 0.49942251, 0.        , 0.49748198,\n",
       "        0.49936762, 0.49905303, 0.81399562, 0.67798514, 0.49934291,\n",
       "        0.49958868, 0.49874464, 0.49939602, 0.49939358, 0.49962967],\n",
       "       [0.48458592, 0.49626317, 0.49534632, 0.94833029, 0.49799514,\n",
       "        0.49965159, 0.96061883, 0.49696627, 0.49748198, 0.        ,\n",
       "        0.49915597, 0.45613299, 0.99919971, 0.99909585, 0.99448965,\n",
       "        0.49838769, 0.49939052, 0.49955061, 0.49938084, 0.49965944],\n",
       "       [0.49955978, 0.49904561, 0.49957868, 0.49863175, 0.49945984,\n",
       "        0.4996832 , 0.96465408, 0.49924709, 0.49936762, 0.49915597,\n",
       "        0.        , 0.49918742, 0.99845481, 0.98697587, 0.93056415,\n",
       "        0.4993684 , 0.49946119, 0.49944772, 0.49936938, 0.49966942],\n",
       "       [0.49946432, 0.49846248, 0.49953941, 0.49914215, 0.49949442,\n",
       "        0.49964552, 0.49866789, 0.49850213, 0.49905303, 0.45613299,\n",
       "        0.49918742, 0.        , 0.99890292, 0.89206496, 0.9728133 ,\n",
       "        0.49926826, 0.49917758, 0.49936138, 0.49890803, 0.49936789],\n",
       "       [0.49963952, 0.99913587, 0.49969199, 0.49933647, 0.49965078,\n",
       "        0.49962005, 0.49962461, 0.93376648, 0.81399562, 0.99919971,\n",
       "        0.99845481, 0.99890292, 0.        , 0.47973174, 0.49902386,\n",
       "        0.49933029, 0.9979379 , 0.97363749, 0.9944906 , 0.49961127],\n",
       "       [0.49890647, 0.99390275, 0.90994243, 0.49182722, 0.4984464 ,\n",
       "        0.4995278 , 0.49682008, 0.77685135, 0.67798514, 0.99909585,\n",
       "        0.98697587, 0.89206496, 0.47973174, 0.        , 0.49667249,\n",
       "        0.49883987, 0.99935981, 0.99754064, 0.98793359, 0.49952537],\n",
       "       [0.49959878, 0.98990256, 0.49918833, 0.49933272, 0.4944854 ,\n",
       "        0.49956929, 0.49935964, 0.70294167, 0.49934291, 0.99448965,\n",
       "        0.93056415, 0.9728133 , 0.49902386, 0.49667249, 0.        ,\n",
       "        0.49903772, 0.9947671 , 0.98397549, 0.93981137, 0.49944676],\n",
       "       [0.49947382, 0.49931895, 0.49950708, 0.49890567, 0.49958961,\n",
       "        0.49967217, 0.61623777, 0.49941785, 0.49958868, 0.49838769,\n",
       "        0.4993684 , 0.49926826, 0.49933029, 0.49883987, 0.49903772,\n",
       "        0.        , 0.49918117, 0.49912328, 0.49922961, 0.49940078],\n",
       "       [0.46302313, 0.49945269, 0.49787027, 0.98010195, 0.49955634,\n",
       "        0.49969126, 0.9943896 , 0.49749863, 0.49874464, 0.49939052,\n",
       "        0.49946119, 0.49917758, 0.9979379 , 0.99935981, 0.9947671 ,\n",
       "        0.49918117, 0.        , 0.49894206, 0.49887085, 0.99942176],\n",
       "       [0.48441849, 0.49935381, 0.49917552, 0.98046234, 0.49964889,\n",
       "        0.49969304, 0.99889054, 0.49953904, 0.49939602, 0.49955061,\n",
       "        0.49944772, 0.49936138, 0.97363749, 0.99754064, 0.98397549,\n",
       "        0.49912328, 0.49894206, 0.        , 0.49711227, 0.98846488],\n",
       "       [0.49937845, 0.49905139, 0.49942267, 0.49898745, 0.49959131,\n",
       "        0.49967139, 0.9951215 , 0.49927297, 0.49939358, 0.49938084,\n",
       "        0.49936938, 0.49890803, 0.9944906 , 0.98793359, 0.93981137,\n",
       "        0.49922961, 0.49887085, 0.49711227, 0.        , 0.89733784],\n",
       "       [0.49953908, 0.49966268, 0.49967025, 0.49955012, 0.49954331,\n",
       "        0.49962768, 0.49957831, 0.49962394, 0.49962967, 0.49965944,\n",
       "        0.49966942, 0.49936789, 0.49961127, 0.49952537, 0.49944676,\n",
       "        0.49940078, 0.99942176, 0.98846488, 0.89733784, 0.        ]])"
      ]
     },
     "metadata": {},
     "output_type": "display_data"
    }
   ],
   "source": [
    "# load data files (this step can be skipped if the previous few cells have been run to produce the required data)\n",
    "\n",
    "# load intersentence pairwise distance matrix.\n",
    "df_piv = pd.read_csv(\"../data/test3/pairwiseMatrix.csv\")\n",
    "print(\"loaded data from disk.\")\n",
    "display(df_piv.head())\n",
    "df_piv = df_piv.drop(columns=['first_index'])\n",
    "display(df_piv.head())\n",
    "dist_mat = df_piv.values\n",
    "display(dist_mat)"
   ]
  },
  {
   "cell_type": "code",
   "execution_count": 20,
   "metadata": {
    "scrolled": true
   },
   "outputs": [
    {
     "name": "stdout",
     "output_type": "stream",
     "text": [
      "2 :  0.23558467124165486\n",
      "3 :  0.12967654263553158\n",
      "4 :  0.051369891268869025\n",
      "5 :  0.05326604310169788\n",
      "6 :  0.008931293223240483\n",
      "7 :  0.009358228524803202\n",
      "8 :  0.010816633461541044\n",
      "9 :  0.01087853917149927\n",
      "10 :  0.01084641815208133\n",
      "11 :  0.010762902770904482\n",
      "12 :  0.011976963285562485\n",
      "13 :  0.011730216325523244\n",
      "14 :  0.015628977832201178\n",
      "15 :  0.017558837839946582\n",
      "16 :  0.01752002806447993\n",
      "17 :  0.01672578992395295\n",
      "18 :  0.013563156111279645\n",
      "19 :  0.007181803926500784\n"
     ]
    }
   ],
   "source": [
    "from scipy.spatial.distance import squareform\n",
    "condensed_mat = squareform(dist_mat)\n",
    "linkage = 'complete'\n",
    "\n",
    "sil_scores = []  # silhouette scores\n",
    "for i in range(2, len(dist_mat)):\n",
    "    clusters = AgglomerativeClustering(n_clusters=i, affinity='precomputed', linkage=linkage)\n",
    "    clusters.fit_predict(dist_mat)\n",
    "\n",
    "    # use metric to measure/compare goodness of clusters based on internal coherence and \n",
    "    # external coupling.\n",
    "    # consider Dunn index. maximise the Dunn index.\n",
    "    # or consider average sillhouette width (maximise). available in sklearn.\n",
    "    from sklearn.metrics import silhouette_score\n",
    "\n",
    "    silhouette_avg = silhouette_score(dist_mat, clusters.labels_, metric='precomputed')\n",
    "    sil_scores.append(silhouette_avg)\n",
    "    print(i, \": \", silhouette_avg)"
   ]
  },
  {
   "cell_type": "code",
   "execution_count": 21,
   "metadata": {},
   "outputs": [
    {
     "name": "stdout",
     "output_type": "stream",
     "text": [
      "max avg silhouette score:  0.23558467124165486\n",
      "nclusters w max avg silhouette score:  2\n"
     ]
    }
   ],
   "source": [
    "sil_scores_arr = np.asarray(sil_scores)\n",
    "print('max avg silhouette score: ', sil_scores_arr.max())\n",
    "OPTIMAL_K = np.where(sil_scores_arr == sil_scores_arr.max())[0][0] + 2\n",
    "print('nclusters w max avg silhouette score: ', OPTIMAL_K)"
   ]
  },
  {
   "cell_type": "code",
   "execution_count": 25,
   "metadata": {
    "scrolled": true
   },
   "outputs": [
    {
     "name": "stdout",
     "output_type": "stream",
     "text": [
      "cluster 0 (size 7):\n",
      "[ 4  5  6 12 13 14 19]\n"
     ]
    },
    {
     "data": {
      "text/plain": [
       "'i imagine if i left my player untouched (no backlight) it could play for considerably more than 12 hours at a low volume level.'"
      ]
     },
     "metadata": {},
     "output_type": "display_data"
    },
    {
     "data": {
      "text/plain": [
       "'the battery, as others have said, also seems weaker than Creative suggests.'"
      ]
     },
     "metadata": {},
     "output_type": "display_data"
    },
    {
     "data": {
      "text/plain": [
       "'the battery life leaves a lot to be desired.'"
      ]
     },
     "metadata": {},
     "output_type": "display_data"
    },
    {
     "data": {
      "text/plain": [
       "'but my biggest gripe is still the extremely ugly design.'"
      ]
     },
     "metadata": {},
     "output_type": "display_data"
    },
    {
     "data": {
      "text/plain": [
       "'but, the creative zen micro is plagued by a serious, serious stupid and elemenatary design flaw.'"
      ]
     },
     "metadata": {},
     "output_type": "display_data"
    },
    {
     "data": {
      "text/plain": [
       "\"i thought it could've been designed a bit better.\""
      ]
     },
     "metadata": {},
     "output_type": "display_data"
    },
    {
     "data": {
      "text/plain": [
       "'the software that comes along with it is not very intuitive but once you are used to it,it  does the job well.'"
      ]
     },
     "metadata": {},
     "output_type": "display_data"
    },
    {
     "name": "stdout",
     "output_type": "stream",
     "text": [
      "\n",
      "\n",
      "cluster 1 (size 10):\n",
      "[ 0  1  2  7  9 11 15 16 17 18]\n"
     ]
    },
    {
     "data": {
      "text/plain": [
       "'each battery lasts about 10-11 hours.'"
      ]
     },
     "metadata": {},
     "output_type": "display_data"
    },
    {
     "data": {
      "text/plain": [
       "\"the zen micro is a sleek, stylish device that caters not just to 'hip' youngsters but to people of all walks of life who like to listen on the go without having to worry frequently about battery life, size, or the 'awkward' factor.\""
      ]
     },
     "metadata": {},
     "output_type": "display_data"
    },
    {
     "data": {
      "text/plain": [
       "'battery life is exceptional, lasting longer than the 8-10 hours that seem reasonable with most music players on the market.'"
      ]
     },
     "metadata": {},
     "output_type": "display_data"
    },
    {
     "data": {
      "text/plain": [
       "'the earbud headphones are really nice.'"
      ]
     },
     "metadata": {},
     "output_type": "display_data"
    },
    {
     "data": {
      "text/plain": [
       "'Creative did an awesome job with the design.'"
      ]
     },
     "metadata": {},
     "output_type": "display_data"
    },
    {
     "data": {
      "text/plain": [
       "'it was a good player when it worked and i loved the design.'"
      ]
     },
     "metadata": {},
     "output_type": "display_data"
    },
    {
     "data": {
      "text/plain": [
       "'creative has excellent music software, a very responsive tech support group (they are quick on firmware updates, and make them publicly available), and usually a good array of accessories.'"
      ]
     },
     "metadata": {},
     "output_type": "display_data"
    },
    {
     "data": {
      "text/plain": [
       "'the software is simple and straight forward.'"
      ]
     },
     "metadata": {},
     "output_type": "display_data"
    },
    {
     "data": {
      "text/plain": [
       "'the software is very easy to use, and the transfer is super fast!'"
      ]
     },
     "metadata": {},
     "output_type": "display_data"
    },
    {
     "data": {
      "text/plain": [
       "\"it's easy to use, and makes transfering your cd collection to the player a cinch.\""
      ]
     },
     "metadata": {},
     "output_type": "display_data"
    },
    {
     "name": "stdout",
     "output_type": "stream",
     "text": [
      "\n",
      "\n",
      "cluster 2 (size 3):\n",
      "[ 3  8 10]\n"
     ]
    },
    {
     "data": {
      "text/plain": [
       "'there are 2 things that need fixing first is the battery life. it will run for 6 hrs without problems with medium usage of the buttons.'"
      ]
     },
     "metadata": {},
     "output_type": "display_data"
    },
    {
     "data": {
      "text/plain": [
       "'the earbuds are great headphones. as good as my agk studio 240, well not as good but darn close.'"
      ]
     },
     "metadata": {},
     "output_type": "display_data"
    },
    {
     "data": {
      "text/plain": [
       "'the design is very nice, and the colors are too.'"
      ]
     },
     "metadata": {},
     "output_type": "display_data"
    },
    {
     "name": "stdout",
     "output_type": "stream",
     "text": [
      "\n",
      "\n"
     ]
    }
   ],
   "source": [
    "selected_k = 3\n",
    "clusters = AgglomerativeClustering(n_clusters=selected_k, affinity='precomputed', linkage=linkage)\n",
    "clusters.fit_predict(dist_mat)\n",
    "for i in range(clusters.n_clusters_):\n",
    "    indices = np.where(clusters.labels_ == i)[0]\n",
    "    \n",
    "    print(f'cluster {i} (size {len(indices)}):')\n",
    "    print(indices)\n",
    "    for idx in indices:\n",
    "        display(sents_df.iloc[idx]['sentence'])\n",
    "    print('\\n')"
   ]
  },
  {
   "cell_type": "code",
   "execution_count": 26,
   "metadata": {},
   "outputs": [],
   "source": [
    "# save clusters into JSON dict\n",
    "clusters_dict = dict()\n",
    "for i in range(clusters.n_clusters_):\n",
    "    indices = np.where(clusters.labels_ == i)[0]\n",
    "    sents = list()\n",
    "    for idx in indices:\n",
    "        sents.append(int(df_piv.index[idx]))\n",
    "    clusters_dict[i] = sents\n",
    "\n",
    "path = save_dir + '/' + 'clusters.json'\n",
    "with open(path, 'w') as fp:\n",
    "    json.dump(clusters_dict, fp)"
   ]
  },
  {
   "cell_type": "code",
   "execution_count": 27,
   "metadata": {},
   "outputs": [
    {
     "name": "stdout",
     "output_type": "stream",
     "text": [
      "------\n",
      "\n",
      "no. of clusters = 3\n",
      "[[0.     0.7181 0.6384]\n",
      " [0.     0.     0.5762]\n",
      " [0.     0.     0.    ]]\n"
     ]
    }
   ],
   "source": [
    "# Compute the distance of one cluster to another cluster by the average pairwise distance\n",
    "# of the elements in one cluster and another cluster.  \n",
    "for n_clusters in [selected_k]:\n",
    "    print('------')\n",
    "    print(f'\\nno. of clusters = {n_clusters}')\n",
    "    clusters = AgglomerativeClustering(n_clusters=n_clusters, affinity='precomputed', linkage=linkage)\n",
    "    clusters.fit_predict(dist_mat)\n",
    "    \n",
    "    # find average distances between clusters and output a new distance matrix\n",
    "    labels = [i for i in range(clusters.n_clusters_)]\n",
    "    avg_dist_arr = np.zeros(shape=(clusters.n_clusters_, clusters.n_clusters_))\n",
    "    for i in range(clusters.n_clusters_):\n",
    "        indices = np.where(clusters.labels_ == i)[0]\n",
    "        labels.remove(i)\n",
    "        for j in labels:\n",
    "            other_indices = np.where(clusters.labels_ == j)[0]\n",
    "            intra_dist_arr = np.zeros(shape=(len(indices), len(other_indices)))\n",
    "            \n",
    "            for k, index in enumerate(indices):\n",
    "                for m, other_index in enumerate(other_indices):\n",
    "                    intra_dist_arr[k][m] = dist_mat[index][other_index]\n",
    "            \n",
    "            #print (f'cluster {i} against cluster {j}:')\n",
    "            #print(intra_dist_arr)\n",
    "            \n",
    "            avg_dist = np.average(intra_dist_arr)\n",
    "            #print(avg_dist)\n",
    "            avg_dist_arr[i][j] = avg_dist\n",
    "    print(avg_dist_arr)"
   ]
  },
  {
   "cell_type": "code",
   "execution_count": 28,
   "metadata": {},
   "outputs": [],
   "source": [
    "path = save_dir + '/' + 'clusterDistances.csv'\n",
    "intercluster_dists = avg_dist_arr + np.transpose(avg_dist_arr)\n",
    "np.savetxt(path, intercluster_dists, delimiter=\",\")"
   ]
  },
  {
   "cell_type": "code",
   "execution_count": 29,
   "metadata": {},
   "outputs": [
    {
     "name": "stdout",
     "output_type": "stream",
     "text": [
      "[[0.     0.7181 0.6384]\n",
      " [0.7181 0.     0.5762]\n",
      " [0.6384 0.5762 0.    ]]\n"
     ]
    }
   ],
   "source": [
    "print(intercluster_dists)"
   ]
  },
  {
   "cell_type": "markdown",
   "metadata": {},
   "source": [
    "## Visualise network of clusters"
   ]
  },
  {
   "cell_type": "code",
   "execution_count": null,
   "metadata": {},
   "outputs": [],
   "source": [
    "import networkx as nx\n",
    "import string"
   ]
  },
  {
   "cell_type": "code",
   "execution_count": null,
   "metadata": {},
   "outputs": [],
   "source": [
    "G = nx.from_numpy_matrix(tmp)\n",
    "print(G.nodes())\n",
    "print(G.edges().data())\n",
    "#G = nx.relabel_nodes(G, dict(zip(range(len(G.nodes())),string.ascii_uppercase)))\n",
    "\n",
    "import pydot\n",
    "from networkx.drawing.nx_pydot import write_dot\n",
    "\n",
    "print(\"using package pydot\")\n",
    "path = save_dir + '/' + 'clusterViz.dot'\n",
    "write_dot(G, path)\n",
    "# you can then use the various graphviz CLI to generate the image. E.g. \"neato -Tpng clusterViz.dot -o clusterViz.png\"\n",
    "# see https://www.graphviz.org/pdf/neatoguide.pdf for more info on modifying dot files.\n",
    "# fdp or sfdp can be used instead of neato. "
   ]
  },
  {
   "cell_type": "markdown",
   "metadata": {},
   "source": [
    "## Summarize"
   ]
  },
  {
   "cell_type": "code",
   "execution_count": 9,
   "metadata": {},
   "outputs": [
    {
     "name": "stdout",
     "output_type": "stream",
     "text": [
      "loaded data from disk.\n"
     ]
    }
   ],
   "source": [
    "# load data files\n",
    "\n",
    "import numpy as np\n",
    "# load indexed sentences:\n",
    "sents_df = pd.read_csv(\"../data/test3/MP3Player.csv\")\n",
    "\n",
    "# load intersentence pairwise distance matrix.\n",
    "intersentence = pd.read_csv(\"../data/test3/pairwiseMatrix.csv\")\n",
    "\n",
    "# load intercluster pairwise distance matrix.\n",
    "intercluster_dists = np.loadtxt(\"../data/test3/clusterDistances.csv\", delimiter=\",\")\n",
    "\n",
    "# load clusters.\n",
    "with open(\"../data/test3/clusters.json\") as fp:\n",
    "    clusters_dict = json.load(fp)\n",
    "\n",
    "    print(\"loaded data from disk.\")"
   ]
  },
  {
   "cell_type": "code",
   "execution_count": 3,
   "metadata": {},
   "outputs": [],
   "source": [
    "from nltk.tokenize import RegexpTokenizer\n",
    "\n",
    "def choose_longest(sentences):\n",
    "    tokenizer = RegexpTokenizer(r'\\w+')\n",
    "    max_len = 0\n",
    "    final_sent = None\n",
    "    for sent in sentences:\n",
    "        tokens = tokenizer.tokenize(sent)\n",
    "        if len(tokens) > max_len:\n",
    "            max_len = len(sent)\n",
    "            final_sent = sent\n",
    "    return final_sent\n",
    "\n",
    "from lexrank import LexRank\n",
    "from lexrank.mappings.stopwords import STOPWORDS\n",
    "def choose_salient(sentences):\n",
    "    \"\"\"\n",
    "    \n",
    "    \"\"\"\n",
    "    lxr = LexRank(sentences, stopwords=STOPWORDS['en'])\n",
    "    top_sentence = lxr.get_summary(sentences[0], summary_size=1, threshold=.1)\n",
    "    return top_sentence[0]\n",
    "    \n",
    "\n",
    "def summarize(clusters, intersentence, sent_df, word_limit=90, coherence_threshold=0.6, redundancy_threshold=0.3):\n",
    "    \"\"\"\n",
    "    :param clusters: dict of clusters of the form {str(cluster_num): list(sentence_indices)}.\n",
    "    :param intersentence: Pandas DataFrame of precomputed inter-sentence distance in pairwise matrix form.\n",
    "    :param sent_df: Pandas DataFrame of indexed sentences.\n",
    "    :param word_limit: maximum num of words for summary.\n",
    "    :param coherence_threshold: maximum distance allowed for a sentence pair within the summary. valid values between 0-1.\n",
    "    :param redundancy_threshold: minimum distance allowed for a sentence pair within the summary. valid values between 0-1.\n",
    "    \n",
    "    We need a redundancy_threshold because the clustering algorithm does not always manage to group \n",
    "    redundant sentences together?\n",
    "    \"\"\"\n",
    "    if coherence_threshold <= redundancy_threshold:\n",
    "        raise Exception\n",
    "    \n",
    "    tokenizer = RegexpTokenizer(r'\\w+') # tokenize into word-like tokens.\n",
    "    summary = list()\n",
    "    word_count = 0\n",
    "    \n",
    "    sorted_clusters = sorted(clusters.items(), key=lambda x: len(x[1]), reverse=True)  # iterable of pairs.\n",
    "    \n",
    "    for key, clust in sorted_clusters:\n",
    "        sentences = [sent_df.iloc[idx]['sentence'] for idx in clust]\n",
    "        #selected = choose_longest(clust)\n",
    "        selected = choose_salient([sentences])\n",
    "        selected_idx = sent_df[sent_df.sentence == selected].index[0]\n",
    "        tokens = tokenizer.tokenize(selected)\n",
    "        if word_count + len(tokens) < word_limit:\n",
    "            max_dist = 0\n",
    "            min_dist = 1\n",
    "            for sent_idx in summary:\n",
    "                dist = intersentence.iloc[sent_idx][selected_idx]\n",
    "                if dist > max_dist:\n",
    "                    max_dist = dist\n",
    "                if dist < min_dist:\n",
    "                    min_dist = dist\n",
    "            if max_dist < coherence_threshold and min_dist > redundancy_threshold:\n",
    "                summary.append(selected_idx)\n",
    "                word_count = word_count + len(tokens)\n",
    "        else:\n",
    "            break\n",
    "    return summary"
   ]
  },
  {
   "cell_type": "code",
   "execution_count": 4,
   "metadata": {},
   "outputs": [
    {
     "data": {
      "text/plain": [
       "['i imagine if i left my player untouched (no backlight) it could play for considerably more than 12 hours at a low volume level.',\n",
       " 'the battery, as others have said, also seems weaker than Creative suggests.',\n",
       " 'the battery life leaves a lot to be desired.',\n",
       " 'but my biggest gripe is still the extremely ugly design.',\n",
       " 'but, the creative zen micro is plagued by a serious, serious stupid and elemenatary design flaw.',\n",
       " \"i thought it could've been designed a bit better.\",\n",
       " 'the software that comes along with it is not very intuitive but once you are used to it,it  does the job well.']"
      ]
     },
     "metadata": {},
     "output_type": "display_data"
    },
    {
     "data": {
      "text/plain": [
       "'the software that comes along with it is not very intuitive but once you are used to it,it  does the job well.'"
      ]
     },
     "execution_count": 4,
     "metadata": {},
     "output_type": "execute_result"
    }
   ],
   "source": [
    "# test lexrank algorithm.\n",
    "sentences = [sents_df.iloc[idx]['sentence'] for idx in clusters_dict['0']]\n",
    "display(sentences)\n",
    "choose_salient([sentences])"
   ]
  },
  {
   "cell_type": "code",
   "execution_count": 5,
   "metadata": {},
   "outputs": [
    {
     "name": "stdout",
     "output_type": "stream",
     "text": [
      "no. of sentences in summary:  2\n",
      "no. of sentences in source:  20\n",
      "\n",
      "18: it's easy to use, and makes transfering your cd collection to the player a cinch.\n",
      "10: the design is very nice, and the colors are too.\n",
      "\n",
      "10: the design is very nice, and the colors are too.\n",
      "18: it's easy to use, and makes transfering your cd collection to the player a cinch.\n"
     ]
    }
   ],
   "source": [
    "# todo: think of statistical way to determine the coherence_threshold and redundancy_threshold.\n",
    "summary = summarize(clusters_dict, intersentence, sents_df, word_limit=90, coherence_threshold=0.6, redundancy_threshold=0.35)\n",
    "print(\"no. of sentences in summary: \", len(summary))\n",
    "print(\"no. of sentences in source: \", len(intersentence.index.values))\n",
    "print()\n",
    "for sent_idx in summary:\n",
    "    print(f\"{sent_idx}: {sents_df.iloc[sent_idx]['sentence']}\")\n",
    "print()\n",
    "for sent_idx in sorted(summary):\n",
    "    print(f\"{sent_idx}: {sents_df.iloc[sent_idx]['sentence']}\")"
   ]
  },
  {
   "cell_type": "markdown",
   "metadata": {},
   "source": [
    "## Multiple Summaries"
   ]
  },
  {
   "cell_type": "code",
   "execution_count": null,
   "metadata": {},
   "outputs": [],
   "source": [
    "def multi_summary(clusters, intercluster_dists, sent_df, word_limit=100, contradiction_threshold=0.6):\n",
    "    \"\"\"\n",
    "    :param clusters: dict of clusters of the form {str(cluster_index): list(sentence_indices)}.\n",
    "    :param intercluster_dists: square numpy.ndarray representing distances between each cluster.\n",
    "    :param sent_df: Pandas DataFrame of indexed sentences.\n",
    "    :param word_limit: maximum num of words for summary.\n",
    "    :param contradiction_threshold: float value between 0 and 1, representing the value after which\n",
    "    sentence pairs will be considered contradictory.\n",
    "    \"\"\"\n",
    "    # find top/representative sentence of each cluster.\n",
    "    top_sentences = dict()\n",
    "    for clust_idx, clust in clusters.items():\n",
    "        sentences = [sent_df.iloc[idx]['sentence'] for idx in clust]\n",
    "        selected = choose_salient([sentences])\n",
    "        selected_idx = sent_df[sent_df.sentence == selected].index[0]\n",
    "        top_sentences[int(clust_idx)] = selected_idx  # typecasted to int because json dicts saved integer keys into str keys.\n",
    "    \n",
    "    # find clusters that are not contradictory w ALL other clusters.\n",
    "    base_clusters = list()\n",
    "    contradicted_pairs = list()\n",
    "    contradicted_set= set()\n",
    "    for i in range(len(intercluster_dists)):\n",
    "        for j in range(i+1,len(intercluster_dists)):\n",
    "            if intercluster_dists[i][j] > contradiction_threshold:\n",
    "                contradicted_pairs.append((i,j))\n",
    "                contradicted_set.add(i)\n",
    "                contradicted_set.add(j)\n",
    "        if i not in contradicted_set:\n",
    "            base_clusters.append(i)\n",
    "    \n",
    "    # construct base summary\n",
    "    base_summary = list()\n",
    "    word_count = 0\n",
    "    tokenizer = RegexpTokenizer(r'\\w+') # tokenize into word-like tokens.\n",
    "    sorted_clusters = sorted(clusters.items(), key=lambda x: len(x[1]), reverse=True)  # iterable of pairs.\n",
    "    for clust_idx, clust in sorted_clusters:\n",
    "        if int(clust_idx) in base_clusters:\n",
    "            selected_idx = top_sentences[int(clust_idx)]\n",
    "            selected = sent_df.iloc[selected_idx]['sentence']\n",
    "            tokens = tokenizer.tokenize(selected)\n",
    "            if word_count + len(tokens) < word_limit:\n",
    "                base_summary.append(selected_idx)\n",
    "                word_count = word_count + len(tokens)\n",
    "            else:\n",
    "                break\n",
    "    \n",
    "    # construct summaries w contentious information.\n",
    "    all_summaries = list()\n",
    "    added_sentences = set()\n",
    "    for clust1, clust2 in contradicted_pairs:\n",
    "        sent1 =  top_sentences[clust1]\n",
    "        sent2 =  top_sentences[clust2]\n",
    "        \n",
    "        if sent1 not in added_sentences:\n",
    "            all_summaries.append(base_summary + [sent1])\n",
    "            added_sentences.add(sent1)\n",
    "        if sent2 not in added_sentences:\n",
    "            all_summaries.append(base_summary + [sent2])\n",
    "            added_sentences.add(sent2)\n",
    "    print(base_summary)\n",
    "    return all_summaries, base_summary"
   ]
  },
  {
   "cell_type": "code",
   "execution_count": null,
   "metadata": {
    "scrolled": true
   },
   "outputs": [],
   "source": [
    "from IPython.display import Markdown\n",
    "all_summaries, base_summary = multi_summary(clusters_dict, intercluster_dists, sents_df, word_limit=90, contradiction_threshold=0.6)\n",
    "\n",
    "print(f\"total no. of summaries = {len(all_summaries)}\")\n",
    "print()\n",
    "\n",
    "for summary in all_summaries:\n",
    "    print(\"no. of sentences in summary: \", len(summary))\n",
    "    print(\"no. of sentences in source: \", len(intersentence.index.values))\n",
    "    print()\n",
    "    for sent_idx in sorted(summary):\n",
    "        if sent_idx in base_summary:\n",
    "            display(Markdown(f\"**{sent_idx}: {sents_df.iloc[sent_idx]['sentence']}**\"))\n",
    "        else:\n",
    "            display(Markdown(f\"{sent_idx}: {sents_df.iloc[sent_idx]['sentence']}\"))\n",
    "    print()"
   ]
  },
  {
   "cell_type": "markdown",
   "metadata": {},
   "source": [
    "## Reliability Ranking approach to multi-summarization."
   ]
  },
  {
   "cell_type": "code",
   "execution_count": 6,
   "metadata": {
    "scrolled": true
   },
   "outputs": [
    {
     "data": {
      "text/plain": [
       "{'0': [4, 5, 6, 12, 13, 14, 19],\n",
       " '1': [0, 1, 2, 7, 9, 11, 15, 16, 17, 18],\n",
       " '2': [3, 8, 10]}"
      ]
     },
     "execution_count": 6,
     "metadata": {},
     "output_type": "execute_result"
    }
   ],
   "source": [
    "clusters_dict"
   ]
  },
  {
   "cell_type": "code",
   "execution_count": 10,
   "metadata": {},
   "outputs": [],
   "source": [
    "def rank_by_reliability(clusters_dict, intercluster, contra_threshold=0.5):\n",
    "    \"\"\"\n",
    "    :param clusters_dict: dict of clusters. {str(cluster index): list(sentence indices)}.\n",
    "    :param intercluster: square numpy.ndarray representing distances between each cluster.\n",
    "    \n",
    "    \"\"\"\n",
    "    scores = list()\n",
    "    for cluster_idx in range(len(intercluster)):\n",
    "        contra_size = 0\n",
    "        for other_cluster_idx in range(len(intercluster)):\n",
    "            if intercluster[cluster_idx][other_cluster_idx] > contra_threshold:\n",
    "                contra_size = contra_size + len(clusters_dict[str(other_cluster_idx)])\n",
    "        if contra_size > 0:\n",
    "            numer = len(clusters_dict[str(cluster_idx)])\n",
    "            denom = numer + contra_size\n",
    "            score = numer/denom\n",
    "        else:\n",
    "            score = len(clusters_dict[str(cluster_idx)])\n",
    "        scores.append((score, cluster_idx))\n",
    "    return scores"
   ]
  },
  {
   "cell_type": "code",
   "execution_count": 11,
   "metadata": {
    "scrolled": true
   },
   "outputs": [],
   "source": [
    "scores = rank_by_reliability(clusters_dict, intercluster_dists, contra_threshold=0.6)"
   ]
  },
  {
   "cell_type": "code",
   "execution_count": 12,
   "metadata": {},
   "outputs": [
    {
     "name": "stdout",
     "output_type": "stream",
     "text": [
      "cluster: 1\n",
      "reliability score: 0.5882352941176471\n"
     ]
    },
    {
     "data": {
      "text/html": [
       "<div>\n",
       "<style scoped>\n",
       "    .dataframe tbody tr th:only-of-type {\n",
       "        vertical-align: middle;\n",
       "    }\n",
       "\n",
       "    .dataframe tbody tr th {\n",
       "        vertical-align: top;\n",
       "    }\n",
       "\n",
       "    .dataframe thead th {\n",
       "        text-align: right;\n",
       "    }\n",
       "</style>\n",
       "<table border=\"1\" class=\"dataframe\">\n",
       "  <thead>\n",
       "    <tr style=\"text-align: right;\">\n",
       "      <th></th>\n",
       "      <th>index</th>\n",
       "      <th>sentence</th>\n",
       "    </tr>\n",
       "  </thead>\n",
       "  <tbody>\n",
       "    <tr>\n",
       "      <th>0</th>\n",
       "      <td>0</td>\n",
       "      <td>each battery lasts about 10-11 hours.</td>\n",
       "    </tr>\n",
       "    <tr>\n",
       "      <th>1</th>\n",
       "      <td>1</td>\n",
       "      <td>the zen micro is a sleek, stylish device that ...</td>\n",
       "    </tr>\n",
       "    <tr>\n",
       "      <th>2</th>\n",
       "      <td>2</td>\n",
       "      <td>battery life is exceptional, lasting longer th...</td>\n",
       "    </tr>\n",
       "    <tr>\n",
       "      <th>7</th>\n",
       "      <td>7</td>\n",
       "      <td>the earbud headphones are really nice.</td>\n",
       "    </tr>\n",
       "    <tr>\n",
       "      <th>9</th>\n",
       "      <td>9</td>\n",
       "      <td>Creative did an awesome job with the design.</td>\n",
       "    </tr>\n",
       "    <tr>\n",
       "      <th>11</th>\n",
       "      <td>11</td>\n",
       "      <td>it was a good player when it worked and i love...</td>\n",
       "    </tr>\n",
       "    <tr>\n",
       "      <th>15</th>\n",
       "      <td>15</td>\n",
       "      <td>creative has excellent music software, a very ...</td>\n",
       "    </tr>\n",
       "    <tr>\n",
       "      <th>16</th>\n",
       "      <td>16</td>\n",
       "      <td>the software is simple and straight forward.</td>\n",
       "    </tr>\n",
       "    <tr>\n",
       "      <th>17</th>\n",
       "      <td>17</td>\n",
       "      <td>the software is very easy to use, and the tran...</td>\n",
       "    </tr>\n",
       "    <tr>\n",
       "      <th>18</th>\n",
       "      <td>18</td>\n",
       "      <td>it's easy to use, and makes transfering your c...</td>\n",
       "    </tr>\n",
       "  </tbody>\n",
       "</table>\n",
       "</div>"
      ],
      "text/plain": [
       "    index                                           sentence\n",
       "0       0              each battery lasts about 10-11 hours.\n",
       "1       1  the zen micro is a sleek, stylish device that ...\n",
       "2       2  battery life is exceptional, lasting longer th...\n",
       "7       7             the earbud headphones are really nice.\n",
       "9       9       Creative did an awesome job with the design.\n",
       "11     11  it was a good player when it worked and i love...\n",
       "15     15  creative has excellent music software, a very ...\n",
       "16     16       the software is simple and straight forward.\n",
       "17     17  the software is very easy to use, and the tran...\n",
       "18     18  it's easy to use, and makes transfering your c..."
      ]
     },
     "metadata": {},
     "output_type": "display_data"
    },
    {
     "name": "stdout",
     "output_type": "stream",
     "text": [
      "cluster: 0\n",
      "reliability score: 0.35\n"
     ]
    },
    {
     "data": {
      "text/html": [
       "<div>\n",
       "<style scoped>\n",
       "    .dataframe tbody tr th:only-of-type {\n",
       "        vertical-align: middle;\n",
       "    }\n",
       "\n",
       "    .dataframe tbody tr th {\n",
       "        vertical-align: top;\n",
       "    }\n",
       "\n",
       "    .dataframe thead th {\n",
       "        text-align: right;\n",
       "    }\n",
       "</style>\n",
       "<table border=\"1\" class=\"dataframe\">\n",
       "  <thead>\n",
       "    <tr style=\"text-align: right;\">\n",
       "      <th></th>\n",
       "      <th>index</th>\n",
       "      <th>sentence</th>\n",
       "    </tr>\n",
       "  </thead>\n",
       "  <tbody>\n",
       "    <tr>\n",
       "      <th>4</th>\n",
       "      <td>4</td>\n",
       "      <td>i imagine if i left my player untouched (no ba...</td>\n",
       "    </tr>\n",
       "    <tr>\n",
       "      <th>5</th>\n",
       "      <td>5</td>\n",
       "      <td>the battery, as others have said, also seems w...</td>\n",
       "    </tr>\n",
       "    <tr>\n",
       "      <th>6</th>\n",
       "      <td>6</td>\n",
       "      <td>the battery life leaves a lot to be desired.</td>\n",
       "    </tr>\n",
       "    <tr>\n",
       "      <th>12</th>\n",
       "      <td>12</td>\n",
       "      <td>but my biggest gripe is still the extremely ug...</td>\n",
       "    </tr>\n",
       "    <tr>\n",
       "      <th>13</th>\n",
       "      <td>13</td>\n",
       "      <td>but, the creative zen micro is plagued by a se...</td>\n",
       "    </tr>\n",
       "    <tr>\n",
       "      <th>14</th>\n",
       "      <td>14</td>\n",
       "      <td>i thought it could've been designed a bit better.</td>\n",
       "    </tr>\n",
       "    <tr>\n",
       "      <th>19</th>\n",
       "      <td>19</td>\n",
       "      <td>the software that comes along with it is not v...</td>\n",
       "    </tr>\n",
       "  </tbody>\n",
       "</table>\n",
       "</div>"
      ],
      "text/plain": [
       "    index                                           sentence\n",
       "4       4  i imagine if i left my player untouched (no ba...\n",
       "5       5  the battery, as others have said, also seems w...\n",
       "6       6       the battery life leaves a lot to be desired.\n",
       "12     12  but my biggest gripe is still the extremely ug...\n",
       "13     13  but, the creative zen micro is plagued by a se...\n",
       "14     14  i thought it could've been designed a bit better.\n",
       "19     19  the software that comes along with it is not v..."
      ]
     },
     "metadata": {},
     "output_type": "display_data"
    },
    {
     "name": "stdout",
     "output_type": "stream",
     "text": [
      "cluster: 2\n",
      "reliability score: 0.3\n"
     ]
    },
    {
     "data": {
      "text/html": [
       "<div>\n",
       "<style scoped>\n",
       "    .dataframe tbody tr th:only-of-type {\n",
       "        vertical-align: middle;\n",
       "    }\n",
       "\n",
       "    .dataframe tbody tr th {\n",
       "        vertical-align: top;\n",
       "    }\n",
       "\n",
       "    .dataframe thead th {\n",
       "        text-align: right;\n",
       "    }\n",
       "</style>\n",
       "<table border=\"1\" class=\"dataframe\">\n",
       "  <thead>\n",
       "    <tr style=\"text-align: right;\">\n",
       "      <th></th>\n",
       "      <th>index</th>\n",
       "      <th>sentence</th>\n",
       "    </tr>\n",
       "  </thead>\n",
       "  <tbody>\n",
       "    <tr>\n",
       "      <th>3</th>\n",
       "      <td>3</td>\n",
       "      <td>there are 2 things that need fixing first is t...</td>\n",
       "    </tr>\n",
       "    <tr>\n",
       "      <th>8</th>\n",
       "      <td>8</td>\n",
       "      <td>the earbuds are great headphones. as good as m...</td>\n",
       "    </tr>\n",
       "    <tr>\n",
       "      <th>10</th>\n",
       "      <td>10</td>\n",
       "      <td>the design is very nice, and the colors are too.</td>\n",
       "    </tr>\n",
       "  </tbody>\n",
       "</table>\n",
       "</div>"
      ],
      "text/plain": [
       "    index                                           sentence\n",
       "3       3  there are 2 things that need fixing first is t...\n",
       "8       8  the earbuds are great headphones. as good as m...\n",
       "10     10   the design is very nice, and the colors are too."
      ]
     },
     "metadata": {},
     "output_type": "display_data"
    }
   ],
   "source": [
    "for score, idx in sorted(scores, reverse=True):\n",
    "    print(f\"cluster: {idx}\")\n",
    "    print(f\"reliability score: {score}\")\n",
    "    display(sents_df.iloc[clusters_dict[str(idx)]])"
   ]
  },
  {
   "cell_type": "code",
   "execution_count": 13,
   "metadata": {},
   "outputs": [],
   "source": [
    "def intra_clust_dis_mat(clust, pairwise):\n",
    "    \"\"\"\n",
    "    :param clust: list of sentence indices that form the cluster.\n",
    "    :param pairwise: numpy.ndarray of universal pairwise dist matrix. \n",
    "    \"\"\"\n",
    "    sorted_clust = sorted(clust)\n",
    "    pairs = list(itertools.combinations(clust, 2))\n",
    "    tmp = np.zeros((len(clust), len(clust)))\n",
    "    for pair in pairs:\n",
    "        tmp_idx0 = sorted_clust.index(pair[0])\n",
    "        tmp_idx1 = sorted_clust.index(pair[1])\n",
    "        tmp[tmp_idx0][tmp_idx1] = pairwise[pair[0], pair[1]]\n",
    "    tmp = tmp + np.transpose(tmp)\n",
    "    return tmp, sorted_clust"
   ]
  },
  {
   "cell_type": "code",
   "execution_count": 19,
   "metadata": {},
   "outputs": [
    {
     "name": "stdout",
     "output_type": "stream",
     "text": [
      "[[0.         0.49960732 0.49948128 0.49965078 0.4984464  0.4944854\n",
      "  0.49954331]\n",
      " [0.49960732 0.         0.49902613 0.49962005 0.4995278  0.49956929\n",
      "  0.49962768]\n",
      " [0.49948128 0.49902613 0.         0.49962461 0.49682008 0.49935964\n",
      "  0.49957831]\n",
      " [0.49965078 0.49962005 0.49962461 0.         0.47973174 0.49902386\n",
      "  0.49961127]\n",
      " [0.4984464  0.4995278  0.49682008 0.47973174 0.         0.49667249\n",
      "  0.49952537]\n",
      " [0.4944854  0.49956929 0.49935964 0.49902386 0.49667249 0.\n",
      "  0.49944676]\n",
      " [0.49954331 0.49962768 0.49957831 0.49961127 0.49952537 0.49944676\n",
      "  0.        ]]\n",
      "[4, 5, 6, 12, 13, 14, 19]\n"
     ]
    }
   ],
   "source": [
    "mat, sorted_clust = intra_clust_dis_mat(clusters_dict['0'], dist_mat)\n",
    "print(mat)\n",
    "print(sorted_clust)"
   ]
  },
  {
   "cell_type": "code",
   "execution_count": 20,
   "metadata": {},
   "outputs": [
    {
     "data": {
      "text/plain": [
       "array([[0.        , 0.7181331 , 0.63836379],\n",
       "       [0.7181331 , 0.        , 0.57616617],\n",
       "       [0.63836379, 0.57616617, 0.        ]])"
      ]
     },
     "execution_count": 20,
     "metadata": {},
     "output_type": "execute_result"
    }
   ],
   "source": [
    "intercluster_dists"
   ]
  },
  {
   "cell_type": "code",
   "execution_count": 21,
   "metadata": {},
   "outputs": [],
   "source": [
    "from lexrank.lexrank import LexRank\n",
    "from lexrank.lexrank import degree_centrality_scores"
   ]
  },
  {
   "cell_type": "code",
   "execution_count": 34,
   "metadata": {},
   "outputs": [],
   "source": [
    "def choose_salient(dis_mat, sorted_clust):\n",
    "    \"\"\"\n",
    "    :param dis_mat: disimilarity or distance matrix. every value is between 0-1, inclusive.\n",
    "    :sorted_clust: sorted list of sentence indices corresponding to the indexing of dis_mat.\n",
    "    \"\"\"\n",
    "    similarity_matrix = 1 - dis_mat\n",
    "    scores = degree_centrality_scores(similarity_matrix, threshold=None)\n",
    "    return sorted_clust[np.argmax(scores)]"
   ]
  },
  {
   "cell_type": "code",
   "execution_count": 36,
   "metadata": {},
   "outputs": [
    {
     "data": {
      "text/plain": [
       "'but, the creative zen micro is plagued by a serious, serious stupid and elemenatary design flaw.'"
      ]
     },
     "execution_count": 36,
     "metadata": {},
     "output_type": "execute_result"
    }
   ],
   "source": [
    "sents_df.iloc[choose_salient(mat, sorted_clust)]['sentence']"
   ]
  },
  {
   "cell_type": "code",
   "execution_count": 37,
   "metadata": {},
   "outputs": [
    {
     "data": {
      "text/plain": [
       "'but, the creative zen micro is plagued by a serious, serious stupid and elemenatary design flaw.'"
      ]
     },
     "metadata": {},
     "output_type": "display_data"
    },
    {
     "data": {
      "text/plain": [
       "'each battery lasts about 10-11 hours.'"
      ]
     },
     "metadata": {},
     "output_type": "display_data"
    },
    {
     "data": {
      "text/plain": [
       "'there are 2 things that need fixing first is the battery life. it will run for 6 hrs without problems with medium usage of the buttons.'"
      ]
     },
     "metadata": {},
     "output_type": "display_data"
    }
   ],
   "source": [
    "# find top/representative sentence of each cluster.\n",
    "top_sentences = dict()\n",
    "for clust_idx, clust in clusters_dict.items():\n",
    "    intraclust, sorted_clust = intra_clust_dis_mat(clust, dist_mat)\n",
    "    display(sents_df.iloc[choose_salient(intraclust, sorted_clust)]['sentence'])"
   ]
  },
  {
   "cell_type": "code",
   "execution_count": null,
   "metadata": {},
   "outputs": [],
   "source": []
  }
 ],
 "metadata": {
  "kernelspec": {
   "display_name": "FYP",
   "language": "python",
   "name": "fyp"
  },
  "language_info": {
   "codemirror_mode": {
    "name": "ipython",
    "version": 3
   },
   "file_extension": ".py",
   "mimetype": "text/x-python",
   "name": "python",
   "nbconvert_exporter": "python",
   "pygments_lexer": "ipython3",
   "version": "3.7.3"
  }
 },
 "nbformat": 4,
 "nbformat_minor": 4
}
