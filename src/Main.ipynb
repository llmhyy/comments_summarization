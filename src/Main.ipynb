{
 "cells": [
  {
   "cell_type": "markdown",
   "metadata": {},
   "source": [
    "# Main notebook to process indexed datasets into summaries."
   ]
  },
  {
   "cell_type": "markdown",
   "metadata": {},
   "source": [
    "## Generate sentence pairs"
   ]
  },
  {
   "cell_type": "code",
   "execution_count": 1,
   "metadata": {},
   "outputs": [],
   "source": [
    "import itertools\n",
    "import json\n",
    "import nltk\n",
    "import pandas as pd"
   ]
  },
  {
   "cell_type": "code",
   "execution_count": 55,
   "metadata": {},
   "outputs": [
    {
     "name": "stdin",
     "output_type": "stream",
     "text": [
      "enter path to base directory to save outputs to:\n",
      " ../data/test2.2\n"
     ]
    }
   ],
   "source": [
    "save_dir = input(\"enter path to base directory to save outputs to:\\n\")"
   ]
  },
  {
   "cell_type": "code",
   "execution_count": 77,
   "metadata": {},
   "outputs": [
    {
     "name": "stdin",
     "output_type": "stream",
     "text": [
      "enter path to indexed dataset:\n",
      " ../data/astro0_decomposed_roberta/indexedSentences.csv\n"
     ]
    },
    {
     "data": {
      "text/html": [
       "<div>\n",
       "<style scoped>\n",
       "    .dataframe tbody tr th:only-of-type {\n",
       "        vertical-align: middle;\n",
       "    }\n",
       "\n",
       "    .dataframe tbody tr th {\n",
       "        vertical-align: top;\n",
       "    }\n",
       "\n",
       "    .dataframe thead th {\n",
       "        text-align: right;\n",
       "    }\n",
       "</style>\n",
       "<table border=\"1\" class=\"dataframe\">\n",
       "  <thead>\n",
       "    <tr style=\"text-align: right;\">\n",
       "      <th></th>\n",
       "      <th>index</th>\n",
       "      <th>sentence</th>\n",
       "    </tr>\n",
       "  </thead>\n",
       "  <tbody>\n",
       "    <tr>\n",
       "      <th>0</th>\n",
       "      <td>0</td>\n",
       "      <td>People with Virgo rising tend to be practical,...</td>\n",
       "    </tr>\n",
       "    <tr>\n",
       "      <th>1</th>\n",
       "      <td>1</td>\n",
       "      <td>You have an ingenious mind.</td>\n",
       "    </tr>\n",
       "    <tr>\n",
       "      <th>2</th>\n",
       "      <td>2</td>\n",
       "      <td>You have an active mind.</td>\n",
       "    </tr>\n",
       "    <tr>\n",
       "      <th>3</th>\n",
       "      <td>3</td>\n",
       "      <td>You have an alert mind.</td>\n",
       "    </tr>\n",
       "    <tr>\n",
       "      <th>4</th>\n",
       "      <td>4</td>\n",
       "      <td>Gaining knowledge and putting it to good use a...</td>\n",
       "    </tr>\n",
       "  </tbody>\n",
       "</table>\n",
       "</div>"
      ],
      "text/plain": [
       "   index                                           sentence\n",
       "0      0  People with Virgo rising tend to be practical,...\n",
       "1      1                        You have an ingenious mind.\n",
       "2      2                           You have an active mind.\n",
       "3      3                            You have an alert mind.\n",
       "4      4  Gaining knowledge and putting it to good use a..."
      ]
     },
     "execution_count": 77,
     "metadata": {},
     "output_type": "execute_result"
    }
   ],
   "source": [
    "input_path = input(\"enter path to indexed dataset:\\n\")  # default encoding is utf-8\n",
    "with open(input_path) as f:\n",
    "    sents_df = pd.read_csv(f, delimiter=',')\n",
    "sents_df.head()"
   ]
  },
  {
   "cell_type": "code",
   "execution_count": 78,
   "metadata": {},
   "outputs": [
    {
     "name": "stdout",
     "output_type": "stream",
     "text": [
      "no. of sentences:  88\n",
      "no. of sentence pairs:  3828 \n",
      "\n"
     ]
    }
   ],
   "source": [
    "indices = list(sents_df.index)\n",
    "\n",
    "# generate all pairs in the set of sentences.\n",
    "indices_list = list(itertools.combinations(indices, 2))\n",
    "print('no. of sentences: ', len(indices))\n",
    "print('no. of sentence pairs: ', len(indices_list), '\\n')"
   ]
  },
  {
   "cell_type": "code",
   "execution_count": 79,
   "metadata": {},
   "outputs": [
    {
     "data": {
      "text/html": [
       "<div>\n",
       "<style scoped>\n",
       "    .dataframe tbody tr th:only-of-type {\n",
       "        vertical-align: middle;\n",
       "    }\n",
       "\n",
       "    .dataframe tbody tr th {\n",
       "        vertical-align: top;\n",
       "    }\n",
       "\n",
       "    .dataframe thead th {\n",
       "        text-align: right;\n",
       "    }\n",
       "</style>\n",
       "<table border=\"1\" class=\"dataframe\">\n",
       "  <thead>\n",
       "    <tr style=\"text-align: right;\">\n",
       "      <th></th>\n",
       "      <th>first_index</th>\n",
       "      <th>second_index</th>\n",
       "      <th>first</th>\n",
       "      <th>second</th>\n",
       "    </tr>\n",
       "  </thead>\n",
       "  <tbody>\n",
       "    <tr>\n",
       "      <th>0</th>\n",
       "      <td>0</td>\n",
       "      <td>1</td>\n",
       "      <td>People with Virgo rising tend to be practical,...</td>\n",
       "      <td>You have an ingenious mind.</td>\n",
       "    </tr>\n",
       "    <tr>\n",
       "      <th>1</th>\n",
       "      <td>0</td>\n",
       "      <td>2</td>\n",
       "      <td>People with Virgo rising tend to be practical,...</td>\n",
       "      <td>You have an active mind.</td>\n",
       "    </tr>\n",
       "    <tr>\n",
       "      <th>2</th>\n",
       "      <td>0</td>\n",
       "      <td>3</td>\n",
       "      <td>People with Virgo rising tend to be practical,...</td>\n",
       "      <td>You have an alert mind.</td>\n",
       "    </tr>\n",
       "    <tr>\n",
       "      <th>3</th>\n",
       "      <td>0</td>\n",
       "      <td>4</td>\n",
       "      <td>People with Virgo rising tend to be practical,...</td>\n",
       "      <td>Gaining knowledge and putting it to good use a...</td>\n",
       "    </tr>\n",
       "    <tr>\n",
       "      <th>4</th>\n",
       "      <td>0</td>\n",
       "      <td>5</td>\n",
       "      <td>People with Virgo rising tend to be practical,...</td>\n",
       "      <td>You strive for perfection.</td>\n",
       "    </tr>\n",
       "    <tr>\n",
       "      <th>...</th>\n",
       "      <td>...</td>\n",
       "      <td>...</td>\n",
       "      <td>...</td>\n",
       "      <td>...</td>\n",
       "    </tr>\n",
       "    <tr>\n",
       "      <th>3823</th>\n",
       "      <td>84</td>\n",
       "      <td>86</td>\n",
       "      <td>Self-control needs to be developed and added t...</td>\n",
       "      <td>You aim to please in practical ways.</td>\n",
       "    </tr>\n",
       "    <tr>\n",
       "      <th>3824</th>\n",
       "      <td>84</td>\n",
       "      <td>87</td>\n",
       "      <td>Self-control needs to be developed and added t...</td>\n",
       "      <td>You aim to please in earthy ways.</td>\n",
       "    </tr>\n",
       "    <tr>\n",
       "      <th>3825</th>\n",
       "      <td>85</td>\n",
       "      <td>86</td>\n",
       "      <td>Guard against possessiveness, jealousy, and ta...</td>\n",
       "      <td>You aim to please in practical ways.</td>\n",
       "    </tr>\n",
       "    <tr>\n",
       "      <th>3826</th>\n",
       "      <td>85</td>\n",
       "      <td>87</td>\n",
       "      <td>Guard against possessiveness, jealousy, and ta...</td>\n",
       "      <td>You aim to please in earthy ways.</td>\n",
       "    </tr>\n",
       "    <tr>\n",
       "      <th>3827</th>\n",
       "      <td>86</td>\n",
       "      <td>87</td>\n",
       "      <td>You aim to please in practical ways.</td>\n",
       "      <td>You aim to please in earthy ways.</td>\n",
       "    </tr>\n",
       "  </tbody>\n",
       "</table>\n",
       "<p>3828 rows × 4 columns</p>\n",
       "</div>"
      ],
      "text/plain": [
       "      first_index  second_index  \\\n",
       "0               0             1   \n",
       "1               0             2   \n",
       "2               0             3   \n",
       "3               0             4   \n",
       "4               0             5   \n",
       "...           ...           ...   \n",
       "3823           84            86   \n",
       "3824           84            87   \n",
       "3825           85            86   \n",
       "3826           85            87   \n",
       "3827           86            87   \n",
       "\n",
       "                                                  first  \\\n",
       "0     People with Virgo rising tend to be practical,...   \n",
       "1     People with Virgo rising tend to be practical,...   \n",
       "2     People with Virgo rising tend to be practical,...   \n",
       "3     People with Virgo rising tend to be practical,...   \n",
       "4     People with Virgo rising tend to be practical,...   \n",
       "...                                                 ...   \n",
       "3823  Self-control needs to be developed and added t...   \n",
       "3824  Self-control needs to be developed and added t...   \n",
       "3825  Guard against possessiveness, jealousy, and ta...   \n",
       "3826  Guard against possessiveness, jealousy, and ta...   \n",
       "3827               You aim to please in practical ways.   \n",
       "\n",
       "                                                 second  \n",
       "0                           You have an ingenious mind.  \n",
       "1                              You have an active mind.  \n",
       "2                               You have an alert mind.  \n",
       "3     Gaining knowledge and putting it to good use a...  \n",
       "4                            You strive for perfection.  \n",
       "...                                                 ...  \n",
       "3823               You aim to please in practical ways.  \n",
       "3824                  You aim to please in earthy ways.  \n",
       "3825               You aim to please in practical ways.  \n",
       "3826                  You aim to please in earthy ways.  \n",
       "3827                  You aim to please in earthy ways.  \n",
       "\n",
       "[3828 rows x 4 columns]"
      ]
     },
     "metadata": {},
     "output_type": "display_data"
    }
   ],
   "source": [
    "# generate all sentence pairs and save into a csv for manual labelling.\n",
    "data = []\n",
    "for pair in indices_list:\n",
    "    data.append([pair[0], pair[1], sents_df.iloc[pair[0]]['sentence'], sents_df.iloc[pair[1]]['sentence']])\n",
    "\n",
    "df = pd.DataFrame(data=data, columns=['first_index', 'second_index', 'first', 'second'])\n",
    "display(df)"
   ]
  },
  {
   "cell_type": "code",
   "execution_count": 80,
   "metadata": {},
   "outputs": [
    {
     "name": "stdin",
     "output_type": "stream",
     "text": [
      "save indexed paired dataset? (y/n):\n",
      " n\n"
     ]
    },
    {
     "name": "stdout",
     "output_type": "stream",
     "text": [
      "not saving indexed paired dataset.\n"
     ]
    }
   ],
   "source": [
    "is_save = input('save indexed paired dataset? (y/n):\\n')\n",
    "if is_save.lower() == 'y':\n",
    "    df.to_csv(save_dir + '/' + 'paired_sentences.csv')\n",
    "else:\n",
    "    print('not saving indexed paired dataset.')"
   ]
  },
  {
   "cell_type": "markdown",
   "metadata": {},
   "source": [
    "## Perform inferences of distances between sentences in a sentence pair"
   ]
  },
  {
   "cell_type": "code",
   "execution_count": 10,
   "metadata": {},
   "outputs": [],
   "source": [
    "import torch\n",
    "from fairseq.data.data_utils import collate_tokens\n",
    "from math import exp\n",
    "import numpy as np\n",
    "\n",
    "class RobertaMNLI:\n",
    "    # todo: create similar wrapper classes for other NLI engines.\n",
    "    # todo: create a wrapper superclass and subclass from there.\n",
    "    \n",
    "    def __init__(self, rel_path):\n",
    "        \"\"\"\n",
    "        :param rel_path: relative path to pytorch hub directory.\n",
    "        \"\"\"\n",
    "        self.output_map = {\n",
    "            0: 'contradiction',\n",
    "            1: 'neutral',\n",
    "            2: 'entailment'\n",
    "        }\n",
    "        \n",
    "        torch.hub.set_dir(rel_path)\n",
    "        self.roberta = torch.hub.load('pytorch/fairseq', 'roberta.large.mnli')  # works\n",
    "        self.roberta.cuda()\n",
    "        self.roberta.eval()\n",
    "        \n",
    "    def predict_one(self, S1, S2, return_probs=False):\n",
    "        batch = collate_tokens(\n",
    "            [self.roberta.encode(S1, S2)], pad_idx=1\n",
    "        )\n",
    "        logprobs = self.roberta.predict('mnli', batch)\n",
    "        classes_tsr = logprobs.argmax(dim=1)\n",
    "        classes = classes_tsr.tolist()  \n",
    "        \n",
    "        if return_probs == True:\n",
    "            logprobs_list=[logprob.item() for logprob in logprobs[0]]\n",
    "            prob_list =  [pow(exp(1), logprob) for logprob in logprobs_list]\n",
    "            return prob_list\n",
    "        else:\n",
    "            return classes[0]  # 0 is contradiction, 1 is neutral, 2 is entailment."
   ]
  },
  {
   "cell_type": "code",
   "execution_count": 11,
   "metadata": {},
   "outputs": [
    {
     "name": "stderr",
     "output_type": "stream",
     "text": [
      "Using cache found in ../../roberta/hub\\pytorch_fairseq_master\n"
     ]
    }
   ],
   "source": [
    "predictor = RobertaMNLI(rel_path=\"../../roberta/hub\")"
   ]
  },
  {
   "cell_type": "code",
   "execution_count": 12,
   "metadata": {},
   "outputs": [],
   "source": [
    "results = list()\n",
    "for i in range(len(df)):\n",
    "    s1 = df.iloc[i]['first']\n",
    "    s2 = df.iloc[i]['second']\n",
    "    CNE1 = predictor.predict_one(s1, s2, return_probs=True)\n",
    "    CNE2 = predictor.predict_one(s2, s1, return_probs=True)\n",
    "    row = CNE1+ CNE2\n",
    "    results.append(row)\n",
    "\n",
    "scores_df = pd.DataFrame(data=results, columns=['C1', 'N1', 'E1', 'C2', 'N2', 'E2'])"
   ]
  },
  {
   "cell_type": "code",
   "execution_count": 13,
   "metadata": {},
   "outputs": [],
   "source": [
    "def gen_dist2(row):\n",
    "    '''\n",
    "    Generate distance score based on Contradiction, Entailment and Neutrality probabilities for both directions.\n",
    "    Assumes that C+E+N=1.\n",
    "    '''    \n",
    "    max1 = max([row['C1'], row['E1'], row['N1']])\n",
    "    max2 = max([row['C2'], row['E2'], row['N2']])\n",
    "    if max1 > max2:\n",
    "        C, E, N = row['C1'], row['E1'], row['N1']\n",
    "    else:\n",
    "        C, E, N = row['C2'], row['E2'], row['N2']\n",
    "    \n",
    "    if C > 0.5:\n",
    "        return C\n",
    "    elif C == E:\n",
    "        return 0.5\n",
    "    else:\n",
    "        return N/(N+E)*0.5"
   ]
  },
  {
   "cell_type": "code",
   "execution_count": 14,
   "metadata": {},
   "outputs": [],
   "source": [
    "dist_ser = scores_df.apply(lambda row: gen_dist2(row), axis=1)\n",
    "dist_ser.name = 'dist'\n",
    "scores_df = scores_df.join(dist_ser)\n",
    "scores_df = df.join(scores_df)\n",
    "scores_df.to_csv(save_dir + '/' + 'nliScores.csv')"
   ]
  },
  {
   "cell_type": "code",
   "execution_count": 26,
   "metadata": {},
   "outputs": [
    {
     "data": {
      "text/html": [
       "<div>\n",
       "<style scoped>\n",
       "    .dataframe tbody tr th:only-of-type {\n",
       "        vertical-align: middle;\n",
       "    }\n",
       "\n",
       "    .dataframe tbody tr th {\n",
       "        vertical-align: top;\n",
       "    }\n",
       "\n",
       "    .dataframe thead th {\n",
       "        text-align: right;\n",
       "    }\n",
       "</style>\n",
       "<table border=\"1\" class=\"dataframe\">\n",
       "  <thead>\n",
       "    <tr style=\"text-align: right;\">\n",
       "      <th></th>\n",
       "      <th>first_index</th>\n",
       "      <th>second_index</th>\n",
       "      <th>first</th>\n",
       "      <th>second</th>\n",
       "      <th>C1</th>\n",
       "      <th>N1</th>\n",
       "      <th>E1</th>\n",
       "      <th>C2</th>\n",
       "      <th>N2</th>\n",
       "      <th>E2</th>\n",
       "      <th>dist</th>\n",
       "    </tr>\n",
       "  </thead>\n",
       "  <tbody>\n",
       "    <tr>\n",
       "      <th>0</th>\n",
       "      <td>0</td>\n",
       "      <td>1</td>\n",
       "      <td>Trump is going to make America great again.</td>\n",
       "      <td>Trump is ruining America.</td>\n",
       "      <td>0.999377</td>\n",
       "      <td>0.000455</td>\n",
       "      <td>0.000167</td>\n",
       "      <td>0.999248</td>\n",
       "      <td>0.000537</td>\n",
       "      <td>0.000214</td>\n",
       "      <td>0.999377</td>\n",
       "    </tr>\n",
       "    <tr>\n",
       "      <th>1</th>\n",
       "      <td>0</td>\n",
       "      <td>2</td>\n",
       "      <td>Trump is going to make America great again.</td>\n",
       "      <td>President Donald Trump is the greatest president.</td>\n",
       "      <td>0.006336</td>\n",
       "      <td>0.925913</td>\n",
       "      <td>0.067751</td>\n",
       "      <td>0.000545</td>\n",
       "      <td>0.993994</td>\n",
       "      <td>0.005462</td>\n",
       "      <td>0.497268</td>\n",
       "    </tr>\n",
       "    <tr>\n",
       "      <th>2</th>\n",
       "      <td>0</td>\n",
       "      <td>3</td>\n",
       "      <td>Trump is going to make America great again.</td>\n",
       "      <td>Experts have condemned trump for irresponsible...</td>\n",
       "      <td>0.725462</td>\n",
       "      <td>0.272493</td>\n",
       "      <td>0.002045</td>\n",
       "      <td>0.661110</td>\n",
       "      <td>0.336671</td>\n",
       "      <td>0.002219</td>\n",
       "      <td>0.725462</td>\n",
       "    </tr>\n",
       "    <tr>\n",
       "      <th>3</th>\n",
       "      <td>0</td>\n",
       "      <td>4</td>\n",
       "      <td>Trump is going to make America great again.</td>\n",
       "      <td>Joe Biden is leading in the preliminary polls.</td>\n",
       "      <td>0.959141</td>\n",
       "      <td>0.037226</td>\n",
       "      <td>0.003633</td>\n",
       "      <td>0.765069</td>\n",
       "      <td>0.225210</td>\n",
       "      <td>0.009721</td>\n",
       "      <td>0.959141</td>\n",
       "    </tr>\n",
       "    <tr>\n",
       "      <th>4</th>\n",
       "      <td>0</td>\n",
       "      <td>5</td>\n",
       "      <td>Trump is going to make America great again.</td>\n",
       "      <td>Trump's erratic behaviour ignores worsening pa...</td>\n",
       "      <td>0.364072</td>\n",
       "      <td>0.631232</td>\n",
       "      <td>0.004696</td>\n",
       "      <td>0.489559</td>\n",
       "      <td>0.507374</td>\n",
       "      <td>0.003067</td>\n",
       "      <td>0.496308</td>\n",
       "    </tr>\n",
       "  </tbody>\n",
       "</table>\n",
       "</div>"
      ],
      "text/plain": [
       "   first_index  second_index                                        first  \\\n",
       "0            0             1  Trump is going to make America great again.   \n",
       "1            0             2  Trump is going to make America great again.   \n",
       "2            0             3  Trump is going to make America great again.   \n",
       "3            0             4  Trump is going to make America great again.   \n",
       "4            0             5  Trump is going to make America great again.   \n",
       "\n",
       "                                              second        C1        N1  \\\n",
       "0                          Trump is ruining America.  0.999377  0.000455   \n",
       "1  President Donald Trump is the greatest president.  0.006336  0.925913   \n",
       "2  Experts have condemned trump for irresponsible...  0.725462  0.272493   \n",
       "3     Joe Biden is leading in the preliminary polls.  0.959141  0.037226   \n",
       "4  Trump's erratic behaviour ignores worsening pa...  0.364072  0.631232   \n",
       "\n",
       "         E1        C2        N2        E2      dist  \n",
       "0  0.000167  0.999248  0.000537  0.000214  0.999377  \n",
       "1  0.067751  0.000545  0.993994  0.005462  0.497268  \n",
       "2  0.002045  0.661110  0.336671  0.002219  0.725462  \n",
       "3  0.003633  0.765069  0.225210  0.009721  0.959141  \n",
       "4  0.004696  0.489559  0.507374  0.003067  0.496308  "
      ]
     },
     "execution_count": 26,
     "metadata": {},
     "output_type": "execute_result"
    }
   ],
   "source": [
    "scores_df.head()"
   ]
  },
  {
   "cell_type": "markdown",
   "metadata": {},
   "source": [
    "## Clustering based on precomputed pairwise distances."
   ]
  },
  {
   "cell_type": "code",
   "execution_count": 16,
   "metadata": {},
   "outputs": [],
   "source": [
    "import numpy as np\n",
    "import pandas as pd\n",
    "\n",
    "import scipy\n",
    "from scipy.cluster.hierarchy import dendrogram,linkage\n",
    "from scipy.cluster.hierarchy import fcluster\n",
    "from scipy.cluster.hierarchy import cophenet\n",
    "from scipy.spatial.distance import pdist\n",
    "\n",
    "import matplotlib.pyplot as plt\n",
    "from pylab import rcParams\n",
    "import seaborn as sb\n",
    "\n",
    "import sklearn\n",
    "# from sklearn import datasets\n",
    "from sklearn.cluster import AgglomerativeClustering\n",
    "import sklearn.metrics as sm\n",
    "from sklearn.preprocessing import scale\n",
    "\n",
    "# Configure the output\n",
    "np.set_printoptions(precision=4,suppress=True)\n",
    "%matplotlib inline\n",
    "rcParams[\"figure.figsize\"] =20,10\n",
    "sb.set_style(\"whitegrid\")"
   ]
  },
  {
   "cell_type": "code",
   "execution_count": 17,
   "metadata": {},
   "outputs": [
    {
     "name": "stdout",
     "output_type": "stream",
     "text": [
      "[[ 0  0  0]\n",
      " [ 1  1  0]\n",
      " [ 2  2  0]\n",
      " [ 3  3  0]\n",
      " [ 4  4  0]\n",
      " [ 5  5  0]\n",
      " [ 6  6  0]\n",
      " [ 7  7  0]\n",
      " [ 8  8  0]\n",
      " [ 9  9  0]\n",
      " [10 10  0]\n",
      " [11 11  0]\n",
      " [12 12  0]\n",
      " [13 13  0]\n",
      " [14 14  0]\n",
      " [15 15  0]\n",
      " [16 16  0]\n",
      " [17 17  0]\n",
      " [18 18  0]\n",
      " [19 19  0]]\n"
     ]
    }
   ],
   "source": [
    "# convert this original dataframe to a 'square' distance matrix.\n",
    "# we utilise a pivot table to do this\n",
    "\n",
    "# first, add the redundant pairs (two of the same sentences) to the data.\n",
    "# we need this for the pivot function to generate the correct indices and columns.\n",
    "first = np.unique(df['first_index'].values)\n",
    "second = np.unique(df['second_index'].values)\n",
    "combined_arr = np.concatenate((first, second))\n",
    "sentences = np.unique(combined_arr)\n",
    "add_data = np.column_stack([sentences, sentences, np.zeros(len(sentences))])\n",
    "add_data = add_data.astype(np.int)\n",
    "\n",
    "print(add_data)"
   ]
  },
  {
   "cell_type": "code",
   "execution_count": 18,
   "metadata": {},
   "outputs": [],
   "source": [
    "add_df = pd.DataFrame(data=add_data, columns=['first_index','second_index','dist'])\n",
    "scores_df = scores_df.append(add_df, ignore_index=True)\n",
    "df_piv = scores_df.pivot(\"first_index\", \"second_index\", \"dist\").fillna(0)\n",
    "piv_arr = df_piv.values\n",
    "dist_mat = piv_arr + np.transpose(piv_arr)\n",
    "\n",
    "# generate pairwise matrix for saving.\n",
    "intersentence = pd.DataFrame(data=dist_mat, index=df_piv.index, columns=df_piv.columns)\n",
    "\n",
    "path = save_dir + '/' + 'pairwiseMatrix.csv'\n",
    "intersentence.to_csv(path)"
   ]
  },
  {
   "cell_type": "code",
   "execution_count": 72,
   "metadata": {
    "scrolled": true
   },
   "outputs": [
    {
     "name": "stdout",
     "output_type": "stream",
     "text": [
      "loaded data from disk.\n"
     ]
    },
    {
     "data": {
      "text/html": [
       "<div>\n",
       "<style scoped>\n",
       "    .dataframe tbody tr th:only-of-type {\n",
       "        vertical-align: middle;\n",
       "    }\n",
       "\n",
       "    .dataframe tbody tr th {\n",
       "        vertical-align: top;\n",
       "    }\n",
       "\n",
       "    .dataframe thead th {\n",
       "        text-align: right;\n",
       "    }\n",
       "</style>\n",
       "<table border=\"1\" class=\"dataframe\">\n",
       "  <thead>\n",
       "    <tr style=\"text-align: right;\">\n",
       "      <th></th>\n",
       "      <th>first_index</th>\n",
       "      <th>0</th>\n",
       "      <th>1</th>\n",
       "      <th>2</th>\n",
       "      <th>3</th>\n",
       "      <th>4</th>\n",
       "      <th>5</th>\n",
       "      <th>6</th>\n",
       "      <th>7</th>\n",
       "      <th>8</th>\n",
       "      <th>...</th>\n",
       "      <th>78</th>\n",
       "      <th>79</th>\n",
       "      <th>80</th>\n",
       "      <th>81</th>\n",
       "      <th>82</th>\n",
       "      <th>83</th>\n",
       "      <th>84</th>\n",
       "      <th>85</th>\n",
       "      <th>86</th>\n",
       "      <th>87</th>\n",
       "    </tr>\n",
       "  </thead>\n",
       "  <tbody>\n",
       "    <tr>\n",
       "      <th>0</th>\n",
       "      <td>0</td>\n",
       "      <td>0.000000</td>\n",
       "      <td>0.457454</td>\n",
       "      <td>0.890627</td>\n",
       "      <td>0.122736</td>\n",
       "      <td>0.343647</td>\n",
       "      <td>0.303749</td>\n",
       "      <td>0.494094</td>\n",
       "      <td>0.498978</td>\n",
       "      <td>0.428174</td>\n",
       "      <td>...</td>\n",
       "      <td>0.490302</td>\n",
       "      <td>0.497844</td>\n",
       "      <td>0.497375</td>\n",
       "      <td>0.401196</td>\n",
       "      <td>0.489331</td>\n",
       "      <td>0.993485</td>\n",
       "      <td>0.491715</td>\n",
       "      <td>0.494522</td>\n",
       "      <td>0.378094</td>\n",
       "      <td>0.391084</td>\n",
       "    </tr>\n",
       "    <tr>\n",
       "      <th>1</th>\n",
       "      <td>1</td>\n",
       "      <td>0.457454</td>\n",
       "      <td>0.000000</td>\n",
       "      <td>0.032994</td>\n",
       "      <td>0.130562</td>\n",
       "      <td>0.498068</td>\n",
       "      <td>0.495861</td>\n",
       "      <td>0.498606</td>\n",
       "      <td>0.486919</td>\n",
       "      <td>0.480689</td>\n",
       "      <td>...</td>\n",
       "      <td>0.485482</td>\n",
       "      <td>0.497580</td>\n",
       "      <td>0.498825</td>\n",
       "      <td>0.486510</td>\n",
       "      <td>0.874905</td>\n",
       "      <td>0.987602</td>\n",
       "      <td>0.485783</td>\n",
       "      <td>0.417588</td>\n",
       "      <td>0.497986</td>\n",
       "      <td>0.493121</td>\n",
       "    </tr>\n",
       "    <tr>\n",
       "      <th>2</th>\n",
       "      <td>2</td>\n",
       "      <td>0.890627</td>\n",
       "      <td>0.032994</td>\n",
       "      <td>0.000000</td>\n",
       "      <td>0.002692</td>\n",
       "      <td>0.456897</td>\n",
       "      <td>0.492376</td>\n",
       "      <td>0.498840</td>\n",
       "      <td>0.481217</td>\n",
       "      <td>0.465977</td>\n",
       "      <td>...</td>\n",
       "      <td>0.496183</td>\n",
       "      <td>0.495881</td>\n",
       "      <td>0.499339</td>\n",
       "      <td>0.612499</td>\n",
       "      <td>0.667300</td>\n",
       "      <td>0.994634</td>\n",
       "      <td>0.498959</td>\n",
       "      <td>0.493914</td>\n",
       "      <td>0.491291</td>\n",
       "      <td>0.494619</td>\n",
       "    </tr>\n",
       "    <tr>\n",
       "      <th>3</th>\n",
       "      <td>3</td>\n",
       "      <td>0.122736</td>\n",
       "      <td>0.130562</td>\n",
       "      <td>0.002692</td>\n",
       "      <td>0.000000</td>\n",
       "      <td>0.458032</td>\n",
       "      <td>0.484349</td>\n",
       "      <td>0.498572</td>\n",
       "      <td>0.487478</td>\n",
       "      <td>0.456454</td>\n",
       "      <td>...</td>\n",
       "      <td>0.496204</td>\n",
       "      <td>0.497620</td>\n",
       "      <td>0.499115</td>\n",
       "      <td>0.769684</td>\n",
       "      <td>0.424280</td>\n",
       "      <td>0.998456</td>\n",
       "      <td>0.497800</td>\n",
       "      <td>0.486022</td>\n",
       "      <td>0.490840</td>\n",
       "      <td>0.493866</td>\n",
       "    </tr>\n",
       "    <tr>\n",
       "      <th>4</th>\n",
       "      <td>4</td>\n",
       "      <td>0.343647</td>\n",
       "      <td>0.498068</td>\n",
       "      <td>0.456897</td>\n",
       "      <td>0.458032</td>\n",
       "      <td>0.000000</td>\n",
       "      <td>0.440961</td>\n",
       "      <td>0.499034</td>\n",
       "      <td>0.499095</td>\n",
       "      <td>0.831255</td>\n",
       "      <td>...</td>\n",
       "      <td>0.452073</td>\n",
       "      <td>0.498734</td>\n",
       "      <td>0.499442</td>\n",
       "      <td>0.989376</td>\n",
       "      <td>0.861346</td>\n",
       "      <td>0.499028</td>\n",
       "      <td>0.490917</td>\n",
       "      <td>0.481579</td>\n",
       "      <td>0.367555</td>\n",
       "      <td>0.460451</td>\n",
       "    </tr>\n",
       "  </tbody>\n",
       "</table>\n",
       "<p>5 rows × 89 columns</p>\n",
       "</div>"
      ],
      "text/plain": [
       "   first_index         0         1         2         3         4         5  \\\n",
       "0            0  0.000000  0.457454  0.890627  0.122736  0.343647  0.303749   \n",
       "1            1  0.457454  0.000000  0.032994  0.130562  0.498068  0.495861   \n",
       "2            2  0.890627  0.032994  0.000000  0.002692  0.456897  0.492376   \n",
       "3            3  0.122736  0.130562  0.002692  0.000000  0.458032  0.484349   \n",
       "4            4  0.343647  0.498068  0.456897  0.458032  0.000000  0.440961   \n",
       "\n",
       "          6         7         8  ...        78        79        80        81  \\\n",
       "0  0.494094  0.498978  0.428174  ...  0.490302  0.497844  0.497375  0.401196   \n",
       "1  0.498606  0.486919  0.480689  ...  0.485482  0.497580  0.498825  0.486510   \n",
       "2  0.498840  0.481217  0.465977  ...  0.496183  0.495881  0.499339  0.612499   \n",
       "3  0.498572  0.487478  0.456454  ...  0.496204  0.497620  0.499115  0.769684   \n",
       "4  0.499034  0.499095  0.831255  ...  0.452073  0.498734  0.499442  0.989376   \n",
       "\n",
       "         82        83        84        85        86        87  \n",
       "0  0.489331  0.993485  0.491715  0.494522  0.378094  0.391084  \n",
       "1  0.874905  0.987602  0.485783  0.417588  0.497986  0.493121  \n",
       "2  0.667300  0.994634  0.498959  0.493914  0.491291  0.494619  \n",
       "3  0.424280  0.998456  0.497800  0.486022  0.490840  0.493866  \n",
       "4  0.861346  0.499028  0.490917  0.481579  0.367555  0.460451  \n",
       "\n",
       "[5 rows x 89 columns]"
      ]
     },
     "metadata": {},
     "output_type": "display_data"
    },
    {
     "data": {
      "text/html": [
       "<div>\n",
       "<style scoped>\n",
       "    .dataframe tbody tr th:only-of-type {\n",
       "        vertical-align: middle;\n",
       "    }\n",
       "\n",
       "    .dataframe tbody tr th {\n",
       "        vertical-align: top;\n",
       "    }\n",
       "\n",
       "    .dataframe thead th {\n",
       "        text-align: right;\n",
       "    }\n",
       "</style>\n",
       "<table border=\"1\" class=\"dataframe\">\n",
       "  <thead>\n",
       "    <tr style=\"text-align: right;\">\n",
       "      <th></th>\n",
       "      <th>0</th>\n",
       "      <th>1</th>\n",
       "      <th>2</th>\n",
       "      <th>3</th>\n",
       "      <th>4</th>\n",
       "      <th>5</th>\n",
       "      <th>6</th>\n",
       "      <th>7</th>\n",
       "      <th>8</th>\n",
       "      <th>9</th>\n",
       "      <th>...</th>\n",
       "      <th>78</th>\n",
       "      <th>79</th>\n",
       "      <th>80</th>\n",
       "      <th>81</th>\n",
       "      <th>82</th>\n",
       "      <th>83</th>\n",
       "      <th>84</th>\n",
       "      <th>85</th>\n",
       "      <th>86</th>\n",
       "      <th>87</th>\n",
       "    </tr>\n",
       "  </thead>\n",
       "  <tbody>\n",
       "    <tr>\n",
       "      <th>0</th>\n",
       "      <td>0.000000</td>\n",
       "      <td>0.457454</td>\n",
       "      <td>0.890627</td>\n",
       "      <td>0.122736</td>\n",
       "      <td>0.343647</td>\n",
       "      <td>0.303749</td>\n",
       "      <td>0.494094</td>\n",
       "      <td>0.498978</td>\n",
       "      <td>0.428174</td>\n",
       "      <td>0.499487</td>\n",
       "      <td>...</td>\n",
       "      <td>0.490302</td>\n",
       "      <td>0.497844</td>\n",
       "      <td>0.497375</td>\n",
       "      <td>0.401196</td>\n",
       "      <td>0.489331</td>\n",
       "      <td>0.993485</td>\n",
       "      <td>0.491715</td>\n",
       "      <td>0.494522</td>\n",
       "      <td>0.378094</td>\n",
       "      <td>0.391084</td>\n",
       "    </tr>\n",
       "    <tr>\n",
       "      <th>1</th>\n",
       "      <td>0.457454</td>\n",
       "      <td>0.000000</td>\n",
       "      <td>0.032994</td>\n",
       "      <td>0.130562</td>\n",
       "      <td>0.498068</td>\n",
       "      <td>0.495861</td>\n",
       "      <td>0.498606</td>\n",
       "      <td>0.486919</td>\n",
       "      <td>0.480689</td>\n",
       "      <td>0.499531</td>\n",
       "      <td>...</td>\n",
       "      <td>0.485482</td>\n",
       "      <td>0.497580</td>\n",
       "      <td>0.498825</td>\n",
       "      <td>0.486510</td>\n",
       "      <td>0.874905</td>\n",
       "      <td>0.987602</td>\n",
       "      <td>0.485783</td>\n",
       "      <td>0.417588</td>\n",
       "      <td>0.497986</td>\n",
       "      <td>0.493121</td>\n",
       "    </tr>\n",
       "    <tr>\n",
       "      <th>2</th>\n",
       "      <td>0.890627</td>\n",
       "      <td>0.032994</td>\n",
       "      <td>0.000000</td>\n",
       "      <td>0.002692</td>\n",
       "      <td>0.456897</td>\n",
       "      <td>0.492376</td>\n",
       "      <td>0.498840</td>\n",
       "      <td>0.481217</td>\n",
       "      <td>0.465977</td>\n",
       "      <td>0.499415</td>\n",
       "      <td>...</td>\n",
       "      <td>0.496183</td>\n",
       "      <td>0.495881</td>\n",
       "      <td>0.499339</td>\n",
       "      <td>0.612499</td>\n",
       "      <td>0.667300</td>\n",
       "      <td>0.994634</td>\n",
       "      <td>0.498959</td>\n",
       "      <td>0.493914</td>\n",
       "      <td>0.491291</td>\n",
       "      <td>0.494619</td>\n",
       "    </tr>\n",
       "    <tr>\n",
       "      <th>3</th>\n",
       "      <td>0.122736</td>\n",
       "      <td>0.130562</td>\n",
       "      <td>0.002692</td>\n",
       "      <td>0.000000</td>\n",
       "      <td>0.458032</td>\n",
       "      <td>0.484349</td>\n",
       "      <td>0.498572</td>\n",
       "      <td>0.487478</td>\n",
       "      <td>0.456454</td>\n",
       "      <td>0.499436</td>\n",
       "      <td>...</td>\n",
       "      <td>0.496204</td>\n",
       "      <td>0.497620</td>\n",
       "      <td>0.499115</td>\n",
       "      <td>0.769684</td>\n",
       "      <td>0.424280</td>\n",
       "      <td>0.998456</td>\n",
       "      <td>0.497800</td>\n",
       "      <td>0.486022</td>\n",
       "      <td>0.490840</td>\n",
       "      <td>0.493866</td>\n",
       "    </tr>\n",
       "    <tr>\n",
       "      <th>4</th>\n",
       "      <td>0.343647</td>\n",
       "      <td>0.498068</td>\n",
       "      <td>0.456897</td>\n",
       "      <td>0.458032</td>\n",
       "      <td>0.000000</td>\n",
       "      <td>0.440961</td>\n",
       "      <td>0.499034</td>\n",
       "      <td>0.499095</td>\n",
       "      <td>0.831255</td>\n",
       "      <td>0.499499</td>\n",
       "      <td>...</td>\n",
       "      <td>0.452073</td>\n",
       "      <td>0.498734</td>\n",
       "      <td>0.499442</td>\n",
       "      <td>0.989376</td>\n",
       "      <td>0.861346</td>\n",
       "      <td>0.499028</td>\n",
       "      <td>0.490917</td>\n",
       "      <td>0.481579</td>\n",
       "      <td>0.367555</td>\n",
       "      <td>0.460451</td>\n",
       "    </tr>\n",
       "  </tbody>\n",
       "</table>\n",
       "<p>5 rows × 88 columns</p>\n",
       "</div>"
      ],
      "text/plain": [
       "          0         1         2         3         4         5         6  \\\n",
       "0  0.000000  0.457454  0.890627  0.122736  0.343647  0.303749  0.494094   \n",
       "1  0.457454  0.000000  0.032994  0.130562  0.498068  0.495861  0.498606   \n",
       "2  0.890627  0.032994  0.000000  0.002692  0.456897  0.492376  0.498840   \n",
       "3  0.122736  0.130562  0.002692  0.000000  0.458032  0.484349  0.498572   \n",
       "4  0.343647  0.498068  0.456897  0.458032  0.000000  0.440961  0.499034   \n",
       "\n",
       "          7         8         9  ...        78        79        80        81  \\\n",
       "0  0.498978  0.428174  0.499487  ...  0.490302  0.497844  0.497375  0.401196   \n",
       "1  0.486919  0.480689  0.499531  ...  0.485482  0.497580  0.498825  0.486510   \n",
       "2  0.481217  0.465977  0.499415  ...  0.496183  0.495881  0.499339  0.612499   \n",
       "3  0.487478  0.456454  0.499436  ...  0.496204  0.497620  0.499115  0.769684   \n",
       "4  0.499095  0.831255  0.499499  ...  0.452073  0.498734  0.499442  0.989376   \n",
       "\n",
       "         82        83        84        85        86        87  \n",
       "0  0.489331  0.993485  0.491715  0.494522  0.378094  0.391084  \n",
       "1  0.874905  0.987602  0.485783  0.417588  0.497986  0.493121  \n",
       "2  0.667300  0.994634  0.498959  0.493914  0.491291  0.494619  \n",
       "3  0.424280  0.998456  0.497800  0.486022  0.490840  0.493866  \n",
       "4  0.861346  0.499028  0.490917  0.481579  0.367555  0.460451  \n",
       "\n",
       "[5 rows x 88 columns]"
      ]
     },
     "metadata": {},
     "output_type": "display_data"
    },
    {
     "data": {
      "text/plain": [
       "array([[0.    , 0.4575, 0.8906, ..., 0.4945, 0.3781, 0.3911],\n",
       "       [0.4575, 0.    , 0.033 , ..., 0.4176, 0.498 , 0.4931],\n",
       "       [0.8906, 0.033 , 0.    , ..., 0.4939, 0.4913, 0.4946],\n",
       "       ...,\n",
       "       [0.4945, 0.4176, 0.4939, ..., 0.    , 0.4756, 0.4513],\n",
       "       [0.3781, 0.498 , 0.4913, ..., 0.4756, 0.    , 0.0072],\n",
       "       [0.3911, 0.4931, 0.4946, ..., 0.4513, 0.0072, 0.    ]])"
      ]
     },
     "metadata": {},
     "output_type": "display_data"
    }
   ],
   "source": [
    "# load data files (this step can be skipped if the previous few cells have been run to produce the required data)\n",
    "\n",
    "# load intersentence pairwise distance matrix.\n",
    "df_piv = pd.read_csv(\"../data/astro0_decomposed_roberta/pairwiseMatrix.csv\")\n",
    "print(\"loaded data from disk.\")\n",
    "display(df_piv.head())\n",
    "df_piv = df_piv.drop(columns=['first_index'])\n",
    "display(df_piv.head())\n",
    "dist_mat = df_piv.values\n",
    "display(dist_mat)"
   ]
  },
  {
   "cell_type": "code",
   "execution_count": 73,
   "metadata": {
    "scrolled": true
   },
   "outputs": [
    {
     "name": "stdout",
     "output_type": "stream",
     "text": [
      "2 :  0.06420196740424364\n",
      "3 :  0.04525290946889622\n",
      "4 :  0.036760578737480655\n",
      "5 :  0.03522009053441222\n",
      "6 :  0.04199813642047945\n",
      "7 :  0.044183356855276\n",
      "8 :  0.045528498898233516\n",
      "9 :  0.06334346052214061\n",
      "10 :  0.06571130032496895\n",
      "11 :  0.06606022304308833\n",
      "12 :  0.06432633521644283\n",
      "13 :  0.06406352014089815\n",
      "14 :  0.06274204191605048\n",
      "15 :  0.06280994329395022\n",
      "16 :  0.06493039248874054\n",
      "17 :  0.06321687307892158\n",
      "18 :  0.06309781828321039\n",
      "19 :  0.06750754456997811\n",
      "20 :  0.06762567520681767\n",
      "21 :  0.07033907289281882\n",
      "22 :  0.08686287396099822\n",
      "23 :  0.0991235794055833\n",
      "24 :  0.09956755556454415\n",
      "25 :  0.10483441258817304\n",
      "26 :  0.10753467580097081\n",
      "27 :  0.10744865782088266\n",
      "28 :  0.11107673676904307\n",
      "29 :  0.11258015237476275\n",
      "30 :  0.122103250714773\n",
      "31 :  0.12923438690309874\n",
      "32 :  0.1337133357087974\n",
      "33 :  0.13356666143462934\n",
      "34 :  0.13410725103992774\n",
      "35 :  0.13615375669949348\n",
      "36 :  0.1410184629971549\n",
      "37 :  0.14608963426741048\n",
      "38 :  0.15450221238520903\n",
      "39 :  0.15921691192488707\n",
      "40 :  0.17100102178192567\n",
      "41 :  0.17097372384007906\n",
      "42 :  0.1707333368380678\n",
      "43 :  0.18284470629961033\n",
      "44 :  0.19318896415442602\n",
      "45 :  0.19870185516348068\n",
      "46 :  0.19531451511203998\n",
      "47 :  0.19515591023070025\n",
      "48 :  0.19450342947298563\n",
      "49 :  0.20234456438933893\n",
      "50 :  0.22919957069222596\n",
      "51 :  0.23970538183840392\n",
      "52 :  0.2399368932468331\n",
      "53 :  0.25041478462810784\n",
      "54 :  0.24930058900980653\n",
      "55 :  0.2889505258609707\n",
      "56 :  0.28894256623255377\n",
      "57 :  0.29230413071258526\n",
      "58 :  0.28976864895632326\n",
      "59 :  0.28748714818526777\n",
      "60 :  0.2871110043614364\n",
      "61 :  0.2850013707280541\n",
      "62 :  0.28302424231046214\n",
      "63 :  0.29342678809223094\n",
      "64 :  0.2939057829634134\n",
      "65 :  0.29283338986131097\n",
      "66 :  0.29046544199545443\n",
      "67 :  0.28721480033926966\n",
      "68 :  0.2853059819012747\n",
      "69 :  0.28078048006112083\n",
      "70 :  0.2784752914146288\n",
      "71 :  0.2707243531021748\n",
      "72 :  0.26880078763665377\n",
      "73 :  0.2626827527644139\n",
      "74 :  0.25789839776824547\n",
      "75 :  0.2514782837274636\n",
      "76 :  0.23548916739200002\n",
      "77 :  0.2161662193173254\n",
      "78 :  0.1970122238824488\n",
      "79 :  0.17611230915088105\n",
      "80 :  0.15493265368072526\n",
      "81 :  0.13301208527503555\n",
      "82 :  0.11837878305922772\n",
      "83 :  0.09677312072513504\n",
      "84 :  0.07855471974719754\n",
      "85 :  0.05614091534086601\n",
      "86 :  0.033567708900469055\n",
      "87 :  0.02179699501731387\n"
     ]
    }
   ],
   "source": [
    "from scipy.spatial.distance import squareform\n",
    "condensed_mat = squareform(dist_mat)\n",
    "linkage = 'complete'\n",
    "\n",
    "sil_scores = []  # silhouette scores\n",
    "for i in range(2, len(dist_mat)):\n",
    "    clusters = AgglomerativeClustering(n_clusters=i, affinity='precomputed', linkage=linkage)\n",
    "    clusters.fit_predict(dist_mat)\n",
    "\n",
    "    # use metric to measure/compare goodness of clusters based on internal coherence and \n",
    "    # external coupling.\n",
    "    # consider Dunn index. maximise the Dunn index.\n",
    "    # or consider average sillhouette width (maximise). available in sklearn.\n",
    "    from sklearn.metrics import silhouette_score\n",
    "\n",
    "    silhouette_avg = silhouette_score(dist_mat, clusters.labels_, metric='precomputed')\n",
    "    sil_scores.append(silhouette_avg)\n",
    "    print(i, \": \", silhouette_avg)"
   ]
  },
  {
   "cell_type": "code",
   "execution_count": 74,
   "metadata": {},
   "outputs": [
    {
     "name": "stdout",
     "output_type": "stream",
     "text": [
      "max avg silhouette score:  0.2939057829634134\n",
      "nclusters w max avg silhouette score:  64\n"
     ]
    }
   ],
   "source": [
    "sil_scores_arr = np.asarray(sil_scores)\n",
    "print('max avg silhouette score: ', sil_scores_arr.max())\n",
    "OPTIMAL_K = np.where(sil_scores_arr == sil_scores_arr.max())[0][0] + 2\n",
    "print('nclusters w max avg silhouette score: ', OPTIMAL_K)"
   ]
  },
  {
   "cell_type": "code",
   "execution_count": 81,
   "metadata": {
    "scrolled": true
   },
   "outputs": [
    {
     "name": "stdout",
     "output_type": "stream",
     "text": [
      "cluster 0 (size 2):\n",
      "[13 56]\n"
     ]
    },
    {
     "data": {
      "text/plain": [
       "'You need to learn to digest every experience.'"
      ]
     },
     "metadata": {},
     "output_type": "display_data"
    },
    {
     "data": {
      "text/plain": [
       "'You like to taste a little bit of everything.'"
      ]
     },
     "metadata": {},
     "output_type": "display_data"
    },
    {
     "name": "stdout",
     "output_type": "stream",
     "text": [
      "\n",
      "\n",
      "cluster 1 (size 2):\n",
      "[26 78]\n"
     ]
    },
    {
     "data": {
      "text/plain": [
       "'Your greatest need is to nurture and mother someone or ones.'"
      ]
     },
     "metadata": {},
     "output_type": "display_data"
    },
    {
     "data": {
      "text/plain": [
       "'You enjoy indulging the ones you love.'"
      ]
     },
     "metadata": {},
     "output_type": "display_data"
    },
    {
     "name": "stdout",
     "output_type": "stream",
     "text": [
      "\n",
      "\n",
      "cluster 2 (size 2):\n",
      "[49 58]\n"
     ]
    },
    {
     "data": {
      "text/plain": [
       "'You seek knowledge, either through reading or conversation, or through travel and talking with the new people you constantly meet.'"
      ]
     },
     "metadata": {},
     "output_type": "display_data"
    },
    {
     "data": {
      "text/plain": [
       "'You are handy with your hands.'"
      ]
     },
     "metadata": {},
     "output_type": "display_data"
    },
    {
     "name": "stdout",
     "output_type": "stream",
     "text": [
      "\n",
      "\n",
      "cluster 3 (size 2):\n",
      "[ 4 64]\n"
     ]
    },
    {
     "data": {
      "text/plain": [
       "'Gaining knowledge and putting it to good use are important to you.'"
      ]
     },
     "metadata": {},
     "output_type": "display_data"
    },
    {
     "data": {
      "text/plain": [
       "'Control of thought, word, and action is necessary in order to be successful.'"
      ]
     },
     "metadata": {},
     "output_type": "display_data"
    },
    {
     "name": "stdout",
     "output_type": "stream",
     "text": [
      "\n",
      "\n",
      "cluster 4 (size 2):\n",
      "[ 8 60]\n"
     ]
    },
    {
     "data": {
      "text/plain": [
       "\"Finding fault with what's wrong with things is your forte.\""
      ]
     },
     "metadata": {},
     "output_type": "display_data"
    },
    {
     "data": {
      "text/plain": [
       "'Debate and argument appeal to you.'"
      ]
     },
     "metadata": {},
     "output_type": "display_data"
    },
    {
     "name": "stdout",
     "output_type": "stream",
     "text": [
      "\n",
      "\n",
      "cluster 5 (size 2):\n",
      "[14 31]\n"
     ]
    },
    {
     "data": {
      "text/plain": [
       "'You need to learn to assimilate it without bitterness, regret, spite or resentment.'"
      ]
     },
     "metadata": {},
     "output_type": "display_data"
    },
    {
     "data": {
      "text/plain": [
       "'though you may forgive a mistake by a friend or loved one , you never forget it.'"
      ]
     },
     "metadata": {},
     "output_type": "display_data"
    },
    {
     "name": "stdout",
     "output_type": "stream",
     "text": [
      "\n",
      "\n",
      "cluster 6 (size 2):\n",
      "[70 71]\n"
     ]
    },
    {
     "data": {
      "text/plain": [
       "'If you have Venus in Taurus, in love affairs you are generally loyal, especially if your partner is demonstrative and affectionate.'"
      ]
     },
     "metadata": {},
     "output_type": "display_data"
    },
    {
     "data": {
      "text/plain": [
       "'If you have Venus in Taurus, in love affairs you are generally steady, especially if your partner is demonstrative and affectionate.'"
      ]
     },
     "metadata": {},
     "output_type": "display_data"
    },
    {
     "name": "stdout",
     "output_type": "stream",
     "text": [
      "\n",
      "\n",
      "cluster 7 (size 2):\n",
      "[ 5 35]\n"
     ]
    },
    {
     "data": {
      "text/plain": [
       "'You strive for perfection.'"
      ]
     },
     "metadata": {},
     "output_type": "display_data"
    },
    {
     "data": {
      "text/plain": [
       "'you look for it in life.'"
      ]
     },
     "metadata": {},
     "output_type": "display_data"
    },
    {
     "name": "stdout",
     "output_type": "stream",
     "text": [
      "\n",
      "\n",
      "cluster 8 (size 2):\n",
      "[12 66]\n"
     ]
    },
    {
     "data": {
      "text/plain": [
       "'Too much worry can lead to health problems.'"
      ]
     },
     "metadata": {},
     "output_type": "display_data"
    },
    {
     "data": {
      "text/plain": [
       "'Journalism, speaking, teaching, sales, advertising, or writing may appeal to you.'"
      ]
     },
     "metadata": {},
     "output_type": "display_data"
    },
    {
     "name": "stdout",
     "output_type": "stream",
     "text": [
      "\n",
      "\n",
      "cluster 9 (size 2):\n",
      "[ 0 11]\n"
     ]
    },
    {
     "data": {
      "text/plain": [
       "'People with Virgo rising tend to be practical, analytical, discriminating, fastidious, careful, exacting, attentive to details, methodical, quiet, unassuming, shy, critical, thoughtful, and somewhat self-centered.'"
      ]
     },
     "metadata": {},
     "output_type": "display_data"
    },
    {
     "data": {
      "text/plain": [
       "'You may tend to worry too much, especially about the small stuff, the little details.'"
      ]
     },
     "metadata": {},
     "output_type": "display_data"
    },
    {
     "name": "stdout",
     "output_type": "stream",
     "text": [
      "\n",
      "\n",
      "cluster 10 (size 2):\n",
      "[33 34]\n"
     ]
    },
    {
     "data": {
      "text/plain": [
       "'you look for it in home.'"
      ]
     },
     "metadata": {},
     "output_type": "display_data"
    },
    {
     "data": {
      "text/plain": [
       "'you look for it in family.'"
      ]
     },
     "metadata": {},
     "output_type": "display_data"
    },
    {
     "name": "stdout",
     "output_type": "stream",
     "text": [
      "\n",
      "\n",
      "cluster 11 (size 2):\n",
      "[32 81]\n"
     ]
    },
    {
     "data": {
      "text/plain": [
       "'Security is very important to you.'"
      ]
     },
     "metadata": {},
     "output_type": "display_data"
    },
    {
     "data": {
      "text/plain": [
       "'Comfort is important to you.'"
      ]
     },
     "metadata": {},
     "output_type": "display_data"
    },
    {
     "name": "stdout",
     "output_type": "stream",
     "text": [
      "\n",
      "\n",
      "cluster 12 (size 2):\n",
      "[17 38]\n"
     ]
    },
    {
     "data": {
      "text/plain": [
       "'You are very restless.'"
      ]
     },
     "metadata": {},
     "output_type": "display_data"
    },
    {
     "data": {
      "text/plain": [
       "'You are very tenacious.'"
      ]
     },
     "metadata": {},
     "output_type": "display_data"
    },
    {
     "name": "stdout",
     "output_type": "stream",
     "text": [
      "\n",
      "\n",
      "cluster 13 (size 1):\n",
      "[77]\n"
     ]
    },
    {
     "data": {
      "text/plain": [
       "'You enjoy indulging yourself.'"
      ]
     },
     "metadata": {},
     "output_type": "display_data"
    },
    {
     "name": "stdout",
     "output_type": "stream",
     "text": [
      "\n",
      "\n",
      "cluster 14 (size 1):\n",
      "[73]\n"
     ]
    },
    {
     "data": {
      "text/plain": [
       "'it may show through too much weight.'"
      ]
     },
     "metadata": {},
     "output_type": "display_data"
    },
    {
     "name": "stdout",
     "output_type": "stream",
     "text": [
      "\n",
      "\n",
      "cluster 15 (size 1):\n",
      "[65]\n"
     ]
    },
    {
     "data": {
      "text/plain": [
       "'Find your focus, stay with it and develop perseverance.'"
      ]
     },
     "metadata": {},
     "output_type": "display_data"
    },
    {
     "name": "stdout",
     "output_type": "stream",
     "text": [
      "\n",
      "\n",
      "cluster 16 (size 1):\n",
      "[84]\n"
     ]
    },
    {
     "data": {
      "text/plain": [
       "'Self-control needs to be developed and added to the qualifications you already possess -warmth, charm, sympathy, artistic.'"
      ]
     },
     "metadata": {},
     "output_type": "display_data"
    },
    {
     "name": "stdout",
     "output_type": "stream",
     "text": [
      "\n",
      "\n",
      "cluster 17 (size 2):\n",
      "[59 62]\n"
     ]
    },
    {
     "data": {
      "text/plain": [
       "'You may be ambidextrous or mechanically inclined.'"
      ]
     },
     "metadata": {},
     "output_type": "display_data"
    },
    {
     "data": {
      "text/plain": [
       "'This is the jack-of-all-trades, master-of-none position.'"
      ]
     },
     "metadata": {},
     "output_type": "display_data"
    },
    {
     "name": "stdout",
     "output_type": "stream",
     "text": [
      "\n",
      "\n",
      "cluster 18 (size 2):\n",
      "[43 61]\n"
     ]
    },
    {
     "data": {
      "text/plain": [
       "'You tend to be a pack-rat because everything has an emotional memory behind it.'"
      ]
     },
     "metadata": {},
     "output_type": "display_data"
    },
    {
     "data": {
      "text/plain": [
       "'There is a tendency to scratch the surface with the things that strike your interest without learning anything very deeply.'"
      ]
     },
     "metadata": {},
     "output_type": "display_data"
    },
    {
     "name": "stdout",
     "output_type": "stream",
     "text": [
      "\n",
      "\n",
      "cluster 19 (size 2):\n",
      "[86 87]\n"
     ]
    },
    {
     "data": {
      "text/plain": [
       "'You aim to please in practical ways.'"
      ]
     },
     "metadata": {},
     "output_type": "display_data"
    },
    {
     "data": {
      "text/plain": [
       "'You aim to please in earthy ways.'"
      ]
     },
     "metadata": {},
     "output_type": "display_data"
    },
    {
     "name": "stdout",
     "output_type": "stream",
     "text": [
      "\n",
      "\n",
      "cluster 20 (size 2):\n",
      "[39 85]\n"
     ]
    },
    {
     "data": {
      "text/plain": [
       "'you do not give up or let go of things or people easily.'"
      ]
     },
     "metadata": {},
     "output_type": "display_data"
    },
    {
     "data": {
      "text/plain": [
       "'Guard against possessiveness, jealousy, and taking the easy way out in your relationships.'"
      ]
     },
     "metadata": {},
     "output_type": "display_data"
    },
    {
     "name": "stdout",
     "output_type": "stream",
     "text": [
      "\n",
      "\n",
      "cluster 21 (size 2):\n",
      "[79 80]\n"
     ]
    },
    {
     "data": {
      "text/plain": [
       "'it is too easy for you to be extravagant.'"
      ]
     },
     "metadata": {},
     "output_type": "display_data"
    },
    {
     "data": {
      "text/plain": [
       "'it is too easy for you to put too much value in material things.'"
      ]
     },
     "metadata": {},
     "output_type": "display_data"
    },
    {
     "name": "stdout",
     "output_type": "stream",
     "text": [
      "\n",
      "\n",
      "cluster 22 (size 1):\n",
      "[37]\n"
     ]
    },
    {
     "data": {
      "text/plain": [
       "'it would be wise for you to listen to your intuitive side as you can be quite psychic.'"
      ]
     },
     "metadata": {},
     "output_type": "display_data"
    },
    {
     "name": "stdout",
     "output_type": "stream",
     "text": [
      "\n",
      "\n",
      "cluster 23 (size 1):\n",
      "[83]\n"
     ]
    },
    {
     "data": {
      "text/plain": [
       "'At times you can be lazy, hoping or expecting someone else to do the dirty work.'"
      ]
     },
     "metadata": {},
     "output_type": "display_data"
    },
    {
     "name": "stdout",
     "output_type": "stream",
     "text": [
      "\n",
      "\n",
      "cluster 24 (size 2):\n",
      "[54 68]\n"
     ]
    },
    {
     "data": {
      "text/plain": [
       "'You are quick to grasp new concepts.'"
      ]
     },
     "metadata": {},
     "output_type": "display_data"
    },
    {
     "data": {
      "text/plain": [
       "'You grasp concepts easily.'"
      ]
     },
     "metadata": {},
     "output_type": "display_data"
    },
    {
     "name": "stdout",
     "output_type": "stream",
     "text": [
      "\n",
      "\n",
      "cluster 25 (size 1):\n",
      "[41]\n"
     ]
    },
    {
     "data": {
      "text/plain": [
       "'You are basically an introvert.'"
      ]
     },
     "metadata": {},
     "output_type": "display_data"
    },
    {
     "name": "stdout",
     "output_type": "stream",
     "text": [
      "\n",
      "\n",
      "cluster 26 (size 2):\n",
      "[20 21]\n"
     ]
    },
    {
     "data": {
      "text/plain": [
       "'At times you can be very indecisive.'"
      ]
     },
     "metadata": {},
     "output_type": "display_data"
    },
    {
     "data": {
      "text/plain": [
       "'At times you can be very unsure.'"
      ]
     },
     "metadata": {},
     "output_type": "display_data"
    },
    {
     "name": "stdout",
     "output_type": "stream",
     "text": [
      "\n",
      "\n",
      "cluster 27 (size 1):\n",
      "[76]\n"
     ]
    },
    {
     "data": {
      "text/plain": [
       "'the physical attractiveness of your partner is very important to you.'"
      ]
     },
     "metadata": {},
     "output_type": "display_data"
    },
    {
     "name": "stdout",
     "output_type": "stream",
     "text": [
      "\n",
      "\n",
      "cluster 28 (size 1):\n",
      "[53]\n"
     ]
    },
    {
     "data": {
      "text/plain": [
       "'You love being involved in multiple things at once and this may be a problem â€“ too may irons in the fire at the same time.'"
      ]
     },
     "metadata": {},
     "output_type": "display_data"
    },
    {
     "name": "stdout",
     "output_type": "stream",
     "text": [
      "\n",
      "\n",
      "cluster 29 (size 1):\n",
      "[42]\n"
     ]
    },
    {
     "data": {
      "text/plain": [
       "'You will do whatever it takes to protect and defend your family or loved ones.'"
      ]
     },
     "metadata": {},
     "output_type": "display_data"
    },
    {
     "name": "stdout",
     "output_type": "stream",
     "text": [
      "\n",
      "\n",
      "cluster 30 (size 1):\n",
      "[72]\n"
     ]
    },
    {
     "data": {
      "text/plain": [
       "'You are oriented towards the sensual side of life in everything you do.'"
      ]
     },
     "metadata": {},
     "output_type": "display_data"
    },
    {
     "name": "stdout",
     "output_type": "stream",
     "text": [
      "\n",
      "\n",
      "cluster 31 (size 1):\n",
      "[45]\n"
     ]
    },
    {
     "data": {
      "text/plain": [
       "'Nothing or no one is ever gone if they leave their memory behind.'"
      ]
     },
     "metadata": {},
     "output_type": "display_data"
    },
    {
     "name": "stdout",
     "output_type": "stream",
     "text": [
      "\n",
      "\n",
      "cluster 32 (size 1):\n",
      "[27]\n"
     ]
    },
    {
     "data": {
      "text/plain": [
       "\"You often appear irrational to others because you can't always explain the reason or source of your feelings.\""
      ]
     },
     "metadata": {},
     "output_type": "display_data"
    },
    {
     "name": "stdout",
     "output_type": "stream",
     "text": [
      "\n",
      "\n",
      "cluster 33 (size 1):\n",
      "[6]\n"
     ]
    },
    {
     "data": {
      "text/plain": [
       "'You can be quite the person to live with or to be around because your standards for yourself and others are so high.'"
      ]
     },
     "metadata": {},
     "output_type": "display_data"
    },
    {
     "name": "stdout",
     "output_type": "stream",
     "text": [
      "\n",
      "\n",
      "cluster 34 (size 1):\n",
      "[51]\n"
     ]
    },
    {
     "data": {
      "text/plain": [
       "'Exercise is a good way to release this tension.'"
      ]
     },
     "metadata": {},
     "output_type": "display_data"
    },
    {
     "name": "stdout",
     "output_type": "stream",
     "text": [
      "\n",
      "\n",
      "cluster 35 (size 4):\n",
      "[ 1  2  3 48]\n"
     ]
    },
    {
     "data": {
      "text/plain": [
       "'You have an ingenious mind.'"
      ]
     },
     "metadata": {},
     "output_type": "display_data"
    },
    {
     "data": {
      "text/plain": [
       "'You have an active mind.'"
      ]
     },
     "metadata": {},
     "output_type": "display_data"
    },
    {
     "data": {
      "text/plain": [
       "'You have an alert mind.'"
      ]
     },
     "metadata": {},
     "output_type": "display_data"
    },
    {
     "data": {
      "text/plain": [
       "'If you have Mercury in Gemini, you have an extremely adaptable, energetic, active, alert, curious, and versatile mind.'"
      ]
     },
     "metadata": {},
     "output_type": "display_data"
    },
    {
     "name": "stdout",
     "output_type": "stream",
     "text": [
      "\n",
      "\n",
      "cluster 36 (size 1):\n",
      "[82]\n"
     ]
    },
    {
     "data": {
      "text/plain": [
       "'you hate getting your hands dirty.'"
      ]
     },
     "metadata": {},
     "output_type": "display_data"
    },
    {
     "name": "stdout",
     "output_type": "stream",
     "text": [
      "\n",
      "\n",
      "cluster 37 (size 2):\n",
      "[74 75]\n"
     ]
    },
    {
     "data": {
      "text/plain": [
       "'You are tremendously responsive to beauty.'"
      ]
     },
     "metadata": {},
     "output_type": "display_data"
    },
    {
     "data": {
      "text/plain": [
       "'You are tremendously responsive to physical appearances.'"
      ]
     },
     "metadata": {},
     "output_type": "display_data"
    },
    {
     "name": "stdout",
     "output_type": "stream",
     "text": [
      "\n",
      "\n",
      "cluster 38 (size 1):\n",
      "[67]\n"
     ]
    },
    {
     "data": {
      "text/plain": [
       "'Mentally restless, you may change jobs or locations frequently, or do work that involves movement, travel, and variety.'"
      ]
     },
     "metadata": {},
     "output_type": "display_data"
    },
    {
     "name": "stdout",
     "output_type": "stream",
     "text": [
      "\n",
      "\n",
      "cluster 39 (size 1):\n",
      "[52]\n"
     ]
    },
    {
     "data": {
      "text/plain": [
       "'You are clever, witty, and always have a joke or comeback ready for any situation.'"
      ]
     },
     "metadata": {},
     "output_type": "display_data"
    },
    {
     "name": "stdout",
     "output_type": "stream",
     "text": [
      "\n",
      "\n",
      "cluster 40 (size 1):\n",
      "[7]\n"
     ]
    },
    {
     "data": {
      "text/plain": [
       "'At times others can never be \"good\" enough to meet those high standards.'"
      ]
     },
     "metadata": {},
     "output_type": "display_data"
    },
    {
     "name": "stdout",
     "output_type": "stream",
     "text": [
      "\n",
      "\n",
      "cluster 41 (size 1):\n",
      "[55]\n"
     ]
    },
    {
     "data": {
      "text/plain": [
       "'You are equally quick to lose interest in an idea or project once your curiosity has been satisfied.'"
      ]
     },
     "metadata": {},
     "output_type": "display_data"
    },
    {
     "name": "stdout",
     "output_type": "stream",
     "text": [
      "\n",
      "\n",
      "cluster 42 (size 1):\n",
      "[69]\n"
     ]
    },
    {
     "data": {
      "text/plain": [
       "\"You may become impatient with those who do n't learn as quickly.\""
      ]
     },
     "metadata": {},
     "output_type": "display_data"
    },
    {
     "name": "stdout",
     "output_type": "stream",
     "text": [
      "\n",
      "\n",
      "cluster 43 (size 1):\n",
      "[63]\n"
     ]
    },
    {
     "data": {
      "text/plain": [
       "'There is danger, then, of superficiality.'"
      ]
     },
     "metadata": {},
     "output_type": "display_data"
    },
    {
     "name": "stdout",
     "output_type": "stream",
     "text": [
      "\n",
      "\n",
      "cluster 44 (size 1):\n",
      "[57]\n"
     ]
    },
    {
     "data": {
      "text/plain": [
       "'concentration and disciplined study are not your strong points.'"
      ]
     },
     "metadata": {},
     "output_type": "display_data"
    },
    {
     "name": "stdout",
     "output_type": "stream",
     "text": [
      "\n",
      "\n",
      "cluster 45 (size 1):\n",
      "[18]\n"
     ]
    },
    {
     "data": {
      "text/plain": [
       "'You are very nervous.'"
      ]
     },
     "metadata": {},
     "output_type": "display_data"
    },
    {
     "name": "stdout",
     "output_type": "stream",
     "text": [
      "\n",
      "\n",
      "cluster 46 (size 1):\n",
      "[36]\n"
     ]
    },
    {
     "data": {
      "text/plain": [
       "'Your senses and emotions are quite strong.'"
      ]
     },
     "metadata": {},
     "output_type": "display_data"
    },
    {
     "name": "stdout",
     "output_type": "stream",
     "text": [
      "\n",
      "\n",
      "cluster 47 (size 1):\n",
      "[28]\n"
     ]
    },
    {
     "data": {
      "text/plain": [
       "'Anyone who lives with you must accept your ups and downs and appreciate your need for times of withdrawal.'"
      ]
     },
     "metadata": {},
     "output_type": "display_data"
    },
    {
     "name": "stdout",
     "output_type": "stream",
     "text": [
      "\n",
      "\n",
      "cluster 48 (size 1):\n",
      "[44]\n"
     ]
    },
    {
     "data": {
      "text/plain": [
       "'you find security in all those memories.'"
      ]
     },
     "metadata": {},
     "output_type": "display_data"
    },
    {
     "name": "stdout",
     "output_type": "stream",
     "text": [
      "\n",
      "\n",
      "cluster 49 (size 1):\n",
      "[15]\n"
     ]
    },
    {
     "data": {
      "text/plain": [
       "'You need to get rid of any negativity that stems from a feeling of inadequacy.'"
      ]
     },
     "metadata": {},
     "output_type": "display_data"
    },
    {
     "name": "stdout",
     "output_type": "stream",
     "text": [
      "\n",
      "\n",
      "cluster 50 (size 1):\n",
      "[47]\n"
     ]
    },
    {
     "data": {
      "text/plain": [
       "'You have the memory of an elephant, but you must learn to forgive and forget past hurts.'"
      ]
     },
     "metadata": {},
     "output_type": "display_data"
    },
    {
     "name": "stdout",
     "output_type": "stream",
     "text": [
      "\n",
      "\n",
      "cluster 51 (size 1):\n",
      "[19]\n"
     ]
    },
    {
     "data": {
      "text/plain": [
       "'you seldom have much weight on you.'"
      ]
     },
     "metadata": {},
     "output_type": "display_data"
    },
    {
     "name": "stdout",
     "output_type": "stream",
     "text": [
      "\n",
      "\n",
      "cluster 52 (size 1):\n",
      "[40]\n"
     ]
    },
    {
     "data": {
      "text/plain": [
       "'Your mother is/was a strong influence for good or ill in your life.'"
      ]
     },
     "metadata": {},
     "output_type": "display_data"
    },
    {
     "name": "stdout",
     "output_type": "stream",
     "text": [
      "\n",
      "\n",
      "cluster 53 (size 1):\n",
      "[16]\n"
     ]
    },
    {
     "data": {
      "text/plain": [
       "'You tend to look younger than you really are, no matter what your age.'"
      ]
     },
     "metadata": {},
     "output_type": "display_data"
    },
    {
     "name": "stdout",
     "output_type": "stream",
     "text": [
      "\n",
      "\n",
      "cluster 54 (size 1):\n",
      "[24]\n"
     ]
    },
    {
     "data": {
      "text/plain": [
       "'Perhaps this is why you so easily become moody, irritable and inconstant in thought and feeling.'"
      ]
     },
     "metadata": {},
     "output_type": "display_data"
    },
    {
     "name": "stdout",
     "output_type": "stream",
     "text": [
      "\n",
      "\n",
      "cluster 55 (size 1):\n",
      "[9]\n"
     ]
    },
    {
     "data": {
      "text/plain": [
       "'Sometimes, though, this can make relationships sour as you often turn your critical eye on the one you love and the things they do.'"
      ]
     },
     "metadata": {},
     "output_type": "display_data"
    },
    {
     "name": "stdout",
     "output_type": "stream",
     "text": [
      "\n",
      "\n",
      "cluster 56 (size 1):\n",
      "[22]\n"
     ]
    },
    {
     "data": {
      "text/plain": [
       "'If you have the Moon in Cancer, you very easily respond to the emotional environment in which you are placed.'"
      ]
     },
     "metadata": {},
     "output_type": "display_data"
    },
    {
     "name": "stdout",
     "output_type": "stream",
     "text": [
      "\n",
      "\n",
      "cluster 57 (size 1):\n",
      "[50]\n"
     ]
    },
    {
     "data": {
      "text/plain": [
       "'You have so much nervous energy that this can sometimes cause great stress which must find an appropriate release.'"
      ]
     },
     "metadata": {},
     "output_type": "display_data"
    },
    {
     "name": "stdout",
     "output_type": "stream",
     "text": [
      "\n",
      "\n",
      "cluster 58 (size 1):\n",
      "[30]\n"
     ]
    },
    {
     "data": {
      "text/plain": [
       "'You take slights very personally.'"
      ]
     },
     "metadata": {},
     "output_type": "display_data"
    },
    {
     "name": "stdout",
     "output_type": "stream",
     "text": [
      "\n",
      "\n",
      "cluster 59 (size 1):\n",
      "[10]\n"
     ]
    },
    {
     "data": {
      "text/plain": [
       "'Pessimism and being too self-critical are two faults you should try to improve upon.'"
      ]
     },
     "metadata": {},
     "output_type": "display_data"
    },
    {
     "name": "stdout",
     "output_type": "stream",
     "text": [
      "\n",
      "\n",
      "cluster 60 (size 1):\n",
      "[29]\n"
     ]
    },
    {
     "data": {
      "text/plain": [
       "'You are also very sympathetic and understand the unspoken feelings and needs of others.'"
      ]
     },
     "metadata": {},
     "output_type": "display_data"
    },
    {
     "name": "stdout",
     "output_type": "stream",
     "text": [
      "\n",
      "\n",
      "cluster 61 (size 1):\n",
      "[23]\n"
     ]
    },
    {
     "data": {
      "text/plain": [
       "'You soak up feelings like a sponge.'"
      ]
     },
     "metadata": {},
     "output_type": "display_data"
    },
    {
     "name": "stdout",
     "output_type": "stream",
     "text": [
      "\n",
      "\n",
      "cluster 62 (size 1):\n",
      "[46]\n"
     ]
    },
    {
     "data": {
      "text/plain": [
       "'Thus, you can become quite possessive.'"
      ]
     },
     "metadata": {},
     "output_type": "display_data"
    },
    {
     "name": "stdout",
     "output_type": "stream",
     "text": [
      "\n",
      "\n",
      "cluster 63 (size 1):\n",
      "[25]\n"
     ]
    },
    {
     "data": {
      "text/plain": [
       "'Learning to control your own moods may be very difficult, yet necessary, for you.'"
      ]
     },
     "metadata": {},
     "output_type": "display_data"
    },
    {
     "name": "stdout",
     "output_type": "stream",
     "text": [
      "\n",
      "\n"
     ]
    }
   ],
   "source": [
    "selected_k = OPTIMAL_K\n",
    "clusters = AgglomerativeClustering(n_clusters=selected_k, affinity='precomputed', linkage=linkage)\n",
    "clusters.fit_predict(dist_mat)\n",
    "for i in range(clusters.n_clusters_):\n",
    "    indices = np.where(clusters.labels_ == i)[0]\n",
    "    \n",
    "    print(f'cluster {i} (size {len(indices)}):')\n",
    "    print(indices)\n",
    "    for idx in indices:\n",
    "        display(sents_df.iloc[idx]['sentence'])\n",
    "    print('\\n')"
   ]
  },
  {
   "cell_type": "code",
   "execution_count": 57,
   "metadata": {},
   "outputs": [],
   "source": [
    "# save clusters into JSON dict\n",
    "clusters_dict = dict()\n",
    "for i in range(clusters.n_clusters_):\n",
    "    indices = np.where(clusters.labels_ == i)[0]\n",
    "    sents = list()\n",
    "    for idx in indices:\n",
    "        sents.append(int(df_piv.index[idx]))\n",
    "    clusters_dict[i] = sents\n",
    "\n",
    "path = save_dir + '/' + 'clusters.json'\n",
    "with open(path, 'w') as fp:\n",
    "    json.dump(clusters_dict, fp)"
   ]
  },
  {
   "cell_type": "code",
   "execution_count": 58,
   "metadata": {},
   "outputs": [
    {
     "name": "stdout",
     "output_type": "stream",
     "text": [
      "------\n",
      "\n",
      "no. of clusters = 3\n",
      "[[0.     0.8463 0.7218]\n",
      " [0.     0.     0.5991]\n",
      " [0.     0.     0.    ]]\n"
     ]
    }
   ],
   "source": [
    "# Compute the distance of one cluster to another cluster by the average pairwise distance\n",
    "# of the elements in one cluster and another cluster.  \n",
    "for n_clusters in [selected_k]:\n",
    "    print('------')\n",
    "    print(f'\\nno. of clusters = {n_clusters}')\n",
    "    clusters = AgglomerativeClustering(n_clusters=n_clusters, affinity='precomputed', linkage=linkage)\n",
    "    clusters.fit_predict(dist_mat)\n",
    "    \n",
    "    # find average distances between clusters and output a new distance matrix\n",
    "    labels = [i for i in range(clusters.n_clusters_)]\n",
    "    avg_dist_arr = np.zeros(shape=(clusters.n_clusters_, clusters.n_clusters_))\n",
    "    for i in range(clusters.n_clusters_):\n",
    "        indices = np.where(clusters.labels_ == i)[0]\n",
    "        labels.remove(i)\n",
    "        for j in labels:\n",
    "            other_indices = np.where(clusters.labels_ == j)[0]\n",
    "            intra_dist_arr = np.zeros(shape=(len(indices), len(other_indices)))\n",
    "            \n",
    "            for k, index in enumerate(indices):\n",
    "                for m, other_index in enumerate(other_indices):\n",
    "                    intra_dist_arr[k][m] = dist_mat[index][other_index]\n",
    "            \n",
    "            #print (f'cluster {i} against cluster {j}:')\n",
    "            #print(intra_dist_arr)\n",
    "            \n",
    "            avg_dist = np.average(intra_dist_arr)\n",
    "            #print(avg_dist)\n",
    "            avg_dist_arr[i][j] = avg_dist\n",
    "    print(avg_dist_arr)"
   ]
  },
  {
   "cell_type": "code",
   "execution_count": 59,
   "metadata": {},
   "outputs": [],
   "source": [
    "path = save_dir + '/' + 'clusterDistances.csv'\n",
    "intercluster_dists = avg_dist_arr + np.transpose(avg_dist_arr)\n",
    "np.savetxt(path, intercluster_dists, delimiter=\",\")"
   ]
  },
  {
   "cell_type": "code",
   "execution_count": 60,
   "metadata": {},
   "outputs": [
    {
     "name": "stdout",
     "output_type": "stream",
     "text": [
      "[[0.     0.8463 0.7218]\n",
      " [0.8463 0.     0.5991]\n",
      " [0.7218 0.5991 0.    ]]\n"
     ]
    }
   ],
   "source": [
    "print(intercluster_dists)"
   ]
  },
  {
   "cell_type": "markdown",
   "metadata": {},
   "source": [
    "## Visualise network of clusters"
   ]
  },
  {
   "cell_type": "code",
   "execution_count": null,
   "metadata": {},
   "outputs": [],
   "source": [
    "import networkx as nx\n",
    "import string"
   ]
  },
  {
   "cell_type": "code",
   "execution_count": null,
   "metadata": {},
   "outputs": [],
   "source": [
    "G = nx.from_numpy_matrix(tmp)\n",
    "print(G.nodes())\n",
    "print(G.edges().data())\n",
    "#G = nx.relabel_nodes(G, dict(zip(range(len(G.nodes())),string.ascii_uppercase)))\n",
    "\n",
    "import pydot\n",
    "from networkx.drawing.nx_pydot import write_dot\n",
    "\n",
    "print(\"using package pydot\")\n",
    "path = save_dir + '/' + 'clusterViz.dot'\n",
    "write_dot(G, path)\n",
    "# you can then use the various graphviz CLI to generate the image. E.g. \"neato -Tpng clusterViz.dot -o clusterViz.png\"\n",
    "# see https://www.graphviz.org/pdf/neatoguide.pdf for more info on modifying dot files.\n",
    "# fdp or sfdp can be used instead of neato. "
   ]
  },
  {
   "cell_type": "markdown",
   "metadata": {},
   "source": [
    "## Summarize"
   ]
  },
  {
   "cell_type": "code",
   "execution_count": 84,
   "metadata": {},
   "outputs": [
    {
     "name": "stdout",
     "output_type": "stream",
     "text": [
      "loaded data from disk.\n"
     ]
    }
   ],
   "source": [
    "# load data files\n",
    "\n",
    "import numpy as np\n",
    "# load indexed sentences:\n",
    "sents_df = pd.read_csv(\"../data/astro0_decomposed_roberta/indexedSentences.csv\")\n",
    "\n",
    "# load intersentence pairwise distance matrix.\n",
    "intersentence = pd.read_csv(\"../data/astro0_decomposed_roberta/pairwiseMatrix.csv\")\n",
    "\n",
    "# load intercluster pairwise distance matrix.\n",
    "intercluster_dists = np.loadtxt(\"../data/test1/clusterDistances.csv\", delimiter=\",\")\n",
    "\n",
    "# load clusters.\n",
    "with open(\"../data/test1/clusters.json\") as fp:\n",
    "    clusters_dict = json.load(fp)\n",
    "\n",
    "    print(\"loaded data from disk.\")"
   ]
  },
  {
   "cell_type": "markdown",
   "metadata": {},
   "source": [
    "## Reliability Ranking approach to multi-summarization."
   ]
  },
  {
   "cell_type": "code",
   "execution_count": 85,
   "metadata": {
    "scrolled": true
   },
   "outputs": [
    {
     "data": {
      "text/plain": [
       "{'0': [13, 56],\n",
       " '1': [26, 78],\n",
       " '2': [49, 58],\n",
       " '3': [4, 64],\n",
       " '4': [8, 60],\n",
       " '5': [14, 31],\n",
       " '6': [70, 71],\n",
       " '7': [5, 35],\n",
       " '8': [12, 66],\n",
       " '9': [0, 11],\n",
       " '10': [33, 34],\n",
       " '11': [32, 81],\n",
       " '12': [17, 38],\n",
       " '13': [77],\n",
       " '14': [73],\n",
       " '15': [65],\n",
       " '16': [84],\n",
       " '17': [59, 62],\n",
       " '18': [43, 61],\n",
       " '19': [86, 87],\n",
       " '20': [39, 85],\n",
       " '21': [79, 80],\n",
       " '22': [37],\n",
       " '23': [83],\n",
       " '24': [54, 68],\n",
       " '25': [41],\n",
       " '26': [20, 21],\n",
       " '27': [76],\n",
       " '28': [53],\n",
       " '29': [42],\n",
       " '30': [72],\n",
       " '31': [45],\n",
       " '32': [27],\n",
       " '33': [6],\n",
       " '34': [51],\n",
       " '35': [1, 2, 3, 48],\n",
       " '36': [82],\n",
       " '37': [74, 75],\n",
       " '38': [67],\n",
       " '39': [52],\n",
       " '40': [7],\n",
       " '41': [55],\n",
       " '42': [69],\n",
       " '43': [63],\n",
       " '44': [57],\n",
       " '45': [18],\n",
       " '46': [36],\n",
       " '47': [28],\n",
       " '48': [44],\n",
       " '49': [15],\n",
       " '50': [47],\n",
       " '51': [19],\n",
       " '52': [40],\n",
       " '53': [16],\n",
       " '54': [24],\n",
       " '55': [9],\n",
       " '56': [22],\n",
       " '57': [50],\n",
       " '58': [30],\n",
       " '59': [10],\n",
       " '60': [29],\n",
       " '61': [23],\n",
       " '62': [46],\n",
       " '63': [25]}"
      ]
     },
     "execution_count": 85,
     "metadata": {},
     "output_type": "execute_result"
    }
   ],
   "source": [
    "clusters_dict"
   ]
  },
  {
   "cell_type": "code",
   "execution_count": 86,
   "metadata": {},
   "outputs": [],
   "source": [
    "def rank_by_reliability(clusters_dict, intercluster, contra_threshold=0.5):\n",
    "    \"\"\"\n",
    "    :param clusters_dict: dict of clusters. {str(cluster index): list(sentence indices)}.\n",
    "    :param intercluster: square numpy.ndarray representing distances between each cluster.\n",
    "    \n",
    "    \"\"\"\n",
    "    scores = list()\n",
    "    for cluster_idx in range(len(intercluster)):\n",
    "        contra_size = 0\n",
    "        for other_cluster_idx in range(len(intercluster)):\n",
    "            if intercluster[cluster_idx][other_cluster_idx] > contra_threshold:\n",
    "                contra_size = contra_size + len(clusters_dict[str(other_cluster_idx)])\n",
    "        if contra_size > 0:\n",
    "            numer = len(clusters_dict[str(cluster_idx)])\n",
    "            denom = numer + contra_size\n",
    "            score = numer/denom\n",
    "        else:\n",
    "            score = len(clusters_dict[str(cluster_idx)])\n",
    "        scores.append((score, cluster_idx))\n",
    "    return scores"
   ]
  },
  {
   "cell_type": "code",
   "execution_count": 87,
   "metadata": {
    "scrolled": true
   },
   "outputs": [],
   "source": [
    "scores = rank_by_reliability(clusters_dict, intercluster_dists, contra_threshold=0.6)"
   ]
  },
  {
   "cell_type": "code",
   "execution_count": 88,
   "metadata": {},
   "outputs": [],
   "source": [
    "def intra_clust_dis_mat(clust, pairwise):\n",
    "    \"\"\"\n",
    "    :param clust: list of sentence indices that form the cluster.\n",
    "    :param pairwise: numpy.ndarray of universal pairwise dist matrix. \n",
    "    \"\"\"\n",
    "    sorted_clust = sorted(clust)\n",
    "    pairs = list(itertools.combinations(clust, 2))\n",
    "    tmp = np.zeros((len(clust), len(clust)))\n",
    "    for pair in pairs:\n",
    "        tmp_idx0 = sorted_clust.index(pair[0])\n",
    "        tmp_idx1 = sorted_clust.index(pair[1])\n",
    "        tmp[tmp_idx0][tmp_idx1] = pairwise[pair[0], pair[1]]\n",
    "    tmp = tmp + np.transpose(tmp)\n",
    "    return tmp, sorted_clust"
   ]
  },
  {
   "cell_type": "code",
   "execution_count": 89,
   "metadata": {},
   "outputs": [
    {
     "data": {
      "text/plain": [
       "array([[0.    , 0.6926, 0.5318, ..., 0.4016, 0.4985, 0.4973],\n",
       "       [0.6926, 0.    , 0.5932, ..., 0.4536, 0.4876, 0.4976],\n",
       "       [0.5318, 0.5932, 0.    , ..., 0.6837, 0.4993, 0.4994],\n",
       "       ...,\n",
       "       [0.4016, 0.4536, 0.6837, ..., 0.    , 0.499 , 0.4995],\n",
       "       [0.4985, 0.4876, 0.4993, ..., 0.499 , 0.    , 0.4984],\n",
       "       [0.4973, 0.4976, 0.4994, ..., 0.4995, 0.4984, 0.    ]])"
      ]
     },
     "execution_count": 89,
     "metadata": {},
     "output_type": "execute_result"
    }
   ],
   "source": [
    "intercluster_dists"
   ]
  },
  {
   "cell_type": "code",
   "execution_count": 90,
   "metadata": {},
   "outputs": [],
   "source": [
    "from lexrank.lexrank import LexRank\n",
    "from lexrank.lexrank import degree_centrality_scores"
   ]
  },
  {
   "cell_type": "code",
   "execution_count": 105,
   "metadata": {},
   "outputs": [],
   "source": [
    "def choose_salient(dis_mat, sorted_clust):\n",
    "    \"\"\"\n",
    "    :param dis_mat: disimilarity or distance matrix. every value is between 0-1, inclusive.\n",
    "    :sorted_clust: sorted list of sentence indices corresponding to the indexing of dis_mat.\n",
    "    :returns: sentence index of most salient sentence.\n",
    "    \"\"\"\n",
    "    similarity_matrix = 1 - dis_mat\n",
    "    #print(similarity_matrix)\n",
    "    scores = degree_centrality_scores(similarity_matrix, threshold=None)\n",
    "    #print(scores)\n",
    "    return sorted_clust[np.argmax(scores)]"
   ]
  },
  {
   "cell_type": "code",
   "execution_count": 106,
   "metadata": {
    "scrolled": true
   },
   "outputs": [
    {
     "name": "stdout",
     "output_type": "stream",
     "text": [
      "cluster: 52\n",
      "reliability score: 1\n"
     ]
    },
    {
     "data": {
      "text/html": [
       "<div>\n",
       "<style scoped>\n",
       "    .dataframe tbody tr th:only-of-type {\n",
       "        vertical-align: middle;\n",
       "    }\n",
       "\n",
       "    .dataframe tbody tr th {\n",
       "        vertical-align: top;\n",
       "    }\n",
       "\n",
       "    .dataframe thead th {\n",
       "        text-align: right;\n",
       "    }\n",
       "</style>\n",
       "<table border=\"1\" class=\"dataframe\">\n",
       "  <thead>\n",
       "    <tr style=\"text-align: right;\">\n",
       "      <th></th>\n",
       "      <th>index</th>\n",
       "      <th>sentence</th>\n",
       "    </tr>\n",
       "  </thead>\n",
       "  <tbody>\n",
       "    <tr>\n",
       "      <th>40</th>\n",
       "      <td>40</td>\n",
       "      <td>Your mother is/was a strong influence for good...</td>\n",
       "    </tr>\n",
       "  </tbody>\n",
       "</table>\n",
       "</div>"
      ],
      "text/plain": [
       "    index                                           sentence\n",
       "40     40  Your mother is/was a strong influence for good..."
      ]
     },
     "metadata": {},
     "output_type": "display_data"
    },
    {
     "data": {
      "text/plain": [
       "'Your mother is/was a strong influence for good or ill in your life.'"
      ]
     },
     "metadata": {},
     "output_type": "display_data"
    },
    {
     "name": "stdout",
     "output_type": "stream",
     "text": [
      "\n",
      "cluster: 42\n",
      "reliability score: 1\n"
     ]
    },
    {
     "data": {
      "text/html": [
       "<div>\n",
       "<style scoped>\n",
       "    .dataframe tbody tr th:only-of-type {\n",
       "        vertical-align: middle;\n",
       "    }\n",
       "\n",
       "    .dataframe tbody tr th {\n",
       "        vertical-align: top;\n",
       "    }\n",
       "\n",
       "    .dataframe thead th {\n",
       "        text-align: right;\n",
       "    }\n",
       "</style>\n",
       "<table border=\"1\" class=\"dataframe\">\n",
       "  <thead>\n",
       "    <tr style=\"text-align: right;\">\n",
       "      <th></th>\n",
       "      <th>index</th>\n",
       "      <th>sentence</th>\n",
       "    </tr>\n",
       "  </thead>\n",
       "  <tbody>\n",
       "    <tr>\n",
       "      <th>69</th>\n",
       "      <td>69</td>\n",
       "      <td>You may become impatient with those who do n't...</td>\n",
       "    </tr>\n",
       "  </tbody>\n",
       "</table>\n",
       "</div>"
      ],
      "text/plain": [
       "    index                                           sentence\n",
       "69     69  You may become impatient with those who do n't..."
      ]
     },
     "metadata": {},
     "output_type": "display_data"
    },
    {
     "data": {
      "text/plain": [
       "\"You may become impatient with those who do n't learn as quickly.\""
      ]
     },
     "metadata": {},
     "output_type": "display_data"
    },
    {
     "name": "stdout",
     "output_type": "stream",
     "text": [
      "\n",
      "cluster: 40\n",
      "reliability score: 1\n"
     ]
    },
    {
     "data": {
      "text/html": [
       "<div>\n",
       "<style scoped>\n",
       "    .dataframe tbody tr th:only-of-type {\n",
       "        vertical-align: middle;\n",
       "    }\n",
       "\n",
       "    .dataframe tbody tr th {\n",
       "        vertical-align: top;\n",
       "    }\n",
       "\n",
       "    .dataframe thead th {\n",
       "        text-align: right;\n",
       "    }\n",
       "</style>\n",
       "<table border=\"1\" class=\"dataframe\">\n",
       "  <thead>\n",
       "    <tr style=\"text-align: right;\">\n",
       "      <th></th>\n",
       "      <th>index</th>\n",
       "      <th>sentence</th>\n",
       "    </tr>\n",
       "  </thead>\n",
       "  <tbody>\n",
       "    <tr>\n",
       "      <th>7</th>\n",
       "      <td>7</td>\n",
       "      <td>At times others can never be \"good\" enough to ...</td>\n",
       "    </tr>\n",
       "  </tbody>\n",
       "</table>\n",
       "</div>"
      ],
      "text/plain": [
       "   index                                           sentence\n",
       "7      7  At times others can never be \"good\" enough to ..."
      ]
     },
     "metadata": {},
     "output_type": "display_data"
    },
    {
     "data": {
      "text/plain": [
       "'At times others can never be \"good\" enough to meet those high standards.'"
      ]
     },
     "metadata": {},
     "output_type": "display_data"
    },
    {
     "name": "stdout",
     "output_type": "stream",
     "text": [
      "\n",
      "cluster: 14\n",
      "reliability score: 1\n"
     ]
    },
    {
     "data": {
      "text/html": [
       "<div>\n",
       "<style scoped>\n",
       "    .dataframe tbody tr th:only-of-type {\n",
       "        vertical-align: middle;\n",
       "    }\n",
       "\n",
       "    .dataframe tbody tr th {\n",
       "        vertical-align: top;\n",
       "    }\n",
       "\n",
       "    .dataframe thead th {\n",
       "        text-align: right;\n",
       "    }\n",
       "</style>\n",
       "<table border=\"1\" class=\"dataframe\">\n",
       "  <thead>\n",
       "    <tr style=\"text-align: right;\">\n",
       "      <th></th>\n",
       "      <th>index</th>\n",
       "      <th>sentence</th>\n",
       "    </tr>\n",
       "  </thead>\n",
       "  <tbody>\n",
       "    <tr>\n",
       "      <th>73</th>\n",
       "      <td>73</td>\n",
       "      <td>it may show through too much weight.</td>\n",
       "    </tr>\n",
       "  </tbody>\n",
       "</table>\n",
       "</div>"
      ],
      "text/plain": [
       "    index                              sentence\n",
       "73     73  it may show through too much weight."
      ]
     },
     "metadata": {},
     "output_type": "display_data"
    },
    {
     "data": {
      "text/plain": [
       "'it may show through too much weight.'"
      ]
     },
     "metadata": {},
     "output_type": "display_data"
    },
    {
     "name": "stdout",
     "output_type": "stream",
     "text": [
      "\n",
      "cluster: 62\n",
      "reliability score: 0.5\n"
     ]
    },
    {
     "data": {
      "text/html": [
       "<div>\n",
       "<style scoped>\n",
       "    .dataframe tbody tr th:only-of-type {\n",
       "        vertical-align: middle;\n",
       "    }\n",
       "\n",
       "    .dataframe tbody tr th {\n",
       "        vertical-align: top;\n",
       "    }\n",
       "\n",
       "    .dataframe thead th {\n",
       "        text-align: right;\n",
       "    }\n",
       "</style>\n",
       "<table border=\"1\" class=\"dataframe\">\n",
       "  <thead>\n",
       "    <tr style=\"text-align: right;\">\n",
       "      <th></th>\n",
       "      <th>index</th>\n",
       "      <th>sentence</th>\n",
       "    </tr>\n",
       "  </thead>\n",
       "  <tbody>\n",
       "    <tr>\n",
       "      <th>46</th>\n",
       "      <td>46</td>\n",
       "      <td>Thus, you can become quite possessive.</td>\n",
       "    </tr>\n",
       "  </tbody>\n",
       "</table>\n",
       "</div>"
      ],
      "text/plain": [
       "    index                                sentence\n",
       "46     46  Thus, you can become quite possessive."
      ]
     },
     "metadata": {},
     "output_type": "display_data"
    },
    {
     "data": {
      "text/plain": [
       "'Thus, you can become quite possessive.'"
      ]
     },
     "metadata": {},
     "output_type": "display_data"
    },
    {
     "name": "stdout",
     "output_type": "stream",
     "text": [
      "\n",
      "cluster: 53\n",
      "reliability score: 0.5\n"
     ]
    },
    {
     "data": {
      "text/html": [
       "<div>\n",
       "<style scoped>\n",
       "    .dataframe tbody tr th:only-of-type {\n",
       "        vertical-align: middle;\n",
       "    }\n",
       "\n",
       "    .dataframe tbody tr th {\n",
       "        vertical-align: top;\n",
       "    }\n",
       "\n",
       "    .dataframe thead th {\n",
       "        text-align: right;\n",
       "    }\n",
       "</style>\n",
       "<table border=\"1\" class=\"dataframe\">\n",
       "  <thead>\n",
       "    <tr style=\"text-align: right;\">\n",
       "      <th></th>\n",
       "      <th>index</th>\n",
       "      <th>sentence</th>\n",
       "    </tr>\n",
       "  </thead>\n",
       "  <tbody>\n",
       "    <tr>\n",
       "      <th>16</th>\n",
       "      <td>16</td>\n",
       "      <td>You tend to look younger than you really are, ...</td>\n",
       "    </tr>\n",
       "  </tbody>\n",
       "</table>\n",
       "</div>"
      ],
      "text/plain": [
       "    index                                           sentence\n",
       "16     16  You tend to look younger than you really are, ..."
      ]
     },
     "metadata": {},
     "output_type": "display_data"
    },
    {
     "data": {
      "text/plain": [
       "'You tend to look younger than you really are, no matter what your age.'"
      ]
     },
     "metadata": {},
     "output_type": "display_data"
    },
    {
     "name": "stdout",
     "output_type": "stream",
     "text": [
      "\n",
      "cluster: 46\n",
      "reliability score: 0.5\n"
     ]
    },
    {
     "data": {
      "text/html": [
       "<div>\n",
       "<style scoped>\n",
       "    .dataframe tbody tr th:only-of-type {\n",
       "        vertical-align: middle;\n",
       "    }\n",
       "\n",
       "    .dataframe tbody tr th {\n",
       "        vertical-align: top;\n",
       "    }\n",
       "\n",
       "    .dataframe thead th {\n",
       "        text-align: right;\n",
       "    }\n",
       "</style>\n",
       "<table border=\"1\" class=\"dataframe\">\n",
       "  <thead>\n",
       "    <tr style=\"text-align: right;\">\n",
       "      <th></th>\n",
       "      <th>index</th>\n",
       "      <th>sentence</th>\n",
       "    </tr>\n",
       "  </thead>\n",
       "  <tbody>\n",
       "    <tr>\n",
       "      <th>36</th>\n",
       "      <td>36</td>\n",
       "      <td>Your senses and emotions are quite strong.</td>\n",
       "    </tr>\n",
       "  </tbody>\n",
       "</table>\n",
       "</div>"
      ],
      "text/plain": [
       "    index                                    sentence\n",
       "36     36  Your senses and emotions are quite strong."
      ]
     },
     "metadata": {},
     "output_type": "display_data"
    },
    {
     "data": {
      "text/plain": [
       "'Your senses and emotions are quite strong.'"
      ]
     },
     "metadata": {},
     "output_type": "display_data"
    },
    {
     "name": "stdout",
     "output_type": "stream",
     "text": [
      "\n",
      "cluster: 43\n",
      "reliability score: 0.5\n"
     ]
    },
    {
     "data": {
      "text/html": [
       "<div>\n",
       "<style scoped>\n",
       "    .dataframe tbody tr th:only-of-type {\n",
       "        vertical-align: middle;\n",
       "    }\n",
       "\n",
       "    .dataframe tbody tr th {\n",
       "        vertical-align: top;\n",
       "    }\n",
       "\n",
       "    .dataframe thead th {\n",
       "        text-align: right;\n",
       "    }\n",
       "</style>\n",
       "<table border=\"1\" class=\"dataframe\">\n",
       "  <thead>\n",
       "    <tr style=\"text-align: right;\">\n",
       "      <th></th>\n",
       "      <th>index</th>\n",
       "      <th>sentence</th>\n",
       "    </tr>\n",
       "  </thead>\n",
       "  <tbody>\n",
       "    <tr>\n",
       "      <th>63</th>\n",
       "      <td>63</td>\n",
       "      <td>There is danger, then, of superficiality.</td>\n",
       "    </tr>\n",
       "  </tbody>\n",
       "</table>\n",
       "</div>"
      ],
      "text/plain": [
       "    index                                   sentence\n",
       "63     63  There is danger, then, of superficiality."
      ]
     },
     "metadata": {},
     "output_type": "display_data"
    },
    {
     "data": {
      "text/plain": [
       "'There is danger, then, of superficiality.'"
      ]
     },
     "metadata": {},
     "output_type": "display_data"
    },
    {
     "name": "stdout",
     "output_type": "stream",
     "text": [
      "\n",
      "cluster: 16\n",
      "reliability score: 0.5\n"
     ]
    },
    {
     "data": {
      "text/html": [
       "<div>\n",
       "<style scoped>\n",
       "    .dataframe tbody tr th:only-of-type {\n",
       "        vertical-align: middle;\n",
       "    }\n",
       "\n",
       "    .dataframe tbody tr th {\n",
       "        vertical-align: top;\n",
       "    }\n",
       "\n",
       "    .dataframe thead th {\n",
       "        text-align: right;\n",
       "    }\n",
       "</style>\n",
       "<table border=\"1\" class=\"dataframe\">\n",
       "  <thead>\n",
       "    <tr style=\"text-align: right;\">\n",
       "      <th></th>\n",
       "      <th>index</th>\n",
       "      <th>sentence</th>\n",
       "    </tr>\n",
       "  </thead>\n",
       "  <tbody>\n",
       "    <tr>\n",
       "      <th>84</th>\n",
       "      <td>84</td>\n",
       "      <td>Self-control needs to be developed and added t...</td>\n",
       "    </tr>\n",
       "  </tbody>\n",
       "</table>\n",
       "</div>"
      ],
      "text/plain": [
       "    index                                           sentence\n",
       "84     84  Self-control needs to be developed and added t..."
      ]
     },
     "metadata": {},
     "output_type": "display_data"
    },
    {
     "data": {
      "text/plain": [
       "'Self-control needs to be developed and added to the qualifications you already possess -warmth, charm, sympathy, artistic.'"
      ]
     },
     "metadata": {},
     "output_type": "display_data"
    },
    {
     "name": "stdout",
     "output_type": "stream",
     "text": [
      "\n",
      "cluster: 8\n",
      "reliability score: 0.4\n"
     ]
    },
    {
     "data": {
      "text/html": [
       "<div>\n",
       "<style scoped>\n",
       "    .dataframe tbody tr th:only-of-type {\n",
       "        vertical-align: middle;\n",
       "    }\n",
       "\n",
       "    .dataframe tbody tr th {\n",
       "        vertical-align: top;\n",
       "    }\n",
       "\n",
       "    .dataframe thead th {\n",
       "        text-align: right;\n",
       "    }\n",
       "</style>\n",
       "<table border=\"1\" class=\"dataframe\">\n",
       "  <thead>\n",
       "    <tr style=\"text-align: right;\">\n",
       "      <th></th>\n",
       "      <th>index</th>\n",
       "      <th>sentence</th>\n",
       "    </tr>\n",
       "  </thead>\n",
       "  <tbody>\n",
       "    <tr>\n",
       "      <th>12</th>\n",
       "      <td>12</td>\n",
       "      <td>Too much worry can lead to health problems.</td>\n",
       "    </tr>\n",
       "    <tr>\n",
       "      <th>66</th>\n",
       "      <td>66</td>\n",
       "      <td>Journalism, speaking, teaching, sales, adverti...</td>\n",
       "    </tr>\n",
       "  </tbody>\n",
       "</table>\n",
       "</div>"
      ],
      "text/plain": [
       "    index                                           sentence\n",
       "12     12        Too much worry can lead to health problems.\n",
       "66     66  Journalism, speaking, teaching, sales, adverti..."
      ]
     },
     "metadata": {},
     "output_type": "display_data"
    },
    {
     "data": {
      "text/plain": [
       "'Too much worry can lead to health problems.'"
      ]
     },
     "metadata": {},
     "output_type": "display_data"
    },
    {
     "name": "stdout",
     "output_type": "stream",
     "text": [
      "\n",
      "cluster: 60\n",
      "reliability score: 0.3333333333333333\n"
     ]
    },
    {
     "data": {
      "text/html": [
       "<div>\n",
       "<style scoped>\n",
       "    .dataframe tbody tr th:only-of-type {\n",
       "        vertical-align: middle;\n",
       "    }\n",
       "\n",
       "    .dataframe tbody tr th {\n",
       "        vertical-align: top;\n",
       "    }\n",
       "\n",
       "    .dataframe thead th {\n",
       "        text-align: right;\n",
       "    }\n",
       "</style>\n",
       "<table border=\"1\" class=\"dataframe\">\n",
       "  <thead>\n",
       "    <tr style=\"text-align: right;\">\n",
       "      <th></th>\n",
       "      <th>index</th>\n",
       "      <th>sentence</th>\n",
       "    </tr>\n",
       "  </thead>\n",
       "  <tbody>\n",
       "    <tr>\n",
       "      <th>29</th>\n",
       "      <td>29</td>\n",
       "      <td>You are also very sympathetic and understand t...</td>\n",
       "    </tr>\n",
       "  </tbody>\n",
       "</table>\n",
       "</div>"
      ],
      "text/plain": [
       "    index                                           sentence\n",
       "29     29  You are also very sympathetic and understand t..."
      ]
     },
     "metadata": {},
     "output_type": "display_data"
    },
    {
     "data": {
      "text/plain": [
       "'You are also very sympathetic and understand the unspoken feelings and needs of others.'"
      ]
     },
     "metadata": {},
     "output_type": "display_data"
    },
    {
     "name": "stdout",
     "output_type": "stream",
     "text": [
      "\n",
      "cluster: 55\n",
      "reliability score: 0.3333333333333333\n"
     ]
    },
    {
     "data": {
      "text/html": [
       "<div>\n",
       "<style scoped>\n",
       "    .dataframe tbody tr th:only-of-type {\n",
       "        vertical-align: middle;\n",
       "    }\n",
       "\n",
       "    .dataframe tbody tr th {\n",
       "        vertical-align: top;\n",
       "    }\n",
       "\n",
       "    .dataframe thead th {\n",
       "        text-align: right;\n",
       "    }\n",
       "</style>\n",
       "<table border=\"1\" class=\"dataframe\">\n",
       "  <thead>\n",
       "    <tr style=\"text-align: right;\">\n",
       "      <th></th>\n",
       "      <th>index</th>\n",
       "      <th>sentence</th>\n",
       "    </tr>\n",
       "  </thead>\n",
       "  <tbody>\n",
       "    <tr>\n",
       "      <th>9</th>\n",
       "      <td>9</td>\n",
       "      <td>Sometimes, though, this can make relationships...</td>\n",
       "    </tr>\n",
       "  </tbody>\n",
       "</table>\n",
       "</div>"
      ],
      "text/plain": [
       "   index                                           sentence\n",
       "9      9  Sometimes, though, this can make relationships..."
      ]
     },
     "metadata": {},
     "output_type": "display_data"
    },
    {
     "data": {
      "text/plain": [
       "'Sometimes, though, this can make relationships sour as you often turn your critical eye on the one you love and the things they do.'"
      ]
     },
     "metadata": {},
     "output_type": "display_data"
    },
    {
     "name": "stdout",
     "output_type": "stream",
     "text": [
      "\n",
      "cluster: 22\n",
      "reliability score: 0.3333333333333333\n"
     ]
    },
    {
     "data": {
      "text/html": [
       "<div>\n",
       "<style scoped>\n",
       "    .dataframe tbody tr th:only-of-type {\n",
       "        vertical-align: middle;\n",
       "    }\n",
       "\n",
       "    .dataframe tbody tr th {\n",
       "        vertical-align: top;\n",
       "    }\n",
       "\n",
       "    .dataframe thead th {\n",
       "        text-align: right;\n",
       "    }\n",
       "</style>\n",
       "<table border=\"1\" class=\"dataframe\">\n",
       "  <thead>\n",
       "    <tr style=\"text-align: right;\">\n",
       "      <th></th>\n",
       "      <th>index</th>\n",
       "      <th>sentence</th>\n",
       "    </tr>\n",
       "  </thead>\n",
       "  <tbody>\n",
       "    <tr>\n",
       "      <th>37</th>\n",
       "      <td>37</td>\n",
       "      <td>it would be wise for you to listen to your int...</td>\n",
       "    </tr>\n",
       "  </tbody>\n",
       "</table>\n",
       "</div>"
      ],
      "text/plain": [
       "    index                                           sentence\n",
       "37     37  it would be wise for you to listen to your int..."
      ]
     },
     "metadata": {},
     "output_type": "display_data"
    },
    {
     "data": {
      "text/plain": [
       "'it would be wise for you to listen to your intuitive side as you can be quite psychic.'"
      ]
     },
     "metadata": {},
     "output_type": "display_data"
    },
    {
     "name": "stdout",
     "output_type": "stream",
     "text": [
      "\n",
      "cluster: 26\n",
      "reliability score: 0.2857142857142857\n"
     ]
    },
    {
     "data": {
      "text/html": [
       "<div>\n",
       "<style scoped>\n",
       "    .dataframe tbody tr th:only-of-type {\n",
       "        vertical-align: middle;\n",
       "    }\n",
       "\n",
       "    .dataframe tbody tr th {\n",
       "        vertical-align: top;\n",
       "    }\n",
       "\n",
       "    .dataframe thead th {\n",
       "        text-align: right;\n",
       "    }\n",
       "</style>\n",
       "<table border=\"1\" class=\"dataframe\">\n",
       "  <thead>\n",
       "    <tr style=\"text-align: right;\">\n",
       "      <th></th>\n",
       "      <th>index</th>\n",
       "      <th>sentence</th>\n",
       "    </tr>\n",
       "  </thead>\n",
       "  <tbody>\n",
       "    <tr>\n",
       "      <th>20</th>\n",
       "      <td>20</td>\n",
       "      <td>At times you can be very indecisive.</td>\n",
       "    </tr>\n",
       "    <tr>\n",
       "      <th>21</th>\n",
       "      <td>21</td>\n",
       "      <td>At times you can be very unsure.</td>\n",
       "    </tr>\n",
       "  </tbody>\n",
       "</table>\n",
       "</div>"
      ],
      "text/plain": [
       "    index                              sentence\n",
       "20     20  At times you can be very indecisive.\n",
       "21     21      At times you can be very unsure."
      ]
     },
     "metadata": {},
     "output_type": "display_data"
    },
    {
     "data": {
      "text/plain": [
       "'At times you can be very indecisive.'"
      ]
     },
     "metadata": {},
     "output_type": "display_data"
    },
    {
     "name": "stdout",
     "output_type": "stream",
     "text": [
      "\n",
      "cluster: 35\n",
      "reliability score: 0.26666666666666666\n"
     ]
    },
    {
     "data": {
      "text/html": [
       "<div>\n",
       "<style scoped>\n",
       "    .dataframe tbody tr th:only-of-type {\n",
       "        vertical-align: middle;\n",
       "    }\n",
       "\n",
       "    .dataframe tbody tr th {\n",
       "        vertical-align: top;\n",
       "    }\n",
       "\n",
       "    .dataframe thead th {\n",
       "        text-align: right;\n",
       "    }\n",
       "</style>\n",
       "<table border=\"1\" class=\"dataframe\">\n",
       "  <thead>\n",
       "    <tr style=\"text-align: right;\">\n",
       "      <th></th>\n",
       "      <th>index</th>\n",
       "      <th>sentence</th>\n",
       "    </tr>\n",
       "  </thead>\n",
       "  <tbody>\n",
       "    <tr>\n",
       "      <th>1</th>\n",
       "      <td>1</td>\n",
       "      <td>You have an ingenious mind.</td>\n",
       "    </tr>\n",
       "    <tr>\n",
       "      <th>2</th>\n",
       "      <td>2</td>\n",
       "      <td>You have an active mind.</td>\n",
       "    </tr>\n",
       "    <tr>\n",
       "      <th>3</th>\n",
       "      <td>3</td>\n",
       "      <td>You have an alert mind.</td>\n",
       "    </tr>\n",
       "    <tr>\n",
       "      <th>48</th>\n",
       "      <td>48</td>\n",
       "      <td>If you have Mercury in Gemini, you have an ext...</td>\n",
       "    </tr>\n",
       "  </tbody>\n",
       "</table>\n",
       "</div>"
      ],
      "text/plain": [
       "    index                                           sentence\n",
       "1       1                        You have an ingenious mind.\n",
       "2       2                           You have an active mind.\n",
       "3       3                            You have an alert mind.\n",
       "48     48  If you have Mercury in Gemini, you have an ext..."
      ]
     },
     "metadata": {},
     "output_type": "display_data"
    },
    {
     "data": {
      "text/plain": [
       "'You have an active mind.'"
      ]
     },
     "metadata": {},
     "output_type": "display_data"
    },
    {
     "name": "stdout",
     "output_type": "stream",
     "text": [
      "\n",
      "cluster: 63\n",
      "reliability score: 0.25\n"
     ]
    },
    {
     "data": {
      "text/html": [
       "<div>\n",
       "<style scoped>\n",
       "    .dataframe tbody tr th:only-of-type {\n",
       "        vertical-align: middle;\n",
       "    }\n",
       "\n",
       "    .dataframe tbody tr th {\n",
       "        vertical-align: top;\n",
       "    }\n",
       "\n",
       "    .dataframe thead th {\n",
       "        text-align: right;\n",
       "    }\n",
       "</style>\n",
       "<table border=\"1\" class=\"dataframe\">\n",
       "  <thead>\n",
       "    <tr style=\"text-align: right;\">\n",
       "      <th></th>\n",
       "      <th>index</th>\n",
       "      <th>sentence</th>\n",
       "    </tr>\n",
       "  </thead>\n",
       "  <tbody>\n",
       "    <tr>\n",
       "      <th>25</th>\n",
       "      <td>25</td>\n",
       "      <td>Learning to control your own moods may be very...</td>\n",
       "    </tr>\n",
       "  </tbody>\n",
       "</table>\n",
       "</div>"
      ],
      "text/plain": [
       "    index                                           sentence\n",
       "25     25  Learning to control your own moods may be very..."
      ]
     },
     "metadata": {},
     "output_type": "display_data"
    },
    {
     "data": {
      "text/plain": [
       "'Learning to control your own moods may be very difficult, yet necessary, for you.'"
      ]
     },
     "metadata": {},
     "output_type": "display_data"
    },
    {
     "name": "stdout",
     "output_type": "stream",
     "text": [
      "\n",
      "cluster: 51\n",
      "reliability score: 0.25\n"
     ]
    },
    {
     "data": {
      "text/html": [
       "<div>\n",
       "<style scoped>\n",
       "    .dataframe tbody tr th:only-of-type {\n",
       "        vertical-align: middle;\n",
       "    }\n",
       "\n",
       "    .dataframe tbody tr th {\n",
       "        vertical-align: top;\n",
       "    }\n",
       "\n",
       "    .dataframe thead th {\n",
       "        text-align: right;\n",
       "    }\n",
       "</style>\n",
       "<table border=\"1\" class=\"dataframe\">\n",
       "  <thead>\n",
       "    <tr style=\"text-align: right;\">\n",
       "      <th></th>\n",
       "      <th>index</th>\n",
       "      <th>sentence</th>\n",
       "    </tr>\n",
       "  </thead>\n",
       "  <tbody>\n",
       "    <tr>\n",
       "      <th>19</th>\n",
       "      <td>19</td>\n",
       "      <td>you seldom have much weight on you.</td>\n",
       "    </tr>\n",
       "  </tbody>\n",
       "</table>\n",
       "</div>"
      ],
      "text/plain": [
       "    index                             sentence\n",
       "19     19  you seldom have much weight on you."
      ]
     },
     "metadata": {},
     "output_type": "display_data"
    },
    {
     "data": {
      "text/plain": [
       "'you seldom have much weight on you.'"
      ]
     },
     "metadata": {},
     "output_type": "display_data"
    },
    {
     "name": "stdout",
     "output_type": "stream",
     "text": [
      "\n",
      "cluster: 19\n",
      "reliability score: 0.2222222222222222\n"
     ]
    },
    {
     "data": {
      "text/html": [
       "<div>\n",
       "<style scoped>\n",
       "    .dataframe tbody tr th:only-of-type {\n",
       "        vertical-align: middle;\n",
       "    }\n",
       "\n",
       "    .dataframe tbody tr th {\n",
       "        vertical-align: top;\n",
       "    }\n",
       "\n",
       "    .dataframe thead th {\n",
       "        text-align: right;\n",
       "    }\n",
       "</style>\n",
       "<table border=\"1\" class=\"dataframe\">\n",
       "  <thead>\n",
       "    <tr style=\"text-align: right;\">\n",
       "      <th></th>\n",
       "      <th>index</th>\n",
       "      <th>sentence</th>\n",
       "    </tr>\n",
       "  </thead>\n",
       "  <tbody>\n",
       "    <tr>\n",
       "      <th>86</th>\n",
       "      <td>86</td>\n",
       "      <td>You aim to please in practical ways.</td>\n",
       "    </tr>\n",
       "    <tr>\n",
       "      <th>87</th>\n",
       "      <td>87</td>\n",
       "      <td>You aim to please in earthy ways.</td>\n",
       "    </tr>\n",
       "  </tbody>\n",
       "</table>\n",
       "</div>"
      ],
      "text/plain": [
       "    index                              sentence\n",
       "86     86  You aim to please in practical ways.\n",
       "87     87     You aim to please in earthy ways."
      ]
     },
     "metadata": {},
     "output_type": "display_data"
    },
    {
     "data": {
      "text/plain": [
       "'You aim to please in practical ways.'"
      ]
     },
     "metadata": {},
     "output_type": "display_data"
    },
    {
     "name": "stdout",
     "output_type": "stream",
     "text": [
      "\n",
      "cluster: 9\n",
      "reliability score: 0.2222222222222222\n"
     ]
    },
    {
     "data": {
      "text/html": [
       "<div>\n",
       "<style scoped>\n",
       "    .dataframe tbody tr th:only-of-type {\n",
       "        vertical-align: middle;\n",
       "    }\n",
       "\n",
       "    .dataframe tbody tr th {\n",
       "        vertical-align: top;\n",
       "    }\n",
       "\n",
       "    .dataframe thead th {\n",
       "        text-align: right;\n",
       "    }\n",
       "</style>\n",
       "<table border=\"1\" class=\"dataframe\">\n",
       "  <thead>\n",
       "    <tr style=\"text-align: right;\">\n",
       "      <th></th>\n",
       "      <th>index</th>\n",
       "      <th>sentence</th>\n",
       "    </tr>\n",
       "  </thead>\n",
       "  <tbody>\n",
       "    <tr>\n",
       "      <th>0</th>\n",
       "      <td>0</td>\n",
       "      <td>People with Virgo rising tend to be practical,...</td>\n",
       "    </tr>\n",
       "    <tr>\n",
       "      <th>11</th>\n",
       "      <td>11</td>\n",
       "      <td>You may tend to worry too much, especially abo...</td>\n",
       "    </tr>\n",
       "  </tbody>\n",
       "</table>\n",
       "</div>"
      ],
      "text/plain": [
       "    index                                           sentence\n",
       "0       0  People with Virgo rising tend to be practical,...\n",
       "11     11  You may tend to worry too much, especially abo..."
      ]
     },
     "metadata": {},
     "output_type": "display_data"
    },
    {
     "data": {
      "text/plain": [
       "'People with Virgo rising tend to be practical, analytical, discriminating, fastidious, careful, exacting, attentive to details, methodical, quiet, unassuming, shy, critical, thoughtful, and somewhat self-centered.'"
      ]
     },
     "metadata": {},
     "output_type": "display_data"
    },
    {
     "name": "stdout",
     "output_type": "stream",
     "text": [
      "\n",
      "cluster: 57\n",
      "reliability score: 0.2\n"
     ]
    },
    {
     "data": {
      "text/html": [
       "<div>\n",
       "<style scoped>\n",
       "    .dataframe tbody tr th:only-of-type {\n",
       "        vertical-align: middle;\n",
       "    }\n",
       "\n",
       "    .dataframe tbody tr th {\n",
       "        vertical-align: top;\n",
       "    }\n",
       "\n",
       "    .dataframe thead th {\n",
       "        text-align: right;\n",
       "    }\n",
       "</style>\n",
       "<table border=\"1\" class=\"dataframe\">\n",
       "  <thead>\n",
       "    <tr style=\"text-align: right;\">\n",
       "      <th></th>\n",
       "      <th>index</th>\n",
       "      <th>sentence</th>\n",
       "    </tr>\n",
       "  </thead>\n",
       "  <tbody>\n",
       "    <tr>\n",
       "      <th>50</th>\n",
       "      <td>50</td>\n",
       "      <td>You have so much nervous energy that this can ...</td>\n",
       "    </tr>\n",
       "  </tbody>\n",
       "</table>\n",
       "</div>"
      ],
      "text/plain": [
       "    index                                           sentence\n",
       "50     50  You have so much nervous energy that this can ..."
      ]
     },
     "metadata": {},
     "output_type": "display_data"
    },
    {
     "data": {
      "text/plain": [
       "'You have so much nervous energy that this can sometimes cause great stress which must find an appropriate release.'"
      ]
     },
     "metadata": {},
     "output_type": "display_data"
    },
    {
     "name": "stdout",
     "output_type": "stream",
     "text": [
      "\n",
      "cluster: 5\n",
      "reliability score: 0.2\n"
     ]
    },
    {
     "data": {
      "text/html": [
       "<div>\n",
       "<style scoped>\n",
       "    .dataframe tbody tr th:only-of-type {\n",
       "        vertical-align: middle;\n",
       "    }\n",
       "\n",
       "    .dataframe tbody tr th {\n",
       "        vertical-align: top;\n",
       "    }\n",
       "\n",
       "    .dataframe thead th {\n",
       "        text-align: right;\n",
       "    }\n",
       "</style>\n",
       "<table border=\"1\" class=\"dataframe\">\n",
       "  <thead>\n",
       "    <tr style=\"text-align: right;\">\n",
       "      <th></th>\n",
       "      <th>index</th>\n",
       "      <th>sentence</th>\n",
       "    </tr>\n",
       "  </thead>\n",
       "  <tbody>\n",
       "    <tr>\n",
       "      <th>14</th>\n",
       "      <td>14</td>\n",
       "      <td>You need to learn to assimilate it without bit...</td>\n",
       "    </tr>\n",
       "    <tr>\n",
       "      <th>31</th>\n",
       "      <td>31</td>\n",
       "      <td>though you may forgive a mistake by a friend o...</td>\n",
       "    </tr>\n",
       "  </tbody>\n",
       "</table>\n",
       "</div>"
      ],
      "text/plain": [
       "    index                                           sentence\n",
       "14     14  You need to learn to assimilate it without bit...\n",
       "31     31  though you may forgive a mistake by a friend o..."
      ]
     },
     "metadata": {},
     "output_type": "display_data"
    },
    {
     "data": {
      "text/plain": [
       "'You need to learn to assimilate it without bitterness, regret, spite or resentment.'"
      ]
     },
     "metadata": {},
     "output_type": "display_data"
    },
    {
     "name": "stdout",
     "output_type": "stream",
     "text": [
      "\n",
      "cluster: 3\n",
      "reliability score: 0.2\n"
     ]
    },
    {
     "data": {
      "text/html": [
       "<div>\n",
       "<style scoped>\n",
       "    .dataframe tbody tr th:only-of-type {\n",
       "        vertical-align: middle;\n",
       "    }\n",
       "\n",
       "    .dataframe tbody tr th {\n",
       "        vertical-align: top;\n",
       "    }\n",
       "\n",
       "    .dataframe thead th {\n",
       "        text-align: right;\n",
       "    }\n",
       "</style>\n",
       "<table border=\"1\" class=\"dataframe\">\n",
       "  <thead>\n",
       "    <tr style=\"text-align: right;\">\n",
       "      <th></th>\n",
       "      <th>index</th>\n",
       "      <th>sentence</th>\n",
       "    </tr>\n",
       "  </thead>\n",
       "  <tbody>\n",
       "    <tr>\n",
       "      <th>4</th>\n",
       "      <td>4</td>\n",
       "      <td>Gaining knowledge and putting it to good use a...</td>\n",
       "    </tr>\n",
       "    <tr>\n",
       "      <th>64</th>\n",
       "      <td>64</td>\n",
       "      <td>Control of thought, word, and action is necess...</td>\n",
       "    </tr>\n",
       "  </tbody>\n",
       "</table>\n",
       "</div>"
      ],
      "text/plain": [
       "    index                                           sentence\n",
       "4       4  Gaining knowledge and putting it to good use a...\n",
       "64     64  Control of thought, word, and action is necess..."
      ]
     },
     "metadata": {},
     "output_type": "display_data"
    },
    {
     "data": {
      "text/plain": [
       "'Gaining knowledge and putting it to good use are important to you.'"
      ]
     },
     "metadata": {},
     "output_type": "display_data"
    },
    {
     "name": "stdout",
     "output_type": "stream",
     "text": [
      "\n",
      "cluster: 17\n",
      "reliability score: 0.18181818181818182\n"
     ]
    },
    {
     "data": {
      "text/html": [
       "<div>\n",
       "<style scoped>\n",
       "    .dataframe tbody tr th:only-of-type {\n",
       "        vertical-align: middle;\n",
       "    }\n",
       "\n",
       "    .dataframe tbody tr th {\n",
       "        vertical-align: top;\n",
       "    }\n",
       "\n",
       "    .dataframe thead th {\n",
       "        text-align: right;\n",
       "    }\n",
       "</style>\n",
       "<table border=\"1\" class=\"dataframe\">\n",
       "  <thead>\n",
       "    <tr style=\"text-align: right;\">\n",
       "      <th></th>\n",
       "      <th>index</th>\n",
       "      <th>sentence</th>\n",
       "    </tr>\n",
       "  </thead>\n",
       "  <tbody>\n",
       "    <tr>\n",
       "      <th>59</th>\n",
       "      <td>59</td>\n",
       "      <td>You may be ambidextrous or mechanically inclined.</td>\n",
       "    </tr>\n",
       "    <tr>\n",
       "      <th>62</th>\n",
       "      <td>62</td>\n",
       "      <td>This is the jack-of-all-trades, master-of-none...</td>\n",
       "    </tr>\n",
       "  </tbody>\n",
       "</table>\n",
       "</div>"
      ],
      "text/plain": [
       "    index                                           sentence\n",
       "59     59  You may be ambidextrous or mechanically inclined.\n",
       "62     62  This is the jack-of-all-trades, master-of-none..."
      ]
     },
     "metadata": {},
     "output_type": "display_data"
    },
    {
     "data": {
      "text/plain": [
       "'You may be ambidextrous or mechanically inclined.'"
      ]
     },
     "metadata": {},
     "output_type": "display_data"
    },
    {
     "name": "stdout",
     "output_type": "stream",
     "text": [
      "\n",
      "cluster: 6\n",
      "reliability score: 0.18181818181818182\n"
     ]
    },
    {
     "data": {
      "text/html": [
       "<div>\n",
       "<style scoped>\n",
       "    .dataframe tbody tr th:only-of-type {\n",
       "        vertical-align: middle;\n",
       "    }\n",
       "\n",
       "    .dataframe tbody tr th {\n",
       "        vertical-align: top;\n",
       "    }\n",
       "\n",
       "    .dataframe thead th {\n",
       "        text-align: right;\n",
       "    }\n",
       "</style>\n",
       "<table border=\"1\" class=\"dataframe\">\n",
       "  <thead>\n",
       "    <tr style=\"text-align: right;\">\n",
       "      <th></th>\n",
       "      <th>index</th>\n",
       "      <th>sentence</th>\n",
       "    </tr>\n",
       "  </thead>\n",
       "  <tbody>\n",
       "    <tr>\n",
       "      <th>70</th>\n",
       "      <td>70</td>\n",
       "      <td>If you have Venus in Taurus, in love affairs y...</td>\n",
       "    </tr>\n",
       "    <tr>\n",
       "      <th>71</th>\n",
       "      <td>71</td>\n",
       "      <td>If you have Venus in Taurus, in love affairs y...</td>\n",
       "    </tr>\n",
       "  </tbody>\n",
       "</table>\n",
       "</div>"
      ],
      "text/plain": [
       "    index                                           sentence\n",
       "70     70  If you have Venus in Taurus, in love affairs y...\n",
       "71     71  If you have Venus in Taurus, in love affairs y..."
      ]
     },
     "metadata": {},
     "output_type": "display_data"
    },
    {
     "data": {
      "text/plain": [
       "'If you have Venus in Taurus, in love affairs you are generally loyal, especially if your partner is demonstrative and affectionate.'"
      ]
     },
     "metadata": {},
     "output_type": "display_data"
    },
    {
     "name": "stdout",
     "output_type": "stream",
     "text": [
      "\n",
      "cluster: 41\n",
      "reliability score: 0.16666666666666666\n"
     ]
    },
    {
     "data": {
      "text/html": [
       "<div>\n",
       "<style scoped>\n",
       "    .dataframe tbody tr th:only-of-type {\n",
       "        vertical-align: middle;\n",
       "    }\n",
       "\n",
       "    .dataframe tbody tr th {\n",
       "        vertical-align: top;\n",
       "    }\n",
       "\n",
       "    .dataframe thead th {\n",
       "        text-align: right;\n",
       "    }\n",
       "</style>\n",
       "<table border=\"1\" class=\"dataframe\">\n",
       "  <thead>\n",
       "    <tr style=\"text-align: right;\">\n",
       "      <th></th>\n",
       "      <th>index</th>\n",
       "      <th>sentence</th>\n",
       "    </tr>\n",
       "  </thead>\n",
       "  <tbody>\n",
       "    <tr>\n",
       "      <th>55</th>\n",
       "      <td>55</td>\n",
       "      <td>You are equally quick to lose interest in an i...</td>\n",
       "    </tr>\n",
       "  </tbody>\n",
       "</table>\n",
       "</div>"
      ],
      "text/plain": [
       "    index                                           sentence\n",
       "55     55  You are equally quick to lose interest in an i..."
      ]
     },
     "metadata": {},
     "output_type": "display_data"
    },
    {
     "data": {
      "text/plain": [
       "'You are equally quick to lose interest in an idea or project once your curiosity has been satisfied.'"
      ]
     },
     "metadata": {},
     "output_type": "display_data"
    },
    {
     "name": "stdout",
     "output_type": "stream",
     "text": [
      "\n",
      "cluster: 21\n",
      "reliability score: 0.16666666666666666\n"
     ]
    },
    {
     "data": {
      "text/html": [
       "<div>\n",
       "<style scoped>\n",
       "    .dataframe tbody tr th:only-of-type {\n",
       "        vertical-align: middle;\n",
       "    }\n",
       "\n",
       "    .dataframe tbody tr th {\n",
       "        vertical-align: top;\n",
       "    }\n",
       "\n",
       "    .dataframe thead th {\n",
       "        text-align: right;\n",
       "    }\n",
       "</style>\n",
       "<table border=\"1\" class=\"dataframe\">\n",
       "  <thead>\n",
       "    <tr style=\"text-align: right;\">\n",
       "      <th></th>\n",
       "      <th>index</th>\n",
       "      <th>sentence</th>\n",
       "    </tr>\n",
       "  </thead>\n",
       "  <tbody>\n",
       "    <tr>\n",
       "      <th>79</th>\n",
       "      <td>79</td>\n",
       "      <td>it is too easy for you to be extravagant.</td>\n",
       "    </tr>\n",
       "    <tr>\n",
       "      <th>80</th>\n",
       "      <td>80</td>\n",
       "      <td>it is too easy for you to put too much value i...</td>\n",
       "    </tr>\n",
       "  </tbody>\n",
       "</table>\n",
       "</div>"
      ],
      "text/plain": [
       "    index                                           sentence\n",
       "79     79          it is too easy for you to be extravagant.\n",
       "80     80  it is too easy for you to put too much value i..."
      ]
     },
     "metadata": {},
     "output_type": "display_data"
    },
    {
     "data": {
      "text/plain": [
       "'it is too easy for you to be extravagant.'"
      ]
     },
     "metadata": {},
     "output_type": "display_data"
    },
    {
     "name": "stdout",
     "output_type": "stream",
     "text": [
      "\n",
      "cluster: 10\n",
      "reliability score: 0.15384615384615385\n"
     ]
    },
    {
     "data": {
      "text/html": [
       "<div>\n",
       "<style scoped>\n",
       "    .dataframe tbody tr th:only-of-type {\n",
       "        vertical-align: middle;\n",
       "    }\n",
       "\n",
       "    .dataframe tbody tr th {\n",
       "        vertical-align: top;\n",
       "    }\n",
       "\n",
       "    .dataframe thead th {\n",
       "        text-align: right;\n",
       "    }\n",
       "</style>\n",
       "<table border=\"1\" class=\"dataframe\">\n",
       "  <thead>\n",
       "    <tr style=\"text-align: right;\">\n",
       "      <th></th>\n",
       "      <th>index</th>\n",
       "      <th>sentence</th>\n",
       "    </tr>\n",
       "  </thead>\n",
       "  <tbody>\n",
       "    <tr>\n",
       "      <th>33</th>\n",
       "      <td>33</td>\n",
       "      <td>you look for it in home.</td>\n",
       "    </tr>\n",
       "    <tr>\n",
       "      <th>34</th>\n",
       "      <td>34</td>\n",
       "      <td>you look for it in family.</td>\n",
       "    </tr>\n",
       "  </tbody>\n",
       "</table>\n",
       "</div>"
      ],
      "text/plain": [
       "    index                    sentence\n",
       "33     33    you look for it in home.\n",
       "34     34  you look for it in family."
      ]
     },
     "metadata": {},
     "output_type": "display_data"
    },
    {
     "data": {
      "text/plain": [
       "'you look for it in home.'"
      ]
     },
     "metadata": {},
     "output_type": "display_data"
    },
    {
     "name": "stdout",
     "output_type": "stream",
     "text": [
      "\n",
      "cluster: 2\n",
      "reliability score: 0.15384615384615385\n"
     ]
    },
    {
     "data": {
      "text/html": [
       "<div>\n",
       "<style scoped>\n",
       "    .dataframe tbody tr th:only-of-type {\n",
       "        vertical-align: middle;\n",
       "    }\n",
       "\n",
       "    .dataframe tbody tr th {\n",
       "        vertical-align: top;\n",
       "    }\n",
       "\n",
       "    .dataframe thead th {\n",
       "        text-align: right;\n",
       "    }\n",
       "</style>\n",
       "<table border=\"1\" class=\"dataframe\">\n",
       "  <thead>\n",
       "    <tr style=\"text-align: right;\">\n",
       "      <th></th>\n",
       "      <th>index</th>\n",
       "      <th>sentence</th>\n",
       "    </tr>\n",
       "  </thead>\n",
       "  <tbody>\n",
       "    <tr>\n",
       "      <th>49</th>\n",
       "      <td>49</td>\n",
       "      <td>You seek knowledge, either through reading or ...</td>\n",
       "    </tr>\n",
       "    <tr>\n",
       "      <th>58</th>\n",
       "      <td>58</td>\n",
       "      <td>You are handy with your hands.</td>\n",
       "    </tr>\n",
       "  </tbody>\n",
       "</table>\n",
       "</div>"
      ],
      "text/plain": [
       "    index                                           sentence\n",
       "49     49  You seek knowledge, either through reading or ...\n",
       "58     58                     You are handy with your hands."
      ]
     },
     "metadata": {},
     "output_type": "display_data"
    },
    {
     "data": {
      "text/plain": [
       "'You seek knowledge, either through reading or conversation, or through travel and talking with the new people you constantly meet.'"
      ]
     },
     "metadata": {},
     "output_type": "display_data"
    },
    {
     "name": "stdout",
     "output_type": "stream",
     "text": [
      "\n",
      "cluster: 56\n",
      "reliability score: 0.14285714285714285\n"
     ]
    },
    {
     "data": {
      "text/html": [
       "<div>\n",
       "<style scoped>\n",
       "    .dataframe tbody tr th:only-of-type {\n",
       "        vertical-align: middle;\n",
       "    }\n",
       "\n",
       "    .dataframe tbody tr th {\n",
       "        vertical-align: top;\n",
       "    }\n",
       "\n",
       "    .dataframe thead th {\n",
       "        text-align: right;\n",
       "    }\n",
       "</style>\n",
       "<table border=\"1\" class=\"dataframe\">\n",
       "  <thead>\n",
       "    <tr style=\"text-align: right;\">\n",
       "      <th></th>\n",
       "      <th>index</th>\n",
       "      <th>sentence</th>\n",
       "    </tr>\n",
       "  </thead>\n",
       "  <tbody>\n",
       "    <tr>\n",
       "      <th>22</th>\n",
       "      <td>22</td>\n",
       "      <td>If you have the Moon in Cancer, you very easil...</td>\n",
       "    </tr>\n",
       "  </tbody>\n",
       "</table>\n",
       "</div>"
      ],
      "text/plain": [
       "    index                                           sentence\n",
       "22     22  If you have the Moon in Cancer, you very easil..."
      ]
     },
     "metadata": {},
     "output_type": "display_data"
    },
    {
     "data": {
      "text/plain": [
       "'If you have the Moon in Cancer, you very easily respond to the emotional environment in which you are placed.'"
      ]
     },
     "metadata": {},
     "output_type": "display_data"
    },
    {
     "name": "stdout",
     "output_type": "stream",
     "text": [
      "\n",
      "cluster: 47\n",
      "reliability score: 0.14285714285714285\n"
     ]
    },
    {
     "data": {
      "text/html": [
       "<div>\n",
       "<style scoped>\n",
       "    .dataframe tbody tr th:only-of-type {\n",
       "        vertical-align: middle;\n",
       "    }\n",
       "\n",
       "    .dataframe tbody tr th {\n",
       "        vertical-align: top;\n",
       "    }\n",
       "\n",
       "    .dataframe thead th {\n",
       "        text-align: right;\n",
       "    }\n",
       "</style>\n",
       "<table border=\"1\" class=\"dataframe\">\n",
       "  <thead>\n",
       "    <tr style=\"text-align: right;\">\n",
       "      <th></th>\n",
       "      <th>index</th>\n",
       "      <th>sentence</th>\n",
       "    </tr>\n",
       "  </thead>\n",
       "  <tbody>\n",
       "    <tr>\n",
       "      <th>28</th>\n",
       "      <td>28</td>\n",
       "      <td>Anyone who lives with you must accept your ups...</td>\n",
       "    </tr>\n",
       "  </tbody>\n",
       "</table>\n",
       "</div>"
      ],
      "text/plain": [
       "    index                                           sentence\n",
       "28     28  Anyone who lives with you must accept your ups..."
      ]
     },
     "metadata": {},
     "output_type": "display_data"
    },
    {
     "data": {
      "text/plain": [
       "'Anyone who lives with you must accept your ups and downs and appreciate your need for times of withdrawal.'"
      ]
     },
     "metadata": {},
     "output_type": "display_data"
    },
    {
     "name": "stdout",
     "output_type": "stream",
     "text": [
      "\n",
      "cluster: 0\n",
      "reliability score: 0.14285714285714285\n"
     ]
    },
    {
     "data": {
      "text/html": [
       "<div>\n",
       "<style scoped>\n",
       "    .dataframe tbody tr th:only-of-type {\n",
       "        vertical-align: middle;\n",
       "    }\n",
       "\n",
       "    .dataframe tbody tr th {\n",
       "        vertical-align: top;\n",
       "    }\n",
       "\n",
       "    .dataframe thead th {\n",
       "        text-align: right;\n",
       "    }\n",
       "</style>\n",
       "<table border=\"1\" class=\"dataframe\">\n",
       "  <thead>\n",
       "    <tr style=\"text-align: right;\">\n",
       "      <th></th>\n",
       "      <th>index</th>\n",
       "      <th>sentence</th>\n",
       "    </tr>\n",
       "  </thead>\n",
       "  <tbody>\n",
       "    <tr>\n",
       "      <th>13</th>\n",
       "      <td>13</td>\n",
       "      <td>You need to learn to digest every experience.</td>\n",
       "    </tr>\n",
       "    <tr>\n",
       "      <th>56</th>\n",
       "      <td>56</td>\n",
       "      <td>You like to taste a little bit of everything.</td>\n",
       "    </tr>\n",
       "  </tbody>\n",
       "</table>\n",
       "</div>"
      ],
      "text/plain": [
       "    index                                       sentence\n",
       "13     13  You need to learn to digest every experience.\n",
       "56     56  You like to taste a little bit of everything."
      ]
     },
     "metadata": {},
     "output_type": "display_data"
    },
    {
     "data": {
      "text/plain": [
       "'You need to learn to digest every experience.'"
      ]
     },
     "metadata": {},
     "output_type": "display_data"
    },
    {
     "name": "stdout",
     "output_type": "stream",
     "text": [
      "\n",
      "cluster: 37\n",
      "reliability score: 0.13333333333333333\n"
     ]
    },
    {
     "data": {
      "text/html": [
       "<div>\n",
       "<style scoped>\n",
       "    .dataframe tbody tr th:only-of-type {\n",
       "        vertical-align: middle;\n",
       "    }\n",
       "\n",
       "    .dataframe tbody tr th {\n",
       "        vertical-align: top;\n",
       "    }\n",
       "\n",
       "    .dataframe thead th {\n",
       "        text-align: right;\n",
       "    }\n",
       "</style>\n",
       "<table border=\"1\" class=\"dataframe\">\n",
       "  <thead>\n",
       "    <tr style=\"text-align: right;\">\n",
       "      <th></th>\n",
       "      <th>index</th>\n",
       "      <th>sentence</th>\n",
       "    </tr>\n",
       "  </thead>\n",
       "  <tbody>\n",
       "    <tr>\n",
       "      <th>74</th>\n",
       "      <td>74</td>\n",
       "      <td>You are tremendously responsive to beauty.</td>\n",
       "    </tr>\n",
       "    <tr>\n",
       "      <th>75</th>\n",
       "      <td>75</td>\n",
       "      <td>You are tremendously responsive to physical ap...</td>\n",
       "    </tr>\n",
       "  </tbody>\n",
       "</table>\n",
       "</div>"
      ],
      "text/plain": [
       "    index                                           sentence\n",
       "74     74         You are tremendously responsive to beauty.\n",
       "75     75  You are tremendously responsive to physical ap..."
      ]
     },
     "metadata": {},
     "output_type": "display_data"
    },
    {
     "data": {
      "text/plain": [
       "'You are tremendously responsive to beauty.'"
      ]
     },
     "metadata": {},
     "output_type": "display_data"
    },
    {
     "name": "stdout",
     "output_type": "stream",
     "text": [
      "\n",
      "cluster: 50\n",
      "reliability score: 0.125\n"
     ]
    },
    {
     "data": {
      "text/html": [
       "<div>\n",
       "<style scoped>\n",
       "    .dataframe tbody tr th:only-of-type {\n",
       "        vertical-align: middle;\n",
       "    }\n",
       "\n",
       "    .dataframe tbody tr th {\n",
       "        vertical-align: top;\n",
       "    }\n",
       "\n",
       "    .dataframe thead th {\n",
       "        text-align: right;\n",
       "    }\n",
       "</style>\n",
       "<table border=\"1\" class=\"dataframe\">\n",
       "  <thead>\n",
       "    <tr style=\"text-align: right;\">\n",
       "      <th></th>\n",
       "      <th>index</th>\n",
       "      <th>sentence</th>\n",
       "    </tr>\n",
       "  </thead>\n",
       "  <tbody>\n",
       "    <tr>\n",
       "      <th>47</th>\n",
       "      <td>47</td>\n",
       "      <td>You have the memory of an elephant, but you mu...</td>\n",
       "    </tr>\n",
       "  </tbody>\n",
       "</table>\n",
       "</div>"
      ],
      "text/plain": [
       "    index                                           sentence\n",
       "47     47  You have the memory of an elephant, but you mu..."
      ]
     },
     "metadata": {},
     "output_type": "display_data"
    },
    {
     "data": {
      "text/plain": [
       "'You have the memory of an elephant, but you must learn to forgive and forget past hurts.'"
      ]
     },
     "metadata": {},
     "output_type": "display_data"
    },
    {
     "name": "stdout",
     "output_type": "stream",
     "text": [
      "\n",
      "cluster: 34\n",
      "reliability score: 0.125\n"
     ]
    },
    {
     "data": {
      "text/html": [
       "<div>\n",
       "<style scoped>\n",
       "    .dataframe tbody tr th:only-of-type {\n",
       "        vertical-align: middle;\n",
       "    }\n",
       "\n",
       "    .dataframe tbody tr th {\n",
       "        vertical-align: top;\n",
       "    }\n",
       "\n",
       "    .dataframe thead th {\n",
       "        text-align: right;\n",
       "    }\n",
       "</style>\n",
       "<table border=\"1\" class=\"dataframe\">\n",
       "  <thead>\n",
       "    <tr style=\"text-align: right;\">\n",
       "      <th></th>\n",
       "      <th>index</th>\n",
       "      <th>sentence</th>\n",
       "    </tr>\n",
       "  </thead>\n",
       "  <tbody>\n",
       "    <tr>\n",
       "      <th>51</th>\n",
       "      <td>51</td>\n",
       "      <td>Exercise is a good way to release this tension.</td>\n",
       "    </tr>\n",
       "  </tbody>\n",
       "</table>\n",
       "</div>"
      ],
      "text/plain": [
       "    index                                         sentence\n",
       "51     51  Exercise is a good way to release this tension."
      ]
     },
     "metadata": {},
     "output_type": "display_data"
    },
    {
     "data": {
      "text/plain": [
       "'Exercise is a good way to release this tension.'"
      ]
     },
     "metadata": {},
     "output_type": "display_data"
    },
    {
     "name": "stdout",
     "output_type": "stream",
     "text": [
      "\n",
      "cluster: 28\n",
      "reliability score: 0.125\n"
     ]
    },
    {
     "data": {
      "text/html": [
       "<div>\n",
       "<style scoped>\n",
       "    .dataframe tbody tr th:only-of-type {\n",
       "        vertical-align: middle;\n",
       "    }\n",
       "\n",
       "    .dataframe tbody tr th {\n",
       "        vertical-align: top;\n",
       "    }\n",
       "\n",
       "    .dataframe thead th {\n",
       "        text-align: right;\n",
       "    }\n",
       "</style>\n",
       "<table border=\"1\" class=\"dataframe\">\n",
       "  <thead>\n",
       "    <tr style=\"text-align: right;\">\n",
       "      <th></th>\n",
       "      <th>index</th>\n",
       "      <th>sentence</th>\n",
       "    </tr>\n",
       "  </thead>\n",
       "  <tbody>\n",
       "    <tr>\n",
       "      <th>53</th>\n",
       "      <td>53</td>\n",
       "      <td>You love being involved in multiple things at ...</td>\n",
       "    </tr>\n",
       "  </tbody>\n",
       "</table>\n",
       "</div>"
      ],
      "text/plain": [
       "    index                                           sentence\n",
       "53     53  You love being involved in multiple things at ..."
      ]
     },
     "metadata": {},
     "output_type": "display_data"
    },
    {
     "data": {
      "text/plain": [
       "'You love being involved in multiple things at once and this may be a problem – too may irons in the fire at the same time.'"
      ]
     },
     "metadata": {},
     "output_type": "display_data"
    },
    {
     "name": "stdout",
     "output_type": "stream",
     "text": [
      "\n",
      "cluster: 18\n",
      "reliability score: 0.11764705882352941\n"
     ]
    },
    {
     "data": {
      "text/html": [
       "<div>\n",
       "<style scoped>\n",
       "    .dataframe tbody tr th:only-of-type {\n",
       "        vertical-align: middle;\n",
       "    }\n",
       "\n",
       "    .dataframe tbody tr th {\n",
       "        vertical-align: top;\n",
       "    }\n",
       "\n",
       "    .dataframe thead th {\n",
       "        text-align: right;\n",
       "    }\n",
       "</style>\n",
       "<table border=\"1\" class=\"dataframe\">\n",
       "  <thead>\n",
       "    <tr style=\"text-align: right;\">\n",
       "      <th></th>\n",
       "      <th>index</th>\n",
       "      <th>sentence</th>\n",
       "    </tr>\n",
       "  </thead>\n",
       "  <tbody>\n",
       "    <tr>\n",
       "      <th>43</th>\n",
       "      <td>43</td>\n",
       "      <td>You tend to be a pack-rat because everything h...</td>\n",
       "    </tr>\n",
       "    <tr>\n",
       "      <th>61</th>\n",
       "      <td>61</td>\n",
       "      <td>There is a tendency to scratch the surface wit...</td>\n",
       "    </tr>\n",
       "  </tbody>\n",
       "</table>\n",
       "</div>"
      ],
      "text/plain": [
       "    index                                           sentence\n",
       "43     43  You tend to be a pack-rat because everything h...\n",
       "61     61  There is a tendency to scratch the surface wit..."
      ]
     },
     "metadata": {},
     "output_type": "display_data"
    },
    {
     "data": {
      "text/plain": [
       "'You tend to be a pack-rat because everything has an emotional memory behind it.'"
      ]
     },
     "metadata": {},
     "output_type": "display_data"
    },
    {
     "name": "stdout",
     "output_type": "stream",
     "text": [
      "\n",
      "cluster: 7\n",
      "reliability score: 0.11764705882352941\n"
     ]
    },
    {
     "data": {
      "text/html": [
       "<div>\n",
       "<style scoped>\n",
       "    .dataframe tbody tr th:only-of-type {\n",
       "        vertical-align: middle;\n",
       "    }\n",
       "\n",
       "    .dataframe tbody tr th {\n",
       "        vertical-align: top;\n",
       "    }\n",
       "\n",
       "    .dataframe thead th {\n",
       "        text-align: right;\n",
       "    }\n",
       "</style>\n",
       "<table border=\"1\" class=\"dataframe\">\n",
       "  <thead>\n",
       "    <tr style=\"text-align: right;\">\n",
       "      <th></th>\n",
       "      <th>index</th>\n",
       "      <th>sentence</th>\n",
       "    </tr>\n",
       "  </thead>\n",
       "  <tbody>\n",
       "    <tr>\n",
       "      <th>5</th>\n",
       "      <td>5</td>\n",
       "      <td>You strive for perfection.</td>\n",
       "    </tr>\n",
       "    <tr>\n",
       "      <th>35</th>\n",
       "      <td>35</td>\n",
       "      <td>you look for it in life.</td>\n",
       "    </tr>\n",
       "  </tbody>\n",
       "</table>\n",
       "</div>"
      ],
      "text/plain": [
       "    index                    sentence\n",
       "5       5  You strive for perfection.\n",
       "35     35    you look for it in life."
      ]
     },
     "metadata": {},
     "output_type": "display_data"
    },
    {
     "data": {
      "text/plain": [
       "'You strive for perfection.'"
      ]
     },
     "metadata": {},
     "output_type": "display_data"
    },
    {
     "name": "stdout",
     "output_type": "stream",
     "text": [
      "\n",
      "cluster: 49\n",
      "reliability score: 0.1111111111111111\n"
     ]
    },
    {
     "data": {
      "text/html": [
       "<div>\n",
       "<style scoped>\n",
       "    .dataframe tbody tr th:only-of-type {\n",
       "        vertical-align: middle;\n",
       "    }\n",
       "\n",
       "    .dataframe tbody tr th {\n",
       "        vertical-align: top;\n",
       "    }\n",
       "\n",
       "    .dataframe thead th {\n",
       "        text-align: right;\n",
       "    }\n",
       "</style>\n",
       "<table border=\"1\" class=\"dataframe\">\n",
       "  <thead>\n",
       "    <tr style=\"text-align: right;\">\n",
       "      <th></th>\n",
       "      <th>index</th>\n",
       "      <th>sentence</th>\n",
       "    </tr>\n",
       "  </thead>\n",
       "  <tbody>\n",
       "    <tr>\n",
       "      <th>15</th>\n",
       "      <td>15</td>\n",
       "      <td>You need to get rid of any negativity that ste...</td>\n",
       "    </tr>\n",
       "  </tbody>\n",
       "</table>\n",
       "</div>"
      ],
      "text/plain": [
       "    index                                           sentence\n",
       "15     15  You need to get rid of any negativity that ste..."
      ]
     },
     "metadata": {},
     "output_type": "display_data"
    },
    {
     "data": {
      "text/plain": [
       "'You need to get rid of any negativity that stems from a feeling of inadequacy.'"
      ]
     },
     "metadata": {},
     "output_type": "display_data"
    },
    {
     "name": "stdout",
     "output_type": "stream",
     "text": [
      "\n",
      "cluster: 27\n",
      "reliability score: 0.1111111111111111\n"
     ]
    },
    {
     "data": {
      "text/html": [
       "<div>\n",
       "<style scoped>\n",
       "    .dataframe tbody tr th:only-of-type {\n",
       "        vertical-align: middle;\n",
       "    }\n",
       "\n",
       "    .dataframe tbody tr th {\n",
       "        vertical-align: top;\n",
       "    }\n",
       "\n",
       "    .dataframe thead th {\n",
       "        text-align: right;\n",
       "    }\n",
       "</style>\n",
       "<table border=\"1\" class=\"dataframe\">\n",
       "  <thead>\n",
       "    <tr style=\"text-align: right;\">\n",
       "      <th></th>\n",
       "      <th>index</th>\n",
       "      <th>sentence</th>\n",
       "    </tr>\n",
       "  </thead>\n",
       "  <tbody>\n",
       "    <tr>\n",
       "      <th>76</th>\n",
       "      <td>76</td>\n",
       "      <td>the physical attractiveness of your partner is...</td>\n",
       "    </tr>\n",
       "  </tbody>\n",
       "</table>\n",
       "</div>"
      ],
      "text/plain": [
       "    index                                           sentence\n",
       "76     76  the physical attractiveness of your partner is..."
      ]
     },
     "metadata": {},
     "output_type": "display_data"
    },
    {
     "data": {
      "text/plain": [
       "'the physical attractiveness of your partner is very important to you.'"
      ]
     },
     "metadata": {},
     "output_type": "display_data"
    },
    {
     "name": "stdout",
     "output_type": "stream",
     "text": [
      "\n",
      "cluster: 1\n",
      "reliability score: 0.1111111111111111\n"
     ]
    },
    {
     "data": {
      "text/html": [
       "<div>\n",
       "<style scoped>\n",
       "    .dataframe tbody tr th:only-of-type {\n",
       "        vertical-align: middle;\n",
       "    }\n",
       "\n",
       "    .dataframe tbody tr th {\n",
       "        vertical-align: top;\n",
       "    }\n",
       "\n",
       "    .dataframe thead th {\n",
       "        text-align: right;\n",
       "    }\n",
       "</style>\n",
       "<table border=\"1\" class=\"dataframe\">\n",
       "  <thead>\n",
       "    <tr style=\"text-align: right;\">\n",
       "      <th></th>\n",
       "      <th>index</th>\n",
       "      <th>sentence</th>\n",
       "    </tr>\n",
       "  </thead>\n",
       "  <tbody>\n",
       "    <tr>\n",
       "      <th>26</th>\n",
       "      <td>26</td>\n",
       "      <td>Your greatest need is to nurture and mother so...</td>\n",
       "    </tr>\n",
       "    <tr>\n",
       "      <th>78</th>\n",
       "      <td>78</td>\n",
       "      <td>You enjoy indulging the ones you love.</td>\n",
       "    </tr>\n",
       "  </tbody>\n",
       "</table>\n",
       "</div>"
      ],
      "text/plain": [
       "    index                                           sentence\n",
       "26     26  Your greatest need is to nurture and mother so...\n",
       "78     78             You enjoy indulging the ones you love."
      ]
     },
     "metadata": {},
     "output_type": "display_data"
    },
    {
     "data": {
      "text/plain": [
       "'Your greatest need is to nurture and mother someone or ones.'"
      ]
     },
     "metadata": {},
     "output_type": "display_data"
    },
    {
     "name": "stdout",
     "output_type": "stream",
     "text": [
      "\n",
      "cluster: 38\n",
      "reliability score: 0.1\n"
     ]
    },
    {
     "data": {
      "text/html": [
       "<div>\n",
       "<style scoped>\n",
       "    .dataframe tbody tr th:only-of-type {\n",
       "        vertical-align: middle;\n",
       "    }\n",
       "\n",
       "    .dataframe tbody tr th {\n",
       "        vertical-align: top;\n",
       "    }\n",
       "\n",
       "    .dataframe thead th {\n",
       "        text-align: right;\n",
       "    }\n",
       "</style>\n",
       "<table border=\"1\" class=\"dataframe\">\n",
       "  <thead>\n",
       "    <tr style=\"text-align: right;\">\n",
       "      <th></th>\n",
       "      <th>index</th>\n",
       "      <th>sentence</th>\n",
       "    </tr>\n",
       "  </thead>\n",
       "  <tbody>\n",
       "    <tr>\n",
       "      <th>67</th>\n",
       "      <td>67</td>\n",
       "      <td>Mentally restless, you may change jobs or loca...</td>\n",
       "    </tr>\n",
       "  </tbody>\n",
       "</table>\n",
       "</div>"
      ],
      "text/plain": [
       "    index                                           sentence\n",
       "67     67  Mentally restless, you may change jobs or loca..."
      ]
     },
     "metadata": {},
     "output_type": "display_data"
    },
    {
     "data": {
      "text/plain": [
       "'Mentally restless, you may change jobs or locations frequently, or do work that involves movement, travel, and variety.'"
      ]
     },
     "metadata": {},
     "output_type": "display_data"
    },
    {
     "name": "stdout",
     "output_type": "stream",
     "text": [
      "\n",
      "cluster: 29\n",
      "reliability score: 0.09090909090909091\n"
     ]
    },
    {
     "data": {
      "text/html": [
       "<div>\n",
       "<style scoped>\n",
       "    .dataframe tbody tr th:only-of-type {\n",
       "        vertical-align: middle;\n",
       "    }\n",
       "\n",
       "    .dataframe tbody tr th {\n",
       "        vertical-align: top;\n",
       "    }\n",
       "\n",
       "    .dataframe thead th {\n",
       "        text-align: right;\n",
       "    }\n",
       "</style>\n",
       "<table border=\"1\" class=\"dataframe\">\n",
       "  <thead>\n",
       "    <tr style=\"text-align: right;\">\n",
       "      <th></th>\n",
       "      <th>index</th>\n",
       "      <th>sentence</th>\n",
       "    </tr>\n",
       "  </thead>\n",
       "  <tbody>\n",
       "    <tr>\n",
       "      <th>42</th>\n",
       "      <td>42</td>\n",
       "      <td>You will do whatever it takes to protect and d...</td>\n",
       "    </tr>\n",
       "  </tbody>\n",
       "</table>\n",
       "</div>"
      ],
      "text/plain": [
       "    index                                           sentence\n",
       "42     42  You will do whatever it takes to protect and d..."
      ]
     },
     "metadata": {},
     "output_type": "display_data"
    },
    {
     "data": {
      "text/plain": [
       "'You will do whatever it takes to protect and defend your family or loved ones.'"
      ]
     },
     "metadata": {},
     "output_type": "display_data"
    },
    {
     "name": "stdout",
     "output_type": "stream",
     "text": [
      "\n",
      "cluster: 11\n",
      "reliability score: 0.09090909090909091\n"
     ]
    },
    {
     "data": {
      "text/html": [
       "<div>\n",
       "<style scoped>\n",
       "    .dataframe tbody tr th:only-of-type {\n",
       "        vertical-align: middle;\n",
       "    }\n",
       "\n",
       "    .dataframe tbody tr th {\n",
       "        vertical-align: top;\n",
       "    }\n",
       "\n",
       "    .dataframe thead th {\n",
       "        text-align: right;\n",
       "    }\n",
       "</style>\n",
       "<table border=\"1\" class=\"dataframe\">\n",
       "  <thead>\n",
       "    <tr style=\"text-align: right;\">\n",
       "      <th></th>\n",
       "      <th>index</th>\n",
       "      <th>sentence</th>\n",
       "    </tr>\n",
       "  </thead>\n",
       "  <tbody>\n",
       "    <tr>\n",
       "      <th>32</th>\n",
       "      <td>32</td>\n",
       "      <td>Security is very important to you.</td>\n",
       "    </tr>\n",
       "    <tr>\n",
       "      <th>81</th>\n",
       "      <td>81</td>\n",
       "      <td>Comfort is important to you.</td>\n",
       "    </tr>\n",
       "  </tbody>\n",
       "</table>\n",
       "</div>"
      ],
      "text/plain": [
       "    index                            sentence\n",
       "32     32  Security is very important to you.\n",
       "81     81        Comfort is important to you."
      ]
     },
     "metadata": {},
     "output_type": "display_data"
    },
    {
     "data": {
      "text/plain": [
       "'Security is very important to you.'"
      ]
     },
     "metadata": {},
     "output_type": "display_data"
    },
    {
     "name": "stdout",
     "output_type": "stream",
     "text": [
      "\n",
      "cluster: 32\n",
      "reliability score: 0.08333333333333333\n"
     ]
    },
    {
     "data": {
      "text/html": [
       "<div>\n",
       "<style scoped>\n",
       "    .dataframe tbody tr th:only-of-type {\n",
       "        vertical-align: middle;\n",
       "    }\n",
       "\n",
       "    .dataframe tbody tr th {\n",
       "        vertical-align: top;\n",
       "    }\n",
       "\n",
       "    .dataframe thead th {\n",
       "        text-align: right;\n",
       "    }\n",
       "</style>\n",
       "<table border=\"1\" class=\"dataframe\">\n",
       "  <thead>\n",
       "    <tr style=\"text-align: right;\">\n",
       "      <th></th>\n",
       "      <th>index</th>\n",
       "      <th>sentence</th>\n",
       "    </tr>\n",
       "  </thead>\n",
       "  <tbody>\n",
       "    <tr>\n",
       "      <th>27</th>\n",
       "      <td>27</td>\n",
       "      <td>You often appear irrational to others because ...</td>\n",
       "    </tr>\n",
       "  </tbody>\n",
       "</table>\n",
       "</div>"
      ],
      "text/plain": [
       "    index                                           sentence\n",
       "27     27  You often appear irrational to others because ..."
      ]
     },
     "metadata": {},
     "output_type": "display_data"
    },
    {
     "data": {
      "text/plain": [
       "\"You often appear irrational to others because you can't always explain the reason or source of your feelings.\""
      ]
     },
     "metadata": {},
     "output_type": "display_data"
    },
    {
     "name": "stdout",
     "output_type": "stream",
     "text": [
      "\n",
      "cluster: 58\n",
      "reliability score: 0.07692307692307693\n"
     ]
    },
    {
     "data": {
      "text/html": [
       "<div>\n",
       "<style scoped>\n",
       "    .dataframe tbody tr th:only-of-type {\n",
       "        vertical-align: middle;\n",
       "    }\n",
       "\n",
       "    .dataframe tbody tr th {\n",
       "        vertical-align: top;\n",
       "    }\n",
       "\n",
       "    .dataframe thead th {\n",
       "        text-align: right;\n",
       "    }\n",
       "</style>\n",
       "<table border=\"1\" class=\"dataframe\">\n",
       "  <thead>\n",
       "    <tr style=\"text-align: right;\">\n",
       "      <th></th>\n",
       "      <th>index</th>\n",
       "      <th>sentence</th>\n",
       "    </tr>\n",
       "  </thead>\n",
       "  <tbody>\n",
       "    <tr>\n",
       "      <th>30</th>\n",
       "      <td>30</td>\n",
       "      <td>You take slights very personally.</td>\n",
       "    </tr>\n",
       "  </tbody>\n",
       "</table>\n",
       "</div>"
      ],
      "text/plain": [
       "    index                           sentence\n",
       "30     30  You take slights very personally."
      ]
     },
     "metadata": {},
     "output_type": "display_data"
    },
    {
     "data": {
      "text/plain": [
       "'You take slights very personally.'"
      ]
     },
     "metadata": {},
     "output_type": "display_data"
    },
    {
     "name": "stdout",
     "output_type": "stream",
     "text": [
      "\n",
      "cluster: 20\n",
      "reliability score: 0.07692307692307693\n"
     ]
    },
    {
     "data": {
      "text/html": [
       "<div>\n",
       "<style scoped>\n",
       "    .dataframe tbody tr th:only-of-type {\n",
       "        vertical-align: middle;\n",
       "    }\n",
       "\n",
       "    .dataframe tbody tr th {\n",
       "        vertical-align: top;\n",
       "    }\n",
       "\n",
       "    .dataframe thead th {\n",
       "        text-align: right;\n",
       "    }\n",
       "</style>\n",
       "<table border=\"1\" class=\"dataframe\">\n",
       "  <thead>\n",
       "    <tr style=\"text-align: right;\">\n",
       "      <th></th>\n",
       "      <th>index</th>\n",
       "      <th>sentence</th>\n",
       "    </tr>\n",
       "  </thead>\n",
       "  <tbody>\n",
       "    <tr>\n",
       "      <th>39</th>\n",
       "      <td>39</td>\n",
       "      <td>you do not give up or let go of things or peop...</td>\n",
       "    </tr>\n",
       "    <tr>\n",
       "      <th>85</th>\n",
       "      <td>85</td>\n",
       "      <td>Guard against possessiveness, jealousy, and ta...</td>\n",
       "    </tr>\n",
       "  </tbody>\n",
       "</table>\n",
       "</div>"
      ],
      "text/plain": [
       "    index                                           sentence\n",
       "39     39  you do not give up or let go of things or peop...\n",
       "85     85  Guard against possessiveness, jealousy, and ta..."
      ]
     },
     "metadata": {},
     "output_type": "display_data"
    },
    {
     "data": {
      "text/plain": [
       "'you do not give up or let go of things or people easily.'"
      ]
     },
     "metadata": {},
     "output_type": "display_data"
    },
    {
     "name": "stdout",
     "output_type": "stream",
     "text": [
      "\n",
      "cluster: 4\n",
      "reliability score: 0.07692307692307693\n"
     ]
    },
    {
     "data": {
      "text/html": [
       "<div>\n",
       "<style scoped>\n",
       "    .dataframe tbody tr th:only-of-type {\n",
       "        vertical-align: middle;\n",
       "    }\n",
       "\n",
       "    .dataframe tbody tr th {\n",
       "        vertical-align: top;\n",
       "    }\n",
       "\n",
       "    .dataframe thead th {\n",
       "        text-align: right;\n",
       "    }\n",
       "</style>\n",
       "<table border=\"1\" class=\"dataframe\">\n",
       "  <thead>\n",
       "    <tr style=\"text-align: right;\">\n",
       "      <th></th>\n",
       "      <th>index</th>\n",
       "      <th>sentence</th>\n",
       "    </tr>\n",
       "  </thead>\n",
       "  <tbody>\n",
       "    <tr>\n",
       "      <th>8</th>\n",
       "      <td>8</td>\n",
       "      <td>Finding fault with what's wrong with things is...</td>\n",
       "    </tr>\n",
       "    <tr>\n",
       "      <th>60</th>\n",
       "      <td>60</td>\n",
       "      <td>Debate and argument appeal to you.</td>\n",
       "    </tr>\n",
       "  </tbody>\n",
       "</table>\n",
       "</div>"
      ],
      "text/plain": [
       "    index                                           sentence\n",
       "8       8  Finding fault with what's wrong with things is...\n",
       "60     60                 Debate and argument appeal to you."
      ]
     },
     "metadata": {},
     "output_type": "display_data"
    },
    {
     "data": {
      "text/plain": [
       "\"Finding fault with what's wrong with things is your forte.\""
      ]
     },
     "metadata": {},
     "output_type": "display_data"
    },
    {
     "name": "stdout",
     "output_type": "stream",
     "text": [
      "\n",
      "cluster: 12\n",
      "reliability score: 0.07407407407407407\n"
     ]
    },
    {
     "data": {
      "text/html": [
       "<div>\n",
       "<style scoped>\n",
       "    .dataframe tbody tr th:only-of-type {\n",
       "        vertical-align: middle;\n",
       "    }\n",
       "\n",
       "    .dataframe tbody tr th {\n",
       "        vertical-align: top;\n",
       "    }\n",
       "\n",
       "    .dataframe thead th {\n",
       "        text-align: right;\n",
       "    }\n",
       "</style>\n",
       "<table border=\"1\" class=\"dataframe\">\n",
       "  <thead>\n",
       "    <tr style=\"text-align: right;\">\n",
       "      <th></th>\n",
       "      <th>index</th>\n",
       "      <th>sentence</th>\n",
       "    </tr>\n",
       "  </thead>\n",
       "  <tbody>\n",
       "    <tr>\n",
       "      <th>17</th>\n",
       "      <td>17</td>\n",
       "      <td>You are very restless.</td>\n",
       "    </tr>\n",
       "    <tr>\n",
       "      <th>38</th>\n",
       "      <td>38</td>\n",
       "      <td>You are very tenacious.</td>\n",
       "    </tr>\n",
       "  </tbody>\n",
       "</table>\n",
       "</div>"
      ],
      "text/plain": [
       "    index                 sentence\n",
       "17     17   You are very restless.\n",
       "38     38  You are very tenacious."
      ]
     },
     "metadata": {},
     "output_type": "display_data"
    },
    {
     "data": {
      "text/plain": [
       "'You are very restless.'"
      ]
     },
     "metadata": {},
     "output_type": "display_data"
    },
    {
     "name": "stdout",
     "output_type": "stream",
     "text": [
      "\n",
      "cluster: 24\n",
      "reliability score: 0.06896551724137931\n"
     ]
    },
    {
     "data": {
      "text/html": [
       "<div>\n",
       "<style scoped>\n",
       "    .dataframe tbody tr th:only-of-type {\n",
       "        vertical-align: middle;\n",
       "    }\n",
       "\n",
       "    .dataframe tbody tr th {\n",
       "        vertical-align: top;\n",
       "    }\n",
       "\n",
       "    .dataframe thead th {\n",
       "        text-align: right;\n",
       "    }\n",
       "</style>\n",
       "<table border=\"1\" class=\"dataframe\">\n",
       "  <thead>\n",
       "    <tr style=\"text-align: right;\">\n",
       "      <th></th>\n",
       "      <th>index</th>\n",
       "      <th>sentence</th>\n",
       "    </tr>\n",
       "  </thead>\n",
       "  <tbody>\n",
       "    <tr>\n",
       "      <th>54</th>\n",
       "      <td>54</td>\n",
       "      <td>You are quick to grasp new concepts.</td>\n",
       "    </tr>\n",
       "    <tr>\n",
       "      <th>68</th>\n",
       "      <td>68</td>\n",
       "      <td>You grasp concepts easily.</td>\n",
       "    </tr>\n",
       "  </tbody>\n",
       "</table>\n",
       "</div>"
      ],
      "text/plain": [
       "    index                              sentence\n",
       "54     54  You are quick to grasp new concepts.\n",
       "68     68            You grasp concepts easily."
      ]
     },
     "metadata": {},
     "output_type": "display_data"
    },
    {
     "data": {
      "text/plain": [
       "'You are quick to grasp new concepts.'"
      ]
     },
     "metadata": {},
     "output_type": "display_data"
    },
    {
     "name": "stdout",
     "output_type": "stream",
     "text": [
      "\n",
      "cluster: 33\n",
      "reliability score: 0.05555555555555555\n"
     ]
    },
    {
     "data": {
      "text/html": [
       "<div>\n",
       "<style scoped>\n",
       "    .dataframe tbody tr th:only-of-type {\n",
       "        vertical-align: middle;\n",
       "    }\n",
       "\n",
       "    .dataframe tbody tr th {\n",
       "        vertical-align: top;\n",
       "    }\n",
       "\n",
       "    .dataframe thead th {\n",
       "        text-align: right;\n",
       "    }\n",
       "</style>\n",
       "<table border=\"1\" class=\"dataframe\">\n",
       "  <thead>\n",
       "    <tr style=\"text-align: right;\">\n",
       "      <th></th>\n",
       "      <th>index</th>\n",
       "      <th>sentence</th>\n",
       "    </tr>\n",
       "  </thead>\n",
       "  <tbody>\n",
       "    <tr>\n",
       "      <th>6</th>\n",
       "      <td>6</td>\n",
       "      <td>You can be quite the person to live with or to...</td>\n",
       "    </tr>\n",
       "  </tbody>\n",
       "</table>\n",
       "</div>"
      ],
      "text/plain": [
       "   index                                           sentence\n",
       "6      6  You can be quite the person to live with or to..."
      ]
     },
     "metadata": {},
     "output_type": "display_data"
    },
    {
     "data": {
      "text/plain": [
       "'You can be quite the person to live with or to be around because your standards for yourself and others are so high.'"
      ]
     },
     "metadata": {},
     "output_type": "display_data"
    },
    {
     "name": "stdout",
     "output_type": "stream",
     "text": [
      "\n",
      "cluster: 25\n",
      "reliability score: 0.05263157894736842\n"
     ]
    },
    {
     "data": {
      "text/html": [
       "<div>\n",
       "<style scoped>\n",
       "    .dataframe tbody tr th:only-of-type {\n",
       "        vertical-align: middle;\n",
       "    }\n",
       "\n",
       "    .dataframe tbody tr th {\n",
       "        vertical-align: top;\n",
       "    }\n",
       "\n",
       "    .dataframe thead th {\n",
       "        text-align: right;\n",
       "    }\n",
       "</style>\n",
       "<table border=\"1\" class=\"dataframe\">\n",
       "  <thead>\n",
       "    <tr style=\"text-align: right;\">\n",
       "      <th></th>\n",
       "      <th>index</th>\n",
       "      <th>sentence</th>\n",
       "    </tr>\n",
       "  </thead>\n",
       "  <tbody>\n",
       "    <tr>\n",
       "      <th>41</th>\n",
       "      <td>41</td>\n",
       "      <td>You are basically an introvert.</td>\n",
       "    </tr>\n",
       "  </tbody>\n",
       "</table>\n",
       "</div>"
      ],
      "text/plain": [
       "    index                         sentence\n",
       "41     41  You are basically an introvert."
      ]
     },
     "metadata": {},
     "output_type": "display_data"
    },
    {
     "data": {
      "text/plain": [
       "'You are basically an introvert.'"
      ]
     },
     "metadata": {},
     "output_type": "display_data"
    },
    {
     "name": "stdout",
     "output_type": "stream",
     "text": [
      "\n",
      "cluster: 15\n",
      "reliability score: 0.05263157894736842\n"
     ]
    },
    {
     "data": {
      "text/html": [
       "<div>\n",
       "<style scoped>\n",
       "    .dataframe tbody tr th:only-of-type {\n",
       "        vertical-align: middle;\n",
       "    }\n",
       "\n",
       "    .dataframe tbody tr th {\n",
       "        vertical-align: top;\n",
       "    }\n",
       "\n",
       "    .dataframe thead th {\n",
       "        text-align: right;\n",
       "    }\n",
       "</style>\n",
       "<table border=\"1\" class=\"dataframe\">\n",
       "  <thead>\n",
       "    <tr style=\"text-align: right;\">\n",
       "      <th></th>\n",
       "      <th>index</th>\n",
       "      <th>sentence</th>\n",
       "    </tr>\n",
       "  </thead>\n",
       "  <tbody>\n",
       "    <tr>\n",
       "      <th>65</th>\n",
       "      <td>65</td>\n",
       "      <td>Find your focus, stay with it and develop pers...</td>\n",
       "    </tr>\n",
       "  </tbody>\n",
       "</table>\n",
       "</div>"
      ],
      "text/plain": [
       "    index                                           sentence\n",
       "65     65  Find your focus, stay with it and develop pers..."
      ]
     },
     "metadata": {},
     "output_type": "display_data"
    },
    {
     "data": {
      "text/plain": [
       "'Find your focus, stay with it and develop perseverance.'"
      ]
     },
     "metadata": {},
     "output_type": "display_data"
    },
    {
     "name": "stdout",
     "output_type": "stream",
     "text": [
      "\n",
      "cluster: 45\n",
      "reliability score: 0.047619047619047616\n"
     ]
    },
    {
     "data": {
      "text/html": [
       "<div>\n",
       "<style scoped>\n",
       "    .dataframe tbody tr th:only-of-type {\n",
       "        vertical-align: middle;\n",
       "    }\n",
       "\n",
       "    .dataframe tbody tr th {\n",
       "        vertical-align: top;\n",
       "    }\n",
       "\n",
       "    .dataframe thead th {\n",
       "        text-align: right;\n",
       "    }\n",
       "</style>\n",
       "<table border=\"1\" class=\"dataframe\">\n",
       "  <thead>\n",
       "    <tr style=\"text-align: right;\">\n",
       "      <th></th>\n",
       "      <th>index</th>\n",
       "      <th>sentence</th>\n",
       "    </tr>\n",
       "  </thead>\n",
       "  <tbody>\n",
       "    <tr>\n",
       "      <th>18</th>\n",
       "      <td>18</td>\n",
       "      <td>You are very nervous.</td>\n",
       "    </tr>\n",
       "  </tbody>\n",
       "</table>\n",
       "</div>"
      ],
      "text/plain": [
       "    index               sentence\n",
       "18     18  You are very nervous."
      ]
     },
     "metadata": {},
     "output_type": "display_data"
    },
    {
     "data": {
      "text/plain": [
       "'You are very nervous.'"
      ]
     },
     "metadata": {},
     "output_type": "display_data"
    },
    {
     "name": "stdout",
     "output_type": "stream",
     "text": [
      "\n",
      "cluster: 30\n",
      "reliability score: 0.047619047619047616\n"
     ]
    },
    {
     "data": {
      "text/html": [
       "<div>\n",
       "<style scoped>\n",
       "    .dataframe tbody tr th:only-of-type {\n",
       "        vertical-align: middle;\n",
       "    }\n",
       "\n",
       "    .dataframe tbody tr th {\n",
       "        vertical-align: top;\n",
       "    }\n",
       "\n",
       "    .dataframe thead th {\n",
       "        text-align: right;\n",
       "    }\n",
       "</style>\n",
       "<table border=\"1\" class=\"dataframe\">\n",
       "  <thead>\n",
       "    <tr style=\"text-align: right;\">\n",
       "      <th></th>\n",
       "      <th>index</th>\n",
       "      <th>sentence</th>\n",
       "    </tr>\n",
       "  </thead>\n",
       "  <tbody>\n",
       "    <tr>\n",
       "      <th>72</th>\n",
       "      <td>72</td>\n",
       "      <td>You are oriented towards the sensual side of l...</td>\n",
       "    </tr>\n",
       "  </tbody>\n",
       "</table>\n",
       "</div>"
      ],
      "text/plain": [
       "    index                                           sentence\n",
       "72     72  You are oriented towards the sensual side of l..."
      ]
     },
     "metadata": {},
     "output_type": "display_data"
    },
    {
     "data": {
      "text/plain": [
       "'You are oriented towards the sensual side of life in everything you do.'"
      ]
     },
     "metadata": {},
     "output_type": "display_data"
    },
    {
     "name": "stdout",
     "output_type": "stream",
     "text": [
      "\n",
      "cluster: 59\n",
      "reliability score: 0.045454545454545456\n"
     ]
    },
    {
     "data": {
      "text/html": [
       "<div>\n",
       "<style scoped>\n",
       "    .dataframe tbody tr th:only-of-type {\n",
       "        vertical-align: middle;\n",
       "    }\n",
       "\n",
       "    .dataframe tbody tr th {\n",
       "        vertical-align: top;\n",
       "    }\n",
       "\n",
       "    .dataframe thead th {\n",
       "        text-align: right;\n",
       "    }\n",
       "</style>\n",
       "<table border=\"1\" class=\"dataframe\">\n",
       "  <thead>\n",
       "    <tr style=\"text-align: right;\">\n",
       "      <th></th>\n",
       "      <th>index</th>\n",
       "      <th>sentence</th>\n",
       "    </tr>\n",
       "  </thead>\n",
       "  <tbody>\n",
       "    <tr>\n",
       "      <th>10</th>\n",
       "      <td>10</td>\n",
       "      <td>Pessimism and being too self-critical are two ...</td>\n",
       "    </tr>\n",
       "  </tbody>\n",
       "</table>\n",
       "</div>"
      ],
      "text/plain": [
       "    index                                           sentence\n",
       "10     10  Pessimism and being too self-critical are two ..."
      ]
     },
     "metadata": {},
     "output_type": "display_data"
    },
    {
     "data": {
      "text/plain": [
       "'Pessimism and being too self-critical are two faults you should try to improve upon.'"
      ]
     },
     "metadata": {},
     "output_type": "display_data"
    },
    {
     "name": "stdout",
     "output_type": "stream",
     "text": [
      "\n",
      "cluster: 48\n",
      "reliability score: 0.037037037037037035\n"
     ]
    },
    {
     "data": {
      "text/html": [
       "<div>\n",
       "<style scoped>\n",
       "    .dataframe tbody tr th:only-of-type {\n",
       "        vertical-align: middle;\n",
       "    }\n",
       "\n",
       "    .dataframe tbody tr th {\n",
       "        vertical-align: top;\n",
       "    }\n",
       "\n",
       "    .dataframe thead th {\n",
       "        text-align: right;\n",
       "    }\n",
       "</style>\n",
       "<table border=\"1\" class=\"dataframe\">\n",
       "  <thead>\n",
       "    <tr style=\"text-align: right;\">\n",
       "      <th></th>\n",
       "      <th>index</th>\n",
       "      <th>sentence</th>\n",
       "    </tr>\n",
       "  </thead>\n",
       "  <tbody>\n",
       "    <tr>\n",
       "      <th>44</th>\n",
       "      <td>44</td>\n",
       "      <td>you find security in all those memories.</td>\n",
       "    </tr>\n",
       "  </tbody>\n",
       "</table>\n",
       "</div>"
      ],
      "text/plain": [
       "    index                                  sentence\n",
       "44     44  you find security in all those memories."
      ]
     },
     "metadata": {},
     "output_type": "display_data"
    },
    {
     "data": {
      "text/plain": [
       "'you find security in all those memories.'"
      ]
     },
     "metadata": {},
     "output_type": "display_data"
    },
    {
     "name": "stdout",
     "output_type": "stream",
     "text": [
      "\n",
      "cluster: 39\n",
      "reliability score: 0.03571428571428571\n"
     ]
    },
    {
     "data": {
      "text/html": [
       "<div>\n",
       "<style scoped>\n",
       "    .dataframe tbody tr th:only-of-type {\n",
       "        vertical-align: middle;\n",
       "    }\n",
       "\n",
       "    .dataframe tbody tr th {\n",
       "        vertical-align: top;\n",
       "    }\n",
       "\n",
       "    .dataframe thead th {\n",
       "        text-align: right;\n",
       "    }\n",
       "</style>\n",
       "<table border=\"1\" class=\"dataframe\">\n",
       "  <thead>\n",
       "    <tr style=\"text-align: right;\">\n",
       "      <th></th>\n",
       "      <th>index</th>\n",
       "      <th>sentence</th>\n",
       "    </tr>\n",
       "  </thead>\n",
       "  <tbody>\n",
       "    <tr>\n",
       "      <th>52</th>\n",
       "      <td>52</td>\n",
       "      <td>You are clever, witty, and always have a joke ...</td>\n",
       "    </tr>\n",
       "  </tbody>\n",
       "</table>\n",
       "</div>"
      ],
      "text/plain": [
       "    index                                           sentence\n",
       "52     52  You are clever, witty, and always have a joke ..."
      ]
     },
     "metadata": {},
     "output_type": "display_data"
    },
    {
     "data": {
      "text/plain": [
       "'You are clever, witty, and always have a joke or comeback ready for any situation.'"
      ]
     },
     "metadata": {},
     "output_type": "display_data"
    },
    {
     "name": "stdout",
     "output_type": "stream",
     "text": [
      "\n",
      "cluster: 23\n",
      "reliability score: 0.03571428571428571\n"
     ]
    },
    {
     "data": {
      "text/html": [
       "<div>\n",
       "<style scoped>\n",
       "    .dataframe tbody tr th:only-of-type {\n",
       "        vertical-align: middle;\n",
       "    }\n",
       "\n",
       "    .dataframe tbody tr th {\n",
       "        vertical-align: top;\n",
       "    }\n",
       "\n",
       "    .dataframe thead th {\n",
       "        text-align: right;\n",
       "    }\n",
       "</style>\n",
       "<table border=\"1\" class=\"dataframe\">\n",
       "  <thead>\n",
       "    <tr style=\"text-align: right;\">\n",
       "      <th></th>\n",
       "      <th>index</th>\n",
       "      <th>sentence</th>\n",
       "    </tr>\n",
       "  </thead>\n",
       "  <tbody>\n",
       "    <tr>\n",
       "      <th>83</th>\n",
       "      <td>83</td>\n",
       "      <td>At times you can be lazy, hoping or expecting ...</td>\n",
       "    </tr>\n",
       "  </tbody>\n",
       "</table>\n",
       "</div>"
      ],
      "text/plain": [
       "    index                                           sentence\n",
       "83     83  At times you can be lazy, hoping or expecting ..."
      ]
     },
     "metadata": {},
     "output_type": "display_data"
    },
    {
     "data": {
      "text/plain": [
       "'At times you can be lazy, hoping or expecting someone else to do the dirty work.'"
      ]
     },
     "metadata": {},
     "output_type": "display_data"
    },
    {
     "name": "stdout",
     "output_type": "stream",
     "text": [
      "\n",
      "cluster: 44\n",
      "reliability score: 0.034482758620689655\n"
     ]
    },
    {
     "data": {
      "text/html": [
       "<div>\n",
       "<style scoped>\n",
       "    .dataframe tbody tr th:only-of-type {\n",
       "        vertical-align: middle;\n",
       "    }\n",
       "\n",
       "    .dataframe tbody tr th {\n",
       "        vertical-align: top;\n",
       "    }\n",
       "\n",
       "    .dataframe thead th {\n",
       "        text-align: right;\n",
       "    }\n",
       "</style>\n",
       "<table border=\"1\" class=\"dataframe\">\n",
       "  <thead>\n",
       "    <tr style=\"text-align: right;\">\n",
       "      <th></th>\n",
       "      <th>index</th>\n",
       "      <th>sentence</th>\n",
       "    </tr>\n",
       "  </thead>\n",
       "  <tbody>\n",
       "    <tr>\n",
       "      <th>57</th>\n",
       "      <td>57</td>\n",
       "      <td>concentration and disciplined study are not yo...</td>\n",
       "    </tr>\n",
       "  </tbody>\n",
       "</table>\n",
       "</div>"
      ],
      "text/plain": [
       "    index                                           sentence\n",
       "57     57  concentration and disciplined study are not yo..."
      ]
     },
     "metadata": {},
     "output_type": "display_data"
    },
    {
     "data": {
      "text/plain": [
       "'concentration and disciplined study are not your strong points.'"
      ]
     },
     "metadata": {},
     "output_type": "display_data"
    },
    {
     "name": "stdout",
     "output_type": "stream",
     "text": [
      "\n",
      "cluster: 61\n",
      "reliability score: 0.03125\n"
     ]
    },
    {
     "data": {
      "text/html": [
       "<div>\n",
       "<style scoped>\n",
       "    .dataframe tbody tr th:only-of-type {\n",
       "        vertical-align: middle;\n",
       "    }\n",
       "\n",
       "    .dataframe tbody tr th {\n",
       "        vertical-align: top;\n",
       "    }\n",
       "\n",
       "    .dataframe thead th {\n",
       "        text-align: right;\n",
       "    }\n",
       "</style>\n",
       "<table border=\"1\" class=\"dataframe\">\n",
       "  <thead>\n",
       "    <tr style=\"text-align: right;\">\n",
       "      <th></th>\n",
       "      <th>index</th>\n",
       "      <th>sentence</th>\n",
       "    </tr>\n",
       "  </thead>\n",
       "  <tbody>\n",
       "    <tr>\n",
       "      <th>23</th>\n",
       "      <td>23</td>\n",
       "      <td>You soak up feelings like a sponge.</td>\n",
       "    </tr>\n",
       "  </tbody>\n",
       "</table>\n",
       "</div>"
      ],
      "text/plain": [
       "    index                             sentence\n",
       "23     23  You soak up feelings like a sponge."
      ]
     },
     "metadata": {},
     "output_type": "display_data"
    },
    {
     "data": {
      "text/plain": [
       "'You soak up feelings like a sponge.'"
      ]
     },
     "metadata": {},
     "output_type": "display_data"
    },
    {
     "name": "stdout",
     "output_type": "stream",
     "text": [
      "\n",
      "cluster: 54\n",
      "reliability score: 0.029411764705882353\n"
     ]
    },
    {
     "data": {
      "text/html": [
       "<div>\n",
       "<style scoped>\n",
       "    .dataframe tbody tr th:only-of-type {\n",
       "        vertical-align: middle;\n",
       "    }\n",
       "\n",
       "    .dataframe tbody tr th {\n",
       "        vertical-align: top;\n",
       "    }\n",
       "\n",
       "    .dataframe thead th {\n",
       "        text-align: right;\n",
       "    }\n",
       "</style>\n",
       "<table border=\"1\" class=\"dataframe\">\n",
       "  <thead>\n",
       "    <tr style=\"text-align: right;\">\n",
       "      <th></th>\n",
       "      <th>index</th>\n",
       "      <th>sentence</th>\n",
       "    </tr>\n",
       "  </thead>\n",
       "  <tbody>\n",
       "    <tr>\n",
       "      <th>24</th>\n",
       "      <td>24</td>\n",
       "      <td>Perhaps this is why you so easily become moody...</td>\n",
       "    </tr>\n",
       "  </tbody>\n",
       "</table>\n",
       "</div>"
      ],
      "text/plain": [
       "    index                                           sentence\n",
       "24     24  Perhaps this is why you so easily become moody..."
      ]
     },
     "metadata": {},
     "output_type": "display_data"
    },
    {
     "data": {
      "text/plain": [
       "'Perhaps this is why you so easily become moody, irritable and inconstant in thought and feeling.'"
      ]
     },
     "metadata": {},
     "output_type": "display_data"
    },
    {
     "name": "stdout",
     "output_type": "stream",
     "text": [
      "\n",
      "cluster: 36\n",
      "reliability score: 0.02702702702702703\n"
     ]
    },
    {
     "data": {
      "text/html": [
       "<div>\n",
       "<style scoped>\n",
       "    .dataframe tbody tr th:only-of-type {\n",
       "        vertical-align: middle;\n",
       "    }\n",
       "\n",
       "    .dataframe tbody tr th {\n",
       "        vertical-align: top;\n",
       "    }\n",
       "\n",
       "    .dataframe thead th {\n",
       "        text-align: right;\n",
       "    }\n",
       "</style>\n",
       "<table border=\"1\" class=\"dataframe\">\n",
       "  <thead>\n",
       "    <tr style=\"text-align: right;\">\n",
       "      <th></th>\n",
       "      <th>index</th>\n",
       "      <th>sentence</th>\n",
       "    </tr>\n",
       "  </thead>\n",
       "  <tbody>\n",
       "    <tr>\n",
       "      <th>82</th>\n",
       "      <td>82</td>\n",
       "      <td>you hate getting your hands dirty.</td>\n",
       "    </tr>\n",
       "  </tbody>\n",
       "</table>\n",
       "</div>"
      ],
      "text/plain": [
       "    index                            sentence\n",
       "82     82  you hate getting your hands dirty."
      ]
     },
     "metadata": {},
     "output_type": "display_data"
    },
    {
     "data": {
      "text/plain": [
       "'you hate getting your hands dirty.'"
      ]
     },
     "metadata": {},
     "output_type": "display_data"
    },
    {
     "name": "stdout",
     "output_type": "stream",
     "text": [
      "\n",
      "cluster: 13\n",
      "reliability score: 0.022727272727272728\n"
     ]
    },
    {
     "data": {
      "text/html": [
       "<div>\n",
       "<style scoped>\n",
       "    .dataframe tbody tr th:only-of-type {\n",
       "        vertical-align: middle;\n",
       "    }\n",
       "\n",
       "    .dataframe tbody tr th {\n",
       "        vertical-align: top;\n",
       "    }\n",
       "\n",
       "    .dataframe thead th {\n",
       "        text-align: right;\n",
       "    }\n",
       "</style>\n",
       "<table border=\"1\" class=\"dataframe\">\n",
       "  <thead>\n",
       "    <tr style=\"text-align: right;\">\n",
       "      <th></th>\n",
       "      <th>index</th>\n",
       "      <th>sentence</th>\n",
       "    </tr>\n",
       "  </thead>\n",
       "  <tbody>\n",
       "    <tr>\n",
       "      <th>77</th>\n",
       "      <td>77</td>\n",
       "      <td>You enjoy indulging yourself.</td>\n",
       "    </tr>\n",
       "  </tbody>\n",
       "</table>\n",
       "</div>"
      ],
      "text/plain": [
       "    index                       sentence\n",
       "77     77  You enjoy indulging yourself."
      ]
     },
     "metadata": {},
     "output_type": "display_data"
    },
    {
     "data": {
      "text/plain": [
       "'You enjoy indulging yourself.'"
      ]
     },
     "metadata": {},
     "output_type": "display_data"
    },
    {
     "name": "stdout",
     "output_type": "stream",
     "text": [
      "\n",
      "cluster: 31\n",
      "reliability score: 0.012987012987012988\n"
     ]
    },
    {
     "data": {
      "text/html": [
       "<div>\n",
       "<style scoped>\n",
       "    .dataframe tbody tr th:only-of-type {\n",
       "        vertical-align: middle;\n",
       "    }\n",
       "\n",
       "    .dataframe tbody tr th {\n",
       "        vertical-align: top;\n",
       "    }\n",
       "\n",
       "    .dataframe thead th {\n",
       "        text-align: right;\n",
       "    }\n",
       "</style>\n",
       "<table border=\"1\" class=\"dataframe\">\n",
       "  <thead>\n",
       "    <tr style=\"text-align: right;\">\n",
       "      <th></th>\n",
       "      <th>index</th>\n",
       "      <th>sentence</th>\n",
       "    </tr>\n",
       "  </thead>\n",
       "  <tbody>\n",
       "    <tr>\n",
       "      <th>45</th>\n",
       "      <td>45</td>\n",
       "      <td>Nothing or no one is ever gone if they leave t...</td>\n",
       "    </tr>\n",
       "  </tbody>\n",
       "</table>\n",
       "</div>"
      ],
      "text/plain": [
       "    index                                           sentence\n",
       "45     45  Nothing or no one is ever gone if they leave t..."
      ]
     },
     "metadata": {},
     "output_type": "display_data"
    },
    {
     "data": {
      "text/plain": [
       "'Nothing or no one is ever gone if they leave their memory behind.'"
      ]
     },
     "metadata": {},
     "output_type": "display_data"
    },
    {
     "name": "stdout",
     "output_type": "stream",
     "text": [
      "\n"
     ]
    }
   ],
   "source": [
    "# print out clusters and most salient sentences for each cluster, in descending order of \"reliability\". \n",
    "for score, idx in sorted(scores, reverse=True):\n",
    "    print(f\"cluster: {idx}\")\n",
    "    print(f\"reliability score: {score}\")\n",
    "    display(sents_df.iloc[clusters_dict[str(idx)]])\n",
    "    intraclust, sorted_clust = intra_clust_dis_mat(clusters_dict[str(idx)], dist_mat)\n",
    "    display(sents_df.iloc[choose_salient(intraclust, sorted_clust)]['sentence'])\n",
    "    print()"
   ]
  },
  {
   "cell_type": "code",
   "execution_count": 174,
   "metadata": {},
   "outputs": [],
   "source": [
    "def summarize(clusters, intercluster, sent_df, intersentence, coherence_threshold=0.6, redundancy_threshold=0.1):\n",
    "    \"\"\"\n",
    "    :param clusters: dict of clusters of the form {str(cluster_num): list(sentence_indices)}.\n",
    "    :param intercluster: numpy.ndarray of inter-cluster distances in pairwise matrix form.\n",
    "    :param sent_df: Pandas DataFrame of indexed sentences.\n",
    "    :param intersentence: numpy.ndarray of inter-sentence distances in pairwise matrix form.\n",
    "    :param coherence_threshold: maximum distance allowed for a sentence pair within the summary. valid values between 0-1.\n",
    "    :param redundancy_threshold: lowest distance allowed for a sentence pair within the summary. valid values between 0-1.\n",
    "    \n",
    "    We need a redundancy_threshold because the clustering algorithm does not always manage to group \n",
    "    redundant sentences together?\n",
    "    \"\"\"\n",
    "    if coherence_threshold <= redundancy_threshold:\n",
    "        raise Exception(\"coherence_threshold <= redundancy_threshold.\")\n",
    "    \n",
    "    #sorted_clusters = sorted(clusters.items(), key=lambda x: len(x[1]), reverse=True)  # iterable of pairs.\n",
    "    scores = rank_by_reliability(clusters, intercluster, contra_threshold=0.6) # each element is (score, cluster_index)\n",
    "    sorted_clusters = sorted(scores, reverse=True)\n",
    "    tmp = np.asarray([scores for scores, idx in sorted_clusters])\n",
    "    \n",
    "    reliable_threshold = 0.6  # a reliability score above this is deemed reliable.\n",
    "    reliable_index = max(np.argwhere(tmp > reliable_threshold))[0]  # an index into sorted_clusters.\n",
    "    reliable_clusters = sorted_clusters[:reliable_index+1]\n",
    "\n",
    "    unreliable_threshold = 0.4  # a reliability score below this is deemed unreliable.\n",
    "    unreliable_index = min(np.argwhere(tmp < unreliable_threshold))[0]  # an index into sorted_clusters.\n",
    "    unreliable_clusters = sorted_clusters[unreliable_index+1:]\n",
    "    \n",
    "    contested_clusters = sorted_clusters[reliable_index+1: unreliable_index]\n",
    "    \n",
    "    def create_coherent_summary(ordered_clusters):\n",
    "        # this summary does not contain contradictions within itself.\n",
    "        summary = list()\n",
    "        for score, cluster_idx in ordered_clusters:\n",
    "            intraclust, sorted_cluster = intra_clust_dis_mat(clusters[str(cluster_idx)], intersentence)\n",
    "            salient_idx = choose_salient(intraclust, sorted_cluster)\n",
    "            salient_sent = sents_df.iloc[salient_idx]['sentence']\n",
    "            max_dist = 0\n",
    "            min_dist = 1\n",
    "            for sent_idx in summary:\n",
    "                dist = intersentence[sent_idx][salient_idx]\n",
    "                if dist > max_dist:\n",
    "                    max_dist = dist\n",
    "                if dist < min_dist:\n",
    "                    min_dist = dist\n",
    "            if max_dist < coherence_threshold and min_dist > redundancy_threshold:\n",
    "                summary.append(salient_idx)\n",
    "        return summary\n",
    "    \n",
    "    def create_free_summary(ordered_clusters):\n",
    "        # this summary is just formed from the most salient sentence of ea cluster. no regards to whether\n",
    "        # appending the next sentence would cause the summary to be self-contradicted.\n",
    "        summary = list()\n",
    "        for score, cluster_idx in ordered_clusters:\n",
    "            intraclust, sorted_cluster = intra_clust_dis_mat(clusters[str(cluster_idx)], intersentence)\n",
    "            salient_idx = choose_salient(intraclust, sorted_cluster)\n",
    "            summary.append(salient_idx)\n",
    "        return summary\n",
    "    \n",
    "    reliable_summary = create_coherent_summary(reliable_clusters)\n",
    "    contested_summary = create_free_summary(contested_clusters)\n",
    "    unreliable_summary = create_free_summary(unreliable_clusters)\n",
    "    \n",
    "    return reliable_summary, contested_summary, unreliable_summary"
   ]
  },
  {
   "cell_type": "code",
   "execution_count": 175,
   "metadata": {},
   "outputs": [
    {
     "name": "stdout",
     "output_type": "stream",
     "text": [
      "4\n",
      "6\n",
      "53\n"
     ]
    }
   ],
   "source": [
    "summaries = summarize(clusters_dict, intercluster_dists, sents_df, dist_mat)\n",
    "print(len(summaries[0]))\n",
    "print(len(summaries[1]))\n",
    "print(len(summaries[2]))"
   ]
  },
  {
   "cell_type": "code",
   "execution_count": 183,
   "metadata": {},
   "outputs": [
    {
     "name": "stdout",
     "output_type": "stream",
     "text": [
      "most unreliable sentences:\n",
      "Nothing or no one is ever gone if they leave their memory behind.\n",
      "You enjoy indulging yourself.\n",
      "you hate getting your hands dirty.\n",
      "Perhaps this is why you so easily become moody, irritable and inconstant in thought and feeling.\n",
      "You soak up feelings like a sponge.\n"
     ]
    }
   ],
   "source": [
    "def prune(summary, sent_limit):\n",
    "    i = 0\n",
    "    while i < sent_limit and i < len(summary):\n",
    "        sent_idx = summary[len(summary)-1-i]\n",
    "        print(sents_df.iloc[sent_idx]['sentence'])\n",
    "        i = i + 1\n",
    "\n",
    "print(\"most unreliable sentences:\")\n",
    "prune(summaries[2], sent_limit=5)"
   ]
  },
  {
   "cell_type": "code",
   "execution_count": 176,
   "metadata": {},
   "outputs": [
    {
     "data": {
      "text/plain": [
       "[<matplotlib.lines.Line2D at 0x1b329a46b70>]"
      ]
     },
     "execution_count": 176,
     "metadata": {},
     "output_type": "execute_result"
    },
    {
     "data": {
      "image/png": "[encoded data removed]",
      "text/plain": [
       "<Figure size 1440x720 with 1 Axes>"
      ]
     },
     "metadata": {},
     "output_type": "display_data"
    }
   ],
   "source": [
    "scores = rank_by_reliability(clusters_dict, intercluster_dists, contra_threshold=0.6)\n",
    "sorted_clusters = sorted(scores, reverse=True)  # each element is (score, cluster_index)\n",
    "scores_only = [score for score, _ in sorted_clusters]\n",
    "import matplotlib.pyplot as plt\n",
    "plt.plot(scores_only)"
   ]
  },
  {
   "cell_type": "code",
   "execution_count": null,
   "metadata": {},
   "outputs": [],
   "source": []
  },
  {
   "cell_type": "markdown",
   "metadata": {},
   "source": [
    "## Previous Single Summary Algo."
   ]
  },
  {
   "cell_type": "code",
   "execution_count": null,
   "metadata": {},
   "outputs": [],
   "source": [
    "from nltk.tokenize import RegexpTokenizer\n",
    "\n",
    "def choose_longest(sentences):\n",
    "    tokenizer = RegexpTokenizer(r'\\w+')\n",
    "    max_len = 0\n",
    "    final_sent = None\n",
    "    for sent in sentences:\n",
    "        tokens = tokenizer.tokenize(sent)\n",
    "        if len(tokens) > max_len:\n",
    "            max_len = len(sent)\n",
    "            final_sent = sent\n",
    "    return final_sent\n",
    "\n",
    "from lexrank import LexRank\n",
    "from lexrank.mappings.stopwords import STOPWORDS\n",
    "def choose_salient(sentences):\n",
    "    \"\"\"\n",
    "    \n",
    "    \"\"\"\n",
    "    lxr = LexRank(sentences, stopwords=STOPWORDS['en'])\n",
    "    top_sentence = lxr.get_summary(sentences[0], summary_size=1, threshold=.1)\n",
    "    return top_sentence[0]\n",
    "    \n",
    "\n",
    "def summarize(clusters, intersentence, sent_df, word_limit=90, coherence_threshold=0.6, redundancy_threshold=0.3):\n",
    "    \"\"\"\n",
    "    :param clusters: dict of clusters of the form {str(cluster_num): list(sentence_indices)}.\n",
    "    :param intersentence: Pandas DataFrame of precomputed inter-sentence distance in pairwise matrix form.\n",
    "    :param sent_df: Pandas DataFrame of indexed sentences.\n",
    "    :param word_limit: maximum num of words for summary.\n",
    "    :param coherence_threshold: maximum distance allowed for a sentence pair within the summary. valid values between 0-1.\n",
    "    :param redundancy_threshold: minimum distance allowed for a sentence pair within the summary. valid values between 0-1.\n",
    "    \n",
    "    We need a redundancy_threshold because the clustering algorithm does not always manage to group \n",
    "    redundant sentences together?\n",
    "    \"\"\"\n",
    "    if coherence_threshold <= redundancy_threshold:\n",
    "        raise Exception\n",
    "    \n",
    "    tokenizer = RegexpTokenizer(r'\\w+') # tokenize into word-like tokens.\n",
    "    summary = list()\n",
    "    word_count = 0\n",
    "    \n",
    "    sorted_clusters = sorted(clusters.items(), key=lambda x: len(x[1]), reverse=True)  # iterable of pairs.\n",
    "    \n",
    "    for key, clust in sorted_clusters:\n",
    "        sentences = [sent_df.iloc[idx]['sentence'] for idx in clust]\n",
    "        #selected = choose_longest(clust)\n",
    "        selected = choose_salient([sentences])\n",
    "        selected_idx = sent_df[sent_df.sentence == selected].index[0]\n",
    "        tokens = tokenizer.tokenize(selected)\n",
    "        if word_count + len(tokens) < word_limit:\n",
    "            max_dist = 0\n",
    "            min_dist = 1\n",
    "            for sent_idx in summary:\n",
    "                dist = intersentence.iloc[sent_idx][selected_idx]\n",
    "                if dist > max_dist:\n",
    "                    max_dist = dist\n",
    "                if dist < min_dist:\n",
    "                    min_dist = dist\n",
    "            if max_dist < coherence_threshold and min_dist > redundancy_threshold:\n",
    "                summary.append(selected_idx)\n",
    "                word_count = word_count + len(tokens)\n",
    "        else:\n",
    "            break\n",
    "    return summary"
   ]
  },
  {
   "cell_type": "code",
   "execution_count": null,
   "metadata": {},
   "outputs": [],
   "source": [
    "# test lexrank algorithm.\n",
    "sentences = [sents_df.iloc[idx]['sentence'] for idx in clusters_dict['0']]\n",
    "display(sentences)\n",
    "choose_salient([sentences])"
   ]
  },
  {
   "cell_type": "code",
   "execution_count": null,
   "metadata": {},
   "outputs": [],
   "source": [
    "# todo: think of statistical way to determine the coherence_threshold and redundancy_threshold.\n",
    "summary = summarize(clusters_dict, intersentence, sents_df, word_limit=90, coherence_threshold=0.6, redundancy_threshold=0.35)\n",
    "print(\"no. of sentences in summary: \", len(summary))\n",
    "print(\"no. of sentences in source: \", len(intersentence.index.values))\n",
    "print()\n",
    "for sent_idx in summary:\n",
    "    print(f\"{sent_idx}: {sents_df.iloc[sent_idx]['sentence']}\")\n",
    "print()\n",
    "for sent_idx in sorted(summary):\n",
    "    print(f\"{sent_idx}: {sents_df.iloc[sent_idx]['sentence']}\")"
   ]
  },
  {
   "cell_type": "markdown",
   "metadata": {},
   "source": [
    "## Multiple Summaries (deprecated)"
   ]
  },
  {
   "cell_type": "code",
   "execution_count": null,
   "metadata": {},
   "outputs": [],
   "source": [
    "def multi_summary(clusters, intercluster_dists, sent_df, word_limit=100, contradiction_threshold=0.6):\n",
    "    \"\"\"\n",
    "    :param clusters: dict of clusters of the form {str(cluster_index): list(sentence_indices)}.\n",
    "    :param intercluster_dists: square numpy.ndarray representing distances between each cluster.\n",
    "    :param sent_df: Pandas DataFrame of indexed sentences.\n",
    "    :param word_limit: maximum num of words for summary.\n",
    "    :param contradiction_threshold: float value between 0 and 1, representing the value after which\n",
    "    sentence pairs will be considered contradictory.\n",
    "    \"\"\"\n",
    "    # find top/representative sentence of each cluster.\n",
    "    top_sentences = dict()\n",
    "    for clust_idx, clust in clusters.items():\n",
    "        sentences = [sent_df.iloc[idx]['sentence'] for idx in clust]\n",
    "        selected = choose_salient([sentences])\n",
    "        selected_idx = sent_df[sent_df.sentence == selected].index[0]\n",
    "        top_sentences[int(clust_idx)] = selected_idx  # typecasted to int because json dicts saved integer keys into str keys.\n",
    "    \n",
    "    # find clusters that are not contradictory w ALL other clusters.\n",
    "    base_clusters = list()\n",
    "    contradicted_pairs = list()\n",
    "    contradicted_set= set()\n",
    "    for i in range(len(intercluster_dists)):\n",
    "        for j in range(i+1,len(intercluster_dists)):\n",
    "            if intercluster_dists[i][j] > contradiction_threshold:\n",
    "                contradicted_pairs.append((i,j))\n",
    "                contradicted_set.add(i)\n",
    "                contradicted_set.add(j)\n",
    "        if i not in contradicted_set:\n",
    "            base_clusters.append(i)\n",
    "    \n",
    "    # construct base summary\n",
    "    base_summary = list()\n",
    "    word_count = 0\n",
    "    tokenizer = RegexpTokenizer(r'\\w+') # tokenize into word-like tokens.\n",
    "    sorted_clusters = sorted(clusters.items(), key=lambda x: len(x[1]), reverse=True)  # iterable of pairs.\n",
    "    for clust_idx, clust in sorted_clusters:\n",
    "        if int(clust_idx) in base_clusters:\n",
    "            selected_idx = top_sentences[int(clust_idx)]\n",
    "            selected = sent_df.iloc[selected_idx]['sentence']\n",
    "            tokens = tokenizer.tokenize(selected)\n",
    "            if word_count + len(tokens) < word_limit:\n",
    "                base_summary.append(selected_idx)\n",
    "                word_count = word_count + len(tokens)\n",
    "            else:\n",
    "                break\n",
    "    \n",
    "    # construct summaries w contentious information.\n",
    "    all_summaries = list()\n",
    "    added_sentences = set()\n",
    "    for clust1, clust2 in contradicted_pairs:\n",
    "        sent1 =  top_sentences[clust1]\n",
    "        sent2 =  top_sentences[clust2]\n",
    "        \n",
    "        if sent1 not in added_sentences:\n",
    "            all_summaries.append(base_summary + [sent1])\n",
    "            added_sentences.add(sent1)\n",
    "        if sent2 not in added_sentences:\n",
    "            all_summaries.append(base_summary + [sent2])\n",
    "            added_sentences.add(sent2)\n",
    "    print(base_summary)\n",
    "    return all_summaries, base_summary"
   ]
  },
  {
   "cell_type": "code",
   "execution_count": null,
   "metadata": {
    "scrolled": true
   },
   "outputs": [],
   "source": [
    "from IPython.display import Markdown\n",
    "all_summaries, base_summary = multi_summary(clusters_dict, intercluster_dists, sents_df, word_limit=90, contradiction_threshold=0.6)\n",
    "\n",
    "print(f\"total no. of summaries = {len(all_summaries)}\")\n",
    "print()\n",
    "\n",
    "for summary in all_summaries:\n",
    "    print(\"no. of sentences in summary: \", len(summary))\n",
    "    print(\"no. of sentences in source: \", len(intersentence.index.values))\n",
    "    print()\n",
    "    for sent_idx in sorted(summary):\n",
    "        if sent_idx in base_summary:\n",
    "            display(Markdown(f\"**{sent_idx}: {sents_df.iloc[sent_idx]['sentence']}**\"))\n",
    "        else:\n",
    "            display(Markdown(f\"{sent_idx}: {sents_df.iloc[sent_idx]['sentence']}\"))\n",
    "    print()"
   ]
  }
 ],
 "metadata": {
  "kernelspec": {
   "display_name": "FYP",
   "language": "python",
   "name": "fyp"
  },
  "language_info": {
   "codemirror_mode": {
    "name": "ipython",
    "version": 3
   },
   "file_extension": ".py",
   "mimetype": "text/x-python",
   "name": "python",
   "nbconvert_exporter": "python",
   "pygments_lexer": "ipython3",
   "version": "3.7.3"
  }
 },
 "nbformat": 4,
 "nbformat_minor": 4
}
