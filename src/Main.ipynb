{
 "cells": [
  {
   "cell_type": "markdown",
   "metadata": {},
   "source": [
    "# Main notebook to process indexed datasets into summaries."
   ]
  },
  {
   "cell_type": "markdown",
   "metadata": {},
   "source": [
    "## Generate sentence pairs"
   ]
  },
  {
   "cell_type": "code",
   "execution_count": 187,
   "metadata": {},
   "outputs": [],
   "source": [
    "import itertools\n",
    "import json\n",
    "import nltk\n",
    "import pandas as pd"
   ]
  },
  {
   "cell_type": "code",
   "execution_count": 22,
   "metadata": {},
   "outputs": [
    {
     "name": "stdin",
     "output_type": "stream",
     "text": [
      "enter path to base directory to save outputs to:\n",
      " ../data/test6.2\n"
     ]
    }
   ],
   "source": [
    "save_dir = input(\"enter path to base directory to save outputs to:\\n\")"
   ]
  },
  {
   "cell_type": "code",
   "execution_count": 381,
   "metadata": {},
   "outputs": [
    {
     "name": "stdin",
     "output_type": "stream",
     "text": [
      "enter path to indexed dataset:\n",
      " ../data/tmp/TrumpBiden2.csv\n"
     ]
    },
    {
     "data": {
      "text/html": [
       "<div>\n",
       "<style scoped>\n",
       "    .dataframe tbody tr th:only-of-type {\n",
       "        vertical-align: middle;\n",
       "    }\n",
       "\n",
       "    .dataframe tbody tr th {\n",
       "        vertical-align: top;\n",
       "    }\n",
       "\n",
       "    .dataframe thead th {\n",
       "        text-align: right;\n",
       "    }\n",
       "</style>\n",
       "<table border=\"1\" class=\"dataframe\">\n",
       "  <thead>\n",
       "    <tr style=\"text-align: right;\">\n",
       "      <th></th>\n",
       "      <th>index</th>\n",
       "      <th>sentence</th>\n",
       "    </tr>\n",
       "  </thead>\n",
       "  <tbody>\n",
       "    <tr>\n",
       "      <th>0</th>\n",
       "      <td>0</td>\n",
       "      <td>Trump is going to make America great again.</td>\n",
       "    </tr>\n",
       "    <tr>\n",
       "      <th>1</th>\n",
       "      <td>1</td>\n",
       "      <td>Trump is ruining America.</td>\n",
       "    </tr>\n",
       "    <tr>\n",
       "      <th>2</th>\n",
       "      <td>2</td>\n",
       "      <td>President Donald Trump is the greatest president.</td>\n",
       "    </tr>\n",
       "    <tr>\n",
       "      <th>3</th>\n",
       "      <td>3</td>\n",
       "      <td>Experts have condemned Trump for irresponsible...</td>\n",
       "    </tr>\n",
       "    <tr>\n",
       "      <th>4</th>\n",
       "      <td>4</td>\n",
       "      <td>Joe Biden is leading in the preliminary polls.</td>\n",
       "    </tr>\n",
       "  </tbody>\n",
       "</table>\n",
       "</div>"
      ],
      "text/plain": [
       "   index                                           sentence\n",
       "0      0        Trump is going to make America great again.\n",
       "1      1                          Trump is ruining America.\n",
       "2      2  President Donald Trump is the greatest president.\n",
       "3      3  Experts have condemned Trump for irresponsible...\n",
       "4      4     Joe Biden is leading in the preliminary polls."
      ]
     },
     "execution_count": 381,
     "metadata": {},
     "output_type": "execute_result"
    }
   ],
   "source": [
    "input_path = input(\"enter path to indexed dataset:\\n\")  # default encoding is utf-8\n",
    "with open(input_path) as f:\n",
    "    sents_df = pd.read_csv(f, delimiter=',')\n",
    "sents_df.head()"
   ]
  },
  {
   "cell_type": "code",
   "execution_count": 382,
   "metadata": {},
   "outputs": [
    {
     "name": "stdout",
     "output_type": "stream",
     "text": [
      "no. of sentences:  35\n",
      "no. of sentence pairs:  595 \n",
      "\n"
     ]
    }
   ],
   "source": [
    "indices = list(sents_df.index)\n",
    "\n",
    "# generate all pairs in the set of sentences.\n",
    "indices_list = list(itertools.combinations(indices, 2))\n",
    "print('no. of sentences: ', len(indices))\n",
    "print('no. of sentence pairs: ', len(indices_list), '\\n')"
   ]
  },
  {
   "cell_type": "code",
   "execution_count": 383,
   "metadata": {},
   "outputs": [
    {
     "data": {
      "text/html": [
       "<div>\n",
       "<style scoped>\n",
       "    .dataframe tbody tr th:only-of-type {\n",
       "        vertical-align: middle;\n",
       "    }\n",
       "\n",
       "    .dataframe tbody tr th {\n",
       "        vertical-align: top;\n",
       "    }\n",
       "\n",
       "    .dataframe thead th {\n",
       "        text-align: right;\n",
       "    }\n",
       "</style>\n",
       "<table border=\"1\" class=\"dataframe\">\n",
       "  <thead>\n",
       "    <tr style=\"text-align: right;\">\n",
       "      <th></th>\n",
       "      <th>first_index</th>\n",
       "      <th>second_index</th>\n",
       "      <th>first</th>\n",
       "      <th>second</th>\n",
       "    </tr>\n",
       "  </thead>\n",
       "  <tbody>\n",
       "    <tr>\n",
       "      <th>0</th>\n",
       "      <td>0</td>\n",
       "      <td>1</td>\n",
       "      <td>Trump is going to make America great again.</td>\n",
       "      <td>Trump is ruining America.</td>\n",
       "    </tr>\n",
       "    <tr>\n",
       "      <th>1</th>\n",
       "      <td>0</td>\n",
       "      <td>2</td>\n",
       "      <td>Trump is going to make America great again.</td>\n",
       "      <td>President Donald Trump is the greatest president.</td>\n",
       "    </tr>\n",
       "    <tr>\n",
       "      <th>2</th>\n",
       "      <td>0</td>\n",
       "      <td>3</td>\n",
       "      <td>Trump is going to make America great again.</td>\n",
       "      <td>Experts have condemned Trump for irresponsible...</td>\n",
       "    </tr>\n",
       "    <tr>\n",
       "      <th>3</th>\n",
       "      <td>0</td>\n",
       "      <td>4</td>\n",
       "      <td>Trump is going to make America great again.</td>\n",
       "      <td>Joe Biden is leading in the preliminary polls.</td>\n",
       "    </tr>\n",
       "    <tr>\n",
       "      <th>4</th>\n",
       "      <td>0</td>\n",
       "      <td>5</td>\n",
       "      <td>Trump is going to make America great again.</td>\n",
       "      <td>Trump's erratic behaviour ignores worsening pa...</td>\n",
       "    </tr>\n",
       "    <tr>\n",
       "      <th>...</th>\n",
       "      <td>...</td>\n",
       "      <td>...</td>\n",
       "      <td>...</td>\n",
       "      <td>...</td>\n",
       "    </tr>\n",
       "    <tr>\n",
       "      <th>590</th>\n",
       "      <td>31</td>\n",
       "      <td>33</td>\n",
       "      <td>Biden was so easy-going and relaxed.</td>\n",
       "      <td>Joe Biden's remarks were racist and dehumanizing.</td>\n",
       "    </tr>\n",
       "    <tr>\n",
       "      <th>591</th>\n",
       "      <td>31</td>\n",
       "      <td>34</td>\n",
       "      <td>Biden was so easy-going and relaxed.</td>\n",
       "      <td>In most ways, Biden is the worst candidate for...</td>\n",
       "    </tr>\n",
       "    <tr>\n",
       "      <th>592</th>\n",
       "      <td>32</td>\n",
       "      <td>33</td>\n",
       "      <td>Biden's remarks were clumsy and off-putting bu...</td>\n",
       "      <td>Joe Biden's remarks were racist and dehumanizing.</td>\n",
       "    </tr>\n",
       "    <tr>\n",
       "      <th>593</th>\n",
       "      <td>32</td>\n",
       "      <td>34</td>\n",
       "      <td>Biden's remarks were clumsy and off-putting bu...</td>\n",
       "      <td>In most ways, Biden is the worst candidate for...</td>\n",
       "    </tr>\n",
       "    <tr>\n",
       "      <th>594</th>\n",
       "      <td>33</td>\n",
       "      <td>34</td>\n",
       "      <td>Joe Biden's remarks were racist and dehumanizing.</td>\n",
       "      <td>In most ways, Biden is the worst candidate for...</td>\n",
       "    </tr>\n",
       "  </tbody>\n",
       "</table>\n",
       "<p>595 rows × 4 columns</p>\n",
       "</div>"
      ],
      "text/plain": [
       "     first_index  second_index  \\\n",
       "0              0             1   \n",
       "1              0             2   \n",
       "2              0             3   \n",
       "3              0             4   \n",
       "4              0             5   \n",
       "..           ...           ...   \n",
       "590           31            33   \n",
       "591           31            34   \n",
       "592           32            33   \n",
       "593           32            34   \n",
       "594           33            34   \n",
       "\n",
       "                                                 first  \\\n",
       "0          Trump is going to make America great again.   \n",
       "1          Trump is going to make America great again.   \n",
       "2          Trump is going to make America great again.   \n",
       "3          Trump is going to make America great again.   \n",
       "4          Trump is going to make America great again.   \n",
       "..                                                 ...   \n",
       "590               Biden was so easy-going and relaxed.   \n",
       "591               Biden was so easy-going and relaxed.   \n",
       "592  Biden's remarks were clumsy and off-putting bu...   \n",
       "593  Biden's remarks were clumsy and off-putting bu...   \n",
       "594  Joe Biden's remarks were racist and dehumanizing.   \n",
       "\n",
       "                                                second  \n",
       "0                            Trump is ruining America.  \n",
       "1    President Donald Trump is the greatest president.  \n",
       "2    Experts have condemned Trump for irresponsible...  \n",
       "3       Joe Biden is leading in the preliminary polls.  \n",
       "4    Trump's erratic behaviour ignores worsening pa...  \n",
       "..                                                 ...  \n",
       "590  Joe Biden's remarks were racist and dehumanizing.  \n",
       "591  In most ways, Biden is the worst candidate for...  \n",
       "592  Joe Biden's remarks were racist and dehumanizing.  \n",
       "593  In most ways, Biden is the worst candidate for...  \n",
       "594  In most ways, Biden is the worst candidate for...  \n",
       "\n",
       "[595 rows x 4 columns]"
      ]
     },
     "metadata": {},
     "output_type": "display_data"
    }
   ],
   "source": [
    "# generate all sentence pairs and save into a csv for manual labelling.\n",
    "data = []\n",
    "for pair in indices_list:\n",
    "    data.append([pair[0], pair[1], sents_df.iloc[pair[0]]['sentence'], sents_df.iloc[pair[1]]['sentence']])\n",
    "\n",
    "df = pd.DataFrame(data=data, columns=['first_index', 'second_index', 'first', 'second'])\n",
    "display(df)"
   ]
  },
  {
   "cell_type": "code",
   "execution_count": 384,
   "metadata": {},
   "outputs": [
    {
     "name": "stdin",
     "output_type": "stream",
     "text": [
      "save indexed paired dataset? (y/n):\n",
      " y\n"
     ]
    }
   ],
   "source": [
    "is_save = input('save indexed paired dataset? (y/n):\\n')\n",
    "if is_save.lower() == 'y':\n",
    "    df.to_csv(save_dir + '/' + 'paired_sentences.csv')\n",
    "else:\n",
    "    print('not saving indexed paired dataset.')"
   ]
  },
  {
   "cell_type": "markdown",
   "metadata": {},
   "source": [
    "## Perform inferences of distances between sentences in a sentence pair"
   ]
  },
  {
   "cell_type": "code",
   "execution_count": 367,
   "metadata": {},
   "outputs": [],
   "source": [
    "import torch\n",
    "from fairseq.data.data_utils import collate_tokens\n",
    "from math import exp\n",
    "import numpy as np\n",
    "\n",
    "class RobertaMNLI:\n",
    "    # todo: create similar wrapper classes for other NLI engines.\n",
    "    # todo: create a wrapper superclass and subclass from there.\n",
    "    \n",
    "    def __init__(self, rel_path):\n",
    "        \"\"\"\n",
    "        :param rel_path: relative path to pytorch hub directory.\n",
    "        \"\"\"\n",
    "        self.output_map = {\n",
    "            0: 'contradiction',\n",
    "            1: 'neutral',\n",
    "            2: 'entailment'\n",
    "        }\n",
    "        \n",
    "        torch.hub.set_dir(rel_path)\n",
    "        self.roberta = torch.hub.load('pytorch/fairseq', 'roberta.large.mnli')  # works\n",
    "        self.roberta.cuda()\n",
    "        self.roberta.eval()\n",
    "        \n",
    "    def predict_one(self, S1, S2, return_probs=False):\n",
    "        batch = collate_tokens(\n",
    "            [self.roberta.encode(S1, S2)], pad_idx=1\n",
    "        )\n",
    "        logprobs = self.roberta.predict('mnli', batch)\n",
    "        classes_tsr = logprobs.argmax(dim=1)\n",
    "        classes = classes_tsr.tolist()  \n",
    "        \n",
    "        if return_probs == True:\n",
    "            logprobs_list=[logprob.item() for logprob in logprobs[0]]\n",
    "            prob_list =  [pow(exp(1), logprob) for logprob in logprobs_list]\n",
    "            return prob_list\n",
    "        else:\n",
    "            return classes[0]  # 0 is contradiction, 1 is neutral, 2 is entailment."
   ]
  },
  {
   "cell_type": "code",
   "execution_count": 11,
   "metadata": {},
   "outputs": [
    {
     "name": "stderr",
     "output_type": "stream",
     "text": [
      "Using cache found in ../../roberta/hub\\pytorch_fairseq_master\n"
     ]
    }
   ],
   "source": [
    "predictor = RobertaMNLI(rel_path=\"../../roberta/hub\")"
   ]
  },
  {
   "cell_type": "code",
   "execution_count": 385,
   "metadata": {},
   "outputs": [],
   "source": [
    "results = list()\n",
    "for i in range(len(df)):\n",
    "    s1 = df.iloc[i]['first']\n",
    "    s2 = df.iloc[i]['second']\n",
    "    CNE1 = predictor.predict_one(s1, s2, return_probs=True)\n",
    "    CNE2 = predictor.predict_one(s2, s1, return_probs=True)\n",
    "    row = CNE1+ CNE2\n",
    "    results.append(row)\n",
    "\n",
    "scores_df = pd.DataFrame(data=results, columns=['C1', 'N1', 'E1', 'C2', 'N2', 'E2'])"
   ]
  },
  {
   "cell_type": "code",
   "execution_count": 386,
   "metadata": {},
   "outputs": [],
   "source": [
    "def gen_dist2(row):\n",
    "    '''\n",
    "    Generate distance score based on Contradiction, Entailment and Neutrality probabilities for both directions.\n",
    "    Assumes that C+E+N=1.\n",
    "    '''    \n",
    "    max1 = max([row['C1'], row['E1'], row['N1']])\n",
    "    max2 = max([row['C2'], row['E2'], row['N2']])\n",
    "    if max1 > max2:\n",
    "        C, E, N = row['C1'], row['E1'], row['N1']\n",
    "    else:\n",
    "        C, E, N = row['C2'], row['E2'], row['N2']\n",
    "    \n",
    "    if C > 0.5:\n",
    "        return C\n",
    "    elif C == E:\n",
    "        return 0.5\n",
    "    else:\n",
    "        return N/(N+E)*0.5"
   ]
  },
  {
   "cell_type": "code",
   "execution_count": 387,
   "metadata": {},
   "outputs": [],
   "source": [
    "dist_ser = scores_df.apply(lambda row: gen_dist2(row), axis=1)\n",
    "dist_ser.name = 'dist'\n",
    "scores_df = scores_df.join(dist_ser)\n",
    "scores_df = df.join(scores_df)\n",
    "scores_df.to_csv(save_dir + '/' + 'nliScores.csv')"
   ]
  },
  {
   "cell_type": "code",
   "execution_count": 388,
   "metadata": {},
   "outputs": [
    {
     "data": {
      "text/html": [
       "<div>\n",
       "<style scoped>\n",
       "    .dataframe tbody tr th:only-of-type {\n",
       "        vertical-align: middle;\n",
       "    }\n",
       "\n",
       "    .dataframe tbody tr th {\n",
       "        vertical-align: top;\n",
       "    }\n",
       "\n",
       "    .dataframe thead th {\n",
       "        text-align: right;\n",
       "    }\n",
       "</style>\n",
       "<table border=\"1\" class=\"dataframe\">\n",
       "  <thead>\n",
       "    <tr style=\"text-align: right;\">\n",
       "      <th></th>\n",
       "      <th>first_index</th>\n",
       "      <th>second_index</th>\n",
       "      <th>first</th>\n",
       "      <th>second</th>\n",
       "      <th>C1</th>\n",
       "      <th>N1</th>\n",
       "      <th>E1</th>\n",
       "      <th>C2</th>\n",
       "      <th>N2</th>\n",
       "      <th>E2</th>\n",
       "      <th>dist</th>\n",
       "    </tr>\n",
       "  </thead>\n",
       "  <tbody>\n",
       "    <tr>\n",
       "      <th>0</th>\n",
       "      <td>0</td>\n",
       "      <td>1</td>\n",
       "      <td>Trump is going to make America great again.</td>\n",
       "      <td>Trump is ruining America.</td>\n",
       "      <td>0.999377</td>\n",
       "      <td>0.000455</td>\n",
       "      <td>0.000167</td>\n",
       "      <td>0.999248</td>\n",
       "      <td>0.000537</td>\n",
       "      <td>0.000214</td>\n",
       "      <td>0.999377</td>\n",
       "    </tr>\n",
       "    <tr>\n",
       "      <th>1</th>\n",
       "      <td>0</td>\n",
       "      <td>2</td>\n",
       "      <td>Trump is going to make America great again.</td>\n",
       "      <td>President Donald Trump is the greatest president.</td>\n",
       "      <td>0.006336</td>\n",
       "      <td>0.925913</td>\n",
       "      <td>0.067751</td>\n",
       "      <td>0.000545</td>\n",
       "      <td>0.993994</td>\n",
       "      <td>0.005462</td>\n",
       "      <td>0.497268</td>\n",
       "    </tr>\n",
       "    <tr>\n",
       "      <th>2</th>\n",
       "      <td>0</td>\n",
       "      <td>3</td>\n",
       "      <td>Trump is going to make America great again.</td>\n",
       "      <td>Experts have condemned Trump for irresponsible...</td>\n",
       "      <td>0.795445</td>\n",
       "      <td>0.202652</td>\n",
       "      <td>0.001902</td>\n",
       "      <td>0.674856</td>\n",
       "      <td>0.323058</td>\n",
       "      <td>0.002086</td>\n",
       "      <td>0.795445</td>\n",
       "    </tr>\n",
       "    <tr>\n",
       "      <th>3</th>\n",
       "      <td>0</td>\n",
       "      <td>4</td>\n",
       "      <td>Trump is going to make America great again.</td>\n",
       "      <td>Joe Biden is leading in the preliminary polls.</td>\n",
       "      <td>0.959141</td>\n",
       "      <td>0.037226</td>\n",
       "      <td>0.003633</td>\n",
       "      <td>0.765069</td>\n",
       "      <td>0.225210</td>\n",
       "      <td>0.009721</td>\n",
       "      <td>0.959141</td>\n",
       "    </tr>\n",
       "    <tr>\n",
       "      <th>4</th>\n",
       "      <td>0</td>\n",
       "      <td>5</td>\n",
       "      <td>Trump is going to make America great again.</td>\n",
       "      <td>Trump's erratic behaviour ignores worsening pa...</td>\n",
       "      <td>0.364072</td>\n",
       "      <td>0.631232</td>\n",
       "      <td>0.004696</td>\n",
       "      <td>0.489559</td>\n",
       "      <td>0.507374</td>\n",
       "      <td>0.003067</td>\n",
       "      <td>0.496308</td>\n",
       "    </tr>\n",
       "  </tbody>\n",
       "</table>\n",
       "</div>"
      ],
      "text/plain": [
       "   first_index  second_index                                        first  \\\n",
       "0            0             1  Trump is going to make America great again.   \n",
       "1            0             2  Trump is going to make America great again.   \n",
       "2            0             3  Trump is going to make America great again.   \n",
       "3            0             4  Trump is going to make America great again.   \n",
       "4            0             5  Trump is going to make America great again.   \n",
       "\n",
       "                                              second        C1        N1  \\\n",
       "0                          Trump is ruining America.  0.999377  0.000455   \n",
       "1  President Donald Trump is the greatest president.  0.006336  0.925913   \n",
       "2  Experts have condemned Trump for irresponsible...  0.795445  0.202652   \n",
       "3     Joe Biden is leading in the preliminary polls.  0.959141  0.037226   \n",
       "4  Trump's erratic behaviour ignores worsening pa...  0.364072  0.631232   \n",
       "\n",
       "         E1        C2        N2        E2      dist  \n",
       "0  0.000167  0.999248  0.000537  0.000214  0.999377  \n",
       "1  0.067751  0.000545  0.993994  0.005462  0.497268  \n",
       "2  0.001902  0.674856  0.323058  0.002086  0.795445  \n",
       "3  0.003633  0.765069  0.225210  0.009721  0.959141  \n",
       "4  0.004696  0.489559  0.507374  0.003067  0.496308  "
      ]
     },
     "execution_count": 388,
     "metadata": {},
     "output_type": "execute_result"
    }
   ],
   "source": [
    "scores_df.head()"
   ]
  },
  {
   "cell_type": "markdown",
   "metadata": {},
   "source": [
    "## Clustering based on precomputed pairwise distances."
   ]
  },
  {
   "cell_type": "code",
   "execution_count": 19,
   "metadata": {},
   "outputs": [],
   "source": [
    "import numpy as np\n",
    "import pandas as pd\n",
    "\n",
    "# import scipy\n",
    "# from scipy.cluster.hierarchy import dendrogram,linkage\n",
    "# from scipy.cluster.hierarchy import fcluster\n",
    "# from scipy.cluster.hierarchy import cophenet\n",
    "# from scipy.spatial.distance import pdist\n",
    "\n",
    "import matplotlib.pyplot as plt\n",
    "from pylab import rcParams\n",
    "import seaborn as sb"
   ]
  },
  {
   "cell_type": "code",
   "execution_count": 23,
   "metadata": {},
   "outputs": [],
   "source": [
    "sents_df = pd.read_csv(\"../data/test6/TrumpBiden2.csv\", delimiter=',')\n",
    "scores_df = pd.read_csv(\"../data/test6/nliScores.csv\", delimiter=',')"
   ]
  },
  {
   "cell_type": "code",
   "execution_count": 24,
   "metadata": {
    "scrolled": true
   },
   "outputs": [],
   "source": [
    "# convert pairwise distances to a distance matrix.\n",
    "# we utilise a pivot table to do this\n",
    "\n",
    "# first, redundant pairs, e.g. (sentence_1,sentence_1) are missing.\n",
    "# add the redundant pairs to the df.\n",
    "# we need this for the pivot function to generate the correct indices and columns.\n",
    "first = np.unique(scores_df['first_index'].values)\n",
    "second = np.unique(scores_df['second_index'].values)\n",
    "combined_arr = np.concatenate((first, second))\n",
    "sentences = np.unique(combined_arr)\n",
    "add_data = np.column_stack([sentences, sentences, np.zeros(len(sentences))])\n",
    "add_data = add_data.astype(np.int)\n",
    "\n",
    "add_df = pd.DataFrame(data=add_data, columns=['first_index','second_index','dist'])\n",
    "scores_df = scores_df.append(add_df, ignore_index=True)\n",
    "df_piv = scores_df.pivot(\"first_index\", \"second_index\", \"dist\").fillna(0)\n",
    "piv_arr = df_piv.values\n",
    "dist_mat = piv_arr + np.transpose(piv_arr)"
   ]
  },
  {
   "cell_type": "code",
   "execution_count": null,
   "metadata": {},
   "outputs": [],
   "source": [
    "# generate pairwise matrix for saving.\n",
    "intersentence = pd.DataFrame(data=dist_mat, index=df_piv.index, columns=df_piv.columns)\n",
    "path = save_dir + '/' + 'pairwiseMatrix.csv'\n",
    "intersentence.to_csv(path)"
   ]
  },
  {
   "cell_type": "code",
   "execution_count": 15,
   "metadata": {
    "scrolled": true
   },
   "outputs": [
    {
     "name": "stdout",
     "output_type": "stream",
     "text": [
      "loaded data from disk.\n"
     ]
    },
    {
     "data": {
      "text/html": [
       "<div>\n",
       "<style scoped>\n",
       "    .dataframe tbody tr th:only-of-type {\n",
       "        vertical-align: middle;\n",
       "    }\n",
       "\n",
       "    .dataframe tbody tr th {\n",
       "        vertical-align: top;\n",
       "    }\n",
       "\n",
       "    .dataframe thead th {\n",
       "        text-align: right;\n",
       "    }\n",
       "</style>\n",
       "<table border=\"1\" class=\"dataframe\">\n",
       "  <thead>\n",
       "    <tr style=\"text-align: right;\">\n",
       "      <th></th>\n",
       "      <th>first_index</th>\n",
       "      <th>0</th>\n",
       "      <th>1</th>\n",
       "      <th>2</th>\n",
       "      <th>3</th>\n",
       "      <th>4</th>\n",
       "      <th>5</th>\n",
       "      <th>6</th>\n",
       "      <th>7</th>\n",
       "      <th>8</th>\n",
       "      <th>...</th>\n",
       "      <th>25</th>\n",
       "      <th>26</th>\n",
       "      <th>27</th>\n",
       "      <th>28</th>\n",
       "      <th>29</th>\n",
       "      <th>30</th>\n",
       "      <th>31</th>\n",
       "      <th>32</th>\n",
       "      <th>33</th>\n",
       "      <th>34</th>\n",
       "    </tr>\n",
       "  </thead>\n",
       "  <tbody>\n",
       "    <tr>\n",
       "      <th>0</th>\n",
       "      <td>0</td>\n",
       "      <td>0.000000</td>\n",
       "      <td>0.999377</td>\n",
       "      <td>0.497268</td>\n",
       "      <td>0.795445</td>\n",
       "      <td>0.959141</td>\n",
       "      <td>0.496308</td>\n",
       "      <td>0.499601</td>\n",
       "      <td>0.498059</td>\n",
       "      <td>0.499343</td>\n",
       "      <td>...</td>\n",
       "      <td>0.499489</td>\n",
       "      <td>0.498204</td>\n",
       "      <td>0.938643</td>\n",
       "      <td>0.800224</td>\n",
       "      <td>0.922200</td>\n",
       "      <td>0.916952</td>\n",
       "      <td>0.906209</td>\n",
       "      <td>0.499308</td>\n",
       "      <td>0.487592</td>\n",
       "      <td>0.498258</td>\n",
       "    </tr>\n",
       "    <tr>\n",
       "      <th>1</th>\n",
       "      <td>1</td>\n",
       "      <td>0.999377</td>\n",
       "      <td>0.000000</td>\n",
       "      <td>0.998932</td>\n",
       "      <td>0.498630</td>\n",
       "      <td>0.859179</td>\n",
       "      <td>0.491194</td>\n",
       "      <td>0.498060</td>\n",
       "      <td>0.913350</td>\n",
       "      <td>0.499525</td>\n",
       "      <td>...</td>\n",
       "      <td>0.499424</td>\n",
       "      <td>0.499098</td>\n",
       "      <td>0.492822</td>\n",
       "      <td>0.489934</td>\n",
       "      <td>0.930882</td>\n",
       "      <td>0.497926</td>\n",
       "      <td>0.936455</td>\n",
       "      <td>0.499304</td>\n",
       "      <td>0.492334</td>\n",
       "      <td>0.498649</td>\n",
       "    </tr>\n",
       "    <tr>\n",
       "      <th>2</th>\n",
       "      <td>2</td>\n",
       "      <td>0.497268</td>\n",
       "      <td>0.998932</td>\n",
       "      <td>0.000000</td>\n",
       "      <td>0.976655</td>\n",
       "      <td>0.950723</td>\n",
       "      <td>0.874225</td>\n",
       "      <td>0.497950</td>\n",
       "      <td>0.495002</td>\n",
       "      <td>0.490712</td>\n",
       "      <td>...</td>\n",
       "      <td>0.499028</td>\n",
       "      <td>0.496897</td>\n",
       "      <td>0.940679</td>\n",
       "      <td>0.906693</td>\n",
       "      <td>0.884726</td>\n",
       "      <td>0.989999</td>\n",
       "      <td>0.958454</td>\n",
       "      <td>0.498451</td>\n",
       "      <td>0.466004</td>\n",
       "      <td>0.497700</td>\n",
       "    </tr>\n",
       "    <tr>\n",
       "      <th>3</th>\n",
       "      <td>3</td>\n",
       "      <td>0.795445</td>\n",
       "      <td>0.498630</td>\n",
       "      <td>0.976655</td>\n",
       "      <td>0.000000</td>\n",
       "      <td>0.747706</td>\n",
       "      <td>0.499519</td>\n",
       "      <td>0.499331</td>\n",
       "      <td>0.498622</td>\n",
       "      <td>0.499234</td>\n",
       "      <td>...</td>\n",
       "      <td>0.499114</td>\n",
       "      <td>0.499296</td>\n",
       "      <td>0.499027</td>\n",
       "      <td>0.442380</td>\n",
       "      <td>0.484455</td>\n",
       "      <td>0.496694</td>\n",
       "      <td>0.752401</td>\n",
       "      <td>0.498135</td>\n",
       "      <td>0.443967</td>\n",
       "      <td>0.499289</td>\n",
       "    </tr>\n",
       "    <tr>\n",
       "      <th>4</th>\n",
       "      <td>4</td>\n",
       "      <td>0.959141</td>\n",
       "      <td>0.859179</td>\n",
       "      <td>0.950723</td>\n",
       "      <td>0.747706</td>\n",
       "      <td>0.000000</td>\n",
       "      <td>0.788093</td>\n",
       "      <td>0.897286</td>\n",
       "      <td>0.889479</td>\n",
       "      <td>0.895928</td>\n",
       "      <td>...</td>\n",
       "      <td>0.490936</td>\n",
       "      <td>0.434722</td>\n",
       "      <td>0.470062</td>\n",
       "      <td>0.499207</td>\n",
       "      <td>0.498854</td>\n",
       "      <td>0.499184</td>\n",
       "      <td>0.499434</td>\n",
       "      <td>0.499532</td>\n",
       "      <td>0.498011</td>\n",
       "      <td>0.844230</td>\n",
       "    </tr>\n",
       "  </tbody>\n",
       "</table>\n",
       "<p>5 rows × 36 columns</p>\n",
       "</div>"
      ],
      "text/plain": [
       "   first_index         0         1         2         3         4         5  \\\n",
       "0            0  0.000000  0.999377  0.497268  0.795445  0.959141  0.496308   \n",
       "1            1  0.999377  0.000000  0.998932  0.498630  0.859179  0.491194   \n",
       "2            2  0.497268  0.998932  0.000000  0.976655  0.950723  0.874225   \n",
       "3            3  0.795445  0.498630  0.976655  0.000000  0.747706  0.499519   \n",
       "4            4  0.959141  0.859179  0.950723  0.747706  0.000000  0.788093   \n",
       "\n",
       "          6         7         8  ...        25        26        27        28  \\\n",
       "0  0.499601  0.498059  0.499343  ...  0.499489  0.498204  0.938643  0.800224   \n",
       "1  0.498060  0.913350  0.499525  ...  0.499424  0.499098  0.492822  0.489934   \n",
       "2  0.497950  0.495002  0.490712  ...  0.499028  0.496897  0.940679  0.906693   \n",
       "3  0.499331  0.498622  0.499234  ...  0.499114  0.499296  0.499027  0.442380   \n",
       "4  0.897286  0.889479  0.895928  ...  0.490936  0.434722  0.470062  0.499207   \n",
       "\n",
       "         29        30        31        32        33        34  \n",
       "0  0.922200  0.916952  0.906209  0.499308  0.487592  0.498258  \n",
       "1  0.930882  0.497926  0.936455  0.499304  0.492334  0.498649  \n",
       "2  0.884726  0.989999  0.958454  0.498451  0.466004  0.497700  \n",
       "3  0.484455  0.496694  0.752401  0.498135  0.443967  0.499289  \n",
       "4  0.498854  0.499184  0.499434  0.499532  0.498011  0.844230  \n",
       "\n",
       "[5 rows x 36 columns]"
      ]
     },
     "metadata": {},
     "output_type": "display_data"
    },
    {
     "data": {
      "text/html": [
       "<div>\n",
       "<style scoped>\n",
       "    .dataframe tbody tr th:only-of-type {\n",
       "        vertical-align: middle;\n",
       "    }\n",
       "\n",
       "    .dataframe tbody tr th {\n",
       "        vertical-align: top;\n",
       "    }\n",
       "\n",
       "    .dataframe thead th {\n",
       "        text-align: right;\n",
       "    }\n",
       "</style>\n",
       "<table border=\"1\" class=\"dataframe\">\n",
       "  <thead>\n",
       "    <tr style=\"text-align: right;\">\n",
       "      <th></th>\n",
       "      <th>0</th>\n",
       "      <th>1</th>\n",
       "      <th>2</th>\n",
       "      <th>3</th>\n",
       "      <th>4</th>\n",
       "      <th>5</th>\n",
       "      <th>6</th>\n",
       "      <th>7</th>\n",
       "      <th>8</th>\n",
       "      <th>9</th>\n",
       "      <th>...</th>\n",
       "      <th>25</th>\n",
       "      <th>26</th>\n",
       "      <th>27</th>\n",
       "      <th>28</th>\n",
       "      <th>29</th>\n",
       "      <th>30</th>\n",
       "      <th>31</th>\n",
       "      <th>32</th>\n",
       "      <th>33</th>\n",
       "      <th>34</th>\n",
       "    </tr>\n",
       "  </thead>\n",
       "  <tbody>\n",
       "    <tr>\n",
       "      <th>0</th>\n",
       "      <td>0.000000</td>\n",
       "      <td>0.999377</td>\n",
       "      <td>0.497268</td>\n",
       "      <td>0.795445</td>\n",
       "      <td>0.959141</td>\n",
       "      <td>0.496308</td>\n",
       "      <td>0.499601</td>\n",
       "      <td>0.498059</td>\n",
       "      <td>0.499343</td>\n",
       "      <td>0.499283</td>\n",
       "      <td>...</td>\n",
       "      <td>0.499489</td>\n",
       "      <td>0.498204</td>\n",
       "      <td>0.938643</td>\n",
       "      <td>0.800224</td>\n",
       "      <td>0.922200</td>\n",
       "      <td>0.916952</td>\n",
       "      <td>0.906209</td>\n",
       "      <td>0.499308</td>\n",
       "      <td>0.487592</td>\n",
       "      <td>0.498258</td>\n",
       "    </tr>\n",
       "    <tr>\n",
       "      <th>1</th>\n",
       "      <td>0.999377</td>\n",
       "      <td>0.000000</td>\n",
       "      <td>0.998932</td>\n",
       "      <td>0.498630</td>\n",
       "      <td>0.859179</td>\n",
       "      <td>0.491194</td>\n",
       "      <td>0.498060</td>\n",
       "      <td>0.913350</td>\n",
       "      <td>0.499525</td>\n",
       "      <td>0.916501</td>\n",
       "      <td>...</td>\n",
       "      <td>0.499424</td>\n",
       "      <td>0.499098</td>\n",
       "      <td>0.492822</td>\n",
       "      <td>0.489934</td>\n",
       "      <td>0.930882</td>\n",
       "      <td>0.497926</td>\n",
       "      <td>0.936455</td>\n",
       "      <td>0.499304</td>\n",
       "      <td>0.492334</td>\n",
       "      <td>0.498649</td>\n",
       "    </tr>\n",
       "    <tr>\n",
       "      <th>2</th>\n",
       "      <td>0.497268</td>\n",
       "      <td>0.998932</td>\n",
       "      <td>0.000000</td>\n",
       "      <td>0.976655</td>\n",
       "      <td>0.950723</td>\n",
       "      <td>0.874225</td>\n",
       "      <td>0.497950</td>\n",
       "      <td>0.495002</td>\n",
       "      <td>0.490712</td>\n",
       "      <td>0.492632</td>\n",
       "      <td>...</td>\n",
       "      <td>0.499028</td>\n",
       "      <td>0.496897</td>\n",
       "      <td>0.940679</td>\n",
       "      <td>0.906693</td>\n",
       "      <td>0.884726</td>\n",
       "      <td>0.989999</td>\n",
       "      <td>0.958454</td>\n",
       "      <td>0.498451</td>\n",
       "      <td>0.466004</td>\n",
       "      <td>0.497700</td>\n",
       "    </tr>\n",
       "    <tr>\n",
       "      <th>3</th>\n",
       "      <td>0.795445</td>\n",
       "      <td>0.498630</td>\n",
       "      <td>0.976655</td>\n",
       "      <td>0.000000</td>\n",
       "      <td>0.747706</td>\n",
       "      <td>0.499519</td>\n",
       "      <td>0.499331</td>\n",
       "      <td>0.498622</td>\n",
       "      <td>0.499234</td>\n",
       "      <td>0.886658</td>\n",
       "      <td>...</td>\n",
       "      <td>0.499114</td>\n",
       "      <td>0.499296</td>\n",
       "      <td>0.499027</td>\n",
       "      <td>0.442380</td>\n",
       "      <td>0.484455</td>\n",
       "      <td>0.496694</td>\n",
       "      <td>0.752401</td>\n",
       "      <td>0.498135</td>\n",
       "      <td>0.443967</td>\n",
       "      <td>0.499289</td>\n",
       "    </tr>\n",
       "    <tr>\n",
       "      <th>4</th>\n",
       "      <td>0.959141</td>\n",
       "      <td>0.859179</td>\n",
       "      <td>0.950723</td>\n",
       "      <td>0.747706</td>\n",
       "      <td>0.000000</td>\n",
       "      <td>0.788093</td>\n",
       "      <td>0.897286</td>\n",
       "      <td>0.889479</td>\n",
       "      <td>0.895928</td>\n",
       "      <td>0.943178</td>\n",
       "      <td>...</td>\n",
       "      <td>0.490936</td>\n",
       "      <td>0.434722</td>\n",
       "      <td>0.470062</td>\n",
       "      <td>0.499207</td>\n",
       "      <td>0.498854</td>\n",
       "      <td>0.499184</td>\n",
       "      <td>0.499434</td>\n",
       "      <td>0.499532</td>\n",
       "      <td>0.498011</td>\n",
       "      <td>0.844230</td>\n",
       "    </tr>\n",
       "  </tbody>\n",
       "</table>\n",
       "<p>5 rows × 35 columns</p>\n",
       "</div>"
      ],
      "text/plain": [
       "          0         1         2         3         4         5         6  \\\n",
       "0  0.000000  0.999377  0.497268  0.795445  0.959141  0.496308  0.499601   \n",
       "1  0.999377  0.000000  0.998932  0.498630  0.859179  0.491194  0.498060   \n",
       "2  0.497268  0.998932  0.000000  0.976655  0.950723  0.874225  0.497950   \n",
       "3  0.795445  0.498630  0.976655  0.000000  0.747706  0.499519  0.499331   \n",
       "4  0.959141  0.859179  0.950723  0.747706  0.000000  0.788093  0.897286   \n",
       "\n",
       "          7         8         9  ...        25        26        27        28  \\\n",
       "0  0.498059  0.499343  0.499283  ...  0.499489  0.498204  0.938643  0.800224   \n",
       "1  0.913350  0.499525  0.916501  ...  0.499424  0.499098  0.492822  0.489934   \n",
       "2  0.495002  0.490712  0.492632  ...  0.499028  0.496897  0.940679  0.906693   \n",
       "3  0.498622  0.499234  0.886658  ...  0.499114  0.499296  0.499027  0.442380   \n",
       "4  0.889479  0.895928  0.943178  ...  0.490936  0.434722  0.470062  0.499207   \n",
       "\n",
       "         29        30        31        32        33        34  \n",
       "0  0.922200  0.916952  0.906209  0.499308  0.487592  0.498258  \n",
       "1  0.930882  0.497926  0.936455  0.499304  0.492334  0.498649  \n",
       "2  0.884726  0.989999  0.958454  0.498451  0.466004  0.497700  \n",
       "3  0.484455  0.496694  0.752401  0.498135  0.443967  0.499289  \n",
       "4  0.498854  0.499184  0.499434  0.499532  0.498011  0.844230  \n",
       "\n",
       "[5 rows x 35 columns]"
      ]
     },
     "metadata": {},
     "output_type": "display_data"
    }
   ],
   "source": [
    "# LOAD pairwise matrix\n",
    "\n",
    "# load intersentence pairwise distance matrix.\n",
    "df_piv = pd.read_csv(\"../data/test6/pairwiseMatrix.csv\")\n",
    "print(\"loaded data from disk.\")\n",
    "display(df_piv.head())\n",
    "df_piv = df_piv.drop(columns=['first_index'])\n",
    "display(df_piv.head())\n",
    "dist_mat = df_piv.values"
   ]
  },
  {
   "cell_type": "code",
   "execution_count": 25,
   "metadata": {},
   "outputs": [
    {
     "name": "stdout",
     "output_type": "stream",
     "text": [
      "0 :  0.11086995082261247\n"
     ]
    },
    {
     "data": {
      "text/plain": [
       "[<matplotlib.lines.Line2D at 0x2825a483588>]"
      ]
     },
     "execution_count": 25,
     "metadata": {},
     "output_type": "execute_result"
    },
    {
     "data": {
      "image/png": "[encoded data removed]",
      "text/plain": [
       "<Figure size 1440x720 with 1 Axes>"
      ]
     },
     "metadata": {},
     "output_type": "display_data"
    }
   ],
   "source": [
    "import sklearn\n",
    "# from sklearn import datasets\n",
    "from sklearn.cluster import AgglomerativeClustering\n",
    "\n",
    "# Configure the output\n",
    "np.set_printoptions(precision=4,suppress=True)\n",
    "%matplotlib inline\n",
    "rcParams[\"figure.figsize\"] =20,10\n",
    "sb.set_style(\"whitegrid\")\n",
    "from scipy.spatial.distance import squareform\n",
    "from sklearn.metrics import silhouette_score\n",
    "condensed_mat = squareform(dist_mat)\n",
    "linkage = 'complete'\n",
    "\n",
    "sil_scores = []  # silhouette scores\n",
    "# for i in range(2, len(dist_mat)):\n",
    "for i in range(1):\n",
    "    clusters = AgglomerativeClustering(n_clusters=None, affinity='precomputed', linkage=linkage, distance_threshold=0.5)\n",
    "    clusters.fit_predict(dist_mat)\n",
    "\n",
    "    # use metric to measure/compare goodness of clusters based on internal coherence and \n",
    "    # external coupling. we can consider maximising the Dunn index.\n",
    "    # or consider average sillhouette width (maximise), which is available in sklearn.\n",
    "    silhouette_avg = silhouette_score(dist_mat, clusters.labels_, metric='precomputed')\n",
    "    sil_scores.append(silhouette_avg)\n",
    "    print(i, \": \", silhouette_avg)\n",
    "plt.plot(sil_scores)"
   ]
  },
  {
   "cell_type": "code",
   "execution_count": 17,
   "metadata": {},
   "outputs": [
    {
     "name": "stdout",
     "output_type": "stream",
     "text": [
      "max avg silhouette score:  0.23755060030764252\n",
      "nclusters w max avg silhouette score:  25\n"
     ]
    }
   ],
   "source": [
    "sil_scores_arr = np.asarray(sil_scores)\n",
    "print('max avg silhouette score: ', sil_scores_arr.max())\n",
    "OPTIMAL_K = np.where(sil_scores_arr == sil_scores_arr.max())[0][0] + 2\n",
    "print('nclusters w max avg silhouette score: ', OPTIMAL_K)"
   ]
  },
  {
   "cell_type": "code",
   "execution_count": 18,
   "metadata": {},
   "outputs": [
    {
     "name": "stdout",
     "output_type": "stream",
     "text": [
      "cluster 0 (size 4):\n",
      "[ 4 26 30 31]\n"
     ]
    },
    {
     "data": {
      "text/plain": [
       "'Joe Biden is leading in the preliminary polls.'"
      ]
     },
     "metadata": {},
     "output_type": "display_data"
    },
    {
     "data": {
      "text/plain": [
       "'President Trump has repeatedly lied about the coronavirus.'"
      ]
     },
     "metadata": {},
     "output_type": "display_data"
    },
    {
     "data": {
      "text/plain": [
       "'Biden has a presidential aura.'"
      ]
     },
     "metadata": {},
     "output_type": "display_data"
    },
    {
     "data": {
      "text/plain": [
       "'Biden was so easy-going and relaxed.'"
      ]
     },
     "metadata": {},
     "output_type": "display_data"
    },
    {
     "name": "stdout",
     "output_type": "stream",
     "text": [
      "\n",
      "\n",
      "cluster 1 (size 7):\n",
      "[ 0  2  7 10 18 19 34]\n"
     ]
    },
    {
     "data": {
      "text/plain": [
       "'Trump is going to make America great again.'"
      ]
     },
     "metadata": {},
     "output_type": "display_data"
    },
    {
     "data": {
      "text/plain": [
       "'President Donald Trump is the greatest president.'"
      ]
     },
     "metadata": {},
     "output_type": "display_data"
    },
    {
     "data": {
      "text/plain": [
       "'Trump says virus situation is under control.'"
      ]
     },
     "metadata": {},
     "output_type": "display_data"
    },
    {
     "data": {
      "text/plain": [
       "'Donald Trump is intelligent.'"
      ]
     },
     "metadata": {},
     "output_type": "display_data"
    },
    {
     "data": {
      "text/plain": [
       "'Trump is generous.'"
      ]
     },
     "metadata": {},
     "output_type": "display_data"
    },
    {
     "data": {
      "text/plain": [
       "'Donald Trump is smart.'"
      ]
     },
     "metadata": {},
     "output_type": "display_data"
    },
    {
     "data": {
      "text/plain": [
       "'In most ways, Biden is the worst candidate for the Democrats and the best opponent for Trump.'"
      ]
     },
     "metadata": {},
     "output_type": "display_data"
    },
    {
     "name": "stdout",
     "output_type": "stream",
     "text": [
      "\n",
      "\n",
      "cluster 2 (size 7):\n",
      "[ 8 15 20 21 22 23 24]\n"
     ]
    },
    {
     "data": {
      "text/plain": [
       "'Donald Trump is controversial.'"
      ]
     },
     "metadata": {},
     "output_type": "display_data"
    },
    {
     "data": {
      "text/plain": [
       "'We cannot ignore the hate that Mr. Trump both encourages and allows to flourish. '"
      ]
     },
     "metadata": {},
     "output_type": "display_data"
    },
    {
     "data": {
      "text/plain": [
       "'Trump is a crackhead.'"
      ]
     },
     "metadata": {},
     "output_type": "display_data"
    },
    {
     "data": {
      "text/plain": [
       "'Trump is unhinged.'"
      ]
     },
     "metadata": {},
     "output_type": "display_data"
    },
    {
     "data": {
      "text/plain": [
       "'Trump sounded arrogant.'"
      ]
     },
     "metadata": {},
     "output_type": "display_data"
    },
    {
     "data": {
      "text/plain": [
       "\"Trump's comments were puzzling.\""
      ]
     },
     "metadata": {},
     "output_type": "display_data"
    },
    {
     "data": {
      "text/plain": [
       "\"Trump's behaviour was chaotic and disruptive.\""
      ]
     },
     "metadata": {},
     "output_type": "display_data"
    },
    {
     "name": "stdout",
     "output_type": "stream",
     "text": [
      "\n",
      "\n",
      "cluster 3 (size 5):\n",
      "[12 13 25 28 29]\n"
     ]
    },
    {
     "data": {
      "text/plain": [
       "'Joe Biden is likable.'"
      ]
     },
     "metadata": {},
     "output_type": "display_data"
    },
    {
     "data": {
      "text/plain": [
       "'Joe Biden is genuine.'"
      ]
     },
     "metadata": {},
     "output_type": "display_data"
    },
    {
     "data": {
      "text/plain": [
       "'Trump was lying throughout much of the debate.'"
      ]
     },
     "metadata": {},
     "output_type": "display_data"
    },
    {
     "data": {
      "text/plain": [
       "'Biden seemed professional.'"
      ]
     },
     "metadata": {},
     "output_type": "display_data"
    },
    {
     "data": {
      "text/plain": [
       "'Biden showed restraint and compassion.'"
      ]
     },
     "metadata": {},
     "output_type": "display_data"
    },
    {
     "name": "stdout",
     "output_type": "stream",
     "text": [
      "\n",
      "\n",
      "cluster 4 (size 9):\n",
      "[ 1  3  5  6 14 16 27 32 33]\n"
     ]
    },
    {
     "data": {
      "text/plain": [
       "'Trump is ruining America.'"
      ]
     },
     "metadata": {},
     "output_type": "display_data"
    },
    {
     "data": {
      "text/plain": [
       "'Experts have condemned Trump for irresponsible behaviour.'"
      ]
     },
     "metadata": {},
     "output_type": "display_data"
    },
    {
     "data": {
      "text/plain": [
       "\"Trump's erratic behaviour ignores worsening pandemic.\""
      ]
     },
     "metadata": {},
     "output_type": "display_data"
    },
    {
     "data": {
      "text/plain": [
       "\"Trump's focus remains on himself even as virus rages.\""
      ]
     },
     "metadata": {},
     "output_type": "display_data"
    },
    {
     "data": {
      "text/plain": [
       "'Joe Biden is intelligent.'"
      ]
     },
     "metadata": {},
     "output_type": "display_data"
    },
    {
     "data": {
      "text/plain": [
       "'Some see a Trump presidency as an existential threat to liberty and justice in the best sense of the American promise.'"
      ]
     },
     "metadata": {},
     "output_type": "display_data"
    },
    {
     "data": {
      "text/plain": [
       "'Trump has been consistently unreliable across the eight-month arc of our national crisis.'"
      ]
     },
     "metadata": {},
     "output_type": "display_data"
    },
    {
     "data": {
      "text/plain": [
       "\"Biden's remarks were clumsy and off-putting but he had the right to ask that question.\""
      ]
     },
     "metadata": {},
     "output_type": "display_data"
    },
    {
     "data": {
      "text/plain": [
       "\"Joe Biden's remarks were racist and dehumanizing.\""
      ]
     },
     "metadata": {},
     "output_type": "display_data"
    },
    {
     "name": "stdout",
     "output_type": "stream",
     "text": [
      "\n",
      "\n",
      "cluster 5 (size 3):\n",
      "[ 9 11 17]\n"
     ]
    },
    {
     "data": {
      "text/plain": [
       "'Donald Trump is patriotic.'"
      ]
     },
     "metadata": {},
     "output_type": "display_data"
    },
    {
     "data": {
      "text/plain": [
       "'Donald Trump is passionate.'"
      ]
     },
     "metadata": {},
     "output_type": "display_data"
    },
    {
     "data": {
      "text/plain": [
       "\"Trump's always been generous with his money to good causes and for no political reason what so ever.\""
      ]
     },
     "metadata": {},
     "output_type": "display_data"
    },
    {
     "name": "stdout",
     "output_type": "stream",
     "text": [
      "\n",
      "\n"
     ]
    }
   ],
   "source": [
    "selected_k = 6\n",
    "clusters = AgglomerativeClustering(n_clusters=selected_k, affinity='precomputed', linkage=linkage)\n",
    "clusters.fit_predict(dist_mat)\n",
    "for i in range(clusters.n_clusters_):\n",
    "    indices = np.where(clusters.labels_ == i)[0]\n",
    "    \n",
    "    print(f'cluster {i} (size {len(indices)}):')\n",
    "    print(indices)\n",
    "    for idx in indices:\n",
    "        display(sents_df.iloc[idx]['sentence'])\n",
    "    print('\\n')"
   ]
  },
  {
   "cell_type": "code",
   "execution_count": 395,
   "metadata": {},
   "outputs": [],
   "source": [
    "# save clusters into JSON dict\n",
    "clusters_dict = dict()\n",
    "for i in range(clusters.n_clusters_):\n",
    "    indices = np.where(clusters.labels_ == i)[0]\n",
    "    sents = list()\n",
    "    for idx in indices:\n",
    "        sents.append(int(df_piv.index[idx]))\n",
    "    clusters_dict[i] = sents\n",
    "\n",
    "path = save_dir + '/' + 'clusters.json'\n",
    "with open(path, 'w') as fp:\n",
    "    json.dump(clusters_dict, fp)"
   ]
  },
  {
   "cell_type": "code",
   "execution_count": 415,
   "metadata": {},
   "outputs": [
    {
     "name": "stdout",
     "output_type": "stream",
     "text": [
      "------\n",
      "\n",
      "no. of clusters = 6\n",
      "[[0.     0.8488 0.6826 0.5414 0.6182 0.9026]\n",
      " [0.     0.     0.7445 0.8557 0.7309 0.5258]\n",
      " [0.     0.     0.     0.7639 0.5832 0.7985]\n",
      " [0.     0.     0.     0.     0.6612 0.9253]\n",
      " [0.     0.     0.     0.     0.     0.7916]\n",
      " [0.     0.     0.     0.     0.     0.    ]]\n"
     ]
    }
   ],
   "source": [
    "# Compute the distance of one cluster to another cluster using average pairwise distance\n",
    "# between two elements (one in each cluster).  \n",
    "for n_clusters in [selected_k]:\n",
    "    print('------')\n",
    "    print(f'\\nno. of clusters = {n_clusters}')\n",
    "    clusters = AgglomerativeClustering(n_clusters=n_clusters, affinity='precomputed', linkage=linkage)\n",
    "    clusters.fit_predict(dist_mat)\n",
    "    \n",
    "    # find average distances between clusters and output a new distance matrix\n",
    "    labels = [i for i in range(clusters.n_clusters_)]\n",
    "    avg_dist_arr = np.zeros(shape=(clusters.n_clusters_, clusters.n_clusters_))\n",
    "    for i in range(clusters.n_clusters_):\n",
    "        indices = np.where(clusters.labels_ == i)[0]\n",
    "        labels.remove(i)\n",
    "        for j in labels:\n",
    "            other_indices = np.where(clusters.labels_ == j)[0]\n",
    "            intra_dist_arr = np.zeros(shape=(len(indices), len(other_indices)))\n",
    "            \n",
    "            for k, index in enumerate(indices):\n",
    "                for m, other_index in enumerate(other_indices):\n",
    "                    intra_dist_arr[k][m] = dist_mat[index][other_index]\n",
    "            \n",
    "            #print (f'cluster {i} against cluster {j}:')\n",
    "            #print(intra_dist_arr)\n",
    "            \n",
    "            avg_dist = np.average(intra_dist_arr)\n",
    "            #print(avg_dist)\n",
    "            avg_dist_arr[i][j] = avg_dist\n",
    "    print(avg_dist_arr)"
   ]
  },
  {
   "cell_type": "code",
   "execution_count": 397,
   "metadata": {},
   "outputs": [],
   "source": [
    "path = save_dir + '/' + 'clusterDistances.csv'\n",
    "intercluster_dists = avg_dist_arr + np.transpose(avg_dist_arr)\n",
    "np.savetxt(path, intercluster_dists, delimiter=\",\")"
   ]
  },
  {
   "cell_type": "code",
   "execution_count": 398,
   "metadata": {},
   "outputs": [
    {
     "name": "stdout",
     "output_type": "stream",
     "text": [
      "[[0.     0.6796 0.8714]\n",
      " [0.6796 0.     0.7542]\n",
      " [0.8714 0.7542 0.    ]]\n"
     ]
    }
   ],
   "source": [
    "print(intercluster_dists)"
   ]
  },
  {
   "cell_type": "markdown",
   "metadata": {},
   "source": [
    "## Visualise network of clusters"
   ]
  },
  {
   "cell_type": "code",
   "execution_count": null,
   "metadata": {},
   "outputs": [],
   "source": [
    "import networkx as nx\n",
    "import string"
   ]
  },
  {
   "cell_type": "code",
   "execution_count": null,
   "metadata": {},
   "outputs": [],
   "source": [
    "G = nx.from_numpy_matrix(tmp)\n",
    "print(G.nodes())\n",
    "print(G.edges().data())\n",
    "#G = nx.relabel_nodes(G, dict(zip(range(len(G.nodes())),string.ascii_uppercase)))\n",
    "\n",
    "import pydot\n",
    "from networkx.drawing.nx_pydot import write_dot\n",
    "\n",
    "print(\"using package pydot\")\n",
    "path = save_dir + '/' + 'clusterViz.dot'\n",
    "write_dot(G, path)\n",
    "# you can then use the various graphviz CLI to generate the image. E.g. \"neato -Tpng clusterViz.dot -o clusterViz.png\"\n",
    "# see https://www.graphviz.org/pdf/neatoguide.pdf for more info on modifying dot files.\n",
    "# fdp or sfdp can be used instead of neato. "
   ]
  },
  {
   "cell_type": "markdown",
   "metadata": {},
   "source": [
    "## Summarize"
   ]
  },
  {
   "cell_type": "code",
   "execution_count": 399,
   "metadata": {},
   "outputs": [
    {
     "name": "stdout",
     "output_type": "stream",
     "text": [
      "loaded data from disk.\n"
     ]
    }
   ],
   "source": [
    "# LOAD DATA\n",
    "\n",
    "import numpy as np\n",
    "\n",
    "# load indexed sentences:\n",
    "sents_df = pd.read_csv(\"../data/tmp/TrumpBiden2.csv\")\n",
    "\n",
    "# load intersentence pairwise distance matrix.\n",
    "df_piv = pd.read_csv(\"../data/tmp/pairwiseMatrix.csv\")\n",
    "df_piv = df_piv.drop(columns=['first_index'])\n",
    "dist_mat = df_piv.values\n",
    "\n",
    "# load intercluster pairwise distance matrix.\n",
    "intercluster_dists = np.loadtxt(\"../data/tmp/clusterDistances.csv\", delimiter=\",\")\n",
    "\n",
    "# load clusters.\n",
    "with open(\"../data/tmp/clusters.json\") as fp:\n",
    "    clusters_dict = json.load(fp)\n",
    "\n",
    "    print(\"loaded data from disk.\")"
   ]
  },
  {
   "cell_type": "markdown",
   "metadata": {},
   "source": [
    "## Reliability Ranking approach to multi-summarization."
   ]
  },
  {
   "cell_type": "code",
   "execution_count": 416,
   "metadata": {
    "scrolled": true
   },
   "outputs": [
    {
     "data": {
      "text/plain": [
       "{'0': [4, 12, 13, 25, 26, 28, 29, 30, 31],\n",
       " '1': [1, 3, 5, 6, 8, 14, 15, 16, 20, 21, 22, 23, 24, 27, 32, 33],\n",
       " '2': [0, 2, 7, 9, 10, 11, 17, 18, 19, 34]}"
      ]
     },
     "execution_count": 416,
     "metadata": {},
     "output_type": "execute_result"
    }
   ],
   "source": [
    "clusters_dict"
   ]
  },
  {
   "cell_type": "code",
   "execution_count": 401,
   "metadata": {},
   "outputs": [],
   "source": [
    "def rank_by_reliability(clusters_dict, intercluster, contra_threshold=0.5):\n",
    "    \"\"\"\n",
    "    :param clusters_dict: dict of clusters. {str(cluster index): list(sentence indices)}.\n",
    "    :param intercluster: square numpy.ndarray representing distances between each cluster.\n",
    "    \n",
    "    \"\"\"\n",
    "    scores = list()\n",
    "    for cluster_idx in range(len(intercluster)):\n",
    "        contra_size = 0\n",
    "        for other_cluster_idx in range(len(intercluster)):\n",
    "            if intercluster[cluster_idx][other_cluster_idx] > contra_threshold:\n",
    "                contra_size = contra_size + len(clusters_dict[str(other_cluster_idx)])\n",
    "        numer = len(clusters_dict[str(cluster_idx)])\n",
    "        if contra_size > 0:\n",
    "            denom = contra_size\n",
    "        else:\n",
    "            denom = 1\n",
    "        score = numer/denom\n",
    "        scores.append((score, cluster_idx))\n",
    "    return scores"
   ]
  },
  {
   "cell_type": "code",
   "execution_count": 402,
   "metadata": {
    "scrolled": true
   },
   "outputs": [],
   "source": [
    "scores = rank_by_reliability(clusters_dict, intercluster_dists, contra_threshold=0.6)"
   ]
  },
  {
   "cell_type": "code",
   "execution_count": 403,
   "metadata": {},
   "outputs": [],
   "source": [
    "def intra_clust_dis_mat(clust, pairwise):\n",
    "    \"\"\"\n",
    "    :param clust: list of sentence indices that form the cluster.\n",
    "    :param pairwise: numpy.ndarray of universal pairwise dist matrix. \n",
    "    \"\"\"\n",
    "    sorted_clust = sorted(clust)\n",
    "    pairs = list(itertools.combinations(clust, 2))\n",
    "    tmp = np.zeros((len(clust), len(clust)))\n",
    "    for pair in pairs:\n",
    "        tmp_idx0 = sorted_clust.index(pair[0])\n",
    "        tmp_idx1 = sorted_clust.index(pair[1])\n",
    "        tmp[tmp_idx0][tmp_idx1] = pairwise[pair[0], pair[1]]\n",
    "    tmp = tmp + np.transpose(tmp)\n",
    "    return tmp, sorted_clust"
   ]
  },
  {
   "cell_type": "code",
   "execution_count": 404,
   "metadata": {
    "scrolled": true
   },
   "outputs": [
    {
     "data": {
      "text/plain": [
       "array([[0.    , 0.6796, 0.8714],\n",
       "       [0.6796, 0.    , 0.7542],\n",
       "       [0.8714, 0.7542, 0.    ]])"
      ]
     },
     "execution_count": 404,
     "metadata": {},
     "output_type": "execute_result"
    }
   ],
   "source": [
    "intercluster_dists"
   ]
  },
  {
   "cell_type": "code",
   "execution_count": 405,
   "metadata": {},
   "outputs": [],
   "source": [
    "from lexrank.lexrank import LexRank\n",
    "from lexrank.lexrank import degree_centrality_scores"
   ]
  },
  {
   "cell_type": "code",
   "execution_count": 406,
   "metadata": {},
   "outputs": [],
   "source": [
    "def choose_salient(dis_mat, sorted_clust):\n",
    "    \"\"\"\n",
    "    :param dis_mat: disimilarity or distance matrix. every value is between 0-1, inclusive.\n",
    "    :sorted_clust: sorted list of sentence indices corresponding to the indexing of dis_mat.\n",
    "    :returns: sentence index of most salient sentence.\n",
    "    \"\"\"\n",
    "    similarity_matrix = 1 - dis_mat\n",
    "    #print(similarity_matrix)\n",
    "    scores = degree_centrality_scores(similarity_matrix, threshold=None)\n",
    "    #print(scores)\n",
    "    return sorted_clust[np.argmax(scores)]"
   ]
  },
  {
   "cell_type": "code",
   "execution_count": 407,
   "metadata": {
    "scrolled": true
   },
   "outputs": [
    {
     "name": "stdout",
     "output_type": "stream",
     "text": [
      "cluster: 1\n",
      "reliability score: 0.8421052631578947\n"
     ]
    },
    {
     "data": {
      "text/html": [
       "<div>\n",
       "<style scoped>\n",
       "    .dataframe tbody tr th:only-of-type {\n",
       "        vertical-align: middle;\n",
       "    }\n",
       "\n",
       "    .dataframe tbody tr th {\n",
       "        vertical-align: top;\n",
       "    }\n",
       "\n",
       "    .dataframe thead th {\n",
       "        text-align: right;\n",
       "    }\n",
       "</style>\n",
       "<table border=\"1\" class=\"dataframe\">\n",
       "  <thead>\n",
       "    <tr style=\"text-align: right;\">\n",
       "      <th></th>\n",
       "      <th>index</th>\n",
       "      <th>sentence</th>\n",
       "    </tr>\n",
       "  </thead>\n",
       "  <tbody>\n",
       "    <tr>\n",
       "      <th>1</th>\n",
       "      <td>1</td>\n",
       "      <td>Trump is ruining America.</td>\n",
       "    </tr>\n",
       "    <tr>\n",
       "      <th>3</th>\n",
       "      <td>3</td>\n",
       "      <td>Experts have condemned Trump for irresponsible...</td>\n",
       "    </tr>\n",
       "    <tr>\n",
       "      <th>5</th>\n",
       "      <td>5</td>\n",
       "      <td>Trump's erratic behaviour ignores worsening pa...</td>\n",
       "    </tr>\n",
       "    <tr>\n",
       "      <th>6</th>\n",
       "      <td>6</td>\n",
       "      <td>Trump's focus remains on himself even as virus...</td>\n",
       "    </tr>\n",
       "    <tr>\n",
       "      <th>8</th>\n",
       "      <td>8</td>\n",
       "      <td>Donald Trump is controversial.</td>\n",
       "    </tr>\n",
       "    <tr>\n",
       "      <th>14</th>\n",
       "      <td>14</td>\n",
       "      <td>Joe Biden is intelligent.</td>\n",
       "    </tr>\n",
       "    <tr>\n",
       "      <th>15</th>\n",
       "      <td>15</td>\n",
       "      <td>We cannot ignore the hate that Mr. Trump both ...</td>\n",
       "    </tr>\n",
       "    <tr>\n",
       "      <th>16</th>\n",
       "      <td>16</td>\n",
       "      <td>Some see a Trump presidency as an existential ...</td>\n",
       "    </tr>\n",
       "    <tr>\n",
       "      <th>20</th>\n",
       "      <td>20</td>\n",
       "      <td>Trump is a crackhead.</td>\n",
       "    </tr>\n",
       "    <tr>\n",
       "      <th>21</th>\n",
       "      <td>21</td>\n",
       "      <td>Trump is unhinged.</td>\n",
       "    </tr>\n",
       "    <tr>\n",
       "      <th>22</th>\n",
       "      <td>22</td>\n",
       "      <td>Trump sounded arrogant.</td>\n",
       "    </tr>\n",
       "    <tr>\n",
       "      <th>23</th>\n",
       "      <td>23</td>\n",
       "      <td>Trump's comments were puzzling.</td>\n",
       "    </tr>\n",
       "    <tr>\n",
       "      <th>24</th>\n",
       "      <td>24</td>\n",
       "      <td>Trump's behaviour was chaotic and disruptive.</td>\n",
       "    </tr>\n",
       "    <tr>\n",
       "      <th>27</th>\n",
       "      <td>27</td>\n",
       "      <td>Trump has been consistently unreliable across ...</td>\n",
       "    </tr>\n",
       "    <tr>\n",
       "      <th>32</th>\n",
       "      <td>32</td>\n",
       "      <td>Biden's remarks were clumsy and off-putting bu...</td>\n",
       "    </tr>\n",
       "    <tr>\n",
       "      <th>33</th>\n",
       "      <td>33</td>\n",
       "      <td>Joe Biden's remarks were racist and dehumanizing.</td>\n",
       "    </tr>\n",
       "  </tbody>\n",
       "</table>\n",
       "</div>"
      ],
      "text/plain": [
       "    index                                           sentence\n",
       "1       1                          Trump is ruining America.\n",
       "3       3  Experts have condemned Trump for irresponsible...\n",
       "5       5  Trump's erratic behaviour ignores worsening pa...\n",
       "6       6  Trump's focus remains on himself even as virus...\n",
       "8       8                     Donald Trump is controversial.\n",
       "14     14                          Joe Biden is intelligent.\n",
       "15     15  We cannot ignore the hate that Mr. Trump both ...\n",
       "16     16  Some see a Trump presidency as an existential ...\n",
       "20     20                              Trump is a crackhead.\n",
       "21     21                                 Trump is unhinged.\n",
       "22     22                            Trump sounded arrogant.\n",
       "23     23                    Trump's comments were puzzling.\n",
       "24     24      Trump's behaviour was chaotic and disruptive.\n",
       "27     27  Trump has been consistently unreliable across ...\n",
       "32     32  Biden's remarks were clumsy and off-putting bu...\n",
       "33     33  Joe Biden's remarks were racist and dehumanizing."
      ]
     },
     "metadata": {},
     "output_type": "display_data"
    },
    {
     "data": {
      "text/plain": [
       "'Donald Trump is controversial.'"
      ]
     },
     "metadata": {},
     "output_type": "display_data"
    },
    {
     "name": "stdout",
     "output_type": "stream",
     "text": [
      "\n",
      "cluster: 2\n",
      "reliability score: 0.4\n"
     ]
    },
    {
     "data": {
      "text/html": [
       "<div>\n",
       "<style scoped>\n",
       "    .dataframe tbody tr th:only-of-type {\n",
       "        vertical-align: middle;\n",
       "    }\n",
       "\n",
       "    .dataframe tbody tr th {\n",
       "        vertical-align: top;\n",
       "    }\n",
       "\n",
       "    .dataframe thead th {\n",
       "        text-align: right;\n",
       "    }\n",
       "</style>\n",
       "<table border=\"1\" class=\"dataframe\">\n",
       "  <thead>\n",
       "    <tr style=\"text-align: right;\">\n",
       "      <th></th>\n",
       "      <th>index</th>\n",
       "      <th>sentence</th>\n",
       "    </tr>\n",
       "  </thead>\n",
       "  <tbody>\n",
       "    <tr>\n",
       "      <th>0</th>\n",
       "      <td>0</td>\n",
       "      <td>Trump is going to make America great again.</td>\n",
       "    </tr>\n",
       "    <tr>\n",
       "      <th>2</th>\n",
       "      <td>2</td>\n",
       "      <td>President Donald Trump is the greatest president.</td>\n",
       "    </tr>\n",
       "    <tr>\n",
       "      <th>7</th>\n",
       "      <td>7</td>\n",
       "      <td>Trump says virus situation is under control.</td>\n",
       "    </tr>\n",
       "    <tr>\n",
       "      <th>9</th>\n",
       "      <td>9</td>\n",
       "      <td>Donald Trump is patriotic.</td>\n",
       "    </tr>\n",
       "    <tr>\n",
       "      <th>10</th>\n",
       "      <td>10</td>\n",
       "      <td>Donald Trump is intelligent.</td>\n",
       "    </tr>\n",
       "    <tr>\n",
       "      <th>11</th>\n",
       "      <td>11</td>\n",
       "      <td>Donald Trump is passionate.</td>\n",
       "    </tr>\n",
       "    <tr>\n",
       "      <th>17</th>\n",
       "      <td>17</td>\n",
       "      <td>Trump's always been generous with his money to...</td>\n",
       "    </tr>\n",
       "    <tr>\n",
       "      <th>18</th>\n",
       "      <td>18</td>\n",
       "      <td>Trump is generous.</td>\n",
       "    </tr>\n",
       "    <tr>\n",
       "      <th>19</th>\n",
       "      <td>19</td>\n",
       "      <td>Donald Trump is smart.</td>\n",
       "    </tr>\n",
       "    <tr>\n",
       "      <th>34</th>\n",
       "      <td>34</td>\n",
       "      <td>In most ways, Biden is the worst candidate for...</td>\n",
       "    </tr>\n",
       "  </tbody>\n",
       "</table>\n",
       "</div>"
      ],
      "text/plain": [
       "    index                                           sentence\n",
       "0       0        Trump is going to make America great again.\n",
       "2       2  President Donald Trump is the greatest president.\n",
       "7       7       Trump says virus situation is under control.\n",
       "9       9                         Donald Trump is patriotic.\n",
       "10     10                       Donald Trump is intelligent.\n",
       "11     11                        Donald Trump is passionate.\n",
       "17     17  Trump's always been generous with his money to...\n",
       "18     18                                 Trump is generous.\n",
       "19     19                             Donald Trump is smart.\n",
       "34     34  In most ways, Biden is the worst candidate for..."
      ]
     },
     "metadata": {},
     "output_type": "display_data"
    },
    {
     "data": {
      "text/plain": [
       "'Donald Trump is patriotic.'"
      ]
     },
     "metadata": {},
     "output_type": "display_data"
    },
    {
     "name": "stdout",
     "output_type": "stream",
     "text": [
      "\n",
      "cluster: 0\n",
      "reliability score: 0.34615384615384615\n"
     ]
    },
    {
     "data": {
      "text/html": [
       "<div>\n",
       "<style scoped>\n",
       "    .dataframe tbody tr th:only-of-type {\n",
       "        vertical-align: middle;\n",
       "    }\n",
       "\n",
       "    .dataframe tbody tr th {\n",
       "        vertical-align: top;\n",
       "    }\n",
       "\n",
       "    .dataframe thead th {\n",
       "        text-align: right;\n",
       "    }\n",
       "</style>\n",
       "<table border=\"1\" class=\"dataframe\">\n",
       "  <thead>\n",
       "    <tr style=\"text-align: right;\">\n",
       "      <th></th>\n",
       "      <th>index</th>\n",
       "      <th>sentence</th>\n",
       "    </tr>\n",
       "  </thead>\n",
       "  <tbody>\n",
       "    <tr>\n",
       "      <th>4</th>\n",
       "      <td>4</td>\n",
       "      <td>Joe Biden is leading in the preliminary polls.</td>\n",
       "    </tr>\n",
       "    <tr>\n",
       "      <th>12</th>\n",
       "      <td>12</td>\n",
       "      <td>Joe Biden is likable.</td>\n",
       "    </tr>\n",
       "    <tr>\n",
       "      <th>13</th>\n",
       "      <td>13</td>\n",
       "      <td>Joe Biden is genuine.</td>\n",
       "    </tr>\n",
       "    <tr>\n",
       "      <th>25</th>\n",
       "      <td>25</td>\n",
       "      <td>Trump was lying throughout much of the debate.</td>\n",
       "    </tr>\n",
       "    <tr>\n",
       "      <th>26</th>\n",
       "      <td>26</td>\n",
       "      <td>President Trump has repeatedly lied about the ...</td>\n",
       "    </tr>\n",
       "    <tr>\n",
       "      <th>28</th>\n",
       "      <td>28</td>\n",
       "      <td>Biden seemed professional.</td>\n",
       "    </tr>\n",
       "    <tr>\n",
       "      <th>29</th>\n",
       "      <td>29</td>\n",
       "      <td>Biden showed restraint and compassion.</td>\n",
       "    </tr>\n",
       "    <tr>\n",
       "      <th>30</th>\n",
       "      <td>30</td>\n",
       "      <td>Biden has a presidential aura.</td>\n",
       "    </tr>\n",
       "    <tr>\n",
       "      <th>31</th>\n",
       "      <td>31</td>\n",
       "      <td>Biden was so easy-going and relaxed.</td>\n",
       "    </tr>\n",
       "  </tbody>\n",
       "</table>\n",
       "</div>"
      ],
      "text/plain": [
       "    index                                           sentence\n",
       "4       4     Joe Biden is leading in the preliminary polls.\n",
       "12     12                              Joe Biden is likable.\n",
       "13     13                              Joe Biden is genuine.\n",
       "25     25     Trump was lying throughout much of the debate.\n",
       "26     26  President Trump has repeatedly lied about the ...\n",
       "28     28                         Biden seemed professional.\n",
       "29     29             Biden showed restraint and compassion.\n",
       "30     30                     Biden has a presidential aura.\n",
       "31     31               Biden was so easy-going and relaxed."
      ]
     },
     "metadata": {},
     "output_type": "display_data"
    },
    {
     "data": {
      "text/plain": [
       "'Joe Biden is likable.'"
      ]
     },
     "metadata": {},
     "output_type": "display_data"
    },
    {
     "name": "stdout",
     "output_type": "stream",
     "text": [
      "\n"
     ]
    }
   ],
   "source": [
    "# print out clusters and most salient sentences for each cluster, in descending order of \"reliability\". \n",
    "for score, idx in sorted(scores, reverse=True):\n",
    "    print(f\"cluster: {idx}\")\n",
    "    print(f\"reliability score: {score}\")\n",
    "    display(sents_df.iloc[clusters_dict[str(idx)]])\n",
    "    intraclust, sorted_clust = intra_clust_dis_mat(clusters_dict[str(idx)], dist_mat)\n",
    "    display(sents_df.iloc[choose_salient(intraclust, sorted_clust)]['sentence'])\n",
    "    print()"
   ]
  },
  {
   "cell_type": "code",
   "execution_count": 411,
   "metadata": {},
   "outputs": [
    {
     "data": {
      "text/plain": [
       "(array([[0.    , 0.4995, 0.4994, 0.4909, 0.4347, 0.4992, 0.4989, 0.4992,\n",
       "         0.4994],\n",
       "        [0.4995, 0.    , 0.3309, 0.4962, 0.4335, 0.4738, 0.4981, 0.4314,\n",
       "         0.4992],\n",
       "        [0.4994, 0.3309, 0.    , 0.4986, 0.878 , 0.3631, 0.4688, 0.456 ,\n",
       "         0.497 ],\n",
       "        [0.4909, 0.4962, 0.4986, 0.    , 0.4993, 0.4989, 0.4985, 0.4993,\n",
       "         0.4993],\n",
       "        [0.4347, 0.4335, 0.878 , 0.4993, 0.    , 0.4662, 0.9126, 0.8816,\n",
       "         0.872 ],\n",
       "        [0.4992, 0.4738, 0.3631, 0.4989, 0.4662, 0.    , 0.1252, 0.4283,\n",
       "         0.9854],\n",
       "        [0.4989, 0.4981, 0.4688, 0.4985, 0.9126, 0.1252, 0.    , 0.4701,\n",
       "         0.385 ],\n",
       "        [0.4992, 0.4314, 0.456 , 0.4993, 0.8816, 0.4283, 0.4701, 0.    ,\n",
       "         0.4169],\n",
       "        [0.4994, 0.4992, 0.497 , 0.4993, 0.872 , 0.9854, 0.385 , 0.4169,\n",
       "         0.    ]]),\n",
       " [4, 12, 13, 25, 26, 28, 29, 30, 31])"
      ]
     },
     "execution_count": 411,
     "metadata": {},
     "output_type": "execute_result"
    }
   ],
   "source": [
    "intra_clust_dis_mat(clusters_dict[str(0)], dist_mat)"
   ]
  },
  {
   "cell_type": "code",
   "execution_count": 408,
   "metadata": {},
   "outputs": [],
   "source": [
    "def summarize(clusters, intercluster, sent_df, intersentence, coherence_threshold=0.6, redundancy_threshold=0.1):\n",
    "    \"\"\"\n",
    "    :param clusters: dict of clusters of the form {str(cluster_num): list(sentence_indices)}.\n",
    "    :param intercluster: numpy.ndarray of inter-cluster distances in pairwise matrix form.\n",
    "    :param sent_df: Pandas DataFrame of indexed sentences.\n",
    "    :param intersentence: numpy.ndarray of inter-sentence distances in pairwise matrix form.\n",
    "    :param coherence_threshold: maximum distance allowed for a sentence pair within the summary. valid values between 0-1.\n",
    "    :param redundancy_threshold: lowest distance allowed for a sentence pair within the summary. valid values between 0-1.\n",
    "    \n",
    "    We need a redundancy_threshold because the clustering algorithm does not always manage to group \n",
    "    redundant sentences together?\n",
    "    \"\"\"\n",
    "    if coherence_threshold <= redundancy_threshold:\n",
    "        raise Exception(\"coherence_threshold <= redundancy_threshold.\")\n",
    "    \n",
    "    scores = rank_by_reliability(clusters, intercluster, contra_threshold=0.6) # each element is (score, cluster_index)\n",
    "    ranked_clusters = sorted(scores, reverse=True)\n",
    "    \n",
    "    compress_rate = 0.1\n",
    "    num_sent = int(compress_rate * len(ranked_clusters))\n",
    "        \n",
    "    def create_coherent_summary(ordered_clusters):\n",
    "        # this summary does not contain contradictions within itself.\n",
    "        summary = list()\n",
    "        for score, cluster_idx in ordered_clusters:\n",
    "            intraclust, sorted_cluster = intra_clust_dis_mat(clusters[str(cluster_idx)], intersentence)\n",
    "            salient_idx = choose_salient(intraclust, sorted_cluster)\n",
    "            salient_sent = sents_df.iloc[salient_idx]['sentence']\n",
    "            max_dist = 0\n",
    "            min_dist = 1\n",
    "            for sent_idx in summary:\n",
    "                dist = intersentence[sent_idx][salient_idx]\n",
    "                if dist > max_dist:\n",
    "                    max_dist = dist\n",
    "                if dist < min_dist:\n",
    "                    min_dist = dist\n",
    "            if max_dist < coherence_threshold and min_dist > redundancy_threshold:\n",
    "                summary.append(salient_idx)\n",
    "        return summary\n",
    "    \n",
    "    def create_free_summary(ordered_clusters):\n",
    "        # this summary is just formed from the most salient sentence of ea cluster. no regards to whether\n",
    "        # appending the next sentence would cause the summary to be self-contradicted.\n",
    "        summary = list()\n",
    "        for score, cluster_idx in ordered_clusters:\n",
    "            intraclust, sorted_cluster = intra_clust_dis_mat(clusters[str(cluster_idx)], intersentence)\n",
    "            salient_idx = choose_salient(intraclust, sorted_cluster)\n",
    "            summary.append(salient_idx)\n",
    "        return summary\n",
    "    \n",
    "    top_summa = create_coherent_summary(ranked_clusters[:num_sent])\n",
    "    btm_summa = create_free_summary(ranked_clusters[-1*num_sent:])\n",
    "    btm_summa.reverse()  # reverse so that most unreliable (least agreed statement) is at the top.\n",
    "    \n",
    "    return top_summa, btm_summa"
   ]
  },
  {
   "cell_type": "code",
   "execution_count": 409,
   "metadata": {},
   "outputs": [
    {
     "name": "stdout",
     "output_type": "stream",
     "text": [
      "0\n",
      "3\n"
     ]
    }
   ],
   "source": [
    "summaries = summarize(clusters_dict, intercluster_dists, sents_df, dist_mat)\n",
    "for summa in summaries:\n",
    "    print(len(summa))"
   ]
  },
  {
   "cell_type": "code",
   "execution_count": 410,
   "metadata": {},
   "outputs": [
    {
     "name": "stdout",
     "output_type": "stream",
     "text": [
      "\n",
      "Joe Biden is likable.\n",
      "Donald Trump is patriotic.\n",
      "Donald Trump is controversial.\n",
      "\n"
     ]
    }
   ],
   "source": [
    "for summa in summaries:\n",
    "    for idx in summa:\n",
    "        print(sents_df.iloc[idx]['sentence'])\n",
    "    print()"
   ]
  },
  {
   "cell_type": "code",
   "execution_count": 347,
   "metadata": {},
   "outputs": [],
   "source": [
    "# def prune_and_print(summary, sent_limit):\n",
    "#     i = 0\n",
    "#     while i < sent_limit and i < len(summary):\n",
    "#         sent_idx = summary[len(summary)-1-i]\n",
    "#         print(sents_df.iloc[sent_idx]['sentence'])\n",
    "#         i = i + 1"
   ]
  },
  {
   "cell_type": "code",
   "execution_count": 348,
   "metadata": {},
   "outputs": [
    {
     "data": {
      "text/plain": [
       "[<matplotlib.lines.Line2D at 0x1b33bd8ff98>]"
      ]
     },
     "execution_count": 348,
     "metadata": {},
     "output_type": "execute_result"
    },
    {
     "data": {
      "image/png": "[encoded data removed]",
      "text/plain": [
       "<Figure size 1440x720 with 1 Axes>"
      ]
     },
     "metadata": {},
     "output_type": "display_data"
    }
   ],
   "source": [
    "scores = rank_by_reliability(clusters_dict, intercluster_dists, contra_threshold=0.6)\n",
    "sorted_clusters = sorted(scores, reverse=True)  # each element is (score, cluster_index)\n",
    "scores_only = [score for score, _ in sorted_clusters]\n",
    "import matplotlib.pyplot as plt\n",
    "plt.plot(scores_only)"
   ]
  },
  {
   "cell_type": "markdown",
   "metadata": {},
   "source": [
    "## Previous Single Summary Algo."
   ]
  },
  {
   "cell_type": "code",
   "execution_count": null,
   "metadata": {},
   "outputs": [],
   "source": [
    "from nltk.tokenize import RegexpTokenizer\n",
    "\n",
    "def choose_longest(sentences):\n",
    "    tokenizer = RegexpTokenizer(r'\\w+')\n",
    "    max_len = 0\n",
    "    final_sent = None\n",
    "    for sent in sentences:\n",
    "        tokens = tokenizer.tokenize(sent)\n",
    "        if len(tokens) > max_len:\n",
    "            max_len = len(sent)\n",
    "            final_sent = sent\n",
    "    return final_sent\n",
    "\n",
    "from lexrank import LexRank\n",
    "from lexrank.mappings.stopwords import STOPWORDS\n",
    "def choose_salient(sentences):\n",
    "    \"\"\"\n",
    "    \n",
    "    \"\"\"\n",
    "    lxr = LexRank(sentences, stopwords=STOPWORDS['en'])\n",
    "    top_sentence = lxr.get_summary(sentences[0], summary_size=1, threshold=.1)\n",
    "    return top_sentence[0]\n",
    "    \n",
    "\n",
    "def summarize(clusters, intersentence, sent_df, word_limit=90, coherence_threshold=0.6, redundancy_threshold=0.3):\n",
    "    \"\"\"\n",
    "    :param clusters: dict of clusters of the form {str(cluster_num): list(sentence_indices)}.\n",
    "    :param intersentence: Pandas DataFrame of precomputed inter-sentence distance in pairwise matrix form.\n",
    "    :param sent_df: Pandas DataFrame of indexed sentences.\n",
    "    :param word_limit: maximum num of words for summary.\n",
    "    :param coherence_threshold: maximum distance allowed for a sentence pair within the summary. valid values between 0-1.\n",
    "    :param redundancy_threshold: minimum distance allowed for a sentence pair within the summary. valid values between 0-1.\n",
    "    \n",
    "    We need a redundancy_threshold because the clustering algorithm does not always manage to group \n",
    "    redundant sentences together?\n",
    "    \"\"\"\n",
    "    if coherence_threshold <= redundancy_threshold:\n",
    "        raise Exception\n",
    "    \n",
    "    tokenizer = RegexpTokenizer(r'\\w+') # tokenize into word-like tokens.\n",
    "    summary = list()\n",
    "    word_count = 0\n",
    "    \n",
    "    sorted_clusters = sorted(clusters.items(), key=lambda x: len(x[1]), reverse=True)  # iterable of pairs.\n",
    "    \n",
    "    for key, clust in sorted_clusters:\n",
    "        sentences = [sent_df.iloc[idx]['sentence'] for idx in clust]\n",
    "        #selected = choose_longest(clust)\n",
    "        selected = choose_salient([sentences])\n",
    "        selected_idx = sent_df[sent_df.sentence == selected].index[0]\n",
    "        tokens = tokenizer.tokenize(selected)\n",
    "        if word_count + len(tokens) < word_limit:\n",
    "            max_dist = 0\n",
    "            min_dist = 1\n",
    "            for sent_idx in summary:\n",
    "                dist = intersentence.iloc[sent_idx][selected_idx]\n",
    "                if dist > max_dist:\n",
    "                    max_dist = dist\n",
    "                if dist < min_dist:\n",
    "                    min_dist = dist\n",
    "            if max_dist < coherence_threshold and min_dist > redundancy_threshold:\n",
    "                summary.append(selected_idx)\n",
    "                word_count = word_count + len(tokens)\n",
    "        else:\n",
    "            break\n",
    "    return summary"
   ]
  },
  {
   "cell_type": "code",
   "execution_count": null,
   "metadata": {},
   "outputs": [],
   "source": [
    "# test lexrank algorithm.\n",
    "sentences = [sents_df.iloc[idx]['sentence'] for idx in clusters_dict['0']]\n",
    "display(sentences)\n",
    "choose_salient([sentences])"
   ]
  },
  {
   "cell_type": "code",
   "execution_count": null,
   "metadata": {},
   "outputs": [],
   "source": [
    "# todo: think of statistical way to determine the coherence_threshold and redundancy_threshold.\n",
    "summary = summarize(clusters_dict, intersentence, sents_df, word_limit=90, coherence_threshold=0.6, redundancy_threshold=0.35)\n",
    "print(\"no. of sentences in summary: \", len(summary))\n",
    "print(\"no. of sentences in source: \", len(intersentence.index.values))\n",
    "print()\n",
    "for sent_idx in summary:\n",
    "    print(f\"{sent_idx}: {sents_df.iloc[sent_idx]['sentence']}\")\n",
    "print()\n",
    "for sent_idx in sorted(summary):\n",
    "    print(f\"{sent_idx}: {sents_df.iloc[sent_idx]['sentence']}\")"
   ]
  },
  {
   "cell_type": "markdown",
   "metadata": {},
   "source": [
    "## Multiple Summaries (deprecated)"
   ]
  },
  {
   "cell_type": "code",
   "execution_count": null,
   "metadata": {},
   "outputs": [],
   "source": [
    "def multi_summary(clusters, intercluster_dists, sent_df, word_limit=100, contradiction_threshold=0.6):\n",
    "    \"\"\"\n",
    "    :param clusters: dict of clusters of the form {str(cluster_index): list(sentence_indices)}.\n",
    "    :param intercluster_dists: square numpy.ndarray representing distances between each cluster.\n",
    "    :param sent_df: Pandas DataFrame of indexed sentences.\n",
    "    :param word_limit: maximum num of words for summary.\n",
    "    :param contradiction_threshold: float value between 0 and 1, representing the value after which\n",
    "    sentence pairs will be considered contradictory.\n",
    "    \"\"\"\n",
    "    # find top/representative sentence of each cluster.\n",
    "    top_sentences = dict()\n",
    "    for clust_idx, clust in clusters.items():\n",
    "        sentences = [sent_df.iloc[idx]['sentence'] for idx in clust]\n",
    "        selected = choose_salient([sentences])\n",
    "        selected_idx = sent_df[sent_df.sentence == selected].index[0]\n",
    "        top_sentences[int(clust_idx)] = selected_idx  # typecasted to int because json dicts saved integer keys into str keys.\n",
    "    \n",
    "    # find clusters that are not contradictory w ALL other clusters.\n",
    "    base_clusters = list()\n",
    "    contradicted_pairs = list()\n",
    "    contradicted_set= set()\n",
    "    for i in range(len(intercluster_dists)):\n",
    "        for j in range(i+1,len(intercluster_dists)):\n",
    "            if intercluster_dists[i][j] > contradiction_threshold:\n",
    "                contradicted_pairs.append((i,j))\n",
    "                contradicted_set.add(i)\n",
    "                contradicted_set.add(j)\n",
    "        if i not in contradicted_set:\n",
    "            base_clusters.append(i)\n",
    "    \n",
    "    # construct base summary\n",
    "    base_summary = list()\n",
    "    word_count = 0\n",
    "    tokenizer = RegexpTokenizer(r'\\w+') # tokenize into word-like tokens.\n",
    "    sorted_clusters = sorted(clusters.items(), key=lambda x: len(x[1]), reverse=True)  # iterable of pairs.\n",
    "    for clust_idx, clust in sorted_clusters:\n",
    "        if int(clust_idx) in base_clusters:\n",
    "            selected_idx = top_sentences[int(clust_idx)]\n",
    "            selected = sent_df.iloc[selected_idx]['sentence']\n",
    "            tokens = tokenizer.tokenize(selected)\n",
    "            if word_count + len(tokens) < word_limit:\n",
    "                base_summary.append(selected_idx)\n",
    "                word_count = word_count + len(tokens)\n",
    "            else:\n",
    "                break\n",
    "    \n",
    "    # construct summaries w contentious information.\n",
    "    all_summaries = list()\n",
    "    added_sentences = set()\n",
    "    for clust1, clust2 in contradicted_pairs:\n",
    "        sent1 =  top_sentences[clust1]\n",
    "        sent2 =  top_sentences[clust2]\n",
    "        \n",
    "        if sent1 not in added_sentences:\n",
    "            all_summaries.append(base_summary + [sent1])\n",
    "            added_sentences.add(sent1)\n",
    "        if sent2 not in added_sentences:\n",
    "            all_summaries.append(base_summary + [sent2])\n",
    "            added_sentences.add(sent2)\n",
    "    print(base_summary)\n",
    "    return all_summaries, base_summary"
   ]
  },
  {
   "cell_type": "code",
   "execution_count": null,
   "metadata": {
    "scrolled": true
   },
   "outputs": [],
   "source": [
    "from IPython.display import Markdown\n",
    "all_summaries, base_summary = multi_summary(clusters_dict, intercluster_dists, sents_df, word_limit=90, contradiction_threshold=0.6)\n",
    "\n",
    "print(f\"total no. of summaries = {len(all_summaries)}\")\n",
    "print()\n",
    "\n",
    "for summary in all_summaries:\n",
    "    print(\"no. of sentences in summary: \", len(summary))\n",
    "    print(\"no. of sentences in source: \", len(intersentence.index.values))\n",
    "    print()\n",
    "    for sent_idx in sorted(summary):\n",
    "        if sent_idx in base_summary:\n",
    "            display(Markdown(f\"**{sent_idx}: {sents_df.iloc[sent_idx]['sentence']}**\"))\n",
    "        else:\n",
    "            display(Markdown(f\"{sent_idx}: {sents_df.iloc[sent_idx]['sentence']}\"))\n",
    "    print()"
   ]
  }
 ],
 "metadata": {
  "kernelspec": {
   "display_name": "FYP",
   "language": "python",
   "name": "fyp"
  },
  "language_info": {
   "codemirror_mode": {
    "name": "ipython",
    "version": 3
   },
   "file_extension": ".py",
   "mimetype": "text/x-python",
   "name": "python",
   "nbconvert_exporter": "python",
   "pygments_lexer": "ipython3",
   "version": "3.7.3"
  }
 },
 "nbformat": 4,
 "nbformat_minor": 4
}
