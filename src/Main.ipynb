{
 "cells": [
  {
   "cell_type": "markdown",
   "metadata": {},
   "source": [
    "# Main notebook to process indexed datasets into summaries."
   ]
  },
  {
   "cell_type": "markdown",
   "metadata": {},
   "source": [
    "## Generate sentence pairs"
   ]
  },
  {
   "cell_type": "code",
   "execution_count": 187,
   "metadata": {},
   "outputs": [],
   "source": [
    "import itertools\n",
    "import json\n",
    "import nltk\n",
    "import pandas as pd"
   ]
  },
  {
   "cell_type": "code",
   "execution_count": 265,
   "metadata": {},
   "outputs": [
    {
     "name": "stdin",
     "output_type": "stream",
     "text": [
      "enter path to base directory to save outputs to:\n",
      " ../data/test1.1\n"
     ]
    }
   ],
   "source": [
    "save_dir = input(\"enter path to base directory to save outputs to:\\n\")"
   ]
  },
  {
   "cell_type": "code",
   "execution_count": 189,
   "metadata": {},
   "outputs": [
    {
     "name": "stdin",
     "output_type": "stream",
     "text": [
      "enter path to indexed dataset:\n",
      " ../data/test4/Astro1_decomposed.csv\n"
     ]
    },
    {
     "data": {
      "text/html": [
       "<div>\n",
       "<style scoped>\n",
       "    .dataframe tbody tr th:only-of-type {\n",
       "        vertical-align: middle;\n",
       "    }\n",
       "\n",
       "    .dataframe tbody tr th {\n",
       "        vertical-align: top;\n",
       "    }\n",
       "\n",
       "    .dataframe thead th {\n",
       "        text-align: right;\n",
       "    }\n",
       "</style>\n",
       "<table border=\"1\" class=\"dataframe\">\n",
       "  <thead>\n",
       "    <tr style=\"text-align: right;\">\n",
       "      <th></th>\n",
       "      <th>index</th>\n",
       "      <th>sentence</th>\n",
       "    </tr>\n",
       "  </thead>\n",
       "  <tbody>\n",
       "    <tr>\n",
       "      <th>0</th>\n",
       "      <td>0</td>\n",
       "      <td>You are consistent.</td>\n",
       "    </tr>\n",
       "    <tr>\n",
       "      <th>1</th>\n",
       "      <td>1</td>\n",
       "      <td>You are reliable.</td>\n",
       "    </tr>\n",
       "    <tr>\n",
       "      <th>2</th>\n",
       "      <td>2</td>\n",
       "      <td>You tend to be dependable.</td>\n",
       "    </tr>\n",
       "    <tr>\n",
       "      <th>3</th>\n",
       "      <td>3</td>\n",
       "      <td>You are patient unless someone takes you too far.</td>\n",
       "    </tr>\n",
       "    <tr>\n",
       "      <th>4</th>\n",
       "      <td>4</td>\n",
       "      <td>You are usually slow to anger unless someone t...</td>\n",
       "    </tr>\n",
       "  </tbody>\n",
       "</table>\n",
       "</div>"
      ],
      "text/plain": [
       "   index                                           sentence\n",
       "0      0                                You are consistent.\n",
       "1      1                                  You are reliable.\n",
       "2      2                         You tend to be dependable.\n",
       "3      3  You are patient unless someone takes you too far.\n",
       "4      4  You are usually slow to anger unless someone t..."
      ]
     },
     "execution_count": 189,
     "metadata": {},
     "output_type": "execute_result"
    }
   ],
   "source": [
    "input_path = input(\"enter path to indexed dataset:\\n\")  # default encoding is utf-8\n",
    "with open(input_path) as f:\n",
    "    sents_df = pd.read_csv(f, delimiter=',')\n",
    "sents_df.head()"
   ]
  },
  {
   "cell_type": "code",
   "execution_count": 190,
   "metadata": {},
   "outputs": [
    {
     "name": "stdout",
     "output_type": "stream",
     "text": [
      "no. of sentences:  47\n",
      "no. of sentence pairs:  1081 \n",
      "\n"
     ]
    }
   ],
   "source": [
    "indices = list(sents_df.index)\n",
    "\n",
    "# generate all pairs in the set of sentences.\n",
    "indices_list = list(itertools.combinations(indices, 2))\n",
    "print('no. of sentences: ', len(indices))\n",
    "print('no. of sentence pairs: ', len(indices_list), '\\n')"
   ]
  },
  {
   "cell_type": "code",
   "execution_count": 191,
   "metadata": {},
   "outputs": [
    {
     "data": {
      "text/html": [
       "<div>\n",
       "<style scoped>\n",
       "    .dataframe tbody tr th:only-of-type {\n",
       "        vertical-align: middle;\n",
       "    }\n",
       "\n",
       "    .dataframe tbody tr th {\n",
       "        vertical-align: top;\n",
       "    }\n",
       "\n",
       "    .dataframe thead th {\n",
       "        text-align: right;\n",
       "    }\n",
       "</style>\n",
       "<table border=\"1\" class=\"dataframe\">\n",
       "  <thead>\n",
       "    <tr style=\"text-align: right;\">\n",
       "      <th></th>\n",
       "      <th>first_index</th>\n",
       "      <th>second_index</th>\n",
       "      <th>first</th>\n",
       "      <th>second</th>\n",
       "    </tr>\n",
       "  </thead>\n",
       "  <tbody>\n",
       "    <tr>\n",
       "      <th>0</th>\n",
       "      <td>0</td>\n",
       "      <td>1</td>\n",
       "      <td>You are consistent.</td>\n",
       "      <td>You are reliable.</td>\n",
       "    </tr>\n",
       "    <tr>\n",
       "      <th>1</th>\n",
       "      <td>0</td>\n",
       "      <td>2</td>\n",
       "      <td>You are consistent.</td>\n",
       "      <td>You tend to be dependable.</td>\n",
       "    </tr>\n",
       "    <tr>\n",
       "      <th>2</th>\n",
       "      <td>0</td>\n",
       "      <td>3</td>\n",
       "      <td>You are consistent.</td>\n",
       "      <td>You are patient unless someone takes you too far.</td>\n",
       "    </tr>\n",
       "    <tr>\n",
       "      <th>3</th>\n",
       "      <td>0</td>\n",
       "      <td>4</td>\n",
       "      <td>You are consistent.</td>\n",
       "      <td>You are usually slow to anger unless someone t...</td>\n",
       "    </tr>\n",
       "    <tr>\n",
       "      <th>4</th>\n",
       "      <td>0</td>\n",
       "      <td>5</td>\n",
       "      <td>You are consistent.</td>\n",
       "      <td>You tend to be industrious, efficient, practic...</td>\n",
       "    </tr>\n",
       "    <tr>\n",
       "      <th>...</th>\n",
       "      <td>...</td>\n",
       "      <td>...</td>\n",
       "      <td>...</td>\n",
       "      <td>...</td>\n",
       "    </tr>\n",
       "    <tr>\n",
       "      <th>1076</th>\n",
       "      <td>43</td>\n",
       "      <td>45</td>\n",
       "      <td>You can handle more of the workload than most ...</td>\n",
       "      <td>You are independent.</td>\n",
       "    </tr>\n",
       "    <tr>\n",
       "      <th>1077</th>\n",
       "      <td>43</td>\n",
       "      <td>46</td>\n",
       "      <td>You can handle more of the workload than most ...</td>\n",
       "      <td>You are shy.</td>\n",
       "    </tr>\n",
       "    <tr>\n",
       "      <th>1078</th>\n",
       "      <td>44</td>\n",
       "      <td>45</td>\n",
       "      <td>You may be a bit of a perfectionist.</td>\n",
       "      <td>You are independent.</td>\n",
       "    </tr>\n",
       "    <tr>\n",
       "      <th>1079</th>\n",
       "      <td>44</td>\n",
       "      <td>46</td>\n",
       "      <td>You may be a bit of a perfectionist.</td>\n",
       "      <td>You are shy.</td>\n",
       "    </tr>\n",
       "    <tr>\n",
       "      <th>1080</th>\n",
       "      <td>45</td>\n",
       "      <td>46</td>\n",
       "      <td>You are independent.</td>\n",
       "      <td>You are shy.</td>\n",
       "    </tr>\n",
       "  </tbody>\n",
       "</table>\n",
       "<p>1081 rows × 4 columns</p>\n",
       "</div>"
      ],
      "text/plain": [
       "      first_index  second_index  \\\n",
       "0               0             1   \n",
       "1               0             2   \n",
       "2               0             3   \n",
       "3               0             4   \n",
       "4               0             5   \n",
       "...           ...           ...   \n",
       "1076           43            45   \n",
       "1077           43            46   \n",
       "1078           44            45   \n",
       "1079           44            46   \n",
       "1080           45            46   \n",
       "\n",
       "                                                  first  \\\n",
       "0                                   You are consistent.   \n",
       "1                                   You are consistent.   \n",
       "2                                   You are consistent.   \n",
       "3                                   You are consistent.   \n",
       "4                                   You are consistent.   \n",
       "...                                                 ...   \n",
       "1076  You can handle more of the workload than most ...   \n",
       "1077  You can handle more of the workload than most ...   \n",
       "1078               You may be a bit of a perfectionist.   \n",
       "1079               You may be a bit of a perfectionist.   \n",
       "1080                               You are independent.   \n",
       "\n",
       "                                                 second  \n",
       "0                                     You are reliable.  \n",
       "1                            You tend to be dependable.  \n",
       "2     You are patient unless someone takes you too far.  \n",
       "3     You are usually slow to anger unless someone t...  \n",
       "4     You tend to be industrious, efficient, practic...  \n",
       "...                                                 ...  \n",
       "1076                               You are independent.  \n",
       "1077                                       You are shy.  \n",
       "1078                               You are independent.  \n",
       "1079                                       You are shy.  \n",
       "1080                                       You are shy.  \n",
       "\n",
       "[1081 rows x 4 columns]"
      ]
     },
     "metadata": {},
     "output_type": "display_data"
    }
   ],
   "source": [
    "# generate all sentence pairs and save into a csv for manual labelling.\n",
    "data = []\n",
    "for pair in indices_list:\n",
    "    data.append([pair[0], pair[1], sents_df.iloc[pair[0]]['sentence'], sents_df.iloc[pair[1]]['sentence']])\n",
    "\n",
    "df = pd.DataFrame(data=data, columns=['first_index', 'second_index', 'first', 'second'])\n",
    "display(df)"
   ]
  },
  {
   "cell_type": "code",
   "execution_count": 192,
   "metadata": {},
   "outputs": [
    {
     "name": "stdin",
     "output_type": "stream",
     "text": [
      "save indexed paired dataset? (y/n):\n",
      " y\n"
     ]
    }
   ],
   "source": [
    "is_save = input('save indexed paired dataset? (y/n):\\n')\n",
    "if is_save.lower() == 'y':\n",
    "    df.to_csv(save_dir + '/' + 'paired_sentences.csv')\n",
    "else:\n",
    "    print('not saving indexed paired dataset.')"
   ]
  },
  {
   "cell_type": "markdown",
   "metadata": {},
   "source": [
    "## Perform inferences of distances between sentences in a sentence pair"
   ]
  },
  {
   "cell_type": "code",
   "execution_count": 10,
   "metadata": {},
   "outputs": [],
   "source": [
    "import torch\n",
    "from fairseq.data.data_utils import collate_tokens\n",
    "from math import exp\n",
    "import numpy as np\n",
    "\n",
    "class RobertaMNLI:\n",
    "    # todo: create similar wrapper classes for other NLI engines.\n",
    "    # todo: create a wrapper superclass and subclass from there.\n",
    "    \n",
    "    def __init__(self, rel_path):\n",
    "        \"\"\"\n",
    "        :param rel_path: relative path to pytorch hub directory.\n",
    "        \"\"\"\n",
    "        self.output_map = {\n",
    "            0: 'contradiction',\n",
    "            1: 'neutral',\n",
    "            2: 'entailment'\n",
    "        }\n",
    "        \n",
    "        torch.hub.set_dir(rel_path)\n",
    "        self.roberta = torch.hub.load('pytorch/fairseq', 'roberta.large.mnli')  # works\n",
    "        self.roberta.cuda()\n",
    "        self.roberta.eval()\n",
    "        \n",
    "    def predict_one(self, S1, S2, return_probs=False):\n",
    "        batch = collate_tokens(\n",
    "            [self.roberta.encode(S1, S2)], pad_idx=1\n",
    "        )\n",
    "        logprobs = self.roberta.predict('mnli', batch)\n",
    "        classes_tsr = logprobs.argmax(dim=1)\n",
    "        classes = classes_tsr.tolist()  \n",
    "        \n",
    "        if return_probs == True:\n",
    "            logprobs_list=[logprob.item() for logprob in logprobs[0]]\n",
    "            prob_list =  [pow(exp(1), logprob) for logprob in logprobs_list]\n",
    "            return prob_list\n",
    "        else:\n",
    "            return classes[0]  # 0 is contradiction, 1 is neutral, 2 is entailment."
   ]
  },
  {
   "cell_type": "code",
   "execution_count": 11,
   "metadata": {},
   "outputs": [
    {
     "name": "stderr",
     "output_type": "stream",
     "text": [
      "Using cache found in ../../roberta/hub\\pytorch_fairseq_master\n"
     ]
    }
   ],
   "source": [
    "predictor = RobertaMNLI(rel_path=\"../../roberta/hub\")"
   ]
  },
  {
   "cell_type": "code",
   "execution_count": 193,
   "metadata": {},
   "outputs": [],
   "source": [
    "results = list()\n",
    "for i in range(len(df)):\n",
    "    s1 = df.iloc[i]['first']\n",
    "    s2 = df.iloc[i]['second']\n",
    "    CNE1 = predictor.predict_one(s1, s2, return_probs=True)\n",
    "    CNE2 = predictor.predict_one(s2, s1, return_probs=True)\n",
    "    row = CNE1+ CNE2\n",
    "    results.append(row)\n",
    "\n",
    "scores_df = pd.DataFrame(data=results, columns=['C1', 'N1', 'E1', 'C2', 'N2', 'E2'])"
   ]
  },
  {
   "cell_type": "code",
   "execution_count": 194,
   "metadata": {},
   "outputs": [],
   "source": [
    "def gen_dist2(row):\n",
    "    '''\n",
    "    Generate distance score based on Contradiction, Entailment and Neutrality probabilities for both directions.\n",
    "    Assumes that C+E+N=1.\n",
    "    '''    \n",
    "    max1 = max([row['C1'], row['E1'], row['N1']])\n",
    "    max2 = max([row['C2'], row['E2'], row['N2']])\n",
    "    if max1 > max2:\n",
    "        C, E, N = row['C1'], row['E1'], row['N1']\n",
    "    else:\n",
    "        C, E, N = row['C2'], row['E2'], row['N2']\n",
    "    \n",
    "    if C > 0.5:\n",
    "        return C\n",
    "    elif C == E:\n",
    "        return 0.5\n",
    "    else:\n",
    "        return N/(N+E)*0.5"
   ]
  },
  {
   "cell_type": "code",
   "execution_count": 195,
   "metadata": {},
   "outputs": [],
   "source": [
    "dist_ser = scores_df.apply(lambda row: gen_dist2(row), axis=1)\n",
    "dist_ser.name = 'dist'\n",
    "scores_df = scores_df.join(dist_ser)\n",
    "scores_df = df.join(scores_df)\n",
    "scores_df.to_csv(save_dir + '/' + 'nliScores.csv')"
   ]
  },
  {
   "cell_type": "code",
   "execution_count": 196,
   "metadata": {},
   "outputs": [
    {
     "data": {
      "text/html": [
       "<div>\n",
       "<style scoped>\n",
       "    .dataframe tbody tr th:only-of-type {\n",
       "        vertical-align: middle;\n",
       "    }\n",
       "\n",
       "    .dataframe tbody tr th {\n",
       "        vertical-align: top;\n",
       "    }\n",
       "\n",
       "    .dataframe thead th {\n",
       "        text-align: right;\n",
       "    }\n",
       "</style>\n",
       "<table border=\"1\" class=\"dataframe\">\n",
       "  <thead>\n",
       "    <tr style=\"text-align: right;\">\n",
       "      <th></th>\n",
       "      <th>first_index</th>\n",
       "      <th>second_index</th>\n",
       "      <th>first</th>\n",
       "      <th>second</th>\n",
       "      <th>C1</th>\n",
       "      <th>N1</th>\n",
       "      <th>E1</th>\n",
       "      <th>C2</th>\n",
       "      <th>N2</th>\n",
       "      <th>E2</th>\n",
       "      <th>dist</th>\n",
       "    </tr>\n",
       "  </thead>\n",
       "  <tbody>\n",
       "    <tr>\n",
       "      <th>0</th>\n",
       "      <td>0</td>\n",
       "      <td>1</td>\n",
       "      <td>You are consistent.</td>\n",
       "      <td>You are reliable.</td>\n",
       "      <td>0.000472</td>\n",
       "      <td>0.024263</td>\n",
       "      <td>0.975264</td>\n",
       "      <td>0.000486</td>\n",
       "      <td>0.019358</td>\n",
       "      <td>0.980157</td>\n",
       "      <td>0.009683</td>\n",
       "    </tr>\n",
       "    <tr>\n",
       "      <th>1</th>\n",
       "      <td>0</td>\n",
       "      <td>2</td>\n",
       "      <td>You are consistent.</td>\n",
       "      <td>You tend to be dependable.</td>\n",
       "      <td>0.000582</td>\n",
       "      <td>0.065716</td>\n",
       "      <td>0.933702</td>\n",
       "      <td>0.000632</td>\n",
       "      <td>0.036170</td>\n",
       "      <td>0.963198</td>\n",
       "      <td>0.018096</td>\n",
       "    </tr>\n",
       "    <tr>\n",
       "      <th>2</th>\n",
       "      <td>0</td>\n",
       "      <td>3</td>\n",
       "      <td>You are consistent.</td>\n",
       "      <td>You are patient unless someone takes you too far.</td>\n",
       "      <td>0.004675</td>\n",
       "      <td>0.977356</td>\n",
       "      <td>0.017969</td>\n",
       "      <td>0.040609</td>\n",
       "      <td>0.214119</td>\n",
       "      <td>0.745272</td>\n",
       "      <td>0.490973</td>\n",
       "    </tr>\n",
       "    <tr>\n",
       "      <th>3</th>\n",
       "      <td>0</td>\n",
       "      <td>4</td>\n",
       "      <td>You are consistent.</td>\n",
       "      <td>You are usually slow to anger unless someone t...</td>\n",
       "      <td>0.004078</td>\n",
       "      <td>0.993417</td>\n",
       "      <td>0.002505</td>\n",
       "      <td>0.538609</td>\n",
       "      <td>0.270079</td>\n",
       "      <td>0.191312</td>\n",
       "      <td>0.498743</td>\n",
       "    </tr>\n",
       "    <tr>\n",
       "      <th>4</th>\n",
       "      <td>0</td>\n",
       "      <td>5</td>\n",
       "      <td>You are consistent.</td>\n",
       "      <td>You tend to be industrious, efficient, practic...</td>\n",
       "      <td>0.004214</td>\n",
       "      <td>0.525058</td>\n",
       "      <td>0.470728</td>\n",
       "      <td>0.001875</td>\n",
       "      <td>0.156275</td>\n",
       "      <td>0.841850</td>\n",
       "      <td>0.078284</td>\n",
       "    </tr>\n",
       "  </tbody>\n",
       "</table>\n",
       "</div>"
      ],
      "text/plain": [
       "   first_index  second_index                first  \\\n",
       "0            0             1  You are consistent.   \n",
       "1            0             2  You are consistent.   \n",
       "2            0             3  You are consistent.   \n",
       "3            0             4  You are consistent.   \n",
       "4            0             5  You are consistent.   \n",
       "\n",
       "                                              second        C1        N1  \\\n",
       "0                                  You are reliable.  0.000472  0.024263   \n",
       "1                         You tend to be dependable.  0.000582  0.065716   \n",
       "2  You are patient unless someone takes you too far.  0.004675  0.977356   \n",
       "3  You are usually slow to anger unless someone t...  0.004078  0.993417   \n",
       "4  You tend to be industrious, efficient, practic...  0.004214  0.525058   \n",
       "\n",
       "         E1        C2        N2        E2      dist  \n",
       "0  0.975264  0.000486  0.019358  0.980157  0.009683  \n",
       "1  0.933702  0.000632  0.036170  0.963198  0.018096  \n",
       "2  0.017969  0.040609  0.214119  0.745272  0.490973  \n",
       "3  0.002505  0.538609  0.270079  0.191312  0.498743  \n",
       "4  0.470728  0.001875  0.156275  0.841850  0.078284  "
      ]
     },
     "execution_count": 196,
     "metadata": {},
     "output_type": "execute_result"
    }
   ],
   "source": [
    "scores_df.head()"
   ]
  },
  {
   "cell_type": "markdown",
   "metadata": {},
   "source": [
    "## Clustering based on precomputed pairwise distances."
   ]
  },
  {
   "cell_type": "code",
   "execution_count": 197,
   "metadata": {},
   "outputs": [],
   "source": [
    "import numpy as np\n",
    "import pandas as pd\n",
    "\n",
    "import scipy\n",
    "from scipy.cluster.hierarchy import dendrogram,linkage\n",
    "from scipy.cluster.hierarchy import fcluster\n",
    "from scipy.cluster.hierarchy import cophenet\n",
    "from scipy.spatial.distance import pdist\n",
    "\n",
    "import matplotlib.pyplot as plt\n",
    "from pylab import rcParams\n",
    "import seaborn as sb\n",
    "\n",
    "import sklearn\n",
    "# from sklearn import datasets\n",
    "from sklearn.cluster import AgglomerativeClustering\n",
    "import sklearn.metrics as sm\n",
    "from sklearn.preprocessing import scale\n",
    "\n",
    "# Configure the output\n",
    "np.set_printoptions(precision=4,suppress=True)\n",
    "%matplotlib inline\n",
    "rcParams[\"figure.figsize\"] =20,10\n",
    "sb.set_style(\"whitegrid\")"
   ]
  },
  {
   "cell_type": "code",
   "execution_count": 198,
   "metadata": {},
   "outputs": [
    {
     "name": "stdout",
     "output_type": "stream",
     "text": [
      "[[ 0  0  0]\n",
      " [ 1  1  0]\n",
      " [ 2  2  0]\n",
      " [ 3  3  0]\n",
      " [ 4  4  0]\n",
      " [ 5  5  0]\n",
      " [ 6  6  0]\n",
      " [ 7  7  0]\n",
      " [ 8  8  0]\n",
      " [ 9  9  0]\n",
      " [10 10  0]\n",
      " [11 11  0]\n",
      " [12 12  0]\n",
      " [13 13  0]\n",
      " [14 14  0]\n",
      " [15 15  0]\n",
      " [16 16  0]\n",
      " [17 17  0]\n",
      " [18 18  0]\n",
      " [19 19  0]\n",
      " [20 20  0]\n",
      " [21 21  0]\n",
      " [22 22  0]\n",
      " [23 23  0]\n",
      " [24 24  0]\n",
      " [25 25  0]\n",
      " [26 26  0]\n",
      " [27 27  0]\n",
      " [28 28  0]\n",
      " [29 29  0]\n",
      " [30 30  0]\n",
      " [31 31  0]\n",
      " [32 32  0]\n",
      " [33 33  0]\n",
      " [34 34  0]\n",
      " [35 35  0]\n",
      " [36 36  0]\n",
      " [37 37  0]\n",
      " [38 38  0]\n",
      " [39 39  0]\n",
      " [40 40  0]\n",
      " [41 41  0]\n",
      " [42 42  0]\n",
      " [43 43  0]\n",
      " [44 44  0]\n",
      " [45 45  0]\n",
      " [46 46  0]]\n"
     ]
    }
   ],
   "source": [
    "# convert this original dataframe to a 'square' distance matrix.\n",
    "# we utilise a pivot table to do this\n",
    "\n",
    "# first, add the redundant pairs (two of the same sentences) to the data.\n",
    "# we need this for the pivot function to generate the correct indices and columns.\n",
    "first = np.unique(df['first_index'].values)\n",
    "second = np.unique(df['second_index'].values)\n",
    "combined_arr = np.concatenate((first, second))\n",
    "sentences = np.unique(combined_arr)\n",
    "add_data = np.column_stack([sentences, sentences, np.zeros(len(sentences))])\n",
    "add_data = add_data.astype(np.int)\n",
    "\n",
    "print(add_data)"
   ]
  },
  {
   "cell_type": "code",
   "execution_count": 199,
   "metadata": {},
   "outputs": [],
   "source": [
    "add_df = pd.DataFrame(data=add_data, columns=['first_index','second_index','dist'])\n",
    "scores_df = scores_df.append(add_df, ignore_index=True)\n",
    "df_piv = scores_df.pivot(\"first_index\", \"second_index\", \"dist\").fillna(0)\n",
    "piv_arr = df_piv.values\n",
    "dist_mat = piv_arr + np.transpose(piv_arr)\n",
    "\n",
    "# generate pairwise matrix for saving.\n",
    "intersentence = pd.DataFrame(data=dist_mat, index=df_piv.index, columns=df_piv.columns)\n",
    "\n",
    "path = save_dir + '/' + 'pairwiseMatrix.csv'\n",
    "intersentence.to_csv(path)"
   ]
  },
  {
   "cell_type": "code",
   "execution_count": 200,
   "metadata": {
    "scrolled": true
   },
   "outputs": [
    {
     "name": "stdout",
     "output_type": "stream",
     "text": [
      "loaded data from disk.\n"
     ]
    },
    {
     "data": {
      "text/html": [
       "<div>\n",
       "<style scoped>\n",
       "    .dataframe tbody tr th:only-of-type {\n",
       "        vertical-align: middle;\n",
       "    }\n",
       "\n",
       "    .dataframe tbody tr th {\n",
       "        vertical-align: top;\n",
       "    }\n",
       "\n",
       "    .dataframe thead th {\n",
       "        text-align: right;\n",
       "    }\n",
       "</style>\n",
       "<table border=\"1\" class=\"dataframe\">\n",
       "  <thead>\n",
       "    <tr style=\"text-align: right;\">\n",
       "      <th></th>\n",
       "      <th>first_index</th>\n",
       "      <th>0</th>\n",
       "      <th>1</th>\n",
       "      <th>2</th>\n",
       "      <th>3</th>\n",
       "      <th>4</th>\n",
       "      <th>5</th>\n",
       "      <th>6</th>\n",
       "      <th>7</th>\n",
       "      <th>8</th>\n",
       "      <th>...</th>\n",
       "      <th>37</th>\n",
       "      <th>38</th>\n",
       "      <th>39</th>\n",
       "      <th>40</th>\n",
       "      <th>41</th>\n",
       "      <th>42</th>\n",
       "      <th>43</th>\n",
       "      <th>44</th>\n",
       "      <th>45</th>\n",
       "      <th>46</th>\n",
       "    </tr>\n",
       "  </thead>\n",
       "  <tbody>\n",
       "    <tr>\n",
       "      <th>0</th>\n",
       "      <td>0</td>\n",
       "      <td>0.000000</td>\n",
       "      <td>0.009683</td>\n",
       "      <td>0.018096</td>\n",
       "      <td>0.490973</td>\n",
       "      <td>0.498743</td>\n",
       "      <td>0.078284</td>\n",
       "      <td>0.994419</td>\n",
       "      <td>0.492677</td>\n",
       "      <td>0.496143</td>\n",
       "      <td>...</td>\n",
       "      <td>0.998368</td>\n",
       "      <td>0.399682</td>\n",
       "      <td>0.877251</td>\n",
       "      <td>0.498560</td>\n",
       "      <td>0.492295</td>\n",
       "      <td>0.422655</td>\n",
       "      <td>0.491666</td>\n",
       "      <td>0.496580</td>\n",
       "      <td>0.132252</td>\n",
       "      <td>0.860458</td>\n",
       "    </tr>\n",
       "    <tr>\n",
       "      <th>1</th>\n",
       "      <td>1</td>\n",
       "      <td>0.009683</td>\n",
       "      <td>0.000000</td>\n",
       "      <td>0.007001</td>\n",
       "      <td>0.491422</td>\n",
       "      <td>0.498445</td>\n",
       "      <td>0.350313</td>\n",
       "      <td>0.882926</td>\n",
       "      <td>0.912583</td>\n",
       "      <td>0.490530</td>\n",
       "      <td>...</td>\n",
       "      <td>0.994155</td>\n",
       "      <td>0.369025</td>\n",
       "      <td>0.869252</td>\n",
       "      <td>0.497108</td>\n",
       "      <td>0.487843</td>\n",
       "      <td>0.446308</td>\n",
       "      <td>0.494564</td>\n",
       "      <td>0.498223</td>\n",
       "      <td>0.107747</td>\n",
       "      <td>0.970994</td>\n",
       "    </tr>\n",
       "    <tr>\n",
       "      <th>2</th>\n",
       "      <td>2</td>\n",
       "      <td>0.018096</td>\n",
       "      <td>0.007001</td>\n",
       "      <td>0.000000</td>\n",
       "      <td>0.487923</td>\n",
       "      <td>0.477068</td>\n",
       "      <td>0.099257</td>\n",
       "      <td>0.988017</td>\n",
       "      <td>0.942096</td>\n",
       "      <td>0.881199</td>\n",
       "      <td>...</td>\n",
       "      <td>0.991583</td>\n",
       "      <td>0.163785</td>\n",
       "      <td>0.463569</td>\n",
       "      <td>0.474135</td>\n",
       "      <td>0.483073</td>\n",
       "      <td>0.441268</td>\n",
       "      <td>0.469502</td>\n",
       "      <td>0.493253</td>\n",
       "      <td>0.882917</td>\n",
       "      <td>0.908823</td>\n",
       "    </tr>\n",
       "    <tr>\n",
       "      <th>3</th>\n",
       "      <td>3</td>\n",
       "      <td>0.490973</td>\n",
       "      <td>0.491422</td>\n",
       "      <td>0.487923</td>\n",
       "      <td>0.000000</td>\n",
       "      <td>0.007679</td>\n",
       "      <td>0.498411</td>\n",
       "      <td>0.493325</td>\n",
       "      <td>0.496423</td>\n",
       "      <td>0.497192</td>\n",
       "      <td>...</td>\n",
       "      <td>0.945772</td>\n",
       "      <td>0.491735</td>\n",
       "      <td>0.494618</td>\n",
       "      <td>0.494332</td>\n",
       "      <td>0.450308</td>\n",
       "      <td>0.939172</td>\n",
       "      <td>0.498759</td>\n",
       "      <td>0.492892</td>\n",
       "      <td>0.493068</td>\n",
       "      <td>0.493188</td>\n",
       "    </tr>\n",
       "    <tr>\n",
       "      <th>4</th>\n",
       "      <td>4</td>\n",
       "      <td>0.498743</td>\n",
       "      <td>0.498445</td>\n",
       "      <td>0.477068</td>\n",
       "      <td>0.007679</td>\n",
       "      <td>0.000000</td>\n",
       "      <td>0.498638</td>\n",
       "      <td>0.494649</td>\n",
       "      <td>0.494720</td>\n",
       "      <td>0.494135</td>\n",
       "      <td>...</td>\n",
       "      <td>0.499050</td>\n",
       "      <td>0.491037</td>\n",
       "      <td>0.497422</td>\n",
       "      <td>0.498741</td>\n",
       "      <td>0.484315</td>\n",
       "      <td>0.499179</td>\n",
       "      <td>0.499295</td>\n",
       "      <td>0.496972</td>\n",
       "      <td>0.499113</td>\n",
       "      <td>0.494452</td>\n",
       "    </tr>\n",
       "  </tbody>\n",
       "</table>\n",
       "<p>5 rows × 48 columns</p>\n",
       "</div>"
      ],
      "text/plain": [
       "   first_index         0         1         2         3         4         5  \\\n",
       "0            0  0.000000  0.009683  0.018096  0.490973  0.498743  0.078284   \n",
       "1            1  0.009683  0.000000  0.007001  0.491422  0.498445  0.350313   \n",
       "2            2  0.018096  0.007001  0.000000  0.487923  0.477068  0.099257   \n",
       "3            3  0.490973  0.491422  0.487923  0.000000  0.007679  0.498411   \n",
       "4            4  0.498743  0.498445  0.477068  0.007679  0.000000  0.498638   \n",
       "\n",
       "          6         7         8  ...        37        38        39        40  \\\n",
       "0  0.994419  0.492677  0.496143  ...  0.998368  0.399682  0.877251  0.498560   \n",
       "1  0.882926  0.912583  0.490530  ...  0.994155  0.369025  0.869252  0.497108   \n",
       "2  0.988017  0.942096  0.881199  ...  0.991583  0.163785  0.463569  0.474135   \n",
       "3  0.493325  0.496423  0.497192  ...  0.945772  0.491735  0.494618  0.494332   \n",
       "4  0.494649  0.494720  0.494135  ...  0.499050  0.491037  0.497422  0.498741   \n",
       "\n",
       "         41        42        43        44        45        46  \n",
       "0  0.492295  0.422655  0.491666  0.496580  0.132252  0.860458  \n",
       "1  0.487843  0.446308  0.494564  0.498223  0.107747  0.970994  \n",
       "2  0.483073  0.441268  0.469502  0.493253  0.882917  0.908823  \n",
       "3  0.450308  0.939172  0.498759  0.492892  0.493068  0.493188  \n",
       "4  0.484315  0.499179  0.499295  0.496972  0.499113  0.494452  \n",
       "\n",
       "[5 rows x 48 columns]"
      ]
     },
     "metadata": {},
     "output_type": "display_data"
    },
    {
     "data": {
      "text/html": [
       "<div>\n",
       "<style scoped>\n",
       "    .dataframe tbody tr th:only-of-type {\n",
       "        vertical-align: middle;\n",
       "    }\n",
       "\n",
       "    .dataframe tbody tr th {\n",
       "        vertical-align: top;\n",
       "    }\n",
       "\n",
       "    .dataframe thead th {\n",
       "        text-align: right;\n",
       "    }\n",
       "</style>\n",
       "<table border=\"1\" class=\"dataframe\">\n",
       "  <thead>\n",
       "    <tr style=\"text-align: right;\">\n",
       "      <th></th>\n",
       "      <th>0</th>\n",
       "      <th>1</th>\n",
       "      <th>2</th>\n",
       "      <th>3</th>\n",
       "      <th>4</th>\n",
       "      <th>5</th>\n",
       "      <th>6</th>\n",
       "      <th>7</th>\n",
       "      <th>8</th>\n",
       "      <th>9</th>\n",
       "      <th>...</th>\n",
       "      <th>37</th>\n",
       "      <th>38</th>\n",
       "      <th>39</th>\n",
       "      <th>40</th>\n",
       "      <th>41</th>\n",
       "      <th>42</th>\n",
       "      <th>43</th>\n",
       "      <th>44</th>\n",
       "      <th>45</th>\n",
       "      <th>46</th>\n",
       "    </tr>\n",
       "  </thead>\n",
       "  <tbody>\n",
       "    <tr>\n",
       "      <th>0</th>\n",
       "      <td>0.000000</td>\n",
       "      <td>0.009683</td>\n",
       "      <td>0.018096</td>\n",
       "      <td>0.490973</td>\n",
       "      <td>0.498743</td>\n",
       "      <td>0.078284</td>\n",
       "      <td>0.994419</td>\n",
       "      <td>0.492677</td>\n",
       "      <td>0.496143</td>\n",
       "      <td>0.495870</td>\n",
       "      <td>...</td>\n",
       "      <td>0.998368</td>\n",
       "      <td>0.399682</td>\n",
       "      <td>0.877251</td>\n",
       "      <td>0.498560</td>\n",
       "      <td>0.492295</td>\n",
       "      <td>0.422655</td>\n",
       "      <td>0.491666</td>\n",
       "      <td>0.496580</td>\n",
       "      <td>0.132252</td>\n",
       "      <td>0.860458</td>\n",
       "    </tr>\n",
       "    <tr>\n",
       "      <th>1</th>\n",
       "      <td>0.009683</td>\n",
       "      <td>0.000000</td>\n",
       "      <td>0.007001</td>\n",
       "      <td>0.491422</td>\n",
       "      <td>0.498445</td>\n",
       "      <td>0.350313</td>\n",
       "      <td>0.882926</td>\n",
       "      <td>0.912583</td>\n",
       "      <td>0.490530</td>\n",
       "      <td>0.499268</td>\n",
       "      <td>...</td>\n",
       "      <td>0.994155</td>\n",
       "      <td>0.369025</td>\n",
       "      <td>0.869252</td>\n",
       "      <td>0.497108</td>\n",
       "      <td>0.487843</td>\n",
       "      <td>0.446308</td>\n",
       "      <td>0.494564</td>\n",
       "      <td>0.498223</td>\n",
       "      <td>0.107747</td>\n",
       "      <td>0.970994</td>\n",
       "    </tr>\n",
       "    <tr>\n",
       "      <th>2</th>\n",
       "      <td>0.018096</td>\n",
       "      <td>0.007001</td>\n",
       "      <td>0.000000</td>\n",
       "      <td>0.487923</td>\n",
       "      <td>0.477068</td>\n",
       "      <td>0.099257</td>\n",
       "      <td>0.988017</td>\n",
       "      <td>0.942096</td>\n",
       "      <td>0.881199</td>\n",
       "      <td>0.493388</td>\n",
       "      <td>...</td>\n",
       "      <td>0.991583</td>\n",
       "      <td>0.163785</td>\n",
       "      <td>0.463569</td>\n",
       "      <td>0.474135</td>\n",
       "      <td>0.483073</td>\n",
       "      <td>0.441268</td>\n",
       "      <td>0.469502</td>\n",
       "      <td>0.493253</td>\n",
       "      <td>0.882917</td>\n",
       "      <td>0.908823</td>\n",
       "    </tr>\n",
       "    <tr>\n",
       "      <th>3</th>\n",
       "      <td>0.490973</td>\n",
       "      <td>0.491422</td>\n",
       "      <td>0.487923</td>\n",
       "      <td>0.000000</td>\n",
       "      <td>0.007679</td>\n",
       "      <td>0.498411</td>\n",
       "      <td>0.493325</td>\n",
       "      <td>0.496423</td>\n",
       "      <td>0.497192</td>\n",
       "      <td>0.498191</td>\n",
       "      <td>...</td>\n",
       "      <td>0.945772</td>\n",
       "      <td>0.491735</td>\n",
       "      <td>0.494618</td>\n",
       "      <td>0.494332</td>\n",
       "      <td>0.450308</td>\n",
       "      <td>0.939172</td>\n",
       "      <td>0.498759</td>\n",
       "      <td>0.492892</td>\n",
       "      <td>0.493068</td>\n",
       "      <td>0.493188</td>\n",
       "    </tr>\n",
       "    <tr>\n",
       "      <th>4</th>\n",
       "      <td>0.498743</td>\n",
       "      <td>0.498445</td>\n",
       "      <td>0.477068</td>\n",
       "      <td>0.007679</td>\n",
       "      <td>0.000000</td>\n",
       "      <td>0.498638</td>\n",
       "      <td>0.494649</td>\n",
       "      <td>0.494720</td>\n",
       "      <td>0.494135</td>\n",
       "      <td>0.495062</td>\n",
       "      <td>...</td>\n",
       "      <td>0.499050</td>\n",
       "      <td>0.491037</td>\n",
       "      <td>0.497422</td>\n",
       "      <td>0.498741</td>\n",
       "      <td>0.484315</td>\n",
       "      <td>0.499179</td>\n",
       "      <td>0.499295</td>\n",
       "      <td>0.496972</td>\n",
       "      <td>0.499113</td>\n",
       "      <td>0.494452</td>\n",
       "    </tr>\n",
       "  </tbody>\n",
       "</table>\n",
       "<p>5 rows × 47 columns</p>\n",
       "</div>"
      ],
      "text/plain": [
       "          0         1         2         3         4         5         6  \\\n",
       "0  0.000000  0.009683  0.018096  0.490973  0.498743  0.078284  0.994419   \n",
       "1  0.009683  0.000000  0.007001  0.491422  0.498445  0.350313  0.882926   \n",
       "2  0.018096  0.007001  0.000000  0.487923  0.477068  0.099257  0.988017   \n",
       "3  0.490973  0.491422  0.487923  0.000000  0.007679  0.498411  0.493325   \n",
       "4  0.498743  0.498445  0.477068  0.007679  0.000000  0.498638  0.494649   \n",
       "\n",
       "          7         8         9  ...        37        38        39        40  \\\n",
       "0  0.492677  0.496143  0.495870  ...  0.998368  0.399682  0.877251  0.498560   \n",
       "1  0.912583  0.490530  0.499268  ...  0.994155  0.369025  0.869252  0.497108   \n",
       "2  0.942096  0.881199  0.493388  ...  0.991583  0.163785  0.463569  0.474135   \n",
       "3  0.496423  0.497192  0.498191  ...  0.945772  0.491735  0.494618  0.494332   \n",
       "4  0.494720  0.494135  0.495062  ...  0.499050  0.491037  0.497422  0.498741   \n",
       "\n",
       "         41        42        43        44        45        46  \n",
       "0  0.492295  0.422655  0.491666  0.496580  0.132252  0.860458  \n",
       "1  0.487843  0.446308  0.494564  0.498223  0.107747  0.970994  \n",
       "2  0.483073  0.441268  0.469502  0.493253  0.882917  0.908823  \n",
       "3  0.450308  0.939172  0.498759  0.492892  0.493068  0.493188  \n",
       "4  0.484315  0.499179  0.499295  0.496972  0.499113  0.494452  \n",
       "\n",
       "[5 rows x 47 columns]"
      ]
     },
     "metadata": {},
     "output_type": "display_data"
    },
    {
     "data": {
      "text/plain": [
       "array([[0.    , 0.0097, 0.0181, ..., 0.4966, 0.1323, 0.8605],\n",
       "       [0.0097, 0.    , 0.007 , ..., 0.4982, 0.1077, 0.971 ],\n",
       "       [0.0181, 0.007 , 0.    , ..., 0.4933, 0.8829, 0.9088],\n",
       "       ...,\n",
       "       [0.4966, 0.4982, 0.4933, ..., 0.    , 0.4986, 0.4964],\n",
       "       [0.1323, 0.1077, 0.8829, ..., 0.4986, 0.    , 0.9991],\n",
       "       [0.8605, 0.971 , 0.9088, ..., 0.4964, 0.9991, 0.    ]])"
      ]
     },
     "metadata": {},
     "output_type": "display_data"
    }
   ],
   "source": [
    "# load data files (this step can be skipped if the previous few cells have been run to produce the required data)\n",
    "\n",
    "# load intersentence pairwise distance matrix.\n",
    "df_piv = pd.read_csv(\"../data/test4/pairwiseMatrix.csv\")\n",
    "print(\"loaded data from disk.\")\n",
    "display(df_piv.head())\n",
    "df_piv = df_piv.drop(columns=['first_index'])\n",
    "display(df_piv.head())\n",
    "dist_mat = df_piv.values\n",
    "display(dist_mat)"
   ]
  },
  {
   "cell_type": "code",
   "execution_count": 201,
   "metadata": {
    "scrolled": true
   },
   "outputs": [
    {
     "name": "stdout",
     "output_type": "stream",
     "text": [
      "2 :  0.1530974104929932\n",
      "3 :  0.11465585326025593\n",
      "4 :  0.12269240201181605\n",
      "5 :  0.11190740922605884\n",
      "6 :  0.12398198191345929\n",
      "7 :  0.1568873791468425\n",
      "8 :  0.1664863247513181\n",
      "9 :  0.20243131533107017\n",
      "10 :  0.22778354545278098\n",
      "11 :  0.23299565653457616\n",
      "12 :  0.25505047055312385\n",
      "13 :  0.24777594583731236\n",
      "14 :  0.2601765494083113\n",
      "15 :  0.280998209973779\n",
      "16 :  0.3404072502709817\n",
      "17 :  0.3802797934494407\n",
      "18 :  0.35102645284533196\n",
      "19 :  0.3657036419923493\n",
      "20 :  0.34736494261303963\n",
      "21 :  0.4314825522568258\n",
      "22 :  0.4732499155872001\n",
      "23 :  0.4992369642647755\n",
      "24 :  0.5203224403720828\n",
      "25 :  0.5442404595475581\n",
      "26 :  0.546223550341764\n",
      "27 :  0.5641998363009654\n",
      "28 :  0.5623563155283867\n",
      "29 :  0.5583839087212443\n",
      "30 :  0.5525103870593224\n",
      "31 :  0.5228773407545035\n",
      "32 :  0.4847228790308328\n",
      "33 :  0.45451291991996257\n",
      "34 :  0.419183369272193\n",
      "35 :  0.38901510001825895\n",
      "36 :  0.3709636952323824\n",
      "37 :  0.3481891567083235\n",
      "38 :  0.30797853436851735\n",
      "39 :  0.2652056622372173\n",
      "40 :  0.23303602402470835\n",
      "41 :  0.21565861793486213\n",
      "42 :  0.1738152554743143\n",
      "43 :  0.14053285784134953\n",
      "44 :  0.12159521898165182\n",
      "45 :  0.07936327383250838\n",
      "46 :  0.04185193880994379\n"
     ]
    }
   ],
   "source": [
    "from scipy.spatial.distance import squareform\n",
    "condensed_mat = squareform(dist_mat)\n",
    "linkage = 'complete'\n",
    "\n",
    "sil_scores = []  # silhouette scores\n",
    "for i in range(2, len(dist_mat)):\n",
    "    clusters = AgglomerativeClustering(n_clusters=i, affinity='precomputed', linkage=linkage)\n",
    "    clusters.fit_predict(dist_mat)\n",
    "\n",
    "    # use metric to measure/compare goodness of clusters based on internal coherence and \n",
    "    # external coupling.\n",
    "    # consider Dunn index. maximise the Dunn index.\n",
    "    # or consider average sillhouette width (maximise). available in sklearn.\n",
    "    from sklearn.metrics import silhouette_score\n",
    "\n",
    "    silhouette_avg = silhouette_score(dist_mat, clusters.labels_, metric='precomputed')\n",
    "    sil_scores.append(silhouette_avg)\n",
    "    print(i, \": \", silhouette_avg)"
   ]
  },
  {
   "cell_type": "code",
   "execution_count": 202,
   "metadata": {},
   "outputs": [
    {
     "name": "stdout",
     "output_type": "stream",
     "text": [
      "max avg silhouette score:  0.5641998363009654\n",
      "nclusters w max avg silhouette score:  27\n"
     ]
    }
   ],
   "source": [
    "sil_scores_arr = np.asarray(sil_scores)\n",
    "print('max avg silhouette score: ', sil_scores_arr.max())\n",
    "OPTIMAL_K = np.where(sil_scores_arr == sil_scores_arr.max())[0][0] + 2\n",
    "print('nclusters w max avg silhouette score: ', OPTIMAL_K)"
   ]
  },
  {
   "cell_type": "code",
   "execution_count": 203,
   "metadata": {
    "scrolled": true
   },
   "outputs": [
    {
     "name": "stdout",
     "output_type": "stream",
     "text": [
      "cluster 0 (size 2):\n",
      "[17 19]\n"
     ]
    },
    {
     "data": {
      "text/plain": [
       "'Your mind is deep.'"
      ]
     },
     "metadata": {},
     "output_type": "display_data"
    },
    {
     "data": {
      "text/plain": [
       "'You grasp concepts easily.'"
      ]
     },
     "metadata": {},
     "output_type": "display_data"
    },
    {
     "name": "stdout",
     "output_type": "stream",
     "text": [
      "\n",
      "\n",
      "cluster 1 (size 2):\n",
      "[34 38]\n"
     ]
    },
    {
     "data": {
      "text/plain": [
       "'You never find it difficult to change your mind or course in mid-stream.'"
      ]
     },
     "metadata": {},
     "output_type": "display_data"
    },
    {
     "data": {
      "text/plain": [
       "'You tend to be honest.'"
      ]
     },
     "metadata": {},
     "output_type": "display_data"
    },
    {
     "name": "stdout",
     "output_type": "stream",
     "text": [
      "\n",
      "\n",
      "cluster 2 (size 3):\n",
      "[36 37 45]\n"
     ]
    },
    {
     "data": {
      "text/plain": [
       "'You are courageous.'"
      ]
     },
     "metadata": {},
     "output_type": "display_data"
    },
    {
     "data": {
      "text/plain": [
       "'You are adventurous.'"
      ]
     },
     "metadata": {},
     "output_type": "display_data"
    },
    {
     "data": {
      "text/plain": [
       "'You are independent.'"
      ]
     },
     "metadata": {},
     "output_type": "display_data"
    },
    {
     "name": "stdout",
     "output_type": "stream",
     "text": [
      "\n",
      "\n",
      "cluster 3 (size 2):\n",
      "[32 46]\n"
     ]
    },
    {
     "data": {
      "text/plain": [
       "'You are quiet.'"
      ]
     },
     "metadata": {},
     "output_type": "display_data"
    },
    {
     "data": {
      "text/plain": [
       "'You are shy.'"
      ]
     },
     "metadata": {},
     "output_type": "display_data"
    },
    {
     "name": "stdout",
     "output_type": "stream",
     "text": [
      "\n",
      "\n",
      "cluster 4 (size 2):\n",
      "[24 39]\n"
     ]
    },
    {
     "data": {
      "text/plain": [
       "'You are sentimental.'"
      ]
     },
     "metadata": {},
     "output_type": "display_data"
    },
    {
     "data": {
      "text/plain": [
       "'You are sensitive.'"
      ]
     },
     "metadata": {},
     "output_type": "display_data"
    },
    {
     "name": "stdout",
     "output_type": "stream",
     "text": [
      "\n",
      "\n",
      "cluster 5 (size 2):\n",
      "[15 22]\n"
     ]
    },
    {
     "data": {
      "text/plain": [
       "'Your mind is analytical.'"
      ]
     },
     "metadata": {},
     "output_type": "display_data"
    },
    {
     "data": {
      "text/plain": [
       "'you probably have a good head for numbers.'"
      ]
     },
     "metadata": {},
     "output_type": "display_data"
    },
    {
     "name": "stdout",
     "output_type": "stream",
     "text": [
      "\n",
      "\n",
      "cluster 6 (size 2):\n",
      "[20 30]\n"
     ]
    },
    {
     "data": {
      "text/plain": [
       "'You tend to be friendly.'"
      ]
     },
     "metadata": {},
     "output_type": "display_data"
    },
    {
     "data": {
      "text/plain": [
       "'You are gentle.'"
      ]
     },
     "metadata": {},
     "output_type": "display_data"
    },
    {
     "name": "stdout",
     "output_type": "stream",
     "text": [
      "\n",
      "\n",
      "cluster 7 (size 2):\n",
      "[16 18]\n"
     ]
    },
    {
     "data": {
      "text/plain": [
       "'you dislike dirt.'"
      ]
     },
     "metadata": {},
     "output_type": "display_data"
    },
    {
     "data": {
      "text/plain": [
       "'you dislike messes.'"
      ]
     },
     "metadata": {},
     "output_type": "display_data"
    },
    {
     "name": "stdout",
     "output_type": "stream",
     "text": [
      "\n",
      "\n",
      "cluster 8 (size 2):\n",
      "[ 9 10]\n"
     ]
    },
    {
     "data": {
      "text/plain": [
       "'Your work is usually neat.'"
      ]
     },
     "metadata": {},
     "output_type": "display_data"
    },
    {
     "data": {
      "text/plain": [
       "'Your work is usually orderly.'"
      ]
     },
     "metadata": {},
     "output_type": "display_data"
    },
    {
     "name": "stdout",
     "output_type": "stream",
     "text": [
      "\n",
      "\n",
      "cluster 9 (size 2):\n",
      "[5 6]\n"
     ]
    },
    {
     "data": {
      "text/plain": [
       "'You tend to be industrious, efficient, practical, exacting, scientific, organized, shy, thrifty, studious, economical, and punctual.'"
      ]
     },
     "metadata": {},
     "output_type": "display_data"
    },
    {
     "data": {
      "text/plain": [
       "'You tend to be versatile.'"
      ]
     },
     "metadata": {},
     "output_type": "display_data"
    },
    {
     "name": "stdout",
     "output_type": "stream",
     "text": [
      "\n",
      "\n",
      "cluster 10 (size 2):\n",
      "[23 42]\n"
     ]
    },
    {
     "data": {
      "text/plain": [
       "'You never give up.'"
      ]
     },
     "metadata": {},
     "output_type": "display_data"
    },
    {
     "data": {
      "text/plain": [
       "'Whatever you have set your sights on, you refuse to give up or let go of it.'"
      ]
     },
     "metadata": {},
     "output_type": "display_data"
    },
    {
     "name": "stdout",
     "output_type": "stream",
     "text": [
      "\n",
      "\n",
      "cluster 11 (size 3):\n",
      "[0 1 2]\n"
     ]
    },
    {
     "data": {
      "text/plain": [
       "'You are consistent.'"
      ]
     },
     "metadata": {},
     "output_type": "display_data"
    },
    {
     "data": {
      "text/plain": [
       "'You are reliable.'"
      ]
     },
     "metadata": {},
     "output_type": "display_data"
    },
    {
     "data": {
      "text/plain": [
       "'You tend to be dependable.'"
      ]
     },
     "metadata": {},
     "output_type": "display_data"
    },
    {
     "name": "stdout",
     "output_type": "stream",
     "text": [
      "\n",
      "\n",
      "cluster 12 (size 3):\n",
      "[ 7  8 26]\n"
     ]
    },
    {
     "data": {
      "text/plain": [
       "'You tend to be idealistic.'"
      ]
     },
     "metadata": {},
     "output_type": "display_data"
    },
    {
     "data": {
      "text/plain": [
       "'You tend to be optimistic.'"
      ]
     },
     "metadata": {},
     "output_type": "display_data"
    },
    {
     "data": {
      "text/plain": [
       "'You tend to be open-minded.'"
      ]
     },
     "metadata": {},
     "output_type": "display_data"
    },
    {
     "name": "stdout",
     "output_type": "stream",
     "text": [
      "\n",
      "\n",
      "cluster 13 (size 2):\n",
      "[27 29]\n"
     ]
    },
    {
     "data": {
      "text/plain": [
       "'You are usually outspoken, sometimes to the point of bluntness.'"
      ]
     },
     "metadata": {},
     "output_type": "display_data"
    },
    {
     "data": {
      "text/plain": [
       "'You are very direct in thought, action, and speech and everyone knows how you feel.'"
      ]
     },
     "metadata": {},
     "output_type": "display_data"
    },
    {
     "name": "stdout",
     "output_type": "stream",
     "text": [
      "\n",
      "\n",
      "cluster 14 (size 1):\n",
      "[28]\n"
     ]
    },
    {
     "data": {
      "text/plain": [
       "\"You may become impatient with those who do n't learn as quickly.\""
      ]
     },
     "metadata": {},
     "output_type": "display_data"
    },
    {
     "name": "stdout",
     "output_type": "stream",
     "text": [
      "\n",
      "\n",
      "cluster 15 (size 2):\n",
      "[11 12]\n"
     ]
    },
    {
     "data": {
      "text/plain": [
       "'You prefer a regular routine, defined responsibilities.'"
      ]
     },
     "metadata": {},
     "output_type": "display_data"
    },
    {
     "data": {
      "text/plain": [
       "'You prefer a regular routine, defined tasks.'"
      ]
     },
     "metadata": {},
     "output_type": "display_data"
    },
    {
     "name": "stdout",
     "output_type": "stream",
     "text": [
      "\n",
      "\n",
      "cluster 16 (size 2):\n",
      "[13 14]\n"
     ]
    },
    {
     "data": {
      "text/plain": [
       "'You have common sense to manage others.'"
      ]
     },
     "metadata": {},
     "output_type": "display_data"
    },
    {
     "data": {
      "text/plain": [
       "'You have the ability to manage others.'"
      ]
     },
     "metadata": {},
     "output_type": "display_data"
    },
    {
     "name": "stdout",
     "output_type": "stream",
     "text": [
      "\n",
      "\n",
      "cluster 17 (size 1):\n",
      "[21]\n"
     ]
    },
    {
     "data": {
      "text/plain": [
       "'You are romantic.'"
      ]
     },
     "metadata": {},
     "output_type": "display_data"
    },
    {
     "name": "stdout",
     "output_type": "stream",
     "text": [
      "\n",
      "\n",
      "cluster 18 (size 1):\n",
      "[44]\n"
     ]
    },
    {
     "data": {
      "text/plain": [
       "'You may be a bit of a perfectionist.'"
      ]
     },
     "metadata": {},
     "output_type": "display_data"
    },
    {
     "name": "stdout",
     "output_type": "stream",
     "text": [
      "\n",
      "\n",
      "cluster 19 (size 1):\n",
      "[31]\n"
     ]
    },
    {
     "data": {
      "text/plain": [
       "'Debate and argument appeal to you.'"
      ]
     },
     "metadata": {},
     "output_type": "display_data"
    },
    {
     "name": "stdout",
     "output_type": "stream",
     "text": [
      "\n",
      "\n",
      "cluster 20 (size 2):\n",
      "[3 4]\n"
     ]
    },
    {
     "data": {
      "text/plain": [
       "'You are patient unless someone takes you too far.'"
      ]
     },
     "metadata": {},
     "output_type": "display_data"
    },
    {
     "data": {
      "text/plain": [
       "'You are usually slow to anger unless someone takes you too far.'"
      ]
     },
     "metadata": {},
     "output_type": "display_data"
    },
    {
     "name": "stdout",
     "output_type": "stream",
     "text": [
      "\n",
      "\n",
      "cluster 21 (size 1):\n",
      "[40]\n"
     ]
    },
    {
     "data": {
      "text/plain": [
       "'You enjoy building and seeing the results of your hard work.'"
      ]
     },
     "metadata": {},
     "output_type": "display_data"
    },
    {
     "name": "stdout",
     "output_type": "stream",
     "text": [
      "\n",
      "\n",
      "cluster 22 (size 1):\n",
      "[35]\n"
     ]
    },
    {
     "data": {
      "text/plain": [
       "'Money and possessions are important to you for the feelings of security they bring.'"
      ]
     },
     "metadata": {},
     "output_type": "display_data"
    },
    {
     "name": "stdout",
     "output_type": "stream",
     "text": [
      "\n",
      "\n",
      "cluster 23 (size 1):\n",
      "[25]\n"
     ]
    },
    {
     "data": {
      "text/plain": [
       "'You may be ambidextrous or mechanically inclined.'"
      ]
     },
     "metadata": {},
     "output_type": "display_data"
    },
    {
     "name": "stdout",
     "output_type": "stream",
     "text": [
      "\n",
      "\n",
      "cluster 24 (size 1):\n",
      "[41]\n"
     ]
    },
    {
     "data": {
      "text/plain": [
       "'Keeping things going is your strength, especially once someone else starts them.'"
      ]
     },
     "metadata": {},
     "output_type": "display_data"
    },
    {
     "name": "stdout",
     "output_type": "stream",
     "text": [
      "\n",
      "\n",
      "cluster 25 (size 1):\n",
      "[43]\n"
     ]
    },
    {
     "data": {
      "text/plain": [
       "'You can handle more of the workload than most around you.'"
      ]
     },
     "metadata": {},
     "output_type": "display_data"
    },
    {
     "name": "stdout",
     "output_type": "stream",
     "text": [
      "\n",
      "\n",
      "cluster 26 (size 1):\n",
      "[33]\n"
     ]
    },
    {
     "data": {
      "text/plain": [
       "'You are handy with your hands.'"
      ]
     },
     "metadata": {},
     "output_type": "display_data"
    },
    {
     "name": "stdout",
     "output_type": "stream",
     "text": [
      "\n",
      "\n"
     ]
    }
   ],
   "source": [
    "selected_k = OPTIMAL_K\n",
    "clusters = AgglomerativeClustering(n_clusters=selected_k, affinity='precomputed', linkage=linkage)\n",
    "clusters.fit_predict(dist_mat)\n",
    "for i in range(clusters.n_clusters_):\n",
    "    indices = np.where(clusters.labels_ == i)[0]\n",
    "    \n",
    "    print(f'cluster {i} (size {len(indices)}):')\n",
    "    print(indices)\n",
    "    for idx in indices:\n",
    "        display(sents_df.iloc[idx]['sentence'])\n",
    "    print('\\n')"
   ]
  },
  {
   "cell_type": "code",
   "execution_count": 204,
   "metadata": {},
   "outputs": [],
   "source": [
    "# save clusters into JSON dict\n",
    "clusters_dict = dict()\n",
    "for i in range(clusters.n_clusters_):\n",
    "    indices = np.where(clusters.labels_ == i)[0]\n",
    "    sents = list()\n",
    "    for idx in indices:\n",
    "        sents.append(int(df_piv.index[idx]))\n",
    "    clusters_dict[i] = sents\n",
    "\n",
    "path = save_dir + '/' + 'clusters.json'\n",
    "with open(path, 'w') as fp:\n",
    "    json.dump(clusters_dict, fp)"
   ]
  },
  {
   "cell_type": "code",
   "execution_count": 205,
   "metadata": {},
   "outputs": [
    {
     "name": "stdout",
     "output_type": "stream",
     "text": [
      "------\n",
      "\n",
      "no. of clusters = 27\n",
      "[[0.     0.4736 0.4592 0.6985 0.44   0.5742 0.4878 0.548  0.4935 0.4613\n",
      "  0.4831 0.4714 0.4933 0.4577 0.4995 0.488  0.4858 0.4684 0.4986 0.4926\n",
      "  0.4979 0.4987 0.4951 0.4853 0.4964 0.4957 0.4694]\n",
      " [0.     0.     0.5052 0.8286 0.7059 0.4517 0.6289 0.5663 0.7244 0.4503\n",
      "  0.5819 0.6493 0.577  0.5679 0.4994 0.7005 0.4879 0.6468 0.747  0.4873\n",
      "  0.5676 0.5102 0.7172 0.4592 0.7162 0.4854 0.4932]\n",
      " [0.     0.     0.     0.9058 0.9887 0.5626 0.7773 0.7291 0.616  0.4458\n",
      "  0.2859 0.584  0.4145 0.5731 0.4993 0.6507 0.4701 0.9132 0.6607 0.475\n",
      "  0.6371 0.4967 0.6232 0.4693 0.4912 0.488  0.3906]\n",
      " [0.     0.     0.     0.     0.6205 0.8002 0.5333 0.4865 0.4983 0.5296\n",
      "  0.936  0.6181 0.7448 0.9994 0.4993 0.4791 0.684  0.9815 0.4974 0.9865\n",
      "  0.4942 0.6456 0.4935 0.4439 0.7026 0.6666 0.8854]\n",
      " [0.     0.     0.     0.     0.     0.8509 0.371  0.4698 0.4955 0.8461\n",
      "  0.6213 0.7219 0.6497 0.9537 0.4988 0.4823 0.7015 0.348  0.483  0.6832\n",
      "  0.4931 0.4801 0.4886 0.4394 0.5663 0.6443 0.9098]\n",
      " [0.     0.     0.     0.     0.     0.     0.7189 0.4822 0.4659 0.4291\n",
      "  0.4923 0.4802 0.7774 0.5205 0.4994 0.4824 0.4679 0.9807 0.474  0.4597\n",
      "  0.4895 0.4761 0.4965 0.4887 0.4797 0.494  0.4937]\n",
      " [0.     0.     0.     0.     0.     0.     0.     0.4889 0.4957 0.6912\n",
      "  0.7235 0.3976 0.2869 0.9534 0.9914 0.4928 0.4828 0.4883 0.7351 0.8432\n",
      "  0.4871 0.4973 0.4936 0.4896 0.4925 0.4975 0.5753]\n",
      " [0.     0.     0.     0.     0.     0.     0.     0.     0.4897 0.4977\n",
      "  0.4995 0.4959 0.5323 0.4931 0.4988 0.4859 0.473  0.4727 0.4877 0.6343\n",
      "  0.4969 0.7045 0.4817 0.4607 0.4899 0.4951 0.599 ]\n",
      " [0.     0.     0.     0.     0.     0.     0.     0.     0.     0.4012\n",
      "  0.4984 0.4866 0.4937 0.6323 0.4995 0.436  0.4957 0.4983 0.4826 0.7094\n",
      "  0.497  0.4993 0.4702 0.4992 0.498  0.4976 0.4975]\n",
      " [0.     0.     0.     0.     0.     0.     0.     0.     0.     0.\n",
      "  0.5175 0.5655 0.5854 0.7436 0.4993 0.6831 0.4223 0.657  0.6665 0.4911\n",
      "  0.4963 0.4973 0.4923 0.4816 0.4962 0.4676 0.4249]\n",
      " [0.     0.     0.     0.     0.     0.     0.     0.     0.     0.\n",
      "  0.     0.2536 0.4689 0.4903 0.749  0.4844 0.4653 0.4733 0.4841 0.4818\n",
      "  0.6085 0.4983 0.4908 0.4649 0.4803 0.4891 0.4818]\n",
      " [0.     0.     0.     0.     0.     0.     0.     0.     0.     0.\n",
      "  0.     0.     0.7371 0.5542 0.4991 0.4347 0.4206 0.6969 0.496  0.6034\n",
      "  0.4908 0.4899 0.4895 0.6461 0.4877 0.4852 0.429 ]\n",
      " [0.     0.     0.     0.     0.     0.     0.     0.     0.     0.\n",
      "  0.     0.     0.     0.6538 0.6568 0.7709 0.5325 0.242  0.5349 0.4687\n",
      "  0.4939 0.4984 0.5647 0.4942 0.4948 0.4932 0.4833]\n",
      " [0.     0.     0.     0.     0.     0.     0.     0.     0.     0.\n",
      "  0.     0.     0.     0.     0.499  0.4951 0.4713 0.6777 0.4962 0.6596\n",
      "  0.9475 0.4992 0.4985 0.4974 0.4975 0.499  0.4714]\n",
      " [0.     0.     0.     0.     0.     0.     0.     0.     0.     0.\n",
      "  0.     0.     0.     0.     0.     0.4993 0.4994 0.4991 0.4903 0.4994\n",
      "  0.4871 0.4995 0.4994 0.499  0.4993 0.4995 0.4995]\n",
      " [0.     0.     0.     0.     0.     0.     0.     0.     0.     0.\n",
      "  0.     0.     0.     0.     0.     0.     0.4899 0.4922 0.4919 0.9955\n",
      "  0.4987 0.4977 0.4917 0.4965 0.4973 0.4988 0.4948]\n",
      " [0.     0.     0.     0.     0.     0.     0.     0.     0.     0.\n",
      "  0.     0.     0.     0.     0.     0.     0.     0.6442 0.4978 0.4771\n",
      "  0.4985 0.4838 0.4849 0.4762 0.2292 0.2245 0.4417]\n",
      " [0.     0.     0.     0.     0.     0.     0.     0.     0.     0.\n",
      "  0.     0.     0.     0.     0.     0.     0.     0.     0.4975 0.6397\n",
      "  0.4918 0.4956 0.4881 0.4922 0.4814 0.4888 0.832 ]\n",
      " [0.     0.     0.     0.     0.     0.     0.     0.     0.     0.\n",
      "  0.     0.     0.     0.     0.     0.     0.     0.     0.     0.4975\n",
      "  0.4949 0.4964 0.4893 0.4778 0.4982 0.4988 0.4982]\n",
      " [0.     0.     0.     0.     0.     0.     0.     0.     0.     0.\n",
      "  0.     0.     0.     0.     0.     0.     0.     0.     0.     0.\n",
      "  0.4985 0.9627 0.8769 0.4961 0.4773 0.4972 0.4786]\n",
      " [0.     0.     0.     0.     0.     0.     0.     0.     0.     0.\n",
      "  0.     0.     0.     0.     0.     0.     0.     0.     0.     0.\n",
      "  0.     0.4965 0.4982 0.4989 0.4673 0.499  0.4969]\n",
      " [0.     0.     0.     0.     0.     0.     0.     0.     0.     0.\n",
      "  0.     0.     0.     0.     0.     0.     0.     0.     0.     0.\n",
      "  0.     0.     0.4887 0.4987 0.4972 0.4964 0.499 ]\n",
      " [0.     0.     0.     0.     0.     0.     0.     0.     0.     0.\n",
      "  0.     0.     0.     0.     0.     0.     0.     0.     0.     0.\n",
      "  0.     0.     0.     0.4872 0.4937 0.4891 0.4948]\n",
      " [0.     0.     0.     0.     0.     0.     0.     0.     0.     0.\n",
      "  0.     0.     0.     0.     0.     0.     0.     0.     0.     0.\n",
      "  0.     0.     0.     0.     0.4982 0.4955 0.4603]\n",
      " [0.     0.     0.     0.     0.     0.     0.     0.     0.     0.\n",
      "  0.     0.     0.     0.     0.     0.     0.     0.     0.     0.\n",
      "  0.     0.     0.     0.     0.     0.4909 0.4979]\n",
      " [0.     0.     0.     0.     0.     0.     0.     0.     0.     0.\n",
      "  0.     0.     0.     0.     0.     0.     0.     0.     0.     0.\n",
      "  0.     0.     0.     0.     0.     0.     0.4963]\n",
      " [0.     0.     0.     0.     0.     0.     0.     0.     0.     0.\n",
      "  0.     0.     0.     0.     0.     0.     0.     0.     0.     0.\n",
      "  0.     0.     0.     0.     0.     0.     0.    ]]\n"
     ]
    }
   ],
   "source": [
    "# Compute the distance of one cluster to another cluster by the average pairwise distance\n",
    "# of the elements in one cluster and another cluster.  \n",
    "for n_clusters in [selected_k]:\n",
    "    print('------')\n",
    "    print(f'\\nno. of clusters = {n_clusters}')\n",
    "    clusters = AgglomerativeClustering(n_clusters=n_clusters, affinity='precomputed', linkage=linkage)\n",
    "    clusters.fit_predict(dist_mat)\n",
    "    \n",
    "    # find average distances between clusters and output a new distance matrix\n",
    "    labels = [i for i in range(clusters.n_clusters_)]\n",
    "    avg_dist_arr = np.zeros(shape=(clusters.n_clusters_, clusters.n_clusters_))\n",
    "    for i in range(clusters.n_clusters_):\n",
    "        indices = np.where(clusters.labels_ == i)[0]\n",
    "        labels.remove(i)\n",
    "        for j in labels:\n",
    "            other_indices = np.where(clusters.labels_ == j)[0]\n",
    "            intra_dist_arr = np.zeros(shape=(len(indices), len(other_indices)))\n",
    "            \n",
    "            for k, index in enumerate(indices):\n",
    "                for m, other_index in enumerate(other_indices):\n",
    "                    intra_dist_arr[k][m] = dist_mat[index][other_index]\n",
    "            \n",
    "            #print (f'cluster {i} against cluster {j}:')\n",
    "            #print(intra_dist_arr)\n",
    "            \n",
    "            avg_dist = np.average(intra_dist_arr)\n",
    "            #print(avg_dist)\n",
    "            avg_dist_arr[i][j] = avg_dist\n",
    "    print(avg_dist_arr)"
   ]
  },
  {
   "cell_type": "code",
   "execution_count": 206,
   "metadata": {},
   "outputs": [],
   "source": [
    "path = save_dir + '/' + 'clusterDistances.csv'\n",
    "intercluster_dists = avg_dist_arr + np.transpose(avg_dist_arr)\n",
    "np.savetxt(path, intercluster_dists, delimiter=\",\")"
   ]
  },
  {
   "cell_type": "code",
   "execution_count": 207,
   "metadata": {},
   "outputs": [
    {
     "name": "stdout",
     "output_type": "stream",
     "text": [
      "[[0.     0.4736 0.4592 0.6985 0.44   0.5742 0.4878 0.548  0.4935 0.4613\n",
      "  0.4831 0.4714 0.4933 0.4577 0.4995 0.488  0.4858 0.4684 0.4986 0.4926\n",
      "  0.4979 0.4987 0.4951 0.4853 0.4964 0.4957 0.4694]\n",
      " [0.4736 0.     0.5052 0.8286 0.7059 0.4517 0.6289 0.5663 0.7244 0.4503\n",
      "  0.5819 0.6493 0.577  0.5679 0.4994 0.7005 0.4879 0.6468 0.747  0.4873\n",
      "  0.5676 0.5102 0.7172 0.4592 0.7162 0.4854 0.4932]\n",
      " [0.4592 0.5052 0.     0.9058 0.9887 0.5626 0.7773 0.7291 0.616  0.4458\n",
      "  0.2859 0.584  0.4145 0.5731 0.4993 0.6507 0.4701 0.9132 0.6607 0.475\n",
      "  0.6371 0.4967 0.6232 0.4693 0.4912 0.488  0.3906]\n",
      " [0.6985 0.8286 0.9058 0.     0.6205 0.8002 0.5333 0.4865 0.4983 0.5296\n",
      "  0.936  0.6181 0.7448 0.9994 0.4993 0.4791 0.684  0.9815 0.4974 0.9865\n",
      "  0.4942 0.6456 0.4935 0.4439 0.7026 0.6666 0.8854]\n",
      " [0.44   0.7059 0.9887 0.6205 0.     0.8509 0.371  0.4698 0.4955 0.8461\n",
      "  0.6213 0.7219 0.6497 0.9537 0.4988 0.4823 0.7015 0.348  0.483  0.6832\n",
      "  0.4931 0.4801 0.4886 0.4394 0.5663 0.6443 0.9098]\n",
      " [0.5742 0.4517 0.5626 0.8002 0.8509 0.     0.7189 0.4822 0.4659 0.4291\n",
      "  0.4923 0.4802 0.7774 0.5205 0.4994 0.4824 0.4679 0.9807 0.474  0.4597\n",
      "  0.4895 0.4761 0.4965 0.4887 0.4797 0.494  0.4937]\n",
      " [0.4878 0.6289 0.7773 0.5333 0.371  0.7189 0.     0.4889 0.4957 0.6912\n",
      "  0.7235 0.3976 0.2869 0.9534 0.9914 0.4928 0.4828 0.4883 0.7351 0.8432\n",
      "  0.4871 0.4973 0.4936 0.4896 0.4925 0.4975 0.5753]\n",
      " [0.548  0.5663 0.7291 0.4865 0.4698 0.4822 0.4889 0.     0.4897 0.4977\n",
      "  0.4995 0.4959 0.5323 0.4931 0.4988 0.4859 0.473  0.4727 0.4877 0.6343\n",
      "  0.4969 0.7045 0.4817 0.4607 0.4899 0.4951 0.599 ]\n",
      " [0.4935 0.7244 0.616  0.4983 0.4955 0.4659 0.4957 0.4897 0.     0.4012\n",
      "  0.4984 0.4866 0.4937 0.6323 0.4995 0.436  0.4957 0.4983 0.4826 0.7094\n",
      "  0.497  0.4993 0.4702 0.4992 0.498  0.4976 0.4975]\n",
      " [0.4613 0.4503 0.4458 0.5296 0.8461 0.4291 0.6912 0.4977 0.4012 0.\n",
      "  0.5175 0.5655 0.5854 0.7436 0.4993 0.6831 0.4223 0.657  0.6665 0.4911\n",
      "  0.4963 0.4973 0.4923 0.4816 0.4962 0.4676 0.4249]\n",
      " [0.4831 0.5819 0.2859 0.936  0.6213 0.4923 0.7235 0.4995 0.4984 0.5175\n",
      "  0.     0.2536 0.4689 0.4903 0.749  0.4844 0.4653 0.4733 0.4841 0.4818\n",
      "  0.6085 0.4983 0.4908 0.4649 0.4803 0.4891 0.4818]\n",
      " [0.4714 0.6493 0.584  0.6181 0.7219 0.4802 0.3976 0.4959 0.4866 0.5655\n",
      "  0.2536 0.     0.7371 0.5542 0.4991 0.4347 0.4206 0.6969 0.496  0.6034\n",
      "  0.4908 0.4899 0.4895 0.6461 0.4877 0.4852 0.429 ]\n",
      " [0.4933 0.577  0.4145 0.7448 0.6497 0.7774 0.2869 0.5323 0.4937 0.5854\n",
      "  0.4689 0.7371 0.     0.6538 0.6568 0.7709 0.5325 0.242  0.5349 0.4687\n",
      "  0.4939 0.4984 0.5647 0.4942 0.4948 0.4932 0.4833]\n",
      " [0.4577 0.5679 0.5731 0.9994 0.9537 0.5205 0.9534 0.4931 0.6323 0.7436\n",
      "  0.4903 0.5542 0.6538 0.     0.499  0.4951 0.4713 0.6777 0.4962 0.6596\n",
      "  0.9475 0.4992 0.4985 0.4974 0.4975 0.499  0.4714]\n",
      " [0.4995 0.4994 0.4993 0.4993 0.4988 0.4994 0.9914 0.4988 0.4995 0.4993\n",
      "  0.749  0.4991 0.6568 0.499  0.     0.4993 0.4994 0.4991 0.4903 0.4994\n",
      "  0.4871 0.4995 0.4994 0.499  0.4993 0.4995 0.4995]\n",
      " [0.488  0.7005 0.6507 0.4791 0.4823 0.4824 0.4928 0.4859 0.436  0.6831\n",
      "  0.4844 0.4347 0.7709 0.4951 0.4993 0.     0.4899 0.4922 0.4919 0.9955\n",
      "  0.4987 0.4977 0.4917 0.4965 0.4973 0.4988 0.4948]\n",
      " [0.4858 0.4879 0.4701 0.684  0.7015 0.4679 0.4828 0.473  0.4957 0.4223\n",
      "  0.4653 0.4206 0.5325 0.4713 0.4994 0.4899 0.     0.6442 0.4978 0.4771\n",
      "  0.4985 0.4838 0.4849 0.4762 0.2292 0.2245 0.4417]\n",
      " [0.4684 0.6468 0.9132 0.9815 0.348  0.9807 0.4883 0.4727 0.4983 0.657\n",
      "  0.4733 0.6969 0.242  0.6777 0.4991 0.4922 0.6442 0.     0.4975 0.6397\n",
      "  0.4918 0.4956 0.4881 0.4922 0.4814 0.4888 0.832 ]\n",
      " [0.4986 0.747  0.6607 0.4974 0.483  0.474  0.7351 0.4877 0.4826 0.6665\n",
      "  0.4841 0.496  0.5349 0.4962 0.4903 0.4919 0.4978 0.4975 0.     0.4975\n",
      "  0.4949 0.4964 0.4893 0.4778 0.4982 0.4988 0.4982]\n",
      " [0.4926 0.4873 0.475  0.9865 0.6832 0.4597 0.8432 0.6343 0.7094 0.4911\n",
      "  0.4818 0.6034 0.4687 0.6596 0.4994 0.9955 0.4771 0.6397 0.4975 0.\n",
      "  0.4985 0.9627 0.8769 0.4961 0.4773 0.4972 0.4786]\n",
      " [0.4979 0.5676 0.6371 0.4942 0.4931 0.4895 0.4871 0.4969 0.497  0.4963\n",
      "  0.6085 0.4908 0.4939 0.9475 0.4871 0.4987 0.4985 0.4918 0.4949 0.4985\n",
      "  0.     0.4965 0.4982 0.4989 0.4673 0.499  0.4969]\n",
      " [0.4987 0.5102 0.4967 0.6456 0.4801 0.4761 0.4973 0.7045 0.4993 0.4973\n",
      "  0.4983 0.4899 0.4984 0.4992 0.4995 0.4977 0.4838 0.4956 0.4964 0.9627\n",
      "  0.4965 0.     0.4887 0.4987 0.4972 0.4964 0.499 ]\n",
      " [0.4951 0.7172 0.6232 0.4935 0.4886 0.4965 0.4936 0.4817 0.4702 0.4923\n",
      "  0.4908 0.4895 0.5647 0.4985 0.4994 0.4917 0.4849 0.4881 0.4893 0.8769\n",
      "  0.4982 0.4887 0.     0.4872 0.4937 0.4891 0.4948]\n",
      " [0.4853 0.4592 0.4693 0.4439 0.4394 0.4887 0.4896 0.4607 0.4992 0.4816\n",
      "  0.4649 0.6461 0.4942 0.4974 0.499  0.4965 0.4762 0.4922 0.4778 0.4961\n",
      "  0.4989 0.4987 0.4872 0.     0.4982 0.4955 0.4603]\n",
      " [0.4964 0.7162 0.4912 0.7026 0.5663 0.4797 0.4925 0.4899 0.498  0.4962\n",
      "  0.4803 0.4877 0.4948 0.4975 0.4993 0.4973 0.2292 0.4814 0.4982 0.4773\n",
      "  0.4673 0.4972 0.4937 0.4982 0.     0.4909 0.4979]\n",
      " [0.4957 0.4854 0.488  0.6666 0.6443 0.494  0.4975 0.4951 0.4976 0.4676\n",
      "  0.4891 0.4852 0.4932 0.499  0.4995 0.4988 0.2245 0.4888 0.4988 0.4972\n",
      "  0.499  0.4964 0.4891 0.4955 0.4909 0.     0.4963]\n",
      " [0.4694 0.4932 0.3906 0.8854 0.9098 0.4937 0.5753 0.599  0.4975 0.4249\n",
      "  0.4818 0.429  0.4833 0.4714 0.4995 0.4948 0.4417 0.832  0.4982 0.4786\n",
      "  0.4969 0.499  0.4948 0.4603 0.4979 0.4963 0.    ]]\n"
     ]
    }
   ],
   "source": [
    "print(intercluster_dists)"
   ]
  },
  {
   "cell_type": "markdown",
   "metadata": {},
   "source": [
    "## Visualise network of clusters"
   ]
  },
  {
   "cell_type": "code",
   "execution_count": null,
   "metadata": {},
   "outputs": [],
   "source": [
    "import networkx as nx\n",
    "import string"
   ]
  },
  {
   "cell_type": "code",
   "execution_count": null,
   "metadata": {},
   "outputs": [],
   "source": [
    "G = nx.from_numpy_matrix(tmp)\n",
    "print(G.nodes())\n",
    "print(G.edges().data())\n",
    "#G = nx.relabel_nodes(G, dict(zip(range(len(G.nodes())),string.ascii_uppercase)))\n",
    "\n",
    "import pydot\n",
    "from networkx.drawing.nx_pydot import write_dot\n",
    "\n",
    "print(\"using package pydot\")\n",
    "path = save_dir + '/' + 'clusterViz.dot'\n",
    "write_dot(G, path)\n",
    "# you can then use the various graphviz CLI to generate the image. E.g. \"neato -Tpng clusterViz.dot -o clusterViz.png\"\n",
    "# see https://www.graphviz.org/pdf/neatoguide.pdf for more info on modifying dot files.\n",
    "# fdp or sfdp can be used instead of neato. "
   ]
  },
  {
   "cell_type": "markdown",
   "metadata": {},
   "source": [
    "## Summarize"
   ]
  },
  {
   "cell_type": "code",
   "execution_count": 266,
   "metadata": {},
   "outputs": [
    {
     "name": "stdout",
     "output_type": "stream",
     "text": [
      "loaded data from disk.\n"
     ]
    }
   ],
   "source": [
    "# LOAD DATA\n",
    "\n",
    "import numpy as np\n",
    "# load indexed sentences:\n",
    "sents_df = pd.read_csv(\"../data/test1.1/indexedSentences.csv\")\n",
    "\n",
    "# load intersentence pairwise distance matrix.\n",
    "df_piv = pd.read_csv(\"../data/test1.1/pairwiseMatrix.csv\")\n",
    "df_piv = df_piv.drop(columns=['first_index'])\n",
    "dist_mat = df_piv.values\n",
    "\n",
    "# load intercluster pairwise distance matrix.\n",
    "intercluster_dists = np.loadtxt(\"../data/test1.1/clusterDistances.csv\", delimiter=\",\")\n",
    "\n",
    "# load clusters.\n",
    "with open(\"../data/test1.1/clusters.json\") as fp:\n",
    "    clusters_dict = json.load(fp)\n",
    "\n",
    "    print(\"loaded data from disk.\")"
   ]
  },
  {
   "cell_type": "markdown",
   "metadata": {},
   "source": [
    "## Reliability Ranking approach to multi-summarization."
   ]
  },
  {
   "cell_type": "code",
   "execution_count": 267,
   "metadata": {
    "scrolled": true
   },
   "outputs": [
    {
     "data": {
      "text/plain": [
       "{'0': [13, 56],\n",
       " '1': [26, 78],\n",
       " '2': [49, 58],\n",
       " '3': [4, 64],\n",
       " '4': [8, 60],\n",
       " '5': [14, 31],\n",
       " '6': [70, 71],\n",
       " '7': [5, 35],\n",
       " '8': [12, 66],\n",
       " '9': [0, 11],\n",
       " '10': [33, 34],\n",
       " '11': [32, 81],\n",
       " '12': [17, 38],\n",
       " '13': [77],\n",
       " '14': [73],\n",
       " '15': [65],\n",
       " '16': [84],\n",
       " '17': [59, 62],\n",
       " '18': [43, 61],\n",
       " '19': [86, 87],\n",
       " '20': [39, 85],\n",
       " '21': [79, 80],\n",
       " '22': [37],\n",
       " '23': [83],\n",
       " '24': [54, 68],\n",
       " '25': [41],\n",
       " '26': [20, 21],\n",
       " '27': [76],\n",
       " '28': [53],\n",
       " '29': [42],\n",
       " '30': [72],\n",
       " '31': [45],\n",
       " '32': [27],\n",
       " '33': [6],\n",
       " '34': [51],\n",
       " '35': [1, 2, 3, 48],\n",
       " '36': [82],\n",
       " '37': [74, 75],\n",
       " '38': [67],\n",
       " '39': [52],\n",
       " '40': [7],\n",
       " '41': [55],\n",
       " '42': [69],\n",
       " '43': [63],\n",
       " '44': [57],\n",
       " '45': [18],\n",
       " '46': [36],\n",
       " '47': [28],\n",
       " '48': [44],\n",
       " '49': [15],\n",
       " '50': [47],\n",
       " '51': [19],\n",
       " '52': [40],\n",
       " '53': [16],\n",
       " '54': [24],\n",
       " '55': [9],\n",
       " '56': [22],\n",
       " '57': [50],\n",
       " '58': [30],\n",
       " '59': [10],\n",
       " '60': [29],\n",
       " '61': [23],\n",
       " '62': [46],\n",
       " '63': [25]}"
      ]
     },
     "execution_count": 267,
     "metadata": {},
     "output_type": "execute_result"
    }
   ],
   "source": [
    "clusters_dict"
   ]
  },
  {
   "cell_type": "code",
   "execution_count": 268,
   "metadata": {},
   "outputs": [],
   "source": [
    "def rank_by_reliability(clusters_dict, intercluster, contra_threshold=0.5):\n",
    "    \"\"\"\n",
    "    :param clusters_dict: dict of clusters. {str(cluster index): list(sentence indices)}.\n",
    "    :param intercluster: square numpy.ndarray representing distances between each cluster.\n",
    "    \n",
    "    \"\"\"\n",
    "    scores = list()\n",
    "    for cluster_idx in range(len(intercluster)):\n",
    "        contra_size = 0\n",
    "        for other_cluster_idx in range(len(intercluster)):\n",
    "            if intercluster[cluster_idx][other_cluster_idx] > contra_threshold:\n",
    "                contra_size = contra_size + len(clusters_dict[str(other_cluster_idx)])\n",
    "        numer = len(clusters_dict[str(cluster_idx)])\n",
    "        if contra_size > 0:\n",
    "            denom = contra_size\n",
    "        else:\n",
    "            denom = 1\n",
    "        score = numer/denom\n",
    "        scores.append((score, cluster_idx))\n",
    "    return scores"
   ]
  },
  {
   "cell_type": "code",
   "execution_count": 269,
   "metadata": {
    "scrolled": true
   },
   "outputs": [],
   "source": [
    "scores = rank_by_reliability(clusters_dict, intercluster_dists, contra_threshold=0.6)"
   ]
  },
  {
   "cell_type": "code",
   "execution_count": 270,
   "metadata": {},
   "outputs": [],
   "source": [
    "def intra_clust_dis_mat(clust, pairwise):\n",
    "    \"\"\"\n",
    "    :param clust: list of sentence indices that form the cluster.\n",
    "    :param pairwise: numpy.ndarray of universal pairwise dist matrix. \n",
    "    \"\"\"\n",
    "    sorted_clust = sorted(clust)\n",
    "    pairs = list(itertools.combinations(clust, 2))\n",
    "    tmp = np.zeros((len(clust), len(clust)))\n",
    "    for pair in pairs:\n",
    "        tmp_idx0 = sorted_clust.index(pair[0])\n",
    "        tmp_idx1 = sorted_clust.index(pair[1])\n",
    "        tmp[tmp_idx0][tmp_idx1] = pairwise[pair[0], pair[1]]\n",
    "    tmp = tmp + np.transpose(tmp)\n",
    "    return tmp, sorted_clust"
   ]
  },
  {
   "cell_type": "code",
   "execution_count": 271,
   "metadata": {
    "scrolled": true
   },
   "outputs": [
    {
     "data": {
      "text/plain": [
       "array([[0.    , 0.6926, 0.5318, ..., 0.4016, 0.4985, 0.4973],\n",
       "       [0.6926, 0.    , 0.5932, ..., 0.4536, 0.4876, 0.4976],\n",
       "       [0.5318, 0.5932, 0.    , ..., 0.6837, 0.4993, 0.4994],\n",
       "       ...,\n",
       "       [0.4016, 0.4536, 0.6837, ..., 0.    , 0.499 , 0.4995],\n",
       "       [0.4985, 0.4876, 0.4993, ..., 0.499 , 0.    , 0.4984],\n",
       "       [0.4973, 0.4976, 0.4994, ..., 0.4995, 0.4984, 0.    ]])"
      ]
     },
     "execution_count": 271,
     "metadata": {},
     "output_type": "execute_result"
    }
   ],
   "source": [
    "intercluster_dists"
   ]
  },
  {
   "cell_type": "code",
   "execution_count": 272,
   "metadata": {},
   "outputs": [],
   "source": [
    "from lexrank.lexrank import LexRank\n",
    "from lexrank.lexrank import degree_centrality_scores"
   ]
  },
  {
   "cell_type": "code",
   "execution_count": 273,
   "metadata": {},
   "outputs": [],
   "source": [
    "def choose_salient(dis_mat, sorted_clust):\n",
    "    \"\"\"\n",
    "    :param dis_mat: disimilarity or distance matrix. every value is between 0-1, inclusive.\n",
    "    :sorted_clust: sorted list of sentence indices corresponding to the indexing of dis_mat.\n",
    "    :returns: sentence index of most salient sentence.\n",
    "    \"\"\"\n",
    "    similarity_matrix = 1 - dis_mat\n",
    "    #print(similarity_matrix)\n",
    "    scores = degree_centrality_scores(similarity_matrix, threshold=None)\n",
    "    #print(scores)\n",
    "    return sorted_clust[np.argmax(scores)]"
   ]
  },
  {
   "cell_type": "code",
   "execution_count": 274,
   "metadata": {
    "scrolled": true
   },
   "outputs": [
    {
     "name": "stdout",
     "output_type": "stream",
     "text": [
      "cluster: 62\n",
      "reliability score: 1.0\n"
     ]
    },
    {
     "data": {
      "text/html": [
       "<div>\n",
       "<style scoped>\n",
       "    .dataframe tbody tr th:only-of-type {\n",
       "        vertical-align: middle;\n",
       "    }\n",
       "\n",
       "    .dataframe tbody tr th {\n",
       "        vertical-align: top;\n",
       "    }\n",
       "\n",
       "    .dataframe thead th {\n",
       "        text-align: right;\n",
       "    }\n",
       "</style>\n",
       "<table border=\"1\" class=\"dataframe\">\n",
       "  <thead>\n",
       "    <tr style=\"text-align: right;\">\n",
       "      <th></th>\n",
       "      <th>index</th>\n",
       "      <th>sentence</th>\n",
       "    </tr>\n",
       "  </thead>\n",
       "  <tbody>\n",
       "    <tr>\n",
       "      <th>46</th>\n",
       "      <td>46</td>\n",
       "      <td>Thus, you can become quite possessive.</td>\n",
       "    </tr>\n",
       "  </tbody>\n",
       "</table>\n",
       "</div>"
      ],
      "text/plain": [
       "    index                                sentence\n",
       "46     46  Thus, you can become quite possessive."
      ]
     },
     "metadata": {},
     "output_type": "display_data"
    },
    {
     "data": {
      "text/plain": [
       "'Thus, you can become quite possessive.'"
      ]
     },
     "metadata": {},
     "output_type": "display_data"
    },
    {
     "name": "stdout",
     "output_type": "stream",
     "text": [
      "\n",
      "cluster: 53\n",
      "reliability score: 1.0\n"
     ]
    },
    {
     "data": {
      "text/html": [
       "<div>\n",
       "<style scoped>\n",
       "    .dataframe tbody tr th:only-of-type {\n",
       "        vertical-align: middle;\n",
       "    }\n",
       "\n",
       "    .dataframe tbody tr th {\n",
       "        vertical-align: top;\n",
       "    }\n",
       "\n",
       "    .dataframe thead th {\n",
       "        text-align: right;\n",
       "    }\n",
       "</style>\n",
       "<table border=\"1\" class=\"dataframe\">\n",
       "  <thead>\n",
       "    <tr style=\"text-align: right;\">\n",
       "      <th></th>\n",
       "      <th>index</th>\n",
       "      <th>sentence</th>\n",
       "    </tr>\n",
       "  </thead>\n",
       "  <tbody>\n",
       "    <tr>\n",
       "      <th>16</th>\n",
       "      <td>16</td>\n",
       "      <td>You tend to look younger than you really are, ...</td>\n",
       "    </tr>\n",
       "  </tbody>\n",
       "</table>\n",
       "</div>"
      ],
      "text/plain": [
       "    index                                           sentence\n",
       "16     16  You tend to look younger than you really are, ..."
      ]
     },
     "metadata": {},
     "output_type": "display_data"
    },
    {
     "data": {
      "text/plain": [
       "'You tend to look younger than you really are, no matter what your age.'"
      ]
     },
     "metadata": {},
     "output_type": "display_data"
    },
    {
     "name": "stdout",
     "output_type": "stream",
     "text": [
      "\n",
      "cluster: 52\n",
      "reliability score: 1.0\n"
     ]
    },
    {
     "data": {
      "text/html": [
       "<div>\n",
       "<style scoped>\n",
       "    .dataframe tbody tr th:only-of-type {\n",
       "        vertical-align: middle;\n",
       "    }\n",
       "\n",
       "    .dataframe tbody tr th {\n",
       "        vertical-align: top;\n",
       "    }\n",
       "\n",
       "    .dataframe thead th {\n",
       "        text-align: right;\n",
       "    }\n",
       "</style>\n",
       "<table border=\"1\" class=\"dataframe\">\n",
       "  <thead>\n",
       "    <tr style=\"text-align: right;\">\n",
       "      <th></th>\n",
       "      <th>index</th>\n",
       "      <th>sentence</th>\n",
       "    </tr>\n",
       "  </thead>\n",
       "  <tbody>\n",
       "    <tr>\n",
       "      <th>40</th>\n",
       "      <td>40</td>\n",
       "      <td>Your mother is/was a strong influence for good...</td>\n",
       "    </tr>\n",
       "  </tbody>\n",
       "</table>\n",
       "</div>"
      ],
      "text/plain": [
       "    index                                           sentence\n",
       "40     40  Your mother is/was a strong influence for good..."
      ]
     },
     "metadata": {},
     "output_type": "display_data"
    },
    {
     "data": {
      "text/plain": [
       "'Your mother is/was a strong influence for good or ill in your life.'"
      ]
     },
     "metadata": {},
     "output_type": "display_data"
    },
    {
     "name": "stdout",
     "output_type": "stream",
     "text": [
      "\n",
      "cluster: 46\n",
      "reliability score: 1.0\n"
     ]
    },
    {
     "data": {
      "text/html": [
       "<div>\n",
       "<style scoped>\n",
       "    .dataframe tbody tr th:only-of-type {\n",
       "        vertical-align: middle;\n",
       "    }\n",
       "\n",
       "    .dataframe tbody tr th {\n",
       "        vertical-align: top;\n",
       "    }\n",
       "\n",
       "    .dataframe thead th {\n",
       "        text-align: right;\n",
       "    }\n",
       "</style>\n",
       "<table border=\"1\" class=\"dataframe\">\n",
       "  <thead>\n",
       "    <tr style=\"text-align: right;\">\n",
       "      <th></th>\n",
       "      <th>index</th>\n",
       "      <th>sentence</th>\n",
       "    </tr>\n",
       "  </thead>\n",
       "  <tbody>\n",
       "    <tr>\n",
       "      <th>36</th>\n",
       "      <td>36</td>\n",
       "      <td>Your senses and emotions are quite strong.</td>\n",
       "    </tr>\n",
       "  </tbody>\n",
       "</table>\n",
       "</div>"
      ],
      "text/plain": [
       "    index                                    sentence\n",
       "36     36  Your senses and emotions are quite strong."
      ]
     },
     "metadata": {},
     "output_type": "display_data"
    },
    {
     "data": {
      "text/plain": [
       "'Your senses and emotions are quite strong.'"
      ]
     },
     "metadata": {},
     "output_type": "display_data"
    },
    {
     "name": "stdout",
     "output_type": "stream",
     "text": [
      "\n",
      "cluster: 43\n",
      "reliability score: 1.0\n"
     ]
    },
    {
     "data": {
      "text/html": [
       "<div>\n",
       "<style scoped>\n",
       "    .dataframe tbody tr th:only-of-type {\n",
       "        vertical-align: middle;\n",
       "    }\n",
       "\n",
       "    .dataframe tbody tr th {\n",
       "        vertical-align: top;\n",
       "    }\n",
       "\n",
       "    .dataframe thead th {\n",
       "        text-align: right;\n",
       "    }\n",
       "</style>\n",
       "<table border=\"1\" class=\"dataframe\">\n",
       "  <thead>\n",
       "    <tr style=\"text-align: right;\">\n",
       "      <th></th>\n",
       "      <th>index</th>\n",
       "      <th>sentence</th>\n",
       "    </tr>\n",
       "  </thead>\n",
       "  <tbody>\n",
       "    <tr>\n",
       "      <th>63</th>\n",
       "      <td>63</td>\n",
       "      <td>There is danger, then, of superficiality.</td>\n",
       "    </tr>\n",
       "  </tbody>\n",
       "</table>\n",
       "</div>"
      ],
      "text/plain": [
       "    index                                   sentence\n",
       "63     63  There is danger, then, of superficiality."
      ]
     },
     "metadata": {},
     "output_type": "display_data"
    },
    {
     "data": {
      "text/plain": [
       "'There is danger, then, of superficiality.'"
      ]
     },
     "metadata": {},
     "output_type": "display_data"
    },
    {
     "name": "stdout",
     "output_type": "stream",
     "text": [
      "\n",
      "cluster: 42\n",
      "reliability score: 1.0\n"
     ]
    },
    {
     "data": {
      "text/html": [
       "<div>\n",
       "<style scoped>\n",
       "    .dataframe tbody tr th:only-of-type {\n",
       "        vertical-align: middle;\n",
       "    }\n",
       "\n",
       "    .dataframe tbody tr th {\n",
       "        vertical-align: top;\n",
       "    }\n",
       "\n",
       "    .dataframe thead th {\n",
       "        text-align: right;\n",
       "    }\n",
       "</style>\n",
       "<table border=\"1\" class=\"dataframe\">\n",
       "  <thead>\n",
       "    <tr style=\"text-align: right;\">\n",
       "      <th></th>\n",
       "      <th>index</th>\n",
       "      <th>sentence</th>\n",
       "    </tr>\n",
       "  </thead>\n",
       "  <tbody>\n",
       "    <tr>\n",
       "      <th>69</th>\n",
       "      <td>69</td>\n",
       "      <td>You may become impatient with those who do n't...</td>\n",
       "    </tr>\n",
       "  </tbody>\n",
       "</table>\n",
       "</div>"
      ],
      "text/plain": [
       "    index                                           sentence\n",
       "69     69  You may become impatient with those who do n't..."
      ]
     },
     "metadata": {},
     "output_type": "display_data"
    },
    {
     "data": {
      "text/plain": [
       "\"You may become impatient with those who do n't learn as quickly.\""
      ]
     },
     "metadata": {},
     "output_type": "display_data"
    },
    {
     "name": "stdout",
     "output_type": "stream",
     "text": [
      "\n",
      "cluster: 40\n",
      "reliability score: 1.0\n"
     ]
    },
    {
     "data": {
      "text/html": [
       "<div>\n",
       "<style scoped>\n",
       "    .dataframe tbody tr th:only-of-type {\n",
       "        vertical-align: middle;\n",
       "    }\n",
       "\n",
       "    .dataframe tbody tr th {\n",
       "        vertical-align: top;\n",
       "    }\n",
       "\n",
       "    .dataframe thead th {\n",
       "        text-align: right;\n",
       "    }\n",
       "</style>\n",
       "<table border=\"1\" class=\"dataframe\">\n",
       "  <thead>\n",
       "    <tr style=\"text-align: right;\">\n",
       "      <th></th>\n",
       "      <th>index</th>\n",
       "      <th>sentence</th>\n",
       "    </tr>\n",
       "  </thead>\n",
       "  <tbody>\n",
       "    <tr>\n",
       "      <th>7</th>\n",
       "      <td>7</td>\n",
       "      <td>At times others can never be \"good\" enough to ...</td>\n",
       "    </tr>\n",
       "  </tbody>\n",
       "</table>\n",
       "</div>"
      ],
      "text/plain": [
       "   index                                           sentence\n",
       "7      7  At times others can never be \"good\" enough to ..."
      ]
     },
     "metadata": {},
     "output_type": "display_data"
    },
    {
     "data": {
      "text/plain": [
       "'At times others can never be \"good\" enough to meet those high standards.'"
      ]
     },
     "metadata": {},
     "output_type": "display_data"
    },
    {
     "name": "stdout",
     "output_type": "stream",
     "text": [
      "\n",
      "cluster: 16\n",
      "reliability score: 1.0\n"
     ]
    },
    {
     "data": {
      "text/html": [
       "<div>\n",
       "<style scoped>\n",
       "    .dataframe tbody tr th:only-of-type {\n",
       "        vertical-align: middle;\n",
       "    }\n",
       "\n",
       "    .dataframe tbody tr th {\n",
       "        vertical-align: top;\n",
       "    }\n",
       "\n",
       "    .dataframe thead th {\n",
       "        text-align: right;\n",
       "    }\n",
       "</style>\n",
       "<table border=\"1\" class=\"dataframe\">\n",
       "  <thead>\n",
       "    <tr style=\"text-align: right;\">\n",
       "      <th></th>\n",
       "      <th>index</th>\n",
       "      <th>sentence</th>\n",
       "    </tr>\n",
       "  </thead>\n",
       "  <tbody>\n",
       "    <tr>\n",
       "      <th>84</th>\n",
       "      <td>84</td>\n",
       "      <td>Self-control needs to be developed and added t...</td>\n",
       "    </tr>\n",
       "  </tbody>\n",
       "</table>\n",
       "</div>"
      ],
      "text/plain": [
       "    index                                           sentence\n",
       "84     84  Self-control needs to be developed and added t..."
      ]
     },
     "metadata": {},
     "output_type": "display_data"
    },
    {
     "data": {
      "text/plain": [
       "'Self-control needs to be developed and added to the qualifications you already possess -warmth, charm, sympathy, artistic.'"
      ]
     },
     "metadata": {},
     "output_type": "display_data"
    },
    {
     "name": "stdout",
     "output_type": "stream",
     "text": [
      "\n",
      "cluster: 14\n",
      "reliability score: 1.0\n"
     ]
    },
    {
     "data": {
      "text/html": [
       "<div>\n",
       "<style scoped>\n",
       "    .dataframe tbody tr th:only-of-type {\n",
       "        vertical-align: middle;\n",
       "    }\n",
       "\n",
       "    .dataframe tbody tr th {\n",
       "        vertical-align: top;\n",
       "    }\n",
       "\n",
       "    .dataframe thead th {\n",
       "        text-align: right;\n",
       "    }\n",
       "</style>\n",
       "<table border=\"1\" class=\"dataframe\">\n",
       "  <thead>\n",
       "    <tr style=\"text-align: right;\">\n",
       "      <th></th>\n",
       "      <th>index</th>\n",
       "      <th>sentence</th>\n",
       "    </tr>\n",
       "  </thead>\n",
       "  <tbody>\n",
       "    <tr>\n",
       "      <th>73</th>\n",
       "      <td>73</td>\n",
       "      <td>it may show through too much weight.</td>\n",
       "    </tr>\n",
       "  </tbody>\n",
       "</table>\n",
       "</div>"
      ],
      "text/plain": [
       "    index                              sentence\n",
       "73     73  it may show through too much weight."
      ]
     },
     "metadata": {},
     "output_type": "display_data"
    },
    {
     "data": {
      "text/plain": [
       "'it may show through too much weight.'"
      ]
     },
     "metadata": {},
     "output_type": "display_data"
    },
    {
     "name": "stdout",
     "output_type": "stream",
     "text": [
      "\n",
      "cluster: 8\n",
      "reliability score: 0.6666666666666666\n"
     ]
    },
    {
     "data": {
      "text/html": [
       "<div>\n",
       "<style scoped>\n",
       "    .dataframe tbody tr th:only-of-type {\n",
       "        vertical-align: middle;\n",
       "    }\n",
       "\n",
       "    .dataframe tbody tr th {\n",
       "        vertical-align: top;\n",
       "    }\n",
       "\n",
       "    .dataframe thead th {\n",
       "        text-align: right;\n",
       "    }\n",
       "</style>\n",
       "<table border=\"1\" class=\"dataframe\">\n",
       "  <thead>\n",
       "    <tr style=\"text-align: right;\">\n",
       "      <th></th>\n",
       "      <th>index</th>\n",
       "      <th>sentence</th>\n",
       "    </tr>\n",
       "  </thead>\n",
       "  <tbody>\n",
       "    <tr>\n",
       "      <th>12</th>\n",
       "      <td>12</td>\n",
       "      <td>Too much worry can lead to health problems.</td>\n",
       "    </tr>\n",
       "    <tr>\n",
       "      <th>66</th>\n",
       "      <td>66</td>\n",
       "      <td>Journalism, speaking, teaching, sales, adverti...</td>\n",
       "    </tr>\n",
       "  </tbody>\n",
       "</table>\n",
       "</div>"
      ],
      "text/plain": [
       "    index                                           sentence\n",
       "12     12        Too much worry can lead to health problems.\n",
       "66     66  Journalism, speaking, teaching, sales, adverti..."
      ]
     },
     "metadata": {},
     "output_type": "display_data"
    },
    {
     "data": {
      "text/plain": [
       "'Too much worry can lead to health problems.'"
      ]
     },
     "metadata": {},
     "output_type": "display_data"
    },
    {
     "name": "stdout",
     "output_type": "stream",
     "text": [
      "\n",
      "cluster: 60\n",
      "reliability score: 0.5\n"
     ]
    },
    {
     "data": {
      "text/html": [
       "<div>\n",
       "<style scoped>\n",
       "    .dataframe tbody tr th:only-of-type {\n",
       "        vertical-align: middle;\n",
       "    }\n",
       "\n",
       "    .dataframe tbody tr th {\n",
       "        vertical-align: top;\n",
       "    }\n",
       "\n",
       "    .dataframe thead th {\n",
       "        text-align: right;\n",
       "    }\n",
       "</style>\n",
       "<table border=\"1\" class=\"dataframe\">\n",
       "  <thead>\n",
       "    <tr style=\"text-align: right;\">\n",
       "      <th></th>\n",
       "      <th>index</th>\n",
       "      <th>sentence</th>\n",
       "    </tr>\n",
       "  </thead>\n",
       "  <tbody>\n",
       "    <tr>\n",
       "      <th>29</th>\n",
       "      <td>29</td>\n",
       "      <td>You are also very sympathetic and understand t...</td>\n",
       "    </tr>\n",
       "  </tbody>\n",
       "</table>\n",
       "</div>"
      ],
      "text/plain": [
       "    index                                           sentence\n",
       "29     29  You are also very sympathetic and understand t..."
      ]
     },
     "metadata": {},
     "output_type": "display_data"
    },
    {
     "data": {
      "text/plain": [
       "'You are also very sympathetic and understand the unspoken feelings and needs of others.'"
      ]
     },
     "metadata": {},
     "output_type": "display_data"
    },
    {
     "name": "stdout",
     "output_type": "stream",
     "text": [
      "\n",
      "cluster: 55\n",
      "reliability score: 0.5\n"
     ]
    },
    {
     "data": {
      "text/html": [
       "<div>\n",
       "<style scoped>\n",
       "    .dataframe tbody tr th:only-of-type {\n",
       "        vertical-align: middle;\n",
       "    }\n",
       "\n",
       "    .dataframe tbody tr th {\n",
       "        vertical-align: top;\n",
       "    }\n",
       "\n",
       "    .dataframe thead th {\n",
       "        text-align: right;\n",
       "    }\n",
       "</style>\n",
       "<table border=\"1\" class=\"dataframe\">\n",
       "  <thead>\n",
       "    <tr style=\"text-align: right;\">\n",
       "      <th></th>\n",
       "      <th>index</th>\n",
       "      <th>sentence</th>\n",
       "    </tr>\n",
       "  </thead>\n",
       "  <tbody>\n",
       "    <tr>\n",
       "      <th>9</th>\n",
       "      <td>9</td>\n",
       "      <td>Sometimes, though, this can make relationships...</td>\n",
       "    </tr>\n",
       "  </tbody>\n",
       "</table>\n",
       "</div>"
      ],
      "text/plain": [
       "   index                                           sentence\n",
       "9      9  Sometimes, though, this can make relationships..."
      ]
     },
     "metadata": {},
     "output_type": "display_data"
    },
    {
     "data": {
      "text/plain": [
       "'Sometimes, though, this can make relationships sour as you often turn your critical eye on the one you love and the things they do.'"
      ]
     },
     "metadata": {},
     "output_type": "display_data"
    },
    {
     "name": "stdout",
     "output_type": "stream",
     "text": [
      "\n",
      "cluster: 22\n",
      "reliability score: 0.5\n"
     ]
    },
    {
     "data": {
      "text/html": [
       "<div>\n",
       "<style scoped>\n",
       "    .dataframe tbody tr th:only-of-type {\n",
       "        vertical-align: middle;\n",
       "    }\n",
       "\n",
       "    .dataframe tbody tr th {\n",
       "        vertical-align: top;\n",
       "    }\n",
       "\n",
       "    .dataframe thead th {\n",
       "        text-align: right;\n",
       "    }\n",
       "</style>\n",
       "<table border=\"1\" class=\"dataframe\">\n",
       "  <thead>\n",
       "    <tr style=\"text-align: right;\">\n",
       "      <th></th>\n",
       "      <th>index</th>\n",
       "      <th>sentence</th>\n",
       "    </tr>\n",
       "  </thead>\n",
       "  <tbody>\n",
       "    <tr>\n",
       "      <th>37</th>\n",
       "      <td>37</td>\n",
       "      <td>it would be wise for you to listen to your int...</td>\n",
       "    </tr>\n",
       "  </tbody>\n",
       "</table>\n",
       "</div>"
      ],
      "text/plain": [
       "    index                                           sentence\n",
       "37     37  it would be wise for you to listen to your int..."
      ]
     },
     "metadata": {},
     "output_type": "display_data"
    },
    {
     "data": {
      "text/plain": [
       "'it would be wise for you to listen to your intuitive side as you can be quite psychic.'"
      ]
     },
     "metadata": {},
     "output_type": "display_data"
    },
    {
     "name": "stdout",
     "output_type": "stream",
     "text": [
      "\n",
      "cluster: 26\n",
      "reliability score: 0.4\n"
     ]
    },
    {
     "data": {
      "text/html": [
       "<div>\n",
       "<style scoped>\n",
       "    .dataframe tbody tr th:only-of-type {\n",
       "        vertical-align: middle;\n",
       "    }\n",
       "\n",
       "    .dataframe tbody tr th {\n",
       "        vertical-align: top;\n",
       "    }\n",
       "\n",
       "    .dataframe thead th {\n",
       "        text-align: right;\n",
       "    }\n",
       "</style>\n",
       "<table border=\"1\" class=\"dataframe\">\n",
       "  <thead>\n",
       "    <tr style=\"text-align: right;\">\n",
       "      <th></th>\n",
       "      <th>index</th>\n",
       "      <th>sentence</th>\n",
       "    </tr>\n",
       "  </thead>\n",
       "  <tbody>\n",
       "    <tr>\n",
       "      <th>20</th>\n",
       "      <td>20</td>\n",
       "      <td>At times you can be very indecisive.</td>\n",
       "    </tr>\n",
       "    <tr>\n",
       "      <th>21</th>\n",
       "      <td>21</td>\n",
       "      <td>At times you can be very unsure.</td>\n",
       "    </tr>\n",
       "  </tbody>\n",
       "</table>\n",
       "</div>"
      ],
      "text/plain": [
       "    index                              sentence\n",
       "20     20  At times you can be very indecisive.\n",
       "21     21      At times you can be very unsure."
      ]
     },
     "metadata": {},
     "output_type": "display_data"
    },
    {
     "data": {
      "text/plain": [
       "'At times you can be very indecisive.'"
      ]
     },
     "metadata": {},
     "output_type": "display_data"
    },
    {
     "name": "stdout",
     "output_type": "stream",
     "text": [
      "\n",
      "cluster: 35\n",
      "reliability score: 0.36363636363636365\n"
     ]
    },
    {
     "data": {
      "text/html": [
       "<div>\n",
       "<style scoped>\n",
       "    .dataframe tbody tr th:only-of-type {\n",
       "        vertical-align: middle;\n",
       "    }\n",
       "\n",
       "    .dataframe tbody tr th {\n",
       "        vertical-align: top;\n",
       "    }\n",
       "\n",
       "    .dataframe thead th {\n",
       "        text-align: right;\n",
       "    }\n",
       "</style>\n",
       "<table border=\"1\" class=\"dataframe\">\n",
       "  <thead>\n",
       "    <tr style=\"text-align: right;\">\n",
       "      <th></th>\n",
       "      <th>index</th>\n",
       "      <th>sentence</th>\n",
       "    </tr>\n",
       "  </thead>\n",
       "  <tbody>\n",
       "    <tr>\n",
       "      <th>1</th>\n",
       "      <td>1</td>\n",
       "      <td>You have an ingenious mind.</td>\n",
       "    </tr>\n",
       "    <tr>\n",
       "      <th>2</th>\n",
       "      <td>2</td>\n",
       "      <td>You have an active mind.</td>\n",
       "    </tr>\n",
       "    <tr>\n",
       "      <th>3</th>\n",
       "      <td>3</td>\n",
       "      <td>You have an alert mind.</td>\n",
       "    </tr>\n",
       "    <tr>\n",
       "      <th>48</th>\n",
       "      <td>48</td>\n",
       "      <td>If you have Mercury in Gemini, you have an ext...</td>\n",
       "    </tr>\n",
       "  </tbody>\n",
       "</table>\n",
       "</div>"
      ],
      "text/plain": [
       "    index                                           sentence\n",
       "1       1                        You have an ingenious mind.\n",
       "2       2                           You have an active mind.\n",
       "3       3                            You have an alert mind.\n",
       "48     48  If you have Mercury in Gemini, you have an ext..."
      ]
     },
     "metadata": {},
     "output_type": "display_data"
    },
    {
     "data": {
      "text/plain": [
       "'You have an active mind.'"
      ]
     },
     "metadata": {},
     "output_type": "display_data"
    },
    {
     "name": "stdout",
     "output_type": "stream",
     "text": [
      "\n",
      "cluster: 63\n",
      "reliability score: 0.3333333333333333\n"
     ]
    },
    {
     "data": {
      "text/html": [
       "<div>\n",
       "<style scoped>\n",
       "    .dataframe tbody tr th:only-of-type {\n",
       "        vertical-align: middle;\n",
       "    }\n",
       "\n",
       "    .dataframe tbody tr th {\n",
       "        vertical-align: top;\n",
       "    }\n",
       "\n",
       "    .dataframe thead th {\n",
       "        text-align: right;\n",
       "    }\n",
       "</style>\n",
       "<table border=\"1\" class=\"dataframe\">\n",
       "  <thead>\n",
       "    <tr style=\"text-align: right;\">\n",
       "      <th></th>\n",
       "      <th>index</th>\n",
       "      <th>sentence</th>\n",
       "    </tr>\n",
       "  </thead>\n",
       "  <tbody>\n",
       "    <tr>\n",
       "      <th>25</th>\n",
       "      <td>25</td>\n",
       "      <td>Learning to control your own moods may be very...</td>\n",
       "    </tr>\n",
       "  </tbody>\n",
       "</table>\n",
       "</div>"
      ],
      "text/plain": [
       "    index                                           sentence\n",
       "25     25  Learning to control your own moods may be very..."
      ]
     },
     "metadata": {},
     "output_type": "display_data"
    },
    {
     "data": {
      "text/plain": [
       "'Learning to control your own moods may be very difficult, yet necessary, for you.'"
      ]
     },
     "metadata": {},
     "output_type": "display_data"
    },
    {
     "name": "stdout",
     "output_type": "stream",
     "text": [
      "\n",
      "cluster: 51\n",
      "reliability score: 0.3333333333333333\n"
     ]
    },
    {
     "data": {
      "text/html": [
       "<div>\n",
       "<style scoped>\n",
       "    .dataframe tbody tr th:only-of-type {\n",
       "        vertical-align: middle;\n",
       "    }\n",
       "\n",
       "    .dataframe tbody tr th {\n",
       "        vertical-align: top;\n",
       "    }\n",
       "\n",
       "    .dataframe thead th {\n",
       "        text-align: right;\n",
       "    }\n",
       "</style>\n",
       "<table border=\"1\" class=\"dataframe\">\n",
       "  <thead>\n",
       "    <tr style=\"text-align: right;\">\n",
       "      <th></th>\n",
       "      <th>index</th>\n",
       "      <th>sentence</th>\n",
       "    </tr>\n",
       "  </thead>\n",
       "  <tbody>\n",
       "    <tr>\n",
       "      <th>19</th>\n",
       "      <td>19</td>\n",
       "      <td>you seldom have much weight on you.</td>\n",
       "    </tr>\n",
       "  </tbody>\n",
       "</table>\n",
       "</div>"
      ],
      "text/plain": [
       "    index                             sentence\n",
       "19     19  you seldom have much weight on you."
      ]
     },
     "metadata": {},
     "output_type": "display_data"
    },
    {
     "data": {
      "text/plain": [
       "'you seldom have much weight on you.'"
      ]
     },
     "metadata": {},
     "output_type": "display_data"
    },
    {
     "name": "stdout",
     "output_type": "stream",
     "text": [
      "\n",
      "cluster: 19\n",
      "reliability score: 0.2857142857142857\n"
     ]
    },
    {
     "data": {
      "text/html": [
       "<div>\n",
       "<style scoped>\n",
       "    .dataframe tbody tr th:only-of-type {\n",
       "        vertical-align: middle;\n",
       "    }\n",
       "\n",
       "    .dataframe tbody tr th {\n",
       "        vertical-align: top;\n",
       "    }\n",
       "\n",
       "    .dataframe thead th {\n",
       "        text-align: right;\n",
       "    }\n",
       "</style>\n",
       "<table border=\"1\" class=\"dataframe\">\n",
       "  <thead>\n",
       "    <tr style=\"text-align: right;\">\n",
       "      <th></th>\n",
       "      <th>index</th>\n",
       "      <th>sentence</th>\n",
       "    </tr>\n",
       "  </thead>\n",
       "  <tbody>\n",
       "    <tr>\n",
       "      <th>86</th>\n",
       "      <td>86</td>\n",
       "      <td>You aim to please in practical ways.</td>\n",
       "    </tr>\n",
       "    <tr>\n",
       "      <th>87</th>\n",
       "      <td>87</td>\n",
       "      <td>You aim to please in earthy ways.</td>\n",
       "    </tr>\n",
       "  </tbody>\n",
       "</table>\n",
       "</div>"
      ],
      "text/plain": [
       "    index                              sentence\n",
       "86     86  You aim to please in practical ways.\n",
       "87     87     You aim to please in earthy ways."
      ]
     },
     "metadata": {},
     "output_type": "display_data"
    },
    {
     "data": {
      "text/plain": [
       "'You aim to please in practical ways.'"
      ]
     },
     "metadata": {},
     "output_type": "display_data"
    },
    {
     "name": "stdout",
     "output_type": "stream",
     "text": [
      "\n",
      "cluster: 9\n",
      "reliability score: 0.2857142857142857\n"
     ]
    },
    {
     "data": {
      "text/html": [
       "<div>\n",
       "<style scoped>\n",
       "    .dataframe tbody tr th:only-of-type {\n",
       "        vertical-align: middle;\n",
       "    }\n",
       "\n",
       "    .dataframe tbody tr th {\n",
       "        vertical-align: top;\n",
       "    }\n",
       "\n",
       "    .dataframe thead th {\n",
       "        text-align: right;\n",
       "    }\n",
       "</style>\n",
       "<table border=\"1\" class=\"dataframe\">\n",
       "  <thead>\n",
       "    <tr style=\"text-align: right;\">\n",
       "      <th></th>\n",
       "      <th>index</th>\n",
       "      <th>sentence</th>\n",
       "    </tr>\n",
       "  </thead>\n",
       "  <tbody>\n",
       "    <tr>\n",
       "      <th>0</th>\n",
       "      <td>0</td>\n",
       "      <td>People with Virgo rising tend to be practical,...</td>\n",
       "    </tr>\n",
       "    <tr>\n",
       "      <th>11</th>\n",
       "      <td>11</td>\n",
       "      <td>You may tend to worry too much, especially abo...</td>\n",
       "    </tr>\n",
       "  </tbody>\n",
       "</table>\n",
       "</div>"
      ],
      "text/plain": [
       "    index                                           sentence\n",
       "0       0  People with Virgo rising tend to be practical,...\n",
       "11     11  You may tend to worry too much, especially abo..."
      ]
     },
     "metadata": {},
     "output_type": "display_data"
    },
    {
     "data": {
      "text/plain": [
       "'People with Virgo rising tend to be practical, analytical, discriminating, fastidious, careful, exacting, attentive to details, methodical, quiet, unassuming, shy, critical, thoughtful, and somewhat self-centered.'"
      ]
     },
     "metadata": {},
     "output_type": "display_data"
    },
    {
     "name": "stdout",
     "output_type": "stream",
     "text": [
      "\n",
      "cluster: 57\n",
      "reliability score: 0.25\n"
     ]
    },
    {
     "data": {
      "text/html": [
       "<div>\n",
       "<style scoped>\n",
       "    .dataframe tbody tr th:only-of-type {\n",
       "        vertical-align: middle;\n",
       "    }\n",
       "\n",
       "    .dataframe tbody tr th {\n",
       "        vertical-align: top;\n",
       "    }\n",
       "\n",
       "    .dataframe thead th {\n",
       "        text-align: right;\n",
       "    }\n",
       "</style>\n",
       "<table border=\"1\" class=\"dataframe\">\n",
       "  <thead>\n",
       "    <tr style=\"text-align: right;\">\n",
       "      <th></th>\n",
       "      <th>index</th>\n",
       "      <th>sentence</th>\n",
       "    </tr>\n",
       "  </thead>\n",
       "  <tbody>\n",
       "    <tr>\n",
       "      <th>50</th>\n",
       "      <td>50</td>\n",
       "      <td>You have so much nervous energy that this can ...</td>\n",
       "    </tr>\n",
       "  </tbody>\n",
       "</table>\n",
       "</div>"
      ],
      "text/plain": [
       "    index                                           sentence\n",
       "50     50  You have so much nervous energy that this can ..."
      ]
     },
     "metadata": {},
     "output_type": "display_data"
    },
    {
     "data": {
      "text/plain": [
       "'You have so much nervous energy that this can sometimes cause great stress which must find an appropriate release.'"
      ]
     },
     "metadata": {},
     "output_type": "display_data"
    },
    {
     "name": "stdout",
     "output_type": "stream",
     "text": [
      "\n",
      "cluster: 5\n",
      "reliability score: 0.25\n"
     ]
    },
    {
     "data": {
      "text/html": [
       "<div>\n",
       "<style scoped>\n",
       "    .dataframe tbody tr th:only-of-type {\n",
       "        vertical-align: middle;\n",
       "    }\n",
       "\n",
       "    .dataframe tbody tr th {\n",
       "        vertical-align: top;\n",
       "    }\n",
       "\n",
       "    .dataframe thead th {\n",
       "        text-align: right;\n",
       "    }\n",
       "</style>\n",
       "<table border=\"1\" class=\"dataframe\">\n",
       "  <thead>\n",
       "    <tr style=\"text-align: right;\">\n",
       "      <th></th>\n",
       "      <th>index</th>\n",
       "      <th>sentence</th>\n",
       "    </tr>\n",
       "  </thead>\n",
       "  <tbody>\n",
       "    <tr>\n",
       "      <th>14</th>\n",
       "      <td>14</td>\n",
       "      <td>You need to learn to assimilate it without bit...</td>\n",
       "    </tr>\n",
       "    <tr>\n",
       "      <th>31</th>\n",
       "      <td>31</td>\n",
       "      <td>though you may forgive a mistake by a friend o...</td>\n",
       "    </tr>\n",
       "  </tbody>\n",
       "</table>\n",
       "</div>"
      ],
      "text/plain": [
       "    index                                           sentence\n",
       "14     14  You need to learn to assimilate it without bit...\n",
       "31     31  though you may forgive a mistake by a friend o..."
      ]
     },
     "metadata": {},
     "output_type": "display_data"
    },
    {
     "data": {
      "text/plain": [
       "'You need to learn to assimilate it without bitterness, regret, spite or resentment.'"
      ]
     },
     "metadata": {},
     "output_type": "display_data"
    },
    {
     "name": "stdout",
     "output_type": "stream",
     "text": [
      "\n",
      "cluster: 3\n",
      "reliability score: 0.25\n"
     ]
    },
    {
     "data": {
      "text/html": [
       "<div>\n",
       "<style scoped>\n",
       "    .dataframe tbody tr th:only-of-type {\n",
       "        vertical-align: middle;\n",
       "    }\n",
       "\n",
       "    .dataframe tbody tr th {\n",
       "        vertical-align: top;\n",
       "    }\n",
       "\n",
       "    .dataframe thead th {\n",
       "        text-align: right;\n",
       "    }\n",
       "</style>\n",
       "<table border=\"1\" class=\"dataframe\">\n",
       "  <thead>\n",
       "    <tr style=\"text-align: right;\">\n",
       "      <th></th>\n",
       "      <th>index</th>\n",
       "      <th>sentence</th>\n",
       "    </tr>\n",
       "  </thead>\n",
       "  <tbody>\n",
       "    <tr>\n",
       "      <th>4</th>\n",
       "      <td>4</td>\n",
       "      <td>Gaining knowledge and putting it to good use a...</td>\n",
       "    </tr>\n",
       "    <tr>\n",
       "      <th>64</th>\n",
       "      <td>64</td>\n",
       "      <td>Control of thought, word, and action is necess...</td>\n",
       "    </tr>\n",
       "  </tbody>\n",
       "</table>\n",
       "</div>"
      ],
      "text/plain": [
       "    index                                           sentence\n",
       "4       4  Gaining knowledge and putting it to good use a...\n",
       "64     64  Control of thought, word, and action is necess..."
      ]
     },
     "metadata": {},
     "output_type": "display_data"
    },
    {
     "data": {
      "text/plain": [
       "'Gaining knowledge and putting it to good use are important to you.'"
      ]
     },
     "metadata": {},
     "output_type": "display_data"
    },
    {
     "name": "stdout",
     "output_type": "stream",
     "text": [
      "\n",
      "cluster: 17\n",
      "reliability score: 0.2222222222222222\n"
     ]
    },
    {
     "data": {
      "text/html": [
       "<div>\n",
       "<style scoped>\n",
       "    .dataframe tbody tr th:only-of-type {\n",
       "        vertical-align: middle;\n",
       "    }\n",
       "\n",
       "    .dataframe tbody tr th {\n",
       "        vertical-align: top;\n",
       "    }\n",
       "\n",
       "    .dataframe thead th {\n",
       "        text-align: right;\n",
       "    }\n",
       "</style>\n",
       "<table border=\"1\" class=\"dataframe\">\n",
       "  <thead>\n",
       "    <tr style=\"text-align: right;\">\n",
       "      <th></th>\n",
       "      <th>index</th>\n",
       "      <th>sentence</th>\n",
       "    </tr>\n",
       "  </thead>\n",
       "  <tbody>\n",
       "    <tr>\n",
       "      <th>59</th>\n",
       "      <td>59</td>\n",
       "      <td>You may be ambidextrous or mechanically inclined.</td>\n",
       "    </tr>\n",
       "    <tr>\n",
       "      <th>62</th>\n",
       "      <td>62</td>\n",
       "      <td>This is the jack-of-all-trades, master-of-none...</td>\n",
       "    </tr>\n",
       "  </tbody>\n",
       "</table>\n",
       "</div>"
      ],
      "text/plain": [
       "    index                                           sentence\n",
       "59     59  You may be ambidextrous or mechanically inclined.\n",
       "62     62  This is the jack-of-all-trades, master-of-none..."
      ]
     },
     "metadata": {},
     "output_type": "display_data"
    },
    {
     "data": {
      "text/plain": [
       "'You may be ambidextrous or mechanically inclined.'"
      ]
     },
     "metadata": {},
     "output_type": "display_data"
    },
    {
     "name": "stdout",
     "output_type": "stream",
     "text": [
      "\n",
      "cluster: 6\n",
      "reliability score: 0.2222222222222222\n"
     ]
    },
    {
     "data": {
      "text/html": [
       "<div>\n",
       "<style scoped>\n",
       "    .dataframe tbody tr th:only-of-type {\n",
       "        vertical-align: middle;\n",
       "    }\n",
       "\n",
       "    .dataframe tbody tr th {\n",
       "        vertical-align: top;\n",
       "    }\n",
       "\n",
       "    .dataframe thead th {\n",
       "        text-align: right;\n",
       "    }\n",
       "</style>\n",
       "<table border=\"1\" class=\"dataframe\">\n",
       "  <thead>\n",
       "    <tr style=\"text-align: right;\">\n",
       "      <th></th>\n",
       "      <th>index</th>\n",
       "      <th>sentence</th>\n",
       "    </tr>\n",
       "  </thead>\n",
       "  <tbody>\n",
       "    <tr>\n",
       "      <th>70</th>\n",
       "      <td>70</td>\n",
       "      <td>If you have Venus in Taurus, in love affairs y...</td>\n",
       "    </tr>\n",
       "    <tr>\n",
       "      <th>71</th>\n",
       "      <td>71</td>\n",
       "      <td>If you have Venus in Taurus, in love affairs y...</td>\n",
       "    </tr>\n",
       "  </tbody>\n",
       "</table>\n",
       "</div>"
      ],
      "text/plain": [
       "    index                                           sentence\n",
       "70     70  If you have Venus in Taurus, in love affairs y...\n",
       "71     71  If you have Venus in Taurus, in love affairs y..."
      ]
     },
     "metadata": {},
     "output_type": "display_data"
    },
    {
     "data": {
      "text/plain": [
       "'If you have Venus in Taurus, in love affairs you are generally loyal, especially if your partner is demonstrative and affectionate.'"
      ]
     },
     "metadata": {},
     "output_type": "display_data"
    },
    {
     "name": "stdout",
     "output_type": "stream",
     "text": [
      "\n",
      "cluster: 41\n",
      "reliability score: 0.2\n"
     ]
    },
    {
     "data": {
      "text/html": [
       "<div>\n",
       "<style scoped>\n",
       "    .dataframe tbody tr th:only-of-type {\n",
       "        vertical-align: middle;\n",
       "    }\n",
       "\n",
       "    .dataframe tbody tr th {\n",
       "        vertical-align: top;\n",
       "    }\n",
       "\n",
       "    .dataframe thead th {\n",
       "        text-align: right;\n",
       "    }\n",
       "</style>\n",
       "<table border=\"1\" class=\"dataframe\">\n",
       "  <thead>\n",
       "    <tr style=\"text-align: right;\">\n",
       "      <th></th>\n",
       "      <th>index</th>\n",
       "      <th>sentence</th>\n",
       "    </tr>\n",
       "  </thead>\n",
       "  <tbody>\n",
       "    <tr>\n",
       "      <th>55</th>\n",
       "      <td>55</td>\n",
       "      <td>You are equally quick to lose interest in an i...</td>\n",
       "    </tr>\n",
       "  </tbody>\n",
       "</table>\n",
       "</div>"
      ],
      "text/plain": [
       "    index                                           sentence\n",
       "55     55  You are equally quick to lose interest in an i..."
      ]
     },
     "metadata": {},
     "output_type": "display_data"
    },
    {
     "data": {
      "text/plain": [
       "'You are equally quick to lose interest in an idea or project once your curiosity has been satisfied.'"
      ]
     },
     "metadata": {},
     "output_type": "display_data"
    },
    {
     "name": "stdout",
     "output_type": "stream",
     "text": [
      "\n",
      "cluster: 21\n",
      "reliability score: 0.2\n"
     ]
    },
    {
     "data": {
      "text/html": [
       "<div>\n",
       "<style scoped>\n",
       "    .dataframe tbody tr th:only-of-type {\n",
       "        vertical-align: middle;\n",
       "    }\n",
       "\n",
       "    .dataframe tbody tr th {\n",
       "        vertical-align: top;\n",
       "    }\n",
       "\n",
       "    .dataframe thead th {\n",
       "        text-align: right;\n",
       "    }\n",
       "</style>\n",
       "<table border=\"1\" class=\"dataframe\">\n",
       "  <thead>\n",
       "    <tr style=\"text-align: right;\">\n",
       "      <th></th>\n",
       "      <th>index</th>\n",
       "      <th>sentence</th>\n",
       "    </tr>\n",
       "  </thead>\n",
       "  <tbody>\n",
       "    <tr>\n",
       "      <th>79</th>\n",
       "      <td>79</td>\n",
       "      <td>it is too easy for you to be extravagant.</td>\n",
       "    </tr>\n",
       "    <tr>\n",
       "      <th>80</th>\n",
       "      <td>80</td>\n",
       "      <td>it is too easy for you to put too much value i...</td>\n",
       "    </tr>\n",
       "  </tbody>\n",
       "</table>\n",
       "</div>"
      ],
      "text/plain": [
       "    index                                           sentence\n",
       "79     79          it is too easy for you to be extravagant.\n",
       "80     80  it is too easy for you to put too much value i..."
      ]
     },
     "metadata": {},
     "output_type": "display_data"
    },
    {
     "data": {
      "text/plain": [
       "'it is too easy for you to be extravagant.'"
      ]
     },
     "metadata": {},
     "output_type": "display_data"
    },
    {
     "name": "stdout",
     "output_type": "stream",
     "text": [
      "\n",
      "cluster: 10\n",
      "reliability score: 0.18181818181818182\n"
     ]
    },
    {
     "data": {
      "text/html": [
       "<div>\n",
       "<style scoped>\n",
       "    .dataframe tbody tr th:only-of-type {\n",
       "        vertical-align: middle;\n",
       "    }\n",
       "\n",
       "    .dataframe tbody tr th {\n",
       "        vertical-align: top;\n",
       "    }\n",
       "\n",
       "    .dataframe thead th {\n",
       "        text-align: right;\n",
       "    }\n",
       "</style>\n",
       "<table border=\"1\" class=\"dataframe\">\n",
       "  <thead>\n",
       "    <tr style=\"text-align: right;\">\n",
       "      <th></th>\n",
       "      <th>index</th>\n",
       "      <th>sentence</th>\n",
       "    </tr>\n",
       "  </thead>\n",
       "  <tbody>\n",
       "    <tr>\n",
       "      <th>33</th>\n",
       "      <td>33</td>\n",
       "      <td>you look for it in home.</td>\n",
       "    </tr>\n",
       "    <tr>\n",
       "      <th>34</th>\n",
       "      <td>34</td>\n",
       "      <td>you look for it in family.</td>\n",
       "    </tr>\n",
       "  </tbody>\n",
       "</table>\n",
       "</div>"
      ],
      "text/plain": [
       "    index                    sentence\n",
       "33     33    you look for it in home.\n",
       "34     34  you look for it in family."
      ]
     },
     "metadata": {},
     "output_type": "display_data"
    },
    {
     "data": {
      "text/plain": [
       "'you look for it in home.'"
      ]
     },
     "metadata": {},
     "output_type": "display_data"
    },
    {
     "name": "stdout",
     "output_type": "stream",
     "text": [
      "\n",
      "cluster: 2\n",
      "reliability score: 0.18181818181818182\n"
     ]
    },
    {
     "data": {
      "text/html": [
       "<div>\n",
       "<style scoped>\n",
       "    .dataframe tbody tr th:only-of-type {\n",
       "        vertical-align: middle;\n",
       "    }\n",
       "\n",
       "    .dataframe tbody tr th {\n",
       "        vertical-align: top;\n",
       "    }\n",
       "\n",
       "    .dataframe thead th {\n",
       "        text-align: right;\n",
       "    }\n",
       "</style>\n",
       "<table border=\"1\" class=\"dataframe\">\n",
       "  <thead>\n",
       "    <tr style=\"text-align: right;\">\n",
       "      <th></th>\n",
       "      <th>index</th>\n",
       "      <th>sentence</th>\n",
       "    </tr>\n",
       "  </thead>\n",
       "  <tbody>\n",
       "    <tr>\n",
       "      <th>49</th>\n",
       "      <td>49</td>\n",
       "      <td>You seek knowledge, either through reading or ...</td>\n",
       "    </tr>\n",
       "    <tr>\n",
       "      <th>58</th>\n",
       "      <td>58</td>\n",
       "      <td>You are handy with your hands.</td>\n",
       "    </tr>\n",
       "  </tbody>\n",
       "</table>\n",
       "</div>"
      ],
      "text/plain": [
       "    index                                           sentence\n",
       "49     49  You seek knowledge, either through reading or ...\n",
       "58     58                     You are handy with your hands."
      ]
     },
     "metadata": {},
     "output_type": "display_data"
    },
    {
     "data": {
      "text/plain": [
       "'You seek knowledge, either through reading or conversation, or through travel and talking with the new people you constantly meet.'"
      ]
     },
     "metadata": {},
     "output_type": "display_data"
    },
    {
     "name": "stdout",
     "output_type": "stream",
     "text": [
      "\n",
      "cluster: 56\n",
      "reliability score: 0.16666666666666666\n"
     ]
    },
    {
     "data": {
      "text/html": [
       "<div>\n",
       "<style scoped>\n",
       "    .dataframe tbody tr th:only-of-type {\n",
       "        vertical-align: middle;\n",
       "    }\n",
       "\n",
       "    .dataframe tbody tr th {\n",
       "        vertical-align: top;\n",
       "    }\n",
       "\n",
       "    .dataframe thead th {\n",
       "        text-align: right;\n",
       "    }\n",
       "</style>\n",
       "<table border=\"1\" class=\"dataframe\">\n",
       "  <thead>\n",
       "    <tr style=\"text-align: right;\">\n",
       "      <th></th>\n",
       "      <th>index</th>\n",
       "      <th>sentence</th>\n",
       "    </tr>\n",
       "  </thead>\n",
       "  <tbody>\n",
       "    <tr>\n",
       "      <th>22</th>\n",
       "      <td>22</td>\n",
       "      <td>If you have the Moon in Cancer, you very easil...</td>\n",
       "    </tr>\n",
       "  </tbody>\n",
       "</table>\n",
       "</div>"
      ],
      "text/plain": [
       "    index                                           sentence\n",
       "22     22  If you have the Moon in Cancer, you very easil..."
      ]
     },
     "metadata": {},
     "output_type": "display_data"
    },
    {
     "data": {
      "text/plain": [
       "'If you have the Moon in Cancer, you very easily respond to the emotional environment in which you are placed.'"
      ]
     },
     "metadata": {},
     "output_type": "display_data"
    },
    {
     "name": "stdout",
     "output_type": "stream",
     "text": [
      "\n",
      "cluster: 47\n",
      "reliability score: 0.16666666666666666\n"
     ]
    },
    {
     "data": {
      "text/html": [
       "<div>\n",
       "<style scoped>\n",
       "    .dataframe tbody tr th:only-of-type {\n",
       "        vertical-align: middle;\n",
       "    }\n",
       "\n",
       "    .dataframe tbody tr th {\n",
       "        vertical-align: top;\n",
       "    }\n",
       "\n",
       "    .dataframe thead th {\n",
       "        text-align: right;\n",
       "    }\n",
       "</style>\n",
       "<table border=\"1\" class=\"dataframe\">\n",
       "  <thead>\n",
       "    <tr style=\"text-align: right;\">\n",
       "      <th></th>\n",
       "      <th>index</th>\n",
       "      <th>sentence</th>\n",
       "    </tr>\n",
       "  </thead>\n",
       "  <tbody>\n",
       "    <tr>\n",
       "      <th>28</th>\n",
       "      <td>28</td>\n",
       "      <td>Anyone who lives with you must accept your ups...</td>\n",
       "    </tr>\n",
       "  </tbody>\n",
       "</table>\n",
       "</div>"
      ],
      "text/plain": [
       "    index                                           sentence\n",
       "28     28  Anyone who lives with you must accept your ups..."
      ]
     },
     "metadata": {},
     "output_type": "display_data"
    },
    {
     "data": {
      "text/plain": [
       "'Anyone who lives with you must accept your ups and downs and appreciate your need for times of withdrawal.'"
      ]
     },
     "metadata": {},
     "output_type": "display_data"
    },
    {
     "name": "stdout",
     "output_type": "stream",
     "text": [
      "\n",
      "cluster: 0\n",
      "reliability score: 0.16666666666666666\n"
     ]
    },
    {
     "data": {
      "text/html": [
       "<div>\n",
       "<style scoped>\n",
       "    .dataframe tbody tr th:only-of-type {\n",
       "        vertical-align: middle;\n",
       "    }\n",
       "\n",
       "    .dataframe tbody tr th {\n",
       "        vertical-align: top;\n",
       "    }\n",
       "\n",
       "    .dataframe thead th {\n",
       "        text-align: right;\n",
       "    }\n",
       "</style>\n",
       "<table border=\"1\" class=\"dataframe\">\n",
       "  <thead>\n",
       "    <tr style=\"text-align: right;\">\n",
       "      <th></th>\n",
       "      <th>index</th>\n",
       "      <th>sentence</th>\n",
       "    </tr>\n",
       "  </thead>\n",
       "  <tbody>\n",
       "    <tr>\n",
       "      <th>13</th>\n",
       "      <td>13</td>\n",
       "      <td>You need to learn to digest every experience.</td>\n",
       "    </tr>\n",
       "    <tr>\n",
       "      <th>56</th>\n",
       "      <td>56</td>\n",
       "      <td>You like to taste a little bit of everything.</td>\n",
       "    </tr>\n",
       "  </tbody>\n",
       "</table>\n",
       "</div>"
      ],
      "text/plain": [
       "    index                                       sentence\n",
       "13     13  You need to learn to digest every experience.\n",
       "56     56  You like to taste a little bit of everything."
      ]
     },
     "metadata": {},
     "output_type": "display_data"
    },
    {
     "data": {
      "text/plain": [
       "'You need to learn to digest every experience.'"
      ]
     },
     "metadata": {},
     "output_type": "display_data"
    },
    {
     "name": "stdout",
     "output_type": "stream",
     "text": [
      "\n",
      "cluster: 37\n",
      "reliability score: 0.15384615384615385\n"
     ]
    },
    {
     "data": {
      "text/html": [
       "<div>\n",
       "<style scoped>\n",
       "    .dataframe tbody tr th:only-of-type {\n",
       "        vertical-align: middle;\n",
       "    }\n",
       "\n",
       "    .dataframe tbody tr th {\n",
       "        vertical-align: top;\n",
       "    }\n",
       "\n",
       "    .dataframe thead th {\n",
       "        text-align: right;\n",
       "    }\n",
       "</style>\n",
       "<table border=\"1\" class=\"dataframe\">\n",
       "  <thead>\n",
       "    <tr style=\"text-align: right;\">\n",
       "      <th></th>\n",
       "      <th>index</th>\n",
       "      <th>sentence</th>\n",
       "    </tr>\n",
       "  </thead>\n",
       "  <tbody>\n",
       "    <tr>\n",
       "      <th>74</th>\n",
       "      <td>74</td>\n",
       "      <td>You are tremendously responsive to beauty.</td>\n",
       "    </tr>\n",
       "    <tr>\n",
       "      <th>75</th>\n",
       "      <td>75</td>\n",
       "      <td>You are tremendously responsive to physical ap...</td>\n",
       "    </tr>\n",
       "  </tbody>\n",
       "</table>\n",
       "</div>"
      ],
      "text/plain": [
       "    index                                           sentence\n",
       "74     74         You are tremendously responsive to beauty.\n",
       "75     75  You are tremendously responsive to physical ap..."
      ]
     },
     "metadata": {},
     "output_type": "display_data"
    },
    {
     "data": {
      "text/plain": [
       "'You are tremendously responsive to beauty.'"
      ]
     },
     "metadata": {},
     "output_type": "display_data"
    },
    {
     "name": "stdout",
     "output_type": "stream",
     "text": [
      "\n",
      "cluster: 50\n",
      "reliability score: 0.14285714285714285\n"
     ]
    },
    {
     "data": {
      "text/html": [
       "<div>\n",
       "<style scoped>\n",
       "    .dataframe tbody tr th:only-of-type {\n",
       "        vertical-align: middle;\n",
       "    }\n",
       "\n",
       "    .dataframe tbody tr th {\n",
       "        vertical-align: top;\n",
       "    }\n",
       "\n",
       "    .dataframe thead th {\n",
       "        text-align: right;\n",
       "    }\n",
       "</style>\n",
       "<table border=\"1\" class=\"dataframe\">\n",
       "  <thead>\n",
       "    <tr style=\"text-align: right;\">\n",
       "      <th></th>\n",
       "      <th>index</th>\n",
       "      <th>sentence</th>\n",
       "    </tr>\n",
       "  </thead>\n",
       "  <tbody>\n",
       "    <tr>\n",
       "      <th>47</th>\n",
       "      <td>47</td>\n",
       "      <td>You have the memory of an elephant, but you mu...</td>\n",
       "    </tr>\n",
       "  </tbody>\n",
       "</table>\n",
       "</div>"
      ],
      "text/plain": [
       "    index                                           sentence\n",
       "47     47  You have the memory of an elephant, but you mu..."
      ]
     },
     "metadata": {},
     "output_type": "display_data"
    },
    {
     "data": {
      "text/plain": [
       "'You have the memory of an elephant, but you must learn to forgive and forget past hurts.'"
      ]
     },
     "metadata": {},
     "output_type": "display_data"
    },
    {
     "name": "stdout",
     "output_type": "stream",
     "text": [
      "\n",
      "cluster: 34\n",
      "reliability score: 0.14285714285714285\n"
     ]
    },
    {
     "data": {
      "text/html": [
       "<div>\n",
       "<style scoped>\n",
       "    .dataframe tbody tr th:only-of-type {\n",
       "        vertical-align: middle;\n",
       "    }\n",
       "\n",
       "    .dataframe tbody tr th {\n",
       "        vertical-align: top;\n",
       "    }\n",
       "\n",
       "    .dataframe thead th {\n",
       "        text-align: right;\n",
       "    }\n",
       "</style>\n",
       "<table border=\"1\" class=\"dataframe\">\n",
       "  <thead>\n",
       "    <tr style=\"text-align: right;\">\n",
       "      <th></th>\n",
       "      <th>index</th>\n",
       "      <th>sentence</th>\n",
       "    </tr>\n",
       "  </thead>\n",
       "  <tbody>\n",
       "    <tr>\n",
       "      <th>51</th>\n",
       "      <td>51</td>\n",
       "      <td>Exercise is a good way to release this tension.</td>\n",
       "    </tr>\n",
       "  </tbody>\n",
       "</table>\n",
       "</div>"
      ],
      "text/plain": [
       "    index                                         sentence\n",
       "51     51  Exercise is a good way to release this tension."
      ]
     },
     "metadata": {},
     "output_type": "display_data"
    },
    {
     "data": {
      "text/plain": [
       "'Exercise is a good way to release this tension.'"
      ]
     },
     "metadata": {},
     "output_type": "display_data"
    },
    {
     "name": "stdout",
     "output_type": "stream",
     "text": [
      "\n",
      "cluster: 28\n",
      "reliability score: 0.14285714285714285\n"
     ]
    },
    {
     "data": {
      "text/html": [
       "<div>\n",
       "<style scoped>\n",
       "    .dataframe tbody tr th:only-of-type {\n",
       "        vertical-align: middle;\n",
       "    }\n",
       "\n",
       "    .dataframe tbody tr th {\n",
       "        vertical-align: top;\n",
       "    }\n",
       "\n",
       "    .dataframe thead th {\n",
       "        text-align: right;\n",
       "    }\n",
       "</style>\n",
       "<table border=\"1\" class=\"dataframe\">\n",
       "  <thead>\n",
       "    <tr style=\"text-align: right;\">\n",
       "      <th></th>\n",
       "      <th>index</th>\n",
       "      <th>sentence</th>\n",
       "    </tr>\n",
       "  </thead>\n",
       "  <tbody>\n",
       "    <tr>\n",
       "      <th>53</th>\n",
       "      <td>53</td>\n",
       "      <td>You love being involved in multiple things at ...</td>\n",
       "    </tr>\n",
       "  </tbody>\n",
       "</table>\n",
       "</div>"
      ],
      "text/plain": [
       "    index                                           sentence\n",
       "53     53  You love being involved in multiple things at ..."
      ]
     },
     "metadata": {},
     "output_type": "display_data"
    },
    {
     "data": {
      "text/plain": [
       "'You love being involved in multiple things at once and this may be a problem – too may irons in the fire at the same time.'"
      ]
     },
     "metadata": {},
     "output_type": "display_data"
    },
    {
     "name": "stdout",
     "output_type": "stream",
     "text": [
      "\n",
      "cluster: 18\n",
      "reliability score: 0.13333333333333333\n"
     ]
    },
    {
     "data": {
      "text/html": [
       "<div>\n",
       "<style scoped>\n",
       "    .dataframe tbody tr th:only-of-type {\n",
       "        vertical-align: middle;\n",
       "    }\n",
       "\n",
       "    .dataframe tbody tr th {\n",
       "        vertical-align: top;\n",
       "    }\n",
       "\n",
       "    .dataframe thead th {\n",
       "        text-align: right;\n",
       "    }\n",
       "</style>\n",
       "<table border=\"1\" class=\"dataframe\">\n",
       "  <thead>\n",
       "    <tr style=\"text-align: right;\">\n",
       "      <th></th>\n",
       "      <th>index</th>\n",
       "      <th>sentence</th>\n",
       "    </tr>\n",
       "  </thead>\n",
       "  <tbody>\n",
       "    <tr>\n",
       "      <th>43</th>\n",
       "      <td>43</td>\n",
       "      <td>You tend to be a pack-rat because everything h...</td>\n",
       "    </tr>\n",
       "    <tr>\n",
       "      <th>61</th>\n",
       "      <td>61</td>\n",
       "      <td>There is a tendency to scratch the surface wit...</td>\n",
       "    </tr>\n",
       "  </tbody>\n",
       "</table>\n",
       "</div>"
      ],
      "text/plain": [
       "    index                                           sentence\n",
       "43     43  You tend to be a pack-rat because everything h...\n",
       "61     61  There is a tendency to scratch the surface wit..."
      ]
     },
     "metadata": {},
     "output_type": "display_data"
    },
    {
     "data": {
      "text/plain": [
       "'You tend to be a pack-rat because everything has an emotional memory behind it.'"
      ]
     },
     "metadata": {},
     "output_type": "display_data"
    },
    {
     "name": "stdout",
     "output_type": "stream",
     "text": [
      "\n",
      "cluster: 7\n",
      "reliability score: 0.13333333333333333\n"
     ]
    },
    {
     "data": {
      "text/html": [
       "<div>\n",
       "<style scoped>\n",
       "    .dataframe tbody tr th:only-of-type {\n",
       "        vertical-align: middle;\n",
       "    }\n",
       "\n",
       "    .dataframe tbody tr th {\n",
       "        vertical-align: top;\n",
       "    }\n",
       "\n",
       "    .dataframe thead th {\n",
       "        text-align: right;\n",
       "    }\n",
       "</style>\n",
       "<table border=\"1\" class=\"dataframe\">\n",
       "  <thead>\n",
       "    <tr style=\"text-align: right;\">\n",
       "      <th></th>\n",
       "      <th>index</th>\n",
       "      <th>sentence</th>\n",
       "    </tr>\n",
       "  </thead>\n",
       "  <tbody>\n",
       "    <tr>\n",
       "      <th>5</th>\n",
       "      <td>5</td>\n",
       "      <td>You strive for perfection.</td>\n",
       "    </tr>\n",
       "    <tr>\n",
       "      <th>35</th>\n",
       "      <td>35</td>\n",
       "      <td>you look for it in life.</td>\n",
       "    </tr>\n",
       "  </tbody>\n",
       "</table>\n",
       "</div>"
      ],
      "text/plain": [
       "    index                    sentence\n",
       "5       5  You strive for perfection.\n",
       "35     35    you look for it in life."
      ]
     },
     "metadata": {},
     "output_type": "display_data"
    },
    {
     "data": {
      "text/plain": [
       "'You strive for perfection.'"
      ]
     },
     "metadata": {},
     "output_type": "display_data"
    },
    {
     "name": "stdout",
     "output_type": "stream",
     "text": [
      "\n",
      "cluster: 49\n",
      "reliability score: 0.125\n"
     ]
    },
    {
     "data": {
      "text/html": [
       "<div>\n",
       "<style scoped>\n",
       "    .dataframe tbody tr th:only-of-type {\n",
       "        vertical-align: middle;\n",
       "    }\n",
       "\n",
       "    .dataframe tbody tr th {\n",
       "        vertical-align: top;\n",
       "    }\n",
       "\n",
       "    .dataframe thead th {\n",
       "        text-align: right;\n",
       "    }\n",
       "</style>\n",
       "<table border=\"1\" class=\"dataframe\">\n",
       "  <thead>\n",
       "    <tr style=\"text-align: right;\">\n",
       "      <th></th>\n",
       "      <th>index</th>\n",
       "      <th>sentence</th>\n",
       "    </tr>\n",
       "  </thead>\n",
       "  <tbody>\n",
       "    <tr>\n",
       "      <th>15</th>\n",
       "      <td>15</td>\n",
       "      <td>You need to get rid of any negativity that ste...</td>\n",
       "    </tr>\n",
       "  </tbody>\n",
       "</table>\n",
       "</div>"
      ],
      "text/plain": [
       "    index                                           sentence\n",
       "15     15  You need to get rid of any negativity that ste..."
      ]
     },
     "metadata": {},
     "output_type": "display_data"
    },
    {
     "data": {
      "text/plain": [
       "'You need to get rid of any negativity that stems from a feeling of inadequacy.'"
      ]
     },
     "metadata": {},
     "output_type": "display_data"
    },
    {
     "name": "stdout",
     "output_type": "stream",
     "text": [
      "\n",
      "cluster: 27\n",
      "reliability score: 0.125\n"
     ]
    },
    {
     "data": {
      "text/html": [
       "<div>\n",
       "<style scoped>\n",
       "    .dataframe tbody tr th:only-of-type {\n",
       "        vertical-align: middle;\n",
       "    }\n",
       "\n",
       "    .dataframe tbody tr th {\n",
       "        vertical-align: top;\n",
       "    }\n",
       "\n",
       "    .dataframe thead th {\n",
       "        text-align: right;\n",
       "    }\n",
       "</style>\n",
       "<table border=\"1\" class=\"dataframe\">\n",
       "  <thead>\n",
       "    <tr style=\"text-align: right;\">\n",
       "      <th></th>\n",
       "      <th>index</th>\n",
       "      <th>sentence</th>\n",
       "    </tr>\n",
       "  </thead>\n",
       "  <tbody>\n",
       "    <tr>\n",
       "      <th>76</th>\n",
       "      <td>76</td>\n",
       "      <td>the physical attractiveness of your partner is...</td>\n",
       "    </tr>\n",
       "  </tbody>\n",
       "</table>\n",
       "</div>"
      ],
      "text/plain": [
       "    index                                           sentence\n",
       "76     76  the physical attractiveness of your partner is..."
      ]
     },
     "metadata": {},
     "output_type": "display_data"
    },
    {
     "data": {
      "text/plain": [
       "'the physical attractiveness of your partner is very important to you.'"
      ]
     },
     "metadata": {},
     "output_type": "display_data"
    },
    {
     "name": "stdout",
     "output_type": "stream",
     "text": [
      "\n",
      "cluster: 1\n",
      "reliability score: 0.125\n"
     ]
    },
    {
     "data": {
      "text/html": [
       "<div>\n",
       "<style scoped>\n",
       "    .dataframe tbody tr th:only-of-type {\n",
       "        vertical-align: middle;\n",
       "    }\n",
       "\n",
       "    .dataframe tbody tr th {\n",
       "        vertical-align: top;\n",
       "    }\n",
       "\n",
       "    .dataframe thead th {\n",
       "        text-align: right;\n",
       "    }\n",
       "</style>\n",
       "<table border=\"1\" class=\"dataframe\">\n",
       "  <thead>\n",
       "    <tr style=\"text-align: right;\">\n",
       "      <th></th>\n",
       "      <th>index</th>\n",
       "      <th>sentence</th>\n",
       "    </tr>\n",
       "  </thead>\n",
       "  <tbody>\n",
       "    <tr>\n",
       "      <th>26</th>\n",
       "      <td>26</td>\n",
       "      <td>Your greatest need is to nurture and mother so...</td>\n",
       "    </tr>\n",
       "    <tr>\n",
       "      <th>78</th>\n",
       "      <td>78</td>\n",
       "      <td>You enjoy indulging the ones you love.</td>\n",
       "    </tr>\n",
       "  </tbody>\n",
       "</table>\n",
       "</div>"
      ],
      "text/plain": [
       "    index                                           sentence\n",
       "26     26  Your greatest need is to nurture and mother so...\n",
       "78     78             You enjoy indulging the ones you love."
      ]
     },
     "metadata": {},
     "output_type": "display_data"
    },
    {
     "data": {
      "text/plain": [
       "'Your greatest need is to nurture and mother someone or ones.'"
      ]
     },
     "metadata": {},
     "output_type": "display_data"
    },
    {
     "name": "stdout",
     "output_type": "stream",
     "text": [
      "\n",
      "cluster: 38\n",
      "reliability score: 0.1111111111111111\n"
     ]
    },
    {
     "data": {
      "text/html": [
       "<div>\n",
       "<style scoped>\n",
       "    .dataframe tbody tr th:only-of-type {\n",
       "        vertical-align: middle;\n",
       "    }\n",
       "\n",
       "    .dataframe tbody tr th {\n",
       "        vertical-align: top;\n",
       "    }\n",
       "\n",
       "    .dataframe thead th {\n",
       "        text-align: right;\n",
       "    }\n",
       "</style>\n",
       "<table border=\"1\" class=\"dataframe\">\n",
       "  <thead>\n",
       "    <tr style=\"text-align: right;\">\n",
       "      <th></th>\n",
       "      <th>index</th>\n",
       "      <th>sentence</th>\n",
       "    </tr>\n",
       "  </thead>\n",
       "  <tbody>\n",
       "    <tr>\n",
       "      <th>67</th>\n",
       "      <td>67</td>\n",
       "      <td>Mentally restless, you may change jobs or loca...</td>\n",
       "    </tr>\n",
       "  </tbody>\n",
       "</table>\n",
       "</div>"
      ],
      "text/plain": [
       "    index                                           sentence\n",
       "67     67  Mentally restless, you may change jobs or loca..."
      ]
     },
     "metadata": {},
     "output_type": "display_data"
    },
    {
     "data": {
      "text/plain": [
       "'Mentally restless, you may change jobs or locations frequently, or do work that involves movement, travel, and variety.'"
      ]
     },
     "metadata": {},
     "output_type": "display_data"
    },
    {
     "name": "stdout",
     "output_type": "stream",
     "text": [
      "\n",
      "cluster: 29\n",
      "reliability score: 0.1\n"
     ]
    },
    {
     "data": {
      "text/html": [
       "<div>\n",
       "<style scoped>\n",
       "    .dataframe tbody tr th:only-of-type {\n",
       "        vertical-align: middle;\n",
       "    }\n",
       "\n",
       "    .dataframe tbody tr th {\n",
       "        vertical-align: top;\n",
       "    }\n",
       "\n",
       "    .dataframe thead th {\n",
       "        text-align: right;\n",
       "    }\n",
       "</style>\n",
       "<table border=\"1\" class=\"dataframe\">\n",
       "  <thead>\n",
       "    <tr style=\"text-align: right;\">\n",
       "      <th></th>\n",
       "      <th>index</th>\n",
       "      <th>sentence</th>\n",
       "    </tr>\n",
       "  </thead>\n",
       "  <tbody>\n",
       "    <tr>\n",
       "      <th>42</th>\n",
       "      <td>42</td>\n",
       "      <td>You will do whatever it takes to protect and d...</td>\n",
       "    </tr>\n",
       "  </tbody>\n",
       "</table>\n",
       "</div>"
      ],
      "text/plain": [
       "    index                                           sentence\n",
       "42     42  You will do whatever it takes to protect and d..."
      ]
     },
     "metadata": {},
     "output_type": "display_data"
    },
    {
     "data": {
      "text/plain": [
       "'You will do whatever it takes to protect and defend your family or loved ones.'"
      ]
     },
     "metadata": {},
     "output_type": "display_data"
    },
    {
     "name": "stdout",
     "output_type": "stream",
     "text": [
      "\n",
      "cluster: 11\n",
      "reliability score: 0.1\n"
     ]
    },
    {
     "data": {
      "text/html": [
       "<div>\n",
       "<style scoped>\n",
       "    .dataframe tbody tr th:only-of-type {\n",
       "        vertical-align: middle;\n",
       "    }\n",
       "\n",
       "    .dataframe tbody tr th {\n",
       "        vertical-align: top;\n",
       "    }\n",
       "\n",
       "    .dataframe thead th {\n",
       "        text-align: right;\n",
       "    }\n",
       "</style>\n",
       "<table border=\"1\" class=\"dataframe\">\n",
       "  <thead>\n",
       "    <tr style=\"text-align: right;\">\n",
       "      <th></th>\n",
       "      <th>index</th>\n",
       "      <th>sentence</th>\n",
       "    </tr>\n",
       "  </thead>\n",
       "  <tbody>\n",
       "    <tr>\n",
       "      <th>32</th>\n",
       "      <td>32</td>\n",
       "      <td>Security is very important to you.</td>\n",
       "    </tr>\n",
       "    <tr>\n",
       "      <th>81</th>\n",
       "      <td>81</td>\n",
       "      <td>Comfort is important to you.</td>\n",
       "    </tr>\n",
       "  </tbody>\n",
       "</table>\n",
       "</div>"
      ],
      "text/plain": [
       "    index                            sentence\n",
       "32     32  Security is very important to you.\n",
       "81     81        Comfort is important to you."
      ]
     },
     "metadata": {},
     "output_type": "display_data"
    },
    {
     "data": {
      "text/plain": [
       "'Security is very important to you.'"
      ]
     },
     "metadata": {},
     "output_type": "display_data"
    },
    {
     "name": "stdout",
     "output_type": "stream",
     "text": [
      "\n",
      "cluster: 32\n",
      "reliability score: 0.09090909090909091\n"
     ]
    },
    {
     "data": {
      "text/html": [
       "<div>\n",
       "<style scoped>\n",
       "    .dataframe tbody tr th:only-of-type {\n",
       "        vertical-align: middle;\n",
       "    }\n",
       "\n",
       "    .dataframe tbody tr th {\n",
       "        vertical-align: top;\n",
       "    }\n",
       "\n",
       "    .dataframe thead th {\n",
       "        text-align: right;\n",
       "    }\n",
       "</style>\n",
       "<table border=\"1\" class=\"dataframe\">\n",
       "  <thead>\n",
       "    <tr style=\"text-align: right;\">\n",
       "      <th></th>\n",
       "      <th>index</th>\n",
       "      <th>sentence</th>\n",
       "    </tr>\n",
       "  </thead>\n",
       "  <tbody>\n",
       "    <tr>\n",
       "      <th>27</th>\n",
       "      <td>27</td>\n",
       "      <td>You often appear irrational to others because ...</td>\n",
       "    </tr>\n",
       "  </tbody>\n",
       "</table>\n",
       "</div>"
      ],
      "text/plain": [
       "    index                                           sentence\n",
       "27     27  You often appear irrational to others because ..."
      ]
     },
     "metadata": {},
     "output_type": "display_data"
    },
    {
     "data": {
      "text/plain": [
       "\"You often appear irrational to others because you can't always explain the reason or source of your feelings.\""
      ]
     },
     "metadata": {},
     "output_type": "display_data"
    },
    {
     "name": "stdout",
     "output_type": "stream",
     "text": [
      "\n",
      "cluster: 58\n",
      "reliability score: 0.08333333333333333\n"
     ]
    },
    {
     "data": {
      "text/html": [
       "<div>\n",
       "<style scoped>\n",
       "    .dataframe tbody tr th:only-of-type {\n",
       "        vertical-align: middle;\n",
       "    }\n",
       "\n",
       "    .dataframe tbody tr th {\n",
       "        vertical-align: top;\n",
       "    }\n",
       "\n",
       "    .dataframe thead th {\n",
       "        text-align: right;\n",
       "    }\n",
       "</style>\n",
       "<table border=\"1\" class=\"dataframe\">\n",
       "  <thead>\n",
       "    <tr style=\"text-align: right;\">\n",
       "      <th></th>\n",
       "      <th>index</th>\n",
       "      <th>sentence</th>\n",
       "    </tr>\n",
       "  </thead>\n",
       "  <tbody>\n",
       "    <tr>\n",
       "      <th>30</th>\n",
       "      <td>30</td>\n",
       "      <td>You take slights very personally.</td>\n",
       "    </tr>\n",
       "  </tbody>\n",
       "</table>\n",
       "</div>"
      ],
      "text/plain": [
       "    index                           sentence\n",
       "30     30  You take slights very personally."
      ]
     },
     "metadata": {},
     "output_type": "display_data"
    },
    {
     "data": {
      "text/plain": [
       "'You take slights very personally.'"
      ]
     },
     "metadata": {},
     "output_type": "display_data"
    },
    {
     "name": "stdout",
     "output_type": "stream",
     "text": [
      "\n",
      "cluster: 20\n",
      "reliability score: 0.08333333333333333\n"
     ]
    },
    {
     "data": {
      "text/html": [
       "<div>\n",
       "<style scoped>\n",
       "    .dataframe tbody tr th:only-of-type {\n",
       "        vertical-align: middle;\n",
       "    }\n",
       "\n",
       "    .dataframe tbody tr th {\n",
       "        vertical-align: top;\n",
       "    }\n",
       "\n",
       "    .dataframe thead th {\n",
       "        text-align: right;\n",
       "    }\n",
       "</style>\n",
       "<table border=\"1\" class=\"dataframe\">\n",
       "  <thead>\n",
       "    <tr style=\"text-align: right;\">\n",
       "      <th></th>\n",
       "      <th>index</th>\n",
       "      <th>sentence</th>\n",
       "    </tr>\n",
       "  </thead>\n",
       "  <tbody>\n",
       "    <tr>\n",
       "      <th>39</th>\n",
       "      <td>39</td>\n",
       "      <td>you do not give up or let go of things or peop...</td>\n",
       "    </tr>\n",
       "    <tr>\n",
       "      <th>85</th>\n",
       "      <td>85</td>\n",
       "      <td>Guard against possessiveness, jealousy, and ta...</td>\n",
       "    </tr>\n",
       "  </tbody>\n",
       "</table>\n",
       "</div>"
      ],
      "text/plain": [
       "    index                                           sentence\n",
       "39     39  you do not give up or let go of things or peop...\n",
       "85     85  Guard against possessiveness, jealousy, and ta..."
      ]
     },
     "metadata": {},
     "output_type": "display_data"
    },
    {
     "data": {
      "text/plain": [
       "'you do not give up or let go of things or people easily.'"
      ]
     },
     "metadata": {},
     "output_type": "display_data"
    },
    {
     "name": "stdout",
     "output_type": "stream",
     "text": [
      "\n",
      "cluster: 4\n",
      "reliability score: 0.08333333333333333\n"
     ]
    },
    {
     "data": {
      "text/html": [
       "<div>\n",
       "<style scoped>\n",
       "    .dataframe tbody tr th:only-of-type {\n",
       "        vertical-align: middle;\n",
       "    }\n",
       "\n",
       "    .dataframe tbody tr th {\n",
       "        vertical-align: top;\n",
       "    }\n",
       "\n",
       "    .dataframe thead th {\n",
       "        text-align: right;\n",
       "    }\n",
       "</style>\n",
       "<table border=\"1\" class=\"dataframe\">\n",
       "  <thead>\n",
       "    <tr style=\"text-align: right;\">\n",
       "      <th></th>\n",
       "      <th>index</th>\n",
       "      <th>sentence</th>\n",
       "    </tr>\n",
       "  </thead>\n",
       "  <tbody>\n",
       "    <tr>\n",
       "      <th>8</th>\n",
       "      <td>8</td>\n",
       "      <td>Finding fault with what's wrong with things is...</td>\n",
       "    </tr>\n",
       "    <tr>\n",
       "      <th>60</th>\n",
       "      <td>60</td>\n",
       "      <td>Debate and argument appeal to you.</td>\n",
       "    </tr>\n",
       "  </tbody>\n",
       "</table>\n",
       "</div>"
      ],
      "text/plain": [
       "    index                                           sentence\n",
       "8       8  Finding fault with what's wrong with things is...\n",
       "60     60                 Debate and argument appeal to you."
      ]
     },
     "metadata": {},
     "output_type": "display_data"
    },
    {
     "data": {
      "text/plain": [
       "\"Finding fault with what's wrong with things is your forte.\""
      ]
     },
     "metadata": {},
     "output_type": "display_data"
    },
    {
     "name": "stdout",
     "output_type": "stream",
     "text": [
      "\n",
      "cluster: 12\n",
      "reliability score: 0.08\n"
     ]
    },
    {
     "data": {
      "text/html": [
       "<div>\n",
       "<style scoped>\n",
       "    .dataframe tbody tr th:only-of-type {\n",
       "        vertical-align: middle;\n",
       "    }\n",
       "\n",
       "    .dataframe tbody tr th {\n",
       "        vertical-align: top;\n",
       "    }\n",
       "\n",
       "    .dataframe thead th {\n",
       "        text-align: right;\n",
       "    }\n",
       "</style>\n",
       "<table border=\"1\" class=\"dataframe\">\n",
       "  <thead>\n",
       "    <tr style=\"text-align: right;\">\n",
       "      <th></th>\n",
       "      <th>index</th>\n",
       "      <th>sentence</th>\n",
       "    </tr>\n",
       "  </thead>\n",
       "  <tbody>\n",
       "    <tr>\n",
       "      <th>17</th>\n",
       "      <td>17</td>\n",
       "      <td>You are very restless.</td>\n",
       "    </tr>\n",
       "    <tr>\n",
       "      <th>38</th>\n",
       "      <td>38</td>\n",
       "      <td>You are very tenacious.</td>\n",
       "    </tr>\n",
       "  </tbody>\n",
       "</table>\n",
       "</div>"
      ],
      "text/plain": [
       "    index                 sentence\n",
       "17     17   You are very restless.\n",
       "38     38  You are very tenacious."
      ]
     },
     "metadata": {},
     "output_type": "display_data"
    },
    {
     "data": {
      "text/plain": [
       "'You are very restless.'"
      ]
     },
     "metadata": {},
     "output_type": "display_data"
    },
    {
     "name": "stdout",
     "output_type": "stream",
     "text": [
      "\n",
      "cluster: 24\n",
      "reliability score: 0.07407407407407407\n"
     ]
    },
    {
     "data": {
      "text/html": [
       "<div>\n",
       "<style scoped>\n",
       "    .dataframe tbody tr th:only-of-type {\n",
       "        vertical-align: middle;\n",
       "    }\n",
       "\n",
       "    .dataframe tbody tr th {\n",
       "        vertical-align: top;\n",
       "    }\n",
       "\n",
       "    .dataframe thead th {\n",
       "        text-align: right;\n",
       "    }\n",
       "</style>\n",
       "<table border=\"1\" class=\"dataframe\">\n",
       "  <thead>\n",
       "    <tr style=\"text-align: right;\">\n",
       "      <th></th>\n",
       "      <th>index</th>\n",
       "      <th>sentence</th>\n",
       "    </tr>\n",
       "  </thead>\n",
       "  <tbody>\n",
       "    <tr>\n",
       "      <th>54</th>\n",
       "      <td>54</td>\n",
       "      <td>You are quick to grasp new concepts.</td>\n",
       "    </tr>\n",
       "    <tr>\n",
       "      <th>68</th>\n",
       "      <td>68</td>\n",
       "      <td>You grasp concepts easily.</td>\n",
       "    </tr>\n",
       "  </tbody>\n",
       "</table>\n",
       "</div>"
      ],
      "text/plain": [
       "    index                              sentence\n",
       "54     54  You are quick to grasp new concepts.\n",
       "68     68            You grasp concepts easily."
      ]
     },
     "metadata": {},
     "output_type": "display_data"
    },
    {
     "data": {
      "text/plain": [
       "'You are quick to grasp new concepts.'"
      ]
     },
     "metadata": {},
     "output_type": "display_data"
    },
    {
     "name": "stdout",
     "output_type": "stream",
     "text": [
      "\n",
      "cluster: 33\n",
      "reliability score: 0.058823529411764705\n"
     ]
    },
    {
     "data": {
      "text/html": [
       "<div>\n",
       "<style scoped>\n",
       "    .dataframe tbody tr th:only-of-type {\n",
       "        vertical-align: middle;\n",
       "    }\n",
       "\n",
       "    .dataframe tbody tr th {\n",
       "        vertical-align: top;\n",
       "    }\n",
       "\n",
       "    .dataframe thead th {\n",
       "        text-align: right;\n",
       "    }\n",
       "</style>\n",
       "<table border=\"1\" class=\"dataframe\">\n",
       "  <thead>\n",
       "    <tr style=\"text-align: right;\">\n",
       "      <th></th>\n",
       "      <th>index</th>\n",
       "      <th>sentence</th>\n",
       "    </tr>\n",
       "  </thead>\n",
       "  <tbody>\n",
       "    <tr>\n",
       "      <th>6</th>\n",
       "      <td>6</td>\n",
       "      <td>You can be quite the person to live with or to...</td>\n",
       "    </tr>\n",
       "  </tbody>\n",
       "</table>\n",
       "</div>"
      ],
      "text/plain": [
       "   index                                           sentence\n",
       "6      6  You can be quite the person to live with or to..."
      ]
     },
     "metadata": {},
     "output_type": "display_data"
    },
    {
     "data": {
      "text/plain": [
       "'You can be quite the person to live with or to be around because your standards for yourself and others are so high.'"
      ]
     },
     "metadata": {},
     "output_type": "display_data"
    },
    {
     "name": "stdout",
     "output_type": "stream",
     "text": [
      "\n",
      "cluster: 25\n",
      "reliability score: 0.05555555555555555\n"
     ]
    },
    {
     "data": {
      "text/html": [
       "<div>\n",
       "<style scoped>\n",
       "    .dataframe tbody tr th:only-of-type {\n",
       "        vertical-align: middle;\n",
       "    }\n",
       "\n",
       "    .dataframe tbody tr th {\n",
       "        vertical-align: top;\n",
       "    }\n",
       "\n",
       "    .dataframe thead th {\n",
       "        text-align: right;\n",
       "    }\n",
       "</style>\n",
       "<table border=\"1\" class=\"dataframe\">\n",
       "  <thead>\n",
       "    <tr style=\"text-align: right;\">\n",
       "      <th></th>\n",
       "      <th>index</th>\n",
       "      <th>sentence</th>\n",
       "    </tr>\n",
       "  </thead>\n",
       "  <tbody>\n",
       "    <tr>\n",
       "      <th>41</th>\n",
       "      <td>41</td>\n",
       "      <td>You are basically an introvert.</td>\n",
       "    </tr>\n",
       "  </tbody>\n",
       "</table>\n",
       "</div>"
      ],
      "text/plain": [
       "    index                         sentence\n",
       "41     41  You are basically an introvert."
      ]
     },
     "metadata": {},
     "output_type": "display_data"
    },
    {
     "data": {
      "text/plain": [
       "'You are basically an introvert.'"
      ]
     },
     "metadata": {},
     "output_type": "display_data"
    },
    {
     "name": "stdout",
     "output_type": "stream",
     "text": [
      "\n",
      "cluster: 15\n",
      "reliability score: 0.05555555555555555\n"
     ]
    },
    {
     "data": {
      "text/html": [
       "<div>\n",
       "<style scoped>\n",
       "    .dataframe tbody tr th:only-of-type {\n",
       "        vertical-align: middle;\n",
       "    }\n",
       "\n",
       "    .dataframe tbody tr th {\n",
       "        vertical-align: top;\n",
       "    }\n",
       "\n",
       "    .dataframe thead th {\n",
       "        text-align: right;\n",
       "    }\n",
       "</style>\n",
       "<table border=\"1\" class=\"dataframe\">\n",
       "  <thead>\n",
       "    <tr style=\"text-align: right;\">\n",
       "      <th></th>\n",
       "      <th>index</th>\n",
       "      <th>sentence</th>\n",
       "    </tr>\n",
       "  </thead>\n",
       "  <tbody>\n",
       "    <tr>\n",
       "      <th>65</th>\n",
       "      <td>65</td>\n",
       "      <td>Find your focus, stay with it and develop pers...</td>\n",
       "    </tr>\n",
       "  </tbody>\n",
       "</table>\n",
       "</div>"
      ],
      "text/plain": [
       "    index                                           sentence\n",
       "65     65  Find your focus, stay with it and develop pers..."
      ]
     },
     "metadata": {},
     "output_type": "display_data"
    },
    {
     "data": {
      "text/plain": [
       "'Find your focus, stay with it and develop perseverance.'"
      ]
     },
     "metadata": {},
     "output_type": "display_data"
    },
    {
     "name": "stdout",
     "output_type": "stream",
     "text": [
      "\n",
      "cluster: 45\n",
      "reliability score: 0.05\n"
     ]
    },
    {
     "data": {
      "text/html": [
       "<div>\n",
       "<style scoped>\n",
       "    .dataframe tbody tr th:only-of-type {\n",
       "        vertical-align: middle;\n",
       "    }\n",
       "\n",
       "    .dataframe tbody tr th {\n",
       "        vertical-align: top;\n",
       "    }\n",
       "\n",
       "    .dataframe thead th {\n",
       "        text-align: right;\n",
       "    }\n",
       "</style>\n",
       "<table border=\"1\" class=\"dataframe\">\n",
       "  <thead>\n",
       "    <tr style=\"text-align: right;\">\n",
       "      <th></th>\n",
       "      <th>index</th>\n",
       "      <th>sentence</th>\n",
       "    </tr>\n",
       "  </thead>\n",
       "  <tbody>\n",
       "    <tr>\n",
       "      <th>18</th>\n",
       "      <td>18</td>\n",
       "      <td>You are very nervous.</td>\n",
       "    </tr>\n",
       "  </tbody>\n",
       "</table>\n",
       "</div>"
      ],
      "text/plain": [
       "    index               sentence\n",
       "18     18  You are very nervous."
      ]
     },
     "metadata": {},
     "output_type": "display_data"
    },
    {
     "data": {
      "text/plain": [
       "'You are very nervous.'"
      ]
     },
     "metadata": {},
     "output_type": "display_data"
    },
    {
     "name": "stdout",
     "output_type": "stream",
     "text": [
      "\n",
      "cluster: 30\n",
      "reliability score: 0.05\n"
     ]
    },
    {
     "data": {
      "text/html": [
       "<div>\n",
       "<style scoped>\n",
       "    .dataframe tbody tr th:only-of-type {\n",
       "        vertical-align: middle;\n",
       "    }\n",
       "\n",
       "    .dataframe tbody tr th {\n",
       "        vertical-align: top;\n",
       "    }\n",
       "\n",
       "    .dataframe thead th {\n",
       "        text-align: right;\n",
       "    }\n",
       "</style>\n",
       "<table border=\"1\" class=\"dataframe\">\n",
       "  <thead>\n",
       "    <tr style=\"text-align: right;\">\n",
       "      <th></th>\n",
       "      <th>index</th>\n",
       "      <th>sentence</th>\n",
       "    </tr>\n",
       "  </thead>\n",
       "  <tbody>\n",
       "    <tr>\n",
       "      <th>72</th>\n",
       "      <td>72</td>\n",
       "      <td>You are oriented towards the sensual side of l...</td>\n",
       "    </tr>\n",
       "  </tbody>\n",
       "</table>\n",
       "</div>"
      ],
      "text/plain": [
       "    index                                           sentence\n",
       "72     72  You are oriented towards the sensual side of l..."
      ]
     },
     "metadata": {},
     "output_type": "display_data"
    },
    {
     "data": {
      "text/plain": [
       "'You are oriented towards the sensual side of life in everything you do.'"
      ]
     },
     "metadata": {},
     "output_type": "display_data"
    },
    {
     "name": "stdout",
     "output_type": "stream",
     "text": [
      "\n",
      "cluster: 59\n",
      "reliability score: 0.047619047619047616\n"
     ]
    },
    {
     "data": {
      "text/html": [
       "<div>\n",
       "<style scoped>\n",
       "    .dataframe tbody tr th:only-of-type {\n",
       "        vertical-align: middle;\n",
       "    }\n",
       "\n",
       "    .dataframe tbody tr th {\n",
       "        vertical-align: top;\n",
       "    }\n",
       "\n",
       "    .dataframe thead th {\n",
       "        text-align: right;\n",
       "    }\n",
       "</style>\n",
       "<table border=\"1\" class=\"dataframe\">\n",
       "  <thead>\n",
       "    <tr style=\"text-align: right;\">\n",
       "      <th></th>\n",
       "      <th>index</th>\n",
       "      <th>sentence</th>\n",
       "    </tr>\n",
       "  </thead>\n",
       "  <tbody>\n",
       "    <tr>\n",
       "      <th>10</th>\n",
       "      <td>10</td>\n",
       "      <td>Pessimism and being too self-critical are two ...</td>\n",
       "    </tr>\n",
       "  </tbody>\n",
       "</table>\n",
       "</div>"
      ],
      "text/plain": [
       "    index                                           sentence\n",
       "10     10  Pessimism and being too self-critical are two ..."
      ]
     },
     "metadata": {},
     "output_type": "display_data"
    },
    {
     "data": {
      "text/plain": [
       "'Pessimism and being too self-critical are two faults you should try to improve upon.'"
      ]
     },
     "metadata": {},
     "output_type": "display_data"
    },
    {
     "name": "stdout",
     "output_type": "stream",
     "text": [
      "\n",
      "cluster: 48\n",
      "reliability score: 0.038461538461538464\n"
     ]
    },
    {
     "data": {
      "text/html": [
       "<div>\n",
       "<style scoped>\n",
       "    .dataframe tbody tr th:only-of-type {\n",
       "        vertical-align: middle;\n",
       "    }\n",
       "\n",
       "    .dataframe tbody tr th {\n",
       "        vertical-align: top;\n",
       "    }\n",
       "\n",
       "    .dataframe thead th {\n",
       "        text-align: right;\n",
       "    }\n",
       "</style>\n",
       "<table border=\"1\" class=\"dataframe\">\n",
       "  <thead>\n",
       "    <tr style=\"text-align: right;\">\n",
       "      <th></th>\n",
       "      <th>index</th>\n",
       "      <th>sentence</th>\n",
       "    </tr>\n",
       "  </thead>\n",
       "  <tbody>\n",
       "    <tr>\n",
       "      <th>44</th>\n",
       "      <td>44</td>\n",
       "      <td>you find security in all those memories.</td>\n",
       "    </tr>\n",
       "  </tbody>\n",
       "</table>\n",
       "</div>"
      ],
      "text/plain": [
       "    index                                  sentence\n",
       "44     44  you find security in all those memories."
      ]
     },
     "metadata": {},
     "output_type": "display_data"
    },
    {
     "data": {
      "text/plain": [
       "'you find security in all those memories.'"
      ]
     },
     "metadata": {},
     "output_type": "display_data"
    },
    {
     "name": "stdout",
     "output_type": "stream",
     "text": [
      "\n",
      "cluster: 39\n",
      "reliability score: 0.037037037037037035\n"
     ]
    },
    {
     "data": {
      "text/html": [
       "<div>\n",
       "<style scoped>\n",
       "    .dataframe tbody tr th:only-of-type {\n",
       "        vertical-align: middle;\n",
       "    }\n",
       "\n",
       "    .dataframe tbody tr th {\n",
       "        vertical-align: top;\n",
       "    }\n",
       "\n",
       "    .dataframe thead th {\n",
       "        text-align: right;\n",
       "    }\n",
       "</style>\n",
       "<table border=\"1\" class=\"dataframe\">\n",
       "  <thead>\n",
       "    <tr style=\"text-align: right;\">\n",
       "      <th></th>\n",
       "      <th>index</th>\n",
       "      <th>sentence</th>\n",
       "    </tr>\n",
       "  </thead>\n",
       "  <tbody>\n",
       "    <tr>\n",
       "      <th>52</th>\n",
       "      <td>52</td>\n",
       "      <td>You are clever, witty, and always have a joke ...</td>\n",
       "    </tr>\n",
       "  </tbody>\n",
       "</table>\n",
       "</div>"
      ],
      "text/plain": [
       "    index                                           sentence\n",
       "52     52  You are clever, witty, and always have a joke ..."
      ]
     },
     "metadata": {},
     "output_type": "display_data"
    },
    {
     "data": {
      "text/plain": [
       "'You are clever, witty, and always have a joke or comeback ready for any situation.'"
      ]
     },
     "metadata": {},
     "output_type": "display_data"
    },
    {
     "name": "stdout",
     "output_type": "stream",
     "text": [
      "\n",
      "cluster: 23\n",
      "reliability score: 0.037037037037037035\n"
     ]
    },
    {
     "data": {
      "text/html": [
       "<div>\n",
       "<style scoped>\n",
       "    .dataframe tbody tr th:only-of-type {\n",
       "        vertical-align: middle;\n",
       "    }\n",
       "\n",
       "    .dataframe tbody tr th {\n",
       "        vertical-align: top;\n",
       "    }\n",
       "\n",
       "    .dataframe thead th {\n",
       "        text-align: right;\n",
       "    }\n",
       "</style>\n",
       "<table border=\"1\" class=\"dataframe\">\n",
       "  <thead>\n",
       "    <tr style=\"text-align: right;\">\n",
       "      <th></th>\n",
       "      <th>index</th>\n",
       "      <th>sentence</th>\n",
       "    </tr>\n",
       "  </thead>\n",
       "  <tbody>\n",
       "    <tr>\n",
       "      <th>83</th>\n",
       "      <td>83</td>\n",
       "      <td>At times you can be lazy, hoping or expecting ...</td>\n",
       "    </tr>\n",
       "  </tbody>\n",
       "</table>\n",
       "</div>"
      ],
      "text/plain": [
       "    index                                           sentence\n",
       "83     83  At times you can be lazy, hoping or expecting ..."
      ]
     },
     "metadata": {},
     "output_type": "display_data"
    },
    {
     "data": {
      "text/plain": [
       "'At times you can be lazy, hoping or expecting someone else to do the dirty work.'"
      ]
     },
     "metadata": {},
     "output_type": "display_data"
    },
    {
     "name": "stdout",
     "output_type": "stream",
     "text": [
      "\n",
      "cluster: 44\n",
      "reliability score: 0.03571428571428571\n"
     ]
    },
    {
     "data": {
      "text/html": [
       "<div>\n",
       "<style scoped>\n",
       "    .dataframe tbody tr th:only-of-type {\n",
       "        vertical-align: middle;\n",
       "    }\n",
       "\n",
       "    .dataframe tbody tr th {\n",
       "        vertical-align: top;\n",
       "    }\n",
       "\n",
       "    .dataframe thead th {\n",
       "        text-align: right;\n",
       "    }\n",
       "</style>\n",
       "<table border=\"1\" class=\"dataframe\">\n",
       "  <thead>\n",
       "    <tr style=\"text-align: right;\">\n",
       "      <th></th>\n",
       "      <th>index</th>\n",
       "      <th>sentence</th>\n",
       "    </tr>\n",
       "  </thead>\n",
       "  <tbody>\n",
       "    <tr>\n",
       "      <th>57</th>\n",
       "      <td>57</td>\n",
       "      <td>concentration and disciplined study are not yo...</td>\n",
       "    </tr>\n",
       "  </tbody>\n",
       "</table>\n",
       "</div>"
      ],
      "text/plain": [
       "    index                                           sentence\n",
       "57     57  concentration and disciplined study are not yo..."
      ]
     },
     "metadata": {},
     "output_type": "display_data"
    },
    {
     "data": {
      "text/plain": [
       "'concentration and disciplined study are not your strong points.'"
      ]
     },
     "metadata": {},
     "output_type": "display_data"
    },
    {
     "name": "stdout",
     "output_type": "stream",
     "text": [
      "\n",
      "cluster: 61\n",
      "reliability score: 0.03225806451612903\n"
     ]
    },
    {
     "data": {
      "text/html": [
       "<div>\n",
       "<style scoped>\n",
       "    .dataframe tbody tr th:only-of-type {\n",
       "        vertical-align: middle;\n",
       "    }\n",
       "\n",
       "    .dataframe tbody tr th {\n",
       "        vertical-align: top;\n",
       "    }\n",
       "\n",
       "    .dataframe thead th {\n",
       "        text-align: right;\n",
       "    }\n",
       "</style>\n",
       "<table border=\"1\" class=\"dataframe\">\n",
       "  <thead>\n",
       "    <tr style=\"text-align: right;\">\n",
       "      <th></th>\n",
       "      <th>index</th>\n",
       "      <th>sentence</th>\n",
       "    </tr>\n",
       "  </thead>\n",
       "  <tbody>\n",
       "    <tr>\n",
       "      <th>23</th>\n",
       "      <td>23</td>\n",
       "      <td>You soak up feelings like a sponge.</td>\n",
       "    </tr>\n",
       "  </tbody>\n",
       "</table>\n",
       "</div>"
      ],
      "text/plain": [
       "    index                             sentence\n",
       "23     23  You soak up feelings like a sponge."
      ]
     },
     "metadata": {},
     "output_type": "display_data"
    },
    {
     "data": {
      "text/plain": [
       "'You soak up feelings like a sponge.'"
      ]
     },
     "metadata": {},
     "output_type": "display_data"
    },
    {
     "name": "stdout",
     "output_type": "stream",
     "text": [
      "\n",
      "cluster: 54\n",
      "reliability score: 0.030303030303030304\n"
     ]
    },
    {
     "data": {
      "text/html": [
       "<div>\n",
       "<style scoped>\n",
       "    .dataframe tbody tr th:only-of-type {\n",
       "        vertical-align: middle;\n",
       "    }\n",
       "\n",
       "    .dataframe tbody tr th {\n",
       "        vertical-align: top;\n",
       "    }\n",
       "\n",
       "    .dataframe thead th {\n",
       "        text-align: right;\n",
       "    }\n",
       "</style>\n",
       "<table border=\"1\" class=\"dataframe\">\n",
       "  <thead>\n",
       "    <tr style=\"text-align: right;\">\n",
       "      <th></th>\n",
       "      <th>index</th>\n",
       "      <th>sentence</th>\n",
       "    </tr>\n",
       "  </thead>\n",
       "  <tbody>\n",
       "    <tr>\n",
       "      <th>24</th>\n",
       "      <td>24</td>\n",
       "      <td>Perhaps this is why you so easily become moody...</td>\n",
       "    </tr>\n",
       "  </tbody>\n",
       "</table>\n",
       "</div>"
      ],
      "text/plain": [
       "    index                                           sentence\n",
       "24     24  Perhaps this is why you so easily become moody..."
      ]
     },
     "metadata": {},
     "output_type": "display_data"
    },
    {
     "data": {
      "text/plain": [
       "'Perhaps this is why you so easily become moody, irritable and inconstant in thought and feeling.'"
      ]
     },
     "metadata": {},
     "output_type": "display_data"
    },
    {
     "name": "stdout",
     "output_type": "stream",
     "text": [
      "\n",
      "cluster: 36\n",
      "reliability score: 0.027777777777777776\n"
     ]
    },
    {
     "data": {
      "text/html": [
       "<div>\n",
       "<style scoped>\n",
       "    .dataframe tbody tr th:only-of-type {\n",
       "        vertical-align: middle;\n",
       "    }\n",
       "\n",
       "    .dataframe tbody tr th {\n",
       "        vertical-align: top;\n",
       "    }\n",
       "\n",
       "    .dataframe thead th {\n",
       "        text-align: right;\n",
       "    }\n",
       "</style>\n",
       "<table border=\"1\" class=\"dataframe\">\n",
       "  <thead>\n",
       "    <tr style=\"text-align: right;\">\n",
       "      <th></th>\n",
       "      <th>index</th>\n",
       "      <th>sentence</th>\n",
       "    </tr>\n",
       "  </thead>\n",
       "  <tbody>\n",
       "    <tr>\n",
       "      <th>82</th>\n",
       "      <td>82</td>\n",
       "      <td>you hate getting your hands dirty.</td>\n",
       "    </tr>\n",
       "  </tbody>\n",
       "</table>\n",
       "</div>"
      ],
      "text/plain": [
       "    index                            sentence\n",
       "82     82  you hate getting your hands dirty."
      ]
     },
     "metadata": {},
     "output_type": "display_data"
    },
    {
     "data": {
      "text/plain": [
       "'you hate getting your hands dirty.'"
      ]
     },
     "metadata": {},
     "output_type": "display_data"
    },
    {
     "name": "stdout",
     "output_type": "stream",
     "text": [
      "\n",
      "cluster: 13\n",
      "reliability score: 0.023255813953488372\n"
     ]
    },
    {
     "data": {
      "text/html": [
       "<div>\n",
       "<style scoped>\n",
       "    .dataframe tbody tr th:only-of-type {\n",
       "        vertical-align: middle;\n",
       "    }\n",
       "\n",
       "    .dataframe tbody tr th {\n",
       "        vertical-align: top;\n",
       "    }\n",
       "\n",
       "    .dataframe thead th {\n",
       "        text-align: right;\n",
       "    }\n",
       "</style>\n",
       "<table border=\"1\" class=\"dataframe\">\n",
       "  <thead>\n",
       "    <tr style=\"text-align: right;\">\n",
       "      <th></th>\n",
       "      <th>index</th>\n",
       "      <th>sentence</th>\n",
       "    </tr>\n",
       "  </thead>\n",
       "  <tbody>\n",
       "    <tr>\n",
       "      <th>77</th>\n",
       "      <td>77</td>\n",
       "      <td>You enjoy indulging yourself.</td>\n",
       "    </tr>\n",
       "  </tbody>\n",
       "</table>\n",
       "</div>"
      ],
      "text/plain": [
       "    index                       sentence\n",
       "77     77  You enjoy indulging yourself."
      ]
     },
     "metadata": {},
     "output_type": "display_data"
    },
    {
     "data": {
      "text/plain": [
       "'You enjoy indulging yourself.'"
      ]
     },
     "metadata": {},
     "output_type": "display_data"
    },
    {
     "name": "stdout",
     "output_type": "stream",
     "text": [
      "\n",
      "cluster: 31\n",
      "reliability score: 0.013157894736842105\n"
     ]
    },
    {
     "data": {
      "text/html": [
       "<div>\n",
       "<style scoped>\n",
       "    .dataframe tbody tr th:only-of-type {\n",
       "        vertical-align: middle;\n",
       "    }\n",
       "\n",
       "    .dataframe tbody tr th {\n",
       "        vertical-align: top;\n",
       "    }\n",
       "\n",
       "    .dataframe thead th {\n",
       "        text-align: right;\n",
       "    }\n",
       "</style>\n",
       "<table border=\"1\" class=\"dataframe\">\n",
       "  <thead>\n",
       "    <tr style=\"text-align: right;\">\n",
       "      <th></th>\n",
       "      <th>index</th>\n",
       "      <th>sentence</th>\n",
       "    </tr>\n",
       "  </thead>\n",
       "  <tbody>\n",
       "    <tr>\n",
       "      <th>45</th>\n",
       "      <td>45</td>\n",
       "      <td>Nothing or no one is ever gone if they leave t...</td>\n",
       "    </tr>\n",
       "  </tbody>\n",
       "</table>\n",
       "</div>"
      ],
      "text/plain": [
       "    index                                           sentence\n",
       "45     45  Nothing or no one is ever gone if they leave t..."
      ]
     },
     "metadata": {},
     "output_type": "display_data"
    },
    {
     "data": {
      "text/plain": [
       "'Nothing or no one is ever gone if they leave their memory behind.'"
      ]
     },
     "metadata": {},
     "output_type": "display_data"
    },
    {
     "name": "stdout",
     "output_type": "stream",
     "text": [
      "\n"
     ]
    }
   ],
   "source": [
    "# print out clusters and most salient sentences for each cluster, in descending order of \"reliability\". \n",
    "for score, idx in sorted(scores, reverse=True):\n",
    "    print(f\"cluster: {idx}\")\n",
    "    print(f\"reliability score: {score}\")\n",
    "    display(sents_df.iloc[clusters_dict[str(idx)]])\n",
    "    intraclust, sorted_clust = intra_clust_dis_mat(clusters_dict[str(idx)], dist_mat)\n",
    "    display(sents_df.iloc[choose_salient(intraclust, sorted_clust)]['sentence'])\n",
    "    print()"
   ]
  },
  {
   "cell_type": "code",
   "execution_count": 275,
   "metadata": {},
   "outputs": [],
   "source": [
    "def summarize(clusters, intercluster, sent_df, intersentence, coherence_threshold=0.6, redundancy_threshold=0.1):\n",
    "    \"\"\"\n",
    "    :param clusters: dict of clusters of the form {str(cluster_num): list(sentence_indices)}.\n",
    "    :param intercluster: numpy.ndarray of inter-cluster distances in pairwise matrix form.\n",
    "    :param sent_df: Pandas DataFrame of indexed sentences.\n",
    "    :param intersentence: numpy.ndarray of inter-sentence distances in pairwise matrix form.\n",
    "    :param coherence_threshold: maximum distance allowed for a sentence pair within the summary. valid values between 0-1.\n",
    "    :param redundancy_threshold: lowest distance allowed for a sentence pair within the summary. valid values between 0-1.\n",
    "    \n",
    "    We need a redundancy_threshold because the clustering algorithm does not always manage to group \n",
    "    redundant sentences together?\n",
    "    \"\"\"\n",
    "    if coherence_threshold <= redundancy_threshold:\n",
    "        raise Exception(\"coherence_threshold <= redundancy_threshold.\")\n",
    "    \n",
    "    scores = rank_by_reliability(clusters, intercluster, contra_threshold=0.6) # each element is (score, cluster_index)\n",
    "    ranked_clusters = sorted(scores, reverse=True)\n",
    "    \n",
    "    compress_rate = 0.1\n",
    "    num_sent = int(compress_rate * len(ranked_clusters))\n",
    "        \n",
    "    def create_coherent_summary(ordered_clusters):\n",
    "        # this summary does not contain contradictions within itself.\n",
    "        summary = list()\n",
    "        for score, cluster_idx in ordered_clusters:\n",
    "            intraclust, sorted_cluster = intra_clust_dis_mat(clusters[str(cluster_idx)], intersentence)\n",
    "            salient_idx = choose_salient(intraclust, sorted_cluster)\n",
    "            salient_sent = sents_df.iloc[salient_idx]['sentence']\n",
    "            max_dist = 0\n",
    "            min_dist = 1\n",
    "            for sent_idx in summary:\n",
    "                dist = intersentence[sent_idx][salient_idx]\n",
    "                if dist > max_dist:\n",
    "                    max_dist = dist\n",
    "                if dist < min_dist:\n",
    "                    min_dist = dist\n",
    "            if max_dist < coherence_threshold and min_dist > redundancy_threshold:\n",
    "                summary.append(salient_idx)\n",
    "        return summary\n",
    "    \n",
    "    def create_free_summary(ordered_clusters):\n",
    "        # this summary is just formed from the most salient sentence of ea cluster. no regards to whether\n",
    "        # appending the next sentence would cause the summary to be self-contradicted.\n",
    "        summary = list()\n",
    "        for score, cluster_idx in ordered_clusters:\n",
    "            intraclust, sorted_cluster = intra_clust_dis_mat(clusters[str(cluster_idx)], intersentence)\n",
    "            salient_idx = choose_salient(intraclust, sorted_cluster)\n",
    "            summary.append(salient_idx)\n",
    "        return summary\n",
    "    \n",
    "    top_summa = create_coherent_summary(ranked_clusters[:num_sent])\n",
    "    btm_summa = create_free_summary(ranked_clusters[-1*num_sent:])\n",
    "    btm_summa.reverse()  # reverse so that most unreliable (least agreed statement) is at the top.\n",
    "    \n",
    "    return top_summa, btm_summa"
   ]
  },
  {
   "cell_type": "code",
   "execution_count": 276,
   "metadata": {},
   "outputs": [
    {
     "name": "stdout",
     "output_type": "stream",
     "text": [
      "6\n",
      "6\n"
     ]
    }
   ],
   "source": [
    "summaries = summarize(clusters_dict, intercluster_dists, sents_df, dist_mat)\n",
    "for summa in summaries:\n",
    "    print(len(summa))"
   ]
  },
  {
   "cell_type": "code",
   "execution_count": 277,
   "metadata": {},
   "outputs": [
    {
     "name": "stdout",
     "output_type": "stream",
     "text": [
      "Thus, you can become quite possessive.\n",
      "You tend to look younger than you really are, no matter what your age.\n",
      "Your mother is/was a strong influence for good or ill in your life.\n",
      "Your senses and emotions are quite strong.\n",
      "There is danger, then, of superficiality.\n",
      "You may become impatient with those who do n't learn as quickly.\n",
      "\n",
      "Nothing or no one is ever gone if they leave their memory behind.\n",
      "You enjoy indulging yourself.\n",
      "you hate getting your hands dirty.\n",
      "Perhaps this is why you so easily become moody, irritable and inconstant in thought and feeling.\n",
      "You soak up feelings like a sponge.\n",
      "concentration and disciplined study are not your strong points.\n",
      "\n"
     ]
    }
   ],
   "source": [
    "for summa in summaries:\n",
    "    for idx in summa:\n",
    "        print(sents_df.iloc[idx]['sentence'])\n",
    "    print()"
   ]
  },
  {
   "cell_type": "code",
   "execution_count": 263,
   "metadata": {},
   "outputs": [],
   "source": [
    "# def prune_and_print(summary, sent_limit):\n",
    "#     i = 0\n",
    "#     while i < sent_limit and i < len(summary):\n",
    "#         sent_idx = summary[len(summary)-1-i]\n",
    "#         print(sents_df.iloc[sent_idx]['sentence'])\n",
    "#         i = i + 1"
   ]
  },
  {
   "cell_type": "code",
   "execution_count": 240,
   "metadata": {},
   "outputs": [
    {
     "data": {
      "text/plain": [
       "[<matplotlib.lines.Line2D at 0x1b329d5af60>]"
      ]
     },
     "execution_count": 240,
     "metadata": {},
     "output_type": "execute_result"
    },
    {
     "data": {
      "image/png": "[encoded data removed]",
      "text/plain": [
       "<Figure size 1440x720 with 1 Axes>"
      ]
     },
     "metadata": {},
     "output_type": "display_data"
    }
   ],
   "source": [
    "scores = rank_by_reliability(clusters_dict, intercluster_dists, contra_threshold=0.6)\n",
    "sorted_clusters = sorted(scores, reverse=True)  # each element is (score, cluster_index)\n",
    "scores_only = [score for score, _ in sorted_clusters]\n",
    "import matplotlib.pyplot as plt\n",
    "plt.plot(scores_only)"
   ]
  },
  {
   "cell_type": "markdown",
   "metadata": {},
   "source": [
    "## Previous Single Summary Algo."
   ]
  },
  {
   "cell_type": "code",
   "execution_count": null,
   "metadata": {},
   "outputs": [],
   "source": [
    "from nltk.tokenize import RegexpTokenizer\n",
    "\n",
    "def choose_longest(sentences):\n",
    "    tokenizer = RegexpTokenizer(r'\\w+')\n",
    "    max_len = 0\n",
    "    final_sent = None\n",
    "    for sent in sentences:\n",
    "        tokens = tokenizer.tokenize(sent)\n",
    "        if len(tokens) > max_len:\n",
    "            max_len = len(sent)\n",
    "            final_sent = sent\n",
    "    return final_sent\n",
    "\n",
    "from lexrank import LexRank\n",
    "from lexrank.mappings.stopwords import STOPWORDS\n",
    "def choose_salient(sentences):\n",
    "    \"\"\"\n",
    "    \n",
    "    \"\"\"\n",
    "    lxr = LexRank(sentences, stopwords=STOPWORDS['en'])\n",
    "    top_sentence = lxr.get_summary(sentences[0], summary_size=1, threshold=.1)\n",
    "    return top_sentence[0]\n",
    "    \n",
    "\n",
    "def summarize(clusters, intersentence, sent_df, word_limit=90, coherence_threshold=0.6, redundancy_threshold=0.3):\n",
    "    \"\"\"\n",
    "    :param clusters: dict of clusters of the form {str(cluster_num): list(sentence_indices)}.\n",
    "    :param intersentence: Pandas DataFrame of precomputed inter-sentence distance in pairwise matrix form.\n",
    "    :param sent_df: Pandas DataFrame of indexed sentences.\n",
    "    :param word_limit: maximum num of words for summary.\n",
    "    :param coherence_threshold: maximum distance allowed for a sentence pair within the summary. valid values between 0-1.\n",
    "    :param redundancy_threshold: minimum distance allowed for a sentence pair within the summary. valid values between 0-1.\n",
    "    \n",
    "    We need a redundancy_threshold because the clustering algorithm does not always manage to group \n",
    "    redundant sentences together?\n",
    "    \"\"\"\n",
    "    if coherence_threshold <= redundancy_threshold:\n",
    "        raise Exception\n",
    "    \n",
    "    tokenizer = RegexpTokenizer(r'\\w+') # tokenize into word-like tokens.\n",
    "    summary = list()\n",
    "    word_count = 0\n",
    "    \n",
    "    sorted_clusters = sorted(clusters.items(), key=lambda x: len(x[1]), reverse=True)  # iterable of pairs.\n",
    "    \n",
    "    for key, clust in sorted_clusters:\n",
    "        sentences = [sent_df.iloc[idx]['sentence'] for idx in clust]\n",
    "        #selected = choose_longest(clust)\n",
    "        selected = choose_salient([sentences])\n",
    "        selected_idx = sent_df[sent_df.sentence == selected].index[0]\n",
    "        tokens = tokenizer.tokenize(selected)\n",
    "        if word_count + len(tokens) < word_limit:\n",
    "            max_dist = 0\n",
    "            min_dist = 1\n",
    "            for sent_idx in summary:\n",
    "                dist = intersentence.iloc[sent_idx][selected_idx]\n",
    "                if dist > max_dist:\n",
    "                    max_dist = dist\n",
    "                if dist < min_dist:\n",
    "                    min_dist = dist\n",
    "            if max_dist < coherence_threshold and min_dist > redundancy_threshold:\n",
    "                summary.append(selected_idx)\n",
    "                word_count = word_count + len(tokens)\n",
    "        else:\n",
    "            break\n",
    "    return summary"
   ]
  },
  {
   "cell_type": "code",
   "execution_count": null,
   "metadata": {},
   "outputs": [],
   "source": [
    "# test lexrank algorithm.\n",
    "sentences = [sents_df.iloc[idx]['sentence'] for idx in clusters_dict['0']]\n",
    "display(sentences)\n",
    "choose_salient([sentences])"
   ]
  },
  {
   "cell_type": "code",
   "execution_count": null,
   "metadata": {},
   "outputs": [],
   "source": [
    "# todo: think of statistical way to determine the coherence_threshold and redundancy_threshold.\n",
    "summary = summarize(clusters_dict, intersentence, sents_df, word_limit=90, coherence_threshold=0.6, redundancy_threshold=0.35)\n",
    "print(\"no. of sentences in summary: \", len(summary))\n",
    "print(\"no. of sentences in source: \", len(intersentence.index.values))\n",
    "print()\n",
    "for sent_idx in summary:\n",
    "    print(f\"{sent_idx}: {sents_df.iloc[sent_idx]['sentence']}\")\n",
    "print()\n",
    "for sent_idx in sorted(summary):\n",
    "    print(f\"{sent_idx}: {sents_df.iloc[sent_idx]['sentence']}\")"
   ]
  },
  {
   "cell_type": "markdown",
   "metadata": {},
   "source": [
    "## Multiple Summaries (deprecated)"
   ]
  },
  {
   "cell_type": "code",
   "execution_count": null,
   "metadata": {},
   "outputs": [],
   "source": [
    "def multi_summary(clusters, intercluster_dists, sent_df, word_limit=100, contradiction_threshold=0.6):\n",
    "    \"\"\"\n",
    "    :param clusters: dict of clusters of the form {str(cluster_index): list(sentence_indices)}.\n",
    "    :param intercluster_dists: square numpy.ndarray representing distances between each cluster.\n",
    "    :param sent_df: Pandas DataFrame of indexed sentences.\n",
    "    :param word_limit: maximum num of words for summary.\n",
    "    :param contradiction_threshold: float value between 0 and 1, representing the value after which\n",
    "    sentence pairs will be considered contradictory.\n",
    "    \"\"\"\n",
    "    # find top/representative sentence of each cluster.\n",
    "    top_sentences = dict()\n",
    "    for clust_idx, clust in clusters.items():\n",
    "        sentences = [sent_df.iloc[idx]['sentence'] for idx in clust]\n",
    "        selected = choose_salient([sentences])\n",
    "        selected_idx = sent_df[sent_df.sentence == selected].index[0]\n",
    "        top_sentences[int(clust_idx)] = selected_idx  # typecasted to int because json dicts saved integer keys into str keys.\n",
    "    \n",
    "    # find clusters that are not contradictory w ALL other clusters.\n",
    "    base_clusters = list()\n",
    "    contradicted_pairs = list()\n",
    "    contradicted_set= set()\n",
    "    for i in range(len(intercluster_dists)):\n",
    "        for j in range(i+1,len(intercluster_dists)):\n",
    "            if intercluster_dists[i][j] > contradiction_threshold:\n",
    "                contradicted_pairs.append((i,j))\n",
    "                contradicted_set.add(i)\n",
    "                contradicted_set.add(j)\n",
    "        if i not in contradicted_set:\n",
    "            base_clusters.append(i)\n",
    "    \n",
    "    # construct base summary\n",
    "    base_summary = list()\n",
    "    word_count = 0\n",
    "    tokenizer = RegexpTokenizer(r'\\w+') # tokenize into word-like tokens.\n",
    "    sorted_clusters = sorted(clusters.items(), key=lambda x: len(x[1]), reverse=True)  # iterable of pairs.\n",
    "    for clust_idx, clust in sorted_clusters:\n",
    "        if int(clust_idx) in base_clusters:\n",
    "            selected_idx = top_sentences[int(clust_idx)]\n",
    "            selected = sent_df.iloc[selected_idx]['sentence']\n",
    "            tokens = tokenizer.tokenize(selected)\n",
    "            if word_count + len(tokens) < word_limit:\n",
    "                base_summary.append(selected_idx)\n",
    "                word_count = word_count + len(tokens)\n",
    "            else:\n",
    "                break\n",
    "    \n",
    "    # construct summaries w contentious information.\n",
    "    all_summaries = list()\n",
    "    added_sentences = set()\n",
    "    for clust1, clust2 in contradicted_pairs:\n",
    "        sent1 =  top_sentences[clust1]\n",
    "        sent2 =  top_sentences[clust2]\n",
    "        \n",
    "        if sent1 not in added_sentences:\n",
    "            all_summaries.append(base_summary + [sent1])\n",
    "            added_sentences.add(sent1)\n",
    "        if sent2 not in added_sentences:\n",
    "            all_summaries.append(base_summary + [sent2])\n",
    "            added_sentences.add(sent2)\n",
    "    print(base_summary)\n",
    "    return all_summaries, base_summary"
   ]
  },
  {
   "cell_type": "code",
   "execution_count": null,
   "metadata": {
    "scrolled": true
   },
   "outputs": [],
   "source": [
    "from IPython.display import Markdown\n",
    "all_summaries, base_summary = multi_summary(clusters_dict, intercluster_dists, sents_df, word_limit=90, contradiction_threshold=0.6)\n",
    "\n",
    "print(f\"total no. of summaries = {len(all_summaries)}\")\n",
    "print()\n",
    "\n",
    "for summary in all_summaries:\n",
    "    print(\"no. of sentences in summary: \", len(summary))\n",
    "    print(\"no. of sentences in source: \", len(intersentence.index.values))\n",
    "    print()\n",
    "    for sent_idx in sorted(summary):\n",
    "        if sent_idx in base_summary:\n",
    "            display(Markdown(f\"**{sent_idx}: {sents_df.iloc[sent_idx]['sentence']}**\"))\n",
    "        else:\n",
    "            display(Markdown(f\"{sent_idx}: {sents_df.iloc[sent_idx]['sentence']}\"))\n",
    "    print()"
   ]
  }
 ],
 "metadata": {
  "kernelspec": {
   "display_name": "FYP",
   "language": "python",
   "name": "fyp"
  },
  "language_info": {
   "codemirror_mode": {
    "name": "ipython",
    "version": 3
   },
   "file_extension": ".py",
   "mimetype": "text/x-python",
   "name": "python",
   "nbconvert_exporter": "python",
   "pygments_lexer": "ipython3",
   "version": "3.7.3"
  }
 },
 "nbformat": 4,
 "nbformat_minor": 4
}
