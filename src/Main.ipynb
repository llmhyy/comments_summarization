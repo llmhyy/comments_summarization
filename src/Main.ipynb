{
 "cells": [
  {
   "cell_type": "markdown",
   "metadata": {},
   "source": [
    "# Main notebook to process indexed datasets into summaries."
   ]
  },
  {
   "cell_type": "markdown",
   "metadata": {},
   "source": [
    "## Generate sentence pairs"
   ]
  },
  {
   "cell_type": "code",
   "execution_count": 21,
   "metadata": {},
   "outputs": [],
   "source": [
    "import itertools\n",
    "import json\n",
    "import nltk\n",
    "import pandas as pd"
   ]
  },
  {
   "cell_type": "code",
   "execution_count": 22,
   "metadata": {},
   "outputs": [
    {
     "name": "stdin",
     "output_type": "stream",
     "text": [
      "enter path to base directory to save outputs to:\n",
      " ../data/dummy\n"
     ]
    }
   ],
   "source": [
    "save_dir = input(\"enter path to base directory to save outputs to:\\n\")"
   ]
  },
  {
   "cell_type": "code",
   "execution_count": 23,
   "metadata": {},
   "outputs": [
    {
     "name": "stdin",
     "output_type": "stream",
     "text": [
      "enter path to indexed dataset:\n",
      " ../data/dummy/dummy1.csv\n"
     ]
    },
    {
     "data": {
      "text/html": [
       "<div>\n",
       "<style scoped>\n",
       "    .dataframe tbody tr th:only-of-type {\n",
       "        vertical-align: middle;\n",
       "    }\n",
       "\n",
       "    .dataframe tbody tr th {\n",
       "        vertical-align: top;\n",
       "    }\n",
       "\n",
       "    .dataframe thead th {\n",
       "        text-align: right;\n",
       "    }\n",
       "</style>\n",
       "<table border=\"1\" class=\"dataframe\">\n",
       "  <thead>\n",
       "    <tr style=\"text-align: right;\">\n",
       "      <th></th>\n",
       "      <th>index</th>\n",
       "      <th>sentence</th>\n",
       "    </tr>\n",
       "  </thead>\n",
       "  <tbody>\n",
       "    <tr>\n",
       "      <th>0</th>\n",
       "      <td>0</td>\n",
       "      <td>People with Virgo rising tend to be practical,...</td>\n",
       "    </tr>\n",
       "    <tr>\n",
       "      <th>1</th>\n",
       "      <td>1</td>\n",
       "      <td>You have an ingenious mind.</td>\n",
       "    </tr>\n",
       "    <tr>\n",
       "      <th>2</th>\n",
       "      <td>2</td>\n",
       "      <td>You have an active mind.</td>\n",
       "    </tr>\n",
       "    <tr>\n",
       "      <th>3</th>\n",
       "      <td>3</td>\n",
       "      <td>You have an alert mind.</td>\n",
       "    </tr>\n",
       "    <tr>\n",
       "      <th>4</th>\n",
       "      <td>4</td>\n",
       "      <td>Gaining knowledge and putting it to good use a...</td>\n",
       "    </tr>\n",
       "  </tbody>\n",
       "</table>\n",
       "</div>"
      ],
      "text/plain": [
       "   index                                           sentence\n",
       "0      0  People with Virgo rising tend to be practical,...\n",
       "1      1                        You have an ingenious mind.\n",
       "2      2                           You have an active mind.\n",
       "3      3                            You have an alert mind.\n",
       "4      4  Gaining knowledge and putting it to good use a..."
      ]
     },
     "execution_count": 23,
     "metadata": {},
     "output_type": "execute_result"
    }
   ],
   "source": [
    "input_path = input(\"enter path to indexed dataset:\\n\")  # default encoding is utf-8\n",
    "with open(input_path) as f:\n",
    "    sents_df = pd.read_csv(f, delimiter=',')\n",
    "sents_df.head()"
   ]
  },
  {
   "cell_type": "code",
   "execution_count": 24,
   "metadata": {},
   "outputs": [
    {
     "name": "stdout",
     "output_type": "stream",
     "text": [
      "no. of sentences:  11\n",
      "no. of sentence pairs:  55 \n",
      "\n"
     ]
    }
   ],
   "source": [
    "indices = list(sents_df.index)\n",
    "\n",
    "# generate all pairs in the set of sentences.\n",
    "indices_list = list(itertools.combinations(indices, 2))\n",
    "print('no. of sentences: ', len(indices))\n",
    "print('no. of sentence pairs: ', len(indices_list), '\\n')"
   ]
  },
  {
   "cell_type": "code",
   "execution_count": 25,
   "metadata": {},
   "outputs": [
    {
     "data": {
      "text/html": [
       "<div>\n",
       "<style scoped>\n",
       "    .dataframe tbody tr th:only-of-type {\n",
       "        vertical-align: middle;\n",
       "    }\n",
       "\n",
       "    .dataframe tbody tr th {\n",
       "        vertical-align: top;\n",
       "    }\n",
       "\n",
       "    .dataframe thead th {\n",
       "        text-align: right;\n",
       "    }\n",
       "</style>\n",
       "<table border=\"1\" class=\"dataframe\">\n",
       "  <thead>\n",
       "    <tr style=\"text-align: right;\">\n",
       "      <th></th>\n",
       "      <th>first_index</th>\n",
       "      <th>second_index</th>\n",
       "      <th>first</th>\n",
       "      <th>second</th>\n",
       "    </tr>\n",
       "  </thead>\n",
       "  <tbody>\n",
       "    <tr>\n",
       "      <th>0</th>\n",
       "      <td>0</td>\n",
       "      <td>1</td>\n",
       "      <td>People with Virgo rising tend to be practical,...</td>\n",
       "      <td>You have an ingenious mind.</td>\n",
       "    </tr>\n",
       "    <tr>\n",
       "      <th>1</th>\n",
       "      <td>0</td>\n",
       "      <td>2</td>\n",
       "      <td>People with Virgo rising tend to be practical,...</td>\n",
       "      <td>You have an active mind.</td>\n",
       "    </tr>\n",
       "    <tr>\n",
       "      <th>2</th>\n",
       "      <td>0</td>\n",
       "      <td>3</td>\n",
       "      <td>People with Virgo rising tend to be practical,...</td>\n",
       "      <td>You have an alert mind.</td>\n",
       "    </tr>\n",
       "    <tr>\n",
       "      <th>3</th>\n",
       "      <td>0</td>\n",
       "      <td>4</td>\n",
       "      <td>People with Virgo rising tend to be practical,...</td>\n",
       "      <td>Gaining knowledge and putting it to good use a...</td>\n",
       "    </tr>\n",
       "    <tr>\n",
       "      <th>4</th>\n",
       "      <td>0</td>\n",
       "      <td>5</td>\n",
       "      <td>People with Virgo rising tend to be practical,...</td>\n",
       "      <td>You strive for perfection.</td>\n",
       "    </tr>\n",
       "    <tr>\n",
       "      <th>5</th>\n",
       "      <td>0</td>\n",
       "      <td>6</td>\n",
       "      <td>People with Virgo rising tend to be practical,...</td>\n",
       "      <td>You can be quite the person to live with or to...</td>\n",
       "    </tr>\n",
       "    <tr>\n",
       "      <th>6</th>\n",
       "      <td>0</td>\n",
       "      <td>7</td>\n",
       "      <td>People with Virgo rising tend to be practical,...</td>\n",
       "      <td>At times others can never be \"good\" enough to ...</td>\n",
       "    </tr>\n",
       "    <tr>\n",
       "      <th>7</th>\n",
       "      <td>0</td>\n",
       "      <td>8</td>\n",
       "      <td>People with Virgo rising tend to be practical,...</td>\n",
       "      <td>Finding fault with what's wrong with things is...</td>\n",
       "    </tr>\n",
       "    <tr>\n",
       "      <th>8</th>\n",
       "      <td>0</td>\n",
       "      <td>9</td>\n",
       "      <td>People with Virgo rising tend to be practical,...</td>\n",
       "      <td>Sometimes, though, this can make relationships...</td>\n",
       "    </tr>\n",
       "    <tr>\n",
       "      <th>9</th>\n",
       "      <td>0</td>\n",
       "      <td>10</td>\n",
       "      <td>People with Virgo rising tend to be practical,...</td>\n",
       "      <td>Pessimism and being too self-critical are two ...</td>\n",
       "    </tr>\n",
       "    <tr>\n",
       "      <th>10</th>\n",
       "      <td>1</td>\n",
       "      <td>2</td>\n",
       "      <td>You have an ingenious mind.</td>\n",
       "      <td>You have an active mind.</td>\n",
       "    </tr>\n",
       "    <tr>\n",
       "      <th>11</th>\n",
       "      <td>1</td>\n",
       "      <td>3</td>\n",
       "      <td>You have an ingenious mind.</td>\n",
       "      <td>You have an alert mind.</td>\n",
       "    </tr>\n",
       "    <tr>\n",
       "      <th>12</th>\n",
       "      <td>1</td>\n",
       "      <td>4</td>\n",
       "      <td>You have an ingenious mind.</td>\n",
       "      <td>Gaining knowledge and putting it to good use a...</td>\n",
       "    </tr>\n",
       "    <tr>\n",
       "      <th>13</th>\n",
       "      <td>1</td>\n",
       "      <td>5</td>\n",
       "      <td>You have an ingenious mind.</td>\n",
       "      <td>You strive for perfection.</td>\n",
       "    </tr>\n",
       "    <tr>\n",
       "      <th>14</th>\n",
       "      <td>1</td>\n",
       "      <td>6</td>\n",
       "      <td>You have an ingenious mind.</td>\n",
       "      <td>You can be quite the person to live with or to...</td>\n",
       "    </tr>\n",
       "    <tr>\n",
       "      <th>15</th>\n",
       "      <td>1</td>\n",
       "      <td>7</td>\n",
       "      <td>You have an ingenious mind.</td>\n",
       "      <td>At times others can never be \"good\" enough to ...</td>\n",
       "    </tr>\n",
       "    <tr>\n",
       "      <th>16</th>\n",
       "      <td>1</td>\n",
       "      <td>8</td>\n",
       "      <td>You have an ingenious mind.</td>\n",
       "      <td>Finding fault with what's wrong with things is...</td>\n",
       "    </tr>\n",
       "    <tr>\n",
       "      <th>17</th>\n",
       "      <td>1</td>\n",
       "      <td>9</td>\n",
       "      <td>You have an ingenious mind.</td>\n",
       "      <td>Sometimes, though, this can make relationships...</td>\n",
       "    </tr>\n",
       "    <tr>\n",
       "      <th>18</th>\n",
       "      <td>1</td>\n",
       "      <td>10</td>\n",
       "      <td>You have an ingenious mind.</td>\n",
       "      <td>Pessimism and being too self-critical are two ...</td>\n",
       "    </tr>\n",
       "    <tr>\n",
       "      <th>19</th>\n",
       "      <td>2</td>\n",
       "      <td>3</td>\n",
       "      <td>You have an active mind.</td>\n",
       "      <td>You have an alert mind.</td>\n",
       "    </tr>\n",
       "    <tr>\n",
       "      <th>20</th>\n",
       "      <td>2</td>\n",
       "      <td>4</td>\n",
       "      <td>You have an active mind.</td>\n",
       "      <td>Gaining knowledge and putting it to good use a...</td>\n",
       "    </tr>\n",
       "    <tr>\n",
       "      <th>21</th>\n",
       "      <td>2</td>\n",
       "      <td>5</td>\n",
       "      <td>You have an active mind.</td>\n",
       "      <td>You strive for perfection.</td>\n",
       "    </tr>\n",
       "    <tr>\n",
       "      <th>22</th>\n",
       "      <td>2</td>\n",
       "      <td>6</td>\n",
       "      <td>You have an active mind.</td>\n",
       "      <td>You can be quite the person to live with or to...</td>\n",
       "    </tr>\n",
       "    <tr>\n",
       "      <th>23</th>\n",
       "      <td>2</td>\n",
       "      <td>7</td>\n",
       "      <td>You have an active mind.</td>\n",
       "      <td>At times others can never be \"good\" enough to ...</td>\n",
       "    </tr>\n",
       "    <tr>\n",
       "      <th>24</th>\n",
       "      <td>2</td>\n",
       "      <td>8</td>\n",
       "      <td>You have an active mind.</td>\n",
       "      <td>Finding fault with what's wrong with things is...</td>\n",
       "    </tr>\n",
       "    <tr>\n",
       "      <th>25</th>\n",
       "      <td>2</td>\n",
       "      <td>9</td>\n",
       "      <td>You have an active mind.</td>\n",
       "      <td>Sometimes, though, this can make relationships...</td>\n",
       "    </tr>\n",
       "    <tr>\n",
       "      <th>26</th>\n",
       "      <td>2</td>\n",
       "      <td>10</td>\n",
       "      <td>You have an active mind.</td>\n",
       "      <td>Pessimism and being too self-critical are two ...</td>\n",
       "    </tr>\n",
       "    <tr>\n",
       "      <th>27</th>\n",
       "      <td>3</td>\n",
       "      <td>4</td>\n",
       "      <td>You have an alert mind.</td>\n",
       "      <td>Gaining knowledge and putting it to good use a...</td>\n",
       "    </tr>\n",
       "    <tr>\n",
       "      <th>28</th>\n",
       "      <td>3</td>\n",
       "      <td>5</td>\n",
       "      <td>You have an alert mind.</td>\n",
       "      <td>You strive for perfection.</td>\n",
       "    </tr>\n",
       "    <tr>\n",
       "      <th>29</th>\n",
       "      <td>3</td>\n",
       "      <td>6</td>\n",
       "      <td>You have an alert mind.</td>\n",
       "      <td>You can be quite the person to live with or to...</td>\n",
       "    </tr>\n",
       "    <tr>\n",
       "      <th>30</th>\n",
       "      <td>3</td>\n",
       "      <td>7</td>\n",
       "      <td>You have an alert mind.</td>\n",
       "      <td>At times others can never be \"good\" enough to ...</td>\n",
       "    </tr>\n",
       "    <tr>\n",
       "      <th>31</th>\n",
       "      <td>3</td>\n",
       "      <td>8</td>\n",
       "      <td>You have an alert mind.</td>\n",
       "      <td>Finding fault with what's wrong with things is...</td>\n",
       "    </tr>\n",
       "    <tr>\n",
       "      <th>32</th>\n",
       "      <td>3</td>\n",
       "      <td>9</td>\n",
       "      <td>You have an alert mind.</td>\n",
       "      <td>Sometimes, though, this can make relationships...</td>\n",
       "    </tr>\n",
       "    <tr>\n",
       "      <th>33</th>\n",
       "      <td>3</td>\n",
       "      <td>10</td>\n",
       "      <td>You have an alert mind.</td>\n",
       "      <td>Pessimism and being too self-critical are two ...</td>\n",
       "    </tr>\n",
       "    <tr>\n",
       "      <th>34</th>\n",
       "      <td>4</td>\n",
       "      <td>5</td>\n",
       "      <td>Gaining knowledge and putting it to good use a...</td>\n",
       "      <td>You strive for perfection.</td>\n",
       "    </tr>\n",
       "    <tr>\n",
       "      <th>35</th>\n",
       "      <td>4</td>\n",
       "      <td>6</td>\n",
       "      <td>Gaining knowledge and putting it to good use a...</td>\n",
       "      <td>You can be quite the person to live with or to...</td>\n",
       "    </tr>\n",
       "    <tr>\n",
       "      <th>36</th>\n",
       "      <td>4</td>\n",
       "      <td>7</td>\n",
       "      <td>Gaining knowledge and putting it to good use a...</td>\n",
       "      <td>At times others can never be \"good\" enough to ...</td>\n",
       "    </tr>\n",
       "    <tr>\n",
       "      <th>37</th>\n",
       "      <td>4</td>\n",
       "      <td>8</td>\n",
       "      <td>Gaining knowledge and putting it to good use a...</td>\n",
       "      <td>Finding fault with what's wrong with things is...</td>\n",
       "    </tr>\n",
       "    <tr>\n",
       "      <th>38</th>\n",
       "      <td>4</td>\n",
       "      <td>9</td>\n",
       "      <td>Gaining knowledge and putting it to good use a...</td>\n",
       "      <td>Sometimes, though, this can make relationships...</td>\n",
       "    </tr>\n",
       "    <tr>\n",
       "      <th>39</th>\n",
       "      <td>4</td>\n",
       "      <td>10</td>\n",
       "      <td>Gaining knowledge and putting it to good use a...</td>\n",
       "      <td>Pessimism and being too self-critical are two ...</td>\n",
       "    </tr>\n",
       "    <tr>\n",
       "      <th>40</th>\n",
       "      <td>5</td>\n",
       "      <td>6</td>\n",
       "      <td>You strive for perfection.</td>\n",
       "      <td>You can be quite the person to live with or to...</td>\n",
       "    </tr>\n",
       "    <tr>\n",
       "      <th>41</th>\n",
       "      <td>5</td>\n",
       "      <td>7</td>\n",
       "      <td>You strive for perfection.</td>\n",
       "      <td>At times others can never be \"good\" enough to ...</td>\n",
       "    </tr>\n",
       "    <tr>\n",
       "      <th>42</th>\n",
       "      <td>5</td>\n",
       "      <td>8</td>\n",
       "      <td>You strive for perfection.</td>\n",
       "      <td>Finding fault with what's wrong with things is...</td>\n",
       "    </tr>\n",
       "    <tr>\n",
       "      <th>43</th>\n",
       "      <td>5</td>\n",
       "      <td>9</td>\n",
       "      <td>You strive for perfection.</td>\n",
       "      <td>Sometimes, though, this can make relationships...</td>\n",
       "    </tr>\n",
       "    <tr>\n",
       "      <th>44</th>\n",
       "      <td>5</td>\n",
       "      <td>10</td>\n",
       "      <td>You strive for perfection.</td>\n",
       "      <td>Pessimism and being too self-critical are two ...</td>\n",
       "    </tr>\n",
       "    <tr>\n",
       "      <th>45</th>\n",
       "      <td>6</td>\n",
       "      <td>7</td>\n",
       "      <td>You can be quite the person to live with or to...</td>\n",
       "      <td>At times others can never be \"good\" enough to ...</td>\n",
       "    </tr>\n",
       "    <tr>\n",
       "      <th>46</th>\n",
       "      <td>6</td>\n",
       "      <td>8</td>\n",
       "      <td>You can be quite the person to live with or to...</td>\n",
       "      <td>Finding fault with what's wrong with things is...</td>\n",
       "    </tr>\n",
       "    <tr>\n",
       "      <th>47</th>\n",
       "      <td>6</td>\n",
       "      <td>9</td>\n",
       "      <td>You can be quite the person to live with or to...</td>\n",
       "      <td>Sometimes, though, this can make relationships...</td>\n",
       "    </tr>\n",
       "    <tr>\n",
       "      <th>48</th>\n",
       "      <td>6</td>\n",
       "      <td>10</td>\n",
       "      <td>You can be quite the person to live with or to...</td>\n",
       "      <td>Pessimism and being too self-critical are two ...</td>\n",
       "    </tr>\n",
       "    <tr>\n",
       "      <th>49</th>\n",
       "      <td>7</td>\n",
       "      <td>8</td>\n",
       "      <td>At times others can never be \"good\" enough to ...</td>\n",
       "      <td>Finding fault with what's wrong with things is...</td>\n",
       "    </tr>\n",
       "    <tr>\n",
       "      <th>50</th>\n",
       "      <td>7</td>\n",
       "      <td>9</td>\n",
       "      <td>At times others can never be \"good\" enough to ...</td>\n",
       "      <td>Sometimes, though, this can make relationships...</td>\n",
       "    </tr>\n",
       "    <tr>\n",
       "      <th>51</th>\n",
       "      <td>7</td>\n",
       "      <td>10</td>\n",
       "      <td>At times others can never be \"good\" enough to ...</td>\n",
       "      <td>Pessimism and being too self-critical are two ...</td>\n",
       "    </tr>\n",
       "    <tr>\n",
       "      <th>52</th>\n",
       "      <td>8</td>\n",
       "      <td>9</td>\n",
       "      <td>Finding fault with what's wrong with things is...</td>\n",
       "      <td>Sometimes, though, this can make relationships...</td>\n",
       "    </tr>\n",
       "    <tr>\n",
       "      <th>53</th>\n",
       "      <td>8</td>\n",
       "      <td>10</td>\n",
       "      <td>Finding fault with what's wrong with things is...</td>\n",
       "      <td>Pessimism and being too self-critical are two ...</td>\n",
       "    </tr>\n",
       "    <tr>\n",
       "      <th>54</th>\n",
       "      <td>9</td>\n",
       "      <td>10</td>\n",
       "      <td>Sometimes, though, this can make relationships...</td>\n",
       "      <td>Pessimism and being too self-critical are two ...</td>\n",
       "    </tr>\n",
       "  </tbody>\n",
       "</table>\n",
       "</div>"
      ],
      "text/plain": [
       "    first_index  second_index  \\\n",
       "0             0             1   \n",
       "1             0             2   \n",
       "2             0             3   \n",
       "3             0             4   \n",
       "4             0             5   \n",
       "5             0             6   \n",
       "6             0             7   \n",
       "7             0             8   \n",
       "8             0             9   \n",
       "9             0            10   \n",
       "10            1             2   \n",
       "11            1             3   \n",
       "12            1             4   \n",
       "13            1             5   \n",
       "14            1             6   \n",
       "15            1             7   \n",
       "16            1             8   \n",
       "17            1             9   \n",
       "18            1            10   \n",
       "19            2             3   \n",
       "20            2             4   \n",
       "21            2             5   \n",
       "22            2             6   \n",
       "23            2             7   \n",
       "24            2             8   \n",
       "25            2             9   \n",
       "26            2            10   \n",
       "27            3             4   \n",
       "28            3             5   \n",
       "29            3             6   \n",
       "30            3             7   \n",
       "31            3             8   \n",
       "32            3             9   \n",
       "33            3            10   \n",
       "34            4             5   \n",
       "35            4             6   \n",
       "36            4             7   \n",
       "37            4             8   \n",
       "38            4             9   \n",
       "39            4            10   \n",
       "40            5             6   \n",
       "41            5             7   \n",
       "42            5             8   \n",
       "43            5             9   \n",
       "44            5            10   \n",
       "45            6             7   \n",
       "46            6             8   \n",
       "47            6             9   \n",
       "48            6            10   \n",
       "49            7             8   \n",
       "50            7             9   \n",
       "51            7            10   \n",
       "52            8             9   \n",
       "53            8            10   \n",
       "54            9            10   \n",
       "\n",
       "                                                first  \\\n",
       "0   People with Virgo rising tend to be practical,...   \n",
       "1   People with Virgo rising tend to be practical,...   \n",
       "2   People with Virgo rising tend to be practical,...   \n",
       "3   People with Virgo rising tend to be practical,...   \n",
       "4   People with Virgo rising tend to be practical,...   \n",
       "5   People with Virgo rising tend to be practical,...   \n",
       "6   People with Virgo rising tend to be practical,...   \n",
       "7   People with Virgo rising tend to be practical,...   \n",
       "8   People with Virgo rising tend to be practical,...   \n",
       "9   People with Virgo rising tend to be practical,...   \n",
       "10                        You have an ingenious mind.   \n",
       "11                        You have an ingenious mind.   \n",
       "12                        You have an ingenious mind.   \n",
       "13                        You have an ingenious mind.   \n",
       "14                        You have an ingenious mind.   \n",
       "15                        You have an ingenious mind.   \n",
       "16                        You have an ingenious mind.   \n",
       "17                        You have an ingenious mind.   \n",
       "18                        You have an ingenious mind.   \n",
       "19                           You have an active mind.   \n",
       "20                           You have an active mind.   \n",
       "21                           You have an active mind.   \n",
       "22                           You have an active mind.   \n",
       "23                           You have an active mind.   \n",
       "24                           You have an active mind.   \n",
       "25                           You have an active mind.   \n",
       "26                           You have an active mind.   \n",
       "27                            You have an alert mind.   \n",
       "28                            You have an alert mind.   \n",
       "29                            You have an alert mind.   \n",
       "30                            You have an alert mind.   \n",
       "31                            You have an alert mind.   \n",
       "32                            You have an alert mind.   \n",
       "33                            You have an alert mind.   \n",
       "34  Gaining knowledge and putting it to good use a...   \n",
       "35  Gaining knowledge and putting it to good use a...   \n",
       "36  Gaining knowledge and putting it to good use a...   \n",
       "37  Gaining knowledge and putting it to good use a...   \n",
       "38  Gaining knowledge and putting it to good use a...   \n",
       "39  Gaining knowledge and putting it to good use a...   \n",
       "40                         You strive for perfection.   \n",
       "41                         You strive for perfection.   \n",
       "42                         You strive for perfection.   \n",
       "43                         You strive for perfection.   \n",
       "44                         You strive for perfection.   \n",
       "45  You can be quite the person to live with or to...   \n",
       "46  You can be quite the person to live with or to...   \n",
       "47  You can be quite the person to live with or to...   \n",
       "48  You can be quite the person to live with or to...   \n",
       "49  At times others can never be \"good\" enough to ...   \n",
       "50  At times others can never be \"good\" enough to ...   \n",
       "51  At times others can never be \"good\" enough to ...   \n",
       "52  Finding fault with what's wrong with things is...   \n",
       "53  Finding fault with what's wrong with things is...   \n",
       "54  Sometimes, though, this can make relationships...   \n",
       "\n",
       "                                               second  \n",
       "0                         You have an ingenious mind.  \n",
       "1                            You have an active mind.  \n",
       "2                             You have an alert mind.  \n",
       "3   Gaining knowledge and putting it to good use a...  \n",
       "4                          You strive for perfection.  \n",
       "5   You can be quite the person to live with or to...  \n",
       "6   At times others can never be \"good\" enough to ...  \n",
       "7   Finding fault with what's wrong with things is...  \n",
       "8   Sometimes, though, this can make relationships...  \n",
       "9   Pessimism and being too self-critical are two ...  \n",
       "10                           You have an active mind.  \n",
       "11                            You have an alert mind.  \n",
       "12  Gaining knowledge and putting it to good use a...  \n",
       "13                         You strive for perfection.  \n",
       "14  You can be quite the person to live with or to...  \n",
       "15  At times others can never be \"good\" enough to ...  \n",
       "16  Finding fault with what's wrong with things is...  \n",
       "17  Sometimes, though, this can make relationships...  \n",
       "18  Pessimism and being too self-critical are two ...  \n",
       "19                            You have an alert mind.  \n",
       "20  Gaining knowledge and putting it to good use a...  \n",
       "21                         You strive for perfection.  \n",
       "22  You can be quite the person to live with or to...  \n",
       "23  At times others can never be \"good\" enough to ...  \n",
       "24  Finding fault with what's wrong with things is...  \n",
       "25  Sometimes, though, this can make relationships...  \n",
       "26  Pessimism and being too self-critical are two ...  \n",
       "27  Gaining knowledge and putting it to good use a...  \n",
       "28                         You strive for perfection.  \n",
       "29  You can be quite the person to live with or to...  \n",
       "30  At times others can never be \"good\" enough to ...  \n",
       "31  Finding fault with what's wrong with things is...  \n",
       "32  Sometimes, though, this can make relationships...  \n",
       "33  Pessimism and being too self-critical are two ...  \n",
       "34                         You strive for perfection.  \n",
       "35  You can be quite the person to live with or to...  \n",
       "36  At times others can never be \"good\" enough to ...  \n",
       "37  Finding fault with what's wrong with things is...  \n",
       "38  Sometimes, though, this can make relationships...  \n",
       "39  Pessimism and being too self-critical are two ...  \n",
       "40  You can be quite the person to live with or to...  \n",
       "41  At times others can never be \"good\" enough to ...  \n",
       "42  Finding fault with what's wrong with things is...  \n",
       "43  Sometimes, though, this can make relationships...  \n",
       "44  Pessimism and being too self-critical are two ...  \n",
       "45  At times others can never be \"good\" enough to ...  \n",
       "46  Finding fault with what's wrong with things is...  \n",
       "47  Sometimes, though, this can make relationships...  \n",
       "48  Pessimism and being too self-critical are two ...  \n",
       "49  Finding fault with what's wrong with things is...  \n",
       "50  Sometimes, though, this can make relationships...  \n",
       "51  Pessimism and being too self-critical are two ...  \n",
       "52  Sometimes, though, this can make relationships...  \n",
       "53  Pessimism and being too self-critical are two ...  \n",
       "54  Pessimism and being too self-critical are two ...  "
      ]
     },
     "metadata": {},
     "output_type": "display_data"
    }
   ],
   "source": [
    "# generate all sentence pairs and save into a csv for manual labelling.\n",
    "data = []\n",
    "for pair in indices_list:\n",
    "    data.append([pair[0], pair[1], sents_df.iloc[pair[0]]['sentence'], sents_df.iloc[pair[1]]['sentence']])\n",
    "\n",
    "df = pd.DataFrame(data=data, columns=['first_index', 'second_index', 'first', 'second'])\n",
    "display(df)"
   ]
  },
  {
   "cell_type": "code",
   "execution_count": 26,
   "metadata": {},
   "outputs": [
    {
     "name": "stdin",
     "output_type": "stream",
     "text": [
      "save indexed paired dataset? (y/n):\n",
      " y\n"
     ]
    }
   ],
   "source": [
    "is_save = input('save indexed paired dataset? (y/n):\\n')\n",
    "if is_save.lower() == 'y':\n",
    "    df.to_csv(save_dir + '/' + 'paired_sentences.csv')\n",
    "else:\n",
    "    print('not saving indexed paired dataset.')"
   ]
  },
  {
   "cell_type": "markdown",
   "metadata": {},
   "source": [
    "## Perform inferences of distances between sentences in a sentence pair"
   ]
  },
  {
   "cell_type": "code",
   "execution_count": 27,
   "metadata": {},
   "outputs": [],
   "source": [
    "import torch\n",
    "from fairseq.data.data_utils import collate_tokens\n",
    "from math import exp\n",
    "import numpy as np\n",
    "\n",
    "class RobertaMNLI:\n",
    "    # todo: create similar wrapper classes for other NLI engines.\n",
    "    # todo: create a wrapper superclass and subclass from there.\n",
    "    \n",
    "    def __init__(self, rel_path):\n",
    "        \"\"\"\n",
    "        :param rel_path: relative path to pytorch hub directory.\n",
    "        \"\"\"\n",
    "        self.output_map = {\n",
    "            0: 'contradiction',\n",
    "            1: 'neutral',\n",
    "            2: 'entailment'\n",
    "        }\n",
    "        \n",
    "        torch.hub.set_dir(rel_path)\n",
    "        self.roberta = torch.hub.load('pytorch/fairseq', 'roberta.large.mnli')  # works\n",
    "        self.roberta.cuda()\n",
    "        self.roberta.eval()\n",
    "        \n",
    "    def predict_one(self, S1, S2, return_probs=False):\n",
    "        batch = collate_tokens(\n",
    "            [self.roberta.encode(S1, S2)], pad_idx=1\n",
    "        )\n",
    "        logprobs = self.roberta.predict('mnli', batch)\n",
    "        classes_tsr = logprobs.argmax(dim=1)\n",
    "        classes = classes_tsr.tolist()  \n",
    "        \n",
    "        if return_probs == True:\n",
    "            logprobs_list=[logprob.item() for logprob in logprobs[0]]\n",
    "            prob_list =  [pow(exp(1), logprob) for logprob in logprobs_list]\n",
    "            return prob_list\n",
    "        else:\n",
    "            return classes[0]  # 0 is contradiction, 1 is neutral, 2 is entailment."
   ]
  },
  {
   "cell_type": "code",
   "execution_count": 28,
   "metadata": {},
   "outputs": [
    {
     "name": "stderr",
     "output_type": "stream",
     "text": [
      "Using cache found in ../../roberta/hub\\pytorch_fairseq_master\n"
     ]
    }
   ],
   "source": [
    "predictor = RobertaMNLI(rel_path=\"../../roberta/hub\")"
   ]
  },
  {
   "cell_type": "code",
   "execution_count": 31,
   "metadata": {},
   "outputs": [],
   "source": [
    "results = list()\n",
    "for i in range(len(df)):\n",
    "    s1 = df.iloc[i]['first']\n",
    "    s2 = df.iloc[i]['second']\n",
    "    CNE1 = predictor.predict_one(s1, s2, return_probs=True)\n",
    "    CNE2 = predictor.predict_one(s2, s1, return_probs=True)\n",
    "    row = CNE1+ CNE2\n",
    "    results.append(row)\n",
    "\n",
    "scores_df = pd.DataFrame(data=results, columns=['C1', 'N1', 'E1', 'C2', 'N2', 'E2'])\n",
    "scores_df.to_csv(save_dir + '/' + 'nliScores.csv')"
   ]
  },
  {
   "cell_type": "code",
   "execution_count": 32,
   "metadata": {},
   "outputs": [],
   "source": [
    "def gen_dist2(row):\n",
    "    '''\n",
    "    Generate distance score based on Contradiction, Entailment and Neutrality probabilities for both directions.\n",
    "    Assumes that C+E+N=1.\n",
    "    '''    \n",
    "    max1 = max([row['C1'], row['E1'], row['N1']])\n",
    "    max2 = max([row['C2'], row['E2'], row['N2']])\n",
    "    if max1 > max2:\n",
    "        C, E, N = row['C1'], row['E1'], row['N1']\n",
    "    else:\n",
    "        C, E, N = row['C2'], row['E2'], row['N2']\n",
    "    \n",
    "    if C > 0.5:\n",
    "        return C\n",
    "    elif C == E:\n",
    "        return 0.5\n",
    "    else:\n",
    "        return N/(N+E)*0.5"
   ]
  },
  {
   "cell_type": "code",
   "execution_count": 33,
   "metadata": {},
   "outputs": [
    {
     "data": {
      "text/html": [
       "<div>\n",
       "<style scoped>\n",
       "    .dataframe tbody tr th:only-of-type {\n",
       "        vertical-align: middle;\n",
       "    }\n",
       "\n",
       "    .dataframe tbody tr th {\n",
       "        vertical-align: top;\n",
       "    }\n",
       "\n",
       "    .dataframe thead th {\n",
       "        text-align: right;\n",
       "    }\n",
       "</style>\n",
       "<table border=\"1\" class=\"dataframe\">\n",
       "  <thead>\n",
       "    <tr style=\"text-align: right;\">\n",
       "      <th></th>\n",
       "      <th>first_index</th>\n",
       "      <th>second_index</th>\n",
       "      <th>first</th>\n",
       "      <th>second</th>\n",
       "      <th>C1</th>\n",
       "      <th>N1</th>\n",
       "      <th>E1</th>\n",
       "      <th>C2</th>\n",
       "      <th>N2</th>\n",
       "      <th>E2</th>\n",
       "      <th>dist</th>\n",
       "    </tr>\n",
       "  </thead>\n",
       "  <tbody>\n",
       "    <tr>\n",
       "      <th>0</th>\n",
       "      <td>0</td>\n",
       "      <td>1</td>\n",
       "      <td>People with Virgo rising tend to be practical,...</td>\n",
       "      <td>You have an ingenious mind.</td>\n",
       "      <td>0.014990</td>\n",
       "      <td>0.901193</td>\n",
       "      <td>0.083817</td>\n",
       "      <td>0.168603</td>\n",
       "      <td>0.702198</td>\n",
       "      <td>0.129199</td>\n",
       "      <td>0.457454</td>\n",
       "    </tr>\n",
       "    <tr>\n",
       "      <th>1</th>\n",
       "      <td>0</td>\n",
       "      <td>2</td>\n",
       "      <td>People with Virgo rising tend to be practical,...</td>\n",
       "      <td>You have an active mind.</td>\n",
       "      <td>0.021296</td>\n",
       "      <td>0.439075</td>\n",
       "      <td>0.539628</td>\n",
       "      <td>0.890627</td>\n",
       "      <td>0.093778</td>\n",
       "      <td>0.015595</td>\n",
       "      <td>0.890627</td>\n",
       "    </tr>\n",
       "    <tr>\n",
       "      <th>2</th>\n",
       "      <td>0</td>\n",
       "      <td>3</td>\n",
       "      <td>People with Virgo rising tend to be practical,...</td>\n",
       "      <td>You have an alert mind.</td>\n",
       "      <td>0.002648</td>\n",
       "      <td>0.244821</td>\n",
       "      <td>0.752531</td>\n",
       "      <td>0.061536</td>\n",
       "      <td>0.715761</td>\n",
       "      <td>0.222702</td>\n",
       "      <td>0.122736</td>\n",
       "    </tr>\n",
       "    <tr>\n",
       "      <th>3</th>\n",
       "      <td>0</td>\n",
       "      <td>4</td>\n",
       "      <td>People with Virgo rising tend to be practical,...</td>\n",
       "      <td>Gaining knowledge and putting it to good use a...</td>\n",
       "      <td>0.001137</td>\n",
       "      <td>0.633402</td>\n",
       "      <td>0.365460</td>\n",
       "      <td>0.029134</td>\n",
       "      <td>0.667270</td>\n",
       "      <td>0.303596</td>\n",
       "      <td>0.343647</td>\n",
       "    </tr>\n",
       "    <tr>\n",
       "      <th>4</th>\n",
       "      <td>0</td>\n",
       "      <td>5</td>\n",
       "      <td>People with Virgo rising tend to be practical,...</td>\n",
       "      <td>You strive for perfection.</td>\n",
       "      <td>0.001929</td>\n",
       "      <td>0.536462</td>\n",
       "      <td>0.461609</td>\n",
       "      <td>0.041221</td>\n",
       "      <td>0.582456</td>\n",
       "      <td>0.376323</td>\n",
       "      <td>0.303749</td>\n",
       "    </tr>\n",
       "  </tbody>\n",
       "</table>\n",
       "</div>"
      ],
      "text/plain": [
       "   first_index  second_index  \\\n",
       "0            0             1   \n",
       "1            0             2   \n",
       "2            0             3   \n",
       "3            0             4   \n",
       "4            0             5   \n",
       "\n",
       "                                               first  \\\n",
       "0  People with Virgo rising tend to be practical,...   \n",
       "1  People with Virgo rising tend to be practical,...   \n",
       "2  People with Virgo rising tend to be practical,...   \n",
       "3  People with Virgo rising tend to be practical,...   \n",
       "4  People with Virgo rising tend to be practical,...   \n",
       "\n",
       "                                              second        C1        N1  \\\n",
       "0                        You have an ingenious mind.  0.014990  0.901193   \n",
       "1                           You have an active mind.  0.021296  0.439075   \n",
       "2                            You have an alert mind.  0.002648  0.244821   \n",
       "3  Gaining knowledge and putting it to good use a...  0.001137  0.633402   \n",
       "4                         You strive for perfection.  0.001929  0.536462   \n",
       "\n",
       "         E1        C2        N2        E2      dist  \n",
       "0  0.083817  0.168603  0.702198  0.129199  0.457454  \n",
       "1  0.539628  0.890627  0.093778  0.015595  0.890627  \n",
       "2  0.752531  0.061536  0.715761  0.222702  0.122736  \n",
       "3  0.365460  0.029134  0.667270  0.303596  0.343647  \n",
       "4  0.461609  0.041221  0.582456  0.376323  0.303749  "
      ]
     },
     "execution_count": 33,
     "metadata": {},
     "output_type": "execute_result"
    }
   ],
   "source": [
    "dist_ser = scores_df.apply(lambda row: gen_dist2(row), axis=1)\n",
    "dist_ser.name = 'dist'\n",
    "scores_df = scores_df.join(dist_ser)\n",
    "scores_df = df.join(scores_df)\n",
    "scores_df.head()"
   ]
  },
  {
   "cell_type": "markdown",
   "metadata": {},
   "source": [
    "## Clustering based on precomputed pairwise distances."
   ]
  },
  {
   "cell_type": "code",
   "execution_count": 34,
   "metadata": {},
   "outputs": [],
   "source": [
    "import numpy as np\n",
    "import pandas as pd\n",
    "\n",
    "import scipy\n",
    "from scipy.cluster.hierarchy import dendrogram,linkage\n",
    "from scipy.cluster.hierarchy import fcluster\n",
    "from scipy.cluster.hierarchy import cophenet\n",
    "from scipy.spatial.distance import pdist\n",
    "\n",
    "import matplotlib.pyplot as plt\n",
    "from pylab import rcParams\n",
    "import seaborn as sb\n",
    "\n",
    "import sklearn\n",
    "# from sklearn import datasets\n",
    "from sklearn.cluster import AgglomerativeClustering\n",
    "import sklearn.metrics as sm\n",
    "from sklearn.preprocessing import scale\n",
    "\n",
    "# Configure the output\n",
    "np.set_printoptions(precision=4,suppress=True)\n",
    "%matplotlib inline\n",
    "rcParams[\"figure.figsize\"] =20,10\n",
    "sb.set_style(\"whitegrid\")"
   ]
  },
  {
   "cell_type": "code",
   "execution_count": 36,
   "metadata": {},
   "outputs": [
    {
     "name": "stdout",
     "output_type": "stream",
     "text": [
      "[[ 0  0  0]\n",
      " [ 1  1  0]\n",
      " [ 2  2  0]\n",
      " [ 3  3  0]\n",
      " [ 4  4  0]\n",
      " [ 5  5  0]\n",
      " [ 6  6  0]\n",
      " [ 7  7  0]\n",
      " [ 8  8  0]\n",
      " [ 9  9  0]\n",
      " [10 10  0]]\n"
     ]
    }
   ],
   "source": [
    "# convert this original dataframe to a 'square' distance matrix.\n",
    "# we utilise a pivot table to do this\n",
    "\n",
    "# first, add the redundant pairs (two of the same sentences) to the data.\n",
    "# we need this for the pivot function to generate the correct indices and columns.\n",
    "first = np.unique(df['first_index'].values)\n",
    "second = np.unique(df['second_index'].values)\n",
    "combined_arr = np.concatenate((first, second))\n",
    "sentences = np.unique(combined_arr)\n",
    "add_data = np.column_stack([sentences, sentences, np.zeros(len(sentences))])\n",
    "add_data = add_data.astype(np.int)\n",
    "\n",
    "print(add_data)"
   ]
  },
  {
   "cell_type": "code",
   "execution_count": null,
   "metadata": {},
   "outputs": [],
   "source": [
    "add_df = pd.DataFrame(data=add_data, columns=['first_index','second_index','dist'])\n",
    "scores_df = scores_df.append(add_df, ignore_index=True)\n",
    "scores_df.tail()"
   ]
  },
  {
   "cell_type": "code",
   "execution_count": 41,
   "metadata": {},
   "outputs": [
    {
     "name": "stdout",
     "output_type": "stream",
     "text": [
      "2 :  0.005174340807210396\n",
      "3 :  0.019980323299382898\n",
      "4 :  0.015499376680270722\n",
      "5 :  0.053601191734335224\n",
      "6 :  0.0903343067936031\n",
      "7 :  0.08516242802707301\n",
      "8 :  0.12056126734283829\n",
      "9 :  0.20357576211133635\n",
      "10 :  0.17240795209773607\n"
     ]
    }
   ],
   "source": [
    "df_piv = scores_df.pivot(\"first_index\", \"second_index\", \"dist\").fillna(0)\n",
    "piv_arr = df_piv.values\n",
    "dist_mat = piv_arr + np.transpose(piv_arr)\n",
    "\n",
    "from scipy.spatial.distance import squareform\n",
    "condensed_mat = squareform(dist_mat)\n",
    "\n",
    "sil_scores = []  # silhouette scores\n",
    "for i in range(2, len(dist_mat)):\n",
    "    clusters = AgglomerativeClustering(n_clusters=i, affinity='precomputed', linkage='single')\n",
    "    clusters.fit_predict(dist_mat)\n",
    "\n",
    "    # use metric to measure/compare goodness of clusters based on internal coherence and \n",
    "    # external coupling.\n",
    "    # consider Dunn index. maximise the Dunn index.\n",
    "    # or consider average sillhouette width (maximise). available in sklearn.\n",
    "    from sklearn.metrics import silhouette_score\n",
    "\n",
    "    silhouette_avg = silhouette_score(dist_mat, clusters.labels_, metric='precomputed')\n",
    "    sil_scores.append(silhouette_avg)\n",
    "    print(i, \": \", silhouette_avg)"
   ]
  },
  {
   "cell_type": "code",
   "execution_count": 43,
   "metadata": {},
   "outputs": [
    {
     "name": "stdout",
     "output_type": "stream",
     "text": [
      "max avg silhouette score:  0.20357576211133635\n",
      "nclusters w max avg silhouette score:  9\n"
     ]
    }
   ],
   "source": [
    "sil_scores_arr = np.asarray(sil_scores)\n",
    "print('max avg silhouette score: ', sil_scores_arr.max())\n",
    "OPTIMAL_K = np.where(sil_scores_arr == sil_scores_arr.max())[0][0] + 2\n",
    "print('nclusters w max avg silhouette score: ', optimal_k)"
   ]
  },
  {
   "cell_type": "code",
   "execution_count": 44,
   "metadata": {},
   "outputs": [
    {
     "name": "stdout",
     "output_type": "stream",
     "text": [
      "cluster 0 (size 3):\n",
      "[1 2 3]\n"
     ]
    },
    {
     "data": {
      "text/plain": [
       "1"
      ]
     },
     "metadata": {},
     "output_type": "display_data"
    },
    {
     "data": {
      "text/plain": [
       "2"
      ]
     },
     "metadata": {},
     "output_type": "display_data"
    },
    {
     "data": {
      "text/plain": [
       "3"
      ]
     },
     "metadata": {},
     "output_type": "display_data"
    },
    {
     "name": "stdout",
     "output_type": "stream",
     "text": [
      "\n",
      "\n",
      "cluster 1 (size 1):\n",
      "[9]\n"
     ]
    },
    {
     "data": {
      "text/plain": [
       "9"
      ]
     },
     "metadata": {},
     "output_type": "display_data"
    },
    {
     "name": "stdout",
     "output_type": "stream",
     "text": [
      "\n",
      "\n",
      "cluster 2 (size 1):\n",
      "[10]\n"
     ]
    },
    {
     "data": {
      "text/plain": [
       "10"
      ]
     },
     "metadata": {},
     "output_type": "display_data"
    },
    {
     "name": "stdout",
     "output_type": "stream",
     "text": [
      "\n",
      "\n",
      "cluster 3 (size 1):\n",
      "[7]\n"
     ]
    },
    {
     "data": {
      "text/plain": [
       "7"
      ]
     },
     "metadata": {},
     "output_type": "display_data"
    },
    {
     "name": "stdout",
     "output_type": "stream",
     "text": [
      "\n",
      "\n",
      "cluster 4 (size 1):\n",
      "[8]\n"
     ]
    },
    {
     "data": {
      "text/plain": [
       "8"
      ]
     },
     "metadata": {},
     "output_type": "display_data"
    },
    {
     "name": "stdout",
     "output_type": "stream",
     "text": [
      "\n",
      "\n",
      "cluster 5 (size 1):\n",
      "[6]\n"
     ]
    },
    {
     "data": {
      "text/plain": [
       "6"
      ]
     },
     "metadata": {},
     "output_type": "display_data"
    },
    {
     "name": "stdout",
     "output_type": "stream",
     "text": [
      "\n",
      "\n",
      "cluster 6 (size 1):\n",
      "[4]\n"
     ]
    },
    {
     "data": {
      "text/plain": [
       "4"
      ]
     },
     "metadata": {},
     "output_type": "display_data"
    },
    {
     "name": "stdout",
     "output_type": "stream",
     "text": [
      "\n",
      "\n",
      "cluster 7 (size 1):\n",
      "[5]\n"
     ]
    },
    {
     "data": {
      "text/plain": [
       "5"
      ]
     },
     "metadata": {},
     "output_type": "display_data"
    },
    {
     "name": "stdout",
     "output_type": "stream",
     "text": [
      "\n",
      "\n",
      "cluster 8 (size 1):\n",
      "[0]\n"
     ]
    },
    {
     "data": {
      "text/plain": [
       "0"
      ]
     },
     "metadata": {},
     "output_type": "display_data"
    },
    {
     "name": "stdout",
     "output_type": "stream",
     "text": [
      "\n",
      "\n"
     ]
    }
   ],
   "source": [
    "clusters = AgglomerativeClustering(n_clusters=OPTIMAL_K, affinity='precomputed', linkage='single')\n",
    "clusters.fit_predict(dist_mat)\n",
    "for i in range(clusters.n_clusters_):\n",
    "    indices = np.where(clusters.labels_ == i)[0]\n",
    "    \n",
    "    print(f'cluster {i} (size {len(indices)}):')\n",
    "    print(indices)\n",
    "    for idx in indices:\n",
    "        display(df_piv.index[idx])\n",
    "    print('\\n')"
   ]
  },
  {
   "cell_type": "code",
   "execution_count": 45,
   "metadata": {},
   "outputs": [],
   "source": [
    "# save clusters into JSON dict\n",
    "clusters_dict = dict()\n",
    "for i in range(clusters.n_clusters_):\n",
    "    indices = np.where(clusters.labels_ == i)[0]\n",
    "    sents = list()\n",
    "    for idx in indices:\n",
    "        sents.append(int(df_piv.index[idx]))\n",
    "    clusters_dict[i] = sents\n",
    "\n",
    "path = save_dir + '/' + 'clusters.json'\n",
    "with open(path, 'w') as fp:\n",
    "    json.dump(clusters_dict, fp)"
   ]
  },
  {
   "cell_type": "code",
   "execution_count": 46,
   "metadata": {},
   "outputs": [],
   "source": [
    "# generate pairwise matrix for saving.\n",
    "df_piv_symmetric = pd.DataFrame(data=dist_mat, index=df_piv.index, columns=df_piv.columns)\n",
    "df_piv_symmetric.head()\n",
    "\n",
    "path = save_dir + '/' + 'pairwiseMatrix.csv'\n",
    "df_piv_symmetric.to_csv(path)"
   ]
  },
  {
   "cell_type": "code",
   "execution_count": 47,
   "metadata": {},
   "outputs": [
    {
     "name": "stdout",
     "output_type": "stream",
     "text": [
      "------\n",
      "\n",
      "no. of clusters = 9\n",
      "[[0.     0.4995 0.7335 0.4852 0.4677 0.4987 0.471  0.4909 0.4903]\n",
      " [0.     0.     0.4994 0.4995 0.4995 0.4996 0.4995 0.4994 0.4995]\n",
      " [0.     0.     0.     0.4954 0.9346 0.9931 0.4671 0.4107 0.4808]\n",
      " [0.     0.     0.     0.     0.4973 0.4977 0.4991 0.4988 0.499 ]\n",
      " [0.     0.     0.     0.     0.     0.4983 0.8313 0.9773 0.4282]\n",
      " [0.     0.     0.     0.     0.     0.     0.499  0.4926 0.4941]\n",
      " [0.     0.     0.     0.     0.     0.     0.     0.441  0.3436]\n",
      " [0.     0.     0.     0.     0.     0.     0.     0.     0.3037]\n",
      " [0.     0.     0.     0.     0.     0.     0.     0.     0.    ]]\n"
     ]
    }
   ],
   "source": [
    "# Compute the distance of one cluster to another cluster by the average pairwise distance\n",
    "# of the elements in one cluster and another cluster.  \n",
    "for n_clusters in [optimal_k]:\n",
    "    print('------')\n",
    "    print(f'\\nno. of clusters = {n_clusters}')\n",
    "    clusters = AgglomerativeClustering(n_clusters=n_clusters, affinity='precomputed', linkage='single')\n",
    "    clusters.fit_predict(dist_mat)\n",
    "    \n",
    "    # find average distances between clusters and output a new distance matrix\n",
    "    labels = [i for i in range(clusters.n_clusters_)]\n",
    "    avg_dist_arr = np.zeros(shape=(clusters.n_clusters_, clusters.n_clusters_))\n",
    "    for i in range(clusters.n_clusters_):\n",
    "        indices = np.where(clusters.labels_ == i)[0]\n",
    "        labels.remove(i)\n",
    "        for j in labels:\n",
    "            other_indices = np.where(clusters.labels_ == j)[0]\n",
    "            intra_dist_arr = np.zeros(shape=(len(indices), len(other_indices)))\n",
    "            \n",
    "            for k, index in enumerate(indices):\n",
    "                for m, other_index in enumerate(other_indices):\n",
    "                    intra_dist_arr[k][m] = dist_mat[index][other_index]\n",
    "            \n",
    "            #print (f'cluster {i} against cluster {j}:')\n",
    "            #print(intra_dist_arr)\n",
    "            \n",
    "            avg_dist = np.average(intra_dist_arr)\n",
    "            #print(avg_dist)\n",
    "            avg_dist_arr[i][j] = avg_dist\n",
    "    print(avg_dist_arr)"
   ]
  },
  {
   "cell_type": "code",
   "execution_count": 48,
   "metadata": {},
   "outputs": [],
   "source": [
    "path = save_dir + '/' + 'clusterDistances.csv'\n",
    "tmp = avg_dist_arr + np.transpose(avg_dist_arr)\n",
    "np.savetxt(path, tmp, delimiter=\",\")"
   ]
  },
  {
   "cell_type": "code",
   "execution_count": 54,
   "metadata": {},
   "outputs": [
    {
     "name": "stdout",
     "output_type": "stream",
     "text": [
      "[[0.     0.4995 0.7335 0.4852 0.4677 0.4987 0.471  0.4909 0.4903]\n",
      " [0.4995 0.     0.4994 0.4995 0.4995 0.4996 0.4995 0.4994 0.4995]\n",
      " [0.7335 0.4994 0.     0.4954 0.9346 0.9931 0.4671 0.4107 0.4808]\n",
      " [0.4852 0.4995 0.4954 0.     0.4973 0.4977 0.4991 0.4988 0.499 ]\n",
      " [0.4677 0.4995 0.9346 0.4973 0.     0.4983 0.8313 0.9773 0.4282]\n",
      " [0.4987 0.4996 0.9931 0.4977 0.4983 0.     0.499  0.4926 0.4941]\n",
      " [0.471  0.4995 0.4671 0.4991 0.8313 0.499  0.     0.441  0.3436]\n",
      " [0.4909 0.4994 0.4107 0.4988 0.9773 0.4926 0.441  0.     0.3037]\n",
      " [0.4903 0.4995 0.4808 0.499  0.4282 0.4941 0.3436 0.3037 0.    ]]\n"
     ]
    }
   ],
   "source": [
    "print(tmp)"
   ]
  },
  {
   "cell_type": "markdown",
   "metadata": {},
   "source": [
    "## Visualise network of clusters"
   ]
  },
  {
   "cell_type": "code",
   "execution_count": 50,
   "metadata": {},
   "outputs": [],
   "source": [
    "import networkx as nx\n",
    "import string"
   ]
  },
  {
   "cell_type": "code",
   "execution_count": 53,
   "metadata": {},
   "outputs": [
    {
     "name": "stdout",
     "output_type": "stream",
     "text": [
      "[0, 1, 2, 3, 4, 5, 6, 7, 8]\n",
      "[(0, 1, {'weight': 0.4994605551465554}), (0, 2, {'weight': 0.7335071209512276}), (0, 3, {'weight': 0.48520478438236053}), (0, 4, {'weight': 0.46770655256857535}), (0, 5, {'weight': 0.49867255515323117}), (0, 6, {'weight': 0.47099926157662747}), (0, 7, {'weight': 0.4908618227767336}), (0, 8, {'weight': 0.49027210145478795}), (1, 2, {'weight': 0.49940064584282534}), (1, 3, {'weight': 0.49945796866543385}), (1, 4, {'weight': 0.49945678697938106}), (1, 5, {'weight': 0.4995587224847858}), (1, 6, {'weight': 0.4994986559109311}), (1, 7, {'weight': 0.49939709003843735}), (1, 8, {'weight': 0.49948659031512255}), (2, 3, {'weight': 0.4953569487060596}), (2, 4, {'weight': 0.9345504595731561}), (2, 5, {'weight': 0.9930647224858722}), (2, 6, {'weight': 0.46708509870903325}), (2, 7, {'weight': 0.41068669711139594}), (2, 8, {'weight': 0.4808462652065677}), (3, 4, {'weight': 0.49725615398226114}), (3, 5, {'weight': 0.49767272002938995}), (3, 6, {'weight': 0.49909451831466356}), (3, 7, {'weight': 0.49879049623218047}), (3, 8, {'weight': 0.4989775876629318}), (4, 5, {'weight': 0.49826784428068355}), (4, 6, {'weight': 0.8312548405020113}), (4, 7, {'weight': 0.9772690058619785}), (4, 8, {'weight': 0.4281739902786544}), (5, 6, {'weight': 0.4990337817375749}), (5, 7, {'weight': 0.4925786972552917}), (5, 8, {'weight': 0.49409409936578874}), (6, 7, {'weight': 0.44096104798235247}), (6, 8, {'weight': 0.3436468224034555}), (7, 8, {'weight': 0.30374878974009023})]\n",
      "using package pydot\n"
     ]
    }
   ],
   "source": [
    "G = nx.from_numpy_matrix(tmp)\n",
    "print(G.nodes())\n",
    "print(G.edges().data())\n",
    "#G = nx.relabel_nodes(G, dict(zip(range(len(G.nodes())),string.ascii_uppercase)))\n",
    "\n",
    "import pydot\n",
    "from networkx.drawing.nx_pydot import write_dot\n",
    "\n",
    "print(\"using package pydot\")\n",
    "path = save_dir + '/' + 'clusterViz.dot'\n",
    "write_dot(G, path)\n",
    "# you can then use the various graphviz CLI to generate the image. E.g. \"neato -Tpng clusterViz.dot -o clusterViz.png\"\n",
    "# see https://www.graphviz.org/pdf/neatoguide.pdf for more info on modifying dot files.\n",
    "# fdp or sfdp can be used instead of neato. "
   ]
  },
  {
   "cell_type": "markdown",
   "metadata": {},
   "source": [
    "## Summarize"
   ]
  },
  {
   "cell_type": "code",
   "execution_count": 83,
   "metadata": {},
   "outputs": [],
   "source": [
    "from nltk.tokenize import RegexpTokenizer\n",
    "\n",
    "def choose_longest(sentences):\n",
    "    tokenizer = RegexpTokenizer(r'\\w+')\n",
    "    max_len = 0\n",
    "    final_sent = None\n",
    "    for sent in sentences:\n",
    "        tokens = tokenizer.tokenize(sent)\n",
    "        if len(tokens) > max_len:\n",
    "            max_len = len(sent)\n",
    "            final_sent = sent\n",
    "    return final_sent\n",
    "\n",
    "from lexrank import LexRank\n",
    "from lexrank.mappings.stopwords import STOPWORDS\n",
    "def choose_salient(sentences):\n",
    "    \"\"\"\n",
    "    \n",
    "    \"\"\"\n",
    "    lxr = LexRank(sentences, stopwords=STOPWORDS['en'])\n",
    "    top_sentence = lxr.get_summary(sentences[0], summary_size=1, threshold=.1)\n",
    "    return top_sentence[0]\n",
    "    \n",
    "\n",
    "def summarize(clusters, intersentence, sent_df, word_limit=90, coherence_threshold=0.6, redundancy_threshold=0.3):\n",
    "    \"\"\"\n",
    "    :param clusters: dict of clusters of the form {str(cluster_num): list(sentence_indices)}.\n",
    "    :param intersentence: Pandas DataFrame of precomputed inter-sentence distance in pairwise matrix form.\n",
    "    :param sent_df: Pandas DataFrame of indexed sentences.\n",
    "    :param word_limit: maximum num of words for summary.\n",
    "    :param coherence_threshold: maximum distance allowed for a sentence pair within the summary. valid values between 0-1.\n",
    "    :param redundancy_threshold: minimum distance allowed for a sentence pair within the summary. valid values between 0-1.\n",
    "    \n",
    "    We need a redundancy_threshold because the clustering algorithm does not always manage to group \n",
    "    redundant sentences together?\n",
    "    \"\"\"\n",
    "    if coherence_threshold <= redundancy_threshold:\n",
    "        raise Exception\n",
    "    \n",
    "    tokenizer = RegexpTokenizer(r'\\w+') # tokenize into word-like tokens.\n",
    "    summary = list()\n",
    "    word_count = 0\n",
    "    \n",
    "    sorted_clusters = sorted(clusters.items(), key=lambda x: len(x[1]), reverse=True)  # iterable of pairs.\n",
    "    \n",
    "    for key, clust in sorted_clusters:\n",
    "        sentences = [sent_df.iloc[idx]['sentence'] for idx in clust]\n",
    "        #selected = choose_longest(clust)\n",
    "        selected = choose_salient([sentences])\n",
    "        selected_idx = sent_df[sent_df.sentence == selected].index[0]\n",
    "        tokens = tokenizer.tokenize(selected)\n",
    "        if word_count + len(tokens) < word_limit:\n",
    "            max_dist = 0\n",
    "            min_dist = 1\n",
    "            for sent_idx in summary:\n",
    "                dist = intersentence.iloc[sent_idx][selected_idx]\n",
    "                if dist > max_dist:\n",
    "                    max_dist = dist\n",
    "                if dist < min_dist:\n",
    "                    min_dist = dist\n",
    "            if max_dist < coherence_threshold and min_dist > redundancy_threshold:\n",
    "                summary.append(selected_idx)\n",
    "                word_count = word_count + len(tokens)\n",
    "        else:\n",
    "            break\n",
    "    return summary"
   ]
  },
  {
   "cell_type": "code",
   "execution_count": 84,
   "metadata": {},
   "outputs": [
    {
     "data": {
      "text/plain": [
       "['You have an ingenious mind.',\n",
       " 'You have an active mind.',\n",
       " 'You have an alert mind.']"
      ]
     },
     "metadata": {},
     "output_type": "display_data"
    },
    {
     "data": {
      "text/plain": [
       "'You have an alert mind.'"
      ]
     },
     "execution_count": 84,
     "metadata": {},
     "output_type": "execute_result"
    }
   ],
   "source": [
    "# test lexrank algorithm.\n",
    "sentences = [sents_df.iloc[idx]['sentence'] for idx in clusters_dict[0]]\n",
    "display(sentences)\n",
    "choose_salient([sentences])"
   ]
  },
  {
   "cell_type": "code",
   "execution_count": 85,
   "metadata": {},
   "outputs": [
    {
     "name": "stdout",
     "output_type": "stream",
     "text": [
      "no. of sentences in summary:  3\n",
      "no. of sentences in source:  11\n",
      "\n",
      "3: You have an alert mind.\n",
      "9: Sometimes, though, this can make relationships sour as you often turn your critical eye on the one you love and the things they do.\n",
      "7: At times others can never be \"good\" enough to meet those high standards.\n",
      "\n",
      "3: You have an alert mind.\n",
      "7: At times others can never be \"good\" enough to meet those high standards.\n",
      "9: Sometimes, though, this can make relationships sour as you often turn your critical eye on the one you love and the things they do.\n"
     ]
    }
   ],
   "source": [
    "# todo: think of statistical way to determine the coherence_threshold and redundancy_threshold.\n",
    "summary = summarize(clusters_dict, df_piv_symmetric, sents_df, word_limit=50, coherence_threshold=0.55, redundancy_threshold=0.4)\n",
    "print(\"no. of sentences in summary: \", len(summary))\n",
    "print(\"no. of sentences in source: \", len(df_piv_symmetric.index.values))\n",
    "print()\n",
    "for sent_idx in summary:\n",
    "    print(f\"{sent_idx}: {sents_df.iloc[sent_idx]['sentence']}\")\n",
    "print()\n",
    "for sent_idx in sorted(summary):\n",
    "    print(f\"{sent_idx}: {sents_df.iloc[sent_idx]['sentence']}\")"
   ]
  },
  {
   "cell_type": "markdown",
   "metadata": {},
   "source": [
    "## Multiple Summaries"
   ]
  },
  {
   "cell_type": "code",
   "execution_count": 171,
   "metadata": {},
   "outputs": [],
   "source": [
    "def multi_summary(clusters, intercluster_dists, sent_df, word_limit=100, contradiction_threshold=0.6):\n",
    "    \"\"\"\n",
    "    :param clusters: dict of clusters of the form {str(cluster_index): list(sentence_indices)}.\n",
    "    :param intercluster_dists: square numpy.ndarray representing average distances between each cluster.\n",
    "    :param sent_df: Pandas DataFrame of indexed sentences.\n",
    "    :param word_limit: maximum num of words for summary.\n",
    "    :param contradiction_threshold: float value between 0 and 1, representing the value after which\n",
    "    sentence pairs will be considered contradictory.\n",
    "    \"\"\"\n",
    "    # find top/representative sentence of each cluster.\n",
    "    top_sentences = dict()\n",
    "    for clust_idx, clust in clusters.items():\n",
    "        sentences = [sent_df.iloc[idx]['sentence'] for idx in clust]\n",
    "        selected = choose_salient([sentences])\n",
    "        selected_idx = sent_df[sent_df.sentence == selected].index[0]\n",
    "        top_sentences[clust_idx] = selected_idx \n",
    "    \n",
    "    # find clusters that are not contradictory w ALL other clusters.\n",
    "    base_clusters = list()\n",
    "    contradicted_pairs = list()\n",
    "    contradicted_set= set()\n",
    "    for i in range(len(intercluster_dists)):\n",
    "        for j in range(i+1,len(intercluster_dists)):\n",
    "            if intercluster_dists[i][j] > contradiction_threshold:\n",
    "                contradicted_pairs.append((i,j))\n",
    "                contradicted_set.add(i)\n",
    "                contradicted_set.add(j)\n",
    "        if i not in contradicted_set:\n",
    "            base_clusters.append(i)\n",
    "    \n",
    "    # construct base summary\n",
    "    base_summary = list()\n",
    "    word_count = 0\n",
    "    tokenizer = RegexpTokenizer(r'\\w+') # tokenize into word-like tokens.\n",
    "    sorted_clusters = sorted(clusters.items(), key=lambda x: len(x[1]), reverse=True)  # iterable of pairs.\n",
    "    for clust_idx, clust in sorted_clusters:\n",
    "        if clust_idx in base_clusters:\n",
    "            selected_idx = top_sentences[clust_idx]\n",
    "            selected = sent_df.iloc[selected_idx]['sentence']\n",
    "            tokens = tokenizer.tokenize(selected)\n",
    "            if word_count + len(tokens) < word_limit:\n",
    "                base_summary.append(selected_idx)\n",
    "                word_count = word_count + len(tokens)\n",
    "            else:\n",
    "                break\n",
    "    \n",
    "    # construct summaries w contentious information.\n",
    "    all_summaries = list()\n",
    "    added_sentences = set()\n",
    "    for clust1, clust2 in contradicted_pairs:\n",
    "        sent1 =  top_sentences[clust1]\n",
    "        sent2 =  top_sentences[clust2]\n",
    "        \n",
    "        if sent1 not in added_sentences:\n",
    "            all_summaries.append(base_summary + [sent1])\n",
    "            added_sentences.add(sent1)\n",
    "        if sent2 not in added_sentences:\n",
    "            all_summaries.append(base_summary + [sent2])\n",
    "            added_sentences.add(sent2)\n",
    "    \n",
    "    print(base_summary)\n",
    "    return all_summaries, base_summary"
   ]
  },
  {
   "cell_type": "code",
   "execution_count": 172,
   "metadata": {},
   "outputs": [
    {
     "name": "stdout",
     "output_type": "stream",
     "text": [
      "[9, 7, 0]\n",
      "\n",
      "no. of sentences in summary:  4\n",
      "no. of sentences in source:  11\n",
      "\n"
     ]
    },
    {
     "data": {
      "text/markdown": [
       "**0: People with Virgo rising tend to be practical, analytical, discriminating, fastidious, careful, exacting, attentive to details, methodical, quiet, unassuming, shy, critical, thoughtful, and somewhat self-centered.**"
      ],
      "text/plain": [
       "<IPython.core.display.Markdown object>"
      ]
     },
     "metadata": {},
     "output_type": "display_data"
    },
    {
     "data": {
      "text/markdown": [
       "3: You have an alert mind."
      ],
      "text/plain": [
       "<IPython.core.display.Markdown object>"
      ]
     },
     "metadata": {},
     "output_type": "display_data"
    },
    {
     "data": {
      "text/markdown": [
       "**7: At times others can never be \"good\" enough to meet those high standards.**"
      ],
      "text/plain": [
       "<IPython.core.display.Markdown object>"
      ]
     },
     "metadata": {},
     "output_type": "display_data"
    },
    {
     "data": {
      "text/markdown": [
       "**9: Sometimes, though, this can make relationships sour as you often turn your critical eye on the one you love and the things they do.**"
      ],
      "text/plain": [
       "<IPython.core.display.Markdown object>"
      ]
     },
     "metadata": {},
     "output_type": "display_data"
    },
    {
     "name": "stdout",
     "output_type": "stream",
     "text": [
      "\n",
      "no. of sentences in summary:  4\n",
      "no. of sentences in source:  11\n",
      "\n"
     ]
    },
    {
     "data": {
      "text/markdown": [
       "**0: People with Virgo rising tend to be practical, analytical, discriminating, fastidious, careful, exacting, attentive to details, methodical, quiet, unassuming, shy, critical, thoughtful, and somewhat self-centered.**"
      ],
      "text/plain": [
       "<IPython.core.display.Markdown object>"
      ]
     },
     "metadata": {},
     "output_type": "display_data"
    },
    {
     "data": {
      "text/markdown": [
       "**7: At times others can never be \"good\" enough to meet those high standards.**"
      ],
      "text/plain": [
       "<IPython.core.display.Markdown object>"
      ]
     },
     "metadata": {},
     "output_type": "display_data"
    },
    {
     "data": {
      "text/markdown": [
       "**9: Sometimes, though, this can make relationships sour as you often turn your critical eye on the one you love and the things they do.**"
      ],
      "text/plain": [
       "<IPython.core.display.Markdown object>"
      ]
     },
     "metadata": {},
     "output_type": "display_data"
    },
    {
     "data": {
      "text/markdown": [
       "10: Pessimism and being too self-critical are two faults you should try to improve upon."
      ],
      "text/plain": [
       "<IPython.core.display.Markdown object>"
      ]
     },
     "metadata": {},
     "output_type": "display_data"
    },
    {
     "name": "stdout",
     "output_type": "stream",
     "text": [
      "\n",
      "no. of sentences in summary:  4\n",
      "no. of sentences in source:  11\n",
      "\n"
     ]
    },
    {
     "data": {
      "text/markdown": [
       "**0: People with Virgo rising tend to be practical, analytical, discriminating, fastidious, careful, exacting, attentive to details, methodical, quiet, unassuming, shy, critical, thoughtful, and somewhat self-centered.**"
      ],
      "text/plain": [
       "<IPython.core.display.Markdown object>"
      ]
     },
     "metadata": {},
     "output_type": "display_data"
    },
    {
     "data": {
      "text/markdown": [
       "**7: At times others can never be \"good\" enough to meet those high standards.**"
      ],
      "text/plain": [
       "<IPython.core.display.Markdown object>"
      ]
     },
     "metadata": {},
     "output_type": "display_data"
    },
    {
     "data": {
      "text/markdown": [
       "8: Finding fault with what's wrong with things is your forte."
      ],
      "text/plain": [
       "<IPython.core.display.Markdown object>"
      ]
     },
     "metadata": {},
     "output_type": "display_data"
    },
    {
     "data": {
      "text/markdown": [
       "**9: Sometimes, though, this can make relationships sour as you often turn your critical eye on the one you love and the things they do.**"
      ],
      "text/plain": [
       "<IPython.core.display.Markdown object>"
      ]
     },
     "metadata": {},
     "output_type": "display_data"
    },
    {
     "name": "stdout",
     "output_type": "stream",
     "text": [
      "\n",
      "no. of sentences in summary:  4\n",
      "no. of sentences in source:  11\n",
      "\n"
     ]
    },
    {
     "data": {
      "text/markdown": [
       "**0: People with Virgo rising tend to be practical, analytical, discriminating, fastidious, careful, exacting, attentive to details, methodical, quiet, unassuming, shy, critical, thoughtful, and somewhat self-centered.**"
      ],
      "text/plain": [
       "<IPython.core.display.Markdown object>"
      ]
     },
     "metadata": {},
     "output_type": "display_data"
    },
    {
     "data": {
      "text/markdown": [
       "6: You can be quite the person to live with or to be around because your standards for yourself and others are so high."
      ],
      "text/plain": [
       "<IPython.core.display.Markdown object>"
      ]
     },
     "metadata": {},
     "output_type": "display_data"
    },
    {
     "data": {
      "text/markdown": [
       "**7: At times others can never be \"good\" enough to meet those high standards.**"
      ],
      "text/plain": [
       "<IPython.core.display.Markdown object>"
      ]
     },
     "metadata": {},
     "output_type": "display_data"
    },
    {
     "data": {
      "text/markdown": [
       "**9: Sometimes, though, this can make relationships sour as you often turn your critical eye on the one you love and the things they do.**"
      ],
      "text/plain": [
       "<IPython.core.display.Markdown object>"
      ]
     },
     "metadata": {},
     "output_type": "display_data"
    },
    {
     "name": "stdout",
     "output_type": "stream",
     "text": [
      "\n",
      "no. of sentences in summary:  4\n",
      "no. of sentences in source:  11\n",
      "\n"
     ]
    },
    {
     "data": {
      "text/markdown": [
       "**0: People with Virgo rising tend to be practical, analytical, discriminating, fastidious, careful, exacting, attentive to details, methodical, quiet, unassuming, shy, critical, thoughtful, and somewhat self-centered.**"
      ],
      "text/plain": [
       "<IPython.core.display.Markdown object>"
      ]
     },
     "metadata": {},
     "output_type": "display_data"
    },
    {
     "data": {
      "text/markdown": [
       "4: Gaining knowledge and putting it to good use are important to you."
      ],
      "text/plain": [
       "<IPython.core.display.Markdown object>"
      ]
     },
     "metadata": {},
     "output_type": "display_data"
    },
    {
     "data": {
      "text/markdown": [
       "**7: At times others can never be \"good\" enough to meet those high standards.**"
      ],
      "text/plain": [
       "<IPython.core.display.Markdown object>"
      ]
     },
     "metadata": {},
     "output_type": "display_data"
    },
    {
     "data": {
      "text/markdown": [
       "**9: Sometimes, though, this can make relationships sour as you often turn your critical eye on the one you love and the things they do.**"
      ],
      "text/plain": [
       "<IPython.core.display.Markdown object>"
      ]
     },
     "metadata": {},
     "output_type": "display_data"
    },
    {
     "name": "stdout",
     "output_type": "stream",
     "text": [
      "\n",
      "no. of sentences in summary:  4\n",
      "no. of sentences in source:  11\n",
      "\n"
     ]
    },
    {
     "data": {
      "text/markdown": [
       "**0: People with Virgo rising tend to be practical, analytical, discriminating, fastidious, careful, exacting, attentive to details, methodical, quiet, unassuming, shy, critical, thoughtful, and somewhat self-centered.**"
      ],
      "text/plain": [
       "<IPython.core.display.Markdown object>"
      ]
     },
     "metadata": {},
     "output_type": "display_data"
    },
    {
     "data": {
      "text/markdown": [
       "5: You strive for perfection."
      ],
      "text/plain": [
       "<IPython.core.display.Markdown object>"
      ]
     },
     "metadata": {},
     "output_type": "display_data"
    },
    {
     "data": {
      "text/markdown": [
       "**7: At times others can never be \"good\" enough to meet those high standards.**"
      ],
      "text/plain": [
       "<IPython.core.display.Markdown object>"
      ]
     },
     "metadata": {},
     "output_type": "display_data"
    },
    {
     "data": {
      "text/markdown": [
       "**9: Sometimes, though, this can make relationships sour as you often turn your critical eye on the one you love and the things they do.**"
      ],
      "text/plain": [
       "<IPython.core.display.Markdown object>"
      ]
     },
     "metadata": {},
     "output_type": "display_data"
    },
    {
     "name": "stdout",
     "output_type": "stream",
     "text": [
      "\n"
     ]
    }
   ],
   "source": [
    "from IPython.display import Markdown\n",
    "all_summaries, base_summary = multi_summary(clusters_dict, tmp, sents_df, word_limit=100, contradiction_threshold=0.6)\n",
    "\n",
    "print()\n",
    "\n",
    "for summary in all_summaries:\n",
    "    print(\"no. of sentences in summary: \", len(summary))\n",
    "    print(\"no. of sentences in source: \", len(df_piv_symmetric.index.values))\n",
    "    print()\n",
    "    for sent_idx in sorted(summary):\n",
    "        if sent_idx in base_summary:\n",
    "            display(Markdown(f\"**{sent_idx}: {sents_df.iloc[sent_idx]['sentence']}**\"))\n",
    "        else:\n",
    "            display(Markdown(f\"{sent_idx}: {sents_df.iloc[sent_idx]['sentence']}\"))\n",
    "    print()"
   ]
  },
  {
   "cell_type": "code",
   "execution_count": 174,
   "metadata": {},
   "outputs": [
    {
     "data": {
      "text/plain": [
       "0.8955947273722543"
      ]
     },
     "execution_count": 174,
     "metadata": {},
     "output_type": "execute_result"
    }
   ],
   "source": [
    "df_piv_symmetric.iloc[3][10]"
   ]
  },
  {
   "cell_type": "code",
   "execution_count": null,
   "metadata": {},
   "outputs": [],
   "source": []
  }
 ],
 "metadata": {
  "kernelspec": {
   "display_name": "FYP",
   "language": "python",
   "name": "fyp"
  },
  "language_info": {
   "codemirror_mode": {
    "name": "ipython",
    "version": 3
   },
   "file_extension": ".py",
   "mimetype": "text/x-python",
   "name": "python",
   "nbconvert_exporter": "python",
   "pygments_lexer": "ipython3",
   "version": "3.7.3"
  }
 },
 "nbformat": 4,
 "nbformat_minor": 4
}
