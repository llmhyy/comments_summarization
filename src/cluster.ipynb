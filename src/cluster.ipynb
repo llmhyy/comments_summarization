{
 "cells": [
  {
   "cell_type": "code",
   "execution_count": 1,
   "metadata": {},
   "outputs": [],
   "source": [
    "import numpy as np\n",
    "import pandas as pd\n",
    "\n",
    "import scipy\n",
    "from scipy.cluster.hierarchy import dendrogram,linkage\n",
    "from scipy.cluster.hierarchy import fcluster\n",
    "from scipy.cluster.hierarchy import cophenet\n",
    "from scipy.spatial.distance import pdist\n",
    "\n",
    "import matplotlib.pyplot as plt\n",
    "from pylab import rcParams\n",
    "import seaborn as sb\n",
    "\n",
    "import sklearn\n",
    "# from sklearn import datasets\n",
    "from sklearn.cluster import AgglomerativeClustering\n",
    "import sklearn.metrics as sm\n",
    "from sklearn.preprocessing import scale"
   ]
  },
  {
   "cell_type": "code",
   "execution_count": 2,
   "metadata": {},
   "outputs": [],
   "source": [
    "# Configure the output\n",
    "np.set_printoptions(precision=4,suppress=True)\n",
    "%matplotlib inline\n",
    "rcParams[\"figure.figsize\"] =20,10\n",
    "sb.set_style(\"whitegrid\")"
   ]
  },
  {
   "cell_type": "code",
   "execution_count": null,
   "metadata": {},
   "outputs": [],
   "source": [
    "# read_csv to get distance scores of each sentence pair."
   ]
  },
  {
   "cell_type": "code",
   "execution_count": 4,
   "metadata": {
    "collapsed": true,
    "jupyter": {
     "outputs_hidden": true
    }
   },
   "outputs": [
    {
     "ename": "NameError",
     "evalue": "name 'df' is not defined",
     "output_type": "error",
     "traceback": [
      "\u001b[1;31m---------------------------------------------------------------------------\u001b[0m",
      "\u001b[1;31mNameError\u001b[0m                                 Traceback (most recent call last)",
      "\u001b[1;32m<ipython-input-4-1087b6681fe5>\u001b[0m in \u001b[0;36m<module>\u001b[1;34m\u001b[0m\n\u001b[1;32m----> 1\u001b[1;33m \u001b[0mdf_clean\u001b[0m \u001b[1;33m=\u001b[0m \u001b[0mdf\u001b[0m\u001b[1;33m.\u001b[0m\u001b[0mloc\u001b[0m\u001b[1;33m[\u001b[0m\u001b[0mdf\u001b[0m\u001b[1;33m[\u001b[0m\u001b[1;34m'score'\u001b[0m\u001b[1;33m]\u001b[0m \u001b[1;33m!=\u001b[0m \u001b[1;34m'na'\u001b[0m\u001b[1;33m]\u001b[0m\u001b[1;33m\u001b[0m\u001b[1;33m\u001b[0m\u001b[0m\n\u001b[0m\u001b[0;32m      2\u001b[0m \u001b[0mdf_clean\u001b[0m\u001b[1;33m.\u001b[0m\u001b[0mdescribe\u001b[0m\u001b[1;33m(\u001b[0m\u001b[1;33m)\u001b[0m\u001b[1;33m\u001b[0m\u001b[1;33m\u001b[0m\u001b[0m\n",
      "\u001b[1;31mNameError\u001b[0m: name 'df' is not defined"
     ]
    }
   ],
   "source": [
    "df_clean = df.loc[df['score'] != 'na']\n",
    "df_clean.describe()"
   ]
  },
  {
   "cell_type": "code",
   "execution_count": null,
   "metadata": {
    "collapsed": true,
    "jupyter": {
     "outputs_hidden": true
    }
   },
   "outputs": [],
   "source": [
    "df_clean = df_clean.copy()\n",
    "df_clean['dist'] = df_clean['score'].astype(int)\n",
    "df_clean.head()"
   ]
  },
  {
   "cell_type": "code",
   "execution_count": null,
   "metadata": {
    "collapsed": true,
    "jupyter": {
     "outputs_hidden": true
    }
   },
   "outputs": [],
   "source": [
    "df_clean = df_clean.drop(columns=['score'])\n",
    "df_clean.head()"
   ]
  },
  {
   "cell_type": "code",
   "execution_count": null,
   "metadata": {
    "collapsed": true,
    "jupyter": {
     "outputs_hidden": true
    }
   },
   "outputs": [],
   "source": [
    "df_clean.describe()"
   ]
  },
  {
   "cell_type": "markdown",
   "metadata": {},
   "source": [
    "### import from csv instead."
   ]
  },
  {
   "cell_type": "code",
   "execution_count": 37,
   "metadata": {},
   "outputs": [
    {
     "data": {
      "text/html": [
       "<div>\n",
       "<style scoped>\n",
       "    .dataframe tbody tr th:only-of-type {\n",
       "        vertical-align: middle;\n",
       "    }\n",
       "\n",
       "    .dataframe tbody tr th {\n",
       "        vertical-align: top;\n",
       "    }\n",
       "\n",
       "    .dataframe thead th {\n",
       "        text-align: right;\n",
       "    }\n",
       "</style>\n",
       "<table border=\"1\" class=\"dataframe\">\n",
       "  <thead>\n",
       "    <tr style=\"text-align: right;\">\n",
       "      <th></th>\n",
       "      <th>Unnamed: 0</th>\n",
       "      <th>predicted_class</th>\n",
       "      <th>C</th>\n",
       "      <th>N</th>\n",
       "      <th>E</th>\n",
       "      <th>dist</th>\n",
       "    </tr>\n",
       "  </thead>\n",
       "  <tbody>\n",
       "    <tr>\n",
       "      <th>0</th>\n",
       "      <td>0</td>\n",
       "      <td>neutral</td>\n",
       "      <td>0.022798</td>\n",
       "      <td>0.880442</td>\n",
       "      <td>0.096760</td>\n",
       "      <td>0.450491</td>\n",
       "    </tr>\n",
       "    <tr>\n",
       "      <th>1</th>\n",
       "      <td>1</td>\n",
       "      <td>entailment</td>\n",
       "      <td>0.001746</td>\n",
       "      <td>0.039801</td>\n",
       "      <td>0.958454</td>\n",
       "      <td>0.019935</td>\n",
       "    </tr>\n",
       "    <tr>\n",
       "      <th>2</th>\n",
       "      <td>2</td>\n",
       "      <td>neutral</td>\n",
       "      <td>0.004882</td>\n",
       "      <td>0.990273</td>\n",
       "      <td>0.004845</td>\n",
       "      <td>0.497565</td>\n",
       "    </tr>\n",
       "    <tr>\n",
       "      <th>3</th>\n",
       "      <td>3</td>\n",
       "      <td>neutral</td>\n",
       "      <td>0.052050</td>\n",
       "      <td>0.944104</td>\n",
       "      <td>0.003846</td>\n",
       "      <td>0.497971</td>\n",
       "    </tr>\n",
       "    <tr>\n",
       "      <th>4</th>\n",
       "      <td>4</td>\n",
       "      <td>entailment</td>\n",
       "      <td>0.001493</td>\n",
       "      <td>0.161846</td>\n",
       "      <td>0.836661</td>\n",
       "      <td>0.081044</td>\n",
       "    </tr>\n",
       "  </tbody>\n",
       "</table>\n",
       "</div>"
      ],
      "text/plain": [
       "   Unnamed: 0 predicted_class         C         N         E      dist\n",
       "0           0         neutral  0.022798  0.880442  0.096760  0.450491\n",
       "1           1      entailment  0.001746  0.039801  0.958454  0.019935\n",
       "2           2         neutral  0.004882  0.990273  0.004845  0.497565\n",
       "3           3         neutral  0.052050  0.944104  0.003846  0.497971\n",
       "4           4      entailment  0.001493  0.161846  0.836661  0.081044"
      ]
     },
     "metadata": {},
     "output_type": "display_data"
    },
    {
     "data": {
      "text/html": [
       "<div>\n",
       "<style scoped>\n",
       "    .dataframe tbody tr th:only-of-type {\n",
       "        vertical-align: middle;\n",
       "    }\n",
       "\n",
       "    .dataframe tbody tr th {\n",
       "        vertical-align: top;\n",
       "    }\n",
       "\n",
       "    .dataframe thead th {\n",
       "        text-align: right;\n",
       "    }\n",
       "</style>\n",
       "<table border=\"1\" class=\"dataframe\">\n",
       "  <thead>\n",
       "    <tr style=\"text-align: right;\">\n",
       "      <th></th>\n",
       "      <th>Unnamed: 0</th>\n",
       "      <th>first</th>\n",
       "      <th>second</th>\n",
       "    </tr>\n",
       "  </thead>\n",
       "  <tbody>\n",
       "    <tr>\n",
       "      <th>0</th>\n",
       "      <td>0</td>\n",
       "      <td>You never give up.</td>\n",
       "      <td>You never find it difficult to change your min...</td>\n",
       "    </tr>\n",
       "    <tr>\n",
       "      <th>1</th>\n",
       "      <td>1</td>\n",
       "      <td>You never give up.</td>\n",
       "      <td>Whatever you have set your sights on, you refu...</td>\n",
       "    </tr>\n",
       "    <tr>\n",
       "      <th>2</th>\n",
       "      <td>2</td>\n",
       "      <td>You never give up.</td>\n",
       "      <td>You are patient unless someone takes you too far.</td>\n",
       "    </tr>\n",
       "    <tr>\n",
       "      <th>3</th>\n",
       "      <td>3</td>\n",
       "      <td>You never give up.</td>\n",
       "      <td>You are usually slow to anger unless someone t...</td>\n",
       "    </tr>\n",
       "    <tr>\n",
       "      <th>4</th>\n",
       "      <td>4</td>\n",
       "      <td>You never give up.</td>\n",
       "      <td>You are reliable.</td>\n",
       "    </tr>\n",
       "  </tbody>\n",
       "</table>\n",
       "</div>"
      ],
      "text/plain": [
       "   Unnamed: 0               first  \\\n",
       "0           0  You never give up.   \n",
       "1           1  You never give up.   \n",
       "2           2  You never give up.   \n",
       "3           3  You never give up.   \n",
       "4           4  You never give up.   \n",
       "\n",
       "                                              second  \n",
       "0  You never find it difficult to change your min...  \n",
       "1  Whatever you have set your sights on, you refu...  \n",
       "2  You are patient unless someone takes you too far.  \n",
       "3  You are usually slow to anger unless someone t...  \n",
       "4                                  You are reliable.  "
      ]
     },
     "metadata": {},
     "output_type": "display_data"
    }
   ],
   "source": [
    "df_clean = pd.read_csv(\"../data/roberta/Astro1_decomposed_clean_pairs_roberta_distances.csv\")\n",
    "df_pairs = pd.read_csv(\"../data/Astro1_decomposed_clean_pairs.csv\")\n",
    "display(df_clean.head(), df_pairs.head())"
   ]
  },
  {
   "cell_type": "code",
   "execution_count": 38,
   "metadata": {},
   "outputs": [
    {
     "data": {
      "text/html": [
       "<div>\n",
       "<style scoped>\n",
       "    .dataframe tbody tr th:only-of-type {\n",
       "        vertical-align: middle;\n",
       "    }\n",
       "\n",
       "    .dataframe tbody tr th {\n",
       "        vertical-align: top;\n",
       "    }\n",
       "\n",
       "    .dataframe thead th {\n",
       "        text-align: right;\n",
       "    }\n",
       "</style>\n",
       "<table border=\"1\" class=\"dataframe\">\n",
       "  <thead>\n",
       "    <tr style=\"text-align: right;\">\n",
       "      <th></th>\n",
       "      <th>predicted_class</th>\n",
       "      <th>C</th>\n",
       "      <th>N</th>\n",
       "      <th>E</th>\n",
       "      <th>dist</th>\n",
       "    </tr>\n",
       "  </thead>\n",
       "  <tbody>\n",
       "    <tr>\n",
       "      <th>0</th>\n",
       "      <td>neutral</td>\n",
       "      <td>0.022798</td>\n",
       "      <td>0.880442</td>\n",
       "      <td>0.096760</td>\n",
       "      <td>0.450491</td>\n",
       "    </tr>\n",
       "    <tr>\n",
       "      <th>1</th>\n",
       "      <td>entailment</td>\n",
       "      <td>0.001746</td>\n",
       "      <td>0.039801</td>\n",
       "      <td>0.958454</td>\n",
       "      <td>0.019935</td>\n",
       "    </tr>\n",
       "    <tr>\n",
       "      <th>2</th>\n",
       "      <td>neutral</td>\n",
       "      <td>0.004882</td>\n",
       "      <td>0.990273</td>\n",
       "      <td>0.004845</td>\n",
       "      <td>0.497565</td>\n",
       "    </tr>\n",
       "    <tr>\n",
       "      <th>3</th>\n",
       "      <td>neutral</td>\n",
       "      <td>0.052050</td>\n",
       "      <td>0.944104</td>\n",
       "      <td>0.003846</td>\n",
       "      <td>0.497971</td>\n",
       "    </tr>\n",
       "    <tr>\n",
       "      <th>4</th>\n",
       "      <td>entailment</td>\n",
       "      <td>0.001493</td>\n",
       "      <td>0.161846</td>\n",
       "      <td>0.836661</td>\n",
       "      <td>0.081044</td>\n",
       "    </tr>\n",
       "  </tbody>\n",
       "</table>\n",
       "</div>"
      ],
      "text/plain": [
       "  predicted_class         C         N         E      dist\n",
       "0         neutral  0.022798  0.880442  0.096760  0.450491\n",
       "1      entailment  0.001746  0.039801  0.958454  0.019935\n",
       "2         neutral  0.004882  0.990273  0.004845  0.497565\n",
       "3         neutral  0.052050  0.944104  0.003846  0.497971\n",
       "4      entailment  0.001493  0.161846  0.836661  0.081044"
      ]
     },
     "metadata": {},
     "output_type": "display_data"
    },
    {
     "data": {
      "text/html": [
       "<div>\n",
       "<style scoped>\n",
       "    .dataframe tbody tr th:only-of-type {\n",
       "        vertical-align: middle;\n",
       "    }\n",
       "\n",
       "    .dataframe tbody tr th {\n",
       "        vertical-align: top;\n",
       "    }\n",
       "\n",
       "    .dataframe thead th {\n",
       "        text-align: right;\n",
       "    }\n",
       "</style>\n",
       "<table border=\"1\" class=\"dataframe\">\n",
       "  <thead>\n",
       "    <tr style=\"text-align: right;\">\n",
       "      <th></th>\n",
       "      <th>first</th>\n",
       "      <th>second</th>\n",
       "    </tr>\n",
       "  </thead>\n",
       "  <tbody>\n",
       "    <tr>\n",
       "      <th>0</th>\n",
       "      <td>You never give up.</td>\n",
       "      <td>You never find it difficult to change your min...</td>\n",
       "    </tr>\n",
       "    <tr>\n",
       "      <th>1</th>\n",
       "      <td>You never give up.</td>\n",
       "      <td>Whatever you have set your sights on, you refu...</td>\n",
       "    </tr>\n",
       "    <tr>\n",
       "      <th>2</th>\n",
       "      <td>You never give up.</td>\n",
       "      <td>You are patient unless someone takes you too far.</td>\n",
       "    </tr>\n",
       "    <tr>\n",
       "      <th>3</th>\n",
       "      <td>You never give up.</td>\n",
       "      <td>You are usually slow to anger unless someone t...</td>\n",
       "    </tr>\n",
       "    <tr>\n",
       "      <th>4</th>\n",
       "      <td>You never give up.</td>\n",
       "      <td>You are reliable.</td>\n",
       "    </tr>\n",
       "  </tbody>\n",
       "</table>\n",
       "</div>"
      ],
      "text/plain": [
       "                first                                             second\n",
       "0  You never give up.  You never find it difficult to change your min...\n",
       "1  You never give up.  Whatever you have set your sights on, you refu...\n",
       "2  You never give up.  You are patient unless someone takes you too far.\n",
       "3  You never give up.  You are usually slow to anger unless someone t...\n",
       "4  You never give up.                                  You are reliable."
      ]
     },
     "metadata": {},
     "output_type": "display_data"
    }
   ],
   "source": [
    "df_clean = df_clean.drop(columns=[\"Unnamed: 0\"])\n",
    "df_pairs = df_pairs.drop(columns=[\"Unnamed: 0\"])\n",
    "display(df_clean.head(), df_pairs.head())"
   ]
  },
  {
   "cell_type": "code",
   "execution_count": 39,
   "metadata": {},
   "outputs": [],
   "source": [
    "df_pairs = df_pairs.assign(dist=df_clean['dist'])"
   ]
  },
  {
   "cell_type": "code",
   "execution_count": 40,
   "metadata": {},
   "outputs": [
    {
     "data": {
      "text/html": [
       "<div>\n",
       "<style scoped>\n",
       "    .dataframe tbody tr th:only-of-type {\n",
       "        vertical-align: middle;\n",
       "    }\n",
       "\n",
       "    .dataframe tbody tr th {\n",
       "        vertical-align: top;\n",
       "    }\n",
       "\n",
       "    .dataframe thead th {\n",
       "        text-align: right;\n",
       "    }\n",
       "</style>\n",
       "<table border=\"1\" class=\"dataframe\">\n",
       "  <thead>\n",
       "    <tr style=\"text-align: right;\">\n",
       "      <th></th>\n",
       "      <th>first</th>\n",
       "      <th>second</th>\n",
       "      <th>dist</th>\n",
       "    </tr>\n",
       "  </thead>\n",
       "  <tbody>\n",
       "    <tr>\n",
       "      <th>0</th>\n",
       "      <td>You never give up.</td>\n",
       "      <td>You never find it difficult to change your min...</td>\n",
       "      <td>0.450491</td>\n",
       "    </tr>\n",
       "    <tr>\n",
       "      <th>1</th>\n",
       "      <td>You never give up.</td>\n",
       "      <td>Whatever you have set your sights on, you refu...</td>\n",
       "      <td>0.019935</td>\n",
       "    </tr>\n",
       "    <tr>\n",
       "      <th>2</th>\n",
       "      <td>You never give up.</td>\n",
       "      <td>You are patient unless someone takes you too far.</td>\n",
       "      <td>0.497565</td>\n",
       "    </tr>\n",
       "    <tr>\n",
       "      <th>3</th>\n",
       "      <td>You never give up.</td>\n",
       "      <td>You are usually slow to anger unless someone t...</td>\n",
       "      <td>0.497971</td>\n",
       "    </tr>\n",
       "    <tr>\n",
       "      <th>4</th>\n",
       "      <td>You never give up.</td>\n",
       "      <td>You are reliable.</td>\n",
       "      <td>0.081044</td>\n",
       "    </tr>\n",
       "  </tbody>\n",
       "</table>\n",
       "</div>"
      ],
      "text/plain": [
       "                first                                             second  \\\n",
       "0  You never give up.  You never find it difficult to change your min...   \n",
       "1  You never give up.  Whatever you have set your sights on, you refu...   \n",
       "2  You never give up.  You are patient unless someone takes you too far.   \n",
       "3  You never give up.  You are usually slow to anger unless someone t...   \n",
       "4  You never give up.                                  You are reliable.   \n",
       "\n",
       "       dist  \n",
       "0  0.450491  \n",
       "1  0.019935  \n",
       "2  0.497565  \n",
       "3  0.497971  \n",
       "4  0.081044  "
      ]
     },
     "execution_count": 40,
     "metadata": {},
     "output_type": "execute_result"
    }
   ],
   "source": [
    "df_pairs.head()"
   ]
  },
  {
   "cell_type": "code",
   "execution_count": 3,
   "metadata": {},
   "outputs": [
    {
     "data": {
      "text/html": [
       "<div>\n",
       "<style scoped>\n",
       "    .dataframe tbody tr th:only-of-type {\n",
       "        vertical-align: middle;\n",
       "    }\n",
       "\n",
       "    .dataframe tbody tr th {\n",
       "        vertical-align: top;\n",
       "    }\n",
       "\n",
       "    .dataframe thead th {\n",
       "        text-align: right;\n",
       "    }\n",
       "</style>\n",
       "<table border=\"1\" class=\"dataframe\">\n",
       "  <thead>\n",
       "    <tr style=\"text-align: right;\">\n",
       "      <th></th>\n",
       "      <th>Unnamed: 0</th>\n",
       "      <th>first</th>\n",
       "      <th>second</th>\n",
       "      <th>first_index</th>\n",
       "      <th>second_index</th>\n",
       "      <th>C1</th>\n",
       "      <th>N1</th>\n",
       "      <th>E1</th>\n",
       "      <th>C2</th>\n",
       "      <th>N2</th>\n",
       "      <th>E2</th>\n",
       "      <th>dist</th>\n",
       "    </tr>\n",
       "  </thead>\n",
       "  <tbody>\n",
       "    <tr>\n",
       "      <th>0</th>\n",
       "      <td>0</td>\n",
       "      <td>People with Virgo rising tend to be practical,...</td>\n",
       "      <td>You have an ingenious mind.</td>\n",
       "      <td>0</td>\n",
       "      <td>1</td>\n",
       "      <td>0.014990</td>\n",
       "      <td>0.901193</td>\n",
       "      <td>0.083817</td>\n",
       "      <td>0.168603</td>\n",
       "      <td>0.702198</td>\n",
       "      <td>0.129199</td>\n",
       "      <td>0.457454</td>\n",
       "    </tr>\n",
       "    <tr>\n",
       "      <th>1</th>\n",
       "      <td>1</td>\n",
       "      <td>People with Virgo rising tend to be practical,...</td>\n",
       "      <td>You have an active mind.</td>\n",
       "      <td>0</td>\n",
       "      <td>2</td>\n",
       "      <td>0.021296</td>\n",
       "      <td>0.439075</td>\n",
       "      <td>0.539628</td>\n",
       "      <td>0.890627</td>\n",
       "      <td>0.093778</td>\n",
       "      <td>0.015595</td>\n",
       "      <td>0.890627</td>\n",
       "    </tr>\n",
       "    <tr>\n",
       "      <th>2</th>\n",
       "      <td>2</td>\n",
       "      <td>People with Virgo rising tend to be practical,...</td>\n",
       "      <td>You have an alert mind.</td>\n",
       "      <td>0</td>\n",
       "      <td>3</td>\n",
       "      <td>0.002648</td>\n",
       "      <td>0.244821</td>\n",
       "      <td>0.752531</td>\n",
       "      <td>0.061536</td>\n",
       "      <td>0.715761</td>\n",
       "      <td>0.222702</td>\n",
       "      <td>0.122736</td>\n",
       "    </tr>\n",
       "    <tr>\n",
       "      <th>3</th>\n",
       "      <td>3</td>\n",
       "      <td>People with Virgo rising tend to be practical,...</td>\n",
       "      <td>Gaining knowledge and putting it to good use a...</td>\n",
       "      <td>0</td>\n",
       "      <td>4</td>\n",
       "      <td>0.001137</td>\n",
       "      <td>0.633402</td>\n",
       "      <td>0.365460</td>\n",
       "      <td>0.029134</td>\n",
       "      <td>0.667270</td>\n",
       "      <td>0.303596</td>\n",
       "      <td>0.343647</td>\n",
       "    </tr>\n",
       "    <tr>\n",
       "      <th>4</th>\n",
       "      <td>4</td>\n",
       "      <td>People with Virgo rising tend to be practical,...</td>\n",
       "      <td>You strive for perfection.</td>\n",
       "      <td>0</td>\n",
       "      <td>5</td>\n",
       "      <td>0.001929</td>\n",
       "      <td>0.536462</td>\n",
       "      <td>0.461609</td>\n",
       "      <td>0.041221</td>\n",
       "      <td>0.582456</td>\n",
       "      <td>0.376323</td>\n",
       "      <td>0.303749</td>\n",
       "    </tr>\n",
       "  </tbody>\n",
       "</table>\n",
       "</div>"
      ],
      "text/plain": [
       "   Unnamed: 0                                              first  \\\n",
       "0           0  People with Virgo rising tend to be practical,...   \n",
       "1           1  People with Virgo rising tend to be practical,...   \n",
       "2           2  People with Virgo rising tend to be practical,...   \n",
       "3           3  People with Virgo rising tend to be practical,...   \n",
       "4           4  People with Virgo rising tend to be practical,...   \n",
       "\n",
       "                                              second  first_index  \\\n",
       "0                        You have an ingenious mind.            0   \n",
       "1                           You have an active mind.            0   \n",
       "2                            You have an alert mind.            0   \n",
       "3  Gaining knowledge and putting it to good use a...            0   \n",
       "4                         You strive for perfection.            0   \n",
       "\n",
       "   second_index        C1        N1        E1        C2        N2        E2  \\\n",
       "0             1  0.014990  0.901193  0.083817  0.168603  0.702198  0.129199   \n",
       "1             2  0.021296  0.439075  0.539628  0.890627  0.093778  0.015595   \n",
       "2             3  0.002648  0.244821  0.752531  0.061536  0.715761  0.222702   \n",
       "3             4  0.001137  0.633402  0.365460  0.029134  0.667270  0.303596   \n",
       "4             5  0.001929  0.536462  0.461609  0.041221  0.582456  0.376323   \n",
       "\n",
       "       dist  \n",
       "0  0.457454  \n",
       "1  0.890627  \n",
       "2  0.122736  \n",
       "3  0.343647  \n",
       "4  0.303749  "
      ]
     },
     "execution_count": 3,
     "metadata": {},
     "output_type": "execute_result"
    }
   ],
   "source": [
    "df_pairs = pd.read_csv(\"../data/astro0/astro0_decomposed_processed_pairs.csv\")\n",
    "df_pairs.head()"
   ]
  },
  {
   "cell_type": "markdown",
   "metadata": {},
   "source": [
    "### actual processing begins here."
   ]
  },
  {
   "cell_type": "code",
   "execution_count": 6,
   "metadata": {},
   "outputs": [
    {
     "name": "stdout",
     "output_type": "stream",
     "text": [
      "88\n"
     ]
    }
   ],
   "source": [
    "# convert this original dataframe to a 'square' distance matrix.\n",
    "# we utilise a pivot table to do this\n",
    "\n",
    "# first, add the redundant pairs (two of the same sentences) to the data.\n",
    "# we need this for the pivot function to generate the correct indices and columns.\n",
    "first = np.unique(df_pairs['first_index'].values)\n",
    "second = np.unique(df_pairs['second_index'].values)\n",
    "combined_arr = np.concatenate((first, second))\n",
    "sentences = np.unique(combined_arr)\n",
    "print(len(sentences))"
   ]
  },
  {
   "cell_type": "code",
   "execution_count": 9,
   "metadata": {
    "scrolled": true
   },
   "outputs": [
    {
     "name": "stdout",
     "output_type": "stream",
     "text": [
      "[[ 0  0  0]\n",
      " [ 1  1  0]\n",
      " [ 2  2  0]\n",
      " [ 3  3  0]\n",
      " [ 4  4  0]\n",
      " [ 5  5  0]\n",
      " [ 6  6  0]\n",
      " [ 7  7  0]\n",
      " [ 8  8  0]\n",
      " [ 9  9  0]\n",
      " [10 10  0]\n",
      " [11 11  0]\n",
      " [12 12  0]\n",
      " [13 13  0]\n",
      " [14 14  0]\n",
      " [15 15  0]\n",
      " [16 16  0]\n",
      " [17 17  0]\n",
      " [18 18  0]\n",
      " [19 19  0]\n",
      " [20 20  0]\n",
      " [21 21  0]\n",
      " [22 22  0]\n",
      " [23 23  0]\n",
      " [24 24  0]\n",
      " [25 25  0]\n",
      " [26 26  0]\n",
      " [27 27  0]\n",
      " [28 28  0]\n",
      " [29 29  0]\n",
      " [30 30  0]\n",
      " [31 31  0]\n",
      " [32 32  0]\n",
      " [33 33  0]\n",
      " [34 34  0]\n",
      " [35 35  0]\n",
      " [36 36  0]\n",
      " [37 37  0]\n",
      " [38 38  0]\n",
      " [39 39  0]\n",
      " [40 40  0]\n",
      " [41 41  0]\n",
      " [42 42  0]\n",
      " [43 43  0]\n",
      " [44 44  0]\n",
      " [45 45  0]\n",
      " [46 46  0]\n",
      " [47 47  0]\n",
      " [48 48  0]\n",
      " [49 49  0]\n",
      " [50 50  0]\n",
      " [51 51  0]\n",
      " [52 52  0]\n",
      " [53 53  0]\n",
      " [54 54  0]\n",
      " [55 55  0]\n",
      " [56 56  0]\n",
      " [57 57  0]\n",
      " [58 58  0]\n",
      " [59 59  0]\n",
      " [60 60  0]\n",
      " [61 61  0]\n",
      " [62 62  0]\n",
      " [63 63  0]\n",
      " [64 64  0]\n",
      " [65 65  0]\n",
      " [66 66  0]\n",
      " [67 67  0]\n",
      " [68 68  0]\n",
      " [69 69  0]\n",
      " [70 70  0]\n",
      " [71 71  0]\n",
      " [72 72  0]\n",
      " [73 73  0]\n",
      " [74 74  0]\n",
      " [75 75  0]\n",
      " [76 76  0]\n",
      " [77 77  0]\n",
      " [78 78  0]\n",
      " [79 79  0]\n",
      " [80 80  0]\n",
      " [81 81  0]\n",
      " [82 82  0]\n",
      " [83 83  0]\n",
      " [84 84  0]\n",
      " [85 85  0]\n",
      " [86 86  0]\n",
      " [87 87  0]]\n"
     ]
    }
   ],
   "source": [
    "#add_data = np.column_stack([np.zeros(len(sentences)), np.zeros(len(sentences)), np.zeros(len(sentences)), np.zeros(len(sentences)), sentences, sentences, np.zeros(len(sentences))])\n",
    "add_data = np.column_stack([sentences, sentences, np.zeros(len(sentences))])\n",
    "add_data = add_data.astype(np.int)\n",
    "\n",
    "print(add_data)"
   ]
  },
  {
   "cell_type": "code",
   "execution_count": 10,
   "metadata": {},
   "outputs": [
    {
     "data": {
      "text/html": [
       "<div>\n",
       "<style scoped>\n",
       "    .dataframe tbody tr th:only-of-type {\n",
       "        vertical-align: middle;\n",
       "    }\n",
       "\n",
       "    .dataframe tbody tr th {\n",
       "        vertical-align: top;\n",
       "    }\n",
       "\n",
       "    .dataframe thead th {\n",
       "        text-align: right;\n",
       "    }\n",
       "</style>\n",
       "<table border=\"1\" class=\"dataframe\">\n",
       "  <thead>\n",
       "    <tr style=\"text-align: right;\">\n",
       "      <th></th>\n",
       "      <th>first_index</th>\n",
       "      <th>second_index</th>\n",
       "      <th>dist</th>\n",
       "    </tr>\n",
       "  </thead>\n",
       "  <tbody>\n",
       "    <tr>\n",
       "      <th>0</th>\n",
       "      <td>0</td>\n",
       "      <td>0</td>\n",
       "      <td>0</td>\n",
       "    </tr>\n",
       "    <tr>\n",
       "      <th>1</th>\n",
       "      <td>1</td>\n",
       "      <td>1</td>\n",
       "      <td>0</td>\n",
       "    </tr>\n",
       "    <tr>\n",
       "      <th>2</th>\n",
       "      <td>2</td>\n",
       "      <td>2</td>\n",
       "      <td>0</td>\n",
       "    </tr>\n",
       "    <tr>\n",
       "      <th>3</th>\n",
       "      <td>3</td>\n",
       "      <td>3</td>\n",
       "      <td>0</td>\n",
       "    </tr>\n",
       "    <tr>\n",
       "      <th>4</th>\n",
       "      <td>4</td>\n",
       "      <td>4</td>\n",
       "      <td>0</td>\n",
       "    </tr>\n",
       "  </tbody>\n",
       "</table>\n",
       "</div>"
      ],
      "text/plain": [
       "   first_index  second_index  dist\n",
       "0            0             0     0\n",
       "1            1             1     0\n",
       "2            2             2     0\n",
       "3            3             3     0\n",
       "4            4             4     0"
      ]
     },
     "execution_count": 10,
     "metadata": {},
     "output_type": "execute_result"
    }
   ],
   "source": [
    "add_df = pd.DataFrame(data=add_data, columns=['first_index','second_index','dist'])\n",
    "add_df.head()"
   ]
  },
  {
   "cell_type": "code",
   "execution_count": 11,
   "metadata": {},
   "outputs": [
    {
     "data": {
      "text/html": [
       "<div>\n",
       "<style scoped>\n",
       "    .dataframe tbody tr th:only-of-type {\n",
       "        vertical-align: middle;\n",
       "    }\n",
       "\n",
       "    .dataframe tbody tr th {\n",
       "        vertical-align: top;\n",
       "    }\n",
       "\n",
       "    .dataframe thead th {\n",
       "        text-align: right;\n",
       "    }\n",
       "</style>\n",
       "<table border=\"1\" class=\"dataframe\">\n",
       "  <thead>\n",
       "    <tr style=\"text-align: right;\">\n",
       "      <th></th>\n",
       "      <th>Unnamed: 0</th>\n",
       "      <th>first</th>\n",
       "      <th>second</th>\n",
       "      <th>first_index</th>\n",
       "      <th>second_index</th>\n",
       "      <th>C1</th>\n",
       "      <th>N1</th>\n",
       "      <th>E1</th>\n",
       "      <th>C2</th>\n",
       "      <th>N2</th>\n",
       "      <th>E2</th>\n",
       "      <th>dist</th>\n",
       "    </tr>\n",
       "  </thead>\n",
       "  <tbody>\n",
       "    <tr>\n",
       "      <th>3911</th>\n",
       "      <td>NaN</td>\n",
       "      <td>NaN</td>\n",
       "      <td>NaN</td>\n",
       "      <td>83</td>\n",
       "      <td>83</td>\n",
       "      <td>NaN</td>\n",
       "      <td>NaN</td>\n",
       "      <td>NaN</td>\n",
       "      <td>NaN</td>\n",
       "      <td>NaN</td>\n",
       "      <td>NaN</td>\n",
       "      <td>0.0</td>\n",
       "    </tr>\n",
       "    <tr>\n",
       "      <th>3912</th>\n",
       "      <td>NaN</td>\n",
       "      <td>NaN</td>\n",
       "      <td>NaN</td>\n",
       "      <td>84</td>\n",
       "      <td>84</td>\n",
       "      <td>NaN</td>\n",
       "      <td>NaN</td>\n",
       "      <td>NaN</td>\n",
       "      <td>NaN</td>\n",
       "      <td>NaN</td>\n",
       "      <td>NaN</td>\n",
       "      <td>0.0</td>\n",
       "    </tr>\n",
       "    <tr>\n",
       "      <th>3913</th>\n",
       "      <td>NaN</td>\n",
       "      <td>NaN</td>\n",
       "      <td>NaN</td>\n",
       "      <td>85</td>\n",
       "      <td>85</td>\n",
       "      <td>NaN</td>\n",
       "      <td>NaN</td>\n",
       "      <td>NaN</td>\n",
       "      <td>NaN</td>\n",
       "      <td>NaN</td>\n",
       "      <td>NaN</td>\n",
       "      <td>0.0</td>\n",
       "    </tr>\n",
       "    <tr>\n",
       "      <th>3914</th>\n",
       "      <td>NaN</td>\n",
       "      <td>NaN</td>\n",
       "      <td>NaN</td>\n",
       "      <td>86</td>\n",
       "      <td>86</td>\n",
       "      <td>NaN</td>\n",
       "      <td>NaN</td>\n",
       "      <td>NaN</td>\n",
       "      <td>NaN</td>\n",
       "      <td>NaN</td>\n",
       "      <td>NaN</td>\n",
       "      <td>0.0</td>\n",
       "    </tr>\n",
       "    <tr>\n",
       "      <th>3915</th>\n",
       "      <td>NaN</td>\n",
       "      <td>NaN</td>\n",
       "      <td>NaN</td>\n",
       "      <td>87</td>\n",
       "      <td>87</td>\n",
       "      <td>NaN</td>\n",
       "      <td>NaN</td>\n",
       "      <td>NaN</td>\n",
       "      <td>NaN</td>\n",
       "      <td>NaN</td>\n",
       "      <td>NaN</td>\n",
       "      <td>0.0</td>\n",
       "    </tr>\n",
       "  </tbody>\n",
       "</table>\n",
       "</div>"
      ],
      "text/plain": [
       "      Unnamed: 0 first second  first_index  second_index  C1  N1  E1  C2  N2  \\\n",
       "3911         NaN   NaN    NaN           83            83 NaN NaN NaN NaN NaN   \n",
       "3912         NaN   NaN    NaN           84            84 NaN NaN NaN NaN NaN   \n",
       "3913         NaN   NaN    NaN           85            85 NaN NaN NaN NaN NaN   \n",
       "3914         NaN   NaN    NaN           86            86 NaN NaN NaN NaN NaN   \n",
       "3915         NaN   NaN    NaN           87            87 NaN NaN NaN NaN NaN   \n",
       "\n",
       "      E2  dist  \n",
       "3911 NaN   0.0  \n",
       "3912 NaN   0.0  \n",
       "3913 NaN   0.0  \n",
       "3914 NaN   0.0  \n",
       "3915 NaN   0.0  "
      ]
     },
     "execution_count": 11,
     "metadata": {},
     "output_type": "execute_result"
    }
   ],
   "source": [
    "df_pairs = df_pairs.append(add_df, ignore_index=True)"
   ]
  },
  {
   "cell_type": "code",
   "execution_count": 12,
   "metadata": {},
   "outputs": [
    {
     "data": {
      "text/html": [
       "<div>\n",
       "<style scoped>\n",
       "    .dataframe tbody tr th:only-of-type {\n",
       "        vertical-align: middle;\n",
       "    }\n",
       "\n",
       "    .dataframe tbody tr th {\n",
       "        vertical-align: top;\n",
       "    }\n",
       "\n",
       "    .dataframe thead th {\n",
       "        text-align: right;\n",
       "    }\n",
       "</style>\n",
       "<table border=\"1\" class=\"dataframe\">\n",
       "  <thead>\n",
       "    <tr style=\"text-align: right;\">\n",
       "      <th></th>\n",
       "      <th>Unnamed: 0</th>\n",
       "      <th>first</th>\n",
       "      <th>second</th>\n",
       "      <th>first_index</th>\n",
       "      <th>second_index</th>\n",
       "      <th>C1</th>\n",
       "      <th>N1</th>\n",
       "      <th>E1</th>\n",
       "      <th>C2</th>\n",
       "      <th>N2</th>\n",
       "      <th>E2</th>\n",
       "      <th>dist</th>\n",
       "    </tr>\n",
       "  </thead>\n",
       "  <tbody>\n",
       "    <tr>\n",
       "      <th>0</th>\n",
       "      <td>0.0</td>\n",
       "      <td>People with Virgo rising tend to be practical,...</td>\n",
       "      <td>You have an ingenious mind.</td>\n",
       "      <td>0</td>\n",
       "      <td>1</td>\n",
       "      <td>0.014990</td>\n",
       "      <td>0.901193</td>\n",
       "      <td>0.083817</td>\n",
       "      <td>0.168603</td>\n",
       "      <td>0.702198</td>\n",
       "      <td>0.129199</td>\n",
       "      <td>0.457454</td>\n",
       "    </tr>\n",
       "    <tr>\n",
       "      <th>1</th>\n",
       "      <td>1.0</td>\n",
       "      <td>People with Virgo rising tend to be practical,...</td>\n",
       "      <td>You have an active mind.</td>\n",
       "      <td>0</td>\n",
       "      <td>2</td>\n",
       "      <td>0.021296</td>\n",
       "      <td>0.439075</td>\n",
       "      <td>0.539628</td>\n",
       "      <td>0.890627</td>\n",
       "      <td>0.093778</td>\n",
       "      <td>0.015595</td>\n",
       "      <td>0.890627</td>\n",
       "    </tr>\n",
       "    <tr>\n",
       "      <th>2</th>\n",
       "      <td>2.0</td>\n",
       "      <td>People with Virgo rising tend to be practical,...</td>\n",
       "      <td>You have an alert mind.</td>\n",
       "      <td>0</td>\n",
       "      <td>3</td>\n",
       "      <td>0.002648</td>\n",
       "      <td>0.244821</td>\n",
       "      <td>0.752531</td>\n",
       "      <td>0.061536</td>\n",
       "      <td>0.715761</td>\n",
       "      <td>0.222702</td>\n",
       "      <td>0.122736</td>\n",
       "    </tr>\n",
       "    <tr>\n",
       "      <th>3</th>\n",
       "      <td>3.0</td>\n",
       "      <td>People with Virgo rising tend to be practical,...</td>\n",
       "      <td>Gaining knowledge and putting it to good use a...</td>\n",
       "      <td>0</td>\n",
       "      <td>4</td>\n",
       "      <td>0.001137</td>\n",
       "      <td>0.633402</td>\n",
       "      <td>0.365460</td>\n",
       "      <td>0.029134</td>\n",
       "      <td>0.667270</td>\n",
       "      <td>0.303596</td>\n",
       "      <td>0.343647</td>\n",
       "    </tr>\n",
       "    <tr>\n",
       "      <th>4</th>\n",
       "      <td>4.0</td>\n",
       "      <td>People with Virgo rising tend to be practical,...</td>\n",
       "      <td>You strive for perfection.</td>\n",
       "      <td>0</td>\n",
       "      <td>5</td>\n",
       "      <td>0.001929</td>\n",
       "      <td>0.536462</td>\n",
       "      <td>0.461609</td>\n",
       "      <td>0.041221</td>\n",
       "      <td>0.582456</td>\n",
       "      <td>0.376323</td>\n",
       "      <td>0.303749</td>\n",
       "    </tr>\n",
       "  </tbody>\n",
       "</table>\n",
       "</div>"
      ],
      "text/plain": [
       "   Unnamed: 0                                              first  \\\n",
       "0         0.0  People with Virgo rising tend to be practical,...   \n",
       "1         1.0  People with Virgo rising tend to be practical,...   \n",
       "2         2.0  People with Virgo rising tend to be practical,...   \n",
       "3         3.0  People with Virgo rising tend to be practical,...   \n",
       "4         4.0  People with Virgo rising tend to be practical,...   \n",
       "\n",
       "                                              second  first_index  \\\n",
       "0                        You have an ingenious mind.            0   \n",
       "1                           You have an active mind.            0   \n",
       "2                            You have an alert mind.            0   \n",
       "3  Gaining knowledge and putting it to good use a...            0   \n",
       "4                         You strive for perfection.            0   \n",
       "\n",
       "   second_index        C1        N1        E1        C2        N2        E2  \\\n",
       "0             1  0.014990  0.901193  0.083817  0.168603  0.702198  0.129199   \n",
       "1             2  0.021296  0.439075  0.539628  0.890627  0.093778  0.015595   \n",
       "2             3  0.002648  0.244821  0.752531  0.061536  0.715761  0.222702   \n",
       "3             4  0.001137  0.633402  0.365460  0.029134  0.667270  0.303596   \n",
       "4             5  0.001929  0.536462  0.461609  0.041221  0.582456  0.376323   \n",
       "\n",
       "       dist  \n",
       "0  0.457454  \n",
       "1  0.890627  \n",
       "2  0.122736  \n",
       "3  0.343647  \n",
       "4  0.303749  "
      ]
     },
     "metadata": {},
     "output_type": "display_data"
    },
    {
     "data": {
      "text/html": [
       "<div>\n",
       "<style scoped>\n",
       "    .dataframe tbody tr th:only-of-type {\n",
       "        vertical-align: middle;\n",
       "    }\n",
       "\n",
       "    .dataframe tbody tr th {\n",
       "        vertical-align: top;\n",
       "    }\n",
       "\n",
       "    .dataframe thead th {\n",
       "        text-align: right;\n",
       "    }\n",
       "</style>\n",
       "<table border=\"1\" class=\"dataframe\">\n",
       "  <thead>\n",
       "    <tr style=\"text-align: right;\">\n",
       "      <th></th>\n",
       "      <th>Unnamed: 0</th>\n",
       "      <th>first</th>\n",
       "      <th>second</th>\n",
       "      <th>first_index</th>\n",
       "      <th>second_index</th>\n",
       "      <th>C1</th>\n",
       "      <th>N1</th>\n",
       "      <th>E1</th>\n",
       "      <th>C2</th>\n",
       "      <th>N2</th>\n",
       "      <th>E2</th>\n",
       "      <th>dist</th>\n",
       "    </tr>\n",
       "  </thead>\n",
       "  <tbody>\n",
       "    <tr>\n",
       "      <th>3911</th>\n",
       "      <td>NaN</td>\n",
       "      <td>NaN</td>\n",
       "      <td>NaN</td>\n",
       "      <td>83</td>\n",
       "      <td>83</td>\n",
       "      <td>NaN</td>\n",
       "      <td>NaN</td>\n",
       "      <td>NaN</td>\n",
       "      <td>NaN</td>\n",
       "      <td>NaN</td>\n",
       "      <td>NaN</td>\n",
       "      <td>0.0</td>\n",
       "    </tr>\n",
       "    <tr>\n",
       "      <th>3912</th>\n",
       "      <td>NaN</td>\n",
       "      <td>NaN</td>\n",
       "      <td>NaN</td>\n",
       "      <td>84</td>\n",
       "      <td>84</td>\n",
       "      <td>NaN</td>\n",
       "      <td>NaN</td>\n",
       "      <td>NaN</td>\n",
       "      <td>NaN</td>\n",
       "      <td>NaN</td>\n",
       "      <td>NaN</td>\n",
       "      <td>0.0</td>\n",
       "    </tr>\n",
       "    <tr>\n",
       "      <th>3913</th>\n",
       "      <td>NaN</td>\n",
       "      <td>NaN</td>\n",
       "      <td>NaN</td>\n",
       "      <td>85</td>\n",
       "      <td>85</td>\n",
       "      <td>NaN</td>\n",
       "      <td>NaN</td>\n",
       "      <td>NaN</td>\n",
       "      <td>NaN</td>\n",
       "      <td>NaN</td>\n",
       "      <td>NaN</td>\n",
       "      <td>0.0</td>\n",
       "    </tr>\n",
       "    <tr>\n",
       "      <th>3914</th>\n",
       "      <td>NaN</td>\n",
       "      <td>NaN</td>\n",
       "      <td>NaN</td>\n",
       "      <td>86</td>\n",
       "      <td>86</td>\n",
       "      <td>NaN</td>\n",
       "      <td>NaN</td>\n",
       "      <td>NaN</td>\n",
       "      <td>NaN</td>\n",
       "      <td>NaN</td>\n",
       "      <td>NaN</td>\n",
       "      <td>0.0</td>\n",
       "    </tr>\n",
       "    <tr>\n",
       "      <th>3915</th>\n",
       "      <td>NaN</td>\n",
       "      <td>NaN</td>\n",
       "      <td>NaN</td>\n",
       "      <td>87</td>\n",
       "      <td>87</td>\n",
       "      <td>NaN</td>\n",
       "      <td>NaN</td>\n",
       "      <td>NaN</td>\n",
       "      <td>NaN</td>\n",
       "      <td>NaN</td>\n",
       "      <td>NaN</td>\n",
       "      <td>0.0</td>\n",
       "    </tr>\n",
       "  </tbody>\n",
       "</table>\n",
       "</div>"
      ],
      "text/plain": [
       "      Unnamed: 0 first second  first_index  second_index  C1  N1  E1  C2  N2  \\\n",
       "3911         NaN   NaN    NaN           83            83 NaN NaN NaN NaN NaN   \n",
       "3912         NaN   NaN    NaN           84            84 NaN NaN NaN NaN NaN   \n",
       "3913         NaN   NaN    NaN           85            85 NaN NaN NaN NaN NaN   \n",
       "3914         NaN   NaN    NaN           86            86 NaN NaN NaN NaN NaN   \n",
       "3915         NaN   NaN    NaN           87            87 NaN NaN NaN NaN NaN   \n",
       "\n",
       "      E2  dist  \n",
       "3911 NaN   0.0  \n",
       "3912 NaN   0.0  \n",
       "3913 NaN   0.0  \n",
       "3914 NaN   0.0  \n",
       "3915 NaN   0.0  "
      ]
     },
     "metadata": {},
     "output_type": "display_data"
    }
   ],
   "source": [
    "display(df_pairs.head(), df_pairs.tail())"
   ]
  },
  {
   "cell_type": "code",
   "execution_count": 14,
   "metadata": {},
   "outputs": [],
   "source": [
    "df_piv = df_pairs.pivot(\"first_index\", \"second_index\", \"dist\").fillna(0)\n",
    "piv_arr = df_piv.values\n",
    "dist_mat = piv_arr + np.transpose(piv_arr)"
   ]
  },
  {
   "cell_type": "code",
   "execution_count": 15,
   "metadata": {},
   "outputs": [
    {
     "data": {
      "text/html": [
       "<div>\n",
       "<style scoped>\n",
       "    .dataframe tbody tr th:only-of-type {\n",
       "        vertical-align: middle;\n",
       "    }\n",
       "\n",
       "    .dataframe tbody tr th {\n",
       "        vertical-align: top;\n",
       "    }\n",
       "\n",
       "    .dataframe thead th {\n",
       "        text-align: right;\n",
       "    }\n",
       "</style>\n",
       "<table border=\"1\" class=\"dataframe\">\n",
       "  <thead>\n",
       "    <tr style=\"text-align: right;\">\n",
       "      <th>second_index</th>\n",
       "      <th>0</th>\n",
       "      <th>1</th>\n",
       "      <th>2</th>\n",
       "      <th>3</th>\n",
       "      <th>4</th>\n",
       "      <th>5</th>\n",
       "      <th>6</th>\n",
       "      <th>7</th>\n",
       "      <th>8</th>\n",
       "      <th>9</th>\n",
       "      <th>...</th>\n",
       "      <th>78</th>\n",
       "      <th>79</th>\n",
       "      <th>80</th>\n",
       "      <th>81</th>\n",
       "      <th>82</th>\n",
       "      <th>83</th>\n",
       "      <th>84</th>\n",
       "      <th>85</th>\n",
       "      <th>86</th>\n",
       "      <th>87</th>\n",
       "    </tr>\n",
       "    <tr>\n",
       "      <th>first_index</th>\n",
       "      <th></th>\n",
       "      <th></th>\n",
       "      <th></th>\n",
       "      <th></th>\n",
       "      <th></th>\n",
       "      <th></th>\n",
       "      <th></th>\n",
       "      <th></th>\n",
       "      <th></th>\n",
       "      <th></th>\n",
       "      <th></th>\n",
       "      <th></th>\n",
       "      <th></th>\n",
       "      <th></th>\n",
       "      <th></th>\n",
       "      <th></th>\n",
       "      <th></th>\n",
       "      <th></th>\n",
       "      <th></th>\n",
       "      <th></th>\n",
       "      <th></th>\n",
       "    </tr>\n",
       "  </thead>\n",
       "  <tbody>\n",
       "    <tr>\n",
       "      <th>0</th>\n",
       "      <td>0.0</td>\n",
       "      <td>0.457454</td>\n",
       "      <td>0.890627</td>\n",
       "      <td>0.122736</td>\n",
       "      <td>0.343647</td>\n",
       "      <td>0.303749</td>\n",
       "      <td>0.494094</td>\n",
       "      <td>0.498978</td>\n",
       "      <td>0.428174</td>\n",
       "      <td>0.499487</td>\n",
       "      <td>...</td>\n",
       "      <td>0.490302</td>\n",
       "      <td>0.497844</td>\n",
       "      <td>0.497375</td>\n",
       "      <td>0.401196</td>\n",
       "      <td>0.489331</td>\n",
       "      <td>0.993485</td>\n",
       "      <td>0.491715</td>\n",
       "      <td>0.494522</td>\n",
       "      <td>0.378094</td>\n",
       "      <td>0.391084</td>\n",
       "    </tr>\n",
       "    <tr>\n",
       "      <th>1</th>\n",
       "      <td>0.0</td>\n",
       "      <td>0.000000</td>\n",
       "      <td>0.032994</td>\n",
       "      <td>0.130562</td>\n",
       "      <td>0.498068</td>\n",
       "      <td>0.495861</td>\n",
       "      <td>0.498606</td>\n",
       "      <td>0.486919</td>\n",
       "      <td>0.480689</td>\n",
       "      <td>0.499531</td>\n",
       "      <td>...</td>\n",
       "      <td>0.485482</td>\n",
       "      <td>0.497580</td>\n",
       "      <td>0.498825</td>\n",
       "      <td>0.486510</td>\n",
       "      <td>0.874905</td>\n",
       "      <td>0.987602</td>\n",
       "      <td>0.485783</td>\n",
       "      <td>0.417588</td>\n",
       "      <td>0.497986</td>\n",
       "      <td>0.493121</td>\n",
       "    </tr>\n",
       "    <tr>\n",
       "      <th>2</th>\n",
       "      <td>0.0</td>\n",
       "      <td>0.000000</td>\n",
       "      <td>0.000000</td>\n",
       "      <td>0.002692</td>\n",
       "      <td>0.456897</td>\n",
       "      <td>0.492376</td>\n",
       "      <td>0.498840</td>\n",
       "      <td>0.481217</td>\n",
       "      <td>0.465977</td>\n",
       "      <td>0.499415</td>\n",
       "      <td>...</td>\n",
       "      <td>0.496183</td>\n",
       "      <td>0.495881</td>\n",
       "      <td>0.499339</td>\n",
       "      <td>0.612499</td>\n",
       "      <td>0.667300</td>\n",
       "      <td>0.994634</td>\n",
       "      <td>0.498959</td>\n",
       "      <td>0.493914</td>\n",
       "      <td>0.491291</td>\n",
       "      <td>0.494619</td>\n",
       "    </tr>\n",
       "    <tr>\n",
       "      <th>3</th>\n",
       "      <td>0.0</td>\n",
       "      <td>0.000000</td>\n",
       "      <td>0.000000</td>\n",
       "      <td>0.000000</td>\n",
       "      <td>0.458032</td>\n",
       "      <td>0.484349</td>\n",
       "      <td>0.498572</td>\n",
       "      <td>0.487478</td>\n",
       "      <td>0.456454</td>\n",
       "      <td>0.499436</td>\n",
       "      <td>...</td>\n",
       "      <td>0.496204</td>\n",
       "      <td>0.497620</td>\n",
       "      <td>0.499115</td>\n",
       "      <td>0.769684</td>\n",
       "      <td>0.424280</td>\n",
       "      <td>0.998456</td>\n",
       "      <td>0.497800</td>\n",
       "      <td>0.486022</td>\n",
       "      <td>0.490840</td>\n",
       "      <td>0.493866</td>\n",
       "    </tr>\n",
       "    <tr>\n",
       "      <th>4</th>\n",
       "      <td>0.0</td>\n",
       "      <td>0.000000</td>\n",
       "      <td>0.000000</td>\n",
       "      <td>0.000000</td>\n",
       "      <td>0.000000</td>\n",
       "      <td>0.440961</td>\n",
       "      <td>0.499034</td>\n",
       "      <td>0.499095</td>\n",
       "      <td>0.831255</td>\n",
       "      <td>0.499499</td>\n",
       "      <td>...</td>\n",
       "      <td>0.452073</td>\n",
       "      <td>0.498734</td>\n",
       "      <td>0.499442</td>\n",
       "      <td>0.989376</td>\n",
       "      <td>0.861346</td>\n",
       "      <td>0.499028</td>\n",
       "      <td>0.490917</td>\n",
       "      <td>0.481579</td>\n",
       "      <td>0.367555</td>\n",
       "      <td>0.460451</td>\n",
       "    </tr>\n",
       "  </tbody>\n",
       "</table>\n",
       "<p>5 rows × 88 columns</p>\n",
       "</div>"
      ],
      "text/plain": [
       "second_index   0         1         2         3         4         5         6   \\\n",
       "first_index                                                                     \n",
       "0             0.0  0.457454  0.890627  0.122736  0.343647  0.303749  0.494094   \n",
       "1             0.0  0.000000  0.032994  0.130562  0.498068  0.495861  0.498606   \n",
       "2             0.0  0.000000  0.000000  0.002692  0.456897  0.492376  0.498840   \n",
       "3             0.0  0.000000  0.000000  0.000000  0.458032  0.484349  0.498572   \n",
       "4             0.0  0.000000  0.000000  0.000000  0.000000  0.440961  0.499034   \n",
       "\n",
       "second_index        7         8         9   ...        78        79        80  \\\n",
       "first_index                                 ...                                 \n",
       "0             0.498978  0.428174  0.499487  ...  0.490302  0.497844  0.497375   \n",
       "1             0.486919  0.480689  0.499531  ...  0.485482  0.497580  0.498825   \n",
       "2             0.481217  0.465977  0.499415  ...  0.496183  0.495881  0.499339   \n",
       "3             0.487478  0.456454  0.499436  ...  0.496204  0.497620  0.499115   \n",
       "4             0.499095  0.831255  0.499499  ...  0.452073  0.498734  0.499442   \n",
       "\n",
       "second_index        81        82        83        84        85        86  \\\n",
       "first_index                                                                \n",
       "0             0.401196  0.489331  0.993485  0.491715  0.494522  0.378094   \n",
       "1             0.486510  0.874905  0.987602  0.485783  0.417588  0.497986   \n",
       "2             0.612499  0.667300  0.994634  0.498959  0.493914  0.491291   \n",
       "3             0.769684  0.424280  0.998456  0.497800  0.486022  0.490840   \n",
       "4             0.989376  0.861346  0.499028  0.490917  0.481579  0.367555   \n",
       "\n",
       "second_index        87  \n",
       "first_index             \n",
       "0             0.391084  \n",
       "1             0.493121  \n",
       "2             0.494619  \n",
       "3             0.493866  \n",
       "4             0.460451  \n",
       "\n",
       "[5 rows x 88 columns]"
      ]
     },
     "execution_count": 15,
     "metadata": {},
     "output_type": "execute_result"
    }
   ],
   "source": [
    "df_piv.head()"
   ]
  },
  {
   "cell_type": "code",
   "execution_count": 17,
   "metadata": {},
   "outputs": [],
   "source": [
    "from scipy.spatial.distance import squareform\n",
    "condensed_mat = squareform(dist_mat)"
   ]
  },
  {
   "cell_type": "code",
   "execution_count": 18,
   "metadata": {},
   "outputs": [
    {
     "data": {
      "text/plain": [
       "array([ True,  True,  True,  True,  True,  True,  True,  True,  True,\n",
       "        True,  True,  True,  True,  True,  True,  True,  True,  True,\n",
       "        True,  True,  True,  True,  True,  True,  True,  True,  True,\n",
       "        True,  True,  True,  True,  True,  True,  True,  True,  True,\n",
       "        True,  True,  True,  True,  True,  True,  True,  True,  True,\n",
       "        True,  True,  True,  True,  True,  True,  True,  True,  True,\n",
       "        True,  True,  True,  True,  True,  True,  True,  True,  True,\n",
       "        True,  True,  True,  True,  True,  True,  True,  True,  True,\n",
       "        True,  True,  True,  True,  True,  True,  True,  True,  True,\n",
       "        True,  True,  True,  True,  True,  True,  True])"
      ]
     },
     "execution_count": 18,
     "metadata": {},
     "output_type": "execute_result"
    }
   ],
   "source": [
    "df_piv.index == df_piv.columns"
   ]
  },
  {
   "cell_type": "code",
   "execution_count": 19,
   "metadata": {},
   "outputs": [],
   "source": [
    "linkage_arr = linkage(condensed_mat)"
   ]
  },
  {
   "cell_type": "code",
   "execution_count": 20,
   "metadata": {},
   "outputs": [
    {
     "data": {
      "text/plain": [
       "array([[ 20.    ,  21.    ,   0.0026,   2.    ],\n",
       "       [  2.    ,   3.    ,   0.0027,   2.    ],\n",
       "       [ 70.    ,  71.    ,   0.003 ,   2.    ],\n",
       "       [ 74.    ,  75.    ,   0.0049,   2.    ],\n",
       "       [ 48.    ,  89.    ,   0.0053,   3.    ],\n",
       "       [ 86.    ,  87.    ,   0.0072,   2.    ],\n",
       "       [ 17.    ,  38.    ,   0.0102,   2.    ],\n",
       "       [ 54.    ,  68.    ,   0.0111,   2.    ],\n",
       "       [ 67.    ,  94.    ,   0.0152,   3.    ],\n",
       "       [ 79.    ,  80.    ,   0.0269,   2.    ],\n",
       "       [ 33.    ,  34.    ,   0.0285,   2.    ],\n",
       "       [  1.    ,  92.    ,   0.0305,   4.    ],\n",
       "       [ 18.    ,  96.    ,   0.0406,   4.    ],\n",
       "       [ 88.    , 100.    ,   0.0465,   6.    ],\n",
       "       [ 39.    ,  85.    ,   0.0521,   2.    ],\n",
       "       [ 32.    ,  81.    ,   0.0531,   2.    ],\n",
       "       [ 99.    , 101.    ,   0.0683,  10.    ],\n",
       "       [ 95.    , 104.    ,   0.0857,  12.    ],\n",
       "       [102.    , 105.    ,   0.0898,  14.    ],\n",
       "       [ 35.    ,  93.    ,   0.0899,   3.    ],\n",
       "       [  5.    , 107.    ,   0.0935,   4.    ],\n",
       "       [  0.    , 106.    ,   0.1227,  15.    ],\n",
       "       [ 62.    , 108.    ,   0.2047,   5.    ],\n",
       "       [ 65.    , 109.    ,   0.2081,  16.    ],\n",
       "       [ 47.    , 111.    ,   0.2582,  17.    ],\n",
       "       [ 59.    , 110.    ,   0.2792,   6.    ],\n",
       "       [112.    , 113.    ,   0.3037,  23.    ],\n",
       "       [ 57.    , 114.    ,   0.3074,  24.    ],\n",
       "       [ 14.    ,  31.    ,   0.3082,   2.    ],\n",
       "       [ 43.    ,  61.    ,   0.3146,   2.    ],\n",
       "       [ 23.    , 115.    ,   0.3211,  25.    ],\n",
       "       [ 11.    , 118.    ,   0.3229,  26.    ],\n",
       "       [ 83.    , 119.    ,   0.3256,  27.    ],\n",
       "       [117.    , 120.    ,   0.3265,  29.    ],\n",
       "       [ 12.    ,  66.    ,   0.3384,   2.    ],\n",
       "       [  4.    , 121.    ,   0.3436,  30.    ],\n",
       "       [103.    , 123.    ,   0.3447,  32.    ],\n",
       "       [ 49.    ,  91.    ,   0.3475,   3.    ],\n",
       "       [  8.    ,  60.    ,   0.3508,   2.    ],\n",
       "       [ 98.    , 116.    ,   0.3546,   4.    ],\n",
       "       [ 22.    , 127.    ,   0.355 ,   5.    ],\n",
       "       [ 64.    , 124.    ,   0.3564,  33.    ],\n",
       "       [122.    , 125.    ,   0.3573,   5.    ],\n",
       "       [ 36.    , 129.    ,   0.359 ,  34.    ],\n",
       "       [ 30.    , 130.    ,   0.3592,   6.    ],\n",
       "       [ 26.    ,  78.    ,   0.3593,   2.    ],\n",
       "       [131.    , 132.    ,   0.3627,  40.    ],\n",
       "       [ 41.    , 134.    ,   0.365 ,  41.    ],\n",
       "       [ 97.    , 135.    ,   0.371 ,  43.    ],\n",
       "       [ 16.    , 136.    ,   0.3721,  44.    ],\n",
       "       [ 56.    , 137.    ,   0.3734,  45.    ],\n",
       "       [133.    , 138.    ,   0.376 ,  47.    ],\n",
       "       [ 58.    , 139.    ,   0.3794,  48.    ],\n",
       "       [ 19.    , 140.    ,   0.3817,  49.    ],\n",
       "       [ 13.    , 141.    ,   0.3827,  50.    ],\n",
       "       [126.    , 142.    ,   0.3843,  52.    ],\n",
       "       [ 72.    , 143.    ,   0.3873,  53.    ],\n",
       "       [ 63.    , 144.    ,   0.3974,  54.    ],\n",
       "       [ 52.    , 145.    ,   0.3976,  55.    ],\n",
       "       [128.    , 146.    ,   0.4027,  60.    ],\n",
       "       [ 76.    , 147.    ,   0.4085,  61.    ],\n",
       "       [ 42.    , 148.    ,   0.4102,  62.    ],\n",
       "       [ 10.    , 149.    ,   0.4107,  63.    ],\n",
       "       [ 15.    , 150.    ,   0.4135,  64.    ],\n",
       "       [ 77.    , 151.    ,   0.4211,  65.    ],\n",
       "       [ 82.    , 152.    ,   0.4243,  66.    ],\n",
       "       [ 46.    , 153.    ,   0.436 ,  67.    ],\n",
       "       [ 53.    , 154.    ,   0.4362,  68.    ],\n",
       "       [ 51.    , 155.    ,   0.4396,  69.    ],\n",
       "       [ 90.    , 156.    ,   0.4403,  71.    ],\n",
       "       [ 40.    , 157.    ,   0.4416,  72.    ],\n",
       "       [ 44.    , 158.    ,   0.4578,  73.    ],\n",
       "       [ 55.    , 159.    ,   0.4592,  74.    ],\n",
       "       [ 73.    , 160.    ,   0.4606,  75.    ],\n",
       "       [ 45.    , 161.    ,   0.4655,  76.    ],\n",
       "       [  6.    , 162.    ,   0.4693,  77.    ],\n",
       "       [ 25.    , 163.    ,   0.4701,  78.    ],\n",
       "       [  7.    , 164.    ,   0.4706,  79.    ],\n",
       "       [ 69.    , 165.    ,   0.4737,  80.    ],\n",
       "       [ 28.    , 166.    ,   0.4758,  81.    ],\n",
       "       [ 37.    , 167.    ,   0.478 ,  82.    ],\n",
       "       [ 84.    , 168.    ,   0.4805,  83.    ],\n",
       "       [ 27.    , 169.    ,   0.4872,  84.    ],\n",
       "       [ 24.    , 170.    ,   0.488 ,  85.    ],\n",
       "       [ 50.    , 171.    ,   0.4937,  86.    ],\n",
       "       [ 29.    , 172.    ,   0.4977,  87.    ],\n",
       "       [  9.    , 173.    ,   0.4983,  88.    ]])"
      ]
     },
     "execution_count": 20,
     "metadata": {},
     "output_type": "execute_result"
    }
   ],
   "source": [
    "linkage_arr"
   ]
  },
  {
   "cell_type": "code",
   "execution_count": 21,
   "metadata": {},
   "outputs": [
    {
     "data": {
      "text/plain": [
       "{'icoord': [[175.0, 175.0, 185.0, 185.0],\n",
       "  [295.0, 295.0, 305.0, 305.0],\n",
       "  [315.0, 315.0, 325.0, 325.0],\n",
       "  [300.0, 300.0, 320.0, 320.0],\n",
       "  [285.0, 285.0, 310.0, 310.0],\n",
       "  [365.0, 365.0, 375.0, 375.0],\n",
       "  [415.0, 415.0, 425.0, 425.0],\n",
       "  [455.0, 455.0, 465.0, 465.0],\n",
       "  [505.0, 505.0, 515.0, 515.0],\n",
       "  [535.0, 535.0, 545.0, 545.0],\n",
       "  [625.0, 625.0, 635.0, 635.0],\n",
       "  [645.0, 645.0, 655.0, 655.0],\n",
       "  [685.0, 685.0, 695.0, 695.0],\n",
       "  [675.0, 675.0, 690.0, 690.0],\n",
       "  [665.0, 665.0, 682.5, 682.5],\n",
       "  [705.0, 705.0, 715.0, 715.0],\n",
       "  [745.0, 745.0, 755.0, 755.0],\n",
       "  [735.0, 735.0, 750.0, 750.0],\n",
       "  [725.0, 725.0, 742.5, 742.5],\n",
       "  [710.0, 710.0, 733.75, 733.75],\n",
       "  [673.75, 673.75, 721.875, 721.875],\n",
       "  [650.0, 650.0, 697.8125, 697.8125],\n",
       "  [630.0, 630.0, 673.90625, 673.90625],\n",
       "  [615.0, 615.0, 651.953125, 651.953125],\n",
       "  [605.0, 605.0, 633.4765625, 633.4765625],\n",
       "  [595.0, 595.0, 619.23828125, 619.23828125],\n",
       "  [805.0, 805.0, 815.0, 815.0],\n",
       "  [795.0, 795.0, 810.0, 810.0],\n",
       "  [785.0, 785.0, 802.5, 802.5],\n",
       "  [775.0, 775.0, 793.75, 793.75],\n",
       "  [765.0, 765.0, 784.375, 784.375],\n",
       "  [607.119140625, 607.119140625, 774.6875, 774.6875],\n",
       "  [585.0, 585.0, 690.9033203125, 690.9033203125],\n",
       "  [575.0, 575.0, 637.95166015625, 637.95166015625],\n",
       "  [565.0, 565.0, 606.475830078125, 606.475830078125],\n",
       "  [555.0, 555.0, 585.7379150390625, 585.7379150390625],\n",
       "  [540.0, 540.0, 570.3689575195312, 570.3689575195312],\n",
       "  [525.0, 525.0, 555.1844787597656, 555.1844787597656],\n",
       "  [510.0, 510.0, 540.0922393798828, 540.0922393798828],\n",
       "  [495.0, 495.0, 525.0461196899414, 525.0461196899414],\n",
       "  [485.0, 485.0, 510.0230598449707, 510.0230598449707],\n",
       "  [835.0, 835.0, 845.0, 845.0],\n",
       "  [865.0, 865.0, 875.0, 875.0],\n",
       "  [855.0, 855.0, 870.0, 870.0],\n",
       "  [840.0, 840.0, 862.5, 862.5],\n",
       "  [825.0, 825.0, 851.25, 851.25],\n",
       "  [497.51152992248535, 497.51152992248535, 838.125, 838.125],\n",
       "  [475.0, 475.0, 667.8182649612427, 667.8182649612427],\n",
       "  [460.0, 460.0, 571.4091324806213, 571.4091324806213],\n",
       "  [445.0, 445.0, 515.7045662403107, 515.7045662403107],\n",
       "  [435.0, 435.0, 480.35228312015533, 480.35228312015533],\n",
       "  [420.0, 420.0, 457.67614156007767, 457.67614156007767],\n",
       "  [405.0, 405.0, 438.83807078003883, 438.83807078003883],\n",
       "  [395.0, 395.0, 421.9190353900194, 421.9190353900194],\n",
       "  [385.0, 385.0, 408.4595176950097, 408.4595176950097],\n",
       "  [370.0, 370.0, 396.72975884750485, 396.72975884750485],\n",
       "  [355.0, 355.0, 383.3648794237524, 383.3648794237524],\n",
       "  [345.0, 345.0, 369.1824397118762, 369.1824397118762],\n",
       "  [335.0, 335.0, 357.0912198559381, 357.0912198559381],\n",
       "  [297.5, 297.5, 346.04560992796905, 346.04560992796905],\n",
       "  [275.0, 275.0, 321.7728049639845, 321.7728049639845],\n",
       "  [265.0, 265.0, 298.38640248199226, 298.38640248199226],\n",
       "  [255.0, 255.0, 281.69320124099613, 281.69320124099613],\n",
       "  [245.0, 245.0, 268.34660062049807, 268.34660062049807],\n",
       "  [235.0, 235.0, 256.67330031024903, 256.67330031024903],\n",
       "  [225.0, 225.0, 245.83665015512452, 245.83665015512452],\n",
       "  [215.0, 215.0, 235.41832507756226, 235.41832507756226],\n",
       "  [205.0, 205.0, 225.20916253878113, 225.20916253878113],\n",
       "  [195.0, 195.0, 215.10458126939056, 215.10458126939056],\n",
       "  [180.0, 180.0, 205.05229063469528, 205.05229063469528],\n",
       "  [165.0, 165.0, 192.52614531734764, 192.52614531734764],\n",
       "  [155.0, 155.0, 178.76307265867382, 178.76307265867382],\n",
       "  [145.0, 145.0, 166.8815363293369, 166.8815363293369],\n",
       "  [135.0, 135.0, 155.94076816466844, 155.94076816466844],\n",
       "  [125.0, 125.0, 145.47038408233422, 145.47038408233422],\n",
       "  [115.0, 115.0, 135.23519204116712, 135.23519204116712],\n",
       "  [105.0, 105.0, 125.11759602058356, 125.11759602058356],\n",
       "  [95.0, 95.0, 115.05879801029178, 115.05879801029178],\n",
       "  [85.0, 85.0, 105.02939900514589, 105.02939900514589],\n",
       "  [75.0, 75.0, 95.01469950257294, 95.01469950257294],\n",
       "  [65.0, 65.0, 85.00734975128647, 85.00734975128647],\n",
       "  [55.0, 55.0, 75.00367487564324, 75.00367487564324],\n",
       "  [45.0, 45.0, 65.00183743782162, 65.00183743782162],\n",
       "  [35.0, 35.0, 55.00091871891081, 55.00091871891081],\n",
       "  [25.0, 25.0, 45.000459359455405, 45.000459359455405],\n",
       "  [15.0, 15.0, 35.0002296797277, 35.0002296797277],\n",
       "  [5.0, 5.0, 25.00011483986385, 25.00011483986385]],\n",
       " 'dcoord': [[0.0, 0.0029890823661230443, 0.0029890823661230443, 0.0],\n",
       "  [0.0, 0.028529906276631576, 0.028529906276631576, 0.0],\n",
       "  [0.0, 0.30818412741582324, 0.30818412741582324, 0.0],\n",
       "  [0.028529906276631576,\n",
       "   0.3546179173786546,\n",
       "   0.3546179173786546,\n",
       "   0.30818412741582324],\n",
       "  [0.0, 0.355048388767445, 0.355048388767445, 0.3546179173786546],\n",
       "  [0.0, 0.3508232010066931, 0.3508232010066931, 0.0],\n",
       "  [0.0, 0.3593222893576532, 0.3593222893576532, 0.0],\n",
       "  [0.0, 0.02693262195146568, 0.02693262195146568, 0.0],\n",
       "  [0.0, 0.05306541740513805, 0.05306541740513805, 0.0],\n",
       "  [0.0, 0.3146457935685464, 0.3146457935685464, 0.0],\n",
       "  [0.0, 0.05209905178088981, 0.05209905178088981, 0.0],\n",
       "  [0.0, 0.01108749394788684, 0.01108749394788684, 0.0],\n",
       "  [0.0, 0.002691686320204176, 0.002691686320204176, 0.0],\n",
       "  [0.0, 0.005266621268547572, 0.005266621268547572, 0.002691686320204176],\n",
       "  [0.0, 0.030506605246042862, 0.030506605246042862, 0.005266621268547572],\n",
       "  [0.0, 0.002586503394962386, 0.002586503394962386, 0.0],\n",
       "  [0.0, 0.010154374878130316, 0.010154374878130316, 0.0],\n",
       "  [0.0, 0.01523230798931759, 0.01523230798931759, 0.010154374878130316],\n",
       "  [0.0, 0.04057145269477965, 0.04057145269477965, 0.01523230798931759],\n",
       "  [0.002586503394962386,\n",
       "   0.04645095813816172,\n",
       "   0.04645095813816172,\n",
       "   0.04057145269477965],\n",
       "  [0.030506605246042862,\n",
       "   0.06831621044859353,\n",
       "   0.06831621044859353,\n",
       "   0.04645095813816172],\n",
       "  [0.01108749394788684,\n",
       "   0.08566019896987301,\n",
       "   0.08566019896987301,\n",
       "   0.06831621044859353],\n",
       "  [0.05209905178088981,\n",
       "   0.08980327394761678,\n",
       "   0.08980327394761678,\n",
       "   0.08566019896987301],\n",
       "  [0.0, 0.12273557627932495, 0.12273557627932495, 0.08980327394761678],\n",
       "  [0.0, 0.208099455535902, 0.208099455535902, 0.12273557627932495],\n",
       "  [0.0, 0.25819181086883225, 0.25819181086883225, 0.208099455535902],\n",
       "  [0.0, 0.007179326601550631, 0.007179326601550631, 0.0],\n",
       "  [0.0, 0.08994164837549351, 0.08994164837549351, 0.007179326601550631],\n",
       "  [0.0, 0.09351710072591987, 0.09351710072591987, 0.08994164837549351],\n",
       "  [0.0, 0.204660603784494, 0.204660603784494, 0.09351710072591987],\n",
       "  [0.0, 0.2791973617014967, 0.2791973617014967, 0.204660603784494],\n",
       "  [0.25819181086883225,\n",
       "   0.30374878974009023,\n",
       "   0.30374878974009023,\n",
       "   0.2791973617014967],\n",
       "  [0.0, 0.3073822247921458, 0.3073822247921458, 0.30374878974009023],\n",
       "  [0.0, 0.3211217121331665, 0.3211217121331665, 0.3073822247921458],\n",
       "  [0.0, 0.3228579915945374, 0.3228579915945374, 0.3211217121331665],\n",
       "  [0.0, 0.32557353129802763, 0.32557353129802763, 0.3228579915945374],\n",
       "  [0.3146457935685464,\n",
       "   0.3264855333627885,\n",
       "   0.3264855333627885,\n",
       "   0.32557353129802763],\n",
       "  [0.0, 0.3436468224034555, 0.3436468224034555, 0.3264855333627885],\n",
       "  [0.05306541740513805,\n",
       "   0.34474822441847564,\n",
       "   0.34474822441847564,\n",
       "   0.3436468224034555],\n",
       "  [0.0, 0.35642660447300584, 0.35642660447300584, 0.34474822441847564],\n",
       "  [0.0, 0.3590403723155626, 0.3590403723155626, 0.35642660447300584],\n",
       "  [0.0, 0.3384302497688259, 0.3384302497688259, 0.0],\n",
       "  [0.0, 0.0048955218626746365, 0.0048955218626746365, 0.0],\n",
       "  [0.0, 0.3475080528906287, 0.3475080528906287, 0.0048955218626746365],\n",
       "  [0.3384302497688259,\n",
       "   0.3572551092262867,\n",
       "   0.3572551092262867,\n",
       "   0.3475080528906287],\n",
       "  [0.0, 0.3591680963043477, 0.3591680963043477, 0.3572551092262867],\n",
       "  [0.3590403723155626,\n",
       "   0.3626928798670911,\n",
       "   0.3626928798670911,\n",
       "   0.3591680963043477],\n",
       "  [0.0, 0.3650055932934039, 0.3650055932934039, 0.3626928798670911],\n",
       "  [0.02693262195146568,\n",
       "   0.3710148930951302,\n",
       "   0.3710148930951302,\n",
       "   0.3650055932934039],\n",
       "  [0.0, 0.3721482594561835, 0.3721482594561835, 0.3710148930951302],\n",
       "  [0.0, 0.3734282751219047, 0.3734282751219047, 0.3721482594561835],\n",
       "  [0.3593222893576532,\n",
       "   0.3759666886974265,\n",
       "   0.3759666886974265,\n",
       "   0.3734282751219047],\n",
       "  [0.0, 0.3794046538290525, 0.3794046538290525, 0.3759666886974265],\n",
       "  [0.0, 0.3816510917839602, 0.3816510917839602, 0.3794046538290525],\n",
       "  [0.0, 0.38266033599472254, 0.38266033599472254, 0.3816510917839602],\n",
       "  [0.3508232010066931,\n",
       "   0.38426034953460825,\n",
       "   0.38426034953460825,\n",
       "   0.38266033599472254],\n",
       "  [0.0, 0.3873478810682109, 0.3873478810682109, 0.38426034953460825],\n",
       "  [0.0, 0.3974046332959746, 0.3974046332959746, 0.3873478810682109],\n",
       "  [0.0, 0.3976423833780237, 0.3976423833780237, 0.3974046332959746],\n",
       "  [0.355048388767445,\n",
       "   0.4027320287201672,\n",
       "   0.4027320287201672,\n",
       "   0.3976423833780237],\n",
       "  [0.0, 0.4084790333703566, 0.4084790333703566, 0.4027320287201672],\n",
       "  [0.0, 0.41018370067830223, 0.41018370067830223, 0.4084790333703566],\n",
       "  [0.0, 0.410686697111396, 0.410686697111396, 0.41018370067830223],\n",
       "  [0.0, 0.4135115705235424, 0.4135115705235424, 0.410686697111396],\n",
       "  [0.0, 0.4210602149555546, 0.4210602149555546, 0.4135115705235424],\n",
       "  [0.0, 0.4242797288223343, 0.4242797288223343, 0.4210602149555546],\n",
       "  [0.0, 0.4359735274398742, 0.4359735274398742, 0.4242797288223343],\n",
       "  [0.0, 0.4361951496749183, 0.4361951496749183, 0.4359735274398742],\n",
       "  [0.0, 0.4396271923719645, 0.4396271923719645, 0.4361951496749183],\n",
       "  [0.0029890823661230443,\n",
       "   0.4403078056456313,\n",
       "   0.4403078056456313,\n",
       "   0.4396271923719645],\n",
       "  [0.0, 0.4415701276414332, 0.4415701276414332, 0.4403078056456313],\n",
       "  [0.0, 0.4577879550114926, 0.4577879550114926, 0.4415701276414332],\n",
       "  [0.0, 0.45920218058776, 0.45920218058776, 0.4577879550114926],\n",
       "  [0.0, 0.460602687702452, 0.460602687702452, 0.45920218058776],\n",
       "  [0.0, 0.4655363971181509, 0.4655363971181509, 0.460602687702452],\n",
       "  [0.0, 0.4693211782257215, 0.4693211782257215, 0.4655363971181509],\n",
       "  [0.0, 0.4700725736838529, 0.4700725736838529, 0.4693211782257215],\n",
       "  [0.0, 0.4706197997643224, 0.4706197997643224, 0.4700725736838529],\n",
       "  [0.0, 0.4736541070209611, 0.4736541070209611, 0.4706197997643224],\n",
       "  [0.0, 0.4757951432672702, 0.4757951432672702, 0.4736541070209611],\n",
       "  [0.0, 0.4780179433968152, 0.4780179433968152, 0.4757951432672702],\n",
       "  [0.0, 0.4804878068619483, 0.4804878068619483, 0.4780179433968152],\n",
       "  [0.0, 0.4872045844247909, 0.4872045844247909, 0.4804878068619483],\n",
       "  [0.0, 0.4879725099310529, 0.4879725099310529, 0.4872045844247909],\n",
       "  [0.0, 0.49366326789485604, 0.49366326789485604, 0.4879725099310529],\n",
       "  [0.0, 0.4976955338661507, 0.4976955338661507, 0.49366326789485604],\n",
       "  [0.0, 0.4983056487342489, 0.4983056487342489, 0.4976955338661507]],\n",
       " 'ivl': [9,\n",
       "  29,\n",
       "  50,\n",
       "  24,\n",
       "  27,\n",
       "  84,\n",
       "  37,\n",
       "  28,\n",
       "  69,\n",
       "  7,\n",
       "  25,\n",
       "  6,\n",
       "  45,\n",
       "  73,\n",
       "  55,\n",
       "  44,\n",
       "  40,\n",
       "  70,\n",
       "  71,\n",
       "  51,\n",
       "  53,\n",
       "  46,\n",
       "  82,\n",
       "  77,\n",
       "  15,\n",
       "  10,\n",
       "  42,\n",
       "  76,\n",
       "  22,\n",
       "  33,\n",
       "  34,\n",
       "  14,\n",
       "  31,\n",
       "  52,\n",
       "  63,\n",
       "  72,\n",
       "  8,\n",
       "  60,\n",
       "  13,\n",
       "  19,\n",
       "  58,\n",
       "  26,\n",
       "  78,\n",
       "  56,\n",
       "  16,\n",
       "  79,\n",
       "  80,\n",
       "  41,\n",
       "  36,\n",
       "  64,\n",
       "  32,\n",
       "  81,\n",
       "  4,\n",
       "  43,\n",
       "  61,\n",
       "  83,\n",
       "  11,\n",
       "  23,\n",
       "  57,\n",
       "  47,\n",
       "  65,\n",
       "  0,\n",
       "  39,\n",
       "  85,\n",
       "  54,\n",
       "  68,\n",
       "  1,\n",
       "  48,\n",
       "  2,\n",
       "  3,\n",
       "  20,\n",
       "  21,\n",
       "  18,\n",
       "  67,\n",
       "  17,\n",
       "  38,\n",
       "  59,\n",
       "  62,\n",
       "  5,\n",
       "  35,\n",
       "  86,\n",
       "  87,\n",
       "  30,\n",
       "  12,\n",
       "  66,\n",
       "  49,\n",
       "  74,\n",
       "  75],\n",
       " 'leaves': [9,\n",
       "  29,\n",
       "  50,\n",
       "  24,\n",
       "  27,\n",
       "  84,\n",
       "  37,\n",
       "  28,\n",
       "  69,\n",
       "  7,\n",
       "  25,\n",
       "  6,\n",
       "  45,\n",
       "  73,\n",
       "  55,\n",
       "  44,\n",
       "  40,\n",
       "  70,\n",
       "  71,\n",
       "  51,\n",
       "  53,\n",
       "  46,\n",
       "  82,\n",
       "  77,\n",
       "  15,\n",
       "  10,\n",
       "  42,\n",
       "  76,\n",
       "  22,\n",
       "  33,\n",
       "  34,\n",
       "  14,\n",
       "  31,\n",
       "  52,\n",
       "  63,\n",
       "  72,\n",
       "  8,\n",
       "  60,\n",
       "  13,\n",
       "  19,\n",
       "  58,\n",
       "  26,\n",
       "  78,\n",
       "  56,\n",
       "  16,\n",
       "  79,\n",
       "  80,\n",
       "  41,\n",
       "  36,\n",
       "  64,\n",
       "  32,\n",
       "  81,\n",
       "  4,\n",
       "  43,\n",
       "  61,\n",
       "  83,\n",
       "  11,\n",
       "  23,\n",
       "  57,\n",
       "  47,\n",
       "  65,\n",
       "  0,\n",
       "  39,\n",
       "  85,\n",
       "  54,\n",
       "  68,\n",
       "  1,\n",
       "  48,\n",
       "  2,\n",
       "  3,\n",
       "  20,\n",
       "  21,\n",
       "  18,\n",
       "  67,\n",
       "  17,\n",
       "  38,\n",
       "  59,\n",
       "  62,\n",
       "  5,\n",
       "  35,\n",
       "  86,\n",
       "  87,\n",
       "  30,\n",
       "  12,\n",
       "  66,\n",
       "  49,\n",
       "  74,\n",
       "  75],\n",
       " 'color_list': ['g',\n",
       "  'r',\n",
       "  'c',\n",
       "  'b',\n",
       "  'b',\n",
       "  'b',\n",
       "  'b',\n",
       "  'm',\n",
       "  'y',\n",
       "  'y',\n",
       "  'y',\n",
       "  'y',\n",
       "  'y',\n",
       "  'y',\n",
       "  'y',\n",
       "  'y',\n",
       "  'y',\n",
       "  'y',\n",
       "  'y',\n",
       "  'y',\n",
       "  'y',\n",
       "  'y',\n",
       "  'y',\n",
       "  'y',\n",
       "  'y',\n",
       "  'y',\n",
       "  'y',\n",
       "  'y',\n",
       "  'y',\n",
       "  'y',\n",
       "  'y',\n",
       "  'y',\n",
       "  'y',\n",
       "  'y',\n",
       "  'y',\n",
       "  'y',\n",
       "  'y',\n",
       "  'y',\n",
       "  'y',\n",
       "  'b',\n",
       "  'b',\n",
       "  'k',\n",
       "  'g',\n",
       "  'g',\n",
       "  'b',\n",
       "  'b',\n",
       "  'b',\n",
       "  'b',\n",
       "  'b',\n",
       "  'b',\n",
       "  'b',\n",
       "  'b',\n",
       "  'b',\n",
       "  'b',\n",
       "  'b',\n",
       "  'b',\n",
       "  'b',\n",
       "  'b',\n",
       "  'b',\n",
       "  'b',\n",
       "  'b',\n",
       "  'b',\n",
       "  'b',\n",
       "  'b',\n",
       "  'b',\n",
       "  'b',\n",
       "  'b',\n",
       "  'b',\n",
       "  'b',\n",
       "  'b',\n",
       "  'b',\n",
       "  'b',\n",
       "  'b',\n",
       "  'b',\n",
       "  'b',\n",
       "  'b',\n",
       "  'b',\n",
       "  'b',\n",
       "  'b',\n",
       "  'b',\n",
       "  'b',\n",
       "  'b',\n",
       "  'b',\n",
       "  'b',\n",
       "  'b',\n",
       "  'b',\n",
       "  'b']}"
      ]
     },
     "execution_count": 21,
     "metadata": {},
     "output_type": "execute_result"
    },
    {
     "data": {
      "image/png": "[encoded data removed]",
      "text/plain": [
       "<Figure size 1440x720 with 1 Axes>"
      ]
     },
     "metadata": {},
     "output_type": "display_data"
    }
   ],
   "source": [
    "dendrogram(linkage_arr,\n",
    "            orientation='top',\n",
    "            labels=df_piv.index.values,\n",
    "            distance_sort='descending',\n",
    "            show_leaf_counts=True)"
   ]
  },
  {
   "cell_type": "code",
   "execution_count": 22,
   "metadata": {},
   "outputs": [
    {
     "name": "stdout",
     "output_type": "stream",
     "text": [
      "2 :  -0.05241891289886036\n",
      "3 :  -0.05901542031361908\n",
      "4 :  -0.06018584843694808\n",
      "5 :  -0.05716940703764129\n",
      "6 :  -0.056872432524820056\n",
      "7 :  -0.06191846140901349\n",
      "8 :  -0.06436408745188858\n",
      "9 :  -0.06534494781965818\n",
      "10 :  -0.0674695368647271\n",
      "11 :  -0.07184590900623723\n",
      "12 :  -0.07247709360085076\n",
      "13 :  -0.07161386512563668\n",
      "14 :  -0.06062987399730813\n",
      "15 :  -0.06525364354908697\n",
      "16 :  -0.06516456248717639\n",
      "17 :  -0.06332177312863219\n",
      "18 :  -0.07082540056375777\n",
      "19 :  -0.051367126284890444\n",
      "20 :  -0.0518350134406919\n",
      "21 :  -0.05336115774301102\n",
      "22 :  -0.05629047403840923\n",
      "23 :  -0.05716217972474005\n",
      "24 :  -0.059693464527862214\n",
      "25 :  -0.06223606639751736\n",
      "26 :  -0.0627864732739817\n",
      "27 :  -0.06356443251072044\n",
      "28 :  -0.06766907972266491\n",
      "29 :  -0.055883485504727395\n",
      "30 :  -0.053649212765193695\n",
      "31 :  -0.05496491228067358\n",
      "32 :  -0.05278766708446516\n",
      "33 :  -0.04368373919532682\n",
      "34 :  -0.04470257353310316\n",
      "35 :  -0.04630969004533301\n",
      "36 :  -0.05056630158664348\n",
      "37 :  -0.04270502469668302\n",
      "38 :  -0.03988159714983563\n",
      "39 :  -0.04126250016700367\n",
      "40 :  -0.018531686330277415\n",
      "41 :  -0.01735874415611593\n",
      "42 :  -0.011617535407465312\n",
      "43 :  -0.018011674465807783\n",
      "44 :  -0.015514292550389774\n",
      "45 :  -0.01743118049819682\n",
      "46 :  -0.009238291469250868\n",
      "47 :  -0.009804459291792772\n",
      "48 :  -0.008792355564105401\n",
      "49 :  0.012608148440501184\n",
      "50 :  0.0075619544788870586\n",
      "51 :  0.025546382185118\n",
      "52 :  0.051750949602374134\n",
      "53 :  0.05282411604892541\n",
      "54 :  0.04713624287783487\n",
      "55 :  0.06000958022817618\n",
      "56 :  0.0653615135721891\n",
      "57 :  0.06581285553899656\n",
      "58 :  0.06551089521692982\n",
      "59 :  0.06037339695309456\n",
      "60 :  0.05383061238328131\n",
      "61 :  0.05937933235343762\n",
      "62 :  0.06794750194833084\n",
      "63 :  0.06681981984677575\n",
      "64 :  0.06362313962018264\n",
      "65 :  0.06115910449630702\n",
      "66 :  0.06644460182366872\n",
      "67 :  0.06333752799057836\n",
      "68 :  0.07161049247702053\n",
      "69 :  0.08799977930930136\n",
      "70 :  0.1171216328431644\n",
      "71 :  0.153206368979383\n",
      "72 :  0.2100317730046518\n",
      "73 :  0.1907088249299772\n",
      "74 :  0.1686247113388804\n",
      "75 :  0.18921749587739792\n",
      "76 :  0.1942274859368369\n",
      "77 :  0.18708716142725057\n",
      "78 :  0.16618724669568283\n",
      "79 :  0.14500759122552703\n",
      "80 :  0.15493265368072526\n",
      "81 :  0.13301208527503555\n",
      "82 :  0.11837878305922772\n",
      "83 :  0.09677312072513504\n",
      "84 :  0.07855471974719754\n",
      "85 :  0.05614091534086601\n",
      "86 :  0.033567708900469055\n",
      "87 :  0.02179699501731387\n"
     ]
    }
   ],
   "source": [
    "sil_scores = []\n",
    "for i in range(2, len(dist_mat)):\n",
    "    clusters = AgglomerativeClustering(n_clusters=i, affinity='precomputed', linkage='single')\n",
    "    clusters.fit_predict(dist_mat)\n",
    "\n",
    "    # use metric to measure/compare goodness of clusters based on internal coherence and \n",
    "    # external coupling.\n",
    "    # consider Dunn index. maximise the Dunn index.\n",
    "    # or consider average sillhouette width (maximise). available in sklearn.\n",
    "    from sklearn.metrics import silhouette_score\n",
    "\n",
    "    silhouette_avg = silhouette_score(dist_mat, clusters.labels_, metric='precomputed')\n",
    "    sil_scores.append(silhouette_avg)\n",
    "    print(i, \": \", silhouette_avg)"
   ]
  },
  {
   "cell_type": "code",
   "execution_count": 23,
   "metadata": {},
   "outputs": [
    {
     "name": "stdout",
     "output_type": "stream",
     "text": [
      "max avg silhouette score:  0.2100317730046518\n",
      "nclusters w max avg silhouette score:  72\n"
     ]
    }
   ],
   "source": [
    "sil_scores_arr = np.asarray(sil_scores)\n",
    "print('max avg silhouette score: ', sil_scores_arr.max())\n",
    "optimal_k = np.where(sil_scores_arr == sil_scores_arr.max())[0][0] + 2\n",
    "print('nclusters w max avg silhouette score: ', optimal_k)"
   ]
  },
  {
   "cell_type": "code",
   "execution_count": 24,
   "metadata": {
    "scrolled": true
   },
   "outputs": [
    {
     "name": "stdout",
     "output_type": "stream",
     "text": [
      "cluster 0 (size 2):\n",
      "[32 81]\n"
     ]
    },
    {
     "data": {
      "text/plain": [
       "32"
      ]
     },
     "metadata": {},
     "output_type": "display_data"
    },
    {
     "data": {
      "text/plain": [
       "81"
      ]
     },
     "metadata": {},
     "output_type": "display_data"
    },
    {
     "name": "stdout",
     "output_type": "stream",
     "text": [
      "\n",
      "\n",
      "cluster 1 (size 2):\n",
      "[39 85]\n"
     ]
    },
    {
     "data": {
      "text/plain": [
       "39"
      ]
     },
     "metadata": {},
     "output_type": "display_data"
    },
    {
     "data": {
      "text/plain": [
       "85"
      ]
     },
     "metadata": {},
     "output_type": "display_data"
    },
    {
     "name": "stdout",
     "output_type": "stream",
     "text": [
      "\n",
      "\n",
      "cluster 2 (size 6):\n",
      "[17 18 20 21 38 67]\n"
     ]
    },
    {
     "data": {
      "text/plain": [
       "17"
      ]
     },
     "metadata": {},
     "output_type": "display_data"
    },
    {
     "data": {
      "text/plain": [
       "18"
      ]
     },
     "metadata": {},
     "output_type": "display_data"
    },
    {
     "data": {
      "text/plain": [
       "20"
      ]
     },
     "metadata": {},
     "output_type": "display_data"
    },
    {
     "data": {
      "text/plain": [
       "21"
      ]
     },
     "metadata": {},
     "output_type": "display_data"
    },
    {
     "data": {
      "text/plain": [
       "38"
      ]
     },
     "metadata": {},
     "output_type": "display_data"
    },
    {
     "data": {
      "text/plain": [
       "67"
      ]
     },
     "metadata": {},
     "output_type": "display_data"
    },
    {
     "name": "stdout",
     "output_type": "stream",
     "text": [
      "\n",
      "\n",
      "cluster 3 (size 4):\n",
      "[ 1  2  3 48]\n"
     ]
    },
    {
     "data": {
      "text/plain": [
       "1"
      ]
     },
     "metadata": {},
     "output_type": "display_data"
    },
    {
     "data": {
      "text/plain": [
       "2"
      ]
     },
     "metadata": {},
     "output_type": "display_data"
    },
    {
     "data": {
      "text/plain": [
       "3"
      ]
     },
     "metadata": {},
     "output_type": "display_data"
    },
    {
     "data": {
      "text/plain": [
       "48"
      ]
     },
     "metadata": {},
     "output_type": "display_data"
    },
    {
     "name": "stdout",
     "output_type": "stream",
     "text": [
      "\n",
      "\n",
      "cluster 4 (size 1):\n",
      "[82]\n"
     ]
    },
    {
     "data": {
      "text/plain": [
       "82"
      ]
     },
     "metadata": {},
     "output_type": "display_data"
    },
    {
     "name": "stdout",
     "output_type": "stream",
     "text": [
      "\n",
      "\n",
      "cluster 5 (size 2):\n",
      "[33 34]\n"
     ]
    },
    {
     "data": {
      "text/plain": [
       "33"
      ]
     },
     "metadata": {},
     "output_type": "display_data"
    },
    {
     "data": {
      "text/plain": [
       "34"
      ]
     },
     "metadata": {},
     "output_type": "display_data"
    },
    {
     "name": "stdout",
     "output_type": "stream",
     "text": [
      "\n",
      "\n",
      "cluster 6 (size 2):\n",
      "[86 87]\n"
     ]
    },
    {
     "data": {
      "text/plain": [
       "86"
      ]
     },
     "metadata": {},
     "output_type": "display_data"
    },
    {
     "data": {
      "text/plain": [
       "87"
      ]
     },
     "metadata": {},
     "output_type": "display_data"
    },
    {
     "name": "stdout",
     "output_type": "stream",
     "text": [
      "\n",
      "\n",
      "cluster 7 (size 2):\n",
      "[54 68]\n"
     ]
    },
    {
     "data": {
      "text/plain": [
       "54"
      ]
     },
     "metadata": {},
     "output_type": "display_data"
    },
    {
     "data": {
      "text/plain": [
       "68"
      ]
     },
     "metadata": {},
     "output_type": "display_data"
    },
    {
     "name": "stdout",
     "output_type": "stream",
     "text": [
      "\n",
      "\n",
      "cluster 8 (size 2):\n",
      "[79 80]\n"
     ]
    },
    {
     "data": {
      "text/plain": [
       "79"
      ]
     },
     "metadata": {},
     "output_type": "display_data"
    },
    {
     "data": {
      "text/plain": [
       "80"
      ]
     },
     "metadata": {},
     "output_type": "display_data"
    },
    {
     "name": "stdout",
     "output_type": "stream",
     "text": [
      "\n",
      "\n",
      "cluster 9 (size 1):\n",
      "[78]\n"
     ]
    },
    {
     "data": {
      "text/plain": [
       "78"
      ]
     },
     "metadata": {},
     "output_type": "display_data"
    },
    {
     "name": "stdout",
     "output_type": "stream",
     "text": [
      "\n",
      "\n",
      "cluster 10 (size 1):\n",
      "[64]\n"
     ]
    },
    {
     "data": {
      "text/plain": [
       "64"
      ]
     },
     "metadata": {},
     "output_type": "display_data"
    },
    {
     "name": "stdout",
     "output_type": "stream",
     "text": [
      "\n",
      "\n",
      "cluster 11 (size 1):\n",
      "[77]\n"
     ]
    },
    {
     "data": {
      "text/plain": [
       "77"
      ]
     },
     "metadata": {},
     "output_type": "display_data"
    },
    {
     "name": "stdout",
     "output_type": "stream",
     "text": [
      "\n",
      "\n",
      "cluster 12 (size 2):\n",
      "[74 75]\n"
     ]
    },
    {
     "data": {
      "text/plain": [
       "74"
      ]
     },
     "metadata": {},
     "output_type": "display_data"
    },
    {
     "data": {
      "text/plain": [
       "75"
      ]
     },
     "metadata": {},
     "output_type": "display_data"
    },
    {
     "name": "stdout",
     "output_type": "stream",
     "text": [
      "\n",
      "\n",
      "cluster 13 (size 1):\n",
      "[83]\n"
     ]
    },
    {
     "data": {
      "text/plain": [
       "83"
      ]
     },
     "metadata": {},
     "output_type": "display_data"
    },
    {
     "name": "stdout",
     "output_type": "stream",
     "text": [
      "\n",
      "\n",
      "cluster 14 (size 1):\n",
      "[84]\n"
     ]
    },
    {
     "data": {
      "text/plain": [
       "84"
      ]
     },
     "metadata": {},
     "output_type": "display_data"
    },
    {
     "name": "stdout",
     "output_type": "stream",
     "text": [
      "\n",
      "\n",
      "cluster 15 (size 1):\n",
      "[69]\n"
     ]
    },
    {
     "data": {
      "text/plain": [
       "69"
      ]
     },
     "metadata": {},
     "output_type": "display_data"
    },
    {
     "name": "stdout",
     "output_type": "stream",
     "text": [
      "\n",
      "\n",
      "cluster 16 (size 2):\n",
      "[70 71]\n"
     ]
    },
    {
     "data": {
      "text/plain": [
       "70"
      ]
     },
     "metadata": {},
     "output_type": "display_data"
    },
    {
     "data": {
      "text/plain": [
       "71"
      ]
     },
     "metadata": {},
     "output_type": "display_data"
    },
    {
     "name": "stdout",
     "output_type": "stream",
     "text": [
      "\n",
      "\n",
      "cluster 17 (size 1):\n",
      "[66]\n"
     ]
    },
    {
     "data": {
      "text/plain": [
       "66"
      ]
     },
     "metadata": {},
     "output_type": "display_data"
    },
    {
     "name": "stdout",
     "output_type": "stream",
     "text": [
      "\n",
      "\n",
      "cluster 18 (size 1):\n",
      "[56]\n"
     ]
    },
    {
     "data": {
      "text/plain": [
       "56"
      ]
     },
     "metadata": {},
     "output_type": "display_data"
    },
    {
     "name": "stdout",
     "output_type": "stream",
     "text": [
      "\n",
      "\n",
      "cluster 19 (size 1):\n",
      "[51]\n"
     ]
    },
    {
     "data": {
      "text/plain": [
       "51"
      ]
     },
     "metadata": {},
     "output_type": "display_data"
    },
    {
     "name": "stdout",
     "output_type": "stream",
     "text": [
      "\n",
      "\n",
      "cluster 20 (size 1):\n",
      "[61]\n"
     ]
    },
    {
     "data": {
      "text/plain": [
       "61"
      ]
     },
     "metadata": {},
     "output_type": "display_data"
    },
    {
     "name": "stdout",
     "output_type": "stream",
     "text": [
      "\n",
      "\n",
      "cluster 21 (size 1):\n",
      "[36]\n"
     ]
    },
    {
     "data": {
      "text/plain": [
       "36"
      ]
     },
     "metadata": {},
     "output_type": "display_data"
    },
    {
     "name": "stdout",
     "output_type": "stream",
     "text": [
      "\n",
      "\n",
      "cluster 22 (size 1):\n",
      "[60]\n"
     ]
    },
    {
     "data": {
      "text/plain": [
       "60"
      ]
     },
     "metadata": {},
     "output_type": "display_data"
    },
    {
     "name": "stdout",
     "output_type": "stream",
     "text": [
      "\n",
      "\n",
      "cluster 23 (size 1):\n",
      "[27]\n"
     ]
    },
    {
     "data": {
      "text/plain": [
       "27"
      ]
     },
     "metadata": {},
     "output_type": "display_data"
    },
    {
     "name": "stdout",
     "output_type": "stream",
     "text": [
      "\n",
      "\n",
      "cluster 24 (size 1):\n",
      "[49]\n"
     ]
    },
    {
     "data": {
      "text/plain": [
       "49"
      ]
     },
     "metadata": {},
     "output_type": "display_data"
    },
    {
     "name": "stdout",
     "output_type": "stream",
     "text": [
      "\n",
      "\n",
      "cluster 25 (size 1):\n",
      "[42]\n"
     ]
    },
    {
     "data": {
      "text/plain": [
       "42"
      ]
     },
     "metadata": {},
     "output_type": "display_data"
    },
    {
     "name": "stdout",
     "output_type": "stream",
     "text": [
      "\n",
      "\n",
      "cluster 26 (size 1):\n",
      "[31]\n"
     ]
    },
    {
     "data": {
      "text/plain": [
       "31"
      ]
     },
     "metadata": {},
     "output_type": "display_data"
    },
    {
     "name": "stdout",
     "output_type": "stream",
     "text": [
      "\n",
      "\n",
      "cluster 27 (size 1):\n",
      "[76]\n"
     ]
    },
    {
     "data": {
      "text/plain": [
       "76"
      ]
     },
     "metadata": {},
     "output_type": "display_data"
    },
    {
     "name": "stdout",
     "output_type": "stream",
     "text": [
      "\n",
      "\n",
      "cluster 28 (size 1):\n",
      "[73]\n"
     ]
    },
    {
     "data": {
      "text/plain": [
       "73"
      ]
     },
     "metadata": {},
     "output_type": "display_data"
    },
    {
     "name": "stdout",
     "output_type": "stream",
     "text": [
      "\n",
      "\n",
      "cluster 29 (size 1):\n",
      "[57]\n"
     ]
    },
    {
     "data": {
      "text/plain": [
       "57"
      ]
     },
     "metadata": {},
     "output_type": "display_data"
    },
    {
     "name": "stdout",
     "output_type": "stream",
     "text": [
      "\n",
      "\n",
      "cluster 30 (size 1):\n",
      "[63]\n"
     ]
    },
    {
     "data": {
      "text/plain": [
       "63"
      ]
     },
     "metadata": {},
     "output_type": "display_data"
    },
    {
     "name": "stdout",
     "output_type": "stream",
     "text": [
      "\n",
      "\n",
      "cluster 31 (size 1):\n",
      "[65]\n"
     ]
    },
    {
     "data": {
      "text/plain": [
       "65"
      ]
     },
     "metadata": {},
     "output_type": "display_data"
    },
    {
     "name": "stdout",
     "output_type": "stream",
     "text": [
      "\n",
      "\n",
      "cluster 32 (size 1):\n",
      "[62]\n"
     ]
    },
    {
     "data": {
      "text/plain": [
       "62"
      ]
     },
     "metadata": {},
     "output_type": "display_data"
    },
    {
     "name": "stdout",
     "output_type": "stream",
     "text": [
      "\n",
      "\n",
      "cluster 33 (size 1):\n",
      "[35]\n"
     ]
    },
    {
     "data": {
      "text/plain": [
       "35"
      ]
     },
     "metadata": {},
     "output_type": "display_data"
    },
    {
     "name": "stdout",
     "output_type": "stream",
     "text": [
      "\n",
      "\n",
      "cluster 34 (size 1):\n",
      "[72]\n"
     ]
    },
    {
     "data": {
      "text/plain": [
       "72"
      ]
     },
     "metadata": {},
     "output_type": "display_data"
    },
    {
     "name": "stdout",
     "output_type": "stream",
     "text": [
      "\n",
      "\n",
      "cluster 35 (size 1):\n",
      "[58]\n"
     ]
    },
    {
     "data": {
      "text/plain": [
       "58"
      ]
     },
     "metadata": {},
     "output_type": "display_data"
    },
    {
     "name": "stdout",
     "output_type": "stream",
     "text": [
      "\n",
      "\n",
      "cluster 36 (size 1):\n",
      "[55]\n"
     ]
    },
    {
     "data": {
      "text/plain": [
       "55"
      ]
     },
     "metadata": {},
     "output_type": "display_data"
    },
    {
     "name": "stdout",
     "output_type": "stream",
     "text": [
      "\n",
      "\n",
      "cluster 37 (size 1):\n",
      "[40]\n"
     ]
    },
    {
     "data": {
      "text/plain": [
       "40"
      ]
     },
     "metadata": {},
     "output_type": "display_data"
    },
    {
     "name": "stdout",
     "output_type": "stream",
     "text": [
      "\n",
      "\n",
      "cluster 38 (size 1):\n",
      "[16]\n"
     ]
    },
    {
     "data": {
      "text/plain": [
       "16"
      ]
     },
     "metadata": {},
     "output_type": "display_data"
    },
    {
     "name": "stdout",
     "output_type": "stream",
     "text": [
      "\n",
      "\n",
      "cluster 39 (size 1):\n",
      "[24]\n"
     ]
    },
    {
     "data": {
      "text/plain": [
       "24"
      ]
     },
     "metadata": {},
     "output_type": "display_data"
    },
    {
     "name": "stdout",
     "output_type": "stream",
     "text": [
      "\n",
      "\n",
      "cluster 40 (size 1):\n",
      "[41]\n"
     ]
    },
    {
     "data": {
      "text/plain": [
       "41"
      ]
     },
     "metadata": {},
     "output_type": "display_data"
    },
    {
     "name": "stdout",
     "output_type": "stream",
     "text": [
      "\n",
      "\n",
      "cluster 41 (size 1):\n",
      "[50]\n"
     ]
    },
    {
     "data": {
      "text/plain": [
       "50"
      ]
     },
     "metadata": {},
     "output_type": "display_data"
    },
    {
     "name": "stdout",
     "output_type": "stream",
     "text": [
      "\n",
      "\n",
      "cluster 42 (size 1):\n",
      "[26]\n"
     ]
    },
    {
     "data": {
      "text/plain": [
       "26"
      ]
     },
     "metadata": {},
     "output_type": "display_data"
    },
    {
     "name": "stdout",
     "output_type": "stream",
     "text": [
      "\n",
      "\n",
      "cluster 43 (size 1):\n",
      "[7]\n"
     ]
    },
    {
     "data": {
      "text/plain": [
       "7"
      ]
     },
     "metadata": {},
     "output_type": "display_data"
    },
    {
     "name": "stdout",
     "output_type": "stream",
     "text": [
      "\n",
      "\n",
      "cluster 44 (size 1):\n",
      "[30]\n"
     ]
    },
    {
     "data": {
      "text/plain": [
       "30"
      ]
     },
     "metadata": {},
     "output_type": "display_data"
    },
    {
     "name": "stdout",
     "output_type": "stream",
     "text": [
      "\n",
      "\n",
      "cluster 45 (size 1):\n",
      "[46]\n"
     ]
    },
    {
     "data": {
      "text/plain": [
       "46"
      ]
     },
     "metadata": {},
     "output_type": "display_data"
    },
    {
     "name": "stdout",
     "output_type": "stream",
     "text": [
      "\n",
      "\n",
      "cluster 46 (size 1):\n",
      "[53]\n"
     ]
    },
    {
     "data": {
      "text/plain": [
       "53"
      ]
     },
     "metadata": {},
     "output_type": "display_data"
    },
    {
     "name": "stdout",
     "output_type": "stream",
     "text": [
      "\n",
      "\n",
      "cluster 47 (size 1):\n",
      "[22]\n"
     ]
    },
    {
     "data": {
      "text/plain": [
       "22"
      ]
     },
     "metadata": {},
     "output_type": "display_data"
    },
    {
     "name": "stdout",
     "output_type": "stream",
     "text": [
      "\n",
      "\n",
      "cluster 48 (size 1):\n",
      "[25]\n"
     ]
    },
    {
     "data": {
      "text/plain": [
       "25"
      ]
     },
     "metadata": {},
     "output_type": "display_data"
    },
    {
     "name": "stdout",
     "output_type": "stream",
     "text": [
      "\n",
      "\n",
      "cluster 49 (size 1):\n",
      "[8]\n"
     ]
    },
    {
     "data": {
      "text/plain": [
       "8"
      ]
     },
     "metadata": {},
     "output_type": "display_data"
    },
    {
     "name": "stdout",
     "output_type": "stream",
     "text": [
      "\n",
      "\n",
      "cluster 50 (size 1):\n",
      "[15]\n"
     ]
    },
    {
     "data": {
      "text/plain": [
       "15"
      ]
     },
     "metadata": {},
     "output_type": "display_data"
    },
    {
     "name": "stdout",
     "output_type": "stream",
     "text": [
      "\n",
      "\n",
      "cluster 51 (size 1):\n",
      "[6]\n"
     ]
    },
    {
     "data": {
      "text/plain": [
       "6"
      ]
     },
     "metadata": {},
     "output_type": "display_data"
    },
    {
     "name": "stdout",
     "output_type": "stream",
     "text": [
      "\n",
      "\n",
      "cluster 52 (size 1):\n",
      "[4]\n"
     ]
    },
    {
     "data": {
      "text/plain": [
       "4"
      ]
     },
     "metadata": {},
     "output_type": "display_data"
    },
    {
     "name": "stdout",
     "output_type": "stream",
     "text": [
      "\n",
      "\n",
      "cluster 53 (size 1):\n",
      "[10]\n"
     ]
    },
    {
     "data": {
      "text/plain": [
       "10"
      ]
     },
     "metadata": {},
     "output_type": "display_data"
    },
    {
     "name": "stdout",
     "output_type": "stream",
     "text": [
      "\n",
      "\n",
      "cluster 54 (size 1):\n",
      "[12]\n"
     ]
    },
    {
     "data": {
      "text/plain": [
       "12"
      ]
     },
     "metadata": {},
     "output_type": "display_data"
    },
    {
     "name": "stdout",
     "output_type": "stream",
     "text": [
      "\n",
      "\n",
      "cluster 55 (size 1):\n",
      "[29]\n"
     ]
    },
    {
     "data": {
      "text/plain": [
       "29"
      ]
     },
     "metadata": {},
     "output_type": "display_data"
    },
    {
     "name": "stdout",
     "output_type": "stream",
     "text": [
      "\n",
      "\n",
      "cluster 56 (size 1):\n",
      "[11]\n"
     ]
    },
    {
     "data": {
      "text/plain": [
       "11"
      ]
     },
     "metadata": {},
     "output_type": "display_data"
    },
    {
     "name": "stdout",
     "output_type": "stream",
     "text": [
      "\n",
      "\n",
      "cluster 57 (size 1):\n",
      "[23]\n"
     ]
    },
    {
     "data": {
      "text/plain": [
       "23"
      ]
     },
     "metadata": {},
     "output_type": "display_data"
    },
    {
     "name": "stdout",
     "output_type": "stream",
     "text": [
      "\n",
      "\n",
      "cluster 58 (size 1):\n",
      "[43]\n"
     ]
    },
    {
     "data": {
      "text/plain": [
       "43"
      ]
     },
     "metadata": {},
     "output_type": "display_data"
    },
    {
     "name": "stdout",
     "output_type": "stream",
     "text": [
      "\n",
      "\n",
      "cluster 59 (size 1):\n",
      "[14]\n"
     ]
    },
    {
     "data": {
      "text/plain": [
       "14"
      ]
     },
     "metadata": {},
     "output_type": "display_data"
    },
    {
     "name": "stdout",
     "output_type": "stream",
     "text": [
      "\n",
      "\n",
      "cluster 60 (size 1):\n",
      "[45]\n"
     ]
    },
    {
     "data": {
      "text/plain": [
       "45"
      ]
     },
     "metadata": {},
     "output_type": "display_data"
    },
    {
     "name": "stdout",
     "output_type": "stream",
     "text": [
      "\n",
      "\n",
      "cluster 61 (size 1):\n",
      "[52]\n"
     ]
    },
    {
     "data": {
      "text/plain": [
       "52"
      ]
     },
     "metadata": {},
     "output_type": "display_data"
    },
    {
     "name": "stdout",
     "output_type": "stream",
     "text": [
      "\n",
      "\n",
      "cluster 62 (size 1):\n",
      "[59]\n"
     ]
    },
    {
     "data": {
      "text/plain": [
       "59"
      ]
     },
     "metadata": {},
     "output_type": "display_data"
    },
    {
     "name": "stdout",
     "output_type": "stream",
     "text": [
      "\n",
      "\n",
      "cluster 63 (size 1):\n",
      "[9]\n"
     ]
    },
    {
     "data": {
      "text/plain": [
       "9"
      ]
     },
     "metadata": {},
     "output_type": "display_data"
    },
    {
     "name": "stdout",
     "output_type": "stream",
     "text": [
      "\n",
      "\n",
      "cluster 64 (size 1):\n",
      "[47]\n"
     ]
    },
    {
     "data": {
      "text/plain": [
       "47"
      ]
     },
     "metadata": {},
     "output_type": "display_data"
    },
    {
     "name": "stdout",
     "output_type": "stream",
     "text": [
      "\n",
      "\n",
      "cluster 65 (size 1):\n",
      "[44]\n"
     ]
    },
    {
     "data": {
      "text/plain": [
       "44"
      ]
     },
     "metadata": {},
     "output_type": "display_data"
    },
    {
     "name": "stdout",
     "output_type": "stream",
     "text": [
      "\n",
      "\n",
      "cluster 66 (size 1):\n",
      "[0]\n"
     ]
    },
    {
     "data": {
      "text/plain": [
       "0"
      ]
     },
     "metadata": {},
     "output_type": "display_data"
    },
    {
     "name": "stdout",
     "output_type": "stream",
     "text": [
      "\n",
      "\n",
      "cluster 67 (size 1):\n",
      "[5]\n"
     ]
    },
    {
     "data": {
      "text/plain": [
       "5"
      ]
     },
     "metadata": {},
     "output_type": "display_data"
    },
    {
     "name": "stdout",
     "output_type": "stream",
     "text": [
      "\n",
      "\n",
      "cluster 68 (size 1):\n",
      "[13]\n"
     ]
    },
    {
     "data": {
      "text/plain": [
       "13"
      ]
     },
     "metadata": {},
     "output_type": "display_data"
    },
    {
     "name": "stdout",
     "output_type": "stream",
     "text": [
      "\n",
      "\n",
      "cluster 69 (size 1):\n",
      "[19]\n"
     ]
    },
    {
     "data": {
      "text/plain": [
       "19"
      ]
     },
     "metadata": {},
     "output_type": "display_data"
    },
    {
     "name": "stdout",
     "output_type": "stream",
     "text": [
      "\n",
      "\n",
      "cluster 70 (size 1):\n",
      "[37]\n"
     ]
    },
    {
     "data": {
      "text/plain": [
       "37"
      ]
     },
     "metadata": {},
     "output_type": "display_data"
    },
    {
     "name": "stdout",
     "output_type": "stream",
     "text": [
      "\n",
      "\n",
      "cluster 71 (size 1):\n",
      "[28]\n"
     ]
    },
    {
     "data": {
      "text/plain": [
       "28"
      ]
     },
     "metadata": {},
     "output_type": "display_data"
    },
    {
     "name": "stdout",
     "output_type": "stream",
     "text": [
      "\n",
      "\n"
     ]
    }
   ],
   "source": [
    "clusters = AgglomerativeClustering(n_clusters=optimal_k, affinity='precomputed', linkage='single')\n",
    "clusters.fit_predict(dist_mat)\n",
    "for i in range(clusters.n_clusters_):\n",
    "    indices = np.where(clusters.labels_ == i)[0]\n",
    "    \n",
    "    print(f'cluster {i} (size {len(indices)}):')\n",
    "    print(indices)\n",
    "    for idx in indices:\n",
    "        display(df_piv.index[idx])\n",
    "    print('\\n')"
   ]
  },
  {
   "cell_type": "code",
   "execution_count": 27,
   "metadata": {},
   "outputs": [
    {
     "name": "stdin",
     "output_type": "stream",
     "text": [
      "enter path to save clusters json file:\n",
      " ../data/astro0/astro0_decomposed_roberta_clusters.json\n"
     ]
    }
   ],
   "source": [
    "import json\n",
    "# save clusters into JSON dict\n",
    "clusters_dict = dict()\n",
    "for i in range(clusters.n_clusters_):\n",
    "    indices = np.where(clusters.labels_ == i)[0]\n",
    "    sents = list()\n",
    "    for idx in indices:\n",
    "        sents.append(int(df_piv.index[idx]))\n",
    "    clusters_dict[i] = sents\n",
    "path = input(\"enter path to save clusters json file:\\n\")\n",
    "with open(path, 'w') as fp:\n",
    "    json.dump(clusters_dict, fp)"
   ]
  },
  {
   "cell_type": "code",
   "execution_count": 28,
   "metadata": {
    "scrolled": true
   },
   "outputs": [
    {
     "data": {
      "text/html": [
       "<div>\n",
       "<style scoped>\n",
       "    .dataframe tbody tr th:only-of-type {\n",
       "        vertical-align: middle;\n",
       "    }\n",
       "\n",
       "    .dataframe tbody tr th {\n",
       "        vertical-align: top;\n",
       "    }\n",
       "\n",
       "    .dataframe thead th {\n",
       "        text-align: right;\n",
       "    }\n",
       "</style>\n",
       "<table border=\"1\" class=\"dataframe\">\n",
       "  <thead>\n",
       "    <tr style=\"text-align: right;\">\n",
       "      <th>second_index</th>\n",
       "      <th>0</th>\n",
       "      <th>1</th>\n",
       "      <th>2</th>\n",
       "      <th>3</th>\n",
       "      <th>4</th>\n",
       "      <th>5</th>\n",
       "      <th>6</th>\n",
       "      <th>7</th>\n",
       "      <th>8</th>\n",
       "      <th>9</th>\n",
       "      <th>...</th>\n",
       "      <th>78</th>\n",
       "      <th>79</th>\n",
       "      <th>80</th>\n",
       "      <th>81</th>\n",
       "      <th>82</th>\n",
       "      <th>83</th>\n",
       "      <th>84</th>\n",
       "      <th>85</th>\n",
       "      <th>86</th>\n",
       "      <th>87</th>\n",
       "    </tr>\n",
       "    <tr>\n",
       "      <th>first_index</th>\n",
       "      <th></th>\n",
       "      <th></th>\n",
       "      <th></th>\n",
       "      <th></th>\n",
       "      <th></th>\n",
       "      <th></th>\n",
       "      <th></th>\n",
       "      <th></th>\n",
       "      <th></th>\n",
       "      <th></th>\n",
       "      <th></th>\n",
       "      <th></th>\n",
       "      <th></th>\n",
       "      <th></th>\n",
       "      <th></th>\n",
       "      <th></th>\n",
       "      <th></th>\n",
       "      <th></th>\n",
       "      <th></th>\n",
       "      <th></th>\n",
       "      <th></th>\n",
       "    </tr>\n",
       "  </thead>\n",
       "  <tbody>\n",
       "    <tr>\n",
       "      <th>0</th>\n",
       "      <td>0.000000</td>\n",
       "      <td>0.457454</td>\n",
       "      <td>0.890627</td>\n",
       "      <td>0.122736</td>\n",
       "      <td>0.343647</td>\n",
       "      <td>0.303749</td>\n",
       "      <td>0.494094</td>\n",
       "      <td>0.498978</td>\n",
       "      <td>0.428174</td>\n",
       "      <td>0.499487</td>\n",
       "      <td>...</td>\n",
       "      <td>0.490302</td>\n",
       "      <td>0.497844</td>\n",
       "      <td>0.497375</td>\n",
       "      <td>0.401196</td>\n",
       "      <td>0.489331</td>\n",
       "      <td>0.993485</td>\n",
       "      <td>0.491715</td>\n",
       "      <td>0.494522</td>\n",
       "      <td>0.378094</td>\n",
       "      <td>0.391084</td>\n",
       "    </tr>\n",
       "    <tr>\n",
       "      <th>1</th>\n",
       "      <td>0.457454</td>\n",
       "      <td>0.000000</td>\n",
       "      <td>0.032994</td>\n",
       "      <td>0.130562</td>\n",
       "      <td>0.498068</td>\n",
       "      <td>0.495861</td>\n",
       "      <td>0.498606</td>\n",
       "      <td>0.486919</td>\n",
       "      <td>0.480689</td>\n",
       "      <td>0.499531</td>\n",
       "      <td>...</td>\n",
       "      <td>0.485482</td>\n",
       "      <td>0.497580</td>\n",
       "      <td>0.498825</td>\n",
       "      <td>0.486510</td>\n",
       "      <td>0.874905</td>\n",
       "      <td>0.987602</td>\n",
       "      <td>0.485783</td>\n",
       "      <td>0.417588</td>\n",
       "      <td>0.497986</td>\n",
       "      <td>0.493121</td>\n",
       "    </tr>\n",
       "    <tr>\n",
       "      <th>2</th>\n",
       "      <td>0.890627</td>\n",
       "      <td>0.032994</td>\n",
       "      <td>0.000000</td>\n",
       "      <td>0.002692</td>\n",
       "      <td>0.456897</td>\n",
       "      <td>0.492376</td>\n",
       "      <td>0.498840</td>\n",
       "      <td>0.481217</td>\n",
       "      <td>0.465977</td>\n",
       "      <td>0.499415</td>\n",
       "      <td>...</td>\n",
       "      <td>0.496183</td>\n",
       "      <td>0.495881</td>\n",
       "      <td>0.499339</td>\n",
       "      <td>0.612499</td>\n",
       "      <td>0.667300</td>\n",
       "      <td>0.994634</td>\n",
       "      <td>0.498959</td>\n",
       "      <td>0.493914</td>\n",
       "      <td>0.491291</td>\n",
       "      <td>0.494619</td>\n",
       "    </tr>\n",
       "    <tr>\n",
       "      <th>3</th>\n",
       "      <td>0.122736</td>\n",
       "      <td>0.130562</td>\n",
       "      <td>0.002692</td>\n",
       "      <td>0.000000</td>\n",
       "      <td>0.458032</td>\n",
       "      <td>0.484349</td>\n",
       "      <td>0.498572</td>\n",
       "      <td>0.487478</td>\n",
       "      <td>0.456454</td>\n",
       "      <td>0.499436</td>\n",
       "      <td>...</td>\n",
       "      <td>0.496204</td>\n",
       "      <td>0.497620</td>\n",
       "      <td>0.499115</td>\n",
       "      <td>0.769684</td>\n",
       "      <td>0.424280</td>\n",
       "      <td>0.998456</td>\n",
       "      <td>0.497800</td>\n",
       "      <td>0.486022</td>\n",
       "      <td>0.490840</td>\n",
       "      <td>0.493866</td>\n",
       "    </tr>\n",
       "    <tr>\n",
       "      <th>4</th>\n",
       "      <td>0.343647</td>\n",
       "      <td>0.498068</td>\n",
       "      <td>0.456897</td>\n",
       "      <td>0.458032</td>\n",
       "      <td>0.000000</td>\n",
       "      <td>0.440961</td>\n",
       "      <td>0.499034</td>\n",
       "      <td>0.499095</td>\n",
       "      <td>0.831255</td>\n",
       "      <td>0.499499</td>\n",
       "      <td>...</td>\n",
       "      <td>0.452073</td>\n",
       "      <td>0.498734</td>\n",
       "      <td>0.499442</td>\n",
       "      <td>0.989376</td>\n",
       "      <td>0.861346</td>\n",
       "      <td>0.499028</td>\n",
       "      <td>0.490917</td>\n",
       "      <td>0.481579</td>\n",
       "      <td>0.367555</td>\n",
       "      <td>0.460451</td>\n",
       "    </tr>\n",
       "  </tbody>\n",
       "</table>\n",
       "<p>5 rows × 88 columns</p>\n",
       "</div>"
      ],
      "text/plain": [
       "second_index        0         1         2         3         4         5   \\\n",
       "first_index                                                                \n",
       "0             0.000000  0.457454  0.890627  0.122736  0.343647  0.303749   \n",
       "1             0.457454  0.000000  0.032994  0.130562  0.498068  0.495861   \n",
       "2             0.890627  0.032994  0.000000  0.002692  0.456897  0.492376   \n",
       "3             0.122736  0.130562  0.002692  0.000000  0.458032  0.484349   \n",
       "4             0.343647  0.498068  0.456897  0.458032  0.000000  0.440961   \n",
       "\n",
       "second_index        6         7         8         9   ...        78        79  \\\n",
       "first_index                                           ...                       \n",
       "0             0.494094  0.498978  0.428174  0.499487  ...  0.490302  0.497844   \n",
       "1             0.498606  0.486919  0.480689  0.499531  ...  0.485482  0.497580   \n",
       "2             0.498840  0.481217  0.465977  0.499415  ...  0.496183  0.495881   \n",
       "3             0.498572  0.487478  0.456454  0.499436  ...  0.496204  0.497620   \n",
       "4             0.499034  0.499095  0.831255  0.499499  ...  0.452073  0.498734   \n",
       "\n",
       "second_index        80        81        82        83        84        85  \\\n",
       "first_index                                                                \n",
       "0             0.497375  0.401196  0.489331  0.993485  0.491715  0.494522   \n",
       "1             0.498825  0.486510  0.874905  0.987602  0.485783  0.417588   \n",
       "2             0.499339  0.612499  0.667300  0.994634  0.498959  0.493914   \n",
       "3             0.499115  0.769684  0.424280  0.998456  0.497800  0.486022   \n",
       "4             0.499442  0.989376  0.861346  0.499028  0.490917  0.481579   \n",
       "\n",
       "second_index        86        87  \n",
       "first_index                       \n",
       "0             0.378094  0.391084  \n",
       "1             0.497986  0.493121  \n",
       "2             0.491291  0.494619  \n",
       "3             0.490840  0.493866  \n",
       "4             0.367555  0.460451  \n",
       "\n",
       "[5 rows x 88 columns]"
      ]
     },
     "execution_count": 28,
     "metadata": {},
     "output_type": "execute_result"
    }
   ],
   "source": [
    "# create symmetric pivot df for saving.\n",
    "df_piv_symmetric = pd.DataFrame(data=dist_mat, index=df_piv.index, columns=df_piv.columns)\n",
    "df_piv_symmetric.head()"
   ]
  },
  {
   "cell_type": "code",
   "execution_count": 29,
   "metadata": {},
   "outputs": [
    {
     "name": "stdin",
     "output_type": "stream",
     "text": [
      "enter path to save csv file for pairwise distances:\n",
      " ../data/astro0/astro0_decomposed_roberta_pairwisematrix.csv\n"
     ]
    }
   ],
   "source": [
    "path = input(\"enter path to save csv file for pairwise distances:\\n\")\n",
    "df_piv_symmetric.to_csv(path)"
   ]
  },
  {
   "cell_type": "code",
   "execution_count": null,
   "metadata": {},
   "outputs": [],
   "source": []
  },
  {
   "cell_type": "markdown",
   "metadata": {},
   "source": [
    "### extra: more exploration for choosing \"optimal\" clusters."
   ]
  },
  {
   "cell_type": "markdown",
   "metadata": {},
   "source": [
    "If we use the cutting method on the dengrogram generated much earlier, then we'll end up with 6, 19, 44 or 60 clusters depending on where we cut. However, for the lower number of clusters (e.g. 6 or 19, the cluster sizes are highly imbalanced). We should take a closer look at the contents of the clusters formed."
   ]
  },
  {
   "cell_type": "code",
   "execution_count": null,
   "metadata": {
    "collapsed": true,
    "jupyter": {
     "outputs_hidden": true
    }
   },
   "outputs": [],
   "source": [
    "for chosen_k in [6, 19, 44, 60]:\n",
    "    print('------')\n",
    "    print(f'\\n{chosen_k}')\n",
    "    clusters = AgglomerativeClustering(n_clusters=chosen_k, affinity='precomputed', linkage='single')\n",
    "    clusters.fit_predict(dist_mat)\n",
    "    for i in range(clusters.n_clusters_):\n",
    "        indices = np.where(clusters.labels_ == i)[0]\n",
    "\n",
    "        print(f'cluster {i} (size {len(indices)}):')\n",
    "        print(indices)\n",
    "        for idx in indices:\n",
    "            display(df_piv.index[idx])\n",
    "        print('\\n')"
   ]
  },
  {
   "cell_type": "markdown",
   "metadata": {},
   "source": [
    "We could try different linkage algorithms to see their effects too. But we'll leave this for another time."
   ]
  },
  {
   "cell_type": "markdown",
   "metadata": {},
   "source": [
    "Let's try visualising (approximately) a graph from the distance matrix:"
   ]
  },
  {
   "cell_type": "code",
   "execution_count": 41,
   "metadata": {
    "collapsed": true,
    "jupyter": {
     "outputs_hidden": true
    }
   },
   "outputs": [],
   "source": [
    "import networkx as nx\n",
    "import string"
   ]
  },
  {
   "cell_type": "code",
   "execution_count": 42,
   "metadata": {
    "collapsed": true,
    "jupyter": {
     "outputs_hidden": true
    }
   },
   "outputs": [
    {
     "name": "stdout",
     "output_type": "stream",
     "text": [
      "[0, 1, 2, 3, 4, 5, 6, 7, 8, 9, 10, 11, 12, 13, 14, 15, 16, 17, 18, 19, 20, 21, 22, 23, 24, 25, 26, 27, 28, 29, 30, 31, 32, 33, 34, 35, 36, 37, 38, 39, 40, 41, 42, 43, 44, 45, 46]\n",
      "[(0, 1), (0, 2), (0, 3), (0, 4), (0, 5), (0, 6), (0, 7), (0, 8), (0, 9), (0, 10), (0, 11), (0, 12), (0, 13), (0, 14), (0, 15), (0, 16), (0, 17), (0, 18), (0, 19), (0, 20), (0, 21), (0, 22), (0, 23), (0, 24), (0, 25), (0, 26), (0, 27), (0, 28), (0, 29), (0, 30), (0, 31), (0, 32), (0, 33), (0, 34), (0, 35), (0, 36), (0, 37), (0, 38), (0, 39), (0, 40), (0, 41), (0, 42), (0, 43), (0, 44), (0, 45), (0, 46), (1, 2), (1, 3), (1, 4), (1, 5), (1, 6), (1, 7), (1, 8), (1, 9), (1, 10), (1, 11), (1, 12), (1, 13), (1, 14), (1, 15), (1, 16), (1, 17), (1, 18), (1, 19), (1, 20), (1, 21), (1, 22), (1, 23), (1, 24), (1, 25), (1, 26), (1, 27), (1, 28), (1, 29), (1, 30), (1, 31), (1, 32), (1, 33), (1, 34), (1, 35), (1, 36), (1, 37), (1, 38), (1, 39), (1, 40), (1, 41), (1, 42), (1, 43), (1, 44), (1, 45), (1, 46), (2, 3), (2, 4), (2, 5), (2, 6), (2, 7), (2, 8), (2, 9), (2, 10), (2, 11), (2, 12), (2, 13), (2, 14), (2, 15), (2, 16), (2, 17), (2, 18), (2, 19), (2, 20), (2, 21), (2, 22), (2, 23), (2, 24), (2, 25), (2, 26), (2, 27), (2, 28), (2, 29), (2, 30), (2, 31), (2, 32), (2, 33), (2, 34), (2, 35), (2, 36), (2, 37), (2, 38), (2, 39), (2, 40), (2, 41), (2, 42), (2, 43), (2, 44), (2, 45), (2, 46), (3, 4), (3, 5), (3, 6), (3, 7), (3, 8), (3, 9), (3, 10), (3, 11), (3, 12), (3, 13), (3, 14), (3, 15), (3, 16), (3, 17), (3, 18), (3, 19), (3, 20), (3, 21), (3, 22), (3, 23), (3, 24), (3, 25), (3, 26), (3, 27), (3, 28), (3, 29), (3, 30), (3, 31), (3, 32), (3, 33), (3, 34), (3, 35), (3, 36), (3, 37), (3, 38), (3, 39), (3, 40), (3, 41), (3, 42), (3, 43), (3, 44), (3, 45), (3, 46), (4, 5), (4, 6), (4, 7), (4, 8), (4, 9), (4, 10), (4, 11), (4, 12), (4, 13), (4, 14), (4, 15), (4, 16), (4, 17), (4, 18), (4, 19), (4, 20), (4, 21), (4, 22), (4, 23), (4, 24), (4, 25), (4, 26), (4, 27), (4, 28), (4, 29), (4, 30), (4, 31), (4, 32), (4, 33), (4, 34), (4, 35), (4, 36), (4, 37), (4, 38), (4, 39), (4, 40), (4, 41), (4, 42), (4, 43), (4, 44), (4, 45), (4, 46), (5, 6), (5, 7), (5, 8), (5, 9), (5, 10), (5, 11), (5, 12), (5, 13), (5, 14), (5, 15), (5, 16), (5, 17), (5, 18), (5, 19), (5, 20), (5, 21), (5, 22), (5, 23), (5, 24), (5, 25), (5, 26), (5, 27), (5, 28), (5, 29), (5, 30), (5, 31), (5, 32), (5, 33), (5, 34), (5, 35), (5, 36), (5, 37), (5, 38), (5, 39), (5, 40), (5, 41), (5, 42), (5, 43), (5, 44), (5, 45), (5, 46), (6, 7), (6, 8), (6, 9), (6, 10), (6, 11), (6, 12), (6, 13), (6, 14), (6, 15), (6, 16), (6, 17), (6, 18), (6, 19), (6, 20), (6, 21), (6, 22), (6, 23), (6, 24), (6, 25), (6, 26), (6, 27), (6, 28), (6, 29), (6, 30), (6, 31), (6, 32), (6, 33), (6, 34), (6, 35), (6, 36), (6, 37), (6, 38), (6, 39), (6, 40), (6, 41), (6, 42), (6, 43), (6, 44), (6, 45), (6, 46), (7, 8), (7, 9), (7, 10), (7, 11), (7, 12), (7, 13), (7, 14), (7, 15), (7, 16), (7, 17), (7, 18), (7, 19), (7, 20), (7, 21), (7, 22), (7, 23), (7, 24), (7, 25), (7, 26), (7, 27), (7, 28), (7, 29), (7, 30), (7, 31), (7, 32), (7, 33), (7, 34), (7, 35), (7, 36), (7, 37), (7, 38), (7, 39), (7, 40), (7, 41), (7, 42), (7, 43), (7, 44), (7, 45), (7, 46), (8, 9), (8, 10), (8, 11), (8, 12), (8, 13), (8, 14), (8, 15), (8, 16), (8, 17), (8, 18), (8, 19), (8, 20), (8, 21), (8, 22), (8, 23), (8, 24), (8, 25), (8, 26), (8, 27), (8, 28), (8, 29), (8, 30), (8, 31), (8, 32), (8, 33), (8, 34), (8, 35), (8, 36), (8, 37), (8, 38), (8, 39), (8, 40), (8, 41), (8, 42), (8, 43), (8, 44), (8, 45), (8, 46), (9, 10), (9, 11), (9, 12), (9, 13), (9, 14), (9, 15), (9, 16), (9, 17), (9, 18), (9, 19), (9, 20), (9, 21), (9, 22), (9, 23), (9, 24), (9, 25), (9, 26), (9, 27), (9, 28), (9, 29), (9, 30), (9, 31), (9, 32), (9, 33), (9, 34), (9, 35), (9, 36), (9, 37), (9, 38), (9, 39), (9, 40), (9, 41), (9, 42), (9, 43), (9, 44), (9, 45), (9, 46), (10, 11), (10, 12), (10, 13), (10, 14), (10, 15), (10, 16), (10, 17), (10, 18), (10, 19), (10, 20), (10, 21), (10, 22), (10, 23), (10, 24), (10, 25), (10, 26), (10, 27), (10, 28), (10, 29), (10, 30), (10, 31), (10, 32), (10, 33), (10, 34), (10, 35), (10, 36), (10, 37), (10, 38), (10, 39), (10, 40), (10, 41), (10, 42), (10, 43), (10, 44), (10, 45), (10, 46), (11, 12), (11, 13), (11, 14), (11, 15), (11, 16), (11, 17), (11, 18), (11, 19), (11, 20), (11, 21), (11, 22), (11, 23), (11, 24), (11, 25), (11, 26), (11, 27), (11, 28), (11, 29), (11, 30), (11, 31), (11, 32), (11, 33), (11, 34), (11, 35), (11, 36), (11, 37), (11, 38), (11, 39), (11, 40), (11, 41), (11, 42), (11, 43), (11, 44), (11, 45), (11, 46), (12, 13), (12, 14), (12, 15), (12, 16), (12, 17), (12, 18), (12, 19), (12, 20), (12, 21), (12, 22), (12, 23), (12, 24), (12, 25), (12, 26), (12, 27), (12, 28), (12, 29), (12, 30), (12, 31), (12, 32), (12, 33), (12, 34), (12, 35), (12, 36), (12, 37), (12, 38), (12, 39), (12, 40), (12, 41), (12, 42), (12, 43), (12, 44), (12, 45), (12, 46), (13, 14), (13, 15), (13, 16), (13, 17), (13, 18), (13, 19), (13, 20), (13, 21), (13, 22), (13, 23), (13, 24), (13, 25), (13, 26), (13, 27), (13, 28), (13, 29), (13, 30), (13, 31), (13, 32), (13, 33), (13, 34), (13, 35), (13, 36), (13, 37), (13, 38), (13, 39), (13, 40), (13, 41), (13, 42), (13, 43), (13, 44), (13, 45), (13, 46), (14, 15), (14, 16), (14, 17), (14, 18), (14, 19), (14, 20), (14, 21), (14, 22), (14, 23), (14, 24), (14, 25), (14, 26), (14, 27), (14, 28), (14, 29), (14, 30), (14, 31), (14, 32), (14, 33), (14, 34), (14, 35), (14, 36), (14, 37), (14, 38), (14, 39), (14, 40), (14, 41), (14, 42), (14, 43), (14, 44), (14, 45), (14, 46), (15, 16), (15, 17), (15, 18), (15, 19), (15, 20), (15, 21), (15, 22), (15, 23), (15, 24), (15, 25), (15, 26), (15, 27), (15, 28), (15, 29), (15, 30), (15, 31), (15, 32), (15, 33), (15, 34), (15, 35), (15, 36), (15, 37), (15, 38), (15, 39), (15, 40), (15, 41), (15, 42), (15, 43), (15, 44), (15, 45), (15, 46), (16, 17), (16, 18), (16, 19), (16, 20), (16, 21), (16, 22), (16, 23), (16, 24), (16, 25), (16, 26), (16, 27), (16, 28), (16, 29), (16, 30), (16, 31), (16, 32), (16, 33), (16, 34), (16, 35), (16, 36), (16, 37), (16, 38), (16, 39), (16, 40), (16, 41), (16, 42), (16, 43), (16, 44), (16, 45), (16, 46), (17, 18), (17, 19), (17, 20), (17, 21), (17, 22), (17, 23), (17, 24), (17, 25), (17, 26), (17, 27), (17, 28), (17, 29), (17, 30), (17, 31), (17, 32), (17, 33), (17, 34), (17, 35), (17, 36), (17, 37), (17, 38), (17, 39), (17, 40), (17, 41), (17, 42), (17, 43), (17, 44), (17, 45), (17, 46), (18, 19), (18, 20), (18, 21), (18, 22), (18, 23), (18, 24), (18, 25), (18, 26), (18, 27), (18, 28), (18, 29), (18, 30), (18, 31), (18, 32), (18, 33), (18, 34), (18, 35), (18, 36), (18, 37), (18, 38), (18, 39), (18, 40), (18, 41), (18, 42), (18, 43), (18, 44), (18, 45), (18, 46), (19, 20), (19, 21), (19, 22), (19, 23), (19, 24), (19, 25), (19, 26), (19, 27), (19, 28), (19, 29), (19, 30), (19, 31), (19, 32), (19, 33), (19, 34), (19, 35), (19, 36), (19, 37), (19, 38), (19, 39), (19, 40), (19, 41), (19, 42), (19, 43), (19, 44), (19, 45), (19, 46), (20, 21), (20, 22), (20, 23), (20, 24), (20, 25), (20, 26), (20, 27), (20, 28), (20, 29), (20, 30), (20, 31), (20, 32), (20, 33), (20, 34), (20, 35), (20, 36), (20, 37), (20, 38), (20, 39), (20, 40), (20, 41), (20, 42), (20, 43), (20, 44), (20, 45), (20, 46), (21, 22), (21, 23), (21, 24), (21, 25), (21, 26), (21, 27), (21, 28), (21, 29), (21, 30), (21, 31), (21, 32), (21, 33), (21, 34), (21, 35), (21, 36), (21, 37), (21, 38), (21, 39), (21, 40), (21, 41), (21, 42), (21, 43), (21, 44), (21, 45), (21, 46), (22, 23), (22, 24), (22, 25), (22, 26), (22, 27), (22, 28), (22, 29), (22, 30), (22, 31), (22, 32), (22, 33), (22, 34), (22, 35), (22, 36), (22, 37), (22, 38), (22, 39), (22, 40), (22, 41), (22, 42), (22, 43), (22, 44), (22, 45), (22, 46), (23, 24), (23, 25), (23, 26), (23, 27), (23, 28), (23, 29), (23, 30), (23, 31), (23, 32), (23, 33), (23, 34), (23, 35), (23, 36), (23, 37), (23, 38), (23, 39), (23, 40), (23, 41), (23, 42), (23, 43), (23, 44), (23, 45), (23, 46), (24, 25), (24, 26), (24, 27), (24, 28), (24, 29), (24, 30), (24, 31), (24, 32), (24, 33), (24, 34), (24, 35), (24, 36), (24, 37), (24, 38), (24, 39), (24, 40), (24, 41), (24, 42), (24, 43), (24, 44), (24, 45), (24, 46), (25, 26), (25, 27), (25, 28), (25, 29), (25, 30), (25, 31), (25, 32), (25, 33), (25, 34), (25, 35), (25, 36), (25, 37), (25, 38), (25, 39), (25, 40), (25, 41), (25, 42), (25, 43), (25, 44), (25, 45), (25, 46), (26, 27), (26, 28), (26, 29), (26, 30), (26, 31), (26, 32), (26, 33), (26, 34), (26, 35), (26, 36), (26, 37), (26, 38), (26, 39), (26, 40), (26, 41), (26, 42), (26, 43), (26, 44), (26, 45), (26, 46), (27, 28), (27, 29), (27, 30), (27, 31), (27, 32), (27, 33), (27, 34), (27, 35), (27, 36), (27, 37), (27, 38), (27, 39), (27, 40), (27, 41), (27, 42), (27, 43), (27, 44), (27, 45), (27, 46), (28, 29), (28, 30), (28, 31), (28, 32), (28, 33), (28, 34), (28, 35), (28, 36), (28, 37), (28, 38), (28, 39), (28, 40), (28, 41), (28, 42), (28, 43), (28, 44), (28, 45), (28, 46), (29, 30), (29, 31), (29, 32), (29, 33), (29, 34), (29, 35), (29, 36), (29, 37), (29, 38), (29, 39), (29, 40), (29, 41), (29, 42), (29, 43), (29, 44), (29, 45), (29, 46), (30, 31), (30, 32), (30, 33), (30, 34), (30, 35), (30, 36), (30, 37), (30, 38), (30, 39), (30, 40), (30, 41), (30, 42), (30, 43), (30, 44), (30, 45), (30, 46), (31, 32), (31, 33), (31, 34), (31, 35), (31, 36), (31, 37), (31, 38), (31, 39), (31, 40), (31, 41), (31, 42), (31, 43), (31, 44), (31, 45), (31, 46), (32, 33), (32, 34), (32, 35), (32, 36), (32, 37), (32, 38), (32, 39), (32, 40), (32, 41), (32, 42), (32, 43), (32, 44), (32, 45), (32, 46), (33, 34), (33, 35), (33, 36), (33, 37), (33, 38), (33, 39), (33, 40), (33, 41), (33, 42), (33, 43), (33, 44), (33, 45), (33, 46), (34, 35), (34, 36), (34, 37), (34, 38), (34, 39), (34, 40), (34, 41), (34, 42), (34, 43), (34, 44), (34, 45), (34, 46), (35, 36), (35, 37), (35, 38), (35, 39), (35, 40), (35, 41), (35, 42), (35, 43), (35, 44), (35, 45), (35, 46), (36, 37), (36, 38), (36, 39), (36, 40), (36, 41), (36, 42), (36, 43), (36, 44), (36, 45), (36, 46), (37, 38), (37, 39), (37, 40), (37, 41), (37, 42), (37, 43), (37, 44), (37, 45), (37, 46), (38, 39), (38, 40), (38, 41), (38, 42), (38, 43), (38, 44), (38, 45), (38, 46), (39, 40), (39, 41), (39, 42), (39, 43), (39, 44), (39, 45), (39, 46), (40, 41), (40, 42), (40, 43), (40, 44), (40, 45), (40, 46), (41, 42), (41, 43), (41, 44), (41, 45), (41, 46), (42, 43), (42, 44), (42, 45), (42, 46), (43, 44), (43, 45), (43, 46), (44, 45), (44, 46), (45, 46)]\n"
     ]
    }
   ],
   "source": [
    "G = nx.from_numpy_matrix(dist_mat)\n",
    "print(G.nodes())\n",
    "print(G.edges())"
   ]
  },
  {
   "cell_type": "code",
   "execution_count": 43,
   "metadata": {
    "collapsed": true,
    "jupyter": {
     "outputs_hidden": true
    }
   },
   "outputs": [],
   "source": [
    "G = nx.from_numpy_matrix(dist_mat)\n",
    "G = nx.relabel_nodes(G, dict(zip(range(len(G.nodes())),string.ascii_uppercase)))"
   ]
  },
  {
   "cell_type": "code",
   "execution_count": 45,
   "metadata": {
    "collapsed": true,
    "jupyter": {
     "outputs_hidden": true
    }
   },
   "outputs": [
    {
     "name": "stdout",
     "output_type": "stream",
     "text": [
      "using package pydot\n"
     ]
    },
    {
     "name": "stdin",
     "output_type": "stream",
     "text": [
      "enter path to save dot file:\n",
      " ../data/viz/Astro1_decomposed_clean_pairs_roberta.dot\n"
     ]
    }
   ],
   "source": [
    "import pydot\n",
    "from networkx.drawing.nx_pydot import write_dot\n",
    "print(\"using package pydot\")\n",
    "path = input(\"enter path to save dot file:\\n\")\n",
    "write_dot(G, path)"
   ]
  },
  {
   "cell_type": "markdown",
   "metadata": {},
   "source": [
    "Provide generated dotfile to Graphviz neato program for advanced visualisation. Voila!"
   ]
  },
  {
   "cell_type": "code",
   "execution_count": 46,
   "metadata": {
    "collapsed": true,
    "jupyter": {
     "outputs_hidden": true
    }
   },
   "outputs": [
    {
     "name": "stdout",
     "output_type": "stream",
     "text": [
      "0   Debate and argument appeal to you.\n",
      "1   Keeping things going is your strength, especially once someone else starts them.\n",
      "2   Money and possessions are important to you for the feelings of security they bring.\n",
      "3   Whatever you have set your sights on, you refuse to give up or let go of it.\n",
      "4   You are adventurous.\n",
      "5   You are consistent.\n",
      "6   You are courageous.\n",
      "7   You are gentle.\n",
      "8   You are handy with your hands.\n",
      "9   You are independent.\n",
      "10   You are patient unless someone takes you too far.\n",
      "11   You are quiet.\n",
      "12   You are reliable.\n",
      "13   You are romantic.\n",
      "14   You are sensitive.\n",
      "15   You are sentimental.\n",
      "16   You are shy.\n",
      "17   You are usually outspoken, sometimes to the point of bluntness.\n",
      "18   You are usually slow to anger unless someone takes you too far.\n",
      "19   You are very direct in thought, action, and speech and everyone knows how you feel.\n",
      "20   You can handle more of the workload than most around you.\n",
      "21   You enjoy building and seeing the results of your hard work.\n",
      "22   You grasp concepts easily.\n",
      "23   You have common sense to manage others.\n",
      "24   You have the ability to manage others.\n",
      "25   You may be a bit of a perfectionist.\n",
      "26   You may be ambidextrous or mechanically inclined.\n",
      "27   You may become impatient with those who do n't learn as quickly.\n",
      "28   You never find it difficult to change your mind or course in mid-stream.\n",
      "29   You never give up.\n",
      "30   You prefer a regular routine, defined responsibilities.\n",
      "31   You prefer a regular routine, defined tasks.\n",
      "32   You tend to be dependable.\n",
      "33   You tend to be friendly.\n",
      "34   You tend to be honest.\n",
      "35   You tend to be idealistic.\n",
      "36   You tend to be industrious, efficient, practical, exacting, scientific, organized, shy, thrifty, studious, economical, and punctual.\n",
      "37   You tend to be open-minded.\n",
      "38   You tend to be optimistic.\n",
      "39   You tend to be versatile.\n",
      "40   Your mind is analytical.\n",
      "41   Your mind is deep.\n",
      "42   Your work is usually neat.\n",
      "43   Your work is usually orderly.\n",
      "44   you dislike dirt.\n",
      "45   you dislike messes.\n",
      "46   you probably have a good head for numbers.\n"
     ]
    }
   ],
   "source": [
    "for i in range(len(df_piv.index)):\n",
    "    print(i, ' ', df_piv.index[i])"
   ]
  },
  {
   "cell_type": "markdown",
   "metadata": {},
   "source": [
    "I need to find the distances between clusters. to gauge how similar 2 clusters are in relation to one another. I could just use the visualisation tool to visually identify clusters far from each other and try to compare their cluster meanings."
   ]
  },
  {
   "cell_type": "code",
   "execution_count": 47,
   "metadata": {
    "collapsed": true,
    "jupyter": {
     "outputs_hidden": true
    }
   },
   "outputs": [
    {
     "name": "stdout",
     "output_type": "stream",
     "text": [
      "no. of clusters found:   39\n",
      "no. of samples:  47\n",
      "0 :  0.0\n",
      "1 :  0.0\n",
      "2 :  0.0\n",
      "3 :  0.0\n",
      "4 :  0.0\n",
      "5 :  0.642095879282839\n",
      "6 :  0.0\n",
      "7 :  0.0\n",
      "8 :  0.0\n",
      "9 :  0.0\n",
      "10 :  0.9829472362326903\n",
      "11 :  0.0\n",
      "12 :  0.8970621816199157\n",
      "13 :  0.0\n",
      "14 :  0.0\n",
      "15 :  0.0\n",
      "16 :  0.0\n",
      "17 :  0.0\n",
      "18 :  0.9836908160481713\n",
      "19 :  0.0\n",
      "20 :  0.0\n",
      "21 :  0.0\n",
      "22 :  0.0\n",
      "23 :  0.9825751589154322\n",
      "24 :  0.5816944135901622\n",
      "25 :  0.0\n",
      "26 :  0.0\n",
      "27 :  0.0\n",
      "28 :  0.0\n",
      "29 :  0.0\n",
      "30 :  0.9937494487658421\n",
      "31 :  0.9930882383455576\n",
      "32 :  0.862683660920535\n",
      "33 :  0.0\n",
      "34 :  0.0\n",
      "35 :  0.9331633182778146\n",
      "36 :  0.36885968477413467\n",
      "37 :  0.0\n",
      "38 :  0.8298688456541156\n",
      "39 :  0.426567938530809\n",
      "40 :  0.0\n",
      "41 :  0.0\n",
      "42 :  0.9931529771934257\n",
      "43 :  0.9934520368842715\n",
      "44 :  0.0\n",
      "45 :  0.0\n",
      "46 :  0.0\n"
     ]
    }
   ],
   "source": [
    "clusters = AgglomerativeClustering(n_clusters=39, affinity='precomputed', linkage='single')\n",
    "labels = clusters.fit_predict(dist_mat)\n",
    "\n",
    "from sklearn.metrics import silhouette_samples\n",
    "\n",
    "silhouette_samples = silhouette_samples(dist_mat, clusters.labels_, metric='precomputed')\n",
    "\n",
    "print('no. of clusters found:', ' ', clusters.n_clusters_)\n",
    "print('no. of samples: ', len(silhouette_samples))\n",
    "\n",
    "for i in range(len(silhouette_samples)):\n",
    "    print(i, ': ', silhouette_samples[i])"
   ]
  },
  {
   "cell_type": "markdown",
   "metadata": {},
   "source": [
    "### Compute the \"average\" pairwise distance of one cluster with another cluster, storing the result in a pairwise matrix."
   ]
  },
  {
   "cell_type": "code",
   "execution_count": 30,
   "metadata": {},
   "outputs": [
    {
     "name": "stdout",
     "output_type": "stream",
     "text": [
      "------\n",
      "\n",
      "no. of clusters = 72\n",
      "[[0.     0.4601 0.6433 ... 0.4947 0.4899 0.4886]\n",
      " [0.     0.     0.5204 ... 0.4479 0.4944 0.4931]\n",
      " [0.     0.     0.     ... 0.4929 0.4985 0.4983]\n",
      " ...\n",
      " [0.     0.     0.     ... 0.     0.4952 0.4989]\n",
      " [0.     0.     0.     ... 0.     0.     0.4966]\n",
      " [0.     0.     0.     ... 0.     0.     0.    ]]\n"
     ]
    }
   ],
   "source": [
    "for n_clusters in [optimal_k]:\n",
    "    print('------')\n",
    "    print(f'\\nno. of clusters = {n_clusters}')\n",
    "    clusters = AgglomerativeClustering(n_clusters=n_clusters, affinity='precomputed', linkage='single')\n",
    "    clusters.fit_predict(dist_mat)\n",
    "    \n",
    "    # find average distances between clusters and output a new distance matrix\n",
    "    labels = [i for i in range(clusters.n_clusters_)]\n",
    "    avg_dist_arr = np.zeros(shape=(clusters.n_clusters_, clusters.n_clusters_))\n",
    "    for i in range(clusters.n_clusters_):\n",
    "        indices = np.where(clusters.labels_ == i)[0]\n",
    "        labels.remove(i)\n",
    "        for j in labels:\n",
    "            other_indices = np.where(clusters.labels_ == j)[0]\n",
    "            intra_dist_arr = np.zeros(shape=(len(indices), len(other_indices)))\n",
    "            \n",
    "            for k, index in enumerate(indices):\n",
    "                for m, other_index in enumerate(other_indices):\n",
    "                    intra_dist_arr[k][m] = dist_mat[index][other_index]\n",
    "            \n",
    "            #print (f'cluster {i} against cluster {j}:')\n",
    "            #print(intra_dist_arr)\n",
    "            \n",
    "            avg_dist = np.average(intra_dist_arr)\n",
    "            #print(avg_dist)\n",
    "            avg_dist_arr[i][j] = avg_dist\n",
    "    print(avg_dist_arr)\n",
    "        "
   ]
  },
  {
   "cell_type": "code",
   "execution_count": 32,
   "metadata": {},
   "outputs": [
    {
     "name": "stdin",
     "output_type": "stream",
     "text": [
      "enter path to save csv file of inter-cluster distance ../data/astro0/astro0_decomposed_roberta_clusterMatrix.csv\n"
     ]
    }
   ],
   "source": [
    "path = input(\"enter path to save csv file of inter-cluster distance\")\n",
    "tmp = avg_dist_arr + np.transpose(avg_dist_arr)\n",
    "np.savetxt(path, tmp, delimiter=\",\")"
   ]
  },
  {
   "cell_type": "code",
   "execution_count": 33,
   "metadata": {},
   "outputs": [
    {
     "data": {
      "text/plain": [
       "0.7227389729152677"
      ]
     },
     "metadata": {},
     "output_type": "display_data"
    },
    {
     "data": {
      "text/plain": [
       "0.7227389729152677"
      ]
     },
     "metadata": {},
     "output_type": "display_data"
    }
   ],
   "source": [
    "# check that distance matrix was generated correctly\n",
    "i = 1\n",
    "j = 9\n",
    "display(tmp[i][j], tmp[j][i])"
   ]
  },
  {
   "cell_type": "code",
   "execution_count": 34,
   "metadata": {},
   "outputs": [
    {
     "name": "stdout",
     "output_type": "stream",
     "text": [
      "0.09351710072591987\n"
     ]
    }
   ],
   "source": [
    "# get summary statistics of new distance matrix, ignoring the diagonal.\n",
    "mask = np.ones((clusters.n_clusters_, clusters.n_clusters_), dtype=bool)\n",
    "np.fill_diagonal(mask, 0)\n",
    "min_value = tmp[mask].min()\n",
    "print(min_value)"
   ]
  },
  {
   "cell_type": "code",
   "execution_count": 35,
   "metadata": {},
   "outputs": [
    {
     "data": {
      "text/plain": [
       "0.5376737126352146"
      ]
     },
     "execution_count": 35,
     "metadata": {},
     "output_type": "execute_result"
    }
   ],
   "source": [
    "np.average(tmp[mask])"
   ]
  },
  {
   "cell_type": "code",
   "execution_count": 36,
   "metadata": {},
   "outputs": [
    {
     "data": {
      "text/plain": [
       "0.4981769135686278"
      ]
     },
     "execution_count": 36,
     "metadata": {},
     "output_type": "execute_result"
    }
   ],
   "source": [
    "np.median(tmp[mask])"
   ]
  },
  {
   "cell_type": "code",
   "execution_count": 37,
   "metadata": {},
   "outputs": [
    {
     "data": {
      "text/plain": [
       "array([0.9813, 0.993 , 0.9992])"
      ]
     },
     "execution_count": 37,
     "metadata": {},
     "output_type": "execute_result"
    }
   ],
   "source": [
    "np.percentile(tmp[mask], [98, 99, 100])"
   ]
  },
  {
   "cell_type": "code",
   "execution_count": 38,
   "metadata": {},
   "outputs": [
    {
     "name": "stdout",
     "output_type": "stream",
     "text": [
      "(0, 22)\n",
      "(0, 27)\n",
      "(0, 46)\n",
      "(0, 49)\n",
      "(1, 60)\n",
      "(2, 11)\n",
      "(2, 60)\n",
      "(2, 61)\n",
      "(3, 13)\n",
      "(3, 39)\n",
      "(3, 40)\n",
      "(3, 58)\n",
      "(3, 60)\n",
      "(4, 7)\n",
      "(4, 9)\n",
      "(4, 11)\n",
      "(4, 17)\n",
      "(4, 18)\n",
      "(4, 19)\n",
      "(4, 22)\n",
      "(4, 25)\n",
      "(4, 32)\n",
      "(4, 33)\n",
      "(4, 35)\n",
      "(4, 46)\n",
      "(4, 49)\n",
      "(4, 52)\n",
      "(4, 57)\n",
      "(4, 60)\n",
      "(4, 65)\n",
      "(5, 24)\n",
      "(6, 11)\n",
      "(6, 29)\n",
      "(6, 34)\n",
      "(6, 60)\n",
      "(7, 13)\n",
      "(7, 23)\n",
      "(7, 39)\n",
      "(7, 40)\n",
      "(7, 44)\n",
      "(7, 53)\n",
      "(7, 60)\n",
      "(7, 68)\n",
      "(9, 11)\n",
      "(9, 22)\n",
      "(9, 49)\n",
      "(9, 60)\n",
      "(9, 63)\n",
      "(9, 67)\n",
      "(10, 11)\n",
      "(10, 29)\n",
      "(10, 32)\n",
      "(10, 34)\n",
      "(10, 57)\n",
      "(10, 60)\n",
      "(11, 13)\n",
      "(11, 24)\n",
      "(11, 25)\n",
      "(11, 31)\n",
      "(11, 41)\n",
      "(11, 42)\n",
      "(11, 44)\n",
      "(11, 50)\n",
      "(11, 51)\n",
      "(11, 52)\n",
      "(11, 53)\n",
      "(11, 56)\n",
      "(11, 58)\n",
      "(11, 59)\n",
      "(11, 60)\n",
      "(11, 66)\n",
      "(11, 67)\n",
      "(11, 68)\n",
      "(12, 60)\n",
      "(13, 24)\n",
      "(13, 25)\n",
      "(13, 32)\n",
      "(13, 35)\n",
      "(13, 46)\n",
      "(13, 49)\n",
      "(13, 51)\n",
      "(13, 56)\n",
      "(13, 57)\n",
      "(13, 60)\n",
      "(13, 61)\n",
      "(13, 66)\n",
      "(13, 67)\n",
      "(14, 60)\n",
      "(16, 39)\n",
      "(16, 60)\n",
      "(17, 60)\n",
      "(18, 58)\n",
      "(18, 60)\n",
      "(18, 67)\n",
      "(19, 22)\n",
      "(19, 57)\n",
      "(19, 65)\n",
      "(20, 57)\n",
      "(20, 60)\n",
      "(20, 66)\n",
      "(21, 60)\n",
      "(22, 42)\n",
      "(22, 58)\n",
      "(22, 60)\n",
      "(22, 67)\n",
      "(23, 49)\n",
      "(23, 51)\n",
      "(23, 55)\n",
      "(23, 61)\n",
      "(24, 34)\n",
      "(24, 42)\n",
      "(24, 57)\n",
      "(24, 60)\n",
      "(25, 60)\n",
      "(26, 60)\n",
      "(27, 49)\n",
      "(27, 60)\n",
      "(29, 31)\n",
      "(29, 32)\n",
      "(29, 51)\n",
      "(29, 52)\n",
      "(29, 60)\n",
      "(29, 66)\n",
      "(29, 67)\n",
      "(30, 60)\n",
      "(31, 32)\n",
      "(31, 57)\n",
      "(31, 60)\n",
      "(31, 70)\n",
      "(32, 33)\n",
      "(32, 40)\n",
      "(32, 42)\n",
      "(32, 53)\n",
      "(32, 54)\n",
      "(32, 56)\n",
      "(32, 60)\n",
      "(33, 60)\n",
      "(34, 51)\n",
      "(34, 52)\n",
      "(34, 53)\n",
      "(34, 60)\n",
      "(34, 65)\n",
      "(34, 66)\n",
      "(35, 39)\n",
      "(35, 58)\n",
      "(35, 60)\n",
      "(36, 60)\n",
      "(38, 60)\n",
      "(39, 55)\n",
      "(39, 57)\n",
      "(39, 58)\n",
      "(39, 61)\n",
      "(39, 65)\n",
      "(39, 66)\n",
      "(39, 67)\n",
      "(40, 46)\n",
      "(40, 51)\n",
      "(40, 60)\n",
      "(40, 61)\n",
      "(42, 49)\n",
      "(42, 52)\n",
      "(42, 60)\n",
      "(42, 68)\n",
      "(44, 59)\n",
      "(44, 60)\n",
      "(44, 61)\n",
      "(44, 65)\n",
      "(46, 60)\n",
      "(47, 60)\n",
      "(48, 60)\n",
      "(49, 50)\n",
      "(49, 52)\n",
      "(49, 53)\n",
      "(49, 59)\n",
      "(49, 60)\n",
      "(49, 65)\n",
      "(49, 67)\n",
      "(50, 51)\n",
      "(50, 57)\n",
      "(50, 60)\n",
      "(50, 61)\n",
      "(50, 65)\n",
      "(51, 53)\n",
      "(51, 58)\n",
      "(51, 60)\n",
      "(52, 57)\n",
      "(52, 58)\n",
      "(52, 60)\n",
      "(53, 57)\n",
      "(53, 60)\n",
      "(53, 61)\n",
      "(53, 65)\n",
      "(54, 57)\n",
      "(54, 60)\n",
      "(56, 60)\n",
      "(56, 61)\n",
      "(57, 60)\n",
      "(57, 61)\n",
      "(57, 64)\n",
      "(57, 67)\n",
      "(58, 67)\n",
      "(58, 69)\n",
      "(59, 60)\n",
      "(60, 61)\n",
      "(60, 62)\n",
      "(60, 64)\n",
      "(60, 65)\n",
      "(60, 66)\n",
      "(60, 67)\n",
      "(60, 68)\n",
      "(60, 69)\n",
      "(60, 70)\n",
      "(60, 71)\n",
      "(61, 66)\n",
      "(61, 68)\n",
      "(61, 71)\n",
      "(65, 67)\n",
      "(67, 68)\n",
      "218\n"
     ]
    }
   ],
   "source": [
    "dist_threshold = 0.8  # choose anything further than neutrality.\n",
    "itr = zip(*np.where(avg_dist_arr > dist_threshold))\n",
    "\n",
    "# since zip() returns an iterator we should add the elements into a list so that we can loop through the elements again.\n",
    "# once an iterator has reached its end it cannot be reset.\n",
    "cluster_pairs = []\n",
    "count = 0\n",
    "for pair in itr:\n",
    "    cluster_pairs.append(pair)\n",
    "    print(pair)\n",
    "    count = count+1\n",
    "print(count)"
   ]
  },
  {
   "cell_type": "code",
   "execution_count": 39,
   "metadata": {
    "scrolled": true
   },
   "outputs": [
    {
     "name": "stdout",
     "output_type": "stream",
     "text": [
      "0\n"
     ]
    },
    {
     "data": {
      "text/plain": [
       "Int64Index([32, 81], dtype='int64', name='first_index')"
      ]
     },
     "metadata": {},
     "output_type": "display_data"
    },
    {
     "name": "stdout",
     "output_type": "stream",
     "text": [
      "22\n"
     ]
    },
    {
     "data": {
      "text/plain": [
       "Int64Index([60], dtype='int64', name='first_index')"
      ]
     },
     "metadata": {},
     "output_type": "display_data"
    },
    {
     "name": "stdout",
     "output_type": "stream",
     "text": [
      "======\n",
      "0\n"
     ]
    },
    {
     "data": {
      "text/plain": [
       "Int64Index([32, 81], dtype='int64', name='first_index')"
      ]
     },
     "metadata": {},
     "output_type": "display_data"
    },
    {
     "name": "stdout",
     "output_type": "stream",
     "text": [
      "27\n"
     ]
    },
    {
     "data": {
      "text/plain": [
       "Int64Index([76], dtype='int64', name='first_index')"
      ]
     },
     "metadata": {},
     "output_type": "display_data"
    },
    {
     "name": "stdout",
     "output_type": "stream",
     "text": [
      "======\n",
      "0\n"
     ]
    },
    {
     "data": {
      "text/plain": [
       "Int64Index([32, 81], dtype='int64', name='first_index')"
      ]
     },
     "metadata": {},
     "output_type": "display_data"
    },
    {
     "name": "stdout",
     "output_type": "stream",
     "text": [
      "46\n"
     ]
    },
    {
     "data": {
      "text/plain": [
       "Int64Index([53], dtype='int64', name='first_index')"
      ]
     },
     "metadata": {},
     "output_type": "display_data"
    },
    {
     "name": "stdout",
     "output_type": "stream",
     "text": [
      "======\n",
      "0\n"
     ]
    },
    {
     "data": {
      "text/plain": [
       "Int64Index([32, 81], dtype='int64', name='first_index')"
      ]
     },
     "metadata": {},
     "output_type": "display_data"
    },
    {
     "name": "stdout",
     "output_type": "stream",
     "text": [
      "49\n"
     ]
    },
    {
     "data": {
      "text/plain": [
       "Int64Index([8], dtype='int64', name='first_index')"
      ]
     },
     "metadata": {},
     "output_type": "display_data"
    },
    {
     "name": "stdout",
     "output_type": "stream",
     "text": [
      "======\n",
      "1\n"
     ]
    },
    {
     "data": {
      "text/plain": [
       "Int64Index([39, 85], dtype='int64', name='first_index')"
      ]
     },
     "metadata": {},
     "output_type": "display_data"
    },
    {
     "name": "stdout",
     "output_type": "stream",
     "text": [
      "60\n"
     ]
    },
    {
     "data": {
      "text/plain": [
       "Int64Index([45], dtype='int64', name='first_index')"
      ]
     },
     "metadata": {},
     "output_type": "display_data"
    },
    {
     "name": "stdout",
     "output_type": "stream",
     "text": [
      "======\n",
      "2\n"
     ]
    },
    {
     "data": {
      "text/plain": [
       "Int64Index([17, 18, 20, 21, 38, 67], dtype='int64', name='first_index')"
      ]
     },
     "metadata": {},
     "output_type": "display_data"
    },
    {
     "name": "stdout",
     "output_type": "stream",
     "text": [
      "11\n"
     ]
    },
    {
     "data": {
      "text/plain": [
       "Int64Index([77], dtype='int64', name='first_index')"
      ]
     },
     "metadata": {},
     "output_type": "display_data"
    },
    {
     "name": "stdout",
     "output_type": "stream",
     "text": [
      "======\n",
      "2\n"
     ]
    },
    {
     "data": {
      "text/plain": [
       "Int64Index([17, 18, 20, 21, 38, 67], dtype='int64', name='first_index')"
      ]
     },
     "metadata": {},
     "output_type": "display_data"
    },
    {
     "name": "stdout",
     "output_type": "stream",
     "text": [
      "60\n"
     ]
    },
    {
     "data": {
      "text/plain": [
       "Int64Index([45], dtype='int64', name='first_index')"
      ]
     },
     "metadata": {},
     "output_type": "display_data"
    },
    {
     "name": "stdout",
     "output_type": "stream",
     "text": [
      "======\n",
      "2\n"
     ]
    },
    {
     "data": {
      "text/plain": [
       "Int64Index([17, 18, 20, 21, 38, 67], dtype='int64', name='first_index')"
      ]
     },
     "metadata": {},
     "output_type": "display_data"
    },
    {
     "name": "stdout",
     "output_type": "stream",
     "text": [
      "61\n"
     ]
    },
    {
     "data": {
      "text/plain": [
       "Int64Index([52], dtype='int64', name='first_index')"
      ]
     },
     "metadata": {},
     "output_type": "display_data"
    },
    {
     "name": "stdout",
     "output_type": "stream",
     "text": [
      "======\n",
      "3\n"
     ]
    },
    {
     "data": {
      "text/plain": [
       "Int64Index([1, 2, 3, 48], dtype='int64', name='first_index')"
      ]
     },
     "metadata": {},
     "output_type": "display_data"
    },
    {
     "name": "stdout",
     "output_type": "stream",
     "text": [
      "13\n"
     ]
    },
    {
     "data": {
      "text/plain": [
       "Int64Index([83], dtype='int64', name='first_index')"
      ]
     },
     "metadata": {},
     "output_type": "display_data"
    },
    {
     "name": "stdout",
     "output_type": "stream",
     "text": [
      "======\n",
      "3\n"
     ]
    },
    {
     "data": {
      "text/plain": [
       "Int64Index([1, 2, 3, 48], dtype='int64', name='first_index')"
      ]
     },
     "metadata": {},
     "output_type": "display_data"
    },
    {
     "name": "stdout",
     "output_type": "stream",
     "text": [
      "39\n"
     ]
    },
    {
     "data": {
      "text/plain": [
       "Int64Index([24], dtype='int64', name='first_index')"
      ]
     },
     "metadata": {},
     "output_type": "display_data"
    },
    {
     "name": "stdout",
     "output_type": "stream",
     "text": [
      "======\n",
      "3\n"
     ]
    },
    {
     "data": {
      "text/plain": [
       "Int64Index([1, 2, 3, 48], dtype='int64', name='first_index')"
      ]
     },
     "metadata": {},
     "output_type": "display_data"
    },
    {
     "name": "stdout",
     "output_type": "stream",
     "text": [
      "40\n"
     ]
    },
    {
     "data": {
      "text/plain": [
       "Int64Index([41], dtype='int64', name='first_index')"
      ]
     },
     "metadata": {},
     "output_type": "display_data"
    },
    {
     "name": "stdout",
     "output_type": "stream",
     "text": [
      "======\n",
      "3\n"
     ]
    },
    {
     "data": {
      "text/plain": [
       "Int64Index([1, 2, 3, 48], dtype='int64', name='first_index')"
      ]
     },
     "metadata": {},
     "output_type": "display_data"
    },
    {
     "name": "stdout",
     "output_type": "stream",
     "text": [
      "58\n"
     ]
    },
    {
     "data": {
      "text/plain": [
       "Int64Index([43], dtype='int64', name='first_index')"
      ]
     },
     "metadata": {},
     "output_type": "display_data"
    },
    {
     "name": "stdout",
     "output_type": "stream",
     "text": [
      "======\n",
      "3\n"
     ]
    },
    {
     "data": {
      "text/plain": [
       "Int64Index([1, 2, 3, 48], dtype='int64', name='first_index')"
      ]
     },
     "metadata": {},
     "output_type": "display_data"
    },
    {
     "name": "stdout",
     "output_type": "stream",
     "text": [
      "60\n"
     ]
    },
    {
     "data": {
      "text/plain": [
       "Int64Index([45], dtype='int64', name='first_index')"
      ]
     },
     "metadata": {},
     "output_type": "display_data"
    },
    {
     "name": "stdout",
     "output_type": "stream",
     "text": [
      "======\n",
      "4\n"
     ]
    },
    {
     "data": {
      "text/plain": [
       "Int64Index([82], dtype='int64', name='first_index')"
      ]
     },
     "metadata": {},
     "output_type": "display_data"
    },
    {
     "name": "stdout",
     "output_type": "stream",
     "text": [
      "7\n"
     ]
    },
    {
     "data": {
      "text/plain": [
       "Int64Index([54, 68], dtype='int64', name='first_index')"
      ]
     },
     "metadata": {},
     "output_type": "display_data"
    },
    {
     "name": "stdout",
     "output_type": "stream",
     "text": [
      "======\n",
      "4\n"
     ]
    },
    {
     "data": {
      "text/plain": [
       "Int64Index([82], dtype='int64', name='first_index')"
      ]
     },
     "metadata": {},
     "output_type": "display_data"
    },
    {
     "name": "stdout",
     "output_type": "stream",
     "text": [
      "9\n"
     ]
    },
    {
     "data": {
      "text/plain": [
       "Int64Index([78], dtype='int64', name='first_index')"
      ]
     },
     "metadata": {},
     "output_type": "display_data"
    },
    {
     "name": "stdout",
     "output_type": "stream",
     "text": [
      "======\n",
      "4\n"
     ]
    },
    {
     "data": {
      "text/plain": [
       "Int64Index([82], dtype='int64', name='first_index')"
      ]
     },
     "metadata": {},
     "output_type": "display_data"
    },
    {
     "name": "stdout",
     "output_type": "stream",
     "text": [
      "11\n"
     ]
    },
    {
     "data": {
      "text/plain": [
       "Int64Index([77], dtype='int64', name='first_index')"
      ]
     },
     "metadata": {},
     "output_type": "display_data"
    },
    {
     "name": "stdout",
     "output_type": "stream",
     "text": [
      "======\n",
      "4\n"
     ]
    },
    {
     "data": {
      "text/plain": [
       "Int64Index([82], dtype='int64', name='first_index')"
      ]
     },
     "metadata": {},
     "output_type": "display_data"
    },
    {
     "name": "stdout",
     "output_type": "stream",
     "text": [
      "17\n"
     ]
    },
    {
     "data": {
      "text/plain": [
       "Int64Index([66], dtype='int64', name='first_index')"
      ]
     },
     "metadata": {},
     "output_type": "display_data"
    },
    {
     "name": "stdout",
     "output_type": "stream",
     "text": [
      "======\n",
      "4\n"
     ]
    },
    {
     "data": {
      "text/plain": [
       "Int64Index([82], dtype='int64', name='first_index')"
      ]
     },
     "metadata": {},
     "output_type": "display_data"
    },
    {
     "name": "stdout",
     "output_type": "stream",
     "text": [
      "18\n"
     ]
    },
    {
     "data": {
      "text/plain": [
       "Int64Index([56], dtype='int64', name='first_index')"
      ]
     },
     "metadata": {},
     "output_type": "display_data"
    },
    {
     "name": "stdout",
     "output_type": "stream",
     "text": [
      "======\n",
      "4\n"
     ]
    },
    {
     "data": {
      "text/plain": [
       "Int64Index([82], dtype='int64', name='first_index')"
      ]
     },
     "metadata": {},
     "output_type": "display_data"
    },
    {
     "name": "stdout",
     "output_type": "stream",
     "text": [
      "19\n"
     ]
    },
    {
     "data": {
      "text/plain": [
       "Int64Index([51], dtype='int64', name='first_index')"
      ]
     },
     "metadata": {},
     "output_type": "display_data"
    },
    {
     "name": "stdout",
     "output_type": "stream",
     "text": [
      "======\n",
      "4\n"
     ]
    },
    {
     "data": {
      "text/plain": [
       "Int64Index([82], dtype='int64', name='first_index')"
      ]
     },
     "metadata": {},
     "output_type": "display_data"
    },
    {
     "name": "stdout",
     "output_type": "stream",
     "text": [
      "22\n"
     ]
    },
    {
     "data": {
      "text/plain": [
       "Int64Index([60], dtype='int64', name='first_index')"
      ]
     },
     "metadata": {},
     "output_type": "display_data"
    },
    {
     "name": "stdout",
     "output_type": "stream",
     "text": [
      "======\n",
      "4\n"
     ]
    },
    {
     "data": {
      "text/plain": [
       "Int64Index([82], dtype='int64', name='first_index')"
      ]
     },
     "metadata": {},
     "output_type": "display_data"
    },
    {
     "name": "stdout",
     "output_type": "stream",
     "text": [
      "25\n"
     ]
    },
    {
     "data": {
      "text/plain": [
       "Int64Index([42], dtype='int64', name='first_index')"
      ]
     },
     "metadata": {},
     "output_type": "display_data"
    },
    {
     "name": "stdout",
     "output_type": "stream",
     "text": [
      "======\n",
      "4\n"
     ]
    },
    {
     "data": {
      "text/plain": [
       "Int64Index([82], dtype='int64', name='first_index')"
      ]
     },
     "metadata": {},
     "output_type": "display_data"
    },
    {
     "name": "stdout",
     "output_type": "stream",
     "text": [
      "32\n"
     ]
    },
    {
     "data": {
      "text/plain": [
       "Int64Index([62], dtype='int64', name='first_index')"
      ]
     },
     "metadata": {},
     "output_type": "display_data"
    },
    {
     "name": "stdout",
     "output_type": "stream",
     "text": [
      "======\n",
      "4\n"
     ]
    },
    {
     "data": {
      "text/plain": [
       "Int64Index([82], dtype='int64', name='first_index')"
      ]
     },
     "metadata": {},
     "output_type": "display_data"
    },
    {
     "name": "stdout",
     "output_type": "stream",
     "text": [
      "33\n"
     ]
    },
    {
     "data": {
      "text/plain": [
       "Int64Index([35], dtype='int64', name='first_index')"
      ]
     },
     "metadata": {},
     "output_type": "display_data"
    },
    {
     "name": "stdout",
     "output_type": "stream",
     "text": [
      "======\n",
      "4\n"
     ]
    },
    {
     "data": {
      "text/plain": [
       "Int64Index([82], dtype='int64', name='first_index')"
      ]
     },
     "metadata": {},
     "output_type": "display_data"
    },
    {
     "name": "stdout",
     "output_type": "stream",
     "text": [
      "35\n"
     ]
    },
    {
     "data": {
      "text/plain": [
       "Int64Index([58], dtype='int64', name='first_index')"
      ]
     },
     "metadata": {},
     "output_type": "display_data"
    },
    {
     "name": "stdout",
     "output_type": "stream",
     "text": [
      "======\n",
      "4\n"
     ]
    },
    {
     "data": {
      "text/plain": [
       "Int64Index([82], dtype='int64', name='first_index')"
      ]
     },
     "metadata": {},
     "output_type": "display_data"
    },
    {
     "name": "stdout",
     "output_type": "stream",
     "text": [
      "46\n"
     ]
    },
    {
     "data": {
      "text/plain": [
       "Int64Index([53], dtype='int64', name='first_index')"
      ]
     },
     "metadata": {},
     "output_type": "display_data"
    },
    {
     "name": "stdout",
     "output_type": "stream",
     "text": [
      "======\n",
      "4\n"
     ]
    },
    {
     "data": {
      "text/plain": [
       "Int64Index([82], dtype='int64', name='first_index')"
      ]
     },
     "metadata": {},
     "output_type": "display_data"
    },
    {
     "name": "stdout",
     "output_type": "stream",
     "text": [
      "49\n"
     ]
    },
    {
     "data": {
      "text/plain": [
       "Int64Index([8], dtype='int64', name='first_index')"
      ]
     },
     "metadata": {},
     "output_type": "display_data"
    },
    {
     "name": "stdout",
     "output_type": "stream",
     "text": [
      "======\n",
      "4\n"
     ]
    },
    {
     "data": {
      "text/plain": [
       "Int64Index([82], dtype='int64', name='first_index')"
      ]
     },
     "metadata": {},
     "output_type": "display_data"
    },
    {
     "name": "stdout",
     "output_type": "stream",
     "text": [
      "52\n"
     ]
    },
    {
     "data": {
      "text/plain": [
       "Int64Index([4], dtype='int64', name='first_index')"
      ]
     },
     "metadata": {},
     "output_type": "display_data"
    },
    {
     "name": "stdout",
     "output_type": "stream",
     "text": [
      "======\n",
      "4\n"
     ]
    },
    {
     "data": {
      "text/plain": [
       "Int64Index([82], dtype='int64', name='first_index')"
      ]
     },
     "metadata": {},
     "output_type": "display_data"
    },
    {
     "name": "stdout",
     "output_type": "stream",
     "text": [
      "57\n"
     ]
    },
    {
     "data": {
      "text/plain": [
       "Int64Index([23], dtype='int64', name='first_index')"
      ]
     },
     "metadata": {},
     "output_type": "display_data"
    },
    {
     "name": "stdout",
     "output_type": "stream",
     "text": [
      "======\n",
      "4\n"
     ]
    },
    {
     "data": {
      "text/plain": [
       "Int64Index([82], dtype='int64', name='first_index')"
      ]
     },
     "metadata": {},
     "output_type": "display_data"
    },
    {
     "name": "stdout",
     "output_type": "stream",
     "text": [
      "60\n"
     ]
    },
    {
     "data": {
      "text/plain": [
       "Int64Index([45], dtype='int64', name='first_index')"
      ]
     },
     "metadata": {},
     "output_type": "display_data"
    },
    {
     "name": "stdout",
     "output_type": "stream",
     "text": [
      "======\n",
      "4\n"
     ]
    },
    {
     "data": {
      "text/plain": [
       "Int64Index([82], dtype='int64', name='first_index')"
      ]
     },
     "metadata": {},
     "output_type": "display_data"
    },
    {
     "name": "stdout",
     "output_type": "stream",
     "text": [
      "65\n"
     ]
    },
    {
     "data": {
      "text/plain": [
       "Int64Index([44], dtype='int64', name='first_index')"
      ]
     },
     "metadata": {},
     "output_type": "display_data"
    },
    {
     "name": "stdout",
     "output_type": "stream",
     "text": [
      "======\n",
      "5\n"
     ]
    },
    {
     "data": {
      "text/plain": [
       "Int64Index([33, 34], dtype='int64', name='first_index')"
      ]
     },
     "metadata": {},
     "output_type": "display_data"
    },
    {
     "name": "stdout",
     "output_type": "stream",
     "text": [
      "24\n"
     ]
    },
    {
     "data": {
      "text/plain": [
       "Int64Index([49], dtype='int64', name='first_index')"
      ]
     },
     "metadata": {},
     "output_type": "display_data"
    },
    {
     "name": "stdout",
     "output_type": "stream",
     "text": [
      "======\n",
      "6\n"
     ]
    },
    {
     "data": {
      "text/plain": [
       "Int64Index([86, 87], dtype='int64', name='first_index')"
      ]
     },
     "metadata": {},
     "output_type": "display_data"
    },
    {
     "name": "stdout",
     "output_type": "stream",
     "text": [
      "11\n"
     ]
    },
    {
     "data": {
      "text/plain": [
       "Int64Index([77], dtype='int64', name='first_index')"
      ]
     },
     "metadata": {},
     "output_type": "display_data"
    },
    {
     "name": "stdout",
     "output_type": "stream",
     "text": [
      "======\n",
      "6\n"
     ]
    },
    {
     "data": {
      "text/plain": [
       "Int64Index([86, 87], dtype='int64', name='first_index')"
      ]
     },
     "metadata": {},
     "output_type": "display_data"
    },
    {
     "name": "stdout",
     "output_type": "stream",
     "text": [
      "29\n"
     ]
    },
    {
     "data": {
      "text/plain": [
       "Int64Index([57], dtype='int64', name='first_index')"
      ]
     },
     "metadata": {},
     "output_type": "display_data"
    },
    {
     "name": "stdout",
     "output_type": "stream",
     "text": [
      "======\n",
      "6\n"
     ]
    },
    {
     "data": {
      "text/plain": [
       "Int64Index([86, 87], dtype='int64', name='first_index')"
      ]
     },
     "metadata": {},
     "output_type": "display_data"
    },
    {
     "name": "stdout",
     "output_type": "stream",
     "text": [
      "34\n"
     ]
    },
    {
     "data": {
      "text/plain": [
       "Int64Index([72], dtype='int64', name='first_index')"
      ]
     },
     "metadata": {},
     "output_type": "display_data"
    },
    {
     "name": "stdout",
     "output_type": "stream",
     "text": [
      "======\n",
      "6\n"
     ]
    },
    {
     "data": {
      "text/plain": [
       "Int64Index([86, 87], dtype='int64', name='first_index')"
      ]
     },
     "metadata": {},
     "output_type": "display_data"
    },
    {
     "name": "stdout",
     "output_type": "stream",
     "text": [
      "60\n"
     ]
    },
    {
     "data": {
      "text/plain": [
       "Int64Index([45], dtype='int64', name='first_index')"
      ]
     },
     "metadata": {},
     "output_type": "display_data"
    },
    {
     "name": "stdout",
     "output_type": "stream",
     "text": [
      "======\n",
      "7\n"
     ]
    },
    {
     "data": {
      "text/plain": [
       "Int64Index([54, 68], dtype='int64', name='first_index')"
      ]
     },
     "metadata": {},
     "output_type": "display_data"
    },
    {
     "name": "stdout",
     "output_type": "stream",
     "text": [
      "13\n"
     ]
    },
    {
     "data": {
      "text/plain": [
       "Int64Index([83], dtype='int64', name='first_index')"
      ]
     },
     "metadata": {},
     "output_type": "display_data"
    },
    {
     "name": "stdout",
     "output_type": "stream",
     "text": [
      "======\n",
      "7\n"
     ]
    },
    {
     "data": {
      "text/plain": [
       "Int64Index([54, 68], dtype='int64', name='first_index')"
      ]
     },
     "metadata": {},
     "output_type": "display_data"
    },
    {
     "name": "stdout",
     "output_type": "stream",
     "text": [
      "23\n"
     ]
    },
    {
     "data": {
      "text/plain": [
       "Int64Index([27], dtype='int64', name='first_index')"
      ]
     },
     "metadata": {},
     "output_type": "display_data"
    },
    {
     "name": "stdout",
     "output_type": "stream",
     "text": [
      "======\n",
      "7\n"
     ]
    },
    {
     "data": {
      "text/plain": [
       "Int64Index([54, 68], dtype='int64', name='first_index')"
      ]
     },
     "metadata": {},
     "output_type": "display_data"
    },
    {
     "name": "stdout",
     "output_type": "stream",
     "text": [
      "39\n"
     ]
    },
    {
     "data": {
      "text/plain": [
       "Int64Index([24], dtype='int64', name='first_index')"
      ]
     },
     "metadata": {},
     "output_type": "display_data"
    },
    {
     "name": "stdout",
     "output_type": "stream",
     "text": [
      "======\n",
      "7\n"
     ]
    },
    {
     "data": {
      "text/plain": [
       "Int64Index([54, 68], dtype='int64', name='first_index')"
      ]
     },
     "metadata": {},
     "output_type": "display_data"
    },
    {
     "name": "stdout",
     "output_type": "stream",
     "text": [
      "40\n"
     ]
    },
    {
     "data": {
      "text/plain": [
       "Int64Index([41], dtype='int64', name='first_index')"
      ]
     },
     "metadata": {},
     "output_type": "display_data"
    },
    {
     "name": "stdout",
     "output_type": "stream",
     "text": [
      "======\n",
      "7\n"
     ]
    },
    {
     "data": {
      "text/plain": [
       "Int64Index([54, 68], dtype='int64', name='first_index')"
      ]
     },
     "metadata": {},
     "output_type": "display_data"
    },
    {
     "name": "stdout",
     "output_type": "stream",
     "text": [
      "44\n"
     ]
    },
    {
     "data": {
      "text/plain": [
       "Int64Index([30], dtype='int64', name='first_index')"
      ]
     },
     "metadata": {},
     "output_type": "display_data"
    },
    {
     "name": "stdout",
     "output_type": "stream",
     "text": [
      "======\n",
      "7\n"
     ]
    },
    {
     "data": {
      "text/plain": [
       "Int64Index([54, 68], dtype='int64', name='first_index')"
      ]
     },
     "metadata": {},
     "output_type": "display_data"
    },
    {
     "name": "stdout",
     "output_type": "stream",
     "text": [
      "53\n"
     ]
    },
    {
     "data": {
      "text/plain": [
       "Int64Index([10], dtype='int64', name='first_index')"
      ]
     },
     "metadata": {},
     "output_type": "display_data"
    },
    {
     "name": "stdout",
     "output_type": "stream",
     "text": [
      "======\n",
      "7\n"
     ]
    },
    {
     "data": {
      "text/plain": [
       "Int64Index([54, 68], dtype='int64', name='first_index')"
      ]
     },
     "metadata": {},
     "output_type": "display_data"
    },
    {
     "name": "stdout",
     "output_type": "stream",
     "text": [
      "60\n"
     ]
    },
    {
     "data": {
      "text/plain": [
       "Int64Index([45], dtype='int64', name='first_index')"
      ]
     },
     "metadata": {},
     "output_type": "display_data"
    },
    {
     "name": "stdout",
     "output_type": "stream",
     "text": [
      "======\n",
      "7\n"
     ]
    },
    {
     "data": {
      "text/plain": [
       "Int64Index([54, 68], dtype='int64', name='first_index')"
      ]
     },
     "metadata": {},
     "output_type": "display_data"
    },
    {
     "name": "stdout",
     "output_type": "stream",
     "text": [
      "68\n"
     ]
    },
    {
     "data": {
      "text/plain": [
       "Int64Index([13], dtype='int64', name='first_index')"
      ]
     },
     "metadata": {},
     "output_type": "display_data"
    },
    {
     "name": "stdout",
     "output_type": "stream",
     "text": [
      "======\n",
      "9\n"
     ]
    },
    {
     "data": {
      "text/plain": [
       "Int64Index([78], dtype='int64', name='first_index')"
      ]
     },
     "metadata": {},
     "output_type": "display_data"
    },
    {
     "name": "stdout",
     "output_type": "stream",
     "text": [
      "11\n"
     ]
    },
    {
     "data": {
      "text/plain": [
       "Int64Index([77], dtype='int64', name='first_index')"
      ]
     },
     "metadata": {},
     "output_type": "display_data"
    },
    {
     "name": "stdout",
     "output_type": "stream",
     "text": [
      "======\n",
      "9\n"
     ]
    },
    {
     "data": {
      "text/plain": [
       "Int64Index([78], dtype='int64', name='first_index')"
      ]
     },
     "metadata": {},
     "output_type": "display_data"
    },
    {
     "name": "stdout",
     "output_type": "stream",
     "text": [
      "22\n"
     ]
    },
    {
     "data": {
      "text/plain": [
       "Int64Index([60], dtype='int64', name='first_index')"
      ]
     },
     "metadata": {},
     "output_type": "display_data"
    },
    {
     "name": "stdout",
     "output_type": "stream",
     "text": [
      "======\n",
      "9\n"
     ]
    },
    {
     "data": {
      "text/plain": [
       "Int64Index([78], dtype='int64', name='first_index')"
      ]
     },
     "metadata": {},
     "output_type": "display_data"
    },
    {
     "name": "stdout",
     "output_type": "stream",
     "text": [
      "49\n"
     ]
    },
    {
     "data": {
      "text/plain": [
       "Int64Index([8], dtype='int64', name='first_index')"
      ]
     },
     "metadata": {},
     "output_type": "display_data"
    },
    {
     "name": "stdout",
     "output_type": "stream",
     "text": [
      "======\n",
      "9\n"
     ]
    },
    {
     "data": {
      "text/plain": [
       "Int64Index([78], dtype='int64', name='first_index')"
      ]
     },
     "metadata": {},
     "output_type": "display_data"
    },
    {
     "name": "stdout",
     "output_type": "stream",
     "text": [
      "60\n"
     ]
    },
    {
     "data": {
      "text/plain": [
       "Int64Index([45], dtype='int64', name='first_index')"
      ]
     },
     "metadata": {},
     "output_type": "display_data"
    },
    {
     "name": "stdout",
     "output_type": "stream",
     "text": [
      "======\n",
      "9\n"
     ]
    },
    {
     "data": {
      "text/plain": [
       "Int64Index([78], dtype='int64', name='first_index')"
      ]
     },
     "metadata": {},
     "output_type": "display_data"
    },
    {
     "name": "stdout",
     "output_type": "stream",
     "text": [
      "63\n"
     ]
    },
    {
     "data": {
      "text/plain": [
       "Int64Index([9], dtype='int64', name='first_index')"
      ]
     },
     "metadata": {},
     "output_type": "display_data"
    },
    {
     "name": "stdout",
     "output_type": "stream",
     "text": [
      "======\n",
      "9\n"
     ]
    },
    {
     "data": {
      "text/plain": [
       "Int64Index([78], dtype='int64', name='first_index')"
      ]
     },
     "metadata": {},
     "output_type": "display_data"
    },
    {
     "name": "stdout",
     "output_type": "stream",
     "text": [
      "67\n"
     ]
    },
    {
     "data": {
      "text/plain": [
       "Int64Index([5], dtype='int64', name='first_index')"
      ]
     },
     "metadata": {},
     "output_type": "display_data"
    },
    {
     "name": "stdout",
     "output_type": "stream",
     "text": [
      "======\n",
      "10\n"
     ]
    },
    {
     "data": {
      "text/plain": [
       "Int64Index([64], dtype='int64', name='first_index')"
      ]
     },
     "metadata": {},
     "output_type": "display_data"
    },
    {
     "name": "stdout",
     "output_type": "stream",
     "text": [
      "11\n"
     ]
    },
    {
     "data": {
      "text/plain": [
       "Int64Index([77], dtype='int64', name='first_index')"
      ]
     },
     "metadata": {},
     "output_type": "display_data"
    },
    {
     "name": "stdout",
     "output_type": "stream",
     "text": [
      "======\n",
      "10\n"
     ]
    },
    {
     "data": {
      "text/plain": [
       "Int64Index([64], dtype='int64', name='first_index')"
      ]
     },
     "metadata": {},
     "output_type": "display_data"
    },
    {
     "name": "stdout",
     "output_type": "stream",
     "text": [
      "29\n"
     ]
    },
    {
     "data": {
      "text/plain": [
       "Int64Index([57], dtype='int64', name='first_index')"
      ]
     },
     "metadata": {},
     "output_type": "display_data"
    },
    {
     "name": "stdout",
     "output_type": "stream",
     "text": [
      "======\n",
      "10\n"
     ]
    },
    {
     "data": {
      "text/plain": [
       "Int64Index([64], dtype='int64', name='first_index')"
      ]
     },
     "metadata": {},
     "output_type": "display_data"
    },
    {
     "name": "stdout",
     "output_type": "stream",
     "text": [
      "32\n"
     ]
    },
    {
     "data": {
      "text/plain": [
       "Int64Index([62], dtype='int64', name='first_index')"
      ]
     },
     "metadata": {},
     "output_type": "display_data"
    },
    {
     "name": "stdout",
     "output_type": "stream",
     "text": [
      "======\n",
      "10\n"
     ]
    },
    {
     "data": {
      "text/plain": [
       "Int64Index([64], dtype='int64', name='first_index')"
      ]
     },
     "metadata": {},
     "output_type": "display_data"
    },
    {
     "name": "stdout",
     "output_type": "stream",
     "text": [
      "34\n"
     ]
    },
    {
     "data": {
      "text/plain": [
       "Int64Index([72], dtype='int64', name='first_index')"
      ]
     },
     "metadata": {},
     "output_type": "display_data"
    },
    {
     "name": "stdout",
     "output_type": "stream",
     "text": [
      "======\n",
      "10\n"
     ]
    },
    {
     "data": {
      "text/plain": [
       "Int64Index([64], dtype='int64', name='first_index')"
      ]
     },
     "metadata": {},
     "output_type": "display_data"
    },
    {
     "name": "stdout",
     "output_type": "stream",
     "text": [
      "57\n"
     ]
    },
    {
     "data": {
      "text/plain": [
       "Int64Index([23], dtype='int64', name='first_index')"
      ]
     },
     "metadata": {},
     "output_type": "display_data"
    },
    {
     "name": "stdout",
     "output_type": "stream",
     "text": [
      "======\n",
      "10\n"
     ]
    },
    {
     "data": {
      "text/plain": [
       "Int64Index([64], dtype='int64', name='first_index')"
      ]
     },
     "metadata": {},
     "output_type": "display_data"
    },
    {
     "name": "stdout",
     "output_type": "stream",
     "text": [
      "60\n"
     ]
    },
    {
     "data": {
      "text/plain": [
       "Int64Index([45], dtype='int64', name='first_index')"
      ]
     },
     "metadata": {},
     "output_type": "display_data"
    },
    {
     "name": "stdout",
     "output_type": "stream",
     "text": [
      "======\n",
      "11\n"
     ]
    },
    {
     "data": {
      "text/plain": [
       "Int64Index([77], dtype='int64', name='first_index')"
      ]
     },
     "metadata": {},
     "output_type": "display_data"
    },
    {
     "name": "stdout",
     "output_type": "stream",
     "text": [
      "13\n"
     ]
    },
    {
     "data": {
      "text/plain": [
       "Int64Index([83], dtype='int64', name='first_index')"
      ]
     },
     "metadata": {},
     "output_type": "display_data"
    },
    {
     "name": "stdout",
     "output_type": "stream",
     "text": [
      "======\n",
      "11\n"
     ]
    },
    {
     "data": {
      "text/plain": [
       "Int64Index([77], dtype='int64', name='first_index')"
      ]
     },
     "metadata": {},
     "output_type": "display_data"
    },
    {
     "name": "stdout",
     "output_type": "stream",
     "text": [
      "24\n"
     ]
    },
    {
     "data": {
      "text/plain": [
       "Int64Index([49], dtype='int64', name='first_index')"
      ]
     },
     "metadata": {},
     "output_type": "display_data"
    },
    {
     "name": "stdout",
     "output_type": "stream",
     "text": [
      "======\n",
      "11\n"
     ]
    },
    {
     "data": {
      "text/plain": [
       "Int64Index([77], dtype='int64', name='first_index')"
      ]
     },
     "metadata": {},
     "output_type": "display_data"
    },
    {
     "name": "stdout",
     "output_type": "stream",
     "text": [
      "25\n"
     ]
    },
    {
     "data": {
      "text/plain": [
       "Int64Index([42], dtype='int64', name='first_index')"
      ]
     },
     "metadata": {},
     "output_type": "display_data"
    },
    {
     "name": "stdout",
     "output_type": "stream",
     "text": [
      "======\n",
      "11\n"
     ]
    },
    {
     "data": {
      "text/plain": [
       "Int64Index([77], dtype='int64', name='first_index')"
      ]
     },
     "metadata": {},
     "output_type": "display_data"
    },
    {
     "name": "stdout",
     "output_type": "stream",
     "text": [
      "31\n"
     ]
    },
    {
     "data": {
      "text/plain": [
       "Int64Index([65], dtype='int64', name='first_index')"
      ]
     },
     "metadata": {},
     "output_type": "display_data"
    },
    {
     "name": "stdout",
     "output_type": "stream",
     "text": [
      "======\n",
      "11\n"
     ]
    },
    {
     "data": {
      "text/plain": [
       "Int64Index([77], dtype='int64', name='first_index')"
      ]
     },
     "metadata": {},
     "output_type": "display_data"
    },
    {
     "name": "stdout",
     "output_type": "stream",
     "text": [
      "41\n"
     ]
    },
    {
     "data": {
      "text/plain": [
       "Int64Index([50], dtype='int64', name='first_index')"
      ]
     },
     "metadata": {},
     "output_type": "display_data"
    },
    {
     "name": "stdout",
     "output_type": "stream",
     "text": [
      "======\n",
      "11\n"
     ]
    },
    {
     "data": {
      "text/plain": [
       "Int64Index([77], dtype='int64', name='first_index')"
      ]
     },
     "metadata": {},
     "output_type": "display_data"
    },
    {
     "name": "stdout",
     "output_type": "stream",
     "text": [
      "42\n"
     ]
    },
    {
     "data": {
      "text/plain": [
       "Int64Index([26], dtype='int64', name='first_index')"
      ]
     },
     "metadata": {},
     "output_type": "display_data"
    },
    {
     "name": "stdout",
     "output_type": "stream",
     "text": [
      "======\n",
      "11\n"
     ]
    },
    {
     "data": {
      "text/plain": [
       "Int64Index([77], dtype='int64', name='first_index')"
      ]
     },
     "metadata": {},
     "output_type": "display_data"
    },
    {
     "name": "stdout",
     "output_type": "stream",
     "text": [
      "44\n"
     ]
    },
    {
     "data": {
      "text/plain": [
       "Int64Index([30], dtype='int64', name='first_index')"
      ]
     },
     "metadata": {},
     "output_type": "display_data"
    },
    {
     "name": "stdout",
     "output_type": "stream",
     "text": [
      "======\n",
      "11\n"
     ]
    },
    {
     "data": {
      "text/plain": [
       "Int64Index([77], dtype='int64', name='first_index')"
      ]
     },
     "metadata": {},
     "output_type": "display_data"
    },
    {
     "name": "stdout",
     "output_type": "stream",
     "text": [
      "50\n"
     ]
    },
    {
     "data": {
      "text/plain": [
       "Int64Index([15], dtype='int64', name='first_index')"
      ]
     },
     "metadata": {},
     "output_type": "display_data"
    },
    {
     "name": "stdout",
     "output_type": "stream",
     "text": [
      "======\n",
      "11\n"
     ]
    },
    {
     "data": {
      "text/plain": [
       "Int64Index([77], dtype='int64', name='first_index')"
      ]
     },
     "metadata": {},
     "output_type": "display_data"
    },
    {
     "name": "stdout",
     "output_type": "stream",
     "text": [
      "51\n"
     ]
    },
    {
     "data": {
      "text/plain": [
       "Int64Index([6], dtype='int64', name='first_index')"
      ]
     },
     "metadata": {},
     "output_type": "display_data"
    },
    {
     "name": "stdout",
     "output_type": "stream",
     "text": [
      "======\n",
      "11\n"
     ]
    },
    {
     "data": {
      "text/plain": [
       "Int64Index([77], dtype='int64', name='first_index')"
      ]
     },
     "metadata": {},
     "output_type": "display_data"
    },
    {
     "name": "stdout",
     "output_type": "stream",
     "text": [
      "52\n"
     ]
    },
    {
     "data": {
      "text/plain": [
       "Int64Index([4], dtype='int64', name='first_index')"
      ]
     },
     "metadata": {},
     "output_type": "display_data"
    },
    {
     "name": "stdout",
     "output_type": "stream",
     "text": [
      "======\n",
      "11\n"
     ]
    },
    {
     "data": {
      "text/plain": [
       "Int64Index([77], dtype='int64', name='first_index')"
      ]
     },
     "metadata": {},
     "output_type": "display_data"
    },
    {
     "name": "stdout",
     "output_type": "stream",
     "text": [
      "53\n"
     ]
    },
    {
     "data": {
      "text/plain": [
       "Int64Index([10], dtype='int64', name='first_index')"
      ]
     },
     "metadata": {},
     "output_type": "display_data"
    },
    {
     "name": "stdout",
     "output_type": "stream",
     "text": [
      "======\n",
      "11\n"
     ]
    },
    {
     "data": {
      "text/plain": [
       "Int64Index([77], dtype='int64', name='first_index')"
      ]
     },
     "metadata": {},
     "output_type": "display_data"
    },
    {
     "name": "stdout",
     "output_type": "stream",
     "text": [
      "56\n"
     ]
    },
    {
     "data": {
      "text/plain": [
       "Int64Index([11], dtype='int64', name='first_index')"
      ]
     },
     "metadata": {},
     "output_type": "display_data"
    },
    {
     "name": "stdout",
     "output_type": "stream",
     "text": [
      "======\n",
      "11\n"
     ]
    },
    {
     "data": {
      "text/plain": [
       "Int64Index([77], dtype='int64', name='first_index')"
      ]
     },
     "metadata": {},
     "output_type": "display_data"
    },
    {
     "name": "stdout",
     "output_type": "stream",
     "text": [
      "58\n"
     ]
    },
    {
     "data": {
      "text/plain": [
       "Int64Index([43], dtype='int64', name='first_index')"
      ]
     },
     "metadata": {},
     "output_type": "display_data"
    },
    {
     "name": "stdout",
     "output_type": "stream",
     "text": [
      "======\n",
      "11\n"
     ]
    },
    {
     "data": {
      "text/plain": [
       "Int64Index([77], dtype='int64', name='first_index')"
      ]
     },
     "metadata": {},
     "output_type": "display_data"
    },
    {
     "name": "stdout",
     "output_type": "stream",
     "text": [
      "59\n"
     ]
    },
    {
     "data": {
      "text/plain": [
       "Int64Index([14], dtype='int64', name='first_index')"
      ]
     },
     "metadata": {},
     "output_type": "display_data"
    },
    {
     "name": "stdout",
     "output_type": "stream",
     "text": [
      "======\n",
      "11\n"
     ]
    },
    {
     "data": {
      "text/plain": [
       "Int64Index([77], dtype='int64', name='first_index')"
      ]
     },
     "metadata": {},
     "output_type": "display_data"
    },
    {
     "name": "stdout",
     "output_type": "stream",
     "text": [
      "60\n"
     ]
    },
    {
     "data": {
      "text/plain": [
       "Int64Index([45], dtype='int64', name='first_index')"
      ]
     },
     "metadata": {},
     "output_type": "display_data"
    },
    {
     "name": "stdout",
     "output_type": "stream",
     "text": [
      "======\n",
      "11\n"
     ]
    },
    {
     "data": {
      "text/plain": [
       "Int64Index([77], dtype='int64', name='first_index')"
      ]
     },
     "metadata": {},
     "output_type": "display_data"
    },
    {
     "name": "stdout",
     "output_type": "stream",
     "text": [
      "66\n"
     ]
    },
    {
     "data": {
      "text/plain": [
       "Int64Index([0], dtype='int64', name='first_index')"
      ]
     },
     "metadata": {},
     "output_type": "display_data"
    },
    {
     "name": "stdout",
     "output_type": "stream",
     "text": [
      "======\n",
      "11\n"
     ]
    },
    {
     "data": {
      "text/plain": [
       "Int64Index([77], dtype='int64', name='first_index')"
      ]
     },
     "metadata": {},
     "output_type": "display_data"
    },
    {
     "name": "stdout",
     "output_type": "stream",
     "text": [
      "67\n"
     ]
    },
    {
     "data": {
      "text/plain": [
       "Int64Index([5], dtype='int64', name='first_index')"
      ]
     },
     "metadata": {},
     "output_type": "display_data"
    },
    {
     "name": "stdout",
     "output_type": "stream",
     "text": [
      "======\n",
      "11\n"
     ]
    },
    {
     "data": {
      "text/plain": [
       "Int64Index([77], dtype='int64', name='first_index')"
      ]
     },
     "metadata": {},
     "output_type": "display_data"
    },
    {
     "name": "stdout",
     "output_type": "stream",
     "text": [
      "68\n"
     ]
    },
    {
     "data": {
      "text/plain": [
       "Int64Index([13], dtype='int64', name='first_index')"
      ]
     },
     "metadata": {},
     "output_type": "display_data"
    },
    {
     "name": "stdout",
     "output_type": "stream",
     "text": [
      "======\n",
      "12\n"
     ]
    },
    {
     "data": {
      "text/plain": [
       "Int64Index([74, 75], dtype='int64', name='first_index')"
      ]
     },
     "metadata": {},
     "output_type": "display_data"
    },
    {
     "name": "stdout",
     "output_type": "stream",
     "text": [
      "60\n"
     ]
    },
    {
     "data": {
      "text/plain": [
       "Int64Index([45], dtype='int64', name='first_index')"
      ]
     },
     "metadata": {},
     "output_type": "display_data"
    },
    {
     "name": "stdout",
     "output_type": "stream",
     "text": [
      "======\n",
      "13\n"
     ]
    },
    {
     "data": {
      "text/plain": [
       "Int64Index([83], dtype='int64', name='first_index')"
      ]
     },
     "metadata": {},
     "output_type": "display_data"
    },
    {
     "name": "stdout",
     "output_type": "stream",
     "text": [
      "24\n"
     ]
    },
    {
     "data": {
      "text/plain": [
       "Int64Index([49], dtype='int64', name='first_index')"
      ]
     },
     "metadata": {},
     "output_type": "display_data"
    },
    {
     "name": "stdout",
     "output_type": "stream",
     "text": [
      "======\n",
      "13\n"
     ]
    },
    {
     "data": {
      "text/plain": [
       "Int64Index([83], dtype='int64', name='first_index')"
      ]
     },
     "metadata": {},
     "output_type": "display_data"
    },
    {
     "name": "stdout",
     "output_type": "stream",
     "text": [
      "25\n"
     ]
    },
    {
     "data": {
      "text/plain": [
       "Int64Index([42], dtype='int64', name='first_index')"
      ]
     },
     "metadata": {},
     "output_type": "display_data"
    },
    {
     "name": "stdout",
     "output_type": "stream",
     "text": [
      "======\n",
      "13\n"
     ]
    },
    {
     "data": {
      "text/plain": [
       "Int64Index([83], dtype='int64', name='first_index')"
      ]
     },
     "metadata": {},
     "output_type": "display_data"
    },
    {
     "name": "stdout",
     "output_type": "stream",
     "text": [
      "32\n"
     ]
    },
    {
     "data": {
      "text/plain": [
       "Int64Index([62], dtype='int64', name='first_index')"
      ]
     },
     "metadata": {},
     "output_type": "display_data"
    },
    {
     "name": "stdout",
     "output_type": "stream",
     "text": [
      "======\n",
      "13\n"
     ]
    },
    {
     "data": {
      "text/plain": [
       "Int64Index([83], dtype='int64', name='first_index')"
      ]
     },
     "metadata": {},
     "output_type": "display_data"
    },
    {
     "name": "stdout",
     "output_type": "stream",
     "text": [
      "35\n"
     ]
    },
    {
     "data": {
      "text/plain": [
       "Int64Index([58], dtype='int64', name='first_index')"
      ]
     },
     "metadata": {},
     "output_type": "display_data"
    },
    {
     "name": "stdout",
     "output_type": "stream",
     "text": [
      "======\n",
      "13\n"
     ]
    },
    {
     "data": {
      "text/plain": [
       "Int64Index([83], dtype='int64', name='first_index')"
      ]
     },
     "metadata": {},
     "output_type": "display_data"
    },
    {
     "name": "stdout",
     "output_type": "stream",
     "text": [
      "46\n"
     ]
    },
    {
     "data": {
      "text/plain": [
       "Int64Index([53], dtype='int64', name='first_index')"
      ]
     },
     "metadata": {},
     "output_type": "display_data"
    },
    {
     "name": "stdout",
     "output_type": "stream",
     "text": [
      "======\n",
      "13\n"
     ]
    },
    {
     "data": {
      "text/plain": [
       "Int64Index([83], dtype='int64', name='first_index')"
      ]
     },
     "metadata": {},
     "output_type": "display_data"
    },
    {
     "name": "stdout",
     "output_type": "stream",
     "text": [
      "49\n"
     ]
    },
    {
     "data": {
      "text/plain": [
       "Int64Index([8], dtype='int64', name='first_index')"
      ]
     },
     "metadata": {},
     "output_type": "display_data"
    },
    {
     "name": "stdout",
     "output_type": "stream",
     "text": [
      "======\n",
      "13\n"
     ]
    },
    {
     "data": {
      "text/plain": [
       "Int64Index([83], dtype='int64', name='first_index')"
      ]
     },
     "metadata": {},
     "output_type": "display_data"
    },
    {
     "name": "stdout",
     "output_type": "stream",
     "text": [
      "51\n"
     ]
    },
    {
     "data": {
      "text/plain": [
       "Int64Index([6], dtype='int64', name='first_index')"
      ]
     },
     "metadata": {},
     "output_type": "display_data"
    },
    {
     "name": "stdout",
     "output_type": "stream",
     "text": [
      "======\n",
      "13\n"
     ]
    },
    {
     "data": {
      "text/plain": [
       "Int64Index([83], dtype='int64', name='first_index')"
      ]
     },
     "metadata": {},
     "output_type": "display_data"
    },
    {
     "name": "stdout",
     "output_type": "stream",
     "text": [
      "56\n"
     ]
    },
    {
     "data": {
      "text/plain": [
       "Int64Index([11], dtype='int64', name='first_index')"
      ]
     },
     "metadata": {},
     "output_type": "display_data"
    },
    {
     "name": "stdout",
     "output_type": "stream",
     "text": [
      "======\n",
      "13\n"
     ]
    },
    {
     "data": {
      "text/plain": [
       "Int64Index([83], dtype='int64', name='first_index')"
      ]
     },
     "metadata": {},
     "output_type": "display_data"
    },
    {
     "name": "stdout",
     "output_type": "stream",
     "text": [
      "57\n"
     ]
    },
    {
     "data": {
      "text/plain": [
       "Int64Index([23], dtype='int64', name='first_index')"
      ]
     },
     "metadata": {},
     "output_type": "display_data"
    },
    {
     "name": "stdout",
     "output_type": "stream",
     "text": [
      "======\n",
      "13\n"
     ]
    },
    {
     "data": {
      "text/plain": [
       "Int64Index([83], dtype='int64', name='first_index')"
      ]
     },
     "metadata": {},
     "output_type": "display_data"
    },
    {
     "name": "stdout",
     "output_type": "stream",
     "text": [
      "60\n"
     ]
    },
    {
     "data": {
      "text/plain": [
       "Int64Index([45], dtype='int64', name='first_index')"
      ]
     },
     "metadata": {},
     "output_type": "display_data"
    },
    {
     "name": "stdout",
     "output_type": "stream",
     "text": [
      "======\n",
      "13\n"
     ]
    },
    {
     "data": {
      "text/plain": [
       "Int64Index([83], dtype='int64', name='first_index')"
      ]
     },
     "metadata": {},
     "output_type": "display_data"
    },
    {
     "name": "stdout",
     "output_type": "stream",
     "text": [
      "61\n"
     ]
    },
    {
     "data": {
      "text/plain": [
       "Int64Index([52], dtype='int64', name='first_index')"
      ]
     },
     "metadata": {},
     "output_type": "display_data"
    },
    {
     "name": "stdout",
     "output_type": "stream",
     "text": [
      "======\n",
      "13\n"
     ]
    },
    {
     "data": {
      "text/plain": [
       "Int64Index([83], dtype='int64', name='first_index')"
      ]
     },
     "metadata": {},
     "output_type": "display_data"
    },
    {
     "name": "stdout",
     "output_type": "stream",
     "text": [
      "66\n"
     ]
    },
    {
     "data": {
      "text/plain": [
       "Int64Index([0], dtype='int64', name='first_index')"
      ]
     },
     "metadata": {},
     "output_type": "display_data"
    },
    {
     "name": "stdout",
     "output_type": "stream",
     "text": [
      "======\n",
      "13\n"
     ]
    },
    {
     "data": {
      "text/plain": [
       "Int64Index([83], dtype='int64', name='first_index')"
      ]
     },
     "metadata": {},
     "output_type": "display_data"
    },
    {
     "name": "stdout",
     "output_type": "stream",
     "text": [
      "67\n"
     ]
    },
    {
     "data": {
      "text/plain": [
       "Int64Index([5], dtype='int64', name='first_index')"
      ]
     },
     "metadata": {},
     "output_type": "display_data"
    },
    {
     "name": "stdout",
     "output_type": "stream",
     "text": [
      "======\n",
      "14\n"
     ]
    },
    {
     "data": {
      "text/plain": [
       "Int64Index([84], dtype='int64', name='first_index')"
      ]
     },
     "metadata": {},
     "output_type": "display_data"
    },
    {
     "name": "stdout",
     "output_type": "stream",
     "text": [
      "60\n"
     ]
    },
    {
     "data": {
      "text/plain": [
       "Int64Index([45], dtype='int64', name='first_index')"
      ]
     },
     "metadata": {},
     "output_type": "display_data"
    },
    {
     "name": "stdout",
     "output_type": "stream",
     "text": [
      "======\n",
      "16\n"
     ]
    },
    {
     "data": {
      "text/plain": [
       "Int64Index([70, 71], dtype='int64', name='first_index')"
      ]
     },
     "metadata": {},
     "output_type": "display_data"
    },
    {
     "name": "stdout",
     "output_type": "stream",
     "text": [
      "39\n"
     ]
    },
    {
     "data": {
      "text/plain": [
       "Int64Index([24], dtype='int64', name='first_index')"
      ]
     },
     "metadata": {},
     "output_type": "display_data"
    },
    {
     "name": "stdout",
     "output_type": "stream",
     "text": [
      "======\n",
      "16\n"
     ]
    },
    {
     "data": {
      "text/plain": [
       "Int64Index([70, 71], dtype='int64', name='first_index')"
      ]
     },
     "metadata": {},
     "output_type": "display_data"
    },
    {
     "name": "stdout",
     "output_type": "stream",
     "text": [
      "60\n"
     ]
    },
    {
     "data": {
      "text/plain": [
       "Int64Index([45], dtype='int64', name='first_index')"
      ]
     },
     "metadata": {},
     "output_type": "display_data"
    },
    {
     "name": "stdout",
     "output_type": "stream",
     "text": [
      "======\n",
      "17\n"
     ]
    },
    {
     "data": {
      "text/plain": [
       "Int64Index([66], dtype='int64', name='first_index')"
      ]
     },
     "metadata": {},
     "output_type": "display_data"
    },
    {
     "name": "stdout",
     "output_type": "stream",
     "text": [
      "60\n"
     ]
    },
    {
     "data": {
      "text/plain": [
       "Int64Index([45], dtype='int64', name='first_index')"
      ]
     },
     "metadata": {},
     "output_type": "display_data"
    },
    {
     "name": "stdout",
     "output_type": "stream",
     "text": [
      "======\n",
      "18\n"
     ]
    },
    {
     "data": {
      "text/plain": [
       "Int64Index([56], dtype='int64', name='first_index')"
      ]
     },
     "metadata": {},
     "output_type": "display_data"
    },
    {
     "name": "stdout",
     "output_type": "stream",
     "text": [
      "58\n"
     ]
    },
    {
     "data": {
      "text/plain": [
       "Int64Index([43], dtype='int64', name='first_index')"
      ]
     },
     "metadata": {},
     "output_type": "display_data"
    },
    {
     "name": "stdout",
     "output_type": "stream",
     "text": [
      "======\n",
      "18\n"
     ]
    },
    {
     "data": {
      "text/plain": [
       "Int64Index([56], dtype='int64', name='first_index')"
      ]
     },
     "metadata": {},
     "output_type": "display_data"
    },
    {
     "name": "stdout",
     "output_type": "stream",
     "text": [
      "60\n"
     ]
    },
    {
     "data": {
      "text/plain": [
       "Int64Index([45], dtype='int64', name='first_index')"
      ]
     },
     "metadata": {},
     "output_type": "display_data"
    },
    {
     "name": "stdout",
     "output_type": "stream",
     "text": [
      "======\n",
      "18\n"
     ]
    },
    {
     "data": {
      "text/plain": [
       "Int64Index([56], dtype='int64', name='first_index')"
      ]
     },
     "metadata": {},
     "output_type": "display_data"
    },
    {
     "name": "stdout",
     "output_type": "stream",
     "text": [
      "67\n"
     ]
    },
    {
     "data": {
      "text/plain": [
       "Int64Index([5], dtype='int64', name='first_index')"
      ]
     },
     "metadata": {},
     "output_type": "display_data"
    },
    {
     "name": "stdout",
     "output_type": "stream",
     "text": [
      "======\n",
      "19\n"
     ]
    },
    {
     "data": {
      "text/plain": [
       "Int64Index([51], dtype='int64', name='first_index')"
      ]
     },
     "metadata": {},
     "output_type": "display_data"
    },
    {
     "name": "stdout",
     "output_type": "stream",
     "text": [
      "22\n"
     ]
    },
    {
     "data": {
      "text/plain": [
       "Int64Index([60], dtype='int64', name='first_index')"
      ]
     },
     "metadata": {},
     "output_type": "display_data"
    },
    {
     "name": "stdout",
     "output_type": "stream",
     "text": [
      "======\n",
      "19\n"
     ]
    },
    {
     "data": {
      "text/plain": [
       "Int64Index([51], dtype='int64', name='first_index')"
      ]
     },
     "metadata": {},
     "output_type": "display_data"
    },
    {
     "name": "stdout",
     "output_type": "stream",
     "text": [
      "57\n"
     ]
    },
    {
     "data": {
      "text/plain": [
       "Int64Index([23], dtype='int64', name='first_index')"
      ]
     },
     "metadata": {},
     "output_type": "display_data"
    },
    {
     "name": "stdout",
     "output_type": "stream",
     "text": [
      "======\n",
      "19\n"
     ]
    },
    {
     "data": {
      "text/plain": [
       "Int64Index([51], dtype='int64', name='first_index')"
      ]
     },
     "metadata": {},
     "output_type": "display_data"
    },
    {
     "name": "stdout",
     "output_type": "stream",
     "text": [
      "65\n"
     ]
    },
    {
     "data": {
      "text/plain": [
       "Int64Index([44], dtype='int64', name='first_index')"
      ]
     },
     "metadata": {},
     "output_type": "display_data"
    },
    {
     "name": "stdout",
     "output_type": "stream",
     "text": [
      "======\n",
      "20\n"
     ]
    },
    {
     "data": {
      "text/plain": [
       "Int64Index([61], dtype='int64', name='first_index')"
      ]
     },
     "metadata": {},
     "output_type": "display_data"
    },
    {
     "name": "stdout",
     "output_type": "stream",
     "text": [
      "57\n"
     ]
    },
    {
     "data": {
      "text/plain": [
       "Int64Index([23], dtype='int64', name='first_index')"
      ]
     },
     "metadata": {},
     "output_type": "display_data"
    },
    {
     "name": "stdout",
     "output_type": "stream",
     "text": [
      "======\n",
      "20\n"
     ]
    },
    {
     "data": {
      "text/plain": [
       "Int64Index([61], dtype='int64', name='first_index')"
      ]
     },
     "metadata": {},
     "output_type": "display_data"
    },
    {
     "name": "stdout",
     "output_type": "stream",
     "text": [
      "60\n"
     ]
    },
    {
     "data": {
      "text/plain": [
       "Int64Index([45], dtype='int64', name='first_index')"
      ]
     },
     "metadata": {},
     "output_type": "display_data"
    },
    {
     "name": "stdout",
     "output_type": "stream",
     "text": [
      "======\n",
      "20\n"
     ]
    },
    {
     "data": {
      "text/plain": [
       "Int64Index([61], dtype='int64', name='first_index')"
      ]
     },
     "metadata": {},
     "output_type": "display_data"
    },
    {
     "name": "stdout",
     "output_type": "stream",
     "text": [
      "66\n"
     ]
    },
    {
     "data": {
      "text/plain": [
       "Int64Index([0], dtype='int64', name='first_index')"
      ]
     },
     "metadata": {},
     "output_type": "display_data"
    },
    {
     "name": "stdout",
     "output_type": "stream",
     "text": [
      "======\n",
      "21\n"
     ]
    },
    {
     "data": {
      "text/plain": [
       "Int64Index([36], dtype='int64', name='first_index')"
      ]
     },
     "metadata": {},
     "output_type": "display_data"
    },
    {
     "name": "stdout",
     "output_type": "stream",
     "text": [
      "60\n"
     ]
    },
    {
     "data": {
      "text/plain": [
       "Int64Index([45], dtype='int64', name='first_index')"
      ]
     },
     "metadata": {},
     "output_type": "display_data"
    },
    {
     "name": "stdout",
     "output_type": "stream",
     "text": [
      "======\n",
      "22\n"
     ]
    },
    {
     "data": {
      "text/plain": [
       "Int64Index([60], dtype='int64', name='first_index')"
      ]
     },
     "metadata": {},
     "output_type": "display_data"
    },
    {
     "name": "stdout",
     "output_type": "stream",
     "text": [
      "42\n"
     ]
    },
    {
     "data": {
      "text/plain": [
       "Int64Index([26], dtype='int64', name='first_index')"
      ]
     },
     "metadata": {},
     "output_type": "display_data"
    },
    {
     "name": "stdout",
     "output_type": "stream",
     "text": [
      "======\n",
      "22\n"
     ]
    },
    {
     "data": {
      "text/plain": [
       "Int64Index([60], dtype='int64', name='first_index')"
      ]
     },
     "metadata": {},
     "output_type": "display_data"
    },
    {
     "name": "stdout",
     "output_type": "stream",
     "text": [
      "58\n"
     ]
    },
    {
     "data": {
      "text/plain": [
       "Int64Index([43], dtype='int64', name='first_index')"
      ]
     },
     "metadata": {},
     "output_type": "display_data"
    },
    {
     "name": "stdout",
     "output_type": "stream",
     "text": [
      "======\n",
      "22\n"
     ]
    },
    {
     "data": {
      "text/plain": [
       "Int64Index([60], dtype='int64', name='first_index')"
      ]
     },
     "metadata": {},
     "output_type": "display_data"
    },
    {
     "name": "stdout",
     "output_type": "stream",
     "text": [
      "60\n"
     ]
    },
    {
     "data": {
      "text/plain": [
       "Int64Index([45], dtype='int64', name='first_index')"
      ]
     },
     "metadata": {},
     "output_type": "display_data"
    },
    {
     "name": "stdout",
     "output_type": "stream",
     "text": [
      "======\n",
      "22\n"
     ]
    },
    {
     "data": {
      "text/plain": [
       "Int64Index([60], dtype='int64', name='first_index')"
      ]
     },
     "metadata": {},
     "output_type": "display_data"
    },
    {
     "name": "stdout",
     "output_type": "stream",
     "text": [
      "67\n"
     ]
    },
    {
     "data": {
      "text/plain": [
       "Int64Index([5], dtype='int64', name='first_index')"
      ]
     },
     "metadata": {},
     "output_type": "display_data"
    },
    {
     "name": "stdout",
     "output_type": "stream",
     "text": [
      "======\n",
      "23\n"
     ]
    },
    {
     "data": {
      "text/plain": [
       "Int64Index([27], dtype='int64', name='first_index')"
      ]
     },
     "metadata": {},
     "output_type": "display_data"
    },
    {
     "name": "stdout",
     "output_type": "stream",
     "text": [
      "49\n"
     ]
    },
    {
     "data": {
      "text/plain": [
       "Int64Index([8], dtype='int64', name='first_index')"
      ]
     },
     "metadata": {},
     "output_type": "display_data"
    },
    {
     "name": "stdout",
     "output_type": "stream",
     "text": [
      "======\n",
      "23\n"
     ]
    },
    {
     "data": {
      "text/plain": [
       "Int64Index([27], dtype='int64', name='first_index')"
      ]
     },
     "metadata": {},
     "output_type": "display_data"
    },
    {
     "name": "stdout",
     "output_type": "stream",
     "text": [
      "51\n"
     ]
    },
    {
     "data": {
      "text/plain": [
       "Int64Index([6], dtype='int64', name='first_index')"
      ]
     },
     "metadata": {},
     "output_type": "display_data"
    },
    {
     "name": "stdout",
     "output_type": "stream",
     "text": [
      "======\n",
      "23\n"
     ]
    },
    {
     "data": {
      "text/plain": [
       "Int64Index([27], dtype='int64', name='first_index')"
      ]
     },
     "metadata": {},
     "output_type": "display_data"
    },
    {
     "name": "stdout",
     "output_type": "stream",
     "text": [
      "55\n"
     ]
    },
    {
     "data": {
      "text/plain": [
       "Int64Index([29], dtype='int64', name='first_index')"
      ]
     },
     "metadata": {},
     "output_type": "display_data"
    },
    {
     "name": "stdout",
     "output_type": "stream",
     "text": [
      "======\n",
      "23\n"
     ]
    },
    {
     "data": {
      "text/plain": [
       "Int64Index([27], dtype='int64', name='first_index')"
      ]
     },
     "metadata": {},
     "output_type": "display_data"
    },
    {
     "name": "stdout",
     "output_type": "stream",
     "text": [
      "61\n"
     ]
    },
    {
     "data": {
      "text/plain": [
       "Int64Index([52], dtype='int64', name='first_index')"
      ]
     },
     "metadata": {},
     "output_type": "display_data"
    },
    {
     "name": "stdout",
     "output_type": "stream",
     "text": [
      "======\n",
      "24\n"
     ]
    },
    {
     "data": {
      "text/plain": [
       "Int64Index([49], dtype='int64', name='first_index')"
      ]
     },
     "metadata": {},
     "output_type": "display_data"
    },
    {
     "name": "stdout",
     "output_type": "stream",
     "text": [
      "34\n"
     ]
    },
    {
     "data": {
      "text/plain": [
       "Int64Index([72], dtype='int64', name='first_index')"
      ]
     },
     "metadata": {},
     "output_type": "display_data"
    },
    {
     "name": "stdout",
     "output_type": "stream",
     "text": [
      "======\n",
      "24\n"
     ]
    },
    {
     "data": {
      "text/plain": [
       "Int64Index([49], dtype='int64', name='first_index')"
      ]
     },
     "metadata": {},
     "output_type": "display_data"
    },
    {
     "name": "stdout",
     "output_type": "stream",
     "text": [
      "42\n"
     ]
    },
    {
     "data": {
      "text/plain": [
       "Int64Index([26], dtype='int64', name='first_index')"
      ]
     },
     "metadata": {},
     "output_type": "display_data"
    },
    {
     "name": "stdout",
     "output_type": "stream",
     "text": [
      "======\n",
      "24\n"
     ]
    },
    {
     "data": {
      "text/plain": [
       "Int64Index([49], dtype='int64', name='first_index')"
      ]
     },
     "metadata": {},
     "output_type": "display_data"
    },
    {
     "name": "stdout",
     "output_type": "stream",
     "text": [
      "57\n"
     ]
    },
    {
     "data": {
      "text/plain": [
       "Int64Index([23], dtype='int64', name='first_index')"
      ]
     },
     "metadata": {},
     "output_type": "display_data"
    },
    {
     "name": "stdout",
     "output_type": "stream",
     "text": [
      "======\n",
      "24\n"
     ]
    },
    {
     "data": {
      "text/plain": [
       "Int64Index([49], dtype='int64', name='first_index')"
      ]
     },
     "metadata": {},
     "output_type": "display_data"
    },
    {
     "name": "stdout",
     "output_type": "stream",
     "text": [
      "60\n"
     ]
    },
    {
     "data": {
      "text/plain": [
       "Int64Index([45], dtype='int64', name='first_index')"
      ]
     },
     "metadata": {},
     "output_type": "display_data"
    },
    {
     "name": "stdout",
     "output_type": "stream",
     "text": [
      "======\n",
      "25\n"
     ]
    },
    {
     "data": {
      "text/plain": [
       "Int64Index([42], dtype='int64', name='first_index')"
      ]
     },
     "metadata": {},
     "output_type": "display_data"
    },
    {
     "name": "stdout",
     "output_type": "stream",
     "text": [
      "60\n"
     ]
    },
    {
     "data": {
      "text/plain": [
       "Int64Index([45], dtype='int64', name='first_index')"
      ]
     },
     "metadata": {},
     "output_type": "display_data"
    },
    {
     "name": "stdout",
     "output_type": "stream",
     "text": [
      "======\n",
      "26\n"
     ]
    },
    {
     "data": {
      "text/plain": [
       "Int64Index([31], dtype='int64', name='first_index')"
      ]
     },
     "metadata": {},
     "output_type": "display_data"
    },
    {
     "name": "stdout",
     "output_type": "stream",
     "text": [
      "60\n"
     ]
    },
    {
     "data": {
      "text/plain": [
       "Int64Index([45], dtype='int64', name='first_index')"
      ]
     },
     "metadata": {},
     "output_type": "display_data"
    },
    {
     "name": "stdout",
     "output_type": "stream",
     "text": [
      "======\n",
      "27\n"
     ]
    },
    {
     "data": {
      "text/plain": [
       "Int64Index([76], dtype='int64', name='first_index')"
      ]
     },
     "metadata": {},
     "output_type": "display_data"
    },
    {
     "name": "stdout",
     "output_type": "stream",
     "text": [
      "49\n"
     ]
    },
    {
     "data": {
      "text/plain": [
       "Int64Index([8], dtype='int64', name='first_index')"
      ]
     },
     "metadata": {},
     "output_type": "display_data"
    },
    {
     "name": "stdout",
     "output_type": "stream",
     "text": [
      "======\n",
      "27\n"
     ]
    },
    {
     "data": {
      "text/plain": [
       "Int64Index([76], dtype='int64', name='first_index')"
      ]
     },
     "metadata": {},
     "output_type": "display_data"
    },
    {
     "name": "stdout",
     "output_type": "stream",
     "text": [
      "60\n"
     ]
    },
    {
     "data": {
      "text/plain": [
       "Int64Index([45], dtype='int64', name='first_index')"
      ]
     },
     "metadata": {},
     "output_type": "display_data"
    },
    {
     "name": "stdout",
     "output_type": "stream",
     "text": [
      "======\n",
      "29\n"
     ]
    },
    {
     "data": {
      "text/plain": [
       "Int64Index([57], dtype='int64', name='first_index')"
      ]
     },
     "metadata": {},
     "output_type": "display_data"
    },
    {
     "name": "stdout",
     "output_type": "stream",
     "text": [
      "31\n"
     ]
    },
    {
     "data": {
      "text/plain": [
       "Int64Index([65], dtype='int64', name='first_index')"
      ]
     },
     "metadata": {},
     "output_type": "display_data"
    },
    {
     "name": "stdout",
     "output_type": "stream",
     "text": [
      "======\n",
      "29\n"
     ]
    },
    {
     "data": {
      "text/plain": [
       "Int64Index([57], dtype='int64', name='first_index')"
      ]
     },
     "metadata": {},
     "output_type": "display_data"
    },
    {
     "name": "stdout",
     "output_type": "stream",
     "text": [
      "32\n"
     ]
    },
    {
     "data": {
      "text/plain": [
       "Int64Index([62], dtype='int64', name='first_index')"
      ]
     },
     "metadata": {},
     "output_type": "display_data"
    },
    {
     "name": "stdout",
     "output_type": "stream",
     "text": [
      "======\n",
      "29\n"
     ]
    },
    {
     "data": {
      "text/plain": [
       "Int64Index([57], dtype='int64', name='first_index')"
      ]
     },
     "metadata": {},
     "output_type": "display_data"
    },
    {
     "name": "stdout",
     "output_type": "stream",
     "text": [
      "51\n"
     ]
    },
    {
     "data": {
      "text/plain": [
       "Int64Index([6], dtype='int64', name='first_index')"
      ]
     },
     "metadata": {},
     "output_type": "display_data"
    },
    {
     "name": "stdout",
     "output_type": "stream",
     "text": [
      "======\n",
      "29\n"
     ]
    },
    {
     "data": {
      "text/plain": [
       "Int64Index([57], dtype='int64', name='first_index')"
      ]
     },
     "metadata": {},
     "output_type": "display_data"
    },
    {
     "name": "stdout",
     "output_type": "stream",
     "text": [
      "52\n"
     ]
    },
    {
     "data": {
      "text/plain": [
       "Int64Index([4], dtype='int64', name='first_index')"
      ]
     },
     "metadata": {},
     "output_type": "display_data"
    },
    {
     "name": "stdout",
     "output_type": "stream",
     "text": [
      "======\n",
      "29\n"
     ]
    },
    {
     "data": {
      "text/plain": [
       "Int64Index([57], dtype='int64', name='first_index')"
      ]
     },
     "metadata": {},
     "output_type": "display_data"
    },
    {
     "name": "stdout",
     "output_type": "stream",
     "text": [
      "60\n"
     ]
    },
    {
     "data": {
      "text/plain": [
       "Int64Index([45], dtype='int64', name='first_index')"
      ]
     },
     "metadata": {},
     "output_type": "display_data"
    },
    {
     "name": "stdout",
     "output_type": "stream",
     "text": [
      "======\n",
      "29\n"
     ]
    },
    {
     "data": {
      "text/plain": [
       "Int64Index([57], dtype='int64', name='first_index')"
      ]
     },
     "metadata": {},
     "output_type": "display_data"
    },
    {
     "name": "stdout",
     "output_type": "stream",
     "text": [
      "66\n"
     ]
    },
    {
     "data": {
      "text/plain": [
       "Int64Index([0], dtype='int64', name='first_index')"
      ]
     },
     "metadata": {},
     "output_type": "display_data"
    },
    {
     "name": "stdout",
     "output_type": "stream",
     "text": [
      "======\n",
      "29\n"
     ]
    },
    {
     "data": {
      "text/plain": [
       "Int64Index([57], dtype='int64', name='first_index')"
      ]
     },
     "metadata": {},
     "output_type": "display_data"
    },
    {
     "name": "stdout",
     "output_type": "stream",
     "text": [
      "67\n"
     ]
    },
    {
     "data": {
      "text/plain": [
       "Int64Index([5], dtype='int64', name='first_index')"
      ]
     },
     "metadata": {},
     "output_type": "display_data"
    },
    {
     "name": "stdout",
     "output_type": "stream",
     "text": [
      "======\n",
      "30\n"
     ]
    },
    {
     "data": {
      "text/plain": [
       "Int64Index([63], dtype='int64', name='first_index')"
      ]
     },
     "metadata": {},
     "output_type": "display_data"
    },
    {
     "name": "stdout",
     "output_type": "stream",
     "text": [
      "60\n"
     ]
    },
    {
     "data": {
      "text/plain": [
       "Int64Index([45], dtype='int64', name='first_index')"
      ]
     },
     "metadata": {},
     "output_type": "display_data"
    },
    {
     "name": "stdout",
     "output_type": "stream",
     "text": [
      "======\n",
      "31\n"
     ]
    },
    {
     "data": {
      "text/plain": [
       "Int64Index([65], dtype='int64', name='first_index')"
      ]
     },
     "metadata": {},
     "output_type": "display_data"
    },
    {
     "name": "stdout",
     "output_type": "stream",
     "text": [
      "32\n"
     ]
    },
    {
     "data": {
      "text/plain": [
       "Int64Index([62], dtype='int64', name='first_index')"
      ]
     },
     "metadata": {},
     "output_type": "display_data"
    },
    {
     "name": "stdout",
     "output_type": "stream",
     "text": [
      "======\n",
      "31\n"
     ]
    },
    {
     "data": {
      "text/plain": [
       "Int64Index([65], dtype='int64', name='first_index')"
      ]
     },
     "metadata": {},
     "output_type": "display_data"
    },
    {
     "name": "stdout",
     "output_type": "stream",
     "text": [
      "57\n"
     ]
    },
    {
     "data": {
      "text/plain": [
       "Int64Index([23], dtype='int64', name='first_index')"
      ]
     },
     "metadata": {},
     "output_type": "display_data"
    },
    {
     "name": "stdout",
     "output_type": "stream",
     "text": [
      "======\n",
      "31\n"
     ]
    },
    {
     "data": {
      "text/plain": [
       "Int64Index([65], dtype='int64', name='first_index')"
      ]
     },
     "metadata": {},
     "output_type": "display_data"
    },
    {
     "name": "stdout",
     "output_type": "stream",
     "text": [
      "60\n"
     ]
    },
    {
     "data": {
      "text/plain": [
       "Int64Index([45], dtype='int64', name='first_index')"
      ]
     },
     "metadata": {},
     "output_type": "display_data"
    },
    {
     "name": "stdout",
     "output_type": "stream",
     "text": [
      "======\n",
      "31\n"
     ]
    },
    {
     "data": {
      "text/plain": [
       "Int64Index([65], dtype='int64', name='first_index')"
      ]
     },
     "metadata": {},
     "output_type": "display_data"
    },
    {
     "name": "stdout",
     "output_type": "stream",
     "text": [
      "70\n"
     ]
    },
    {
     "data": {
      "text/plain": [
       "Int64Index([37], dtype='int64', name='first_index')"
      ]
     },
     "metadata": {},
     "output_type": "display_data"
    },
    {
     "name": "stdout",
     "output_type": "stream",
     "text": [
      "======\n",
      "32\n"
     ]
    },
    {
     "data": {
      "text/plain": [
       "Int64Index([62], dtype='int64', name='first_index')"
      ]
     },
     "metadata": {},
     "output_type": "display_data"
    },
    {
     "name": "stdout",
     "output_type": "stream",
     "text": [
      "33\n"
     ]
    },
    {
     "data": {
      "text/plain": [
       "Int64Index([35], dtype='int64', name='first_index')"
      ]
     },
     "metadata": {},
     "output_type": "display_data"
    },
    {
     "name": "stdout",
     "output_type": "stream",
     "text": [
      "======\n",
      "32\n"
     ]
    },
    {
     "data": {
      "text/plain": [
       "Int64Index([62], dtype='int64', name='first_index')"
      ]
     },
     "metadata": {},
     "output_type": "display_data"
    },
    {
     "name": "stdout",
     "output_type": "stream",
     "text": [
      "40\n"
     ]
    },
    {
     "data": {
      "text/plain": [
       "Int64Index([41], dtype='int64', name='first_index')"
      ]
     },
     "metadata": {},
     "output_type": "display_data"
    },
    {
     "name": "stdout",
     "output_type": "stream",
     "text": [
      "======\n",
      "32\n"
     ]
    },
    {
     "data": {
      "text/plain": [
       "Int64Index([62], dtype='int64', name='first_index')"
      ]
     },
     "metadata": {},
     "output_type": "display_data"
    },
    {
     "name": "stdout",
     "output_type": "stream",
     "text": [
      "42\n"
     ]
    },
    {
     "data": {
      "text/plain": [
       "Int64Index([26], dtype='int64', name='first_index')"
      ]
     },
     "metadata": {},
     "output_type": "display_data"
    },
    {
     "name": "stdout",
     "output_type": "stream",
     "text": [
      "======\n",
      "32\n"
     ]
    },
    {
     "data": {
      "text/plain": [
       "Int64Index([62], dtype='int64', name='first_index')"
      ]
     },
     "metadata": {},
     "output_type": "display_data"
    },
    {
     "name": "stdout",
     "output_type": "stream",
     "text": [
      "53\n"
     ]
    },
    {
     "data": {
      "text/plain": [
       "Int64Index([10], dtype='int64', name='first_index')"
      ]
     },
     "metadata": {},
     "output_type": "display_data"
    },
    {
     "name": "stdout",
     "output_type": "stream",
     "text": [
      "======\n",
      "32\n"
     ]
    },
    {
     "data": {
      "text/plain": [
       "Int64Index([62], dtype='int64', name='first_index')"
      ]
     },
     "metadata": {},
     "output_type": "display_data"
    },
    {
     "name": "stdout",
     "output_type": "stream",
     "text": [
      "54\n"
     ]
    },
    {
     "data": {
      "text/plain": [
       "Int64Index([12], dtype='int64', name='first_index')"
      ]
     },
     "metadata": {},
     "output_type": "display_data"
    },
    {
     "name": "stdout",
     "output_type": "stream",
     "text": [
      "======\n",
      "32\n"
     ]
    },
    {
     "data": {
      "text/plain": [
       "Int64Index([62], dtype='int64', name='first_index')"
      ]
     },
     "metadata": {},
     "output_type": "display_data"
    },
    {
     "name": "stdout",
     "output_type": "stream",
     "text": [
      "56\n"
     ]
    },
    {
     "data": {
      "text/plain": [
       "Int64Index([11], dtype='int64', name='first_index')"
      ]
     },
     "metadata": {},
     "output_type": "display_data"
    },
    {
     "name": "stdout",
     "output_type": "stream",
     "text": [
      "======\n",
      "32\n"
     ]
    },
    {
     "data": {
      "text/plain": [
       "Int64Index([62], dtype='int64', name='first_index')"
      ]
     },
     "metadata": {},
     "output_type": "display_data"
    },
    {
     "name": "stdout",
     "output_type": "stream",
     "text": [
      "60\n"
     ]
    },
    {
     "data": {
      "text/plain": [
       "Int64Index([45], dtype='int64', name='first_index')"
      ]
     },
     "metadata": {},
     "output_type": "display_data"
    },
    {
     "name": "stdout",
     "output_type": "stream",
     "text": [
      "======\n",
      "33\n"
     ]
    },
    {
     "data": {
      "text/plain": [
       "Int64Index([35], dtype='int64', name='first_index')"
      ]
     },
     "metadata": {},
     "output_type": "display_data"
    },
    {
     "name": "stdout",
     "output_type": "stream",
     "text": [
      "60\n"
     ]
    },
    {
     "data": {
      "text/plain": [
       "Int64Index([45], dtype='int64', name='first_index')"
      ]
     },
     "metadata": {},
     "output_type": "display_data"
    },
    {
     "name": "stdout",
     "output_type": "stream",
     "text": [
      "======\n",
      "34\n"
     ]
    },
    {
     "data": {
      "text/plain": [
       "Int64Index([72], dtype='int64', name='first_index')"
      ]
     },
     "metadata": {},
     "output_type": "display_data"
    },
    {
     "name": "stdout",
     "output_type": "stream",
     "text": [
      "51\n"
     ]
    },
    {
     "data": {
      "text/plain": [
       "Int64Index([6], dtype='int64', name='first_index')"
      ]
     },
     "metadata": {},
     "output_type": "display_data"
    },
    {
     "name": "stdout",
     "output_type": "stream",
     "text": [
      "======\n",
      "34\n"
     ]
    },
    {
     "data": {
      "text/plain": [
       "Int64Index([72], dtype='int64', name='first_index')"
      ]
     },
     "metadata": {},
     "output_type": "display_data"
    },
    {
     "name": "stdout",
     "output_type": "stream",
     "text": [
      "52\n"
     ]
    },
    {
     "data": {
      "text/plain": [
       "Int64Index([4], dtype='int64', name='first_index')"
      ]
     },
     "metadata": {},
     "output_type": "display_data"
    },
    {
     "name": "stdout",
     "output_type": "stream",
     "text": [
      "======\n",
      "34\n"
     ]
    },
    {
     "data": {
      "text/plain": [
       "Int64Index([72], dtype='int64', name='first_index')"
      ]
     },
     "metadata": {},
     "output_type": "display_data"
    },
    {
     "name": "stdout",
     "output_type": "stream",
     "text": [
      "53\n"
     ]
    },
    {
     "data": {
      "text/plain": [
       "Int64Index([10], dtype='int64', name='first_index')"
      ]
     },
     "metadata": {},
     "output_type": "display_data"
    },
    {
     "name": "stdout",
     "output_type": "stream",
     "text": [
      "======\n",
      "34\n"
     ]
    },
    {
     "data": {
      "text/plain": [
       "Int64Index([72], dtype='int64', name='first_index')"
      ]
     },
     "metadata": {},
     "output_type": "display_data"
    },
    {
     "name": "stdout",
     "output_type": "stream",
     "text": [
      "60\n"
     ]
    },
    {
     "data": {
      "text/plain": [
       "Int64Index([45], dtype='int64', name='first_index')"
      ]
     },
     "metadata": {},
     "output_type": "display_data"
    },
    {
     "name": "stdout",
     "output_type": "stream",
     "text": [
      "======\n",
      "34\n"
     ]
    },
    {
     "data": {
      "text/plain": [
       "Int64Index([72], dtype='int64', name='first_index')"
      ]
     },
     "metadata": {},
     "output_type": "display_data"
    },
    {
     "name": "stdout",
     "output_type": "stream",
     "text": [
      "65\n"
     ]
    },
    {
     "data": {
      "text/plain": [
       "Int64Index([44], dtype='int64', name='first_index')"
      ]
     },
     "metadata": {},
     "output_type": "display_data"
    },
    {
     "name": "stdout",
     "output_type": "stream",
     "text": [
      "======\n",
      "34\n"
     ]
    },
    {
     "data": {
      "text/plain": [
       "Int64Index([72], dtype='int64', name='first_index')"
      ]
     },
     "metadata": {},
     "output_type": "display_data"
    },
    {
     "name": "stdout",
     "output_type": "stream",
     "text": [
      "66\n"
     ]
    },
    {
     "data": {
      "text/plain": [
       "Int64Index([0], dtype='int64', name='first_index')"
      ]
     },
     "metadata": {},
     "output_type": "display_data"
    },
    {
     "name": "stdout",
     "output_type": "stream",
     "text": [
      "======\n",
      "35\n"
     ]
    },
    {
     "data": {
      "text/plain": [
       "Int64Index([58], dtype='int64', name='first_index')"
      ]
     },
     "metadata": {},
     "output_type": "display_data"
    },
    {
     "name": "stdout",
     "output_type": "stream",
     "text": [
      "39\n"
     ]
    },
    {
     "data": {
      "text/plain": [
       "Int64Index([24], dtype='int64', name='first_index')"
      ]
     },
     "metadata": {},
     "output_type": "display_data"
    },
    {
     "name": "stdout",
     "output_type": "stream",
     "text": [
      "======\n",
      "35\n"
     ]
    },
    {
     "data": {
      "text/plain": [
       "Int64Index([58], dtype='int64', name='first_index')"
      ]
     },
     "metadata": {},
     "output_type": "display_data"
    },
    {
     "name": "stdout",
     "output_type": "stream",
     "text": [
      "58\n"
     ]
    },
    {
     "data": {
      "text/plain": [
       "Int64Index([43], dtype='int64', name='first_index')"
      ]
     },
     "metadata": {},
     "output_type": "display_data"
    },
    {
     "name": "stdout",
     "output_type": "stream",
     "text": [
      "======\n",
      "35\n"
     ]
    },
    {
     "data": {
      "text/plain": [
       "Int64Index([58], dtype='int64', name='first_index')"
      ]
     },
     "metadata": {},
     "output_type": "display_data"
    },
    {
     "name": "stdout",
     "output_type": "stream",
     "text": [
      "60\n"
     ]
    },
    {
     "data": {
      "text/plain": [
       "Int64Index([45], dtype='int64', name='first_index')"
      ]
     },
     "metadata": {},
     "output_type": "display_data"
    },
    {
     "name": "stdout",
     "output_type": "stream",
     "text": [
      "======\n",
      "36\n"
     ]
    },
    {
     "data": {
      "text/plain": [
       "Int64Index([55], dtype='int64', name='first_index')"
      ]
     },
     "metadata": {},
     "output_type": "display_data"
    },
    {
     "name": "stdout",
     "output_type": "stream",
     "text": [
      "60\n"
     ]
    },
    {
     "data": {
      "text/plain": [
       "Int64Index([45], dtype='int64', name='first_index')"
      ]
     },
     "metadata": {},
     "output_type": "display_data"
    },
    {
     "name": "stdout",
     "output_type": "stream",
     "text": [
      "======\n",
      "38\n"
     ]
    },
    {
     "data": {
      "text/plain": [
       "Int64Index([16], dtype='int64', name='first_index')"
      ]
     },
     "metadata": {},
     "output_type": "display_data"
    },
    {
     "name": "stdout",
     "output_type": "stream",
     "text": [
      "60\n"
     ]
    },
    {
     "data": {
      "text/plain": [
       "Int64Index([45], dtype='int64', name='first_index')"
      ]
     },
     "metadata": {},
     "output_type": "display_data"
    },
    {
     "name": "stdout",
     "output_type": "stream",
     "text": [
      "======\n",
      "39\n"
     ]
    },
    {
     "data": {
      "text/plain": [
       "Int64Index([24], dtype='int64', name='first_index')"
      ]
     },
     "metadata": {},
     "output_type": "display_data"
    },
    {
     "name": "stdout",
     "output_type": "stream",
     "text": [
      "55\n"
     ]
    },
    {
     "data": {
      "text/plain": [
       "Int64Index([29], dtype='int64', name='first_index')"
      ]
     },
     "metadata": {},
     "output_type": "display_data"
    },
    {
     "name": "stdout",
     "output_type": "stream",
     "text": [
      "======\n",
      "39\n"
     ]
    },
    {
     "data": {
      "text/plain": [
       "Int64Index([24], dtype='int64', name='first_index')"
      ]
     },
     "metadata": {},
     "output_type": "display_data"
    },
    {
     "name": "stdout",
     "output_type": "stream",
     "text": [
      "57\n"
     ]
    },
    {
     "data": {
      "text/plain": [
       "Int64Index([23], dtype='int64', name='first_index')"
      ]
     },
     "metadata": {},
     "output_type": "display_data"
    },
    {
     "name": "stdout",
     "output_type": "stream",
     "text": [
      "======\n",
      "39\n"
     ]
    },
    {
     "data": {
      "text/plain": [
       "Int64Index([24], dtype='int64', name='first_index')"
      ]
     },
     "metadata": {},
     "output_type": "display_data"
    },
    {
     "name": "stdout",
     "output_type": "stream",
     "text": [
      "58\n"
     ]
    },
    {
     "data": {
      "text/plain": [
       "Int64Index([43], dtype='int64', name='first_index')"
      ]
     },
     "metadata": {},
     "output_type": "display_data"
    },
    {
     "name": "stdout",
     "output_type": "stream",
     "text": [
      "======\n",
      "39\n"
     ]
    },
    {
     "data": {
      "text/plain": [
       "Int64Index([24], dtype='int64', name='first_index')"
      ]
     },
     "metadata": {},
     "output_type": "display_data"
    },
    {
     "name": "stdout",
     "output_type": "stream",
     "text": [
      "61\n"
     ]
    },
    {
     "data": {
      "text/plain": [
       "Int64Index([52], dtype='int64', name='first_index')"
      ]
     },
     "metadata": {},
     "output_type": "display_data"
    },
    {
     "name": "stdout",
     "output_type": "stream",
     "text": [
      "======\n",
      "39\n"
     ]
    },
    {
     "data": {
      "text/plain": [
       "Int64Index([24], dtype='int64', name='first_index')"
      ]
     },
     "metadata": {},
     "output_type": "display_data"
    },
    {
     "name": "stdout",
     "output_type": "stream",
     "text": [
      "65\n"
     ]
    },
    {
     "data": {
      "text/plain": [
       "Int64Index([44], dtype='int64', name='first_index')"
      ]
     },
     "metadata": {},
     "output_type": "display_data"
    },
    {
     "name": "stdout",
     "output_type": "stream",
     "text": [
      "======\n",
      "39\n"
     ]
    },
    {
     "data": {
      "text/plain": [
       "Int64Index([24], dtype='int64', name='first_index')"
      ]
     },
     "metadata": {},
     "output_type": "display_data"
    },
    {
     "name": "stdout",
     "output_type": "stream",
     "text": [
      "66\n"
     ]
    },
    {
     "data": {
      "text/plain": [
       "Int64Index([0], dtype='int64', name='first_index')"
      ]
     },
     "metadata": {},
     "output_type": "display_data"
    },
    {
     "name": "stdout",
     "output_type": "stream",
     "text": [
      "======\n",
      "39\n"
     ]
    },
    {
     "data": {
      "text/plain": [
       "Int64Index([24], dtype='int64', name='first_index')"
      ]
     },
     "metadata": {},
     "output_type": "display_data"
    },
    {
     "name": "stdout",
     "output_type": "stream",
     "text": [
      "67\n"
     ]
    },
    {
     "data": {
      "text/plain": [
       "Int64Index([5], dtype='int64', name='first_index')"
      ]
     },
     "metadata": {},
     "output_type": "display_data"
    },
    {
     "name": "stdout",
     "output_type": "stream",
     "text": [
      "======\n",
      "40\n"
     ]
    },
    {
     "data": {
      "text/plain": [
       "Int64Index([41], dtype='int64', name='first_index')"
      ]
     },
     "metadata": {},
     "output_type": "display_data"
    },
    {
     "name": "stdout",
     "output_type": "stream",
     "text": [
      "46\n"
     ]
    },
    {
     "data": {
      "text/plain": [
       "Int64Index([53], dtype='int64', name='first_index')"
      ]
     },
     "metadata": {},
     "output_type": "display_data"
    },
    {
     "name": "stdout",
     "output_type": "stream",
     "text": [
      "======\n",
      "40\n"
     ]
    },
    {
     "data": {
      "text/plain": [
       "Int64Index([41], dtype='int64', name='first_index')"
      ]
     },
     "metadata": {},
     "output_type": "display_data"
    },
    {
     "name": "stdout",
     "output_type": "stream",
     "text": [
      "51\n"
     ]
    },
    {
     "data": {
      "text/plain": [
       "Int64Index([6], dtype='int64', name='first_index')"
      ]
     },
     "metadata": {},
     "output_type": "display_data"
    },
    {
     "name": "stdout",
     "output_type": "stream",
     "text": [
      "======\n",
      "40\n"
     ]
    },
    {
     "data": {
      "text/plain": [
       "Int64Index([41], dtype='int64', name='first_index')"
      ]
     },
     "metadata": {},
     "output_type": "display_data"
    },
    {
     "name": "stdout",
     "output_type": "stream",
     "text": [
      "60\n"
     ]
    },
    {
     "data": {
      "text/plain": [
       "Int64Index([45], dtype='int64', name='first_index')"
      ]
     },
     "metadata": {},
     "output_type": "display_data"
    },
    {
     "name": "stdout",
     "output_type": "stream",
     "text": [
      "======\n",
      "40\n"
     ]
    },
    {
     "data": {
      "text/plain": [
       "Int64Index([41], dtype='int64', name='first_index')"
      ]
     },
     "metadata": {},
     "output_type": "display_data"
    },
    {
     "name": "stdout",
     "output_type": "stream",
     "text": [
      "61\n"
     ]
    },
    {
     "data": {
      "text/plain": [
       "Int64Index([52], dtype='int64', name='first_index')"
      ]
     },
     "metadata": {},
     "output_type": "display_data"
    },
    {
     "name": "stdout",
     "output_type": "stream",
     "text": [
      "======\n",
      "42\n"
     ]
    },
    {
     "data": {
      "text/plain": [
       "Int64Index([26], dtype='int64', name='first_index')"
      ]
     },
     "metadata": {},
     "output_type": "display_data"
    },
    {
     "name": "stdout",
     "output_type": "stream",
     "text": [
      "49\n"
     ]
    },
    {
     "data": {
      "text/plain": [
       "Int64Index([8], dtype='int64', name='first_index')"
      ]
     },
     "metadata": {},
     "output_type": "display_data"
    },
    {
     "name": "stdout",
     "output_type": "stream",
     "text": [
      "======\n",
      "42\n"
     ]
    },
    {
     "data": {
      "text/plain": [
       "Int64Index([26], dtype='int64', name='first_index')"
      ]
     },
     "metadata": {},
     "output_type": "display_data"
    },
    {
     "name": "stdout",
     "output_type": "stream",
     "text": [
      "52\n"
     ]
    },
    {
     "data": {
      "text/plain": [
       "Int64Index([4], dtype='int64', name='first_index')"
      ]
     },
     "metadata": {},
     "output_type": "display_data"
    },
    {
     "name": "stdout",
     "output_type": "stream",
     "text": [
      "======\n",
      "42\n"
     ]
    },
    {
     "data": {
      "text/plain": [
       "Int64Index([26], dtype='int64', name='first_index')"
      ]
     },
     "metadata": {},
     "output_type": "display_data"
    },
    {
     "name": "stdout",
     "output_type": "stream",
     "text": [
      "60\n"
     ]
    },
    {
     "data": {
      "text/plain": [
       "Int64Index([45], dtype='int64', name='first_index')"
      ]
     },
     "metadata": {},
     "output_type": "display_data"
    },
    {
     "name": "stdout",
     "output_type": "stream",
     "text": [
      "======\n",
      "42\n"
     ]
    },
    {
     "data": {
      "text/plain": [
       "Int64Index([26], dtype='int64', name='first_index')"
      ]
     },
     "metadata": {},
     "output_type": "display_data"
    },
    {
     "name": "stdout",
     "output_type": "stream",
     "text": [
      "68\n"
     ]
    },
    {
     "data": {
      "text/plain": [
       "Int64Index([13], dtype='int64', name='first_index')"
      ]
     },
     "metadata": {},
     "output_type": "display_data"
    },
    {
     "name": "stdout",
     "output_type": "stream",
     "text": [
      "======\n",
      "44\n"
     ]
    },
    {
     "data": {
      "text/plain": [
       "Int64Index([30], dtype='int64', name='first_index')"
      ]
     },
     "metadata": {},
     "output_type": "display_data"
    },
    {
     "name": "stdout",
     "output_type": "stream",
     "text": [
      "59\n"
     ]
    },
    {
     "data": {
      "text/plain": [
       "Int64Index([14], dtype='int64', name='first_index')"
      ]
     },
     "metadata": {},
     "output_type": "display_data"
    },
    {
     "name": "stdout",
     "output_type": "stream",
     "text": [
      "======\n",
      "44\n"
     ]
    },
    {
     "data": {
      "text/plain": [
       "Int64Index([30], dtype='int64', name='first_index')"
      ]
     },
     "metadata": {},
     "output_type": "display_data"
    },
    {
     "name": "stdout",
     "output_type": "stream",
     "text": [
      "60\n"
     ]
    },
    {
     "data": {
      "text/plain": [
       "Int64Index([45], dtype='int64', name='first_index')"
      ]
     },
     "metadata": {},
     "output_type": "display_data"
    },
    {
     "name": "stdout",
     "output_type": "stream",
     "text": [
      "======\n",
      "44\n"
     ]
    },
    {
     "data": {
      "text/plain": [
       "Int64Index([30], dtype='int64', name='first_index')"
      ]
     },
     "metadata": {},
     "output_type": "display_data"
    },
    {
     "name": "stdout",
     "output_type": "stream",
     "text": [
      "61\n"
     ]
    },
    {
     "data": {
      "text/plain": [
       "Int64Index([52], dtype='int64', name='first_index')"
      ]
     },
     "metadata": {},
     "output_type": "display_data"
    },
    {
     "name": "stdout",
     "output_type": "stream",
     "text": [
      "======\n",
      "44\n"
     ]
    },
    {
     "data": {
      "text/plain": [
       "Int64Index([30], dtype='int64', name='first_index')"
      ]
     },
     "metadata": {},
     "output_type": "display_data"
    },
    {
     "name": "stdout",
     "output_type": "stream",
     "text": [
      "65\n"
     ]
    },
    {
     "data": {
      "text/plain": [
       "Int64Index([44], dtype='int64', name='first_index')"
      ]
     },
     "metadata": {},
     "output_type": "display_data"
    },
    {
     "name": "stdout",
     "output_type": "stream",
     "text": [
      "======\n",
      "46\n"
     ]
    },
    {
     "data": {
      "text/plain": [
       "Int64Index([53], dtype='int64', name='first_index')"
      ]
     },
     "metadata": {},
     "output_type": "display_data"
    },
    {
     "name": "stdout",
     "output_type": "stream",
     "text": [
      "60\n"
     ]
    },
    {
     "data": {
      "text/plain": [
       "Int64Index([45], dtype='int64', name='first_index')"
      ]
     },
     "metadata": {},
     "output_type": "display_data"
    },
    {
     "name": "stdout",
     "output_type": "stream",
     "text": [
      "======\n",
      "47\n"
     ]
    },
    {
     "data": {
      "text/plain": [
       "Int64Index([22], dtype='int64', name='first_index')"
      ]
     },
     "metadata": {},
     "output_type": "display_data"
    },
    {
     "name": "stdout",
     "output_type": "stream",
     "text": [
      "60\n"
     ]
    },
    {
     "data": {
      "text/plain": [
       "Int64Index([45], dtype='int64', name='first_index')"
      ]
     },
     "metadata": {},
     "output_type": "display_data"
    },
    {
     "name": "stdout",
     "output_type": "stream",
     "text": [
      "======\n",
      "48\n"
     ]
    },
    {
     "data": {
      "text/plain": [
       "Int64Index([25], dtype='int64', name='first_index')"
      ]
     },
     "metadata": {},
     "output_type": "display_data"
    },
    {
     "name": "stdout",
     "output_type": "stream",
     "text": [
      "60\n"
     ]
    },
    {
     "data": {
      "text/plain": [
       "Int64Index([45], dtype='int64', name='first_index')"
      ]
     },
     "metadata": {},
     "output_type": "display_data"
    },
    {
     "name": "stdout",
     "output_type": "stream",
     "text": [
      "======\n",
      "49\n"
     ]
    },
    {
     "data": {
      "text/plain": [
       "Int64Index([8], dtype='int64', name='first_index')"
      ]
     },
     "metadata": {},
     "output_type": "display_data"
    },
    {
     "name": "stdout",
     "output_type": "stream",
     "text": [
      "50\n"
     ]
    },
    {
     "data": {
      "text/plain": [
       "Int64Index([15], dtype='int64', name='first_index')"
      ]
     },
     "metadata": {},
     "output_type": "display_data"
    },
    {
     "name": "stdout",
     "output_type": "stream",
     "text": [
      "======\n",
      "49\n"
     ]
    },
    {
     "data": {
      "text/plain": [
       "Int64Index([8], dtype='int64', name='first_index')"
      ]
     },
     "metadata": {},
     "output_type": "display_data"
    },
    {
     "name": "stdout",
     "output_type": "stream",
     "text": [
      "52\n"
     ]
    },
    {
     "data": {
      "text/plain": [
       "Int64Index([4], dtype='int64', name='first_index')"
      ]
     },
     "metadata": {},
     "output_type": "display_data"
    },
    {
     "name": "stdout",
     "output_type": "stream",
     "text": [
      "======\n",
      "49\n"
     ]
    },
    {
     "data": {
      "text/plain": [
       "Int64Index([8], dtype='int64', name='first_index')"
      ]
     },
     "metadata": {},
     "output_type": "display_data"
    },
    {
     "name": "stdout",
     "output_type": "stream",
     "text": [
      "53\n"
     ]
    },
    {
     "data": {
      "text/plain": [
       "Int64Index([10], dtype='int64', name='first_index')"
      ]
     },
     "metadata": {},
     "output_type": "display_data"
    },
    {
     "name": "stdout",
     "output_type": "stream",
     "text": [
      "======\n",
      "49\n"
     ]
    },
    {
     "data": {
      "text/plain": [
       "Int64Index([8], dtype='int64', name='first_index')"
      ]
     },
     "metadata": {},
     "output_type": "display_data"
    },
    {
     "name": "stdout",
     "output_type": "stream",
     "text": [
      "59\n"
     ]
    },
    {
     "data": {
      "text/plain": [
       "Int64Index([14], dtype='int64', name='first_index')"
      ]
     },
     "metadata": {},
     "output_type": "display_data"
    },
    {
     "name": "stdout",
     "output_type": "stream",
     "text": [
      "======\n",
      "49\n"
     ]
    },
    {
     "data": {
      "text/plain": [
       "Int64Index([8], dtype='int64', name='first_index')"
      ]
     },
     "metadata": {},
     "output_type": "display_data"
    },
    {
     "name": "stdout",
     "output_type": "stream",
     "text": [
      "60\n"
     ]
    },
    {
     "data": {
      "text/plain": [
       "Int64Index([45], dtype='int64', name='first_index')"
      ]
     },
     "metadata": {},
     "output_type": "display_data"
    },
    {
     "name": "stdout",
     "output_type": "stream",
     "text": [
      "======\n",
      "49\n"
     ]
    },
    {
     "data": {
      "text/plain": [
       "Int64Index([8], dtype='int64', name='first_index')"
      ]
     },
     "metadata": {},
     "output_type": "display_data"
    },
    {
     "name": "stdout",
     "output_type": "stream",
     "text": [
      "65\n"
     ]
    },
    {
     "data": {
      "text/plain": [
       "Int64Index([44], dtype='int64', name='first_index')"
      ]
     },
     "metadata": {},
     "output_type": "display_data"
    },
    {
     "name": "stdout",
     "output_type": "stream",
     "text": [
      "======\n",
      "49\n"
     ]
    },
    {
     "data": {
      "text/plain": [
       "Int64Index([8], dtype='int64', name='first_index')"
      ]
     },
     "metadata": {},
     "output_type": "display_data"
    },
    {
     "name": "stdout",
     "output_type": "stream",
     "text": [
      "67\n"
     ]
    },
    {
     "data": {
      "text/plain": [
       "Int64Index([5], dtype='int64', name='first_index')"
      ]
     },
     "metadata": {},
     "output_type": "display_data"
    },
    {
     "name": "stdout",
     "output_type": "stream",
     "text": [
      "======\n",
      "50\n"
     ]
    },
    {
     "data": {
      "text/plain": [
       "Int64Index([15], dtype='int64', name='first_index')"
      ]
     },
     "metadata": {},
     "output_type": "display_data"
    },
    {
     "name": "stdout",
     "output_type": "stream",
     "text": [
      "51\n"
     ]
    },
    {
     "data": {
      "text/plain": [
       "Int64Index([6], dtype='int64', name='first_index')"
      ]
     },
     "metadata": {},
     "output_type": "display_data"
    },
    {
     "name": "stdout",
     "output_type": "stream",
     "text": [
      "======\n",
      "50\n"
     ]
    },
    {
     "data": {
      "text/plain": [
       "Int64Index([15], dtype='int64', name='first_index')"
      ]
     },
     "metadata": {},
     "output_type": "display_data"
    },
    {
     "name": "stdout",
     "output_type": "stream",
     "text": [
      "57\n"
     ]
    },
    {
     "data": {
      "text/plain": [
       "Int64Index([23], dtype='int64', name='first_index')"
      ]
     },
     "metadata": {},
     "output_type": "display_data"
    },
    {
     "name": "stdout",
     "output_type": "stream",
     "text": [
      "======\n",
      "50\n"
     ]
    },
    {
     "data": {
      "text/plain": [
       "Int64Index([15], dtype='int64', name='first_index')"
      ]
     },
     "metadata": {},
     "output_type": "display_data"
    },
    {
     "name": "stdout",
     "output_type": "stream",
     "text": [
      "60\n"
     ]
    },
    {
     "data": {
      "text/plain": [
       "Int64Index([45], dtype='int64', name='first_index')"
      ]
     },
     "metadata": {},
     "output_type": "display_data"
    },
    {
     "name": "stdout",
     "output_type": "stream",
     "text": [
      "======\n",
      "50\n"
     ]
    },
    {
     "data": {
      "text/plain": [
       "Int64Index([15], dtype='int64', name='first_index')"
      ]
     },
     "metadata": {},
     "output_type": "display_data"
    },
    {
     "name": "stdout",
     "output_type": "stream",
     "text": [
      "61\n"
     ]
    },
    {
     "data": {
      "text/plain": [
       "Int64Index([52], dtype='int64', name='first_index')"
      ]
     },
     "metadata": {},
     "output_type": "display_data"
    },
    {
     "name": "stdout",
     "output_type": "stream",
     "text": [
      "======\n",
      "50\n"
     ]
    },
    {
     "data": {
      "text/plain": [
       "Int64Index([15], dtype='int64', name='first_index')"
      ]
     },
     "metadata": {},
     "output_type": "display_data"
    },
    {
     "name": "stdout",
     "output_type": "stream",
     "text": [
      "65\n"
     ]
    },
    {
     "data": {
      "text/plain": [
       "Int64Index([44], dtype='int64', name='first_index')"
      ]
     },
     "metadata": {},
     "output_type": "display_data"
    },
    {
     "name": "stdout",
     "output_type": "stream",
     "text": [
      "======\n",
      "51\n"
     ]
    },
    {
     "data": {
      "text/plain": [
       "Int64Index([6], dtype='int64', name='first_index')"
      ]
     },
     "metadata": {},
     "output_type": "display_data"
    },
    {
     "name": "stdout",
     "output_type": "stream",
     "text": [
      "53\n"
     ]
    },
    {
     "data": {
      "text/plain": [
       "Int64Index([10], dtype='int64', name='first_index')"
      ]
     },
     "metadata": {},
     "output_type": "display_data"
    },
    {
     "name": "stdout",
     "output_type": "stream",
     "text": [
      "======\n",
      "51\n"
     ]
    },
    {
     "data": {
      "text/plain": [
       "Int64Index([6], dtype='int64', name='first_index')"
      ]
     },
     "metadata": {},
     "output_type": "display_data"
    },
    {
     "name": "stdout",
     "output_type": "stream",
     "text": [
      "58\n"
     ]
    },
    {
     "data": {
      "text/plain": [
       "Int64Index([43], dtype='int64', name='first_index')"
      ]
     },
     "metadata": {},
     "output_type": "display_data"
    },
    {
     "name": "stdout",
     "output_type": "stream",
     "text": [
      "======\n",
      "51\n"
     ]
    },
    {
     "data": {
      "text/plain": [
       "Int64Index([6], dtype='int64', name='first_index')"
      ]
     },
     "metadata": {},
     "output_type": "display_data"
    },
    {
     "name": "stdout",
     "output_type": "stream",
     "text": [
      "60\n"
     ]
    },
    {
     "data": {
      "text/plain": [
       "Int64Index([45], dtype='int64', name='first_index')"
      ]
     },
     "metadata": {},
     "output_type": "display_data"
    },
    {
     "name": "stdout",
     "output_type": "stream",
     "text": [
      "======\n",
      "52\n"
     ]
    },
    {
     "data": {
      "text/plain": [
       "Int64Index([4], dtype='int64', name='first_index')"
      ]
     },
     "metadata": {},
     "output_type": "display_data"
    },
    {
     "name": "stdout",
     "output_type": "stream",
     "text": [
      "57\n"
     ]
    },
    {
     "data": {
      "text/plain": [
       "Int64Index([23], dtype='int64', name='first_index')"
      ]
     },
     "metadata": {},
     "output_type": "display_data"
    },
    {
     "name": "stdout",
     "output_type": "stream",
     "text": [
      "======\n",
      "52\n"
     ]
    },
    {
     "data": {
      "text/plain": [
       "Int64Index([4], dtype='int64', name='first_index')"
      ]
     },
     "metadata": {},
     "output_type": "display_data"
    },
    {
     "name": "stdout",
     "output_type": "stream",
     "text": [
      "58\n"
     ]
    },
    {
     "data": {
      "text/plain": [
       "Int64Index([43], dtype='int64', name='first_index')"
      ]
     },
     "metadata": {},
     "output_type": "display_data"
    },
    {
     "name": "stdout",
     "output_type": "stream",
     "text": [
      "======\n",
      "52\n"
     ]
    },
    {
     "data": {
      "text/plain": [
       "Int64Index([4], dtype='int64', name='first_index')"
      ]
     },
     "metadata": {},
     "output_type": "display_data"
    },
    {
     "name": "stdout",
     "output_type": "stream",
     "text": [
      "60\n"
     ]
    },
    {
     "data": {
      "text/plain": [
       "Int64Index([45], dtype='int64', name='first_index')"
      ]
     },
     "metadata": {},
     "output_type": "display_data"
    },
    {
     "name": "stdout",
     "output_type": "stream",
     "text": [
      "======\n",
      "53\n"
     ]
    },
    {
     "data": {
      "text/plain": [
       "Int64Index([10], dtype='int64', name='first_index')"
      ]
     },
     "metadata": {},
     "output_type": "display_data"
    },
    {
     "name": "stdout",
     "output_type": "stream",
     "text": [
      "57\n"
     ]
    },
    {
     "data": {
      "text/plain": [
       "Int64Index([23], dtype='int64', name='first_index')"
      ]
     },
     "metadata": {},
     "output_type": "display_data"
    },
    {
     "name": "stdout",
     "output_type": "stream",
     "text": [
      "======\n",
      "53\n"
     ]
    },
    {
     "data": {
      "text/plain": [
       "Int64Index([10], dtype='int64', name='first_index')"
      ]
     },
     "metadata": {},
     "output_type": "display_data"
    },
    {
     "name": "stdout",
     "output_type": "stream",
     "text": [
      "60\n"
     ]
    },
    {
     "data": {
      "text/plain": [
       "Int64Index([45], dtype='int64', name='first_index')"
      ]
     },
     "metadata": {},
     "output_type": "display_data"
    },
    {
     "name": "stdout",
     "output_type": "stream",
     "text": [
      "======\n",
      "53\n"
     ]
    },
    {
     "data": {
      "text/plain": [
       "Int64Index([10], dtype='int64', name='first_index')"
      ]
     },
     "metadata": {},
     "output_type": "display_data"
    },
    {
     "name": "stdout",
     "output_type": "stream",
     "text": [
      "61\n"
     ]
    },
    {
     "data": {
      "text/plain": [
       "Int64Index([52], dtype='int64', name='first_index')"
      ]
     },
     "metadata": {},
     "output_type": "display_data"
    },
    {
     "name": "stdout",
     "output_type": "stream",
     "text": [
      "======\n",
      "53\n"
     ]
    },
    {
     "data": {
      "text/plain": [
       "Int64Index([10], dtype='int64', name='first_index')"
      ]
     },
     "metadata": {},
     "output_type": "display_data"
    },
    {
     "name": "stdout",
     "output_type": "stream",
     "text": [
      "65\n"
     ]
    },
    {
     "data": {
      "text/plain": [
       "Int64Index([44], dtype='int64', name='first_index')"
      ]
     },
     "metadata": {},
     "output_type": "display_data"
    },
    {
     "name": "stdout",
     "output_type": "stream",
     "text": [
      "======\n",
      "54\n"
     ]
    },
    {
     "data": {
      "text/plain": [
       "Int64Index([12], dtype='int64', name='first_index')"
      ]
     },
     "metadata": {},
     "output_type": "display_data"
    },
    {
     "name": "stdout",
     "output_type": "stream",
     "text": [
      "57\n"
     ]
    },
    {
     "data": {
      "text/plain": [
       "Int64Index([23], dtype='int64', name='first_index')"
      ]
     },
     "metadata": {},
     "output_type": "display_data"
    },
    {
     "name": "stdout",
     "output_type": "stream",
     "text": [
      "======\n",
      "54\n"
     ]
    },
    {
     "data": {
      "text/plain": [
       "Int64Index([12], dtype='int64', name='first_index')"
      ]
     },
     "metadata": {},
     "output_type": "display_data"
    },
    {
     "name": "stdout",
     "output_type": "stream",
     "text": [
      "60\n"
     ]
    },
    {
     "data": {
      "text/plain": [
       "Int64Index([45], dtype='int64', name='first_index')"
      ]
     },
     "metadata": {},
     "output_type": "display_data"
    },
    {
     "name": "stdout",
     "output_type": "stream",
     "text": [
      "======\n",
      "56\n"
     ]
    },
    {
     "data": {
      "text/plain": [
       "Int64Index([11], dtype='int64', name='first_index')"
      ]
     },
     "metadata": {},
     "output_type": "display_data"
    },
    {
     "name": "stdout",
     "output_type": "stream",
     "text": [
      "60\n"
     ]
    },
    {
     "data": {
      "text/plain": [
       "Int64Index([45], dtype='int64', name='first_index')"
      ]
     },
     "metadata": {},
     "output_type": "display_data"
    },
    {
     "name": "stdout",
     "output_type": "stream",
     "text": [
      "======\n",
      "56\n"
     ]
    },
    {
     "data": {
      "text/plain": [
       "Int64Index([11], dtype='int64', name='first_index')"
      ]
     },
     "metadata": {},
     "output_type": "display_data"
    },
    {
     "name": "stdout",
     "output_type": "stream",
     "text": [
      "61\n"
     ]
    },
    {
     "data": {
      "text/plain": [
       "Int64Index([52], dtype='int64', name='first_index')"
      ]
     },
     "metadata": {},
     "output_type": "display_data"
    },
    {
     "name": "stdout",
     "output_type": "stream",
     "text": [
      "======\n",
      "57\n"
     ]
    },
    {
     "data": {
      "text/plain": [
       "Int64Index([23], dtype='int64', name='first_index')"
      ]
     },
     "metadata": {},
     "output_type": "display_data"
    },
    {
     "name": "stdout",
     "output_type": "stream",
     "text": [
      "60\n"
     ]
    },
    {
     "data": {
      "text/plain": [
       "Int64Index([45], dtype='int64', name='first_index')"
      ]
     },
     "metadata": {},
     "output_type": "display_data"
    },
    {
     "name": "stdout",
     "output_type": "stream",
     "text": [
      "======\n",
      "57\n"
     ]
    },
    {
     "data": {
      "text/plain": [
       "Int64Index([23], dtype='int64', name='first_index')"
      ]
     },
     "metadata": {},
     "output_type": "display_data"
    },
    {
     "name": "stdout",
     "output_type": "stream",
     "text": [
      "61\n"
     ]
    },
    {
     "data": {
      "text/plain": [
       "Int64Index([52], dtype='int64', name='first_index')"
      ]
     },
     "metadata": {},
     "output_type": "display_data"
    },
    {
     "name": "stdout",
     "output_type": "stream",
     "text": [
      "======\n",
      "57\n"
     ]
    },
    {
     "data": {
      "text/plain": [
       "Int64Index([23], dtype='int64', name='first_index')"
      ]
     },
     "metadata": {},
     "output_type": "display_data"
    },
    {
     "name": "stdout",
     "output_type": "stream",
     "text": [
      "64\n"
     ]
    },
    {
     "data": {
      "text/plain": [
       "Int64Index([47], dtype='int64', name='first_index')"
      ]
     },
     "metadata": {},
     "output_type": "display_data"
    },
    {
     "name": "stdout",
     "output_type": "stream",
     "text": [
      "======\n",
      "57\n"
     ]
    },
    {
     "data": {
      "text/plain": [
       "Int64Index([23], dtype='int64', name='first_index')"
      ]
     },
     "metadata": {},
     "output_type": "display_data"
    },
    {
     "name": "stdout",
     "output_type": "stream",
     "text": [
      "67\n"
     ]
    },
    {
     "data": {
      "text/plain": [
       "Int64Index([5], dtype='int64', name='first_index')"
      ]
     },
     "metadata": {},
     "output_type": "display_data"
    },
    {
     "name": "stdout",
     "output_type": "stream",
     "text": [
      "======\n",
      "58\n"
     ]
    },
    {
     "data": {
      "text/plain": [
       "Int64Index([43], dtype='int64', name='first_index')"
      ]
     },
     "metadata": {},
     "output_type": "display_data"
    },
    {
     "name": "stdout",
     "output_type": "stream",
     "text": [
      "67\n"
     ]
    },
    {
     "data": {
      "text/plain": [
       "Int64Index([5], dtype='int64', name='first_index')"
      ]
     },
     "metadata": {},
     "output_type": "display_data"
    },
    {
     "name": "stdout",
     "output_type": "stream",
     "text": [
      "======\n",
      "58\n"
     ]
    },
    {
     "data": {
      "text/plain": [
       "Int64Index([43], dtype='int64', name='first_index')"
      ]
     },
     "metadata": {},
     "output_type": "display_data"
    },
    {
     "name": "stdout",
     "output_type": "stream",
     "text": [
      "69\n"
     ]
    },
    {
     "data": {
      "text/plain": [
       "Int64Index([19], dtype='int64', name='first_index')"
      ]
     },
     "metadata": {},
     "output_type": "display_data"
    },
    {
     "name": "stdout",
     "output_type": "stream",
     "text": [
      "======\n",
      "59\n"
     ]
    },
    {
     "data": {
      "text/plain": [
       "Int64Index([14], dtype='int64', name='first_index')"
      ]
     },
     "metadata": {},
     "output_type": "display_data"
    },
    {
     "name": "stdout",
     "output_type": "stream",
     "text": [
      "60\n"
     ]
    },
    {
     "data": {
      "text/plain": [
       "Int64Index([45], dtype='int64', name='first_index')"
      ]
     },
     "metadata": {},
     "output_type": "display_data"
    },
    {
     "name": "stdout",
     "output_type": "stream",
     "text": [
      "======\n",
      "60\n"
     ]
    },
    {
     "data": {
      "text/plain": [
       "Int64Index([45], dtype='int64', name='first_index')"
      ]
     },
     "metadata": {},
     "output_type": "display_data"
    },
    {
     "name": "stdout",
     "output_type": "stream",
     "text": [
      "61\n"
     ]
    },
    {
     "data": {
      "text/plain": [
       "Int64Index([52], dtype='int64', name='first_index')"
      ]
     },
     "metadata": {},
     "output_type": "display_data"
    },
    {
     "name": "stdout",
     "output_type": "stream",
     "text": [
      "======\n",
      "60\n"
     ]
    },
    {
     "data": {
      "text/plain": [
       "Int64Index([45], dtype='int64', name='first_index')"
      ]
     },
     "metadata": {},
     "output_type": "display_data"
    },
    {
     "name": "stdout",
     "output_type": "stream",
     "text": [
      "62\n"
     ]
    },
    {
     "data": {
      "text/plain": [
       "Int64Index([59], dtype='int64', name='first_index')"
      ]
     },
     "metadata": {},
     "output_type": "display_data"
    },
    {
     "name": "stdout",
     "output_type": "stream",
     "text": [
      "======\n",
      "60\n"
     ]
    },
    {
     "data": {
      "text/plain": [
       "Int64Index([45], dtype='int64', name='first_index')"
      ]
     },
     "metadata": {},
     "output_type": "display_data"
    },
    {
     "name": "stdout",
     "output_type": "stream",
     "text": [
      "64\n"
     ]
    },
    {
     "data": {
      "text/plain": [
       "Int64Index([47], dtype='int64', name='first_index')"
      ]
     },
     "metadata": {},
     "output_type": "display_data"
    },
    {
     "name": "stdout",
     "output_type": "stream",
     "text": [
      "======\n",
      "60\n"
     ]
    },
    {
     "data": {
      "text/plain": [
       "Int64Index([45], dtype='int64', name='first_index')"
      ]
     },
     "metadata": {},
     "output_type": "display_data"
    },
    {
     "name": "stdout",
     "output_type": "stream",
     "text": [
      "65\n"
     ]
    },
    {
     "data": {
      "text/plain": [
       "Int64Index([44], dtype='int64', name='first_index')"
      ]
     },
     "metadata": {},
     "output_type": "display_data"
    },
    {
     "name": "stdout",
     "output_type": "stream",
     "text": [
      "======\n",
      "60\n"
     ]
    },
    {
     "data": {
      "text/plain": [
       "Int64Index([45], dtype='int64', name='first_index')"
      ]
     },
     "metadata": {},
     "output_type": "display_data"
    },
    {
     "name": "stdout",
     "output_type": "stream",
     "text": [
      "66\n"
     ]
    },
    {
     "data": {
      "text/plain": [
       "Int64Index([0], dtype='int64', name='first_index')"
      ]
     },
     "metadata": {},
     "output_type": "display_data"
    },
    {
     "name": "stdout",
     "output_type": "stream",
     "text": [
      "======\n",
      "60\n"
     ]
    },
    {
     "data": {
      "text/plain": [
       "Int64Index([45], dtype='int64', name='first_index')"
      ]
     },
     "metadata": {},
     "output_type": "display_data"
    },
    {
     "name": "stdout",
     "output_type": "stream",
     "text": [
      "67\n"
     ]
    },
    {
     "data": {
      "text/plain": [
       "Int64Index([5], dtype='int64', name='first_index')"
      ]
     },
     "metadata": {},
     "output_type": "display_data"
    },
    {
     "name": "stdout",
     "output_type": "stream",
     "text": [
      "======\n",
      "60\n"
     ]
    },
    {
     "data": {
      "text/plain": [
       "Int64Index([45], dtype='int64', name='first_index')"
      ]
     },
     "metadata": {},
     "output_type": "display_data"
    },
    {
     "name": "stdout",
     "output_type": "stream",
     "text": [
      "68\n"
     ]
    },
    {
     "data": {
      "text/plain": [
       "Int64Index([13], dtype='int64', name='first_index')"
      ]
     },
     "metadata": {},
     "output_type": "display_data"
    },
    {
     "name": "stdout",
     "output_type": "stream",
     "text": [
      "======\n",
      "60\n"
     ]
    },
    {
     "data": {
      "text/plain": [
       "Int64Index([45], dtype='int64', name='first_index')"
      ]
     },
     "metadata": {},
     "output_type": "display_data"
    },
    {
     "name": "stdout",
     "output_type": "stream",
     "text": [
      "69\n"
     ]
    },
    {
     "data": {
      "text/plain": [
       "Int64Index([19], dtype='int64', name='first_index')"
      ]
     },
     "metadata": {},
     "output_type": "display_data"
    },
    {
     "name": "stdout",
     "output_type": "stream",
     "text": [
      "======\n",
      "60\n"
     ]
    },
    {
     "data": {
      "text/plain": [
       "Int64Index([45], dtype='int64', name='first_index')"
      ]
     },
     "metadata": {},
     "output_type": "display_data"
    },
    {
     "name": "stdout",
     "output_type": "stream",
     "text": [
      "70\n"
     ]
    },
    {
     "data": {
      "text/plain": [
       "Int64Index([37], dtype='int64', name='first_index')"
      ]
     },
     "metadata": {},
     "output_type": "display_data"
    },
    {
     "name": "stdout",
     "output_type": "stream",
     "text": [
      "======\n",
      "60\n"
     ]
    },
    {
     "data": {
      "text/plain": [
       "Int64Index([45], dtype='int64', name='first_index')"
      ]
     },
     "metadata": {},
     "output_type": "display_data"
    },
    {
     "name": "stdout",
     "output_type": "stream",
     "text": [
      "71\n"
     ]
    },
    {
     "data": {
      "text/plain": [
       "Int64Index([28], dtype='int64', name='first_index')"
      ]
     },
     "metadata": {},
     "output_type": "display_data"
    },
    {
     "name": "stdout",
     "output_type": "stream",
     "text": [
      "======\n",
      "61\n"
     ]
    },
    {
     "data": {
      "text/plain": [
       "Int64Index([52], dtype='int64', name='first_index')"
      ]
     },
     "metadata": {},
     "output_type": "display_data"
    },
    {
     "name": "stdout",
     "output_type": "stream",
     "text": [
      "66\n"
     ]
    },
    {
     "data": {
      "text/plain": [
       "Int64Index([0], dtype='int64', name='first_index')"
      ]
     },
     "metadata": {},
     "output_type": "display_data"
    },
    {
     "name": "stdout",
     "output_type": "stream",
     "text": [
      "======\n",
      "61\n"
     ]
    },
    {
     "data": {
      "text/plain": [
       "Int64Index([52], dtype='int64', name='first_index')"
      ]
     },
     "metadata": {},
     "output_type": "display_data"
    },
    {
     "name": "stdout",
     "output_type": "stream",
     "text": [
      "68\n"
     ]
    },
    {
     "data": {
      "text/plain": [
       "Int64Index([13], dtype='int64', name='first_index')"
      ]
     },
     "metadata": {},
     "output_type": "display_data"
    },
    {
     "name": "stdout",
     "output_type": "stream",
     "text": [
      "======\n",
      "61\n"
     ]
    },
    {
     "data": {
      "text/plain": [
       "Int64Index([52], dtype='int64', name='first_index')"
      ]
     },
     "metadata": {},
     "output_type": "display_data"
    },
    {
     "name": "stdout",
     "output_type": "stream",
     "text": [
      "71\n"
     ]
    },
    {
     "data": {
      "text/plain": [
       "Int64Index([28], dtype='int64', name='first_index')"
      ]
     },
     "metadata": {},
     "output_type": "display_data"
    },
    {
     "name": "stdout",
     "output_type": "stream",
     "text": [
      "======\n",
      "65\n"
     ]
    },
    {
     "data": {
      "text/plain": [
       "Int64Index([44], dtype='int64', name='first_index')"
      ]
     },
     "metadata": {},
     "output_type": "display_data"
    },
    {
     "name": "stdout",
     "output_type": "stream",
     "text": [
      "67\n"
     ]
    },
    {
     "data": {
      "text/plain": [
       "Int64Index([5], dtype='int64', name='first_index')"
      ]
     },
     "metadata": {},
     "output_type": "display_data"
    },
    {
     "name": "stdout",
     "output_type": "stream",
     "text": [
      "======\n",
      "67\n"
     ]
    },
    {
     "data": {
      "text/plain": [
       "Int64Index([5], dtype='int64', name='first_index')"
      ]
     },
     "metadata": {},
     "output_type": "display_data"
    },
    {
     "name": "stdout",
     "output_type": "stream",
     "text": [
      "68\n"
     ]
    },
    {
     "data": {
      "text/plain": [
       "Int64Index([13], dtype='int64', name='first_index')"
      ]
     },
     "metadata": {},
     "output_type": "display_data"
    },
    {
     "name": "stdout",
     "output_type": "stream",
     "text": [
      "======\n"
     ]
    }
   ],
   "source": [
    "for p in cluster_pairs:\n",
    "    print(p[0])\n",
    "    indices = np.where(clusters.labels_ == p[0])\n",
    "    display(df_piv.index[indices])\n",
    "    print(p[1])\n",
    "    indices = np.where(clusters.labels_ == p[1])\n",
    "    display(df_piv.index[indices])\n",
    "    print('======')"
   ]
  },
  {
   "cell_type": "markdown",
   "metadata": {},
   "source": [
    "### Try HDBSCAN clustering algorithm."
   ]
  },
  {
   "cell_type": "code",
   "execution_count": 60,
   "metadata": {
    "collapsed": true,
    "jupyter": {
     "outputs_hidden": true
    }
   },
   "outputs": [],
   "source": [
    "import hdbscan"
   ]
  },
  {
   "cell_type": "code",
   "execution_count": 61,
   "metadata": {
    "collapsed": true,
    "jupyter": {
     "outputs_hidden": true
    }
   },
   "outputs": [
    {
     "data": {
      "text/plain": [
       "HDBSCAN(algorithm='best', allow_single_cluster=False, alpha=1.0,\n",
       "        approx_min_span_tree=True, cluster_selection_epsilon=0.0,\n",
       "        cluster_selection_method='eom', core_dist_n_jobs=4,\n",
       "        gen_min_span_tree=False, leaf_size=40,\n",
       "        match_reference_implementation=False, memory=Memory(location=None),\n",
       "        metric='precomputed', min_cluster_size=5, min_samples=None, p=None,\n",
       "        prediction_data=False)"
      ]
     },
     "execution_count": 61,
     "metadata": {},
     "output_type": "execute_result"
    }
   ],
   "source": [
    "clusterer = hdbscan.HDBSCAN(metric='precomputed')\n",
    "clusterer.fit(dist_mat)"
   ]
  },
  {
   "cell_type": "code",
   "execution_count": 62,
   "metadata": {
    "collapsed": true,
    "jupyter": {
     "outputs_hidden": true
    }
   },
   "outputs": [
    {
     "data": {
      "text/plain": [
       "<matplotlib.axes._subplots.AxesSubplot at 0x1f810707788>"
      ]
     },
     "execution_count": 62,
     "metadata": {},
     "output_type": "execute_result"
    },
    {
     "data": {
      "image/png": "[encoded data removed]",
      "text/plain": [
       "<Figure size 1440x720 with 2 Axes>"
      ]
     },
     "metadata": {},
     "output_type": "display_data"
    }
   ],
   "source": [
    "clusterer.condensed_tree_.plot()"
   ]
  },
  {
   "cell_type": "code",
   "execution_count": 63,
   "metadata": {
    "collapsed": true,
    "jupyter": {
     "outputs_hidden": true
    }
   },
   "outputs": [
    {
     "data": {
      "text/plain": [
       "<matplotlib.axes._subplots.AxesSubplot at 0x1f810ccd848>"
      ]
     },
     "execution_count": 63,
     "metadata": {},
     "output_type": "execute_result"
    },
    {
     "data": {
      "image/png": "[encoded data removed]",
      "text/plain": [
       "<Figure size 1440x720 with 2 Axes>"
      ]
     },
     "metadata": {},
     "output_type": "display_data"
    }
   ],
   "source": [
    "clusterer.single_linkage_tree_.plot()"
   ]
  },
  {
   "cell_type": "code",
   "execution_count": 64,
   "metadata": {
    "collapsed": true,
    "jupyter": {
     "outputs_hidden": true
    }
   },
   "outputs": [
    {
     "data": {
      "text/plain": [
       "array([-1, -1, -1, -1, -1, -1, -1, -1, -1, -1, -1, -1, -1, -1, -1, -1, -1,\n",
       "       -1, -1, -1, -1, -1, -1, -1, -1, -1, -1, -1, -1, -1, -1, -1, -1, -1,\n",
       "       -1, -1, -1, -1, -1, -1, -1, -1, -1, -1, -1, -1, -1], dtype=int64)"
      ]
     },
     "execution_count": 64,
     "metadata": {},
     "output_type": "execute_result"
    }
   ],
   "source": [
    "clusterer.labels_"
   ]
  },
  {
   "cell_type": "code",
   "execution_count": 65,
   "metadata": {
    "collapsed": true,
    "jupyter": {
     "outputs_hidden": true
    }
   },
   "outputs": [
    {
     "data": {
      "text/plain": [
       "{-1: 47}"
      ]
     },
     "execution_count": 65,
     "metadata": {},
     "output_type": "execute_result"
    }
   ],
   "source": [
    "unique, counts = np.unique(clusterer.labels_, return_counts=True)\n",
    "dict(zip(unique, counts))"
   ]
  },
  {
   "cell_type": "code",
   "execution_count": 66,
   "metadata": {
    "collapsed": true,
    "jupyter": {
     "outputs_hidden": true
    }
   },
   "outputs": [
    {
     "data": {
      "text/plain": [
       "array([-1], dtype=int64)"
      ]
     },
     "execution_count": 66,
     "metadata": {},
     "output_type": "execute_result"
    }
   ],
   "source": [
    "unique"
   ]
  },
  {
   "cell_type": "code",
   "execution_count": 67,
   "metadata": {
    "collapsed": true,
    "jupyter": {
     "outputs_hidden": true
    }
   },
   "outputs": [
    {
     "name": "stdout",
     "output_type": "stream",
     "text": [
      "cluster -1 (size 47):\n",
      "[ 0  1  2  3  4  5  6  7  8  9 10 11 12 13 14 15 16 17 18 19 20 21 22 23\n",
      " 24 25 26 27 28 29 30 31 32 33 34 35 36 37 38 39 40 41 42 43 44 45 46]\n"
     ]
    },
    {
     "data": {
      "text/plain": [
       "'Debate and argument appeal to you.'"
      ]
     },
     "metadata": {},
     "output_type": "display_data"
    },
    {
     "data": {
      "text/plain": [
       "'Keeping things going is your strength, especially once someone else starts them.'"
      ]
     },
     "metadata": {},
     "output_type": "display_data"
    },
    {
     "data": {
      "text/plain": [
       "'Money and possessions are important to you for the feelings of security they bring.'"
      ]
     },
     "metadata": {},
     "output_type": "display_data"
    },
    {
     "data": {
      "text/plain": [
       "'Whatever you have set your sights on, you refuse to give up or let go of it.'"
      ]
     },
     "metadata": {},
     "output_type": "display_data"
    },
    {
     "data": {
      "text/plain": [
       "'You are adventurous.'"
      ]
     },
     "metadata": {},
     "output_type": "display_data"
    },
    {
     "data": {
      "text/plain": [
       "'You are consistent.'"
      ]
     },
     "metadata": {},
     "output_type": "display_data"
    },
    {
     "data": {
      "text/plain": [
       "'You are courageous.'"
      ]
     },
     "metadata": {},
     "output_type": "display_data"
    },
    {
     "data": {
      "text/plain": [
       "'You are gentle.'"
      ]
     },
     "metadata": {},
     "output_type": "display_data"
    },
    {
     "data": {
      "text/plain": [
       "'You are handy with your hands.'"
      ]
     },
     "metadata": {},
     "output_type": "display_data"
    },
    {
     "data": {
      "text/plain": [
       "'You are independent.'"
      ]
     },
     "metadata": {},
     "output_type": "display_data"
    },
    {
     "data": {
      "text/plain": [
       "'You are patient unless someone takes you too far.'"
      ]
     },
     "metadata": {},
     "output_type": "display_data"
    },
    {
     "data": {
      "text/plain": [
       "'You are quiet.'"
      ]
     },
     "metadata": {},
     "output_type": "display_data"
    },
    {
     "data": {
      "text/plain": [
       "'You are reliable.'"
      ]
     },
     "metadata": {},
     "output_type": "display_data"
    },
    {
     "data": {
      "text/plain": [
       "'You are romantic.'"
      ]
     },
     "metadata": {},
     "output_type": "display_data"
    },
    {
     "data": {
      "text/plain": [
       "'You are sensitive.'"
      ]
     },
     "metadata": {},
     "output_type": "display_data"
    },
    {
     "data": {
      "text/plain": [
       "'You are sentimental.'"
      ]
     },
     "metadata": {},
     "output_type": "display_data"
    },
    {
     "data": {
      "text/plain": [
       "'You are shy.'"
      ]
     },
     "metadata": {},
     "output_type": "display_data"
    },
    {
     "data": {
      "text/plain": [
       "'You are usually outspoken, sometimes to the point of bluntness.'"
      ]
     },
     "metadata": {},
     "output_type": "display_data"
    },
    {
     "data": {
      "text/plain": [
       "'You are usually slow to anger unless someone takes you too far.'"
      ]
     },
     "metadata": {},
     "output_type": "display_data"
    },
    {
     "data": {
      "text/plain": [
       "'You are very direct in thought, action, and speech and everyone knows how you feel.'"
      ]
     },
     "metadata": {},
     "output_type": "display_data"
    },
    {
     "data": {
      "text/plain": [
       "'You can handle more of the workload than most around you.'"
      ]
     },
     "metadata": {},
     "output_type": "display_data"
    },
    {
     "data": {
      "text/plain": [
       "'You enjoy building and seeing the results of your hard work.'"
      ]
     },
     "metadata": {},
     "output_type": "display_data"
    },
    {
     "data": {
      "text/plain": [
       "'You grasp concepts easily.'"
      ]
     },
     "metadata": {},
     "output_type": "display_data"
    },
    {
     "data": {
      "text/plain": [
       "'You have common sense to manage others.'"
      ]
     },
     "metadata": {},
     "output_type": "display_data"
    },
    {
     "data": {
      "text/plain": [
       "'You have the ability to manage others.'"
      ]
     },
     "metadata": {},
     "output_type": "display_data"
    },
    {
     "data": {
      "text/plain": [
       "'You may be a bit of a perfectionist.'"
      ]
     },
     "metadata": {},
     "output_type": "display_data"
    },
    {
     "data": {
      "text/plain": [
       "'You may be ambidextrous or mechanically inclined.'"
      ]
     },
     "metadata": {},
     "output_type": "display_data"
    },
    {
     "data": {
      "text/plain": [
       "\"You may become impatient with those who do n't learn as quickly.\""
      ]
     },
     "metadata": {},
     "output_type": "display_data"
    },
    {
     "data": {
      "text/plain": [
       "'You never find it difficult to change your mind or course in mid-stream.'"
      ]
     },
     "metadata": {},
     "output_type": "display_data"
    },
    {
     "data": {
      "text/plain": [
       "'You never give up.'"
      ]
     },
     "metadata": {},
     "output_type": "display_data"
    },
    {
     "data": {
      "text/plain": [
       "'You prefer a regular routine, defined responsibilities.'"
      ]
     },
     "metadata": {},
     "output_type": "display_data"
    },
    {
     "data": {
      "text/plain": [
       "'You prefer a regular routine, defined tasks.'"
      ]
     },
     "metadata": {},
     "output_type": "display_data"
    },
    {
     "data": {
      "text/plain": [
       "'You tend to be dependable.'"
      ]
     },
     "metadata": {},
     "output_type": "display_data"
    },
    {
     "data": {
      "text/plain": [
       "'You tend to be friendly.'"
      ]
     },
     "metadata": {},
     "output_type": "display_data"
    },
    {
     "data": {
      "text/plain": [
       "'You tend to be honest.'"
      ]
     },
     "metadata": {},
     "output_type": "display_data"
    },
    {
     "data": {
      "text/plain": [
       "'You tend to be idealistic.'"
      ]
     },
     "metadata": {},
     "output_type": "display_data"
    },
    {
     "data": {
      "text/plain": [
       "'You tend to be industrious, efficient, practical, exacting, scientific, organized, shy, thrifty, studious, economical, and punctual.'"
      ]
     },
     "metadata": {},
     "output_type": "display_data"
    },
    {
     "data": {
      "text/plain": [
       "'You tend to be open-minded.'"
      ]
     },
     "metadata": {},
     "output_type": "display_data"
    },
    {
     "data": {
      "text/plain": [
       "'You tend to be optimistic.'"
      ]
     },
     "metadata": {},
     "output_type": "display_data"
    },
    {
     "data": {
      "text/plain": [
       "'You tend to be versatile.'"
      ]
     },
     "metadata": {},
     "output_type": "display_data"
    },
    {
     "data": {
      "text/plain": [
       "'Your mind is analytical.'"
      ]
     },
     "metadata": {},
     "output_type": "display_data"
    },
    {
     "data": {
      "text/plain": [
       "'Your mind is deep.'"
      ]
     },
     "metadata": {},
     "output_type": "display_data"
    },
    {
     "data": {
      "text/plain": [
       "'Your work is usually neat.'"
      ]
     },
     "metadata": {},
     "output_type": "display_data"
    },
    {
     "data": {
      "text/plain": [
       "'Your work is usually orderly.'"
      ]
     },
     "metadata": {},
     "output_type": "display_data"
    },
    {
     "data": {
      "text/plain": [
       "'you dislike dirt.'"
      ]
     },
     "metadata": {},
     "output_type": "display_data"
    },
    {
     "data": {
      "text/plain": [
       "'you dislike messes.'"
      ]
     },
     "metadata": {},
     "output_type": "display_data"
    },
    {
     "data": {
      "text/plain": [
       "'you probably have a good head for numbers.'"
      ]
     },
     "metadata": {},
     "output_type": "display_data"
    },
    {
     "name": "stdout",
     "output_type": "stream",
     "text": [
      "\n",
      "\n"
     ]
    }
   ],
   "source": [
    "for i in unique:\n",
    "    indices = np.where(clusterer.labels_ == i)[0]\n",
    "\n",
    "    print(f'cluster {i} (size {len(indices)}):')\n",
    "    print(indices)\n",
    "    for idx in indices:\n",
    "        display(df_piv.index[idx])\n",
    "    print('\\n')"
   ]
  },
  {
   "cell_type": "code",
   "execution_count": 68,
   "metadata": {
    "collapsed": true,
    "jupyter": {
     "outputs_hidden": true
    }
   },
   "outputs": [
    {
     "ename": "ValueError",
     "evalue": "Number of labels is 1. Valid values are 2 to n_samples - 1 (inclusive)",
     "output_type": "error",
     "traceback": [
      "\u001b[1;31m---------------------------------------------------------------------------\u001b[0m",
      "\u001b[1;31mValueError\u001b[0m                                Traceback (most recent call last)",
      "\u001b[1;32m<ipython-input-68-fa7a1a568cf5>\u001b[0m in \u001b[0;36m<module>\u001b[1;34m\u001b[0m\n\u001b[1;32m----> 1\u001b[1;33m \u001b[0msilhouette_score\u001b[0m\u001b[1;33m(\u001b[0m\u001b[0mdist_mat\u001b[0m\u001b[1;33m,\u001b[0m \u001b[0mclusterer\u001b[0m\u001b[1;33m.\u001b[0m\u001b[0mlabels_\u001b[0m\u001b[1;33m,\u001b[0m \u001b[0mmetric\u001b[0m\u001b[1;33m=\u001b[0m\u001b[1;34m'precomputed'\u001b[0m\u001b[1;33m)\u001b[0m\u001b[1;33m\u001b[0m\u001b[1;33m\u001b[0m\u001b[0m\n\u001b[0m",
      "\u001b[1;32m~\\Desktop\\Modules\\FYP\\comments-summarization\\env\\lib\\site-packages\\sklearn\\metrics\\cluster\\_unsupervised.py\u001b[0m in \u001b[0;36msilhouette_score\u001b[1;34m(X, labels, metric, sample_size, random_state, **kwds)\u001b[0m\n\u001b[0;32m    115\u001b[0m         \u001b[1;32melse\u001b[0m\u001b[1;33m:\u001b[0m\u001b[1;33m\u001b[0m\u001b[1;33m\u001b[0m\u001b[0m\n\u001b[0;32m    116\u001b[0m             \u001b[0mX\u001b[0m\u001b[1;33m,\u001b[0m \u001b[0mlabels\u001b[0m \u001b[1;33m=\u001b[0m \u001b[0mX\u001b[0m\u001b[1;33m[\u001b[0m\u001b[0mindices\u001b[0m\u001b[1;33m]\u001b[0m\u001b[1;33m,\u001b[0m \u001b[0mlabels\u001b[0m\u001b[1;33m[\u001b[0m\u001b[0mindices\u001b[0m\u001b[1;33m]\u001b[0m\u001b[1;33m\u001b[0m\u001b[1;33m\u001b[0m\u001b[0m\n\u001b[1;32m--> 117\u001b[1;33m     \u001b[1;32mreturn\u001b[0m \u001b[0mnp\u001b[0m\u001b[1;33m.\u001b[0m\u001b[0mmean\u001b[0m\u001b[1;33m(\u001b[0m\u001b[0msilhouette_samples\u001b[0m\u001b[1;33m(\u001b[0m\u001b[0mX\u001b[0m\u001b[1;33m,\u001b[0m \u001b[0mlabels\u001b[0m\u001b[1;33m,\u001b[0m \u001b[0mmetric\u001b[0m\u001b[1;33m=\u001b[0m\u001b[0mmetric\u001b[0m\u001b[1;33m,\u001b[0m \u001b[1;33m**\u001b[0m\u001b[0mkwds\u001b[0m\u001b[1;33m)\u001b[0m\u001b[1;33m)\u001b[0m\u001b[1;33m\u001b[0m\u001b[1;33m\u001b[0m\u001b[0m\n\u001b[0m\u001b[0;32m    118\u001b[0m \u001b[1;33m\u001b[0m\u001b[0m\n\u001b[0;32m    119\u001b[0m \u001b[1;33m\u001b[0m\u001b[0m\n",
      "\u001b[1;32m~\\Desktop\\Modules\\FYP\\comments-summarization\\env\\lib\\site-packages\\sklearn\\metrics\\cluster\\_unsupervised.py\u001b[0m in \u001b[0;36msilhouette_samples\u001b[1;34m(X, labels, metric, **kwds)\u001b[0m\n\u001b[0;32m    226\u001b[0m     \u001b[0mn_samples\u001b[0m \u001b[1;33m=\u001b[0m \u001b[0mlen\u001b[0m\u001b[1;33m(\u001b[0m\u001b[0mlabels\u001b[0m\u001b[1;33m)\u001b[0m\u001b[1;33m\u001b[0m\u001b[1;33m\u001b[0m\u001b[0m\n\u001b[0;32m    227\u001b[0m     \u001b[0mlabel_freqs\u001b[0m \u001b[1;33m=\u001b[0m \u001b[0mnp\u001b[0m\u001b[1;33m.\u001b[0m\u001b[0mbincount\u001b[0m\u001b[1;33m(\u001b[0m\u001b[0mlabels\u001b[0m\u001b[1;33m)\u001b[0m\u001b[1;33m\u001b[0m\u001b[1;33m\u001b[0m\u001b[0m\n\u001b[1;32m--> 228\u001b[1;33m     \u001b[0mcheck_number_of_labels\u001b[0m\u001b[1;33m(\u001b[0m\u001b[0mlen\u001b[0m\u001b[1;33m(\u001b[0m\u001b[0mle\u001b[0m\u001b[1;33m.\u001b[0m\u001b[0mclasses_\u001b[0m\u001b[1;33m)\u001b[0m\u001b[1;33m,\u001b[0m \u001b[0mn_samples\u001b[0m\u001b[1;33m)\u001b[0m\u001b[1;33m\u001b[0m\u001b[1;33m\u001b[0m\u001b[0m\n\u001b[0m\u001b[0;32m    229\u001b[0m \u001b[1;33m\u001b[0m\u001b[0m\n\u001b[0;32m    230\u001b[0m     \u001b[0mkwds\u001b[0m\u001b[1;33m[\u001b[0m\u001b[1;34m'metric'\u001b[0m\u001b[1;33m]\u001b[0m \u001b[1;33m=\u001b[0m \u001b[0mmetric\u001b[0m\u001b[1;33m\u001b[0m\u001b[1;33m\u001b[0m\u001b[0m\n",
      "\u001b[1;32m~\\Desktop\\Modules\\FYP\\comments-summarization\\env\\lib\\site-packages\\sklearn\\metrics\\cluster\\_unsupervised.py\u001b[0m in \u001b[0;36mcheck_number_of_labels\u001b[1;34m(n_labels, n_samples)\u001b[0m\n\u001b[0;32m     33\u001b[0m     \u001b[1;32mif\u001b[0m \u001b[1;32mnot\u001b[0m \u001b[1;36m1\u001b[0m \u001b[1;33m<\u001b[0m \u001b[0mn_labels\u001b[0m \u001b[1;33m<\u001b[0m \u001b[0mn_samples\u001b[0m\u001b[1;33m:\u001b[0m\u001b[1;33m\u001b[0m\u001b[1;33m\u001b[0m\u001b[0m\n\u001b[0;32m     34\u001b[0m         raise ValueError(\"Number of labels is %d. Valid values are 2 \"\n\u001b[1;32m---> 35\u001b[1;33m                          \"to n_samples - 1 (inclusive)\" % n_labels)\n\u001b[0m\u001b[0;32m     36\u001b[0m \u001b[1;33m\u001b[0m\u001b[0m\n\u001b[0;32m     37\u001b[0m \u001b[1;33m\u001b[0m\u001b[0m\n",
      "\u001b[1;31mValueError\u001b[0m: Number of labels is 1. Valid values are 2 to n_samples - 1 (inclusive)"
     ]
    }
   ],
   "source": [
    "silhouette_score(dist_mat, clusterer.labels_, metric='precomputed')"
   ]
  },
  {
   "cell_type": "markdown",
   "metadata": {},
   "source": [
    "the optimal clustering from HDBSCAN doesn't seem to have face validity, upon inspection of the sentences in the generated clusters."
   ]
  },
  {
   "cell_type": "code",
   "execution_count": null,
   "metadata": {
    "collapsed": true,
    "jupyter": {
     "outputs_hidden": true
    }
   },
   "outputs": [],
   "source": []
  }
 ],
 "metadata": {
  "kernelspec": {
   "display_name": "FYP",
   "language": "python",
   "name": "fyp"
  },
  "language_info": {
   "codemirror_mode": {
    "name": "ipython",
    "version": 3
   },
   "file_extension": ".py",
   "mimetype": "text/x-python",
   "name": "python",
   "nbconvert_exporter": "python",
   "pygments_lexer": "ipython3",
   "version": "3.7.3"
  }
 },
 "nbformat": 4,
 "nbformat_minor": 4
}
