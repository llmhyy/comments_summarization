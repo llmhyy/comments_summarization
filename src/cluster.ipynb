{
 "cells": [
  {
   "cell_type": "code",
   "execution_count": 1,
   "metadata": {},
   "outputs": [],
   "source": [
    "import numpy as np\n",
    "import pandas as pd\n",
    "\n",
    "import scipy\n",
    "from scipy.cluster.hierarchy import dendrogram,linkage\n",
    "from scipy.cluster.hierarchy import fcluster\n",
    "from scipy.cluster.hierarchy import cophenet\n",
    "from scipy.spatial.distance import pdist\n",
    "\n",
    "import matplotlib.pyplot as plt\n",
    "from pylab import rcParams\n",
    "import seaborn as sb\n",
    "\n",
    "import sklearn\n",
    "# from sklearn import datasets\n",
    "from sklearn.cluster import AgglomerativeClustering\n",
    "import sklearn.metrics as sm\n",
    "from sklearn.preprocessing import scale"
   ]
  },
  {
   "cell_type": "code",
   "execution_count": 2,
   "metadata": {},
   "outputs": [],
   "source": [
    "# Configure the output\n",
    "np.set_printoptions(precision=4,suppress=True)\n",
    "%matplotlib inline\n",
    "rcParams[\"figure.figsize\"] =20,10\n",
    "sb.set_style(\"whitegrid\")"
   ]
  },
  {
   "cell_type": "code",
   "execution_count": 3,
   "metadata": {},
   "outputs": [
    {
     "data": {
      "text/html": [
       "<div>\n",
       "<style scoped>\n",
       "    .dataframe tbody tr th:only-of-type {\n",
       "        vertical-align: middle;\n",
       "    }\n",
       "\n",
       "    .dataframe tbody tr th {\n",
       "        vertical-align: top;\n",
       "    }\n",
       "\n",
       "    .dataframe thead th {\n",
       "        text-align: right;\n",
       "    }\n",
       "</style>\n",
       "<table border=\"1\" class=\"dataframe\">\n",
       "  <thead>\n",
       "    <tr style=\"text-align: right;\">\n",
       "      <th></th>\n",
       "      <th>Unnamed: 0</th>\n",
       "      <th>first</th>\n",
       "      <th>second</th>\n",
       "      <th>score</th>\n",
       "    </tr>\n",
       "  </thead>\n",
       "  <tbody>\n",
       "    <tr>\n",
       "      <th>0</th>\n",
       "      <td>0</td>\n",
       "      <td>People with Virgo rising tend to be practical,...</td>\n",
       "      <td>You have an ingenious, active and alert mind.</td>\n",
       "      <td>2</td>\n",
       "    </tr>\n",
       "    <tr>\n",
       "      <th>1</th>\n",
       "      <td>1</td>\n",
       "      <td>People with Virgo rising tend to be practical,...</td>\n",
       "      <td>Gaining knowledge and putting it to good use a...</td>\n",
       "      <td>3</td>\n",
       "    </tr>\n",
       "    <tr>\n",
       "      <th>2</th>\n",
       "      <td>2</td>\n",
       "      <td>People with Virgo rising tend to be practical,...</td>\n",
       "      <td>You strive for perfection and can be quite the...</td>\n",
       "      <td>3</td>\n",
       "    </tr>\n",
       "    <tr>\n",
       "      <th>3</th>\n",
       "      <td>3</td>\n",
       "      <td>People with Virgo rising tend to be practical,...</td>\n",
       "      <td>At times others can never be \"good\" enough to ...</td>\n",
       "      <td>3</td>\n",
       "    </tr>\n",
       "    <tr>\n",
       "      <th>4</th>\n",
       "      <td>4</td>\n",
       "      <td>People with Virgo rising tend to be practical,...</td>\n",
       "      <td>Finding fault with what's wrong with things is...</td>\n",
       "      <td>3</td>\n",
       "    </tr>\n",
       "  </tbody>\n",
       "</table>\n",
       "</div>"
      ],
      "text/plain": [
       "   Unnamed: 0                                              first  \\\n",
       "0           0  People with Virgo rising tend to be practical,...   \n",
       "1           1  People with Virgo rising tend to be practical,...   \n",
       "2           2  People with Virgo rising tend to be practical,...   \n",
       "3           3  People with Virgo rising tend to be practical,...   \n",
       "4           4  People with Virgo rising tend to be practical,...   \n",
       "\n",
       "                                              second score  \n",
       "0      You have an ingenious, active and alert mind.     2  \n",
       "1  Gaining knowledge and putting it to good use a...     3  \n",
       "2  You strive for perfection and can be quite the...     3  \n",
       "3  At times others can never be \"good\" enough to ...     3  \n",
       "4  Finding fault with what's wrong with things is...     3  "
      ]
     },
     "execution_count": 3,
     "metadata": {},
     "output_type": "execute_result"
    }
   ],
   "source": [
    "df = pd.read_csv('../data/example.csv')\n",
    "df.head()"
   ]
  },
  {
   "cell_type": "code",
   "execution_count": 4,
   "metadata": {},
   "outputs": [],
   "source": [
    "df = df.drop(columns=['Unnamed: 0'])"
   ]
  },
  {
   "cell_type": "code",
   "execution_count": 5,
   "metadata": {},
   "outputs": [
    {
     "data": {
      "text/html": [
       "<div>\n",
       "<style scoped>\n",
       "    .dataframe tbody tr th:only-of-type {\n",
       "        vertical-align: middle;\n",
       "    }\n",
       "\n",
       "    .dataframe tbody tr th {\n",
       "        vertical-align: top;\n",
       "    }\n",
       "\n",
       "    .dataframe thead th {\n",
       "        text-align: right;\n",
       "    }\n",
       "</style>\n",
       "<table border=\"1\" class=\"dataframe\">\n",
       "  <thead>\n",
       "    <tr style=\"text-align: right;\">\n",
       "      <th></th>\n",
       "      <th>first</th>\n",
       "      <th>second</th>\n",
       "      <th>score</th>\n",
       "    </tr>\n",
       "  </thead>\n",
       "  <tbody>\n",
       "    <tr>\n",
       "      <th>0</th>\n",
       "      <td>People with Virgo rising tend to be practical,...</td>\n",
       "      <td>You have an ingenious, active and alert mind.</td>\n",
       "      <td>2</td>\n",
       "    </tr>\n",
       "    <tr>\n",
       "      <th>1</th>\n",
       "      <td>People with Virgo rising tend to be practical,...</td>\n",
       "      <td>Gaining knowledge and putting it to good use a...</td>\n",
       "      <td>3</td>\n",
       "    </tr>\n",
       "    <tr>\n",
       "      <th>2</th>\n",
       "      <td>People with Virgo rising tend to be practical,...</td>\n",
       "      <td>You strive for perfection and can be quite the...</td>\n",
       "      <td>3</td>\n",
       "    </tr>\n",
       "    <tr>\n",
       "      <th>3</th>\n",
       "      <td>People with Virgo rising tend to be practical,...</td>\n",
       "      <td>At times others can never be \"good\" enough to ...</td>\n",
       "      <td>3</td>\n",
       "    </tr>\n",
       "    <tr>\n",
       "      <th>4</th>\n",
       "      <td>People with Virgo rising tend to be practical,...</td>\n",
       "      <td>Finding fault with what's wrong with things is...</td>\n",
       "      <td>3</td>\n",
       "    </tr>\n",
       "  </tbody>\n",
       "</table>\n",
       "</div>"
      ],
      "text/plain": [
       "                                               first  \\\n",
       "0  People with Virgo rising tend to be practical,...   \n",
       "1  People with Virgo rising tend to be practical,...   \n",
       "2  People with Virgo rising tend to be practical,...   \n",
       "3  People with Virgo rising tend to be practical,...   \n",
       "4  People with Virgo rising tend to be practical,...   \n",
       "\n",
       "                                              second score  \n",
       "0      You have an ingenious, active and alert mind.     2  \n",
       "1  Gaining knowledge and putting it to good use a...     3  \n",
       "2  You strive for perfection and can be quite the...     3  \n",
       "3  At times others can never be \"good\" enough to ...     3  \n",
       "4  Finding fault with what's wrong with things is...     3  "
      ]
     },
     "execution_count": 5,
     "metadata": {},
     "output_type": "execute_result"
    }
   ],
   "source": [
    "df.head()"
   ]
  },
  {
   "cell_type": "code",
   "execution_count": 6,
   "metadata": {},
   "outputs": [
    {
     "data": {
      "text/html": [
       "<div>\n",
       "<style scoped>\n",
       "    .dataframe tbody tr th:only-of-type {\n",
       "        vertical-align: middle;\n",
       "    }\n",
       "\n",
       "    .dataframe tbody tr th {\n",
       "        vertical-align: top;\n",
       "    }\n",
       "\n",
       "    .dataframe thead th {\n",
       "        text-align: right;\n",
       "    }\n",
       "</style>\n",
       "<table border=\"1\" class=\"dataframe\">\n",
       "  <thead>\n",
       "    <tr style=\"text-align: right;\">\n",
       "      <th></th>\n",
       "      <th>first</th>\n",
       "      <th>second</th>\n",
       "      <th>score</th>\n",
       "    </tr>\n",
       "  </thead>\n",
       "  <tbody>\n",
       "    <tr>\n",
       "      <th>count</th>\n",
       "      <td>1830</td>\n",
       "      <td>1830</td>\n",
       "      <td>1830</td>\n",
       "    </tr>\n",
       "    <tr>\n",
       "      <th>unique</th>\n",
       "      <td>60</td>\n",
       "      <td>60</td>\n",
       "      <td>10</td>\n",
       "    </tr>\n",
       "    <tr>\n",
       "      <th>top</th>\n",
       "      <td>People with Virgo rising tend to be practical,...</td>\n",
       "      <td>More about</td>\n",
       "      <td>5</td>\n",
       "    </tr>\n",
       "    <tr>\n",
       "      <th>freq</th>\n",
       "      <td>60</td>\n",
       "      <td>60</td>\n",
       "      <td>1488</td>\n",
       "    </tr>\n",
       "  </tbody>\n",
       "</table>\n",
       "</div>"
      ],
      "text/plain": [
       "                                                    first      second score\n",
       "count                                                1830        1830  1830\n",
       "unique                                                 60          60    10\n",
       "top     People with Virgo rising tend to be practical,...  More about     5\n",
       "freq                                                   60          60  1488"
      ]
     },
     "execution_count": 6,
     "metadata": {},
     "output_type": "execute_result"
    }
   ],
   "source": [
    "df.describe()"
   ]
  },
  {
   "cell_type": "code",
   "execution_count": 7,
   "metadata": {},
   "outputs": [],
   "source": [
    "df_clean = df.dropna()"
   ]
  },
  {
   "cell_type": "code",
   "execution_count": 8,
   "metadata": {},
   "outputs": [
    {
     "data": {
      "text/html": [
       "<div>\n",
       "<style scoped>\n",
       "    .dataframe tbody tr th:only-of-type {\n",
       "        vertical-align: middle;\n",
       "    }\n",
       "\n",
       "    .dataframe tbody tr th {\n",
       "        vertical-align: top;\n",
       "    }\n",
       "\n",
       "    .dataframe thead th {\n",
       "        text-align: right;\n",
       "    }\n",
       "</style>\n",
       "<table border=\"1\" class=\"dataframe\">\n",
       "  <thead>\n",
       "    <tr style=\"text-align: right;\">\n",
       "      <th></th>\n",
       "      <th>first</th>\n",
       "      <th>second</th>\n",
       "      <th>score</th>\n",
       "    </tr>\n",
       "  </thead>\n",
       "  <tbody>\n",
       "    <tr>\n",
       "      <th>count</th>\n",
       "      <td>1830</td>\n",
       "      <td>1830</td>\n",
       "      <td>1830</td>\n",
       "    </tr>\n",
       "    <tr>\n",
       "      <th>unique</th>\n",
       "      <td>60</td>\n",
       "      <td>60</td>\n",
       "      <td>10</td>\n",
       "    </tr>\n",
       "    <tr>\n",
       "      <th>top</th>\n",
       "      <td>People with Virgo rising tend to be practical,...</td>\n",
       "      <td>More about</td>\n",
       "      <td>5</td>\n",
       "    </tr>\n",
       "    <tr>\n",
       "      <th>freq</th>\n",
       "      <td>60</td>\n",
       "      <td>60</td>\n",
       "      <td>1488</td>\n",
       "    </tr>\n",
       "  </tbody>\n",
       "</table>\n",
       "</div>"
      ],
      "text/plain": [
       "                                                    first      second score\n",
       "count                                                1830        1830  1830\n",
       "unique                                                 60          60    10\n",
       "top     People with Virgo rising tend to be practical,...  More about     5\n",
       "freq                                                   60          60  1488"
      ]
     },
     "execution_count": 8,
     "metadata": {},
     "output_type": "execute_result"
    }
   ],
   "source": [
    "df_clean.describe()"
   ]
  },
  {
   "cell_type": "code",
   "execution_count": 9,
   "metadata": {},
   "outputs": [
    {
     "data": {
      "text/plain": [
       "first     object\n",
       "second    object\n",
       "score     object\n",
       "dtype: object"
      ]
     },
     "execution_count": 9,
     "metadata": {},
     "output_type": "execute_result"
    }
   ],
   "source": [
    "df.dtypes"
   ]
  },
  {
   "cell_type": "code",
   "execution_count": 10,
   "metadata": {},
   "outputs": [],
   "source": [
    "# as score was of object type, the 'na' values were not dropped."
   ]
  },
  {
   "cell_type": "code",
   "execution_count": 11,
   "metadata": {},
   "outputs": [
    {
     "data": {
      "text/html": [
       "<div>\n",
       "<style scoped>\n",
       "    .dataframe tbody tr th:only-of-type {\n",
       "        vertical-align: middle;\n",
       "    }\n",
       "\n",
       "    .dataframe tbody tr th {\n",
       "        vertical-align: top;\n",
       "    }\n",
       "\n",
       "    .dataframe thead th {\n",
       "        text-align: right;\n",
       "    }\n",
       "</style>\n",
       "<table border=\"1\" class=\"dataframe\">\n",
       "  <thead>\n",
       "    <tr style=\"text-align: right;\">\n",
       "      <th></th>\n",
       "      <th>first</th>\n",
       "      <th>second</th>\n",
       "      <th>score</th>\n",
       "    </tr>\n",
       "  </thead>\n",
       "  <tbody>\n",
       "    <tr>\n",
       "      <th>count</th>\n",
       "      <td>1770</td>\n",
       "      <td>1770</td>\n",
       "      <td>1770</td>\n",
       "    </tr>\n",
       "    <tr>\n",
       "      <th>unique</th>\n",
       "      <td>59</td>\n",
       "      <td>59</td>\n",
       "      <td>9</td>\n",
       "    </tr>\n",
       "    <tr>\n",
       "      <th>top</th>\n",
       "      <td>People with Virgo rising tend to be practical,...</td>\n",
       "      <td>You aim to please in practical and earthy ways.</td>\n",
       "      <td>5</td>\n",
       "    </tr>\n",
       "    <tr>\n",
       "      <th>freq</th>\n",
       "      <td>59</td>\n",
       "      <td>59</td>\n",
       "      <td>1488</td>\n",
       "    </tr>\n",
       "  </tbody>\n",
       "</table>\n",
       "</div>"
      ],
      "text/plain": [
       "                                                    first  \\\n",
       "count                                                1770   \n",
       "unique                                                 59   \n",
       "top     People with Virgo rising tend to be practical,...   \n",
       "freq                                                   59   \n",
       "\n",
       "                                                 second score  \n",
       "count                                              1770  1770  \n",
       "unique                                               59     9  \n",
       "top     You aim to please in practical and earthy ways.     5  \n",
       "freq                                                 59  1488  "
      ]
     },
     "execution_count": 11,
     "metadata": {},
     "output_type": "execute_result"
    }
   ],
   "source": [
    "df_clean = df.loc[df['score'] != 'na']\n",
    "df_clean.describe()"
   ]
  },
  {
   "cell_type": "code",
   "execution_count": 12,
   "metadata": {},
   "outputs": [
    {
     "data": {
      "text/plain": [
       "first     object\n",
       "second    object\n",
       "score     object\n",
       "dtype: object"
      ]
     },
     "execution_count": 12,
     "metadata": {},
     "output_type": "execute_result"
    }
   ],
   "source": [
    "df_clean.dtypes"
   ]
  },
  {
   "cell_type": "code",
   "execution_count": 13,
   "metadata": {},
   "outputs": [
    {
     "data": {
      "text/html": [
       "<div>\n",
       "<style scoped>\n",
       "    .dataframe tbody tr th:only-of-type {\n",
       "        vertical-align: middle;\n",
       "    }\n",
       "\n",
       "    .dataframe tbody tr th {\n",
       "        vertical-align: top;\n",
       "    }\n",
       "\n",
       "    .dataframe thead th {\n",
       "        text-align: right;\n",
       "    }\n",
       "</style>\n",
       "<table border=\"1\" class=\"dataframe\">\n",
       "  <thead>\n",
       "    <tr style=\"text-align: right;\">\n",
       "      <th></th>\n",
       "      <th>first</th>\n",
       "      <th>second</th>\n",
       "      <th>score</th>\n",
       "      <th>dist</th>\n",
       "    </tr>\n",
       "  </thead>\n",
       "  <tbody>\n",
       "    <tr>\n",
       "      <th>0</th>\n",
       "      <td>People with Virgo rising tend to be practical,...</td>\n",
       "      <td>You have an ingenious, active and alert mind.</td>\n",
       "      <td>2</td>\n",
       "      <td>2</td>\n",
       "    </tr>\n",
       "    <tr>\n",
       "      <th>1</th>\n",
       "      <td>People with Virgo rising tend to be practical,...</td>\n",
       "      <td>Gaining knowledge and putting it to good use a...</td>\n",
       "      <td>3</td>\n",
       "      <td>3</td>\n",
       "    </tr>\n",
       "    <tr>\n",
       "      <th>2</th>\n",
       "      <td>People with Virgo rising tend to be practical,...</td>\n",
       "      <td>You strive for perfection and can be quite the...</td>\n",
       "      <td>3</td>\n",
       "      <td>3</td>\n",
       "    </tr>\n",
       "    <tr>\n",
       "      <th>3</th>\n",
       "      <td>People with Virgo rising tend to be practical,...</td>\n",
       "      <td>At times others can never be \"good\" enough to ...</td>\n",
       "      <td>3</td>\n",
       "      <td>3</td>\n",
       "    </tr>\n",
       "    <tr>\n",
       "      <th>4</th>\n",
       "      <td>People with Virgo rising tend to be practical,...</td>\n",
       "      <td>Finding fault with what's wrong with things is...</td>\n",
       "      <td>3</td>\n",
       "      <td>3</td>\n",
       "    </tr>\n",
       "  </tbody>\n",
       "</table>\n",
       "</div>"
      ],
      "text/plain": [
       "                                               first  \\\n",
       "0  People with Virgo rising tend to be practical,...   \n",
       "1  People with Virgo rising tend to be practical,...   \n",
       "2  People with Virgo rising tend to be practical,...   \n",
       "3  People with Virgo rising tend to be practical,...   \n",
       "4  People with Virgo rising tend to be practical,...   \n",
       "\n",
       "                                              second score  dist  \n",
       "0      You have an ingenious, active and alert mind.     2     2  \n",
       "1  Gaining knowledge and putting it to good use a...     3     3  \n",
       "2  You strive for perfection and can be quite the...     3     3  \n",
       "3  At times others can never be \"good\" enough to ...     3     3  \n",
       "4  Finding fault with what's wrong with things is...     3     3  "
      ]
     },
     "execution_count": 13,
     "metadata": {},
     "output_type": "execute_result"
    }
   ],
   "source": [
    "df_clean = df_clean.copy()\n",
    "df_clean['dist'] = df_clean['score'].astype(int)\n",
    "df_clean.head()"
   ]
  },
  {
   "cell_type": "code",
   "execution_count": 14,
   "metadata": {},
   "outputs": [
    {
     "data": {
      "text/plain": [
       "first     object\n",
       "second    object\n",
       "score     object\n",
       "dist       int32\n",
       "dtype: object"
      ]
     },
     "execution_count": 14,
     "metadata": {},
     "output_type": "execute_result"
    }
   ],
   "source": [
    "df_clean.dtypes"
   ]
  },
  {
   "cell_type": "code",
   "execution_count": 15,
   "metadata": {},
   "outputs": [
    {
     "data": {
      "text/html": [
       "<div>\n",
       "<style scoped>\n",
       "    .dataframe tbody tr th:only-of-type {\n",
       "        vertical-align: middle;\n",
       "    }\n",
       "\n",
       "    .dataframe tbody tr th {\n",
       "        vertical-align: top;\n",
       "    }\n",
       "\n",
       "    .dataframe thead th {\n",
       "        text-align: right;\n",
       "    }\n",
       "</style>\n",
       "<table border=\"1\" class=\"dataframe\">\n",
       "  <thead>\n",
       "    <tr style=\"text-align: right;\">\n",
       "      <th></th>\n",
       "      <th>first</th>\n",
       "      <th>second</th>\n",
       "      <th>dist</th>\n",
       "    </tr>\n",
       "  </thead>\n",
       "  <tbody>\n",
       "    <tr>\n",
       "      <th>0</th>\n",
       "      <td>People with Virgo rising tend to be practical,...</td>\n",
       "      <td>You have an ingenious, active and alert mind.</td>\n",
       "      <td>2</td>\n",
       "    </tr>\n",
       "    <tr>\n",
       "      <th>1</th>\n",
       "      <td>People with Virgo rising tend to be practical,...</td>\n",
       "      <td>Gaining knowledge and putting it to good use a...</td>\n",
       "      <td>3</td>\n",
       "    </tr>\n",
       "    <tr>\n",
       "      <th>2</th>\n",
       "      <td>People with Virgo rising tend to be practical,...</td>\n",
       "      <td>You strive for perfection and can be quite the...</td>\n",
       "      <td>3</td>\n",
       "    </tr>\n",
       "    <tr>\n",
       "      <th>3</th>\n",
       "      <td>People with Virgo rising tend to be practical,...</td>\n",
       "      <td>At times others can never be \"good\" enough to ...</td>\n",
       "      <td>3</td>\n",
       "    </tr>\n",
       "    <tr>\n",
       "      <th>4</th>\n",
       "      <td>People with Virgo rising tend to be practical,...</td>\n",
       "      <td>Finding fault with what's wrong with things is...</td>\n",
       "      <td>3</td>\n",
       "    </tr>\n",
       "  </tbody>\n",
       "</table>\n",
       "</div>"
      ],
      "text/plain": [
       "                                               first  \\\n",
       "0  People with Virgo rising tend to be practical,...   \n",
       "1  People with Virgo rising tend to be practical,...   \n",
       "2  People with Virgo rising tend to be practical,...   \n",
       "3  People with Virgo rising tend to be practical,...   \n",
       "4  People with Virgo rising tend to be practical,...   \n",
       "\n",
       "                                              second  dist  \n",
       "0      You have an ingenious, active and alert mind.     2  \n",
       "1  Gaining knowledge and putting it to good use a...     3  \n",
       "2  You strive for perfection and can be quite the...     3  \n",
       "3  At times others can never be \"good\" enough to ...     3  \n",
       "4  Finding fault with what's wrong with things is...     3  "
      ]
     },
     "execution_count": 15,
     "metadata": {},
     "output_type": "execute_result"
    }
   ],
   "source": [
    "df_clean = df_clean.drop(columns=['score'])\n",
    "df_clean.head()"
   ]
  },
  {
   "cell_type": "code",
   "execution_count": 16,
   "metadata": {},
   "outputs": [
    {
     "data": {
      "text/html": [
       "<div>\n",
       "<style scoped>\n",
       "    .dataframe tbody tr th:only-of-type {\n",
       "        vertical-align: middle;\n",
       "    }\n",
       "\n",
       "    .dataframe tbody tr th {\n",
       "        vertical-align: top;\n",
       "    }\n",
       "\n",
       "    .dataframe thead th {\n",
       "        text-align: right;\n",
       "    }\n",
       "</style>\n",
       "<table border=\"1\" class=\"dataframe\">\n",
       "  <thead>\n",
       "    <tr style=\"text-align: right;\">\n",
       "      <th></th>\n",
       "      <th>dist</th>\n",
       "    </tr>\n",
       "  </thead>\n",
       "  <tbody>\n",
       "    <tr>\n",
       "      <th>count</th>\n",
       "      <td>1770.000000</td>\n",
       "    </tr>\n",
       "    <tr>\n",
       "      <th>mean</th>\n",
       "      <td>4.719774</td>\n",
       "    </tr>\n",
       "    <tr>\n",
       "      <th>std</th>\n",
       "      <td>0.814998</td>\n",
       "    </tr>\n",
       "    <tr>\n",
       "      <th>min</th>\n",
       "      <td>1.000000</td>\n",
       "    </tr>\n",
       "    <tr>\n",
       "      <th>25%</th>\n",
       "      <td>5.000000</td>\n",
       "    </tr>\n",
       "    <tr>\n",
       "      <th>50%</th>\n",
       "      <td>5.000000</td>\n",
       "    </tr>\n",
       "    <tr>\n",
       "      <th>75%</th>\n",
       "      <td>5.000000</td>\n",
       "    </tr>\n",
       "    <tr>\n",
       "      <th>max</th>\n",
       "      <td>9.000000</td>\n",
       "    </tr>\n",
       "  </tbody>\n",
       "</table>\n",
       "</div>"
      ],
      "text/plain": [
       "              dist\n",
       "count  1770.000000\n",
       "mean      4.719774\n",
       "std       0.814998\n",
       "min       1.000000\n",
       "25%       5.000000\n",
       "50%       5.000000\n",
       "75%       5.000000\n",
       "max       9.000000"
      ]
     },
     "execution_count": 16,
     "metadata": {},
     "output_type": "execute_result"
    }
   ],
   "source": [
    "df_clean.describe()"
   ]
  },
  {
   "cell_type": "code",
   "execution_count": 17,
   "metadata": {},
   "outputs": [
    {
     "name": "stdout",
     "output_type": "stream",
     "text": [
      "60\n"
     ]
    }
   ],
   "source": [
    "# convert this original dataframe to a 'square' distance matrix.\n",
    "# we utilise a pivot table to do this\n",
    "\n",
    "# first, add the redundant pairs (two of the same sentences) to the data.\n",
    "# we need this for the pivot function to generate the correct rows and columns.\n",
    "first = np.unique(df_clean['first'].values)\n",
    "second = np.unique(df_clean['second'].values)\n",
    "combined_arr = np.concatenate((first, second))\n",
    "sentences = np.unique(combined_arr)\n",
    "print(len(sentences))"
   ]
  },
  {
   "cell_type": "code",
   "execution_count": 18,
   "metadata": {},
   "outputs": [
    {
     "name": "stdout",
     "output_type": "stream",
     "text": [
      "[['Anyone who lives with you must accept your ups and downs and appreciate your need for times of withdrawal.'\n",
      "  'Anyone who lives with you must accept your ups and downs and appreciate your need for times of withdrawal.'\n",
      "  0.0]\n",
      " ['At times others can never be \"good\" enough to meet those high standards.'\n",
      "  'At times others can never be \"good\" enough to meet those high standards.'\n",
      "  0.0]\n",
      " ['At times you can be lazy, hoping or expecting someone else to do the dirty work.'\n",
      "  'At times you can be lazy, hoping or expecting someone else to do the dirty work.'\n",
      "  0.0]\n",
      " ['At times you can be very indecisive and unsure.'\n",
      "  'At times you can be very indecisive and unsure.' 0.0]\n",
      " ['Comfort is important to you and you hate getting your hands dirty.'\n",
      "  'Comfort is important to you and you hate getting your hands dirty.'\n",
      "  0.0]\n",
      " ['Control of thought, word, and action is necessary in order to be successful.'\n",
      "  'Control of thought, word, and action is necessary in order to be successful.'\n",
      "  0.0]\n",
      " ['Debate and argument appeal to you.'\n",
      "  'Debate and argument appeal to you.' 0.0]\n",
      " ['Exercise is a good way to release this tension.'\n",
      "  'Exercise is a good way to release this tension.' 0.0]\n",
      " ['Find your focus, stay with it and develop perseverance.'\n",
      "  'Find your focus, stay with it and develop perseverance.' 0.0]\n",
      " [\"Finding fault with what's wrong with things is your forte.\"\n",
      "  \"Finding fault with what's wrong with things is your forte.\" 0.0]\n",
      " ['Gaining knowledge and putting it to good use are important to you.'\n",
      "  'Gaining knowledge and putting it to good use are important to you.'\n",
      "  0.0]\n",
      " ['Guard against possessiveness, jealousy, and taking the easy way out in your relationships.'\n",
      "  'Guard against possessiveness, jealousy, and taking the easy way out in your relationships.'\n",
      "  0.0]\n",
      " ['If you have Mercury in Gemini, you have an extremely adaptable, energetic, active, alert, curious, and versatile mind.'\n",
      "  'If you have Mercury in Gemini, you have an extremely adaptable, energetic, active, alert, curious, and versatile mind.'\n",
      "  0.0]\n",
      " ['If you have Venus in Taurus, in love affairs you are generally loyal and steady, especially if your partner is demonstrative and affectionate.'\n",
      "  'If you have Venus in Taurus, in love affairs you are generally loyal and steady, especially if your partner is demonstrative and affectionate.'\n",
      "  0.0]\n",
      " ['If you have the Moon in Cancer, you very easily respond to the emotional environment in which you are placed.'\n",
      "  'If you have the Moon in Cancer, you very easily respond to the emotional environment in which you are placed.'\n",
      "  0.0]\n",
      " ['Journalism, speaking, teaching, sales, advertising, or writing may appeal to you.'\n",
      "  'Journalism, speaking, teaching, sales, advertising, or writing may appeal to you.'\n",
      "  0.0]\n",
      " ['Learning to control your own moods may be very difficult, yet necessary, for you.'\n",
      "  'Learning to control your own moods may be very difficult, yet necessary, for you.'\n",
      "  0.0]\n",
      " ['Mentally restless, you may change jobs or locations frequently, or do work that involves movement, travel, and variety.'\n",
      "  'Mentally restless, you may change jobs or locations frequently, or do work that involves movement, travel, and variety.'\n",
      "  0.0]\n",
      " ['Nothing or no one is ever gone if they leave their memory behind.'\n",
      "  'Nothing or no one is ever gone if they leave their memory behind.' 0.0]\n",
      " ['People with Virgo rising tend to be practical, analytical, discriminating, fastidious, careful, exacting, attentive to details, methodical, quiet, unassuming, shy, critical, thoughtful, and somewhat self-centered.'\n",
      "  'People with Virgo rising tend to be practical, analytical, discriminating, fastidious, careful, exacting, attentive to details, methodical, quiet, unassuming, shy, critical, thoughtful, and somewhat self-centered.'\n",
      "  0.0]\n",
      " ['Perhaps this is why you so easily become moody, irritable and inconstant in thought and feeling.'\n",
      "  'Perhaps this is why you so easily become moody, irritable and inconstant in thought and feeling.'\n",
      "  0.0]\n",
      " ['Pessimism and being too self-critical are two faults you should try to improve upon.'\n",
      "  'Pessimism and being too self-critical are two faults you should try to improve upon.'\n",
      "  0.0]\n",
      " ['Security is very important to you and you look for it in your home and family life.'\n",
      "  'Security is very important to you and you look for it in your home and family life.'\n",
      "  0.0]\n",
      " ['Self-control needs to be developed and added to the qualifications you already possess -warmth, charm, sympathy, artistic.'\n",
      "  'Self-control needs to be developed and added to the qualifications you already possess -warmth, charm, sympathy, artistic.'\n",
      "  0.0]\n",
      " ['Sometimes, though, this can make relationships sour as you often turn your critical eye on the one you love and the things they do.'\n",
      "  'Sometimes, though, this can make relationships sour as you often turn your critical eye on the one you love and the things they do.'\n",
      "  0.0]\n",
      " ['There is a tendency to scratch the surface with the things that strike your interest without learning anything very deeply.'\n",
      "  'There is a tendency to scratch the surface with the things that strike your interest without learning anything very deeply.'\n",
      "  0.0]\n",
      " ['There is danger, then, of superficiality.'\n",
      "  'There is danger, then, of superficiality.' 0.0]\n",
      " ['This is the jack-of-all-trades, master-of-none position.'\n",
      "  'This is the jack-of-all-trades, master-of-none position.' 0.0]\n",
      " ['Thus, you can become quite possessive.'\n",
      "  'Thus, you can become quite possessive.' 0.0]\n",
      " ['Too much worry can lead to health problems.'\n",
      "  'Too much worry can lead to health problems.' 0.0]\n",
      " ['You aim to please in practical and earthy ways.'\n",
      "  'You aim to please in practical and earthy ways.' 0.0]\n",
      " ['You are also very sympathetic and understand the unspoken feelings and needs of others.'\n",
      "  'You are also very sympathetic and understand the unspoken feelings and needs of others.'\n",
      "  0.0]\n",
      " ['You are basically an introvert, but will do whatever it takes to protect and defend your family or loved ones.'\n",
      "  'You are basically an introvert, but will do whatever it takes to protect and defend your family or loved ones.'\n",
      "  0.0]\n",
      " ['You are clever, witty, and always have a joke or comeback ready for any situation.'\n",
      "  'You are clever, witty, and always have a joke or comeback ready for any situation.'\n",
      "  0.0]\n",
      " ['You are handy with your hands and may be ambidextrous or mechanically inclined.'\n",
      "  'You are handy with your hands and may be ambidextrous or mechanically inclined.'\n",
      "  0.0]\n",
      " ['You are oriented towards the sensual side of life in everything you do and it may show through too much weight.'\n",
      "  'You are oriented towards the sensual side of life in everything you do and it may show through too much weight.'\n",
      "  0.0]\n",
      " ['You are quick to grasp new concepts and equally quick to lose interest in an idea or project once your curiosity has been satisfied.'\n",
      "  'You are quick to grasp new concepts and equally quick to lose interest in an idea or project once your curiosity has been satisfied.'\n",
      "  0.0]\n",
      " ['You are tremendously responsive to beauty and physical appearances, and the physical attractiveness of your partner is very important to you.'\n",
      "  'You are tremendously responsive to beauty and physical appearances, and the physical attractiveness of your partner is very important to you.'\n",
      "  0.0]\n",
      " ['You are very restless and nervous, so you seldom have much weight on you.'\n",
      "  'You are very restless and nervous, so you seldom have much weight on you.'\n",
      "  0.0]\n",
      " ['You are very tenacious and you do not give up or let go of things or people easily.'\n",
      "  'You are very tenacious and you do not give up or let go of things or people easily.'\n",
      "  0.0]\n",
      " ['You enjoy indulging yourself and the ones you love and it is too easy for you to be extravagant and perhaps to put too much value in material things.'\n",
      "  'You enjoy indulging yourself and the ones you love and it is too easy for you to be extravagant and perhaps to put too much value in material things.'\n",
      "  0.0]\n",
      " [\"You grasp concepts easily and may become impatient with those who don't learn as quickly.\"\n",
      "  \"You grasp concepts easily and may become impatient with those who don't learn as quickly.\"\n",
      "  0.0]\n",
      " ['You have an ingenious, active and alert mind.'\n",
      "  'You have an ingenious, active and alert mind.' 0.0]\n",
      " ['You have so much nervous energy that this can sometimes cause great stress which must find an appropriate release.'\n",
      "  'You have so much nervous energy that this can sometimes cause great stress which must find an appropriate release.'\n",
      "  0.0]\n",
      " ['You have the memory of an elephant, but you must learn to forgive and forget past hurts.'\n",
      "  'You have the memory of an elephant, but you must learn to forgive and forget past hurts.'\n",
      "  0.0]\n",
      " ['You like to taste a little bit of everything – concentration and disciplined study are not your strong points.'\n",
      "  'You like to taste a little bit of everything – concentration and disciplined study are not your strong points.'\n",
      "  0.0]\n",
      " ['You love being involved in multiple things at once and this may be a problem – too may irons in the fire at the same time.'\n",
      "  'You love being involved in multiple things at once and this may be a problem – too may irons in the fire at the same time.'\n",
      "  0.0]\n",
      " ['You may tend to worry too much, especially about the small stuff, the little details.'\n",
      "  'You may tend to worry too much, especially about the small stuff, the little details.'\n",
      "  0.0]\n",
      " ['You need to get rid of any negativity that stems from a feeling of inadequacy.'\n",
      "  'You need to get rid of any negativity that stems from a feeling of inadequacy.'\n",
      "  0.0]\n",
      " ['You need to learn to digest every experience and assimilate it without bitterness, regret, spite or resentment.'\n",
      "  'You need to learn to digest every experience and assimilate it without bitterness, regret, spite or resentment.'\n",
      "  0.0]\n",
      " [\"You often appear irrational to others because you can't always explain the reason or source of your feelings.\"\n",
      "  \"You often appear irrational to others because you can't always explain the reason or source of your feelings.\"\n",
      "  0.0]\n",
      " ['You seek knowledge, either through reading or conversation, or through travel and talking with the new people you constantly meet.'\n",
      "  'You seek knowledge, either through reading or conversation, or through travel and talking with the new people you constantly meet.'\n",
      "  0.0]\n",
      " ['You soak up feelings like a sponge.'\n",
      "  'You soak up feelings like a sponge.' 0.0]\n",
      " ['You strive for perfection and can be quite the person to live with or to be around because your standards for yourself and others are so high.'\n",
      "  'You strive for perfection and can be quite the person to live with or to be around because your standards for yourself and others are so high.'\n",
      "  0.0]\n",
      " ['You take slights very personally and though you may forgive a mistake by a friend or loved one, you never forget it.'\n",
      "  'You take slights very personally and though you may forgive a mistake by a friend or loved one, you never forget it.'\n",
      "  0.0]\n",
      " ['You tend to be a pack-rat because everything has an emotional memory behind it and you find security in all those memories.'\n",
      "  'You tend to be a pack-rat because everything has an emotional memory behind it and you find security in all those memories.'\n",
      "  0.0]\n",
      " ['You tend to look younger than you really are, no matter what your age.'\n",
      "  'You tend to look younger than you really are, no matter what your age.'\n",
      "  0.0]\n",
      " ['Your greatest need is to nurture and mother someone or ones.'\n",
      "  'Your greatest need is to nurture and mother someone or ones.' 0.0]\n",
      " ['Your mother is/was a strong influence for good or ill in your life.'\n",
      "  'Your mother is/was a strong influence for good or ill in your life.'\n",
      "  0.0]\n",
      " ['Your senses and emotions are quite strong and it would be wise for you to listen to your intuitive side as you can be quite psychic.'\n",
      "  'Your senses and emotions are quite strong and it would be wise for you to listen to your intuitive side as you can be quite psychic.'\n",
      "  0.0]]\n"
     ]
    }
   ],
   "source": [
    "add_data = np.column_stack([sentences, sentences, np.zeros(len(sentences))])\n",
    "print(add_data)"
   ]
  },
  {
   "cell_type": "code",
   "execution_count": 19,
   "metadata": {},
   "outputs": [
    {
     "data": {
      "text/html": [
       "<div>\n",
       "<style scoped>\n",
       "    .dataframe tbody tr th:only-of-type {\n",
       "        vertical-align: middle;\n",
       "    }\n",
       "\n",
       "    .dataframe tbody tr th {\n",
       "        vertical-align: top;\n",
       "    }\n",
       "\n",
       "    .dataframe thead th {\n",
       "        text-align: right;\n",
       "    }\n",
       "</style>\n",
       "<table border=\"1\" class=\"dataframe\">\n",
       "  <thead>\n",
       "    <tr style=\"text-align: right;\">\n",
       "      <th></th>\n",
       "      <th>first</th>\n",
       "      <th>second</th>\n",
       "      <th>dist</th>\n",
       "    </tr>\n",
       "  </thead>\n",
       "  <tbody>\n",
       "    <tr>\n",
       "      <th>0</th>\n",
       "      <td>Anyone who lives with you must accept your ups...</td>\n",
       "      <td>Anyone who lives with you must accept your ups...</td>\n",
       "      <td>0</td>\n",
       "    </tr>\n",
       "    <tr>\n",
       "      <th>1</th>\n",
       "      <td>At times others can never be \"good\" enough to ...</td>\n",
       "      <td>At times others can never be \"good\" enough to ...</td>\n",
       "      <td>0</td>\n",
       "    </tr>\n",
       "    <tr>\n",
       "      <th>2</th>\n",
       "      <td>At times you can be lazy, hoping or expecting ...</td>\n",
       "      <td>At times you can be lazy, hoping or expecting ...</td>\n",
       "      <td>0</td>\n",
       "    </tr>\n",
       "    <tr>\n",
       "      <th>3</th>\n",
       "      <td>At times you can be very indecisive and unsure.</td>\n",
       "      <td>At times you can be very indecisive and unsure.</td>\n",
       "      <td>0</td>\n",
       "    </tr>\n",
       "    <tr>\n",
       "      <th>4</th>\n",
       "      <td>Comfort is important to you and you hate getti...</td>\n",
       "      <td>Comfort is important to you and you hate getti...</td>\n",
       "      <td>0</td>\n",
       "    </tr>\n",
       "  </tbody>\n",
       "</table>\n",
       "</div>"
      ],
      "text/plain": [
       "                                               first  \\\n",
       "0  Anyone who lives with you must accept your ups...   \n",
       "1  At times others can never be \"good\" enough to ...   \n",
       "2  At times you can be lazy, hoping or expecting ...   \n",
       "3    At times you can be very indecisive and unsure.   \n",
       "4  Comfort is important to you and you hate getti...   \n",
       "\n",
       "                                              second dist  \n",
       "0  Anyone who lives with you must accept your ups...    0  \n",
       "1  At times others can never be \"good\" enough to ...    0  \n",
       "2  At times you can be lazy, hoping or expecting ...    0  \n",
       "3    At times you can be very indecisive and unsure.    0  \n",
       "4  Comfort is important to you and you hate getti...    0  "
      ]
     },
     "execution_count": 19,
     "metadata": {},
     "output_type": "execute_result"
    }
   ],
   "source": [
    "add_df = pd.DataFrame(data=add_data, columns=df_clean.columns)\n",
    "add_df.head()"
   ]
  },
  {
   "cell_type": "code",
   "execution_count": 20,
   "metadata": {},
   "outputs": [
    {
     "data": {
      "text/html": [
       "<div>\n",
       "<style scoped>\n",
       "    .dataframe tbody tr th:only-of-type {\n",
       "        vertical-align: middle;\n",
       "    }\n",
       "\n",
       "    .dataframe tbody tr th {\n",
       "        vertical-align: top;\n",
       "    }\n",
       "\n",
       "    .dataframe thead th {\n",
       "        text-align: right;\n",
       "    }\n",
       "</style>\n",
       "<table border=\"1\" class=\"dataframe\">\n",
       "  <thead>\n",
       "    <tr style=\"text-align: right;\">\n",
       "      <th></th>\n",
       "      <th>first</th>\n",
       "      <th>second</th>\n",
       "      <th>dist</th>\n",
       "    </tr>\n",
       "  </thead>\n",
       "  <tbody>\n",
       "    <tr>\n",
       "      <th>0</th>\n",
       "      <td>People with Virgo rising tend to be practical,...</td>\n",
       "      <td>You have an ingenious, active and alert mind.</td>\n",
       "      <td>2</td>\n",
       "    </tr>\n",
       "    <tr>\n",
       "      <th>1</th>\n",
       "      <td>People with Virgo rising tend to be practical,...</td>\n",
       "      <td>Gaining knowledge and putting it to good use a...</td>\n",
       "      <td>3</td>\n",
       "    </tr>\n",
       "    <tr>\n",
       "      <th>2</th>\n",
       "      <td>People with Virgo rising tend to be practical,...</td>\n",
       "      <td>You strive for perfection and can be quite the...</td>\n",
       "      <td>3</td>\n",
       "    </tr>\n",
       "    <tr>\n",
       "      <th>3</th>\n",
       "      <td>People with Virgo rising tend to be practical,...</td>\n",
       "      <td>At times others can never be \"good\" enough to ...</td>\n",
       "      <td>3</td>\n",
       "    </tr>\n",
       "    <tr>\n",
       "      <th>4</th>\n",
       "      <td>People with Virgo rising tend to be practical,...</td>\n",
       "      <td>Finding fault with what's wrong with things is...</td>\n",
       "      <td>3</td>\n",
       "    </tr>\n",
       "  </tbody>\n",
       "</table>\n",
       "</div>"
      ],
      "text/plain": [
       "                                               first  \\\n",
       "0  People with Virgo rising tend to be practical,...   \n",
       "1  People with Virgo rising tend to be practical,...   \n",
       "2  People with Virgo rising tend to be practical,...   \n",
       "3  People with Virgo rising tend to be practical,...   \n",
       "4  People with Virgo rising tend to be practical,...   \n",
       "\n",
       "                                              second dist  \n",
       "0      You have an ingenious, active and alert mind.    2  \n",
       "1  Gaining knowledge and putting it to good use a...    3  \n",
       "2  You strive for perfection and can be quite the...    3  \n",
       "3  At times others can never be \"good\" enough to ...    3  \n",
       "4  Finding fault with what's wrong with things is...    3  "
      ]
     },
     "execution_count": 20,
     "metadata": {},
     "output_type": "execute_result"
    }
   ],
   "source": [
    "df_clean = df_clean.append(add_df, ignore_index=True)\n",
    "df_clean.head()"
   ]
  },
  {
   "cell_type": "code",
   "execution_count": 21,
   "metadata": {},
   "outputs": [
    {
     "data": {
      "text/html": [
       "<div>\n",
       "<style scoped>\n",
       "    .dataframe tbody tr th:only-of-type {\n",
       "        vertical-align: middle;\n",
       "    }\n",
       "\n",
       "    .dataframe tbody tr th {\n",
       "        vertical-align: top;\n",
       "    }\n",
       "\n",
       "    .dataframe thead th {\n",
       "        text-align: right;\n",
       "    }\n",
       "</style>\n",
       "<table border=\"1\" class=\"dataframe\">\n",
       "  <thead>\n",
       "    <tr style=\"text-align: right;\">\n",
       "      <th></th>\n",
       "      <th>first</th>\n",
       "      <th>second</th>\n",
       "      <th>dist</th>\n",
       "    </tr>\n",
       "  </thead>\n",
       "  <tbody>\n",
       "    <tr>\n",
       "      <th>count</th>\n",
       "      <td>1830</td>\n",
       "      <td>1830</td>\n",
       "      <td>1830.0</td>\n",
       "    </tr>\n",
       "    <tr>\n",
       "      <th>unique</th>\n",
       "      <td>60</td>\n",
       "      <td>60</td>\n",
       "      <td>10.0</td>\n",
       "    </tr>\n",
       "    <tr>\n",
       "      <th>top</th>\n",
       "      <td>People with Virgo rising tend to be practical,...</td>\n",
       "      <td>You aim to please in practical and earthy ways.</td>\n",
       "      <td>5.0</td>\n",
       "    </tr>\n",
       "    <tr>\n",
       "      <th>freq</th>\n",
       "      <td>60</td>\n",
       "      <td>60</td>\n",
       "      <td>1488.0</td>\n",
       "    </tr>\n",
       "  </tbody>\n",
       "</table>\n",
       "</div>"
      ],
      "text/plain": [
       "                                                    first  \\\n",
       "count                                                1830   \n",
       "unique                                                 60   \n",
       "top     People with Virgo rising tend to be practical,...   \n",
       "freq                                                   60   \n",
       "\n",
       "                                                 second    dist  \n",
       "count                                              1830  1830.0  \n",
       "unique                                               60    10.0  \n",
       "top     You aim to please in practical and earthy ways.     5.0  \n",
       "freq                                                 60  1488.0  "
      ]
     },
     "execution_count": 21,
     "metadata": {},
     "output_type": "execute_result"
    }
   ],
   "source": [
    "df_clean.describe()"
   ]
  },
  {
   "cell_type": "code",
   "execution_count": 22,
   "metadata": {},
   "outputs": [],
   "source": [
    "df_piv = df_clean.pivot(\"first\", \"second\", \"dist\").fillna(0)\n",
    "piv_arr = df_piv.values\n",
    "dist_mat = piv_arr + np.transpose(piv_arr)"
   ]
  },
  {
   "cell_type": "code",
   "execution_count": 23,
   "metadata": {},
   "outputs": [
    {
     "data": {
      "text/html": [
       "<div>\n",
       "<style scoped>\n",
       "    .dataframe tbody tr th:only-of-type {\n",
       "        vertical-align: middle;\n",
       "    }\n",
       "\n",
       "    .dataframe tbody tr th {\n",
       "        vertical-align: top;\n",
       "    }\n",
       "\n",
       "    .dataframe thead th {\n",
       "        text-align: right;\n",
       "    }\n",
       "</style>\n",
       "<table border=\"1\" class=\"dataframe\">\n",
       "  <thead>\n",
       "    <tr style=\"text-align: right;\">\n",
       "      <th>second</th>\n",
       "      <th>Anyone who lives with you must accept your ups and downs and appreciate your need for times of withdrawal.</th>\n",
       "      <th>At times others can never be \"good\" enough to meet those high standards.</th>\n",
       "      <th>At times you can be lazy, hoping or expecting someone else to do the dirty work.</th>\n",
       "      <th>At times you can be very indecisive and unsure.</th>\n",
       "      <th>Comfort is important to you and you hate getting your hands dirty.</th>\n",
       "      <th>Control of thought, word, and action is necessary in order to be successful.</th>\n",
       "      <th>Debate and argument appeal to you.</th>\n",
       "      <th>Exercise is a good way to release this tension.</th>\n",
       "      <th>Find your focus, stay with it and develop perseverance.</th>\n",
       "      <th>Finding fault with what's wrong with things is your forte.</th>\n",
       "      <th>...</th>\n",
       "      <th>You often appear irrational to others because you can't always explain the reason or source of your feelings.</th>\n",
       "      <th>You seek knowledge, either through reading or conversation, or through travel and talking with the new people you constantly meet.</th>\n",
       "      <th>You soak up feelings like a sponge.</th>\n",
       "      <th>You strive for perfection and can be quite the person to live with or to be around because your standards for yourself and others are so high.</th>\n",
       "      <th>You take slights very personally and though you may forgive a mistake by a friend or loved one, you never forget it.</th>\n",
       "      <th>You tend to be a pack-rat because everything has an emotional memory behind it and you find security in all those memories.</th>\n",
       "      <th>You tend to look younger than you really are, no matter what your age.</th>\n",
       "      <th>Your greatest need is to nurture and mother someone or ones.</th>\n",
       "      <th>Your mother is/was a strong influence for good or ill in your life.</th>\n",
       "      <th>Your senses and emotions are quite strong and it would be wise for you to listen to your intuitive side as you can be quite psychic.</th>\n",
       "    </tr>\n",
       "  </thead>\n",
       "  <tbody>\n",
       "    <tr>\n",
       "      <th>count</th>\n",
       "      <td>60.000000</td>\n",
       "      <td>60.000000</td>\n",
       "      <td>60.000000</td>\n",
       "      <td>60.000000</td>\n",
       "      <td>60.000000</td>\n",
       "      <td>60.000000</td>\n",
       "      <td>60.00000</td>\n",
       "      <td>60.000000</td>\n",
       "      <td>60.000000</td>\n",
       "      <td>60.000000</td>\n",
       "      <td>...</td>\n",
       "      <td>60.000000</td>\n",
       "      <td>60.000000</td>\n",
       "      <td>60.000000</td>\n",
       "      <td>60.000000</td>\n",
       "      <td>60.00000</td>\n",
       "      <td>60.000000</td>\n",
       "      <td>60.000000</td>\n",
       "      <td>60.000000</td>\n",
       "      <td>60.000000</td>\n",
       "      <td>60.000000</td>\n",
       "    </tr>\n",
       "    <tr>\n",
       "      <th>mean</th>\n",
       "      <td>1.566667</td>\n",
       "      <td>0.233333</td>\n",
       "      <td>4.616667</td>\n",
       "      <td>1.100000</td>\n",
       "      <td>4.483333</td>\n",
       "      <td>3.550000</td>\n",
       "      <td>3.30000</td>\n",
       "      <td>2.850000</td>\n",
       "      <td>3.683333</td>\n",
       "      <td>0.250000</td>\n",
       "      <td>...</td>\n",
       "      <td>1.450000</td>\n",
       "      <td>2.750000</td>\n",
       "      <td>1.216667</td>\n",
       "      <td>0.216667</td>\n",
       "      <td>1.70000</td>\n",
       "      <td>2.400000</td>\n",
       "      <td>1.000000</td>\n",
       "      <td>1.550000</td>\n",
       "      <td>2.216667</td>\n",
       "      <td>1.966667</td>\n",
       "    </tr>\n",
       "    <tr>\n",
       "      <th>std</th>\n",
       "      <td>2.212190</td>\n",
       "      <td>0.980603</td>\n",
       "      <td>1.276803</td>\n",
       "      <td>2.031114</td>\n",
       "      <td>1.443767</td>\n",
       "      <td>2.070167</td>\n",
       "      <td>2.27216</td>\n",
       "      <td>2.420429</td>\n",
       "      <td>2.205476</td>\n",
       "      <td>0.985058</td>\n",
       "      <td>...</td>\n",
       "      <td>2.118722</td>\n",
       "      <td>2.467586</td>\n",
       "      <td>2.108029</td>\n",
       "      <td>0.975838</td>\n",
       "      <td>2.24967</td>\n",
       "      <td>2.505587</td>\n",
       "      <td>2.016878</td>\n",
       "      <td>2.302725</td>\n",
       "      <td>2.484472</td>\n",
       "      <td>2.435380</td>\n",
       "    </tr>\n",
       "    <tr>\n",
       "      <th>min</th>\n",
       "      <td>0.000000</td>\n",
       "      <td>0.000000</td>\n",
       "      <td>0.000000</td>\n",
       "      <td>0.000000</td>\n",
       "      <td>0.000000</td>\n",
       "      <td>0.000000</td>\n",
       "      <td>0.00000</td>\n",
       "      <td>0.000000</td>\n",
       "      <td>0.000000</td>\n",
       "      <td>0.000000</td>\n",
       "      <td>...</td>\n",
       "      <td>0.000000</td>\n",
       "      <td>0.000000</td>\n",
       "      <td>0.000000</td>\n",
       "      <td>0.000000</td>\n",
       "      <td>0.00000</td>\n",
       "      <td>0.000000</td>\n",
       "      <td>0.000000</td>\n",
       "      <td>0.000000</td>\n",
       "      <td>0.000000</td>\n",
       "      <td>0.000000</td>\n",
       "    </tr>\n",
       "    <tr>\n",
       "      <th>25%</th>\n",
       "      <td>0.000000</td>\n",
       "      <td>0.000000</td>\n",
       "      <td>5.000000</td>\n",
       "      <td>0.000000</td>\n",
       "      <td>5.000000</td>\n",
       "      <td>2.750000</td>\n",
       "      <td>0.00000</td>\n",
       "      <td>0.000000</td>\n",
       "      <td>2.000000</td>\n",
       "      <td>0.000000</td>\n",
       "      <td>...</td>\n",
       "      <td>0.000000</td>\n",
       "      <td>0.000000</td>\n",
       "      <td>0.000000</td>\n",
       "      <td>0.000000</td>\n",
       "      <td>0.00000</td>\n",
       "      <td>0.000000</td>\n",
       "      <td>0.000000</td>\n",
       "      <td>0.000000</td>\n",
       "      <td>0.000000</td>\n",
       "      <td>0.000000</td>\n",
       "    </tr>\n",
       "    <tr>\n",
       "      <th>50%</th>\n",
       "      <td>0.000000</td>\n",
       "      <td>0.000000</td>\n",
       "      <td>5.000000</td>\n",
       "      <td>0.000000</td>\n",
       "      <td>5.000000</td>\n",
       "      <td>5.000000</td>\n",
       "      <td>5.00000</td>\n",
       "      <td>5.000000</td>\n",
       "      <td>5.000000</td>\n",
       "      <td>0.000000</td>\n",
       "      <td>...</td>\n",
       "      <td>0.000000</td>\n",
       "      <td>5.000000</td>\n",
       "      <td>0.000000</td>\n",
       "      <td>0.000000</td>\n",
       "      <td>0.00000</td>\n",
       "      <td>0.000000</td>\n",
       "      <td>0.000000</td>\n",
       "      <td>0.000000</td>\n",
       "      <td>0.000000</td>\n",
       "      <td>0.000000</td>\n",
       "    </tr>\n",
       "    <tr>\n",
       "      <th>75%</th>\n",
       "      <td>4.000000</td>\n",
       "      <td>0.000000</td>\n",
       "      <td>5.000000</td>\n",
       "      <td>0.000000</td>\n",
       "      <td>5.000000</td>\n",
       "      <td>5.000000</td>\n",
       "      <td>5.00000</td>\n",
       "      <td>5.000000</td>\n",
       "      <td>5.000000</td>\n",
       "      <td>0.000000</td>\n",
       "      <td>...</td>\n",
       "      <td>4.000000</td>\n",
       "      <td>5.000000</td>\n",
       "      <td>1.500000</td>\n",
       "      <td>0.000000</td>\n",
       "      <td>5.00000</td>\n",
       "      <td>5.000000</td>\n",
       "      <td>0.000000</td>\n",
       "      <td>5.000000</td>\n",
       "      <td>5.000000</td>\n",
       "      <td>5.000000</td>\n",
       "    </tr>\n",
       "    <tr>\n",
       "      <th>max</th>\n",
       "      <td>5.000000</td>\n",
       "      <td>5.000000</td>\n",
       "      <td>5.000000</td>\n",
       "      <td>5.000000</td>\n",
       "      <td>5.000000</td>\n",
       "      <td>5.000000</td>\n",
       "      <td>5.00000</td>\n",
       "      <td>5.000000</td>\n",
       "      <td>9.000000</td>\n",
       "      <td>5.000000</td>\n",
       "      <td>...</td>\n",
       "      <td>6.000000</td>\n",
       "      <td>5.000000</td>\n",
       "      <td>5.000000</td>\n",
       "      <td>5.000000</td>\n",
       "      <td>5.00000</td>\n",
       "      <td>5.000000</td>\n",
       "      <td>5.000000</td>\n",
       "      <td>5.000000</td>\n",
       "      <td>5.000000</td>\n",
       "      <td>6.000000</td>\n",
       "    </tr>\n",
       "  </tbody>\n",
       "</table>\n",
       "<p>8 rows × 60 columns</p>\n",
       "</div>"
      ],
      "text/plain": [
       "second  Anyone who lives with you must accept your ups and downs and appreciate your need for times of withdrawal.  \\\n",
       "count                                           60.000000                                                            \n",
       "mean                                             1.566667                                                            \n",
       "std                                              2.212190                                                            \n",
       "min                                              0.000000                                                            \n",
       "25%                                              0.000000                                                            \n",
       "50%                                              0.000000                                                            \n",
       "75%                                              4.000000                                                            \n",
       "max                                              5.000000                                                            \n",
       "\n",
       "second  At times others can never be \"good\" enough to meet those high standards.  \\\n",
       "count                                           60.000000                          \n",
       "mean                                             0.233333                          \n",
       "std                                              0.980603                          \n",
       "min                                              0.000000                          \n",
       "25%                                              0.000000                          \n",
       "50%                                              0.000000                          \n",
       "75%                                              0.000000                          \n",
       "max                                              5.000000                          \n",
       "\n",
       "second  At times you can be lazy, hoping or expecting someone else to do the dirty work.  \\\n",
       "count                                           60.000000                                  \n",
       "mean                                             4.616667                                  \n",
       "std                                              1.276803                                  \n",
       "min                                              0.000000                                  \n",
       "25%                                              5.000000                                  \n",
       "50%                                              5.000000                                  \n",
       "75%                                              5.000000                                  \n",
       "max                                              5.000000                                  \n",
       "\n",
       "second  At times you can be very indecisive and unsure.  \\\n",
       "count                                         60.000000   \n",
       "mean                                           1.100000   \n",
       "std                                            2.031114   \n",
       "min                                            0.000000   \n",
       "25%                                            0.000000   \n",
       "50%                                            0.000000   \n",
       "75%                                            0.000000   \n",
       "max                                            5.000000   \n",
       "\n",
       "second  Comfort is important to you and you hate getting your hands dirty.  \\\n",
       "count                                           60.000000                    \n",
       "mean                                             4.483333                    \n",
       "std                                              1.443767                    \n",
       "min                                              0.000000                    \n",
       "25%                                              5.000000                    \n",
       "50%                                              5.000000                    \n",
       "75%                                              5.000000                    \n",
       "max                                              5.000000                    \n",
       "\n",
       "second  Control of thought, word, and action is necessary in order to be successful.  \\\n",
       "count                                           60.000000                              \n",
       "mean                                             3.550000                              \n",
       "std                                              2.070167                              \n",
       "min                                              0.000000                              \n",
       "25%                                              2.750000                              \n",
       "50%                                              5.000000                              \n",
       "75%                                              5.000000                              \n",
       "max                                              5.000000                              \n",
       "\n",
       "second  Debate and argument appeal to you.  \\\n",
       "count                             60.00000   \n",
       "mean                               3.30000   \n",
       "std                                2.27216   \n",
       "min                                0.00000   \n",
       "25%                                0.00000   \n",
       "50%                                5.00000   \n",
       "75%                                5.00000   \n",
       "max                                5.00000   \n",
       "\n",
       "second  Exercise is a good way to release this tension.  \\\n",
       "count                                         60.000000   \n",
       "mean                                           2.850000   \n",
       "std                                            2.420429   \n",
       "min                                            0.000000   \n",
       "25%                                            0.000000   \n",
       "50%                                            5.000000   \n",
       "75%                                            5.000000   \n",
       "max                                            5.000000   \n",
       "\n",
       "second  Find your focus, stay with it and develop perseverance.  \\\n",
       "count                                           60.000000         \n",
       "mean                                             3.683333         \n",
       "std                                              2.205476         \n",
       "min                                              0.000000         \n",
       "25%                                              2.000000         \n",
       "50%                                              5.000000         \n",
       "75%                                              5.000000         \n",
       "max                                              9.000000         \n",
       "\n",
       "second  Finding fault with what's wrong with things is your forte.  ...  \\\n",
       "count                                           60.000000           ...   \n",
       "mean                                             0.250000           ...   \n",
       "std                                              0.985058           ...   \n",
       "min                                              0.000000           ...   \n",
       "25%                                              0.000000           ...   \n",
       "50%                                              0.000000           ...   \n",
       "75%                                              0.000000           ...   \n",
       "max                                              5.000000           ...   \n",
       "\n",
       "second  You often appear irrational to others because you can't always explain the reason or source of your feelings.  \\\n",
       "count                                           60.000000                                                               \n",
       "mean                                             1.450000                                                               \n",
       "std                                              2.118722                                                               \n",
       "min                                              0.000000                                                               \n",
       "25%                                              0.000000                                                               \n",
       "50%                                              0.000000                                                               \n",
       "75%                                              4.000000                                                               \n",
       "max                                              6.000000                                                               \n",
       "\n",
       "second  You seek knowledge, either through reading or conversation, or through travel and talking with the new people you constantly meet.  \\\n",
       "count                                           60.000000                                                                                    \n",
       "mean                                             2.750000                                                                                    \n",
       "std                                              2.467586                                                                                    \n",
       "min                                              0.000000                                                                                    \n",
       "25%                                              0.000000                                                                                    \n",
       "50%                                              5.000000                                                                                    \n",
       "75%                                              5.000000                                                                                    \n",
       "max                                              5.000000                                                                                    \n",
       "\n",
       "second  You soak up feelings like a sponge.  \\\n",
       "count                             60.000000   \n",
       "mean                               1.216667   \n",
       "std                                2.108029   \n",
       "min                                0.000000   \n",
       "25%                                0.000000   \n",
       "50%                                0.000000   \n",
       "75%                                1.500000   \n",
       "max                                5.000000   \n",
       "\n",
       "second  You strive for perfection and can be quite the person to live with or to be around because your standards for yourself and others are so high.  \\\n",
       "count                                           60.000000                                                                                                \n",
       "mean                                             0.216667                                                                                                \n",
       "std                                              0.975838                                                                                                \n",
       "min                                              0.000000                                                                                                \n",
       "25%                                              0.000000                                                                                                \n",
       "50%                                              0.000000                                                                                                \n",
       "75%                                              0.000000                                                                                                \n",
       "max                                              5.000000                                                                                                \n",
       "\n",
       "second  You take slights very personally and though you may forgive a mistake by a friend or loved one, you never forget it.  \\\n",
       "count                                            60.00000                                                                      \n",
       "mean                                              1.70000                                                                      \n",
       "std                                               2.24967                                                                      \n",
       "min                                               0.00000                                                                      \n",
       "25%                                               0.00000                                                                      \n",
       "50%                                               0.00000                                                                      \n",
       "75%                                               5.00000                                                                      \n",
       "max                                               5.00000                                                                      \n",
       "\n",
       "second  You tend to be a pack-rat because everything has an emotional memory behind it and you find security in all those memories.  \\\n",
       "count                                           60.000000                                                                             \n",
       "mean                                             2.400000                                                                             \n",
       "std                                              2.505587                                                                             \n",
       "min                                              0.000000                                                                             \n",
       "25%                                              0.000000                                                                             \n",
       "50%                                              0.000000                                                                             \n",
       "75%                                              5.000000                                                                             \n",
       "max                                              5.000000                                                                             \n",
       "\n",
       "second  You tend to look younger than you really are, no matter what your age.  \\\n",
       "count                                           60.000000                        \n",
       "mean                                             1.000000                        \n",
       "std                                              2.016878                        \n",
       "min                                              0.000000                        \n",
       "25%                                              0.000000                        \n",
       "50%                                              0.000000                        \n",
       "75%                                              0.000000                        \n",
       "max                                              5.000000                        \n",
       "\n",
       "second  Your greatest need is to nurture and mother someone or ones.  \\\n",
       "count                                           60.000000              \n",
       "mean                                             1.550000              \n",
       "std                                              2.302725              \n",
       "min                                              0.000000              \n",
       "25%                                              0.000000              \n",
       "50%                                              0.000000              \n",
       "75%                                              5.000000              \n",
       "max                                              5.000000              \n",
       "\n",
       "second  Your mother is/was a strong influence for good or ill in your life.  \\\n",
       "count                                           60.000000                     \n",
       "mean                                             2.216667                     \n",
       "std                                              2.484472                     \n",
       "min                                              0.000000                     \n",
       "25%                                              0.000000                     \n",
       "50%                                              0.000000                     \n",
       "75%                                              5.000000                     \n",
       "max                                              5.000000                     \n",
       "\n",
       "second  Your senses and emotions are quite strong and it would be wise for you to listen to your intuitive side as you can be quite psychic.  \n",
       "count                                           60.000000                                                                                     \n",
       "mean                                             1.966667                                                                                     \n",
       "std                                              2.435380                                                                                     \n",
       "min                                              0.000000                                                                                     \n",
       "25%                                              0.000000                                                                                     \n",
       "50%                                              0.000000                                                                                     \n",
       "75%                                              5.000000                                                                                     \n",
       "max                                              6.000000                                                                                     \n",
       "\n",
       "[8 rows x 60 columns]"
      ]
     },
     "execution_count": 23,
     "metadata": {},
     "output_type": "execute_result"
    }
   ],
   "source": [
    "df_piv.describe()"
   ]
  },
  {
   "cell_type": "code",
   "execution_count": 24,
   "metadata": {},
   "outputs": [
    {
     "name": "stdout",
     "output_type": "stream",
     "text": [
      "0.0\n",
      "0.0\n",
      "0.0\n",
      "0.0\n",
      "0.0\n",
      "0.0\n",
      "0.0\n",
      "0.0\n",
      "0.0\n",
      "0.0\n",
      "0.0\n",
      "0.0\n",
      "0.0\n",
      "0.0\n",
      "0.0\n",
      "0.0\n",
      "0.0\n",
      "0.0\n",
      "0.0\n",
      "0.0\n",
      "0.0\n",
      "0.0\n",
      "0.0\n",
      "0.0\n",
      "0.0\n",
      "0.0\n",
      "0.0\n",
      "0.0\n",
      "0.0\n",
      "0.0\n",
      "0.0\n",
      "0.0\n",
      "0.0\n",
      "0.0\n",
      "0.0\n",
      "0.0\n",
      "0.0\n",
      "0.0\n",
      "0.0\n",
      "0.0\n",
      "0.0\n",
      "0.0\n",
      "0.0\n",
      "0.0\n",
      "0.0\n",
      "0.0\n",
      "0.0\n",
      "0.0\n",
      "0.0\n",
      "0.0\n",
      "0.0\n",
      "0.0\n",
      "0.0\n",
      "0.0\n",
      "0.0\n",
      "0.0\n",
      "0.0\n",
      "0.0\n",
      "0.0\n",
      "0.0\n"
     ]
    }
   ],
   "source": [
    "for i in range(len(dist_mat)):\n",
    "    print(dist_mat[i][i])"
   ]
  },
  {
   "cell_type": "code",
   "execution_count": 25,
   "metadata": {},
   "outputs": [],
   "source": [
    "from scipy.spatial.distance import squareform\n",
    "condensed_mat = squareform(dist_mat)"
   ]
  },
  {
   "cell_type": "code",
   "execution_count": 26,
   "metadata": {},
   "outputs": [
    {
     "data": {
      "text/plain": [
       "array([ True,  True,  True,  True,  True,  True,  True,  True,  True,\n",
       "        True,  True,  True,  True,  True,  True,  True,  True,  True,\n",
       "        True,  True,  True,  True,  True,  True,  True,  True,  True,\n",
       "        True,  True,  True,  True,  True,  True,  True,  True,  True,\n",
       "        True,  True,  True,  True,  True,  True,  True,  True,  True,\n",
       "        True,  True,  True,  True,  True,  True,  True,  True,  True,\n",
       "        True,  True,  True,  True,  True,  True])"
      ]
     },
     "execution_count": 26,
     "metadata": {},
     "output_type": "execute_result"
    }
   ],
   "source": [
    "df_piv.index == df_piv.columns"
   ]
  },
  {
   "cell_type": "code",
   "execution_count": 27,
   "metadata": {},
   "outputs": [],
   "source": [
    "linkage_arr = linkage(condensed_mat)"
   ]
  },
  {
   "cell_type": "code",
   "execution_count": 28,
   "metadata": {},
   "outputs": [
    {
     "data": {
      "text/plain": [
       "array([[ 25.,  26.,   1.,   2.],\n",
       "       [ 27.,  60.,   1.,   3.],\n",
       "       [ 36.,  61.,   1.,   4.],\n",
       "       [ 41.,  62.,   1.,   5.],\n",
       "       [ 45.,  63.,   1.,   6.],\n",
       "       [ 46.,  64.,   1.,   7.],\n",
       "       [ 12.,  42.,   1.,   2.],\n",
       "       [  1.,   9.,   1.,   2.],\n",
       "       [ 21.,  67.,   1.,   3.],\n",
       "       [ 24.,  68.,   1.,   4.],\n",
       "       [ 53.,  69.,   1.,   5.],\n",
       "       [ 47.,  70.,   1.,   6.],\n",
       "       [  7.,  43.,   1.,   2.],\n",
       "       [ 14.,  20.,   1.,   2.],\n",
       "       [ 52.,  73.,   1.,   3.],\n",
       "       [ 31.,  59.,   1.,   2.],\n",
       "       [  0.,  22.,   2.,   2.],\n",
       "       [ 50.,  76.,   2.,   3.],\n",
       "       [  8.,  65.,   2.,   8.],\n",
       "       [ 66.,  78.,   2.,  10.],\n",
       "       [ 17.,  79.,   2.,  11.],\n",
       "       [ 19.,  80.,   2.,  12.],\n",
       "       [  6.,  81.,   2.,  13.],\n",
       "       [ 71.,  82.,   2.,  19.],\n",
       "       [ 29.,  83.,   2.,  20.],\n",
       "       [  5.,  84.,   2.,  21.],\n",
       "       [ 33.,  85.,   2.,  22.],\n",
       "       [ 38.,  86.,   2.,  23.],\n",
       "       [ 72.,  87.,   2.,  25.],\n",
       "       [ 49.,  88.,   2.,  26.],\n",
       "       [ 74.,  89.,   2.,  29.],\n",
       "       [ 16.,  90.,   2.,  30.],\n",
       "       [ 48.,  91.,   2.,  31.],\n",
       "       [ 54.,  92.,   2.,  32.],\n",
       "       [ 44.,  93.,   2.,  33.],\n",
       "       [ 10.,  15.,   2.,   2.],\n",
       "       [ 51.,  95.,   2.,   3.],\n",
       "       [  4.,  35.,   2.,   2.],\n",
       "       [ 37.,  97.,   2.,   3.],\n",
       "       [ 40.,  98.,   2.,   4.],\n",
       "       [ 28.,  39.,   2.,   2.],\n",
       "       [  3.,  77.,   3.,   4.],\n",
       "       [ 94., 101.,   3.,  37.],\n",
       "       [ 96., 102.,   3.,  40.],\n",
       "       [ 23., 103.,   3.,  41.],\n",
       "       [ 75., 104.,   3.,  43.],\n",
       "       [ 32., 105.,   3.,  44.],\n",
       "       [ 99., 106.,   3.,  48.],\n",
       "       [  2., 107.,   3.,  49.],\n",
       "       [ 11., 108.,   3.,  50.],\n",
       "       [100., 109.,   3.,  52.],\n",
       "       [ 30., 110.,   3.,  53.],\n",
       "       [ 57., 111.,   3.,  54.],\n",
       "       [ 58., 112.,   3.,  55.],\n",
       "       [ 13., 113.,   4.,  56.],\n",
       "       [ 55., 114.,   4.,  57.],\n",
       "       [ 18., 115.,   4.,  58.],\n",
       "       [ 34., 116.,   5.,  59.],\n",
       "       [ 56., 117.,   5.,  60.]])"
      ]
     },
     "execution_count": 28,
     "metadata": {},
     "output_type": "execute_result"
    }
   ],
   "source": [
    "linkage_arr"
   ]
  },
  {
   "cell_type": "code",
   "execution_count": 29,
   "metadata": {},
   "outputs": [
    {
     "data": {
      "text/plain": [
       "{'icoord': [[85.0, 85.0, 95.0, 95.0],\n",
       "  [145.0, 145.0, 155.0, 155.0],\n",
       "  [135.0, 135.0, 150.0, 150.0],\n",
       "  [125.0, 125.0, 142.5, 142.5],\n",
       "  [175.0, 175.0, 185.0, 185.0],\n",
       "  [215.0, 215.0, 225.0, 225.0],\n",
       "  [205.0, 205.0, 220.0, 220.0],\n",
       "  [285.0, 285.0, 295.0, 295.0],\n",
       "  [275.0, 275.0, 290.0, 290.0],\n",
       "  [315.0, 315.0, 325.0, 325.0],\n",
       "  [415.0, 415.0, 425.0, 425.0],\n",
       "  [405.0, 405.0, 420.0, 420.0],\n",
       "  [395.0, 395.0, 412.5, 412.5],\n",
       "  [385.0, 385.0, 403.75, 403.75],\n",
       "  [375.0, 375.0, 394.375, 394.375],\n",
       "  [465.0, 465.0, 475.0, 475.0],\n",
       "  [545.0, 545.0, 555.0, 555.0],\n",
       "  [535.0, 535.0, 550.0, 550.0],\n",
       "  [525.0, 525.0, 542.5, 542.5],\n",
       "  [515.0, 515.0, 533.75, 533.75],\n",
       "  [505.0, 505.0, 524.375, 524.375],\n",
       "  [495.0, 495.0, 514.6875, 514.6875],\n",
       "  [485.0, 485.0, 504.84375, 504.84375],\n",
       "  [470.0, 470.0, 494.921875, 494.921875],\n",
       "  [455.0, 455.0, 482.4609375, 482.4609375],\n",
       "  [445.0, 445.0, 468.73046875, 468.73046875],\n",
       "  [435.0, 435.0, 456.865234375, 456.865234375],\n",
       "  [384.6875, 384.6875, 445.9326171875, 445.9326171875],\n",
       "  [365.0, 365.0, 415.31005859375, 415.31005859375],\n",
       "  [355.0, 355.0, 390.155029296875, 390.155029296875],\n",
       "  [345.0, 345.0, 372.5775146484375, 372.5775146484375],\n",
       "  [335.0, 335.0, 358.78875732421875, 358.78875732421875],\n",
       "  [320.0, 320.0, 346.8943786621094, 346.8943786621094],\n",
       "  [305.0, 305.0, 333.4471893310547, 333.4471893310547],\n",
       "  [282.5, 282.5, 319.22359466552734, 319.22359466552734],\n",
       "  [265.0, 265.0, 300.8617973327637, 300.8617973327637],\n",
       "  [255.0, 255.0, 282.93089866638184, 282.93089866638184],\n",
       "  [245.0, 245.0, 268.9654493331909, 268.9654493331909],\n",
       "  [235.0, 235.0, 256.98272466659546, 256.98272466659546],\n",
       "  [585.0, 585.0, 595.0, 595.0],\n",
       "  [575.0, 575.0, 590.0, 590.0],\n",
       "  [565.0, 565.0, 582.5, 582.5],\n",
       "  [245.99136233329773, 245.99136233329773, 573.75, 573.75],\n",
       "  [212.5, 212.5, 409.87068116664886, 409.87068116664886],\n",
       "  [195.0, 195.0, 311.18534058332443, 311.18534058332443],\n",
       "  [180.0, 180.0, 253.09267029166222, 253.09267029166222],\n",
       "  [165.0, 165.0, 216.5463351458311, 216.5463351458311],\n",
       "  [133.75, 133.75, 190.77316757291555, 190.77316757291555],\n",
       "  [115.0, 115.0, 162.26158378645778, 162.26158378645778],\n",
       "  [105.0, 105.0, 138.6307918932289, 138.6307918932289],\n",
       "  [90.0, 90.0, 121.81539594661444, 121.81539594661444],\n",
       "  [75.0, 75.0, 105.90769797330722, 105.90769797330722],\n",
       "  [65.0, 65.0, 90.45384898665361, 90.45384898665361],\n",
       "  [55.0, 55.0, 77.7269244933268, 77.7269244933268],\n",
       "  [45.0, 45.0, 66.3634622466634, 66.3634622466634],\n",
       "  [35.0, 35.0, 55.6817311233317, 55.6817311233317],\n",
       "  [25.0, 25.0, 45.34086556166585, 45.34086556166585],\n",
       "  [15.0, 15.0, 35.170432780832925, 35.170432780832925],\n",
       "  [5.0, 5.0, 25.085216390416463, 25.085216390416463]],\n",
       " 'dcoord': [[0.0, 2.0, 2.0, 0.0],\n",
       "  [0.0, 2.0, 2.0, 0.0],\n",
       "  [0.0, 2.0, 2.0, 2.0],\n",
       "  [0.0, 2.0, 2.0, 2.0],\n",
       "  [0.0, 1.0, 1.0, 0.0],\n",
       "  [0.0, 2.0, 2.0, 0.0],\n",
       "  [0.0, 2.0, 2.0, 2.0],\n",
       "  [0.0, 1.0, 1.0, 0.0],\n",
       "  [0.0, 1.0, 1.0, 1.0],\n",
       "  [0.0, 1.0, 1.0, 0.0],\n",
       "  [0.0, 1.0, 1.0, 0.0],\n",
       "  [0.0, 1.0, 1.0, 1.0],\n",
       "  [0.0, 1.0, 1.0, 1.0],\n",
       "  [0.0, 1.0, 1.0, 1.0],\n",
       "  [0.0, 1.0, 1.0, 1.0],\n",
       "  [0.0, 1.0, 1.0, 0.0],\n",
       "  [0.0, 1.0, 1.0, 0.0],\n",
       "  [0.0, 1.0, 1.0, 1.0],\n",
       "  [0.0, 1.0, 1.0, 1.0],\n",
       "  [0.0, 1.0, 1.0, 1.0],\n",
       "  [0.0, 1.0, 1.0, 1.0],\n",
       "  [0.0, 1.0, 1.0, 1.0],\n",
       "  [0.0, 2.0, 2.0, 1.0],\n",
       "  [1.0, 2.0, 2.0, 2.0],\n",
       "  [0.0, 2.0, 2.0, 2.0],\n",
       "  [0.0, 2.0, 2.0, 2.0],\n",
       "  [0.0, 2.0, 2.0, 2.0],\n",
       "  [1.0, 2.0, 2.0, 2.0],\n",
       "  [0.0, 2.0, 2.0, 2.0],\n",
       "  [0.0, 2.0, 2.0, 2.0],\n",
       "  [0.0, 2.0, 2.0, 2.0],\n",
       "  [0.0, 2.0, 2.0, 2.0],\n",
       "  [1.0, 2.0, 2.0, 2.0],\n",
       "  [0.0, 2.0, 2.0, 2.0],\n",
       "  [1.0, 2.0, 2.0, 2.0],\n",
       "  [0.0, 2.0, 2.0, 2.0],\n",
       "  [0.0, 2.0, 2.0, 2.0],\n",
       "  [0.0, 2.0, 2.0, 2.0],\n",
       "  [0.0, 2.0, 2.0, 2.0],\n",
       "  [0.0, 2.0, 2.0, 0.0],\n",
       "  [0.0, 2.0, 2.0, 2.0],\n",
       "  [0.0, 3.0, 3.0, 2.0],\n",
       "  [2.0, 3.0, 3.0, 3.0],\n",
       "  [2.0, 3.0, 3.0, 3.0],\n",
       "  [0.0, 3.0, 3.0, 3.0],\n",
       "  [1.0, 3.0, 3.0, 3.0],\n",
       "  [0.0, 3.0, 3.0, 3.0],\n",
       "  [2.0, 3.0, 3.0, 3.0],\n",
       "  [0.0, 3.0, 3.0, 3.0],\n",
       "  [0.0, 3.0, 3.0, 3.0],\n",
       "  [2.0, 3.0, 3.0, 3.0],\n",
       "  [0.0, 3.0, 3.0, 3.0],\n",
       "  [0.0, 3.0, 3.0, 3.0],\n",
       "  [0.0, 3.0, 3.0, 3.0],\n",
       "  [0.0, 4.0, 4.0, 3.0],\n",
       "  [0.0, 4.0, 4.0, 4.0],\n",
       "  [0.0, 4.0, 4.0, 4.0],\n",
       "  [0.0, 5.0, 5.0, 4.0],\n",
       "  [0.0, 5.0, 5.0, 5.0]],\n",
       " 'ivl': ['You tend to look younger than you really are, no matter what your age.',\n",
       "  'You are handy with your hands and may be ambidextrous or mechanically inclined.',\n",
       "  'Nothing or no one is ever gone if they leave their memory behind.',\n",
       "  'You tend to be a pack-rat because everything has an emotional memory behind it and you find security in all those memories.',\n",
       "  'If you have Venus in Taurus, in love affairs you are generally loyal and steady, especially if your partner is demonstrative and affectionate.',\n",
       "  'Your mother is/was a strong influence for good or ill in your life.',\n",
       "  'Your greatest need is to nurture and mother someone or ones.',\n",
       "  'You aim to please in practical and earthy ways.',\n",
       "  'Thus, you can become quite possessive.',\n",
       "  'You are very tenacious and you do not give up or let go of things or people easily.',\n",
       "  'Guard against possessiveness, jealousy, and taking the easy way out in your relationships.',\n",
       "  'At times you can be lazy, hoping or expecting someone else to do the dirty work.',\n",
       "  'You enjoy indulging yourself and the ones you love and it is too easy for you to be extravagant and perhaps to put too much value in material things.',\n",
       "  'You are tremendously responsive to beauty and physical appearances, and the physical attractiveness of your partner is very important to you.',\n",
       "  'Comfort is important to you and you hate getting your hands dirty.',\n",
       "  'You are oriented towards the sensual side of life in everything you do and it may show through too much weight.',\n",
       "  'You are basically an introvert, but will do whatever it takes to protect and defend your family or loved ones.',\n",
       "  'You are also very sympathetic and understand the unspoken feelings and needs of others.',\n",
       "  'Your senses and emotions are quite strong and it would be wise for you to listen to your intuitive side as you can be quite psychic.',\n",
       "  'Self-control needs to be developed and added to the qualifications you already possess -warmth, charm, sympathy, artistic.',\n",
       "  'You seek knowledge, either through reading or conversation, or through travel and talking with the new people you constantly meet.',\n",
       "  'Gaining knowledge and putting it to good use are important to you.',\n",
       "  'Journalism, speaking, teaching, sales, advertising, or writing may appeal to you.',\n",
       "  'You have the memory of an elephant, but you must learn to forgive and forget past hurts.',\n",
       "  'You take slights very personally and though you may forgive a mistake by a friend or loved one, you never forget it.',\n",
       "  'You need to get rid of any negativity that stems from a feeling of inadequacy.',\n",
       "  'Learning to control your own moods may be very difficult, yet necessary, for you.',\n",
       "  'You soak up feelings like a sponge.',\n",
       "  'If you have the Moon in Cancer, you very easily respond to the emotional environment in which you are placed.',\n",
       "  'Perhaps this is why you so easily become moody, irritable and inconstant in thought and feeling.',\n",
       "  'You need to learn to digest every experience and assimilate it without bitterness, regret, spite or resentment.',\n",
       "  'Exercise is a good way to release this tension.',\n",
       "  'You have so much nervous energy that this can sometimes cause great stress which must find an appropriate release.',\n",
       "  'You are very restless and nervous, so you seldom have much weight on you.',\n",
       "  'You are clever, witty, and always have a joke or comeback ready for any situation.',\n",
       "  'Control of thought, word, and action is necessary in order to be successful.',\n",
       "  'Too much worry can lead to health problems.',\n",
       "  'You may tend to worry too much, especially about the small stuff, the little details.',\n",
       "  'You strive for perfection and can be quite the person to live with or to be around because your standards for yourself and others are so high.',\n",
       "  'Sometimes, though, this can make relationships sour as you often turn your critical eye on the one you love and the things they do.',\n",
       "  'Pessimism and being too self-critical are two faults you should try to improve upon.',\n",
       "  'At times others can never be \"good\" enough to meet those high standards.',\n",
       "  \"Finding fault with what's wrong with things is your forte.\",\n",
       "  'Debate and argument appeal to you.',\n",
       "  'People with Virgo rising tend to be practical, analytical, discriminating, fastidious, careful, exacting, attentive to details, methodical, quiet, unassuming, shy, critical, thoughtful, and somewhat self-centered.',\n",
       "  'Mentally restless, you may change jobs or locations frequently, or do work that involves movement, travel, and variety.',\n",
       "  'If you have Mercury in Gemini, you have an extremely adaptable, energetic, active, alert, curious, and versatile mind.',\n",
       "  'You have an ingenious, active and alert mind.',\n",
       "  'Find your focus, stay with it and develop perseverance.',\n",
       "  'You love being involved in multiple things at once and this may be a problem – too may irons in the fire at the same time.',\n",
       "  'You like to taste a little bit of everything – concentration and disciplined study are not your strong points.',\n",
       "  \"You grasp concepts easily and may become impatient with those who don't learn as quickly.\",\n",
       "  'You are quick to grasp new concepts and equally quick to lose interest in an idea or project once your curiosity has been satisfied.',\n",
       "  'This is the jack-of-all-trades, master-of-none position.',\n",
       "  'There is a tendency to scratch the surface with the things that strike your interest without learning anything very deeply.',\n",
       "  'There is danger, then, of superficiality.',\n",
       "  'At times you can be very indecisive and unsure.',\n",
       "  \"You often appear irrational to others because you can't always explain the reason or source of your feelings.\",\n",
       "  'Anyone who lives with you must accept your ups and downs and appreciate your need for times of withdrawal.',\n",
       "  'Security is very important to you and you look for it in your home and family life.'],\n",
       " 'leaves': [56,\n",
       "  34,\n",
       "  18,\n",
       "  55,\n",
       "  13,\n",
       "  58,\n",
       "  57,\n",
       "  30,\n",
       "  28,\n",
       "  39,\n",
       "  11,\n",
       "  2,\n",
       "  40,\n",
       "  37,\n",
       "  4,\n",
       "  35,\n",
       "  32,\n",
       "  31,\n",
       "  59,\n",
       "  23,\n",
       "  51,\n",
       "  10,\n",
       "  15,\n",
       "  44,\n",
       "  54,\n",
       "  48,\n",
       "  16,\n",
       "  52,\n",
       "  14,\n",
       "  20,\n",
       "  49,\n",
       "  7,\n",
       "  43,\n",
       "  38,\n",
       "  33,\n",
       "  5,\n",
       "  29,\n",
       "  47,\n",
       "  53,\n",
       "  24,\n",
       "  21,\n",
       "  1,\n",
       "  9,\n",
       "  6,\n",
       "  19,\n",
       "  17,\n",
       "  12,\n",
       "  42,\n",
       "  8,\n",
       "  46,\n",
       "  45,\n",
       "  41,\n",
       "  36,\n",
       "  27,\n",
       "  25,\n",
       "  26,\n",
       "  3,\n",
       "  50,\n",
       "  0,\n",
       "  22],\n",
       " 'color_list': ['g',\n",
       "  'g',\n",
       "  'g',\n",
       "  'g',\n",
       "  'g',\n",
       "  'g',\n",
       "  'g',\n",
       "  'g',\n",
       "  'g',\n",
       "  'g',\n",
       "  'g',\n",
       "  'g',\n",
       "  'g',\n",
       "  'g',\n",
       "  'g',\n",
       "  'g',\n",
       "  'g',\n",
       "  'g',\n",
       "  'g',\n",
       "  'g',\n",
       "  'g',\n",
       "  'g',\n",
       "  'g',\n",
       "  'g',\n",
       "  'g',\n",
       "  'g',\n",
       "  'g',\n",
       "  'g',\n",
       "  'g',\n",
       "  'g',\n",
       "  'g',\n",
       "  'g',\n",
       "  'g',\n",
       "  'g',\n",
       "  'g',\n",
       "  'g',\n",
       "  'g',\n",
       "  'g',\n",
       "  'g',\n",
       "  'g',\n",
       "  'g',\n",
       "  'g',\n",
       "  'g',\n",
       "  'g',\n",
       "  'g',\n",
       "  'g',\n",
       "  'g',\n",
       "  'g',\n",
       "  'g',\n",
       "  'g',\n",
       "  'g',\n",
       "  'g',\n",
       "  'g',\n",
       "  'g',\n",
       "  'b',\n",
       "  'b',\n",
       "  'b',\n",
       "  'b',\n",
       "  'b']}"
      ]
     },
     "execution_count": 29,
     "metadata": {},
     "output_type": "execute_result"
    },
    {
     "data": {
      "image/png": "[encoded data removed]",
      "text/plain": [
       "<Figure size 1440x720 with 1 Axes>"
      ]
     },
     "metadata": {},
     "output_type": "display_data"
    }
   ],
   "source": [
    "dendrogram(linkage_arr,\n",
    "            orientation='top',\n",
    "            labels=df_piv.index.values,\n",
    "            distance_sort='descending',\n",
    "            show_leaf_counts=True)"
   ]
  },
  {
   "cell_type": "code",
   "execution_count": 30,
   "metadata": {
    "scrolled": false
   },
   "outputs": [
    {
     "name": "stdout",
     "output_type": "stream",
     "text": [
      "2 :  0.05701149425287356\n",
      "3 :  0.05801169590643274\n",
      "4 :  0.05558350401092337\n",
      "5 :  0.05636580948931547\n",
      "6 :  0.053959792742581524\n",
      "7 :  0.047865250450840134\n",
      "8 :  0.009377639039746376\n",
      "9 :  0.0031884642610394117\n",
      "10 :  0.012866546390124306\n",
      "11 :  0.01183734764900544\n",
      "12 :  0.009284312648676485\n",
      "13 :  0.035419109151031775\n",
      "14 :  0.03241757138705969\n",
      "15 :  0.04776637964863575\n",
      "16 :  0.042015619515730344\n",
      "17 :  0.046445590246123276\n",
      "18 :  0.04924042665764425\n",
      "19 :  0.016851602996544313\n",
      "20 :  -0.002824322929381612\n",
      "21 :  -0.007020993493191892\n",
      "22 :  -0.008949160998564961\n",
      "23 :  -0.01450471655412051\n",
      "24 :  -0.04812954660922455\n",
      "25 :  -0.05736326308432034\n",
      "26 :  -0.06426947174947492\n",
      "27 :  -0.07005691828931519\n",
      "28 :  -0.09365643030027647\n",
      "29 :  -0.10532692716487749\n",
      "30 :  -0.04782761043353115\n",
      "31 :  -0.05087127354350925\n",
      "32 :  -0.01842502891139269\n",
      "33 :  -0.02013058498479759\n",
      "34 :  -0.02768694677891489\n",
      "35 :  -0.019969423592859328\n",
      "36 :  -0.017481517439013723\n",
      "37 :  0.06626595766218407\n",
      "38 :  0.07359525484525484\n",
      "39 :  0.08552441431117902\n",
      "40 :  0.07498161787723898\n",
      "41 :  0.12454834054834055\n",
      "42 :  0.11132978132978133\n",
      "43 :  0.11609168609168609\n",
      "44 :  0.11053613053613055\n",
      "45 :  0.08775835275835275\n",
      "46 :  0.06275835275835276\n",
      "47 :  0.06275835275835276\n",
      "48 :  0.043313908313908314\n",
      "49 :  0.036356837606837604\n",
      "50 :  0.005106837606837603\n",
      "51 :  0.015940170940170934\n",
      "52 :  0.02427350427350427\n",
      "53 :  0.02427350427350427\n",
      "54 :  0.0076068376068376044\n",
      "55 :  -0.024183006535947713\n",
      "56 :  -0.026223544973544972\n",
      "57 :  -0.019166666666666665\n",
      "58 :  0.0\n",
      "59 :  0.0\n"
     ]
    }
   ],
   "source": [
    "sil_scores = []\n",
    "for i in range(2, len(dist_mat)):\n",
    "    clusters = AgglomerativeClustering(n_clusters=i, affinity='precomputed', linkage='single')\n",
    "    clusters.fit_predict(dist_mat)\n",
    "\n",
    "    # use metric to measure/compare goodness of clusters based on internal coherence and \n",
    "    # external coupling.\n",
    "    # consider Dunn index. maximise the Dunn index.\n",
    "    # or consider average sillhouette width (maximise). available in sklearn.\n",
    "    from sklearn.metrics import silhouette_score\n",
    "\n",
    "    silhouette_avg = silhouette_score(dist_mat, clusters.labels_, metric='precomputed')\n",
    "    sil_scores.append(silhouette_avg)\n",
    "    print(i, \": \", silhouette_avg)"
   ]
  },
  {
   "cell_type": "code",
   "execution_count": 31,
   "metadata": {},
   "outputs": [
    {
     "name": "stdout",
     "output_type": "stream",
     "text": [
      "max avg silhouette score:  0.12454834054834055\n",
      "nclusters w max avg silhouette score:  41\n"
     ]
    }
   ],
   "source": [
    "sil_scores_arr = np.asarray(sil_scores)\n",
    "print('max avg silhouette score: ', sil_scores_arr.max())\n",
    "optimal_k = np.where(sil_scores_arr == sil_scores_arr.max())[0][0] + 2\n",
    "print('nclusters w max avg silhouette score: ', optimal_k)"
   ]
  },
  {
   "cell_type": "code",
   "execution_count": 32,
   "metadata": {},
   "outputs": [
    {
     "name": "stdout",
     "output_type": "stream",
     "text": [
      "cluster 0 (size 8):\n",
      "[ 8 25 26 27 36 41 45 46]\n"
     ]
    },
    {
     "data": {
      "text/plain": [
       "'Find your focus, stay with it and develop perseverance.'"
      ]
     },
     "metadata": {},
     "output_type": "display_data"
    },
    {
     "data": {
      "text/plain": [
       "'There is a tendency to scratch the surface with the things that strike your interest without learning anything very deeply.'"
      ]
     },
     "metadata": {},
     "output_type": "display_data"
    },
    {
     "data": {
      "text/plain": [
       "'There is danger, then, of superficiality.'"
      ]
     },
     "metadata": {},
     "output_type": "display_data"
    },
    {
     "data": {
      "text/plain": [
       "'This is the jack-of-all-trades, master-of-none position.'"
      ]
     },
     "metadata": {},
     "output_type": "display_data"
    },
    {
     "data": {
      "text/plain": [
       "'You are quick to grasp new concepts and equally quick to lose interest in an idea or project once your curiosity has been satisfied.'"
      ]
     },
     "metadata": {},
     "output_type": "display_data"
    },
    {
     "data": {
      "text/plain": [
       "\"You grasp concepts easily and may become impatient with those who don't learn as quickly.\""
      ]
     },
     "metadata": {},
     "output_type": "display_data"
    },
    {
     "data": {
      "text/plain": [
       "'You like to taste a little bit of everything – concentration and disciplined study are not your strong points.'"
      ]
     },
     "metadata": {},
     "output_type": "display_data"
    },
    {
     "data": {
      "text/plain": [
       "'You love being involved in multiple things at once and this may be a problem – too may irons in the fire at the same time.'"
      ]
     },
     "metadata": {},
     "output_type": "display_data"
    },
    {
     "name": "stdout",
     "output_type": "stream",
     "text": [
      "\n",
      "\n",
      "cluster 1 (size 3):\n",
      "[ 0 22 50]\n"
     ]
    },
    {
     "data": {
      "text/plain": [
       "'Anyone who lives with you must accept your ups and downs and appreciate your need for times of withdrawal.'"
      ]
     },
     "metadata": {},
     "output_type": "display_data"
    },
    {
     "data": {
      "text/plain": [
       "'Security is very important to you and you look for it in your home and family life.'"
      ]
     },
     "metadata": {},
     "output_type": "display_data"
    },
    {
     "data": {
      "text/plain": [
       "\"You often appear irrational to others because you can't always explain the reason or source of your feelings.\""
      ]
     },
     "metadata": {},
     "output_type": "display_data"
    },
    {
     "name": "stdout",
     "output_type": "stream",
     "text": [
      "\n",
      "\n",
      "cluster 2 (size 2):\n",
      "[31 59]\n"
     ]
    },
    {
     "data": {
      "text/plain": [
       "'You are also very sympathetic and understand the unspoken feelings and needs of others.'"
      ]
     },
     "metadata": {},
     "output_type": "display_data"
    },
    {
     "data": {
      "text/plain": [
       "'Your senses and emotions are quite strong and it would be wise for you to listen to your intuitive side as you can be quite psychic.'"
      ]
     },
     "metadata": {},
     "output_type": "display_data"
    },
    {
     "name": "stdout",
     "output_type": "stream",
     "text": [
      "\n",
      "\n",
      "cluster 3 (size 2):\n",
      "[ 7 43]\n"
     ]
    },
    {
     "data": {
      "text/plain": [
       "'Exercise is a good way to release this tension.'"
      ]
     },
     "metadata": {},
     "output_type": "display_data"
    },
    {
     "data": {
      "text/plain": [
       "'You have so much nervous energy that this can sometimes cause great stress which must find an appropriate release.'"
      ]
     },
     "metadata": {},
     "output_type": "display_data"
    },
    {
     "name": "stdout",
     "output_type": "stream",
     "text": [
      "\n",
      "\n",
      "cluster 4 (size 2):\n",
      "[12 42]\n"
     ]
    },
    {
     "data": {
      "text/plain": [
       "'If you have Mercury in Gemini, you have an extremely adaptable, energetic, active, alert, curious, and versatile mind.'"
      ]
     },
     "metadata": {},
     "output_type": "display_data"
    },
    {
     "data": {
      "text/plain": [
       "'You have an ingenious, active and alert mind.'"
      ]
     },
     "metadata": {},
     "output_type": "display_data"
    },
    {
     "name": "stdout",
     "output_type": "stream",
     "text": [
      "\n",
      "\n",
      "cluster 5 (size 1):\n",
      "[58]\n"
     ]
    },
    {
     "data": {
      "text/plain": [
       "'Your mother is/was a strong influence for good or ill in your life.'"
      ]
     },
     "metadata": {},
     "output_type": "display_data"
    },
    {
     "name": "stdout",
     "output_type": "stream",
     "text": [
      "\n",
      "\n",
      "cluster 6 (size 3):\n",
      "[14 20 52]\n"
     ]
    },
    {
     "data": {
      "text/plain": [
       "'If you have the Moon in Cancer, you very easily respond to the emotional environment in which you are placed.'"
      ]
     },
     "metadata": {},
     "output_type": "display_data"
    },
    {
     "data": {
      "text/plain": [
       "'Perhaps this is why you so easily become moody, irritable and inconstant in thought and feeling.'"
      ]
     },
     "metadata": {},
     "output_type": "display_data"
    },
    {
     "data": {
      "text/plain": [
       "'You soak up feelings like a sponge.'"
      ]
     },
     "metadata": {},
     "output_type": "display_data"
    },
    {
     "name": "stdout",
     "output_type": "stream",
     "text": [
      "\n",
      "\n",
      "cluster 7 (size 1):\n",
      "[56]\n"
     ]
    },
    {
     "data": {
      "text/plain": [
       "'You tend to look younger than you really are, no matter what your age.'"
      ]
     },
     "metadata": {},
     "output_type": "display_data"
    },
    {
     "name": "stdout",
     "output_type": "stream",
     "text": [
      "\n",
      "\n",
      "cluster 8 (size 6):\n",
      "[ 1  9 21 24 47 53]\n"
     ]
    },
    {
     "data": {
      "text/plain": [
       "'At times others can never be \"good\" enough to meet those high standards.'"
      ]
     },
     "metadata": {},
     "output_type": "display_data"
    },
    {
     "data": {
      "text/plain": [
       "\"Finding fault with what's wrong with things is your forte.\""
      ]
     },
     "metadata": {},
     "output_type": "display_data"
    },
    {
     "data": {
      "text/plain": [
       "'Pessimism and being too self-critical are two faults you should try to improve upon.'"
      ]
     },
     "metadata": {},
     "output_type": "display_data"
    },
    {
     "data": {
      "text/plain": [
       "'Sometimes, though, this can make relationships sour as you often turn your critical eye on the one you love and the things they do.'"
      ]
     },
     "metadata": {},
     "output_type": "display_data"
    },
    {
     "data": {
      "text/plain": [
       "'You may tend to worry too much, especially about the small stuff, the little details.'"
      ]
     },
     "metadata": {},
     "output_type": "display_data"
    },
    {
     "data": {
      "text/plain": [
       "'You strive for perfection and can be quite the person to live with or to be around because your standards for yourself and others are so high.'"
      ]
     },
     "metadata": {},
     "output_type": "display_data"
    },
    {
     "name": "stdout",
     "output_type": "stream",
     "text": [
      "\n",
      "\n",
      "cluster 9 (size 1):\n",
      "[57]\n"
     ]
    },
    {
     "data": {
      "text/plain": [
       "'Your greatest need is to nurture and mother someone or ones.'"
      ]
     },
     "metadata": {},
     "output_type": "display_data"
    },
    {
     "name": "stdout",
     "output_type": "stream",
     "text": [
      "\n",
      "\n",
      "cluster 10 (size 1):\n",
      "[37]\n"
     ]
    },
    {
     "data": {
      "text/plain": [
       "'You are tremendously responsive to beauty and physical appearances, and the physical attractiveness of your partner is very important to you.'"
      ]
     },
     "metadata": {},
     "output_type": "display_data"
    },
    {
     "name": "stdout",
     "output_type": "stream",
     "text": [
      "\n",
      "\n",
      "cluster 11 (size 1):\n",
      "[51]\n"
     ]
    },
    {
     "data": {
      "text/plain": [
       "'You seek knowledge, either through reading or conversation, or through travel and talking with the new people you constantly meet.'"
      ]
     },
     "metadata": {},
     "output_type": "display_data"
    },
    {
     "name": "stdout",
     "output_type": "stream",
     "text": [
      "\n",
      "\n",
      "cluster 12 (size 1):\n",
      "[54]\n"
     ]
    },
    {
     "data": {
      "text/plain": [
       "'You take slights very personally and though you may forgive a mistake by a friend or loved one, you never forget it.'"
      ]
     },
     "metadata": {},
     "output_type": "display_data"
    },
    {
     "name": "stdout",
     "output_type": "stream",
     "text": [
      "\n",
      "\n",
      "cluster 13 (size 1):\n",
      "[39]\n"
     ]
    },
    {
     "data": {
      "text/plain": [
       "'You are very tenacious and you do not give up or let go of things or people easily.'"
      ]
     },
     "metadata": {},
     "output_type": "display_data"
    },
    {
     "name": "stdout",
     "output_type": "stream",
     "text": [
      "\n",
      "\n",
      "cluster 14 (size 1):\n",
      "[49]\n"
     ]
    },
    {
     "data": {
      "text/plain": [
       "'You need to learn to digest every experience and assimilate it without bitterness, regret, spite or resentment.'"
      ]
     },
     "metadata": {},
     "output_type": "display_data"
    },
    {
     "name": "stdout",
     "output_type": "stream",
     "text": [
      "\n",
      "\n",
      "cluster 15 (size 1):\n",
      "[38]\n"
     ]
    },
    {
     "data": {
      "text/plain": [
       "'You are very restless and nervous, so you seldom have much weight on you.'"
      ]
     },
     "metadata": {},
     "output_type": "display_data"
    },
    {
     "name": "stdout",
     "output_type": "stream",
     "text": [
      "\n",
      "\n",
      "cluster 16 (size 1):\n",
      "[33]\n"
     ]
    },
    {
     "data": {
      "text/plain": [
       "'You are clever, witty, and always have a joke or comeback ready for any situation.'"
      ]
     },
     "metadata": {},
     "output_type": "display_data"
    },
    {
     "name": "stdout",
     "output_type": "stream",
     "text": [
      "\n",
      "\n",
      "cluster 17 (size 1):\n",
      "[35]\n"
     ]
    },
    {
     "data": {
      "text/plain": [
       "'You are oriented towards the sensual side of life in everything you do and it may show through too much weight.'"
      ]
     },
     "metadata": {},
     "output_type": "display_data"
    },
    {
     "name": "stdout",
     "output_type": "stream",
     "text": [
      "\n",
      "\n",
      "cluster 18 (size 1):\n",
      "[19]\n"
     ]
    },
    {
     "data": {
      "text/plain": [
       "'People with Virgo rising tend to be practical, analytical, discriminating, fastidious, careful, exacting, attentive to details, methodical, quiet, unassuming, shy, critical, thoughtful, and somewhat self-centered.'"
      ]
     },
     "metadata": {},
     "output_type": "display_data"
    },
    {
     "name": "stdout",
     "output_type": "stream",
     "text": [
      "\n",
      "\n",
      "cluster 19 (size 1):\n",
      "[55]\n"
     ]
    },
    {
     "data": {
      "text/plain": [
       "'You tend to be a pack-rat because everything has an emotional memory behind it and you find security in all those memories.'"
      ]
     },
     "metadata": {},
     "output_type": "display_data"
    },
    {
     "name": "stdout",
     "output_type": "stream",
     "text": [
      "\n",
      "\n",
      "cluster 20 (size 1):\n",
      "[40]\n"
     ]
    },
    {
     "data": {
      "text/plain": [
       "'You enjoy indulging yourself and the ones you love and it is too easy for you to be extravagant and perhaps to put too much value in material things.'"
      ]
     },
     "metadata": {},
     "output_type": "display_data"
    },
    {
     "name": "stdout",
     "output_type": "stream",
     "text": [
      "\n",
      "\n",
      "cluster 21 (size 1):\n",
      "[11]\n"
     ]
    },
    {
     "data": {
      "text/plain": [
       "'Guard against possessiveness, jealousy, and taking the easy way out in your relationships.'"
      ]
     },
     "metadata": {},
     "output_type": "display_data"
    },
    {
     "name": "stdout",
     "output_type": "stream",
     "text": [
      "\n",
      "\n",
      "cluster 22 (size 1):\n",
      "[4]\n"
     ]
    },
    {
     "data": {
      "text/plain": [
       "'Comfort is important to you and you hate getting your hands dirty.'"
      ]
     },
     "metadata": {},
     "output_type": "display_data"
    },
    {
     "name": "stdout",
     "output_type": "stream",
     "text": [
      "\n",
      "\n",
      "cluster 23 (size 1):\n",
      "[2]\n"
     ]
    },
    {
     "data": {
      "text/plain": [
       "'At times you can be lazy, hoping or expecting someone else to do the dirty work.'"
      ]
     },
     "metadata": {},
     "output_type": "display_data"
    },
    {
     "name": "stdout",
     "output_type": "stream",
     "text": [
      "\n",
      "\n",
      "cluster 24 (size 1):\n",
      "[10]\n"
     ]
    },
    {
     "data": {
      "text/plain": [
       "'Gaining knowledge and putting it to good use are important to you.'"
      ]
     },
     "metadata": {},
     "output_type": "display_data"
    },
    {
     "name": "stdout",
     "output_type": "stream",
     "text": [
      "\n",
      "\n",
      "cluster 25 (size 1):\n",
      "[13]\n"
     ]
    },
    {
     "data": {
      "text/plain": [
       "'If you have Venus in Taurus, in love affairs you are generally loyal and steady, especially if your partner is demonstrative and affectionate.'"
      ]
     },
     "metadata": {},
     "output_type": "display_data"
    },
    {
     "name": "stdout",
     "output_type": "stream",
     "text": [
      "\n",
      "\n",
      "cluster 26 (size 1):\n",
      "[44]\n"
     ]
    },
    {
     "data": {
      "text/plain": [
       "'You have the memory of an elephant, but you must learn to forgive and forget past hurts.'"
      ]
     },
     "metadata": {},
     "output_type": "display_data"
    },
    {
     "name": "stdout",
     "output_type": "stream",
     "text": [
      "\n",
      "\n",
      "cluster 27 (size 1):\n",
      "[32]\n"
     ]
    },
    {
     "data": {
      "text/plain": [
       "'You are basically an introvert, but will do whatever it takes to protect and defend your family or loved ones.'"
      ]
     },
     "metadata": {},
     "output_type": "display_data"
    },
    {
     "name": "stdout",
     "output_type": "stream",
     "text": [
      "\n",
      "\n",
      "cluster 28 (size 1):\n",
      "[16]\n"
     ]
    },
    {
     "data": {
      "text/plain": [
       "'Learning to control your own moods may be very difficult, yet necessary, for you.'"
      ]
     },
     "metadata": {},
     "output_type": "display_data"
    },
    {
     "name": "stdout",
     "output_type": "stream",
     "text": [
      "\n",
      "\n",
      "cluster 29 (size 1):\n",
      "[34]\n"
     ]
    },
    {
     "data": {
      "text/plain": [
       "'You are handy with your hands and may be ambidextrous or mechanically inclined.'"
      ]
     },
     "metadata": {},
     "output_type": "display_data"
    },
    {
     "name": "stdout",
     "output_type": "stream",
     "text": [
      "\n",
      "\n",
      "cluster 30 (size 1):\n",
      "[48]\n"
     ]
    },
    {
     "data": {
      "text/plain": [
       "'You need to get rid of any negativity that stems from a feeling of inadequacy.'"
      ]
     },
     "metadata": {},
     "output_type": "display_data"
    },
    {
     "name": "stdout",
     "output_type": "stream",
     "text": [
      "\n",
      "\n",
      "cluster 31 (size 1):\n",
      "[18]\n"
     ]
    },
    {
     "data": {
      "text/plain": [
       "'Nothing or no one is ever gone if they leave their memory behind.'"
      ]
     },
     "metadata": {},
     "output_type": "display_data"
    },
    {
     "name": "stdout",
     "output_type": "stream",
     "text": [
      "\n",
      "\n",
      "cluster 32 (size 1):\n",
      "[23]\n"
     ]
    },
    {
     "data": {
      "text/plain": [
       "'Self-control needs to be developed and added to the qualifications you already possess -warmth, charm, sympathy, artistic.'"
      ]
     },
     "metadata": {},
     "output_type": "display_data"
    },
    {
     "name": "stdout",
     "output_type": "stream",
     "text": [
      "\n",
      "\n",
      "cluster 33 (size 1):\n",
      "[15]\n"
     ]
    },
    {
     "data": {
      "text/plain": [
       "'Journalism, speaking, teaching, sales, advertising, or writing may appeal to you.'"
      ]
     },
     "metadata": {},
     "output_type": "display_data"
    },
    {
     "name": "stdout",
     "output_type": "stream",
     "text": [
      "\n",
      "\n",
      "cluster 34 (size 1):\n",
      "[5]\n"
     ]
    },
    {
     "data": {
      "text/plain": [
       "'Control of thought, word, and action is necessary in order to be successful.'"
      ]
     },
     "metadata": {},
     "output_type": "display_data"
    },
    {
     "name": "stdout",
     "output_type": "stream",
     "text": [
      "\n",
      "\n",
      "cluster 35 (size 1):\n",
      "[29]\n"
     ]
    },
    {
     "data": {
      "text/plain": [
       "'Too much worry can lead to health problems.'"
      ]
     },
     "metadata": {},
     "output_type": "display_data"
    },
    {
     "name": "stdout",
     "output_type": "stream",
     "text": [
      "\n",
      "\n",
      "cluster 36 (size 1):\n",
      "[30]\n"
     ]
    },
    {
     "data": {
      "text/plain": [
       "'You aim to please in practical and earthy ways.'"
      ]
     },
     "metadata": {},
     "output_type": "display_data"
    },
    {
     "name": "stdout",
     "output_type": "stream",
     "text": [
      "\n",
      "\n",
      "cluster 37 (size 1):\n",
      "[3]\n"
     ]
    },
    {
     "data": {
      "text/plain": [
       "'At times you can be very indecisive and unsure.'"
      ]
     },
     "metadata": {},
     "output_type": "display_data"
    },
    {
     "name": "stdout",
     "output_type": "stream",
     "text": [
      "\n",
      "\n",
      "cluster 38 (size 1):\n",
      "[6]\n"
     ]
    },
    {
     "data": {
      "text/plain": [
       "'Debate and argument appeal to you.'"
      ]
     },
     "metadata": {},
     "output_type": "display_data"
    },
    {
     "name": "stdout",
     "output_type": "stream",
     "text": [
      "\n",
      "\n",
      "cluster 39 (size 1):\n",
      "[17]\n"
     ]
    },
    {
     "data": {
      "text/plain": [
       "'Mentally restless, you may change jobs or locations frequently, or do work that involves movement, travel, and variety.'"
      ]
     },
     "metadata": {},
     "output_type": "display_data"
    },
    {
     "name": "stdout",
     "output_type": "stream",
     "text": [
      "\n",
      "\n",
      "cluster 40 (size 1):\n",
      "[28]\n"
     ]
    },
    {
     "data": {
      "text/plain": [
       "'Thus, you can become quite possessive.'"
      ]
     },
     "metadata": {},
     "output_type": "display_data"
    },
    {
     "name": "stdout",
     "output_type": "stream",
     "text": [
      "\n",
      "\n"
     ]
    }
   ],
   "source": [
    "clusters = AgglomerativeClustering(n_clusters=optimal_k, affinity='precomputed', linkage='single')\n",
    "clusters.fit_predict(dist_mat)\n",
    "for i in range(clusters.n_clusters_):\n",
    "    indices = np.where(clusters.labels_ == i)[0]\n",
    "    \n",
    "    print(f'cluster {i} (size {len(indices)}):')\n",
    "    print(indices)\n",
    "    for idx in indices:\n",
    "        display(df_piv.index[idx])\n",
    "    print('\\n')"
   ]
  },
  {
   "cell_type": "markdown",
   "metadata": {},
   "source": [
    "If we use the cutting method on the dengrogram generated much earlier, then we'll end up with 6, 19, 44 or 60 clusters depending on where we cut. However, for the lower number of clusters (e.g. 6 or 19, the cluster sizes are highly imbalanced). We should take a closer look at the contents of the clusters formed."
   ]
  },
  {
   "cell_type": "code",
   "execution_count": 33,
   "metadata": {},
   "outputs": [
    {
     "name": "stdout",
     "output_type": "stream",
     "text": [
      "------\n",
      "\n",
      "6\n",
      "cluster 0 (size 55):\n",
      "[ 0  1  2  3  4  5  6  7  8  9 10 11 12 14 15 16 17 19 20 21 22 23 24 25\n",
      " 26 27 28 29 30 31 32 33 35 36 37 38 39 40 41 42 43 44 45 46 47 48 49 50\n",
      " 51 52 53 54 57 58 59]\n"
     ]
    },
    {
     "data": {
      "text/plain": [
       "'Anyone who lives with you must accept your ups and downs and appreciate your need for times of withdrawal.'"
      ]
     },
     "metadata": {},
     "output_type": "display_data"
    },
    {
     "data": {
      "text/plain": [
       "'At times others can never be \"good\" enough to meet those high standards.'"
      ]
     },
     "metadata": {},
     "output_type": "display_data"
    },
    {
     "data": {
      "text/plain": [
       "'At times you can be lazy, hoping or expecting someone else to do the dirty work.'"
      ]
     },
     "metadata": {},
     "output_type": "display_data"
    },
    {
     "data": {
      "text/plain": [
       "'At times you can be very indecisive and unsure.'"
      ]
     },
     "metadata": {},
     "output_type": "display_data"
    },
    {
     "data": {
      "text/plain": [
       "'Comfort is important to you and you hate getting your hands dirty.'"
      ]
     },
     "metadata": {},
     "output_type": "display_data"
    },
    {
     "data": {
      "text/plain": [
       "'Control of thought, word, and action is necessary in order to be successful.'"
      ]
     },
     "metadata": {},
     "output_type": "display_data"
    },
    {
     "data": {
      "text/plain": [
       "'Debate and argument appeal to you.'"
      ]
     },
     "metadata": {},
     "output_type": "display_data"
    },
    {
     "data": {
      "text/plain": [
       "'Exercise is a good way to release this tension.'"
      ]
     },
     "metadata": {},
     "output_type": "display_data"
    },
    {
     "data": {
      "text/plain": [
       "'Find your focus, stay with it and develop perseverance.'"
      ]
     },
     "metadata": {},
     "output_type": "display_data"
    },
    {
     "data": {
      "text/plain": [
       "\"Finding fault with what's wrong with things is your forte.\""
      ]
     },
     "metadata": {},
     "output_type": "display_data"
    },
    {
     "data": {
      "text/plain": [
       "'Gaining knowledge and putting it to good use are important to you.'"
      ]
     },
     "metadata": {},
     "output_type": "display_data"
    },
    {
     "data": {
      "text/plain": [
       "'Guard against possessiveness, jealousy, and taking the easy way out in your relationships.'"
      ]
     },
     "metadata": {},
     "output_type": "display_data"
    },
    {
     "data": {
      "text/plain": [
       "'If you have Mercury in Gemini, you have an extremely adaptable, energetic, active, alert, curious, and versatile mind.'"
      ]
     },
     "metadata": {},
     "output_type": "display_data"
    },
    {
     "data": {
      "text/plain": [
       "'If you have the Moon in Cancer, you very easily respond to the emotional environment in which you are placed.'"
      ]
     },
     "metadata": {},
     "output_type": "display_data"
    },
    {
     "data": {
      "text/plain": [
       "'Journalism, speaking, teaching, sales, advertising, or writing may appeal to you.'"
      ]
     },
     "metadata": {},
     "output_type": "display_data"
    },
    {
     "data": {
      "text/plain": [
       "'Learning to control your own moods may be very difficult, yet necessary, for you.'"
      ]
     },
     "metadata": {},
     "output_type": "display_data"
    },
    {
     "data": {
      "text/plain": [
       "'Mentally restless, you may change jobs or locations frequently, or do work that involves movement, travel, and variety.'"
      ]
     },
     "metadata": {},
     "output_type": "display_data"
    },
    {
     "data": {
      "text/plain": [
       "'People with Virgo rising tend to be practical, analytical, discriminating, fastidious, careful, exacting, attentive to details, methodical, quiet, unassuming, shy, critical, thoughtful, and somewhat self-centered.'"
      ]
     },
     "metadata": {},
     "output_type": "display_data"
    },
    {
     "data": {
      "text/plain": [
       "'Perhaps this is why you so easily become moody, irritable and inconstant in thought and feeling.'"
      ]
     },
     "metadata": {},
     "output_type": "display_data"
    },
    {
     "data": {
      "text/plain": [
       "'Pessimism and being too self-critical are two faults you should try to improve upon.'"
      ]
     },
     "metadata": {},
     "output_type": "display_data"
    },
    {
     "data": {
      "text/plain": [
       "'Security is very important to you and you look for it in your home and family life.'"
      ]
     },
     "metadata": {},
     "output_type": "display_data"
    },
    {
     "data": {
      "text/plain": [
       "'Self-control needs to be developed and added to the qualifications you already possess -warmth, charm, sympathy, artistic.'"
      ]
     },
     "metadata": {},
     "output_type": "display_data"
    },
    {
     "data": {
      "text/plain": [
       "'Sometimes, though, this can make relationships sour as you often turn your critical eye on the one you love and the things they do.'"
      ]
     },
     "metadata": {},
     "output_type": "display_data"
    },
    {
     "data": {
      "text/plain": [
       "'There is a tendency to scratch the surface with the things that strike your interest without learning anything very deeply.'"
      ]
     },
     "metadata": {},
     "output_type": "display_data"
    },
    {
     "data": {
      "text/plain": [
       "'There is danger, then, of superficiality.'"
      ]
     },
     "metadata": {},
     "output_type": "display_data"
    },
    {
     "data": {
      "text/plain": [
       "'This is the jack-of-all-trades, master-of-none position.'"
      ]
     },
     "metadata": {},
     "output_type": "display_data"
    },
    {
     "data": {
      "text/plain": [
       "'Thus, you can become quite possessive.'"
      ]
     },
     "metadata": {},
     "output_type": "display_data"
    },
    {
     "data": {
      "text/plain": [
       "'Too much worry can lead to health problems.'"
      ]
     },
     "metadata": {},
     "output_type": "display_data"
    },
    {
     "data": {
      "text/plain": [
       "'You aim to please in practical and earthy ways.'"
      ]
     },
     "metadata": {},
     "output_type": "display_data"
    },
    {
     "data": {
      "text/plain": [
       "'You are also very sympathetic and understand the unspoken feelings and needs of others.'"
      ]
     },
     "metadata": {},
     "output_type": "display_data"
    },
    {
     "data": {
      "text/plain": [
       "'You are basically an introvert, but will do whatever it takes to protect and defend your family or loved ones.'"
      ]
     },
     "metadata": {},
     "output_type": "display_data"
    },
    {
     "data": {
      "text/plain": [
       "'You are clever, witty, and always have a joke or comeback ready for any situation.'"
      ]
     },
     "metadata": {},
     "output_type": "display_data"
    },
    {
     "data": {
      "text/plain": [
       "'You are oriented towards the sensual side of life in everything you do and it may show through too much weight.'"
      ]
     },
     "metadata": {},
     "output_type": "display_data"
    },
    {
     "data": {
      "text/plain": [
       "'You are quick to grasp new concepts and equally quick to lose interest in an idea or project once your curiosity has been satisfied.'"
      ]
     },
     "metadata": {},
     "output_type": "display_data"
    },
    {
     "data": {
      "text/plain": [
       "'You are tremendously responsive to beauty and physical appearances, and the physical attractiveness of your partner is very important to you.'"
      ]
     },
     "metadata": {},
     "output_type": "display_data"
    },
    {
     "data": {
      "text/plain": [
       "'You are very restless and nervous, so you seldom have much weight on you.'"
      ]
     },
     "metadata": {},
     "output_type": "display_data"
    },
    {
     "data": {
      "text/plain": [
       "'You are very tenacious and you do not give up or let go of things or people easily.'"
      ]
     },
     "metadata": {},
     "output_type": "display_data"
    },
    {
     "data": {
      "text/plain": [
       "'You enjoy indulging yourself and the ones you love and it is too easy for you to be extravagant and perhaps to put too much value in material things.'"
      ]
     },
     "metadata": {},
     "output_type": "display_data"
    },
    {
     "data": {
      "text/plain": [
       "\"You grasp concepts easily and may become impatient with those who don't learn as quickly.\""
      ]
     },
     "metadata": {},
     "output_type": "display_data"
    },
    {
     "data": {
      "text/plain": [
       "'You have an ingenious, active and alert mind.'"
      ]
     },
     "metadata": {},
     "output_type": "display_data"
    },
    {
     "data": {
      "text/plain": [
       "'You have so much nervous energy that this can sometimes cause great stress which must find an appropriate release.'"
      ]
     },
     "metadata": {},
     "output_type": "display_data"
    },
    {
     "data": {
      "text/plain": [
       "'You have the memory of an elephant, but you must learn to forgive and forget past hurts.'"
      ]
     },
     "metadata": {},
     "output_type": "display_data"
    },
    {
     "data": {
      "text/plain": [
       "'You like to taste a little bit of everything – concentration and disciplined study are not your strong points.'"
      ]
     },
     "metadata": {},
     "output_type": "display_data"
    },
    {
     "data": {
      "text/plain": [
       "'You love being involved in multiple things at once and this may be a problem – too may irons in the fire at the same time.'"
      ]
     },
     "metadata": {},
     "output_type": "display_data"
    },
    {
     "data": {
      "text/plain": [
       "'You may tend to worry too much, especially about the small stuff, the little details.'"
      ]
     },
     "metadata": {},
     "output_type": "display_data"
    },
    {
     "data": {
      "text/plain": [
       "'You need to get rid of any negativity that stems from a feeling of inadequacy.'"
      ]
     },
     "metadata": {},
     "output_type": "display_data"
    },
    {
     "data": {
      "text/plain": [
       "'You need to learn to digest every experience and assimilate it without bitterness, regret, spite or resentment.'"
      ]
     },
     "metadata": {},
     "output_type": "display_data"
    },
    {
     "data": {
      "text/plain": [
       "\"You often appear irrational to others because you can't always explain the reason or source of your feelings.\""
      ]
     },
     "metadata": {},
     "output_type": "display_data"
    },
    {
     "data": {
      "text/plain": [
       "'You seek knowledge, either through reading or conversation, or through travel and talking with the new people you constantly meet.'"
      ]
     },
     "metadata": {},
     "output_type": "display_data"
    },
    {
     "data": {
      "text/plain": [
       "'You soak up feelings like a sponge.'"
      ]
     },
     "metadata": {},
     "output_type": "display_data"
    },
    {
     "data": {
      "text/plain": [
       "'You strive for perfection and can be quite the person to live with or to be around because your standards for yourself and others are so high.'"
      ]
     },
     "metadata": {},
     "output_type": "display_data"
    },
    {
     "data": {
      "text/plain": [
       "'You take slights very personally and though you may forgive a mistake by a friend or loved one, you never forget it.'"
      ]
     },
     "metadata": {},
     "output_type": "display_data"
    },
    {
     "data": {
      "text/plain": [
       "'Your greatest need is to nurture and mother someone or ones.'"
      ]
     },
     "metadata": {},
     "output_type": "display_data"
    },
    {
     "data": {
      "text/plain": [
       "'Your mother is/was a strong influence for good or ill in your life.'"
      ]
     },
     "metadata": {},
     "output_type": "display_data"
    },
    {
     "data": {
      "text/plain": [
       "'Your senses and emotions are quite strong and it would be wise for you to listen to your intuitive side as you can be quite psychic.'"
      ]
     },
     "metadata": {},
     "output_type": "display_data"
    },
    {
     "name": "stdout",
     "output_type": "stream",
     "text": [
      "\n",
      "\n",
      "cluster 1 (size 1):\n",
      "[56]\n"
     ]
    },
    {
     "data": {
      "text/plain": [
       "'You tend to look younger than you really are, no matter what your age.'"
      ]
     },
     "metadata": {},
     "output_type": "display_data"
    },
    {
     "name": "stdout",
     "output_type": "stream",
     "text": [
      "\n",
      "\n",
      "cluster 2 (size 1):\n",
      "[34]\n"
     ]
    },
    {
     "data": {
      "text/plain": [
       "'You are handy with your hands and may be ambidextrous or mechanically inclined.'"
      ]
     },
     "metadata": {},
     "output_type": "display_data"
    },
    {
     "name": "stdout",
     "output_type": "stream",
     "text": [
      "\n",
      "\n",
      "cluster 3 (size 1):\n",
      "[18]\n"
     ]
    },
    {
     "data": {
      "text/plain": [
       "'Nothing or no one is ever gone if they leave their memory behind.'"
      ]
     },
     "metadata": {},
     "output_type": "display_data"
    },
    {
     "name": "stdout",
     "output_type": "stream",
     "text": [
      "\n",
      "\n",
      "cluster 4 (size 1):\n",
      "[55]\n"
     ]
    },
    {
     "data": {
      "text/plain": [
       "'You tend to be a pack-rat because everything has an emotional memory behind it and you find security in all those memories.'"
      ]
     },
     "metadata": {},
     "output_type": "display_data"
    },
    {
     "name": "stdout",
     "output_type": "stream",
     "text": [
      "\n",
      "\n",
      "cluster 5 (size 1):\n",
      "[13]\n"
     ]
    },
    {
     "data": {
      "text/plain": [
       "'If you have Venus in Taurus, in love affairs you are generally loyal and steady, especially if your partner is demonstrative and affectionate.'"
      ]
     },
     "metadata": {},
     "output_type": "display_data"
    },
    {
     "name": "stdout",
     "output_type": "stream",
     "text": [
      "\n",
      "\n",
      "------\n",
      "\n",
      "19\n",
      "cluster 0 (size 2):\n",
      "[28 39]\n"
     ]
    },
    {
     "data": {
      "text/plain": [
       "'Thus, you can become quite possessive.'"
      ]
     },
     "metadata": {},
     "output_type": "display_data"
    },
    {
     "data": {
      "text/plain": [
       "'You are very tenacious and you do not give up or let go of things or people easily.'"
      ]
     },
     "metadata": {},
     "output_type": "display_data"
    },
    {
     "name": "stdout",
     "output_type": "stream",
     "text": [
      "\n",
      "\n",
      "cluster 1 (size 3):\n",
      "[10 15 51]\n"
     ]
    },
    {
     "data": {
      "text/plain": [
       "'Gaining knowledge and putting it to good use are important to you.'"
      ]
     },
     "metadata": {},
     "output_type": "display_data"
    },
    {
     "data": {
      "text/plain": [
       "'Journalism, speaking, teaching, sales, advertising, or writing may appeal to you.'"
      ]
     },
     "metadata": {},
     "output_type": "display_data"
    },
    {
     "data": {
      "text/plain": [
       "'You seek knowledge, either through reading or conversation, or through travel and talking with the new people you constantly meet.'"
      ]
     },
     "metadata": {},
     "output_type": "display_data"
    },
    {
     "name": "stdout",
     "output_type": "stream",
     "text": [
      "\n",
      "\n",
      "cluster 2 (size 4):\n",
      "[ 4 35 37 40]\n"
     ]
    },
    {
     "data": {
      "text/plain": [
       "'Comfort is important to you and you hate getting your hands dirty.'"
      ]
     },
     "metadata": {},
     "output_type": "display_data"
    },
    {
     "data": {
      "text/plain": [
       "'You are oriented towards the sensual side of life in everything you do and it may show through too much weight.'"
      ]
     },
     "metadata": {},
     "output_type": "display_data"
    },
    {
     "data": {
      "text/plain": [
       "'You are tremendously responsive to beauty and physical appearances, and the physical attractiveness of your partner is very important to you.'"
      ]
     },
     "metadata": {},
     "output_type": "display_data"
    },
    {
     "data": {
      "text/plain": [
       "'You enjoy indulging yourself and the ones you love and it is too easy for you to be extravagant and perhaps to put too much value in material things.'"
      ]
     },
     "metadata": {},
     "output_type": "display_data"
    },
    {
     "name": "stdout",
     "output_type": "stream",
     "text": [
      "\n",
      "\n",
      "cluster 3 (size 33):\n",
      "[ 1  5  6  7  8  9 12 14 16 17 19 20 21 24 25 26 27 29 33 36 38 41 42 43\n",
      " 44 45 46 47 48 49 52 53 54]\n"
     ]
    },
    {
     "data": {
      "text/plain": [
       "'At times others can never be \"good\" enough to meet those high standards.'"
      ]
     },
     "metadata": {},
     "output_type": "display_data"
    },
    {
     "data": {
      "text/plain": [
       "'Control of thought, word, and action is necessary in order to be successful.'"
      ]
     },
     "metadata": {},
     "output_type": "display_data"
    },
    {
     "data": {
      "text/plain": [
       "'Debate and argument appeal to you.'"
      ]
     },
     "metadata": {},
     "output_type": "display_data"
    },
    {
     "data": {
      "text/plain": [
       "'Exercise is a good way to release this tension.'"
      ]
     },
     "metadata": {},
     "output_type": "display_data"
    },
    {
     "data": {
      "text/plain": [
       "'Find your focus, stay with it and develop perseverance.'"
      ]
     },
     "metadata": {},
     "output_type": "display_data"
    },
    {
     "data": {
      "text/plain": [
       "\"Finding fault with what's wrong with things is your forte.\""
      ]
     },
     "metadata": {},
     "output_type": "display_data"
    },
    {
     "data": {
      "text/plain": [
       "'If you have Mercury in Gemini, you have an extremely adaptable, energetic, active, alert, curious, and versatile mind.'"
      ]
     },
     "metadata": {},
     "output_type": "display_data"
    },
    {
     "data": {
      "text/plain": [
       "'If you have the Moon in Cancer, you very easily respond to the emotional environment in which you are placed.'"
      ]
     },
     "metadata": {},
     "output_type": "display_data"
    },
    {
     "data": {
      "text/plain": [
       "'Learning to control your own moods may be very difficult, yet necessary, for you.'"
      ]
     },
     "metadata": {},
     "output_type": "display_data"
    },
    {
     "data": {
      "text/plain": [
       "'Mentally restless, you may change jobs or locations frequently, or do work that involves movement, travel, and variety.'"
      ]
     },
     "metadata": {},
     "output_type": "display_data"
    },
    {
     "data": {
      "text/plain": [
       "'People with Virgo rising tend to be practical, analytical, discriminating, fastidious, careful, exacting, attentive to details, methodical, quiet, unassuming, shy, critical, thoughtful, and somewhat self-centered.'"
      ]
     },
     "metadata": {},
     "output_type": "display_data"
    },
    {
     "data": {
      "text/plain": [
       "'Perhaps this is why you so easily become moody, irritable and inconstant in thought and feeling.'"
      ]
     },
     "metadata": {},
     "output_type": "display_data"
    },
    {
     "data": {
      "text/plain": [
       "'Pessimism and being too self-critical are two faults you should try to improve upon.'"
      ]
     },
     "metadata": {},
     "output_type": "display_data"
    },
    {
     "data": {
      "text/plain": [
       "'Sometimes, though, this can make relationships sour as you often turn your critical eye on the one you love and the things they do.'"
      ]
     },
     "metadata": {},
     "output_type": "display_data"
    },
    {
     "data": {
      "text/plain": [
       "'There is a tendency to scratch the surface with the things that strike your interest without learning anything very deeply.'"
      ]
     },
     "metadata": {},
     "output_type": "display_data"
    },
    {
     "data": {
      "text/plain": [
       "'There is danger, then, of superficiality.'"
      ]
     },
     "metadata": {},
     "output_type": "display_data"
    },
    {
     "data": {
      "text/plain": [
       "'This is the jack-of-all-trades, master-of-none position.'"
      ]
     },
     "metadata": {},
     "output_type": "display_data"
    },
    {
     "data": {
      "text/plain": [
       "'Too much worry can lead to health problems.'"
      ]
     },
     "metadata": {},
     "output_type": "display_data"
    },
    {
     "data": {
      "text/plain": [
       "'You are clever, witty, and always have a joke or comeback ready for any situation.'"
      ]
     },
     "metadata": {},
     "output_type": "display_data"
    },
    {
     "data": {
      "text/plain": [
       "'You are quick to grasp new concepts and equally quick to lose interest in an idea or project once your curiosity has been satisfied.'"
      ]
     },
     "metadata": {},
     "output_type": "display_data"
    },
    {
     "data": {
      "text/plain": [
       "'You are very restless and nervous, so you seldom have much weight on you.'"
      ]
     },
     "metadata": {},
     "output_type": "display_data"
    },
    {
     "data": {
      "text/plain": [
       "\"You grasp concepts easily and may become impatient with those who don't learn as quickly.\""
      ]
     },
     "metadata": {},
     "output_type": "display_data"
    },
    {
     "data": {
      "text/plain": [
       "'You have an ingenious, active and alert mind.'"
      ]
     },
     "metadata": {},
     "output_type": "display_data"
    },
    {
     "data": {
      "text/plain": [
       "'You have so much nervous energy that this can sometimes cause great stress which must find an appropriate release.'"
      ]
     },
     "metadata": {},
     "output_type": "display_data"
    },
    {
     "data": {
      "text/plain": [
       "'You have the memory of an elephant, but you must learn to forgive and forget past hurts.'"
      ]
     },
     "metadata": {},
     "output_type": "display_data"
    },
    {
     "data": {
      "text/plain": [
       "'You like to taste a little bit of everything – concentration and disciplined study are not your strong points.'"
      ]
     },
     "metadata": {},
     "output_type": "display_data"
    },
    {
     "data": {
      "text/plain": [
       "'You love being involved in multiple things at once and this may be a problem – too may irons in the fire at the same time.'"
      ]
     },
     "metadata": {},
     "output_type": "display_data"
    },
    {
     "data": {
      "text/plain": [
       "'You may tend to worry too much, especially about the small stuff, the little details.'"
      ]
     },
     "metadata": {},
     "output_type": "display_data"
    },
    {
     "data": {
      "text/plain": [
       "'You need to get rid of any negativity that stems from a feeling of inadequacy.'"
      ]
     },
     "metadata": {},
     "output_type": "display_data"
    },
    {
     "data": {
      "text/plain": [
       "'You need to learn to digest every experience and assimilate it without bitterness, regret, spite or resentment.'"
      ]
     },
     "metadata": {},
     "output_type": "display_data"
    },
    {
     "data": {
      "text/plain": [
       "'You soak up feelings like a sponge.'"
      ]
     },
     "metadata": {},
     "output_type": "display_data"
    },
    {
     "data": {
      "text/plain": [
       "'You strive for perfection and can be quite the person to live with or to be around because your standards for yourself and others are so high.'"
      ]
     },
     "metadata": {},
     "output_type": "display_data"
    },
    {
     "data": {
      "text/plain": [
       "'You take slights very personally and though you may forgive a mistake by a friend or loved one, you never forget it.'"
      ]
     },
     "metadata": {},
     "output_type": "display_data"
    },
    {
     "name": "stdout",
     "output_type": "stream",
     "text": [
      "\n",
      "\n",
      "cluster 4 (size 1):\n",
      "[57]\n"
     ]
    },
    {
     "data": {
      "text/plain": [
       "'Your greatest need is to nurture and mother someone or ones.'"
      ]
     },
     "metadata": {},
     "output_type": "display_data"
    },
    {
     "name": "stdout",
     "output_type": "stream",
     "text": [
      "\n",
      "\n",
      "cluster 5 (size 1):\n",
      "[58]\n"
     ]
    },
    {
     "data": {
      "text/plain": [
       "'Your mother is/was a strong influence for good or ill in your life.'"
      ]
     },
     "metadata": {},
     "output_type": "display_data"
    },
    {
     "name": "stdout",
     "output_type": "stream",
     "text": [
      "\n",
      "\n",
      "cluster 6 (size 2):\n",
      "[31 59]\n"
     ]
    },
    {
     "data": {
      "text/plain": [
       "'You are also very sympathetic and understand the unspoken feelings and needs of others.'"
      ]
     },
     "metadata": {},
     "output_type": "display_data"
    },
    {
     "data": {
      "text/plain": [
       "'Your senses and emotions are quite strong and it would be wise for you to listen to your intuitive side as you can be quite psychic.'"
      ]
     },
     "metadata": {},
     "output_type": "display_data"
    },
    {
     "name": "stdout",
     "output_type": "stream",
     "text": [
      "\n",
      "\n",
      "cluster 7 (size 1):\n",
      "[56]\n"
     ]
    },
    {
     "data": {
      "text/plain": [
       "'You tend to look younger than you really are, no matter what your age.'"
      ]
     },
     "metadata": {},
     "output_type": "display_data"
    },
    {
     "name": "stdout",
     "output_type": "stream",
     "text": [
      "\n",
      "\n",
      "cluster 8 (size 3):\n",
      "[ 0 22 50]\n"
     ]
    },
    {
     "data": {
      "text/plain": [
       "'Anyone who lives with you must accept your ups and downs and appreciate your need for times of withdrawal.'"
      ]
     },
     "metadata": {},
     "output_type": "display_data"
    },
    {
     "data": {
      "text/plain": [
       "'Security is very important to you and you look for it in your home and family life.'"
      ]
     },
     "metadata": {},
     "output_type": "display_data"
    },
    {
     "data": {
      "text/plain": [
       "\"You often appear irrational to others because you can't always explain the reason or source of your feelings.\""
      ]
     },
     "metadata": {},
     "output_type": "display_data"
    },
    {
     "name": "stdout",
     "output_type": "stream",
     "text": [
      "\n",
      "\n",
      "cluster 9 (size 1):\n",
      "[55]\n"
     ]
    },
    {
     "data": {
      "text/plain": [
       "'You tend to be a pack-rat because everything has an emotional memory behind it and you find security in all those memories.'"
      ]
     },
     "metadata": {},
     "output_type": "display_data"
    },
    {
     "name": "stdout",
     "output_type": "stream",
     "text": [
      "\n",
      "\n",
      "cluster 10 (size 1):\n",
      "[11]\n"
     ]
    },
    {
     "data": {
      "text/plain": [
       "'Guard against possessiveness, jealousy, and taking the easy way out in your relationships.'"
      ]
     },
     "metadata": {},
     "output_type": "display_data"
    },
    {
     "name": "stdout",
     "output_type": "stream",
     "text": [
      "\n",
      "\n",
      "cluster 11 (size 1):\n",
      "[2]\n"
     ]
    },
    {
     "data": {
      "text/plain": [
       "'At times you can be lazy, hoping or expecting someone else to do the dirty work.'"
      ]
     },
     "metadata": {},
     "output_type": "display_data"
    },
    {
     "name": "stdout",
     "output_type": "stream",
     "text": [
      "\n",
      "\n",
      "cluster 12 (size 1):\n",
      "[13]\n"
     ]
    },
    {
     "data": {
      "text/plain": [
       "'If you have Venus in Taurus, in love affairs you are generally loyal and steady, especially if your partner is demonstrative and affectionate.'"
      ]
     },
     "metadata": {},
     "output_type": "display_data"
    },
    {
     "name": "stdout",
     "output_type": "stream",
     "text": [
      "\n",
      "\n",
      "cluster 13 (size 1):\n",
      "[32]\n"
     ]
    },
    {
     "data": {
      "text/plain": [
       "'You are basically an introvert, but will do whatever it takes to protect and defend your family or loved ones.'"
      ]
     },
     "metadata": {},
     "output_type": "display_data"
    },
    {
     "name": "stdout",
     "output_type": "stream",
     "text": [
      "\n",
      "\n",
      "cluster 14 (size 1):\n",
      "[34]\n"
     ]
    },
    {
     "data": {
      "text/plain": [
       "'You are handy with your hands and may be ambidextrous or mechanically inclined.'"
      ]
     },
     "metadata": {},
     "output_type": "display_data"
    },
    {
     "name": "stdout",
     "output_type": "stream",
     "text": [
      "\n",
      "\n",
      "cluster 15 (size 1):\n",
      "[18]\n"
     ]
    },
    {
     "data": {
      "text/plain": [
       "'Nothing or no one is ever gone if they leave their memory behind.'"
      ]
     },
     "metadata": {},
     "output_type": "display_data"
    },
    {
     "name": "stdout",
     "output_type": "stream",
     "text": [
      "\n",
      "\n",
      "cluster 16 (size 1):\n",
      "[23]\n"
     ]
    },
    {
     "data": {
      "text/plain": [
       "'Self-control needs to be developed and added to the qualifications you already possess -warmth, charm, sympathy, artistic.'"
      ]
     },
     "metadata": {},
     "output_type": "display_data"
    },
    {
     "name": "stdout",
     "output_type": "stream",
     "text": [
      "\n",
      "\n",
      "cluster 17 (size 1):\n",
      "[30]\n"
     ]
    },
    {
     "data": {
      "text/plain": [
       "'You aim to please in practical and earthy ways.'"
      ]
     },
     "metadata": {},
     "output_type": "display_data"
    },
    {
     "name": "stdout",
     "output_type": "stream",
     "text": [
      "\n",
      "\n",
      "cluster 18 (size 1):\n",
      "[3]\n"
     ]
    },
    {
     "data": {
      "text/plain": [
       "'At times you can be very indecisive and unsure.'"
      ]
     },
     "metadata": {},
     "output_type": "display_data"
    },
    {
     "name": "stdout",
     "output_type": "stream",
     "text": [
      "\n",
      "\n",
      "------\n",
      "\n",
      "44\n",
      "cluster 0 (size 2):\n",
      "[31 59]\n"
     ]
    },
    {
     "data": {
      "text/plain": [
       "'You are also very sympathetic and understand the unspoken feelings and needs of others.'"
      ]
     },
     "metadata": {},
     "output_type": "display_data"
    },
    {
     "data": {
      "text/plain": [
       "'Your senses and emotions are quite strong and it would be wise for you to listen to your intuitive side as you can be quite psychic.'"
      ]
     },
     "metadata": {},
     "output_type": "display_data"
    },
    {
     "name": "stdout",
     "output_type": "stream",
     "text": [
      "\n",
      "\n",
      "cluster 1 (size 2):\n",
      "[ 7 43]\n"
     ]
    },
    {
     "data": {
      "text/plain": [
       "'Exercise is a good way to release this tension.'"
      ]
     },
     "metadata": {},
     "output_type": "display_data"
    },
    {
     "data": {
      "text/plain": [
       "'You have so much nervous energy that this can sometimes cause great stress which must find an appropriate release.'"
      ]
     },
     "metadata": {},
     "output_type": "display_data"
    },
    {
     "name": "stdout",
     "output_type": "stream",
     "text": [
      "\n",
      "\n",
      "cluster 2 (size 3):\n",
      "[14 20 52]\n"
     ]
    },
    {
     "data": {
      "text/plain": [
       "'If you have the Moon in Cancer, you very easily respond to the emotional environment in which you are placed.'"
      ]
     },
     "metadata": {},
     "output_type": "display_data"
    },
    {
     "data": {
      "text/plain": [
       "'Perhaps this is why you so easily become moody, irritable and inconstant in thought and feeling.'"
      ]
     },
     "metadata": {},
     "output_type": "display_data"
    },
    {
     "data": {
      "text/plain": [
       "'You soak up feelings like a sponge.'"
      ]
     },
     "metadata": {},
     "output_type": "display_data"
    },
    {
     "name": "stdout",
     "output_type": "stream",
     "text": [
      "\n",
      "\n",
      "cluster 3 (size 6):\n",
      "[ 1  9 21 24 47 53]\n"
     ]
    },
    {
     "data": {
      "text/plain": [
       "'At times others can never be \"good\" enough to meet those high standards.'"
      ]
     },
     "metadata": {},
     "output_type": "display_data"
    },
    {
     "data": {
      "text/plain": [
       "\"Finding fault with what's wrong with things is your forte.\""
      ]
     },
     "metadata": {},
     "output_type": "display_data"
    },
    {
     "data": {
      "text/plain": [
       "'Pessimism and being too self-critical are two faults you should try to improve upon.'"
      ]
     },
     "metadata": {},
     "output_type": "display_data"
    },
    {
     "data": {
      "text/plain": [
       "'Sometimes, though, this can make relationships sour as you often turn your critical eye on the one you love and the things they do.'"
      ]
     },
     "metadata": {},
     "output_type": "display_data"
    },
    {
     "data": {
      "text/plain": [
       "'You may tend to worry too much, especially about the small stuff, the little details.'"
      ]
     },
     "metadata": {},
     "output_type": "display_data"
    },
    {
     "data": {
      "text/plain": [
       "'You strive for perfection and can be quite the person to live with or to be around because your standards for yourself and others are so high.'"
      ]
     },
     "metadata": {},
     "output_type": "display_data"
    },
    {
     "name": "stdout",
     "output_type": "stream",
     "text": [
      "\n",
      "\n",
      "cluster 4 (size 2):\n",
      "[12 42]\n"
     ]
    },
    {
     "data": {
      "text/plain": [
       "'If you have Mercury in Gemini, you have an extremely adaptable, energetic, active, alert, curious, and versatile mind.'"
      ]
     },
     "metadata": {},
     "output_type": "display_data"
    },
    {
     "data": {
      "text/plain": [
       "'You have an ingenious, active and alert mind.'"
      ]
     },
     "metadata": {},
     "output_type": "display_data"
    },
    {
     "name": "stdout",
     "output_type": "stream",
     "text": [
      "\n",
      "\n",
      "cluster 5 (size 1):\n",
      "[58]\n"
     ]
    },
    {
     "data": {
      "text/plain": [
       "'Your mother is/was a strong influence for good or ill in your life.'"
      ]
     },
     "metadata": {},
     "output_type": "display_data"
    },
    {
     "name": "stdout",
     "output_type": "stream",
     "text": [
      "\n",
      "\n",
      "cluster 6 (size 1):\n",
      "[49]\n"
     ]
    },
    {
     "data": {
      "text/plain": [
       "'You need to learn to digest every experience and assimilate it without bitterness, regret, spite or resentment.'"
      ]
     },
     "metadata": {},
     "output_type": "display_data"
    },
    {
     "name": "stdout",
     "output_type": "stream",
     "text": [
      "\n",
      "\n",
      "cluster 7 (size 1):\n",
      "[56]\n"
     ]
    },
    {
     "data": {
      "text/plain": [
       "'You tend to look younger than you really are, no matter what your age.'"
      ]
     },
     "metadata": {},
     "output_type": "display_data"
    },
    {
     "name": "stdout",
     "output_type": "stream",
     "text": [
      "\n",
      "\n",
      "cluster 8 (size 7):\n",
      "[25 26 27 36 41 45 46]\n"
     ]
    },
    {
     "data": {
      "text/plain": [
       "'There is a tendency to scratch the surface with the things that strike your interest without learning anything very deeply.'"
      ]
     },
     "metadata": {},
     "output_type": "display_data"
    },
    {
     "data": {
      "text/plain": [
       "'There is danger, then, of superficiality.'"
      ]
     },
     "metadata": {},
     "output_type": "display_data"
    },
    {
     "data": {
      "text/plain": [
       "'This is the jack-of-all-trades, master-of-none position.'"
      ]
     },
     "metadata": {},
     "output_type": "display_data"
    },
    {
     "data": {
      "text/plain": [
       "'You are quick to grasp new concepts and equally quick to lose interest in an idea or project once your curiosity has been satisfied.'"
      ]
     },
     "metadata": {},
     "output_type": "display_data"
    },
    {
     "data": {
      "text/plain": [
       "\"You grasp concepts easily and may become impatient with those who don't learn as quickly.\""
      ]
     },
     "metadata": {},
     "output_type": "display_data"
    },
    {
     "data": {
      "text/plain": [
       "'You like to taste a little bit of everything – concentration and disciplined study are not your strong points.'"
      ]
     },
     "metadata": {},
     "output_type": "display_data"
    },
    {
     "data": {
      "text/plain": [
       "'You love being involved in multiple things at once and this may be a problem – too may irons in the fire at the same time.'"
      ]
     },
     "metadata": {},
     "output_type": "display_data"
    },
    {
     "name": "stdout",
     "output_type": "stream",
     "text": [
      "\n",
      "\n",
      "cluster 9 (size 1):\n",
      "[57]\n"
     ]
    },
    {
     "data": {
      "text/plain": [
       "'Your greatest need is to nurture and mother someone or ones.'"
      ]
     },
     "metadata": {},
     "output_type": "display_data"
    },
    {
     "name": "stdout",
     "output_type": "stream",
     "text": [
      "\n",
      "\n",
      "cluster 10 (size 1):\n",
      "[37]\n"
     ]
    },
    {
     "data": {
      "text/plain": [
       "'You are tremendously responsive to beauty and physical appearances, and the physical attractiveness of your partner is very important to you.'"
      ]
     },
     "metadata": {},
     "output_type": "display_data"
    },
    {
     "name": "stdout",
     "output_type": "stream",
     "text": [
      "\n",
      "\n",
      "cluster 11 (size 1):\n",
      "[51]\n"
     ]
    },
    {
     "data": {
      "text/plain": [
       "'You seek knowledge, either through reading or conversation, or through travel and talking with the new people you constantly meet.'"
      ]
     },
     "metadata": {},
     "output_type": "display_data"
    },
    {
     "name": "stdout",
     "output_type": "stream",
     "text": [
      "\n",
      "\n",
      "cluster 12 (size 1):\n",
      "[54]\n"
     ]
    },
    {
     "data": {
      "text/plain": [
       "'You take slights very personally and though you may forgive a mistake by a friend or loved one, you never forget it.'"
      ]
     },
     "metadata": {},
     "output_type": "display_data"
    },
    {
     "name": "stdout",
     "output_type": "stream",
     "text": [
      "\n",
      "\n",
      "cluster 13 (size 1):\n",
      "[39]\n"
     ]
    },
    {
     "data": {
      "text/plain": [
       "'You are very tenacious and you do not give up or let go of things or people easily.'"
      ]
     },
     "metadata": {},
     "output_type": "display_data"
    },
    {
     "name": "stdout",
     "output_type": "stream",
     "text": [
      "\n",
      "\n",
      "cluster 14 (size 1):\n",
      "[48]\n"
     ]
    },
    {
     "data": {
      "text/plain": [
       "'You need to get rid of any negativity that stems from a feeling of inadequacy.'"
      ]
     },
     "metadata": {},
     "output_type": "display_data"
    },
    {
     "name": "stdout",
     "output_type": "stream",
     "text": [
      "\n",
      "\n",
      "cluster 15 (size 1):\n",
      "[38]\n"
     ]
    },
    {
     "data": {
      "text/plain": [
       "'You are very restless and nervous, so you seldom have much weight on you.'"
      ]
     },
     "metadata": {},
     "output_type": "display_data"
    },
    {
     "name": "stdout",
     "output_type": "stream",
     "text": [
      "\n",
      "\n",
      "cluster 16 (size 1):\n",
      "[33]\n"
     ]
    },
    {
     "data": {
      "text/plain": [
       "'You are clever, witty, and always have a joke or comeback ready for any situation.'"
      ]
     },
     "metadata": {},
     "output_type": "display_data"
    },
    {
     "name": "stdout",
     "output_type": "stream",
     "text": [
      "\n",
      "\n",
      "cluster 17 (size 1):\n",
      "[35]\n"
     ]
    },
    {
     "data": {
      "text/plain": [
       "'You are oriented towards the sensual side of life in everything you do and it may show through too much weight.'"
      ]
     },
     "metadata": {},
     "output_type": "display_data"
    },
    {
     "name": "stdout",
     "output_type": "stream",
     "text": [
      "\n",
      "\n",
      "cluster 18 (size 1):\n",
      "[19]\n"
     ]
    },
    {
     "data": {
      "text/plain": [
       "'People with Virgo rising tend to be practical, analytical, discriminating, fastidious, careful, exacting, attentive to details, methodical, quiet, unassuming, shy, critical, thoughtful, and somewhat self-centered.'"
      ]
     },
     "metadata": {},
     "output_type": "display_data"
    },
    {
     "name": "stdout",
     "output_type": "stream",
     "text": [
      "\n",
      "\n",
      "cluster 19 (size 1):\n",
      "[55]\n"
     ]
    },
    {
     "data": {
      "text/plain": [
       "'You tend to be a pack-rat because everything has an emotional memory behind it and you find security in all those memories.'"
      ]
     },
     "metadata": {},
     "output_type": "display_data"
    },
    {
     "name": "stdout",
     "output_type": "stream",
     "text": [
      "\n",
      "\n",
      "cluster 20 (size 1):\n",
      "[50]\n"
     ]
    },
    {
     "data": {
      "text/plain": [
       "\"You often appear irrational to others because you can't always explain the reason or source of your feelings.\""
      ]
     },
     "metadata": {},
     "output_type": "display_data"
    },
    {
     "name": "stdout",
     "output_type": "stream",
     "text": [
      "\n",
      "\n",
      "cluster 21 (size 1):\n",
      "[11]\n"
     ]
    },
    {
     "data": {
      "text/plain": [
       "'Guard against possessiveness, jealousy, and taking the easy way out in your relationships.'"
      ]
     },
     "metadata": {},
     "output_type": "display_data"
    },
    {
     "name": "stdout",
     "output_type": "stream",
     "text": [
      "\n",
      "\n",
      "cluster 22 (size 1):\n",
      "[4]\n"
     ]
    },
    {
     "data": {
      "text/plain": [
       "'Comfort is important to you and you hate getting your hands dirty.'"
      ]
     },
     "metadata": {},
     "output_type": "display_data"
    },
    {
     "name": "stdout",
     "output_type": "stream",
     "text": [
      "\n",
      "\n",
      "cluster 23 (size 1):\n",
      "[2]\n"
     ]
    },
    {
     "data": {
      "text/plain": [
       "'At times you can be lazy, hoping or expecting someone else to do the dirty work.'"
      ]
     },
     "metadata": {},
     "output_type": "display_data"
    },
    {
     "name": "stdout",
     "output_type": "stream",
     "text": [
      "\n",
      "\n",
      "cluster 24 (size 1):\n",
      "[10]\n"
     ]
    },
    {
     "data": {
      "text/plain": [
       "'Gaining knowledge and putting it to good use are important to you.'"
      ]
     },
     "metadata": {},
     "output_type": "display_data"
    },
    {
     "name": "stdout",
     "output_type": "stream",
     "text": [
      "\n",
      "\n",
      "cluster 25 (size 1):\n",
      "[13]\n"
     ]
    },
    {
     "data": {
      "text/plain": [
       "'If you have Venus in Taurus, in love affairs you are generally loyal and steady, especially if your partner is demonstrative and affectionate.'"
      ]
     },
     "metadata": {},
     "output_type": "display_data"
    },
    {
     "name": "stdout",
     "output_type": "stream",
     "text": [
      "\n",
      "\n",
      "cluster 26 (size 1):\n",
      "[44]\n"
     ]
    },
    {
     "data": {
      "text/plain": [
       "'You have the memory of an elephant, but you must learn to forgive and forget past hurts.'"
      ]
     },
     "metadata": {},
     "output_type": "display_data"
    },
    {
     "name": "stdout",
     "output_type": "stream",
     "text": [
      "\n",
      "\n",
      "cluster 27 (size 1):\n",
      "[32]\n"
     ]
    },
    {
     "data": {
      "text/plain": [
       "'You are basically an introvert, but will do whatever it takes to protect and defend your family or loved ones.'"
      ]
     },
     "metadata": {},
     "output_type": "display_data"
    },
    {
     "name": "stdout",
     "output_type": "stream",
     "text": [
      "\n",
      "\n",
      "cluster 28 (size 1):\n",
      "[16]\n"
     ]
    },
    {
     "data": {
      "text/plain": [
       "'Learning to control your own moods may be very difficult, yet necessary, for you.'"
      ]
     },
     "metadata": {},
     "output_type": "display_data"
    },
    {
     "name": "stdout",
     "output_type": "stream",
     "text": [
      "\n",
      "\n",
      "cluster 29 (size 1):\n",
      "[34]\n"
     ]
    },
    {
     "data": {
      "text/plain": [
       "'You are handy with your hands and may be ambidextrous or mechanically inclined.'"
      ]
     },
     "metadata": {},
     "output_type": "display_data"
    },
    {
     "name": "stdout",
     "output_type": "stream",
     "text": [
      "\n",
      "\n",
      "cluster 30 (size 1):\n",
      "[22]\n"
     ]
    },
    {
     "data": {
      "text/plain": [
       "'Security is very important to you and you look for it in your home and family life.'"
      ]
     },
     "metadata": {},
     "output_type": "display_data"
    },
    {
     "name": "stdout",
     "output_type": "stream",
     "text": [
      "\n",
      "\n",
      "cluster 31 (size 1):\n",
      "[18]\n"
     ]
    },
    {
     "data": {
      "text/plain": [
       "'Nothing or no one is ever gone if they leave their memory behind.'"
      ]
     },
     "metadata": {},
     "output_type": "display_data"
    },
    {
     "name": "stdout",
     "output_type": "stream",
     "text": [
      "\n",
      "\n",
      "cluster 32 (size 1):\n",
      "[23]\n"
     ]
    },
    {
     "data": {
      "text/plain": [
       "'Self-control needs to be developed and added to the qualifications you already possess -warmth, charm, sympathy, artistic.'"
      ]
     },
     "metadata": {},
     "output_type": "display_data"
    },
    {
     "name": "stdout",
     "output_type": "stream",
     "text": [
      "\n",
      "\n",
      "cluster 33 (size 1):\n",
      "[15]\n"
     ]
    },
    {
     "data": {
      "text/plain": [
       "'Journalism, speaking, teaching, sales, advertising, or writing may appeal to you.'"
      ]
     },
     "metadata": {},
     "output_type": "display_data"
    },
    {
     "name": "stdout",
     "output_type": "stream",
     "text": [
      "\n",
      "\n",
      "cluster 34 (size 1):\n",
      "[5]\n"
     ]
    },
    {
     "data": {
      "text/plain": [
       "'Control of thought, word, and action is necessary in order to be successful.'"
      ]
     },
     "metadata": {},
     "output_type": "display_data"
    },
    {
     "name": "stdout",
     "output_type": "stream",
     "text": [
      "\n",
      "\n",
      "cluster 35 (size 1):\n",
      "[29]\n"
     ]
    },
    {
     "data": {
      "text/plain": [
       "'Too much worry can lead to health problems.'"
      ]
     },
     "metadata": {},
     "output_type": "display_data"
    },
    {
     "name": "stdout",
     "output_type": "stream",
     "text": [
      "\n",
      "\n",
      "cluster 36 (size 1):\n",
      "[30]\n"
     ]
    },
    {
     "data": {
      "text/plain": [
       "'You aim to please in practical and earthy ways.'"
      ]
     },
     "metadata": {},
     "output_type": "display_data"
    },
    {
     "name": "stdout",
     "output_type": "stream",
     "text": [
      "\n",
      "\n",
      "cluster 37 (size 1):\n",
      "[3]\n"
     ]
    },
    {
     "data": {
      "text/plain": [
       "'At times you can be very indecisive and unsure.'"
      ]
     },
     "metadata": {},
     "output_type": "display_data"
    },
    {
     "name": "stdout",
     "output_type": "stream",
     "text": [
      "\n",
      "\n",
      "cluster 38 (size 1):\n",
      "[6]\n"
     ]
    },
    {
     "data": {
      "text/plain": [
       "'Debate and argument appeal to you.'"
      ]
     },
     "metadata": {},
     "output_type": "display_data"
    },
    {
     "name": "stdout",
     "output_type": "stream",
     "text": [
      "\n",
      "\n",
      "cluster 39 (size 1):\n",
      "[17]\n"
     ]
    },
    {
     "data": {
      "text/plain": [
       "'Mentally restless, you may change jobs or locations frequently, or do work that involves movement, travel, and variety.'"
      ]
     },
     "metadata": {},
     "output_type": "display_data"
    },
    {
     "name": "stdout",
     "output_type": "stream",
     "text": [
      "\n",
      "\n",
      "cluster 40 (size 1):\n",
      "[28]\n"
     ]
    },
    {
     "data": {
      "text/plain": [
       "'Thus, you can become quite possessive.'"
      ]
     },
     "metadata": {},
     "output_type": "display_data"
    },
    {
     "name": "stdout",
     "output_type": "stream",
     "text": [
      "\n",
      "\n",
      "cluster 41 (size 1):\n",
      "[8]\n"
     ]
    },
    {
     "data": {
      "text/plain": [
       "'Find your focus, stay with it and develop perseverance.'"
      ]
     },
     "metadata": {},
     "output_type": "display_data"
    },
    {
     "name": "stdout",
     "output_type": "stream",
     "text": [
      "\n",
      "\n",
      "cluster 42 (size 1):\n",
      "[40]\n"
     ]
    },
    {
     "data": {
      "text/plain": [
       "'You enjoy indulging yourself and the ones you love and it is too easy for you to be extravagant and perhaps to put too much value in material things.'"
      ]
     },
     "metadata": {},
     "output_type": "display_data"
    },
    {
     "name": "stdout",
     "output_type": "stream",
     "text": [
      "\n",
      "\n",
      "cluster 43 (size 1):\n",
      "[0]\n"
     ]
    },
    {
     "data": {
      "text/plain": [
       "'Anyone who lives with you must accept your ups and downs and appreciate your need for times of withdrawal.'"
      ]
     },
     "metadata": {},
     "output_type": "display_data"
    },
    {
     "name": "stdout",
     "output_type": "stream",
     "text": [
      "\n",
      "\n",
      "------\n",
      "\n",
      "60\n",
      "cluster 0 (size 1):\n",
      "[59]\n"
     ]
    },
    {
     "data": {
      "text/plain": [
       "'Your senses and emotions are quite strong and it would be wise for you to listen to your intuitive side as you can be quite psychic.'"
      ]
     },
     "metadata": {},
     "output_type": "display_data"
    },
    {
     "name": "stdout",
     "output_type": "stream",
     "text": [
      "\n",
      "\n",
      "cluster 1 (size 1):\n",
      "[57]\n"
     ]
    },
    {
     "data": {
      "text/plain": [
       "'Your greatest need is to nurture and mother someone or ones.'"
      ]
     },
     "metadata": {},
     "output_type": "display_data"
    },
    {
     "name": "stdout",
     "output_type": "stream",
     "text": [
      "\n",
      "\n",
      "cluster 2 (size 1):\n",
      "[58]\n"
     ]
    },
    {
     "data": {
      "text/plain": [
       "'Your mother is/was a strong influence for good or ill in your life.'"
      ]
     },
     "metadata": {},
     "output_type": "display_data"
    },
    {
     "name": "stdout",
     "output_type": "stream",
     "text": [
      "\n",
      "\n",
      "cluster 3 (size 1):\n",
      "[56]\n"
     ]
    },
    {
     "data": {
      "text/plain": [
       "'You tend to look younger than you really are, no matter what your age.'"
      ]
     },
     "metadata": {},
     "output_type": "display_data"
    },
    {
     "name": "stdout",
     "output_type": "stream",
     "text": [
      "\n",
      "\n",
      "cluster 4 (size 1):\n",
      "[55]\n"
     ]
    },
    {
     "data": {
      "text/plain": [
       "'You tend to be a pack-rat because everything has an emotional memory behind it and you find security in all those memories.'"
      ]
     },
     "metadata": {},
     "output_type": "display_data"
    },
    {
     "name": "stdout",
     "output_type": "stream",
     "text": [
      "\n",
      "\n",
      "cluster 5 (size 1):\n",
      "[54]\n"
     ]
    },
    {
     "data": {
      "text/plain": [
       "'You take slights very personally and though you may forgive a mistake by a friend or loved one, you never forget it.'"
      ]
     },
     "metadata": {},
     "output_type": "display_data"
    },
    {
     "name": "stdout",
     "output_type": "stream",
     "text": [
      "\n",
      "\n",
      "cluster 6 (size 1):\n",
      "[49]\n"
     ]
    },
    {
     "data": {
      "text/plain": [
       "'You need to learn to digest every experience and assimilate it without bitterness, regret, spite or resentment.'"
      ]
     },
     "metadata": {},
     "output_type": "display_data"
    },
    {
     "name": "stdout",
     "output_type": "stream",
     "text": [
      "\n",
      "\n",
      "cluster 7 (size 1):\n",
      "[38]\n"
     ]
    },
    {
     "data": {
      "text/plain": [
       "'You are very restless and nervous, so you seldom have much weight on you.'"
      ]
     },
     "metadata": {},
     "output_type": "display_data"
    },
    {
     "name": "stdout",
     "output_type": "stream",
     "text": [
      "\n",
      "\n",
      "cluster 8 (size 1):\n",
      "[35]\n"
     ]
    },
    {
     "data": {
      "text/plain": [
       "'You are oriented towards the sensual side of life in everything you do and it may show through too much weight.'"
      ]
     },
     "metadata": {},
     "output_type": "display_data"
    },
    {
     "name": "stdout",
     "output_type": "stream",
     "text": [
      "\n",
      "\n",
      "cluster 9 (size 1):\n",
      "[50]\n"
     ]
    },
    {
     "data": {
      "text/plain": [
       "\"You often appear irrational to others because you can't always explain the reason or source of your feelings.\""
      ]
     },
     "metadata": {},
     "output_type": "display_data"
    },
    {
     "name": "stdout",
     "output_type": "stream",
     "text": [
      "\n",
      "\n",
      "cluster 10 (size 1):\n",
      "[52]\n"
     ]
    },
    {
     "data": {
      "text/plain": [
       "'You soak up feelings like a sponge.'"
      ]
     },
     "metadata": {},
     "output_type": "display_data"
    },
    {
     "name": "stdout",
     "output_type": "stream",
     "text": [
      "\n",
      "\n",
      "cluster 11 (size 1):\n",
      "[53]\n"
     ]
    },
    {
     "data": {
      "text/plain": [
       "'You strive for perfection and can be quite the person to live with or to be around because your standards for yourself and others are so high.'"
      ]
     },
     "metadata": {},
     "output_type": "display_data"
    },
    {
     "name": "stdout",
     "output_type": "stream",
     "text": [
      "\n",
      "\n",
      "cluster 12 (size 1):\n",
      "[46]\n"
     ]
    },
    {
     "data": {
      "text/plain": [
       "'You love being involved in multiple things at once and this may be a problem – too may irons in the fire at the same time.'"
      ]
     },
     "metadata": {},
     "output_type": "display_data"
    },
    {
     "name": "stdout",
     "output_type": "stream",
     "text": [
      "\n",
      "\n",
      "cluster 13 (size 1):\n",
      "[45]\n"
     ]
    },
    {
     "data": {
      "text/plain": [
       "'You like to taste a little bit of everything – concentration and disciplined study are not your strong points.'"
      ]
     },
     "metadata": {},
     "output_type": "display_data"
    },
    {
     "name": "stdout",
     "output_type": "stream",
     "text": [
      "\n",
      "\n",
      "cluster 14 (size 1):\n",
      "[48]\n"
     ]
    },
    {
     "data": {
      "text/plain": [
       "'You need to get rid of any negativity that stems from a feeling of inadequacy.'"
      ]
     },
     "metadata": {},
     "output_type": "display_data"
    },
    {
     "name": "stdout",
     "output_type": "stream",
     "text": [
      "\n",
      "\n",
      "cluster 15 (size 1):\n",
      "[23]\n"
     ]
    },
    {
     "data": {
      "text/plain": [
       "'Self-control needs to be developed and added to the qualifications you already possess -warmth, charm, sympathy, artistic.'"
      ]
     },
     "metadata": {},
     "output_type": "display_data"
    },
    {
     "name": "stdout",
     "output_type": "stream",
     "text": [
      "\n",
      "\n",
      "cluster 16 (size 1):\n",
      "[33]\n"
     ]
    },
    {
     "data": {
      "text/plain": [
       "'You are clever, witty, and always have a joke or comeback ready for any situation.'"
      ]
     },
     "metadata": {},
     "output_type": "display_data"
    },
    {
     "name": "stdout",
     "output_type": "stream",
     "text": [
      "\n",
      "\n",
      "cluster 17 (size 1):\n",
      "[30]\n"
     ]
    },
    {
     "data": {
      "text/plain": [
       "'You aim to please in practical and earthy ways.'"
      ]
     },
     "metadata": {},
     "output_type": "display_data"
    },
    {
     "name": "stdout",
     "output_type": "stream",
     "text": [
      "\n",
      "\n",
      "cluster 18 (size 1):\n",
      "[19]\n"
     ]
    },
    {
     "data": {
      "text/plain": [
       "'People with Virgo rising tend to be practical, analytical, discriminating, fastidious, careful, exacting, attentive to details, methodical, quiet, unassuming, shy, critical, thoughtful, and somewhat self-centered.'"
      ]
     },
     "metadata": {},
     "output_type": "display_data"
    },
    {
     "name": "stdout",
     "output_type": "stream",
     "text": [
      "\n",
      "\n",
      "cluster 19 (size 1):\n",
      "[43]\n"
     ]
    },
    {
     "data": {
      "text/plain": [
       "'You have so much nervous energy that this can sometimes cause great stress which must find an appropriate release.'"
      ]
     },
     "metadata": {},
     "output_type": "display_data"
    },
    {
     "name": "stdout",
     "output_type": "stream",
     "text": [
      "\n",
      "\n",
      "cluster 20 (size 1):\n",
      "[42]\n"
     ]
    },
    {
     "data": {
      "text/plain": [
       "'You have an ingenious, active and alert mind.'"
      ]
     },
     "metadata": {},
     "output_type": "display_data"
    },
    {
     "name": "stdout",
     "output_type": "stream",
     "text": [
      "\n",
      "\n",
      "cluster 21 (size 1):\n",
      "[31]\n"
     ]
    },
    {
     "data": {
      "text/plain": [
       "'You are also very sympathetic and understand the unspoken feelings and needs of others.'"
      ]
     },
     "metadata": {},
     "output_type": "display_data"
    },
    {
     "name": "stdout",
     "output_type": "stream",
     "text": [
      "\n",
      "\n",
      "cluster 22 (size 1):\n",
      "[37]\n"
     ]
    },
    {
     "data": {
      "text/plain": [
       "'You are tremendously responsive to beauty and physical appearances, and the physical attractiveness of your partner is very important to you.'"
      ]
     },
     "metadata": {},
     "output_type": "display_data"
    },
    {
     "name": "stdout",
     "output_type": "stream",
     "text": [
      "\n",
      "\n",
      "cluster 23 (size 1):\n",
      "[47]\n"
     ]
    },
    {
     "data": {
      "text/plain": [
       "'You may tend to worry too much, especially about the small stuff, the little details.'"
      ]
     },
     "metadata": {},
     "output_type": "display_data"
    },
    {
     "name": "stdout",
     "output_type": "stream",
     "text": [
      "\n",
      "\n",
      "cluster 24 (size 1):\n",
      "[51]\n"
     ]
    },
    {
     "data": {
      "text/plain": [
       "'You seek knowledge, either through reading or conversation, or through travel and talking with the new people you constantly meet.'"
      ]
     },
     "metadata": {},
     "output_type": "display_data"
    },
    {
     "name": "stdout",
     "output_type": "stream",
     "text": [
      "\n",
      "\n",
      "cluster 25 (size 1):\n",
      "[21]\n"
     ]
    },
    {
     "data": {
      "text/plain": [
       "'Pessimism and being too self-critical are two faults you should try to improve upon.'"
      ]
     },
     "metadata": {},
     "output_type": "display_data"
    },
    {
     "name": "stdout",
     "output_type": "stream",
     "text": [
      "\n",
      "\n",
      "cluster 26 (size 1):\n",
      "[44]\n"
     ]
    },
    {
     "data": {
      "text/plain": [
       "'You have the memory of an elephant, but you must learn to forgive and forget past hurts.'"
      ]
     },
     "metadata": {},
     "output_type": "display_data"
    },
    {
     "name": "stdout",
     "output_type": "stream",
     "text": [
      "\n",
      "\n",
      "cluster 27 (size 1):\n",
      "[41]\n"
     ]
    },
    {
     "data": {
      "text/plain": [
       "\"You grasp concepts easily and may become impatient with those who don't learn as quickly.\""
      ]
     },
     "metadata": {},
     "output_type": "display_data"
    },
    {
     "name": "stdout",
     "output_type": "stream",
     "text": [
      "\n",
      "\n",
      "cluster 28 (size 1):\n",
      "[36]\n"
     ]
    },
    {
     "data": {
      "text/plain": [
       "'You are quick to grasp new concepts and equally quick to lose interest in an idea or project once your curiosity has been satisfied.'"
      ]
     },
     "metadata": {},
     "output_type": "display_data"
    },
    {
     "name": "stdout",
     "output_type": "stream",
     "text": [
      "\n",
      "\n",
      "cluster 29 (size 1):\n",
      "[34]\n"
     ]
    },
    {
     "data": {
      "text/plain": [
       "'You are handy with your hands and may be ambidextrous or mechanically inclined.'"
      ]
     },
     "metadata": {},
     "output_type": "display_data"
    },
    {
     "name": "stdout",
     "output_type": "stream",
     "text": [
      "\n",
      "\n",
      "cluster 30 (size 1):\n",
      "[22]\n"
     ]
    },
    {
     "data": {
      "text/plain": [
       "'Security is very important to you and you look for it in your home and family life.'"
      ]
     },
     "metadata": {},
     "output_type": "display_data"
    },
    {
     "name": "stdout",
     "output_type": "stream",
     "text": [
      "\n",
      "\n",
      "cluster 31 (size 1):\n",
      "[18]\n"
     ]
    },
    {
     "data": {
      "text/plain": [
       "'Nothing or no one is ever gone if they leave their memory behind.'"
      ]
     },
     "metadata": {},
     "output_type": "display_data"
    },
    {
     "name": "stdout",
     "output_type": "stream",
     "text": [
      "\n",
      "\n",
      "cluster 32 (size 1):\n",
      "[9]\n"
     ]
    },
    {
     "data": {
      "text/plain": [
       "\"Finding fault with what's wrong with things is your forte.\""
      ]
     },
     "metadata": {},
     "output_type": "display_data"
    },
    {
     "name": "stdout",
     "output_type": "stream",
     "text": [
      "\n",
      "\n",
      "cluster 33 (size 1):\n",
      "[15]\n"
     ]
    },
    {
     "data": {
      "text/plain": [
       "'Journalism, speaking, teaching, sales, advertising, or writing may appeal to you.'"
      ]
     },
     "metadata": {},
     "output_type": "display_data"
    },
    {
     "name": "stdout",
     "output_type": "stream",
     "text": [
      "\n",
      "\n",
      "cluster 34 (size 1):\n",
      "[5]\n"
     ]
    },
    {
     "data": {
      "text/plain": [
       "'Control of thought, word, and action is necessary in order to be successful.'"
      ]
     },
     "metadata": {},
     "output_type": "display_data"
    },
    {
     "name": "stdout",
     "output_type": "stream",
     "text": [
      "\n",
      "\n",
      "cluster 35 (size 1):\n",
      "[29]\n"
     ]
    },
    {
     "data": {
      "text/plain": [
       "'Too much worry can lead to health problems.'"
      ]
     },
     "metadata": {},
     "output_type": "display_data"
    },
    {
     "name": "stdout",
     "output_type": "stream",
     "text": [
      "\n",
      "\n",
      "cluster 36 (size 1):\n",
      "[20]\n"
     ]
    },
    {
     "data": {
      "text/plain": [
       "'Perhaps this is why you so easily become moody, irritable and inconstant in thought and feeling.'"
      ]
     },
     "metadata": {},
     "output_type": "display_data"
    },
    {
     "name": "stdout",
     "output_type": "stream",
     "text": [
      "\n",
      "\n",
      "cluster 37 (size 1):\n",
      "[3]\n"
     ]
    },
    {
     "data": {
      "text/plain": [
       "'At times you can be very indecisive and unsure.'"
      ]
     },
     "metadata": {},
     "output_type": "display_data"
    },
    {
     "name": "stdout",
     "output_type": "stream",
     "text": [
      "\n",
      "\n",
      "cluster 38 (size 1):\n",
      "[6]\n"
     ]
    },
    {
     "data": {
      "text/plain": [
       "'Debate and argument appeal to you.'"
      ]
     },
     "metadata": {},
     "output_type": "display_data"
    },
    {
     "name": "stdout",
     "output_type": "stream",
     "text": [
      "\n",
      "\n",
      "cluster 39 (size 1):\n",
      "[17]\n"
     ]
    },
    {
     "data": {
      "text/plain": [
       "'Mentally restless, you may change jobs or locations frequently, or do work that involves movement, travel, and variety.'"
      ]
     },
     "metadata": {},
     "output_type": "display_data"
    },
    {
     "name": "stdout",
     "output_type": "stream",
     "text": [
      "\n",
      "\n",
      "cluster 40 (size 1):\n",
      "[28]\n"
     ]
    },
    {
     "data": {
      "text/plain": [
       "'Thus, you can become quite possessive.'"
      ]
     },
     "metadata": {},
     "output_type": "display_data"
    },
    {
     "name": "stdout",
     "output_type": "stream",
     "text": [
      "\n",
      "\n",
      "cluster 41 (size 1):\n",
      "[8]\n"
     ]
    },
    {
     "data": {
      "text/plain": [
       "'Find your focus, stay with it and develop perseverance.'"
      ]
     },
     "metadata": {},
     "output_type": "display_data"
    },
    {
     "name": "stdout",
     "output_type": "stream",
     "text": [
      "\n",
      "\n",
      "cluster 42 (size 1):\n",
      "[40]\n"
     ]
    },
    {
     "data": {
      "text/plain": [
       "'You enjoy indulging yourself and the ones you love and it is too easy for you to be extravagant and perhaps to put too much value in material things.'"
      ]
     },
     "metadata": {},
     "output_type": "display_data"
    },
    {
     "name": "stdout",
     "output_type": "stream",
     "text": [
      "\n",
      "\n",
      "cluster 43 (size 1):\n",
      "[0]\n"
     ]
    },
    {
     "data": {
      "text/plain": [
       "'Anyone who lives with you must accept your ups and downs and appreciate your need for times of withdrawal.'"
      ]
     },
     "metadata": {},
     "output_type": "display_data"
    },
    {
     "name": "stdout",
     "output_type": "stream",
     "text": [
      "\n",
      "\n",
      "cluster 44 (size 1):\n",
      "[11]\n"
     ]
    },
    {
     "data": {
      "text/plain": [
       "'Guard against possessiveness, jealousy, and taking the easy way out in your relationships.'"
      ]
     },
     "metadata": {},
     "output_type": "display_data"
    },
    {
     "name": "stdout",
     "output_type": "stream",
     "text": [
      "\n",
      "\n",
      "cluster 45 (size 1):\n",
      "[4]\n"
     ]
    },
    {
     "data": {
      "text/plain": [
       "'Comfort is important to you and you hate getting your hands dirty.'"
      ]
     },
     "metadata": {},
     "output_type": "display_data"
    },
    {
     "name": "stdout",
     "output_type": "stream",
     "text": [
      "\n",
      "\n",
      "cluster 46 (size 1):\n",
      "[14]\n"
     ]
    },
    {
     "data": {
      "text/plain": [
       "'If you have the Moon in Cancer, you very easily respond to the emotional environment in which you are placed.'"
      ]
     },
     "metadata": {},
     "output_type": "display_data"
    },
    {
     "name": "stdout",
     "output_type": "stream",
     "text": [
      "\n",
      "\n",
      "cluster 47 (size 1):\n",
      "[2]\n"
     ]
    },
    {
     "data": {
      "text/plain": [
       "'At times you can be lazy, hoping or expecting someone else to do the dirty work.'"
      ]
     },
     "metadata": {},
     "output_type": "display_data"
    },
    {
     "name": "stdout",
     "output_type": "stream",
     "text": [
      "\n",
      "\n",
      "cluster 48 (size 1):\n",
      "[7]\n"
     ]
    },
    {
     "data": {
      "text/plain": [
       "'Exercise is a good way to release this tension.'"
      ]
     },
     "metadata": {},
     "output_type": "display_data"
    },
    {
     "name": "stdout",
     "output_type": "stream",
     "text": [
      "\n",
      "\n",
      "cluster 49 (size 1):\n",
      "[10]\n"
     ]
    },
    {
     "data": {
      "text/plain": [
       "'Gaining knowledge and putting it to good use are important to you.'"
      ]
     },
     "metadata": {},
     "output_type": "display_data"
    },
    {
     "name": "stdout",
     "output_type": "stream",
     "text": [
      "\n",
      "\n",
      "cluster 50 (size 1):\n",
      "[24]\n"
     ]
    },
    {
     "data": {
      "text/plain": [
       "'Sometimes, though, this can make relationships sour as you often turn your critical eye on the one you love and the things they do.'"
      ]
     },
     "metadata": {},
     "output_type": "display_data"
    },
    {
     "name": "stdout",
     "output_type": "stream",
     "text": [
      "\n",
      "\n",
      "cluster 51 (size 1):\n",
      "[13]\n"
     ]
    },
    {
     "data": {
      "text/plain": [
       "'If you have Venus in Taurus, in love affairs you are generally loyal and steady, especially if your partner is demonstrative and affectionate.'"
      ]
     },
     "metadata": {},
     "output_type": "display_data"
    },
    {
     "name": "stdout",
     "output_type": "stream",
     "text": [
      "\n",
      "\n",
      "cluster 52 (size 1):\n",
      "[1]\n"
     ]
    },
    {
     "data": {
      "text/plain": [
       "'At times others can never be \"good\" enough to meet those high standards.'"
      ]
     },
     "metadata": {},
     "output_type": "display_data"
    },
    {
     "name": "stdout",
     "output_type": "stream",
     "text": [
      "\n",
      "\n",
      "cluster 53 (size 1):\n",
      "[12]\n"
     ]
    },
    {
     "data": {
      "text/plain": [
       "'If you have Mercury in Gemini, you have an extremely adaptable, energetic, active, alert, curious, and versatile mind.'"
      ]
     },
     "metadata": {},
     "output_type": "display_data"
    },
    {
     "name": "stdout",
     "output_type": "stream",
     "text": [
      "\n",
      "\n",
      "cluster 54 (size 1):\n",
      "[26]\n"
     ]
    },
    {
     "data": {
      "text/plain": [
       "'There is danger, then, of superficiality.'"
      ]
     },
     "metadata": {},
     "output_type": "display_data"
    },
    {
     "name": "stdout",
     "output_type": "stream",
     "text": [
      "\n",
      "\n",
      "cluster 55 (size 1):\n",
      "[32]\n"
     ]
    },
    {
     "data": {
      "text/plain": [
       "'You are basically an introvert, but will do whatever it takes to protect and defend your family or loved ones.'"
      ]
     },
     "metadata": {},
     "output_type": "display_data"
    },
    {
     "name": "stdout",
     "output_type": "stream",
     "text": [
      "\n",
      "\n",
      "cluster 56 (size 1):\n",
      "[39]\n"
     ]
    },
    {
     "data": {
      "text/plain": [
       "'You are very tenacious and you do not give up or let go of things or people easily.'"
      ]
     },
     "metadata": {},
     "output_type": "display_data"
    },
    {
     "name": "stdout",
     "output_type": "stream",
     "text": [
      "\n",
      "\n",
      "cluster 57 (size 1):\n",
      "[16]\n"
     ]
    },
    {
     "data": {
      "text/plain": [
       "'Learning to control your own moods may be very difficult, yet necessary, for you.'"
      ]
     },
     "metadata": {},
     "output_type": "display_data"
    },
    {
     "name": "stdout",
     "output_type": "stream",
     "text": [
      "\n",
      "\n",
      "cluster 58 (size 1):\n",
      "[27]\n"
     ]
    },
    {
     "data": {
      "text/plain": [
       "'This is the jack-of-all-trades, master-of-none position.'"
      ]
     },
     "metadata": {},
     "output_type": "display_data"
    },
    {
     "name": "stdout",
     "output_type": "stream",
     "text": [
      "\n",
      "\n",
      "cluster 59 (size 1):\n",
      "[25]\n"
     ]
    },
    {
     "data": {
      "text/plain": [
       "'There is a tendency to scratch the surface with the things that strike your interest without learning anything very deeply.'"
      ]
     },
     "metadata": {},
     "output_type": "display_data"
    },
    {
     "name": "stdout",
     "output_type": "stream",
     "text": [
      "\n",
      "\n"
     ]
    }
   ],
   "source": [
    "for chosen_k in [6, 19, 44, 60]:\n",
    "    print('------')\n",
    "    print(f'\\n{chosen_k}')\n",
    "    clusters = AgglomerativeClustering(n_clusters=chosen_k, affinity='precomputed', linkage='single')\n",
    "    clusters.fit_predict(dist_mat)\n",
    "    for i in range(clusters.n_clusters_):\n",
    "        indices = np.where(clusters.labels_ == i)[0]\n",
    "\n",
    "        print(f'cluster {i} (size {len(indices)}):')\n",
    "        print(indices)\n",
    "        for idx in indices:\n",
    "            display(df_piv.index[idx])\n",
    "        print('\\n')"
   ]
  },
  {
   "cell_type": "markdown",
   "metadata": {},
   "source": [
    "We could try different linkage algorithms to see their effects too. But we'll leave this for another time."
   ]
  },
  {
   "cell_type": "markdown",
   "metadata": {},
   "source": [
    "Let's try visualising (approximately) a graph from the distance matrix:"
   ]
  },
  {
   "cell_type": "code",
   "execution_count": 34,
   "metadata": {},
   "outputs": [],
   "source": [
    "import networkx as nx\n",
    "import string"
   ]
  },
  {
   "cell_type": "code",
   "execution_count": 35,
   "metadata": {},
   "outputs": [
    {
     "name": "stdout",
     "output_type": "stream",
     "text": [
      "[0, 1, 2, 3, 4, 5, 6, 7, 8, 9, 10, 11, 12, 13, 14, 15, 16, 17, 18, 19, 20, 21, 22, 23, 24, 25, 26, 27, 28, 29, 30, 31, 32, 33, 34, 35, 36, 37, 38, 39, 40, 41, 42, 43, 44, 45, 46, 47, 48, 49, 50, 51, 52, 53, 54, 55, 56, 57, 58, 59]\n",
      "[(0, 1), (0, 2), (0, 3), (0, 4), (0, 5), (0, 6), (0, 7), (0, 8), (0, 9), (0, 10), (0, 11), (0, 12), (0, 13), (0, 14), (0, 15), (0, 16), (0, 17), (0, 18), (0, 19), (0, 20), (0, 21), (0, 22), (0, 23), (0, 24), (0, 25), (0, 26), (0, 27), (0, 28), (0, 29), (0, 30), (0, 31), (0, 32), (0, 33), (0, 34), (0, 35), (0, 36), (0, 37), (0, 38), (0, 39), (0, 40), (0, 41), (0, 42), (0, 43), (0, 44), (0, 45), (0, 46), (0, 47), (0, 48), (0, 49), (0, 50), (0, 51), (0, 52), (0, 53), (0, 54), (0, 55), (0, 56), (0, 57), (0, 58), (0, 59), (1, 2), (1, 3), (1, 4), (1, 5), (1, 6), (1, 7), (1, 8), (1, 9), (1, 10), (1, 11), (1, 12), (1, 13), (1, 14), (1, 15), (1, 16), (1, 17), (1, 18), (1, 19), (1, 20), (1, 21), (1, 22), (1, 23), (1, 24), (1, 25), (1, 26), (1, 27), (1, 28), (1, 29), (1, 30), (1, 31), (1, 32), (1, 33), (1, 34), (1, 35), (1, 36), (1, 37), (1, 38), (1, 39), (1, 40), (1, 41), (1, 42), (1, 43), (1, 44), (1, 45), (1, 46), (1, 47), (1, 48), (1, 49), (1, 50), (1, 51), (1, 52), (1, 53), (1, 54), (1, 55), (1, 56), (1, 57), (1, 58), (1, 59), (2, 3), (2, 4), (2, 5), (2, 6), (2, 7), (2, 8), (2, 9), (2, 10), (2, 11), (2, 12), (2, 13), (2, 14), (2, 15), (2, 16), (2, 17), (2, 18), (2, 19), (2, 20), (2, 21), (2, 22), (2, 23), (2, 24), (2, 25), (2, 26), (2, 27), (2, 28), (2, 29), (2, 30), (2, 31), (2, 32), (2, 33), (2, 34), (2, 35), (2, 36), (2, 37), (2, 38), (2, 39), (2, 40), (2, 41), (2, 42), (2, 43), (2, 44), (2, 45), (2, 46), (2, 47), (2, 48), (2, 49), (2, 50), (2, 51), (2, 52), (2, 53), (2, 54), (2, 55), (2, 56), (2, 57), (2, 58), (2, 59), (3, 4), (3, 5), (3, 6), (3, 7), (3, 8), (3, 9), (3, 10), (3, 11), (3, 12), (3, 13), (3, 14), (3, 15), (3, 16), (3, 17), (3, 18), (3, 19), (3, 20), (3, 21), (3, 22), (3, 23), (3, 24), (3, 25), (3, 26), (3, 27), (3, 28), (3, 29), (3, 30), (3, 31), (3, 32), (3, 33), (3, 34), (3, 35), (3, 36), (3, 37), (3, 38), (3, 39), (3, 40), (3, 41), (3, 42), (3, 43), (3, 44), (3, 45), (3, 46), (3, 47), (3, 48), (3, 49), (3, 50), (3, 51), (3, 52), (3, 53), (3, 54), (3, 55), (3, 56), (3, 57), (3, 58), (3, 59), (4, 5), (4, 6), (4, 7), (4, 8), (4, 9), (4, 10), (4, 11), (4, 12), (4, 13), (4, 14), (4, 15), (4, 16), (4, 17), (4, 18), (4, 19), (4, 20), (4, 21), (4, 22), (4, 23), (4, 24), (4, 25), (4, 26), (4, 27), (4, 28), (4, 29), (4, 30), (4, 31), (4, 32), (4, 33), (4, 34), (4, 35), (4, 36), (4, 37), (4, 38), (4, 39), (4, 40), (4, 41), (4, 42), (4, 43), (4, 44), (4, 45), (4, 46), (4, 47), (4, 48), (4, 49), (4, 50), (4, 51), (4, 52), (4, 53), (4, 54), (4, 55), (4, 56), (4, 57), (4, 58), (4, 59), (5, 6), (5, 7), (5, 8), (5, 9), (5, 10), (5, 11), (5, 12), (5, 13), (5, 14), (5, 15), (5, 16), (5, 17), (5, 18), (5, 19), (5, 20), (5, 21), (5, 22), (5, 23), (5, 24), (5, 25), (5, 26), (5, 27), (5, 28), (5, 29), (5, 30), (5, 31), (5, 32), (5, 33), (5, 34), (5, 35), (5, 36), (5, 37), (5, 38), (5, 39), (5, 40), (5, 41), (5, 42), (5, 43), (5, 44), (5, 45), (5, 46), (5, 47), (5, 48), (5, 49), (5, 50), (5, 51), (5, 52), (5, 53), (5, 54), (5, 55), (5, 56), (5, 57), (5, 58), (5, 59), (6, 7), (6, 8), (6, 9), (6, 10), (6, 11), (6, 12), (6, 13), (6, 14), (6, 15), (6, 16), (6, 17), (6, 18), (6, 19), (6, 20), (6, 21), (6, 22), (6, 23), (6, 24), (6, 25), (6, 26), (6, 27), (6, 28), (6, 29), (6, 30), (6, 31), (6, 32), (6, 33), (6, 34), (6, 35), (6, 36), (6, 37), (6, 38), (6, 39), (6, 40), (6, 41), (6, 42), (6, 43), (6, 44), (6, 45), (6, 46), (6, 47), (6, 48), (6, 49), (6, 50), (6, 51), (6, 52), (6, 53), (6, 54), (6, 55), (6, 56), (6, 57), (6, 58), (6, 59), (7, 8), (7, 9), (7, 10), (7, 11), (7, 12), (7, 13), (7, 14), (7, 15), (7, 16), (7, 17), (7, 18), (7, 19), (7, 20), (7, 21), (7, 22), (7, 23), (7, 24), (7, 25), (7, 26), (7, 27), (7, 28), (7, 29), (7, 30), (7, 31), (7, 32), (7, 33), (7, 34), (7, 35), (7, 36), (7, 37), (7, 38), (7, 39), (7, 40), (7, 41), (7, 42), (7, 43), (7, 44), (7, 45), (7, 46), (7, 47), (7, 48), (7, 49), (7, 50), (7, 51), (7, 52), (7, 53), (7, 54), (7, 55), (7, 56), (7, 57), (7, 58), (7, 59), (8, 9), (8, 10), (8, 11), (8, 12), (8, 13), (8, 14), (8, 15), (8, 16), (8, 17), (8, 18), (8, 19), (8, 20), (8, 21), (8, 22), (8, 23), (8, 24), (8, 25), (8, 26), (8, 27), (8, 28), (8, 29), (8, 30), (8, 31), (8, 32), (8, 33), (8, 34), (8, 35), (8, 36), (8, 37), (8, 38), (8, 39), (8, 40), (8, 41), (8, 42), (8, 43), (8, 44), (8, 45), (8, 46), (8, 47), (8, 48), (8, 49), (8, 50), (8, 51), (8, 52), (8, 53), (8, 54), (8, 55), (8, 56), (8, 57), (8, 58), (8, 59), (9, 10), (9, 11), (9, 12), (9, 13), (9, 14), (9, 15), (9, 16), (9, 17), (9, 18), (9, 19), (9, 20), (9, 21), (9, 22), (9, 23), (9, 24), (9, 25), (9, 26), (9, 27), (9, 28), (9, 29), (9, 30), (9, 31), (9, 32), (9, 33), (9, 34), (9, 35), (9, 36), (9, 37), (9, 38), (9, 39), (9, 40), (9, 41), (9, 42), (9, 43), (9, 44), (9, 45), (9, 46), (9, 47), (9, 48), (9, 49), (9, 50), (9, 51), (9, 52), (9, 53), (9, 54), (9, 55), (9, 56), (9, 57), (9, 58), (9, 59), (10, 11), (10, 12), (10, 13), (10, 14), (10, 15), (10, 16), (10, 17), (10, 18), (10, 19), (10, 20), (10, 21), (10, 22), (10, 23), (10, 24), (10, 25), (10, 26), (10, 27), (10, 28), (10, 29), (10, 30), (10, 31), (10, 32), (10, 33), (10, 34), (10, 35), (10, 36), (10, 37), (10, 38), (10, 39), (10, 40), (10, 41), (10, 42), (10, 43), (10, 44), (10, 45), (10, 46), (10, 47), (10, 48), (10, 49), (10, 50), (10, 51), (10, 52), (10, 53), (10, 54), (10, 55), (10, 56), (10, 57), (10, 58), (10, 59), (11, 12), (11, 13), (11, 14), (11, 15), (11, 16), (11, 17), (11, 18), (11, 19), (11, 20), (11, 21), (11, 22), (11, 23), (11, 24), (11, 25), (11, 26), (11, 27), (11, 28), (11, 29), (11, 30), (11, 31), (11, 32), (11, 33), (11, 34), (11, 35), (11, 36), (11, 37), (11, 38), (11, 39), (11, 40), (11, 41), (11, 42), (11, 43), (11, 44), (11, 45), (11, 46), (11, 47), (11, 48), (11, 49), (11, 50), (11, 51), (11, 52), (11, 53), (11, 54), (11, 55), (11, 56), (11, 57), (11, 58), (11, 59), (12, 13), (12, 14), (12, 15), (12, 16), (12, 17), (12, 18), (12, 19), (12, 20), (12, 21), (12, 22), (12, 23), (12, 24), (12, 25), (12, 26), (12, 27), (12, 28), (12, 29), (12, 30), (12, 31), (12, 32), (12, 33), (12, 34), (12, 35), (12, 36), (12, 37), (12, 38), (12, 39), (12, 40), (12, 41), (12, 42), (12, 43), (12, 44), (12, 45), (12, 46), (12, 47), (12, 48), (12, 49), (12, 50), (12, 51), (12, 52), (12, 53), (12, 54), (12, 55), (12, 56), (12, 57), (12, 58), (12, 59), (13, 14), (13, 15), (13, 16), (13, 17), (13, 18), (13, 19), (13, 20), (13, 21), (13, 22), (13, 23), (13, 24), (13, 25), (13, 26), (13, 27), (13, 28), (13, 29), (13, 30), (13, 31), (13, 32), (13, 33), (13, 34), (13, 35), (13, 36), (13, 37), (13, 38), (13, 39), (13, 40), (13, 41), (13, 42), (13, 43), (13, 44), (13, 45), (13, 46), (13, 47), (13, 48), (13, 49), (13, 50), (13, 51), (13, 52), (13, 53), (13, 54), (13, 55), (13, 56), (13, 57), (13, 58), (13, 59), (14, 15), (14, 16), (14, 17), (14, 18), (14, 19), (14, 20), (14, 21), (14, 22), (14, 23), (14, 24), (14, 25), (14, 26), (14, 27), (14, 28), (14, 29), (14, 30), (14, 31), (14, 32), (14, 33), (14, 34), (14, 35), (14, 36), (14, 37), (14, 38), (14, 39), (14, 40), (14, 41), (14, 42), (14, 43), (14, 44), (14, 45), (14, 46), (14, 47), (14, 48), (14, 49), (14, 50), (14, 51), (14, 52), (14, 53), (14, 54), (14, 55), (14, 56), (14, 57), (14, 58), (14, 59), (15, 16), (15, 17), (15, 18), (15, 19), (15, 20), (15, 21), (15, 22), (15, 23), (15, 24), (15, 25), (15, 26), (15, 27), (15, 28), (15, 29), (15, 30), (15, 31), (15, 32), (15, 33), (15, 34), (15, 35), (15, 36), (15, 37), (15, 38), (15, 39), (15, 40), (15, 41), (15, 42), (15, 43), (15, 44), (15, 45), (15, 46), (15, 47), (15, 48), (15, 49), (15, 50), (15, 51), (15, 52), (15, 53), (15, 54), (15, 55), (15, 56), (15, 57), (15, 58), (15, 59), (16, 17), (16, 18), (16, 19), (16, 20), (16, 21), (16, 22), (16, 23), (16, 24), (16, 25), (16, 26), (16, 27), (16, 28), (16, 29), (16, 30), (16, 31), (16, 32), (16, 33), (16, 34), (16, 35), (16, 36), (16, 37), (16, 38), (16, 39), (16, 40), (16, 41), (16, 42), (16, 43), (16, 44), (16, 45), (16, 46), (16, 47), (16, 48), (16, 49), (16, 50), (16, 51), (16, 52), (16, 53), (16, 54), (16, 55), (16, 56), (16, 57), (16, 58), (16, 59), (17, 18), (17, 19), (17, 20), (17, 21), (17, 22), (17, 23), (17, 24), (17, 25), (17, 26), (17, 27), (17, 28), (17, 29), (17, 30), (17, 31), (17, 32), (17, 33), (17, 34), (17, 35), (17, 36), (17, 37), (17, 38), (17, 39), (17, 40), (17, 41), (17, 42), (17, 43), (17, 44), (17, 45), (17, 46), (17, 47), (17, 48), (17, 49), (17, 50), (17, 51), (17, 52), (17, 53), (17, 54), (17, 55), (17, 56), (17, 57), (17, 58), (17, 59), (18, 19), (18, 20), (18, 21), (18, 22), (18, 23), (18, 24), (18, 25), (18, 26), (18, 27), (18, 28), (18, 29), (18, 30), (18, 31), (18, 32), (18, 33), (18, 34), (18, 35), (18, 36), (18, 37), (18, 38), (18, 39), (18, 40), (18, 41), (18, 42), (18, 43), (18, 44), (18, 45), (18, 46), (18, 47), (18, 48), (18, 49), (18, 50), (18, 51), (18, 52), (18, 53), (18, 54), (18, 55), (18, 56), (18, 57), (18, 58), (18, 59), (19, 20), (19, 21), (19, 22), (19, 23), (19, 24), (19, 25), (19, 26), (19, 27), (19, 28), (19, 29), (19, 30), (19, 31), (19, 32), (19, 33), (19, 34), (19, 35), (19, 36), (19, 37), (19, 38), (19, 39), (19, 40), (19, 41), (19, 42), (19, 43), (19, 44), (19, 45), (19, 46), (19, 47), (19, 48), (19, 49), (19, 50), (19, 51), (19, 52), (19, 53), (19, 54), (19, 55), (19, 56), (19, 57), (19, 58), (19, 59), (20, 21), (20, 22), (20, 23), (20, 24), (20, 25), (20, 26), (20, 27), (20, 28), (20, 29), (20, 30), (20, 31), (20, 32), (20, 33), (20, 34), (20, 35), (20, 36), (20, 37), (20, 38), (20, 39), (20, 40), (20, 41), (20, 42), (20, 43), (20, 44), (20, 45), (20, 46), (20, 47), (20, 48), (20, 49), (20, 50), (20, 51), (20, 52), (20, 53), (20, 54), (20, 55), (20, 56), (20, 57), (20, 58), (20, 59), (21, 22), (21, 23), (21, 24), (21, 25), (21, 26), (21, 27), (21, 28), (21, 29), (21, 30), (21, 31), (21, 32), (21, 33), (21, 34), (21, 35), (21, 36), (21, 37), (21, 38), (21, 39), (21, 40), (21, 41), (21, 42), (21, 43), (21, 44), (21, 45), (21, 46), (21, 47), (21, 48), (21, 49), (21, 50), (21, 51), (21, 52), (21, 53), (21, 54), (21, 55), (21, 56), (21, 57), (21, 58), (21, 59), (22, 23), (22, 24), (22, 25), (22, 26), (22, 27), (22, 28), (22, 29), (22, 30), (22, 31), (22, 32), (22, 33), (22, 34), (22, 35), (22, 36), (22, 37), (22, 38), (22, 39), (22, 40), (22, 41), (22, 42), (22, 43), (22, 44), (22, 45), (22, 46), (22, 47), (22, 48), (22, 49), (22, 50), (22, 51), (22, 52), (22, 53), (22, 54), (22, 55), (22, 56), (22, 57), (22, 58), (22, 59), (23, 24), (23, 25), (23, 26), (23, 27), (23, 28), (23, 29), (23, 30), (23, 31), (23, 32), (23, 33), (23, 34), (23, 35), (23, 36), (23, 37), (23, 38), (23, 39), (23, 40), (23, 41), (23, 42), (23, 43), (23, 44), (23, 45), (23, 46), (23, 47), (23, 48), (23, 49), (23, 50), (23, 51), (23, 52), (23, 53), (23, 54), (23, 55), (23, 56), (23, 57), (23, 58), (23, 59), (24, 25), (24, 26), (24, 27), (24, 28), (24, 29), (24, 30), (24, 31), (24, 32), (24, 33), (24, 34), (24, 35), (24, 36), (24, 37), (24, 38), (24, 39), (24, 40), (24, 41), (24, 42), (24, 43), (24, 44), (24, 45), (24, 46), (24, 47), (24, 48), (24, 49), (24, 50), (24, 51), (24, 52), (24, 53), (24, 54), (24, 55), (24, 56), (24, 57), (24, 58), (24, 59), (25, 26), (25, 27), (25, 28), (25, 29), (25, 30), (25, 31), (25, 32), (25, 33), (25, 34), (25, 35), (25, 36), (25, 37), (25, 38), (25, 39), (25, 40), (25, 41), (25, 42), (25, 43), (25, 44), (25, 45), (25, 46), (25, 47), (25, 48), (25, 49), (25, 50), (25, 51), (25, 52), (25, 53), (25, 54), (25, 55), (25, 56), (25, 57), (25, 58), (25, 59), (26, 27), (26, 28), (26, 29), (26, 30), (26, 31), (26, 32), (26, 33), (26, 34), (26, 35), (26, 36), (26, 37), (26, 38), (26, 39), (26, 40), (26, 41), (26, 42), (26, 43), (26, 44), (26, 45), (26, 46), (26, 47), (26, 48), (26, 49), (26, 50), (26, 51), (26, 52), (26, 53), (26, 54), (26, 55), (26, 56), (26, 57), (26, 58), (26, 59), (27, 28), (27, 29), (27, 30), (27, 31), (27, 32), (27, 33), (27, 34), (27, 35), (27, 36), (27, 37), (27, 38), (27, 39), (27, 40), (27, 41), (27, 42), (27, 43), (27, 44), (27, 45), (27, 46), (27, 47), (27, 48), (27, 49), (27, 50), (27, 51), (27, 52), (27, 53), (27, 54), (27, 55), (27, 56), (27, 57), (27, 58), (27, 59), (28, 29), (28, 30), (28, 31), (28, 32), (28, 33), (28, 34), (28, 35), (28, 36), (28, 37), (28, 38), (28, 39), (28, 40), (28, 41), (28, 42), (28, 43), (28, 44), (28, 45), (28, 46), (28, 47), (28, 48), (28, 49), (28, 50), (28, 51), (28, 52), (28, 53), (28, 54), (28, 55), (28, 56), (28, 57), (28, 58), (28, 59), (29, 30), (29, 31), (29, 32), (29, 33), (29, 34), (29, 35), (29, 36), (29, 37), (29, 38), (29, 39), (29, 40), (29, 41), (29, 42), (29, 43), (29, 44), (29, 45), (29, 46), (29, 47), (29, 48), (29, 49), (29, 50), (29, 51), (29, 52), (29, 53), (29, 54), (29, 55), (29, 56), (29, 57), (29, 58), (29, 59), (30, 31), (30, 32), (30, 33), (30, 34), (30, 35), (30, 36), (30, 37), (30, 38), (30, 39), (30, 40), (30, 41), (30, 42), (30, 43), (30, 44), (30, 45), (30, 46), (30, 47), (30, 48), (30, 49), (30, 50), (30, 51), (30, 52), (30, 53), (30, 54), (30, 55), (30, 56), (30, 57), (30, 58), (30, 59), (31, 32), (31, 33), (31, 34), (31, 35), (31, 36), (31, 37), (31, 38), (31, 39), (31, 40), (31, 41), (31, 42), (31, 43), (31, 44), (31, 45), (31, 46), (31, 47), (31, 48), (31, 49), (31, 50), (31, 51), (31, 52), (31, 53), (31, 54), (31, 55), (31, 56), (31, 57), (31, 58), (31, 59), (32, 33), (32, 34), (32, 35), (32, 36), (32, 37), (32, 38), (32, 39), (32, 40), (32, 41), (32, 42), (32, 43), (32, 44), (32, 45), (32, 46), (32, 47), (32, 48), (32, 49), (32, 50), (32, 51), (32, 52), (32, 53), (32, 54), (32, 55), (32, 56), (32, 57), (32, 58), (32, 59), (33, 34), (33, 35), (33, 36), (33, 37), (33, 38), (33, 39), (33, 40), (33, 41), (33, 42), (33, 43), (33, 44), (33, 45), (33, 46), (33, 47), (33, 48), (33, 49), (33, 50), (33, 51), (33, 52), (33, 53), (33, 54), (33, 55), (33, 56), (33, 57), (33, 58), (33, 59), (34, 35), (34, 36), (34, 37), (34, 38), (34, 39), (34, 40), (34, 41), (34, 42), (34, 43), (34, 44), (34, 45), (34, 46), (34, 47), (34, 48), (34, 49), (34, 50), (34, 51), (34, 52), (34, 53), (34, 54), (34, 55), (34, 56), (34, 57), (34, 58), (34, 59), (35, 36), (35, 37), (35, 38), (35, 39), (35, 40), (35, 41), (35, 42), (35, 43), (35, 44), (35, 45), (35, 46), (35, 47), (35, 48), (35, 49), (35, 50), (35, 51), (35, 52), (35, 53), (35, 54), (35, 55), (35, 56), (35, 57), (35, 58), (35, 59), (36, 37), (36, 38), (36, 39), (36, 40), (36, 41), (36, 42), (36, 43), (36, 44), (36, 45), (36, 46), (36, 47), (36, 48), (36, 49), (36, 50), (36, 51), (36, 52), (36, 53), (36, 54), (36, 55), (36, 56), (36, 57), (36, 58), (36, 59), (37, 38), (37, 39), (37, 40), (37, 41), (37, 42), (37, 43), (37, 44), (37, 45), (37, 46), (37, 47), (37, 48), (37, 49), (37, 50), (37, 51), (37, 52), (37, 53), (37, 54), (37, 55), (37, 56), (37, 57), (37, 58), (37, 59), (38, 39), (38, 40), (38, 41), (38, 42), (38, 43), (38, 44), (38, 45), (38, 46), (38, 47), (38, 48), (38, 49), (38, 50), (38, 51), (38, 52), (38, 53), (38, 54), (38, 55), (38, 56), (38, 57), (38, 58), (38, 59), (39, 40), (39, 41), (39, 42), (39, 43), (39, 44), (39, 45), (39, 46), (39, 47), (39, 48), (39, 49), (39, 50), (39, 51), (39, 52), (39, 53), (39, 54), (39, 55), (39, 56), (39, 57), (39, 58), (39, 59), (40, 41), (40, 42), (40, 43), (40, 44), (40, 45), (40, 46), (40, 47), (40, 48), (40, 49), (40, 50), (40, 51), (40, 52), (40, 53), (40, 54), (40, 55), (40, 56), (40, 57), (40, 58), (40, 59), (41, 42), (41, 43), (41, 44), (41, 45), (41, 46), (41, 47), (41, 48), (41, 49), (41, 50), (41, 51), (41, 52), (41, 53), (41, 54), (41, 55), (41, 56), (41, 57), (41, 58), (41, 59), (42, 43), (42, 44), (42, 45), (42, 46), (42, 47), (42, 48), (42, 49), (42, 50), (42, 51), (42, 52), (42, 53), (42, 54), (42, 55), (42, 56), (42, 57), (42, 58), (42, 59), (43, 44), (43, 45), (43, 46), (43, 47), (43, 48), (43, 49), (43, 50), (43, 51), (43, 52), (43, 53), (43, 54), (43, 55), (43, 56), (43, 57), (43, 58), (43, 59), (44, 45), (44, 46), (44, 47), (44, 48), (44, 49), (44, 50), (44, 51), (44, 52), (44, 53), (44, 54), (44, 55), (44, 56), (44, 57), (44, 58), (44, 59), (45, 46), (45, 47), (45, 48), (45, 49), (45, 50), (45, 51), (45, 52), (45, 53), (45, 54), (45, 55), (45, 56), (45, 57), (45, 58), (45, 59), (46, 47), (46, 48), (46, 49), (46, 50), (46, 51), (46, 52), (46, 53), (46, 54), (46, 55), (46, 56), (46, 57), (46, 58), (46, 59), (47, 48), (47, 49), (47, 50), (47, 51), (47, 52), (47, 53), (47, 54), (47, 55), (47, 56), (47, 57), (47, 58), (47, 59), (48, 49), (48, 50), (48, 51), (48, 52), (48, 53), (48, 54), (48, 55), (48, 56), (48, 57), (48, 58), (48, 59), (49, 50), (49, 51), (49, 52), (49, 53), (49, 54), (49, 55), (49, 56), (49, 57), (49, 58), (49, 59), (50, 51), (50, 52), (50, 53), (50, 54), (50, 55), (50, 56), (50, 57), (50, 58), (50, 59), (51, 52), (51, 53), (51, 54), (51, 55), (51, 56), (51, 57), (51, 58), (51, 59), (52, 53), (52, 54), (52, 55), (52, 56), (52, 57), (52, 58), (52, 59), (53, 54), (53, 55), (53, 56), (53, 57), (53, 58), (53, 59), (54, 55), (54, 56), (54, 57), (54, 58), (54, 59), (55, 56), (55, 57), (55, 58), (55, 59), (56, 57), (56, 58), (56, 59), (57, 58), (57, 59), (58, 59)]\n"
     ]
    }
   ],
   "source": [
    "G = nx.from_numpy_matrix(dist_mat)\n",
    "print(G.nodes())\n",
    "print(G.edges())"
   ]
  },
  {
   "cell_type": "code",
   "execution_count": 36,
   "metadata": {},
   "outputs": [],
   "source": [
    "G = nx.from_numpy_matrix(dist_mat)\n",
    "G = nx.relabel_nodes(G, dict(zip(range(len(G.nodes())),string.ascii_uppercase)))"
   ]
  },
  {
   "cell_type": "code",
   "execution_count": 37,
   "metadata": {},
   "outputs": [
    {
     "name": "stdout",
     "output_type": "stream",
     "text": [
      "using package pydot\n"
     ]
    }
   ],
   "source": [
    "import pydot\n",
    "from networkx.drawing.nx_pydot import write_dot\n",
    "print(\"using package pydot\")\n",
    "write_dot(G, '../data/output/example.dot')"
   ]
  },
  {
   "cell_type": "markdown",
   "metadata": {},
   "source": [
    "Provide generated dotfile to Graphviz neato program for advanced visualisation. Voila!"
   ]
  },
  {
   "cell_type": "code",
   "execution_count": 38,
   "metadata": {},
   "outputs": [
    {
     "name": "stdout",
     "output_type": "stream",
     "text": [
      "0   Anyone who lives with you must accept your ups and downs and appreciate your need for times of withdrawal.\n",
      "1   At times others can never be \"good\" enough to meet those high standards.\n",
      "2   At times you can be lazy, hoping or expecting someone else to do the dirty work.\n",
      "3   At times you can be very indecisive and unsure.\n",
      "4   Comfort is important to you and you hate getting your hands dirty.\n",
      "5   Control of thought, word, and action is necessary in order to be successful.\n",
      "6   Debate and argument appeal to you.\n",
      "7   Exercise is a good way to release this tension.\n",
      "8   Find your focus, stay with it and develop perseverance.\n",
      "9   Finding fault with what's wrong with things is your forte.\n",
      "10   Gaining knowledge and putting it to good use are important to you.\n",
      "11   Guard against possessiveness, jealousy, and taking the easy way out in your relationships.\n",
      "12   If you have Mercury in Gemini, you have an extremely adaptable, energetic, active, alert, curious, and versatile mind.\n",
      "13   If you have Venus in Taurus, in love affairs you are generally loyal and steady, especially if your partner is demonstrative and affectionate.\n",
      "14   If you have the Moon in Cancer, you very easily respond to the emotional environment in which you are placed.\n",
      "15   Journalism, speaking, teaching, sales, advertising, or writing may appeal to you.\n",
      "16   Learning to control your own moods may be very difficult, yet necessary, for you.\n",
      "17   Mentally restless, you may change jobs or locations frequently, or do work that involves movement, travel, and variety.\n",
      "18   Nothing or no one is ever gone if they leave their memory behind.\n",
      "19   People with Virgo rising tend to be practical, analytical, discriminating, fastidious, careful, exacting, attentive to details, methodical, quiet, unassuming, shy, critical, thoughtful, and somewhat self-centered.\n",
      "20   Perhaps this is why you so easily become moody, irritable and inconstant in thought and feeling.\n",
      "21   Pessimism and being too self-critical are two faults you should try to improve upon.\n",
      "22   Security is very important to you and you look for it in your home and family life.\n",
      "23   Self-control needs to be developed and added to the qualifications you already possess -warmth, charm, sympathy, artistic.\n",
      "24   Sometimes, though, this can make relationships sour as you often turn your critical eye on the one you love and the things they do.\n",
      "25   There is a tendency to scratch the surface with the things that strike your interest without learning anything very deeply.\n",
      "26   There is danger, then, of superficiality.\n",
      "27   This is the jack-of-all-trades, master-of-none position.\n",
      "28   Thus, you can become quite possessive.\n",
      "29   Too much worry can lead to health problems.\n",
      "30   You aim to please in practical and earthy ways.\n",
      "31   You are also very sympathetic and understand the unspoken feelings and needs of others.\n",
      "32   You are basically an introvert, but will do whatever it takes to protect and defend your family or loved ones.\n",
      "33   You are clever, witty, and always have a joke or comeback ready for any situation.\n",
      "34   You are handy with your hands and may be ambidextrous or mechanically inclined.\n",
      "35   You are oriented towards the sensual side of life in everything you do and it may show through too much weight.\n",
      "36   You are quick to grasp new concepts and equally quick to lose interest in an idea or project once your curiosity has been satisfied.\n",
      "37   You are tremendously responsive to beauty and physical appearances, and the physical attractiveness of your partner is very important to you.\n",
      "38   You are very restless and nervous, so you seldom have much weight on you.\n",
      "39   You are very tenacious and you do not give up or let go of things or people easily.\n",
      "40   You enjoy indulging yourself and the ones you love and it is too easy for you to be extravagant and perhaps to put too much value in material things.\n",
      "41   You grasp concepts easily and may become impatient with those who don't learn as quickly.\n",
      "42   You have an ingenious, active and alert mind.\n",
      "43   You have so much nervous energy that this can sometimes cause great stress which must find an appropriate release.\n",
      "44   You have the memory of an elephant, but you must learn to forgive and forget past hurts.\n",
      "45   You like to taste a little bit of everything – concentration and disciplined study are not your strong points.\n",
      "46   You love being involved in multiple things at once and this may be a problem – too may irons in the fire at the same time.\n",
      "47   You may tend to worry too much, especially about the small stuff, the little details.\n",
      "48   You need to get rid of any negativity that stems from a feeling of inadequacy.\n",
      "49   You need to learn to digest every experience and assimilate it without bitterness, regret, spite or resentment.\n",
      "50   You often appear irrational to others because you can't always explain the reason or source of your feelings.\n",
      "51   You seek knowledge, either through reading or conversation, or through travel and talking with the new people you constantly meet.\n",
      "52   You soak up feelings like a sponge.\n",
      "53   You strive for perfection and can be quite the person to live with or to be around because your standards for yourself and others are so high.\n",
      "54   You take slights very personally and though you may forgive a mistake by a friend or loved one, you never forget it.\n",
      "55   You tend to be a pack-rat because everything has an emotional memory behind it and you find security in all those memories.\n",
      "56   You tend to look younger than you really are, no matter what your age.\n",
      "57   Your greatest need is to nurture and mother someone or ones.\n",
      "58   Your mother is/was a strong influence for good or ill in your life.\n",
      "59   Your senses and emotions are quite strong and it would be wise for you to listen to your intuitive side as you can be quite psychic.\n"
     ]
    }
   ],
   "source": [
    "for i in range(len(df_piv.index)):\n",
    "    print(i, ' ', df_piv.index[i])"
   ]
  },
  {
   "cell_type": "markdown",
   "metadata": {},
   "source": [
    "I need to find the distances between clusters. to gauge how similar 2 clusters are in relation to one another. I could just use the visualisation tool to visually identify clusters far from each other and try to compare their cluster meanings."
   ]
  },
  {
   "cell_type": "code",
   "execution_count": 39,
   "metadata": {},
   "outputs": [
    {
     "name": "stdout",
     "output_type": "stream",
     "text": [
      "no. of clusters found:   41\n",
      "no. of samples:  60\n",
      "0 :  0.3333333333333333\n",
      "1 :  0.39999999999999997\n",
      "2 :  0.0\n",
      "3 :  0.0\n",
      "4 :  0.0\n",
      "5 :  0.0\n",
      "6 :  0.0\n",
      "7 :  0.6666666666666666\n",
      "8 :  0.047619047619047596\n",
      "9 :  0.4\n",
      "10 :  0.0\n",
      "11 :  0.0\n",
      "12 :  0.5\n",
      "13 :  0.0\n",
      "14 :  0.5\n",
      "15 :  0.0\n",
      "16 :  0.0\n",
      "17 :  0.0\n",
      "18 :  0.0\n",
      "19 :  0.0\n",
      "20 :  0.5\n",
      "21 :  0.20000000000000004\n",
      "22 :  -0.14285714285714285\n",
      "23 :  0.0\n",
      "24 :  -0.09090909090909098\n",
      "25 :  0.5714285714285714\n",
      "26 :  0.19047619047619055\n",
      "27 :  0.1428571428571429\n",
      "28 :  0.0\n",
      "29 :  0.0\n",
      "30 :  0.0\n",
      "31 :  0.6666666666666666\n",
      "32 :  0.0\n",
      "33 :  0.0\n",
      "34 :  0.0\n",
      "35 :  0.0\n",
      "36 :  0.028571428571428647\n",
      "37 :  0.0\n",
      "38 :  0.0\n",
      "39 :  0.0\n",
      "40 :  0.0\n",
      "41 :  -0.16000000000000003\n",
      "42 :  0.5\n",
      "43 :  0.5\n",
      "44 :  0.0\n",
      "45 :  0.1428571428571429\n",
      "46 :  0.28571428571428575\n",
      "47 :  -0.16666666666666663\n",
      "48 :  0.0\n",
      "49 :  0.0\n",
      "50 :  -0.14285714285714285\n",
      "51 :  0.0\n",
      "52 :  0.5\n",
      "53 :  0.4\n",
      "54 :  0.0\n",
      "55 :  0.0\n",
      "56 :  0.0\n",
      "57 :  0.0\n",
      "58 :  0.0\n",
      "59 :  0.7000000000000001\n"
     ]
    }
   ],
   "source": [
    "clusters = AgglomerativeClustering(n_clusters=41, affinity='precomputed', linkage='single')\n",
    "labels = clusters.fit_predict(dist_mat)\n",
    "\n",
    "from sklearn.metrics import silhouette_samples\n",
    "\n",
    "silhouette_samples = silhouette_samples(dist_mat, clusters.labels_, metric='precomputed')\n",
    "\n",
    "print('no. of clusters found:', ' ', clusters.n_clusters_)\n",
    "print('no. of samples: ', len(silhouette_samples))\n",
    "\n",
    "for i in range(len(silhouette_samples)):\n",
    "    print(i, ': ', silhouette_samples[i])"
   ]
  },
  {
   "cell_type": "markdown",
   "metadata": {},
   "source": [
    "I can write a method to compute the average pairwise distance of one cluster with another cluster."
   ]
  },
  {
   "cell_type": "code",
   "execution_count": 40,
   "metadata": {},
   "outputs": [
    {
     "name": "stdout",
     "output_type": "stream",
     "text": [
      "------\n",
      "\n",
      "no. of clusters = 41\n",
      "[[0.     5.     5.     ... 4.875  3.5    5.    ]\n",
      " [0.     0.     4.6667 ... 5.     5.     5.    ]\n",
      " [0.     0.     0.     ... 5.     5.     5.    ]\n",
      " ...\n",
      " [0.     0.     0.     ... 0.     5.     5.    ]\n",
      " [0.     0.     0.     ... 0.     0.     5.    ]\n",
      " [0.     0.     0.     ... 0.     0.     0.    ]]\n"
     ]
    }
   ],
   "source": [
    "for n_clusters in [41]:\n",
    "    print('------')\n",
    "    print(f'\\nno. of clusters = {n_clusters}')\n",
    "    clusters = AgglomerativeClustering(n_clusters=n_clusters, affinity='precomputed', linkage='single')\n",
    "    clusters.fit_predict(dist_mat)\n",
    "    \n",
    "    # find average distances between clusters and output a new distance matrix\n",
    "    labels = [i for i in range(clusters.n_clusters_)]\n",
    "    avg_dist_arr = np.zeros(shape=(clusters.n_clusters_, clusters.n_clusters_))\n",
    "    for i in range(clusters.n_clusters_):\n",
    "        indices = np.where(clusters.labels_ == i)[0]\n",
    "        labels.remove(i)\n",
    "        for j in labels:\n",
    "            other_indices = np.where(clusters.labels_ == j)[0]\n",
    "            intra_dist_arr = np.zeros(shape=(len(indices), len(other_indices)))\n",
    "            \n",
    "            for k, index in enumerate(indices):\n",
    "                for m, other_index in enumerate(other_indices):\n",
    "                    intra_dist_arr[k][m] = dist_mat[index][other_index]\n",
    "            \n",
    "            #print (f'cluster {i} against cluster {j}:')\n",
    "            #print(intra_dist_arr)\n",
    "            \n",
    "            avg_dist = np.average(intra_dist_arr)\n",
    "            #print(avg_dist)\n",
    "            avg_dist_arr[i][j] = avg_dist\n",
    "    print(avg_dist_arr)\n",
    "        "
   ]
  },
  {
   "cell_type": "code",
   "execution_count": 41,
   "metadata": {},
   "outputs": [],
   "source": [
    "np.savetxt(\"../data/output/example_average_dist.csv\", avg_dist_arr, delimiter=\",\")"
   ]
  },
  {
   "cell_type": "code",
   "execution_count": 42,
   "metadata": {},
   "outputs": [
    {
     "data": {
      "text/plain": [
       "array([[0.    , 5.    , 5.    , ..., 4.875 , 3.5   , 5.    ],\n",
       "       [5.    , 0.    , 4.6667, ..., 5.    , 5.    , 5.    ],\n",
       "       [5.    , 4.6667, 0.    , ..., 5.    , 5.    , 5.    ],\n",
       "       ...,\n",
       "       [4.875 , 5.    , 5.    , ..., 0.    , 5.    , 5.    ],\n",
       "       [3.5   , 5.    , 5.    , ..., 5.    , 0.    , 5.    ],\n",
       "       [5.    , 5.    , 5.    , ..., 5.    , 5.    , 0.    ]])"
      ]
     },
     "execution_count": 42,
     "metadata": {},
     "output_type": "execute_result"
    }
   ],
   "source": [
    "tmp = avg_dist_arr + np.transpose(avg_dist_arr)\n",
    "tmp"
   ]
  },
  {
   "cell_type": "code",
   "execution_count": 43,
   "metadata": {},
   "outputs": [],
   "source": [
    "np.savetxt(\"../data/output/example_tmp.csv\", tmp, delimiter=\",\")"
   ]
  },
  {
   "cell_type": "code",
   "execution_count": 44,
   "metadata": {},
   "outputs": [
    {
     "data": {
      "text/plain": [
       "5.0"
      ]
     },
     "metadata": {},
     "output_type": "display_data"
    },
    {
     "data": {
      "text/plain": [
       "5.0"
      ]
     },
     "metadata": {},
     "output_type": "display_data"
    }
   ],
   "source": [
    "# check that distance matrix was generated correctly\n",
    "i = 1\n",
    "j = 10\n",
    "display(tmp[i][j], tmp[j][i])"
   ]
  },
  {
   "cell_type": "code",
   "execution_count": 45,
   "metadata": {},
   "outputs": [
    {
     "name": "stdout",
     "output_type": "stream",
     "text": [
      "2.0\n"
     ]
    }
   ],
   "source": [
    "# get summary statistics of new distance matrix, ignoring the diagonal.\n",
    "mask = np.ones((clusters.n_clusters_, clusters.n_clusters_), dtype=bool)\n",
    "np.fill_diagonal(mask, 0)\n",
    "min_value = tmp[mask].min()\n",
    "print(min_value)"
   ]
  },
  {
   "cell_type": "code",
   "execution_count": 46,
   "metadata": {},
   "outputs": [
    {
     "data": {
      "text/plain": [
       "4.793707655826558"
      ]
     },
     "execution_count": 46,
     "metadata": {},
     "output_type": "execute_result"
    }
   ],
   "source": [
    "np.average(tmp[mask])"
   ]
  },
  {
   "cell_type": "code",
   "execution_count": 47,
   "metadata": {},
   "outputs": [
    {
     "data": {
      "text/plain": [
       "5.0"
      ]
     },
     "execution_count": 47,
     "metadata": {},
     "output_type": "execute_result"
    }
   ],
   "source": [
    "np.median(tmp[mask])"
   ]
  },
  {
   "cell_type": "code",
   "execution_count": 48,
   "metadata": {},
   "outputs": [
    {
     "data": {
      "text/plain": [
       "array([5.    , 5.3333, 8.    ])"
      ]
     },
     "execution_count": 48,
     "metadata": {},
     "output_type": "execute_result"
    }
   ],
   "source": [
    "np.percentile(tmp[mask], [98, 99, 100])"
   ]
  },
  {
   "cell_type": "markdown",
   "metadata": {},
   "source": [
    "according to this analysis, there is a very small number of contradictory cluster pairs."
   ]
  },
  {
   "cell_type": "code",
   "execution_count": 49,
   "metadata": {},
   "outputs": [
    {
     "name": "stdout",
     "output_type": "stream",
     "text": [
      "(0, 13)\n",
      "(1, 4)\n",
      "(1, 16)\n",
      "(1, 33)\n",
      "(2, 8)\n",
      "(2, 37)\n",
      "(4, 37)\n",
      "(13, 39)\n",
      "(15, 17)\n",
      "(16, 18)\n",
      "(16, 37)\n"
     ]
    }
   ],
   "source": [
    "dist_threshold = 5  # we choose 5 since 5 represents 'neutral'; anything greater represents some contradiction.\n",
    "itr = zip(*np.where(avg_dist_arr > dist_threshold))\n",
    "\n",
    "# since zip() returns an iterator we should add the elements into a list so that we can loop through the elements again.\n",
    "# once an iterator has reached its end it cannot be reset.\n",
    "cluster_pairs = []\n",
    "for pair in itr:\n",
    "    cluster_pairs.append(pair)\n",
    "    print(pair)"
   ]
  },
  {
   "cell_type": "markdown",
   "metadata": {},
   "source": [
    "this tells us that clusters (15, 17) are likely contradictory, and (16, 18) are likely contradictory. "
   ]
  },
  {
   "cell_type": "code",
   "execution_count": 50,
   "metadata": {},
   "outputs": [
    {
     "name": "stdout",
     "output_type": "stream",
     "text": [
      "0\n"
     ]
    },
    {
     "data": {
      "text/plain": [
       "Index(['Find your focus, stay with it and develop perseverance.',\n",
       "       'There is a tendency to scratch the surface with the things that strike your interest without learning anything very deeply.',\n",
       "       'There is danger, then, of superficiality.',\n",
       "       'This is the jack-of-all-trades, master-of-none position.',\n",
       "       'You are quick to grasp new concepts and equally quick to lose interest in an idea or project once your curiosity has been satisfied.',\n",
       "       'You grasp concepts easily and may become impatient with those who don't learn as quickly.',\n",
       "       'You like to taste a little bit of everything – concentration and disciplined study are not your strong points.',\n",
       "       'You love being involved in multiple things at once and this may be a problem – too may irons in the fire at the same time.'],\n",
       "      dtype='object', name='first')"
      ]
     },
     "metadata": {},
     "output_type": "display_data"
    },
    {
     "name": "stdout",
     "output_type": "stream",
     "text": [
      "13\n"
     ]
    },
    {
     "data": {
      "text/plain": [
       "Index(['You are very tenacious and you do not give up or let go of things or people easily.'], dtype='object', name='first')"
      ]
     },
     "metadata": {},
     "output_type": "display_data"
    },
    {
     "name": "stdout",
     "output_type": "stream",
     "text": [
      "======\n",
      "1\n"
     ]
    },
    {
     "data": {
      "text/plain": [
       "Index(['Anyone who lives with you must accept your ups and downs and appreciate your need for times of withdrawal.',\n",
       "       'Security is very important to you and you look for it in your home and family life.',\n",
       "       'You often appear irrational to others because you can't always explain the reason or source of your feelings.'],\n",
       "      dtype='object', name='first')"
      ]
     },
     "metadata": {},
     "output_type": "display_data"
    },
    {
     "name": "stdout",
     "output_type": "stream",
     "text": [
      "4\n"
     ]
    },
    {
     "data": {
      "text/plain": [
       "Index(['If you have Mercury in Gemini, you have an extremely adaptable, energetic, active, alert, curious, and versatile mind.', 'You have an ingenious, active and alert mind.'], dtype='object', name='first')"
      ]
     },
     "metadata": {},
     "output_type": "display_data"
    },
    {
     "name": "stdout",
     "output_type": "stream",
     "text": [
      "======\n",
      "1\n"
     ]
    },
    {
     "data": {
      "text/plain": [
       "Index(['Anyone who lives with you must accept your ups and downs and appreciate your need for times of withdrawal.',\n",
       "       'Security is very important to you and you look for it in your home and family life.',\n",
       "       'You often appear irrational to others because you can't always explain the reason or source of your feelings.'],\n",
       "      dtype='object', name='first')"
      ]
     },
     "metadata": {},
     "output_type": "display_data"
    },
    {
     "name": "stdout",
     "output_type": "stream",
     "text": [
      "16\n"
     ]
    },
    {
     "data": {
      "text/plain": [
       "Index(['You are clever, witty, and always have a joke or comeback ready for any situation.'], dtype='object', name='first')"
      ]
     },
     "metadata": {},
     "output_type": "display_data"
    },
    {
     "name": "stdout",
     "output_type": "stream",
     "text": [
      "======\n",
      "1\n"
     ]
    },
    {
     "data": {
      "text/plain": [
       "Index(['Anyone who lives with you must accept your ups and downs and appreciate your need for times of withdrawal.',\n",
       "       'Security is very important to you and you look for it in your home and family life.',\n",
       "       'You often appear irrational to others because you can't always explain the reason or source of your feelings.'],\n",
       "      dtype='object', name='first')"
      ]
     },
     "metadata": {},
     "output_type": "display_data"
    },
    {
     "name": "stdout",
     "output_type": "stream",
     "text": [
      "33\n"
     ]
    },
    {
     "data": {
      "text/plain": [
       "Index(['Journalism, speaking, teaching, sales, advertising, or writing may appeal to you.'], dtype='object', name='first')"
      ]
     },
     "metadata": {},
     "output_type": "display_data"
    },
    {
     "name": "stdout",
     "output_type": "stream",
     "text": [
      "======\n",
      "2\n"
     ]
    },
    {
     "data": {
      "text/plain": [
       "Index(['You are also very sympathetic and understand the unspoken feelings and needs of others.', 'Your senses and emotions are quite strong and it would be wise for you to listen to your intuitive side as you can be quite psychic.'], dtype='object', name='first')"
      ]
     },
     "metadata": {},
     "output_type": "display_data"
    },
    {
     "name": "stdout",
     "output_type": "stream",
     "text": [
      "8\n"
     ]
    },
    {
     "data": {
      "text/plain": [
       "Index(['At times others can never be \"good\" enough to meet those high standards.',\n",
       "       'Finding fault with what's wrong with things is your forte.',\n",
       "       'Pessimism and being too self-critical are two faults you should try to improve upon.',\n",
       "       'Sometimes, though, this can make relationships sour as you often turn your critical eye on the one you love and the things they do.',\n",
       "       'You may tend to worry too much, especially about the small stuff, the little details.',\n",
       "       'You strive for perfection and can be quite the person to live with or to be around because your standards for yourself and others are so high.'],\n",
       "      dtype='object', name='first')"
      ]
     },
     "metadata": {},
     "output_type": "display_data"
    },
    {
     "name": "stdout",
     "output_type": "stream",
     "text": [
      "======\n",
      "2\n"
     ]
    },
    {
     "data": {
      "text/plain": [
       "Index(['You are also very sympathetic and understand the unspoken feelings and needs of others.', 'Your senses and emotions are quite strong and it would be wise for you to listen to your intuitive side as you can be quite psychic.'], dtype='object', name='first')"
      ]
     },
     "metadata": {},
     "output_type": "display_data"
    },
    {
     "name": "stdout",
     "output_type": "stream",
     "text": [
      "37\n"
     ]
    },
    {
     "data": {
      "text/plain": [
       "Index(['At times you can be very indecisive and unsure.'], dtype='object', name='first')"
      ]
     },
     "metadata": {},
     "output_type": "display_data"
    },
    {
     "name": "stdout",
     "output_type": "stream",
     "text": [
      "======\n",
      "4\n"
     ]
    },
    {
     "data": {
      "text/plain": [
       "Index(['If you have Mercury in Gemini, you have an extremely adaptable, energetic, active, alert, curious, and versatile mind.', 'You have an ingenious, active and alert mind.'], dtype='object', name='first')"
      ]
     },
     "metadata": {},
     "output_type": "display_data"
    },
    {
     "name": "stdout",
     "output_type": "stream",
     "text": [
      "37\n"
     ]
    },
    {
     "data": {
      "text/plain": [
       "Index(['At times you can be very indecisive and unsure.'], dtype='object', name='first')"
      ]
     },
     "metadata": {},
     "output_type": "display_data"
    },
    {
     "name": "stdout",
     "output_type": "stream",
     "text": [
      "======\n",
      "13\n"
     ]
    },
    {
     "data": {
      "text/plain": [
       "Index(['You are very tenacious and you do not give up or let go of things or people easily.'], dtype='object', name='first')"
      ]
     },
     "metadata": {},
     "output_type": "display_data"
    },
    {
     "name": "stdout",
     "output_type": "stream",
     "text": [
      "39\n"
     ]
    },
    {
     "data": {
      "text/plain": [
       "Index(['Mentally restless, you may change jobs or locations frequently, or do work that involves movement, travel, and variety.'], dtype='object', name='first')"
      ]
     },
     "metadata": {},
     "output_type": "display_data"
    },
    {
     "name": "stdout",
     "output_type": "stream",
     "text": [
      "======\n",
      "15\n"
     ]
    },
    {
     "data": {
      "text/plain": [
       "Index(['You are very restless and nervous, so you seldom have much weight on you.'], dtype='object', name='first')"
      ]
     },
     "metadata": {},
     "output_type": "display_data"
    },
    {
     "name": "stdout",
     "output_type": "stream",
     "text": [
      "17\n"
     ]
    },
    {
     "data": {
      "text/plain": [
       "Index(['You are oriented towards the sensual side of life in everything you do and it may show through too much weight.'], dtype='object', name='first')"
      ]
     },
     "metadata": {},
     "output_type": "display_data"
    },
    {
     "name": "stdout",
     "output_type": "stream",
     "text": [
      "======\n",
      "16\n"
     ]
    },
    {
     "data": {
      "text/plain": [
       "Index(['You are clever, witty, and always have a joke or comeback ready for any situation.'], dtype='object', name='first')"
      ]
     },
     "metadata": {},
     "output_type": "display_data"
    },
    {
     "name": "stdout",
     "output_type": "stream",
     "text": [
      "18\n"
     ]
    },
    {
     "data": {
      "text/plain": [
       "Index(['People with Virgo rising tend to be practical, analytical, discriminating, fastidious, careful, exacting, attentive to details, methodical, quiet, unassuming, shy, critical, thoughtful, and somewhat self-centered.'], dtype='object', name='first')"
      ]
     },
     "metadata": {},
     "output_type": "display_data"
    },
    {
     "name": "stdout",
     "output_type": "stream",
     "text": [
      "======\n",
      "16\n"
     ]
    },
    {
     "data": {
      "text/plain": [
       "Index(['You are clever, witty, and always have a joke or comeback ready for any situation.'], dtype='object', name='first')"
      ]
     },
     "metadata": {},
     "output_type": "display_data"
    },
    {
     "name": "stdout",
     "output_type": "stream",
     "text": [
      "37\n"
     ]
    },
    {
     "data": {
      "text/plain": [
       "Index(['At times you can be very indecisive and unsure.'], dtype='object', name='first')"
      ]
     },
     "metadata": {},
     "output_type": "display_data"
    },
    {
     "name": "stdout",
     "output_type": "stream",
     "text": [
      "======\n"
     ]
    }
   ],
   "source": [
    "for p in cluster_pairs:\n",
    "    print(p[0])\n",
    "    indices = np.where(clusters.labels_ == p[0])\n",
    "    display(df_piv.index[indices])\n",
    "    print(p[1])\n",
    "    indices = np.where(clusters.labels_ == p[1])\n",
    "    display(df_piv.index[indices])\n",
    "    print('======')"
   ]
  },
  {
   "cell_type": "markdown",
   "metadata": {},
   "source": [
    "### Try HDBSCAN clustering algorithm."
   ]
  },
  {
   "cell_type": "code",
   "execution_count": 51,
   "metadata": {},
   "outputs": [],
   "source": [
    "import hdbscan"
   ]
  },
  {
   "cell_type": "code",
   "execution_count": 52,
   "metadata": {},
   "outputs": [
    {
     "data": {
      "text/plain": [
       "HDBSCAN(algorithm='best', allow_single_cluster=False, alpha=1.0,\n",
       "        approx_min_span_tree=True, cluster_selection_epsilon=0.0,\n",
       "        cluster_selection_method='eom', core_dist_n_jobs=4,\n",
       "        gen_min_span_tree=False, leaf_size=40,\n",
       "        match_reference_implementation=False, memory=Memory(location=None),\n",
       "        metric='precomputed', min_cluster_size=5, min_samples=None, p=None,\n",
       "        prediction_data=False)"
      ]
     },
     "execution_count": 52,
     "metadata": {},
     "output_type": "execute_result"
    }
   ],
   "source": [
    "clusterer = hdbscan.HDBSCAN(metric='precomputed')\n",
    "clusterer.fit(dist_mat)"
   ]
  },
  {
   "cell_type": "code",
   "execution_count": 53,
   "metadata": {},
   "outputs": [
    {
     "data": {
      "text/plain": [
       "<matplotlib.axes._subplots.AxesSubplot at 0x27c4af35788>"
      ]
     },
     "execution_count": 53,
     "metadata": {},
     "output_type": "execute_result"
    },
    {
     "data": {
      "image/png": "[encoded data removed]",
      "text/plain": [
       "<Figure size 1440x720 with 2 Axes>"
      ]
     },
     "metadata": {},
     "output_type": "display_data"
    }
   ],
   "source": [
    "clusterer.condensed_tree_.plot()"
   ]
  },
  {
   "cell_type": "code",
   "execution_count": 54,
   "metadata": {},
   "outputs": [
    {
     "data": {
      "text/plain": [
       "<matplotlib.axes._subplots.AxesSubplot at 0x27c4efb51c8>"
      ]
     },
     "execution_count": 54,
     "metadata": {},
     "output_type": "execute_result"
    },
    {
     "data": {
      "image/png": "[encoded data removed]",
      "text/plain": [
       "<Figure size 1440x720 with 2 Axes>"
      ]
     },
     "metadata": {},
     "output_type": "display_data"
    }
   ],
   "source": [
    "clusterer.single_linkage_tree_.plot()"
   ]
  },
  {
   "cell_type": "code",
   "execution_count": 55,
   "metadata": {},
   "outputs": [
    {
     "data": {
      "text/plain": [
       "array([ 2,  2, -1,  2,  3,  3,  3,  3,  2,  2,  3,  3,  2, -1,  2,  1,  2,\n",
       "        2, -1,  2,  1,  2,  1,  1,  2,  2,  2,  2,  1,  2,  0,  2,  0,  2,\n",
       "        0,  2,  2,  0,  1,  1,  2,  2,  2,  2,  1,  2,  2,  2,  2,  2,  2,\n",
       "        2,  2,  2,  2,  0,  0,  2, -1,  1], dtype=int64)"
      ]
     },
     "execution_count": 55,
     "metadata": {},
     "output_type": "execute_result"
    }
   ],
   "source": [
    "clusterer.labels_"
   ]
  },
  {
   "cell_type": "code",
   "execution_count": 56,
   "metadata": {},
   "outputs": [
    {
     "data": {
      "text/plain": [
       "{-1: 4, 0: 6, 1: 9, 2: 35, 3: 6}"
      ]
     },
     "execution_count": 56,
     "metadata": {},
     "output_type": "execute_result"
    }
   ],
   "source": [
    "unique, counts = np.unique(clusterer.labels_, return_counts=True)\n",
    "dict(zip(unique, counts))"
   ]
  },
  {
   "cell_type": "code",
   "execution_count": 57,
   "metadata": {},
   "outputs": [
    {
     "data": {
      "text/plain": [
       "array([-1,  0,  1,  2,  3], dtype=int64)"
      ]
     },
     "execution_count": 57,
     "metadata": {},
     "output_type": "execute_result"
    }
   ],
   "source": [
    "unique"
   ]
  },
  {
   "cell_type": "code",
   "execution_count": 58,
   "metadata": {},
   "outputs": [
    {
     "name": "stdout",
     "output_type": "stream",
     "text": [
      "cluster -1 (size 4):\n",
      "[ 2 13 18 58]\n"
     ]
    },
    {
     "data": {
      "text/plain": [
       "'At times you can be lazy, hoping or expecting someone else to do the dirty work.'"
      ]
     },
     "metadata": {},
     "output_type": "display_data"
    },
    {
     "data": {
      "text/plain": [
       "'If you have Venus in Taurus, in love affairs you are generally loyal and steady, especially if your partner is demonstrative and affectionate.'"
      ]
     },
     "metadata": {},
     "output_type": "display_data"
    },
    {
     "data": {
      "text/plain": [
       "'Nothing or no one is ever gone if they leave their memory behind.'"
      ]
     },
     "metadata": {},
     "output_type": "display_data"
    },
    {
     "data": {
      "text/plain": [
       "'Your mother is/was a strong influence for good or ill in your life.'"
      ]
     },
     "metadata": {},
     "output_type": "display_data"
    },
    {
     "name": "stdout",
     "output_type": "stream",
     "text": [
      "\n",
      "\n",
      "cluster 0 (size 6):\n",
      "[30 32 34 37 55 56]\n"
     ]
    },
    {
     "data": {
      "text/plain": [
       "'You aim to please in practical and earthy ways.'"
      ]
     },
     "metadata": {},
     "output_type": "display_data"
    },
    {
     "data": {
      "text/plain": [
       "'You are basically an introvert, but will do whatever it takes to protect and defend your family or loved ones.'"
      ]
     },
     "metadata": {},
     "output_type": "display_data"
    },
    {
     "data": {
      "text/plain": [
       "'You are handy with your hands and may be ambidextrous or mechanically inclined.'"
      ]
     },
     "metadata": {},
     "output_type": "display_data"
    },
    {
     "data": {
      "text/plain": [
       "'You are tremendously responsive to beauty and physical appearances, and the physical attractiveness of your partner is very important to you.'"
      ]
     },
     "metadata": {},
     "output_type": "display_data"
    },
    {
     "data": {
      "text/plain": [
       "'You tend to be a pack-rat because everything has an emotional memory behind it and you find security in all those memories.'"
      ]
     },
     "metadata": {},
     "output_type": "display_data"
    },
    {
     "data": {
      "text/plain": [
       "'You tend to look younger than you really are, no matter what your age.'"
      ]
     },
     "metadata": {},
     "output_type": "display_data"
    },
    {
     "name": "stdout",
     "output_type": "stream",
     "text": [
      "\n",
      "\n",
      "cluster 1 (size 9):\n",
      "[15 20 22 23 28 38 39 44 59]\n"
     ]
    },
    {
     "data": {
      "text/plain": [
       "'Journalism, speaking, teaching, sales, advertising, or writing may appeal to you.'"
      ]
     },
     "metadata": {},
     "output_type": "display_data"
    },
    {
     "data": {
      "text/plain": [
       "'Perhaps this is why you so easily become moody, irritable and inconstant in thought and feeling.'"
      ]
     },
     "metadata": {},
     "output_type": "display_data"
    },
    {
     "data": {
      "text/plain": [
       "'Security is very important to you and you look for it in your home and family life.'"
      ]
     },
     "metadata": {},
     "output_type": "display_data"
    },
    {
     "data": {
      "text/plain": [
       "'Self-control needs to be developed and added to the qualifications you already possess -warmth, charm, sympathy, artistic.'"
      ]
     },
     "metadata": {},
     "output_type": "display_data"
    },
    {
     "data": {
      "text/plain": [
       "'Thus, you can become quite possessive.'"
      ]
     },
     "metadata": {},
     "output_type": "display_data"
    },
    {
     "data": {
      "text/plain": [
       "'You are very restless and nervous, so you seldom have much weight on you.'"
      ]
     },
     "metadata": {},
     "output_type": "display_data"
    },
    {
     "data": {
      "text/plain": [
       "'You are very tenacious and you do not give up or let go of things or people easily.'"
      ]
     },
     "metadata": {},
     "output_type": "display_data"
    },
    {
     "data": {
      "text/plain": [
       "'You have the memory of an elephant, but you must learn to forgive and forget past hurts.'"
      ]
     },
     "metadata": {},
     "output_type": "display_data"
    },
    {
     "data": {
      "text/plain": [
       "'Your senses and emotions are quite strong and it would be wise for you to listen to your intuitive side as you can be quite psychic.'"
      ]
     },
     "metadata": {},
     "output_type": "display_data"
    },
    {
     "name": "stdout",
     "output_type": "stream",
     "text": [
      "\n",
      "\n",
      "cluster 2 (size 35):\n",
      "[ 0  1  3  8  9 12 14 16 17 19 21 24 25 26 27 29 31 33 35 36 40 41 42 43\n",
      " 45 46 47 48 49 50 51 52 53 54 57]\n"
     ]
    },
    {
     "data": {
      "text/plain": [
       "'Anyone who lives with you must accept your ups and downs and appreciate your need for times of withdrawal.'"
      ]
     },
     "metadata": {},
     "output_type": "display_data"
    },
    {
     "data": {
      "text/plain": [
       "'At times others can never be \"good\" enough to meet those high standards.'"
      ]
     },
     "metadata": {},
     "output_type": "display_data"
    },
    {
     "data": {
      "text/plain": [
       "'At times you can be very indecisive and unsure.'"
      ]
     },
     "metadata": {},
     "output_type": "display_data"
    },
    {
     "data": {
      "text/plain": [
       "'Find your focus, stay with it and develop perseverance.'"
      ]
     },
     "metadata": {},
     "output_type": "display_data"
    },
    {
     "data": {
      "text/plain": [
       "\"Finding fault with what's wrong with things is your forte.\""
      ]
     },
     "metadata": {},
     "output_type": "display_data"
    },
    {
     "data": {
      "text/plain": [
       "'If you have Mercury in Gemini, you have an extremely adaptable, energetic, active, alert, curious, and versatile mind.'"
      ]
     },
     "metadata": {},
     "output_type": "display_data"
    },
    {
     "data": {
      "text/plain": [
       "'If you have the Moon in Cancer, you very easily respond to the emotional environment in which you are placed.'"
      ]
     },
     "metadata": {},
     "output_type": "display_data"
    },
    {
     "data": {
      "text/plain": [
       "'Learning to control your own moods may be very difficult, yet necessary, for you.'"
      ]
     },
     "metadata": {},
     "output_type": "display_data"
    },
    {
     "data": {
      "text/plain": [
       "'Mentally restless, you may change jobs or locations frequently, or do work that involves movement, travel, and variety.'"
      ]
     },
     "metadata": {},
     "output_type": "display_data"
    },
    {
     "data": {
      "text/plain": [
       "'People with Virgo rising tend to be practical, analytical, discriminating, fastidious, careful, exacting, attentive to details, methodical, quiet, unassuming, shy, critical, thoughtful, and somewhat self-centered.'"
      ]
     },
     "metadata": {},
     "output_type": "display_data"
    },
    {
     "data": {
      "text/plain": [
       "'Pessimism and being too self-critical are two faults you should try to improve upon.'"
      ]
     },
     "metadata": {},
     "output_type": "display_data"
    },
    {
     "data": {
      "text/plain": [
       "'Sometimes, though, this can make relationships sour as you often turn your critical eye on the one you love and the things they do.'"
      ]
     },
     "metadata": {},
     "output_type": "display_data"
    },
    {
     "data": {
      "text/plain": [
       "'There is a tendency to scratch the surface with the things that strike your interest without learning anything very deeply.'"
      ]
     },
     "metadata": {},
     "output_type": "display_data"
    },
    {
     "data": {
      "text/plain": [
       "'There is danger, then, of superficiality.'"
      ]
     },
     "metadata": {},
     "output_type": "display_data"
    },
    {
     "data": {
      "text/plain": [
       "'This is the jack-of-all-trades, master-of-none position.'"
      ]
     },
     "metadata": {},
     "output_type": "display_data"
    },
    {
     "data": {
      "text/plain": [
       "'Too much worry can lead to health problems.'"
      ]
     },
     "metadata": {},
     "output_type": "display_data"
    },
    {
     "data": {
      "text/plain": [
       "'You are also very sympathetic and understand the unspoken feelings and needs of others.'"
      ]
     },
     "metadata": {},
     "output_type": "display_data"
    },
    {
     "data": {
      "text/plain": [
       "'You are clever, witty, and always have a joke or comeback ready for any situation.'"
      ]
     },
     "metadata": {},
     "output_type": "display_data"
    },
    {
     "data": {
      "text/plain": [
       "'You are oriented towards the sensual side of life in everything you do and it may show through too much weight.'"
      ]
     },
     "metadata": {},
     "output_type": "display_data"
    },
    {
     "data": {
      "text/plain": [
       "'You are quick to grasp new concepts and equally quick to lose interest in an idea or project once your curiosity has been satisfied.'"
      ]
     },
     "metadata": {},
     "output_type": "display_data"
    },
    {
     "data": {
      "text/plain": [
       "'You enjoy indulging yourself and the ones you love and it is too easy for you to be extravagant and perhaps to put too much value in material things.'"
      ]
     },
     "metadata": {},
     "output_type": "display_data"
    },
    {
     "data": {
      "text/plain": [
       "\"You grasp concepts easily and may become impatient with those who don't learn as quickly.\""
      ]
     },
     "metadata": {},
     "output_type": "display_data"
    },
    {
     "data": {
      "text/plain": [
       "'You have an ingenious, active and alert mind.'"
      ]
     },
     "metadata": {},
     "output_type": "display_data"
    },
    {
     "data": {
      "text/plain": [
       "'You have so much nervous energy that this can sometimes cause great stress which must find an appropriate release.'"
      ]
     },
     "metadata": {},
     "output_type": "display_data"
    },
    {
     "data": {
      "text/plain": [
       "'You like to taste a little bit of everything – concentration and disciplined study are not your strong points.'"
      ]
     },
     "metadata": {},
     "output_type": "display_data"
    },
    {
     "data": {
      "text/plain": [
       "'You love being involved in multiple things at once and this may be a problem – too may irons in the fire at the same time.'"
      ]
     },
     "metadata": {},
     "output_type": "display_data"
    },
    {
     "data": {
      "text/plain": [
       "'You may tend to worry too much, especially about the small stuff, the little details.'"
      ]
     },
     "metadata": {},
     "output_type": "display_data"
    },
    {
     "data": {
      "text/plain": [
       "'You need to get rid of any negativity that stems from a feeling of inadequacy.'"
      ]
     },
     "metadata": {},
     "output_type": "display_data"
    },
    {
     "data": {
      "text/plain": [
       "'You need to learn to digest every experience and assimilate it without bitterness, regret, spite or resentment.'"
      ]
     },
     "metadata": {},
     "output_type": "display_data"
    },
    {
     "data": {
      "text/plain": [
       "\"You often appear irrational to others because you can't always explain the reason or source of your feelings.\""
      ]
     },
     "metadata": {},
     "output_type": "display_data"
    },
    {
     "data": {
      "text/plain": [
       "'You seek knowledge, either through reading or conversation, or through travel and talking with the new people you constantly meet.'"
      ]
     },
     "metadata": {},
     "output_type": "display_data"
    },
    {
     "data": {
      "text/plain": [
       "'You soak up feelings like a sponge.'"
      ]
     },
     "metadata": {},
     "output_type": "display_data"
    },
    {
     "data": {
      "text/plain": [
       "'You strive for perfection and can be quite the person to live with or to be around because your standards for yourself and others are so high.'"
      ]
     },
     "metadata": {},
     "output_type": "display_data"
    },
    {
     "data": {
      "text/plain": [
       "'You take slights very personally and though you may forgive a mistake by a friend or loved one, you never forget it.'"
      ]
     },
     "metadata": {},
     "output_type": "display_data"
    },
    {
     "data": {
      "text/plain": [
       "'Your greatest need is to nurture and mother someone or ones.'"
      ]
     },
     "metadata": {},
     "output_type": "display_data"
    },
    {
     "name": "stdout",
     "output_type": "stream",
     "text": [
      "\n",
      "\n",
      "cluster 3 (size 6):\n",
      "[ 4  5  6  7 10 11]\n"
     ]
    },
    {
     "data": {
      "text/plain": [
       "'Comfort is important to you and you hate getting your hands dirty.'"
      ]
     },
     "metadata": {},
     "output_type": "display_data"
    },
    {
     "data": {
      "text/plain": [
       "'Control of thought, word, and action is necessary in order to be successful.'"
      ]
     },
     "metadata": {},
     "output_type": "display_data"
    },
    {
     "data": {
      "text/plain": [
       "'Debate and argument appeal to you.'"
      ]
     },
     "metadata": {},
     "output_type": "display_data"
    },
    {
     "data": {
      "text/plain": [
       "'Exercise is a good way to release this tension.'"
      ]
     },
     "metadata": {},
     "output_type": "display_data"
    },
    {
     "data": {
      "text/plain": [
       "'Gaining knowledge and putting it to good use are important to you.'"
      ]
     },
     "metadata": {},
     "output_type": "display_data"
    },
    {
     "data": {
      "text/plain": [
       "'Guard against possessiveness, jealousy, and taking the easy way out in your relationships.'"
      ]
     },
     "metadata": {},
     "output_type": "display_data"
    },
    {
     "name": "stdout",
     "output_type": "stream",
     "text": [
      "\n",
      "\n"
     ]
    }
   ],
   "source": [
    "for i in unique:\n",
    "    indices = np.where(clusterer.labels_ == i)[0]\n",
    "\n",
    "    print(f'cluster {i} (size {len(indices)}):')\n",
    "    print(indices)\n",
    "    for idx in indices:\n",
    "        display(df_piv.index[idx])\n",
    "    print('\\n')"
   ]
  },
  {
   "cell_type": "code",
   "execution_count": 59,
   "metadata": {},
   "outputs": [
    {
     "data": {
      "text/plain": [
       "0.006936023956632612"
      ]
     },
     "execution_count": 59,
     "metadata": {},
     "output_type": "execute_result"
    }
   ],
   "source": [
    "silhouette_score(dist_mat, clusterer.labels_, metric='precomputed')"
   ]
  },
  {
   "cell_type": "markdown",
   "metadata": {},
   "source": [
    "the optimal clustering from HDBSCAN doesn't seem to have face validity, upon inspection of the sentences in the generated clusters."
   ]
  },
  {
   "cell_type": "code",
   "execution_count": null,
   "metadata": {},
   "outputs": [],
   "source": []
  }
 ],
 "metadata": {
  "kernelspec": {
   "display_name": "fyp",
   "language": "python",
   "name": "fyp"
  },
  "language_info": {
   "codemirror_mode": {
    "name": "ipython",
    "version": 3
   },
   "file_extension": ".py",
   "mimetype": "text/x-python",
   "name": "python",
   "nbconvert_exporter": "python",
   "pygments_lexer": "ipython3",
   "version": "3.7.4"
  }
 },
 "nbformat": 4,
 "nbformat_minor": 2
}
