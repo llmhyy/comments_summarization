{
 "cells": [
  {
   "cell_type": "code",
   "execution_count": 1,
   "metadata": {},
   "outputs": [],
   "source": [
    "import numpy as np\n",
    "import pandas as pd\n",
    "\n",
    "import scipy\n",
    "from scipy.cluster.hierarchy import dendrogram,linkage\n",
    "from scipy.cluster.hierarchy import fcluster\n",
    "from scipy.cluster.hierarchy import cophenet\n",
    "from scipy.spatial.distance import pdist\n",
    "\n",
    "import matplotlib.pyplot as plt\n",
    "from pylab import rcParams\n",
    "import seaborn as sb\n",
    "\n",
    "import sklearn\n",
    "# from sklearn import datasets\n",
    "from sklearn.cluster import AgglomerativeClustering\n",
    "import sklearn.metrics as sm\n",
    "from sklearn.preprocessing import scale"
   ]
  },
  {
   "cell_type": "code",
   "execution_count": 2,
   "metadata": {},
   "outputs": [],
   "source": [
    "# Configure the output\n",
    "np.set_printoptions(precision=4,suppress=True)\n",
    "%matplotlib inline\n",
    "rcParams[\"figure.figsize\"] =20,10\n",
    "sb.set_style(\"whitegrid\")"
   ]
  },
  {
   "cell_type": "code",
   "execution_count": null,
   "metadata": {},
   "outputs": [],
   "source": [
    "# read_csv to get distance scores of each sentence pair."
   ]
  },
  {
   "cell_type": "code",
   "execution_count": 4,
   "metadata": {
    "collapsed": true,
    "jupyter": {
     "outputs_hidden": true
    }
   },
   "outputs": [
    {
     "ename": "NameError",
     "evalue": "name 'df' is not defined",
     "output_type": "error",
     "traceback": [
      "\u001b[1;31m---------------------------------------------------------------------------\u001b[0m",
      "\u001b[1;31mNameError\u001b[0m                                 Traceback (most recent call last)",
      "\u001b[1;32m<ipython-input-4-1087b6681fe5>\u001b[0m in \u001b[0;36m<module>\u001b[1;34m\u001b[0m\n\u001b[1;32m----> 1\u001b[1;33m \u001b[0mdf_clean\u001b[0m \u001b[1;33m=\u001b[0m \u001b[0mdf\u001b[0m\u001b[1;33m.\u001b[0m\u001b[0mloc\u001b[0m\u001b[1;33m[\u001b[0m\u001b[0mdf\u001b[0m\u001b[1;33m[\u001b[0m\u001b[1;34m'score'\u001b[0m\u001b[1;33m]\u001b[0m \u001b[1;33m!=\u001b[0m \u001b[1;34m'na'\u001b[0m\u001b[1;33m]\u001b[0m\u001b[1;33m\u001b[0m\u001b[1;33m\u001b[0m\u001b[0m\n\u001b[0m\u001b[0;32m      2\u001b[0m \u001b[0mdf_clean\u001b[0m\u001b[1;33m.\u001b[0m\u001b[0mdescribe\u001b[0m\u001b[1;33m(\u001b[0m\u001b[1;33m)\u001b[0m\u001b[1;33m\u001b[0m\u001b[1;33m\u001b[0m\u001b[0m\n",
      "\u001b[1;31mNameError\u001b[0m: name 'df' is not defined"
     ]
    }
   ],
   "source": [
    "df_clean = df.loc[df['score'] != 'na']\n",
    "df_clean.describe()"
   ]
  },
  {
   "cell_type": "code",
   "execution_count": null,
   "metadata": {
    "collapsed": true,
    "jupyter": {
     "outputs_hidden": true
    }
   },
   "outputs": [],
   "source": [
    "df_clean = df_clean.copy()\n",
    "df_clean['dist'] = df_clean['score'].astype(int)\n",
    "df_clean.head()"
   ]
  },
  {
   "cell_type": "code",
   "execution_count": null,
   "metadata": {
    "collapsed": true,
    "jupyter": {
     "outputs_hidden": true
    }
   },
   "outputs": [],
   "source": [
    "df_clean = df_clean.drop(columns=['score'])\n",
    "df_clean.head()"
   ]
  },
  {
   "cell_type": "code",
   "execution_count": null,
   "metadata": {
    "collapsed": true,
    "jupyter": {
     "outputs_hidden": true
    }
   },
   "outputs": [],
   "source": [
    "df_clean.describe()"
   ]
  },
  {
   "cell_type": "markdown",
   "metadata": {},
   "source": [
    "### import from csv instead."
   ]
  },
  {
   "cell_type": "code",
   "execution_count": 37,
   "metadata": {},
   "outputs": [
    {
     "data": {
      "text/html": [
       "<div>\n",
       "<style scoped>\n",
       "    .dataframe tbody tr th:only-of-type {\n",
       "        vertical-align: middle;\n",
       "    }\n",
       "\n",
       "    .dataframe tbody tr th {\n",
       "        vertical-align: top;\n",
       "    }\n",
       "\n",
       "    .dataframe thead th {\n",
       "        text-align: right;\n",
       "    }\n",
       "</style>\n",
       "<table border=\"1\" class=\"dataframe\">\n",
       "  <thead>\n",
       "    <tr style=\"text-align: right;\">\n",
       "      <th></th>\n",
       "      <th>Unnamed: 0</th>\n",
       "      <th>predicted_class</th>\n",
       "      <th>C</th>\n",
       "      <th>N</th>\n",
       "      <th>E</th>\n",
       "      <th>dist</th>\n",
       "    </tr>\n",
       "  </thead>\n",
       "  <tbody>\n",
       "    <tr>\n",
       "      <th>0</th>\n",
       "      <td>0</td>\n",
       "      <td>neutral</td>\n",
       "      <td>0.022798</td>\n",
       "      <td>0.880442</td>\n",
       "      <td>0.096760</td>\n",
       "      <td>0.450491</td>\n",
       "    </tr>\n",
       "    <tr>\n",
       "      <th>1</th>\n",
       "      <td>1</td>\n",
       "      <td>entailment</td>\n",
       "      <td>0.001746</td>\n",
       "      <td>0.039801</td>\n",
       "      <td>0.958454</td>\n",
       "      <td>0.019935</td>\n",
       "    </tr>\n",
       "    <tr>\n",
       "      <th>2</th>\n",
       "      <td>2</td>\n",
       "      <td>neutral</td>\n",
       "      <td>0.004882</td>\n",
       "      <td>0.990273</td>\n",
       "      <td>0.004845</td>\n",
       "      <td>0.497565</td>\n",
       "    </tr>\n",
       "    <tr>\n",
       "      <th>3</th>\n",
       "      <td>3</td>\n",
       "      <td>neutral</td>\n",
       "      <td>0.052050</td>\n",
       "      <td>0.944104</td>\n",
       "      <td>0.003846</td>\n",
       "      <td>0.497971</td>\n",
       "    </tr>\n",
       "    <tr>\n",
       "      <th>4</th>\n",
       "      <td>4</td>\n",
       "      <td>entailment</td>\n",
       "      <td>0.001493</td>\n",
       "      <td>0.161846</td>\n",
       "      <td>0.836661</td>\n",
       "      <td>0.081044</td>\n",
       "    </tr>\n",
       "  </tbody>\n",
       "</table>\n",
       "</div>"
      ],
      "text/plain": [
       "   Unnamed: 0 predicted_class         C         N         E      dist\n",
       "0           0         neutral  0.022798  0.880442  0.096760  0.450491\n",
       "1           1      entailment  0.001746  0.039801  0.958454  0.019935\n",
       "2           2         neutral  0.004882  0.990273  0.004845  0.497565\n",
       "3           3         neutral  0.052050  0.944104  0.003846  0.497971\n",
       "4           4      entailment  0.001493  0.161846  0.836661  0.081044"
      ]
     },
     "metadata": {},
     "output_type": "display_data"
    },
    {
     "data": {
      "text/html": [
       "<div>\n",
       "<style scoped>\n",
       "    .dataframe tbody tr th:only-of-type {\n",
       "        vertical-align: middle;\n",
       "    }\n",
       "\n",
       "    .dataframe tbody tr th {\n",
       "        vertical-align: top;\n",
       "    }\n",
       "\n",
       "    .dataframe thead th {\n",
       "        text-align: right;\n",
       "    }\n",
       "</style>\n",
       "<table border=\"1\" class=\"dataframe\">\n",
       "  <thead>\n",
       "    <tr style=\"text-align: right;\">\n",
       "      <th></th>\n",
       "      <th>Unnamed: 0</th>\n",
       "      <th>first</th>\n",
       "      <th>second</th>\n",
       "    </tr>\n",
       "  </thead>\n",
       "  <tbody>\n",
       "    <tr>\n",
       "      <th>0</th>\n",
       "      <td>0</td>\n",
       "      <td>You never give up.</td>\n",
       "      <td>You never find it difficult to change your min...</td>\n",
       "    </tr>\n",
       "    <tr>\n",
       "      <th>1</th>\n",
       "      <td>1</td>\n",
       "      <td>You never give up.</td>\n",
       "      <td>Whatever you have set your sights on, you refu...</td>\n",
       "    </tr>\n",
       "    <tr>\n",
       "      <th>2</th>\n",
       "      <td>2</td>\n",
       "      <td>You never give up.</td>\n",
       "      <td>You are patient unless someone takes you too far.</td>\n",
       "    </tr>\n",
       "    <tr>\n",
       "      <th>3</th>\n",
       "      <td>3</td>\n",
       "      <td>You never give up.</td>\n",
       "      <td>You are usually slow to anger unless someone t...</td>\n",
       "    </tr>\n",
       "    <tr>\n",
       "      <th>4</th>\n",
       "      <td>4</td>\n",
       "      <td>You never give up.</td>\n",
       "      <td>You are reliable.</td>\n",
       "    </tr>\n",
       "  </tbody>\n",
       "</table>\n",
       "</div>"
      ],
      "text/plain": [
       "   Unnamed: 0               first  \\\n",
       "0           0  You never give up.   \n",
       "1           1  You never give up.   \n",
       "2           2  You never give up.   \n",
       "3           3  You never give up.   \n",
       "4           4  You never give up.   \n",
       "\n",
       "                                              second  \n",
       "0  You never find it difficult to change your min...  \n",
       "1  Whatever you have set your sights on, you refu...  \n",
       "2  You are patient unless someone takes you too far.  \n",
       "3  You are usually slow to anger unless someone t...  \n",
       "4                                  You are reliable.  "
      ]
     },
     "metadata": {},
     "output_type": "display_data"
    }
   ],
   "source": [
    "df_clean = pd.read_csv(\"../data/roberta/Astro1_decomposed_clean_pairs_roberta_distances.csv\")\n",
    "df_pairs = pd.read_csv(\"../data/Astro1_decomposed_clean_pairs.csv\")\n",
    "display(df_clean.head(), df_pairs.head())"
   ]
  },
  {
   "cell_type": "code",
   "execution_count": 38,
   "metadata": {},
   "outputs": [
    {
     "data": {
      "text/html": [
       "<div>\n",
       "<style scoped>\n",
       "    .dataframe tbody tr th:only-of-type {\n",
       "        vertical-align: middle;\n",
       "    }\n",
       "\n",
       "    .dataframe tbody tr th {\n",
       "        vertical-align: top;\n",
       "    }\n",
       "\n",
       "    .dataframe thead th {\n",
       "        text-align: right;\n",
       "    }\n",
       "</style>\n",
       "<table border=\"1\" class=\"dataframe\">\n",
       "  <thead>\n",
       "    <tr style=\"text-align: right;\">\n",
       "      <th></th>\n",
       "      <th>predicted_class</th>\n",
       "      <th>C</th>\n",
       "      <th>N</th>\n",
       "      <th>E</th>\n",
       "      <th>dist</th>\n",
       "    </tr>\n",
       "  </thead>\n",
       "  <tbody>\n",
       "    <tr>\n",
       "      <th>0</th>\n",
       "      <td>neutral</td>\n",
       "      <td>0.022798</td>\n",
       "      <td>0.880442</td>\n",
       "      <td>0.096760</td>\n",
       "      <td>0.450491</td>\n",
       "    </tr>\n",
       "    <tr>\n",
       "      <th>1</th>\n",
       "      <td>entailment</td>\n",
       "      <td>0.001746</td>\n",
       "      <td>0.039801</td>\n",
       "      <td>0.958454</td>\n",
       "      <td>0.019935</td>\n",
       "    </tr>\n",
       "    <tr>\n",
       "      <th>2</th>\n",
       "      <td>neutral</td>\n",
       "      <td>0.004882</td>\n",
       "      <td>0.990273</td>\n",
       "      <td>0.004845</td>\n",
       "      <td>0.497565</td>\n",
       "    </tr>\n",
       "    <tr>\n",
       "      <th>3</th>\n",
       "      <td>neutral</td>\n",
       "      <td>0.052050</td>\n",
       "      <td>0.944104</td>\n",
       "      <td>0.003846</td>\n",
       "      <td>0.497971</td>\n",
       "    </tr>\n",
       "    <tr>\n",
       "      <th>4</th>\n",
       "      <td>entailment</td>\n",
       "      <td>0.001493</td>\n",
       "      <td>0.161846</td>\n",
       "      <td>0.836661</td>\n",
       "      <td>0.081044</td>\n",
       "    </tr>\n",
       "  </tbody>\n",
       "</table>\n",
       "</div>"
      ],
      "text/plain": [
       "  predicted_class         C         N         E      dist\n",
       "0         neutral  0.022798  0.880442  0.096760  0.450491\n",
       "1      entailment  0.001746  0.039801  0.958454  0.019935\n",
       "2         neutral  0.004882  0.990273  0.004845  0.497565\n",
       "3         neutral  0.052050  0.944104  0.003846  0.497971\n",
       "4      entailment  0.001493  0.161846  0.836661  0.081044"
      ]
     },
     "metadata": {},
     "output_type": "display_data"
    },
    {
     "data": {
      "text/html": [
       "<div>\n",
       "<style scoped>\n",
       "    .dataframe tbody tr th:only-of-type {\n",
       "        vertical-align: middle;\n",
       "    }\n",
       "\n",
       "    .dataframe tbody tr th {\n",
       "        vertical-align: top;\n",
       "    }\n",
       "\n",
       "    .dataframe thead th {\n",
       "        text-align: right;\n",
       "    }\n",
       "</style>\n",
       "<table border=\"1\" class=\"dataframe\">\n",
       "  <thead>\n",
       "    <tr style=\"text-align: right;\">\n",
       "      <th></th>\n",
       "      <th>first</th>\n",
       "      <th>second</th>\n",
       "    </tr>\n",
       "  </thead>\n",
       "  <tbody>\n",
       "    <tr>\n",
       "      <th>0</th>\n",
       "      <td>You never give up.</td>\n",
       "      <td>You never find it difficult to change your min...</td>\n",
       "    </tr>\n",
       "    <tr>\n",
       "      <th>1</th>\n",
       "      <td>You never give up.</td>\n",
       "      <td>Whatever you have set your sights on, you refu...</td>\n",
       "    </tr>\n",
       "    <tr>\n",
       "      <th>2</th>\n",
       "      <td>You never give up.</td>\n",
       "      <td>You are patient unless someone takes you too far.</td>\n",
       "    </tr>\n",
       "    <tr>\n",
       "      <th>3</th>\n",
       "      <td>You never give up.</td>\n",
       "      <td>You are usually slow to anger unless someone t...</td>\n",
       "    </tr>\n",
       "    <tr>\n",
       "      <th>4</th>\n",
       "      <td>You never give up.</td>\n",
       "      <td>You are reliable.</td>\n",
       "    </tr>\n",
       "  </tbody>\n",
       "</table>\n",
       "</div>"
      ],
      "text/plain": [
       "                first                                             second\n",
       "0  You never give up.  You never find it difficult to change your min...\n",
       "1  You never give up.  Whatever you have set your sights on, you refu...\n",
       "2  You never give up.  You are patient unless someone takes you too far.\n",
       "3  You never give up.  You are usually slow to anger unless someone t...\n",
       "4  You never give up.                                  You are reliable."
      ]
     },
     "metadata": {},
     "output_type": "display_data"
    }
   ],
   "source": [
    "df_clean = df_clean.drop(columns=[\"Unnamed: 0\"])\n",
    "df_pairs = df_pairs.drop(columns=[\"Unnamed: 0\"])\n",
    "display(df_clean.head(), df_pairs.head())"
   ]
  },
  {
   "cell_type": "code",
   "execution_count": 39,
   "metadata": {},
   "outputs": [],
   "source": [
    "df_pairs = df_pairs.assign(dist=df_clean['dist'])"
   ]
  },
  {
   "cell_type": "code",
   "execution_count": 40,
   "metadata": {},
   "outputs": [
    {
     "data": {
      "text/html": [
       "<div>\n",
       "<style scoped>\n",
       "    .dataframe tbody tr th:only-of-type {\n",
       "        vertical-align: middle;\n",
       "    }\n",
       "\n",
       "    .dataframe tbody tr th {\n",
       "        vertical-align: top;\n",
       "    }\n",
       "\n",
       "    .dataframe thead th {\n",
       "        text-align: right;\n",
       "    }\n",
       "</style>\n",
       "<table border=\"1\" class=\"dataframe\">\n",
       "  <thead>\n",
       "    <tr style=\"text-align: right;\">\n",
       "      <th></th>\n",
       "      <th>first</th>\n",
       "      <th>second</th>\n",
       "      <th>dist</th>\n",
       "    </tr>\n",
       "  </thead>\n",
       "  <tbody>\n",
       "    <tr>\n",
       "      <th>0</th>\n",
       "      <td>You never give up.</td>\n",
       "      <td>You never find it difficult to change your min...</td>\n",
       "      <td>0.450491</td>\n",
       "    </tr>\n",
       "    <tr>\n",
       "      <th>1</th>\n",
       "      <td>You never give up.</td>\n",
       "      <td>Whatever you have set your sights on, you refu...</td>\n",
       "      <td>0.019935</td>\n",
       "    </tr>\n",
       "    <tr>\n",
       "      <th>2</th>\n",
       "      <td>You never give up.</td>\n",
       "      <td>You are patient unless someone takes you too far.</td>\n",
       "      <td>0.497565</td>\n",
       "    </tr>\n",
       "    <tr>\n",
       "      <th>3</th>\n",
       "      <td>You never give up.</td>\n",
       "      <td>You are usually slow to anger unless someone t...</td>\n",
       "      <td>0.497971</td>\n",
       "    </tr>\n",
       "    <tr>\n",
       "      <th>4</th>\n",
       "      <td>You never give up.</td>\n",
       "      <td>You are reliable.</td>\n",
       "      <td>0.081044</td>\n",
       "    </tr>\n",
       "  </tbody>\n",
       "</table>\n",
       "</div>"
      ],
      "text/plain": [
       "                first                                             second  \\\n",
       "0  You never give up.  You never find it difficult to change your min...   \n",
       "1  You never give up.  Whatever you have set your sights on, you refu...   \n",
       "2  You never give up.  You are patient unless someone takes you too far.   \n",
       "3  You never give up.  You are usually slow to anger unless someone t...   \n",
       "4  You never give up.                                  You are reliable.   \n",
       "\n",
       "       dist  \n",
       "0  0.450491  \n",
       "1  0.019935  \n",
       "2  0.497565  \n",
       "3  0.497971  \n",
       "4  0.081044  "
      ]
     },
     "execution_count": 40,
     "metadata": {},
     "output_type": "execute_result"
    }
   ],
   "source": [
    "df_pairs.head()"
   ]
  },
  {
   "cell_type": "code",
   "execution_count": 3,
   "metadata": {},
   "outputs": [
    {
     "data": {
      "text/html": [
       "<div>\n",
       "<style scoped>\n",
       "    .dataframe tbody tr th:only-of-type {\n",
       "        vertical-align: middle;\n",
       "    }\n",
       "\n",
       "    .dataframe tbody tr th {\n",
       "        vertical-align: top;\n",
       "    }\n",
       "\n",
       "    .dataframe thead th {\n",
       "        text-align: right;\n",
       "    }\n",
       "</style>\n",
       "<table border=\"1\" class=\"dataframe\">\n",
       "  <thead>\n",
       "    <tr style=\"text-align: right;\">\n",
       "      <th></th>\n",
       "      <th>Unnamed: 0</th>\n",
       "      <th>first_index</th>\n",
       "      <th>second_index</th>\n",
       "      <th>relation_score</th>\n",
       "      <th>first</th>\n",
       "      <th>second</th>\n",
       "      <th>dist</th>\n",
       "    </tr>\n",
       "  </thead>\n",
       "  <tbody>\n",
       "    <tr>\n",
       "      <th>0</th>\n",
       "      <td>0</td>\n",
       "      <td>0</td>\n",
       "      <td>1</td>\n",
       "      <td>0.000000</td>\n",
       "      <td>You never give up.</td>\n",
       "      <td>You never find it difficult to change your min...</td>\n",
       "      <td>0.500000</td>\n",
       "    </tr>\n",
       "    <tr>\n",
       "      <th>1</th>\n",
       "      <td>1</td>\n",
       "      <td>0</td>\n",
       "      <td>2</td>\n",
       "      <td>0.000000</td>\n",
       "      <td>You never give up.</td>\n",
       "      <td>Whatever you have set your sights on, you refu...</td>\n",
       "      <td>0.500000</td>\n",
       "    </tr>\n",
       "    <tr>\n",
       "      <th>2</th>\n",
       "      <td>2</td>\n",
       "      <td>0</td>\n",
       "      <td>3</td>\n",
       "      <td>0.000000</td>\n",
       "      <td>You never give up.</td>\n",
       "      <td>You are patient unless someone takes you too far.</td>\n",
       "      <td>0.500000</td>\n",
       "    </tr>\n",
       "    <tr>\n",
       "      <th>3</th>\n",
       "      <td>3</td>\n",
       "      <td>0</td>\n",
       "      <td>4</td>\n",
       "      <td>0.007928</td>\n",
       "      <td>You never give up.</td>\n",
       "      <td>You are usually slow to anger unless someone t...</td>\n",
       "      <td>0.496036</td>\n",
       "    </tr>\n",
       "    <tr>\n",
       "      <th>4</th>\n",
       "      <td>4</td>\n",
       "      <td>0</td>\n",
       "      <td>5</td>\n",
       "      <td>-0.416145</td>\n",
       "      <td>You never give up.</td>\n",
       "      <td>You are reliable.</td>\n",
       "      <td>0.708073</td>\n",
       "    </tr>\n",
       "  </tbody>\n",
       "</table>\n",
       "</div>"
      ],
      "text/plain": [
       "   Unnamed: 0  first_index  second_index  relation_score               first  \\\n",
       "0           0            0             1        0.000000  You never give up.   \n",
       "1           1            0             2        0.000000  You never give up.   \n",
       "2           2            0             3        0.000000  You never give up.   \n",
       "3           3            0             4        0.007928  You never give up.   \n",
       "4           4            0             5       -0.416145  You never give up.   \n",
       "\n",
       "                                              second      dist  \n",
       "0  You never find it difficult to change your min...  0.500000  \n",
       "1  Whatever you have set your sights on, you refu...  0.500000  \n",
       "2  You are patient unless someone takes you too far.  0.500000  \n",
       "3  You are usually slow to anger unless someone t...  0.496036  \n",
       "4                                  You are reliable.  0.708073  "
      ]
     },
     "execution_count": 3,
     "metadata": {},
     "output_type": "execute_result"
    }
   ],
   "source": [
    "df_pairs = pd.read_csv(\"../data/roberta_kg_astro1clean_distances(debugged1).csv\")\n",
    "df_pairs.head()"
   ]
  },
  {
   "cell_type": "markdown",
   "metadata": {},
   "source": [
    "### actual processing begins here."
   ]
  },
  {
   "cell_type": "code",
   "execution_count": 41,
   "metadata": {},
   "outputs": [
    {
     "name": "stdout",
     "output_type": "stream",
     "text": [
      "47\n"
     ]
    }
   ],
   "source": [
    "# convert this original dataframe to a 'square' distance matrix.\n",
    "# we utilise a pivot table to do this\n",
    "\n",
    "# first, add the redundant pairs (two of the same sentences) to the data.\n",
    "# we need this for the pivot function to generate the correct rows and columns.\n",
    "first = np.unique(df_pairs['first'].values)\n",
    "second = np.unique(df_pairs['second'].values)\n",
    "combined_arr = np.concatenate((first, second))\n",
    "sentences = np.unique(combined_arr)\n",
    "print(len(sentences))"
   ]
  },
  {
   "cell_type": "code",
   "execution_count": 44,
   "metadata": {
    "scrolled": true
   },
   "outputs": [
    {
     "name": "stdout",
     "output_type": "stream",
     "text": [
      "[['Debate and argument appeal to you.'\n",
      "  'Debate and argument appeal to you.' 0.0]\n",
      " ['Keeping things going is your strength, especially once someone else starts them.'\n",
      "  'Keeping things going is your strength, especially once someone else starts them.'\n",
      "  0.0]\n",
      " ['Money and possessions are important to you for the feelings of security they bring.'\n",
      "  'Money and possessions are important to you for the feelings of security they bring.'\n",
      "  0.0]\n",
      " ['Whatever you have set your sights on, you refuse to give up or let go of it.'\n",
      "  'Whatever you have set your sights on, you refuse to give up or let go of it.'\n",
      "  0.0]\n",
      " ['You are adventurous.' 'You are adventurous.' 0.0]\n",
      " ['You are consistent.' 'You are consistent.' 0.0]\n",
      " ['You are courageous.' 'You are courageous.' 0.0]\n",
      " ['You are gentle.' 'You are gentle.' 0.0]\n",
      " ['You are handy with your hands.' 'You are handy with your hands.' 0.0]\n",
      " ['You are independent.' 'You are independent.' 0.0]\n",
      " ['You are patient unless someone takes you too far.'\n",
      "  'You are patient unless someone takes you too far.' 0.0]\n",
      " ['You are quiet.' 'You are quiet.' 0.0]\n",
      " ['You are reliable.' 'You are reliable.' 0.0]\n",
      " ['You are romantic.' 'You are romantic.' 0.0]\n",
      " ['You are sensitive.' 'You are sensitive.' 0.0]\n",
      " ['You are sentimental.' 'You are sentimental.' 0.0]\n",
      " ['You are shy.' 'You are shy.' 0.0]\n",
      " ['You are usually outspoken, sometimes to the point of bluntness.'\n",
      "  'You are usually outspoken, sometimes to the point of bluntness.' 0.0]\n",
      " ['You are usually slow to anger unless someone takes you too far.'\n",
      "  'You are usually slow to anger unless someone takes you too far.' 0.0]\n",
      " ['You are very direct in thought, action, and speech and everyone knows how you feel.'\n",
      "  'You are very direct in thought, action, and speech and everyone knows how you feel.'\n",
      "  0.0]\n",
      " ['You can handle more of the workload than most around you.'\n",
      "  'You can handle more of the workload than most around you.' 0.0]\n",
      " ['You enjoy building and seeing the results of your hard work.'\n",
      "  'You enjoy building and seeing the results of your hard work.' 0.0]\n",
      " ['You grasp concepts easily.' 'You grasp concepts easily.' 0.0]\n",
      " ['You have common sense to manage others.'\n",
      "  'You have common sense to manage others.' 0.0]\n",
      " ['You have the ability to manage others.'\n",
      "  'You have the ability to manage others.' 0.0]\n",
      " ['You may be a bit of a perfectionist.'\n",
      "  'You may be a bit of a perfectionist.' 0.0]\n",
      " ['You may be ambidextrous or mechanically inclined.'\n",
      "  'You may be ambidextrous or mechanically inclined.' 0.0]\n",
      " [\"You may become impatient with those who do n't learn as quickly.\"\n",
      "  \"You may become impatient with those who do n't learn as quickly.\" 0.0]\n",
      " ['You never find it difficult to change your mind or course in mid-stream.'\n",
      "  'You never find it difficult to change your mind or course in mid-stream.'\n",
      "  0.0]\n",
      " ['You never give up.' 'You never give up.' 0.0]\n",
      " ['You prefer a regular routine, defined responsibilities.'\n",
      "  'You prefer a regular routine, defined responsibilities.' 0.0]\n",
      " ['You prefer a regular routine, defined tasks.'\n",
      "  'You prefer a regular routine, defined tasks.' 0.0]\n",
      " ['You tend to be dependable.' 'You tend to be dependable.' 0.0]\n",
      " ['You tend to be friendly.' 'You tend to be friendly.' 0.0]\n",
      " ['You tend to be honest.' 'You tend to be honest.' 0.0]\n",
      " ['You tend to be idealistic.' 'You tend to be idealistic.' 0.0]\n",
      " ['You tend to be industrious, efficient, practical, exacting, scientific, organized, shy, thrifty, studious, economical, and punctual.'\n",
      "  'You tend to be industrious, efficient, practical, exacting, scientific, organized, shy, thrifty, studious, economical, and punctual.'\n",
      "  0.0]\n",
      " ['You tend to be open-minded.' 'You tend to be open-minded.' 0.0]\n",
      " ['You tend to be optimistic.' 'You tend to be optimistic.' 0.0]\n",
      " ['You tend to be versatile.' 'You tend to be versatile.' 0.0]\n",
      " ['Your mind is analytical.' 'Your mind is analytical.' 0.0]\n",
      " ['Your mind is deep.' 'Your mind is deep.' 0.0]\n",
      " ['Your work is usually neat.' 'Your work is usually neat.' 0.0]\n",
      " ['Your work is usually orderly.' 'Your work is usually orderly.' 0.0]\n",
      " ['you dislike dirt.' 'you dislike dirt.' 0.0]\n",
      " ['you dislike messes.' 'you dislike messes.' 0.0]\n",
      " ['you probably have a good head for numbers.'\n",
      "  'you probably have a good head for numbers.' 0.0]]\n"
     ]
    }
   ],
   "source": [
    "#add_data = np.column_stack([np.zeros(len(sentences)), np.zeros(len(sentences)), np.zeros(len(sentences)), np.zeros(len(sentences)), sentences, sentences, np.zeros(len(sentences))])\n",
    "add_data = np.column_stack([sentences, sentences, np.zeros(len(sentences))])\n",
    "\n",
    "print(add_data)"
   ]
  },
  {
   "cell_type": "code",
   "execution_count": 45,
   "metadata": {},
   "outputs": [
    {
     "data": {
      "text/html": [
       "<div>\n",
       "<style scoped>\n",
       "    .dataframe tbody tr th:only-of-type {\n",
       "        vertical-align: middle;\n",
       "    }\n",
       "\n",
       "    .dataframe tbody tr th {\n",
       "        vertical-align: top;\n",
       "    }\n",
       "\n",
       "    .dataframe thead th {\n",
       "        text-align: right;\n",
       "    }\n",
       "</style>\n",
       "<table border=\"1\" class=\"dataframe\">\n",
       "  <thead>\n",
       "    <tr style=\"text-align: right;\">\n",
       "      <th></th>\n",
       "      <th>first</th>\n",
       "      <th>second</th>\n",
       "      <th>dist</th>\n",
       "    </tr>\n",
       "  </thead>\n",
       "  <tbody>\n",
       "    <tr>\n",
       "      <th>0</th>\n",
       "      <td>Debate and argument appeal to you.</td>\n",
       "      <td>Debate and argument appeal to you.</td>\n",
       "      <td>0</td>\n",
       "    </tr>\n",
       "    <tr>\n",
       "      <th>1</th>\n",
       "      <td>Keeping things going is your strength, especia...</td>\n",
       "      <td>Keeping things going is your strength, especia...</td>\n",
       "      <td>0</td>\n",
       "    </tr>\n",
       "    <tr>\n",
       "      <th>2</th>\n",
       "      <td>Money and possessions are important to you for...</td>\n",
       "      <td>Money and possessions are important to you for...</td>\n",
       "      <td>0</td>\n",
       "    </tr>\n",
       "    <tr>\n",
       "      <th>3</th>\n",
       "      <td>Whatever you have set your sights on, you refu...</td>\n",
       "      <td>Whatever you have set your sights on, you refu...</td>\n",
       "      <td>0</td>\n",
       "    </tr>\n",
       "    <tr>\n",
       "      <th>4</th>\n",
       "      <td>You are adventurous.</td>\n",
       "      <td>You are adventurous.</td>\n",
       "      <td>0</td>\n",
       "    </tr>\n",
       "  </tbody>\n",
       "</table>\n",
       "</div>"
      ],
      "text/plain": [
       "                                               first  \\\n",
       "0                 Debate and argument appeal to you.   \n",
       "1  Keeping things going is your strength, especia...   \n",
       "2  Money and possessions are important to you for...   \n",
       "3  Whatever you have set your sights on, you refu...   \n",
       "4                               You are adventurous.   \n",
       "\n",
       "                                              second dist  \n",
       "0                 Debate and argument appeal to you.    0  \n",
       "1  Keeping things going is your strength, especia...    0  \n",
       "2  Money and possessions are important to you for...    0  \n",
       "3  Whatever you have set your sights on, you refu...    0  \n",
       "4                               You are adventurous.    0  "
      ]
     },
     "execution_count": 45,
     "metadata": {},
     "output_type": "execute_result"
    }
   ],
   "source": [
    "add_df = pd.DataFrame(data=add_data, columns=df_pairs.columns)\n",
    "add_df.head()"
   ]
  },
  {
   "cell_type": "code",
   "execution_count": 46,
   "metadata": {},
   "outputs": [
    {
     "data": {
      "text/html": [
       "<div>\n",
       "<style scoped>\n",
       "    .dataframe tbody tr th:only-of-type {\n",
       "        vertical-align: middle;\n",
       "    }\n",
       "\n",
       "    .dataframe tbody tr th {\n",
       "        vertical-align: top;\n",
       "    }\n",
       "\n",
       "    .dataframe thead th {\n",
       "        text-align: right;\n",
       "    }\n",
       "</style>\n",
       "<table border=\"1\" class=\"dataframe\">\n",
       "  <thead>\n",
       "    <tr style=\"text-align: right;\">\n",
       "      <th></th>\n",
       "      <th>first</th>\n",
       "      <th>second</th>\n",
       "      <th>dist</th>\n",
       "    </tr>\n",
       "  </thead>\n",
       "  <tbody>\n",
       "    <tr>\n",
       "      <th>1123</th>\n",
       "      <td>Your work is usually neat.</td>\n",
       "      <td>Your work is usually neat.</td>\n",
       "      <td>0</td>\n",
       "    </tr>\n",
       "    <tr>\n",
       "      <th>1124</th>\n",
       "      <td>Your work is usually orderly.</td>\n",
       "      <td>Your work is usually orderly.</td>\n",
       "      <td>0</td>\n",
       "    </tr>\n",
       "    <tr>\n",
       "      <th>1125</th>\n",
       "      <td>you dislike dirt.</td>\n",
       "      <td>you dislike dirt.</td>\n",
       "      <td>0</td>\n",
       "    </tr>\n",
       "    <tr>\n",
       "      <th>1126</th>\n",
       "      <td>you dislike messes.</td>\n",
       "      <td>you dislike messes.</td>\n",
       "      <td>0</td>\n",
       "    </tr>\n",
       "    <tr>\n",
       "      <th>1127</th>\n",
       "      <td>you probably have a good head for numbers.</td>\n",
       "      <td>you probably have a good head for numbers.</td>\n",
       "      <td>0</td>\n",
       "    </tr>\n",
       "  </tbody>\n",
       "</table>\n",
       "</div>"
      ],
      "text/plain": [
       "                                           first  \\\n",
       "1123                  Your work is usually neat.   \n",
       "1124               Your work is usually orderly.   \n",
       "1125                           you dislike dirt.   \n",
       "1126                         you dislike messes.   \n",
       "1127  you probably have a good head for numbers.   \n",
       "\n",
       "                                          second dist  \n",
       "1123                  Your work is usually neat.    0  \n",
       "1124               Your work is usually orderly.    0  \n",
       "1125                           you dislike dirt.    0  \n",
       "1126                         you dislike messes.    0  \n",
       "1127  you probably have a good head for numbers.    0  "
      ]
     },
     "execution_count": 46,
     "metadata": {},
     "output_type": "execute_result"
    }
   ],
   "source": [
    "df_clean = df_pairs.append(add_df, ignore_index=True)\n",
    "df_clean.tail()"
   ]
  },
  {
   "cell_type": "code",
   "execution_count": 47,
   "metadata": {},
   "outputs": [
    {
     "data": {
      "text/html": [
       "<div>\n",
       "<style scoped>\n",
       "    .dataframe tbody tr th:only-of-type {\n",
       "        vertical-align: middle;\n",
       "    }\n",
       "\n",
       "    .dataframe tbody tr th {\n",
       "        vertical-align: top;\n",
       "    }\n",
       "\n",
       "    .dataframe thead th {\n",
       "        text-align: right;\n",
       "    }\n",
       "</style>\n",
       "<table border=\"1\" class=\"dataframe\">\n",
       "  <thead>\n",
       "    <tr style=\"text-align: right;\">\n",
       "      <th></th>\n",
       "      <th>first</th>\n",
       "      <th>second</th>\n",
       "      <th>dist</th>\n",
       "    </tr>\n",
       "  </thead>\n",
       "  <tbody>\n",
       "    <tr>\n",
       "      <th>count</th>\n",
       "      <td>1128</td>\n",
       "      <td>1128</td>\n",
       "      <td>1128.0</td>\n",
       "    </tr>\n",
       "    <tr>\n",
       "      <th>unique</th>\n",
       "      <td>47</td>\n",
       "      <td>47</td>\n",
       "      <td>1082.0</td>\n",
       "    </tr>\n",
       "    <tr>\n",
       "      <th>top</th>\n",
       "      <td>You never give up.</td>\n",
       "      <td>You are romantic.</td>\n",
       "      <td>0.0</td>\n",
       "    </tr>\n",
       "    <tr>\n",
       "      <th>freq</th>\n",
       "      <td>47</td>\n",
       "      <td>47</td>\n",
       "      <td>47.0</td>\n",
       "    </tr>\n",
       "  </tbody>\n",
       "</table>\n",
       "</div>"
      ],
      "text/plain": [
       "                     first             second    dist\n",
       "count                 1128               1128  1128.0\n",
       "unique                  47                 47  1082.0\n",
       "top     You never give up.  You are romantic.     0.0\n",
       "freq                    47                 47    47.0"
      ]
     },
     "execution_count": 47,
     "metadata": {},
     "output_type": "execute_result"
    }
   ],
   "source": [
    "df_clean.describe()"
   ]
  },
  {
   "cell_type": "code",
   "execution_count": 48,
   "metadata": {},
   "outputs": [],
   "source": [
    "df_piv = df_clean.pivot(\"first\", \"second\", \"dist\").fillna(0)\n",
    "piv_arr = df_piv.values\n",
    "dist_mat = piv_arr + np.transpose(piv_arr)"
   ]
  },
  {
   "cell_type": "code",
   "execution_count": 49,
   "metadata": {},
   "outputs": [
    {
     "data": {
      "text/html": [
       "<div>\n",
       "<style scoped>\n",
       "    .dataframe tbody tr th:only-of-type {\n",
       "        vertical-align: middle;\n",
       "    }\n",
       "\n",
       "    .dataframe tbody tr th {\n",
       "        vertical-align: top;\n",
       "    }\n",
       "\n",
       "    .dataframe thead th {\n",
       "        text-align: right;\n",
       "    }\n",
       "</style>\n",
       "<table border=\"1\" class=\"dataframe\">\n",
       "  <thead>\n",
       "    <tr style=\"text-align: right;\">\n",
       "      <th>second</th>\n",
       "      <th>Debate and argument appeal to you.</th>\n",
       "      <th>Keeping things going is your strength, especially once someone else starts them.</th>\n",
       "      <th>Money and possessions are important to you for the feelings of security they bring.</th>\n",
       "      <th>Whatever you have set your sights on, you refuse to give up or let go of it.</th>\n",
       "      <th>You are adventurous.</th>\n",
       "      <th>You are consistent.</th>\n",
       "      <th>You are courageous.</th>\n",
       "      <th>You are gentle.</th>\n",
       "      <th>You are handy with your hands.</th>\n",
       "      <th>You are independent.</th>\n",
       "      <th>...</th>\n",
       "      <th>You tend to be open-minded.</th>\n",
       "      <th>You tend to be optimistic.</th>\n",
       "      <th>You tend to be versatile.</th>\n",
       "      <th>Your mind is analytical.</th>\n",
       "      <th>Your mind is deep.</th>\n",
       "      <th>Your work is usually neat.</th>\n",
       "      <th>Your work is usually orderly.</th>\n",
       "      <th>you dislike dirt.</th>\n",
       "      <th>you dislike messes.</th>\n",
       "      <th>you probably have a good head for numbers.</th>\n",
       "    </tr>\n",
       "  </thead>\n",
       "  <tbody>\n",
       "    <tr>\n",
       "      <th>count</th>\n",
       "      <td>47.000000</td>\n",
       "      <td>47.000000</td>\n",
       "      <td>47.000000</td>\n",
       "      <td>47.000000</td>\n",
       "      <td>47.000000</td>\n",
       "      <td>47.000000</td>\n",
       "      <td>47.000000</td>\n",
       "      <td>47.000000</td>\n",
       "      <td>47.000000</td>\n",
       "      <td>47.000000</td>\n",
       "      <td>...</td>\n",
       "      <td>47.000000</td>\n",
       "      <td>47.000000</td>\n",
       "      <td>47.000000</td>\n",
       "      <td>47.000000</td>\n",
       "      <td>47.000000</td>\n",
       "      <td>47.000000</td>\n",
       "      <td>47.000000</td>\n",
       "      <td>47.000000</td>\n",
       "      <td>47.000000</td>\n",
       "      <td>47.000000</td>\n",
       "    </tr>\n",
       "    <tr>\n",
       "      <th>mean</th>\n",
       "      <td>0.196148</td>\n",
       "      <td>0.123333</td>\n",
       "      <td>0.135177</td>\n",
       "      <td>0.021636</td>\n",
       "      <td>0.256837</td>\n",
       "      <td>0.052309</td>\n",
       "      <td>0.190179</td>\n",
       "      <td>0.575007</td>\n",
       "      <td>0.134321</td>\n",
       "      <td>0.178960</td>\n",
       "      <td>...</td>\n",
       "      <td>0.442026</td>\n",
       "      <td>0.350686</td>\n",
       "      <td>0.431035</td>\n",
       "      <td>0.289496</td>\n",
       "      <td>0.262598</td>\n",
       "      <td>0.323762</td>\n",
       "      <td>0.311705</td>\n",
       "      <td>0.372356</td>\n",
       "      <td>0.339955</td>\n",
       "      <td>0.282731</td>\n",
       "    </tr>\n",
       "    <tr>\n",
       "      <th>std</th>\n",
       "      <td>0.313113</td>\n",
       "      <td>0.234425</td>\n",
       "      <td>0.241722</td>\n",
       "      <td>0.145385</td>\n",
       "      <td>0.359488</td>\n",
       "      <td>0.182777</td>\n",
       "      <td>0.247488</td>\n",
       "      <td>0.284391</td>\n",
       "      <td>0.219837</td>\n",
       "      <td>0.224449</td>\n",
       "      <td>...</td>\n",
       "      <td>0.344035</td>\n",
       "      <td>0.253837</td>\n",
       "      <td>0.323968</td>\n",
       "      <td>0.269090</td>\n",
       "      <td>0.239845</td>\n",
       "      <td>0.272599</td>\n",
       "      <td>0.273486</td>\n",
       "      <td>0.293184</td>\n",
       "      <td>0.258105</td>\n",
       "      <td>0.241734</td>\n",
       "    </tr>\n",
       "    <tr>\n",
       "      <th>min</th>\n",
       "      <td>0.000000</td>\n",
       "      <td>0.000000</td>\n",
       "      <td>0.000000</td>\n",
       "      <td>0.000000</td>\n",
       "      <td>0.000000</td>\n",
       "      <td>0.000000</td>\n",
       "      <td>0.000000</td>\n",
       "      <td>0.000000</td>\n",
       "      <td>0.000000</td>\n",
       "      <td>0.000000</td>\n",
       "      <td>...</td>\n",
       "      <td>0.000000</td>\n",
       "      <td>0.000000</td>\n",
       "      <td>0.000000</td>\n",
       "      <td>0.000000</td>\n",
       "      <td>0.000000</td>\n",
       "      <td>0.000000</td>\n",
       "      <td>0.000000</td>\n",
       "      <td>0.000000</td>\n",
       "      <td>0.000000</td>\n",
       "      <td>0.000000</td>\n",
       "    </tr>\n",
       "    <tr>\n",
       "      <th>25%</th>\n",
       "      <td>0.000000</td>\n",
       "      <td>0.000000</td>\n",
       "      <td>0.000000</td>\n",
       "      <td>0.000000</td>\n",
       "      <td>0.000000</td>\n",
       "      <td>0.000000</td>\n",
       "      <td>0.000000</td>\n",
       "      <td>0.468337</td>\n",
       "      <td>0.000000</td>\n",
       "      <td>0.000000</td>\n",
       "      <td>...</td>\n",
       "      <td>0.028153</td>\n",
       "      <td>0.000000</td>\n",
       "      <td>0.131184</td>\n",
       "      <td>0.000000</td>\n",
       "      <td>0.000000</td>\n",
       "      <td>0.000000</td>\n",
       "      <td>0.000000</td>\n",
       "      <td>0.000000</td>\n",
       "      <td>0.000000</td>\n",
       "      <td>0.000000</td>\n",
       "    </tr>\n",
       "    <tr>\n",
       "      <th>50%</th>\n",
       "      <td>0.000000</td>\n",
       "      <td>0.000000</td>\n",
       "      <td>0.000000</td>\n",
       "      <td>0.000000</td>\n",
       "      <td>0.000000</td>\n",
       "      <td>0.000000</td>\n",
       "      <td>0.000000</td>\n",
       "      <td>0.494866</td>\n",
       "      <td>0.000000</td>\n",
       "      <td>0.000000</td>\n",
       "      <td>...</td>\n",
       "      <td>0.483028</td>\n",
       "      <td>0.492330</td>\n",
       "      <td>0.462751</td>\n",
       "      <td>0.454833</td>\n",
       "      <td>0.421574</td>\n",
       "      <td>0.487719</td>\n",
       "      <td>0.474945</td>\n",
       "      <td>0.486474</td>\n",
       "      <td>0.484460</td>\n",
       "      <td>0.468726</td>\n",
       "    </tr>\n",
       "    <tr>\n",
       "      <th>75%</th>\n",
       "      <td>0.484417</td>\n",
       "      <td>0.000000</td>\n",
       "      <td>0.243817</td>\n",
       "      <td>0.000000</td>\n",
       "      <td>0.482075</td>\n",
       "      <td>0.000000</td>\n",
       "      <td>0.471046</td>\n",
       "      <td>0.912830</td>\n",
       "      <td>0.441735</td>\n",
       "      <td>0.480163</td>\n",
       "      <td>...</td>\n",
       "      <td>0.634584</td>\n",
       "      <td>0.497342</td>\n",
       "      <td>0.495555</td>\n",
       "      <td>0.482563</td>\n",
       "      <td>0.490452</td>\n",
       "      <td>0.499241</td>\n",
       "      <td>0.497455</td>\n",
       "      <td>0.498237</td>\n",
       "      <td>0.492131</td>\n",
       "      <td>0.497815</td>\n",
       "    </tr>\n",
       "    <tr>\n",
       "      <th>max</th>\n",
       "      <td>0.997179</td>\n",
       "      <td>0.938573</td>\n",
       "      <td>0.938703</td>\n",
       "      <td>0.996945</td>\n",
       "      <td>0.998368</td>\n",
       "      <td>0.997650</td>\n",
       "      <td>0.886855</td>\n",
       "      <td>0.999200</td>\n",
       "      <td>0.499201</td>\n",
       "      <td>0.499352</td>\n",
       "      <td>...</td>\n",
       "      <td>0.996890</td>\n",
       "      <td>0.937826</td>\n",
       "      <td>0.997906</td>\n",
       "      <td>0.973734</td>\n",
       "      <td>0.499499</td>\n",
       "      <td>0.921843</td>\n",
       "      <td>0.984887</td>\n",
       "      <td>0.974492</td>\n",
       "      <td>0.954207</td>\n",
       "      <td>0.499572</td>\n",
       "    </tr>\n",
       "  </tbody>\n",
       "</table>\n",
       "<p>8 rows × 47 columns</p>\n",
       "</div>"
      ],
      "text/plain": [
       "second  Debate and argument appeal to you.  \\\n",
       "count                            47.000000   \n",
       "mean                              0.196148   \n",
       "std                               0.313113   \n",
       "min                               0.000000   \n",
       "25%                               0.000000   \n",
       "50%                               0.000000   \n",
       "75%                               0.484417   \n",
       "max                               0.997179   \n",
       "\n",
       "second  Keeping things going is your strength, especially once someone else starts them.  \\\n",
       "count                                           47.000000                                  \n",
       "mean                                             0.123333                                  \n",
       "std                                              0.234425                                  \n",
       "min                                              0.000000                                  \n",
       "25%                                              0.000000                                  \n",
       "50%                                              0.000000                                  \n",
       "75%                                              0.000000                                  \n",
       "max                                              0.938573                                  \n",
       "\n",
       "second  Money and possessions are important to you for the feelings of security they bring.  \\\n",
       "count                                           47.000000                                     \n",
       "mean                                             0.135177                                     \n",
       "std                                              0.241722                                     \n",
       "min                                              0.000000                                     \n",
       "25%                                              0.000000                                     \n",
       "50%                                              0.000000                                     \n",
       "75%                                              0.243817                                     \n",
       "max                                              0.938703                                     \n",
       "\n",
       "second  Whatever you have set your sights on, you refuse to give up or let go of it.  \\\n",
       "count                                           47.000000                              \n",
       "mean                                             0.021636                              \n",
       "std                                              0.145385                              \n",
       "min                                              0.000000                              \n",
       "25%                                              0.000000                              \n",
       "50%                                              0.000000                              \n",
       "75%                                              0.000000                              \n",
       "max                                              0.996945                              \n",
       "\n",
       "second  You are adventurous.  You are consistent.  You are courageous.  \\\n",
       "count              47.000000            47.000000            47.000000   \n",
       "mean                0.256837             0.052309             0.190179   \n",
       "std                 0.359488             0.182777             0.247488   \n",
       "min                 0.000000             0.000000             0.000000   \n",
       "25%                 0.000000             0.000000             0.000000   \n",
       "50%                 0.000000             0.000000             0.000000   \n",
       "75%                 0.482075             0.000000             0.471046   \n",
       "max                 0.998368             0.997650             0.886855   \n",
       "\n",
       "second  You are gentle.  You are handy with your hands.  You are independent.  \\\n",
       "count         47.000000                       47.000000             47.000000   \n",
       "mean           0.575007                        0.134321              0.178960   \n",
       "std            0.284391                        0.219837              0.224449   \n",
       "min            0.000000                        0.000000              0.000000   \n",
       "25%            0.468337                        0.000000              0.000000   \n",
       "50%            0.494866                        0.000000              0.000000   \n",
       "75%            0.912830                        0.441735              0.480163   \n",
       "max            0.999200                        0.499201              0.499352   \n",
       "\n",
       "second  ...  You tend to be open-minded.  You tend to be optimistic.  \\\n",
       "count   ...                    47.000000                   47.000000   \n",
       "mean    ...                     0.442026                    0.350686   \n",
       "std     ...                     0.344035                    0.253837   \n",
       "min     ...                     0.000000                    0.000000   \n",
       "25%     ...                     0.028153                    0.000000   \n",
       "50%     ...                     0.483028                    0.492330   \n",
       "75%     ...                     0.634584                    0.497342   \n",
       "max     ...                     0.996890                    0.937826   \n",
       "\n",
       "second  You tend to be versatile.  Your mind is analytical.  \\\n",
       "count                   47.000000                 47.000000   \n",
       "mean                     0.431035                  0.289496   \n",
       "std                      0.323968                  0.269090   \n",
       "min                      0.000000                  0.000000   \n",
       "25%                      0.131184                  0.000000   \n",
       "50%                      0.462751                  0.454833   \n",
       "75%                      0.495555                  0.482563   \n",
       "max                      0.997906                  0.973734   \n",
       "\n",
       "second  Your mind is deep.  Your work is usually neat.  \\\n",
       "count            47.000000                   47.000000   \n",
       "mean              0.262598                    0.323762   \n",
       "std               0.239845                    0.272599   \n",
       "min               0.000000                    0.000000   \n",
       "25%               0.000000                    0.000000   \n",
       "50%               0.421574                    0.487719   \n",
       "75%               0.490452                    0.499241   \n",
       "max               0.499499                    0.921843   \n",
       "\n",
       "second  Your work is usually orderly.  you dislike dirt.  you dislike messes.  \\\n",
       "count                       47.000000          47.000000            47.000000   \n",
       "mean                         0.311705           0.372356             0.339955   \n",
       "std                          0.273486           0.293184             0.258105   \n",
       "min                          0.000000           0.000000             0.000000   \n",
       "25%                          0.000000           0.000000             0.000000   \n",
       "50%                          0.474945           0.486474             0.484460   \n",
       "75%                          0.497455           0.498237             0.492131   \n",
       "max                          0.984887           0.974492             0.954207   \n",
       "\n",
       "second  you probably have a good head for numbers.  \n",
       "count                                    47.000000  \n",
       "mean                                      0.282731  \n",
       "std                                       0.241734  \n",
       "min                                       0.000000  \n",
       "25%                                       0.000000  \n",
       "50%                                       0.468726  \n",
       "75%                                       0.497815  \n",
       "max                                       0.499572  \n",
       "\n",
       "[8 rows x 47 columns]"
      ]
     },
     "execution_count": 49,
     "metadata": {},
     "output_type": "execute_result"
    }
   ],
   "source": [
    "df_piv.describe()"
   ]
  },
  {
   "cell_type": "code",
   "execution_count": 50,
   "metadata": {},
   "outputs": [
    {
     "name": "stdout",
     "output_type": "stream",
     "text": [
      "0.0\n",
      "0.0\n",
      "0.0\n",
      "0.0\n",
      "0.0\n",
      "0.0\n",
      "0.0\n",
      "0.0\n",
      "0.0\n",
      "0.0\n",
      "0.0\n",
      "0.0\n",
      "0.0\n",
      "0.0\n",
      "0.0\n",
      "0.0\n",
      "0.0\n",
      "0.0\n",
      "0.0\n",
      "0.0\n",
      "0.0\n",
      "0.0\n",
      "0.0\n",
      "0.0\n",
      "0.0\n",
      "0.0\n",
      "0.0\n",
      "0.0\n",
      "0.0\n",
      "0.0\n",
      "0.0\n",
      "0.0\n",
      "0.0\n",
      "0.0\n",
      "0.0\n",
      "0.0\n",
      "0.0\n",
      "0.0\n",
      "0.0\n",
      "0.0\n",
      "0.0\n",
      "0.0\n",
      "0.0\n",
      "0.0\n",
      "0.0\n",
      "0.0\n",
      "0.0\n"
     ]
    }
   ],
   "source": [
    "for i in range(len(dist_mat)):\n",
    "    print(dist_mat[i][i])"
   ]
  },
  {
   "cell_type": "code",
   "execution_count": 51,
   "metadata": {},
   "outputs": [],
   "source": [
    "from scipy.spatial.distance import squareform\n",
    "condensed_mat = squareform(dist_mat)"
   ]
  },
  {
   "cell_type": "code",
   "execution_count": 52,
   "metadata": {},
   "outputs": [
    {
     "data": {
      "text/plain": [
       "array([ True,  True,  True,  True,  True,  True,  True,  True,  True,\n",
       "        True,  True,  True,  True,  True,  True,  True,  True,  True,\n",
       "        True,  True,  True,  True,  True,  True,  True,  True,  True,\n",
       "        True,  True,  True,  True,  True,  True,  True,  True,  True,\n",
       "        True,  True,  True,  True,  True,  True,  True,  True,  True,\n",
       "        True,  True])"
      ]
     },
     "execution_count": 52,
     "metadata": {},
     "output_type": "execute_result"
    }
   ],
   "source": [
    "df_piv.index == df_piv.columns"
   ]
  },
  {
   "cell_type": "code",
   "execution_count": 53,
   "metadata": {},
   "outputs": [],
   "source": [
    "linkage_arr = linkage(condensed_mat)"
   ]
  },
  {
   "cell_type": "code",
   "execution_count": 54,
   "metadata": {},
   "outputs": [
    {
     "data": {
      "text/plain": [
       "array([[42.    , 43.    ,  0.0025,  2.    ],\n",
       "       [35.    , 38.    ,  0.0027,  2.    ],\n",
       "       [30.    , 31.    ,  0.0028,  2.    ],\n",
       "       [12.    , 32.    ,  0.007 ,  2.    ],\n",
       "       [23.    , 24.    ,  0.0074,  2.    ],\n",
       "       [10.    , 18.    ,  0.0077,  2.    ],\n",
       "       [36.    , 39.    ,  0.0097,  2.    ],\n",
       "       [ 5.    , 50.    ,  0.0097,  3.    ],\n",
       "       [16.    , 53.    ,  0.0153,  3.    ],\n",
       "       [37.    , 48.    ,  0.016 ,  3.    ],\n",
       "       [55.    , 56.    ,  0.0168,  6.    ],\n",
       "       [20.    , 51.    ,  0.0176,  3.    ],\n",
       "       [ 3.    , 29.    ,  0.0199,  2.    ],\n",
       "       [ 1.    , 58.    ,  0.0227,  4.    ],\n",
       "       [44.    , 45.    ,  0.024 ,  2.    ],\n",
       "       [14.    , 15.    ,  0.028 ,  2.    ],\n",
       "       [54.    , 59.    ,  0.0388,  5.    ],\n",
       "       [ 4.    ,  6.    ,  0.0391,  2.    ],\n",
       "       [57.    , 64.    ,  0.0403,  8.    ],\n",
       "       [13.    , 62.    ,  0.0406,  3.    ],\n",
       "       [33.    , 65.    ,  0.0469,  9.    ],\n",
       "       [28.    , 67.    ,  0.0705, 10.    ],\n",
       "       [11.    , 68.    ,  0.0749, 11.    ],\n",
       "       [63.    , 69.    ,  0.0783, 16.    ],\n",
       "       [ 7.    , 70.    ,  0.0968, 17.    ],\n",
       "       [47.    , 71.    ,  0.0977, 19.    ],\n",
       "       [66.    , 72.    ,  0.1048, 22.    ],\n",
       "       [17.    , 19.    ,  0.1054,  2.    ],\n",
       "       [ 9.    , 73.    ,  0.1077, 23.    ],\n",
       "       [25.    , 75.    ,  0.122 , 24.    ],\n",
       "       [40.    , 46.    ,  0.1245,  2.    ],\n",
       "       [60.    , 76.    ,  0.1609, 28.    ],\n",
       "       [34.    , 78.    ,  0.1638, 29.    ],\n",
       "       [49.    , 79.    ,  0.3215, 31.    ],\n",
       "       [77.    , 80.    ,  0.323 , 33.    ],\n",
       "       [ 8.    , 81.    ,  0.3258, 34.    ],\n",
       "       [41.    , 82.    ,  0.3368, 35.    ],\n",
       "       [74.    , 83.    ,  0.3549, 37.    ],\n",
       "       [61.    , 84.    ,  0.4042, 39.    ],\n",
       "       [26.    , 85.    ,  0.4114, 40.    ],\n",
       "       [22.    , 86.    ,  0.4179, 41.    ],\n",
       "       [ 0.    , 87.    ,  0.4231, 42.    ],\n",
       "       [52.    , 88.    ,  0.4503, 44.    ],\n",
       "       [21.    , 89.    ,  0.4548, 45.    ],\n",
       "       [ 2.    , 90.    ,  0.4684, 46.    ],\n",
       "       [27.    , 91.    ,  0.4804, 47.    ]])"
      ]
     },
     "execution_count": 54,
     "metadata": {},
     "output_type": "execute_result"
    }
   ],
   "source": [
    "linkage_arr"
   ]
  },
  {
   "cell_type": "code",
   "execution_count": 55,
   "metadata": {},
   "outputs": [
    {
     "data": {
      "text/plain": [
       "{'icoord': [[35.0, 35.0, 45.0, 45.0],\n",
       "  [85.0, 85.0, 95.0, 95.0],\n",
       "  [105.0, 105.0, 115.0, 115.0],\n",
       "  [145.0, 145.0, 155.0, 155.0],\n",
       "  [165.0, 165.0, 175.0, 175.0],\n",
       "  [215.0, 215.0, 225.0, 225.0],\n",
       "  [205.0, 205.0, 220.0, 220.0],\n",
       "  [195.0, 195.0, 212.5, 212.5],\n",
       "  [265.0, 265.0, 275.0, 275.0],\n",
       "  [255.0, 255.0, 270.0, 270.0],\n",
       "  [285.0, 285.0, 295.0, 295.0],\n",
       "  [325.0, 325.0, 335.0, 335.0],\n",
       "  [315.0, 315.0, 330.0, 330.0],\n",
       "  [345.0, 345.0, 355.0, 355.0],\n",
       "  [322.5, 322.5, 350.0, 350.0],\n",
       "  [405.0, 405.0, 415.0, 415.0],\n",
       "  [395.0, 395.0, 410.0, 410.0],\n",
       "  [435.0, 435.0, 445.0, 445.0],\n",
       "  [425.0, 425.0, 440.0, 440.0],\n",
       "  [402.5, 402.5, 432.5, 432.5],\n",
       "  [455.0, 455.0, 465.0, 465.0],\n",
       "  [417.5, 417.5, 460.0, 460.0],\n",
       "  [385.0, 385.0, 438.75, 438.75],\n",
       "  [375.0, 375.0, 411.875, 411.875],\n",
       "  [365.0, 365.0, 393.4375, 393.4375],\n",
       "  [336.25, 336.25, 379.21875, 379.21875],\n",
       "  [305.0, 305.0, 357.734375, 357.734375],\n",
       "  [290.0, 290.0, 331.3671875, 331.3671875],\n",
       "  [262.5, 262.5, 310.68359375, 310.68359375],\n",
       "  [245.0, 245.0, 286.591796875, 286.591796875],\n",
       "  [235.0, 235.0, 265.7958984375, 265.7958984375],\n",
       "  [203.75, 203.75, 250.39794921875, 250.39794921875],\n",
       "  [185.0, 185.0, 227.073974609375, 227.073974609375],\n",
       "  [170.0, 170.0, 206.0369873046875, 206.0369873046875],\n",
       "  [150.0, 150.0, 188.01849365234375, 188.01849365234375],\n",
       "  [135.0, 135.0, 169.00924682617188, 169.00924682617188],\n",
       "  [125.0, 125.0, 152.00462341308594, 152.00462341308594],\n",
       "  [110.0, 110.0, 138.50231170654297, 138.50231170654297],\n",
       "  [90.0, 90.0, 124.25115585327148, 124.25115585327148],\n",
       "  [75.0, 75.0, 107.12557792663574, 107.12557792663574],\n",
       "  [65.0, 65.0, 91.06278896331787, 91.06278896331787],\n",
       "  [55.0, 55.0, 78.03139448165894, 78.03139448165894],\n",
       "  [40.0, 40.0, 66.51569724082947, 66.51569724082947],\n",
       "  [25.0, 25.0, 53.257848620414734, 53.257848620414734],\n",
       "  [15.0, 15.0, 39.12892431020737, 39.12892431020737],\n",
       "  [5.0, 5.0, 27.064462155103683, 27.064462155103683]],\n",
       " 'dcoord': [[0.0, 0.007679010252381898, 0.007679010252381898, 0.0],\n",
       "  [0.0, 0.02400507815541539, 0.02400507815541539, 0.0],\n",
       "  [0.0, 0.10544033365046572, 0.10544033365046572, 0.0],\n",
       "  [0.0, 0.12446615169661615, 0.12446615169661615, 0.0],\n",
       "  [0.0, 0.0027873677761554444, 0.0027873677761554444, 0.0],\n",
       "  [0.0, 0.007378046873052635, 0.007378046873052635, 0.0],\n",
       "  [0.0, 0.017637935310344962, 0.017637935310344962, 0.007378046873052635],\n",
       "  [0.0, 0.02270297752771671, 0.02270297752771671, 0.017637935310344962],\n",
       "  [0.0, 0.0280219475309552, 0.0280219475309552, 0.0],\n",
       "  [0.0, 0.040575460572266686, 0.040575460572266686, 0.0280219475309552],\n",
       "  [0.0, 0.0024965071421189323, 0.0024965071421189323, 0.0],\n",
       "  [0.0, 0.0070014526520450005, 0.0070014526520450005, 0.0],\n",
       "  [0.0, 0.009683509087047518, 0.009683509087047518, 0.0070014526520450005],\n",
       "  [0.0, 0.019935126869514697, 0.019935126869514697, 0.0],\n",
       "  [0.009683509087047518,\n",
       "   0.0388090206539792,\n",
       "   0.0388090206539792,\n",
       "   0.019935126869514697],\n",
       "  [0.0, 0.009651626325592605, 0.009651626325592605, 0.0],\n",
       "  [0.0, 0.015292362241411547, 0.015292362241411547, 0.009651626325592605],\n",
       "  [0.0, 0.002717379987511955, 0.002717379987511955, 0.0],\n",
       "  [0.0, 0.015972265620366015, 0.015972265620366015, 0.002717379987511955],\n",
       "  [0.015292362241411547,\n",
       "   0.016831333603608004,\n",
       "   0.016831333603608004,\n",
       "   0.015972265620366015],\n",
       "  [0.0, 0.03908306125447183, 0.03908306125447183, 0.0],\n",
       "  [0.016831333603608004,\n",
       "   0.04033326126579564,\n",
       "   0.04033326126579564,\n",
       "   0.03908306125447183],\n",
       "  [0.0, 0.046921102199165496, 0.046921102199165496, 0.04033326126579564],\n",
       "  [0.0, 0.07046797275823256, 0.07046797275823256, 0.046921102199165496],\n",
       "  [0.0, 0.0748736887325278, 0.0748736887325278, 0.07046797275823256],\n",
       "  [0.0388090206539792,\n",
       "   0.07828451015198046,\n",
       "   0.07828451015198046,\n",
       "   0.0748736887325278],\n",
       "  [0.0, 0.09677624897489992, 0.09677624897489992, 0.07828451015198046],\n",
       "  [0.0024965071421189323,\n",
       "   0.09767616792070924,\n",
       "   0.09767616792070924,\n",
       "   0.09677624897489992],\n",
       "  [0.040575460572266686,\n",
       "   0.10480993211982463,\n",
       "   0.10480993211982463,\n",
       "   0.09767616792070924],\n",
       "  [0.0, 0.10774741157059964, 0.10774741157059964, 0.10480993211982463],\n",
       "  [0.0, 0.12203550398278593, 0.12203550398278593, 0.10774741157059964],\n",
       "  [0.02270297752771671,\n",
       "   0.1609405451421169,\n",
       "   0.1609405451421169,\n",
       "   0.12203550398278593],\n",
       "  [0.0, 0.16378435165444127, 0.16378435165444127, 0.1609405451421169],\n",
       "  [0.0027873677761554444,\n",
       "   0.3214929403883853,\n",
       "   0.3214929403883853,\n",
       "   0.16378435165444127],\n",
       "  [0.12446615169661615,\n",
       "   0.3229996259217026,\n",
       "   0.3229996259217026,\n",
       "   0.3214929403883853],\n",
       "  [0.0, 0.3257875969086864, 0.3257875969086864, 0.3229996259217026],\n",
       "  [0.0, 0.3367734523182979, 0.3367734523182979, 0.3257875969086864],\n",
       "  [0.10544033365046572,\n",
       "   0.35494918581506435,\n",
       "   0.35494918581506435,\n",
       "   0.3367734523182979],\n",
       "  [0.02400507815541539,\n",
       "   0.4042424135674317,\n",
       "   0.4042424135674317,\n",
       "   0.35494918581506435],\n",
       "  [0.0, 0.4114352409823984, 0.4114352409823984, 0.4042424135674317],\n",
       "  [0.0, 0.4178546734382211, 0.4178546734382211, 0.4114352409823984],\n",
       "  [0.0, 0.4231024959301703, 0.4231024959301703, 0.4178546734382211],\n",
       "  [0.007679010252381898,\n",
       "   0.45030883891692697,\n",
       "   0.45030883891692697,\n",
       "   0.4231024959301703],\n",
       "  [0.0, 0.4548334244942663, 0.4548334244942663, 0.45030883891692697],\n",
       "  [0.0, 0.4683553930717752, 0.4683553930717752, 0.4548334244942663],\n",
       "  [0.0, 0.4804007211543642, 0.4804007211543642, 0.4683553930717752]],\n",
       " 'ivl': [\"You may become impatient with those who do n't learn as quickly.\",\n",
       "  'Money and possessions are important to you for the feelings of security they bring.',\n",
       "  'You enjoy building and seeing the results of your hard work.',\n",
       "  'You are patient unless someone takes you too far.',\n",
       "  'You are usually slow to anger unless someone takes you too far.',\n",
       "  'Debate and argument appeal to you.',\n",
       "  'You grasp concepts easily.',\n",
       "  'You may be ambidextrous or mechanically inclined.',\n",
       "  'you dislike dirt.',\n",
       "  'you dislike messes.',\n",
       "  'You are usually outspoken, sometimes to the point of bluntness.',\n",
       "  'You are very direct in thought, action, and speech and everyone knows how you feel.',\n",
       "  'Your mind is deep.',\n",
       "  'You are handy with your hands.',\n",
       "  'Your mind is analytical.',\n",
       "  'you probably have a good head for numbers.',\n",
       "  'You prefer a regular routine, defined responsibilities.',\n",
       "  'You prefer a regular routine, defined tasks.',\n",
       "  'You tend to be honest.',\n",
       "  'Keeping things going is your strength, especially once someone else starts them.',\n",
       "  'You can handle more of the workload than most around you.',\n",
       "  'You have common sense to manage others.',\n",
       "  'You have the ability to manage others.',\n",
       "  'You may be a bit of a perfectionist.',\n",
       "  'You are independent.',\n",
       "  'You are romantic.',\n",
       "  'You are sensitive.',\n",
       "  'You are sentimental.',\n",
       "  'Your work is usually neat.',\n",
       "  'Your work is usually orderly.',\n",
       "  'You are gentle.',\n",
       "  'You are consistent.',\n",
       "  'You are reliable.',\n",
       "  'You tend to be dependable.',\n",
       "  'Whatever you have set your sights on, you refuse to give up or let go of it.',\n",
       "  'You never give up.',\n",
       "  'You are quiet.',\n",
       "  'You never find it difficult to change your mind or course in mid-stream.',\n",
       "  'You tend to be friendly.',\n",
       "  'You are shy.',\n",
       "  'You tend to be industrious, efficient, practical, exacting, scientific, organized, shy, thrifty, studious, economical, and punctual.',\n",
       "  'You tend to be versatile.',\n",
       "  'You tend to be open-minded.',\n",
       "  'You tend to be idealistic.',\n",
       "  'You tend to be optimistic.',\n",
       "  'You are adventurous.',\n",
       "  'You are courageous.'],\n",
       " 'leaves': [27,\n",
       "  2,\n",
       "  21,\n",
       "  10,\n",
       "  18,\n",
       "  0,\n",
       "  22,\n",
       "  26,\n",
       "  44,\n",
       "  45,\n",
       "  17,\n",
       "  19,\n",
       "  41,\n",
       "  8,\n",
       "  40,\n",
       "  46,\n",
       "  30,\n",
       "  31,\n",
       "  34,\n",
       "  1,\n",
       "  20,\n",
       "  23,\n",
       "  24,\n",
       "  25,\n",
       "  9,\n",
       "  13,\n",
       "  14,\n",
       "  15,\n",
       "  42,\n",
       "  43,\n",
       "  7,\n",
       "  5,\n",
       "  12,\n",
       "  32,\n",
       "  3,\n",
       "  29,\n",
       "  11,\n",
       "  28,\n",
       "  33,\n",
       "  16,\n",
       "  36,\n",
       "  39,\n",
       "  37,\n",
       "  35,\n",
       "  38,\n",
       "  4,\n",
       "  6],\n",
       " 'color_list': ['g',\n",
       "  'r',\n",
       "  'c',\n",
       "  'm',\n",
       "  'm',\n",
       "  'm',\n",
       "  'm',\n",
       "  'm',\n",
       "  'm',\n",
       "  'm',\n",
       "  'm',\n",
       "  'm',\n",
       "  'm',\n",
       "  'm',\n",
       "  'm',\n",
       "  'm',\n",
       "  'm',\n",
       "  'm',\n",
       "  'm',\n",
       "  'm',\n",
       "  'm',\n",
       "  'm',\n",
       "  'm',\n",
       "  'm',\n",
       "  'm',\n",
       "  'm',\n",
       "  'm',\n",
       "  'm',\n",
       "  'm',\n",
       "  'm',\n",
       "  'm',\n",
       "  'm',\n",
       "  'm',\n",
       "  'm',\n",
       "  'm',\n",
       "  'm',\n",
       "  'b',\n",
       "  'b',\n",
       "  'b',\n",
       "  'b',\n",
       "  'b',\n",
       "  'b',\n",
       "  'b',\n",
       "  'b',\n",
       "  'b',\n",
       "  'b']}"
      ]
     },
     "execution_count": 55,
     "metadata": {},
     "output_type": "execute_result"
    },
    {
     "data": {
      "image/png": "[encoded data removed]",
      "text/plain": [
       "<Figure size 1440x720 with 1 Axes>"
      ]
     },
     "metadata": {},
     "output_type": "display_data"
    }
   ],
   "source": [
    "dendrogram(linkage_arr,\n",
    "            orientation='top',\n",
    "            labels=df_piv.index.values,\n",
    "            distance_sort='descending',\n",
    "            show_leaf_counts=True)"
   ]
  },
  {
   "cell_type": "code",
   "execution_count": 56,
   "metadata": {},
   "outputs": [
    {
     "name": "stdout",
     "output_type": "stream",
     "text": [
      "2 :  -0.026386141861990068\n",
      "3 :  -0.07634178503972942\n",
      "4 :  -0.08662385416570807\n",
      "5 :  -0.044550202156648115\n",
      "6 :  -0.0485572522606252\n",
      "7 :  -0.06697209376549114\n",
      "8 :  -0.08018478485442941\n",
      "9 :  -0.03872448686682514\n",
      "10 :  0.006898051887301973\n",
      "11 :  -0.0001522355683627106\n",
      "12 :  -0.01058778354698622\n",
      "13 :  0.026210776009144315\n",
      "14 :  0.06898521389061772\n",
      "15 :  0.05310504221942039\n",
      "16 :  0.09714419976482949\n",
      "17 :  0.06386050772684418\n",
      "18 :  0.05517382915094716\n",
      "19 :  -0.0016760038578212198\n",
      "20 :  -0.031885998448615796\n",
      "21 :  0.015192243988690497\n",
      "22 :  0.05921461511112526\n",
      "23 :  0.022671357630550313\n",
      "24 :  0.11762443391931178\n",
      "25 :  0.13186019645716832\n",
      "26 :  0.13312050817042526\n",
      "27 :  0.10358762803470968\n",
      "28 :  0.11884262292695277\n",
      "29 :  0.17846276253171162\n",
      "30 :  0.14140216292701008\n",
      "31 :  0.2198288117312951\n",
      "32 :  0.1964562169356423\n",
      "33 :  0.15624560851188732\n",
      "34 :  0.14734110582283794\n",
      "35 :  0.1045681975890694\n",
      "36 :  0.10683453663587558\n",
      "37 :  0.23549168836011222\n",
      "38 :  0.2294325534247196\n",
      "39 :  0.2652053581922493\n",
      "40 :  0.23303580618788708\n",
      "41 :  0.2156586022485505\n",
      "42 :  0.17381523943406404\n",
      "43 :  0.14053290810415783\n",
      "44 :  0.12159520537965583\n",
      "45 :  0.07936326077319242\n",
      "46 :  0.04185193813634283\n"
     ]
    }
   ],
   "source": [
    "sil_scores = []\n",
    "for i in range(2, len(dist_mat)):\n",
    "    clusters = AgglomerativeClustering(n_clusters=i, affinity='precomputed', linkage='single')\n",
    "    clusters.fit_predict(dist_mat)\n",
    "\n",
    "    # use metric to measure/compare goodness of clusters based on internal coherence and \n",
    "    # external coupling.\n",
    "    # consider Dunn index. maximise the Dunn index.\n",
    "    # or consider average sillhouette width (maximise). available in sklearn.\n",
    "    from sklearn.metrics import silhouette_score\n",
    "\n",
    "    silhouette_avg = silhouette_score(dist_mat, clusters.labels_, metric='precomputed')\n",
    "    sil_scores.append(silhouette_avg)\n",
    "    print(i, \": \", silhouette_avg)"
   ]
  },
  {
   "cell_type": "code",
   "execution_count": 57,
   "metadata": {},
   "outputs": [
    {
     "name": "stdout",
     "output_type": "stream",
     "text": [
      "max avg silhouette score:  0.2652053581922493\n",
      "nclusters w max avg silhouette score:  39\n"
     ]
    }
   ],
   "source": [
    "sil_scores_arr = np.asarray(sil_scores)\n",
    "print('max avg silhouette score: ', sil_scores_arr.max())\n",
    "optimal_k = np.where(sil_scores_arr == sil_scores_arr.max())[0][0] + 2\n",
    "print('nclusters w max avg silhouette score: ', optimal_k)"
   ]
  },
  {
   "cell_type": "code",
   "execution_count": 19,
   "metadata": {
    "scrolled": true
   },
   "outputs": [
    {
     "name": "stdout",
     "output_type": "stream",
     "text": [
      "cluster 0 (size 2):\n",
      "[15 36]\n"
     ]
    },
    {
     "data": {
      "text/plain": [
       "'You are sentimental.'"
      ]
     },
     "metadata": {},
     "output_type": "display_data"
    },
    {
     "data": {
      "text/plain": [
       "'You tend to be industrious, efficient, practical, exacting, scientific, organized, shy, thrifty, studious, economical, and punctual.'"
      ]
     },
     "metadata": {},
     "output_type": "display_data"
    },
    {
     "name": "stdout",
     "output_type": "stream",
     "text": [
      "\n",
      "\n",
      "cluster 1 (size 2):\n",
      "[ 5 19]\n"
     ]
    },
    {
     "data": {
      "text/plain": [
       "'You are consistent.'"
      ]
     },
     "metadata": {},
     "output_type": "display_data"
    },
    {
     "data": {
      "text/plain": [
       "'You are very direct in thought, action, and speech and everyone knows how you feel.'"
      ]
     },
     "metadata": {},
     "output_type": "display_data"
    },
    {
     "name": "stdout",
     "output_type": "stream",
     "text": [
      "\n",
      "\n",
      "cluster 2 (size 4):\n",
      "[22 23 45 46]\n"
     ]
    },
    {
     "data": {
      "text/plain": [
       "'You grasp concepts easily.'"
      ]
     },
     "metadata": {},
     "output_type": "display_data"
    },
    {
     "data": {
      "text/plain": [
       "'You have common sense to manage others.'"
      ]
     },
     "metadata": {},
     "output_type": "display_data"
    },
    {
     "data": {
      "text/plain": [
       "'you dislike messes.'"
      ]
     },
     "metadata": {},
     "output_type": "display_data"
    },
    {
     "data": {
      "text/plain": [
       "'you probably have a good head for numbers.'"
      ]
     },
     "metadata": {},
     "output_type": "display_data"
    },
    {
     "name": "stdout",
     "output_type": "stream",
     "text": [
      "\n",
      "\n",
      "cluster 3 (size 6):\n",
      "[ 2 12 30 31 32 38]\n"
     ]
    },
    {
     "data": {
      "text/plain": [
       "'Money and possessions are important to you for the feelings of security they bring.'"
      ]
     },
     "metadata": {},
     "output_type": "display_data"
    },
    {
     "data": {
      "text/plain": [
       "'You are reliable.'"
      ]
     },
     "metadata": {},
     "output_type": "display_data"
    },
    {
     "data": {
      "text/plain": [
       "'You prefer a regular routine, defined responsibilities.'"
      ]
     },
     "metadata": {},
     "output_type": "display_data"
    },
    {
     "data": {
      "text/plain": [
       "'You prefer a regular routine, defined tasks.'"
      ]
     },
     "metadata": {},
     "output_type": "display_data"
    },
    {
     "data": {
      "text/plain": [
       "'You tend to be dependable.'"
      ]
     },
     "metadata": {},
     "output_type": "display_data"
    },
    {
     "data": {
      "text/plain": [
       "'You tend to be optimistic.'"
      ]
     },
     "metadata": {},
     "output_type": "display_data"
    },
    {
     "name": "stdout",
     "output_type": "stream",
     "text": [
      "\n",
      "\n",
      "cluster 4 (size 7):\n",
      "[ 1  8  9 20 27 34 43]\n"
     ]
    },
    {
     "data": {
      "text/plain": [
       "'Keeping things going is your strength, especially once someone else starts them.'"
      ]
     },
     "metadata": {},
     "output_type": "display_data"
    },
    {
     "data": {
      "text/plain": [
       "'You are handy with your hands.'"
      ]
     },
     "metadata": {},
     "output_type": "display_data"
    },
    {
     "data": {
      "text/plain": [
       "'You are independent.'"
      ]
     },
     "metadata": {},
     "output_type": "display_data"
    },
    {
     "data": {
      "text/plain": [
       "'You can handle more of the workload than most around you.'"
      ]
     },
     "metadata": {},
     "output_type": "display_data"
    },
    {
     "data": {
      "text/plain": [
       "\"You may become impatient with those who do n't learn as quickly.\""
      ]
     },
     "metadata": {},
     "output_type": "display_data"
    },
    {
     "data": {
      "text/plain": [
       "'You tend to be honest.'"
      ]
     },
     "metadata": {},
     "output_type": "display_data"
    },
    {
     "data": {
      "text/plain": [
       "'Your work is usually orderly.'"
      ]
     },
     "metadata": {},
     "output_type": "display_data"
    },
    {
     "name": "stdout",
     "output_type": "stream",
     "text": [
      "\n",
      "\n",
      "cluster 5 (size 2):\n",
      "[28 39]\n"
     ]
    },
    {
     "data": {
      "text/plain": [
       "'You never find it difficult to change your mind or course in mid-stream.'"
      ]
     },
     "metadata": {},
     "output_type": "display_data"
    },
    {
     "data": {
      "text/plain": [
       "'You tend to be versatile.'"
      ]
     },
     "metadata": {},
     "output_type": "display_data"
    },
    {
     "name": "stdout",
     "output_type": "stream",
     "text": [
      "\n",
      "\n",
      "cluster 6 (size 1):\n",
      "[44]\n"
     ]
    },
    {
     "data": {
      "text/plain": [
       "'you dislike dirt.'"
      ]
     },
     "metadata": {},
     "output_type": "display_data"
    },
    {
     "name": "stdout",
     "output_type": "stream",
     "text": [
      "\n",
      "\n",
      "cluster 7 (size 1):\n",
      "[29]\n"
     ]
    },
    {
     "data": {
      "text/plain": [
       "'You never give up.'"
      ]
     },
     "metadata": {},
     "output_type": "display_data"
    },
    {
     "name": "stdout",
     "output_type": "stream",
     "text": [
      "\n",
      "\n",
      "cluster 8 (size 2):\n",
      "[35 37]\n"
     ]
    },
    {
     "data": {
      "text/plain": [
       "'You tend to be idealistic.'"
      ]
     },
     "metadata": {},
     "output_type": "display_data"
    },
    {
     "data": {
      "text/plain": [
       "'You tend to be open-minded.'"
      ]
     },
     "metadata": {},
     "output_type": "display_data"
    },
    {
     "name": "stdout",
     "output_type": "stream",
     "text": [
      "\n",
      "\n",
      "cluster 9 (size 1):\n",
      "[26]\n"
     ]
    },
    {
     "data": {
      "text/plain": [
       "'You may be ambidextrous or mechanically inclined.'"
      ]
     },
     "metadata": {},
     "output_type": "display_data"
    },
    {
     "name": "stdout",
     "output_type": "stream",
     "text": [
      "\n",
      "\n",
      "cluster 10 (size 7):\n",
      "[ 7 14 21 25 40 41 42]\n"
     ]
    },
    {
     "data": {
      "text/plain": [
       "'You are gentle.'"
      ]
     },
     "metadata": {},
     "output_type": "display_data"
    },
    {
     "data": {
      "text/plain": [
       "'You are sensitive.'"
      ]
     },
     "metadata": {},
     "output_type": "display_data"
    },
    {
     "data": {
      "text/plain": [
       "'You enjoy building and seeing the results of your hard work.'"
      ]
     },
     "metadata": {},
     "output_type": "display_data"
    },
    {
     "data": {
      "text/plain": [
       "'You may be a bit of a perfectionist.'"
      ]
     },
     "metadata": {},
     "output_type": "display_data"
    },
    {
     "data": {
      "text/plain": [
       "'Your mind is analytical.'"
      ]
     },
     "metadata": {},
     "output_type": "display_data"
    },
    {
     "data": {
      "text/plain": [
       "'Your mind is deep.'"
      ]
     },
     "metadata": {},
     "output_type": "display_data"
    },
    {
     "data": {
      "text/plain": [
       "'Your work is usually neat.'"
      ]
     },
     "metadata": {},
     "output_type": "display_data"
    },
    {
     "name": "stdout",
     "output_type": "stream",
     "text": [
      "\n",
      "\n",
      "cluster 11 (size 1):\n",
      "[3]\n"
     ]
    },
    {
     "data": {
      "text/plain": [
       "'Whatever you have set your sights on, you refuse to give up or let go of it.'"
      ]
     },
     "metadata": {},
     "output_type": "display_data"
    },
    {
     "name": "stdout",
     "output_type": "stream",
     "text": [
      "\n",
      "\n",
      "cluster 12 (size 1):\n",
      "[16]\n"
     ]
    },
    {
     "data": {
      "text/plain": [
       "'You are shy.'"
      ]
     },
     "metadata": {},
     "output_type": "display_data"
    },
    {
     "name": "stdout",
     "output_type": "stream",
     "text": [
      "\n",
      "\n",
      "cluster 13 (size 1):\n",
      "[6]\n"
     ]
    },
    {
     "data": {
      "text/plain": [
       "'You are courageous.'"
      ]
     },
     "metadata": {},
     "output_type": "display_data"
    },
    {
     "name": "stdout",
     "output_type": "stream",
     "text": [
      "\n",
      "\n",
      "cluster 14 (size 1):\n",
      "[13]\n"
     ]
    },
    {
     "data": {
      "text/plain": [
       "'You are romantic.'"
      ]
     },
     "metadata": {},
     "output_type": "display_data"
    },
    {
     "name": "stdout",
     "output_type": "stream",
     "text": [
      "\n",
      "\n",
      "cluster 15 (size 1):\n",
      "[17]\n"
     ]
    },
    {
     "data": {
      "text/plain": [
       "'You are usually outspoken, sometimes to the point of bluntness.'"
      ]
     },
     "metadata": {},
     "output_type": "display_data"
    },
    {
     "name": "stdout",
     "output_type": "stream",
     "text": [
      "\n",
      "\n",
      "cluster 16 (size 1):\n",
      "[0]\n"
     ]
    },
    {
     "data": {
      "text/plain": [
       "'Debate and argument appeal to you.'"
      ]
     },
     "metadata": {},
     "output_type": "display_data"
    },
    {
     "name": "stdout",
     "output_type": "stream",
     "text": [
      "\n",
      "\n",
      "cluster 17 (size 1):\n",
      "[4]\n"
     ]
    },
    {
     "data": {
      "text/plain": [
       "'You are adventurous.'"
      ]
     },
     "metadata": {},
     "output_type": "display_data"
    },
    {
     "name": "stdout",
     "output_type": "stream",
     "text": [
      "\n",
      "\n",
      "cluster 18 (size 1):\n",
      "[11]\n"
     ]
    },
    {
     "data": {
      "text/plain": [
       "'You are quiet.'"
      ]
     },
     "metadata": {},
     "output_type": "display_data"
    },
    {
     "name": "stdout",
     "output_type": "stream",
     "text": [
      "\n",
      "\n",
      "cluster 19 (size 1):\n",
      "[10]\n"
     ]
    },
    {
     "data": {
      "text/plain": [
       "'You are patient unless someone takes you too far.'"
      ]
     },
     "metadata": {},
     "output_type": "display_data"
    },
    {
     "name": "stdout",
     "output_type": "stream",
     "text": [
      "\n",
      "\n",
      "cluster 20 (size 1):\n",
      "[24]\n"
     ]
    },
    {
     "data": {
      "text/plain": [
       "'You have the ability to manage others.'"
      ]
     },
     "metadata": {},
     "output_type": "display_data"
    },
    {
     "name": "stdout",
     "output_type": "stream",
     "text": [
      "\n",
      "\n",
      "cluster 21 (size 1):\n",
      "[18]\n"
     ]
    },
    {
     "data": {
      "text/plain": [
       "'You are usually slow to anger unless someone takes you too far.'"
      ]
     },
     "metadata": {},
     "output_type": "display_data"
    },
    {
     "name": "stdout",
     "output_type": "stream",
     "text": [
      "\n",
      "\n",
      "cluster 22 (size 1):\n",
      "[33]\n"
     ]
    },
    {
     "data": {
      "text/plain": [
       "'You tend to be friendly.'"
      ]
     },
     "metadata": {},
     "output_type": "display_data"
    },
    {
     "name": "stdout",
     "output_type": "stream",
     "text": [
      "\n",
      "\n"
     ]
    }
   ],
   "source": [
    "clusters = AgglomerativeClustering(n_clusters=optimal_k, affinity='precomputed', linkage='single')\n",
    "clusters.fit_predict(dist_mat)\n",
    "for i in range(clusters.n_clusters_):\n",
    "    indices = np.where(clusters.labels_ == i)[0]\n",
    "    \n",
    "    print(f'cluster {i} (size {len(indices)}):')\n",
    "    print(indices)\n",
    "    for idx in indices:\n",
    "        display(df_piv.index[idx])\n",
    "    print('\\n')"
   ]
  },
  {
   "cell_type": "code",
   "execution_count": 20,
   "metadata": {},
   "outputs": [
    {
     "name": "stdin",
     "output_type": "stream",
     "text": [
      "enter path to save clusters json file:\n",
      " ../data/Astro1_decomposed_clean_roberta_kg_clusters(debugged).json\n"
     ]
    }
   ],
   "source": [
    "import json\n",
    "# save clusters into JSON dict\n",
    "clusters_dict = dict()\n",
    "for i in range(clusters.n_clusters_):\n",
    "    indices = np.where(clusters.labels_ == i)[0]\n",
    "    sents = list()\n",
    "    for idx in indices:\n",
    "        sents.append(df_piv.index[idx])\n",
    "    clusters_dict[i] = sents\n",
    "path = input(\"enter path to save clusters json file:\\n\")\n",
    "with open(path, 'w') as fp:\n",
    "    json.dump(clusters_dict, fp)"
   ]
  },
  {
   "cell_type": "code",
   "execution_count": 21,
   "metadata": {
    "scrolled": true
   },
   "outputs": [
    {
     "data": {
      "text/html": [
       "<div>\n",
       "<style scoped>\n",
       "    .dataframe tbody tr th:only-of-type {\n",
       "        vertical-align: middle;\n",
       "    }\n",
       "\n",
       "    .dataframe tbody tr th {\n",
       "        vertical-align: top;\n",
       "    }\n",
       "\n",
       "    .dataframe thead th {\n",
       "        text-align: right;\n",
       "    }\n",
       "</style>\n",
       "<table border=\"1\" class=\"dataframe\">\n",
       "  <thead>\n",
       "    <tr style=\"text-align: right;\">\n",
       "      <th>second</th>\n",
       "      <th>Debate and argument appeal to you.</th>\n",
       "      <th>Keeping things going is your strength, especially once someone else starts them.</th>\n",
       "      <th>Money and possessions are important to you for the feelings of security they bring.</th>\n",
       "      <th>Whatever you have set your sights on, you refuse to give up or let go of it.</th>\n",
       "      <th>You are adventurous.</th>\n",
       "      <th>You are consistent.</th>\n",
       "      <th>You are courageous.</th>\n",
       "      <th>You are gentle.</th>\n",
       "      <th>You are handy with your hands.</th>\n",
       "      <th>You are independent.</th>\n",
       "      <th>...</th>\n",
       "      <th>You tend to be open-minded.</th>\n",
       "      <th>You tend to be optimistic.</th>\n",
       "      <th>You tend to be versatile.</th>\n",
       "      <th>Your mind is analytical.</th>\n",
       "      <th>Your mind is deep.</th>\n",
       "      <th>Your work is usually neat.</th>\n",
       "      <th>Your work is usually orderly.</th>\n",
       "      <th>you dislike dirt.</th>\n",
       "      <th>you dislike messes.</th>\n",
       "      <th>you probably have a good head for numbers.</th>\n",
       "    </tr>\n",
       "    <tr>\n",
       "      <th>first</th>\n",
       "      <th></th>\n",
       "      <th></th>\n",
       "      <th></th>\n",
       "      <th></th>\n",
       "      <th></th>\n",
       "      <th></th>\n",
       "      <th></th>\n",
       "      <th></th>\n",
       "      <th></th>\n",
       "      <th></th>\n",
       "      <th></th>\n",
       "      <th></th>\n",
       "      <th></th>\n",
       "      <th></th>\n",
       "      <th></th>\n",
       "      <th></th>\n",
       "      <th></th>\n",
       "      <th></th>\n",
       "      <th></th>\n",
       "      <th></th>\n",
       "      <th></th>\n",
       "    </tr>\n",
       "  </thead>\n",
       "  <tbody>\n",
       "    <tr>\n",
       "      <th>Debate and argument appeal to you.</th>\n",
       "      <td>0.000000</td>\n",
       "      <td>0.342598</td>\n",
       "      <td>0.500000</td>\n",
       "      <td>0.5</td>\n",
       "      <td>0.479860</td>\n",
       "      <td>0.526780</td>\n",
       "      <td>0.509033</td>\n",
       "      <td>0.559887</td>\n",
       "      <td>0.342598</td>\n",
       "      <td>0.342598</td>\n",
       "      <td>...</td>\n",
       "      <td>0.513946</td>\n",
       "      <td>0.515665</td>\n",
       "      <td>0.5</td>\n",
       "      <td>0.559887</td>\n",
       "      <td>0.559887</td>\n",
       "      <td>0.559887</td>\n",
       "      <td>0.342598</td>\n",
       "      <td>0.244359</td>\n",
       "      <td>0.572312</td>\n",
       "      <td>0.534191</td>\n",
       "    </tr>\n",
       "    <tr>\n",
       "      <th>Keeping things going is your strength, especially once someone else starts them.</th>\n",
       "      <td>0.342598</td>\n",
       "      <td>0.000000</td>\n",
       "      <td>0.286881</td>\n",
       "      <td>0.5</td>\n",
       "      <td>0.454137</td>\n",
       "      <td>0.334438</td>\n",
       "      <td>0.494095</td>\n",
       "      <td>0.404782</td>\n",
       "      <td>0.000000</td>\n",
       "      <td>0.000000</td>\n",
       "      <td>...</td>\n",
       "      <td>0.427410</td>\n",
       "      <td>0.307543</td>\n",
       "      <td>0.5</td>\n",
       "      <td>0.404782</td>\n",
       "      <td>0.404782</td>\n",
       "      <td>0.404782</td>\n",
       "      <td>0.000000</td>\n",
       "      <td>0.414076</td>\n",
       "      <td>0.385027</td>\n",
       "      <td>0.426819</td>\n",
       "    </tr>\n",
       "    <tr>\n",
       "      <th>Money and possessions are important to you for the feelings of security they bring.</th>\n",
       "      <td>0.500000</td>\n",
       "      <td>0.286881</td>\n",
       "      <td>0.000000</td>\n",
       "      <td>0.5</td>\n",
       "      <td>0.287063</td>\n",
       "      <td>0.411395</td>\n",
       "      <td>0.489031</td>\n",
       "      <td>0.465043</td>\n",
       "      <td>0.286881</td>\n",
       "      <td>0.286881</td>\n",
       "      <td>...</td>\n",
       "      <td>0.409751</td>\n",
       "      <td>0.046982</td>\n",
       "      <td>0.5</td>\n",
       "      <td>0.465043</td>\n",
       "      <td>0.465043</td>\n",
       "      <td>0.465043</td>\n",
       "      <td>0.286881</td>\n",
       "      <td>0.492211</td>\n",
       "      <td>0.457791</td>\n",
       "      <td>0.452752</td>\n",
       "    </tr>\n",
       "    <tr>\n",
       "      <th>Whatever you have set your sights on, you refuse to give up or let go of it.</th>\n",
       "      <td>0.500000</td>\n",
       "      <td>0.500000</td>\n",
       "      <td>0.500000</td>\n",
       "      <td>0.0</td>\n",
       "      <td>0.500000</td>\n",
       "      <td>0.500000</td>\n",
       "      <td>0.500000</td>\n",
       "      <td>0.500000</td>\n",
       "      <td>0.500000</td>\n",
       "      <td>0.500000</td>\n",
       "      <td>...</td>\n",
       "      <td>0.500000</td>\n",
       "      <td>0.500000</td>\n",
       "      <td>0.5</td>\n",
       "      <td>0.500000</td>\n",
       "      <td>0.500000</td>\n",
       "      <td>0.500000</td>\n",
       "      <td>0.500000</td>\n",
       "      <td>0.500000</td>\n",
       "      <td>0.500000</td>\n",
       "      <td>0.500000</td>\n",
       "    </tr>\n",
       "    <tr>\n",
       "      <th>You are adventurous.</th>\n",
       "      <td>0.479860</td>\n",
       "      <td>0.454137</td>\n",
       "      <td>0.287063</td>\n",
       "      <td>0.5</td>\n",
       "      <td>0.000000</td>\n",
       "      <td>0.436454</td>\n",
       "      <td>0.494543</td>\n",
       "      <td>0.401190</td>\n",
       "      <td>0.454137</td>\n",
       "      <td>0.454137</td>\n",
       "      <td>...</td>\n",
       "      <td>0.493530</td>\n",
       "      <td>0.264979</td>\n",
       "      <td>0.5</td>\n",
       "      <td>0.401190</td>\n",
       "      <td>0.401190</td>\n",
       "      <td>0.401190</td>\n",
       "      <td>0.454137</td>\n",
       "      <td>0.481710</td>\n",
       "      <td>0.380690</td>\n",
       "      <td>0.366447</td>\n",
       "    </tr>\n",
       "  </tbody>\n",
       "</table>\n",
       "<p>5 rows × 47 columns</p>\n",
       "</div>"
      ],
      "text/plain": [
       "second                                              Debate and argument appeal to you.  \\\n",
       "first                                                                                    \n",
       "Debate and argument appeal to you.                                            0.000000   \n",
       "Keeping things going is your strength, especial...                            0.342598   \n",
       "Money and possessions are important to you for ...                            0.500000   \n",
       "Whatever you have set your sights on, you refus...                            0.500000   \n",
       "You are adventurous.                                                          0.479860   \n",
       "\n",
       "second                                              Keeping things going is your strength, especially once someone else starts them.  \\\n",
       "first                                                                                                                                  \n",
       "Debate and argument appeal to you.                                                           0.342598                                  \n",
       "Keeping things going is your strength, especial...                                           0.000000                                  \n",
       "Money and possessions are important to you for ...                                           0.286881                                  \n",
       "Whatever you have set your sights on, you refus...                                           0.500000                                  \n",
       "You are adventurous.                                                                         0.454137                                  \n",
       "\n",
       "second                                              Money and possessions are important to you for the feelings of security they bring.  \\\n",
       "first                                                                                                                                     \n",
       "Debate and argument appeal to you.                                                           0.500000                                     \n",
       "Keeping things going is your strength, especial...                                           0.286881                                     \n",
       "Money and possessions are important to you for ...                                           0.000000                                     \n",
       "Whatever you have set your sights on, you refus...                                           0.500000                                     \n",
       "You are adventurous.                                                                         0.287063                                     \n",
       "\n",
       "second                                              Whatever you have set your sights on, you refuse to give up or let go of it.  \\\n",
       "first                                                                                                                              \n",
       "Debate and argument appeal to you.                                                                0.5                              \n",
       "Keeping things going is your strength, especial...                                                0.5                              \n",
       "Money and possessions are important to you for ...                                                0.5                              \n",
       "Whatever you have set your sights on, you refus...                                                0.0                              \n",
       "You are adventurous.                                                                              0.5                              \n",
       "\n",
       "second                                              You are adventurous.  \\\n",
       "first                                                                      \n",
       "Debate and argument appeal to you.                              0.479860   \n",
       "Keeping things going is your strength, especial...              0.454137   \n",
       "Money and possessions are important to you for ...              0.287063   \n",
       "Whatever you have set your sights on, you refus...              0.500000   \n",
       "You are adventurous.                                            0.000000   \n",
       "\n",
       "second                                              You are consistent.  \\\n",
       "first                                                                     \n",
       "Debate and argument appeal to you.                             0.526780   \n",
       "Keeping things going is your strength, especial...             0.334438   \n",
       "Money and possessions are important to you for ...             0.411395   \n",
       "Whatever you have set your sights on, you refus...             0.500000   \n",
       "You are adventurous.                                           0.436454   \n",
       "\n",
       "second                                              You are courageous.  \\\n",
       "first                                                                     \n",
       "Debate and argument appeal to you.                             0.509033   \n",
       "Keeping things going is your strength, especial...             0.494095   \n",
       "Money and possessions are important to you for ...             0.489031   \n",
       "Whatever you have set your sights on, you refus...             0.500000   \n",
       "You are adventurous.                                           0.494543   \n",
       "\n",
       "second                                              You are gentle.  \\\n",
       "first                                                                 \n",
       "Debate and argument appeal to you.                         0.559887   \n",
       "Keeping things going is your strength, especial...         0.404782   \n",
       "Money and possessions are important to you for ...         0.465043   \n",
       "Whatever you have set your sights on, you refus...         0.500000   \n",
       "You are adventurous.                                       0.401190   \n",
       "\n",
       "second                                              You are handy with your hands.  \\\n",
       "first                                                                                \n",
       "Debate and argument appeal to you.                                        0.342598   \n",
       "Keeping things going is your strength, especial...                        0.000000   \n",
       "Money and possessions are important to you for ...                        0.286881   \n",
       "Whatever you have set your sights on, you refus...                        0.500000   \n",
       "You are adventurous.                                                      0.454137   \n",
       "\n",
       "second                                              You are independent.  ...  \\\n",
       "first                                                                     ...   \n",
       "Debate and argument appeal to you.                              0.342598  ...   \n",
       "Keeping things going is your strength, especial...              0.000000  ...   \n",
       "Money and possessions are important to you for ...              0.286881  ...   \n",
       "Whatever you have set your sights on, you refus...              0.500000  ...   \n",
       "You are adventurous.                                            0.454137  ...   \n",
       "\n",
       "second                                              You tend to be open-minded.  \\\n",
       "first                                                                             \n",
       "Debate and argument appeal to you.                                     0.513946   \n",
       "Keeping things going is your strength, especial...                     0.427410   \n",
       "Money and possessions are important to you for ...                     0.409751   \n",
       "Whatever you have set your sights on, you refus...                     0.500000   \n",
       "You are adventurous.                                                   0.493530   \n",
       "\n",
       "second                                              You tend to be optimistic.  \\\n",
       "first                                                                            \n",
       "Debate and argument appeal to you.                                    0.515665   \n",
       "Keeping things going is your strength, especial...                    0.307543   \n",
       "Money and possessions are important to you for ...                    0.046982   \n",
       "Whatever you have set your sights on, you refus...                    0.500000   \n",
       "You are adventurous.                                                  0.264979   \n",
       "\n",
       "second                                              You tend to be versatile.  \\\n",
       "first                                                                           \n",
       "Debate and argument appeal to you.                                        0.5   \n",
       "Keeping things going is your strength, especial...                        0.5   \n",
       "Money and possessions are important to you for ...                        0.5   \n",
       "Whatever you have set your sights on, you refus...                        0.5   \n",
       "You are adventurous.                                                      0.5   \n",
       "\n",
       "second                                              Your mind is analytical.  \\\n",
       "first                                                                          \n",
       "Debate and argument appeal to you.                                  0.559887   \n",
       "Keeping things going is your strength, especial...                  0.404782   \n",
       "Money and possessions are important to you for ...                  0.465043   \n",
       "Whatever you have set your sights on, you refus...                  0.500000   \n",
       "You are adventurous.                                                0.401190   \n",
       "\n",
       "second                                              Your mind is deep.  \\\n",
       "first                                                                    \n",
       "Debate and argument appeal to you.                            0.559887   \n",
       "Keeping things going is your strength, especial...            0.404782   \n",
       "Money and possessions are important to you for ...            0.465043   \n",
       "Whatever you have set your sights on, you refus...            0.500000   \n",
       "You are adventurous.                                          0.401190   \n",
       "\n",
       "second                                              Your work is usually neat.  \\\n",
       "first                                                                            \n",
       "Debate and argument appeal to you.                                    0.559887   \n",
       "Keeping things going is your strength, especial...                    0.404782   \n",
       "Money and possessions are important to you for ...                    0.465043   \n",
       "Whatever you have set your sights on, you refus...                    0.500000   \n",
       "You are adventurous.                                                  0.401190   \n",
       "\n",
       "second                                              Your work is usually orderly.  \\\n",
       "first                                                                               \n",
       "Debate and argument appeal to you.                                       0.342598   \n",
       "Keeping things going is your strength, especial...                       0.000000   \n",
       "Money and possessions are important to you for ...                       0.286881   \n",
       "Whatever you have set your sights on, you refus...                       0.500000   \n",
       "You are adventurous.                                                     0.454137   \n",
       "\n",
       "second                                              you dislike dirt.  \\\n",
       "first                                                                   \n",
       "Debate and argument appeal to you.                           0.244359   \n",
       "Keeping things going is your strength, especial...           0.414076   \n",
       "Money and possessions are important to you for ...           0.492211   \n",
       "Whatever you have set your sights on, you refus...           0.500000   \n",
       "You are adventurous.                                         0.481710   \n",
       "\n",
       "second                                              you dislike messes.  \\\n",
       "first                                                                     \n",
       "Debate and argument appeal to you.                             0.572312   \n",
       "Keeping things going is your strength, especial...             0.385027   \n",
       "Money and possessions are important to you for ...             0.457791   \n",
       "Whatever you have set your sights on, you refus...             0.500000   \n",
       "You are adventurous.                                           0.380690   \n",
       "\n",
       "second                                              you probably have a good head for numbers.  \n",
       "first                                                                                           \n",
       "Debate and argument appeal to you.                                                    0.534191  \n",
       "Keeping things going is your strength, especial...                                    0.426819  \n",
       "Money and possessions are important to you for ...                                    0.452752  \n",
       "Whatever you have set your sights on, you refus...                                    0.500000  \n",
       "You are adventurous.                                                                  0.366447  \n",
       "\n",
       "[5 rows x 47 columns]"
      ]
     },
     "execution_count": 21,
     "metadata": {},
     "output_type": "execute_result"
    }
   ],
   "source": [
    "# create symmetric pivot df for saving.\n",
    "df_piv_symmetric = pd.DataFrame(data=dist_mat, index=df_piv.index, columns=df_piv.columns)\n",
    "df_piv_symmetric.head()"
   ]
  },
  {
   "cell_type": "code",
   "execution_count": 22,
   "metadata": {},
   "outputs": [
    {
     "name": "stdin",
     "output_type": "stream",
     "text": [
      "enter path to save csv file for pairwise distances:\n",
      " ../data/Astro1_decomposed_clean_roberta_kg_pairwise(debugged).csv\n"
     ]
    }
   ],
   "source": [
    "path = input(\"enter path to save csv file for pairwise distances:\\n\")\n",
    "df_piv_symmetric.to_csv(path)"
   ]
  },
  {
   "cell_type": "code",
   "execution_count": 23,
   "metadata": {},
   "outputs": [
    {
     "data": {
      "text/plain": [
       "0.2870629399854435"
      ]
     },
     "metadata": {},
     "output_type": "display_data"
    }
   ],
   "source": [
    "A = \"You tend to be dependable.\"\n",
    "B = \"You are adventurous.\"\n",
    "display(df_piv_symmetric.loc[A][B])"
   ]
  },
  {
   "cell_type": "markdown",
   "metadata": {},
   "source": [
    "### more exploration for choosing \"optimal\" clusters."
   ]
  },
  {
   "cell_type": "markdown",
   "metadata": {},
   "source": [
    "If we use the cutting method on the dengrogram generated much earlier, then we'll end up with 6, 19, 44 or 60 clusters depending on where we cut. However, for the lower number of clusters (e.g. 6 or 19, the cluster sizes are highly imbalanced). We should take a closer look at the contents of the clusters formed."
   ]
  },
  {
   "cell_type": "code",
   "execution_count": null,
   "metadata": {
    "collapsed": true,
    "jupyter": {
     "outputs_hidden": true
    }
   },
   "outputs": [],
   "source": [
    "for chosen_k in [6, 19, 44, 60]:\n",
    "    print('------')\n",
    "    print(f'\\n{chosen_k}')\n",
    "    clusters = AgglomerativeClustering(n_clusters=chosen_k, affinity='precomputed', linkage='single')\n",
    "    clusters.fit_predict(dist_mat)\n",
    "    for i in range(clusters.n_clusters_):\n",
    "        indices = np.where(clusters.labels_ == i)[0]\n",
    "\n",
    "        print(f'cluster {i} (size {len(indices)}):')\n",
    "        print(indices)\n",
    "        for idx in indices:\n",
    "            display(df_piv.index[idx])\n",
    "        print('\\n')"
   ]
  },
  {
   "cell_type": "markdown",
   "metadata": {},
   "source": [
    "We could try different linkage algorithms to see their effects too. But we'll leave this for another time."
   ]
  },
  {
   "cell_type": "markdown",
   "metadata": {},
   "source": [
    "Let's try visualising (approximately) a graph from the distance matrix:"
   ]
  },
  {
   "cell_type": "code",
   "execution_count": 41,
   "metadata": {
    "collapsed": true,
    "jupyter": {
     "outputs_hidden": true
    }
   },
   "outputs": [],
   "source": [
    "import networkx as nx\n",
    "import string"
   ]
  },
  {
   "cell_type": "code",
   "execution_count": 42,
   "metadata": {
    "collapsed": true,
    "jupyter": {
     "outputs_hidden": true
    }
   },
   "outputs": [
    {
     "name": "stdout",
     "output_type": "stream",
     "text": [
      "[0, 1, 2, 3, 4, 5, 6, 7, 8, 9, 10, 11, 12, 13, 14, 15, 16, 17, 18, 19, 20, 21, 22, 23, 24, 25, 26, 27, 28, 29, 30, 31, 32, 33, 34, 35, 36, 37, 38, 39, 40, 41, 42, 43, 44, 45, 46]\n",
      "[(0, 1), (0, 2), (0, 3), (0, 4), (0, 5), (0, 6), (0, 7), (0, 8), (0, 9), (0, 10), (0, 11), (0, 12), (0, 13), (0, 14), (0, 15), (0, 16), (0, 17), (0, 18), (0, 19), (0, 20), (0, 21), (0, 22), (0, 23), (0, 24), (0, 25), (0, 26), (0, 27), (0, 28), (0, 29), (0, 30), (0, 31), (0, 32), (0, 33), (0, 34), (0, 35), (0, 36), (0, 37), (0, 38), (0, 39), (0, 40), (0, 41), (0, 42), (0, 43), (0, 44), (0, 45), (0, 46), (1, 2), (1, 3), (1, 4), (1, 5), (1, 6), (1, 7), (1, 8), (1, 9), (1, 10), (1, 11), (1, 12), (1, 13), (1, 14), (1, 15), (1, 16), (1, 17), (1, 18), (1, 19), (1, 20), (1, 21), (1, 22), (1, 23), (1, 24), (1, 25), (1, 26), (1, 27), (1, 28), (1, 29), (1, 30), (1, 31), (1, 32), (1, 33), (1, 34), (1, 35), (1, 36), (1, 37), (1, 38), (1, 39), (1, 40), (1, 41), (1, 42), (1, 43), (1, 44), (1, 45), (1, 46), (2, 3), (2, 4), (2, 5), (2, 6), (2, 7), (2, 8), (2, 9), (2, 10), (2, 11), (2, 12), (2, 13), (2, 14), (2, 15), (2, 16), (2, 17), (2, 18), (2, 19), (2, 20), (2, 21), (2, 22), (2, 23), (2, 24), (2, 25), (2, 26), (2, 27), (2, 28), (2, 29), (2, 30), (2, 31), (2, 32), (2, 33), (2, 34), (2, 35), (2, 36), (2, 37), (2, 38), (2, 39), (2, 40), (2, 41), (2, 42), (2, 43), (2, 44), (2, 45), (2, 46), (3, 4), (3, 5), (3, 6), (3, 7), (3, 8), (3, 9), (3, 10), (3, 11), (3, 12), (3, 13), (3, 14), (3, 15), (3, 16), (3, 17), (3, 18), (3, 19), (3, 20), (3, 21), (3, 22), (3, 23), (3, 24), (3, 25), (3, 26), (3, 27), (3, 28), (3, 29), (3, 30), (3, 31), (3, 32), (3, 33), (3, 34), (3, 35), (3, 36), (3, 37), (3, 38), (3, 39), (3, 40), (3, 41), (3, 42), (3, 43), (3, 44), (3, 45), (3, 46), (4, 5), (4, 6), (4, 7), (4, 8), (4, 9), (4, 10), (4, 11), (4, 12), (4, 13), (4, 14), (4, 15), (4, 16), (4, 17), (4, 18), (4, 19), (4, 20), (4, 21), (4, 22), (4, 23), (4, 24), (4, 25), (4, 26), (4, 27), (4, 28), (4, 29), (4, 30), (4, 31), (4, 32), (4, 33), (4, 34), (4, 35), (4, 36), (4, 37), (4, 38), (4, 39), (4, 40), (4, 41), (4, 42), (4, 43), (4, 44), (4, 45), (4, 46), (5, 6), (5, 7), (5, 8), (5, 9), (5, 10), (5, 11), (5, 12), (5, 13), (5, 14), (5, 15), (5, 16), (5, 17), (5, 18), (5, 19), (5, 20), (5, 21), (5, 22), (5, 23), (5, 24), (5, 25), (5, 26), (5, 27), (5, 28), (5, 29), (5, 30), (5, 31), (5, 32), (5, 33), (5, 34), (5, 35), (5, 36), (5, 37), (5, 38), (5, 39), (5, 40), (5, 41), (5, 42), (5, 43), (5, 44), (5, 45), (5, 46), (6, 7), (6, 8), (6, 9), (6, 10), (6, 11), (6, 12), (6, 13), (6, 14), (6, 15), (6, 16), (6, 17), (6, 18), (6, 19), (6, 20), (6, 21), (6, 22), (6, 23), (6, 24), (6, 25), (6, 26), (6, 27), (6, 28), (6, 29), (6, 30), (6, 31), (6, 32), (6, 33), (6, 34), (6, 35), (6, 36), (6, 37), (6, 38), (6, 39), (6, 40), (6, 41), (6, 42), (6, 43), (6, 44), (6, 45), (6, 46), (7, 8), (7, 9), (7, 10), (7, 11), (7, 12), (7, 13), (7, 14), (7, 15), (7, 16), (7, 17), (7, 18), (7, 19), (7, 20), (7, 21), (7, 22), (7, 23), (7, 24), (7, 25), (7, 26), (7, 27), (7, 28), (7, 29), (7, 30), (7, 31), (7, 32), (7, 33), (7, 34), (7, 35), (7, 36), (7, 37), (7, 38), (7, 39), (7, 40), (7, 41), (7, 42), (7, 43), (7, 44), (7, 45), (7, 46), (8, 9), (8, 10), (8, 11), (8, 12), (8, 13), (8, 14), (8, 15), (8, 16), (8, 17), (8, 18), (8, 19), (8, 20), (8, 21), (8, 22), (8, 23), (8, 24), (8, 25), (8, 26), (8, 27), (8, 28), (8, 29), (8, 30), (8, 31), (8, 32), (8, 33), (8, 34), (8, 35), (8, 36), (8, 37), (8, 38), (8, 39), (8, 40), (8, 41), (8, 42), (8, 43), (8, 44), (8, 45), (8, 46), (9, 10), (9, 11), (9, 12), (9, 13), (9, 14), (9, 15), (9, 16), (9, 17), (9, 18), (9, 19), (9, 20), (9, 21), (9, 22), (9, 23), (9, 24), (9, 25), (9, 26), (9, 27), (9, 28), (9, 29), (9, 30), (9, 31), (9, 32), (9, 33), (9, 34), (9, 35), (9, 36), (9, 37), (9, 38), (9, 39), (9, 40), (9, 41), (9, 42), (9, 43), (9, 44), (9, 45), (9, 46), (10, 11), (10, 12), (10, 13), (10, 14), (10, 15), (10, 16), (10, 17), (10, 18), (10, 19), (10, 20), (10, 21), (10, 22), (10, 23), (10, 24), (10, 25), (10, 26), (10, 27), (10, 28), (10, 29), (10, 30), (10, 31), (10, 32), (10, 33), (10, 34), (10, 35), (10, 36), (10, 37), (10, 38), (10, 39), (10, 40), (10, 41), (10, 42), (10, 43), (10, 44), (10, 45), (10, 46), (11, 12), (11, 13), (11, 14), (11, 15), (11, 16), (11, 17), (11, 18), (11, 19), (11, 20), (11, 21), (11, 22), (11, 23), (11, 24), (11, 25), (11, 26), (11, 27), (11, 28), (11, 29), (11, 30), (11, 31), (11, 32), (11, 33), (11, 34), (11, 35), (11, 36), (11, 37), (11, 38), (11, 39), (11, 40), (11, 41), (11, 42), (11, 43), (11, 44), (11, 45), (11, 46), (12, 13), (12, 14), (12, 15), (12, 16), (12, 17), (12, 18), (12, 19), (12, 20), (12, 21), (12, 22), (12, 23), (12, 24), (12, 25), (12, 26), (12, 27), (12, 28), (12, 29), (12, 30), (12, 31), (12, 32), (12, 33), (12, 34), (12, 35), (12, 36), (12, 37), (12, 38), (12, 39), (12, 40), (12, 41), (12, 42), (12, 43), (12, 44), (12, 45), (12, 46), (13, 14), (13, 15), (13, 16), (13, 17), (13, 18), (13, 19), (13, 20), (13, 21), (13, 22), (13, 23), (13, 24), (13, 25), (13, 26), (13, 27), (13, 28), (13, 29), (13, 30), (13, 31), (13, 32), (13, 33), (13, 34), (13, 35), (13, 36), (13, 37), (13, 38), (13, 39), (13, 40), (13, 41), (13, 42), (13, 43), (13, 44), (13, 45), (13, 46), (14, 15), (14, 16), (14, 17), (14, 18), (14, 19), (14, 20), (14, 21), (14, 22), (14, 23), (14, 24), (14, 25), (14, 26), (14, 27), (14, 28), (14, 29), (14, 30), (14, 31), (14, 32), (14, 33), (14, 34), (14, 35), (14, 36), (14, 37), (14, 38), (14, 39), (14, 40), (14, 41), (14, 42), (14, 43), (14, 44), (14, 45), (14, 46), (15, 16), (15, 17), (15, 18), (15, 19), (15, 20), (15, 21), (15, 22), (15, 23), (15, 24), (15, 25), (15, 26), (15, 27), (15, 28), (15, 29), (15, 30), (15, 31), (15, 32), (15, 33), (15, 34), (15, 35), (15, 36), (15, 37), (15, 38), (15, 39), (15, 40), (15, 41), (15, 42), (15, 43), (15, 44), (15, 45), (15, 46), (16, 17), (16, 18), (16, 19), (16, 20), (16, 21), (16, 22), (16, 23), (16, 24), (16, 25), (16, 26), (16, 27), (16, 28), (16, 29), (16, 30), (16, 31), (16, 32), (16, 33), (16, 34), (16, 35), (16, 36), (16, 37), (16, 38), (16, 39), (16, 40), (16, 41), (16, 42), (16, 43), (16, 44), (16, 45), (16, 46), (17, 18), (17, 19), (17, 20), (17, 21), (17, 22), (17, 23), (17, 24), (17, 25), (17, 26), (17, 27), (17, 28), (17, 29), (17, 30), (17, 31), (17, 32), (17, 33), (17, 34), (17, 35), (17, 36), (17, 37), (17, 38), (17, 39), (17, 40), (17, 41), (17, 42), (17, 43), (17, 44), (17, 45), (17, 46), (18, 19), (18, 20), (18, 21), (18, 22), (18, 23), (18, 24), (18, 25), (18, 26), (18, 27), (18, 28), (18, 29), (18, 30), (18, 31), (18, 32), (18, 33), (18, 34), (18, 35), (18, 36), (18, 37), (18, 38), (18, 39), (18, 40), (18, 41), (18, 42), (18, 43), (18, 44), (18, 45), (18, 46), (19, 20), (19, 21), (19, 22), (19, 23), (19, 24), (19, 25), (19, 26), (19, 27), (19, 28), (19, 29), (19, 30), (19, 31), (19, 32), (19, 33), (19, 34), (19, 35), (19, 36), (19, 37), (19, 38), (19, 39), (19, 40), (19, 41), (19, 42), (19, 43), (19, 44), (19, 45), (19, 46), (20, 21), (20, 22), (20, 23), (20, 24), (20, 25), (20, 26), (20, 27), (20, 28), (20, 29), (20, 30), (20, 31), (20, 32), (20, 33), (20, 34), (20, 35), (20, 36), (20, 37), (20, 38), (20, 39), (20, 40), (20, 41), (20, 42), (20, 43), (20, 44), (20, 45), (20, 46), (21, 22), (21, 23), (21, 24), (21, 25), (21, 26), (21, 27), (21, 28), (21, 29), (21, 30), (21, 31), (21, 32), (21, 33), (21, 34), (21, 35), (21, 36), (21, 37), (21, 38), (21, 39), (21, 40), (21, 41), (21, 42), (21, 43), (21, 44), (21, 45), (21, 46), (22, 23), (22, 24), (22, 25), (22, 26), (22, 27), (22, 28), (22, 29), (22, 30), (22, 31), (22, 32), (22, 33), (22, 34), (22, 35), (22, 36), (22, 37), (22, 38), (22, 39), (22, 40), (22, 41), (22, 42), (22, 43), (22, 44), (22, 45), (22, 46), (23, 24), (23, 25), (23, 26), (23, 27), (23, 28), (23, 29), (23, 30), (23, 31), (23, 32), (23, 33), (23, 34), (23, 35), (23, 36), (23, 37), (23, 38), (23, 39), (23, 40), (23, 41), (23, 42), (23, 43), (23, 44), (23, 45), (23, 46), (24, 25), (24, 26), (24, 27), (24, 28), (24, 29), (24, 30), (24, 31), (24, 32), (24, 33), (24, 34), (24, 35), (24, 36), (24, 37), (24, 38), (24, 39), (24, 40), (24, 41), (24, 42), (24, 43), (24, 44), (24, 45), (24, 46), (25, 26), (25, 27), (25, 28), (25, 29), (25, 30), (25, 31), (25, 32), (25, 33), (25, 34), (25, 35), (25, 36), (25, 37), (25, 38), (25, 39), (25, 40), (25, 41), (25, 42), (25, 43), (25, 44), (25, 45), (25, 46), (26, 27), (26, 28), (26, 29), (26, 30), (26, 31), (26, 32), (26, 33), (26, 34), (26, 35), (26, 36), (26, 37), (26, 38), (26, 39), (26, 40), (26, 41), (26, 42), (26, 43), (26, 44), (26, 45), (26, 46), (27, 28), (27, 29), (27, 30), (27, 31), (27, 32), (27, 33), (27, 34), (27, 35), (27, 36), (27, 37), (27, 38), (27, 39), (27, 40), (27, 41), (27, 42), (27, 43), (27, 44), (27, 45), (27, 46), (28, 29), (28, 30), (28, 31), (28, 32), (28, 33), (28, 34), (28, 35), (28, 36), (28, 37), (28, 38), (28, 39), (28, 40), (28, 41), (28, 42), (28, 43), (28, 44), (28, 45), (28, 46), (29, 30), (29, 31), (29, 32), (29, 33), (29, 34), (29, 35), (29, 36), (29, 37), (29, 38), (29, 39), (29, 40), (29, 41), (29, 42), (29, 43), (29, 44), (29, 45), (29, 46), (30, 31), (30, 32), (30, 33), (30, 34), (30, 35), (30, 36), (30, 37), (30, 38), (30, 39), (30, 40), (30, 41), (30, 42), (30, 43), (30, 44), (30, 45), (30, 46), (31, 32), (31, 33), (31, 34), (31, 35), (31, 36), (31, 37), (31, 38), (31, 39), (31, 40), (31, 41), (31, 42), (31, 43), (31, 44), (31, 45), (31, 46), (32, 33), (32, 34), (32, 35), (32, 36), (32, 37), (32, 38), (32, 39), (32, 40), (32, 41), (32, 42), (32, 43), (32, 44), (32, 45), (32, 46), (33, 34), (33, 35), (33, 36), (33, 37), (33, 38), (33, 39), (33, 40), (33, 41), (33, 42), (33, 43), (33, 44), (33, 45), (33, 46), (34, 35), (34, 36), (34, 37), (34, 38), (34, 39), (34, 40), (34, 41), (34, 42), (34, 43), (34, 44), (34, 45), (34, 46), (35, 36), (35, 37), (35, 38), (35, 39), (35, 40), (35, 41), (35, 42), (35, 43), (35, 44), (35, 45), (35, 46), (36, 37), (36, 38), (36, 39), (36, 40), (36, 41), (36, 42), (36, 43), (36, 44), (36, 45), (36, 46), (37, 38), (37, 39), (37, 40), (37, 41), (37, 42), (37, 43), (37, 44), (37, 45), (37, 46), (38, 39), (38, 40), (38, 41), (38, 42), (38, 43), (38, 44), (38, 45), (38, 46), (39, 40), (39, 41), (39, 42), (39, 43), (39, 44), (39, 45), (39, 46), (40, 41), (40, 42), (40, 43), (40, 44), (40, 45), (40, 46), (41, 42), (41, 43), (41, 44), (41, 45), (41, 46), (42, 43), (42, 44), (42, 45), (42, 46), (43, 44), (43, 45), (43, 46), (44, 45), (44, 46), (45, 46)]\n"
     ]
    }
   ],
   "source": [
    "G = nx.from_numpy_matrix(dist_mat)\n",
    "print(G.nodes())\n",
    "print(G.edges())"
   ]
  },
  {
   "cell_type": "code",
   "execution_count": 43,
   "metadata": {
    "collapsed": true,
    "jupyter": {
     "outputs_hidden": true
    }
   },
   "outputs": [],
   "source": [
    "G = nx.from_numpy_matrix(dist_mat)\n",
    "G = nx.relabel_nodes(G, dict(zip(range(len(G.nodes())),string.ascii_uppercase)))"
   ]
  },
  {
   "cell_type": "code",
   "execution_count": 45,
   "metadata": {
    "collapsed": true,
    "jupyter": {
     "outputs_hidden": true
    }
   },
   "outputs": [
    {
     "name": "stdout",
     "output_type": "stream",
     "text": [
      "using package pydot\n"
     ]
    },
    {
     "name": "stdin",
     "output_type": "stream",
     "text": [
      "enter path to save dot file:\n",
      " ../data/viz/Astro1_decomposed_clean_pairs_roberta.dot\n"
     ]
    }
   ],
   "source": [
    "import pydot\n",
    "from networkx.drawing.nx_pydot import write_dot\n",
    "print(\"using package pydot\")\n",
    "path = input(\"enter path to save dot file:\\n\")\n",
    "write_dot(G, path)"
   ]
  },
  {
   "cell_type": "markdown",
   "metadata": {},
   "source": [
    "Provide generated dotfile to Graphviz neato program for advanced visualisation. Voila!"
   ]
  },
  {
   "cell_type": "code",
   "execution_count": 46,
   "metadata": {
    "collapsed": true,
    "jupyter": {
     "outputs_hidden": true
    }
   },
   "outputs": [
    {
     "name": "stdout",
     "output_type": "stream",
     "text": [
      "0   Debate and argument appeal to you.\n",
      "1   Keeping things going is your strength, especially once someone else starts them.\n",
      "2   Money and possessions are important to you for the feelings of security they bring.\n",
      "3   Whatever you have set your sights on, you refuse to give up or let go of it.\n",
      "4   You are adventurous.\n",
      "5   You are consistent.\n",
      "6   You are courageous.\n",
      "7   You are gentle.\n",
      "8   You are handy with your hands.\n",
      "9   You are independent.\n",
      "10   You are patient unless someone takes you too far.\n",
      "11   You are quiet.\n",
      "12   You are reliable.\n",
      "13   You are romantic.\n",
      "14   You are sensitive.\n",
      "15   You are sentimental.\n",
      "16   You are shy.\n",
      "17   You are usually outspoken, sometimes to the point of bluntness.\n",
      "18   You are usually slow to anger unless someone takes you too far.\n",
      "19   You are very direct in thought, action, and speech and everyone knows how you feel.\n",
      "20   You can handle more of the workload than most around you.\n",
      "21   You enjoy building and seeing the results of your hard work.\n",
      "22   You grasp concepts easily.\n",
      "23   You have common sense to manage others.\n",
      "24   You have the ability to manage others.\n",
      "25   You may be a bit of a perfectionist.\n",
      "26   You may be ambidextrous or mechanically inclined.\n",
      "27   You may become impatient with those who do n't learn as quickly.\n",
      "28   You never find it difficult to change your mind or course in mid-stream.\n",
      "29   You never give up.\n",
      "30   You prefer a regular routine, defined responsibilities.\n",
      "31   You prefer a regular routine, defined tasks.\n",
      "32   You tend to be dependable.\n",
      "33   You tend to be friendly.\n",
      "34   You tend to be honest.\n",
      "35   You tend to be idealistic.\n",
      "36   You tend to be industrious, efficient, practical, exacting, scientific, organized, shy, thrifty, studious, economical, and punctual.\n",
      "37   You tend to be open-minded.\n",
      "38   You tend to be optimistic.\n",
      "39   You tend to be versatile.\n",
      "40   Your mind is analytical.\n",
      "41   Your mind is deep.\n",
      "42   Your work is usually neat.\n",
      "43   Your work is usually orderly.\n",
      "44   you dislike dirt.\n",
      "45   you dislike messes.\n",
      "46   you probably have a good head for numbers.\n"
     ]
    }
   ],
   "source": [
    "for i in range(len(df_piv.index)):\n",
    "    print(i, ' ', df_piv.index[i])"
   ]
  },
  {
   "cell_type": "markdown",
   "metadata": {},
   "source": [
    "I need to find the distances between clusters. to gauge how similar 2 clusters are in relation to one another. I could just use the visualisation tool to visually identify clusters far from each other and try to compare their cluster meanings."
   ]
  },
  {
   "cell_type": "code",
   "execution_count": 47,
   "metadata": {
    "collapsed": true,
    "jupyter": {
     "outputs_hidden": true
    }
   },
   "outputs": [
    {
     "name": "stdout",
     "output_type": "stream",
     "text": [
      "no. of clusters found:   39\n",
      "no. of samples:  47\n",
      "0 :  0.0\n",
      "1 :  0.0\n",
      "2 :  0.0\n",
      "3 :  0.0\n",
      "4 :  0.0\n",
      "5 :  0.642095879282839\n",
      "6 :  0.0\n",
      "7 :  0.0\n",
      "8 :  0.0\n",
      "9 :  0.0\n",
      "10 :  0.9829472362326903\n",
      "11 :  0.0\n",
      "12 :  0.8970621816199157\n",
      "13 :  0.0\n",
      "14 :  0.0\n",
      "15 :  0.0\n",
      "16 :  0.0\n",
      "17 :  0.0\n",
      "18 :  0.9836908160481713\n",
      "19 :  0.0\n",
      "20 :  0.0\n",
      "21 :  0.0\n",
      "22 :  0.0\n",
      "23 :  0.9825751589154322\n",
      "24 :  0.5816944135901622\n",
      "25 :  0.0\n",
      "26 :  0.0\n",
      "27 :  0.0\n",
      "28 :  0.0\n",
      "29 :  0.0\n",
      "30 :  0.9937494487658421\n",
      "31 :  0.9930882383455576\n",
      "32 :  0.862683660920535\n",
      "33 :  0.0\n",
      "34 :  0.0\n",
      "35 :  0.9331633182778146\n",
      "36 :  0.36885968477413467\n",
      "37 :  0.0\n",
      "38 :  0.8298688456541156\n",
      "39 :  0.426567938530809\n",
      "40 :  0.0\n",
      "41 :  0.0\n",
      "42 :  0.9931529771934257\n",
      "43 :  0.9934520368842715\n",
      "44 :  0.0\n",
      "45 :  0.0\n",
      "46 :  0.0\n"
     ]
    }
   ],
   "source": [
    "clusters = AgglomerativeClustering(n_clusters=39, affinity='precomputed', linkage='single')\n",
    "labels = clusters.fit_predict(dist_mat)\n",
    "\n",
    "from sklearn.metrics import silhouette_samples\n",
    "\n",
    "silhouette_samples = silhouette_samples(dist_mat, clusters.labels_, metric='precomputed')\n",
    "\n",
    "print('no. of clusters found:', ' ', clusters.n_clusters_)\n",
    "print('no. of samples: ', len(silhouette_samples))\n",
    "\n",
    "for i in range(len(silhouette_samples)):\n",
    "    print(i, ': ', silhouette_samples[i])"
   ]
  },
  {
   "cell_type": "markdown",
   "metadata": {},
   "source": [
    "I can write a method to compute the average pairwise distance of one cluster with another cluster."
   ]
  },
  {
   "cell_type": "code",
   "execution_count": 24,
   "metadata": {},
   "outputs": [
    {
     "name": "stdout",
     "output_type": "stream",
     "text": [
      "------\n",
      "\n",
      "no. of clusters = 23\n",
      "[[0.     0.3884 0.3207 0.4692 0.483  0.5    0.5258 0.5178 0.4666 0.4303\n",
      "  0.3572 0.5    0.4702 0.5    0.4784 0.5    0.5    0.4496 0.7327 0.5\n",
      "  0.3638 0.4891 0.5   ]\n",
      " [0.     0.     0.1731 0.322  0.3394 0.5    0.5899 0.6729 0.4689 0.1934\n",
      "  0.2057 0.5    0.4467 0.4975 0.4137 0.5    0.5399 0.4228 0.7132 0.5\n",
      "  0.2843 0.4626 0.5   ]\n",
      " [0.     0.     0.     0.4538 0.4033 0.5    0.6037 0.5683 0.4499 0.2831\n",
      "  0.1246 0.5    0.4611 0.4959 0.436  0.5    0.553  0.3759 0.8426 0.5\n",
      "  0.1535 0.4965 0.5   ]\n",
      " [0.     0.     0.     0.     0.2937 0.5    0.4918 0.7189 0.4026 0.2191\n",
      "  0.4632 0.5    0.5215 0.489  0.3102 0.5    0.5078 0.276  0.5589 0.5\n",
      "  0.4616 0.4443 0.5   ]\n",
      " [0.     0.     0.     0.     0.     0.5    0.4126 0.5693 0.4262 0.3216\n",
      "  0.4031 0.5    0.3446 0.494  0.4605 0.5    0.3399 0.4533 0.5325 0.5\n",
      "  0.4501 0.4039 0.5   ]\n",
      " [0.     0.     0.     0.     0.     0.     0.5    0.5    0.5    0.5\n",
      "  0.5    0.5    0.5    0.5    0.5    0.5    0.5    0.5    0.5    0.5\n",
      "  0.5    0.5    0.5   ]\n",
      " [0.     0.     0.     0.     0.     0.     0.     0.4898 0.5    0.5711\n",
      "  0.6171 0.5    0.5    0.5035 0.4906 0.5    0.2444 0.4817 0.4507 0.5\n",
      "  0.5499 0.4458 0.5   ]\n",
      " [0.     0.     0.     0.     0.     0.     0.     0.     0.5704 0.6943\n",
      "  0.5949 0.5    0.4987 0.504  0.5915 0.5    0.4813 0.4992 0.4659 0.5\n",
      "  0.5223 0.496  0.5   ]\n",
      " [0.     0.     0.     0.     0.     0.     0.     0.     0.     0.468\n",
      "  0.4662 0.5    0.5703 0.4787 0.4945 0.5    0.5139 0.4935 0.5639 0.5\n",
      "  0.4583 0.4527 0.5   ]\n",
      " [0.     0.     0.     0.     0.     0.     0.     0.     0.     0.\n",
      "  0.2823 0.5    0.4327 0.4974 0.3588 0.5    0.5133 0.3334 0.6331 0.5\n",
      "  0.3654 0.4584 0.5   ]\n",
      " [0.     0.     0.     0.     0.     0.     0.     0.     0.     0.\n",
      "  0.     0.5    0.6008 0.4732 0.449  0.5    0.5599 0.4012 0.7728 0.5\n",
      "  0.224  0.554  0.5   ]\n",
      " [0.     0.     0.     0.     0.     0.     0.     0.     0.     0.\n",
      "  0.     0.     0.5    0.5    0.5    0.5    0.5    0.5    0.5    0.5\n",
      "  0.5    0.5    0.5   ]\n",
      " [0.     0.     0.     0.     0.     0.     0.     0.     0.     0.\n",
      "  0.     0.     0.     0.5593 0.5169 0.5    0.4665 0.5199 0.5569 0.5\n",
      "  0.4676 0.4774 0.5   ]\n",
      " [0.     0.     0.     0.     0.     0.     0.     0.     0.     0.\n",
      "  0.     0.     0.     0.     0.4954 0.5    0.509  0.4945 0.5    0.5\n",
      "  0.4966 0.4954 0.5   ]\n",
      " [0.     0.     0.     0.     0.     0.     0.     0.     0.     0.\n",
      "  0.     0.     0.     0.     0.     0.5    0.4896 0.2421 0.5413 0.5\n",
      "  0.4436 0.4926 0.5   ]\n",
      " [0.     0.     0.     0.     0.     0.     0.     0.     0.     0.\n",
      "  0.     0.     0.     0.     0.     0.     0.5    0.5    0.5    0.5\n",
      "  0.5    0.5    0.5   ]\n",
      " [0.     0.     0.     0.     0.     0.     0.     0.     0.     0.\n",
      "  0.     0.     0.     0.     0.     0.     0.     0.4799 0.5    0.5\n",
      "  0.5    0.4007 0.5   ]\n",
      " [0.     0.     0.     0.     0.     0.     0.     0.     0.     0.\n",
      "  0.     0.     0.     0.     0.     0.     0.     0.     0.5963 0.5\n",
      "  0.3905 0.4957 0.5   ]\n",
      " [0.     0.     0.     0.     0.     0.     0.     0.     0.     0.\n",
      "  0.     0.     0.     0.     0.     0.     0.     0.     0.     0.5\n",
      "  0.7601 0.5208 0.5   ]\n",
      " [0.     0.     0.     0.     0.     0.     0.     0.     0.     0.\n",
      "  0.     0.     0.     0.     0.     0.     0.     0.     0.     0.\n",
      "  0.5    0.5    0.5   ]\n",
      " [0.     0.     0.     0.     0.     0.     0.     0.     0.     0.\n",
      "  0.     0.     0.     0.     0.     0.     0.     0.     0.     0.\n",
      "  0.     0.4864 0.5   ]\n",
      " [0.     0.     0.     0.     0.     0.     0.     0.     0.     0.\n",
      "  0.     0.     0.     0.     0.     0.     0.     0.     0.     0.\n",
      "  0.     0.     0.5   ]\n",
      " [0.     0.     0.     0.     0.     0.     0.     0.     0.     0.\n",
      "  0.     0.     0.     0.     0.     0.     0.     0.     0.     0.\n",
      "  0.     0.     0.    ]]\n"
     ]
    }
   ],
   "source": [
    "for n_clusters in [optimal_k]:\n",
    "    print('------')\n",
    "    print(f'\\nno. of clusters = {n_clusters}')\n",
    "    clusters = AgglomerativeClustering(n_clusters=n_clusters, affinity='precomputed', linkage='single')\n",
    "    clusters.fit_predict(dist_mat)\n",
    "    \n",
    "    # find average distances between clusters and output a new distance matrix\n",
    "    labels = [i for i in range(clusters.n_clusters_)]\n",
    "    avg_dist_arr = np.zeros(shape=(clusters.n_clusters_, clusters.n_clusters_))\n",
    "    for i in range(clusters.n_clusters_):\n",
    "        indices = np.where(clusters.labels_ == i)[0]\n",
    "        labels.remove(i)\n",
    "        for j in labels:\n",
    "            other_indices = np.where(clusters.labels_ == j)[0]\n",
    "            intra_dist_arr = np.zeros(shape=(len(indices), len(other_indices)))\n",
    "            \n",
    "            for k, index in enumerate(indices):\n",
    "                for m, other_index in enumerate(other_indices):\n",
    "                    intra_dist_arr[k][m] = dist_mat[index][other_index]\n",
    "            \n",
    "            #print (f'cluster {i} against cluster {j}:')\n",
    "            #print(intra_dist_arr)\n",
    "            \n",
    "            avg_dist = np.average(intra_dist_arr)\n",
    "            #print(avg_dist)\n",
    "            avg_dist_arr[i][j] = avg_dist\n",
    "    print(avg_dist_arr)\n",
    "        "
   ]
  },
  {
   "cell_type": "code",
   "execution_count": null,
   "metadata": {},
   "outputs": [],
   "source": [
    "path = input(\"enter path to save csv file of inter-cluster distance\")\n",
    "tmp = avg_dist_arr + np.transpose(avg_dist_arr)\n",
    "np.savetxt(path, tmp, delimiter=\",\")"
   ]
  },
  {
   "cell_type": "code",
   "execution_count": 27,
   "metadata": {},
   "outputs": [
    {
     "data": {
      "text/plain": [
       "0.19339425944727745"
      ]
     },
     "metadata": {},
     "output_type": "display_data"
    },
    {
     "data": {
      "text/plain": [
       "0.19339425944727745"
      ]
     },
     "metadata": {},
     "output_type": "display_data"
    }
   ],
   "source": [
    "# check that distance matrix was generated correctly\n",
    "i = 1\n",
    "j = 9\n",
    "display(tmp[i][j], tmp[j][i])"
   ]
  },
  {
   "cell_type": "code",
   "execution_count": 28,
   "metadata": {},
   "outputs": [
    {
     "name": "stdout",
     "output_type": "stream",
     "text": [
      "0.12457158880847503\n"
     ]
    }
   ],
   "source": [
    "# get summary statistics of new distance matrix, ignoring the diagonal.\n",
    "mask = np.ones((clusters.n_clusters_, clusters.n_clusters_), dtype=bool)\n",
    "np.fill_diagonal(mask, 0)\n",
    "min_value = tmp[mask].min()\n",
    "print(min_value)"
   ]
  },
  {
   "cell_type": "code",
   "execution_count": 29,
   "metadata": {},
   "outputs": [
    {
     "data": {
      "text/plain": [
       "0.4809812370828172"
      ]
     },
     "execution_count": 29,
     "metadata": {},
     "output_type": "execute_result"
    }
   ],
   "source": [
    "np.average(tmp[mask])"
   ]
  },
  {
   "cell_type": "code",
   "execution_count": 30,
   "metadata": {},
   "outputs": [
    {
     "data": {
      "text/plain": [
       "0.5"
      ]
     },
     "execution_count": 30,
     "metadata": {},
     "output_type": "execute_result"
    }
   ],
   "source": [
    "np.median(tmp[mask])"
   ]
  },
  {
   "cell_type": "code",
   "execution_count": 31,
   "metadata": {},
   "outputs": [
    {
     "data": {
      "text/plain": [
       "array([0.7132, 0.7587, 0.8426])"
      ]
     },
     "execution_count": 31,
     "metadata": {},
     "output_type": "execute_result"
    }
   ],
   "source": [
    "np.percentile(tmp[mask], [98, 99, 100])"
   ]
  },
  {
   "cell_type": "code",
   "execution_count": 32,
   "metadata": {},
   "outputs": [
    {
     "name": "stdout",
     "output_type": "stream",
     "text": [
      "(0, 18)\n",
      "(1, 7)\n",
      "(1, 18)\n",
      "(2, 6)\n",
      "(2, 18)\n",
      "(3, 7)\n",
      "(6, 10)\n",
      "(7, 9)\n",
      "(9, 18)\n",
      "(10, 12)\n",
      "(10, 18)\n",
      "(18, 20)\n",
      "12\n"
     ]
    }
   ],
   "source": [
    "dist_threshold = 0.6  # choose anything further than neutrality.\n",
    "itr = zip(*np.where(avg_dist_arr > dist_threshold))\n",
    "\n",
    "# since zip() returns an iterator we should add the elements into a list so that we can loop through the elements again.\n",
    "# once an iterator has reached its end it cannot be reset.\n",
    "cluster_pairs = []\n",
    "count = 0\n",
    "for pair in itr:\n",
    "    cluster_pairs.append(pair)\n",
    "    print(pair)\n",
    "    count = count+1\n",
    "print(count)"
   ]
  },
  {
   "cell_type": "code",
   "execution_count": 33,
   "metadata": {
    "scrolled": true
   },
   "outputs": [
    {
     "name": "stdout",
     "output_type": "stream",
     "text": [
      "0\n"
     ]
    },
    {
     "data": {
      "text/plain": [
       "Index(['You are sentimental.', 'You tend to be industrious, efficient, practical, exacting, scientific, organized, shy, thrifty, studious, economical, and punctual.'], dtype='object', name='first')"
      ]
     },
     "metadata": {},
     "output_type": "display_data"
    },
    {
     "name": "stdout",
     "output_type": "stream",
     "text": [
      "18\n"
     ]
    },
    {
     "data": {
      "text/plain": [
       "Index(['You are quiet.'], dtype='object', name='first')"
      ]
     },
     "metadata": {},
     "output_type": "display_data"
    },
    {
     "name": "stdout",
     "output_type": "stream",
     "text": [
      "======\n",
      "1\n"
     ]
    },
    {
     "data": {
      "text/plain": [
       "Index(['You are consistent.', 'You are very direct in thought, action, and speech and everyone knows how you feel.'], dtype='object', name='first')"
      ]
     },
     "metadata": {},
     "output_type": "display_data"
    },
    {
     "name": "stdout",
     "output_type": "stream",
     "text": [
      "7\n"
     ]
    },
    {
     "data": {
      "text/plain": [
       "Index(['You never give up.'], dtype='object', name='first')"
      ]
     },
     "metadata": {},
     "output_type": "display_data"
    },
    {
     "name": "stdout",
     "output_type": "stream",
     "text": [
      "======\n",
      "1\n"
     ]
    },
    {
     "data": {
      "text/plain": [
       "Index(['You are consistent.', 'You are very direct in thought, action, and speech and everyone knows how you feel.'], dtype='object', name='first')"
      ]
     },
     "metadata": {},
     "output_type": "display_data"
    },
    {
     "name": "stdout",
     "output_type": "stream",
     "text": [
      "18\n"
     ]
    },
    {
     "data": {
      "text/plain": [
       "Index(['You are quiet.'], dtype='object', name='first')"
      ]
     },
     "metadata": {},
     "output_type": "display_data"
    },
    {
     "name": "stdout",
     "output_type": "stream",
     "text": [
      "======\n",
      "2\n"
     ]
    },
    {
     "data": {
      "text/plain": [
       "Index(['You grasp concepts easily.', 'You have common sense to manage others.',\n",
       "       'you dislike messes.', 'you probably have a good head for numbers.'],\n",
       "      dtype='object', name='first')"
      ]
     },
     "metadata": {},
     "output_type": "display_data"
    },
    {
     "name": "stdout",
     "output_type": "stream",
     "text": [
      "6\n"
     ]
    },
    {
     "data": {
      "text/plain": [
       "Index(['you dislike dirt.'], dtype='object', name='first')"
      ]
     },
     "metadata": {},
     "output_type": "display_data"
    },
    {
     "name": "stdout",
     "output_type": "stream",
     "text": [
      "======\n",
      "2\n"
     ]
    },
    {
     "data": {
      "text/plain": [
       "Index(['You grasp concepts easily.', 'You have common sense to manage others.',\n",
       "       'you dislike messes.', 'you probably have a good head for numbers.'],\n",
       "      dtype='object', name='first')"
      ]
     },
     "metadata": {},
     "output_type": "display_data"
    },
    {
     "name": "stdout",
     "output_type": "stream",
     "text": [
      "18\n"
     ]
    },
    {
     "data": {
      "text/plain": [
       "Index(['You are quiet.'], dtype='object', name='first')"
      ]
     },
     "metadata": {},
     "output_type": "display_data"
    },
    {
     "name": "stdout",
     "output_type": "stream",
     "text": [
      "======\n",
      "3\n"
     ]
    },
    {
     "data": {
      "text/plain": [
       "Index(['Money and possessions are important to you for the feelings of security they bring.',\n",
       "       'You are reliable.',\n",
       "       'You prefer a regular routine, defined responsibilities.',\n",
       "       'You prefer a regular routine, defined tasks.',\n",
       "       'You tend to be dependable.', 'You tend to be optimistic.'],\n",
       "      dtype='object', name='first')"
      ]
     },
     "metadata": {},
     "output_type": "display_data"
    },
    {
     "name": "stdout",
     "output_type": "stream",
     "text": [
      "7\n"
     ]
    },
    {
     "data": {
      "text/plain": [
       "Index(['You never give up.'], dtype='object', name='first')"
      ]
     },
     "metadata": {},
     "output_type": "display_data"
    },
    {
     "name": "stdout",
     "output_type": "stream",
     "text": [
      "======\n",
      "6\n"
     ]
    },
    {
     "data": {
      "text/plain": [
       "Index(['you dislike dirt.'], dtype='object', name='first')"
      ]
     },
     "metadata": {},
     "output_type": "display_data"
    },
    {
     "name": "stdout",
     "output_type": "stream",
     "text": [
      "10\n"
     ]
    },
    {
     "data": {
      "text/plain": [
       "Index(['You are gentle.', 'You are sensitive.',\n",
       "       'You enjoy building and seeing the results of your hard work.',\n",
       "       'You may be a bit of a perfectionist.', 'Your mind is analytical.',\n",
       "       'Your mind is deep.', 'Your work is usually neat.'],\n",
       "      dtype='object', name='first')"
      ]
     },
     "metadata": {},
     "output_type": "display_data"
    },
    {
     "name": "stdout",
     "output_type": "stream",
     "text": [
      "======\n",
      "7\n"
     ]
    },
    {
     "data": {
      "text/plain": [
       "Index(['You never give up.'], dtype='object', name='first')"
      ]
     },
     "metadata": {},
     "output_type": "display_data"
    },
    {
     "name": "stdout",
     "output_type": "stream",
     "text": [
      "9\n"
     ]
    },
    {
     "data": {
      "text/plain": [
       "Index(['You may be ambidextrous or mechanically inclined.'], dtype='object', name='first')"
      ]
     },
     "metadata": {},
     "output_type": "display_data"
    },
    {
     "name": "stdout",
     "output_type": "stream",
     "text": [
      "======\n",
      "9\n"
     ]
    },
    {
     "data": {
      "text/plain": [
       "Index(['You may be ambidextrous or mechanically inclined.'], dtype='object', name='first')"
      ]
     },
     "metadata": {},
     "output_type": "display_data"
    },
    {
     "name": "stdout",
     "output_type": "stream",
     "text": [
      "18\n"
     ]
    },
    {
     "data": {
      "text/plain": [
       "Index(['You are quiet.'], dtype='object', name='first')"
      ]
     },
     "metadata": {},
     "output_type": "display_data"
    },
    {
     "name": "stdout",
     "output_type": "stream",
     "text": [
      "======\n",
      "10\n"
     ]
    },
    {
     "data": {
      "text/plain": [
       "Index(['You are gentle.', 'You are sensitive.',\n",
       "       'You enjoy building and seeing the results of your hard work.',\n",
       "       'You may be a bit of a perfectionist.', 'Your mind is analytical.',\n",
       "       'Your mind is deep.', 'Your work is usually neat.'],\n",
       "      dtype='object', name='first')"
      ]
     },
     "metadata": {},
     "output_type": "display_data"
    },
    {
     "name": "stdout",
     "output_type": "stream",
     "text": [
      "12\n"
     ]
    },
    {
     "data": {
      "text/plain": [
       "Index(['You are shy.'], dtype='object', name='first')"
      ]
     },
     "metadata": {},
     "output_type": "display_data"
    },
    {
     "name": "stdout",
     "output_type": "stream",
     "text": [
      "======\n",
      "10\n"
     ]
    },
    {
     "data": {
      "text/plain": [
       "Index(['You are gentle.', 'You are sensitive.',\n",
       "       'You enjoy building and seeing the results of your hard work.',\n",
       "       'You may be a bit of a perfectionist.', 'Your mind is analytical.',\n",
       "       'Your mind is deep.', 'Your work is usually neat.'],\n",
       "      dtype='object', name='first')"
      ]
     },
     "metadata": {},
     "output_type": "display_data"
    },
    {
     "name": "stdout",
     "output_type": "stream",
     "text": [
      "18\n"
     ]
    },
    {
     "data": {
      "text/plain": [
       "Index(['You are quiet.'], dtype='object', name='first')"
      ]
     },
     "metadata": {},
     "output_type": "display_data"
    },
    {
     "name": "stdout",
     "output_type": "stream",
     "text": [
      "======\n",
      "18\n"
     ]
    },
    {
     "data": {
      "text/plain": [
       "Index(['You are quiet.'], dtype='object', name='first')"
      ]
     },
     "metadata": {},
     "output_type": "display_data"
    },
    {
     "name": "stdout",
     "output_type": "stream",
     "text": [
      "20\n"
     ]
    },
    {
     "data": {
      "text/plain": [
       "Index(['You have the ability to manage others.'], dtype='object', name='first')"
      ]
     },
     "metadata": {},
     "output_type": "display_data"
    },
    {
     "name": "stdout",
     "output_type": "stream",
     "text": [
      "======\n"
     ]
    }
   ],
   "source": [
    "for p in cluster_pairs:\n",
    "    print(p[0])\n",
    "    indices = np.where(clusters.labels_ == p[0])\n",
    "    display(df_piv.index[indices])\n",
    "    print(p[1])\n",
    "    indices = np.where(clusters.labels_ == p[1])\n",
    "    display(df_piv.index[indices])\n",
    "    print('======')"
   ]
  },
  {
   "cell_type": "markdown",
   "metadata": {},
   "source": [
    "### Try HDBSCAN clustering algorithm."
   ]
  },
  {
   "cell_type": "code",
   "execution_count": 60,
   "metadata": {
    "collapsed": true,
    "jupyter": {
     "outputs_hidden": true
    }
   },
   "outputs": [],
   "source": [
    "import hdbscan"
   ]
  },
  {
   "cell_type": "code",
   "execution_count": 61,
   "metadata": {
    "collapsed": true,
    "jupyter": {
     "outputs_hidden": true
    }
   },
   "outputs": [
    {
     "data": {
      "text/plain": [
       "HDBSCAN(algorithm='best', allow_single_cluster=False, alpha=1.0,\n",
       "        approx_min_span_tree=True, cluster_selection_epsilon=0.0,\n",
       "        cluster_selection_method='eom', core_dist_n_jobs=4,\n",
       "        gen_min_span_tree=False, leaf_size=40,\n",
       "        match_reference_implementation=False, memory=Memory(location=None),\n",
       "        metric='precomputed', min_cluster_size=5, min_samples=None, p=None,\n",
       "        prediction_data=False)"
      ]
     },
     "execution_count": 61,
     "metadata": {},
     "output_type": "execute_result"
    }
   ],
   "source": [
    "clusterer = hdbscan.HDBSCAN(metric='precomputed')\n",
    "clusterer.fit(dist_mat)"
   ]
  },
  {
   "cell_type": "code",
   "execution_count": 62,
   "metadata": {
    "collapsed": true,
    "jupyter": {
     "outputs_hidden": true
    }
   },
   "outputs": [
    {
     "data": {
      "text/plain": [
       "<matplotlib.axes._subplots.AxesSubplot at 0x1f810707788>"
      ]
     },
     "execution_count": 62,
     "metadata": {},
     "output_type": "execute_result"
    },
    {
     "data": {
      "image/png": "[encoded data removed]",
      "text/plain": [
       "<Figure size 1440x720 with 2 Axes>"
      ]
     },
     "metadata": {},
     "output_type": "display_data"
    }
   ],
   "source": [
    "clusterer.condensed_tree_.plot()"
   ]
  },
  {
   "cell_type": "code",
   "execution_count": 63,
   "metadata": {
    "collapsed": true,
    "jupyter": {
     "outputs_hidden": true
    }
   },
   "outputs": [
    {
     "data": {
      "text/plain": [
       "<matplotlib.axes._subplots.AxesSubplot at 0x1f810ccd848>"
      ]
     },
     "execution_count": 63,
     "metadata": {},
     "output_type": "execute_result"
    },
    {
     "data": {
      "image/png": "[encoded data removed]",
      "text/plain": [
       "<Figure size 1440x720 with 2 Axes>"
      ]
     },
     "metadata": {},
     "output_type": "display_data"
    }
   ],
   "source": [
    "clusterer.single_linkage_tree_.plot()"
   ]
  },
  {
   "cell_type": "code",
   "execution_count": 64,
   "metadata": {
    "collapsed": true,
    "jupyter": {
     "outputs_hidden": true
    }
   },
   "outputs": [
    {
     "data": {
      "text/plain": [
       "array([-1, -1, -1, -1, -1, -1, -1, -1, -1, -1, -1, -1, -1, -1, -1, -1, -1,\n",
       "       -1, -1, -1, -1, -1, -1, -1, -1, -1, -1, -1, -1, -1, -1, -1, -1, -1,\n",
       "       -1, -1, -1, -1, -1, -1, -1, -1, -1, -1, -1, -1, -1], dtype=int64)"
      ]
     },
     "execution_count": 64,
     "metadata": {},
     "output_type": "execute_result"
    }
   ],
   "source": [
    "clusterer.labels_"
   ]
  },
  {
   "cell_type": "code",
   "execution_count": 65,
   "metadata": {
    "collapsed": true,
    "jupyter": {
     "outputs_hidden": true
    }
   },
   "outputs": [
    {
     "data": {
      "text/plain": [
       "{-1: 47}"
      ]
     },
     "execution_count": 65,
     "metadata": {},
     "output_type": "execute_result"
    }
   ],
   "source": [
    "unique, counts = np.unique(clusterer.labels_, return_counts=True)\n",
    "dict(zip(unique, counts))"
   ]
  },
  {
   "cell_type": "code",
   "execution_count": 66,
   "metadata": {
    "collapsed": true,
    "jupyter": {
     "outputs_hidden": true
    }
   },
   "outputs": [
    {
     "data": {
      "text/plain": [
       "array([-1], dtype=int64)"
      ]
     },
     "execution_count": 66,
     "metadata": {},
     "output_type": "execute_result"
    }
   ],
   "source": [
    "unique"
   ]
  },
  {
   "cell_type": "code",
   "execution_count": 67,
   "metadata": {
    "collapsed": true,
    "jupyter": {
     "outputs_hidden": true
    }
   },
   "outputs": [
    {
     "name": "stdout",
     "output_type": "stream",
     "text": [
      "cluster -1 (size 47):\n",
      "[ 0  1  2  3  4  5  6  7  8  9 10 11 12 13 14 15 16 17 18 19 20 21 22 23\n",
      " 24 25 26 27 28 29 30 31 32 33 34 35 36 37 38 39 40 41 42 43 44 45 46]\n"
     ]
    },
    {
     "data": {
      "text/plain": [
       "'Debate and argument appeal to you.'"
      ]
     },
     "metadata": {},
     "output_type": "display_data"
    },
    {
     "data": {
      "text/plain": [
       "'Keeping things going is your strength, especially once someone else starts them.'"
      ]
     },
     "metadata": {},
     "output_type": "display_data"
    },
    {
     "data": {
      "text/plain": [
       "'Money and possessions are important to you for the feelings of security they bring.'"
      ]
     },
     "metadata": {},
     "output_type": "display_data"
    },
    {
     "data": {
      "text/plain": [
       "'Whatever you have set your sights on, you refuse to give up or let go of it.'"
      ]
     },
     "metadata": {},
     "output_type": "display_data"
    },
    {
     "data": {
      "text/plain": [
       "'You are adventurous.'"
      ]
     },
     "metadata": {},
     "output_type": "display_data"
    },
    {
     "data": {
      "text/plain": [
       "'You are consistent.'"
      ]
     },
     "metadata": {},
     "output_type": "display_data"
    },
    {
     "data": {
      "text/plain": [
       "'You are courageous.'"
      ]
     },
     "metadata": {},
     "output_type": "display_data"
    },
    {
     "data": {
      "text/plain": [
       "'You are gentle.'"
      ]
     },
     "metadata": {},
     "output_type": "display_data"
    },
    {
     "data": {
      "text/plain": [
       "'You are handy with your hands.'"
      ]
     },
     "metadata": {},
     "output_type": "display_data"
    },
    {
     "data": {
      "text/plain": [
       "'You are independent.'"
      ]
     },
     "metadata": {},
     "output_type": "display_data"
    },
    {
     "data": {
      "text/plain": [
       "'You are patient unless someone takes you too far.'"
      ]
     },
     "metadata": {},
     "output_type": "display_data"
    },
    {
     "data": {
      "text/plain": [
       "'You are quiet.'"
      ]
     },
     "metadata": {},
     "output_type": "display_data"
    },
    {
     "data": {
      "text/plain": [
       "'You are reliable.'"
      ]
     },
     "metadata": {},
     "output_type": "display_data"
    },
    {
     "data": {
      "text/plain": [
       "'You are romantic.'"
      ]
     },
     "metadata": {},
     "output_type": "display_data"
    },
    {
     "data": {
      "text/plain": [
       "'You are sensitive.'"
      ]
     },
     "metadata": {},
     "output_type": "display_data"
    },
    {
     "data": {
      "text/plain": [
       "'You are sentimental.'"
      ]
     },
     "metadata": {},
     "output_type": "display_data"
    },
    {
     "data": {
      "text/plain": [
       "'You are shy.'"
      ]
     },
     "metadata": {},
     "output_type": "display_data"
    },
    {
     "data": {
      "text/plain": [
       "'You are usually outspoken, sometimes to the point of bluntness.'"
      ]
     },
     "metadata": {},
     "output_type": "display_data"
    },
    {
     "data": {
      "text/plain": [
       "'You are usually slow to anger unless someone takes you too far.'"
      ]
     },
     "metadata": {},
     "output_type": "display_data"
    },
    {
     "data": {
      "text/plain": [
       "'You are very direct in thought, action, and speech and everyone knows how you feel.'"
      ]
     },
     "metadata": {},
     "output_type": "display_data"
    },
    {
     "data": {
      "text/plain": [
       "'You can handle more of the workload than most around you.'"
      ]
     },
     "metadata": {},
     "output_type": "display_data"
    },
    {
     "data": {
      "text/plain": [
       "'You enjoy building and seeing the results of your hard work.'"
      ]
     },
     "metadata": {},
     "output_type": "display_data"
    },
    {
     "data": {
      "text/plain": [
       "'You grasp concepts easily.'"
      ]
     },
     "metadata": {},
     "output_type": "display_data"
    },
    {
     "data": {
      "text/plain": [
       "'You have common sense to manage others.'"
      ]
     },
     "metadata": {},
     "output_type": "display_data"
    },
    {
     "data": {
      "text/plain": [
       "'You have the ability to manage others.'"
      ]
     },
     "metadata": {},
     "output_type": "display_data"
    },
    {
     "data": {
      "text/plain": [
       "'You may be a bit of a perfectionist.'"
      ]
     },
     "metadata": {},
     "output_type": "display_data"
    },
    {
     "data": {
      "text/plain": [
       "'You may be ambidextrous or mechanically inclined.'"
      ]
     },
     "metadata": {},
     "output_type": "display_data"
    },
    {
     "data": {
      "text/plain": [
       "\"You may become impatient with those who do n't learn as quickly.\""
      ]
     },
     "metadata": {},
     "output_type": "display_data"
    },
    {
     "data": {
      "text/plain": [
       "'You never find it difficult to change your mind or course in mid-stream.'"
      ]
     },
     "metadata": {},
     "output_type": "display_data"
    },
    {
     "data": {
      "text/plain": [
       "'You never give up.'"
      ]
     },
     "metadata": {},
     "output_type": "display_data"
    },
    {
     "data": {
      "text/plain": [
       "'You prefer a regular routine, defined responsibilities.'"
      ]
     },
     "metadata": {},
     "output_type": "display_data"
    },
    {
     "data": {
      "text/plain": [
       "'You prefer a regular routine, defined tasks.'"
      ]
     },
     "metadata": {},
     "output_type": "display_data"
    },
    {
     "data": {
      "text/plain": [
       "'You tend to be dependable.'"
      ]
     },
     "metadata": {},
     "output_type": "display_data"
    },
    {
     "data": {
      "text/plain": [
       "'You tend to be friendly.'"
      ]
     },
     "metadata": {},
     "output_type": "display_data"
    },
    {
     "data": {
      "text/plain": [
       "'You tend to be honest.'"
      ]
     },
     "metadata": {},
     "output_type": "display_data"
    },
    {
     "data": {
      "text/plain": [
       "'You tend to be idealistic.'"
      ]
     },
     "metadata": {},
     "output_type": "display_data"
    },
    {
     "data": {
      "text/plain": [
       "'You tend to be industrious, efficient, practical, exacting, scientific, organized, shy, thrifty, studious, economical, and punctual.'"
      ]
     },
     "metadata": {},
     "output_type": "display_data"
    },
    {
     "data": {
      "text/plain": [
       "'You tend to be open-minded.'"
      ]
     },
     "metadata": {},
     "output_type": "display_data"
    },
    {
     "data": {
      "text/plain": [
       "'You tend to be optimistic.'"
      ]
     },
     "metadata": {},
     "output_type": "display_data"
    },
    {
     "data": {
      "text/plain": [
       "'You tend to be versatile.'"
      ]
     },
     "metadata": {},
     "output_type": "display_data"
    },
    {
     "data": {
      "text/plain": [
       "'Your mind is analytical.'"
      ]
     },
     "metadata": {},
     "output_type": "display_data"
    },
    {
     "data": {
      "text/plain": [
       "'Your mind is deep.'"
      ]
     },
     "metadata": {},
     "output_type": "display_data"
    },
    {
     "data": {
      "text/plain": [
       "'Your work is usually neat.'"
      ]
     },
     "metadata": {},
     "output_type": "display_data"
    },
    {
     "data": {
      "text/plain": [
       "'Your work is usually orderly.'"
      ]
     },
     "metadata": {},
     "output_type": "display_data"
    },
    {
     "data": {
      "text/plain": [
       "'you dislike dirt.'"
      ]
     },
     "metadata": {},
     "output_type": "display_data"
    },
    {
     "data": {
      "text/plain": [
       "'you dislike messes.'"
      ]
     },
     "metadata": {},
     "output_type": "display_data"
    },
    {
     "data": {
      "text/plain": [
       "'you probably have a good head for numbers.'"
      ]
     },
     "metadata": {},
     "output_type": "display_data"
    },
    {
     "name": "stdout",
     "output_type": "stream",
     "text": [
      "\n",
      "\n"
     ]
    }
   ],
   "source": [
    "for i in unique:\n",
    "    indices = np.where(clusterer.labels_ == i)[0]\n",
    "\n",
    "    print(f'cluster {i} (size {len(indices)}):')\n",
    "    print(indices)\n",
    "    for idx in indices:\n",
    "        display(df_piv.index[idx])\n",
    "    print('\\n')"
   ]
  },
  {
   "cell_type": "code",
   "execution_count": 68,
   "metadata": {
    "collapsed": true,
    "jupyter": {
     "outputs_hidden": true
    }
   },
   "outputs": [
    {
     "ename": "ValueError",
     "evalue": "Number of labels is 1. Valid values are 2 to n_samples - 1 (inclusive)",
     "output_type": "error",
     "traceback": [
      "\u001b[1;31m---------------------------------------------------------------------------\u001b[0m",
      "\u001b[1;31mValueError\u001b[0m                                Traceback (most recent call last)",
      "\u001b[1;32m<ipython-input-68-fa7a1a568cf5>\u001b[0m in \u001b[0;36m<module>\u001b[1;34m\u001b[0m\n\u001b[1;32m----> 1\u001b[1;33m \u001b[0msilhouette_score\u001b[0m\u001b[1;33m(\u001b[0m\u001b[0mdist_mat\u001b[0m\u001b[1;33m,\u001b[0m \u001b[0mclusterer\u001b[0m\u001b[1;33m.\u001b[0m\u001b[0mlabels_\u001b[0m\u001b[1;33m,\u001b[0m \u001b[0mmetric\u001b[0m\u001b[1;33m=\u001b[0m\u001b[1;34m'precomputed'\u001b[0m\u001b[1;33m)\u001b[0m\u001b[1;33m\u001b[0m\u001b[1;33m\u001b[0m\u001b[0m\n\u001b[0m",
      "\u001b[1;32m~\\Desktop\\Modules\\FYP\\comments-summarization\\env\\lib\\site-packages\\sklearn\\metrics\\cluster\\_unsupervised.py\u001b[0m in \u001b[0;36msilhouette_score\u001b[1;34m(X, labels, metric, sample_size, random_state, **kwds)\u001b[0m\n\u001b[0;32m    115\u001b[0m         \u001b[1;32melse\u001b[0m\u001b[1;33m:\u001b[0m\u001b[1;33m\u001b[0m\u001b[1;33m\u001b[0m\u001b[0m\n\u001b[0;32m    116\u001b[0m             \u001b[0mX\u001b[0m\u001b[1;33m,\u001b[0m \u001b[0mlabels\u001b[0m \u001b[1;33m=\u001b[0m \u001b[0mX\u001b[0m\u001b[1;33m[\u001b[0m\u001b[0mindices\u001b[0m\u001b[1;33m]\u001b[0m\u001b[1;33m,\u001b[0m \u001b[0mlabels\u001b[0m\u001b[1;33m[\u001b[0m\u001b[0mindices\u001b[0m\u001b[1;33m]\u001b[0m\u001b[1;33m\u001b[0m\u001b[1;33m\u001b[0m\u001b[0m\n\u001b[1;32m--> 117\u001b[1;33m     \u001b[1;32mreturn\u001b[0m \u001b[0mnp\u001b[0m\u001b[1;33m.\u001b[0m\u001b[0mmean\u001b[0m\u001b[1;33m(\u001b[0m\u001b[0msilhouette_samples\u001b[0m\u001b[1;33m(\u001b[0m\u001b[0mX\u001b[0m\u001b[1;33m,\u001b[0m \u001b[0mlabels\u001b[0m\u001b[1;33m,\u001b[0m \u001b[0mmetric\u001b[0m\u001b[1;33m=\u001b[0m\u001b[0mmetric\u001b[0m\u001b[1;33m,\u001b[0m \u001b[1;33m**\u001b[0m\u001b[0mkwds\u001b[0m\u001b[1;33m)\u001b[0m\u001b[1;33m)\u001b[0m\u001b[1;33m\u001b[0m\u001b[1;33m\u001b[0m\u001b[0m\n\u001b[0m\u001b[0;32m    118\u001b[0m \u001b[1;33m\u001b[0m\u001b[0m\n\u001b[0;32m    119\u001b[0m \u001b[1;33m\u001b[0m\u001b[0m\n",
      "\u001b[1;32m~\\Desktop\\Modules\\FYP\\comments-summarization\\env\\lib\\site-packages\\sklearn\\metrics\\cluster\\_unsupervised.py\u001b[0m in \u001b[0;36msilhouette_samples\u001b[1;34m(X, labels, metric, **kwds)\u001b[0m\n\u001b[0;32m    226\u001b[0m     \u001b[0mn_samples\u001b[0m \u001b[1;33m=\u001b[0m \u001b[0mlen\u001b[0m\u001b[1;33m(\u001b[0m\u001b[0mlabels\u001b[0m\u001b[1;33m)\u001b[0m\u001b[1;33m\u001b[0m\u001b[1;33m\u001b[0m\u001b[0m\n\u001b[0;32m    227\u001b[0m     \u001b[0mlabel_freqs\u001b[0m \u001b[1;33m=\u001b[0m \u001b[0mnp\u001b[0m\u001b[1;33m.\u001b[0m\u001b[0mbincount\u001b[0m\u001b[1;33m(\u001b[0m\u001b[0mlabels\u001b[0m\u001b[1;33m)\u001b[0m\u001b[1;33m\u001b[0m\u001b[1;33m\u001b[0m\u001b[0m\n\u001b[1;32m--> 228\u001b[1;33m     \u001b[0mcheck_number_of_labels\u001b[0m\u001b[1;33m(\u001b[0m\u001b[0mlen\u001b[0m\u001b[1;33m(\u001b[0m\u001b[0mle\u001b[0m\u001b[1;33m.\u001b[0m\u001b[0mclasses_\u001b[0m\u001b[1;33m)\u001b[0m\u001b[1;33m,\u001b[0m \u001b[0mn_samples\u001b[0m\u001b[1;33m)\u001b[0m\u001b[1;33m\u001b[0m\u001b[1;33m\u001b[0m\u001b[0m\n\u001b[0m\u001b[0;32m    229\u001b[0m \u001b[1;33m\u001b[0m\u001b[0m\n\u001b[0;32m    230\u001b[0m     \u001b[0mkwds\u001b[0m\u001b[1;33m[\u001b[0m\u001b[1;34m'metric'\u001b[0m\u001b[1;33m]\u001b[0m \u001b[1;33m=\u001b[0m \u001b[0mmetric\u001b[0m\u001b[1;33m\u001b[0m\u001b[1;33m\u001b[0m\u001b[0m\n",
      "\u001b[1;32m~\\Desktop\\Modules\\FYP\\comments-summarization\\env\\lib\\site-packages\\sklearn\\metrics\\cluster\\_unsupervised.py\u001b[0m in \u001b[0;36mcheck_number_of_labels\u001b[1;34m(n_labels, n_samples)\u001b[0m\n\u001b[0;32m     33\u001b[0m     \u001b[1;32mif\u001b[0m \u001b[1;32mnot\u001b[0m \u001b[1;36m1\u001b[0m \u001b[1;33m<\u001b[0m \u001b[0mn_labels\u001b[0m \u001b[1;33m<\u001b[0m \u001b[0mn_samples\u001b[0m\u001b[1;33m:\u001b[0m\u001b[1;33m\u001b[0m\u001b[1;33m\u001b[0m\u001b[0m\n\u001b[0;32m     34\u001b[0m         raise ValueError(\"Number of labels is %d. Valid values are 2 \"\n\u001b[1;32m---> 35\u001b[1;33m                          \"to n_samples - 1 (inclusive)\" % n_labels)\n\u001b[0m\u001b[0;32m     36\u001b[0m \u001b[1;33m\u001b[0m\u001b[0m\n\u001b[0;32m     37\u001b[0m \u001b[1;33m\u001b[0m\u001b[0m\n",
      "\u001b[1;31mValueError\u001b[0m: Number of labels is 1. Valid values are 2 to n_samples - 1 (inclusive)"
     ]
    }
   ],
   "source": [
    "silhouette_score(dist_mat, clusterer.labels_, metric='precomputed')"
   ]
  },
  {
   "cell_type": "markdown",
   "metadata": {},
   "source": [
    "the optimal clustering from HDBSCAN doesn't seem to have face validity, upon inspection of the sentences in the generated clusters."
   ]
  },
  {
   "cell_type": "code",
   "execution_count": null,
   "metadata": {
    "collapsed": true,
    "jupyter": {
     "outputs_hidden": true
    }
   },
   "outputs": [],
   "source": []
  }
 ],
 "metadata": {
  "kernelspec": {
   "display_name": "FYP",
   "language": "python",
   "name": "fyp"
  },
  "language_info": {
   "codemirror_mode": {
    "name": "ipython",
    "version": 3
   },
   "file_extension": ".py",
   "mimetype": "text/x-python",
   "name": "python",
   "nbconvert_exporter": "python",
   "pygments_lexer": "ipython3",
   "version": "3.7.3"
  }
 },
 "nbformat": 4,
 "nbformat_minor": 4
}
