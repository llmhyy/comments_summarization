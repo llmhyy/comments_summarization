{
 "cells": [
  {
   "cell_type": "code",
   "execution_count": 1,
   "metadata": {},
   "outputs": [],
   "source": [
    "import numpy as np\n",
    "import pandas as pd\n",
    "\n",
    "import scipy\n",
    "from scipy.cluster.hierarchy import dendrogram,linkage\n",
    "from scipy.cluster.hierarchy import fcluster\n",
    "from scipy.cluster.hierarchy import cophenet\n",
    "from scipy.spatial.distance import pdist\n",
    "\n",
    "import matplotlib.pyplot as plt\n",
    "from pylab import rcParams\n",
    "import seaborn as sb\n",
    "\n",
    "import sklearn\n",
    "# from sklearn import datasets\n",
    "from sklearn.cluster import AgglomerativeClustering\n",
    "import sklearn.metrics as sm\n",
    "from sklearn.preprocessing import scale"
   ]
  },
  {
   "cell_type": "code",
   "execution_count": 2,
   "metadata": {},
   "outputs": [],
   "source": [
    "# Configure the output\n",
    "np.set_printoptions(precision=4,suppress=True)\n",
    "%matplotlib inline\n",
    "rcParams[\"figure.figsize\"] =20,10\n",
    "sb.set_style(\"whitegrid\")"
   ]
  },
  {
   "cell_type": "code",
   "execution_count": 3,
   "metadata": {},
   "outputs": [
    {
     "data": {
      "text/html": [
       "<div>\n",
       "<style scoped>\n",
       "    .dataframe tbody tr th:only-of-type {\n",
       "        vertical-align: middle;\n",
       "    }\n",
       "\n",
       "    .dataframe tbody tr th {\n",
       "        vertical-align: top;\n",
       "    }\n",
       "\n",
       "    .dataframe thead th {\n",
       "        text-align: right;\n",
       "    }\n",
       "</style>\n",
       "<table border=\"1\" class=\"dataframe\">\n",
       "  <thead>\n",
       "    <tr style=\"text-align: right;\">\n",
       "      <th></th>\n",
       "      <th>Unnamed: 0</th>\n",
       "      <th>first</th>\n",
       "      <th>second</th>\n",
       "      <th>score</th>\n",
       "    </tr>\n",
       "  </thead>\n",
       "  <tbody>\n",
       "    <tr>\n",
       "      <th>0</th>\n",
       "      <td>0</td>\n",
       "      <td>People with Virgo rising tend to be practical,...</td>\n",
       "      <td>You have an ingenious, active and alert mind.</td>\n",
       "      <td>2</td>\n",
       "    </tr>\n",
       "    <tr>\n",
       "      <th>1</th>\n",
       "      <td>1</td>\n",
       "      <td>People with Virgo rising tend to be practical,...</td>\n",
       "      <td>Gaining knowledge and putting it to good use a...</td>\n",
       "      <td>3</td>\n",
       "    </tr>\n",
       "    <tr>\n",
       "      <th>2</th>\n",
       "      <td>2</td>\n",
       "      <td>People with Virgo rising tend to be practical,...</td>\n",
       "      <td>You strive for perfection and can be quite the...</td>\n",
       "      <td>3</td>\n",
       "    </tr>\n",
       "    <tr>\n",
       "      <th>3</th>\n",
       "      <td>3</td>\n",
       "      <td>People with Virgo rising tend to be practical,...</td>\n",
       "      <td>At times others can never be \"good\" enough to ...</td>\n",
       "      <td>3</td>\n",
       "    </tr>\n",
       "    <tr>\n",
       "      <th>4</th>\n",
       "      <td>4</td>\n",
       "      <td>People with Virgo rising tend to be practical,...</td>\n",
       "      <td>Finding fault with what's wrong with things is...</td>\n",
       "      <td>3</td>\n",
       "    </tr>\n",
       "  </tbody>\n",
       "</table>\n",
       "</div>"
      ],
      "text/plain": [
       "   Unnamed: 0                                              first  \\\n",
       "0           0  People with Virgo rising tend to be practical,...   \n",
       "1           1  People with Virgo rising tend to be practical,...   \n",
       "2           2  People with Virgo rising tend to be practical,...   \n",
       "3           3  People with Virgo rising tend to be practical,...   \n",
       "4           4  People with Virgo rising tend to be practical,...   \n",
       "\n",
       "                                              second score  \n",
       "0      You have an ingenious, active and alert mind.     2  \n",
       "1  Gaining knowledge and putting it to good use a...     3  \n",
       "2  You strive for perfection and can be quite the...     3  \n",
       "3  At times others can never be \"good\" enough to ...     3  \n",
       "4  Finding fault with what's wrong with things is...     3  "
      ]
     },
     "execution_count": 3,
     "metadata": {},
     "output_type": "execute_result"
    }
   ],
   "source": [
    "df = pd.read_csv('../data/example.csv')\n",
    "df.head()"
   ]
  },
  {
   "cell_type": "code",
   "execution_count": 4,
   "metadata": {},
   "outputs": [],
   "source": [
    "df = df.drop(columns=['Unnamed: 0'])"
   ]
  },
  {
   "cell_type": "code",
   "execution_count": 5,
   "metadata": {},
   "outputs": [
    {
     "data": {
      "text/html": [
       "<div>\n",
       "<style scoped>\n",
       "    .dataframe tbody tr th:only-of-type {\n",
       "        vertical-align: middle;\n",
       "    }\n",
       "\n",
       "    .dataframe tbody tr th {\n",
       "        vertical-align: top;\n",
       "    }\n",
       "\n",
       "    .dataframe thead th {\n",
       "        text-align: right;\n",
       "    }\n",
       "</style>\n",
       "<table border=\"1\" class=\"dataframe\">\n",
       "  <thead>\n",
       "    <tr style=\"text-align: right;\">\n",
       "      <th></th>\n",
       "      <th>first</th>\n",
       "      <th>second</th>\n",
       "      <th>score</th>\n",
       "    </tr>\n",
       "  </thead>\n",
       "  <tbody>\n",
       "    <tr>\n",
       "      <th>0</th>\n",
       "      <td>People with Virgo rising tend to be practical,...</td>\n",
       "      <td>You have an ingenious, active and alert mind.</td>\n",
       "      <td>2</td>\n",
       "    </tr>\n",
       "    <tr>\n",
       "      <th>1</th>\n",
       "      <td>People with Virgo rising tend to be practical,...</td>\n",
       "      <td>Gaining knowledge and putting it to good use a...</td>\n",
       "      <td>3</td>\n",
       "    </tr>\n",
       "    <tr>\n",
       "      <th>2</th>\n",
       "      <td>People with Virgo rising tend to be practical,...</td>\n",
       "      <td>You strive for perfection and can be quite the...</td>\n",
       "      <td>3</td>\n",
       "    </tr>\n",
       "    <tr>\n",
       "      <th>3</th>\n",
       "      <td>People with Virgo rising tend to be practical,...</td>\n",
       "      <td>At times others can never be \"good\" enough to ...</td>\n",
       "      <td>3</td>\n",
       "    </tr>\n",
       "    <tr>\n",
       "      <th>4</th>\n",
       "      <td>People with Virgo rising tend to be practical,...</td>\n",
       "      <td>Finding fault with what's wrong with things is...</td>\n",
       "      <td>3</td>\n",
       "    </tr>\n",
       "  </tbody>\n",
       "</table>\n",
       "</div>"
      ],
      "text/plain": [
       "                                               first  \\\n",
       "0  People with Virgo rising tend to be practical,...   \n",
       "1  People with Virgo rising tend to be practical,...   \n",
       "2  People with Virgo rising tend to be practical,...   \n",
       "3  People with Virgo rising tend to be practical,...   \n",
       "4  People with Virgo rising tend to be practical,...   \n",
       "\n",
       "                                              second score  \n",
       "0      You have an ingenious, active and alert mind.     2  \n",
       "1  Gaining knowledge and putting it to good use a...     3  \n",
       "2  You strive for perfection and can be quite the...     3  \n",
       "3  At times others can never be \"good\" enough to ...     3  \n",
       "4  Finding fault with what's wrong with things is...     3  "
      ]
     },
     "execution_count": 5,
     "metadata": {},
     "output_type": "execute_result"
    }
   ],
   "source": [
    "df.head()"
   ]
  },
  {
   "cell_type": "code",
   "execution_count": 6,
   "metadata": {},
   "outputs": [
    {
     "data": {
      "text/html": [
       "<div>\n",
       "<style scoped>\n",
       "    .dataframe tbody tr th:only-of-type {\n",
       "        vertical-align: middle;\n",
       "    }\n",
       "\n",
       "    .dataframe tbody tr th {\n",
       "        vertical-align: top;\n",
       "    }\n",
       "\n",
       "    .dataframe thead th {\n",
       "        text-align: right;\n",
       "    }\n",
       "</style>\n",
       "<table border=\"1\" class=\"dataframe\">\n",
       "  <thead>\n",
       "    <tr style=\"text-align: right;\">\n",
       "      <th></th>\n",
       "      <th>first</th>\n",
       "      <th>second</th>\n",
       "      <th>score</th>\n",
       "    </tr>\n",
       "  </thead>\n",
       "  <tbody>\n",
       "    <tr>\n",
       "      <th>count</th>\n",
       "      <td>1830</td>\n",
       "      <td>1830</td>\n",
       "      <td>1830</td>\n",
       "    </tr>\n",
       "    <tr>\n",
       "      <th>unique</th>\n",
       "      <td>60</td>\n",
       "      <td>60</td>\n",
       "      <td>10</td>\n",
       "    </tr>\n",
       "    <tr>\n",
       "      <th>top</th>\n",
       "      <td>People with Virgo rising tend to be practical,...</td>\n",
       "      <td>More about</td>\n",
       "      <td>5</td>\n",
       "    </tr>\n",
       "    <tr>\n",
       "      <th>freq</th>\n",
       "      <td>60</td>\n",
       "      <td>60</td>\n",
       "      <td>1488</td>\n",
       "    </tr>\n",
       "  </tbody>\n",
       "</table>\n",
       "</div>"
      ],
      "text/plain": [
       "                                                    first      second score\n",
       "count                                                1830        1830  1830\n",
       "unique                                                 60          60    10\n",
       "top     People with Virgo rising tend to be practical,...  More about     5\n",
       "freq                                                   60          60  1488"
      ]
     },
     "execution_count": 6,
     "metadata": {},
     "output_type": "execute_result"
    }
   ],
   "source": [
    "df.describe()"
   ]
  },
  {
   "cell_type": "code",
   "execution_count": 7,
   "metadata": {},
   "outputs": [],
   "source": [
    "df_clean = df.dropna()"
   ]
  },
  {
   "cell_type": "code",
   "execution_count": 8,
   "metadata": {},
   "outputs": [
    {
     "data": {
      "text/html": [
       "<div>\n",
       "<style scoped>\n",
       "    .dataframe tbody tr th:only-of-type {\n",
       "        vertical-align: middle;\n",
       "    }\n",
       "\n",
       "    .dataframe tbody tr th {\n",
       "        vertical-align: top;\n",
       "    }\n",
       "\n",
       "    .dataframe thead th {\n",
       "        text-align: right;\n",
       "    }\n",
       "</style>\n",
       "<table border=\"1\" class=\"dataframe\">\n",
       "  <thead>\n",
       "    <tr style=\"text-align: right;\">\n",
       "      <th></th>\n",
       "      <th>first</th>\n",
       "      <th>second</th>\n",
       "      <th>score</th>\n",
       "    </tr>\n",
       "  </thead>\n",
       "  <tbody>\n",
       "    <tr>\n",
       "      <th>count</th>\n",
       "      <td>1830</td>\n",
       "      <td>1830</td>\n",
       "      <td>1830</td>\n",
       "    </tr>\n",
       "    <tr>\n",
       "      <th>unique</th>\n",
       "      <td>60</td>\n",
       "      <td>60</td>\n",
       "      <td>10</td>\n",
       "    </tr>\n",
       "    <tr>\n",
       "      <th>top</th>\n",
       "      <td>People with Virgo rising tend to be practical,...</td>\n",
       "      <td>More about</td>\n",
       "      <td>5</td>\n",
       "    </tr>\n",
       "    <tr>\n",
       "      <th>freq</th>\n",
       "      <td>60</td>\n",
       "      <td>60</td>\n",
       "      <td>1488</td>\n",
       "    </tr>\n",
       "  </tbody>\n",
       "</table>\n",
       "</div>"
      ],
      "text/plain": [
       "                                                    first      second score\n",
       "count                                                1830        1830  1830\n",
       "unique                                                 60          60    10\n",
       "top     People with Virgo rising tend to be practical,...  More about     5\n",
       "freq                                                   60          60  1488"
      ]
     },
     "execution_count": 8,
     "metadata": {},
     "output_type": "execute_result"
    }
   ],
   "source": [
    "df_clean.describe()"
   ]
  },
  {
   "cell_type": "code",
   "execution_count": 9,
   "metadata": {},
   "outputs": [
    {
     "data": {
      "text/plain": [
       "first     object\n",
       "second    object\n",
       "score     object\n",
       "dtype: object"
      ]
     },
     "execution_count": 9,
     "metadata": {},
     "output_type": "execute_result"
    }
   ],
   "source": [
    "df.dtypes"
   ]
  },
  {
   "cell_type": "code",
   "execution_count": 10,
   "metadata": {},
   "outputs": [],
   "source": [
    "# as score was of object type, the 'na' values were not dropped."
   ]
  },
  {
   "cell_type": "code",
   "execution_count": 11,
   "metadata": {},
   "outputs": [
    {
     "data": {
      "text/html": [
       "<div>\n",
       "<style scoped>\n",
       "    .dataframe tbody tr th:only-of-type {\n",
       "        vertical-align: middle;\n",
       "    }\n",
       "\n",
       "    .dataframe tbody tr th {\n",
       "        vertical-align: top;\n",
       "    }\n",
       "\n",
       "    .dataframe thead th {\n",
       "        text-align: right;\n",
       "    }\n",
       "</style>\n",
       "<table border=\"1\" class=\"dataframe\">\n",
       "  <thead>\n",
       "    <tr style=\"text-align: right;\">\n",
       "      <th></th>\n",
       "      <th>first</th>\n",
       "      <th>second</th>\n",
       "      <th>score</th>\n",
       "    </tr>\n",
       "  </thead>\n",
       "  <tbody>\n",
       "    <tr>\n",
       "      <th>count</th>\n",
       "      <td>1770</td>\n",
       "      <td>1770</td>\n",
       "      <td>1770</td>\n",
       "    </tr>\n",
       "    <tr>\n",
       "      <th>unique</th>\n",
       "      <td>59</td>\n",
       "      <td>59</td>\n",
       "      <td>9</td>\n",
       "    </tr>\n",
       "    <tr>\n",
       "      <th>top</th>\n",
       "      <td>People with Virgo rising tend to be practical,...</td>\n",
       "      <td>You aim to please in practical and earthy ways.</td>\n",
       "      <td>5</td>\n",
       "    </tr>\n",
       "    <tr>\n",
       "      <th>freq</th>\n",
       "      <td>59</td>\n",
       "      <td>59</td>\n",
       "      <td>1488</td>\n",
       "    </tr>\n",
       "  </tbody>\n",
       "</table>\n",
       "</div>"
      ],
      "text/plain": [
       "                                                    first  \\\n",
       "count                                                1770   \n",
       "unique                                                 59   \n",
       "top     People with Virgo rising tend to be practical,...   \n",
       "freq                                                   59   \n",
       "\n",
       "                                                 second score  \n",
       "count                                              1770  1770  \n",
       "unique                                               59     9  \n",
       "top     You aim to please in practical and earthy ways.     5  \n",
       "freq                                                 59  1488  "
      ]
     },
     "execution_count": 11,
     "metadata": {},
     "output_type": "execute_result"
    }
   ],
   "source": [
    "df_clean = df.loc[df['score'] != 'na']\n",
    "df_clean.describe()"
   ]
  },
  {
   "cell_type": "code",
   "execution_count": 12,
   "metadata": {},
   "outputs": [
    {
     "data": {
      "text/plain": [
       "first     object\n",
       "second    object\n",
       "score     object\n",
       "dtype: object"
      ]
     },
     "execution_count": 12,
     "metadata": {},
     "output_type": "execute_result"
    }
   ],
   "source": [
    "df_clean.dtypes"
   ]
  },
  {
   "cell_type": "code",
   "execution_count": 13,
   "metadata": {},
   "outputs": [
    {
     "data": {
      "text/html": [
       "<div>\n",
       "<style scoped>\n",
       "    .dataframe tbody tr th:only-of-type {\n",
       "        vertical-align: middle;\n",
       "    }\n",
       "\n",
       "    .dataframe tbody tr th {\n",
       "        vertical-align: top;\n",
       "    }\n",
       "\n",
       "    .dataframe thead th {\n",
       "        text-align: right;\n",
       "    }\n",
       "</style>\n",
       "<table border=\"1\" class=\"dataframe\">\n",
       "  <thead>\n",
       "    <tr style=\"text-align: right;\">\n",
       "      <th></th>\n",
       "      <th>first</th>\n",
       "      <th>second</th>\n",
       "      <th>score</th>\n",
       "      <th>dist</th>\n",
       "    </tr>\n",
       "  </thead>\n",
       "  <tbody>\n",
       "    <tr>\n",
       "      <th>0</th>\n",
       "      <td>People with Virgo rising tend to be practical,...</td>\n",
       "      <td>You have an ingenious, active and alert mind.</td>\n",
       "      <td>2</td>\n",
       "      <td>2</td>\n",
       "    </tr>\n",
       "    <tr>\n",
       "      <th>1</th>\n",
       "      <td>People with Virgo rising tend to be practical,...</td>\n",
       "      <td>Gaining knowledge and putting it to good use a...</td>\n",
       "      <td>3</td>\n",
       "      <td>3</td>\n",
       "    </tr>\n",
       "    <tr>\n",
       "      <th>2</th>\n",
       "      <td>People with Virgo rising tend to be practical,...</td>\n",
       "      <td>You strive for perfection and can be quite the...</td>\n",
       "      <td>3</td>\n",
       "      <td>3</td>\n",
       "    </tr>\n",
       "    <tr>\n",
       "      <th>3</th>\n",
       "      <td>People with Virgo rising tend to be practical,...</td>\n",
       "      <td>At times others can never be \"good\" enough to ...</td>\n",
       "      <td>3</td>\n",
       "      <td>3</td>\n",
       "    </tr>\n",
       "    <tr>\n",
       "      <th>4</th>\n",
       "      <td>People with Virgo rising tend to be practical,...</td>\n",
       "      <td>Finding fault with what's wrong with things is...</td>\n",
       "      <td>3</td>\n",
       "      <td>3</td>\n",
       "    </tr>\n",
       "  </tbody>\n",
       "</table>\n",
       "</div>"
      ],
      "text/plain": [
       "                                               first  \\\n",
       "0  People with Virgo rising tend to be practical,...   \n",
       "1  People with Virgo rising tend to be practical,...   \n",
       "2  People with Virgo rising tend to be practical,...   \n",
       "3  People with Virgo rising tend to be practical,...   \n",
       "4  People with Virgo rising tend to be practical,...   \n",
       "\n",
       "                                              second score  dist  \n",
       "0      You have an ingenious, active and alert mind.     2     2  \n",
       "1  Gaining knowledge and putting it to good use a...     3     3  \n",
       "2  You strive for perfection and can be quite the...     3     3  \n",
       "3  At times others can never be \"good\" enough to ...     3     3  \n",
       "4  Finding fault with what's wrong with things is...     3     3  "
      ]
     },
     "execution_count": 13,
     "metadata": {},
     "output_type": "execute_result"
    }
   ],
   "source": [
    "df_clean = df_clean.copy()\n",
    "df_clean['dist'] = df_clean['score'].astype(int)\n",
    "df_clean.head()"
   ]
  },
  {
   "cell_type": "code",
   "execution_count": 14,
   "metadata": {},
   "outputs": [
    {
     "data": {
      "text/plain": [
       "first     object\n",
       "second    object\n",
       "score     object\n",
       "dist       int32\n",
       "dtype: object"
      ]
     },
     "execution_count": 14,
     "metadata": {},
     "output_type": "execute_result"
    }
   ],
   "source": [
    "df_clean.dtypes"
   ]
  },
  {
   "cell_type": "code",
   "execution_count": 15,
   "metadata": {},
   "outputs": [
    {
     "data": {
      "text/html": [
       "<div>\n",
       "<style scoped>\n",
       "    .dataframe tbody tr th:only-of-type {\n",
       "        vertical-align: middle;\n",
       "    }\n",
       "\n",
       "    .dataframe tbody tr th {\n",
       "        vertical-align: top;\n",
       "    }\n",
       "\n",
       "    .dataframe thead th {\n",
       "        text-align: right;\n",
       "    }\n",
       "</style>\n",
       "<table border=\"1\" class=\"dataframe\">\n",
       "  <thead>\n",
       "    <tr style=\"text-align: right;\">\n",
       "      <th></th>\n",
       "      <th>first</th>\n",
       "      <th>second</th>\n",
       "      <th>dist</th>\n",
       "    </tr>\n",
       "  </thead>\n",
       "  <tbody>\n",
       "    <tr>\n",
       "      <th>0</th>\n",
       "      <td>People with Virgo rising tend to be practical,...</td>\n",
       "      <td>You have an ingenious, active and alert mind.</td>\n",
       "      <td>2</td>\n",
       "    </tr>\n",
       "    <tr>\n",
       "      <th>1</th>\n",
       "      <td>People with Virgo rising tend to be practical,...</td>\n",
       "      <td>Gaining knowledge and putting it to good use a...</td>\n",
       "      <td>3</td>\n",
       "    </tr>\n",
       "    <tr>\n",
       "      <th>2</th>\n",
       "      <td>People with Virgo rising tend to be practical,...</td>\n",
       "      <td>You strive for perfection and can be quite the...</td>\n",
       "      <td>3</td>\n",
       "    </tr>\n",
       "    <tr>\n",
       "      <th>3</th>\n",
       "      <td>People with Virgo rising tend to be practical,...</td>\n",
       "      <td>At times others can never be \"good\" enough to ...</td>\n",
       "      <td>3</td>\n",
       "    </tr>\n",
       "    <tr>\n",
       "      <th>4</th>\n",
       "      <td>People with Virgo rising tend to be practical,...</td>\n",
       "      <td>Finding fault with what's wrong with things is...</td>\n",
       "      <td>3</td>\n",
       "    </tr>\n",
       "  </tbody>\n",
       "</table>\n",
       "</div>"
      ],
      "text/plain": [
       "                                               first  \\\n",
       "0  People with Virgo rising tend to be practical,...   \n",
       "1  People with Virgo rising tend to be practical,...   \n",
       "2  People with Virgo rising tend to be practical,...   \n",
       "3  People with Virgo rising tend to be practical,...   \n",
       "4  People with Virgo rising tend to be practical,...   \n",
       "\n",
       "                                              second  dist  \n",
       "0      You have an ingenious, active and alert mind.     2  \n",
       "1  Gaining knowledge and putting it to good use a...     3  \n",
       "2  You strive for perfection and can be quite the...     3  \n",
       "3  At times others can never be \"good\" enough to ...     3  \n",
       "4  Finding fault with what's wrong with things is...     3  "
      ]
     },
     "execution_count": 15,
     "metadata": {},
     "output_type": "execute_result"
    }
   ],
   "source": [
    "df_clean = df_clean.drop(columns=['score'])\n",
    "df_clean.head()"
   ]
  },
  {
   "cell_type": "code",
   "execution_count": 16,
   "metadata": {},
   "outputs": [
    {
     "data": {
      "text/html": [
       "<div>\n",
       "<style scoped>\n",
       "    .dataframe tbody tr th:only-of-type {\n",
       "        vertical-align: middle;\n",
       "    }\n",
       "\n",
       "    .dataframe tbody tr th {\n",
       "        vertical-align: top;\n",
       "    }\n",
       "\n",
       "    .dataframe thead th {\n",
       "        text-align: right;\n",
       "    }\n",
       "</style>\n",
       "<table border=\"1\" class=\"dataframe\">\n",
       "  <thead>\n",
       "    <tr style=\"text-align: right;\">\n",
       "      <th></th>\n",
       "      <th>dist</th>\n",
       "    </tr>\n",
       "  </thead>\n",
       "  <tbody>\n",
       "    <tr>\n",
       "      <th>count</th>\n",
       "      <td>1770.000000</td>\n",
       "    </tr>\n",
       "    <tr>\n",
       "      <th>mean</th>\n",
       "      <td>4.719774</td>\n",
       "    </tr>\n",
       "    <tr>\n",
       "      <th>std</th>\n",
       "      <td>0.814998</td>\n",
       "    </tr>\n",
       "    <tr>\n",
       "      <th>min</th>\n",
       "      <td>1.000000</td>\n",
       "    </tr>\n",
       "    <tr>\n",
       "      <th>25%</th>\n",
       "      <td>5.000000</td>\n",
       "    </tr>\n",
       "    <tr>\n",
       "      <th>50%</th>\n",
       "      <td>5.000000</td>\n",
       "    </tr>\n",
       "    <tr>\n",
       "      <th>75%</th>\n",
       "      <td>5.000000</td>\n",
       "    </tr>\n",
       "    <tr>\n",
       "      <th>max</th>\n",
       "      <td>9.000000</td>\n",
       "    </tr>\n",
       "  </tbody>\n",
       "</table>\n",
       "</div>"
      ],
      "text/plain": [
       "              dist\n",
       "count  1770.000000\n",
       "mean      4.719774\n",
       "std       0.814998\n",
       "min       1.000000\n",
       "25%       5.000000\n",
       "50%       5.000000\n",
       "75%       5.000000\n",
       "max       9.000000"
      ]
     },
     "execution_count": 16,
     "metadata": {},
     "output_type": "execute_result"
    }
   ],
   "source": [
    "df_clean.describe()"
   ]
  },
  {
   "cell_type": "code",
   "execution_count": 17,
   "metadata": {},
   "outputs": [
    {
     "name": "stdout",
     "output_type": "stream",
     "text": [
      "60\n"
     ]
    }
   ],
   "source": [
    "# convert this original dataframe to a 'square' distance matrix.\n",
    "# we utilise a pivot table to do this\n",
    "\n",
    "# first, add the redundant pairs (two of the same sentences) to the data.\n",
    "# we need this for the pivot function to generate the correct rows and columns.\n",
    "first = np.unique(df_clean['first'].values)\n",
    "second = np.unique(df_clean['second'].values)\n",
    "combined_arr = np.concatenate((first, second))\n",
    "sentences = np.unique(combined_arr)\n",
    "print(len(sentences))"
   ]
  },
  {
   "cell_type": "code",
   "execution_count": 18,
   "metadata": {},
   "outputs": [
    {
     "name": "stdout",
     "output_type": "stream",
     "text": [
      "[['Anyone who lives with you must accept your ups and downs and appreciate your need for times of withdrawal.'\n",
      "  'Anyone who lives with you must accept your ups and downs and appreciate your need for times of withdrawal.'\n",
      "  0.0]\n",
      " ['At times others can never be \"good\" enough to meet those high standards.'\n",
      "  'At times others can never be \"good\" enough to meet those high standards.'\n",
      "  0.0]\n",
      " ['At times you can be lazy, hoping or expecting someone else to do the dirty work.'\n",
      "  'At times you can be lazy, hoping or expecting someone else to do the dirty work.'\n",
      "  0.0]\n",
      " ['At times you can be very indecisive and unsure.'\n",
      "  'At times you can be very indecisive and unsure.' 0.0]\n",
      " ['Comfort is important to you and you hate getting your hands dirty.'\n",
      "  'Comfort is important to you and you hate getting your hands dirty.'\n",
      "  0.0]\n",
      " ['Control of thought, word, and action is necessary in order to be successful.'\n",
      "  'Control of thought, word, and action is necessary in order to be successful.'\n",
      "  0.0]\n",
      " ['Debate and argument appeal to you.'\n",
      "  'Debate and argument appeal to you.' 0.0]\n",
      " ['Exercise is a good way to release this tension.'\n",
      "  'Exercise is a good way to release this tension.' 0.0]\n",
      " ['Find your focus, stay with it and develop perseverance.'\n",
      "  'Find your focus, stay with it and develop perseverance.' 0.0]\n",
      " [\"Finding fault with what's wrong with things is your forte.\"\n",
      "  \"Finding fault with what's wrong with things is your forte.\" 0.0]\n",
      " ['Gaining knowledge and putting it to good use are important to you.'\n",
      "  'Gaining knowledge and putting it to good use are important to you.'\n",
      "  0.0]\n",
      " ['Guard against possessiveness, jealousy, and taking the easy way out in your relationships.'\n",
      "  'Guard against possessiveness, jealousy, and taking the easy way out in your relationships.'\n",
      "  0.0]\n",
      " ['If you have Mercury in Gemini, you have an extremely adaptable, energetic, active, alert, curious, and versatile mind.'\n",
      "  'If you have Mercury in Gemini, you have an extremely adaptable, energetic, active, alert, curious, and versatile mind.'\n",
      "  0.0]\n",
      " ['If you have Venus in Taurus, in love affairs you are generally loyal and steady, especially if your partner is demonstrative and affectionate.'\n",
      "  'If you have Venus in Taurus, in love affairs you are generally loyal and steady, especially if your partner is demonstrative and affectionate.'\n",
      "  0.0]\n",
      " ['If you have the Moon in Cancer, you very easily respond to the emotional environment in which you are placed.'\n",
      "  'If you have the Moon in Cancer, you very easily respond to the emotional environment in which you are placed.'\n",
      "  0.0]\n",
      " ['Journalism, speaking, teaching, sales, advertising, or writing may appeal to you.'\n",
      "  'Journalism, speaking, teaching, sales, advertising, or writing may appeal to you.'\n",
      "  0.0]\n",
      " ['Learning to control your own moods may be very difficult, yet necessary, for you.'\n",
      "  'Learning to control your own moods may be very difficult, yet necessary, for you.'\n",
      "  0.0]\n",
      " ['Mentally restless, you may change jobs or locations frequently, or do work that involves movement, travel, and variety.'\n",
      "  'Mentally restless, you may change jobs or locations frequently, or do work that involves movement, travel, and variety.'\n",
      "  0.0]\n",
      " ['Nothing or no one is ever gone if they leave their memory behind.'\n",
      "  'Nothing or no one is ever gone if they leave their memory behind.' 0.0]\n",
      " ['People with Virgo rising tend to be practical, analytical, discriminating, fastidious, careful, exacting, attentive to details, methodical, quiet, unassuming, shy, critical, thoughtful, and somewhat self-centered.'\n",
      "  'People with Virgo rising tend to be practical, analytical, discriminating, fastidious, careful, exacting, attentive to details, methodical, quiet, unassuming, shy, critical, thoughtful, and somewhat self-centered.'\n",
      "  0.0]\n",
      " ['Perhaps this is why you so easily become moody, irritable and inconstant in thought and feeling.'\n",
      "  'Perhaps this is why you so easily become moody, irritable and inconstant in thought and feeling.'\n",
      "  0.0]\n",
      " ['Pessimism and being too self-critical are two faults you should try to improve upon.'\n",
      "  'Pessimism and being too self-critical are two faults you should try to improve upon.'\n",
      "  0.0]\n",
      " ['Security is very important to you and you look for it in your home and family life.'\n",
      "  'Security is very important to you and you look for it in your home and family life.'\n",
      "  0.0]\n",
      " ['Self-control needs to be developed and added to the qualifications you already possess -warmth, charm, sympathy, artistic.'\n",
      "  'Self-control needs to be developed and added to the qualifications you already possess -warmth, charm, sympathy, artistic.'\n",
      "  0.0]\n",
      " ['Sometimes, though, this can make relationships sour as you often turn your critical eye on the one you love and the things they do.'\n",
      "  'Sometimes, though, this can make relationships sour as you often turn your critical eye on the one you love and the things they do.'\n",
      "  0.0]\n",
      " ['There is a tendency to scratch the surface with the things that strike your interest without learning anything very deeply.'\n",
      "  'There is a tendency to scratch the surface with the things that strike your interest without learning anything very deeply.'\n",
      "  0.0]\n",
      " ['There is danger, then, of superficiality.'\n",
      "  'There is danger, then, of superficiality.' 0.0]\n",
      " ['This is the jack-of-all-trades, master-of-none position.'\n",
      "  'This is the jack-of-all-trades, master-of-none position.' 0.0]\n",
      " ['Thus, you can become quite possessive.'\n",
      "  'Thus, you can become quite possessive.' 0.0]\n",
      " ['Too much worry can lead to health problems.'\n",
      "  'Too much worry can lead to health problems.' 0.0]\n",
      " ['You aim to please in practical and earthy ways.'\n",
      "  'You aim to please in practical and earthy ways.' 0.0]\n",
      " ['You are also very sympathetic and understand the unspoken feelings and needs of others.'\n",
      "  'You are also very sympathetic and understand the unspoken feelings and needs of others.'\n",
      "  0.0]\n",
      " ['You are basically an introvert, but will do whatever it takes to protect and defend your family or loved ones.'\n",
      "  'You are basically an introvert, but will do whatever it takes to protect and defend your family or loved ones.'\n",
      "  0.0]\n",
      " ['You are clever, witty, and always have a joke or comeback ready for any situation.'\n",
      "  'You are clever, witty, and always have a joke or comeback ready for any situation.'\n",
      "  0.0]\n",
      " ['You are handy with your hands and may be ambidextrous or mechanically inclined.'\n",
      "  'You are handy with your hands and may be ambidextrous or mechanically inclined.'\n",
      "  0.0]\n",
      " ['You are oriented towards the sensual side of life in everything you do and it may show through too much weight.'\n",
      "  'You are oriented towards the sensual side of life in everything you do and it may show through too much weight.'\n",
      "  0.0]\n",
      " ['You are quick to grasp new concepts and equally quick to lose interest in an idea or project once your curiosity has been satisfied.'\n",
      "  'You are quick to grasp new concepts and equally quick to lose interest in an idea or project once your curiosity has been satisfied.'\n",
      "  0.0]\n",
      " ['You are tremendously responsive to beauty and physical appearances, and the physical attractiveness of your partner is very important to you.'\n",
      "  'You are tremendously responsive to beauty and physical appearances, and the physical attractiveness of your partner is very important to you.'\n",
      "  0.0]\n",
      " ['You are very restless and nervous, so you seldom have much weight on you.'\n",
      "  'You are very restless and nervous, so you seldom have much weight on you.'\n",
      "  0.0]\n",
      " ['You are very tenacious and you do not give up or let go of things or people easily.'\n",
      "  'You are very tenacious and you do not give up or let go of things or people easily.'\n",
      "  0.0]\n",
      " ['You enjoy indulging yourself and the ones you love and it is too easy for you to be extravagant and perhaps to put too much value in material things.'\n",
      "  'You enjoy indulging yourself and the ones you love and it is too easy for you to be extravagant and perhaps to put too much value in material things.'\n",
      "  0.0]\n",
      " [\"You grasp concepts easily and may become impatient with those who don't learn as quickly.\"\n",
      "  \"You grasp concepts easily and may become impatient with those who don't learn as quickly.\"\n",
      "  0.0]\n",
      " ['You have an ingenious, active and alert mind.'\n",
      "  'You have an ingenious, active and alert mind.' 0.0]\n",
      " ['You have so much nervous energy that this can sometimes cause great stress which must find an appropriate release.'\n",
      "  'You have so much nervous energy that this can sometimes cause great stress which must find an appropriate release.'\n",
      "  0.0]\n",
      " ['You have the memory of an elephant, but you must learn to forgive and forget past hurts.'\n",
      "  'You have the memory of an elephant, but you must learn to forgive and forget past hurts.'\n",
      "  0.0]\n",
      " ['You like to taste a little bit of everything – concentration and disciplined study are not your strong points.'\n",
      "  'You like to taste a little bit of everything – concentration and disciplined study are not your strong points.'\n",
      "  0.0]\n",
      " ['You love being involved in multiple things at once and this may be a problem – too may irons in the fire at the same time.'\n",
      "  'You love being involved in multiple things at once and this may be a problem – too may irons in the fire at the same time.'\n",
      "  0.0]\n",
      " ['You may tend to worry too much, especially about the small stuff, the little details.'\n",
      "  'You may tend to worry too much, especially about the small stuff, the little details.'\n",
      "  0.0]\n",
      " ['You need to get rid of any negativity that stems from a feeling of inadequacy.'\n",
      "  'You need to get rid of any negativity that stems from a feeling of inadequacy.'\n",
      "  0.0]\n",
      " ['You need to learn to digest every experience and assimilate it without bitterness, regret, spite or resentment.'\n",
      "  'You need to learn to digest every experience and assimilate it without bitterness, regret, spite or resentment.'\n",
      "  0.0]\n",
      " [\"You often appear irrational to others because you can't always explain the reason or source of your feelings.\"\n",
      "  \"You often appear irrational to others because you can't always explain the reason or source of your feelings.\"\n",
      "  0.0]\n",
      " ['You seek knowledge, either through reading or conversation, or through travel and talking with the new people you constantly meet.'\n",
      "  'You seek knowledge, either through reading or conversation, or through travel and talking with the new people you constantly meet.'\n",
      "  0.0]\n",
      " ['You soak up feelings like a sponge.'\n",
      "  'You soak up feelings like a sponge.' 0.0]\n",
      " ['You strive for perfection and can be quite the person to live with or to be around because your standards for yourself and others are so high.'\n",
      "  'You strive for perfection and can be quite the person to live with or to be around because your standards for yourself and others are so high.'\n",
      "  0.0]\n",
      " ['You take slights very personally and though you may forgive a mistake by a friend or loved one, you never forget it.'\n",
      "  'You take slights very personally and though you may forgive a mistake by a friend or loved one, you never forget it.'\n",
      "  0.0]\n",
      " ['You tend to be a pack-rat because everything has an emotional memory behind it and you find security in all those memories.'\n",
      "  'You tend to be a pack-rat because everything has an emotional memory behind it and you find security in all those memories.'\n",
      "  0.0]\n",
      " ['You tend to look younger than you really are, no matter what your age.'\n",
      "  'You tend to look younger than you really are, no matter what your age.'\n",
      "  0.0]\n",
      " ['Your greatest need is to nurture and mother someone or ones.'\n",
      "  'Your greatest need is to nurture and mother someone or ones.' 0.0]\n",
      " ['Your mother is/was a strong influence for good or ill in your life.'\n",
      "  'Your mother is/was a strong influence for good or ill in your life.'\n",
      "  0.0]\n",
      " ['Your senses and emotions are quite strong and it would be wise for you to listen to your intuitive side as you can be quite psychic.'\n",
      "  'Your senses and emotions are quite strong and it would be wise for you to listen to your intuitive side as you can be quite psychic.'\n",
      "  0.0]]\n"
     ]
    }
   ],
   "source": [
    "add_data = np.column_stack([sentences, sentences, np.zeros(len(sentences))])\n",
    "print(add_data)"
   ]
  },
  {
   "cell_type": "code",
   "execution_count": 19,
   "metadata": {},
   "outputs": [
    {
     "data": {
      "text/html": [
       "<div>\n",
       "<style scoped>\n",
       "    .dataframe tbody tr th:only-of-type {\n",
       "        vertical-align: middle;\n",
       "    }\n",
       "\n",
       "    .dataframe tbody tr th {\n",
       "        vertical-align: top;\n",
       "    }\n",
       "\n",
       "    .dataframe thead th {\n",
       "        text-align: right;\n",
       "    }\n",
       "</style>\n",
       "<table border=\"1\" class=\"dataframe\">\n",
       "  <thead>\n",
       "    <tr style=\"text-align: right;\">\n",
       "      <th></th>\n",
       "      <th>first</th>\n",
       "      <th>second</th>\n",
       "      <th>dist</th>\n",
       "    </tr>\n",
       "  </thead>\n",
       "  <tbody>\n",
       "    <tr>\n",
       "      <th>0</th>\n",
       "      <td>Anyone who lives with you must accept your ups...</td>\n",
       "      <td>Anyone who lives with you must accept your ups...</td>\n",
       "      <td>0</td>\n",
       "    </tr>\n",
       "    <tr>\n",
       "      <th>1</th>\n",
       "      <td>At times others can never be \"good\" enough to ...</td>\n",
       "      <td>At times others can never be \"good\" enough to ...</td>\n",
       "      <td>0</td>\n",
       "    </tr>\n",
       "    <tr>\n",
       "      <th>2</th>\n",
       "      <td>At times you can be lazy, hoping or expecting ...</td>\n",
       "      <td>At times you can be lazy, hoping or expecting ...</td>\n",
       "      <td>0</td>\n",
       "    </tr>\n",
       "    <tr>\n",
       "      <th>3</th>\n",
       "      <td>At times you can be very indecisive and unsure.</td>\n",
       "      <td>At times you can be very indecisive and unsure.</td>\n",
       "      <td>0</td>\n",
       "    </tr>\n",
       "    <tr>\n",
       "      <th>4</th>\n",
       "      <td>Comfort is important to you and you hate getti...</td>\n",
       "      <td>Comfort is important to you and you hate getti...</td>\n",
       "      <td>0</td>\n",
       "    </tr>\n",
       "  </tbody>\n",
       "</table>\n",
       "</div>"
      ],
      "text/plain": [
       "                                               first  \\\n",
       "0  Anyone who lives with you must accept your ups...   \n",
       "1  At times others can never be \"good\" enough to ...   \n",
       "2  At times you can be lazy, hoping or expecting ...   \n",
       "3    At times you can be very indecisive and unsure.   \n",
       "4  Comfort is important to you and you hate getti...   \n",
       "\n",
       "                                              second dist  \n",
       "0  Anyone who lives with you must accept your ups...    0  \n",
       "1  At times others can never be \"good\" enough to ...    0  \n",
       "2  At times you can be lazy, hoping or expecting ...    0  \n",
       "3    At times you can be very indecisive and unsure.    0  \n",
       "4  Comfort is important to you and you hate getti...    0  "
      ]
     },
     "execution_count": 19,
     "metadata": {},
     "output_type": "execute_result"
    }
   ],
   "source": [
    "add_df = pd.DataFrame(data=add_data, columns=df_clean.columns)\n",
    "add_df.head()"
   ]
  },
  {
   "cell_type": "code",
   "execution_count": 20,
   "metadata": {},
   "outputs": [
    {
     "data": {
      "text/html": [
       "<div>\n",
       "<style scoped>\n",
       "    .dataframe tbody tr th:only-of-type {\n",
       "        vertical-align: middle;\n",
       "    }\n",
       "\n",
       "    .dataframe tbody tr th {\n",
       "        vertical-align: top;\n",
       "    }\n",
       "\n",
       "    .dataframe thead th {\n",
       "        text-align: right;\n",
       "    }\n",
       "</style>\n",
       "<table border=\"1\" class=\"dataframe\">\n",
       "  <thead>\n",
       "    <tr style=\"text-align: right;\">\n",
       "      <th></th>\n",
       "      <th>first</th>\n",
       "      <th>second</th>\n",
       "      <th>dist</th>\n",
       "    </tr>\n",
       "  </thead>\n",
       "  <tbody>\n",
       "    <tr>\n",
       "      <th>0</th>\n",
       "      <td>People with Virgo rising tend to be practical,...</td>\n",
       "      <td>You have an ingenious, active and alert mind.</td>\n",
       "      <td>2</td>\n",
       "    </tr>\n",
       "    <tr>\n",
       "      <th>1</th>\n",
       "      <td>People with Virgo rising tend to be practical,...</td>\n",
       "      <td>Gaining knowledge and putting it to good use a...</td>\n",
       "      <td>3</td>\n",
       "    </tr>\n",
       "    <tr>\n",
       "      <th>2</th>\n",
       "      <td>People with Virgo rising tend to be practical,...</td>\n",
       "      <td>You strive for perfection and can be quite the...</td>\n",
       "      <td>3</td>\n",
       "    </tr>\n",
       "    <tr>\n",
       "      <th>3</th>\n",
       "      <td>People with Virgo rising tend to be practical,...</td>\n",
       "      <td>At times others can never be \"good\" enough to ...</td>\n",
       "      <td>3</td>\n",
       "    </tr>\n",
       "    <tr>\n",
       "      <th>4</th>\n",
       "      <td>People with Virgo rising tend to be practical,...</td>\n",
       "      <td>Finding fault with what's wrong with things is...</td>\n",
       "      <td>3</td>\n",
       "    </tr>\n",
       "  </tbody>\n",
       "</table>\n",
       "</div>"
      ],
      "text/plain": [
       "                                               first  \\\n",
       "0  People with Virgo rising tend to be practical,...   \n",
       "1  People with Virgo rising tend to be practical,...   \n",
       "2  People with Virgo rising tend to be practical,...   \n",
       "3  People with Virgo rising tend to be practical,...   \n",
       "4  People with Virgo rising tend to be practical,...   \n",
       "\n",
       "                                              second dist  \n",
       "0      You have an ingenious, active and alert mind.    2  \n",
       "1  Gaining knowledge and putting it to good use a...    3  \n",
       "2  You strive for perfection and can be quite the...    3  \n",
       "3  At times others can never be \"good\" enough to ...    3  \n",
       "4  Finding fault with what's wrong with things is...    3  "
      ]
     },
     "execution_count": 20,
     "metadata": {},
     "output_type": "execute_result"
    }
   ],
   "source": [
    "df_clean = df_clean.append(add_df, ignore_index=True)\n",
    "df_clean.head()"
   ]
  },
  {
   "cell_type": "code",
   "execution_count": 21,
   "metadata": {},
   "outputs": [
    {
     "data": {
      "text/html": [
       "<div>\n",
       "<style scoped>\n",
       "    .dataframe tbody tr th:only-of-type {\n",
       "        vertical-align: middle;\n",
       "    }\n",
       "\n",
       "    .dataframe tbody tr th {\n",
       "        vertical-align: top;\n",
       "    }\n",
       "\n",
       "    .dataframe thead th {\n",
       "        text-align: right;\n",
       "    }\n",
       "</style>\n",
       "<table border=\"1\" class=\"dataframe\">\n",
       "  <thead>\n",
       "    <tr style=\"text-align: right;\">\n",
       "      <th></th>\n",
       "      <th>first</th>\n",
       "      <th>second</th>\n",
       "      <th>dist</th>\n",
       "    </tr>\n",
       "  </thead>\n",
       "  <tbody>\n",
       "    <tr>\n",
       "      <th>count</th>\n",
       "      <td>1830</td>\n",
       "      <td>1830</td>\n",
       "      <td>1830.0</td>\n",
       "    </tr>\n",
       "    <tr>\n",
       "      <th>unique</th>\n",
       "      <td>60</td>\n",
       "      <td>60</td>\n",
       "      <td>10.0</td>\n",
       "    </tr>\n",
       "    <tr>\n",
       "      <th>top</th>\n",
       "      <td>People with Virgo rising tend to be practical,...</td>\n",
       "      <td>You aim to please in practical and earthy ways.</td>\n",
       "      <td>5.0</td>\n",
       "    </tr>\n",
       "    <tr>\n",
       "      <th>freq</th>\n",
       "      <td>60</td>\n",
       "      <td>60</td>\n",
       "      <td>1488.0</td>\n",
       "    </tr>\n",
       "  </tbody>\n",
       "</table>\n",
       "</div>"
      ],
      "text/plain": [
       "                                                    first  \\\n",
       "count                                                1830   \n",
       "unique                                                 60   \n",
       "top     People with Virgo rising tend to be practical,...   \n",
       "freq                                                   60   \n",
       "\n",
       "                                                 second    dist  \n",
       "count                                              1830  1830.0  \n",
       "unique                                               60    10.0  \n",
       "top     You aim to please in practical and earthy ways.     5.0  \n",
       "freq                                                 60  1488.0  "
      ]
     },
     "execution_count": 21,
     "metadata": {},
     "output_type": "execute_result"
    }
   ],
   "source": [
    "df_clean.describe()"
   ]
  },
  {
   "cell_type": "code",
   "execution_count": 22,
   "metadata": {},
   "outputs": [],
   "source": [
    "df_piv = df_clean.pivot(\"first\", \"second\", \"dist\").fillna(0)\n",
    "piv_arr = df_piv.values\n",
    "dist_mat = piv_arr + np.transpose(piv_arr)"
   ]
  },
  {
   "cell_type": "code",
   "execution_count": 23,
   "metadata": {},
   "outputs": [
    {
     "data": {
      "text/html": [
       "<div>\n",
       "<style scoped>\n",
       "    .dataframe tbody tr th:only-of-type {\n",
       "        vertical-align: middle;\n",
       "    }\n",
       "\n",
       "    .dataframe tbody tr th {\n",
       "        vertical-align: top;\n",
       "    }\n",
       "\n",
       "    .dataframe thead th {\n",
       "        text-align: right;\n",
       "    }\n",
       "</style>\n",
       "<table border=\"1\" class=\"dataframe\">\n",
       "  <thead>\n",
       "    <tr style=\"text-align: right;\">\n",
       "      <th>second</th>\n",
       "      <th>Anyone who lives with you must accept your ups and downs and appreciate your need for times of withdrawal.</th>\n",
       "      <th>At times others can never be \"good\" enough to meet those high standards.</th>\n",
       "      <th>At times you can be lazy, hoping or expecting someone else to do the dirty work.</th>\n",
       "      <th>At times you can be very indecisive and unsure.</th>\n",
       "      <th>Comfort is important to you and you hate getting your hands dirty.</th>\n",
       "      <th>Control of thought, word, and action is necessary in order to be successful.</th>\n",
       "      <th>Debate and argument appeal to you.</th>\n",
       "      <th>Exercise is a good way to release this tension.</th>\n",
       "      <th>Find your focus, stay with it and develop perseverance.</th>\n",
       "      <th>Finding fault with what's wrong with things is your forte.</th>\n",
       "      <th>...</th>\n",
       "      <th>You often appear irrational to others because you can't always explain the reason or source of your feelings.</th>\n",
       "      <th>You seek knowledge, either through reading or conversation, or through travel and talking with the new people you constantly meet.</th>\n",
       "      <th>You soak up feelings like a sponge.</th>\n",
       "      <th>You strive for perfection and can be quite the person to live with or to be around because your standards for yourself and others are so high.</th>\n",
       "      <th>You take slights very personally and though you may forgive a mistake by a friend or loved one, you never forget it.</th>\n",
       "      <th>You tend to be a pack-rat because everything has an emotional memory behind it and you find security in all those memories.</th>\n",
       "      <th>You tend to look younger than you really are, no matter what your age.</th>\n",
       "      <th>Your greatest need is to nurture and mother someone or ones.</th>\n",
       "      <th>Your mother is/was a strong influence for good or ill in your life.</th>\n",
       "      <th>Your senses and emotions are quite strong and it would be wise for you to listen to your intuitive side as you can be quite psychic.</th>\n",
       "    </tr>\n",
       "  </thead>\n",
       "  <tbody>\n",
       "    <tr>\n",
       "      <th>count</th>\n",
       "      <td>60.000000</td>\n",
       "      <td>60.000000</td>\n",
       "      <td>60.000000</td>\n",
       "      <td>60.000000</td>\n",
       "      <td>60.000000</td>\n",
       "      <td>60.000000</td>\n",
       "      <td>60.00000</td>\n",
       "      <td>60.000000</td>\n",
       "      <td>60.000000</td>\n",
       "      <td>60.000000</td>\n",
       "      <td>...</td>\n",
       "      <td>60.000000</td>\n",
       "      <td>60.000000</td>\n",
       "      <td>60.000000</td>\n",
       "      <td>60.000000</td>\n",
       "      <td>60.00000</td>\n",
       "      <td>60.000000</td>\n",
       "      <td>60.000000</td>\n",
       "      <td>60.000000</td>\n",
       "      <td>60.000000</td>\n",
       "      <td>60.000000</td>\n",
       "    </tr>\n",
       "    <tr>\n",
       "      <th>mean</th>\n",
       "      <td>1.566667</td>\n",
       "      <td>0.233333</td>\n",
       "      <td>4.616667</td>\n",
       "      <td>1.100000</td>\n",
       "      <td>4.483333</td>\n",
       "      <td>3.550000</td>\n",
       "      <td>3.30000</td>\n",
       "      <td>2.850000</td>\n",
       "      <td>3.683333</td>\n",
       "      <td>0.250000</td>\n",
       "      <td>...</td>\n",
       "      <td>1.450000</td>\n",
       "      <td>2.750000</td>\n",
       "      <td>1.216667</td>\n",
       "      <td>0.216667</td>\n",
       "      <td>1.70000</td>\n",
       "      <td>2.400000</td>\n",
       "      <td>1.000000</td>\n",
       "      <td>1.550000</td>\n",
       "      <td>2.216667</td>\n",
       "      <td>1.966667</td>\n",
       "    </tr>\n",
       "    <tr>\n",
       "      <th>std</th>\n",
       "      <td>2.212190</td>\n",
       "      <td>0.980603</td>\n",
       "      <td>1.276803</td>\n",
       "      <td>2.031114</td>\n",
       "      <td>1.443767</td>\n",
       "      <td>2.070167</td>\n",
       "      <td>2.27216</td>\n",
       "      <td>2.420429</td>\n",
       "      <td>2.205476</td>\n",
       "      <td>0.985058</td>\n",
       "      <td>...</td>\n",
       "      <td>2.118722</td>\n",
       "      <td>2.467586</td>\n",
       "      <td>2.108029</td>\n",
       "      <td>0.975838</td>\n",
       "      <td>2.24967</td>\n",
       "      <td>2.505587</td>\n",
       "      <td>2.016878</td>\n",
       "      <td>2.302725</td>\n",
       "      <td>2.484472</td>\n",
       "      <td>2.435380</td>\n",
       "    </tr>\n",
       "    <tr>\n",
       "      <th>min</th>\n",
       "      <td>0.000000</td>\n",
       "      <td>0.000000</td>\n",
       "      <td>0.000000</td>\n",
       "      <td>0.000000</td>\n",
       "      <td>0.000000</td>\n",
       "      <td>0.000000</td>\n",
       "      <td>0.00000</td>\n",
       "      <td>0.000000</td>\n",
       "      <td>0.000000</td>\n",
       "      <td>0.000000</td>\n",
       "      <td>...</td>\n",
       "      <td>0.000000</td>\n",
       "      <td>0.000000</td>\n",
       "      <td>0.000000</td>\n",
       "      <td>0.000000</td>\n",
       "      <td>0.00000</td>\n",
       "      <td>0.000000</td>\n",
       "      <td>0.000000</td>\n",
       "      <td>0.000000</td>\n",
       "      <td>0.000000</td>\n",
       "      <td>0.000000</td>\n",
       "    </tr>\n",
       "    <tr>\n",
       "      <th>25%</th>\n",
       "      <td>0.000000</td>\n",
       "      <td>0.000000</td>\n",
       "      <td>5.000000</td>\n",
       "      <td>0.000000</td>\n",
       "      <td>5.000000</td>\n",
       "      <td>2.750000</td>\n",
       "      <td>0.00000</td>\n",
       "      <td>0.000000</td>\n",
       "      <td>2.000000</td>\n",
       "      <td>0.000000</td>\n",
       "      <td>...</td>\n",
       "      <td>0.000000</td>\n",
       "      <td>0.000000</td>\n",
       "      <td>0.000000</td>\n",
       "      <td>0.000000</td>\n",
       "      <td>0.00000</td>\n",
       "      <td>0.000000</td>\n",
       "      <td>0.000000</td>\n",
       "      <td>0.000000</td>\n",
       "      <td>0.000000</td>\n",
       "      <td>0.000000</td>\n",
       "    </tr>\n",
       "    <tr>\n",
       "      <th>50%</th>\n",
       "      <td>0.000000</td>\n",
       "      <td>0.000000</td>\n",
       "      <td>5.000000</td>\n",
       "      <td>0.000000</td>\n",
       "      <td>5.000000</td>\n",
       "      <td>5.000000</td>\n",
       "      <td>5.00000</td>\n",
       "      <td>5.000000</td>\n",
       "      <td>5.000000</td>\n",
       "      <td>0.000000</td>\n",
       "      <td>...</td>\n",
       "      <td>0.000000</td>\n",
       "      <td>5.000000</td>\n",
       "      <td>0.000000</td>\n",
       "      <td>0.000000</td>\n",
       "      <td>0.00000</td>\n",
       "      <td>0.000000</td>\n",
       "      <td>0.000000</td>\n",
       "      <td>0.000000</td>\n",
       "      <td>0.000000</td>\n",
       "      <td>0.000000</td>\n",
       "    </tr>\n",
       "    <tr>\n",
       "      <th>75%</th>\n",
       "      <td>4.000000</td>\n",
       "      <td>0.000000</td>\n",
       "      <td>5.000000</td>\n",
       "      <td>0.000000</td>\n",
       "      <td>5.000000</td>\n",
       "      <td>5.000000</td>\n",
       "      <td>5.00000</td>\n",
       "      <td>5.000000</td>\n",
       "      <td>5.000000</td>\n",
       "      <td>0.000000</td>\n",
       "      <td>...</td>\n",
       "      <td>4.000000</td>\n",
       "      <td>5.000000</td>\n",
       "      <td>1.500000</td>\n",
       "      <td>0.000000</td>\n",
       "      <td>5.00000</td>\n",
       "      <td>5.000000</td>\n",
       "      <td>0.000000</td>\n",
       "      <td>5.000000</td>\n",
       "      <td>5.000000</td>\n",
       "      <td>5.000000</td>\n",
       "    </tr>\n",
       "    <tr>\n",
       "      <th>max</th>\n",
       "      <td>5.000000</td>\n",
       "      <td>5.000000</td>\n",
       "      <td>5.000000</td>\n",
       "      <td>5.000000</td>\n",
       "      <td>5.000000</td>\n",
       "      <td>5.000000</td>\n",
       "      <td>5.00000</td>\n",
       "      <td>5.000000</td>\n",
       "      <td>9.000000</td>\n",
       "      <td>5.000000</td>\n",
       "      <td>...</td>\n",
       "      <td>6.000000</td>\n",
       "      <td>5.000000</td>\n",
       "      <td>5.000000</td>\n",
       "      <td>5.000000</td>\n",
       "      <td>5.00000</td>\n",
       "      <td>5.000000</td>\n",
       "      <td>5.000000</td>\n",
       "      <td>5.000000</td>\n",
       "      <td>5.000000</td>\n",
       "      <td>6.000000</td>\n",
       "    </tr>\n",
       "  </tbody>\n",
       "</table>\n",
       "<p>8 rows × 60 columns</p>\n",
       "</div>"
      ],
      "text/plain": [
       "second  Anyone who lives with you must accept your ups and downs and appreciate your need for times of withdrawal.  \\\n",
       "count                                           60.000000                                                            \n",
       "mean                                             1.566667                                                            \n",
       "std                                              2.212190                                                            \n",
       "min                                              0.000000                                                            \n",
       "25%                                              0.000000                                                            \n",
       "50%                                              0.000000                                                            \n",
       "75%                                              4.000000                                                            \n",
       "max                                              5.000000                                                            \n",
       "\n",
       "second  At times others can never be \"good\" enough to meet those high standards.  \\\n",
       "count                                           60.000000                          \n",
       "mean                                             0.233333                          \n",
       "std                                              0.980603                          \n",
       "min                                              0.000000                          \n",
       "25%                                              0.000000                          \n",
       "50%                                              0.000000                          \n",
       "75%                                              0.000000                          \n",
       "max                                              5.000000                          \n",
       "\n",
       "second  At times you can be lazy, hoping or expecting someone else to do the dirty work.  \\\n",
       "count                                           60.000000                                  \n",
       "mean                                             4.616667                                  \n",
       "std                                              1.276803                                  \n",
       "min                                              0.000000                                  \n",
       "25%                                              5.000000                                  \n",
       "50%                                              5.000000                                  \n",
       "75%                                              5.000000                                  \n",
       "max                                              5.000000                                  \n",
       "\n",
       "second  At times you can be very indecisive and unsure.  \\\n",
       "count                                         60.000000   \n",
       "mean                                           1.100000   \n",
       "std                                            2.031114   \n",
       "min                                            0.000000   \n",
       "25%                                            0.000000   \n",
       "50%                                            0.000000   \n",
       "75%                                            0.000000   \n",
       "max                                            5.000000   \n",
       "\n",
       "second  Comfort is important to you and you hate getting your hands dirty.  \\\n",
       "count                                           60.000000                    \n",
       "mean                                             4.483333                    \n",
       "std                                              1.443767                    \n",
       "min                                              0.000000                    \n",
       "25%                                              5.000000                    \n",
       "50%                                              5.000000                    \n",
       "75%                                              5.000000                    \n",
       "max                                              5.000000                    \n",
       "\n",
       "second  Control of thought, word, and action is necessary in order to be successful.  \\\n",
       "count                                           60.000000                              \n",
       "mean                                             3.550000                              \n",
       "std                                              2.070167                              \n",
       "min                                              0.000000                              \n",
       "25%                                              2.750000                              \n",
       "50%                                              5.000000                              \n",
       "75%                                              5.000000                              \n",
       "max                                              5.000000                              \n",
       "\n",
       "second  Debate and argument appeal to you.  \\\n",
       "count                             60.00000   \n",
       "mean                               3.30000   \n",
       "std                                2.27216   \n",
       "min                                0.00000   \n",
       "25%                                0.00000   \n",
       "50%                                5.00000   \n",
       "75%                                5.00000   \n",
       "max                                5.00000   \n",
       "\n",
       "second  Exercise is a good way to release this tension.  \\\n",
       "count                                         60.000000   \n",
       "mean                                           2.850000   \n",
       "std                                            2.420429   \n",
       "min                                            0.000000   \n",
       "25%                                            0.000000   \n",
       "50%                                            5.000000   \n",
       "75%                                            5.000000   \n",
       "max                                            5.000000   \n",
       "\n",
       "second  Find your focus, stay with it and develop perseverance.  \\\n",
       "count                                           60.000000         \n",
       "mean                                             3.683333         \n",
       "std                                              2.205476         \n",
       "min                                              0.000000         \n",
       "25%                                              2.000000         \n",
       "50%                                              5.000000         \n",
       "75%                                              5.000000         \n",
       "max                                              9.000000         \n",
       "\n",
       "second  Finding fault with what's wrong with things is your forte.  ...  \\\n",
       "count                                           60.000000           ...   \n",
       "mean                                             0.250000           ...   \n",
       "std                                              0.985058           ...   \n",
       "min                                              0.000000           ...   \n",
       "25%                                              0.000000           ...   \n",
       "50%                                              0.000000           ...   \n",
       "75%                                              0.000000           ...   \n",
       "max                                              5.000000           ...   \n",
       "\n",
       "second  You often appear irrational to others because you can't always explain the reason or source of your feelings.  \\\n",
       "count                                           60.000000                                                               \n",
       "mean                                             1.450000                                                               \n",
       "std                                              2.118722                                                               \n",
       "min                                              0.000000                                                               \n",
       "25%                                              0.000000                                                               \n",
       "50%                                              0.000000                                                               \n",
       "75%                                              4.000000                                                               \n",
       "max                                              6.000000                                                               \n",
       "\n",
       "second  You seek knowledge, either through reading or conversation, or through travel and talking with the new people you constantly meet.  \\\n",
       "count                                           60.000000                                                                                    \n",
       "mean                                             2.750000                                                                                    \n",
       "std                                              2.467586                                                                                    \n",
       "min                                              0.000000                                                                                    \n",
       "25%                                              0.000000                                                                                    \n",
       "50%                                              5.000000                                                                                    \n",
       "75%                                              5.000000                                                                                    \n",
       "max                                              5.000000                                                                                    \n",
       "\n",
       "second  You soak up feelings like a sponge.  \\\n",
       "count                             60.000000   \n",
       "mean                               1.216667   \n",
       "std                                2.108029   \n",
       "min                                0.000000   \n",
       "25%                                0.000000   \n",
       "50%                                0.000000   \n",
       "75%                                1.500000   \n",
       "max                                5.000000   \n",
       "\n",
       "second  You strive for perfection and can be quite the person to live with or to be around because your standards for yourself and others are so high.  \\\n",
       "count                                           60.000000                                                                                                \n",
       "mean                                             0.216667                                                                                                \n",
       "std                                              0.975838                                                                                                \n",
       "min                                              0.000000                                                                                                \n",
       "25%                                              0.000000                                                                                                \n",
       "50%                                              0.000000                                                                                                \n",
       "75%                                              0.000000                                                                                                \n",
       "max                                              5.000000                                                                                                \n",
       "\n",
       "second  You take slights very personally and though you may forgive a mistake by a friend or loved one, you never forget it.  \\\n",
       "count                                            60.00000                                                                      \n",
       "mean                                              1.70000                                                                      \n",
       "std                                               2.24967                                                                      \n",
       "min                                               0.00000                                                                      \n",
       "25%                                               0.00000                                                                      \n",
       "50%                                               0.00000                                                                      \n",
       "75%                                               5.00000                                                                      \n",
       "max                                               5.00000                                                                      \n",
       "\n",
       "second  You tend to be a pack-rat because everything has an emotional memory behind it and you find security in all those memories.  \\\n",
       "count                                           60.000000                                                                             \n",
       "mean                                             2.400000                                                                             \n",
       "std                                              2.505587                                                                             \n",
       "min                                              0.000000                                                                             \n",
       "25%                                              0.000000                                                                             \n",
       "50%                                              0.000000                                                                             \n",
       "75%                                              5.000000                                                                             \n",
       "max                                              5.000000                                                                             \n",
       "\n",
       "second  You tend to look younger than you really are, no matter what your age.  \\\n",
       "count                                           60.000000                        \n",
       "mean                                             1.000000                        \n",
       "std                                              2.016878                        \n",
       "min                                              0.000000                        \n",
       "25%                                              0.000000                        \n",
       "50%                                              0.000000                        \n",
       "75%                                              0.000000                        \n",
       "max                                              5.000000                        \n",
       "\n",
       "second  Your greatest need is to nurture and mother someone or ones.  \\\n",
       "count                                           60.000000              \n",
       "mean                                             1.550000              \n",
       "std                                              2.302725              \n",
       "min                                              0.000000              \n",
       "25%                                              0.000000              \n",
       "50%                                              0.000000              \n",
       "75%                                              5.000000              \n",
       "max                                              5.000000              \n",
       "\n",
       "second  Your mother is/was a strong influence for good or ill in your life.  \\\n",
       "count                                           60.000000                     \n",
       "mean                                             2.216667                     \n",
       "std                                              2.484472                     \n",
       "min                                              0.000000                     \n",
       "25%                                              0.000000                     \n",
       "50%                                              0.000000                     \n",
       "75%                                              5.000000                     \n",
       "max                                              5.000000                     \n",
       "\n",
       "second  Your senses and emotions are quite strong and it would be wise for you to listen to your intuitive side as you can be quite psychic.  \n",
       "count                                           60.000000                                                                                     \n",
       "mean                                             1.966667                                                                                     \n",
       "std                                              2.435380                                                                                     \n",
       "min                                              0.000000                                                                                     \n",
       "25%                                              0.000000                                                                                     \n",
       "50%                                              0.000000                                                                                     \n",
       "75%                                              5.000000                                                                                     \n",
       "max                                              6.000000                                                                                     \n",
       "\n",
       "[8 rows x 60 columns]"
      ]
     },
     "execution_count": 23,
     "metadata": {},
     "output_type": "execute_result"
    }
   ],
   "source": [
    "df_piv.describe()"
   ]
  },
  {
   "cell_type": "code",
   "execution_count": 24,
   "metadata": {},
   "outputs": [
    {
     "name": "stdout",
     "output_type": "stream",
     "text": [
      "0.0\n",
      "0.0\n",
      "0.0\n",
      "0.0\n",
      "0.0\n",
      "0.0\n",
      "0.0\n",
      "0.0\n",
      "0.0\n",
      "0.0\n",
      "0.0\n",
      "0.0\n",
      "0.0\n",
      "0.0\n",
      "0.0\n",
      "0.0\n",
      "0.0\n",
      "0.0\n",
      "0.0\n",
      "0.0\n",
      "0.0\n",
      "0.0\n",
      "0.0\n",
      "0.0\n",
      "0.0\n",
      "0.0\n",
      "0.0\n",
      "0.0\n",
      "0.0\n",
      "0.0\n",
      "0.0\n",
      "0.0\n",
      "0.0\n",
      "0.0\n",
      "0.0\n",
      "0.0\n",
      "0.0\n",
      "0.0\n",
      "0.0\n",
      "0.0\n",
      "0.0\n",
      "0.0\n",
      "0.0\n",
      "0.0\n",
      "0.0\n",
      "0.0\n",
      "0.0\n",
      "0.0\n",
      "0.0\n",
      "0.0\n",
      "0.0\n",
      "0.0\n",
      "0.0\n",
      "0.0\n",
      "0.0\n",
      "0.0\n",
      "0.0\n",
      "0.0\n",
      "0.0\n",
      "0.0\n"
     ]
    }
   ],
   "source": [
    "for i in range(len(dist_mat)):\n",
    "    print(dist_mat[i][i])"
   ]
  },
  {
   "cell_type": "code",
   "execution_count": 25,
   "metadata": {},
   "outputs": [],
   "source": [
    "from scipy.spatial.distance import squareform\n",
    "condensed_mat = squareform(dist_mat)"
   ]
  },
  {
   "cell_type": "code",
   "execution_count": 26,
   "metadata": {},
   "outputs": [
    {
     "data": {
      "text/plain": [
       "array([ True,  True,  True,  True,  True,  True,  True,  True,  True,\n",
       "        True,  True,  True,  True,  True,  True,  True,  True,  True,\n",
       "        True,  True,  True,  True,  True,  True,  True,  True,  True,\n",
       "        True,  True,  True,  True,  True,  True,  True,  True,  True,\n",
       "        True,  True,  True,  True,  True,  True,  True,  True,  True,\n",
       "        True,  True,  True,  True,  True,  True,  True,  True,  True,\n",
       "        True,  True,  True,  True,  True,  True])"
      ]
     },
     "execution_count": 26,
     "metadata": {},
     "output_type": "execute_result"
    }
   ],
   "source": [
    "df_piv.index == df_piv.columns"
   ]
  },
  {
   "cell_type": "code",
   "execution_count": 27,
   "metadata": {},
   "outputs": [],
   "source": [
    "linkage_arr = linkage(condensed_mat)"
   ]
  },
  {
   "cell_type": "code",
   "execution_count": 28,
   "metadata": {},
   "outputs": [
    {
     "data": {
      "text/plain": [
       "array([[ 25.,  26.,   1.,   2.],\n",
       "       [ 27.,  60.,   1.,   3.],\n",
       "       [ 36.,  61.,   1.,   4.],\n",
       "       [ 41.,  62.,   1.,   5.],\n",
       "       [ 45.,  63.,   1.,   6.],\n",
       "       [ 46.,  64.,   1.,   7.],\n",
       "       [ 12.,  42.,   1.,   2.],\n",
       "       [  1.,   9.,   1.,   2.],\n",
       "       [ 21.,  67.,   1.,   3.],\n",
       "       [ 24.,  68.,   1.,   4.],\n",
       "       [ 53.,  69.,   1.,   5.],\n",
       "       [ 47.,  70.,   1.,   6.],\n",
       "       [  7.,  43.,   1.,   2.],\n",
       "       [ 14.,  20.,   1.,   2.],\n",
       "       [ 52.,  73.,   1.,   3.],\n",
       "       [ 31.,  59.,   1.,   2.],\n",
       "       [  0.,  22.,   2.,   2.],\n",
       "       [ 50.,  76.,   2.,   3.],\n",
       "       [  8.,  65.,   2.,   8.],\n",
       "       [ 66.,  78.,   2.,  10.],\n",
       "       [ 17.,  79.,   2.,  11.],\n",
       "       [ 19.,  80.,   2.,  12.],\n",
       "       [  6.,  81.,   2.,  13.],\n",
       "       [ 71.,  82.,   2.,  19.],\n",
       "       [ 29.,  83.,   2.,  20.],\n",
       "       [  5.,  84.,   2.,  21.],\n",
       "       [ 33.,  85.,   2.,  22.],\n",
       "       [ 38.,  86.,   2.,  23.],\n",
       "       [ 72.,  87.,   2.,  25.],\n",
       "       [ 49.,  88.,   2.,  26.],\n",
       "       [ 74.,  89.,   2.,  29.],\n",
       "       [ 16.,  90.,   2.,  30.],\n",
       "       [ 48.,  91.,   2.,  31.],\n",
       "       [ 54.,  92.,   2.,  32.],\n",
       "       [ 44.,  93.,   2.,  33.],\n",
       "       [ 10.,  15.,   2.,   2.],\n",
       "       [ 51.,  95.,   2.,   3.],\n",
       "       [  4.,  35.,   2.,   2.],\n",
       "       [ 37.,  97.,   2.,   3.],\n",
       "       [ 40.,  98.,   2.,   4.],\n",
       "       [ 28.,  39.,   2.,   2.],\n",
       "       [  3.,  77.,   3.,   4.],\n",
       "       [ 94., 101.,   3.,  37.],\n",
       "       [ 96., 102.,   3.,  40.],\n",
       "       [ 23., 103.,   3.,  41.],\n",
       "       [ 75., 104.,   3.,  43.],\n",
       "       [ 32., 105.,   3.,  44.],\n",
       "       [ 99., 106.,   3.,  48.],\n",
       "       [  2., 107.,   3.,  49.],\n",
       "       [ 11., 108.,   3.,  50.],\n",
       "       [100., 109.,   3.,  52.],\n",
       "       [ 30., 110.,   3.,  53.],\n",
       "       [ 57., 111.,   3.,  54.],\n",
       "       [ 58., 112.,   3.,  55.],\n",
       "       [ 13., 113.,   4.,  56.],\n",
       "       [ 55., 114.,   4.,  57.],\n",
       "       [ 18., 115.,   4.,  58.],\n",
       "       [ 34., 116.,   5.,  59.],\n",
       "       [ 56., 117.,   5.,  60.]])"
      ]
     },
     "execution_count": 28,
     "metadata": {},
     "output_type": "execute_result"
    }
   ],
   "source": [
    "linkage_arr"
   ]
  },
  {
   "cell_type": "code",
   "execution_count": 29,
   "metadata": {},
   "outputs": [
    {
     "data": {
      "text/plain": [
       "{'icoord': [[85.0, 85.0, 95.0, 95.0],\n",
       "  [145.0, 145.0, 155.0, 155.0],\n",
       "  [135.0, 135.0, 150.0, 150.0],\n",
       "  [125.0, 125.0, 142.5, 142.5],\n",
       "  [175.0, 175.0, 185.0, 185.0],\n",
       "  [215.0, 215.0, 225.0, 225.0],\n",
       "  [205.0, 205.0, 220.0, 220.0],\n",
       "  [285.0, 285.0, 295.0, 295.0],\n",
       "  [275.0, 275.0, 290.0, 290.0],\n",
       "  [315.0, 315.0, 325.0, 325.0],\n",
       "  [415.0, 415.0, 425.0, 425.0],\n",
       "  [405.0, 405.0, 420.0, 420.0],\n",
       "  [395.0, 395.0, 412.5, 412.5],\n",
       "  [385.0, 385.0, 403.75, 403.75],\n",
       "  [375.0, 375.0, 394.375, 394.375],\n",
       "  [465.0, 465.0, 475.0, 475.0],\n",
       "  [545.0, 545.0, 555.0, 555.0],\n",
       "  [535.0, 535.0, 550.0, 550.0],\n",
       "  [525.0, 525.0, 542.5, 542.5],\n",
       "  [515.0, 515.0, 533.75, 533.75],\n",
       "  [505.0, 505.0, 524.375, 524.375],\n",
       "  [495.0, 495.0, 514.6875, 514.6875],\n",
       "  [485.0, 485.0, 504.84375, 504.84375],\n",
       "  [470.0, 470.0, 494.921875, 494.921875],\n",
       "  [455.0, 455.0, 482.4609375, 482.4609375],\n",
       "  [445.0, 445.0, 468.73046875, 468.73046875],\n",
       "  [435.0, 435.0, 456.865234375, 456.865234375],\n",
       "  [384.6875, 384.6875, 445.9326171875, 445.9326171875],\n",
       "  [365.0, 365.0, 415.31005859375, 415.31005859375],\n",
       "  [355.0, 355.0, 390.155029296875, 390.155029296875],\n",
       "  [345.0, 345.0, 372.5775146484375, 372.5775146484375],\n",
       "  [335.0, 335.0, 358.78875732421875, 358.78875732421875],\n",
       "  [320.0, 320.0, 346.8943786621094, 346.8943786621094],\n",
       "  [305.0, 305.0, 333.4471893310547, 333.4471893310547],\n",
       "  [282.5, 282.5, 319.22359466552734, 319.22359466552734],\n",
       "  [265.0, 265.0, 300.8617973327637, 300.8617973327637],\n",
       "  [255.0, 255.0, 282.93089866638184, 282.93089866638184],\n",
       "  [245.0, 245.0, 268.9654493331909, 268.9654493331909],\n",
       "  [235.0, 235.0, 256.98272466659546, 256.98272466659546],\n",
       "  [585.0, 585.0, 595.0, 595.0],\n",
       "  [575.0, 575.0, 590.0, 590.0],\n",
       "  [565.0, 565.0, 582.5, 582.5],\n",
       "  [245.99136233329773, 245.99136233329773, 573.75, 573.75],\n",
       "  [212.5, 212.5, 409.87068116664886, 409.87068116664886],\n",
       "  [195.0, 195.0, 311.18534058332443, 311.18534058332443],\n",
       "  [180.0, 180.0, 253.09267029166222, 253.09267029166222],\n",
       "  [165.0, 165.0, 216.5463351458311, 216.5463351458311],\n",
       "  [133.75, 133.75, 190.77316757291555, 190.77316757291555],\n",
       "  [115.0, 115.0, 162.26158378645778, 162.26158378645778],\n",
       "  [105.0, 105.0, 138.6307918932289, 138.6307918932289],\n",
       "  [90.0, 90.0, 121.81539594661444, 121.81539594661444],\n",
       "  [75.0, 75.0, 105.90769797330722, 105.90769797330722],\n",
       "  [65.0, 65.0, 90.45384898665361, 90.45384898665361],\n",
       "  [55.0, 55.0, 77.7269244933268, 77.7269244933268],\n",
       "  [45.0, 45.0, 66.3634622466634, 66.3634622466634],\n",
       "  [35.0, 35.0, 55.6817311233317, 55.6817311233317],\n",
       "  [25.0, 25.0, 45.34086556166585, 45.34086556166585],\n",
       "  [15.0, 15.0, 35.170432780832925, 35.170432780832925],\n",
       "  [5.0, 5.0, 25.085216390416463, 25.085216390416463]],\n",
       " 'dcoord': [[0.0, 2.0, 2.0, 0.0],\n",
       "  [0.0, 2.0, 2.0, 0.0],\n",
       "  [0.0, 2.0, 2.0, 2.0],\n",
       "  [0.0, 2.0, 2.0, 2.0],\n",
       "  [0.0, 1.0, 1.0, 0.0],\n",
       "  [0.0, 2.0, 2.0, 0.0],\n",
       "  [0.0, 2.0, 2.0, 2.0],\n",
       "  [0.0, 1.0, 1.0, 0.0],\n",
       "  [0.0, 1.0, 1.0, 1.0],\n",
       "  [0.0, 1.0, 1.0, 0.0],\n",
       "  [0.0, 1.0, 1.0, 0.0],\n",
       "  [0.0, 1.0, 1.0, 1.0],\n",
       "  [0.0, 1.0, 1.0, 1.0],\n",
       "  [0.0, 1.0, 1.0, 1.0],\n",
       "  [0.0, 1.0, 1.0, 1.0],\n",
       "  [0.0, 1.0, 1.0, 0.0],\n",
       "  [0.0, 1.0, 1.0, 0.0],\n",
       "  [0.0, 1.0, 1.0, 1.0],\n",
       "  [0.0, 1.0, 1.0, 1.0],\n",
       "  [0.0, 1.0, 1.0, 1.0],\n",
       "  [0.0, 1.0, 1.0, 1.0],\n",
       "  [0.0, 1.0, 1.0, 1.0],\n",
       "  [0.0, 2.0, 2.0, 1.0],\n",
       "  [1.0, 2.0, 2.0, 2.0],\n",
       "  [0.0, 2.0, 2.0, 2.0],\n",
       "  [0.0, 2.0, 2.0, 2.0],\n",
       "  [0.0, 2.0, 2.0, 2.0],\n",
       "  [1.0, 2.0, 2.0, 2.0],\n",
       "  [0.0, 2.0, 2.0, 2.0],\n",
       "  [0.0, 2.0, 2.0, 2.0],\n",
       "  [0.0, 2.0, 2.0, 2.0],\n",
       "  [0.0, 2.0, 2.0, 2.0],\n",
       "  [1.0, 2.0, 2.0, 2.0],\n",
       "  [0.0, 2.0, 2.0, 2.0],\n",
       "  [1.0, 2.0, 2.0, 2.0],\n",
       "  [0.0, 2.0, 2.0, 2.0],\n",
       "  [0.0, 2.0, 2.0, 2.0],\n",
       "  [0.0, 2.0, 2.0, 2.0],\n",
       "  [0.0, 2.0, 2.0, 2.0],\n",
       "  [0.0, 2.0, 2.0, 0.0],\n",
       "  [0.0, 2.0, 2.0, 2.0],\n",
       "  [0.0, 3.0, 3.0, 2.0],\n",
       "  [2.0, 3.0, 3.0, 3.0],\n",
       "  [2.0, 3.0, 3.0, 3.0],\n",
       "  [0.0, 3.0, 3.0, 3.0],\n",
       "  [1.0, 3.0, 3.0, 3.0],\n",
       "  [0.0, 3.0, 3.0, 3.0],\n",
       "  [2.0, 3.0, 3.0, 3.0],\n",
       "  [0.0, 3.0, 3.0, 3.0],\n",
       "  [0.0, 3.0, 3.0, 3.0],\n",
       "  [2.0, 3.0, 3.0, 3.0],\n",
       "  [0.0, 3.0, 3.0, 3.0],\n",
       "  [0.0, 3.0, 3.0, 3.0],\n",
       "  [0.0, 3.0, 3.0, 3.0],\n",
       "  [0.0, 4.0, 4.0, 3.0],\n",
       "  [0.0, 4.0, 4.0, 4.0],\n",
       "  [0.0, 4.0, 4.0, 4.0],\n",
       "  [0.0, 5.0, 5.0, 4.0],\n",
       "  [0.0, 5.0, 5.0, 5.0]],\n",
       " 'ivl': ['You tend to look younger than you really are, no matter what your age.',\n",
       "  'You are handy with your hands and may be ambidextrous or mechanically inclined.',\n",
       "  'Nothing or no one is ever gone if they leave their memory behind.',\n",
       "  'You tend to be a pack-rat because everything has an emotional memory behind it and you find security in all those memories.',\n",
       "  'If you have Venus in Taurus, in love affairs you are generally loyal and steady, especially if your partner is demonstrative and affectionate.',\n",
       "  'Your mother is/was a strong influence for good or ill in your life.',\n",
       "  'Your greatest need is to nurture and mother someone or ones.',\n",
       "  'You aim to please in practical and earthy ways.',\n",
       "  'Thus, you can become quite possessive.',\n",
       "  'You are very tenacious and you do not give up or let go of things or people easily.',\n",
       "  'Guard against possessiveness, jealousy, and taking the easy way out in your relationships.',\n",
       "  'At times you can be lazy, hoping or expecting someone else to do the dirty work.',\n",
       "  'You enjoy indulging yourself and the ones you love and it is too easy for you to be extravagant and perhaps to put too much value in material things.',\n",
       "  'You are tremendously responsive to beauty and physical appearances, and the physical attractiveness of your partner is very important to you.',\n",
       "  'Comfort is important to you and you hate getting your hands dirty.',\n",
       "  'You are oriented towards the sensual side of life in everything you do and it may show through too much weight.',\n",
       "  'You are basically an introvert, but will do whatever it takes to protect and defend your family or loved ones.',\n",
       "  'You are also very sympathetic and understand the unspoken feelings and needs of others.',\n",
       "  'Your senses and emotions are quite strong and it would be wise for you to listen to your intuitive side as you can be quite psychic.',\n",
       "  'Self-control needs to be developed and added to the qualifications you already possess -warmth, charm, sympathy, artistic.',\n",
       "  'You seek knowledge, either through reading or conversation, or through travel and talking with the new people you constantly meet.',\n",
       "  'Gaining knowledge and putting it to good use are important to you.',\n",
       "  'Journalism, speaking, teaching, sales, advertising, or writing may appeal to you.',\n",
       "  'You have the memory of an elephant, but you must learn to forgive and forget past hurts.',\n",
       "  'You take slights very personally and though you may forgive a mistake by a friend or loved one, you never forget it.',\n",
       "  'You need to get rid of any negativity that stems from a feeling of inadequacy.',\n",
       "  'Learning to control your own moods may be very difficult, yet necessary, for you.',\n",
       "  'You soak up feelings like a sponge.',\n",
       "  'If you have the Moon in Cancer, you very easily respond to the emotional environment in which you are placed.',\n",
       "  'Perhaps this is why you so easily become moody, irritable and inconstant in thought and feeling.',\n",
       "  'You need to learn to digest every experience and assimilate it without bitterness, regret, spite or resentment.',\n",
       "  'Exercise is a good way to release this tension.',\n",
       "  'You have so much nervous energy that this can sometimes cause great stress which must find an appropriate release.',\n",
       "  'You are very restless and nervous, so you seldom have much weight on you.',\n",
       "  'You are clever, witty, and always have a joke or comeback ready for any situation.',\n",
       "  'Control of thought, word, and action is necessary in order to be successful.',\n",
       "  'Too much worry can lead to health problems.',\n",
       "  'You may tend to worry too much, especially about the small stuff, the little details.',\n",
       "  'You strive for perfection and can be quite the person to live with or to be around because your standards for yourself and others are so high.',\n",
       "  'Sometimes, though, this can make relationships sour as you often turn your critical eye on the one you love and the things they do.',\n",
       "  'Pessimism and being too self-critical are two faults you should try to improve upon.',\n",
       "  'At times others can never be \"good\" enough to meet those high standards.',\n",
       "  \"Finding fault with what's wrong with things is your forte.\",\n",
       "  'Debate and argument appeal to you.',\n",
       "  'People with Virgo rising tend to be practical, analytical, discriminating, fastidious, careful, exacting, attentive to details, methodical, quiet, unassuming, shy, critical, thoughtful, and somewhat self-centered.',\n",
       "  'Mentally restless, you may change jobs or locations frequently, or do work that involves movement, travel, and variety.',\n",
       "  'If you have Mercury in Gemini, you have an extremely adaptable, energetic, active, alert, curious, and versatile mind.',\n",
       "  'You have an ingenious, active and alert mind.',\n",
       "  'Find your focus, stay with it and develop perseverance.',\n",
       "  'You love being involved in multiple things at once and this may be a problem – too may irons in the fire at the same time.',\n",
       "  'You like to taste a little bit of everything – concentration and disciplined study are not your strong points.',\n",
       "  \"You grasp concepts easily and may become impatient with those who don't learn as quickly.\",\n",
       "  'You are quick to grasp new concepts and equally quick to lose interest in an idea or project once your curiosity has been satisfied.',\n",
       "  'This is the jack-of-all-trades, master-of-none position.',\n",
       "  'There is a tendency to scratch the surface with the things that strike your interest without learning anything very deeply.',\n",
       "  'There is danger, then, of superficiality.',\n",
       "  'At times you can be very indecisive and unsure.',\n",
       "  \"You often appear irrational to others because you can't always explain the reason or source of your feelings.\",\n",
       "  'Anyone who lives with you must accept your ups and downs and appreciate your need for times of withdrawal.',\n",
       "  'Security is very important to you and you look for it in your home and family life.'],\n",
       " 'leaves': [56,\n",
       "  34,\n",
       "  18,\n",
       "  55,\n",
       "  13,\n",
       "  58,\n",
       "  57,\n",
       "  30,\n",
       "  28,\n",
       "  39,\n",
       "  11,\n",
       "  2,\n",
       "  40,\n",
       "  37,\n",
       "  4,\n",
       "  35,\n",
       "  32,\n",
       "  31,\n",
       "  59,\n",
       "  23,\n",
       "  51,\n",
       "  10,\n",
       "  15,\n",
       "  44,\n",
       "  54,\n",
       "  48,\n",
       "  16,\n",
       "  52,\n",
       "  14,\n",
       "  20,\n",
       "  49,\n",
       "  7,\n",
       "  43,\n",
       "  38,\n",
       "  33,\n",
       "  5,\n",
       "  29,\n",
       "  47,\n",
       "  53,\n",
       "  24,\n",
       "  21,\n",
       "  1,\n",
       "  9,\n",
       "  6,\n",
       "  19,\n",
       "  17,\n",
       "  12,\n",
       "  42,\n",
       "  8,\n",
       "  46,\n",
       "  45,\n",
       "  41,\n",
       "  36,\n",
       "  27,\n",
       "  25,\n",
       "  26,\n",
       "  3,\n",
       "  50,\n",
       "  0,\n",
       "  22],\n",
       " 'color_list': ['g',\n",
       "  'g',\n",
       "  'g',\n",
       "  'g',\n",
       "  'g',\n",
       "  'g',\n",
       "  'g',\n",
       "  'g',\n",
       "  'g',\n",
       "  'g',\n",
       "  'g',\n",
       "  'g',\n",
       "  'g',\n",
       "  'g',\n",
       "  'g',\n",
       "  'g',\n",
       "  'g',\n",
       "  'g',\n",
       "  'g',\n",
       "  'g',\n",
       "  'g',\n",
       "  'g',\n",
       "  'g',\n",
       "  'g',\n",
       "  'g',\n",
       "  'g',\n",
       "  'g',\n",
       "  'g',\n",
       "  'g',\n",
       "  'g',\n",
       "  'g',\n",
       "  'g',\n",
       "  'g',\n",
       "  'g',\n",
       "  'g',\n",
       "  'g',\n",
       "  'g',\n",
       "  'g',\n",
       "  'g',\n",
       "  'g',\n",
       "  'g',\n",
       "  'g',\n",
       "  'g',\n",
       "  'g',\n",
       "  'g',\n",
       "  'g',\n",
       "  'g',\n",
       "  'g',\n",
       "  'g',\n",
       "  'g',\n",
       "  'g',\n",
       "  'g',\n",
       "  'g',\n",
       "  'g',\n",
       "  'b',\n",
       "  'b',\n",
       "  'b',\n",
       "  'b',\n",
       "  'b']}"
      ]
     },
     "execution_count": 29,
     "metadata": {},
     "output_type": "execute_result"
    },
    {
     "data": {
      "image/png": "[encoded data removed]",
      "text/plain": [
       "<Figure size 1440x720 with 1 Axes>"
      ]
     },
     "metadata": {},
     "output_type": "display_data"
    }
   ],
   "source": [
    "dendrogram(linkage_arr,\n",
    "            orientation='top',\n",
    "            labels=df_piv.index.values,\n",
    "            distance_sort='descending',\n",
    "            show_leaf_counts=True)"
   ]
  },
  {
   "cell_type": "code",
   "execution_count": 65,
   "metadata": {},
   "outputs": [
    {
     "name": "stdout",
     "output_type": "stream",
     "text": [
      "2 :  0.05701149425287356\n",
      "3 :  0.05801169590643274\n",
      "4 :  0.05558350401092337\n",
      "5 :  0.05636580948931547\n",
      "6 :  0.053959792742581524\n",
      "7 :  0.047865250450840134\n",
      "8 :  0.009377639039746376\n",
      "9 :  0.0031884642610394117\n",
      "10 :  0.012866546390124306\n",
      "11 :  0.01183734764900544\n",
      "12 :  0.009284312648676485\n",
      "13 :  0.035419109151031775\n",
      "14 :  0.03241757138705969\n",
      "15 :  0.04776637964863575\n",
      "16 :  0.042015619515730344\n",
      "17 :  0.046445590246123276\n",
      "18 :  0.04924042665764425\n",
      "19 :  0.016851602996544313\n",
      "20 :  -0.002824322929381612\n",
      "21 :  -0.007020993493191892\n",
      "22 :  -0.008949160998564961\n",
      "23 :  -0.01450471655412051\n",
      "24 :  -0.04812954660922455\n",
      "25 :  -0.05736326308432034\n",
      "26 :  -0.06426947174947492\n",
      "27 :  -0.07005691828931519\n",
      "28 :  -0.09365643030027647\n",
      "29 :  -0.10532692716487749\n",
      "30 :  -0.04782761043353115\n",
      "31 :  -0.05087127354350925\n",
      "32 :  -0.01842502891139269\n",
      "33 :  -0.02013058498479759\n",
      "34 :  -0.02768694677891489\n",
      "35 :  -0.019969423592859328\n",
      "36 :  -0.017481517439013723\n",
      "37 :  0.06626595766218407\n",
      "38 :  0.07359525484525484\n",
      "39 :  0.08552441431117902\n",
      "40 :  0.07498161787723898\n",
      "41 :  0.12454834054834055\n",
      "42 :  0.11132978132978133\n",
      "43 :  0.11609168609168609\n",
      "44 :  0.11053613053613055\n",
      "45 :  0.08775835275835275\n",
      "46 :  0.06275835275835276\n",
      "47 :  0.06275835275835276\n",
      "48 :  0.043313908313908314\n",
      "49 :  0.036356837606837604\n",
      "50 :  0.005106837606837603\n",
      "51 :  0.015940170940170934\n",
      "52 :  0.02427350427350427\n",
      "53 :  0.02427350427350427\n",
      "54 :  0.0076068376068376044\n",
      "55 :  -0.024183006535947713\n",
      "56 :  -0.026223544973544972\n",
      "57 :  -0.019166666666666665\n",
      "58 :  0.0\n",
      "59 :  0.0\n"
     ]
    }
   ],
   "source": [
    "sil_scores = []\n",
    "for i in range(2, len(dist_mat)):\n",
    "    clusters = AgglomerativeClustering(n_clusters=i, affinity='precomputed', linkage='single')\n",
    "    clusters.fit_predict(dist_mat)\n",
    "\n",
    "    # use metric to measure/compare goodness of clusters based on internal coherence and \n",
    "    # external coupling.\n",
    "    # consider Dunn index. maximise the Dunn index.\n",
    "    # or consider average sillhouette width (maximise). available in sklearn.\n",
    "    from sklearn.metrics import silhouette_score\n",
    "\n",
    "    silhouette_avg = silhouette_score(dist_mat, clusters.labels_, metric='precomputed')\n",
    "    sil_scores.append(silhouette_avg)\n",
    "    print(i, \": \", silhouette_avg)"
   ]
  },
  {
   "cell_type": "code",
   "execution_count": 80,
   "metadata": {},
   "outputs": [
    {
     "name": "stdout",
     "output_type": "stream",
     "text": [
      "max avg silhouette score:  0.12454834054834055\n",
      "nclusters w max avg silhouette score:  41\n"
     ]
    }
   ],
   "source": [
    "sil_scores_arr = np.asarray(sil_scores)\n",
    "print('max avg silhouette score: ', sil_scores_arr.max())\n",
    "optimal_k = np.where(sil_scores_arr == sil_scores_arr.max())[0][0] + 2\n",
    "print('nclusters w max avg silhouette score: ', optimal_k)"
   ]
  },
  {
   "cell_type": "code",
   "execution_count": 100,
   "metadata": {},
   "outputs": [
    {
     "name": "stdout",
     "output_type": "stream",
     "text": [
      "cluster 0 (size 8):\n",
      "[ 8 25 26 27 36 41 45 46]\n"
     ]
    },
    {
     "data": {
      "text/plain": [
       "'Find your focus, stay with it and develop perseverance.'"
      ]
     },
     "metadata": {},
     "output_type": "display_data"
    },
    {
     "data": {
      "text/plain": [
       "'There is a tendency to scratch the surface with the things that strike your interest without learning anything very deeply.'"
      ]
     },
     "metadata": {},
     "output_type": "display_data"
    },
    {
     "data": {
      "text/plain": [
       "'There is danger, then, of superficiality.'"
      ]
     },
     "metadata": {},
     "output_type": "display_data"
    },
    {
     "data": {
      "text/plain": [
       "'This is the jack-of-all-trades, master-of-none position.'"
      ]
     },
     "metadata": {},
     "output_type": "display_data"
    },
    {
     "data": {
      "text/plain": [
       "'You are quick to grasp new concepts and equally quick to lose interest in an idea or project once your curiosity has been satisfied.'"
      ]
     },
     "metadata": {},
     "output_type": "display_data"
    },
    {
     "data": {
      "text/plain": [
       "\"You grasp concepts easily and may become impatient with those who don't learn as quickly.\""
      ]
     },
     "metadata": {},
     "output_type": "display_data"
    },
    {
     "data": {
      "text/plain": [
       "'You like to taste a little bit of everything – concentration and disciplined study are not your strong points.'"
      ]
     },
     "metadata": {},
     "output_type": "display_data"
    },
    {
     "data": {
      "text/plain": [
       "'You love being involved in multiple things at once and this may be a problem – too may irons in the fire at the same time.'"
      ]
     },
     "metadata": {},
     "output_type": "display_data"
    },
    {
     "name": "stdout",
     "output_type": "stream",
     "text": [
      "\n",
      "\n",
      "cluster 1 (size 3):\n",
      "[ 0 22 50]\n"
     ]
    },
    {
     "data": {
      "text/plain": [
       "'Anyone who lives with you must accept your ups and downs and appreciate your need for times of withdrawal.'"
      ]
     },
     "metadata": {},
     "output_type": "display_data"
    },
    {
     "data": {
      "text/plain": [
       "'Security is very important to you and you look for it in your home and family life.'"
      ]
     },
     "metadata": {},
     "output_type": "display_data"
    },
    {
     "data": {
      "text/plain": [
       "\"You often appear irrational to others because you can't always explain the reason or source of your feelings.\""
      ]
     },
     "metadata": {},
     "output_type": "display_data"
    },
    {
     "name": "stdout",
     "output_type": "stream",
     "text": [
      "\n",
      "\n",
      "cluster 2 (size 2):\n",
      "[31 59]\n"
     ]
    },
    {
     "data": {
      "text/plain": [
       "'You are also very sympathetic and understand the unspoken feelings and needs of others.'"
      ]
     },
     "metadata": {},
     "output_type": "display_data"
    },
    {
     "data": {
      "text/plain": [
       "'Your senses and emotions are quite strong and it would be wise for you to listen to your intuitive side as you can be quite psychic.'"
      ]
     },
     "metadata": {},
     "output_type": "display_data"
    },
    {
     "name": "stdout",
     "output_type": "stream",
     "text": [
      "\n",
      "\n",
      "cluster 3 (size 2):\n",
      "[ 7 43]\n"
     ]
    },
    {
     "data": {
      "text/plain": [
       "'Exercise is a good way to release this tension.'"
      ]
     },
     "metadata": {},
     "output_type": "display_data"
    },
    {
     "data": {
      "text/plain": [
       "'You have so much nervous energy that this can sometimes cause great stress which must find an appropriate release.'"
      ]
     },
     "metadata": {},
     "output_type": "display_data"
    },
    {
     "name": "stdout",
     "output_type": "stream",
     "text": [
      "\n",
      "\n",
      "cluster 4 (size 2):\n",
      "[12 42]\n"
     ]
    },
    {
     "data": {
      "text/plain": [
       "'If you have Mercury in Gemini, you have an extremely adaptable, energetic, active, alert, curious, and versatile mind.'"
      ]
     },
     "metadata": {},
     "output_type": "display_data"
    },
    {
     "data": {
      "text/plain": [
       "'You have an ingenious, active and alert mind.'"
      ]
     },
     "metadata": {},
     "output_type": "display_data"
    },
    {
     "name": "stdout",
     "output_type": "stream",
     "text": [
      "\n",
      "\n",
      "cluster 5 (size 1):\n",
      "[58]\n"
     ]
    },
    {
     "data": {
      "text/plain": [
       "'Your mother is/was a strong influence for good or ill in your life.'"
      ]
     },
     "metadata": {},
     "output_type": "display_data"
    },
    {
     "name": "stdout",
     "output_type": "stream",
     "text": [
      "\n",
      "\n",
      "cluster 6 (size 3):\n",
      "[14 20 52]\n"
     ]
    },
    {
     "data": {
      "text/plain": [
       "'If you have the Moon in Cancer, you very easily respond to the emotional environment in which you are placed.'"
      ]
     },
     "metadata": {},
     "output_type": "display_data"
    },
    {
     "data": {
      "text/plain": [
       "'Perhaps this is why you so easily become moody, irritable and inconstant in thought and feeling.'"
      ]
     },
     "metadata": {},
     "output_type": "display_data"
    },
    {
     "data": {
      "text/plain": [
       "'You soak up feelings like a sponge.'"
      ]
     },
     "metadata": {},
     "output_type": "display_data"
    },
    {
     "name": "stdout",
     "output_type": "stream",
     "text": [
      "\n",
      "\n",
      "cluster 7 (size 1):\n",
      "[56]\n"
     ]
    },
    {
     "data": {
      "text/plain": [
       "'You tend to look younger than you really are, no matter what your age.'"
      ]
     },
     "metadata": {},
     "output_type": "display_data"
    },
    {
     "name": "stdout",
     "output_type": "stream",
     "text": [
      "\n",
      "\n",
      "cluster 8 (size 6):\n",
      "[ 1  9 21 24 47 53]\n"
     ]
    },
    {
     "data": {
      "text/plain": [
       "'At times others can never be \"good\" enough to meet those high standards.'"
      ]
     },
     "metadata": {},
     "output_type": "display_data"
    },
    {
     "data": {
      "text/plain": [
       "\"Finding fault with what's wrong with things is your forte.\""
      ]
     },
     "metadata": {},
     "output_type": "display_data"
    },
    {
     "data": {
      "text/plain": [
       "'Pessimism and being too self-critical are two faults you should try to improve upon.'"
      ]
     },
     "metadata": {},
     "output_type": "display_data"
    },
    {
     "data": {
      "text/plain": [
       "'Sometimes, though, this can make relationships sour as you often turn your critical eye on the one you love and the things they do.'"
      ]
     },
     "metadata": {},
     "output_type": "display_data"
    },
    {
     "data": {
      "text/plain": [
       "'You may tend to worry too much, especially about the small stuff, the little details.'"
      ]
     },
     "metadata": {},
     "output_type": "display_data"
    },
    {
     "data": {
      "text/plain": [
       "'You strive for perfection and can be quite the person to live with or to be around because your standards for yourself and others are so high.'"
      ]
     },
     "metadata": {},
     "output_type": "display_data"
    },
    {
     "name": "stdout",
     "output_type": "stream",
     "text": [
      "\n",
      "\n",
      "cluster 9 (size 1):\n",
      "[57]\n"
     ]
    },
    {
     "data": {
      "text/plain": [
       "'Your greatest need is to nurture and mother someone or ones.'"
      ]
     },
     "metadata": {},
     "output_type": "display_data"
    },
    {
     "name": "stdout",
     "output_type": "stream",
     "text": [
      "\n",
      "\n",
      "cluster 10 (size 1):\n",
      "[37]\n"
     ]
    },
    {
     "data": {
      "text/plain": [
       "'You are tremendously responsive to beauty and physical appearances, and the physical attractiveness of your partner is very important to you.'"
      ]
     },
     "metadata": {},
     "output_type": "display_data"
    },
    {
     "name": "stdout",
     "output_type": "stream",
     "text": [
      "\n",
      "\n",
      "cluster 11 (size 1):\n",
      "[51]\n"
     ]
    },
    {
     "data": {
      "text/plain": [
       "'You seek knowledge, either through reading or conversation, or through travel and talking with the new people you constantly meet.'"
      ]
     },
     "metadata": {},
     "output_type": "display_data"
    },
    {
     "name": "stdout",
     "output_type": "stream",
     "text": [
      "\n",
      "\n",
      "cluster 12 (size 1):\n",
      "[54]\n"
     ]
    },
    {
     "data": {
      "text/plain": [
       "'You take slights very personally and though you may forgive a mistake by a friend or loved one, you never forget it.'"
      ]
     },
     "metadata": {},
     "output_type": "display_data"
    },
    {
     "name": "stdout",
     "output_type": "stream",
     "text": [
      "\n",
      "\n",
      "cluster 13 (size 1):\n",
      "[39]\n"
     ]
    },
    {
     "data": {
      "text/plain": [
       "'You are very tenacious and you do not give up or let go of things or people easily.'"
      ]
     },
     "metadata": {},
     "output_type": "display_data"
    },
    {
     "name": "stdout",
     "output_type": "stream",
     "text": [
      "\n",
      "\n",
      "cluster 14 (size 1):\n",
      "[49]\n"
     ]
    },
    {
     "data": {
      "text/plain": [
       "'You need to learn to digest every experience and assimilate it without bitterness, regret, spite or resentment.'"
      ]
     },
     "metadata": {},
     "output_type": "display_data"
    },
    {
     "name": "stdout",
     "output_type": "stream",
     "text": [
      "\n",
      "\n",
      "cluster 15 (size 1):\n",
      "[38]\n"
     ]
    },
    {
     "data": {
      "text/plain": [
       "'You are very restless and nervous, so you seldom have much weight on you.'"
      ]
     },
     "metadata": {},
     "output_type": "display_data"
    },
    {
     "name": "stdout",
     "output_type": "stream",
     "text": [
      "\n",
      "\n",
      "cluster 16 (size 1):\n",
      "[33]\n"
     ]
    },
    {
     "data": {
      "text/plain": [
       "'You are clever, witty, and always have a joke or comeback ready for any situation.'"
      ]
     },
     "metadata": {},
     "output_type": "display_data"
    },
    {
     "name": "stdout",
     "output_type": "stream",
     "text": [
      "\n",
      "\n",
      "cluster 17 (size 1):\n",
      "[35]\n"
     ]
    },
    {
     "data": {
      "text/plain": [
       "'You are oriented towards the sensual side of life in everything you do and it may show through too much weight.'"
      ]
     },
     "metadata": {},
     "output_type": "display_data"
    },
    {
     "name": "stdout",
     "output_type": "stream",
     "text": [
      "\n",
      "\n",
      "cluster 18 (size 1):\n",
      "[19]\n"
     ]
    },
    {
     "data": {
      "text/plain": [
       "'People with Virgo rising tend to be practical, analytical, discriminating, fastidious, careful, exacting, attentive to details, methodical, quiet, unassuming, shy, critical, thoughtful, and somewhat self-centered.'"
      ]
     },
     "metadata": {},
     "output_type": "display_data"
    },
    {
     "name": "stdout",
     "output_type": "stream",
     "text": [
      "\n",
      "\n",
      "cluster 19 (size 1):\n",
      "[55]\n"
     ]
    },
    {
     "data": {
      "text/plain": [
       "'You tend to be a pack-rat because everything has an emotional memory behind it and you find security in all those memories.'"
      ]
     },
     "metadata": {},
     "output_type": "display_data"
    },
    {
     "name": "stdout",
     "output_type": "stream",
     "text": [
      "\n",
      "\n",
      "cluster 20 (size 1):\n",
      "[40]\n"
     ]
    },
    {
     "data": {
      "text/plain": [
       "'You enjoy indulging yourself and the ones you love and it is too easy for you to be extravagant and perhaps to put too much value in material things.'"
      ]
     },
     "metadata": {},
     "output_type": "display_data"
    },
    {
     "name": "stdout",
     "output_type": "stream",
     "text": [
      "\n",
      "\n",
      "cluster 21 (size 1):\n",
      "[11]\n"
     ]
    },
    {
     "data": {
      "text/plain": [
       "'Guard against possessiveness, jealousy, and taking the easy way out in your relationships.'"
      ]
     },
     "metadata": {},
     "output_type": "display_data"
    },
    {
     "name": "stdout",
     "output_type": "stream",
     "text": [
      "\n",
      "\n",
      "cluster 22 (size 1):\n",
      "[4]\n"
     ]
    },
    {
     "data": {
      "text/plain": [
       "'Comfort is important to you and you hate getting your hands dirty.'"
      ]
     },
     "metadata": {},
     "output_type": "display_data"
    },
    {
     "name": "stdout",
     "output_type": "stream",
     "text": [
      "\n",
      "\n",
      "cluster 23 (size 1):\n",
      "[2]\n"
     ]
    },
    {
     "data": {
      "text/plain": [
       "'At times you can be lazy, hoping or expecting someone else to do the dirty work.'"
      ]
     },
     "metadata": {},
     "output_type": "display_data"
    },
    {
     "name": "stdout",
     "output_type": "stream",
     "text": [
      "\n",
      "\n",
      "cluster 24 (size 1):\n",
      "[10]\n"
     ]
    },
    {
     "data": {
      "text/plain": [
       "'Gaining knowledge and putting it to good use are important to you.'"
      ]
     },
     "metadata": {},
     "output_type": "display_data"
    },
    {
     "name": "stdout",
     "output_type": "stream",
     "text": [
      "\n",
      "\n",
      "cluster 25 (size 1):\n",
      "[13]\n"
     ]
    },
    {
     "data": {
      "text/plain": [
       "'If you have Venus in Taurus, in love affairs you are generally loyal and steady, especially if your partner is demonstrative and affectionate.'"
      ]
     },
     "metadata": {},
     "output_type": "display_data"
    },
    {
     "name": "stdout",
     "output_type": "stream",
     "text": [
      "\n",
      "\n",
      "cluster 26 (size 1):\n",
      "[44]\n"
     ]
    },
    {
     "data": {
      "text/plain": [
       "'You have the memory of an elephant, but you must learn to forgive and forget past hurts.'"
      ]
     },
     "metadata": {},
     "output_type": "display_data"
    },
    {
     "name": "stdout",
     "output_type": "stream",
     "text": [
      "\n",
      "\n",
      "cluster 27 (size 1):\n",
      "[32]\n"
     ]
    },
    {
     "data": {
      "text/plain": [
       "'You are basically an introvert, but will do whatever it takes to protect and defend your family or loved ones.'"
      ]
     },
     "metadata": {},
     "output_type": "display_data"
    },
    {
     "name": "stdout",
     "output_type": "stream",
     "text": [
      "\n",
      "\n",
      "cluster 28 (size 1):\n",
      "[16]\n"
     ]
    },
    {
     "data": {
      "text/plain": [
       "'Learning to control your own moods may be very difficult, yet necessary, for you.'"
      ]
     },
     "metadata": {},
     "output_type": "display_data"
    },
    {
     "name": "stdout",
     "output_type": "stream",
     "text": [
      "\n",
      "\n",
      "cluster 29 (size 1):\n",
      "[34]\n"
     ]
    },
    {
     "data": {
      "text/plain": [
       "'You are handy with your hands and may be ambidextrous or mechanically inclined.'"
      ]
     },
     "metadata": {},
     "output_type": "display_data"
    },
    {
     "name": "stdout",
     "output_type": "stream",
     "text": [
      "\n",
      "\n",
      "cluster 30 (size 1):\n",
      "[48]\n"
     ]
    },
    {
     "data": {
      "text/plain": [
       "'You need to get rid of any negativity that stems from a feeling of inadequacy.'"
      ]
     },
     "metadata": {},
     "output_type": "display_data"
    },
    {
     "name": "stdout",
     "output_type": "stream",
     "text": [
      "\n",
      "\n",
      "cluster 31 (size 1):\n",
      "[18]\n"
     ]
    },
    {
     "data": {
      "text/plain": [
       "'Nothing or no one is ever gone if they leave their memory behind.'"
      ]
     },
     "metadata": {},
     "output_type": "display_data"
    },
    {
     "name": "stdout",
     "output_type": "stream",
     "text": [
      "\n",
      "\n",
      "cluster 32 (size 1):\n",
      "[23]\n"
     ]
    },
    {
     "data": {
      "text/plain": [
       "'Self-control needs to be developed and added to the qualifications you already possess -warmth, charm, sympathy, artistic.'"
      ]
     },
     "metadata": {},
     "output_type": "display_data"
    },
    {
     "name": "stdout",
     "output_type": "stream",
     "text": [
      "\n",
      "\n",
      "cluster 33 (size 1):\n",
      "[15]\n"
     ]
    },
    {
     "data": {
      "text/plain": [
       "'Journalism, speaking, teaching, sales, advertising, or writing may appeal to you.'"
      ]
     },
     "metadata": {},
     "output_type": "display_data"
    },
    {
     "name": "stdout",
     "output_type": "stream",
     "text": [
      "\n",
      "\n",
      "cluster 34 (size 1):\n",
      "[5]\n"
     ]
    },
    {
     "data": {
      "text/plain": [
       "'Control of thought, word, and action is necessary in order to be successful.'"
      ]
     },
     "metadata": {},
     "output_type": "display_data"
    },
    {
     "name": "stdout",
     "output_type": "stream",
     "text": [
      "\n",
      "\n",
      "cluster 35 (size 1):\n",
      "[29]\n"
     ]
    },
    {
     "data": {
      "text/plain": [
       "'Too much worry can lead to health problems.'"
      ]
     },
     "metadata": {},
     "output_type": "display_data"
    },
    {
     "name": "stdout",
     "output_type": "stream",
     "text": [
      "\n",
      "\n",
      "cluster 36 (size 1):\n",
      "[30]\n"
     ]
    },
    {
     "data": {
      "text/plain": [
       "'You aim to please in practical and earthy ways.'"
      ]
     },
     "metadata": {},
     "output_type": "display_data"
    },
    {
     "name": "stdout",
     "output_type": "stream",
     "text": [
      "\n",
      "\n",
      "cluster 37 (size 1):\n",
      "[3]\n"
     ]
    },
    {
     "data": {
      "text/plain": [
       "'At times you can be very indecisive and unsure.'"
      ]
     },
     "metadata": {},
     "output_type": "display_data"
    },
    {
     "name": "stdout",
     "output_type": "stream",
     "text": [
      "\n",
      "\n",
      "cluster 38 (size 1):\n",
      "[6]\n"
     ]
    },
    {
     "data": {
      "text/plain": [
       "'Debate and argument appeal to you.'"
      ]
     },
     "metadata": {},
     "output_type": "display_data"
    },
    {
     "name": "stdout",
     "output_type": "stream",
     "text": [
      "\n",
      "\n",
      "cluster 39 (size 1):\n",
      "[17]\n"
     ]
    },
    {
     "data": {
      "text/plain": [
       "'Mentally restless, you may change jobs or locations frequently, or do work that involves movement, travel, and variety.'"
      ]
     },
     "metadata": {},
     "output_type": "display_data"
    },
    {
     "name": "stdout",
     "output_type": "stream",
     "text": [
      "\n",
      "\n",
      "cluster 40 (size 1):\n",
      "[28]\n"
     ]
    },
    {
     "data": {
      "text/plain": [
       "'Thus, you can become quite possessive.'"
      ]
     },
     "metadata": {},
     "output_type": "display_data"
    },
    {
     "name": "stdout",
     "output_type": "stream",
     "text": [
      "\n",
      "\n"
     ]
    }
   ],
   "source": [
    "clusters = AgglomerativeClustering(n_clusters=optimal_k, affinity='precomputed', linkage='single')\n",
    "clusters.fit_predict(dist_mat)\n",
    "for i in range(clusters.n_clusters_):\n",
    "    indices = np.where(clusters.labels_ == i)[0]\n",
    "    \n",
    "    print(f'cluster {i} (size {len(indices)}):')\n",
    "    print(indices)\n",
    "    for idx in indices:\n",
    "        display(df_piv.index[idx])\n",
    "    print('\\n')"
   ]
  },
  {
   "cell_type": "code",
   "execution_count": null,
   "metadata": {},
   "outputs": [],
   "source": []
  }
 ],
 "metadata": {
  "kernelspec": {
   "display_name": "fyp",
   "language": "python",
   "name": "fyp"
  },
  "language_info": {
   "codemirror_mode": {
    "name": "ipython",
    "version": 3
   },
   "file_extension": ".py",
   "mimetype": "text/x-python",
   "name": "python",
   "nbconvert_exporter": "python",
   "pygments_lexer": "ipython3",
   "version": "3.7.4"
  }
 },
 "nbformat": 4,
 "nbformat_minor": 2
}
